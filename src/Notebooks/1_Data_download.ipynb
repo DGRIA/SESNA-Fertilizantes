{
 "cells": [
  {
   "metadata": {},
   "cell_type": "markdown",
   "source": [
    "# 1 Descarga de datos\n",
    "\n",
    "Notebook dedicado al proceso de descarga de los datos de listados de productores autorizados del Programa de Fertilizantes para el  Bienestar 2023  \n"
   ],
   "id": "86f8e729c37360db"
  },
  {
   "metadata": {
    "ExecuteTime": {
     "end_time": "2024-05-27T09:25:32.493045Z",
     "start_time": "2024-05-27T09:25:32.301772Z"
    }
   },
   "cell_type": "code",
   "source": [
    "import requests\n",
    "from bs4 import BeautifulSoup"
   ],
   "id": "249fbd5871e905d5",
   "execution_count": 2,
   "outputs": []
  },
  {
   "metadata": {
    "ExecuteTime": {
     "end_time": "2024-05-27T09:29:51.915682Z",
     "start_time": "2024-05-27T09:29:51.906855Z"
    }
   },
   "cell_type": "code",
   "source": [
    "def scrape_urls(url):\n",
    "    response = requests.get(url)\n",
    "    soup = BeautifulSoup(response.text, 'html.parser')\n",
    "\n",
    "    urls = []\n",
    "    for link in soup.find_all('a'):\n",
    "        href = link.get('href')\n",
    "        if href and href.startswith('http') and href.endswith('.csv'):\n",
    "            urls.append(href)\n",
    "\n",
    "    return urls\n",
    "\n",
    "def download_datasets(urls, destination_folder):\n",
    "    failed_urls = []\n",
    "    failed_count = 0\n",
    "    good_urls = []\n",
    "    good_count = 0\n",
    "    for i, url in enumerate(urls):\n",
    "        response = requests.get(url)\n",
    "        if response.status_code == 200:\n",
    "            # Create a file path based on the URL\n",
    "            filename = url.split(\"/\")[-1]\n",
    "            destination_path = f\"{destination_folder}/{filename}\"\n",
    "            with open(destination_path, 'wb') as file:\n",
    "                file.write(response.content)\n",
    "            print(f\"Dataset {i+1} downloaded successfully.\\n\")\n",
    "            good_urls.append(url)\n",
    "            good_count += 1\n",
    "        else:\n",
    "            print(f\"Failed to download dataset {i+1}. URL: {url}\\n\")\n",
    "            failed_count += 1\n",
    "            failed_urls.append(url)\n",
    "    print(\"====DOWNLOAD RESULTS====\")\n",
    "    print(f\"Failed count: {failed_count}\")\n",
    "    print(\",\".join(failed_urls))\n",
    "    print(f\" \\n\\nSuccessfully count {good_count}\")\n",
    "    print(\",\".join(good_urls))"
   ],
   "id": "e0a30d5906152528",
   "execution_count": 9,
   "outputs": []
  },
  {
   "metadata": {
    "ExecuteTime": {
     "end_time": "2024-05-27T09:29:54.265428Z",
     "start_time": "2024-05-27T09:29:52.542715Z"
    }
   },
   "cell_type": "code",
   "source": [
    "\n",
    "url = \"https://www.datos.gob.mx/busca/dataset/programa-de-fertilizantes-2023-listados-autorizados\"\n",
    "count = 0\n",
    "urls = scrape_urls(url)\n",
    "for url in urls:\n",
    "    print(f\"URL: {url}\\n\")"
   ],
   "id": "d47a86e7e765e28",
   "execution_count": 10,
   "outputs": []
  },
  {
   "metadata": {
    "ExecuteTime": {
     "end_time": "2024-05-27T09:29:55.943957Z",
     "start_time": "2024-05-27T09:29:54.268433Z"
    }
   },
   "cell_type": "code",
   "source": [
    "download_urls = []\n",
    "url = \"https://www.datos.gob.mx/busca/dataset/programa-de-fertilizantes-2023-listados-autorizados\"\n",
    "urls = scrape_urls(url)\n",
    "for url in urls:\n",
    "    download_urls.append(url)"
   ],
   "id": "29e24e7d338431a7",
   "execution_count": 11,
   "outputs": []
  },
  {
   "metadata": {
    "ExecuteTime": {
     "end_time": "2024-05-27T09:31:29.806381Z",
     "start_time": "2024-05-27T09:30:07.613514Z"
    }
   },
   "cell_type": "code",
   "source": [
    "destination_folder = \"../../data/productores_autorizados\"\n",
    "download_datasets(urls, destination_folder)"
   ],
   "id": "d01e1a342200493",
   "execution_count": 13,
   "outputs": []
  }
 ],
 "metadata": {
  "kernelspec": {
   "display_name": "Python 3",
   "language": "python",
   "name": "python3"
  },
  "language_info": {
   "codemirror_mode": {
    "name": "ipython",
    "version": 2
   },
   "file_extension": ".py",
   "mimetype": "text/x-python",
   "name": "python",
   "nbconvert_exporter": "python",
   "pygments_lexer": "ipython2",
   "version": "2.7.6"
  }
 },
 "nbformat": 4,
 "nbformat_minor": 5
}
