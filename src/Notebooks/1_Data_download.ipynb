{
 "cells": [
  {
   "cell_type": "markdown",
   "id": "86f8e729c37360db",
   "metadata": {},
   "source": [
    "# 1 Descarga de datos\n",
    "\n",
    "Notebook dedicado al proceso de descarga de los datos de listados de productores autorizados del Programa de Fertilizantes para el  Bienestar 2023  \n"
   ]
  },
  {
   "cell_type": "code",
   "execution_count": 6,
   "id": "249fbd5871e905d5",
   "metadata": {
    "ExecuteTime": {
     "end_time": "2024-05-27T09:25:32.493045Z",
     "start_time": "2024-05-27T09:25:32.301772Z"
    }
   },
   "outputs": [],
   "source": [
    "import requests\n",
    "from bs4 import BeautifulSoup"
   ]
  },
  {
   "cell_type": "code",
   "execution_count": 19,
   "id": "e0a30d5906152528",
   "metadata": {
    "ExecuteTime": {
     "end_time": "2024-05-27T09:29:51.915682Z",
     "start_time": "2024-05-27T09:29:51.906855Z"
    }
   },
   "outputs": [],
   "source": [
    "def scrape_urls(url):\n",
    "    response = requests.get(url)\n",
    "    soup = BeautifulSoup(response.text, 'html.parser')\n",
    "\n",
    "    urls = []\n",
    "    for link in soup.find_all('a'):\n",
    "        href = link.get('href')\n",
    "        if href and href.startswith('http') and href.endswith('.csv'):\n",
    "            urls.append(href)\n",
    "\n",
    "    return urls\n",
    "\n",
    "def scrape_xlsx(url):\n",
    "    response = requests.get(url)\n",
    "    soup = BeautifulSoup(response.text, 'html.parser')\n",
    "\n",
    "    urls = []\n",
    "    for link in soup.find_all('a'):\n",
    "        href = link.get('href')\n",
    "        if href and href.startswith('http') and href.endswith('.xlsx'):\n",
    "            urls.append(href)\n",
    "\n",
    "    return urls\n",
    "\n",
    "def download_datasets(urls, destination_folder):\n",
    "    failed_urls = []\n",
    "    failed_count = 0\n",
    "    good_urls = []\n",
    "    good_count = 0\n",
    "    for i, url in enumerate(urls):\n",
    "        response = requests.get(url)\n",
    "        if response.status_code == 200:\n",
    "            # Create a file path based on the URL\n",
    "            filename = url.split(\"/\")[-1]\n",
    "            destination_path = f\"{destination_folder}/{filename}\"\n",
    "            with open(destination_path, 'wb') as file:\n",
    "                file.write(response.content)\n",
    "            print(f\"Dataset {i+1} downloaded successfully.\\n\")\n",
    "            good_urls.append(url)\n",
    "            good_count += 1\n",
    "        else:\n",
    "            print(f\"Failed to download dataset {i+1}. URL: {url}\\n\")\n",
    "            failed_count += 1\n",
    "            failed_urls.append(url)\n",
    "    print(\"====DOWNLOAD RESULTS====\")\n",
    "    print(f\"Failed count: {failed_count}\")\n",
    "    print(\",\".join(failed_urls))\n",
    "    print(f\" \\n\\nSuccessfully count {good_count}\")\n",
    "    print(\",\".join(good_urls))"
   ]
  },
  {
   "cell_type": "markdown",
   "id": "ad66c43d",
   "metadata": {},
   "source": [
    "### 1.1 Productores Autorizados"
   ]
  },
  {
   "cell_type": "code",
   "execution_count": null,
   "id": "d47a86e7e765e28",
   "metadata": {
    "ExecuteTime": {
     "end_time": "2024-05-27T09:29:54.265428Z",
     "start_time": "2024-05-27T09:29:52.542715Z"
    }
   },
   "outputs": [],
   "source": [
    "url = \"https://www.datos.gob.mx/busca/dataset/programa-de-fertilizantes-2023-listados-autorizados\"\n",
    "count = 0\n",
    "urls_autorizados = scrape_urls(url)\n",
    "for url in urls_autorizados:\n",
    "    print(f\"URL: {url}\\n\")"
   ]
  },
  {
   "cell_type": "code",
   "execution_count": null,
   "id": "29e24e7d338431a7",
   "metadata": {
    "ExecuteTime": {
     "end_time": "2024-05-27T09:29:55.943957Z",
     "start_time": "2024-05-27T09:29:54.268433Z"
    }
   },
   "outputs": [],
   "source": [
    "download_urls_autorizados = []\n",
    "url = \"https://www.datos.gob.mx/busca/dataset/programa-de-fertilizantes-2023-listados-autorizados\"\n",
    "urls = scrape_urls(url)\n",
    "for url in urls:\n",
    "    download_urls_autorizados.append(url)"
   ]
  },
  {
   "cell_type": "code",
   "execution_count": 10,
   "id": "d01e1a342200493",
   "metadata": {
    "ExecuteTime": {
     "end_time": "2024-05-27T09:31:29.806381Z",
     "start_time": "2024-05-27T09:30:07.613514Z"
    }
   },
   "outputs": [
    {
     "ename": "NameError",
     "evalue": "name 'download_urls_autorizados' is not defined",
     "output_type": "error",
     "traceback": [
      "\u001b[0;31m---------------------------------------------------------------------------\u001b[0m",
      "\u001b[0;31mNameError\u001b[0m                                 Traceback (most recent call last)",
      "Cell \u001b[0;32mIn[10], line 2\u001b[0m\n\u001b[1;32m      1\u001b[0m destination_folder \u001b[38;5;241m=\u001b[39m \u001b[38;5;124m\"\u001b[39m\u001b[38;5;124m../../data/productores_autorizados\u001b[39m\u001b[38;5;124m\"\u001b[39m\n\u001b[0;32m----> 2\u001b[0m download_datasets(download_urls_autorizados, destination_folder)\n",
      "\u001b[0;31mNameError\u001b[0m: name 'download_urls_autorizados' is not defined"
     ]
    }
   ],
   "source": [
    "destination_folder = \"../../data/productores_autorizados\"\n",
    "download_datasets(download_urls_autorizados, destination_folder)"
   ]
  },
  {
   "cell_type": "markdown",
   "id": "a82978cb",
   "metadata": {},
   "source": [
    "### 1.2 Listado Beneficiarios 2023"
   ]
  },
  {
   "cell_type": "code",
   "execution_count": 20,
   "id": "8109e8e8",
   "metadata": {},
   "outputs": [
    {
     "name": "stdout",
     "output_type": "stream",
     "text": [
      "URL: https://www.agricultura.gob.mx/sites/default/files/sagarpa/Publicaciones/datos_abiertos/2023/Fertilizantes_beneficiarios/listado_3_beneficiarios_fertilizantes_2023_corte_091023.csv\n",
      "\n",
      "URL: https://www.agricultura.gob.mx/sites/default/files/sagarpa/Publicaciones/datos_abiertos/2023/Fertilizantes_beneficiarios/listado_1_beneficiarios_fertilizantes_2023_pe_corte_091023.csv\n",
      "\n",
      "URL: https://www.agricultura.gob.mx/sites/default/files/sagarpa/Publicaciones/datos_abiertos/2023/Fertilizantes_beneficiarios/listado_2_beneficiarios_fertilizantes_2023_corte_090823.csv\n",
      "\n",
      "URL: https://www.agricultura.gob.mx/sites/default/files/sagarpa/Publicaciones/datos_abiertos/2023/Fertilizantes_beneficiarios/listado_1_beneficiarios_fertilizantes_2023_corte_290523.csv\n",
      "\n"
     ]
    }
   ],
   "source": [
    "#Get urls\n",
    "url = \"https://www.datos.gob.mx/busca/dataset/programa-de-fertilizantes-2023-listados-de-beneficiarios\"\n",
    "count = 0\n",
    "url_beneficiarios = scrape_urls(url)\n",
    "for url in url_beneficiarios:\n",
    "    print(f\"URL: {url}\\n\")"
   ]
  },
  {
   "cell_type": "code",
   "execution_count": 17,
   "id": "e355ec0e",
   "metadata": {},
   "outputs": [],
   "source": [
    "# Dataset de urls de beneficiarios2023\n",
    "download_urls_beneficiarios = []\n",
    "url = \"https://www.datos.gob.mx/busca/dataset/programa-de-fertilizantes-2023-listados-de-beneficiarios\"\n",
    "urls = scrape_urls(url)\n",
    "for url in urls:\n",
    "    download_urls_beneficiarios.append(url)"
   ]
  },
  {
   "cell_type": "code",
   "execution_count": 22,
   "id": "68700de7",
   "metadata": {},
   "outputs": [
    {
     "name": "stdout",
     "output_type": "stream",
     "text": [
      "Dataset 1 downloaded successfully.\n",
      "\n",
      "Dataset 2 downloaded successfully.\n",
      "\n",
      "Dataset 3 downloaded successfully.\n",
      "\n",
      "Dataset 4 downloaded successfully.\n",
      "\n",
      "====DOWNLOAD RESULTS====\n",
      "Failed count: 0\n",
      "\n",
      " \n",
      "\n",
      "Successfully count 4\n",
      "https://www.agricultura.gob.mx/sites/default/files/sagarpa/Publicaciones/datos_abiertos/2023/Fertilizantes_beneficiarios/listado_3_beneficiarios_fertilizantes_2023_corte_091023.csv,https://www.agricultura.gob.mx/sites/default/files/sagarpa/Publicaciones/datos_abiertos/2023/Fertilizantes_beneficiarios/listado_1_beneficiarios_fertilizantes_2023_pe_corte_091023.csv,https://www.agricultura.gob.mx/sites/default/files/sagarpa/Publicaciones/datos_abiertos/2023/Fertilizantes_beneficiarios/listado_2_beneficiarios_fertilizantes_2023_corte_090823.csv,https://www.agricultura.gob.mx/sites/default/files/sagarpa/Publicaciones/datos_abiertos/2023/Fertilizantes_beneficiarios/listado_1_beneficiarios_fertilizantes_2023_corte_290523.csv\n"
     ]
    }
   ],
   "source": [
    "destination_folder = \"../../data/beneficiarios2023\"\n",
    "\n",
    "download_datasets(download_urls_beneficiarios, destination_folder)"
   ]
  },
  {
   "cell_type": "code",
   "execution_count": null,
   "id": "58a5d72f",
   "metadata": {},
   "outputs": [],
   "source": []
  }
 ],
 "metadata": {
  "kernelspec": {
   "display_name": "Python 3",
   "language": "python",
   "name": "python3"
  },
  "language_info": {
   "codemirror_mode": {
    "name": "ipython",
    "version": 3
   },
   "file_extension": ".py",
   "mimetype": "text/x-python",
   "name": "python",
   "nbconvert_exporter": "python",
   "pygments_lexer": "ipython3",
   "version": "3.11.7"
  }
 },
 "nbformat": 4,
 "nbformat_minor": 5
}
