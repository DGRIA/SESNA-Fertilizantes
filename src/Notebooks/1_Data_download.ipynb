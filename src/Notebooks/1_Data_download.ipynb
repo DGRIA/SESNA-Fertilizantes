{
 "cells": [
  {
   "cell_type": "markdown",
   "id": "86f8e729c37360db",
   "metadata": {},
   "source": [
    "# 1 Descarga de datos\n",
    "\n",
    "Notebook dedicado al proceso de descarga de los datos de listados de productores autorizados del Programa de Fertilizantes para el  Bienestar 2023  \n"
   ]
  },
  {
   "cell_type": "code",
   "execution_count": 1,
   "id": "d19c6d55",
   "metadata": {},
   "outputs": [
    {
     "name": "stdout",
     "output_type": "stream",
     "text": [
      "Collecting BeautifulSoup\n",
      "  Using cached BeautifulSoup-3.2.2.tar.gz (32 kB)\n",
      "  Preparing metadata (setup.py) ... \u001b[?25lerror\n",
      "  \u001b[1;31merror\u001b[0m: \u001b[1msubprocess-exited-with-error\u001b[0m\n",
      "  \n",
      "  \u001b[31m×\u001b[0m \u001b[32mpython setup.py egg_info\u001b[0m did not run successfully.\n",
      "  \u001b[31m│\u001b[0m exit code: \u001b[1;36m1\u001b[0m\n",
      "  \u001b[31m╰─>\u001b[0m \u001b[31m[7 lines of output]\u001b[0m\n",
      "  \u001b[31m   \u001b[0m Traceback (most recent call last):\n",
      "  \u001b[31m   \u001b[0m   File \"<string>\", line 2, in <module>\n",
      "  \u001b[31m   \u001b[0m   File \"<pip-setuptools-caller>\", line 34, in <module>\n",
      "  \u001b[31m   \u001b[0m   File \"/private/var/folders/ng/n9ng0wy92t90_49j662nh02c0000gn/T/pip-install-hgye6fss/beautifulsoup_1830db222a4a441b80f397ad80a5d1b9/setup.py\", line 3\n",
      "  \u001b[31m   \u001b[0m     \"You're trying to run a very old release of Beautiful Soup under Python 3. This will not work.\"<>\"Please use Beautiful Soup 4, available through the pip package 'beautifulsoup4'.\"\n",
      "  \u001b[31m   \u001b[0m                                                                                                    ^\n",
      "  \u001b[31m   \u001b[0m SyntaxError: invalid syntax\n",
      "  \u001b[31m   \u001b[0m \u001b[31m[end of output]\u001b[0m\n",
      "  \n",
      "  \u001b[1;35mnote\u001b[0m: This error originates from a subprocess, and is likely not a problem with pip.\n",
      "\u001b[?25h\u001b[1;31merror\u001b[0m: \u001b[1mmetadata-generation-failed\u001b[0m\n",
      "\n",
      "\u001b[31m×\u001b[0m Encountered error while generating package metadata.\n",
      "\u001b[31m╰─>\u001b[0m See above for output.\n",
      "\n",
      "\u001b[1;35mnote\u001b[0m: This is an issue with the package mentioned above, not pip.\n",
      "\u001b[1;36mhint\u001b[0m: See above for details.\n",
      "\n",
      "\u001b[1m[\u001b[0m\u001b[34;49mnotice\u001b[0m\u001b[1;39;49m]\u001b[0m\u001b[39;49m A new release of pip is available: \u001b[0m\u001b[31;49m23.0.1\u001b[0m\u001b[39;49m -> \u001b[0m\u001b[32;49m24.1.1\u001b[0m\n",
      "\u001b[1m[\u001b[0m\u001b[34;49mnotice\u001b[0m\u001b[1;39;49m]\u001b[0m\u001b[39;49m To update, run: \u001b[0m\u001b[32;49mpip install --upgrade pip\u001b[0m\n"
     ]
    }
   ],
   "source": [
    "!pip install BeautifulSoup"
   ]
  },
  {
   "cell_type": "code",
   "execution_count": 2,
   "id": "249fbd5871e905d5",
   "metadata": {
    "ExecuteTime": {
     "end_time": "2024-05-27T09:25:32.493045Z",
     "start_time": "2024-05-27T09:25:32.301772Z"
    }
   },
   "outputs": [],
   "source": [
    "import requests\n",
    "from bs4 import BeautifulSoup\n",
    "import os\n",
    "import pandas as pd"
   ]
  },
  {
   "cell_type": "code",
   "execution_count": 3,
   "id": "e0a30d5906152528",
   "metadata": {
    "ExecuteTime": {
     "end_time": "2024-05-27T09:29:51.915682Z",
     "start_time": "2024-05-27T09:29:51.906855Z"
    }
   },
   "outputs": [],
   "source": [
    "def scrape_urls(url):\n",
    "    response = requests.get(url)\n",
    "    soup = BeautifulSoup(response.text, 'html.parser')\n",
    "\n",
    "    urls = []\n",
    "    for link in soup.find_all('a'):\n",
    "        href = link.get('href')\n",
    "        if href and href.startswith('http') and href.endswith('.csv'):\n",
    "            urls.append(href)\n",
    "\n",
    "    return urls\n",
    "\n",
    "def scrape_xlsx(url):\n",
    "    response = requests.get(url)\n",
    "    soup = BeautifulSoup(response.text, 'html.parser')\n",
    "\n",
    "    urls = []\n",
    "    for link in soup.find_all('a'):\n",
    "        href = link.get('href')\n",
    "        if href and href.startswith('http') and href.endswith('.xlsx'):\n",
    "            urls.append(href)\n",
    "\n",
    "    return urls\n",
    "\n",
    "def download_datasets(urls, destination_folder):\n",
    "    failed_urls = []\n",
    "    failed_count = 0\n",
    "    good_urls = []\n",
    "    good_count = 0\n",
    "    for i, url in enumerate(urls):\n",
    "        response = requests.get(url)\n",
    "        if response.status_code == 200:\n",
    "            # Create a file path based on the URL\n",
    "            filename = url.split(\"/\")[-1]\n",
    "            destination_path = f\"{destination_folder}/{filename}\"\n",
    "            with open(destination_path, 'wb') as file:\n",
    "                file.write(response.content)\n",
    "            print(f\"Dataset {i+1} downloaded successfully.\\n\")\n",
    "            good_urls.append(url)\n",
    "            good_count += 1\n",
    "        else:\n",
    "            print(f\"Failed to download dataset {i+1}. URL: {url}\\n\")\n",
    "            failed_count += 1\n",
    "            failed_urls.append(url)\n",
    "    print(\"====DOWNLOAD RESULTS====\")\n",
    "    print(f\"Failed count: {failed_count}\")\n",
    "    print(\",\".join(failed_urls))\n",
    "    print(f\" \\n\\nSuccessfully count {good_count}\")\n",
    "    print(\",\".join(good_urls))\n",
    "\n",
    "def convert_xlsx_to_csv_in_directory(directory_path):\n",
    "    # List all .xlsx files in the directory\n",
    "    xlsx_files = [f for f in os.listdir(directory_path) if f.endswith('.xlsx')]\n",
    "    total_files = len(xlsx_files)\n",
    "    \n",
    "    if total_files == 0:\n",
    "        return\n",
    "    \n",
    "    for index, filename in enumerate(xlsx_files, start=1):\n",
    "        # Construct full file path\n",
    "        file_path = os.path.join(directory_path, filename)\n",
    "        # Read the .xlsx file\n",
    "        df = pd.read_excel(file_path)\n",
    "        # Construct the .csv filename\n",
    "        csv_filename = filename.replace('.xlsx', '.csv')\n",
    "        csv_file_path = os.path.join(directory_path, csv_filename)\n",
    "        # Save as .csv\n",
    "        df.to_csv(csv_file_path, index=False)\n",
    "        print(f\"Converted {filename} to {csv_filename}\")"
   ]
  },
  {
   "cell_type": "markdown",
   "id": "ad66c43d",
   "metadata": {},
   "source": [
    "### 1.1 Productores Autorizados"
   ]
  },
  {
   "cell_type": "code",
   "execution_count": 4,
   "id": "d47a86e7e765e28",
   "metadata": {
    "ExecuteTime": {
     "end_time": "2024-05-27T09:29:54.265428Z",
     "start_time": "2024-05-27T09:29:52.542715Z"
    }
   },
   "outputs": [],
   "source": [
    "url = \"https://www.datos.gob.mx/busca/dataset/programa-de-fertilizantes-2023-listados-autorizados\"\n",
    "count = 0\n",
    "urls_autorizados = scrape_urls(url)\n",
    "for url in urls_autorizados:\n",
    "    print(f\"URL: {url}\\n\")"
   ]
  },
  {
   "cell_type": "code",
   "execution_count": null,
   "id": "29e24e7d338431a7",
   "metadata": {
    "ExecuteTime": {
     "end_time": "2024-05-27T09:29:55.943957Z",
     "start_time": "2024-05-27T09:29:54.268433Z"
    }
   },
   "outputs": [],
   "source": [
    "download_urls_autorizados = []\n",
    "url = \"https://www.datos.gob.mx/busca/dataset/programa-de-fertilizantes-2023-listados-autorizados\"\n",
    "urls = scrape_urls(url)\n",
    "for url in urls:\n",
    "    download_urls_autorizados.append(url)"
   ]
  },
  {
   "cell_type": "code",
   "execution_count": null,
   "id": "d01e1a342200493",
   "metadata": {
    "ExecuteTime": {
     "end_time": "2024-05-27T09:31:29.806381Z",
     "start_time": "2024-05-27T09:30:07.613514Z"
    }
   },
   "outputs": [
    {
     "name": "stdout",
     "output_type": "stream",
     "text": [
      "Dataset 1 downloaded successfully.\n",
      "\n",
      "Dataset 2 downloaded successfully.\n",
      "\n",
      "Dataset 3 downloaded successfully.\n",
      "\n",
      "Dataset 4 downloaded successfully.\n",
      "\n",
      "Dataset 5 downloaded successfully.\n",
      "\n",
      "Dataset 6 downloaded successfully.\n",
      "\n",
      "Dataset 7 downloaded successfully.\n",
      "\n",
      "Dataset 8 downloaded successfully.\n",
      "\n",
      "Dataset 9 downloaded successfully.\n",
      "\n",
      "Dataset 10 downloaded successfully.\n",
      "\n",
      "Dataset 11 downloaded successfully.\n",
      "\n",
      "Dataset 12 downloaded successfully.\n",
      "\n",
      "Dataset 13 downloaded successfully.\n",
      "\n",
      "Dataset 14 downloaded successfully.\n",
      "\n",
      "Dataset 15 downloaded successfully.\n",
      "\n",
      "Dataset 16 downloaded successfully.\n",
      "\n",
      "Dataset 17 downloaded successfully.\n",
      "\n",
      "Dataset 18 downloaded successfully.\n",
      "\n",
      "Dataset 19 downloaded successfully.\n",
      "\n",
      "Dataset 20 downloaded successfully.\n",
      "\n",
      "Dataset 21 downloaded successfully.\n",
      "\n",
      "Dataset 22 downloaded successfully.\n",
      "\n",
      "Dataset 23 downloaded successfully.\n",
      "\n",
      "Dataset 24 downloaded successfully.\n",
      "\n",
      "Dataset 25 downloaded successfully.\n",
      "\n",
      "Dataset 26 downloaded successfully.\n",
      "\n",
      "Dataset 27 downloaded successfully.\n",
      "\n",
      "Dataset 28 downloaded successfully.\n",
      "\n",
      "Dataset 29 downloaded successfully.\n",
      "\n",
      "Dataset 30 downloaded successfully.\n",
      "\n",
      "Dataset 31 downloaded successfully.\n",
      "\n",
      "Dataset 32 downloaded successfully.\n",
      "\n",
      "Failed to download dataset 33. URL: https://www.agricultura.gob.mx/sites/default/files/sagarpa/Publicaciones/datos_abiertos/2023/Fertilizantes_autorizados/anexo_único_i_1er_listado_autori_fertilizantes_23_tbs_convo_1.csv\n",
      "\n",
      "Failed to download dataset 34. URL: https://www.agricultura.gob.mx/sites/default/files/sagarpa/Publicaciones/datos_abiertos/2023/Fertilizantes_autorizados/anexo_único_i_1er_listado_autori_fertilizantes_23_gto_convo_1.csv\n",
      "\n",
      "Failed to download dataset 35. URL: https://www.agricultura.gob.mx/sites/default/files/sagarpa/Publicaciones/datos_abiertos/2023/Fertilizantes_autorizados/anexo_único_i_1er_listado_autori_fertilizantes_23_zac_convo_1.csv\n",
      "\n",
      "Failed to download dataset 36. URL: https://www.agricultura.gob.mx/sites/default/files/sagarpa/Publicaciones/datos_abiertos/2023/Fertilizantes_autorizados/anexo_único_i_1er_listado_autori_fertilizantes_23_nay_convo_1.csv\n",
      "\n",
      "Dataset 37 downloaded successfully.\n",
      "\n",
      "Failed to download dataset 38. URL: https://www.agricultura.gob.mx/sites/default/files/sagarpa/Publicaciones/datos_abiertos/2023/Fertilizantes_autorizados/anexo_único_i_4to_listado_autori_fertilizantes_23_gro_convo_1.csv\n",
      "\n",
      "Failed to download dataset 39. URL: https://www.agricultura.gob.mx/sites/default/files/sagarpa/Publicaciones/datos_abiertos/2023/Fertilizantes_autorizados/anexo_único_i_1er_listado_autori_fertilizantes_23_cmp_convo_1_nvo_ingreso.csv\n",
      "\n",
      "Failed to download dataset 40. URL: https://www.agricultura.gob.mx/sites/default/files/sagarpa/Publicaciones/datos_abiertos/2023/Fertilizantes_autorizados/anexo_único_i_2do_listado_autori_fertilizantes_23_oax_convo_1.csv\n",
      "\n",
      "Failed to download dataset 41. URL: https://www.agricultura.gob.mx/sites/default/files/sagarpa/Publicaciones/datos_abiertos/2023/Fertilizantes_autorizados/anexo_único_i_2do_listado_autori_fertilizantes_23_vrz_convo_1.csv\n",
      "\n",
      "Failed to download dataset 42. URL: https://www.agricultura.gob.mx/sites/default/files/sagarpa/Publicaciones/datos_abiertos/2023/Fertilizantes_autorizados/anexo_único_i_2do_listado_autori_fertilizantes_23_chi_convo_1.csv\n",
      "\n",
      "Failed to download dataset 43. URL: https://www.agricultura.gob.mx/sites/default/files/sagarpa/Publicaciones/datos_abiertos/2023/Fertilizantes_autorizados/anexo_único_i_2do_listado_autori_fertilizantes_23_yct_convo_1.csv\n",
      "\n",
      "Failed to download dataset 44. URL: https://www.agricultura.gob.mx/sites/default/files/sagarpa/Publicaciones/datos_abiertos/2023/Fertilizantes_autorizados/anexo_único_i_1er_listado_autori_fertilizantes_23_chh_convo_1.csv\n",
      "\n",
      "Failed to download dataset 45. URL: https://www.agricultura.gob.mx/sites/default/files/sagarpa/Publicaciones/datos_abiertos/2023/Fertilizantes_autorizados/anexo_único_i_1er_listado_autori_fertilizantes_23_slp_convo_1.csv\n",
      "\n",
      "Failed to download dataset 46. URL: https://www.agricultura.gob.mx/sites/default/files/sagarpa/Publicaciones/datos_abiertos/2023/Fertilizantes_autorizados/anexo_único_i_1er_listado_autori_fertilizantes_23_tbs_convo_2.csv\n",
      "\n",
      "Failed to download dataset 47. URL: https://www.agricultura.gob.mx/sites/default/files/sagarpa/Publicaciones/datos_abiertos/2023/Fertilizantes_autorizados/anexo_único_i_2do_listado_autori_fertilizantes_23_cdmx_convo_1.csv\n",
      "\n",
      "Failed to download dataset 48. URL: https://www.agricultura.gob.mx/sites/default/files/sagarpa/Publicaciones/datos_abiertos/2023/Fertilizantes_autorizados/anexo_único_i_1er_listado_autori_fertilizantes_23_nvo_convo_1.csv\n",
      "\n",
      "Failed to download dataset 49. URL: https://www.agricultura.gob.mx/sites/default/files/sagarpa/Publicaciones/datos_abiertos/2023/Fertilizantes_autorizados/anexo_único_i_2do_listado_autori_fertilizantes_23_ags_convo_1.csv\n",
      "\n",
      "Failed to download dataset 50. URL: https://www.agricultura.gob.mx/sites/default/files/sagarpa/Publicaciones/datos_abiertos/2023/Fertilizantes_autorizados/anexo_único_i_2do_listado_autori_fertilizantes_23_dgo_convo_1.csv\n",
      "\n",
      "Failed to download dataset 51. URL: https://www.agricultura.gob.mx/sites/default/files/sagarpa/Publicaciones/datos_abiertos/2023/Fertilizantes_autorizados/anexo_único_i_3er_listado_autori_fertilizantes_23_gro_convo_1.csv\n",
      "\n",
      "Failed to download dataset 52. URL: https://www.agricultura.gob.mx/sites/default/files/sagarpa/Publicaciones/datos_abiertos/2023/Fertilizantes_autorizados/anexo_único_i_1er_listado_autori_fertilizantes_23_tml_convo_1.csv\n",
      "\n",
      "Dataset 53 downloaded successfully.\n",
      "\n",
      "Dataset 54 downloaded successfully.\n",
      "\n",
      "Dataset 55 downloaded successfully.\n",
      "\n",
      "Dataset 56 downloaded successfully.\n",
      "\n",
      "Dataset 57 downloaded successfully.\n",
      "\n",
      "Dataset 58 downloaded successfully.\n",
      "\n",
      "Dataset 59 downloaded successfully.\n",
      "\n",
      "Dataset 60 downloaded successfully.\n",
      "\n",
      "Dataset 61 downloaded successfully.\n",
      "\n",
      "Dataset 62 downloaded successfully.\n",
      "\n",
      "Dataset 63 downloaded successfully.\n",
      "\n",
      "Dataset 64 downloaded successfully.\n",
      "\n",
      "Dataset 65 downloaded successfully.\n",
      "\n",
      "Dataset 66 downloaded successfully.\n",
      "\n",
      "Dataset 67 downloaded successfully.\n",
      "\n",
      "Dataset 68 downloaded successfully.\n",
      "\n",
      "Dataset 69 downloaded successfully.\n",
      "\n",
      "Dataset 70 downloaded successfully.\n",
      "\n",
      "Dataset 71 downloaded successfully.\n",
      "\n",
      "Dataset 72 downloaded successfully.\n",
      "\n",
      "Dataset 73 downloaded successfully.\n",
      "\n",
      "Dataset 74 downloaded successfully.\n",
      "\n",
      "Dataset 75 downloaded successfully.\n",
      "\n",
      "====DOWNLOAD RESULTS====\n",
      "Failed count: 19\n",
      "https://www.agricultura.gob.mx/sites/default/files/sagarpa/Publicaciones/datos_abiertos/2023/Fertilizantes_autorizados/anexo_único_i_1er_listado_autori_fertilizantes_23_tbs_convo_1.csv,https://www.agricultura.gob.mx/sites/default/files/sagarpa/Publicaciones/datos_abiertos/2023/Fertilizantes_autorizados/anexo_único_i_1er_listado_autori_fertilizantes_23_gto_convo_1.csv,https://www.agricultura.gob.mx/sites/default/files/sagarpa/Publicaciones/datos_abiertos/2023/Fertilizantes_autorizados/anexo_único_i_1er_listado_autori_fertilizantes_23_zac_convo_1.csv,https://www.agricultura.gob.mx/sites/default/files/sagarpa/Publicaciones/datos_abiertos/2023/Fertilizantes_autorizados/anexo_único_i_1er_listado_autori_fertilizantes_23_nay_convo_1.csv,https://www.agricultura.gob.mx/sites/default/files/sagarpa/Publicaciones/datos_abiertos/2023/Fertilizantes_autorizados/anexo_único_i_4to_listado_autori_fertilizantes_23_gro_convo_1.csv,https://www.agricultura.gob.mx/sites/default/files/sagarpa/Publicaciones/datos_abiertos/2023/Fertilizantes_autorizados/anexo_único_i_1er_listado_autori_fertilizantes_23_cmp_convo_1_nvo_ingreso.csv,https://www.agricultura.gob.mx/sites/default/files/sagarpa/Publicaciones/datos_abiertos/2023/Fertilizantes_autorizados/anexo_único_i_2do_listado_autori_fertilizantes_23_oax_convo_1.csv,https://www.agricultura.gob.mx/sites/default/files/sagarpa/Publicaciones/datos_abiertos/2023/Fertilizantes_autorizados/anexo_único_i_2do_listado_autori_fertilizantes_23_vrz_convo_1.csv,https://www.agricultura.gob.mx/sites/default/files/sagarpa/Publicaciones/datos_abiertos/2023/Fertilizantes_autorizados/anexo_único_i_2do_listado_autori_fertilizantes_23_chi_convo_1.csv,https://www.agricultura.gob.mx/sites/default/files/sagarpa/Publicaciones/datos_abiertos/2023/Fertilizantes_autorizados/anexo_único_i_2do_listado_autori_fertilizantes_23_yct_convo_1.csv,https://www.agricultura.gob.mx/sites/default/files/sagarpa/Publicaciones/datos_abiertos/2023/Fertilizantes_autorizados/anexo_único_i_1er_listado_autori_fertilizantes_23_chh_convo_1.csv,https://www.agricultura.gob.mx/sites/default/files/sagarpa/Publicaciones/datos_abiertos/2023/Fertilizantes_autorizados/anexo_único_i_1er_listado_autori_fertilizantes_23_slp_convo_1.csv,https://www.agricultura.gob.mx/sites/default/files/sagarpa/Publicaciones/datos_abiertos/2023/Fertilizantes_autorizados/anexo_único_i_1er_listado_autori_fertilizantes_23_tbs_convo_2.csv,https://www.agricultura.gob.mx/sites/default/files/sagarpa/Publicaciones/datos_abiertos/2023/Fertilizantes_autorizados/anexo_único_i_2do_listado_autori_fertilizantes_23_cdmx_convo_1.csv,https://www.agricultura.gob.mx/sites/default/files/sagarpa/Publicaciones/datos_abiertos/2023/Fertilizantes_autorizados/anexo_único_i_1er_listado_autori_fertilizantes_23_nvo_convo_1.csv,https://www.agricultura.gob.mx/sites/default/files/sagarpa/Publicaciones/datos_abiertos/2023/Fertilizantes_autorizados/anexo_único_i_2do_listado_autori_fertilizantes_23_ags_convo_1.csv,https://www.agricultura.gob.mx/sites/default/files/sagarpa/Publicaciones/datos_abiertos/2023/Fertilizantes_autorizados/anexo_único_i_2do_listado_autori_fertilizantes_23_dgo_convo_1.csv,https://www.agricultura.gob.mx/sites/default/files/sagarpa/Publicaciones/datos_abiertos/2023/Fertilizantes_autorizados/anexo_único_i_3er_listado_autori_fertilizantes_23_gro_convo_1.csv,https://www.agricultura.gob.mx/sites/default/files/sagarpa/Publicaciones/datos_abiertos/2023/Fertilizantes_autorizados/anexo_único_i_1er_listado_autori_fertilizantes_23_tml_convo_1.csv\n",
      " \n",
      "\n",
      "Successfully count 56\n",
      "https://www.agricultura.gob.mx/sites/default/files/sagarpa/Publicaciones/datos_abiertos/2023/Fertilizantes_autorizados/anexo_unico_2do_listado_autori_fertilizantes_23_mor_convo_2.csv,https://www.agricultura.gob.mx/sites/default/files/sagarpa/Publicaciones/datos_abiertos/2023/Fertilizantes_autorizados/anexo_unico_nvoingreso_listado_autori_fertilizantes_23_son.csv,https://www.agricultura.gob.mx/sites/default/files/sagarpa/Publicaciones/datos_abiertos/2023/Fertilizantes_autorizados/anexo_unico_nvoingreso_listado_autori_fertilizantes_23_qur.csv,https://www.agricultura.gob.mx/sites/default/files/sagarpa/Publicaciones/datos_abiertos/2023/Fertilizantes_autorizados/anexo_unico_nvoingreso_listado_autori_fertilizantes_23_bcs.csv,https://www.agricultura.gob.mx/sites/default/files/sagarpa/Publicaciones/datos_abiertos/2023/Fertilizantes_autorizados/anexo_unico_1er_listado_autori_fertilizantes_23_coa.csv,https://www.agricultura.gob.mx/sites/default/files/sagarpa/Publicaciones/datos_abiertos/2023/Fertilizantes_autorizados/anexo_unico_2do_listado_autori_fertilizantes_23_cmp_convo_1.csv,https://www.agricultura.gob.mx/sites/default/files/sagarpa/Publicaciones/datos_abiertos/2023/Fertilizantes_autorizados/anexo_unico_2do_listado_autori_fertilizantes_23_coa.csv,https://www.agricultura.gob.mx/sites/default/files/sagarpa/Publicaciones/datos_abiertos/2023/Fertilizantes_autorizados/anexo_unico_2do_listado_autori_fertilizantes_23_hgo.csv,https://www.agricultura.gob.mx/sites/default/files/sagarpa/Publicaciones/datos_abiertos/2023/Fertilizantes_autorizados/anexo_unico_2do_listado_autori_fertilizantes_23_son.csv,https://www.agricultura.gob.mx/sites/default/files/sagarpa/Publicaciones/datos_abiertos/2023/Fertilizantes_autorizados/anexo_unico_2do_listado_autori_fertilizantes_23_tbs_convo_2.csv,https://www.agricultura.gob.mx/sites/default/files/sagarpa/Publicaciones/datos_abiertos/2023/Fertilizantes_autorizados/anexo_unico_3er_listado_autori_fertilizantes_23_yuc.csv,https://www.agricultura.gob.mx/sites/default/files/sagarpa/Publicaciones/datos_abiertos/2023/Fertilizantes_autorizados/anexo_unico_3er_listado_autori_fertilizantes_23_vrz.csv,https://www.agricultura.gob.mx/sites/default/files/sagarpa/Publicaciones/datos_abiertos/2023/Fertilizantes_autorizados/anexo_unico_3er_listado_autori_fertilizantes_23_oax.csv,https://www.agricultura.gob.mx/sites/default/files/sagarpa/Publicaciones/datos_abiertos/2023/Fertilizantes_autorizados/anexo_unico_3er_listado_autori_fertilizantes_23_dgo.csv,https://www.agricultura.gob.mx/sites/default/files/sagarpa/Publicaciones/datos_abiertos/2023/Fertilizantes_autorizados/anexo_unico_3er_listado_autori_fertilizantes_23_chi.csv,https://www.agricultura.gob.mx/sites/default/files/sagarpa/Publicaciones/datos_abiertos/2023/Fertilizantes_autorizados/anexo_unico_3er_listado_autori_fertilizantes_23_cmp.csv,https://www.agricultura.gob.mx/sites/default/files/sagarpa/Publicaciones/datos_abiertos/2023/Fertilizantes_autorizados/anexo_unico_2do_listado_autori_fertilizantes_23_zac.csv,https://www.agricultura.gob.mx/sites/default/files/sagarpa/Publicaciones/datos_abiertos/2023/Fertilizantes_autorizados/anexo_unico_2do_listado_autori_fertilizantes_23_txl.csv,https://www.agricultura.gob.mx/sites/default/files/sagarpa/Publicaciones/datos_abiertos/2023/Fertilizantes_autorizados/anexo_unico_2do_listado_autori_fertilizantes_23_tml.csv,https://www.agricultura.gob.mx/sites/default/files/sagarpa/Publicaciones/datos_abiertos/2023/Fertilizantes_autorizados/anexo_unico_2do_listado_autori_fertilizantes_23_tbs.csv,https://www.agricultura.gob.mx/sites/default/files/sagarpa/Publicaciones/datos_abiertos/2023/Fertilizantes_autorizados/anexo_unico_2do_listado_autori_fertilizantes_23_slp.csv,https://www.agricultura.gob.mx/sites/default/files/sagarpa/Publicaciones/datos_abiertos/2023/Fertilizantes_autorizados/anexo_unico_2do_listado_autori_fertilizantes_23_qur.csv,https://www.agricultura.gob.mx/sites/default/files/sagarpa/Publicaciones/datos_abiertos/2023/Fertilizantes_autorizados/anexo_unico_2do_listado_autori_fertilizantes_23_nvo.csv,https://www.agricultura.gob.mx/sites/default/files/sagarpa/Publicaciones/datos_abiertos/2023/Fertilizantes_autorizados/anexo_unico_2do_listado_autori_fertilizantes_23_nay.csv,https://www.agricultura.gob.mx/sites/default/files/sagarpa/Publicaciones/datos_abiertos/2023/Fertilizantes_autorizados/anexo_unico_2do_listado_autori_fertilizantes_23_chh.csv,https://www.agricultura.gob.mx/sites/default/files/sagarpa/Publicaciones/datos_abiertos/2023/Fertilizantes_autorizados/anexo_unico_2do_listado_autori_fertilizantes_23_cdmx.csv,https://www.agricultura.gob.mx/sites/default/files/sagarpa/Publicaciones/datos_abiertos/2023/Fertilizantes_autorizados/anexo_unico_1er_listado_autori_fertilizantes_23_son.csv,https://www.agricultura.gob.mx/sites/default/files/sagarpa/Publicaciones/datos_abiertos/2023/Fertilizantes_autorizados/anexo_unico_listado_autori_fertilizantes_23_bc.csv,https://www.agricultura.gob.mx/sites/default/files/sagarpa/Publicaciones/datos_abiertos/2023/Fertilizantes_autorizados/anexo_unico_listado_autori_fertilizantes_23_bcs.csv,https://www.agricultura.gob.mx/sites/default/files/sagarpa/Publicaciones/datos_abiertos/2023/Fertilizantes_autorizados/anexo_unico_nvoingreso_listado_autori_fertilizantes_23_txl.csv,https://www.agricultura.gob.mx/sites/default/files/sagarpa/Publicaciones/datos_abiertos/2023/Fertilizantes_autorizados/anexo_unico_nvoingreso_listado_autori_fertilizantes_23_bc.csv,https://www.agricultura.gob.mx/sites/default/files/sagarpa/Publicaciones/datos_abiertos/2023/Fertilizantes_autorizados/anexo_unico_i_1er_listado_autori_fertilizantes_23_mor_convo_2.csv,https://www.agricultura.gob.mx/sites/default/files/sagarpa/Publicaciones/datos_abiertos/2023/Fertilizantes_autorizados/anexo_unico_i_2do_listado_autori_fertilizantes_23_jal_convo_1.csv,https://www.agricultura.gob.mx/sites/default/files/sagarpa/Publicaciones/datos_abiertos/2023/Fertilizantes_autorizados/anexo_unico_i_1er_listado_autori_fertilizantes_23_col_convo_1.csv,https://www.agricultura.gob.mx/sites/default/files/sagarpa/Publicaciones/datos_abiertos/2023/Fertilizantes_autorizados/anexo_unico_i_1er_listado_autori_fertilizantes_23_qnro_convo_1.csv,https://www.agricultura.gob.mx/sites/default/files/sagarpa/Publicaciones/datos_abiertos/2023/Fertilizantes_autorizados/anexo_unico_i_1er_listado_autori_fertilizantes_23_qro_convo_1.csv,https://www.agricultura.gob.mx/sites/default/files/sagarpa/Publicaciones/datos_abiertos/2023/Fertilizantes_autorizados/anexo_unico_i_1er_listado_autori_fertilizantes_23_txl_convo_1.csv,https://www.agricultura.gob.mx/sites/default/files/sagarpa/Publicaciones/datos_abiertos/2023/Fertilizantes_autorizados/anexo_unico_i_1er_listado_autori_fertilizantes_23_cmp_convo_1.csv,https://www.agricultura.gob.mx/sites/default/files/sagarpa/Publicaciones/datos_abiertos/2023/Fertilizantes_autorizados/anexo_unico_i_1er_listado_autori_fertilizantes_23_ags_convo_1.csv,https://www.agricultura.gob.mx/sites/default/files/sagarpa/Publicaciones/datos_abiertos/2023/Fertilizantes_autorizados/anexo_unico_i_2do_listado_autori_fertilizantes_23_pbl_convo_1.csv,https://www.agricultura.gob.mx/sites/default/files/sagarpa/Publicaciones/datos_abiertos/2023/Fertilizantes_autorizados/anexo_unico_i_1er_listado_autori_fertilizantes_23_dgo_convo_1.csv,https://www.agricultura.gob.mx/sites/default/files/sagarpa/Publicaciones/datos_abiertos/2023/Fertilizantes_autorizados/anexo_unico_i_1er_listado_autori_fertilizantes_23_yct_convo_1.csv,https://www.agricultura.gob.mx/sites/default/files/sagarpa/Publicaciones/datos_abiertos/2023/Fertilizantes_autorizados/anexo_unico_i_1er_listado_autori_fertilizantes_23_vrz_convo_1.csv,https://www.agricultura.gob.mx/sites/default/files/sagarpa/Publicaciones/datos_abiertos/2023/Fertilizantes_autorizados/anexo_unico_i_1er_listado_autori_fertilizantes_23_cdmx_convo_1.csv,https://www.agricultura.gob.mx/sites/default/files/sagarpa/Publicaciones/datos_abiertos/2023/Fertilizantes_autorizados/anexo_unico_i_1er_listado_autori_fertilizantes_23_hgo_convo_1.csv,https://www.agricultura.gob.mx/sites/default/files/sagarpa/Publicaciones/datos_abiertos/2023/Fertilizantes_autorizados/anexo_unico_i_1er_listado_autori_fertilizantes_23_oax_convo_1.csv,https://www.agricultura.gob.mx/sites/default/files/sagarpa/Publicaciones/datos_abiertos/2023/Fertilizantes_autorizados/anexo_unico_i_2do_listado_autori_fertilizantes_23_gro_convo_1.csv,https://www.agricultura.gob.mx/sites/default/files/sagarpa/Publicaciones/datos_abiertos/2023/Fertilizantes_autorizados/anexo_unico_i_1er_listado_autori_fertilizantes_23_jal_convo_1.csv,https://www.agricultura.gob.mx/sites/default/files/sagarpa/Publicaciones/datos_abiertos/2023/Fertilizantes_autorizados/anexo_unico_i_1er_listado_autori_fertilizantes_23_gro_convo_1.csv,https://www.agricultura.gob.mx/sites/default/files/sagarpa/Publicaciones/datos_abiertos/2023/Fertilizantes_autorizados/anexo_unico_i_1er_listado_autori_fertilizantes_23_chp_convo_1.csv,https://www.agricultura.gob.mx/sites/default/files/sagarpa/Publicaciones/datos_abiertos/2023/Fertilizantes_autorizados/anexo_unico_i_1er_listado_autori_fertilizantes_23_pbl_convo_1.csv,https://www.agricultura.gob.mx/sites/default/files/sagarpa/Publicaciones/datos_abiertos/2023/Fertilizantes_autorizados/anexo_unico_i_1er_listado_autori_fertilizantes_23_edo_mex_convo_2.csv,https://www.agricultura.gob.mx/sites/default/files/sagarpa/Publicaciones/datos_abiertos/2023/Fertilizantes_autorizados/anexo_unico_i_1er_listado_autori_fertilizantes_23_edo_mex_convo_3.csv,https://www.agricultura.gob.mx/sites/default/files/sagarpa/Publicaciones/datos_abiertos/2023/Fertilizantes_autorizados/anexo_unico_i_1er_listado_autori_fertilizantes_23_edo_mch_convo_1.csv,https://www.agricultura.gob.mx/sites/default/files/sagarpa/Publicaciones/datos_abiertos/2023/Fertilizantes_autorizados/anexo_unico_i_1er_listado_autori_fertilizantes_23_edo_mor_convo_1.csv,https://www.agricultura.gob.mx/sites/default/files/sagarpa/Publicaciones/datos_abiertos/2023/Fertilizantes_autorizados/anexo_unico_i_1er_listado_autori_fertilizantes_23_edo_mex_convo_1.csv\n"
     ]
    }
   ],
   "source": [
    "destination_folder = \"../../data/productores_autorizados\"\n",
    "download_datasets(download_urls_autorizados, destination_folder)"
   ]
  },
  {
   "cell_type": "markdown",
   "id": "a82978cb",
   "metadata": {},
   "source": [
    "### 1.2 Listado Beneficiarios 2023"
   ]
  },
  {
   "cell_type": "code",
   "execution_count": null,
   "id": "8109e8e8",
   "metadata": {},
   "outputs": [
    {
     "name": "stdout",
     "output_type": "stream",
     "text": [
      "URL: https://www.agricultura.gob.mx/sites/default/files/sagarpa/Publicaciones/datos_abiertos/2023/Fertilizantes_beneficiarios/listado_3_beneficiarios_fertilizantes_2023_corte_091023.csv\n",
      "\n",
      "URL: https://www.agricultura.gob.mx/sites/default/files/sagarpa/Publicaciones/datos_abiertos/2023/Fertilizantes_beneficiarios/listado_1_beneficiarios_fertilizantes_2023_pe_corte_091023.csv\n",
      "\n",
      "URL: https://www.agricultura.gob.mx/sites/default/files/sagarpa/Publicaciones/datos_abiertos/2023/Fertilizantes_beneficiarios/listado_2_beneficiarios_fertilizantes_2023_corte_090823.csv\n",
      "\n",
      "URL: https://www.agricultura.gob.mx/sites/default/files/sagarpa/Publicaciones/datos_abiertos/2023/Fertilizantes_beneficiarios/listado_1_beneficiarios_fertilizantes_2023_corte_290523.csv\n",
      "\n"
     ]
    }
   ],
   "source": [
    "#Get urls\n",
    "url = \"https://www.datos.gob.mx/busca/dataset/programa-de-fertilizantes-2023-listados-de-beneficiarios\"\n",
    "count = 0\n",
    "url_beneficiarios = scrape_urls(url)\n",
    "for url in url_beneficiarios:\n",
    "    print(f\"URL: {url}\\n\")"
   ]
  },
  {
   "cell_type": "code",
   "execution_count": null,
   "id": "e355ec0e",
   "metadata": {},
   "outputs": [],
   "source": [
    "# Dataset de urls de beneficiarios2023\n",
    "download_urls_beneficiarios = []\n",
    "url = \"https://www.datos.gob.mx/busca/dataset/programa-de-fertilizantes-2023-listados-de-beneficiarios\"\n",
    "urls = scrape_urls(url)\n",
    "for url in urls:\n",
    "    download_urls_beneficiarios.append(url)"
   ]
  },
  {
   "cell_type": "code",
   "execution_count": null,
   "id": "68700de7",
   "metadata": {},
   "outputs": [
    {
     "name": "stdout",
     "output_type": "stream",
     "text": [
      "Dataset 1 downloaded successfully.\n",
      "\n",
      "Dataset 2 downloaded successfully.\n",
      "\n",
      "Dataset 3 downloaded successfully.\n",
      "\n",
      "Dataset 4 downloaded successfully.\n",
      "\n",
      "====DOWNLOAD RESULTS====\n",
      "Failed count: 0\n",
      "\n",
      " \n",
      "\n",
      "Successfully count 4\n",
      "https://www.agricultura.gob.mx/sites/default/files/sagarpa/Publicaciones/datos_abiertos/2023/Fertilizantes_beneficiarios/listado_3_beneficiarios_fertilizantes_2023_corte_091023.csv,https://www.agricultura.gob.mx/sites/default/files/sagarpa/Publicaciones/datos_abiertos/2023/Fertilizantes_beneficiarios/listado_1_beneficiarios_fertilizantes_2023_pe_corte_091023.csv,https://www.agricultura.gob.mx/sites/default/files/sagarpa/Publicaciones/datos_abiertos/2023/Fertilizantes_beneficiarios/listado_2_beneficiarios_fertilizantes_2023_corte_090823.csv,https://www.agricultura.gob.mx/sites/default/files/sagarpa/Publicaciones/datos_abiertos/2023/Fertilizantes_beneficiarios/listado_1_beneficiarios_fertilizantes_2023_corte_290523.csv\n"
     ]
    }
   ],
   "source": [
    "destination_folder = \"../../data/productores_beneficiarios\"\n",
    "\n",
    "download_datasets(download_urls_beneficiarios, destination_folder)"
   ]
  },
  {
   "cell_type": "markdown",
   "id": "75a38b45",
   "metadata": {},
   "source": [
    "### 1.3 Listado Beneficiarios 2019-2022"
   ]
  },
  {
   "cell_type": "code",
   "execution_count": 4,
   "id": "5e85a22e",
   "metadata": {},
   "outputs": [],
   "source": [
    "download_urls_beneficiarios_19_22 = []\n",
    "urls = [\"https://datos.gob.mx/busca/dataset/programa-fertilizantes-2019\", \"https://datos.gob.mx/busca/dataset/programa-fertilizantes-2020\", \"https://datos.gob.mx/busca/dataset/programa-fertilizantes-2021\", \"https://datos.gob.mx/busca/dataset/programa-fertilizantes-2022\"]\n",
    "for url in [urls[0], urls[1], urls[2], urls[3]]:\n",
    "    download_urls_beneficiarios_19_22 += scrape_xlsx(url)"
   ]
  },
  {
   "cell_type": "code",
   "execution_count": 5,
   "id": "04b88178",
   "metadata": {},
   "outputs": [
    {
     "name": "stdout",
     "output_type": "stream",
     "text": [
      "Dataset 1 downloaded successfully.\n",
      "\n",
      "Dataset 2 downloaded successfully.\n",
      "\n",
      "Dataset 3 downloaded successfully.\n",
      "\n",
      "Dataset 4 downloaded successfully.\n",
      "\n",
      "====DOWNLOAD RESULTS====\n",
      "Failed count: 0\n",
      "\n",
      " \n",
      "\n",
      "Successfully count 4\n",
      "https://www.agricultura.gob.mx/sites/default/files/sagarpa/Publicaciones/datos_abiertos/2019_PEC/Fertilizantes/fertilizantes_2019.xlsx,https://www.agricultura.gob.mx/sites/default/files/sagarpa/Publicaciones/datos_abiertos/2020/Fertilizantes_rdc/listado_beneficiarios_fertilizantes_2020.xlsx,https://www.agricultura.gob.mx/sites/default/files/sagarpa/Publicaciones/datos_abiertos/2021/Fertilizantes_rdc/listado_beneficiarios_fertilizantes_2021.xlsx,https://www.agricultura.gob.mx/sites/default/files/sagarpa/Publicaciones/datos_abiertos/2022/Fertilizantes_rdc/listado_beneficiarios_fertilizantes_2022.xlsx\n",
      "Converted listado_beneficiarios_fertilizantes_2022.xlsx to listado_beneficiarios_fertilizantes_2022.csv\n",
      "Converted listado_beneficiarios_fertilizantes_2021.xlsx to listado_beneficiarios_fertilizantes_2021.csv\n",
      "Converted listado_beneficiarios_fertilizantes_2020.xlsx to listado_beneficiarios_fertilizantes_2020.csv\n",
      "Converted fertilizantes_2019.xlsx to fertilizantes_2019.csv\n"
     ]
    }
   ],
   "source": [
    "destination_folder = \"../../data/productores_beneficiarios 2019-2022\"\n",
    "\n",
    "download_datasets(download_urls_beneficiarios_19_22, destination_folder)\n",
    "\n",
    "convert_xlsx_to_csv_in_directory(\"../../data/productores_beneficiarios 2019-2022\")"
   ]
  }
 ],
 "metadata": {
  "kernelspec": {
   "display_name": "Python 3",
   "language": "python",
   "name": "python3"
  },
  "language_info": {
   "codemirror_mode": {
    "name": "ipython",
    "version": 3
   },
   "file_extension": ".py",
   "mimetype": "text/x-python",
   "name": "python",
   "nbconvert_exporter": "python",
   "pygments_lexer": "ipython3",
   "version": "3.9.9"
  }
 },
 "nbformat": 4,
 "nbformat_minor": 5
}
