{
 "cells": [
  {
   "cell_type": "markdown",
   "id": "aafa764a33b4bc9d",
   "metadata": {},
   "source": []
  },
  {
   "cell_type": "markdown",
   "id": "9bf99f0a9cf361f5",
   "metadata": {},
   "source": [
    "# Análisis EDA de productores beneficiarios 2023"
   ]
  },
  {
   "cell_type": "markdown",
   "id": "b7d78da593e5726d",
   "metadata": {},
   "source": [
    "# 1. Importación de librerías y carga de datos"
   ]
  },
  {
   "cell_type": "code",
   "execution_count": 1,
   "id": "ca66af980aef1552",
   "metadata": {
    "ExecuteTime": {
     "end_time": "2024-05-30T14:00:16.261607Z",
     "start_time": "2024-05-30T14:00:16.258552Z"
    }
   },
   "outputs": [],
   "source": [
    "import pandas as pd\n",
    "import numpy as np\n",
    "import time\n",
    "import matplotlib.pyplot as plt\n",
    "import seaborn as sns\n",
    "# pd.set_option('display.max_columns', None)"
   ]
  },
  {
   "cell_type": "code",
   "execution_count": 2,
   "id": "21eb207172b99a87",
   "metadata": {
    "ExecuteTime": {
     "end_time": "2024-05-30T14:00:19.233865Z",
     "start_time": "2024-05-30T14:00:16.263614Z"
    }
   },
   "outputs": [],
   "source": [
    "lista_beneficiarios = pd.read_csv('../../data/LISTADO_BENEFICIARIOS_COMPLETO.csv', dtype={'cve_mun': str, 'cve_ent': str})"
   ]
  },
  {
   "cell_type": "markdown",
   "id": "97373cef188c1a15",
   "metadata": {},
   "source": [
    "# 2. Análisis Inicial"
   ]
  },
  {
   "cell_type": "markdown",
   "id": "708e9a4e08b15f2",
   "metadata": {},
   "source": [
    "## 2.1 Estructura de los datos"
   ]
  },
  {
   "cell_type": "code",
   "execution_count": 3,
   "id": "dc67849256e71675",
   "metadata": {
    "ExecuteTime": {
     "end_time": "2024-05-30T14:00:19.275469Z",
     "start_time": "2024-05-30T14:00:19.246027Z"
    }
   },
   "outputs": [
    {
     "data": {
      "text/plain": [
       "Index(['ESTADO_prod', 'MUNICIPIO_prod', 'ACUSE ESTATAL', 'APELLIDO PATERNO',\n",
       "       'APELLIDO MATERNO', 'NOMBRE (S)', 'PAQUETE', 'KEY_benef_Verificado',\n",
       "       'Entidad_inegi', 'Municipio_inegi', 'CVE_ENT', 'CVE_MUN'],\n",
       "      dtype='object')"
      ]
     },
     "execution_count": 3,
     "metadata": {},
     "output_type": "execute_result"
    }
   ],
   "source": [
    "lista_beneficiarios.columns"
   ]
  },
  {
   "cell_type": "markdown",
   "id": "4be27e4901c98d1d",
   "metadata": {},
   "source": [
    "## 2.2 Información general"
   ]
  },
  {
   "cell_type": "code",
   "execution_count": 4,
   "id": "cd8e30b68135f86c",
   "metadata": {
    "ExecuteTime": {
     "end_time": "2024-05-30T14:00:19.786581Z",
     "start_time": "2024-05-30T14:00:19.296541Z"
    }
   },
   "outputs": [
    {
     "name": "stdout",
     "output_type": "stream",
     "text": [
      "<class 'pandas.core.frame.DataFrame'>\n",
      "RangeIndex: 1682804 entries, 0 to 1682803\n",
      "Data columns (total 12 columns):\n",
      " #   Column                Non-Null Count    Dtype  \n",
      "---  ------                --------------    -----  \n",
      " 0   ESTADO_prod           1682804 non-null  object \n",
      " 1   MUNICIPIO_prod        1682804 non-null  object \n",
      " 2   ACUSE ESTATAL         1682804 non-null  object \n",
      " 3   APELLIDO PATERNO      1682803 non-null  object \n",
      " 4   APELLIDO MATERNO      1656391 non-null  object \n",
      " 5   NOMBRE (S)            1682804 non-null  object \n",
      " 6   PAQUETE               1682796 non-null  float64\n",
      " 7   KEY_benef_Verificado  1682804 non-null  object \n",
      " 8   Entidad_inegi         1682804 non-null  object \n",
      " 9   Municipio_inegi       1682804 non-null  object \n",
      " 10  CVE_ENT               1682804 non-null  int64  \n",
      " 11  CVE_MUN               1682804 non-null  int64  \n",
      "dtypes: float64(1), int64(2), object(9)\n",
      "memory usage: 154.1+ MB\n"
     ]
    }
   ],
   "source": [
    "lista_beneficiarios.info()"
   ]
  },
  {
   "cell_type": "markdown",
   "id": "957a1b821e853446",
   "metadata": {},
   "source": [
    "## 2.3 Estadísticas Descriptivas"
   ]
  },
  {
   "cell_type": "code",
   "execution_count": 5,
   "id": "17a68d410bf50543",
   "metadata": {
    "ExecuteTime": {
     "end_time": "2024-05-30T14:00:22.771261Z",
     "start_time": "2024-05-30T14:00:19.788354Z"
    }
   },
   "outputs": [
    {
     "name": "stdout",
     "output_type": "stream",
     "text": [
      "                          count   unique                             top  \\\n",
      "ESTADO_prod             1682804       30                        GUERRERO   \n",
      "MUNICIPIO_prod          1682804     2237                  LAS MARGARITAS   \n",
      "ACUSE ESTATAL           1682804  1680105  23-PRONAFE-FERT-094971-S000-OC   \n",
      "APELLIDO PATERNO        1682803    14995                       HERNANDEZ   \n",
      "APELLIDO MATERNO        1656391    17604                       HERNANDEZ   \n",
      "NOMBRE (S)              1682804   124628                            JUAN   \n",
      "PAQUETE               1682796.0      NaN                             NaN   \n",
      "KEY_benef_Verificado    1682804     2334          chiapas-las margaritas   \n",
      "Entidad_inegi           1682804       30                        Guerrero   \n",
      "Municipio_inegi         1682804     2215                  Las Margaritas   \n",
      "CVE_ENT               1682804.0      NaN                             NaN   \n",
      "CVE_MUN               1682804.0      NaN                             NaN   \n",
      "\n",
      "                        freq       mean        std  min   25%   50%   75%  \\\n",
      "ESTADO_prod           331097        NaN        NaN  NaN   NaN   NaN   NaN   \n",
      "MUNICIPIO_prod         18041        NaN        NaN  NaN   NaN   NaN   NaN   \n",
      "ACUSE ESTATAL              2        NaN        NaN  NaN   NaN   NaN   NaN   \n",
      "APELLIDO PATERNO       77591        NaN        NaN  NaN   NaN   NaN   NaN   \n",
      "APELLIDO MATERNO       77130        NaN        NaN  NaN   NaN   NaN   NaN   \n",
      "NOMBRE (S)             26829        NaN        NaN  NaN   NaN   NaN   NaN   \n",
      "PAQUETE                  NaN   1.632146   0.992895  1.0   1.0   2.0   2.0   \n",
      "KEY_benef_Verificado   18041        NaN        NaN  NaN   NaN   NaN   NaN   \n",
      "Entidad_inegi         331097        NaN        NaN  NaN   NaN   NaN   NaN   \n",
      "Municipio_inegi        18041        NaN        NaN  NaN   NaN   NaN   NaN   \n",
      "CVE_ENT                  NaN  15.888474   7.382818  1.0  12.0  15.0  20.0   \n",
      "CVE_MUN                  NaN  74.330412  98.813752  1.0  17.0  46.0  84.0   \n",
      "\n",
      "                        max  \n",
      "ESTADO_prod             NaN  \n",
      "MUNICIPIO_prod          NaN  \n",
      "ACUSE ESTATAL           NaN  \n",
      "APELLIDO PATERNO        NaN  \n",
      "APELLIDO MATERNO        NaN  \n",
      "NOMBRE (S)              NaN  \n",
      "PAQUETE                10.0  \n",
      "KEY_benef_Verificado    NaN  \n",
      "Entidad_inegi           NaN  \n",
      "Municipio_inegi         NaN  \n",
      "CVE_ENT                32.0  \n",
      "CVE_MUN               570.0  \n"
     ]
    }
   ],
   "source": [
    "# Obtener estadísticas descriptivas para todas las variables\n",
    "descriptive_stats = lista_beneficiarios.describe(include='all').transpose()\n",
    "\n",
    "# Mostrar las estadísticas descriptivas\n",
    "print(descriptive_stats)"
   ]
  },
  {
   "cell_type": "markdown",
   "id": "226ddafd534b1c5a",
   "metadata": {},
   "source": [
    "# 3. Limpieza de Datos"
   ]
  },
  {
   "cell_type": "markdown",
   "id": "7a40edeaec389e72",
   "metadata": {},
   "source": [
    "## 3.1 Valores Nulos"
   ]
  },
  {
   "cell_type": "code",
   "execution_count": 6,
   "id": "16c394bf62154183",
   "metadata": {
    "ExecuteTime": {
     "end_time": "2024-05-30T14:00:23.055234Z",
     "start_time": "2024-05-30T14:00:22.773273Z"
    }
   },
   "outputs": [
    {
     "name": "stdout",
     "output_type": "stream",
     "text": [
      "ESTADO_prod                 0\n",
      "MUNICIPIO_prod              0\n",
      "ACUSE ESTATAL               0\n",
      "APELLIDO PATERNO            1\n",
      "APELLIDO MATERNO        26413\n",
      "NOMBRE (S)                  0\n",
      "PAQUETE                     8\n",
      "KEY_benef_Verificado        0\n",
      "Entidad_inegi               0\n",
      "Municipio_inegi             0\n",
      "CVE_ENT                     0\n",
      "CVE_MUN                     0\n",
      "dtype: int64\n"
     ]
    }
   ],
   "source": [
    "valores_nulos = lista_beneficiarios.isna().sum()\n",
    "print(valores_nulos)"
   ]
  },
  {
   "cell_type": "markdown",
   "id": "672166cc7874a7fc",
   "metadata": {},
   "source": [
    "## 3.2 Decisiones sobre valores nulos"
   ]
  },
  {
   "cell_type": "markdown",
   "id": "751e8fcd",
   "metadata": {},
   "source": [
    "Se decide mantener las 8 filas con paquetes nulos."
   ]
  },
  {
   "cell_type": "code",
   "execution_count": null,
   "id": "92cf0ff16b751754",
   "metadata": {
    "ExecuteTime": {
     "end_time": "2024-05-30T14:00:23.551082Z",
     "start_time": "2024-05-30T14:00:23.285157Z"
    }
   },
   "outputs": [],
   "source": []
  },
  {
   "cell_type": "markdown",
   "id": "cda63c614b0ca043",
   "metadata": {},
   "source": [
    "## 3.3 Valores Duplicados"
   ]
  },
  {
   "cell_type": "code",
   "execution_count": 7,
   "id": "c0c13b95f92c2f22",
   "metadata": {
    "ExecuteTime": {
     "end_time": "2024-05-30T14:00:24.986033Z",
     "start_time": "2024-05-30T14:00:23.553091Z"
    }
   },
   "outputs": [
    {
     "name": "stdout",
     "output_type": "stream",
     "text": [
      "Hay 34092 filas duplicadas\n"
     ]
    }
   ],
   "source": [
    "# Filas completas duplicadas\n",
    "duplicated_rows_beneficiarios = lista_beneficiarios.drop(columns = ['ACUSE ESTATAL'])\n",
    "\n",
    "filas_duplicadas = duplicated_rows_beneficiarios.duplicated().sum()\n",
    "print(f'Hay {filas_duplicadas} filas duplicadas')"
   ]
  },
  {
   "cell_type": "markdown",
   "id": "87ea9047fac0b696",
   "metadata": {},
   "source": [
    "Consultamos el número de filas duplicadas para columna."
   ]
  },
  {
   "cell_type": "code",
   "execution_count": 8,
   "id": "b5e712db",
   "metadata": {},
   "outputs": [
    {
     "data": {
      "text/plain": [
       "(1682804, 11)"
      ]
     },
     "execution_count": 8,
     "metadata": {},
     "output_type": "execute_result"
    }
   ],
   "source": [
    "duplicated_rows_beneficiarios.shape"
   ]
  },
  {
   "cell_type": "code",
   "execution_count": 11,
   "id": "1f742282e562f0ff",
   "metadata": {
    "ExecuteTime": {
     "end_time": "2024-05-30T14:00:25.960156Z",
     "start_time": "2024-05-30T14:00:25.496235Z"
    }
   },
   "outputs": [
    {
     "name": "stdout",
     "output_type": "stream",
     "text": [
      "El número de filas duplicadas en las columnas 'APELLIDO PATERNO', 'APELLIDO MATERNO', 'NOMBRE (S)', 'MUNICIPIO' y 'ESTADO' es: 38221\n"
     ]
    },
    {
     "data": {
      "text/html": [
       "<div>\n",
       "<style scoped>\n",
       "    .dataframe tbody tr th:only-of-type {\n",
       "        vertical-align: middle;\n",
       "    }\n",
       "\n",
       "    .dataframe tbody tr th {\n",
       "        vertical-align: top;\n",
       "    }\n",
       "\n",
       "    .dataframe thead th {\n",
       "        text-align: right;\n",
       "    }\n",
       "</style>\n",
       "<table border=\"1\" class=\"dataframe\">\n",
       "  <thead>\n",
       "    <tr style=\"text-align: right;\">\n",
       "      <th></th>\n",
       "      <th>ESTADO_prod</th>\n",
       "      <th>MUNICIPIO_prod</th>\n",
       "      <th>ACUSE ESTATAL</th>\n",
       "      <th>APELLIDO PATERNO</th>\n",
       "      <th>APELLIDO MATERNO</th>\n",
       "      <th>NOMBRE (S)</th>\n",
       "      <th>PAQUETE</th>\n",
       "      <th>KEY_benef_Verificado</th>\n",
       "      <th>Entidad_inegi</th>\n",
       "      <th>Municipio_inegi</th>\n",
       "      <th>CVE_ENT</th>\n",
       "      <th>CVE_MUN</th>\n",
       "    </tr>\n",
       "  </thead>\n",
       "  <tbody>\n",
       "    <tr>\n",
       "      <th>2637</th>\n",
       "      <td>SINALOA</td>\n",
       "      <td>ANGOSTURA</td>\n",
       "      <td>23-PROESFE-ESTR-009922-E000-SL</td>\n",
       "      <td>ANGULO</td>\n",
       "      <td>PEREA</td>\n",
       "      <td>JAVIER</td>\n",
       "      <td>10.0</td>\n",
       "      <td>sinaloa-angostura</td>\n",
       "      <td>Sinaloa</td>\n",
       "      <td>Angostura</td>\n",
       "      <td>25</td>\n",
       "      <td>2</td>\n",
       "    </tr>\n",
       "    <tr>\n",
       "      <th>4888</th>\n",
       "      <td>SINALOA</td>\n",
       "      <td>BADIRAGUATO</td>\n",
       "      <td>23-PROESFE-ESTR-023990-E000-SL</td>\n",
       "      <td>LOPEZ</td>\n",
       "      <td>LOPEZ</td>\n",
       "      <td>FRANCISCO</td>\n",
       "      <td>2.0</td>\n",
       "      <td>sinaloa-badiraguato</td>\n",
       "      <td>Sinaloa</td>\n",
       "      <td>Badiraguato</td>\n",
       "      <td>25</td>\n",
       "      <td>3</td>\n",
       "    </tr>\n",
       "    <tr>\n",
       "      <th>5760</th>\n",
       "      <td>SINALOA</td>\n",
       "      <td>BADIRAGUATO</td>\n",
       "      <td>23-PROESFE-ESTR-023684-E000-SL</td>\n",
       "      <td>PEREZ</td>\n",
       "      <td>PEREZ</td>\n",
       "      <td>EMIGDIO</td>\n",
       "      <td>10.0</td>\n",
       "      <td>sinaloa-badiraguato</td>\n",
       "      <td>Sinaloa</td>\n",
       "      <td>Badiraguato</td>\n",
       "      <td>25</td>\n",
       "      <td>3</td>\n",
       "    </tr>\n",
       "    <tr>\n",
       "      <th>8203</th>\n",
       "      <td>SINALOA</td>\n",
       "      <td>CHOIX</td>\n",
       "      <td>23-PROESFE-ESTR-036610-E000-SL</td>\n",
       "      <td>PADILLA</td>\n",
       "      <td>REYES</td>\n",
       "      <td>ROSARIO</td>\n",
       "      <td>5.0</td>\n",
       "      <td>sinaloa-choix</td>\n",
       "      <td>Sinaloa</td>\n",
       "      <td>Choix</td>\n",
       "      <td>25</td>\n",
       "      <td>7</td>\n",
       "    </tr>\n",
       "    <tr>\n",
       "      <th>9349</th>\n",
       "      <td>SINALOA</td>\n",
       "      <td>CONCORDIA</td>\n",
       "      <td>23-PROESFE-ESTR-005179-E000-SL</td>\n",
       "      <td>CONTRERAS</td>\n",
       "      <td>LABRADOR</td>\n",
       "      <td>FRANCISCO</td>\n",
       "      <td>3.0</td>\n",
       "      <td>sinaloa-concordia</td>\n",
       "      <td>Sinaloa</td>\n",
       "      <td>Concordia</td>\n",
       "      <td>25</td>\n",
       "      <td>4</td>\n",
       "    </tr>\n",
       "    <tr>\n",
       "      <th>...</th>\n",
       "      <td>...</td>\n",
       "      <td>...</td>\n",
       "      <td>...</td>\n",
       "      <td>...</td>\n",
       "      <td>...</td>\n",
       "      <td>...</td>\n",
       "      <td>...</td>\n",
       "      <td>...</td>\n",
       "      <td>...</td>\n",
       "      <td>...</td>\n",
       "      <td>...</td>\n",
       "      <td>...</td>\n",
       "    </tr>\n",
       "    <tr>\n",
       "      <th>1680254</th>\n",
       "      <td>ZACATECAS</td>\n",
       "      <td>VILLA GARCIA</td>\n",
       "      <td>23-PRONAFE-FERT-049785-S000-ZS</td>\n",
       "      <td>LUGO</td>\n",
       "      <td>MUÑOZ</td>\n",
       "      <td>FRANCISCA</td>\n",
       "      <td>2.0</td>\n",
       "      <td>zacatecas-villa garcia</td>\n",
       "      <td>Zacatecas</td>\n",
       "      <td>Villa García</td>\n",
       "      <td>32</td>\n",
       "      <td>52</td>\n",
       "    </tr>\n",
       "    <tr>\n",
       "      <th>1680921</th>\n",
       "      <td>ZACATECAS</td>\n",
       "      <td>VILLA HIDALGO</td>\n",
       "      <td>23-PRONAFE-FERT-023799-S000-ZS</td>\n",
       "      <td>GUERRERO</td>\n",
       "      <td>DELGADO</td>\n",
       "      <td>VERONICA</td>\n",
       "      <td>2.0</td>\n",
       "      <td>zacatecas-villa hidalgo</td>\n",
       "      <td>Zacatecas</td>\n",
       "      <td>Villa Hidalgo</td>\n",
       "      <td>32</td>\n",
       "      <td>54</td>\n",
       "    </tr>\n",
       "    <tr>\n",
       "      <th>1681061</th>\n",
       "      <td>ZACATECAS</td>\n",
       "      <td>VILLA HIDALGO</td>\n",
       "      <td>23-PRONAFE-FERT-023982-S000-ZS</td>\n",
       "      <td>MARTINEZ</td>\n",
       "      <td>MARTINEZ</td>\n",
       "      <td>JOSE LUIS</td>\n",
       "      <td>2.0</td>\n",
       "      <td>zacatecas-villa hidalgo</td>\n",
       "      <td>Zacatecas</td>\n",
       "      <td>Villa Hidalgo</td>\n",
       "      <td>32</td>\n",
       "      <td>54</td>\n",
       "    </tr>\n",
       "    <tr>\n",
       "      <th>1681065</th>\n",
       "      <td>ZACATECAS</td>\n",
       "      <td>VILLA HIDALGO</td>\n",
       "      <td>23-PRONAFE-FERT-023988-S000-ZS</td>\n",
       "      <td>MARTINEZ</td>\n",
       "      <td>MARTINEZ</td>\n",
       "      <td>MA. DE LA LUZ</td>\n",
       "      <td>2.0</td>\n",
       "      <td>zacatecas-villa hidalgo</td>\n",
       "      <td>Zacatecas</td>\n",
       "      <td>Villa Hidalgo</td>\n",
       "      <td>32</td>\n",
       "      <td>54</td>\n",
       "    </tr>\n",
       "    <tr>\n",
       "      <th>1681080</th>\n",
       "      <td>ZACATECAS</td>\n",
       "      <td>VILLA HIDALGO</td>\n",
       "      <td>23-PRONAFE-FERT-024013-S000-ZS</td>\n",
       "      <td>MARTINEZ</td>\n",
       "      <td>RODRIGUEZ</td>\n",
       "      <td>MANUEL</td>\n",
       "      <td>2.0</td>\n",
       "      <td>zacatecas-villa hidalgo</td>\n",
       "      <td>Zacatecas</td>\n",
       "      <td>Villa Hidalgo</td>\n",
       "      <td>32</td>\n",
       "      <td>54</td>\n",
       "    </tr>\n",
       "  </tbody>\n",
       "</table>\n",
       "<p>38221 rows × 12 columns</p>\n",
       "</div>"
      ],
      "text/plain": [
       "        ESTADO_prod MUNICIPIO_prod                   ACUSE ESTATAL  \\\n",
       "2637        SINALOA      ANGOSTURA  23-PROESFE-ESTR-009922-E000-SL   \n",
       "4888        SINALOA    BADIRAGUATO  23-PROESFE-ESTR-023990-E000-SL   \n",
       "5760        SINALOA    BADIRAGUATO  23-PROESFE-ESTR-023684-E000-SL   \n",
       "8203        SINALOA          CHOIX  23-PROESFE-ESTR-036610-E000-SL   \n",
       "9349        SINALOA      CONCORDIA  23-PROESFE-ESTR-005179-E000-SL   \n",
       "...             ...            ...                             ...   \n",
       "1680254   ZACATECAS   VILLA GARCIA  23-PRONAFE-FERT-049785-S000-ZS   \n",
       "1680921   ZACATECAS  VILLA HIDALGO  23-PRONAFE-FERT-023799-S000-ZS   \n",
       "1681061   ZACATECAS  VILLA HIDALGO  23-PRONAFE-FERT-023982-S000-ZS   \n",
       "1681065   ZACATECAS  VILLA HIDALGO  23-PRONAFE-FERT-023988-S000-ZS   \n",
       "1681080   ZACATECAS  VILLA HIDALGO  23-PRONAFE-FERT-024013-S000-ZS   \n",
       "\n",
       "        APELLIDO PATERNO APELLIDO MATERNO     NOMBRE (S)  PAQUETE  \\\n",
       "2637              ANGULO            PEREA         JAVIER     10.0   \n",
       "4888               LOPEZ            LOPEZ      FRANCISCO      2.0   \n",
       "5760               PEREZ            PEREZ        EMIGDIO     10.0   \n",
       "8203             PADILLA            REYES        ROSARIO      5.0   \n",
       "9349           CONTRERAS         LABRADOR      FRANCISCO      3.0   \n",
       "...                  ...              ...            ...      ...   \n",
       "1680254             LUGO            MUÑOZ      FRANCISCA      2.0   \n",
       "1680921         GUERRERO          DELGADO       VERONICA      2.0   \n",
       "1681061         MARTINEZ         MARTINEZ      JOSE LUIS      2.0   \n",
       "1681065         MARTINEZ         MARTINEZ  MA. DE LA LUZ      2.0   \n",
       "1681080         MARTINEZ        RODRIGUEZ         MANUEL      2.0   \n",
       "\n",
       "            KEY_benef_Verificado Entidad_inegi Municipio_inegi  CVE_ENT  \\\n",
       "2637           sinaloa-angostura       Sinaloa       Angostura       25   \n",
       "4888         sinaloa-badiraguato       Sinaloa     Badiraguato       25   \n",
       "5760         sinaloa-badiraguato       Sinaloa     Badiraguato       25   \n",
       "8203               sinaloa-choix       Sinaloa           Choix       25   \n",
       "9349           sinaloa-concordia       Sinaloa       Concordia       25   \n",
       "...                          ...           ...             ...      ...   \n",
       "1680254   zacatecas-villa garcia     Zacatecas    Villa García       32   \n",
       "1680921  zacatecas-villa hidalgo     Zacatecas   Villa Hidalgo       32   \n",
       "1681061  zacatecas-villa hidalgo     Zacatecas   Villa Hidalgo       32   \n",
       "1681065  zacatecas-villa hidalgo     Zacatecas   Villa Hidalgo       32   \n",
       "1681080  zacatecas-villa hidalgo     Zacatecas   Villa Hidalgo       32   \n",
       "\n",
       "         CVE_MUN  \n",
       "2637           2  \n",
       "4888           3  \n",
       "5760           3  \n",
       "8203           7  \n",
       "9349           4  \n",
       "...          ...  \n",
       "1680254       52  \n",
       "1680921       54  \n",
       "1681061       54  \n",
       "1681065       54  \n",
       "1681080       54  \n",
       "\n",
       "[38221 rows x 12 columns]"
      ]
     },
     "execution_count": 11,
     "metadata": {},
     "output_type": "execute_result"
    }
   ],
   "source": [
    "# Valores duplicados en la columna nombre, apellido, municipio y estado\n",
    "duplicated_rows = duplicated_rows_beneficiarios.duplicated(subset=['APELLIDO PATERNO', 'APELLIDO MATERNO', 'NOMBRE (S)', 'MUNICIPIO_prod', 'ESTADO_prod'])\n",
    "number_of_duplicated_rows = duplicated_rows.sum()\n",
    "print(f\"El número de filas duplicadas en las columnas 'APELLIDO PATERNO', 'APELLIDO MATERNO', 'NOMBRE (S)', 'MUNICIPIO' y 'ESTADO' es: {number_of_duplicated_rows}\")\n",
    "lista_beneficiarios[duplicated_rows]\n"
   ]
  },
  {
   "cell_type": "markdown",
   "id": "d747a1246b8a3e9f",
   "metadata": {},
   "source": [
    "## 3.4 Decisiones sobre valores duplicados"
   ]
  },
  {
   "cell_type": "markdown",
   "id": "ebc83de8",
   "metadata": {},
   "source": [
    "Dado que este número es muy grande, entendemos que se debe a que posiblemente los listados publicados no son únicos. Posiblemente contenían información repetida. Procederemos a eliminar las filas duplicadas."
   ]
  },
  {
   "cell_type": "code",
   "execution_count": null,
   "id": "1d69c2d5e1a66154",
   "metadata": {
    "ExecuteTime": {
     "end_time": "2024-05-30T14:00:25.968448Z",
     "start_time": "2024-05-30T14:00:25.962165Z"
    }
   },
   "outputs": [],
   "source": [
    "# Chunk vacío a propósito.\n",
    "\n"
   ]
  },
  {
   "cell_type": "markdown",
   "id": "99b35d139190c0cf",
   "metadata": {},
   "source": [
    "## 3.5 Corrección de Tipos de Datos"
   ]
  },
  {
   "cell_type": "code",
   "execution_count": null,
   "id": "2a021f79eb6ed6b4",
   "metadata": {
    "ExecuteTime": {
     "end_time": "2024-05-30T14:00:27.128773Z",
     "start_time": "2024-05-30T14:00:25.970458Z"
    }
   },
   "outputs": [],
   "source": [
    "lista_productores = lista_productores.astype({\n",
    "    'ESTADO': 'str',\n",
    "    'MUNICIPIO': 'str',\n",
    "    'ACUSE': 'str',\n",
    "    'APELLIDO PATERNO': 'str',\n",
    "    'APELLIDO MATERNO': 'str',\n",
    "    'NOMBRE (S)': 'str',\n",
    "    'PAQUETE': 'int',\n",
    "    'NOM_MUN': 'str',\n",
    "    'NOM_ENT': 'str',\n",
    "    'CVE_MUN': 'str',\n",
    "    'CVE_ENT': 'str'\n",
    "})"
   ]
  },
  {
   "cell_type": "code",
   "execution_count": null,
   "id": "4316ff4522ebd923",
   "metadata": {
    "ExecuteTime": {
     "end_time": "2024-05-30T14:00:27.468579Z",
     "start_time": "2024-05-30T14:00:27.129777Z"
    }
   },
   "outputs": [],
   "source": [
    "lista_productores.info()"
   ]
  },
  {
   "cell_type": "code",
   "execution_count": null,
   "id": "b0dba7359d5ab3a6",
   "metadata": {
    "ExecuteTime": {
     "end_time": "2024-05-30T14:00:29.584878Z",
     "start_time": "2024-05-30T14:00:27.469585Z"
    }
   },
   "outputs": [],
   "source": [
    "\n",
    "lista_productores[['ESTADO_c', 'MUN_c']] = lista_productores['KEY_inegi'].str.split('-', expand=True)\n"
   ]
  },
  {
   "cell_type": "markdown",
   "id": "97c95e38a0218d69",
   "metadata": {},
   "source": [
    "# 4. Análisis Univariado"
   ]
  },
  {
   "cell_type": "markdown",
   "id": "52d74a011daf1b62",
   "metadata": {},
   "source": [
    "## 4.1 Variables Numéricas\n",
    "\n",
    "En este caso, la única variable númerica es la de paquetes."
   ]
  },
  {
   "cell_type": "code",
   "execution_count": null,
   "id": "f2df6023d37d2bf5",
   "metadata": {
    "ExecuteTime": {
     "end_time": "2024-05-30T14:00:29.825447Z",
     "start_time": "2024-05-30T14:00:29.585920Z"
    }
   },
   "outputs": [],
   "source": [
    "# Filtrar los datos para estar dentro del rango de interés\n",
    "paquetes = lista_productores['PAQUETE']\n",
    "\n",
    "# Crear el histograma con un mayor número de bins\n",
    "plt.figure(figsize=(10, 6))\n",
    "barras = plt.hist(paquetes,bins=8,color='skyblue', edgecolor='black')\n",
    "plt.xlabel('Numero de paquetes')\n",
    "plt.ylabel('Cantidad')\n",
    "plt.title('Histograma de Paquetes')\n",
    "plt.grid(axis='y', linestyle='--', alpha=0.7)\n",
    "\n",
    "# Recorrer las barras\n",
    "for i in range(len(barras[0])):\n",
    "    # Obtener el valor de la barra\n",
    "    valor = barras[0][i]\n",
    "\n",
    "     # Calcular la posición x de la anotación como el centro de la barra\n",
    "    bar_width = barras[1][1] - barras[1][0]  # Ancho de las barras\n",
    "    x_pos = barras[1][i] + bar_width / 2  # Posición x del centro de la barra\n",
    "\n",
    "    # Mostrar el valor encima de la barra\n",
    "    plt.annotate(f\"{valor:.0f}\", xy=(x_pos, valor),\n",
    "                 ha=\"center\", va=\"bottom\", fontsize=8, color=\"black\")\n",
    "\n",
    "plt.show()"
   ]
  },
  {
   "cell_type": "code",
   "execution_count": null,
   "id": "cf00f0eb9ba48015",
   "metadata": {
    "ExecuteTime": {
     "end_time": "2024-05-30T14:00:30.050627Z",
     "start_time": "2024-05-30T14:00:29.826546Z"
    }
   },
   "outputs": [],
   "source": [
    "# Contar el número de cada tipo de 'PAQUETE'\n",
    "grouped_df = lista_productores['PAQUETE'].value_counts()\n",
    "\n",
    "# Calcular el porcentaje relativo de cada tipo de paquete\n",
    "percentage_df = (grouped_df / grouped_df.sum()) * 100\n",
    "\n",
    "# Crear el gráfico de barras apiladas\n",
    "percentage_df.plot(kind='barh', stacked=True, color='skyblue', edgecolor='black', figsize=(10, 6))\n",
    "\n",
    "plt.xlabel('Porcentaje (%)')\n",
    "plt.ylabel('Tipo de paquete')\n",
    "plt.title('Porcentaje relativo a solicitud de cantidad de paquete')\n",
    "plt.grid(axis='x', linestyle='--', alpha=0.7)\n",
    "\n",
    "plt.show()"
   ]
  },
  {
   "cell_type": "code",
   "execution_count": null,
   "id": "228fab5458820608",
   "metadata": {
    "ExecuteTime": {
     "end_time": "2024-05-30T14:00:30.255506Z",
     "start_time": "2024-05-30T14:00:30.052634Z"
    }
   },
   "outputs": [],
   "source": [
    "# Contar el número de cada tipo de 'PAQUETE'\n",
    "grouped_df = lista_productores['PAQUETE'].value_counts()\n",
    "\n",
    "# Calcular el porcentaje relativo de cada tipo de paquete\n",
    "percentage_df = (grouped_df / grouped_df.sum()) * 100\n",
    "\n",
    "# Crear el gráfico de barras\n",
    "plt.figure(figsize=(10, 6))\n",
    "barras = plt.bar(percentage_df.index, percentage_df.values, color='skyblue', edgecolor='black')\n",
    "plt.xlabel('Tipo de paquete')\n",
    "plt.ylabel('Porcentaje (%)')\n",
    "plt.title('Porcentaje relativo de cada tipo de paquete')\n",
    "plt.grid(axis='y', linestyle='--', alpha=0.7)\n",
    "\n",
    "# Añadir anotaciones a las barras\n",
    "for bar in barras:\n",
    "    plt.text(bar.get_x() + bar.get_width()/2, bar.get_height(),\n",
    "             f'{bar.get_height():.2f}%',\n",
    "             ha='center', va='bottom')\n",
    "\n",
    "plt.show()"
   ]
  },
  {
   "cell_type": "markdown",
   "id": "bd76c6ea67d0e6a8",
   "metadata": {},
   "source": [
    "## 4.2 Variables Categóricas"
   ]
  },
  {
   "cell_type": "code",
   "execution_count": null,
   "id": "b77e2097b921ee83",
   "metadata": {
    "ExecuteTime": {
     "end_time": "2024-05-30T14:00:30.586562Z",
     "start_time": "2024-05-30T14:00:30.257512Z"
    }
   },
   "outputs": [],
   "source": [
    "# Agrupar los datos por 'ESTADO' y sumar el número de 'PAQUETE'\n",
    "grouped_df = lista_productores.groupby(\"ESTADO_c\")[\"PAQUETE\"].sum()\n",
    "\n",
    "# Ordenar los datos de forma descendente\n",
    "grouped_df = grouped_df.sort_values(ascending=True)\n",
    "\n",
    "# Crear el gráfico de barras horizontal\n",
    "plt.figure(figsize=(10, 6))\n",
    "barras = plt.barh(grouped_df.index, grouped_df.values, color='skyblue', edgecolor='black')\n",
    "plt.xlabel('Cantidad de paquetes')\n",
    "plt.ylabel('Estados')\n",
    "plt.title('Cantidad de paquetes por Estado')\n",
    "plt.grid(axis='x', linestyle='--', alpha=0.7)\n",
    "\n",
    "# Añadir anotaciones a las barras\n",
    "for bar in barras:\n",
    "    plt.text(bar.get_width(), bar.get_y() + bar.get_height()/2,\n",
    "             f'{bar.get_width():.0f}', \n",
    "             va='center', ha='left')\n",
    "\n",
    "plt.show()"
   ]
  },
  {
   "cell_type": "code",
   "execution_count": null,
   "id": "8c067b42ebeeab61",
   "metadata": {
    "ExecuteTime": {
     "end_time": "2024-05-30T14:00:30.818430Z",
     "start_time": "2024-05-30T14:00:30.587566Z"
    }
   },
   "outputs": [],
   "source": [
    "# Agrupar los datos por 'ESTADO' y sumar el número de 'PAQUETE'\n",
    "grouped_df = lista_productores.groupby(\"ESTADO_c\")[\"PAQUETE\"].count()\n",
    "\n",
    "# Ordenar los datos de forma descendente\n",
    "grouped_df = grouped_df.sort_values(ascending=True)\n",
    "\n",
    "# Crear el gráfico de barras horizontal\n",
    "plt.figure(figsize=(10, 6))\n",
    "barras = plt.barh(grouped_df.index, grouped_df.values, color='skyblue', edgecolor='black')\n",
    "plt.xlabel('Cantidad de paquetes')\n",
    "plt.ylabel('Estados')\n",
    "plt.title('Cantidad productores autorizados por Estado')\n",
    "plt.grid(axis='x', linestyle='--', alpha=0.7)\n",
    "\n",
    "# Añadir anotaciones a las barras\n",
    "for bar in barras:\n",
    "    plt.text(bar.get_width(), bar.get_y() + bar.get_height()/2,\n",
    "             f'{bar.get_width():.0f}', \n",
    "             va='center', ha='left')\n",
    "\n",
    "plt.show()"
   ]
  },
  {
   "cell_type": "code",
   "execution_count": null,
   "id": "df0c8fa170dad8b2",
   "metadata": {
    "ExecuteTime": {
     "end_time": "2024-05-30T14:00:31.140701Z",
     "start_time": "2024-05-30T14:00:30.819435Z"
    }
   },
   "outputs": [],
   "source": [
    "# Estado y numero de paquetes filtrar los datos donde la solicitud de'PAQUETE' es 1\n",
    "lista_productores_filtrada = lista_productores[lista_productores['PAQUETE'] == 1]\n",
    "\n",
    "# Agrupar los datos filtrados por 'ESTADO' y contar el número de 'PAQUETE'\n",
    "grouped_df = lista_productores_filtrada.groupby(\"ESTADO_c\")[\"PAQUETE\"].count()\n",
    "\n",
    "# Ordenar los datos de forma descendente\n",
    "grouped_df = grouped_df.sort_values(ascending=True)\n",
    "\n",
    "# Crear el gráfico de barras horizontal\n",
    "plt.figure(figsize=(10, 6))\n",
    "barras = plt.barh(grouped_df.index, grouped_df.values, color='skyblue', edgecolor='black')\n",
    "plt.xlabel('Cantidad de paquetes')\n",
    "plt.ylabel('Estado')\n",
    "plt.title('Cantidad productores autorizados por Estado')\n",
    "plt.grid(axis='x', linestyle='--', alpha=0.7)\n",
    "\n",
    "# Añadir anotaciones a las barras\n",
    "for bar in barras:\n",
    "    plt.text(bar.get_width(), bar.get_y() + bar.get_height()/2,\n",
    "             f'{bar.get_width():.0f}', \n",
    "             va='center', ha='left')\n",
    "\n",
    "plt.show()"
   ]
  },
  {
   "cell_type": "code",
   "execution_count": null,
   "id": "ce2a9a3132501bef",
   "metadata": {
    "ExecuteTime": {
     "end_time": "2024-05-30T14:00:31.608778Z",
     "start_time": "2024-05-30T14:00:31.141708Z"
    }
   },
   "outputs": [],
   "source": [
    "# Filtrar los datos donde 'PAQUETE' es 2\n",
    "lista_productores_filtrada = lista_productores[lista_productores['PAQUETE'] == 2]\n",
    "\n",
    "# Agrupar los datos filtrados por 'ESTADO' y contar el número de 'PAQUETE'\n",
    "grouped_df = lista_productores_filtrada.groupby(\"ESTADO_c\")[\"PAQUETE\"].count()\n",
    "\n",
    "# Ordenar los datos de forma descendente\n",
    "grouped_df = grouped_df.sort_values(ascending=True)\n",
    "\n",
    "# Crear el gráfico de barras horizontal\n",
    "plt.figure(figsize=(10, 6))\n",
    "barras = plt.barh(grouped_df.index, grouped_df.values, color='skyblue', edgecolor='black')\n",
    "plt.xlabel('Cantidad de paquetes')\n",
    "plt.ylabel('Estado')\n",
    "plt.title('Cantidad de paquetes solicitados igual 2 por Estado')\n",
    "plt.grid(axis='x', linestyle='--', alpha=0.7)\n",
    "\n",
    "# Añadir anotaciones a las barras\n",
    "for bar in barras:\n",
    "    plt.text(bar.get_width(), bar.get_y() + bar.get_height()/2,\n",
    "             f'{bar.get_width():.0f}', \n",
    "             va='center', ha='left')\n",
    "\n",
    "plt.show()"
   ]
  },
  {
   "cell_type": "code",
   "execution_count": null,
   "id": "98263479277d32d9",
   "metadata": {
    "ExecuteTime": {
     "end_time": "2024-05-30T14:00:32.285814Z",
     "start_time": "2024-05-30T14:00:31.612436Z"
    }
   },
   "outputs": [],
   "source": [
    "# Filtrar los datos donde 'PAQUETE' es 1 y 2\n",
    "lista_productores_filtrada1 = lista_productores[lista_productores['PAQUETE'] == 1]\n",
    "lista_productores_filtrada2 = lista_productores[lista_productores['PAQUETE'] == 2]\n",
    "\n",
    "# Agrupar los datos filtrados por 'ESTADO' y contar el número de 'PAQUETE'\n",
    "grouped_df1 = lista_productores_filtrada1.groupby(\"ESTADO_c\")[\"PAQUETE\"].count()\n",
    "grouped_df2 = lista_productores_filtrada2.groupby(\"ESTADO_c\")[\"PAQUETE\"].count()\n",
    "\n",
    "# Crear el gráfico de barras horizontal\n",
    "plt.figure(figsize=(16, 6))\n",
    "\n",
    "# Asegurarse de que los índices de los dos DataFrames son los mismos\n",
    "index = np.union1d(grouped_df1.index, grouped_df2.index)\n",
    "grouped_df1 = grouped_df1.reindex(index, fill_value=0)\n",
    "grouped_df2 = grouped_df2.reindex(index, fill_value=0)\n",
    "\n",
    "# Crear las barras para 'PAQUETE' igual a 1 y 2\n",
    "barras1 = plt.barh(grouped_df1.index, grouped_df1.values, color='skyblue', edgecolor='black')\n",
    "barras2 = plt.barh(grouped_df2.index, grouped_df2.values, color='orange', edgecolor='black', left=grouped_df1.values)\n",
    "\n",
    "plt.xlabel('Cantidad de paquetes')\n",
    "plt.ylabel('Estado')\n",
    "plt.title('Cantidad de paquetes por Estado (separado por valor de PAQUETE)')\n",
    "plt.grid(axis='x', linestyle='--', alpha=0.7)\n",
    "plt.legend(['PAQUETE = 1', 'PAQUETE = 2'])\n",
    "\n",
    "# Añadir anotaciones a las barras\n",
    "for bar1, bar2 in zip(barras1, barras2):\n",
    "    plt.text(bar1.get_width(), bar1.get_y() + bar1.get_height()/2,\n",
    "             f'{bar1.get_width():.0f}',\n",
    "             va='center', ha='left')\n",
    "    plt.text(bar1.get_width() + bar2.get_width(), bar2.get_y() + bar2.get_height()/2,\n",
    "             f'{bar2.get_width():.0f}',\n",
    "             va='center', ha='left')"
   ]
  },
  {
   "cell_type": "code",
   "execution_count": null,
   "id": "4b27b62077c0e889",
   "metadata": {
    "ExecuteTime": {
     "end_time": "2024-05-30T14:00:32.657823Z",
     "start_time": "2024-05-30T14:00:32.287821Z"
    }
   },
   "outputs": [],
   "source": [
    "# Agrupar los datos por 'NOM_ENT' y 'PAQUETE', y contar el número de 'PAQUETE'\n",
    "grouped_df = lista_productores.groupby([\"ESTADO_c\", \"PAQUETE\"]).size().unstack(fill_value=0)\n",
    "\n",
    "# Calcular el porcentaje relativo de cada tipo de paquete por estado\n",
    "percentage_df = grouped_df.div(grouped_df.sum(axis=1), axis=0) * 100\n",
    "\n",
    "# Crear el gráfico de barras apiladas\n",
    "fig, ax = plt.subplots(figsize=(10, 6))\n",
    "percentage_df.plot(kind='barh', stacked=True, edgecolor='black', ax=ax)\n",
    "\n",
    "plt.xlabel('Porcentaje de paquetes (%)')\n",
    "plt.ylabel('Estado')\n",
    "plt.title('Porcentaje relativo a la cantidad de paquetes solicitados por Estado')\n",
    "plt.legend(title='PAQUETE', bbox_to_anchor=(1.05, 1), loc='upper left')\n",
    "plt.grid(axis='x', linestyle='--', alpha=0.7)\n",
    "\n",
    "# Añadir anotaciones a las barras\n",
    "for p in ax.patches:\n",
    "    width, height = p.get_width(), p.get_height()\n",
    "    x, y = p.get_xy() \n",
    "    if width > 0:\n",
    "        ax.text(x+width/2, \n",
    "                y+height/2, \n",
    "                '{:.0f} %'.format(width), \n",
    "                horizontalalignment='center', \n",
    "                verticalalignment='center')\n",
    "\n",
    "plt.show()"
   ]
  },
  {
   "cell_type": "markdown",
   "id": "67bc257af2c222a0",
   "metadata": {},
   "source": [
    "# 5. Análisis Multivariado"
   ]
  },
  {
   "cell_type": "code",
   "execution_count": null,
   "id": "e7011c96820ecf4a",
   "metadata": {
    "ExecuteTime": {
     "end_time": "2024-05-30T14:00:32.942401Z",
     "start_time": "2024-05-30T14:00:32.658830Z"
    }
   },
   "outputs": [],
   "source": [
    "# Paquetes por municipio top20 \n",
    "grouped_df = lista_productores.groupby(\"KEY_inegi\")[\"PAQUETE\"].count() \n",
    "\n",
    "# Ordenar los resultados en orden descendente y seleccionar los primeros 20\n",
    "top20_df = grouped_df.sort_values(ascending=False).head(30)\n",
    "\n",
    "# Crear el gráfico de barras\n",
    "plt.figure(figsize=(10, 6))\n",
    "barras = plt.barh(top20_df.index, top20_df.values, color='skyblue', edgecolor='black')\n",
    "plt.xlabel('Suma de paquetes')\n",
    "plt.ylabel('key_inegi')\n",
    "plt.title('Top 30 key_inegi con la suma más alta de paquetes')\n",
    "plt.grid(axis='x', linestyle='--', alpha=0.7)\n",
    "\n",
    "# Añadir anotaciones a las barras\n",
    "for bar in barras:\n",
    "    plt.text(bar.get_width(), bar.get_y() + bar.get_height()/2,\n",
    "             f'{bar.get_width():.0f}',\n",
    "             va='center', ha='left')\n",
    "\n",
    "plt.show()"
   ]
  },
  {
   "cell_type": "code",
   "execution_count": null,
   "id": "426f948b7c62cbe2",
   "metadata": {
    "ExecuteTime": {
     "end_time": "2024-05-30T14:00:33.279836Z",
     "start_time": "2024-05-30T14:00:32.944418Z"
    }
   },
   "outputs": [],
   "source": [
    "# Paquetes por municipio top20 \n",
    "grouped_df = lista_productores.groupby(\"KEY_inegi\")[\"PAQUETE\"].count()\n",
    "\n",
    "# Ordenar los resultados en orden descendente y seleccionar los primeros 20\n",
    "top20_df = grouped_df.sort_values(ascending=False).head(30)\n",
    "\n",
    "# Crear el gráfico de barras\n",
    "plt.figure(figsize=(10, 6))\n",
    "barras = plt.barh(top20_df.index, top20_df.values, color='skyblue', edgecolor='black')\n",
    "plt.xlabel('Suma de paquetes')\n",
    "plt.ylabel('key_inegi')\n",
    "plt.title('Top 30 municipios con más productores autorizados')\n",
    "plt.grid(axis='x', linestyle='--', alpha=0.7)\n",
    "\n",
    "# Añadir anotaciones a las barras\n",
    "for bar in barras:\n",
    "    plt.text(bar.get_width(), bar.get_y() + bar.get_height()/2,\n",
    "             f'{bar.get_width():.0f}',\n",
    "             va='center', ha='left')\n",
    "\n",
    "plt.show()"
   ]
  },
  {
   "cell_type": "code",
   "execution_count": null,
   "id": "67a41329520c3851",
   "metadata": {
    "ExecuteTime": {
     "end_time": "2024-05-30T14:00:34.716915Z",
     "start_time": "2024-05-30T14:00:33.281842Z"
    }
   },
   "outputs": [],
   "source": [
    "# Saber que personas tienen mas paquetes\n",
    "# Agrupar los datos por 'APELLIDO PATERNO', 'APELLIDO MATERNO', 'NOMBRE (S)' y sumar el número de 'PAQUETE'\n",
    "filtered_df = lista_productores.loc[(lista_productores[\"APELLIDO PATERNO\"] != 'unknown') & \n",
    "                                    (lista_productores[\"APELLIDO MATERNO\"] != 'unknown') & \n",
    "                                    (lista_productores[\"NOMBRE (S)\"] != 'unknown')]\n",
    "\n",
    "# Agrupar los datos filtrados por 'APELLIDO PATERNO', 'APELLIDO MATERNO', 'NOMBRE (S)' y sumar el número de 'PAQUETE'\n",
    "grouped_df = filtered_df.groupby([\"APELLIDO PATERNO\", \"APELLIDO MATERNO\", \"NOMBRE (S)\"])[\"PAQUETE\"].sum() # Mostrar sin key_inegi\n",
    "\n",
    "# Ordenar los resultados en orden descendente y seleccionar los primeros 20\n",
    "top20_df = grouped_df.sort_values(ascending=False).head(20)\n",
    "\n",
    "# Convertir el índice multi-nivel a una cadena\n",
    "top20_df.index = top20_df.index.map(lambda x: ', '.join(x))\n",
    "\n",
    "# Crear el gráfico de barras\n",
    "plt.figure(figsize=(10, 6))\n",
    "barras = plt.barh(top20_df.index, top20_df.values, color='skyblue', edgecolor='black')\n",
    "plt.xlabel('Suma de paquetes')\n",
    "plt.ylabel('Nombre')\n",
    "plt.title('Top 20 nombres con la suma más alta de paquetes (excluyendo \\'unknown\\')')\n",
    "plt.grid(axis='x', linestyle='--', alpha=0.7)\n",
    "\n",
    "# Añadir anotaciones a las barras\n",
    "for bar in barras:\n",
    "    plt.text(bar.get_width(), bar.get_y() + bar.get_height()/2,\n",
    "             f'{bar.get_width():.0f}',\n",
    "             va='center', ha='left')\n",
    "\n",
    "plt.show()"
   ]
  },
  {
   "cell_type": "code",
   "execution_count": null,
   "id": "5275a6adc4f7935b",
   "metadata": {},
   "outputs": [],
   "source": [
    " # Coincidencias de APELLIDO PATERNO, APELLIDO MATERNO y MUNICIPIO (Familias)\n",
    "# Saber que personas tienen mas paquetes\n",
    "# Agrupar los datos por 'APELLIDO PATERNO', 'APELLIDO MATERNO', 'NOMBRE (S)' y sumar el número de 'PAQUETE'\n",
    "filtered_df = lista_productores.loc[(lista_productores[\"APELLIDO PATERNO\"] != 'unknown') & \n",
    "                                    (lista_productores[\"APELLIDO MATERNO\"] != 'unknown')]\n",
    "\n",
    "# Agrupar los datos filtrados por 'APELLIDO PATERNO', 'APELLIDO MATERNO', 'NOMBRE (S)' y sumar el número de 'PAQUETE'\n",
    "grouped_df = filtered_df.groupby([\"APELLIDO PATERNO\", \"APELLIDO MATERNO\",'KEY_inegi'])[\"PAQUETE\"].sum() # Mostrar sin key_inegi\n",
    "\n",
    "# Ordenar los resultados en orden descendente y seleccionar los primeros 20\n",
    "top20_df = grouped_df.sort_values(ascending=False).head(20)\n",
    "\n",
    "# Convertir el índice multi-nivel a una cadena\n",
    "top20_df.index = top20_df.index.map(lambda x: ', '.join(x))\n",
    "\n",
    "# Crear el gráfico de barras\n",
    "plt.figure(figsize=(10, 6))\n",
    "barras = plt.barh(top20_df.index, top20_df.values, color='skyblue', edgecolor='black')\n",
    "plt.xlabel('Suma de paquetes')\n",
    "plt.ylabel('Nombre')\n",
    "plt.title('Top 20 nombres con la suma más alta de paquetes (excluyendo \\'unknown\\')')\n",
    "plt.grid(axis='x', linestyle='--', alpha=0.7)\n",
    "\n",
    "# Añadir anotaciones a las barras\n",
    "for bar in barras:\n",
    "    plt.text(bar.get_width(), bar.get_y() + bar.get_height()/2,\n",
    "             f'{bar.get_width():.0f}',\n",
    "             va='center', ha='left')\n",
    "\n",
    "plt.show()"
   ]
  },
  {
   "cell_type": "code",
   "execution_count": null,
   "id": "9cc57d6dc55a9926",
   "metadata": {},
   "outputs": [],
   "source": []
  }
 ],
 "metadata": {
  "kernelspec": {
   "display_name": "Python 3",
   "language": "python",
   "name": "python3"
  },
  "language_info": {
   "codemirror_mode": {
    "name": "ipython",
    "version": 3
   },
   "file_extension": ".py",
   "mimetype": "text/x-python",
   "name": "python",
   "nbconvert_exporter": "python",
   "pygments_lexer": "ipython3",
   "version": "3.11.7"
  }
 },
 "nbformat": 4,
 "nbformat_minor": 5
}
