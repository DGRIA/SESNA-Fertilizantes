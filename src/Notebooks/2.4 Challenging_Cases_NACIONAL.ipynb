{
 "cells": [
  {
   "cell_type": "code",
   "id": "1f3d289b",
   "metadata": {
    "ExecuteTime": {
     "end_time": "2024-07-09T09:32:10.982010Z",
     "start_time": "2024-07-09T09:32:10.972968Z"
    }
   },
   "source": [
    "import pandas as pd\n",
    "import unicodedata\n",
    "import re\n",
    "import numpy as np"
   ],
   "outputs": [],
   "execution_count": 30
  },
  {
   "metadata": {
    "ExecuteTime": {
     "end_time": "2024-07-09T09:32:11.153040Z",
     "start_time": "2024-07-09T09:32:11.147638Z"
    }
   },
   "cell_type": "code",
   "source": [
    "# Función para remover acentos y caracteres especiales\n",
    "def remover_acentos(cadena):\n",
    "    cadena = unicodedata.normalize('NFD', cadena)\n",
    "    cadena = cadena.encode('ascii', 'ignore').decode('utf-8')\n",
    "    return cadena"
   ],
   "id": "264be6306cf4e048",
   "outputs": [],
   "execution_count": 31
  },
  {
   "metadata": {},
   "cell_type": "markdown",
   "source": "# Cargar los datasets",
   "id": "23776c1360d1854e"
  },
  {
   "cell_type": "code",
   "id": "687d55a7",
   "metadata": {
    "ExecuteTime": {
     "end_time": "2024-07-09T09:32:14.761229Z",
     "start_time": "2024-07-09T09:32:12.009911Z"
    }
   },
   "source": "beneficiarios_complete = pd.read_csv('../../data/productores_beneficiarios/LISTADO_BENEFICIARIOS2023_COMPLETO.csv')",
   "outputs": [],
   "execution_count": 32
  },
  {
   "cell_type": "code",
   "id": "ba5cc46d",
   "metadata": {
    "ExecuteTime": {
     "end_time": "2024-07-09T09:32:17.434856Z",
     "start_time": "2024-07-09T09:32:14.764239Z"
    }
   },
   "source": "autorizados_complete = pd.read_csv('../../data/productores_autorizados/listado_productores_complete.csv')",
   "outputs": [],
   "execution_count": 33
  },
  {
   "cell_type": "code",
   "id": "fc72d63b",
   "metadata": {
    "ExecuteTime": {
     "end_time": "2024-07-09T09:32:18.000540Z",
     "start_time": "2024-07-09T09:32:17.435871Z"
    }
   },
   "source": "benef_2019 = pd.read_csv('../../data/productores_beneficiarios 2019-2022/fertilizantes_2019.csv')",
   "outputs": [],
   "execution_count": 34
  },
  {
   "cell_type": "code",
   "id": "2d9461b8",
   "metadata": {
    "ExecuteTime": {
     "end_time": "2024-07-09T09:32:18.757400Z",
     "start_time": "2024-07-09T09:32:18.001554Z"
    }
   },
   "source": "benef_2020 = pd.read_csv('../../data/productores_beneficiarios 2019-2022/listado_beneficiarios_fertilizantes_2020.csv')",
   "outputs": [],
   "execution_count": 35
  },
  {
   "cell_type": "code",
   "id": "1ae9ddd4",
   "metadata": {
    "ExecuteTime": {
     "end_time": "2024-07-09T09:32:18.764193Z",
     "start_time": "2024-07-09T09:32:18.758414Z"
    }
   },
   "source": [
    "print(\"Listado de Beneficiarios 2023: \", beneficiarios_complete.shape)\n",
    "print(\"Listado de Productores Autorizados: \", autorizados_complete.shape)\n",
    "print(\"Listado de Beneficiarios 2019: \", benef_2019.shape)\n",
    "print(\"Listado de Beneficiarios 2020: \", benef_2020.shape)"
   ],
   "outputs": [
    {
     "name": "stdout",
     "output_type": "stream",
     "text": [
      "Listado de Beneficiarios 2023:  (1680105, 12)\n",
      "Listado de Productores Autorizados:  (1628170, 12)\n",
      "Listado de Beneficiarios 2019:  (278550, 16)\n",
      "Listado de Beneficiarios 2020:  (369124, 16)\n"
     ]
    }
   ],
   "execution_count": 36
  },
  {
   "metadata": {},
   "cell_type": "markdown",
   "source": "# Valores 'Nacional' en Beneficiarios de 2019",
   "id": "7c178faea7a0eca0"
  },
  {
   "cell_type": "code",
   "id": "9d86b8d6",
   "metadata": {
    "ExecuteTime": {
     "end_time": "2024-07-09T09:32:18.810290Z",
     "start_time": "2024-07-09T09:32:18.766206Z"
    }
   },
   "source": [
    "# Filtrar las filas donde ENTIDAD es 'NACIONAL'\n",
    "benef_2019_nacional = benef_2019.loc[(benef_2019['ENTIDAD'] == 'NACIONAL') &\n",
    "                                     (benef_2019['MUNICIPIO'] == 'NACIONAL') &\n",
    "                                     (benef_2019['LOCALIDAD'] == 'NACIONAL')]\n",
    "\n",
    "benef_2019_nacional['FECHA'] = \"2019\"\n",
    "print(\"Listado de beneficiario con valores NACIONAL: \", benef_2019_nacional.shape)"
   ],
   "outputs": [
    {
     "name": "stdout",
     "output_type": "stream",
     "text": [
      "Listado de beneficiario con valores NACIONAL:  (3524, 16)\n"
     ]
    },
    {
     "name": "stderr",
     "output_type": "stream",
     "text": [
      "C:\\Users\\aorti\\AppData\\Local\\Temp\\ipykernel_103200\\1377694750.py:6: SettingWithCopyWarning: \n",
      "A value is trying to be set on a copy of a slice from a DataFrame.\n",
      "Try using .loc[row_indexer,col_indexer] = value instead\n",
      "\n",
      "See the caveats in the documentation: https://pandas.pydata.org/pandas-docs/stable/user_guide/indexing.html#returning-a-view-versus-a-copy\n",
      "  benef_2019_nacional['FECHA'] = \"2019\"\n"
     ]
    }
   ],
   "execution_count": 37
  },
  {
   "cell_type": "code",
   "id": "4fd3f6f9",
   "metadata": {
    "ExecuteTime": {
     "end_time": "2024-07-09T09:32:18.825147Z",
     "start_time": "2024-07-09T09:32:18.812296Z"
    }
   },
   "source": "benef_2019_nacional.head()",
   "outputs": [
    {
     "data": {
      "text/plain": [
       "                    BENEFICIARIO      ZONA   ENTIDAD MUNICIPIO LOCALIDAD  \\\n",
       "14    SANCHEZ RODRIGUEZ MARCELO   NACIONAL  NACIONAL  NACIONAL  NACIONAL   \n",
       "96            GARCIA NAVA MARIA   NACIONAL  NACIONAL  NACIONAL  NACIONAL   \n",
       "115      ROGEL ABELAR ELIZABETH   NACIONAL  NACIONAL  NACIONAL  NACIONAL   \n",
       "152        DEGANTE ALDAY ESTHER   NACIONAL  NACIONAL  NACIONAL  NACIONAL   \n",
       "339  HERNANDEZ MORALES BERNARDO   NACIONAL  NACIONAL  NACIONAL  NACIONAL   \n",
       "\n",
       "    ESTRATIFICACIÓN       PROGRAMA     COMPONENTE  SUBCOMPONENTE  \\\n",
       "14        SC-CONAPO  FERTILIZANTES  FERTILIZANTES  FERTILIZANTES   \n",
       "96        SC-CONAPO  FERTILIZANTES  FERTILIZANTES  FERTILIZANTES   \n",
       "115       SC-CONAPO  FERTILIZANTES  FERTILIZANTES  FERTILIZANTES   \n",
       "152       SC-CONAPO  FERTILIZANTES  FERTILIZANTES  FERTILIZANTES   \n",
       "339       SC-CONAPO  FERTILIZANTES  FERTILIZANTES  FERTILIZANTES   \n",
       "\n",
       "                  PRODUCTO FECHA  MONTO FEDERAL          APOYO ACTIVIDAD  \\\n",
       "14   Cultivo de maíz grano  2019        2430.55  Fertilizantes   AGRARIA   \n",
       "96   Cultivo de maíz grano  2019        2430.55  Fertilizantes   AGRARIA   \n",
       "115  Cultivo de maíz grano  2019         239.00  Fertilizantes   AGRARIA   \n",
       "152  Cultivo de maíz grano  2019        2430.55  Fertilizantes   AGRARIA   \n",
       "339  Cultivo de maíz grano  2019        2191.55  Fertilizantes   AGRARIA   \n",
       "\n",
       "     ESLABÓN CICLO AGRÍCOLA  \n",
       "14   AGRARIA         PV2019  \n",
       "96   AGRARIA         PV2019  \n",
       "115  AGRARIA         PV2019  \n",
       "152  AGRARIA         PV2019  \n",
       "339  AGRARIA         PV2019  "
      ],
      "text/html": [
       "<div>\n",
       "<style scoped>\n",
       "    .dataframe tbody tr th:only-of-type {\n",
       "        vertical-align: middle;\n",
       "    }\n",
       "\n",
       "    .dataframe tbody tr th {\n",
       "        vertical-align: top;\n",
       "    }\n",
       "\n",
       "    .dataframe thead th {\n",
       "        text-align: right;\n",
       "    }\n",
       "</style>\n",
       "<table border=\"1\" class=\"dataframe\">\n",
       "  <thead>\n",
       "    <tr style=\"text-align: right;\">\n",
       "      <th></th>\n",
       "      <th>BENEFICIARIO</th>\n",
       "      <th>ZONA</th>\n",
       "      <th>ENTIDAD</th>\n",
       "      <th>MUNICIPIO</th>\n",
       "      <th>LOCALIDAD</th>\n",
       "      <th>ESTRATIFICACIÓN</th>\n",
       "      <th>PROGRAMA</th>\n",
       "      <th>COMPONENTE</th>\n",
       "      <th>SUBCOMPONENTE</th>\n",
       "      <th>PRODUCTO</th>\n",
       "      <th>FECHA</th>\n",
       "      <th>MONTO FEDERAL</th>\n",
       "      <th>APOYO</th>\n",
       "      <th>ACTIVIDAD</th>\n",
       "      <th>ESLABÓN</th>\n",
       "      <th>CICLO AGRÍCOLA</th>\n",
       "    </tr>\n",
       "  </thead>\n",
       "  <tbody>\n",
       "    <tr>\n",
       "      <th>14</th>\n",
       "      <td>SANCHEZ RODRIGUEZ MARCELO</td>\n",
       "      <td>NACIONAL</td>\n",
       "      <td>NACIONAL</td>\n",
       "      <td>NACIONAL</td>\n",
       "      <td>NACIONAL</td>\n",
       "      <td>SC-CONAPO</td>\n",
       "      <td>FERTILIZANTES</td>\n",
       "      <td>FERTILIZANTES</td>\n",
       "      <td>FERTILIZANTES</td>\n",
       "      <td>Cultivo de maíz grano</td>\n",
       "      <td>2019</td>\n",
       "      <td>2430.55</td>\n",
       "      <td>Fertilizantes</td>\n",
       "      <td>AGRARIA</td>\n",
       "      <td>AGRARIA</td>\n",
       "      <td>PV2019</td>\n",
       "    </tr>\n",
       "    <tr>\n",
       "      <th>96</th>\n",
       "      <td>GARCIA NAVA MARIA</td>\n",
       "      <td>NACIONAL</td>\n",
       "      <td>NACIONAL</td>\n",
       "      <td>NACIONAL</td>\n",
       "      <td>NACIONAL</td>\n",
       "      <td>SC-CONAPO</td>\n",
       "      <td>FERTILIZANTES</td>\n",
       "      <td>FERTILIZANTES</td>\n",
       "      <td>FERTILIZANTES</td>\n",
       "      <td>Cultivo de maíz grano</td>\n",
       "      <td>2019</td>\n",
       "      <td>2430.55</td>\n",
       "      <td>Fertilizantes</td>\n",
       "      <td>AGRARIA</td>\n",
       "      <td>AGRARIA</td>\n",
       "      <td>PV2019</td>\n",
       "    </tr>\n",
       "    <tr>\n",
       "      <th>115</th>\n",
       "      <td>ROGEL ABELAR ELIZABETH</td>\n",
       "      <td>NACIONAL</td>\n",
       "      <td>NACIONAL</td>\n",
       "      <td>NACIONAL</td>\n",
       "      <td>NACIONAL</td>\n",
       "      <td>SC-CONAPO</td>\n",
       "      <td>FERTILIZANTES</td>\n",
       "      <td>FERTILIZANTES</td>\n",
       "      <td>FERTILIZANTES</td>\n",
       "      <td>Cultivo de maíz grano</td>\n",
       "      <td>2019</td>\n",
       "      <td>239.00</td>\n",
       "      <td>Fertilizantes</td>\n",
       "      <td>AGRARIA</td>\n",
       "      <td>AGRARIA</td>\n",
       "      <td>PV2019</td>\n",
       "    </tr>\n",
       "    <tr>\n",
       "      <th>152</th>\n",
       "      <td>DEGANTE ALDAY ESTHER</td>\n",
       "      <td>NACIONAL</td>\n",
       "      <td>NACIONAL</td>\n",
       "      <td>NACIONAL</td>\n",
       "      <td>NACIONAL</td>\n",
       "      <td>SC-CONAPO</td>\n",
       "      <td>FERTILIZANTES</td>\n",
       "      <td>FERTILIZANTES</td>\n",
       "      <td>FERTILIZANTES</td>\n",
       "      <td>Cultivo de maíz grano</td>\n",
       "      <td>2019</td>\n",
       "      <td>2430.55</td>\n",
       "      <td>Fertilizantes</td>\n",
       "      <td>AGRARIA</td>\n",
       "      <td>AGRARIA</td>\n",
       "      <td>PV2019</td>\n",
       "    </tr>\n",
       "    <tr>\n",
       "      <th>339</th>\n",
       "      <td>HERNANDEZ MORALES BERNARDO</td>\n",
       "      <td>NACIONAL</td>\n",
       "      <td>NACIONAL</td>\n",
       "      <td>NACIONAL</td>\n",
       "      <td>NACIONAL</td>\n",
       "      <td>SC-CONAPO</td>\n",
       "      <td>FERTILIZANTES</td>\n",
       "      <td>FERTILIZANTES</td>\n",
       "      <td>FERTILIZANTES</td>\n",
       "      <td>Cultivo de maíz grano</td>\n",
       "      <td>2019</td>\n",
       "      <td>2191.55</td>\n",
       "      <td>Fertilizantes</td>\n",
       "      <td>AGRARIA</td>\n",
       "      <td>AGRARIA</td>\n",
       "      <td>PV2019</td>\n",
       "    </tr>\n",
       "  </tbody>\n",
       "</table>\n",
       "</div>"
      ]
     },
     "execution_count": 38,
     "metadata": {},
     "output_type": "execute_result"
    }
   ],
   "execution_count": 38
  },
  {
   "metadata": {},
   "cell_type": "markdown",
   "source": "# Valores 'Nacional' en Beneficiarios 2020",
   "id": "dead7a97430400fa"
  },
  {
   "metadata": {
    "ExecuteTime": {
     "end_time": "2024-07-09T09:32:18.879408Z",
     "start_time": "2024-07-09T09:32:18.827153Z"
    }
   },
   "cell_type": "code",
   "source": [
    "benef_2020_nacional = benef_2020.loc[(benef_2020['ENTIDAD'] == 'NACIONAL') &\n",
    "                                     (benef_2020['MUNICIPIO'] == 'NACIONAL') &\n",
    "                                     (benef_2020['LOCALIDAD'] == 'NACIONAL')]\n",
    "benef_2020_nacional['FECHA'] = \"2020\"\n",
    "print(\"Listado de beneficiario con valores NACIONAL: \", benef_2020_nacional.shape)"
   ],
   "id": "53cf4965c2d42582",
   "outputs": [
    {
     "name": "stdout",
     "output_type": "stream",
     "text": [
      "Listado de beneficiario con valores NACIONAL:  (84, 16)\n"
     ]
    },
    {
     "name": "stderr",
     "output_type": "stream",
     "text": [
      "C:\\Users\\aorti\\AppData\\Local\\Temp\\ipykernel_103200\\3683125173.py:4: SettingWithCopyWarning: \n",
      "A value is trying to be set on a copy of a slice from a DataFrame.\n",
      "Try using .loc[row_indexer,col_indexer] = value instead\n",
      "\n",
      "See the caveats in the documentation: https://pandas.pydata.org/pandas-docs/stable/user_guide/indexing.html#returning-a-view-versus-a-copy\n",
      "  benef_2020_nacional['FECHA'] = \"2020\"\n"
     ]
    }
   ],
   "execution_count": 39
  },
  {
   "metadata": {
    "ExecuteTime": {
     "end_time": "2024-07-09T09:32:18.897748Z",
     "start_time": "2024-07-09T09:32:18.881413Z"
    }
   },
   "cell_type": "code",
   "source": "benef_2020_nacional.head()",
   "id": "16cfa85fb2ee4c62",
   "outputs": [
    {
     "data": {
      "text/plain": [
       "                       BENEFICIARIO      ZONA   ENTIDAD MUNICIPIO LOCALIDAD  \\\n",
       "91   VILLANUEVA VAZQUEZ BERNARDINA   NACIONAL  NACIONAL  NACIONAL  NACIONAL   \n",
       "92        VILLANUEVA TIAPA CLAUDIA   NACIONAL  NACIONAL  NACIONAL  NACIONAL   \n",
       "239        REYES SOLANO LAS NIEVES   NACIONAL  NACIONAL  NACIONAL  NACIONAL   \n",
       "286          PANTALEON DIAZ ISIDRA   NACIONAL  NACIONAL  NACIONAL  NACIONAL   \n",
       "287         PALACIOS MUÑOZ ALBERTA   NACIONAL  NACIONAL  NACIONAL  NACIONAL   \n",
       "\n",
       "    ESTRATIFICACIÓN       PROGRAMA     COMPONENTE  SUBCOMPONENTE  \\\n",
       "91       SC- CONAPO  FERTILIZANTES  FERTILIZANTES  FERTILIZANTES   \n",
       "92       SC- CONAPO  FERTILIZANTES  FERTILIZANTES  FERTILIZANTES   \n",
       "239      SC- CONAPO  FERTILIZANTES  FERTILIZANTES  FERTILIZANTES   \n",
       "286      SC- CONAPO  FERTILIZANTES  FERTILIZANTES  FERTILIZANTES   \n",
       "287      SC- CONAPO  FERTILIZANTES  FERTILIZANTES  FERTILIZANTES   \n",
       "\n",
       "                  PRODUCTO FECHA  MONTO FEDERAL          APOYO ACTIVIDAD  \\\n",
       "91   Cultivo de maíz grano  2020        6163.44  Fertilizantes   AGRARIA   \n",
       "92   Cultivo de maíz grano  2020        3081.72  Fertilizantes   AGRARIA   \n",
       "239  Cultivo de maíz grano  2020        3081.72  Fertilizantes   AGRARIA   \n",
       "286  Cultivo de maíz grano  2020        3081.72  Fertilizantes   AGRARIA   \n",
       "287  Cultivo de maíz grano  2020        3081.72  Fertilizantes   AGRARIA   \n",
       "\n",
       "     ESLABÓN CICLO AGRÍCOLA  \n",
       "91   AGRARIA         PV2020  \n",
       "92   AGRARIA         PV2020  \n",
       "239  AGRARIA         PV2020  \n",
       "286  AGRARIA         PV2020  \n",
       "287  AGRARIA         PV2020  "
      ],
      "text/html": [
       "<div>\n",
       "<style scoped>\n",
       "    .dataframe tbody tr th:only-of-type {\n",
       "        vertical-align: middle;\n",
       "    }\n",
       "\n",
       "    .dataframe tbody tr th {\n",
       "        vertical-align: top;\n",
       "    }\n",
       "\n",
       "    .dataframe thead th {\n",
       "        text-align: right;\n",
       "    }\n",
       "</style>\n",
       "<table border=\"1\" class=\"dataframe\">\n",
       "  <thead>\n",
       "    <tr style=\"text-align: right;\">\n",
       "      <th></th>\n",
       "      <th>BENEFICIARIO</th>\n",
       "      <th>ZONA</th>\n",
       "      <th>ENTIDAD</th>\n",
       "      <th>MUNICIPIO</th>\n",
       "      <th>LOCALIDAD</th>\n",
       "      <th>ESTRATIFICACIÓN</th>\n",
       "      <th>PROGRAMA</th>\n",
       "      <th>COMPONENTE</th>\n",
       "      <th>SUBCOMPONENTE</th>\n",
       "      <th>PRODUCTO</th>\n",
       "      <th>FECHA</th>\n",
       "      <th>MONTO FEDERAL</th>\n",
       "      <th>APOYO</th>\n",
       "      <th>ACTIVIDAD</th>\n",
       "      <th>ESLABÓN</th>\n",
       "      <th>CICLO AGRÍCOLA</th>\n",
       "    </tr>\n",
       "  </thead>\n",
       "  <tbody>\n",
       "    <tr>\n",
       "      <th>91</th>\n",
       "      <td>VILLANUEVA VAZQUEZ BERNARDINA</td>\n",
       "      <td>NACIONAL</td>\n",
       "      <td>NACIONAL</td>\n",
       "      <td>NACIONAL</td>\n",
       "      <td>NACIONAL</td>\n",
       "      <td>SC- CONAPO</td>\n",
       "      <td>FERTILIZANTES</td>\n",
       "      <td>FERTILIZANTES</td>\n",
       "      <td>FERTILIZANTES</td>\n",
       "      <td>Cultivo de maíz grano</td>\n",
       "      <td>2020</td>\n",
       "      <td>6163.44</td>\n",
       "      <td>Fertilizantes</td>\n",
       "      <td>AGRARIA</td>\n",
       "      <td>AGRARIA</td>\n",
       "      <td>PV2020</td>\n",
       "    </tr>\n",
       "    <tr>\n",
       "      <th>92</th>\n",
       "      <td>VILLANUEVA TIAPA CLAUDIA</td>\n",
       "      <td>NACIONAL</td>\n",
       "      <td>NACIONAL</td>\n",
       "      <td>NACIONAL</td>\n",
       "      <td>NACIONAL</td>\n",
       "      <td>SC- CONAPO</td>\n",
       "      <td>FERTILIZANTES</td>\n",
       "      <td>FERTILIZANTES</td>\n",
       "      <td>FERTILIZANTES</td>\n",
       "      <td>Cultivo de maíz grano</td>\n",
       "      <td>2020</td>\n",
       "      <td>3081.72</td>\n",
       "      <td>Fertilizantes</td>\n",
       "      <td>AGRARIA</td>\n",
       "      <td>AGRARIA</td>\n",
       "      <td>PV2020</td>\n",
       "    </tr>\n",
       "    <tr>\n",
       "      <th>239</th>\n",
       "      <td>REYES SOLANO LAS NIEVES</td>\n",
       "      <td>NACIONAL</td>\n",
       "      <td>NACIONAL</td>\n",
       "      <td>NACIONAL</td>\n",
       "      <td>NACIONAL</td>\n",
       "      <td>SC- CONAPO</td>\n",
       "      <td>FERTILIZANTES</td>\n",
       "      <td>FERTILIZANTES</td>\n",
       "      <td>FERTILIZANTES</td>\n",
       "      <td>Cultivo de maíz grano</td>\n",
       "      <td>2020</td>\n",
       "      <td>3081.72</td>\n",
       "      <td>Fertilizantes</td>\n",
       "      <td>AGRARIA</td>\n",
       "      <td>AGRARIA</td>\n",
       "      <td>PV2020</td>\n",
       "    </tr>\n",
       "    <tr>\n",
       "      <th>286</th>\n",
       "      <td>PANTALEON DIAZ ISIDRA</td>\n",
       "      <td>NACIONAL</td>\n",
       "      <td>NACIONAL</td>\n",
       "      <td>NACIONAL</td>\n",
       "      <td>NACIONAL</td>\n",
       "      <td>SC- CONAPO</td>\n",
       "      <td>FERTILIZANTES</td>\n",
       "      <td>FERTILIZANTES</td>\n",
       "      <td>FERTILIZANTES</td>\n",
       "      <td>Cultivo de maíz grano</td>\n",
       "      <td>2020</td>\n",
       "      <td>3081.72</td>\n",
       "      <td>Fertilizantes</td>\n",
       "      <td>AGRARIA</td>\n",
       "      <td>AGRARIA</td>\n",
       "      <td>PV2020</td>\n",
       "    </tr>\n",
       "    <tr>\n",
       "      <th>287</th>\n",
       "      <td>PALACIOS MUÑOZ ALBERTA</td>\n",
       "      <td>NACIONAL</td>\n",
       "      <td>NACIONAL</td>\n",
       "      <td>NACIONAL</td>\n",
       "      <td>NACIONAL</td>\n",
       "      <td>SC- CONAPO</td>\n",
       "      <td>FERTILIZANTES</td>\n",
       "      <td>FERTILIZANTES</td>\n",
       "      <td>FERTILIZANTES</td>\n",
       "      <td>Cultivo de maíz grano</td>\n",
       "      <td>2020</td>\n",
       "      <td>3081.72</td>\n",
       "      <td>Fertilizantes</td>\n",
       "      <td>AGRARIA</td>\n",
       "      <td>AGRARIA</td>\n",
       "      <td>PV2020</td>\n",
       "    </tr>\n",
       "  </tbody>\n",
       "</table>\n",
       "</div>"
      ]
     },
     "execution_count": 40,
     "metadata": {},
     "output_type": "execute_result"
    }
   ],
   "execution_count": 40
  },
  {
   "metadata": {},
   "cell_type": "markdown",
   "source": "#  Unión de Valores 'Nacional'",
   "id": "3b3206bbd23d9b3d"
  },
  {
   "metadata": {
    "ExecuteTime": {
     "end_time": "2024-07-09T09:32:18.906246Z",
     "start_time": "2024-07-09T09:32:18.898756Z"
    }
   },
   "cell_type": "code",
   "source": [
    "benef_nacional = pd.concat([benef_2019_nacional, benef_2020_nacional])\n",
    "print(\"Listado de beneficiario con valores NACIONAL: \", benef_nacional.shape)\n"
   ],
   "id": "db4aee7c7a3d8963",
   "outputs": [
    {
     "name": "stdout",
     "output_type": "stream",
     "text": [
      "Listado de beneficiario con valores NACIONAL:  (3608, 16)\n"
     ]
    }
   ],
   "execution_count": 41
  },
  {
   "metadata": {
    "ExecuteTime": {
     "end_time": "2024-07-09T09:32:18.920075Z",
     "start_time": "2024-07-09T09:32:18.909254Z"
    }
   },
   "cell_type": "code",
   "source": [
    "benef_nacional['key_name'] = (benef_nacional['BENEFICIARIO']\n",
    "                              .str.lower()\n",
    "                              .apply(remover_acentos)\n",
    "                              .str.replace(' ', ''))"
   ],
   "id": "6027ff130d608d35",
   "outputs": [],
   "execution_count": 42
  },
  {
   "metadata": {
    "ExecuteTime": {
     "end_time": "2024-07-09T09:32:18.933349Z",
     "start_time": "2024-07-09T09:32:18.923081Z"
    }
   },
   "cell_type": "code",
   "source": [
    "# Cantidad de valores nulos por columna\n",
    "benef_nacional.isnull().sum()"
   ],
   "id": "74c6fb40f3120351",
   "outputs": [
    {
     "data": {
      "text/plain": [
       "BENEFICIARIO       0\n",
       "ZONA               0\n",
       "ENTIDAD            0\n",
       "MUNICIPIO          0\n",
       "LOCALIDAD          0\n",
       "ESTRATIFICACIÓN    0\n",
       "PROGRAMA           0\n",
       "COMPONENTE         0\n",
       "SUBCOMPONENTE      0\n",
       "PRODUCTO           0\n",
       "FECHA              0\n",
       "MONTO FEDERAL      0\n",
       "APOYO              0\n",
       "ACTIVIDAD          0\n",
       "ESLABÓN            0\n",
       "CICLO AGRÍCOLA     0\n",
       "key_name           0\n",
       "dtype: int64"
      ]
     },
     "execution_count": 43,
     "metadata": {},
     "output_type": "execute_result"
    }
   ],
   "execution_count": 43
  },
  {
   "metadata": {
    "ExecuteTime": {
     "end_time": "2024-07-09T09:32:18.946051Z",
     "start_time": "2024-07-09T09:32:18.935354Z"
    }
   },
   "cell_type": "code",
   "source": [
    "# benef_nacional = benef_nacional[['BENEFICIARIO', 'key_name', 'ENTIDAD', 'MUNICIPIO', 'LOCALIDAD', 'FECHA']]\n",
    "print(\"Listado de beneficiario con valores NACIONAL: \", benef_nacional.shape)\n",
    "benef_nacional = benef_nacional.drop_duplicates(subset=['key_name', 'FECHA'])\n",
    "print(\"Listado de beneficiario con valores NACIONAL: \", benef_nacional.shape)\n"
   ],
   "id": "ff619af9e35c6c20",
   "outputs": [
    {
     "name": "stdout",
     "output_type": "stream",
     "text": [
      "Listado de beneficiario con valores NACIONAL:  (3608, 17)\n",
      "Listado de beneficiario con valores NACIONAL:  (3607, 17)\n"
     ]
    }
   ],
   "execution_count": 44
  },
  {
   "metadata": {},
   "cell_type": "markdown",
   "source": "# Buscar coincidencias en Beneficiarios 2023",
   "id": "d99d065d378f47f3"
  },
  {
   "cell_type": "code",
   "id": "8110f11a",
   "metadata": {},
   "source": [
    "# Filtrar los registros que no tienen valores nulos en Apellido Paterno, Materno y Nombre\n",
    "# Asegurarse de que es una copia independiente con .copy()\n",
    "beneficiarios_complete = beneficiarios_complete.dropna(\n",
    "    subset=['APELLIDO PATERNO', 'APELLIDO MATERNO', 'NOMBRE (S)']).copy()\n",
    "\n",
    "# Crear la clave (nombre completo en minúsculas, sin acentos y sin espacios)\n",
    "beneficiarios_complete['key_name'] = ((beneficiarios_complete['APELLIDO PATERNO'] +\n",
    "                                       beneficiarios_complete['APELLIDO MATERNO'] +\n",
    "                                       beneficiarios_complete['NOMBRE (S)'])\n",
    "                                      .str.lower()\n",
    "                                      .apply(remover_acentos)\n",
    "                                      .str.replace(r' ', ''))"
   ],
   "outputs": [],
   "execution_count": null
  },
  {
   "cell_type": "code",
   "id": "734deaf0",
   "metadata": {},
   "source": "beneficiarios_complete.head()",
   "outputs": [],
   "execution_count": null
  },
  {
   "metadata": {},
   "cell_type": "code",
   "source": [
    "def buscar_entidad_municipio(row):\n",
    "    df_busqueda = beneficiarios_complete\n",
    "    clave = row['key_name']\n",
    "    matches = df_busqueda[df_busqueda['key_name'] == clave][['Entidad_inegi', 'Municipio_inegi']].drop_duplicates()\n",
    "\n",
    "    if len(matches) == 0:\n",
    "        return np.nan, np.nan, np.nan\n",
    "    elif len(matches) == 1:\n",
    "        return 'Emparejamiento', matches.iloc[0]['Entidad_inegi'], matches.iloc[0]['Municipio_inegi']\n",
    "    else:\n",
    "        return 'Homonimia', np.nan, np.nan  # NACIONAL NACIONAL. \n"
   ],
   "id": "e1d8af470bcbe957",
   "outputs": [],
   "execution_count": null
  },
  {
   "metadata": {},
   "cell_type": "code",
   "source": [
    "benef_nacional_benef_2023 = benef_nacional.copy()\n",
    "benef_nacional_benef_2023[['MATCH', 'ENTIDAD', 'MUNICIPIO']] = benef_nacional_benef_2023.apply(buscar_entidad_municipio,\n",
    "                                                                                               axis=1,\n",
    "                                                                                               result_type='expand')"
   ],
   "id": "ce2c97704ca813bf",
   "outputs": [],
   "execution_count": null
  },
  {
   "metadata": {},
   "cell_type": "code",
   "source": [
    "benef_nacional_benef_2023.to_csv('../../data/productores_beneficiarios 2019-2022/match_beneficiarios_2023.csv',\n",
    "                                 index=False)"
   ],
   "id": "c18fd3e9535642fd",
   "outputs": [],
   "execution_count": null
  },
  {
   "metadata": {},
   "cell_type": "markdown",
   "source": "# Buscar coincidencias en Productores Autorizados 2023",
   "id": "75f580f3e88de7c8"
  },
  {
   "metadata": {
    "ExecuteTime": {
     "end_time": "2024-07-09T09:32:20.590252Z",
     "start_time": "2024-07-09T09:32:18.950057Z"
    }
   },
   "cell_type": "code",
   "source": [
    "autorizados_complete = autorizados_complete.dropna(subset=['APELLIDO PATERNO', 'APELLIDO MATERNO', 'NOMBRE (S)']).copy()\n",
    "\n",
    "# Crear la clave (nombre completo en minúsculas, sin acentos y sin espacios)\n",
    "autorizados_complete['key_name'] = ((autorizados_complete['APELLIDO PATERNO'] +\n",
    "                                     autorizados_complete['APELLIDO MATERNO'] +\n",
    "                                     autorizados_complete['NOMBRE (S)'])\n",
    "                                    .str.lower()\n",
    "                                    .apply(remover_acentos)\n",
    "                                    .str.replace(r' ', ''))"
   ],
   "id": "a4bc6cd9d9e4427",
   "outputs": [],
   "execution_count": 45
  },
  {
   "metadata": {
    "ExecuteTime": {
     "end_time": "2024-07-09T09:32:20.598189Z",
     "start_time": "2024-07-09T09:32:20.592257Z"
    }
   },
   "cell_type": "code",
   "source": "autorizados_complete.columns",
   "id": "c7d23232ce2223c0",
   "outputs": [
    {
     "data": {
      "text/plain": [
       "Index(['ESTADO', 'MUNICIPIO', 'ACUSE', 'APELLIDO PATERNO', 'APELLIDO MATERNO',\n",
       "       'NOMBRE (S)', 'PAQUETE', 'KEY_inegi', 'NOM_ENT', 'NOM_MUN', 'CVE_ENT',\n",
       "       'CVE_MUN', 'key_name'],\n",
       "      dtype='object')"
      ]
     },
     "execution_count": 46,
     "metadata": {},
     "output_type": "execute_result"
    }
   ],
   "execution_count": 46
  },
  {
   "metadata": {
    "ExecuteTime": {
     "end_time": "2024-07-09T09:32:20.611709Z",
     "start_time": "2024-07-09T09:32:20.600195Z"
    }
   },
   "cell_type": "code",
   "source": "autorizados_complete.shape",
   "id": "e0cf7e98ec9b7cb3",
   "outputs": [
    {
     "data": {
      "text/plain": [
       "(1598997, 13)"
      ]
     },
     "execution_count": 47,
     "metadata": {},
     "output_type": "execute_result"
    }
   ],
   "execution_count": 47
  },
  {
   "metadata": {
    "ExecuteTime": {
     "end_time": "2024-07-09T09:32:21.669685Z",
     "start_time": "2024-07-09T09:32:21.663908Z"
    }
   },
   "cell_type": "code",
   "source": [
    "\n",
    "def buscar_entidad_municipio(row):\n",
    "    df_busqueda = autorizados_complete\n",
    "    clave = row['key_name']\n",
    "    matches = df_busqueda[df_busqueda['key_name'] == clave][['NOM_ENT', 'NOM_MUN']].drop_duplicates()\n",
    "\n",
    "    if len(matches) == 0:\n",
    "        return np.nan, np.nan, np.nan\n",
    "    elif len(matches) == 1:\n",
    "        return 'Emparejamiento', matches.iloc[0]['NOM_ENT'], matches.iloc[0]['NOM_MUN']\n",
    "    else:\n",
    "        return 'Homonimia', np.nan, np.nan  # NACIONAL NACIONAL. \n"
   ],
   "id": "3431124fc6bf3a01",
   "outputs": [],
   "execution_count": 48
  },
  {
   "metadata": {
    "ExecuteTime": {
     "end_time": "2024-07-09T09:43:04.307205Z",
     "start_time": "2024-07-09T09:38:56.350990Z"
    }
   },
   "cell_type": "code",
   "source": [
    "benef_nacional_prod_2023 = benef_nacional.copy()\n",
    "benef_nacional_prod_2023[['MATCH', 'ENTIDAD', 'MUNICIPIO']] = benef_nacional_prod_2023.apply(buscar_entidad_municipio,\n",
    "                                                                                             axis=1,\n",
    "                                                                                             result_type='expand')"
   ],
   "id": "95685b4a7b3b7f9c",
   "outputs": [],
   "execution_count": 52
  },
  {
   "metadata": {
    "ExecuteTime": {
     "end_time": "2024-07-09T09:43:10.307394Z",
     "start_time": "2024-07-09T09:43:10.268722Z"
    }
   },
   "cell_type": "code",
   "source": "benef_nacional_prod_2023.to_csv('../../data/productores_beneficiarios 2019-2022/match_productores_2023.csv', index=False)",
   "id": "f3f3badf49b02c84",
   "outputs": [],
   "execution_count": 54
  },
  {
   "metadata": {},
   "cell_type": "code",
   "source": "",
   "id": "fa3987a9a931987e",
   "outputs": [],
   "execution_count": null
  },
  {
   "cell_type": "markdown",
   "id": "13418951",
   "metadata": {},
   "source": [
    "## TODO\n",
    "* Recorrer 2019 y 2020 para y establecer una columna "
   ]
  }
 ],
 "metadata": {
  "kernelspec": {
   "display_name": "Python 3 (ipykernel)",
   "language": "python",
   "name": "python3"
  },
  "language_info": {
   "codemirror_mode": {
    "name": "ipython",
    "version": 3
   },
   "file_extension": ".py",
   "mimetype": "text/x-python",
   "name": "python",
   "nbconvert_exporter": "python",
   "pygments_lexer": "ipython3",
   "version": "3.11.5"
  }
 },
 "nbformat": 4,
 "nbformat_minor": 5
}
