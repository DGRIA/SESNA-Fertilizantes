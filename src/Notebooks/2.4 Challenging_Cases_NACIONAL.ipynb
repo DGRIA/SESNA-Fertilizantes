{
 "cells": [
  {
   "cell_type": "code",
   "id": "1f3d289b",
   "metadata": {
    "ExecuteTime": {
     "end_time": "2024-07-08T16:49:47.258571Z",
     "start_time": "2024-07-08T16:49:47.254967Z"
    }
   },
   "source": [
    "import pandas as pd\n",
    "import unicodedata\n",
    "import re\n",
    "import numpy as np"
   ],
   "outputs": [],
   "execution_count": 1
  },
  {
   "metadata": {
    "ExecuteTime": {
     "end_time": "2024-07-08T16:49:47.346656Z",
     "start_time": "2024-07-08T16:49:47.342934Z"
    }
   },
   "cell_type": "code",
   "source": [
    "# Función para remover acentos y caracteres especiales\n",
    "def remover_acentos(cadena):\n",
    "    cadena = unicodedata.normalize('NFD', cadena)\n",
    "    cadena = cadena.encode('ascii', 'ignore').decode('utf-8')\n",
    "    return cadena"
   ],
   "id": "264be6306cf4e048",
   "outputs": [],
   "execution_count": 2
  },
  {
   "metadata": {},
   "cell_type": "markdown",
   "source": "# Cargar los datasets",
   "id": "23776c1360d1854e"
  },
  {
   "cell_type": "code",
   "id": "687d55a7",
   "metadata": {
    "ExecuteTime": {
     "end_time": "2024-07-08T16:49:49.911195Z",
     "start_time": "2024-07-08T16:49:47.366661Z"
    }
   },
   "source": "beneficiarios_complete = pd.read_csv('../../data/productores_beneficiarios/LISTADO_BENEFICIARIOS2023_COMPLETO.csv')",
   "outputs": [],
   "execution_count": 3
  },
  {
   "cell_type": "code",
   "id": "ba5cc46d",
   "metadata": {
    "ExecuteTime": {
     "end_time": "2024-07-08T16:49:52.129316Z",
     "start_time": "2024-07-08T16:49:49.913210Z"
    }
   },
   "source": "autorizados_complete = pd.read_csv('../../data/productores_autorizados/listado_productores_complete.csv')",
   "outputs": [],
   "execution_count": 4
  },
  {
   "cell_type": "code",
   "id": "fc72d63b",
   "metadata": {
    "ExecuteTime": {
     "end_time": "2024-07-08T16:49:52.706058Z",
     "start_time": "2024-07-08T16:49:52.130322Z"
    }
   },
   "source": "benef_2019 = pd.read_csv('../../data/productores_beneficiarios 2019-2022/fertilizantes_2019.csv')",
   "outputs": [],
   "execution_count": 5
  },
  {
   "cell_type": "code",
   "id": "2d9461b8",
   "metadata": {
    "ExecuteTime": {
     "end_time": "2024-07-08T16:49:53.505659Z",
     "start_time": "2024-07-08T16:49:52.707073Z"
    }
   },
   "source": "benef_2020 = pd.read_csv('../../data/productores_beneficiarios 2019-2022/listado_beneficiarios_fertilizantes_2020.csv')",
   "outputs": [],
   "execution_count": 6
  },
  {
   "cell_type": "code",
   "id": "1ae9ddd4",
   "metadata": {
    "ExecuteTime": {
     "end_time": "2024-07-08T16:49:53.514367Z",
     "start_time": "2024-07-08T16:49:53.507672Z"
    }
   },
   "source": [
    "print(\"Listado de Beneficiarios 2023: \", beneficiarios_complete.shape)\n",
    "print(\"Listado de Productores Autorizados: \", autorizados_complete.shape)\n",
    "print(\"Listado de Beneficiarios 2019: \", benef_2019.shape)\n",
    "print(\"Listado de Beneficiarios 2020: \", benef_2020.shape)"
   ],
   "outputs": [
    {
     "name": "stdout",
     "output_type": "stream",
     "text": [
      "Listado de Beneficiarios 2023:  (1680105, 12)\n",
      "Listado de Productores Autorizados:  (1628170, 12)\n",
      "Listado de Beneficiarios 2019:  (278550, 16)\n",
      "Listado de Beneficiarios 2020:  (369124, 16)\n"
     ]
    }
   ],
   "execution_count": 7
  },
  {
   "metadata": {},
   "cell_type": "markdown",
   "source": "# Valores 'Nacional' en Beneficiarios de 2019",
   "id": "7c178faea7a0eca0"
  },
  {
   "cell_type": "code",
   "id": "9d86b8d6",
   "metadata": {
    "ExecuteTime": {
     "end_time": "2024-07-08T17:55:06.480222Z",
     "start_time": "2024-07-08T17:55:06.439372Z"
    }
   },
   "source": [
    "# Filtrar las filas donde ENTIDAD es 'NACIONAL'\n",
    "benef_2019_nacional = benef_2019.loc[(benef_2019['ENTIDAD'] == 'NACIONAL') &\n",
    "                                     (benef_2019['MUNICIPIO'] == 'NACIONAL') &\n",
    "                                     (benef_2019['LOCALIDAD'] == 'NACIONAL')]\n",
    "\n",
    "benef_2019_nacional['FECHA'] = \"2019\"\n",
    "print(\"Listado de beneficiario con valores NACIONAL: \", benef_2019_nacional.shape)"
   ],
   "outputs": [
    {
     "name": "stdout",
     "output_type": "stream",
     "text": [
      "Listado de beneficiario con valores NACIONAL:  (3524, 16)\n"
     ]
    },
    {
     "name": "stderr",
     "output_type": "stream",
     "text": [
      "C:\\Users\\aorti\\AppData\\Local\\Temp\\ipykernel_97204\\1377694750.py:6: SettingWithCopyWarning: \n",
      "A value is trying to be set on a copy of a slice from a DataFrame.\n",
      "Try using .loc[row_indexer,col_indexer] = value instead\n",
      "\n",
      "See the caveats in the documentation: https://pandas.pydata.org/pandas-docs/stable/user_guide/indexing.html#returning-a-view-versus-a-copy\n",
      "  benef_2019_nacional['FECHA'] = \"2019\"\n"
     ]
    }
   ],
   "execution_count": 72
  },
  {
   "cell_type": "code",
   "id": "4fd3f6f9",
   "metadata": {
    "ExecuteTime": {
     "end_time": "2024-07-08T17:55:09.035296Z",
     "start_time": "2024-07-08T17:55:09.016722Z"
    }
   },
   "source": "benef_2019_nacional.head()",
   "outputs": [
    {
     "data": {
      "text/plain": [
       "                    BENEFICIARIO      ZONA   ENTIDAD MUNICIPIO LOCALIDAD  \\\n",
       "14    SANCHEZ RODRIGUEZ MARCELO   NACIONAL  NACIONAL  NACIONAL  NACIONAL   \n",
       "96            GARCIA NAVA MARIA   NACIONAL  NACIONAL  NACIONAL  NACIONAL   \n",
       "115      ROGEL ABELAR ELIZABETH   NACIONAL  NACIONAL  NACIONAL  NACIONAL   \n",
       "152        DEGANTE ALDAY ESTHER   NACIONAL  NACIONAL  NACIONAL  NACIONAL   \n",
       "339  HERNANDEZ MORALES BERNARDO   NACIONAL  NACIONAL  NACIONAL  NACIONAL   \n",
       "\n",
       "    ESTRATIFICACIÓN       PROGRAMA     COMPONENTE  SUBCOMPONENTE  \\\n",
       "14        SC-CONAPO  FERTILIZANTES  FERTILIZANTES  FERTILIZANTES   \n",
       "96        SC-CONAPO  FERTILIZANTES  FERTILIZANTES  FERTILIZANTES   \n",
       "115       SC-CONAPO  FERTILIZANTES  FERTILIZANTES  FERTILIZANTES   \n",
       "152       SC-CONAPO  FERTILIZANTES  FERTILIZANTES  FERTILIZANTES   \n",
       "339       SC-CONAPO  FERTILIZANTES  FERTILIZANTES  FERTILIZANTES   \n",
       "\n",
       "                  PRODUCTO FECHA  MONTO FEDERAL          APOYO ACTIVIDAD  \\\n",
       "14   Cultivo de maíz grano  2019        2430.55  Fertilizantes   AGRARIA   \n",
       "96   Cultivo de maíz grano  2019        2430.55  Fertilizantes   AGRARIA   \n",
       "115  Cultivo de maíz grano  2019         239.00  Fertilizantes   AGRARIA   \n",
       "152  Cultivo de maíz grano  2019        2430.55  Fertilizantes   AGRARIA   \n",
       "339  Cultivo de maíz grano  2019        2191.55  Fertilizantes   AGRARIA   \n",
       "\n",
       "     ESLABÓN CICLO AGRÍCOLA  \n",
       "14   AGRARIA         PV2019  \n",
       "96   AGRARIA         PV2019  \n",
       "115  AGRARIA         PV2019  \n",
       "152  AGRARIA         PV2019  \n",
       "339  AGRARIA         PV2019  "
      ],
      "text/html": [
       "<div>\n",
       "<style scoped>\n",
       "    .dataframe tbody tr th:only-of-type {\n",
       "        vertical-align: middle;\n",
       "    }\n",
       "\n",
       "    .dataframe tbody tr th {\n",
       "        vertical-align: top;\n",
       "    }\n",
       "\n",
       "    .dataframe thead th {\n",
       "        text-align: right;\n",
       "    }\n",
       "</style>\n",
       "<table border=\"1\" class=\"dataframe\">\n",
       "  <thead>\n",
       "    <tr style=\"text-align: right;\">\n",
       "      <th></th>\n",
       "      <th>BENEFICIARIO</th>\n",
       "      <th>ZONA</th>\n",
       "      <th>ENTIDAD</th>\n",
       "      <th>MUNICIPIO</th>\n",
       "      <th>LOCALIDAD</th>\n",
       "      <th>ESTRATIFICACIÓN</th>\n",
       "      <th>PROGRAMA</th>\n",
       "      <th>COMPONENTE</th>\n",
       "      <th>SUBCOMPONENTE</th>\n",
       "      <th>PRODUCTO</th>\n",
       "      <th>FECHA</th>\n",
       "      <th>MONTO FEDERAL</th>\n",
       "      <th>APOYO</th>\n",
       "      <th>ACTIVIDAD</th>\n",
       "      <th>ESLABÓN</th>\n",
       "      <th>CICLO AGRÍCOLA</th>\n",
       "    </tr>\n",
       "  </thead>\n",
       "  <tbody>\n",
       "    <tr>\n",
       "      <th>14</th>\n",
       "      <td>SANCHEZ RODRIGUEZ MARCELO</td>\n",
       "      <td>NACIONAL</td>\n",
       "      <td>NACIONAL</td>\n",
       "      <td>NACIONAL</td>\n",
       "      <td>NACIONAL</td>\n",
       "      <td>SC-CONAPO</td>\n",
       "      <td>FERTILIZANTES</td>\n",
       "      <td>FERTILIZANTES</td>\n",
       "      <td>FERTILIZANTES</td>\n",
       "      <td>Cultivo de maíz grano</td>\n",
       "      <td>2019</td>\n",
       "      <td>2430.55</td>\n",
       "      <td>Fertilizantes</td>\n",
       "      <td>AGRARIA</td>\n",
       "      <td>AGRARIA</td>\n",
       "      <td>PV2019</td>\n",
       "    </tr>\n",
       "    <tr>\n",
       "      <th>96</th>\n",
       "      <td>GARCIA NAVA MARIA</td>\n",
       "      <td>NACIONAL</td>\n",
       "      <td>NACIONAL</td>\n",
       "      <td>NACIONAL</td>\n",
       "      <td>NACIONAL</td>\n",
       "      <td>SC-CONAPO</td>\n",
       "      <td>FERTILIZANTES</td>\n",
       "      <td>FERTILIZANTES</td>\n",
       "      <td>FERTILIZANTES</td>\n",
       "      <td>Cultivo de maíz grano</td>\n",
       "      <td>2019</td>\n",
       "      <td>2430.55</td>\n",
       "      <td>Fertilizantes</td>\n",
       "      <td>AGRARIA</td>\n",
       "      <td>AGRARIA</td>\n",
       "      <td>PV2019</td>\n",
       "    </tr>\n",
       "    <tr>\n",
       "      <th>115</th>\n",
       "      <td>ROGEL ABELAR ELIZABETH</td>\n",
       "      <td>NACIONAL</td>\n",
       "      <td>NACIONAL</td>\n",
       "      <td>NACIONAL</td>\n",
       "      <td>NACIONAL</td>\n",
       "      <td>SC-CONAPO</td>\n",
       "      <td>FERTILIZANTES</td>\n",
       "      <td>FERTILIZANTES</td>\n",
       "      <td>FERTILIZANTES</td>\n",
       "      <td>Cultivo de maíz grano</td>\n",
       "      <td>2019</td>\n",
       "      <td>239.00</td>\n",
       "      <td>Fertilizantes</td>\n",
       "      <td>AGRARIA</td>\n",
       "      <td>AGRARIA</td>\n",
       "      <td>PV2019</td>\n",
       "    </tr>\n",
       "    <tr>\n",
       "      <th>152</th>\n",
       "      <td>DEGANTE ALDAY ESTHER</td>\n",
       "      <td>NACIONAL</td>\n",
       "      <td>NACIONAL</td>\n",
       "      <td>NACIONAL</td>\n",
       "      <td>NACIONAL</td>\n",
       "      <td>SC-CONAPO</td>\n",
       "      <td>FERTILIZANTES</td>\n",
       "      <td>FERTILIZANTES</td>\n",
       "      <td>FERTILIZANTES</td>\n",
       "      <td>Cultivo de maíz grano</td>\n",
       "      <td>2019</td>\n",
       "      <td>2430.55</td>\n",
       "      <td>Fertilizantes</td>\n",
       "      <td>AGRARIA</td>\n",
       "      <td>AGRARIA</td>\n",
       "      <td>PV2019</td>\n",
       "    </tr>\n",
       "    <tr>\n",
       "      <th>339</th>\n",
       "      <td>HERNANDEZ MORALES BERNARDO</td>\n",
       "      <td>NACIONAL</td>\n",
       "      <td>NACIONAL</td>\n",
       "      <td>NACIONAL</td>\n",
       "      <td>NACIONAL</td>\n",
       "      <td>SC-CONAPO</td>\n",
       "      <td>FERTILIZANTES</td>\n",
       "      <td>FERTILIZANTES</td>\n",
       "      <td>FERTILIZANTES</td>\n",
       "      <td>Cultivo de maíz grano</td>\n",
       "      <td>2019</td>\n",
       "      <td>2191.55</td>\n",
       "      <td>Fertilizantes</td>\n",
       "      <td>AGRARIA</td>\n",
       "      <td>AGRARIA</td>\n",
       "      <td>PV2019</td>\n",
       "    </tr>\n",
       "  </tbody>\n",
       "</table>\n",
       "</div>"
      ]
     },
     "execution_count": 73,
     "metadata": {},
     "output_type": "execute_result"
    }
   ],
   "execution_count": 73
  },
  {
   "metadata": {},
   "cell_type": "markdown",
   "source": "# Valores 'Nacional' en Beneficiarios 2020",
   "id": "dead7a97430400fa"
  },
  {
   "metadata": {
    "ExecuteTime": {
     "end_time": "2024-07-08T17:55:31.481266Z",
     "start_time": "2024-07-08T17:55:31.406219Z"
    }
   },
   "cell_type": "code",
   "source": [
    "benef_2020_nacional = benef_2020.loc[(benef_2020['ENTIDAD'] == 'NACIONAL') &\n",
    "                                     (benef_2020['MUNICIPIO'] == 'NACIONAL') &\n",
    "                                     (benef_2020['LOCALIDAD'] == 'NACIONAL')]\n",
    "benef_2020_nacional['FECHA'] = \"2020\"\n",
    "print(\"Listado de beneficiario con valores NACIONAL: \", benef_2020_nacional.shape)"
   ],
   "id": "53cf4965c2d42582",
   "outputs": [
    {
     "name": "stdout",
     "output_type": "stream",
     "text": [
      "Listado de beneficiario con valores NACIONAL:  (84, 16)\n"
     ]
    },
    {
     "name": "stderr",
     "output_type": "stream",
     "text": [
      "C:\\Users\\aorti\\AppData\\Local\\Temp\\ipykernel_97204\\3683125173.py:4: SettingWithCopyWarning: \n",
      "A value is trying to be set on a copy of a slice from a DataFrame.\n",
      "Try using .loc[row_indexer,col_indexer] = value instead\n",
      "\n",
      "See the caveats in the documentation: https://pandas.pydata.org/pandas-docs/stable/user_guide/indexing.html#returning-a-view-versus-a-copy\n",
      "  benef_2020_nacional['FECHA'] = \"2020\"\n"
     ]
    }
   ],
   "execution_count": 74
  },
  {
   "metadata": {
    "ExecuteTime": {
     "end_time": "2024-07-08T17:55:34.508280Z",
     "start_time": "2024-07-08T17:55:34.491551Z"
    }
   },
   "cell_type": "code",
   "source": "benef_2020_nacional.head()",
   "id": "16cfa85fb2ee4c62",
   "outputs": [
    {
     "data": {
      "text/plain": [
       "                       BENEFICIARIO      ZONA   ENTIDAD MUNICIPIO LOCALIDAD  \\\n",
       "91   VILLANUEVA VAZQUEZ BERNARDINA   NACIONAL  NACIONAL  NACIONAL  NACIONAL   \n",
       "92        VILLANUEVA TIAPA CLAUDIA   NACIONAL  NACIONAL  NACIONAL  NACIONAL   \n",
       "239        REYES SOLANO LAS NIEVES   NACIONAL  NACIONAL  NACIONAL  NACIONAL   \n",
       "286          PANTALEON DIAZ ISIDRA   NACIONAL  NACIONAL  NACIONAL  NACIONAL   \n",
       "287         PALACIOS MUÑOZ ALBERTA   NACIONAL  NACIONAL  NACIONAL  NACIONAL   \n",
       "\n",
       "    ESTRATIFICACIÓN       PROGRAMA     COMPONENTE  SUBCOMPONENTE  \\\n",
       "91       SC- CONAPO  FERTILIZANTES  FERTILIZANTES  FERTILIZANTES   \n",
       "92       SC- CONAPO  FERTILIZANTES  FERTILIZANTES  FERTILIZANTES   \n",
       "239      SC- CONAPO  FERTILIZANTES  FERTILIZANTES  FERTILIZANTES   \n",
       "286      SC- CONAPO  FERTILIZANTES  FERTILIZANTES  FERTILIZANTES   \n",
       "287      SC- CONAPO  FERTILIZANTES  FERTILIZANTES  FERTILIZANTES   \n",
       "\n",
       "                  PRODUCTO FECHA  MONTO FEDERAL          APOYO ACTIVIDAD  \\\n",
       "91   Cultivo de maíz grano  2020        6163.44  Fertilizantes   AGRARIA   \n",
       "92   Cultivo de maíz grano  2020        3081.72  Fertilizantes   AGRARIA   \n",
       "239  Cultivo de maíz grano  2020        3081.72  Fertilizantes   AGRARIA   \n",
       "286  Cultivo de maíz grano  2020        3081.72  Fertilizantes   AGRARIA   \n",
       "287  Cultivo de maíz grano  2020        3081.72  Fertilizantes   AGRARIA   \n",
       "\n",
       "     ESLABÓN CICLO AGRÍCOLA  \n",
       "91   AGRARIA         PV2020  \n",
       "92   AGRARIA         PV2020  \n",
       "239  AGRARIA         PV2020  \n",
       "286  AGRARIA         PV2020  \n",
       "287  AGRARIA         PV2020  "
      ],
      "text/html": [
       "<div>\n",
       "<style scoped>\n",
       "    .dataframe tbody tr th:only-of-type {\n",
       "        vertical-align: middle;\n",
       "    }\n",
       "\n",
       "    .dataframe tbody tr th {\n",
       "        vertical-align: top;\n",
       "    }\n",
       "\n",
       "    .dataframe thead th {\n",
       "        text-align: right;\n",
       "    }\n",
       "</style>\n",
       "<table border=\"1\" class=\"dataframe\">\n",
       "  <thead>\n",
       "    <tr style=\"text-align: right;\">\n",
       "      <th></th>\n",
       "      <th>BENEFICIARIO</th>\n",
       "      <th>ZONA</th>\n",
       "      <th>ENTIDAD</th>\n",
       "      <th>MUNICIPIO</th>\n",
       "      <th>LOCALIDAD</th>\n",
       "      <th>ESTRATIFICACIÓN</th>\n",
       "      <th>PROGRAMA</th>\n",
       "      <th>COMPONENTE</th>\n",
       "      <th>SUBCOMPONENTE</th>\n",
       "      <th>PRODUCTO</th>\n",
       "      <th>FECHA</th>\n",
       "      <th>MONTO FEDERAL</th>\n",
       "      <th>APOYO</th>\n",
       "      <th>ACTIVIDAD</th>\n",
       "      <th>ESLABÓN</th>\n",
       "      <th>CICLO AGRÍCOLA</th>\n",
       "    </tr>\n",
       "  </thead>\n",
       "  <tbody>\n",
       "    <tr>\n",
       "      <th>91</th>\n",
       "      <td>VILLANUEVA VAZQUEZ BERNARDINA</td>\n",
       "      <td>NACIONAL</td>\n",
       "      <td>NACIONAL</td>\n",
       "      <td>NACIONAL</td>\n",
       "      <td>NACIONAL</td>\n",
       "      <td>SC- CONAPO</td>\n",
       "      <td>FERTILIZANTES</td>\n",
       "      <td>FERTILIZANTES</td>\n",
       "      <td>FERTILIZANTES</td>\n",
       "      <td>Cultivo de maíz grano</td>\n",
       "      <td>2020</td>\n",
       "      <td>6163.44</td>\n",
       "      <td>Fertilizantes</td>\n",
       "      <td>AGRARIA</td>\n",
       "      <td>AGRARIA</td>\n",
       "      <td>PV2020</td>\n",
       "    </tr>\n",
       "    <tr>\n",
       "      <th>92</th>\n",
       "      <td>VILLANUEVA TIAPA CLAUDIA</td>\n",
       "      <td>NACIONAL</td>\n",
       "      <td>NACIONAL</td>\n",
       "      <td>NACIONAL</td>\n",
       "      <td>NACIONAL</td>\n",
       "      <td>SC- CONAPO</td>\n",
       "      <td>FERTILIZANTES</td>\n",
       "      <td>FERTILIZANTES</td>\n",
       "      <td>FERTILIZANTES</td>\n",
       "      <td>Cultivo de maíz grano</td>\n",
       "      <td>2020</td>\n",
       "      <td>3081.72</td>\n",
       "      <td>Fertilizantes</td>\n",
       "      <td>AGRARIA</td>\n",
       "      <td>AGRARIA</td>\n",
       "      <td>PV2020</td>\n",
       "    </tr>\n",
       "    <tr>\n",
       "      <th>239</th>\n",
       "      <td>REYES SOLANO LAS NIEVES</td>\n",
       "      <td>NACIONAL</td>\n",
       "      <td>NACIONAL</td>\n",
       "      <td>NACIONAL</td>\n",
       "      <td>NACIONAL</td>\n",
       "      <td>SC- CONAPO</td>\n",
       "      <td>FERTILIZANTES</td>\n",
       "      <td>FERTILIZANTES</td>\n",
       "      <td>FERTILIZANTES</td>\n",
       "      <td>Cultivo de maíz grano</td>\n",
       "      <td>2020</td>\n",
       "      <td>3081.72</td>\n",
       "      <td>Fertilizantes</td>\n",
       "      <td>AGRARIA</td>\n",
       "      <td>AGRARIA</td>\n",
       "      <td>PV2020</td>\n",
       "    </tr>\n",
       "    <tr>\n",
       "      <th>286</th>\n",
       "      <td>PANTALEON DIAZ ISIDRA</td>\n",
       "      <td>NACIONAL</td>\n",
       "      <td>NACIONAL</td>\n",
       "      <td>NACIONAL</td>\n",
       "      <td>NACIONAL</td>\n",
       "      <td>SC- CONAPO</td>\n",
       "      <td>FERTILIZANTES</td>\n",
       "      <td>FERTILIZANTES</td>\n",
       "      <td>FERTILIZANTES</td>\n",
       "      <td>Cultivo de maíz grano</td>\n",
       "      <td>2020</td>\n",
       "      <td>3081.72</td>\n",
       "      <td>Fertilizantes</td>\n",
       "      <td>AGRARIA</td>\n",
       "      <td>AGRARIA</td>\n",
       "      <td>PV2020</td>\n",
       "    </tr>\n",
       "    <tr>\n",
       "      <th>287</th>\n",
       "      <td>PALACIOS MUÑOZ ALBERTA</td>\n",
       "      <td>NACIONAL</td>\n",
       "      <td>NACIONAL</td>\n",
       "      <td>NACIONAL</td>\n",
       "      <td>NACIONAL</td>\n",
       "      <td>SC- CONAPO</td>\n",
       "      <td>FERTILIZANTES</td>\n",
       "      <td>FERTILIZANTES</td>\n",
       "      <td>FERTILIZANTES</td>\n",
       "      <td>Cultivo de maíz grano</td>\n",
       "      <td>2020</td>\n",
       "      <td>3081.72</td>\n",
       "      <td>Fertilizantes</td>\n",
       "      <td>AGRARIA</td>\n",
       "      <td>AGRARIA</td>\n",
       "      <td>PV2020</td>\n",
       "    </tr>\n",
       "  </tbody>\n",
       "</table>\n",
       "</div>"
      ]
     },
     "execution_count": 75,
     "metadata": {},
     "output_type": "execute_result"
    }
   ],
   "execution_count": 75
  },
  {
   "metadata": {},
   "cell_type": "markdown",
   "source": "#  Unión de Valores 'Nacional'",
   "id": "3b3206bbd23d9b3d"
  },
  {
   "metadata": {
    "ExecuteTime": {
     "end_time": "2024-07-08T17:57:42.292485Z",
     "start_time": "2024-07-08T17:57:42.275882Z"
    }
   },
   "cell_type": "code",
   "source": [
    "benef_nacional = pd.concat([benef_2019_nacional, benef_2020_nacional])\n",
    "print(\"Listado de beneficiario con valores NACIONAL: \", benef_nacional.shape)\n"
   ],
   "id": "db4aee7c7a3d8963",
   "outputs": [
    {
     "name": "stdout",
     "output_type": "stream",
     "text": [
      "Listado de beneficiario con valores NACIONAL:  (3608, 16)\n",
      "Listado de beneficiario con valores NACIONAL:  (3608, 16)\n"
     ]
    }
   ],
   "execution_count": 78
  },
  {
   "metadata": {
    "ExecuteTime": {
     "end_time": "2024-07-08T17:57:48.484299Z",
     "start_time": "2024-07-08T17:57:48.470292Z"
    }
   },
   "cell_type": "code",
   "source": [
    "benef_nacional['key_name'] = (benef_nacional['BENEFICIARIO']\n",
    "                              .str.lower()\n",
    "                              .apply(remover_acentos)\n",
    "                              .str.replace(' ', ''))"
   ],
   "id": "6027ff130d608d35",
   "outputs": [],
   "execution_count": 82
  },
  {
   "metadata": {
    "ExecuteTime": {
     "end_time": "2024-07-08T17:57:48.916535Z",
     "start_time": "2024-07-08T17:57:48.906829Z"
    }
   },
   "cell_type": "code",
   "source": [
    "# Cantidad de valores nulos por columna\n",
    "benef_nacional.isnull().sum()"
   ],
   "id": "74c6fb40f3120351",
   "outputs": [
    {
     "data": {
      "text/plain": [
       "BENEFICIARIO    0\n",
       "key_name        0\n",
       "ENTIDAD         0\n",
       "MUNICIPIO       0\n",
       "LOCALIDAD       0\n",
       "FECHA           0\n",
       "dtype: int64"
      ]
     },
     "execution_count": 83,
     "metadata": {},
     "output_type": "execute_result"
    }
   ],
   "execution_count": 83
  },
  {
   "metadata": {
    "ExecuteTime": {
     "end_time": "2024-07-08T17:57:54.013861Z",
     "start_time": "2024-07-08T17:57:54.004119Z"
    }
   },
   "cell_type": "code",
   "source": [
    "benef_nacional = benef_nacional[['BENEFICIARIO', 'key_name', 'ENTIDAD', 'MUNICIPIO', 'LOCALIDAD', 'FECHA']]\n",
    "print(\"Listado de beneficiario con valores NACIONAL: \", benef_nacional.shape)\n",
    "benef_nacional = benef_nacional.drop_duplicates(subset=['key_name', 'FECHA'])\n",
    "print(\"Listado de beneficiario con valores NACIONAL: \", benef_nacional.shape)\n"
   ],
   "id": "ff619af9e35c6c20",
   "outputs": [
    {
     "name": "stdout",
     "output_type": "stream",
     "text": [
      "Listado de beneficiario con valores NACIONAL:  (3608, 6)\n",
      "Listado de beneficiario con valores NACIONAL:  (3607, 6)\n"
     ]
    }
   ],
   "execution_count": 84
  },
  {
   "metadata": {},
   "cell_type": "markdown",
   "source": "# Buscar coincidencias en Beneficiarios 2023",
   "id": "d99d065d378f47f3"
  },
  {
   "cell_type": "code",
   "id": "8110f11a",
   "metadata": {
    "ExecuteTime": {
     "end_time": "2024-07-08T16:49:55.334191Z",
     "start_time": "2024-07-08T16:49:53.674716Z"
    }
   },
   "source": [
    "# Filtrar los registros que no tienen valores nulos en Apellido Paterno, Materno y Nombre\n",
    "# Asegurarse de que es una copia independiente con .copy()\n",
    "beneficiarios_complete = beneficiarios_complete.dropna(\n",
    "    subset=['APELLIDO PATERNO', 'APELLIDO MATERNO', 'NOMBRE (S)']).copy()\n",
    "\n",
    "# Crear la clave (nombre completo en minúsculas, sin acentos y sin espacios)\n",
    "beneficiarios_complete['key_name'] = ((beneficiarios_complete['APELLIDO PATERNO'] +\n",
    "                                       beneficiarios_complete['APELLIDO MATERNO'] +\n",
    "                                       beneficiarios_complete['NOMBRE (S)'])\n",
    "                                      .str.lower()\n",
    "                                      .apply(remover_acentos)\n",
    "                                      .str.replace(r' ', ''))"
   ],
   "outputs": [],
   "execution_count": 15
  },
  {
   "cell_type": "code",
   "id": "734deaf0",
   "metadata": {
    "ExecuteTime": {
     "end_time": "2024-07-08T16:49:55.348237Z",
     "start_time": "2024-07-08T16:49:55.336207Z"
    }
   },
   "source": "beneficiarios_complete.head()",
   "outputs": [
    {
     "data": {
      "text/plain": [
       "    ESTADO MUNICIPIO                   ACUSE ESTATAL APELLIDO PATERNO  \\\n",
       "0  SINALOA     AHOME  23-PROESFE-ESTR-000051-E000-SL          ABOITES   \n",
       "1  SINALOA     AHOME  23-PROESFE-ESTR-043733-E000-SL           ABOYTE   \n",
       "2  SINALOA     AHOME  23-PROESFE-ESTR-000052-E000-SL          ABOYTES   \n",
       "3  SINALOA     AHOME  23-PROESFE-ESTR-030724-E000-SL           ACOSTA   \n",
       "4  SINALOA     AHOME  23-PROESFE-ESTR-035928-E000-SL           ACOSTA   \n",
       "\n",
       "  APELLIDO MATERNO NOMBRE (S)  PAQUETE KEY_benef_Verificado Entidad_inegi  \\\n",
       "0          ARMENTA  FRANCISCO      4.0        sinaloa-ahome       Sinaloa   \n",
       "1             RUIZ     ISMAEL      7.0        sinaloa-ahome       Sinaloa   \n",
       "2          ARMENTA    RODOLFO      4.0        sinaloa-ahome       Sinaloa   \n",
       "3           BUELNA      EDGAR     10.0        sinaloa-ahome       Sinaloa   \n",
       "4           BUELNA  GUADALUPE      5.0        sinaloa-ahome       Sinaloa   \n",
       "\n",
       "  Municipio_inegi  CVE_ENT  CVE_MUN                 key_name  \n",
       "0           Ahome       25        1  aboitesarmentafrancisco  \n",
       "1           Ahome       25        1         aboyteruizismael  \n",
       "2           Ahome       25        1    aboytesarmentarodolfo  \n",
       "3           Ahome       25        1        acostabuelnaedgar  \n",
       "4           Ahome       25        1    acostabuelnaguadalupe  "
      ],
      "text/html": [
       "<div>\n",
       "<style scoped>\n",
       "    .dataframe tbody tr th:only-of-type {\n",
       "        vertical-align: middle;\n",
       "    }\n",
       "\n",
       "    .dataframe tbody tr th {\n",
       "        vertical-align: top;\n",
       "    }\n",
       "\n",
       "    .dataframe thead th {\n",
       "        text-align: right;\n",
       "    }\n",
       "</style>\n",
       "<table border=\"1\" class=\"dataframe\">\n",
       "  <thead>\n",
       "    <tr style=\"text-align: right;\">\n",
       "      <th></th>\n",
       "      <th>ESTADO</th>\n",
       "      <th>MUNICIPIO</th>\n",
       "      <th>ACUSE ESTATAL</th>\n",
       "      <th>APELLIDO PATERNO</th>\n",
       "      <th>APELLIDO MATERNO</th>\n",
       "      <th>NOMBRE (S)</th>\n",
       "      <th>PAQUETE</th>\n",
       "      <th>KEY_benef_Verificado</th>\n",
       "      <th>Entidad_inegi</th>\n",
       "      <th>Municipio_inegi</th>\n",
       "      <th>CVE_ENT</th>\n",
       "      <th>CVE_MUN</th>\n",
       "      <th>key_name</th>\n",
       "    </tr>\n",
       "  </thead>\n",
       "  <tbody>\n",
       "    <tr>\n",
       "      <th>0</th>\n",
       "      <td>SINALOA</td>\n",
       "      <td>AHOME</td>\n",
       "      <td>23-PROESFE-ESTR-000051-E000-SL</td>\n",
       "      <td>ABOITES</td>\n",
       "      <td>ARMENTA</td>\n",
       "      <td>FRANCISCO</td>\n",
       "      <td>4.0</td>\n",
       "      <td>sinaloa-ahome</td>\n",
       "      <td>Sinaloa</td>\n",
       "      <td>Ahome</td>\n",
       "      <td>25</td>\n",
       "      <td>1</td>\n",
       "      <td>aboitesarmentafrancisco</td>\n",
       "    </tr>\n",
       "    <tr>\n",
       "      <th>1</th>\n",
       "      <td>SINALOA</td>\n",
       "      <td>AHOME</td>\n",
       "      <td>23-PROESFE-ESTR-043733-E000-SL</td>\n",
       "      <td>ABOYTE</td>\n",
       "      <td>RUIZ</td>\n",
       "      <td>ISMAEL</td>\n",
       "      <td>7.0</td>\n",
       "      <td>sinaloa-ahome</td>\n",
       "      <td>Sinaloa</td>\n",
       "      <td>Ahome</td>\n",
       "      <td>25</td>\n",
       "      <td>1</td>\n",
       "      <td>aboyteruizismael</td>\n",
       "    </tr>\n",
       "    <tr>\n",
       "      <th>2</th>\n",
       "      <td>SINALOA</td>\n",
       "      <td>AHOME</td>\n",
       "      <td>23-PROESFE-ESTR-000052-E000-SL</td>\n",
       "      <td>ABOYTES</td>\n",
       "      <td>ARMENTA</td>\n",
       "      <td>RODOLFO</td>\n",
       "      <td>4.0</td>\n",
       "      <td>sinaloa-ahome</td>\n",
       "      <td>Sinaloa</td>\n",
       "      <td>Ahome</td>\n",
       "      <td>25</td>\n",
       "      <td>1</td>\n",
       "      <td>aboytesarmentarodolfo</td>\n",
       "    </tr>\n",
       "    <tr>\n",
       "      <th>3</th>\n",
       "      <td>SINALOA</td>\n",
       "      <td>AHOME</td>\n",
       "      <td>23-PROESFE-ESTR-030724-E000-SL</td>\n",
       "      <td>ACOSTA</td>\n",
       "      <td>BUELNA</td>\n",
       "      <td>EDGAR</td>\n",
       "      <td>10.0</td>\n",
       "      <td>sinaloa-ahome</td>\n",
       "      <td>Sinaloa</td>\n",
       "      <td>Ahome</td>\n",
       "      <td>25</td>\n",
       "      <td>1</td>\n",
       "      <td>acostabuelnaedgar</td>\n",
       "    </tr>\n",
       "    <tr>\n",
       "      <th>4</th>\n",
       "      <td>SINALOA</td>\n",
       "      <td>AHOME</td>\n",
       "      <td>23-PROESFE-ESTR-035928-E000-SL</td>\n",
       "      <td>ACOSTA</td>\n",
       "      <td>BUELNA</td>\n",
       "      <td>GUADALUPE</td>\n",
       "      <td>5.0</td>\n",
       "      <td>sinaloa-ahome</td>\n",
       "      <td>Sinaloa</td>\n",
       "      <td>Ahome</td>\n",
       "      <td>25</td>\n",
       "      <td>1</td>\n",
       "      <td>acostabuelnaguadalupe</td>\n",
       "    </tr>\n",
       "  </tbody>\n",
       "</table>\n",
       "</div>"
      ]
     },
     "execution_count": 16,
     "metadata": {},
     "output_type": "execute_result"
    }
   ],
   "execution_count": 16
  },
  {
   "metadata": {
    "ExecuteTime": {
     "end_time": "2024-07-08T18:33:19.434602Z",
     "start_time": "2024-07-08T18:33:19.427820Z"
    }
   },
   "cell_type": "code",
   "source": [
    "# def asignar_entidad_municipio(df_origen, df_destino):\n",
    "#     # Función para buscar y asignar ESTADO y MUNICIPIO basado en key_name\n",
    "#     def buscar_y_asignar(row):\n",
    "#         clave = row['key_name']\n",
    "#         # Buscar coincidencias en df_destino\n",
    "#         matches = df_destino[df_destino['key_name'] == clave][['Entidad_inegi', 'Municipio_inegi']]\n",
    "#         \n",
    "#         if len(matches) == 1:\n",
    "#             # Si hay una coincidencia perfecta, asignar ESTADO y MUNICIPIO\n",
    "#             return matches.iloc[0]['Entidad_inegi'], matches.iloc[0]['Municipio_inegi']\n",
    "#         else:\n",
    "#             # Si no hay coincidencias o hay múltiples, asignar NaN\n",
    "#             return np.nan, np.nan\n",
    "#     \n",
    "#     # Aplicar la función a cada fila de df_origen y expandir los resultados en nuevas columnas\n",
    "#     df_origen[['ESTADO_match', 'MUNICIPIO_match']] = df_origen.apply(buscar_y_asignar, axis=1, result_type='expand')\n",
    "#     \n",
    "#     return df_origen\n",
    "\n",
    "def asignar_entidad_municipio(df_origen, df_destino):\n",
    "    nuevas_filas = []  # Lista para almacenar las nuevas filas creadas para múltiples coincidencias\n",
    "    contador_sin_match = 0\n",
    "    def buscar_y_asignar(row):\n",
    "        nonlocal contador_sin_match\n",
    "        clave = row['key_name']\n",
    "        matches = df_destino[df_destino['key_name'] == clave][['Entidad_inegi', 'Municipio_inegi', 'CVE_ENT', 'CVE_MUN']]\n",
    "        matches = matches.drop_duplicates()\n",
    "\n",
    "        if len(matches) == 1:\n",
    "            # Si hay una coincidencia perfecta, asignar ESTADO y MUNICIPIO\n",
    "            row['ESTADO_match'], row['MUNICIPIO_match'], row['CVE_ENT'], row['CVE_MUN'] = matches.iloc[0]\n",
    "            nuevas_filas.append(row)\n",
    "        elif len(matches) > 1:\n",
    "            # Para múltiples coincidencias, crear una fila por cada coincidencia\n",
    "            for _, match in matches.iterrows():\n",
    "                nueva_fila = row.copy()\n",
    "                nueva_fila['ESTADO_match'], nueva_fila['MUNICIPIO_match'], nueva_fila['CVE_ENT'], nueva_fila[\n",
    "                    'CVE_MUN'] = match\n",
    "                nuevas_filas.append(nueva_fila)\n",
    "        else:\n",
    "            # Si no hay coincidencias, asignar NaN\n",
    "            row['ESTADO_match'], row['MUNICIPIO_match'], row['CVE_ENT'], row['CVE_MUN'] = np.nan, np.nan, np.nan, np.nan\n",
    "            nuevas_filas.append(row)\n",
    "            contador_sin_match += 1\n",
    "\n",
    "    # Aplicar la función a cada fila de df_origen\n",
    "    df_origen.apply(buscar_y_asignar, axis=1)\n",
    "\n",
    "    # Crear un nuevo DataFrame a partir de las nuevas filas\n",
    "    df_modificado = pd.DataFrame(nuevas_filas)\n",
    "    print(\"Sin match: \", contador_sin_match)\n",
    "    return df_modificado"
   ],
   "id": "b4ea08f067e839e5",
   "outputs": [],
   "execution_count": 100
  },
  {
   "metadata": {
    "ExecuteTime": {
     "end_time": "2024-07-08T18:37:08.617721Z",
     "start_time": "2024-07-08T18:33:19.837113Z"
    }
   },
   "cell_type": "code",
   "source": "benef_nacional_corr_2023 = asignar_entidad_municipio(benef_nacional, beneficiarios_complete)",
   "id": "ce2c97704ca813bf",
   "outputs": [
    {
     "name": "stdout",
     "output_type": "stream",
     "text": [
      "Sin match:  1922\n"
     ]
    }
   ],
   "execution_count": 101
  },
  {
   "metadata": {
    "ExecuteTime": {
     "end_time": "2024-07-08T18:41:46.787766Z",
     "start_time": "2024-07-08T18:41:46.782502Z"
    }
   },
   "cell_type": "code",
   "source": [
    "benef_nacional_sin_match = benef_nacional_corr_2023[benef_nacional_corr_2023['CVE_ENT'].isnull()]\n",
    "benef_nacional_con_match = benef_nacional_corr_2023[benef_nacional_corr_2023['ESTADO_match'].notnull()]\n",
    "# TODO quitar los key_name con valores con match del pandas\n",
    "print(\"Beneficiarios 2023: \", benef_nacional_corr_2023.shape)"
   ],
   "id": "5dfb98498f3d8d01",
   "outputs": [
    {
     "name": "stdout",
     "output_type": "stream",
     "text": [
      "Beneficiarios 2023:  (3892, 10)\n"
     ]
    }
   ],
   "execution_count": 109
  },
  {
   "metadata": {
    "ExecuteTime": {
     "end_time": "2024-07-08T18:40:20.671456Z",
     "start_time": "2024-07-08T18:40:20.666104Z"
    }
   },
   "cell_type": "code",
   "source": [
    "print(\"Beneficiarios sin match: \", benef_nacional_sin_match.shape)\n",
    "print(\"Beneficiarios con match: \", benef_nacional_con_match.shape)"
   ],
   "id": "4ccfd3821ae9d4a7",
   "outputs": [
    {
     "name": "stdout",
     "output_type": "stream",
     "text": [
      "Beneficiarios sin match:  (0, 10)\n",
      "Beneficiarios con match:  (3892, 10)\n"
     ]
    }
   ],
   "execution_count": 108
  },
  {
   "metadata": {
    "ExecuteTime": {
     "end_time": "2024-07-08T18:43:51.513902Z",
     "start_time": "2024-07-08T18:43:51.505200Z"
    }
   },
   "cell_type": "code",
   "source": [
    "benef_nacional_con_match = benef_nacional_con_match.drop_duplicates(subset=['key_name', 'FECHA', 'ENTIDAD', 'MUNICIPIO'])\n",
    "print(\"Beneficiarios sin match: \", benef_nacional_con_match.shape)"
   ],
   "id": "2eb69e2f8ca28fb7",
   "outputs": [
    {
     "name": "stdout",
     "output_type": "stream",
     "text": [
      "Beneficiarios sin match:  (101, 10)\n"
     ]
    }
   ],
   "execution_count": 111
  },
  {
   "metadata": {
    "ExecuteTime": {
     "end_time": "2024-07-08T17:32:33.125538Z",
     "start_time": "2024-07-08T17:32:33.116862Z"
    }
   },
   "cell_type": "code",
   "source": "benef_nacional_con_match.columns",
   "id": "e6dcb30a5211ddd8",
   "outputs": [
    {
     "data": {
      "text/plain": [
       "Index(['BENEFICIARIO', 'ZONA', 'ENTIDAD', 'MUNICIPIO', 'LOCALIDAD',\n",
       "       'ESTRATIFICACIÓN', 'PROGRAMA', 'COMPONENTE', 'SUBCOMPONENTE',\n",
       "       'PRODUCTO', 'FECHA', 'MONTO FEDERAL', 'APOYO', 'ACTIVIDAD', 'ESLABÓN',\n",
       "       'CICLO AGRÍCOLA', 'key_name', 'ESTADO_match', 'MUNICIPIO_match',\n",
       "       'CVE_ENT', 'CVE_MUN'],\n",
       "      dtype='object')"
      ]
     },
     "execution_count": 54,
     "metadata": {},
     "output_type": "execute_result"
    }
   ],
   "execution_count": 54
  },
  {
   "metadata": {
    "ExecuteTime": {
     "end_time": "2024-07-08T18:42:23.430122Z",
     "start_time": "2024-07-08T18:42:23.412844Z"
    }
   },
   "cell_type": "code",
   "source": [
    "benef_nacional_con_match.to_csv('../../data/productores_beneficiarios 2019-2022/match_beneficiarios_2023.csv',\n",
    "                                index=False)\n",
    "benef_nacional_sin_match.to_csv('../../data/productores_beneficiarios 2019-2022/sin_match_beneficiarios_2023.csv',\n",
    "                                index=False)\n"
   ],
   "id": "9d4e4db1fabed909",
   "outputs": [],
   "execution_count": 110
  },
  {
   "cell_type": "code",
   "id": "7b722d34",
   "metadata": {},
   "source": [
    "# Función para buscar ENTIDAD y MUNICIPIO y asignar match_result\n",
    "# def buscar_entidad_municipio(row):\n",
    "#     clave = row['clave']\n",
    "#     matches = beneficiarios_complete[beneficiarios_not_null['nombre_completo'] == clave][\n",
    "#         ['ESTADO', 'MUNICIPIO']].drop_duplicates()\n",
    "# \n",
    "#     if len(matches) == 0:\n",
    "#         return 'cero_match', np.nan, np.nan\n",
    "#     elif len(matches) == 1:\n",
    "#         return 'perfect_match', matches.iloc[0]['ESTADO'], matches.iloc[0]['MUNICIPIO']\n",
    "#     else:\n",
    "#         return 'homonym', np.nan, np.nan  # NACIONAL NACIONAL. \n",
    "# \n",
    "# \n",
    "# # Aplicar la función buscar_entidad_municipio a cada fila de benef_2019_nacional\n",
    "# benef_2019_nacional_not_null[['match_result', 'ENTIDAD', 'MUNICIPIO']] = benef_2019_nacional_not_null.apply(\n",
    "#     buscar_entidad_municipio, axis=1, result_type='expand')"
   ],
   "outputs": [],
   "execution_count": null
  },
  {
   "cell_type": "code",
   "id": "348398f4",
   "metadata": {},
   "source": "# benef_2019_nacional_not_null.match_result",
   "outputs": [],
   "execution_count": null
  },
  {
   "metadata": {},
   "cell_type": "markdown",
   "source": "# Buscar coincidencias en Productores Autorizados 2023",
   "id": "75f580f3e88de7c8"
  },
  {
   "metadata": {},
   "cell_type": "code",
   "source": [
    "autorizados_complete = autorizados_complete.dropna(subset=['APELLIDO PATERNO', 'APELLIDO MATERNO', 'NOMBRE (S)']).copy()\n",
    "\n",
    "# Crear la clave (nombre completo en minúsculas, sin acentos y sin espacios)\n",
    "autorizados_complete['key_name'] = ((autorizados_complete['APELLIDO PATERNO'] +\n",
    "                                     autorizados_complete['APELLIDO MATERNO'] +\n",
    "                                     autorizados_complete['NOMBRE (S)'])\n",
    "                                    .str.lower()\n",
    "                                    .apply(remover_acentos)\n",
    "                                    .str.replace(r' ', ''))"
   ],
   "id": "a4bc6cd9d9e4427",
   "outputs": [],
   "execution_count": null
  },
  {
   "metadata": {},
   "cell_type": "code",
   "source": "autorizados_complete.columns",
   "id": "c7d23232ce2223c0",
   "outputs": [],
   "execution_count": null
  },
  {
   "metadata": {},
   "cell_type": "code",
   "source": [
    "# En el conjunto de datos de productores los estados y municipios de inegi se encuentran las columnas Entidad_inegi y Municipio_inegi\n",
    "def asignar_entidad_municipio_productores(df_origen, df_destino):\n",
    "    # Función para buscar y asignar ESTADO y MUNICIPIO basado en key_name\n",
    "    def buscar_y_asignar(row):\n",
    "        clave = row['key_name']\n",
    "        # Buscar coincidencias en df_destino\n",
    "        matches = df_destino[df_destino['key_name'] == clave][['NOM_ENT', 'NOM_MUN']]\n",
    "\n",
    "        if len(matches) == 1:\n",
    "            # Si hay una coincidencia perfecta, asignar ESTADO y MUNICIPIO\n",
    "            return matches.iloc[0]['NOM_ENT'], matches.iloc[0]['NOM_MUN']\n",
    "        else:\n",
    "            # Si no hay coincidencias o hay múltiples, asignar NaN\n",
    "            return np.nan, np.nan\n",
    "\n",
    "    # Aplicar la función a cada fila de df_origen y expandir los resultados en nuevas columnas\n",
    "    df_origen[['ESTADO_match', 'MUNICIPIO_match']] = df_origen.apply(buscar_y_asignar, axis=1, result_type='expand')\n",
    "\n",
    "    return df_origen\n"
   ],
   "id": "3431124fc6bf3a01",
   "outputs": [],
   "execution_count": null
  },
  {
   "metadata": {},
   "cell_type": "code",
   "source": "benef_nacional_corr_autorizados = asignar_entidad_municipio_productores(benef_nacional, autorizados_complete)",
   "id": "95685b4a7b3b7f9c",
   "outputs": [],
   "execution_count": null
  },
  {
   "metadata": {},
   "cell_type": "code",
   "source": [
    "benef_nacional_sin_match = benef_nacional_corr_2023[benef_nacional_corr_2023['ESTADO_match'].isnull()]\n",
    "benef_nacional_con_match = benef_nacional_corr_2023[benef_nacional_corr_2023['ESTADO_match'].notnull()]"
   ],
   "id": "f3f3badf49b02c84",
   "outputs": [],
   "execution_count": null
  },
  {
   "metadata": {},
   "cell_type": "code",
   "source": [
    "benef_nacional_con_match.to_csv('../../data/productores_beneficiarios 2019-2022/match_productores_2023.csv',\n",
    "                                index=False)\n",
    "benef_nacional_sin_match.to_csv('../../data/productores_beneficiarios 2019-2022/sin_match_productores_2023.csv',\n",
    "                                index=False)"
   ],
   "id": "4c9e30a24fea86b7",
   "outputs": [],
   "execution_count": null
  },
  {
   "metadata": {},
   "cell_type": "code",
   "source": [
    "print(\"Beneficiarios con match: \", benef_nacional_con_match.shape)\n",
    "print(\"Beneficiarios sin match: \", benef_nacional_sin_match.shape)"
   ],
   "id": "fa3987a9a931987e",
   "outputs": [],
   "execution_count": null
  },
  {
   "cell_type": "markdown",
   "id": "13418951",
   "metadata": {},
   "source": [
    "## TODO\n",
    "* Recorrer 2019 y 2020 para y establecer una columna "
   ]
  }
 ],
 "metadata": {
  "kernelspec": {
   "display_name": "Python 3 (ipykernel)",
   "language": "python",
   "name": "python3"
  },
  "language_info": {
   "codemirror_mode": {
    "name": "ipython",
    "version": 3
   },
   "file_extension": ".py",
   "mimetype": "text/x-python",
   "name": "python",
   "nbconvert_exporter": "python",
   "pygments_lexer": "ipython3",
   "version": "3.11.5"
  }
 },
 "nbformat": 4,
 "nbformat_minor": 5
}
