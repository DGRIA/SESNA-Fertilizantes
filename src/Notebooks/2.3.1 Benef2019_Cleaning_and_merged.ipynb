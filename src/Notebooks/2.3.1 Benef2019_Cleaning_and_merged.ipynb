{
 "cells": [
  {
   "cell_type": "markdown",
   "metadata": {},
   "source": [
    "# Data Cleaning Listado de Listado de Beneficiarios 2019"
   ]
  },
  {
   "cell_type": "markdown",
   "metadata": {},
   "source": [
    "## Autores\n",
    "- José Luis Delgado Dávara\n",
    "- Arturo Ortiz Aguilar\n",
    "- Beltrán Valle Gutiérrez-Cortines"
   ]
  },
  {
   "cell_type": "markdown",
   "metadata": {},
   "source": [
    "## Importante leer para entender\n",
    "\n",
    "En este Notebook se trabaja con 3 listados importantes:\n",
    "\n",
    "1. beneficiarios_19 -> Dataset con el listado de TODOS los beneficiarios de 2019.\n",
    "2. Estados_Beneficiarios_2019_2022 -> Dataset sólo con los estados *únicos* encontrados en el dataset anterior.\n",
    "3. Diccionario -> Emparejamiento entre ambos listados de beneficiarios\n",
    "4. Dataset_Inegi -> Catálogo obtenido de Inegi"
   ]
  },
  {
   "cell_type": "code",
   "execution_count": 1,
   "metadata": {},
   "outputs": [],
   "source": [
    "import pandas as pd\n",
    "import seaborn as sns\n",
    "from thefuzz import fuzz\n",
    "from thefuzz import process\n",
    "import matplotlib.pyplot as plt\n",
    "import numpy as np\n",
    "import os\n",
    "import glob\n",
    "import re\n",
    "import unidecode"
   ]
  },
  {
   "cell_type": "code",
   "execution_count": 2,
   "metadata": {},
   "outputs": [],
   "source": [
    "def clean_text(text):\n",
    "    \"\"\"\n",
    "    De esta manera tenemos el texto sin espacios blancos extra y sobre todo con todas las palabras con capitalización correcta.\n",
    "    \"\"\"\n",
    "    if pd.isna(text):\n",
    "        return text\n",
    "    text = text.strip()  # Eliminate white spaces\n",
    "    text = text.lower()  # Convert to lowercase\n",
    "    text = unidecode.unidecode(text)  # Remove accents\n",
    "    text = re.sub('-.*-', '', text) #Remove what is in between - -\n",
    "    text = re.sub('\\s+', ' ', text)  # Eliminate extra white spaces\n",
    "    text = re.sub('^\\s+|\\s+?$', '', text)  # Eliminate spaces at the beginning and end\n",
    "    return text"
   ]
  },
  {
   "cell_type": "markdown",
   "metadata": {},
   "source": [
    "# 1. Lectura y limpieza de datos"
   ]
  },
  {
   "cell_type": "markdown",
   "metadata": {},
   "source": [
    "### 1.1 Beneficiarios 2019\n",
    "\n",
    "Obtenemos el listado único de localidades y listado único de municipios con sus claves."
   ]
  },
  {
   "cell_type": "code",
   "execution_count": 3,
   "metadata": {},
   "outputs": [],
   "source": [
    "beneficiarios_19 = pd.read_csv('../../data/productores_beneficiarios 2019-2022/fertilizantes_2019.csv', encoding='utf-8', skiprows=0)"
   ]
  },
  {
   "cell_type": "code",
   "execution_count": 4,
   "metadata": {},
   "outputs": [],
   "source": [
    "beneficiarios_19 = beneficiarios_19[~((beneficiarios_19['ENTIDAD'] == 'NACIONAL') & (beneficiarios_19['MUNICIPIO'] == 'NACIONAL') & (beneficiarios_19['LOCALIDAD'] == 'NACIONAL'))]"
   ]
  },
  {
   "cell_type": "code",
   "execution_count": 5,
   "metadata": {},
   "outputs": [
    {
     "data": {
      "text/plain": [
       "(275026, 16)"
      ]
     },
     "execution_count": 5,
     "metadata": {},
     "output_type": "execute_result"
    }
   ],
   "source": [
    "beneficiarios_19.shape"
   ]
  },
  {
   "cell_type": "code",
   "execution_count": 6,
   "metadata": {},
   "outputs": [
    {
     "data": {
      "text/plain": [
       "array(['GUERRERO', nan], dtype=object)"
      ]
     },
     "execution_count": 6,
     "metadata": {},
     "output_type": "execute_result"
    }
   ],
   "source": [
    "beneficiarios_19['ENTIDAD'].unique()"
   ]
  },
  {
   "cell_type": "markdown",
   "metadata": {},
   "source": [
    "Dropeamos los tres valores nulos debido a que las rows enteras salen como nan"
   ]
  },
  {
   "cell_type": "code",
   "execution_count": 7,
   "metadata": {},
   "outputs": [],
   "source": [
    "beneficiarios_19.dropna(inplace=True)"
   ]
  },
  {
   "cell_type": "code",
   "execution_count": 8,
   "metadata": {},
   "outputs": [],
   "source": [
    "# Obtenemos las localidades únicas en el dataset.\n",
    "Municipios_19 = beneficiarios_19[['ENTIDAD', 'MUNICIPIO']]\n",
    "Municipios_19 = Municipios_19.drop_duplicates()"
   ]
  },
  {
   "cell_type": "code",
   "execution_count": 9,
   "metadata": {},
   "outputs": [],
   "source": [
    "# Estandarizamos la limpieza de los datos\n",
    "Municipios_19['ENTIDAD_c_benef'] = Municipios_19['ENTIDAD'].apply(clean_text)\n",
    "Municipios_19['MUNICIPIO_c_benef'] = Municipios_19['MUNICIPIO'].apply(clean_text)"
   ]
  },
  {
   "cell_type": "code",
   "execution_count": 10,
   "metadata": {},
   "outputs": [],
   "source": [
    "# Creamos las dos keys de beneficiarios \n",
    "Municipios_19['KEY_benef_mun'] = Municipios_19['ENTIDAD_c_benef'].astype(str) + '-' + Municipios_19[\n",
    "    'MUNICIPIO_c_benef'].astype(str)"
   ]
  },
  {
   "cell_type": "code",
   "execution_count": 11,
   "metadata": {},
   "outputs": [
    {
     "data": {
      "text/plain": [
       "(81, 5)"
      ]
     },
     "execution_count": 11,
     "metadata": {},
     "output_type": "execute_result"
    }
   ],
   "source": [
    "Municipios_19.shape"
   ]
  },
  {
   "cell_type": "code",
   "execution_count": 12,
   "metadata": {},
   "outputs": [
    {
     "data": {
      "text/plain": [
       "Index(['ENTIDAD', 'MUNICIPIO', 'ENTIDAD_c_benef', 'MUNICIPIO_c_benef',\n",
       "       'KEY_benef_mun'],\n",
       "      dtype='object')"
      ]
     },
     "execution_count": 12,
     "metadata": {},
     "output_type": "execute_result"
    }
   ],
   "source": [
    "Municipios_19.columns"
   ]
  },
  {
   "cell_type": "markdown",
   "metadata": {},
   "source": [
    "### 1.2 INEGI 2019\n",
    "\n",
    "Obtener listado único de municipios y listado único de localidades de inegi de 2019 con sus claves."
   ]
  },
  {
   "cell_type": "code",
   "execution_count": 13,
   "metadata": {},
   "outputs": [],
   "source": [
    "path_dataset_inegi_2019 = '../../data/inegi/dataset_inegi_clean_2019.csv'\n",
    "#dataset_inegi_clean = pd.read_csv(path_dataset_inegi_2022, encoding='utf-8', dtype={'CVE_ENT': str, 'CVE_MUN': str, 'CVE_LOC': str})\n",
    "dataset_inegi_2019 = pd.read_csv(path_dataset_inegi_2019)"
   ]
  },
  {
   "cell_type": "markdown",
   "metadata": {},
   "source": [
    "### 1.2.1 INEGI 2019 Municipios únicos para cada año."
   ]
  },
  {
   "cell_type": "code",
   "execution_count": 14,
   "metadata": {},
   "outputs": [],
   "source": [
    "dataset_inegi_2019['KEY_inegi_municipio'] = dataset_inegi_2019['Entidad_c_inegi'].astype(str) + '-' + dataset_inegi_2019[\n",
    "    'Municipio_c_inegi'].astype(str) \n",
    "dataset_inegi_2019['KEY_inegi_localidad'] = dataset_inegi_2019['Municipio_c_inegi'].astype(str) + '-' + dataset_inegi_2019['Localidad_c_inegi'].astype(str)"
   ]
  },
  {
   "cell_type": "code",
   "execution_count": 15,
   "metadata": {},
   "outputs": [],
   "source": [
    "INEGI_UNIQUEMUN_2019 = dataset_inegi_2019.drop(columns=[\"CVE_LOC\", \"Localidad_inegi\", \"Localidad_c_inegi\", \"KEY_inegi_localidad\", \"POB_TOTAL\"])\n",
    "\n",
    "INEGI_UNIQUEMUN_2019 = INEGI_UNIQUEMUN_2019.drop_duplicates()"
   ]
  },
  {
   "cell_type": "code",
   "execution_count": 16,
   "metadata": {},
   "outputs": [
    {
     "data": {
      "text/plain": [
       "(2465, 7)"
      ]
     },
     "execution_count": 16,
     "metadata": {},
     "output_type": "execute_result"
    }
   ],
   "source": [
    "INEGI_UNIQUEMUN_2019.shape"
   ]
  },
  {
   "cell_type": "code",
   "execution_count": 17,
   "metadata": {},
   "outputs": [
    {
     "data": {
      "text/plain": [
       "Index(['CVE_ENT', 'Entidad_inegi', 'CVE_MUN', 'Municipio_inegi',\n",
       "       'Entidad_c_inegi', 'Municipio_c_inegi', 'KEY_inegi_municipio'],\n",
       "      dtype='object')"
      ]
     },
     "execution_count": 17,
     "metadata": {},
     "output_type": "execute_result"
    }
   ],
   "source": [
    "INEGI_UNIQUEMUN_2019.columns"
   ]
  },
  {
   "cell_type": "markdown",
   "metadata": {},
   "source": [
    "# 2. Diccionario de los datasets de INEGI Y LISTADO BENEFICIARIOS 2019\n",
    "\n",
    "El objetivo de esta sección es crear dos diccionarios de códigos según BENEFICIARIOS-MUNICIPIOS_INEGI y otro BENEFICIARIOS-LOCALIDADES_INEGI, para cada uno de los estados encontrados en inegi_2019, en este caso el número de keys es menor con lo cual no nos hará falta dividir por estado.\n",
    "\n",
    "Para ello haremos un Left join entre Localidades_19 y el dataset de INEGI correspondiente."
   ]
  },
  {
   "cell_type": "code",
   "execution_count": 18,
   "metadata": {},
   "outputs": [],
   "source": [
    "# Crear una función para encontrar la mejor coincidencia difusa con límites entre 85 y 100 de coincidencia\n",
    "def fuzzy_merge_benef2019_2022(df_benef, df_inegi, key1, key2, threshold=85, limit=1):\n",
    "    \"\"\"\n",
    "    df_inegi: DataFrame de la izquierda (el DataFrame principal)\n",
    "    df_prod: DataFrame de la derecha (el DataFrame con el que se quiere hacer el join)\n",
    "    key1: Columna de la clave en df_inegi\n",
    "    key2: Columna de la clave en df_prod\n",
    "    threshold: Umbral de coincidencia difusa\n",
    "    limit: Número de coincidencias a encontrar\n",
    "    \"\"\"\n",
    "    s = df_inegi[key2].tolist()\n",
    "    \n",
    "    # Encontrar las mejores coincidencias para cada clave en df_inegi\n",
    "    matches = df_benef[key1].apply(lambda x: process.extractOne(x, s, score_cutoff=threshold))\n",
    "\n",
    "\n",
    "    # Crear una columna con las mejores coincidencias\n",
    "    df_benef['best_match'] = [match[0] if match else None for match in matches]\n",
    "    \n",
    "    df_benef['match_score'] = [match[1] if match else None for match in matches]\n",
    "    \n",
    "\n",
    "    # Hacer el merge con las mejores coincidencias\n",
    "    df_merged = pd.merge(df_benef, df_inegi, left_on='best_match', right_on=key2, how='left',\n",
    "                         suffixes=('_benef', '_inegi'))\n",
    "    \n",
    "    return df_merged"
   ]
  },
  {
   "cell_type": "code",
   "execution_count": 19,
   "metadata": {},
   "outputs": [
    {
     "data": {
      "text/plain": [
       "(81, 14)"
      ]
     },
     "execution_count": 19,
     "metadata": {},
     "output_type": "execute_result"
    }
   ],
   "source": [
    "diccionario_MUN_19 = fuzzy_merge_benef2019_2022(Municipios_19, INEGI_UNIQUEMUN_2019, 'KEY_benef_mun', 'KEY_inegi_municipio')\n",
    "diccionario_MUN_19.shape"
   ]
  },
  {
   "cell_type": "code",
   "execution_count": 20,
   "metadata": {},
   "outputs": [],
   "source": [
    "diccionario_MUN_19.drop(columns=['ENTIDAD', 'MUNICIPIO', 'ENTIDAD_c_benef', 'MUNICIPIO_c_benef', 'Entidad_c_inegi',\n",
    "       'Municipio_c_inegi'], inplace=True)"
   ]
  },
  {
   "cell_type": "code",
   "execution_count": 21,
   "metadata": {},
   "outputs": [],
   "source": [
    "diccionario_MUN_19.to_csv('../../data/productores_beneficiarios 2019-2022/diccionarios_E3/diccionario_MUN_19.csv', index=False)"
   ]
  },
  {
   "cell_type": "code",
   "execution_count": 22,
   "metadata": {},
   "outputs": [],
   "source": [
    "diccionario_MUN_19_simple = pd.read_csv('../../data/productores_beneficiarios 2019-2022/diccionarios_E3/diccionario_MUN_19_simple.csv')"
   ]
  },
  {
   "cell_type": "code",
   "execution_count": 23,
   "metadata": {},
   "outputs": [],
   "source": [
    "nan_rows = beneficiarios_19[beneficiarios_19.isna().any(axis=1)]"
   ]
  },
  {
   "cell_type": "code",
   "execution_count": 24,
   "metadata": {},
   "outputs": [
    {
     "data": {
      "text/html": [
       "<div>\n",
       "<style scoped>\n",
       "    .dataframe tbody tr th:only-of-type {\n",
       "        vertical-align: middle;\n",
       "    }\n",
       "\n",
       "    .dataframe tbody tr th {\n",
       "        vertical-align: top;\n",
       "    }\n",
       "\n",
       "    .dataframe thead th {\n",
       "        text-align: right;\n",
       "    }\n",
       "</style>\n",
       "<table border=\"1\" class=\"dataframe\">\n",
       "  <thead>\n",
       "    <tr style=\"text-align: right;\">\n",
       "      <th></th>\n",
       "      <th>BENEFICIARIO</th>\n",
       "      <th>ZONA</th>\n",
       "      <th>ENTIDAD</th>\n",
       "      <th>MUNICIPIO</th>\n",
       "      <th>LOCALIDAD</th>\n",
       "      <th>ESTRATIFICACIÓN</th>\n",
       "      <th>PROGRAMA</th>\n",
       "      <th>COMPONENTE</th>\n",
       "      <th>SUBCOMPONENTE</th>\n",
       "      <th>PRODUCTO</th>\n",
       "      <th>FECHA</th>\n",
       "      <th>MONTO FEDERAL</th>\n",
       "      <th>APOYO</th>\n",
       "      <th>ACTIVIDAD</th>\n",
       "      <th>ESLABÓN</th>\n",
       "      <th>CICLO AGRÍCOLA</th>\n",
       "    </tr>\n",
       "  </thead>\n",
       "  <tbody>\n",
       "  </tbody>\n",
       "</table>\n",
       "</div>"
      ],
      "text/plain": [
       "Empty DataFrame\n",
       "Columns: [BENEFICIARIO, ZONA, ENTIDAD, MUNICIPIO, LOCALIDAD, ESTRATIFICACIÓN, PROGRAMA, COMPONENTE, SUBCOMPONENTE, PRODUCTO, FECHA, MONTO FEDERAL, APOYO, ACTIVIDAD, ESLABÓN, CICLO AGRÍCOLA]\n",
       "Index: []"
      ]
     },
     "execution_count": 24,
     "metadata": {},
     "output_type": "execute_result"
    }
   ],
   "source": [
    "nan_rows"
   ]
  },
  {
   "cell_type": "code",
   "execution_count": 25,
   "metadata": {},
   "outputs": [],
   "source": [
    "# Assuming your DataFrame is named df\n",
    "filtered_df = beneficiarios_19[beneficiarios_19['ENTIDAD'] == 'NACIONAL']"
   ]
  },
  {
   "cell_type": "code",
   "execution_count": 26,
   "metadata": {},
   "outputs": [
    {
     "data": {
      "text/html": [
       "<div>\n",
       "<style scoped>\n",
       "    .dataframe tbody tr th:only-of-type {\n",
       "        vertical-align: middle;\n",
       "    }\n",
       "\n",
       "    .dataframe tbody tr th {\n",
       "        vertical-align: top;\n",
       "    }\n",
       "\n",
       "    .dataframe thead th {\n",
       "        text-align: right;\n",
       "    }\n",
       "</style>\n",
       "<table border=\"1\" class=\"dataframe\">\n",
       "  <thead>\n",
       "    <tr style=\"text-align: right;\">\n",
       "      <th></th>\n",
       "      <th>BENEFICIARIO</th>\n",
       "      <th>ZONA</th>\n",
       "      <th>ENTIDAD</th>\n",
       "      <th>MUNICIPIO</th>\n",
       "      <th>LOCALIDAD</th>\n",
       "      <th>ESTRATIFICACIÓN</th>\n",
       "      <th>PROGRAMA</th>\n",
       "      <th>COMPONENTE</th>\n",
       "      <th>SUBCOMPONENTE</th>\n",
       "      <th>PRODUCTO</th>\n",
       "      <th>FECHA</th>\n",
       "      <th>MONTO FEDERAL</th>\n",
       "      <th>APOYO</th>\n",
       "      <th>ACTIVIDAD</th>\n",
       "      <th>ESLABÓN</th>\n",
       "      <th>CICLO AGRÍCOLA</th>\n",
       "    </tr>\n",
       "  </thead>\n",
       "  <tbody>\n",
       "  </tbody>\n",
       "</table>\n",
       "</div>"
      ],
      "text/plain": [
       "Empty DataFrame\n",
       "Columns: [BENEFICIARIO, ZONA, ENTIDAD, MUNICIPIO, LOCALIDAD, ESTRATIFICACIÓN, PROGRAMA, COMPONENTE, SUBCOMPONENTE, PRODUCTO, FECHA, MONTO FEDERAL, APOYO, ACTIVIDAD, ESLABÓN, CICLO AGRÍCOLA]\n",
       "Index: []"
      ]
     },
     "execution_count": 26,
     "metadata": {},
     "output_type": "execute_result"
    }
   ],
   "source": [
    "filtered_df"
   ]
  },
  {
   "cell_type": "markdown",
   "metadata": {},
   "source": [
    "### MERGE\n",
    "\n",
    "Armamos por partes el dataset definitivo:\n",
    "1. Juntamos beneficiarios_19 con el diccionario simple. (listado_beneficiario_parte_I)\n",
    "2. Al df anterior juntamos las claver provenientes del catálogo de Inegi. (listado_beneficiario_parte_II)"
   ]
  },
  {
   "cell_type": "code",
   "execution_count": 27,
   "metadata": {},
   "outputs": [
    {
     "data": {
      "text/plain": [
       "Index(['BENEFICIARIO', 'ZONA', 'ENTIDAD', 'MUNICIPIO', 'LOCALIDAD',\n",
       "       'ESTRATIFICACIÓN', 'PROGRAMA', 'COMPONENTE', 'SUBCOMPONENTE',\n",
       "       'PRODUCTO', 'FECHA', 'MONTO FEDERAL', 'APOYO', 'ACTIVIDAD', 'ESLABÓN',\n",
       "       'CICLO AGRÍCOLA'],\n",
       "      dtype='object')"
      ]
     },
     "execution_count": 27,
     "metadata": {},
     "output_type": "execute_result"
    }
   ],
   "source": [
    "beneficiarios_19.columns"
   ]
  },
  {
   "cell_type": "code",
   "execution_count": 28,
   "metadata": {},
   "outputs": [],
   "source": [
    "# Crear una variable KEY en listado de productores y el diccionario para hacer el join\n",
    "\n",
    "# Clean listado beneficiarios\n",
    "beneficiarios_19['ESTADO_Clean'] = beneficiarios_19['ENTIDAD'].apply(clean_text)\n",
    "beneficiarios_19['MUNICIPIO_Clean'] = beneficiarios_19['MUNICIPIO'].apply(clean_text)\n",
    "\n",
    "# Create KEY in listado beneficiarios\n",
    "beneficiarios_19['Estado-mun-KEY'] = beneficiarios_19['ESTADO_Clean'].astype(str) + '-' + beneficiarios_19[\n",
    "    'MUNICIPIO_Clean'].astype(str)"
   ]
  },
  {
   "cell_type": "code",
   "execution_count": 29,
   "metadata": {},
   "outputs": [],
   "source": [
    "# Hacer el join de la Parte I\n",
    "listado_beneficiarios_parte_I = pd.merge(beneficiarios_19, diccionario_MUN_19_simple, left_on=\"Estado-mun-KEY\",\n",
    "                                        right_on=\"KEY_benef_mun\", how='left', suffixes=('_benef', '_inegi'))"
   ]
  },
  {
   "cell_type": "code",
   "execution_count": 30,
   "metadata": {},
   "outputs": [
    {
     "data": {
      "text/plain": [
       "Index(['BENEFICIARIO', 'ZONA', 'ENTIDAD', 'MUNICIPIO', 'LOCALIDAD',\n",
       "       'ESTRATIFICACIÓN', 'PROGRAMA', 'COMPONENTE', 'SUBCOMPONENTE',\n",
       "       'PRODUCTO', 'FECHA', 'MONTO FEDERAL', 'APOYO', 'ACTIVIDAD', 'ESLABÓN',\n",
       "       'CICLO AGRÍCOLA', 'ESTADO_Clean', 'MUNICIPIO_Clean', 'Estado-mun-KEY',\n",
       "       'KEY_benef_mun', 'KEY_inegi_municipio'],\n",
       "      dtype='object')"
      ]
     },
     "execution_count": 30,
     "metadata": {},
     "output_type": "execute_result"
    }
   ],
   "source": [
    "listado_beneficiarios_parte_I.columns"
   ]
  },
  {
   "cell_type": "code",
   "execution_count": 31,
   "metadata": {},
   "outputs": [],
   "source": [
    "# Hacer el join de la Parte II\n",
    "listado_beneficiarios_parte_II = pd.merge(listado_beneficiarios_parte_I, INEGI_UNIQUEMUN_2019, left_on=\"KEY_inegi_municipio\",\n",
    "                                        right_on=\"KEY_inegi_municipio\", how='left', suffixes=('_benef', '_inegi'))"
   ]
  },
  {
   "cell_type": "code",
   "execution_count": 32,
   "metadata": {},
   "outputs": [
    {
     "data": {
      "text/html": [
       "<div>\n",
       "<style scoped>\n",
       "    .dataframe tbody tr th:only-of-type {\n",
       "        vertical-align: middle;\n",
       "    }\n",
       "\n",
       "    .dataframe tbody tr th {\n",
       "        vertical-align: top;\n",
       "    }\n",
       "\n",
       "    .dataframe thead th {\n",
       "        text-align: right;\n",
       "    }\n",
       "</style>\n",
       "<table border=\"1\" class=\"dataframe\">\n",
       "  <thead>\n",
       "    <tr style=\"text-align: right;\">\n",
       "      <th></th>\n",
       "      <th>BENEFICIARIO</th>\n",
       "      <th>ZONA</th>\n",
       "      <th>ENTIDAD</th>\n",
       "      <th>MUNICIPIO</th>\n",
       "      <th>LOCALIDAD</th>\n",
       "      <th>ESTRATIFICACIÓN</th>\n",
       "      <th>PROGRAMA</th>\n",
       "      <th>COMPONENTE</th>\n",
       "      <th>SUBCOMPONENTE</th>\n",
       "      <th>PRODUCTO</th>\n",
       "      <th>...</th>\n",
       "      <th>MUNICIPIO_Clean</th>\n",
       "      <th>Estado-mun-KEY</th>\n",
       "      <th>KEY_benef_mun</th>\n",
       "      <th>KEY_inegi_municipio</th>\n",
       "      <th>CVE_ENT</th>\n",
       "      <th>Entidad_inegi</th>\n",
       "      <th>CVE_MUN</th>\n",
       "      <th>Municipio_inegi</th>\n",
       "      <th>Entidad_c_inegi</th>\n",
       "      <th>Municipio_c_inegi</th>\n",
       "    </tr>\n",
       "  </thead>\n",
       "  <tbody>\n",
       "    <tr>\n",
       "      <th>0</th>\n",
       "      <td>TORRES ROMERO SANTANA</td>\n",
       "      <td>CENTRO PAÍS</td>\n",
       "      <td>GUERRERO</td>\n",
       "      <td>AZOYÚ</td>\n",
       "      <td>LOS CHEGÜES</td>\n",
       "      <td>Alto</td>\n",
       "      <td>FERTILIZANTES</td>\n",
       "      <td>FERTILIZANTES</td>\n",
       "      <td>FERTILIZANTES</td>\n",
       "      <td>Cultivo de maíz grano</td>\n",
       "      <td>...</td>\n",
       "      <td>azoyu</td>\n",
       "      <td>guerrero-azoyu</td>\n",
       "      <td>guerrero-azoyu</td>\n",
       "      <td>guerrero-azoyu</td>\n",
       "      <td>12</td>\n",
       "      <td>Guerrero</td>\n",
       "      <td>13</td>\n",
       "      <td>Azoyú</td>\n",
       "      <td>guerrero</td>\n",
       "      <td>azoyu</td>\n",
       "    </tr>\n",
       "    <tr>\n",
       "      <th>1</th>\n",
       "      <td>GOMEZ PADILLA DEMETRIA</td>\n",
       "      <td>CENTRO PAÍS</td>\n",
       "      <td>GUERRERO</td>\n",
       "      <td>TECOANAPA</td>\n",
       "      <td>MECATEPEC</td>\n",
       "      <td>Alto</td>\n",
       "      <td>FERTILIZANTES</td>\n",
       "      <td>FERTILIZANTES</td>\n",
       "      <td>FERTILIZANTES</td>\n",
       "      <td>Cultivo de maíz grano</td>\n",
       "      <td>...</td>\n",
       "      <td>tecoanapa</td>\n",
       "      <td>guerrero-tecoanapa</td>\n",
       "      <td>guerrero-tecoanapa</td>\n",
       "      <td>guerrero-tecoanapa</td>\n",
       "      <td>12</td>\n",
       "      <td>Guerrero</td>\n",
       "      <td>56</td>\n",
       "      <td>Tecoanapa</td>\n",
       "      <td>guerrero</td>\n",
       "      <td>tecoanapa</td>\n",
       "    </tr>\n",
       "    <tr>\n",
       "      <th>2</th>\n",
       "      <td>GUERRERO MELCHOR ADRIAN</td>\n",
       "      <td>CENTRO PAÍS</td>\n",
       "      <td>GUERRERO</td>\n",
       "      <td>TELOLOAPAN</td>\n",
       "      <td>TLAJOCOTLA (LA HACIENDA)</td>\n",
       "      <td>Alto</td>\n",
       "      <td>FERTILIZANTES</td>\n",
       "      <td>FERTILIZANTES</td>\n",
       "      <td>FERTILIZANTES</td>\n",
       "      <td>Cultivo de maíz grano</td>\n",
       "      <td>...</td>\n",
       "      <td>teloloapan</td>\n",
       "      <td>guerrero-teloloapan</td>\n",
       "      <td>guerrero-teloloapan</td>\n",
       "      <td>guerrero-teloloapan</td>\n",
       "      <td>12</td>\n",
       "      <td>Guerrero</td>\n",
       "      <td>58</td>\n",
       "      <td>Teloloapan</td>\n",
       "      <td>guerrero</td>\n",
       "      <td>teloloapan</td>\n",
       "    </tr>\n",
       "    <tr>\n",
       "      <th>3</th>\n",
       "      <td>ROMERO GONZALEZ CELERINA</td>\n",
       "      <td>CENTRO PAÍS</td>\n",
       "      <td>GUERRERO</td>\n",
       "      <td>TELOLOAPAN</td>\n",
       "      <td>TELOLOAPAN</td>\n",
       "      <td>Medio</td>\n",
       "      <td>FERTILIZANTES</td>\n",
       "      <td>FERTILIZANTES</td>\n",
       "      <td>FERTILIZANTES</td>\n",
       "      <td>Cultivo de maíz grano</td>\n",
       "      <td>...</td>\n",
       "      <td>teloloapan</td>\n",
       "      <td>guerrero-teloloapan</td>\n",
       "      <td>guerrero-teloloapan</td>\n",
       "      <td>guerrero-teloloapan</td>\n",
       "      <td>12</td>\n",
       "      <td>Guerrero</td>\n",
       "      <td>58</td>\n",
       "      <td>Teloloapan</td>\n",
       "      <td>guerrero</td>\n",
       "      <td>teloloapan</td>\n",
       "    </tr>\n",
       "    <tr>\n",
       "      <th>4</th>\n",
       "      <td>GOMEZ CERON MA.MIREYA</td>\n",
       "      <td>CENTRO PAÍS</td>\n",
       "      <td>GUERRERO</td>\n",
       "      <td>TECOANAPA</td>\n",
       "      <td>LOS SAUCES</td>\n",
       "      <td>Alto</td>\n",
       "      <td>FERTILIZANTES</td>\n",
       "      <td>FERTILIZANTES</td>\n",
       "      <td>FERTILIZANTES</td>\n",
       "      <td>Cultivo de maíz grano</td>\n",
       "      <td>...</td>\n",
       "      <td>tecoanapa</td>\n",
       "      <td>guerrero-tecoanapa</td>\n",
       "      <td>guerrero-tecoanapa</td>\n",
       "      <td>guerrero-tecoanapa</td>\n",
       "      <td>12</td>\n",
       "      <td>Guerrero</td>\n",
       "      <td>56</td>\n",
       "      <td>Tecoanapa</td>\n",
       "      <td>guerrero</td>\n",
       "      <td>tecoanapa</td>\n",
       "    </tr>\n",
       "    <tr>\n",
       "      <th>...</th>\n",
       "      <td>...</td>\n",
       "      <td>...</td>\n",
       "      <td>...</td>\n",
       "      <td>...</td>\n",
       "      <td>...</td>\n",
       "      <td>...</td>\n",
       "      <td>...</td>\n",
       "      <td>...</td>\n",
       "      <td>...</td>\n",
       "      <td>...</td>\n",
       "      <td>...</td>\n",
       "      <td>...</td>\n",
       "      <td>...</td>\n",
       "      <td>...</td>\n",
       "      <td>...</td>\n",
       "      <td>...</td>\n",
       "      <td>...</td>\n",
       "      <td>...</td>\n",
       "      <td>...</td>\n",
       "      <td>...</td>\n",
       "      <td>...</td>\n",
       "    </tr>\n",
       "    <tr>\n",
       "      <th>275018</th>\n",
       "      <td>CASTILLO CUEVAS AMANCIO</td>\n",
       "      <td>CENTRO PAÍS</td>\n",
       "      <td>GUERRERO</td>\n",
       "      <td>TAXCO DE ALARCÓN</td>\n",
       "      <td>PAINTLA</td>\n",
       "      <td>Alto</td>\n",
       "      <td>FERTILIZANTES</td>\n",
       "      <td>FERTILIZANTES</td>\n",
       "      <td>FERTILIZANTES</td>\n",
       "      <td>Cultivo de maíz grano</td>\n",
       "      <td>...</td>\n",
       "      <td>taxco de alarcon</td>\n",
       "      <td>guerrero-taxco de alarcon</td>\n",
       "      <td>guerrero-taxco de alarcon</td>\n",
       "      <td>guerrero-taxco de alarcon</td>\n",
       "      <td>12</td>\n",
       "      <td>Guerrero</td>\n",
       "      <td>55</td>\n",
       "      <td>Taxco de Alarcón</td>\n",
       "      <td>guerrero</td>\n",
       "      <td>taxco de alarcon</td>\n",
       "    </tr>\n",
       "    <tr>\n",
       "      <th>275019</th>\n",
       "      <td>RUEDA SECUNDINO ANACLETO</td>\n",
       "      <td>CENTRO PAÍS</td>\n",
       "      <td>GUERRERO</td>\n",
       "      <td>TAXCO DE ALARCÓN</td>\n",
       "      <td>PAINTLA</td>\n",
       "      <td>Alto</td>\n",
       "      <td>FERTILIZANTES</td>\n",
       "      <td>FERTILIZANTES</td>\n",
       "      <td>FERTILIZANTES</td>\n",
       "      <td>Cultivo de maíz grano</td>\n",
       "      <td>...</td>\n",
       "      <td>taxco de alarcon</td>\n",
       "      <td>guerrero-taxco de alarcon</td>\n",
       "      <td>guerrero-taxco de alarcon</td>\n",
       "      <td>guerrero-taxco de alarcon</td>\n",
       "      <td>12</td>\n",
       "      <td>Guerrero</td>\n",
       "      <td>55</td>\n",
       "      <td>Taxco de Alarcón</td>\n",
       "      <td>guerrero</td>\n",
       "      <td>taxco de alarcon</td>\n",
       "    </tr>\n",
       "    <tr>\n",
       "      <th>275020</th>\n",
       "      <td>ARMENTA VILLEGAS LUIS</td>\n",
       "      <td>CENTRO PAÍS</td>\n",
       "      <td>GUERRERO</td>\n",
       "      <td>COCULA</td>\n",
       "      <td>COCULA</td>\n",
       "      <td>Alto</td>\n",
       "      <td>FERTILIZANTES</td>\n",
       "      <td>FERTILIZANTES</td>\n",
       "      <td>FERTILIZANTES</td>\n",
       "      <td>Cultivo de maíz grano</td>\n",
       "      <td>...</td>\n",
       "      <td>cocula</td>\n",
       "      <td>guerrero-cocula</td>\n",
       "      <td>guerrero-cocula</td>\n",
       "      <td>guerrero-cocula</td>\n",
       "      <td>12</td>\n",
       "      <td>Guerrero</td>\n",
       "      <td>17</td>\n",
       "      <td>Cocula</td>\n",
       "      <td>guerrero</td>\n",
       "      <td>cocula</td>\n",
       "    </tr>\n",
       "    <tr>\n",
       "      <th>275021</th>\n",
       "      <td>BELLO JIMENEZ GREGORIA</td>\n",
       "      <td>CENTRO PAÍS</td>\n",
       "      <td>GUERRERO</td>\n",
       "      <td>ATLIXTAC</td>\n",
       "      <td>XALPITZÁHUAC</td>\n",
       "      <td>Muy alto</td>\n",
       "      <td>FERTILIZANTES</td>\n",
       "      <td>FERTILIZANTES</td>\n",
       "      <td>FERTILIZANTES</td>\n",
       "      <td>Cultivo de maíz grano</td>\n",
       "      <td>...</td>\n",
       "      <td>atlixtac</td>\n",
       "      <td>guerrero-atlixtac</td>\n",
       "      <td>guerrero-atlixtac</td>\n",
       "      <td>guerrero-atlixtac</td>\n",
       "      <td>12</td>\n",
       "      <td>Guerrero</td>\n",
       "      <td>10</td>\n",
       "      <td>Atlixtac</td>\n",
       "      <td>guerrero</td>\n",
       "      <td>atlixtac</td>\n",
       "    </tr>\n",
       "    <tr>\n",
       "      <th>275022</th>\n",
       "      <td>CASIMIRO MARTINEZ ELIBORIA</td>\n",
       "      <td>CENTRO PAÍS</td>\n",
       "      <td>GUERRERO</td>\n",
       "      <td>TAXCO DE ALARCÓN</td>\n",
       "      <td>PAINTLA</td>\n",
       "      <td>Alto</td>\n",
       "      <td>FERTILIZANTES</td>\n",
       "      <td>FERTILIZANTES</td>\n",
       "      <td>FERTILIZANTES</td>\n",
       "      <td>Cultivo de maíz grano</td>\n",
       "      <td>...</td>\n",
       "      <td>taxco de alarcon</td>\n",
       "      <td>guerrero-taxco de alarcon</td>\n",
       "      <td>guerrero-taxco de alarcon</td>\n",
       "      <td>guerrero-taxco de alarcon</td>\n",
       "      <td>12</td>\n",
       "      <td>Guerrero</td>\n",
       "      <td>55</td>\n",
       "      <td>Taxco de Alarcón</td>\n",
       "      <td>guerrero</td>\n",
       "      <td>taxco de alarcon</td>\n",
       "    </tr>\n",
       "  </tbody>\n",
       "</table>\n",
       "<p>275023 rows × 27 columns</p>\n",
       "</div>"
      ],
      "text/plain": [
       "                       BENEFICIARIO         ZONA   ENTIDAD         MUNICIPIO  \\\n",
       "0            TORRES ROMERO SANTANA   CENTRO PAÍS  GUERRERO             AZOYÚ   \n",
       "1           GOMEZ PADILLA DEMETRIA   CENTRO PAÍS  GUERRERO         TECOANAPA   \n",
       "2          GUERRERO MELCHOR ADRIAN   CENTRO PAÍS  GUERRERO        TELOLOAPAN   \n",
       "3         ROMERO GONZALEZ CELERINA   CENTRO PAÍS  GUERRERO        TELOLOAPAN   \n",
       "4            GOMEZ CERON MA.MIREYA   CENTRO PAÍS  GUERRERO         TECOANAPA   \n",
       "...                             ...          ...       ...               ...   \n",
       "275018     CASTILLO CUEVAS AMANCIO   CENTRO PAÍS  GUERRERO  TAXCO DE ALARCÓN   \n",
       "275019    RUEDA SECUNDINO ANACLETO   CENTRO PAÍS  GUERRERO  TAXCO DE ALARCÓN   \n",
       "275020       ARMENTA VILLEGAS LUIS   CENTRO PAÍS  GUERRERO            COCULA   \n",
       "275021      BELLO JIMENEZ GREGORIA   CENTRO PAÍS  GUERRERO          ATLIXTAC   \n",
       "275022  CASIMIRO MARTINEZ ELIBORIA   CENTRO PAÍS  GUERRERO  TAXCO DE ALARCÓN   \n",
       "\n",
       "                       LOCALIDAD ESTRATIFICACIÓN       PROGRAMA  \\\n",
       "0                    LOS CHEGÜES            Alto  FERTILIZANTES   \n",
       "1                      MECATEPEC            Alto  FERTILIZANTES   \n",
       "2       TLAJOCOTLA (LA HACIENDA)            Alto  FERTILIZANTES   \n",
       "3                     TELOLOAPAN           Medio  FERTILIZANTES   \n",
       "4                     LOS SAUCES            Alto  FERTILIZANTES   \n",
       "...                          ...             ...            ...   \n",
       "275018                   PAINTLA            Alto  FERTILIZANTES   \n",
       "275019                   PAINTLA            Alto  FERTILIZANTES   \n",
       "275020                    COCULA            Alto  FERTILIZANTES   \n",
       "275021              XALPITZÁHUAC        Muy alto  FERTILIZANTES   \n",
       "275022                   PAINTLA            Alto  FERTILIZANTES   \n",
       "\n",
       "           COMPONENTE  SUBCOMPONENTE               PRODUCTO  ...  \\\n",
       "0       FERTILIZANTES  FERTILIZANTES  Cultivo de maíz grano  ...   \n",
       "1       FERTILIZANTES  FERTILIZANTES  Cultivo de maíz grano  ...   \n",
       "2       FERTILIZANTES  FERTILIZANTES  Cultivo de maíz grano  ...   \n",
       "3       FERTILIZANTES  FERTILIZANTES  Cultivo de maíz grano  ...   \n",
       "4       FERTILIZANTES  FERTILIZANTES  Cultivo de maíz grano  ...   \n",
       "...               ...            ...                    ...  ...   \n",
       "275018  FERTILIZANTES  FERTILIZANTES  Cultivo de maíz grano  ...   \n",
       "275019  FERTILIZANTES  FERTILIZANTES  Cultivo de maíz grano  ...   \n",
       "275020  FERTILIZANTES  FERTILIZANTES  Cultivo de maíz grano  ...   \n",
       "275021  FERTILIZANTES  FERTILIZANTES  Cultivo de maíz grano  ...   \n",
       "275022  FERTILIZANTES  FERTILIZANTES  Cultivo de maíz grano  ...   \n",
       "\n",
       "         MUNICIPIO_Clean             Estado-mun-KEY  \\\n",
       "0                  azoyu             guerrero-azoyu   \n",
       "1              tecoanapa         guerrero-tecoanapa   \n",
       "2             teloloapan        guerrero-teloloapan   \n",
       "3             teloloapan        guerrero-teloloapan   \n",
       "4              tecoanapa         guerrero-tecoanapa   \n",
       "...                  ...                        ...   \n",
       "275018  taxco de alarcon  guerrero-taxco de alarcon   \n",
       "275019  taxco de alarcon  guerrero-taxco de alarcon   \n",
       "275020            cocula            guerrero-cocula   \n",
       "275021          atlixtac          guerrero-atlixtac   \n",
       "275022  taxco de alarcon  guerrero-taxco de alarcon   \n",
       "\n",
       "                    KEY_benef_mun        KEY_inegi_municipio CVE_ENT  \\\n",
       "0                  guerrero-azoyu             guerrero-azoyu      12   \n",
       "1              guerrero-tecoanapa         guerrero-tecoanapa      12   \n",
       "2             guerrero-teloloapan        guerrero-teloloapan      12   \n",
       "3             guerrero-teloloapan        guerrero-teloloapan      12   \n",
       "4              guerrero-tecoanapa         guerrero-tecoanapa      12   \n",
       "...                           ...                        ...     ...   \n",
       "275018  guerrero-taxco de alarcon  guerrero-taxco de alarcon      12   \n",
       "275019  guerrero-taxco de alarcon  guerrero-taxco de alarcon      12   \n",
       "275020            guerrero-cocula            guerrero-cocula      12   \n",
       "275021          guerrero-atlixtac          guerrero-atlixtac      12   \n",
       "275022  guerrero-taxco de alarcon  guerrero-taxco de alarcon      12   \n",
       "\n",
       "       Entidad_inegi CVE_MUN   Municipio_inegi Entidad_c_inegi  \\\n",
       "0           Guerrero      13             Azoyú        guerrero   \n",
       "1           Guerrero      56         Tecoanapa        guerrero   \n",
       "2           Guerrero      58        Teloloapan        guerrero   \n",
       "3           Guerrero      58        Teloloapan        guerrero   \n",
       "4           Guerrero      56         Tecoanapa        guerrero   \n",
       "...              ...     ...               ...             ...   \n",
       "275018      Guerrero      55  Taxco de Alarcón        guerrero   \n",
       "275019      Guerrero      55  Taxco de Alarcón        guerrero   \n",
       "275020      Guerrero      17            Cocula        guerrero   \n",
       "275021      Guerrero      10          Atlixtac        guerrero   \n",
       "275022      Guerrero      55  Taxco de Alarcón        guerrero   \n",
       "\n",
       "       Municipio_c_inegi  \n",
       "0                  azoyu  \n",
       "1              tecoanapa  \n",
       "2             teloloapan  \n",
       "3             teloloapan  \n",
       "4              tecoanapa  \n",
       "...                  ...  \n",
       "275018  taxco de alarcon  \n",
       "275019  taxco de alarcon  \n",
       "275020            cocula  \n",
       "275021          atlixtac  \n",
       "275022  taxco de alarcon  \n",
       "\n",
       "[275023 rows x 27 columns]"
      ]
     },
     "execution_count": 32,
     "metadata": {},
     "output_type": "execute_result"
    }
   ],
   "source": [
    "listado_beneficiarios_parte_II"
   ]
  },
  {
   "cell_type": "code",
   "execution_count": 33,
   "metadata": {},
   "outputs": [
    {
     "data": {
      "text/plain": [
       "Index(['BENEFICIARIO', 'ZONA', 'ENTIDAD', 'MUNICIPIO', 'LOCALIDAD',\n",
       "       'ESTRATIFICACIÓN', 'PROGRAMA', 'COMPONENTE', 'SUBCOMPONENTE',\n",
       "       'PRODUCTO', 'FECHA', 'MONTO FEDERAL', 'APOYO', 'ACTIVIDAD', 'ESLABÓN',\n",
       "       'CICLO AGRÍCOLA', 'ESTADO_Clean', 'MUNICIPIO_Clean', 'Estado-mun-KEY',\n",
       "       'KEY_benef_mun', 'KEY_inegi_municipio', 'CVE_ENT', 'Entidad_inegi',\n",
       "       'CVE_MUN', 'Municipio_inegi', 'Entidad_c_inegi', 'Municipio_c_inegi'],\n",
       "      dtype='object')"
      ]
     },
     "execution_count": 33,
     "metadata": {},
     "output_type": "execute_result"
    }
   ],
   "source": [
    "listado_beneficiarios_parte_II.columns"
   ]
  },
  {
   "cell_type": "code",
   "execution_count": 34,
   "metadata": {},
   "outputs": [],
   "source": [
    "listado_beneficiarios_parte_II = listado_beneficiarios_parte_II.drop(columns=['ESTADO_Clean', 'MUNICIPIO_Clean', 'Estado-mun-KEY', 'KEY_inegi_municipio', 'Entidad_c_inegi','Municipio_c_inegi', 'ESTRATIFICACIÓN', 'PROGRAMA', 'COMPONENTE', 'SUBCOMPONENTE', 'APOYO', 'ACTIVIDAD', 'ESLABÓN'])"
   ]
  },
  {
   "cell_type": "code",
   "execution_count": 35,
   "metadata": {},
   "outputs": [
    {
     "data": {
      "text/html": [
       "<div>\n",
       "<style scoped>\n",
       "    .dataframe tbody tr th:only-of-type {\n",
       "        vertical-align: middle;\n",
       "    }\n",
       "\n",
       "    .dataframe tbody tr th {\n",
       "        vertical-align: top;\n",
       "    }\n",
       "\n",
       "    .dataframe thead th {\n",
       "        text-align: right;\n",
       "    }\n",
       "</style>\n",
       "<table border=\"1\" class=\"dataframe\">\n",
       "  <thead>\n",
       "    <tr style=\"text-align: right;\">\n",
       "      <th></th>\n",
       "      <th>BENEFICIARIO</th>\n",
       "      <th>ZONA</th>\n",
       "      <th>ENTIDAD</th>\n",
       "      <th>MUNICIPIO</th>\n",
       "      <th>LOCALIDAD</th>\n",
       "      <th>PRODUCTO</th>\n",
       "      <th>FECHA</th>\n",
       "      <th>MONTO FEDERAL</th>\n",
       "      <th>CICLO AGRÍCOLA</th>\n",
       "      <th>KEY_benef_mun</th>\n",
       "      <th>CVE_ENT</th>\n",
       "      <th>Entidad_inegi</th>\n",
       "      <th>CVE_MUN</th>\n",
       "      <th>Municipio_inegi</th>\n",
       "    </tr>\n",
       "  </thead>\n",
       "  <tbody>\n",
       "    <tr>\n",
       "      <th>0</th>\n",
       "      <td>TORRES ROMERO SANTANA</td>\n",
       "      <td>CENTRO PAÍS</td>\n",
       "      <td>GUERRERO</td>\n",
       "      <td>AZOYÚ</td>\n",
       "      <td>LOS CHEGÜES</td>\n",
       "      <td>Cultivo de maíz grano</td>\n",
       "      <td>30/06/2019</td>\n",
       "      <td>2430.55</td>\n",
       "      <td>PV2019</td>\n",
       "      <td>guerrero-azoyu</td>\n",
       "      <td>12</td>\n",
       "      <td>Guerrero</td>\n",
       "      <td>13</td>\n",
       "      <td>Azoyú</td>\n",
       "    </tr>\n",
       "    <tr>\n",
       "      <th>1</th>\n",
       "      <td>GOMEZ PADILLA DEMETRIA</td>\n",
       "      <td>CENTRO PAÍS</td>\n",
       "      <td>GUERRERO</td>\n",
       "      <td>TECOANAPA</td>\n",
       "      <td>MECATEPEC</td>\n",
       "      <td>Cultivo de maíz grano</td>\n",
       "      <td>02/07/2019</td>\n",
       "      <td>4383.10</td>\n",
       "      <td>PV2019</td>\n",
       "      <td>guerrero-tecoanapa</td>\n",
       "      <td>12</td>\n",
       "      <td>Guerrero</td>\n",
       "      <td>56</td>\n",
       "      <td>Tecoanapa</td>\n",
       "    </tr>\n",
       "    <tr>\n",
       "      <th>2</th>\n",
       "      <td>GUERRERO MELCHOR ADRIAN</td>\n",
       "      <td>CENTRO PAÍS</td>\n",
       "      <td>GUERRERO</td>\n",
       "      <td>TELOLOAPAN</td>\n",
       "      <td>TLAJOCOTLA (LA HACIENDA)</td>\n",
       "      <td>Cultivo de maíz grano</td>\n",
       "      <td>27/06/2019</td>\n",
       "      <td>2430.55</td>\n",
       "      <td>PV2019</td>\n",
       "      <td>guerrero-teloloapan</td>\n",
       "      <td>12</td>\n",
       "      <td>Guerrero</td>\n",
       "      <td>58</td>\n",
       "      <td>Teloloapan</td>\n",
       "    </tr>\n",
       "    <tr>\n",
       "      <th>3</th>\n",
       "      <td>ROMERO GONZALEZ CELERINA</td>\n",
       "      <td>CENTRO PAÍS</td>\n",
       "      <td>GUERRERO</td>\n",
       "      <td>TELOLOAPAN</td>\n",
       "      <td>TELOLOAPAN</td>\n",
       "      <td>Cultivo de maíz grano</td>\n",
       "      <td>17/07/2019</td>\n",
       "      <td>4383.10</td>\n",
       "      <td>PV2019</td>\n",
       "      <td>guerrero-teloloapan</td>\n",
       "      <td>12</td>\n",
       "      <td>Guerrero</td>\n",
       "      <td>58</td>\n",
       "      <td>Teloloapan</td>\n",
       "    </tr>\n",
       "    <tr>\n",
       "      <th>4</th>\n",
       "      <td>GOMEZ CERON MA.MIREYA</td>\n",
       "      <td>CENTRO PAÍS</td>\n",
       "      <td>GUERRERO</td>\n",
       "      <td>TECOANAPA</td>\n",
       "      <td>LOS SAUCES</td>\n",
       "      <td>Cultivo de maíz grano</td>\n",
       "      <td>18/07/2019</td>\n",
       "      <td>4383.10</td>\n",
       "      <td>PV2019</td>\n",
       "      <td>guerrero-tecoanapa</td>\n",
       "      <td>12</td>\n",
       "      <td>Guerrero</td>\n",
       "      <td>56</td>\n",
       "      <td>Tecoanapa</td>\n",
       "    </tr>\n",
       "    <tr>\n",
       "      <th>...</th>\n",
       "      <td>...</td>\n",
       "      <td>...</td>\n",
       "      <td>...</td>\n",
       "      <td>...</td>\n",
       "      <td>...</td>\n",
       "      <td>...</td>\n",
       "      <td>...</td>\n",
       "      <td>...</td>\n",
       "      <td>...</td>\n",
       "      <td>...</td>\n",
       "      <td>...</td>\n",
       "      <td>...</td>\n",
       "      <td>...</td>\n",
       "      <td>...</td>\n",
       "    </tr>\n",
       "    <tr>\n",
       "      <th>275018</th>\n",
       "      <td>CASTILLO CUEVAS AMANCIO</td>\n",
       "      <td>CENTRO PAÍS</td>\n",
       "      <td>GUERRERO</td>\n",
       "      <td>TAXCO DE ALARCÓN</td>\n",
       "      <td>PAINTLA</td>\n",
       "      <td>Cultivo de maíz grano</td>\n",
       "      <td>27/06/2019</td>\n",
       "      <td>2430.55</td>\n",
       "      <td>PV2019</td>\n",
       "      <td>guerrero-taxco de alarcon</td>\n",
       "      <td>12</td>\n",
       "      <td>Guerrero</td>\n",
       "      <td>55</td>\n",
       "      <td>Taxco de Alarcón</td>\n",
       "    </tr>\n",
       "    <tr>\n",
       "      <th>275019</th>\n",
       "      <td>RUEDA SECUNDINO ANACLETO</td>\n",
       "      <td>CENTRO PAÍS</td>\n",
       "      <td>GUERRERO</td>\n",
       "      <td>TAXCO DE ALARCÓN</td>\n",
       "      <td>PAINTLA</td>\n",
       "      <td>Cultivo de maíz grano</td>\n",
       "      <td>27/06/2019</td>\n",
       "      <td>2430.55</td>\n",
       "      <td>PV2019</td>\n",
       "      <td>guerrero-taxco de alarcon</td>\n",
       "      <td>12</td>\n",
       "      <td>Guerrero</td>\n",
       "      <td>55</td>\n",
       "      <td>Taxco de Alarcón</td>\n",
       "    </tr>\n",
       "    <tr>\n",
       "      <th>275020</th>\n",
       "      <td>ARMENTA VILLEGAS LUIS</td>\n",
       "      <td>CENTRO PAÍS</td>\n",
       "      <td>GUERRERO</td>\n",
       "      <td>COCULA</td>\n",
       "      <td>COCULA</td>\n",
       "      <td>Cultivo de maíz grano</td>\n",
       "      <td>06/07/2019</td>\n",
       "      <td>2430.55</td>\n",
       "      <td>PV2019</td>\n",
       "      <td>guerrero-cocula</td>\n",
       "      <td>12</td>\n",
       "      <td>Guerrero</td>\n",
       "      <td>17</td>\n",
       "      <td>Cocula</td>\n",
       "    </tr>\n",
       "    <tr>\n",
       "      <th>275021</th>\n",
       "      <td>BELLO JIMENEZ GREGORIA</td>\n",
       "      <td>CENTRO PAÍS</td>\n",
       "      <td>GUERRERO</td>\n",
       "      <td>ATLIXTAC</td>\n",
       "      <td>XALPITZÁHUAC</td>\n",
       "      <td>Cultivo de maíz grano</td>\n",
       "      <td>15/07/2019</td>\n",
       "      <td>6574.65</td>\n",
       "      <td>PV2019</td>\n",
       "      <td>guerrero-atlixtac</td>\n",
       "      <td>12</td>\n",
       "      <td>Guerrero</td>\n",
       "      <td>10</td>\n",
       "      <td>Atlixtac</td>\n",
       "    </tr>\n",
       "    <tr>\n",
       "      <th>275022</th>\n",
       "      <td>CASIMIRO MARTINEZ ELIBORIA</td>\n",
       "      <td>CENTRO PAÍS</td>\n",
       "      <td>GUERRERO</td>\n",
       "      <td>TAXCO DE ALARCÓN</td>\n",
       "      <td>PAINTLA</td>\n",
       "      <td>Cultivo de maíz grano</td>\n",
       "      <td>27/06/2019</td>\n",
       "      <td>2430.55</td>\n",
       "      <td>PV2019</td>\n",
       "      <td>guerrero-taxco de alarcon</td>\n",
       "      <td>12</td>\n",
       "      <td>Guerrero</td>\n",
       "      <td>55</td>\n",
       "      <td>Taxco de Alarcón</td>\n",
       "    </tr>\n",
       "  </tbody>\n",
       "</table>\n",
       "<p>275023 rows × 14 columns</p>\n",
       "</div>"
      ],
      "text/plain": [
       "                       BENEFICIARIO         ZONA   ENTIDAD         MUNICIPIO  \\\n",
       "0            TORRES ROMERO SANTANA   CENTRO PAÍS  GUERRERO             AZOYÚ   \n",
       "1           GOMEZ PADILLA DEMETRIA   CENTRO PAÍS  GUERRERO         TECOANAPA   \n",
       "2          GUERRERO MELCHOR ADRIAN   CENTRO PAÍS  GUERRERO        TELOLOAPAN   \n",
       "3         ROMERO GONZALEZ CELERINA   CENTRO PAÍS  GUERRERO        TELOLOAPAN   \n",
       "4            GOMEZ CERON MA.MIREYA   CENTRO PAÍS  GUERRERO         TECOANAPA   \n",
       "...                             ...          ...       ...               ...   \n",
       "275018     CASTILLO CUEVAS AMANCIO   CENTRO PAÍS  GUERRERO  TAXCO DE ALARCÓN   \n",
       "275019    RUEDA SECUNDINO ANACLETO   CENTRO PAÍS  GUERRERO  TAXCO DE ALARCÓN   \n",
       "275020       ARMENTA VILLEGAS LUIS   CENTRO PAÍS  GUERRERO            COCULA   \n",
       "275021      BELLO JIMENEZ GREGORIA   CENTRO PAÍS  GUERRERO          ATLIXTAC   \n",
       "275022  CASIMIRO MARTINEZ ELIBORIA   CENTRO PAÍS  GUERRERO  TAXCO DE ALARCÓN   \n",
       "\n",
       "                       LOCALIDAD               PRODUCTO       FECHA  \\\n",
       "0                    LOS CHEGÜES  Cultivo de maíz grano  30/06/2019   \n",
       "1                      MECATEPEC  Cultivo de maíz grano  02/07/2019   \n",
       "2       TLAJOCOTLA (LA HACIENDA)  Cultivo de maíz grano  27/06/2019   \n",
       "3                     TELOLOAPAN  Cultivo de maíz grano  17/07/2019   \n",
       "4                     LOS SAUCES  Cultivo de maíz grano  18/07/2019   \n",
       "...                          ...                    ...         ...   \n",
       "275018                   PAINTLA  Cultivo de maíz grano  27/06/2019   \n",
       "275019                   PAINTLA  Cultivo de maíz grano  27/06/2019   \n",
       "275020                    COCULA  Cultivo de maíz grano  06/07/2019   \n",
       "275021              XALPITZÁHUAC  Cultivo de maíz grano  15/07/2019   \n",
       "275022                   PAINTLA  Cultivo de maíz grano  27/06/2019   \n",
       "\n",
       "        MONTO FEDERAL CICLO AGRÍCOLA              KEY_benef_mun  CVE_ENT  \\\n",
       "0             2430.55         PV2019             guerrero-azoyu       12   \n",
       "1             4383.10         PV2019         guerrero-tecoanapa       12   \n",
       "2             2430.55         PV2019        guerrero-teloloapan       12   \n",
       "3             4383.10         PV2019        guerrero-teloloapan       12   \n",
       "4             4383.10         PV2019         guerrero-tecoanapa       12   \n",
       "...               ...            ...                        ...      ...   \n",
       "275018        2430.55         PV2019  guerrero-taxco de alarcon       12   \n",
       "275019        2430.55         PV2019  guerrero-taxco de alarcon       12   \n",
       "275020        2430.55         PV2019            guerrero-cocula       12   \n",
       "275021        6574.65         PV2019          guerrero-atlixtac       12   \n",
       "275022        2430.55         PV2019  guerrero-taxco de alarcon       12   \n",
       "\n",
       "       Entidad_inegi  CVE_MUN   Municipio_inegi  \n",
       "0           Guerrero       13             Azoyú  \n",
       "1           Guerrero       56         Tecoanapa  \n",
       "2           Guerrero       58        Teloloapan  \n",
       "3           Guerrero       58        Teloloapan  \n",
       "4           Guerrero       56         Tecoanapa  \n",
       "...              ...      ...               ...  \n",
       "275018      Guerrero       55  Taxco de Alarcón  \n",
       "275019      Guerrero       55  Taxco de Alarcón  \n",
       "275020      Guerrero       17            Cocula  \n",
       "275021      Guerrero       10          Atlixtac  \n",
       "275022      Guerrero       55  Taxco de Alarcón  \n",
       "\n",
       "[275023 rows x 14 columns]"
      ]
     },
     "execution_count": 35,
     "metadata": {},
     "output_type": "execute_result"
    }
   ],
   "source": [
    "listado_beneficiarios_parte_II"
   ]
  },
  {
   "cell_type": "code",
   "execution_count": 36,
   "metadata": {},
   "outputs": [
    {
     "data": {
      "text/plain": [
       "Index(['BENEFICIARIO', 'ZONA', 'ENTIDAD', 'MUNICIPIO', 'LOCALIDAD', 'PRODUCTO',\n",
       "       'FECHA', 'MONTO FEDERAL', 'CICLO AGRÍCOLA', 'KEY_benef_mun', 'CVE_ENT',\n",
       "       'Entidad_inegi', 'CVE_MUN', 'Municipio_inegi'],\n",
       "      dtype='object')"
      ]
     },
     "execution_count": 36,
     "metadata": {},
     "output_type": "execute_result"
    }
   ],
   "source": [
    "listado_beneficiarios_parte_II.columns"
   ]
  },
  {
   "cell_type": "code",
   "execution_count": 37,
   "metadata": {},
   "outputs": [],
   "source": [
    "listado_beneficiarios_parte_II.to_csv('../../data/listados_completos/listado_beneficiarios_2019.csv', index=False)"
   ]
  },
  {
   "cell_type": "code",
   "execution_count": 38,
   "metadata": {},
   "outputs": [
    {
     "data": {
      "text/plain": [
       "BENEFICIARIO       0\n",
       "ZONA               0\n",
       "ENTIDAD            0\n",
       "MUNICIPIO          0\n",
       "LOCALIDAD          0\n",
       "PRODUCTO           0\n",
       "FECHA              0\n",
       "MONTO FEDERAL      0\n",
       "CICLO AGRÍCOLA     0\n",
       "KEY_benef_mun      0\n",
       "CVE_ENT            0\n",
       "Entidad_inegi      0\n",
       "CVE_MUN            0\n",
       "Municipio_inegi    0\n",
       "dtype: int64"
      ]
     },
     "execution_count": 38,
     "metadata": {},
     "output_type": "execute_result"
    }
   ],
   "source": [
    "listado_beneficiarios_parte_II.isna().sum()"
   ]
  },
  {
   "cell_type": "markdown",
   "metadata": {},
   "source": [
    "# 3. Join por entidad (Divide y Vencerás)"
   ]
  },
  {
   "cell_type": "code",
   "execution_count": 39,
   "metadata": {},
   "outputs": [],
   "source": [
    "listado_beneficiarios_2019_match = pd.read_csv('../../data/listados_completos/listado_beneficiarios_2019_match.csv')"
   ]
  },
  {
   "cell_type": "code",
   "execution_count": 40,
   "metadata": {},
   "outputs": [
    {
     "data": {
      "text/plain": [
       "Index(['Unnamed: 0', 'BENEFICIARIO', 'ZONA', 'ENTIDAD', 'MUNICIPIO',\n",
       "       'LOCALIDAD', 'PRODUCTO', 'FECHA', 'MONTO FEDERAL', 'CICLO AGRÍCOLA'],\n",
       "      dtype='object')"
      ]
     },
     "execution_count": 40,
     "metadata": {},
     "output_type": "execute_result"
    }
   ],
   "source": [
    "listado_beneficiarios_2019_match.columns"
   ]
  },
  {
   "cell_type": "code",
   "execution_count": 41,
   "metadata": {},
   "outputs": [],
   "source": [
    "# Obtenemos las localidades únicas en el dataset.\n",
    "listado_beneficiarios_2019_match = listado_beneficiarios_2019_match.drop(columns=['Unnamed: 0'])"
   ]
  },
  {
   "cell_type": "code",
   "execution_count": 42,
   "metadata": {},
   "outputs": [],
   "source": [
    "listado_beneficiarios_2019_match['ENTIDAD_c_benef'] = listado_beneficiarios_2019_match['ENTIDAD'].apply(clean_text)\n",
    "listado_beneficiarios_2019_match['MUNICIPIO_c_benef'] = listado_beneficiarios_2019_match['MUNICIPIO'].apply(clean_text)\n",
    "listado_beneficiarios_2019_match['LOCALIDAD_c_benef'] = listado_beneficiarios_2019_match['LOCALIDAD'].apply(clean_text)"
   ]
  },
  {
   "cell_type": "code",
   "execution_count": 43,
   "metadata": {},
   "outputs": [],
   "source": [
    "listado_beneficiarios_2019_match['KEY_benef_loc'] = listado_beneficiarios_2019_match['MUNICIPIO_c_benef'].astype(str) + '-' + listado_beneficiarios_2019_match['LOCALIDAD_c_benef'].astype(str)"
   ]
  },
  {
   "cell_type": "code",
   "execution_count": 44,
   "metadata": {},
   "outputs": [
    {
     "data": {
      "text/plain": [
       "(276554, 13)"
      ]
     },
     "execution_count": 44,
     "metadata": {},
     "output_type": "execute_result"
    }
   ],
   "source": [
    "listado_beneficiarios_2019_match.shape"
   ]
  },
  {
   "cell_type": "code",
   "execution_count": 45,
   "metadata": {},
   "outputs": [],
   "source": [
    "listado_beneficiarios_2019_match = listado_beneficiarios_2019_match.drop_duplicates(subset=['KEY_benef_loc'])"
   ]
  },
  {
   "cell_type": "code",
   "execution_count": 46,
   "metadata": {},
   "outputs": [
    {
     "data": {
      "text/plain": [
       "(4658, 13)"
      ]
     },
     "execution_count": 46,
     "metadata": {},
     "output_type": "execute_result"
    }
   ],
   "source": [
    "listado_beneficiarios_2019_match.shape"
   ]
  },
  {
   "cell_type": "code",
   "execution_count": 47,
   "metadata": {},
   "outputs": [
    {
     "data": {
      "text/plain": [
       "array(['Puebla', 'Guerrero', 'México', 'Guanajuato', 'Querétaro',\n",
       "       'Zacatecas', 'Veracruz de Ignacio de la Llave', 'Hidalgo',\n",
       "       'Michoacán de Ocampo', 'Oaxaca', 'Colima', 'Chiapas',\n",
       "       'San Luis Potosí', 'Jalisco', 'Nayarit', 'GUERRERO'], dtype=object)"
      ]
     },
     "execution_count": 47,
     "metadata": {},
     "output_type": "execute_result"
    }
   ],
   "source": [
    "listado_beneficiarios_2019_match.ENTIDAD.unique()"
   ]
  },
  {
   "cell_type": "markdown",
   "metadata": {},
   "source": [
    "### 3.2.1 Join de localidades - GUERRERO"
   ]
  },
  {
   "cell_type": "markdown",
   "metadata": {},
   "source": [
    "Empezamos creando los datasets por entiedad del dataset de beneficiarios.\n"
   ]
  },
  {
   "cell_type": "code",
   "execution_count": 48,
   "metadata": {},
   "outputs": [
    {
     "name": "stdout",
     "output_type": "stream",
     "text": [
      "Localidades_19_PUEBLA: (3, 13)\n",
      "Localidades_19_MÉXICO: (4, 13)\n",
      "Localidades_19_GUANAJUATO: (1, 13)\n",
      "Localidades_19_QUERÉTARO: (1, 13)\n",
      "Localidades_19_ZACATECAS: (4, 13)\n",
      "Localidades_19_VERACRUZ_DE_IGNACIO_DE_LA_LLAVE: (1, 13)\n",
      "Localidades_19_HIDALGO: (1, 13)\n",
      "Localidades_19_MICHOACÁN_DE_OCAMPO: (1, 13)\n",
      "Localidades_19_OAXACA: (5, 13)\n",
      "Localidades_19_COLIMA: (1, 13)\n",
      "Localidades_19_CHIAPAS: (2, 13)\n",
      "Localidades_19_SAN_LUIS_POTOSÍ: (1, 13)\n",
      "Localidades_19_JALISCO: (2, 13)\n",
      "Localidades_19_NAYARIT: (1, 13)\n",
      "Localidades_19_GUERRERO: (4576, 13)\n"
     ]
    }
   ],
   "source": [
    "entities = [\n",
    "    'Puebla', 'México', 'Guanajuato', 'Querétaro',\n",
    "    'Zacatecas', 'Veracruz de Ignacio de la Llave', 'Hidalgo',\n",
    "    'Michoacán de Ocampo', 'Oaxaca', 'Colima', 'Chiapas',\n",
    "    'San Luis Potosí', 'Jalisco', 'Nayarit', 'GUERRERO'\n",
    "]\n",
    "\n",
    "for entity in entities:\n",
    "    variable_name = f\"Localidades_19_{entity.upper().replace(' ', '_')}\"\n",
    "    dataframe = globals()[variable_name] = listado_beneficiarios_2019_match[listado_beneficiarios_2019_match[\"ENTIDAD\"] == entity]\n",
    "    print(f\"{variable_name}: {dataframe.shape}\")"
   ]
  },
  {
   "cell_type": "code",
   "execution_count": 49,
   "metadata": {},
   "outputs": [],
   "source": [
    "Localidades_19_Guerrero = listado_beneficiarios_2019_match[listado_beneficiarios_2019_match['ENTIDAD'] == 'Guerrero']"
   ]
  },
  {
   "cell_type": "code",
   "execution_count": 50,
   "metadata": {},
   "outputs": [
    {
     "data": {
      "text/plain": [
       "(54, 13)"
      ]
     },
     "execution_count": 50,
     "metadata": {},
     "output_type": "execute_result"
    }
   ],
   "source": [
    "Localidades_19_Guerrero.shape"
   ]
  },
  {
   "cell_type": "markdown",
   "metadata": {},
   "source": [
    "### 3.2.2 Diccionarios de Inegi por entidad."
   ]
  },
  {
   "cell_type": "code",
   "execution_count": 51,
   "metadata": {},
   "outputs": [
    {
     "name": "stdout",
     "output_type": "stream",
     "text": [
      "INEGI_UNIQUELOC_2019_jalisco: 18306 filas, 11 columnas\n",
      "INEGI_UNIQUELOC_2019_colima: 2647 filas, 11 columnas\n",
      "INEGI_UNIQUELOC_2019_guanajuato: 11130 filas, 11 columnas\n",
      "INEGI_UNIQUELOC_2019_nayarit: 4474 filas, 11 columnas\n",
      "INEGI_UNIQUELOC_2019_veracruz_de_ignacio_de_la_llave: 25305 filas, 11 columnas\n",
      "INEGI_UNIQUELOC_2019_zacatecas: 6418 filas, 11 columnas\n",
      "INEGI_UNIQUELOC_2019_michoacán_de_ocampo: 11119 filas, 11 columnas\n",
      "INEGI_UNIQUELOC_2019_hidalgo: 5279 filas, 11 columnas\n",
      "INEGI_UNIQUELOC_2019_chiapas: 21887 filas, 11 columnas\n",
      "INEGI_UNIQUELOC_2019_querétaro: 2829 filas, 11 columnas\n",
      "INEGI_UNIQUELOC_2019_méxico: 5217 filas, 11 columnas\n",
      "INEGI_UNIQUELOC_2019_oaxaca: 12820 filas, 11 columnas\n",
      "INEGI_UNIQUELOC_2019_san_luis_potosí: 8946 filas, 11 columnas\n",
      "INEGI_UNIQUELOC_2019_guerrero: 9194 filas, 11 columnas\n",
      "INEGI_UNIQUELOC_2019_puebla: 7708 filas, 11 columnas\n"
     ]
    }
   ],
   "source": [
    "folder_path = '../../data/productores_beneficiarios 2019-2022/diccionarios_E3/2019'\n",
    "\n",
    "# Listar todos los archivos en la carpeta\n",
    "files = os.listdir(folder_path)\n",
    "\n",
    "# Filtrar solo los archivos CSV\n",
    "csv_files = [file for file in files if file.endswith('.csv')]\n",
    "\n",
    "# Leer cada archivo CSV y almacenar en variables separadas\n",
    "for file_name in csv_files:\n",
    "    file_path = os.path.join(folder_path, file_name)\n",
    "    # Crear un nombre de variable dinámicamente eliminando la extensión .csv\n",
    "    var_name = file_name.replace('.csv', '')\n",
    "    # Leer el archivo CSV y asignar el DataFrame a la variable\n",
    "    globals()[var_name] = pd.read_csv(file_path)\n",
    "\n",
    "# Opcional: Imprimir el nombre de las variables creadas y la cantidad de filas y columnas de cada DataFrame\n",
    "for file_name in csv_files:\n",
    "    var_name = file_name.replace('.csv', '')\n",
    "    df = globals()[var_name]\n",
    "    print(f'{var_name}: {df.shape[0]} filas, {df.shape[1]} columnas')\n"
   ]
  },
  {
   "cell_type": "code",
   "execution_count": 52,
   "metadata": {},
   "outputs": [
    {
     "data": {
      "text/plain": [
       "(9194, 11)"
      ]
     },
     "execution_count": 52,
     "metadata": {},
     "output_type": "execute_result"
    }
   ],
   "source": [
    "INEGI_UNIQUELOC_2019_guerrero.shape"
   ]
  },
  {
   "cell_type": "code",
   "execution_count": 53,
   "metadata": {},
   "outputs": [
    {
     "name": "stderr",
     "output_type": "stream",
     "text": [
      "/var/folders/ng/n9ng0wy92t90_49j662nh02c0000gn/T/ipykernel_5007/734782849.py:18: SettingWithCopyWarning: \n",
      "A value is trying to be set on a copy of a slice from a DataFrame.\n",
      "Try using .loc[row_indexer,col_indexer] = value instead\n",
      "\n",
      "See the caveats in the documentation: https://pandas.pydata.org/pandas-docs/stable/user_guide/indexing.html#returning-a-view-versus-a-copy\n",
      "  df_benef['best_match'] = [match[0] if match else None for match in matches]\n",
      "/var/folders/ng/n9ng0wy92t90_49j662nh02c0000gn/T/ipykernel_5007/734782849.py:20: SettingWithCopyWarning: \n",
      "A value is trying to be set on a copy of a slice from a DataFrame.\n",
      "Try using .loc[row_indexer,col_indexer] = value instead\n",
      "\n",
      "See the caveats in the documentation: https://pandas.pydata.org/pandas-docs/stable/user_guide/indexing.html#returning-a-view-versus-a-copy\n",
      "  df_benef['match_score'] = [match[1] if match else None for match in matches]\n",
      "/var/folders/ng/n9ng0wy92t90_49j662nh02c0000gn/T/ipykernel_5007/734782849.py:18: SettingWithCopyWarning: \n",
      "A value is trying to be set on a copy of a slice from a DataFrame.\n",
      "Try using .loc[row_indexer,col_indexer] = value instead\n",
      "\n",
      "See the caveats in the documentation: https://pandas.pydata.org/pandas-docs/stable/user_guide/indexing.html#returning-a-view-versus-a-copy\n",
      "  df_benef['best_match'] = [match[0] if match else None for match in matches]\n",
      "/var/folders/ng/n9ng0wy92t90_49j662nh02c0000gn/T/ipykernel_5007/734782849.py:20: SettingWithCopyWarning: \n",
      "A value is trying to be set on a copy of a slice from a DataFrame.\n",
      "Try using .loc[row_indexer,col_indexer] = value instead\n",
      "\n",
      "See the caveats in the documentation: https://pandas.pydata.org/pandas-docs/stable/user_guide/indexing.html#returning-a-view-versus-a-copy\n",
      "  df_benef['match_score'] = [match[1] if match else None for match in matches]\n",
      "/var/folders/ng/n9ng0wy92t90_49j662nh02c0000gn/T/ipykernel_5007/734782849.py:18: SettingWithCopyWarning: \n",
      "A value is trying to be set on a copy of a slice from a DataFrame.\n",
      "Try using .loc[row_indexer,col_indexer] = value instead\n",
      "\n",
      "See the caveats in the documentation: https://pandas.pydata.org/pandas-docs/stable/user_guide/indexing.html#returning-a-view-versus-a-copy\n",
      "  df_benef['best_match'] = [match[0] if match else None for match in matches]\n",
      "/var/folders/ng/n9ng0wy92t90_49j662nh02c0000gn/T/ipykernel_5007/734782849.py:20: SettingWithCopyWarning: \n",
      "A value is trying to be set on a copy of a slice from a DataFrame.\n",
      "Try using .loc[row_indexer,col_indexer] = value instead\n",
      "\n",
      "See the caveats in the documentation: https://pandas.pydata.org/pandas-docs/stable/user_guide/indexing.html#returning-a-view-versus-a-copy\n",
      "  df_benef['match_score'] = [match[1] if match else None for match in matches]\n",
      "/var/folders/ng/n9ng0wy92t90_49j662nh02c0000gn/T/ipykernel_5007/734782849.py:18: SettingWithCopyWarning: \n",
      "A value is trying to be set on a copy of a slice from a DataFrame.\n",
      "Try using .loc[row_indexer,col_indexer] = value instead\n",
      "\n",
      "See the caveats in the documentation: https://pandas.pydata.org/pandas-docs/stable/user_guide/indexing.html#returning-a-view-versus-a-copy\n",
      "  df_benef['best_match'] = [match[0] if match else None for match in matches]\n",
      "/var/folders/ng/n9ng0wy92t90_49j662nh02c0000gn/T/ipykernel_5007/734782849.py:20: SettingWithCopyWarning: \n",
      "A value is trying to be set on a copy of a slice from a DataFrame.\n",
      "Try using .loc[row_indexer,col_indexer] = value instead\n",
      "\n",
      "See the caveats in the documentation: https://pandas.pydata.org/pandas-docs/stable/user_guide/indexing.html#returning-a-view-versus-a-copy\n",
      "  df_benef['match_score'] = [match[1] if match else None for match in matches]\n",
      "/var/folders/ng/n9ng0wy92t90_49j662nh02c0000gn/T/ipykernel_5007/734782849.py:18: SettingWithCopyWarning: \n",
      "A value is trying to be set on a copy of a slice from a DataFrame.\n",
      "Try using .loc[row_indexer,col_indexer] = value instead\n",
      "\n",
      "See the caveats in the documentation: https://pandas.pydata.org/pandas-docs/stable/user_guide/indexing.html#returning-a-view-versus-a-copy\n",
      "  df_benef['best_match'] = [match[0] if match else None for match in matches]\n",
      "/var/folders/ng/n9ng0wy92t90_49j662nh02c0000gn/T/ipykernel_5007/734782849.py:20: SettingWithCopyWarning: \n",
      "A value is trying to be set on a copy of a slice from a DataFrame.\n",
      "Try using .loc[row_indexer,col_indexer] = value instead\n",
      "\n",
      "See the caveats in the documentation: https://pandas.pydata.org/pandas-docs/stable/user_guide/indexing.html#returning-a-view-versus-a-copy\n",
      "  df_benef['match_score'] = [match[1] if match else None for match in matches]\n",
      "/var/folders/ng/n9ng0wy92t90_49j662nh02c0000gn/T/ipykernel_5007/734782849.py:18: SettingWithCopyWarning: \n",
      "A value is trying to be set on a copy of a slice from a DataFrame.\n",
      "Try using .loc[row_indexer,col_indexer] = value instead\n",
      "\n",
      "See the caveats in the documentation: https://pandas.pydata.org/pandas-docs/stable/user_guide/indexing.html#returning-a-view-versus-a-copy\n",
      "  df_benef['best_match'] = [match[0] if match else None for match in matches]\n",
      "/var/folders/ng/n9ng0wy92t90_49j662nh02c0000gn/T/ipykernel_5007/734782849.py:20: SettingWithCopyWarning: \n",
      "A value is trying to be set on a copy of a slice from a DataFrame.\n",
      "Try using .loc[row_indexer,col_indexer] = value instead\n",
      "\n",
      "See the caveats in the documentation: https://pandas.pydata.org/pandas-docs/stable/user_guide/indexing.html#returning-a-view-versus-a-copy\n",
      "  df_benef['match_score'] = [match[1] if match else None for match in matches]\n",
      "/var/folders/ng/n9ng0wy92t90_49j662nh02c0000gn/T/ipykernel_5007/734782849.py:18: SettingWithCopyWarning: \n",
      "A value is trying to be set on a copy of a slice from a DataFrame.\n",
      "Try using .loc[row_indexer,col_indexer] = value instead\n",
      "\n",
      "See the caveats in the documentation: https://pandas.pydata.org/pandas-docs/stable/user_guide/indexing.html#returning-a-view-versus-a-copy\n",
      "  df_benef['best_match'] = [match[0] if match else None for match in matches]\n",
      "/var/folders/ng/n9ng0wy92t90_49j662nh02c0000gn/T/ipykernel_5007/734782849.py:20: SettingWithCopyWarning: \n",
      "A value is trying to be set on a copy of a slice from a DataFrame.\n",
      "Try using .loc[row_indexer,col_indexer] = value instead\n",
      "\n",
      "See the caveats in the documentation: https://pandas.pydata.org/pandas-docs/stable/user_guide/indexing.html#returning-a-view-versus-a-copy\n",
      "  df_benef['match_score'] = [match[1] if match else None for match in matches]\n",
      "/var/folders/ng/n9ng0wy92t90_49j662nh02c0000gn/T/ipykernel_5007/734782849.py:18: SettingWithCopyWarning: \n",
      "A value is trying to be set on a copy of a slice from a DataFrame.\n",
      "Try using .loc[row_indexer,col_indexer] = value instead\n",
      "\n",
      "See the caveats in the documentation: https://pandas.pydata.org/pandas-docs/stable/user_guide/indexing.html#returning-a-view-versus-a-copy\n",
      "  df_benef['best_match'] = [match[0] if match else None for match in matches]\n",
      "/var/folders/ng/n9ng0wy92t90_49j662nh02c0000gn/T/ipykernel_5007/734782849.py:20: SettingWithCopyWarning: \n",
      "A value is trying to be set on a copy of a slice from a DataFrame.\n",
      "Try using .loc[row_indexer,col_indexer] = value instead\n",
      "\n",
      "See the caveats in the documentation: https://pandas.pydata.org/pandas-docs/stable/user_guide/indexing.html#returning-a-view-versus-a-copy\n",
      "  df_benef['match_score'] = [match[1] if match else None for match in matches]\n",
      "/var/folders/ng/n9ng0wy92t90_49j662nh02c0000gn/T/ipykernel_5007/734782849.py:18: SettingWithCopyWarning: \n",
      "A value is trying to be set on a copy of a slice from a DataFrame.\n",
      "Try using .loc[row_indexer,col_indexer] = value instead\n",
      "\n",
      "See the caveats in the documentation: https://pandas.pydata.org/pandas-docs/stable/user_guide/indexing.html#returning-a-view-versus-a-copy\n",
      "  df_benef['best_match'] = [match[0] if match else None for match in matches]\n",
      "/var/folders/ng/n9ng0wy92t90_49j662nh02c0000gn/T/ipykernel_5007/734782849.py:20: SettingWithCopyWarning: \n",
      "A value is trying to be set on a copy of a slice from a DataFrame.\n",
      "Try using .loc[row_indexer,col_indexer] = value instead\n",
      "\n",
      "See the caveats in the documentation: https://pandas.pydata.org/pandas-docs/stable/user_guide/indexing.html#returning-a-view-versus-a-copy\n",
      "  df_benef['match_score'] = [match[1] if match else None for match in matches]\n",
      "/var/folders/ng/n9ng0wy92t90_49j662nh02c0000gn/T/ipykernel_5007/734782849.py:18: SettingWithCopyWarning: \n",
      "A value is trying to be set on a copy of a slice from a DataFrame.\n",
      "Try using .loc[row_indexer,col_indexer] = value instead\n",
      "\n",
      "See the caveats in the documentation: https://pandas.pydata.org/pandas-docs/stable/user_guide/indexing.html#returning-a-view-versus-a-copy\n",
      "  df_benef['best_match'] = [match[0] if match else None for match in matches]\n",
      "/var/folders/ng/n9ng0wy92t90_49j662nh02c0000gn/T/ipykernel_5007/734782849.py:20: SettingWithCopyWarning: \n",
      "A value is trying to be set on a copy of a slice from a DataFrame.\n",
      "Try using .loc[row_indexer,col_indexer] = value instead\n",
      "\n",
      "See the caveats in the documentation: https://pandas.pydata.org/pandas-docs/stable/user_guide/indexing.html#returning-a-view-versus-a-copy\n",
      "  df_benef['match_score'] = [match[1] if match else None for match in matches]\n",
      "/var/folders/ng/n9ng0wy92t90_49j662nh02c0000gn/T/ipykernel_5007/734782849.py:18: SettingWithCopyWarning: \n",
      "A value is trying to be set on a copy of a slice from a DataFrame.\n",
      "Try using .loc[row_indexer,col_indexer] = value instead\n",
      "\n",
      "See the caveats in the documentation: https://pandas.pydata.org/pandas-docs/stable/user_guide/indexing.html#returning-a-view-versus-a-copy\n",
      "  df_benef['best_match'] = [match[0] if match else None for match in matches]\n",
      "/var/folders/ng/n9ng0wy92t90_49j662nh02c0000gn/T/ipykernel_5007/734782849.py:20: SettingWithCopyWarning: \n",
      "A value is trying to be set on a copy of a slice from a DataFrame.\n",
      "Try using .loc[row_indexer,col_indexer] = value instead\n",
      "\n",
      "See the caveats in the documentation: https://pandas.pydata.org/pandas-docs/stable/user_guide/indexing.html#returning-a-view-versus-a-copy\n",
      "  df_benef['match_score'] = [match[1] if match else None for match in matches]\n",
      "/var/folders/ng/n9ng0wy92t90_49j662nh02c0000gn/T/ipykernel_5007/734782849.py:18: SettingWithCopyWarning: \n",
      "A value is trying to be set on a copy of a slice from a DataFrame.\n",
      "Try using .loc[row_indexer,col_indexer] = value instead\n",
      "\n",
      "See the caveats in the documentation: https://pandas.pydata.org/pandas-docs/stable/user_guide/indexing.html#returning-a-view-versus-a-copy\n",
      "  df_benef['best_match'] = [match[0] if match else None for match in matches]\n",
      "/var/folders/ng/n9ng0wy92t90_49j662nh02c0000gn/T/ipykernel_5007/734782849.py:20: SettingWithCopyWarning: \n",
      "A value is trying to be set on a copy of a slice from a DataFrame.\n",
      "Try using .loc[row_indexer,col_indexer] = value instead\n",
      "\n",
      "See the caveats in the documentation: https://pandas.pydata.org/pandas-docs/stable/user_guide/indexing.html#returning-a-view-versus-a-copy\n",
      "  df_benef['match_score'] = [match[1] if match else None for match in matches]\n",
      "/var/folders/ng/n9ng0wy92t90_49j662nh02c0000gn/T/ipykernel_5007/734782849.py:18: SettingWithCopyWarning: \n",
      "A value is trying to be set on a copy of a slice from a DataFrame.\n",
      "Try using .loc[row_indexer,col_indexer] = value instead\n",
      "\n",
      "See the caveats in the documentation: https://pandas.pydata.org/pandas-docs/stable/user_guide/indexing.html#returning-a-view-versus-a-copy\n",
      "  df_benef['best_match'] = [match[0] if match else None for match in matches]\n",
      "/var/folders/ng/n9ng0wy92t90_49j662nh02c0000gn/T/ipykernel_5007/734782849.py:20: SettingWithCopyWarning: \n",
      "A value is trying to be set on a copy of a slice from a DataFrame.\n",
      "Try using .loc[row_indexer,col_indexer] = value instead\n",
      "\n",
      "See the caveats in the documentation: https://pandas.pydata.org/pandas-docs/stable/user_guide/indexing.html#returning-a-view-versus-a-copy\n",
      "  df_benef['match_score'] = [match[1] if match else None for match in matches]\n",
      "/var/folders/ng/n9ng0wy92t90_49j662nh02c0000gn/T/ipykernel_5007/734782849.py:18: SettingWithCopyWarning: \n",
      "A value is trying to be set on a copy of a slice from a DataFrame.\n",
      "Try using .loc[row_indexer,col_indexer] = value instead\n",
      "\n",
      "See the caveats in the documentation: https://pandas.pydata.org/pandas-docs/stable/user_guide/indexing.html#returning-a-view-versus-a-copy\n",
      "  df_benef['best_match'] = [match[0] if match else None for match in matches]\n",
      "/var/folders/ng/n9ng0wy92t90_49j662nh02c0000gn/T/ipykernel_5007/734782849.py:20: SettingWithCopyWarning: \n",
      "A value is trying to be set on a copy of a slice from a DataFrame.\n",
      "Try using .loc[row_indexer,col_indexer] = value instead\n",
      "\n",
      "See the caveats in the documentation: https://pandas.pydata.org/pandas-docs/stable/user_guide/indexing.html#returning-a-view-versus-a-copy\n",
      "  df_benef['match_score'] = [match[1] if match else None for match in matches]\n",
      "/var/folders/ng/n9ng0wy92t90_49j662nh02c0000gn/T/ipykernel_5007/734782849.py:18: SettingWithCopyWarning: \n",
      "A value is trying to be set on a copy of a slice from a DataFrame.\n",
      "Try using .loc[row_indexer,col_indexer] = value instead\n",
      "\n",
      "See the caveats in the documentation: https://pandas.pydata.org/pandas-docs/stable/user_guide/indexing.html#returning-a-view-versus-a-copy\n",
      "  df_benef['best_match'] = [match[0] if match else None for match in matches]\n",
      "/var/folders/ng/n9ng0wy92t90_49j662nh02c0000gn/T/ipykernel_5007/734782849.py:20: SettingWithCopyWarning: \n",
      "A value is trying to be set on a copy of a slice from a DataFrame.\n",
      "Try using .loc[row_indexer,col_indexer] = value instead\n",
      "\n",
      "See the caveats in the documentation: https://pandas.pydata.org/pandas-docs/stable/user_guide/indexing.html#returning-a-view-versus-a-copy\n",
      "  df_benef['match_score'] = [match[1] if match else None for match in matches]\n"
     ]
    },
    {
     "data": {
      "text/plain": [
       "(1, 26)"
      ]
     },
     "execution_count": 53,
     "metadata": {},
     "output_type": "execute_result"
    }
   ],
   "source": [
    "Localidades_19_GUERRERO_parte_I = fuzzy_merge_benef2019_2022(Localidades_19_GUERRERO, INEGI_UNIQUELOC_2019_guerrero, 'KEY_benef_loc', 'KEY_inegi_localidad')\n",
    "Localidades_19_GUERRERO_parte_I.shape\n",
    "\n",
    "Localidades_19_PUEBLA_parte_I = fuzzy_merge_benef2019_2022(Localidades_19_PUEBLA, INEGI_UNIQUELOC_2019_puebla, 'KEY_benef_loc', 'KEY_inegi_localidad')\n",
    "Localidades_19_PUEBLA_parte_I.shape\n",
    "\n",
    "Localidades_19_MEXICO_parte_I = fuzzy_merge_benef2019_2022(Localidades_19_MÉXICO, INEGI_UNIQUELOC_2019_méxico, 'KEY_benef_loc', 'KEY_inegi_localidad')\n",
    "Localidades_19_MEXICO_parte_I.shape\n",
    "\n",
    "Localidades_19_GUANAJUATO_parte_I = fuzzy_merge_benef2019_2022(Localidades_19_GUANAJUATO, INEGI_UNIQUELOC_2019_guanajuato, 'KEY_benef_loc', 'KEY_inegi_localidad')\n",
    "Localidades_19_GUANAJUATO_parte_I.shape\n",
    "\n",
    "Localidades_19_QUERETARO_parte_I = fuzzy_merge_benef2019_2022(Localidades_19_QUERÉTARO, INEGI_UNIQUELOC_2019_querétaro, 'KEY_benef_loc', 'KEY_inegi_localidad')\n",
    "Localidades_19_QUERETARO_parte_I.shape\n",
    "\n",
    "Localidades_19_ZACATECAS_parte_I = fuzzy_merge_benef2019_2022(Localidades_19_ZACATECAS, INEGI_UNIQUELOC_2019_zacatecas, 'KEY_benef_loc', 'KEY_inegi_localidad')\n",
    "Localidades_19_ZACATECAS_parte_I.shape\n",
    "\n",
    "Localidades_19_VERACRUZ_DE_IGNACIO_DE_LA_LLAVE_parte_I = fuzzy_merge_benef2019_2022(Localidades_19_VERACRUZ_DE_IGNACIO_DE_LA_LLAVE, INEGI_UNIQUELOC_2019_veracruz_de_ignacio_de_la_llave, 'KEY_benef_loc', 'KEY_inegi_localidad')\n",
    "Localidades_19_VERACRUZ_DE_IGNACIO_DE_LA_LLAVE_parte_I.shape\n",
    "\n",
    "Localidades_19_HIDALGO_parte_I = fuzzy_merge_benef2019_2022(Localidades_19_HIDALGO, INEGI_UNIQUELOC_2019_hidalgo, 'KEY_benef_loc', 'KEY_inegi_localidad')\n",
    "Localidades_19_HIDALGO_parte_I.shape\n",
    "\n",
    "Localidades_19_MICHOACAN_parte_I = fuzzy_merge_benef2019_2022(Localidades_19_MICHOACÁN_DE_OCAMPO, INEGI_UNIQUELOC_2019_michoacán_de_ocampo, 'KEY_benef_loc', 'KEY_inegi_localidad')\n",
    "Localidades_19_MICHOACAN_parte_I.shape\n",
    "\n",
    "Localidades_19_OAXACA_parte_I = fuzzy_merge_benef2019_2022(Localidades_19_OAXACA, INEGI_UNIQUELOC_2019_oaxaca, 'KEY_benef_loc', 'KEY_inegi_localidad')\n",
    "Localidades_19_OAXACA_parte_I.shape\n",
    "\n",
    "Localidades_19_COLIMA_parte_I = fuzzy_merge_benef2019_2022(Localidades_19_COLIMA, INEGI_UNIQUELOC_2019_colima, 'KEY_benef_loc', 'KEY_inegi_localidad')\n",
    "Localidades_19_COLIMA_parte_I.shape\n",
    "\n",
    "Localidades_19_CHIAPAS_parte_I = fuzzy_merge_benef2019_2022(Localidades_19_CHIAPAS, INEGI_UNIQUELOC_2019_chiapas, 'KEY_benef_loc', 'KEY_inegi_localidad')\n",
    "Localidades_19_CHIAPAS_parte_I.shape\n",
    "\n",
    "Localidades_19_POTOSI_parte_I = fuzzy_merge_benef2019_2022(Localidades_19_SAN_LUIS_POTOSÍ, INEGI_UNIQUELOC_2019_san_luis_potosí, 'KEY_benef_loc', 'KEY_inegi_localidad')\n",
    "Localidades_19_POTOSI_parte_I.shape\n",
    "\n",
    "Localidades_19_JALISCO_parte_I = fuzzy_merge_benef2019_2022(Localidades_19_JALISCO, INEGI_UNIQUELOC_2019_jalisco, 'KEY_benef_loc', 'KEY_inegi_localidad')\n",
    "Localidades_19_JALISCO_parte_I.shape\n",
    "\n",
    "Localidades_19_NAYARIT_parte_I = fuzzy_merge_benef2019_2022(Localidades_19_NAYARIT, INEGI_UNIQUELOC_2019_nayarit, 'KEY_benef_loc', 'KEY_inegi_localidad')\n",
    "Localidades_19_NAYARIT_parte_I.shape"
   ]
  },
  {
   "cell_type": "code",
   "execution_count": 54,
   "metadata": {},
   "outputs": [
    {
     "data": {
      "text/plain": [
       "(4604, 26)"
      ]
     },
     "execution_count": 54,
     "metadata": {},
     "output_type": "execute_result"
    }
   ],
   "source": [
    "# Concatenate datasets vertically\n",
    "diccionario_LOC_19_simple = pd.concat([\n",
    "    Localidades_19_GUERRERO_parte_I,\n",
    "    Localidades_19_PUEBLA_parte_I,\n",
    "    Localidades_19_MEXICO_parte_I,\n",
    "    Localidades_19_GUANAJUATO_parte_I,\n",
    "    Localidades_19_QUERETARO_parte_I,\n",
    "    Localidades_19_ZACATECAS_parte_I,\n",
    "    Localidades_19_VERACRUZ_DE_IGNACIO_DE_LA_LLAVE_parte_I,\n",
    "    Localidades_19_HIDALGO_parte_I,\n",
    "    Localidades_19_MICHOACAN_parte_I,\n",
    "    Localidades_19_OAXACA_parte_I,\n",
    "    Localidades_19_COLIMA_parte_I,\n",
    "    Localidades_19_CHIAPAS_parte_I,\n",
    "    Localidades_19_POTOSI_parte_I,\n",
    "    Localidades_19_JALISCO_parte_I,\n",
    "    Localidades_19_NAYARIT_parte_I\n",
    "], axis=0)\n",
    "\n",
    "# Check the shape of the concatenated DataFrame\n",
    "diccionario_LOC_19_simple.shape"
   ]
  },
  {
   "cell_type": "code",
   "execution_count": 55,
   "metadata": {},
   "outputs": [],
   "source": [
    "diccionario_LOC_19_simple.drop(columns=['BENEFICIARIO', 'ZONA', 'ENTIDAD', 'MUNICIPIO', 'LOCALIDAD', 'PRODUCTO',\n",
    "       'FECHA', 'MONTO FEDERAL', 'CICLO AGRÍCOLA', 'ENTIDAD_c_benef',\n",
    "       'MUNICIPIO_c_benef', 'LOCALIDAD_c_benef', 'best_match', 'CVE_ENT', 'Entidad_inegi', 'CVE_MUN', 'Municipio_inegi',\n",
    "       'CVE_LOC', 'Localidad_inegi', 'POB_TOTAL', 'Entidad_c_inegi',\n",
    "       'Municipio_c_inegi', 'Localidad_c_inegi'], inplace=True)"
   ]
  },
  {
   "cell_type": "code",
   "execution_count": 56,
   "metadata": {},
   "outputs": [],
   "source": [
    "diccionario_LOC_19_simple.to_csv('../../data/productores_beneficiarios 2019-2022/diccionarios_E3/diccionario_LOC_19_simple.csv', index=False)"
   ]
  }
 ],
 "metadata": {
  "kernelspec": {
   "display_name": "Python 3 (ipykernel)",
   "language": "python",
   "name": "python3"
  },
  "language_info": {
   "codemirror_mode": {
    "name": "ipython",
    "version": 3
   },
   "file_extension": ".py",
   "mimetype": "text/x-python",
   "name": "python",
   "nbconvert_exporter": "python",
   "pygments_lexer": "ipython3",
   "version": "3.9.9"
  }
 },
 "nbformat": 4,
 "nbformat_minor": 2
}
