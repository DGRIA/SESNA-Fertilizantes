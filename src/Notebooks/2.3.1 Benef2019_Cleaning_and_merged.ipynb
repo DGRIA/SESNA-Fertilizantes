{
 "cells": [
  {
   "cell_type": "markdown",
   "metadata": {},
   "source": [
    "# Data Cleaning Listado de Listado de Beneficiarios 2019"
   ]
  },
  {
   "cell_type": "markdown",
   "metadata": {},
   "source": [
    "## Autores\n",
    "- José Luis Delgado Dávara\n",
    "- Arturo Ortiz Aguilar\n",
    "- Beltrán Valle Gutiérrez-Cortines"
   ]
  },
  {
   "cell_type": "markdown",
   "metadata": {},
   "source": [
    "## Importante leer para entender\n",
    "\n",
    "En este Notebook se trabaja con 3 listados importantes:\n",
    "\n",
    "1. beneficiarios_19 -> Dataset con el listado de TODOS los beneficiarios de 2019.\n",
    "2. Estados_Beneficiarios_2019_2022 -> Dataset sólo con los estados *únicos* encontrados en el dataset anterior.\n",
    "3. Diccionario -> Emparejamiento entre ambos listados de beneficiarios\n",
    "4. Dataset_Inegi -> Catálogo obtenido de Inegi"
   ]
  },
  {
   "cell_type": "code",
   "execution_count": 1,
   "metadata": {},
   "outputs": [],
   "source": [
    "import pandas as pd\n",
    "import seaborn as sns\n",
    "from thefuzz import fuzz\n",
    "from thefuzz import process\n",
    "import matplotlib.pyplot as plt\n",
    "import numpy as np\n",
    "import os\n",
    "import glob\n",
    "import re\n",
    "import unidecode"
   ]
  },
  {
   "cell_type": "code",
   "execution_count": 2,
   "metadata": {},
   "outputs": [],
   "source": [
    "def clean_text(text):\n",
    "    \"\"\"\n",
    "    De esta manera tenemos el texto sin espacios blancos extra y sobre todo con todas las palabras con capitalización correcta.\n",
    "    \"\"\"\n",
    "    if pd.isna(text):\n",
    "        return text\n",
    "    text = text.strip()  # Eliminate white spaces\n",
    "    text = text.lower()  # Convert to lowercase\n",
    "    text = unidecode.unidecode(text)  # Remove accents\n",
    "    text = re.sub('-.*-', '', text) #Remove what is in between - -\n",
    "    text = re.sub('\\s+', ' ', text)  # Eliminate extra white spaces\n",
    "    text = re.sub('^\\s+|\\s+?$', '', text)  # Eliminate spaces at the beginning and end\n",
    "    return text"
   ]
  },
  {
   "cell_type": "markdown",
   "metadata": {},
   "source": [
    "# 1. Lectura y limpieza de datos"
   ]
  },
  {
   "cell_type": "markdown",
   "metadata": {},
   "source": [
    "### 1.1 Beneficiarios 2019\n",
    "\n",
    "Obtenemos el listado único de localidades y listado único de municipios con sus claves."
   ]
  },
  {
   "cell_type": "code",
   "execution_count": 3,
   "metadata": {},
   "outputs": [],
   "source": [
    "beneficiarios_19 = pd.read_csv('../../data/productores_beneficiarios 2019-2022/fertilizantes_2019.csv', encoding='utf-8', skiprows=0)"
   ]
  },
  {
   "cell_type": "code",
   "execution_count": 4,
   "metadata": {},
   "outputs": [],
   "source": [
    "beneficiarios_19 = beneficiarios_19[~((beneficiarios_19['ENTIDAD'] == 'NACIONAL') & (beneficiarios_19['MUNICIPIO'] == 'NACIONAL') & (beneficiarios_19['LOCALIDAD'] == 'NACIONAL'))]"
   ]
  },
  {
   "cell_type": "code",
   "execution_count": 5,
   "metadata": {},
   "outputs": [
    {
     "data": {
      "text/plain": [
       "(275026, 16)"
      ]
     },
     "execution_count": 5,
     "metadata": {},
     "output_type": "execute_result"
    }
   ],
   "source": [
    "beneficiarios_19.shape"
   ]
  },
  {
   "cell_type": "code",
   "execution_count": 6,
   "metadata": {},
   "outputs": [
    {
     "data": {
      "text/plain": [
       "array(['GUERRERO', nan], dtype=object)"
      ]
     },
     "execution_count": 6,
     "metadata": {},
     "output_type": "execute_result"
    }
   ],
   "source": [
    "beneficiarios_19['ENTIDAD'].unique()"
   ]
  },
  {
   "cell_type": "markdown",
   "metadata": {},
   "source": [
    "Dropeamos los tres valores nulos debido a que las rows enteras salen como nan"
   ]
  },
  {
   "cell_type": "code",
   "execution_count": 8,
   "metadata": {},
   "outputs": [],
   "source": [
    "beneficiarios_19.dropna(inplace=True)"
   ]
  },
  {
   "cell_type": "code",
   "execution_count": 10,
   "metadata": {},
   "outputs": [],
   "source": [
    "# Obtenemos las localidades únicas en el dataset.\n",
    "Localidades_19 = beneficiarios_19[['ENTIDAD', 'MUNICIPIO', 'LOCALIDAD']]\n",
    "Localidades_19 = Localidades_19.drop_duplicates()\n"
   ]
  },
  {
   "cell_type": "code",
   "execution_count": 11,
   "metadata": {},
   "outputs": [],
   "source": [
    "Localidades_19['ENTIDAD_c_benef'] = Localidades_19['ENTIDAD'].apply(clean_text)\n",
    "Localidades_19['MUNICIPIO_c_benef'] = Localidades_19['MUNICIPIO'].apply(clean_text)\n",
    "Localidades_19['LOCALIDAD_c_benef'] = Localidades_19['LOCALIDAD'].apply(clean_text)"
   ]
  },
  {
   "cell_type": "code",
   "execution_count": 12,
   "metadata": {},
   "outputs": [],
   "source": [
    "# Creamos las dos keys de beneficiarios 2019\n",
    "Localidades_19['KEY_benef_mun'] = Localidades_19['ENTIDAD_c_benef'].astype(str) + '-' + Localidades_19[\n",
    "    'MUNICIPIO_c_benef'].astype(str)\n",
    "Localidades_19['KEY_benef_loc'] = Localidades_19['ENTIDAD_c_benef'].astype(str) + '-' + Localidades_19[\n",
    "    'MUNICIPIO_c_benef'].astype(str) + '-' + Localidades_19['LOCALIDAD_c_benef'].astype(str)"
   ]
  },
  {
   "cell_type": "code",
   "execution_count": 13,
   "metadata": {},
   "outputs": [
    {
     "data": {
      "text/plain": [
       "(4576, 8)"
      ]
     },
     "execution_count": 13,
     "metadata": {},
     "output_type": "execute_result"
    }
   ],
   "source": [
    "Localidades_19.shape"
   ]
  },
  {
   "cell_type": "code",
   "execution_count": 14,
   "metadata": {},
   "outputs": [],
   "source": [
    "# Obtenemos las localidades únicas en el dataset.\n",
    "Municipios_19 = beneficiarios_19[['ENTIDAD', 'MUNICIPIO']]\n",
    "Municipios_19 = Municipios_19.drop_duplicates()"
   ]
  },
  {
   "cell_type": "code",
   "execution_count": 15,
   "metadata": {},
   "outputs": [],
   "source": [
    "# Estandarizamos la limpieza de los datos\n",
    "Municipios_19['ENTIDAD_c_benef'] = Municipios_19['ENTIDAD'].apply(clean_text)\n",
    "Municipios_19['MUNICIPIO_c_benef'] = Municipios_19['MUNICIPIO'].apply(clean_text)"
   ]
  },
  {
   "cell_type": "code",
   "execution_count": 16,
   "metadata": {},
   "outputs": [],
   "source": [
    "# Creamos las dos keys de beneficiarios \n",
    "Municipios_19['KEY_benef_mun'] = Municipios_19['ENTIDAD_c_benef'].astype(str) + '-' + Municipios_19[\n",
    "    'MUNICIPIO_c_benef'].astype(str)"
   ]
  },
  {
   "cell_type": "code",
   "execution_count": 17,
   "metadata": {},
   "outputs": [
    {
     "data": {
      "text/plain": [
       "(81, 5)"
      ]
     },
     "execution_count": 17,
     "metadata": {},
     "output_type": "execute_result"
    }
   ],
   "source": [
    "Municipios_19.shape"
   ]
  },
  {
   "cell_type": "code",
   "execution_count": 18,
   "metadata": {},
   "outputs": [
    {
     "data": {
      "text/plain": [
       "Index(['ENTIDAD', 'MUNICIPIO', 'ENTIDAD_c_benef', 'MUNICIPIO_c_benef',\n",
       "       'KEY_benef_mun'],\n",
       "      dtype='object')"
      ]
     },
     "execution_count": 18,
     "metadata": {},
     "output_type": "execute_result"
    }
   ],
   "source": [
    "Municipios_19.columns"
   ]
  },
  {
   "cell_type": "markdown",
   "metadata": {},
   "source": [
    "### 1.2 INEGI 2019\n",
    "\n",
    "Obtener listado único de municipios y listado único de localidades de inegi de 2019 con sus claves."
   ]
  },
  {
   "cell_type": "code",
   "execution_count": 19,
   "metadata": {},
   "outputs": [],
   "source": [
    "path_dataset_inegi_2019 = '../../data/inegi/dataset_inegi_clean_2019.csv'\n",
    "#dataset_inegi_clean = pd.read_csv(path_dataset_inegi_2022, encoding='utf-8', dtype={'CVE_ENT': str, 'CVE_MUN': str, 'CVE_LOC': str})\n",
    "dataset_inegi_2019 = pd.read_csv(path_dataset_inegi_2019)"
   ]
  },
  {
   "cell_type": "markdown",
   "metadata": {},
   "source": [
    "### 1.2.1 INEGI 2019 Municipios únicos para cada año."
   ]
  },
  {
   "cell_type": "code",
   "execution_count": 20,
   "metadata": {},
   "outputs": [],
   "source": [
    "dataset_inegi_2019['KEY_inegi_municipio'] = dataset_inegi_2019['Entidad_c_inegi'].astype(str) + '-' + dataset_inegi_2019[\n",
    "    'Municipio_c_inegi'].astype(str) \n",
    "dataset_inegi_2019['KEY_inegi_localidad'] = dataset_inegi_2019['Entidad_c_inegi'].astype(str) + '-' + dataset_inegi_2019[\n",
    "    'Municipio_c_inegi'].astype(str) + '-' + dataset_inegi_2019['Localidad_c_inegi'].astype(str)"
   ]
  },
  {
   "cell_type": "code",
   "execution_count": 21,
   "metadata": {},
   "outputs": [],
   "source": [
    "INEGI_UNIQUEMUN_2019 = dataset_inegi_2019.drop(columns=[\"CVE_LOC\", \"Localidad_inegi\", \"Localidad_c_inegi\", \"KEY_inegi_localidad\"])\n",
    "\n",
    "INEGI_UNIQUEMUN_2019 = INEGI_UNIQUEMUN_2019.drop_duplicates()"
   ]
  },
  {
   "cell_type": "code",
   "execution_count": 22,
   "metadata": {},
   "outputs": [
    {
     "data": {
      "text/plain": [
       "(2465, 7)"
      ]
     },
     "execution_count": 22,
     "metadata": {},
     "output_type": "execute_result"
    }
   ],
   "source": [
    "INEGI_UNIQUEMUN_2019.shape"
   ]
  },
  {
   "cell_type": "code",
   "execution_count": 23,
   "metadata": {},
   "outputs": [
    {
     "data": {
      "text/plain": [
       "Index(['CVE_ENT', 'Entidad_inegi', 'CVE_MUN', 'Municipio_inegi',\n",
       "       'Entidad_c_inegi', 'Municipio_c_inegi', 'KEY_inegi_municipio'],\n",
       "      dtype='object')"
      ]
     },
     "execution_count": 23,
     "metadata": {},
     "output_type": "execute_result"
    }
   ],
   "source": [
    "INEGI_UNIQUEMUN_2019.columns"
   ]
  },
  {
   "cell_type": "markdown",
   "metadata": {},
   "source": [
    "### 1.2.1 INEGI 2019 Localidades únicas para cada año."
   ]
  },
  {
   "cell_type": "code",
   "execution_count": 24,
   "metadata": {},
   "outputs": [],
   "source": [
    "INEGI_UNIQUELOC_2019 = dataset_inegi_2019\n",
    "\n",
    "INEGI_UNIQUELOC_2019 = INEGI_UNIQUELOC_2019.drop_duplicates()"
   ]
  },
  {
   "cell_type": "code",
   "execution_count": 25,
   "metadata": {},
   "outputs": [
    {
     "data": {
      "text/plain": [
       "(299570, 11)"
      ]
     },
     "execution_count": 25,
     "metadata": {},
     "output_type": "execute_result"
    }
   ],
   "source": [
    "INEGI_UNIQUELOC_2019.shape"
   ]
  },
  {
   "cell_type": "markdown",
   "metadata": {},
   "source": [
    "# 2. Diccionario de los datasets de INEGI Y LISTADO BENEFICIARIOS 2019\n",
    "\n",
    "El objetivo de esta sección es crear dos diccionarios de códigos según BENEFICIARIOS-MUNICIPIOS_INEGI y otro BENEFICIARIOS-LOCALIDADES_INEGI, para cada uno de los estados encontrados en inegi_2019, en este caso el número de keys es menor con lo cual no nos hará falta dividir por estado.\n",
    "\n",
    "Para ello haremos un Left join entre Localidades_19 y el dataset de INEGI correspondiente."
   ]
  },
  {
   "cell_type": "code",
   "execution_count": 26,
   "metadata": {},
   "outputs": [],
   "source": [
    "# Crear una función para encontrar la mejor coincidencia difusa con límites entre 85 y 100 de coincidencia\n",
    "def fuzzy_merge_benef2019_2022(df_benef, df_inegi, key1, key2, threshold=85, limit=1):\n",
    "    \"\"\"\n",
    "    df_inegi: DataFrame de la izquierda (el DataFrame principal)\n",
    "    df_prod: DataFrame de la derecha (el DataFrame con el que se quiere hacer el join)\n",
    "    key1: Columna de la clave en df_inegi\n",
    "    key2: Columna de la clave en df_prod\n",
    "    threshold: Umbral de coincidencia difusa\n",
    "    limit: Número de coincidencias a encontrar\n",
    "    \"\"\"\n",
    "    s = df_inegi[key2].tolist()\n",
    "    \n",
    "    # Encontrar las mejores coincidencias para cada clave en df_inegi\n",
    "    matches = df_benef[key1].apply(lambda x: process.extractOne(x, s, score_cutoff=threshold))\n",
    "\n",
    "\n",
    "    # Crear una columna con las mejores coincidencias\n",
    "    df_benef['best_match'] = [match[0] if match else None for match in matches]\n",
    "    \n",
    "    df_benef['match_score'] = [match[1] if match else None for match in matches]\n",
    "    \n",
    "\n",
    "    # Hacer el merge con las mejores coincidencias\n",
    "    df_merged = pd.merge(df_benef, df_inegi, left_on='best_match', right_on=key2, how='left',\n",
    "                         suffixes=('_benef', '_inegi'))\n",
    "    \n",
    "    return df_merged"
   ]
  },
  {
   "cell_type": "code",
   "execution_count": 27,
   "metadata": {},
   "outputs": [
    {
     "data": {
      "text/plain": [
       "(81, 14)"
      ]
     },
     "execution_count": 27,
     "metadata": {},
     "output_type": "execute_result"
    }
   ],
   "source": [
    "diccionario_MUN_19 = fuzzy_merge_benef2019_2022(Municipios_19, INEGI_UNIQUEMUN_2019, 'KEY_benef_mun', 'KEY_inegi_municipio')\n",
    "diccionario_MUN_19.shape"
   ]
  },
  {
   "cell_type": "code",
   "execution_count": 28,
   "metadata": {},
   "outputs": [],
   "source": [
    "diccionario_MUN_19.drop(columns=['ENTIDAD', 'MUNICIPIO', 'ENTIDAD_c_benef', 'MUNICIPIO_c_benef', 'Entidad_c_inegi',\n",
    "       'Municipio_c_inegi'], inplace=True)"
   ]
  },
  {
   "cell_type": "code",
   "execution_count": 29,
   "metadata": {},
   "outputs": [],
   "source": [
    "diccionario_MUN_19.to_csv('../../data/productores_beneficiarios 2019-2022/diccionarios_E3/diccionario_MUN_19.csv', index=False)"
   ]
  },
  {
   "cell_type": "code",
   "execution_count": 30,
   "metadata": {},
   "outputs": [],
   "source": [
    "diccionario_MUN_19_simple = pd.read_csv('../../data/productores_beneficiarios 2019-2022/diccionarios_E3/diccionario_MUN_19_simple.csv')"
   ]
  },
  {
   "cell_type": "code",
   "execution_count": 31,
   "metadata": {},
   "outputs": [],
   "source": [
    "nan_rows = beneficiarios_19[beneficiarios_19.isna().any(axis=1)]"
   ]
  },
  {
   "cell_type": "code",
   "execution_count": 32,
   "metadata": {},
   "outputs": [
    {
     "data": {
      "text/html": [
       "<div>\n",
       "<style scoped>\n",
       "    .dataframe tbody tr th:only-of-type {\n",
       "        vertical-align: middle;\n",
       "    }\n",
       "\n",
       "    .dataframe tbody tr th {\n",
       "        vertical-align: top;\n",
       "    }\n",
       "\n",
       "    .dataframe thead th {\n",
       "        text-align: right;\n",
       "    }\n",
       "</style>\n",
       "<table border=\"1\" class=\"dataframe\">\n",
       "  <thead>\n",
       "    <tr style=\"text-align: right;\">\n",
       "      <th></th>\n",
       "      <th>BENEFICIARIO</th>\n",
       "      <th>ZONA</th>\n",
       "      <th>ENTIDAD</th>\n",
       "      <th>MUNICIPIO</th>\n",
       "      <th>LOCALIDAD</th>\n",
       "      <th>ESTRATIFICACIÓN</th>\n",
       "      <th>PROGRAMA</th>\n",
       "      <th>COMPONENTE</th>\n",
       "      <th>SUBCOMPONENTE</th>\n",
       "      <th>PRODUCTO</th>\n",
       "      <th>FECHA</th>\n",
       "      <th>MONTO FEDERAL</th>\n",
       "      <th>APOYO</th>\n",
       "      <th>ACTIVIDAD</th>\n",
       "      <th>ESLABÓN</th>\n",
       "      <th>CICLO AGRÍCOLA</th>\n",
       "    </tr>\n",
       "  </thead>\n",
       "  <tbody>\n",
       "  </tbody>\n",
       "</table>\n",
       "</div>"
      ],
      "text/plain": [
       "Empty DataFrame\n",
       "Columns: [BENEFICIARIO, ZONA, ENTIDAD, MUNICIPIO, LOCALIDAD, ESTRATIFICACIÓN, PROGRAMA, COMPONENTE, SUBCOMPONENTE, PRODUCTO, FECHA, MONTO FEDERAL, APOYO, ACTIVIDAD, ESLABÓN, CICLO AGRÍCOLA]\n",
       "Index: []"
      ]
     },
     "execution_count": 32,
     "metadata": {},
     "output_type": "execute_result"
    }
   ],
   "source": [
    "nan_rows"
   ]
  },
  {
   "cell_type": "code",
   "execution_count": 33,
   "metadata": {},
   "outputs": [],
   "source": [
    "# Assuming your DataFrame is named df\n",
    "filtered_df = beneficiarios_19[beneficiarios_19['ENTIDAD'] == 'NACIONAL']"
   ]
  },
  {
   "cell_type": "code",
   "execution_count": 34,
   "metadata": {},
   "outputs": [
    {
     "data": {
      "text/html": [
       "<div>\n",
       "<style scoped>\n",
       "    .dataframe tbody tr th:only-of-type {\n",
       "        vertical-align: middle;\n",
       "    }\n",
       "\n",
       "    .dataframe tbody tr th {\n",
       "        vertical-align: top;\n",
       "    }\n",
       "\n",
       "    .dataframe thead th {\n",
       "        text-align: right;\n",
       "    }\n",
       "</style>\n",
       "<table border=\"1\" class=\"dataframe\">\n",
       "  <thead>\n",
       "    <tr style=\"text-align: right;\">\n",
       "      <th></th>\n",
       "      <th>BENEFICIARIO</th>\n",
       "      <th>ZONA</th>\n",
       "      <th>ENTIDAD</th>\n",
       "      <th>MUNICIPIO</th>\n",
       "      <th>LOCALIDAD</th>\n",
       "      <th>ESTRATIFICACIÓN</th>\n",
       "      <th>PROGRAMA</th>\n",
       "      <th>COMPONENTE</th>\n",
       "      <th>SUBCOMPONENTE</th>\n",
       "      <th>PRODUCTO</th>\n",
       "      <th>FECHA</th>\n",
       "      <th>MONTO FEDERAL</th>\n",
       "      <th>APOYO</th>\n",
       "      <th>ACTIVIDAD</th>\n",
       "      <th>ESLABÓN</th>\n",
       "      <th>CICLO AGRÍCOLA</th>\n",
       "    </tr>\n",
       "  </thead>\n",
       "  <tbody>\n",
       "  </tbody>\n",
       "</table>\n",
       "</div>"
      ],
      "text/plain": [
       "Empty DataFrame\n",
       "Columns: [BENEFICIARIO, ZONA, ENTIDAD, MUNICIPIO, LOCALIDAD, ESTRATIFICACIÓN, PROGRAMA, COMPONENTE, SUBCOMPONENTE, PRODUCTO, FECHA, MONTO FEDERAL, APOYO, ACTIVIDAD, ESLABÓN, CICLO AGRÍCOLA]\n",
       "Index: []"
      ]
     },
     "execution_count": 34,
     "metadata": {},
     "output_type": "execute_result"
    }
   ],
   "source": [
    "filtered_df"
   ]
  },
  {
   "cell_type": "markdown",
   "metadata": {},
   "source": [
    "### MERGE\n",
    "\n",
    "Armamos por partes el dataset definitivo:\n",
    "1. Juntamos beneficiarios_19 con el diccionario simple. (listado_beneficiario_parte_I)\n",
    "2. Al df anterior juntamos las claver provenientes del catálogo de Inegi. (listado_beneficiario_parte_II)"
   ]
  },
  {
   "cell_type": "code",
   "execution_count": 35,
   "metadata": {},
   "outputs": [
    {
     "data": {
      "text/plain": [
       "Index(['BENEFICIARIO', 'ZONA', 'ENTIDAD', 'MUNICIPIO', 'LOCALIDAD',\n",
       "       'ESTRATIFICACIÓN', 'PROGRAMA', 'COMPONENTE', 'SUBCOMPONENTE',\n",
       "       'PRODUCTO', 'FECHA', 'MONTO FEDERAL', 'APOYO', 'ACTIVIDAD', 'ESLABÓN',\n",
       "       'CICLO AGRÍCOLA'],\n",
       "      dtype='object')"
      ]
     },
     "execution_count": 35,
     "metadata": {},
     "output_type": "execute_result"
    }
   ],
   "source": [
    "beneficiarios_19.columns"
   ]
  },
  {
   "cell_type": "code",
   "execution_count": 36,
   "metadata": {},
   "outputs": [],
   "source": [
    "# Crear una variable KEY en listado de productores y el diccionario para hacer el join\n",
    "\n",
    "# Clean listado beneficiarios\n",
    "beneficiarios_19['ESTADO_Clean'] = beneficiarios_19['ENTIDAD'].apply(clean_text)\n",
    "beneficiarios_19['MUNICIPIO_Clean'] = beneficiarios_19['MUNICIPIO'].apply(clean_text)\n",
    "\n",
    "# Create KEY in listado beneficiarios\n",
    "beneficiarios_19['Estado-mun-KEY'] = beneficiarios_19['ESTADO_Clean'].astype(str) + '-' + beneficiarios_19[\n",
    "    'MUNICIPIO_Clean'].astype(str)"
   ]
  },
  {
   "cell_type": "code",
   "execution_count": 37,
   "metadata": {},
   "outputs": [],
   "source": [
    "# Hacer el join de la Parte I\n",
    "listado_beneficiarios_parte_I = pd.merge(beneficiarios_19, diccionario_MUN_19_simple, left_on=\"Estado-mun-KEY\",\n",
    "                                        right_on=\"KEY_benef_mun\", how='left', suffixes=('_benef', '_inegi'))"
   ]
  },
  {
   "cell_type": "code",
   "execution_count": 38,
   "metadata": {},
   "outputs": [
    {
     "data": {
      "text/plain": [
       "Index(['BENEFICIARIO', 'ZONA', 'ENTIDAD', 'MUNICIPIO', 'LOCALIDAD',\n",
       "       'ESTRATIFICACIÓN', 'PROGRAMA', 'COMPONENTE', 'SUBCOMPONENTE',\n",
       "       'PRODUCTO', 'FECHA', 'MONTO FEDERAL', 'APOYO', 'ACTIVIDAD', 'ESLABÓN',\n",
       "       'CICLO AGRÍCOLA', 'ESTADO_Clean', 'MUNICIPIO_Clean', 'Estado-mun-KEY',\n",
       "       'KEY_benef_mun', 'KEY_inegi_municipio'],\n",
       "      dtype='object')"
      ]
     },
     "execution_count": 38,
     "metadata": {},
     "output_type": "execute_result"
    }
   ],
   "source": [
    "listado_beneficiarios_parte_I.columns"
   ]
  },
  {
   "cell_type": "code",
   "execution_count": 39,
   "metadata": {},
   "outputs": [],
   "source": [
    "# Hacer el join de la Parte II\n",
    "listado_beneficiarios_parte_II = pd.merge(listado_beneficiarios_parte_I, INEGI_UNIQUEMUN_2019, left_on=\"KEY_inegi_municipio\",\n",
    "                                        right_on=\"KEY_inegi_municipio\", how='left', suffixes=('_benef', '_inegi'))"
   ]
  },
  {
   "cell_type": "code",
   "execution_count": 40,
   "metadata": {},
   "outputs": [
    {
     "data": {
      "text/html": [
       "<div>\n",
       "<style scoped>\n",
       "    .dataframe tbody tr th:only-of-type {\n",
       "        vertical-align: middle;\n",
       "    }\n",
       "\n",
       "    .dataframe tbody tr th {\n",
       "        vertical-align: top;\n",
       "    }\n",
       "\n",
       "    .dataframe thead th {\n",
       "        text-align: right;\n",
       "    }\n",
       "</style>\n",
       "<table border=\"1\" class=\"dataframe\">\n",
       "  <thead>\n",
       "    <tr style=\"text-align: right;\">\n",
       "      <th></th>\n",
       "      <th>BENEFICIARIO</th>\n",
       "      <th>ZONA</th>\n",
       "      <th>ENTIDAD</th>\n",
       "      <th>MUNICIPIO</th>\n",
       "      <th>LOCALIDAD</th>\n",
       "      <th>ESTRATIFICACIÓN</th>\n",
       "      <th>PROGRAMA</th>\n",
       "      <th>COMPONENTE</th>\n",
       "      <th>SUBCOMPONENTE</th>\n",
       "      <th>PRODUCTO</th>\n",
       "      <th>...</th>\n",
       "      <th>MUNICIPIO_Clean</th>\n",
       "      <th>Estado-mun-KEY</th>\n",
       "      <th>KEY_benef_mun</th>\n",
       "      <th>KEY_inegi_municipio</th>\n",
       "      <th>CVE_ENT</th>\n",
       "      <th>Entidad_inegi</th>\n",
       "      <th>CVE_MUN</th>\n",
       "      <th>Municipio_inegi</th>\n",
       "      <th>Entidad_c_inegi</th>\n",
       "      <th>Municipio_c_inegi</th>\n",
       "    </tr>\n",
       "  </thead>\n",
       "  <tbody>\n",
       "    <tr>\n",
       "      <th>0</th>\n",
       "      <td>TORRES ROMERO SANTANA</td>\n",
       "      <td>CENTRO PAÍS</td>\n",
       "      <td>GUERRERO</td>\n",
       "      <td>AZOYÚ</td>\n",
       "      <td>LOS CHEGÜES</td>\n",
       "      <td>Alto</td>\n",
       "      <td>FERTILIZANTES</td>\n",
       "      <td>FERTILIZANTES</td>\n",
       "      <td>FERTILIZANTES</td>\n",
       "      <td>Cultivo de maíz grano</td>\n",
       "      <td>...</td>\n",
       "      <td>azoyu</td>\n",
       "      <td>guerrero-azoyu</td>\n",
       "      <td>guerrero-azoyu</td>\n",
       "      <td>guerrero-azoyu</td>\n",
       "      <td>12</td>\n",
       "      <td>Guerrero</td>\n",
       "      <td>13</td>\n",
       "      <td>Azoyú</td>\n",
       "      <td>guerrero</td>\n",
       "      <td>azoyu</td>\n",
       "    </tr>\n",
       "    <tr>\n",
       "      <th>1</th>\n",
       "      <td>GOMEZ PADILLA DEMETRIA</td>\n",
       "      <td>CENTRO PAÍS</td>\n",
       "      <td>GUERRERO</td>\n",
       "      <td>TECOANAPA</td>\n",
       "      <td>MECATEPEC</td>\n",
       "      <td>Alto</td>\n",
       "      <td>FERTILIZANTES</td>\n",
       "      <td>FERTILIZANTES</td>\n",
       "      <td>FERTILIZANTES</td>\n",
       "      <td>Cultivo de maíz grano</td>\n",
       "      <td>...</td>\n",
       "      <td>tecoanapa</td>\n",
       "      <td>guerrero-tecoanapa</td>\n",
       "      <td>guerrero-tecoanapa</td>\n",
       "      <td>guerrero-tecoanapa</td>\n",
       "      <td>12</td>\n",
       "      <td>Guerrero</td>\n",
       "      <td>56</td>\n",
       "      <td>Tecoanapa</td>\n",
       "      <td>guerrero</td>\n",
       "      <td>tecoanapa</td>\n",
       "    </tr>\n",
       "    <tr>\n",
       "      <th>2</th>\n",
       "      <td>GUERRERO MELCHOR ADRIAN</td>\n",
       "      <td>CENTRO PAÍS</td>\n",
       "      <td>GUERRERO</td>\n",
       "      <td>TELOLOAPAN</td>\n",
       "      <td>TLAJOCOTLA (LA HACIENDA)</td>\n",
       "      <td>Alto</td>\n",
       "      <td>FERTILIZANTES</td>\n",
       "      <td>FERTILIZANTES</td>\n",
       "      <td>FERTILIZANTES</td>\n",
       "      <td>Cultivo de maíz grano</td>\n",
       "      <td>...</td>\n",
       "      <td>teloloapan</td>\n",
       "      <td>guerrero-teloloapan</td>\n",
       "      <td>guerrero-teloloapan</td>\n",
       "      <td>guerrero-teloloapan</td>\n",
       "      <td>12</td>\n",
       "      <td>Guerrero</td>\n",
       "      <td>58</td>\n",
       "      <td>Teloloapan</td>\n",
       "      <td>guerrero</td>\n",
       "      <td>teloloapan</td>\n",
       "    </tr>\n",
       "    <tr>\n",
       "      <th>3</th>\n",
       "      <td>ROMERO GONZALEZ CELERINA</td>\n",
       "      <td>CENTRO PAÍS</td>\n",
       "      <td>GUERRERO</td>\n",
       "      <td>TELOLOAPAN</td>\n",
       "      <td>TELOLOAPAN</td>\n",
       "      <td>Medio</td>\n",
       "      <td>FERTILIZANTES</td>\n",
       "      <td>FERTILIZANTES</td>\n",
       "      <td>FERTILIZANTES</td>\n",
       "      <td>Cultivo de maíz grano</td>\n",
       "      <td>...</td>\n",
       "      <td>teloloapan</td>\n",
       "      <td>guerrero-teloloapan</td>\n",
       "      <td>guerrero-teloloapan</td>\n",
       "      <td>guerrero-teloloapan</td>\n",
       "      <td>12</td>\n",
       "      <td>Guerrero</td>\n",
       "      <td>58</td>\n",
       "      <td>Teloloapan</td>\n",
       "      <td>guerrero</td>\n",
       "      <td>teloloapan</td>\n",
       "    </tr>\n",
       "    <tr>\n",
       "      <th>4</th>\n",
       "      <td>GOMEZ CERON MA.MIREYA</td>\n",
       "      <td>CENTRO PAÍS</td>\n",
       "      <td>GUERRERO</td>\n",
       "      <td>TECOANAPA</td>\n",
       "      <td>LOS SAUCES</td>\n",
       "      <td>Alto</td>\n",
       "      <td>FERTILIZANTES</td>\n",
       "      <td>FERTILIZANTES</td>\n",
       "      <td>FERTILIZANTES</td>\n",
       "      <td>Cultivo de maíz grano</td>\n",
       "      <td>...</td>\n",
       "      <td>tecoanapa</td>\n",
       "      <td>guerrero-tecoanapa</td>\n",
       "      <td>guerrero-tecoanapa</td>\n",
       "      <td>guerrero-tecoanapa</td>\n",
       "      <td>12</td>\n",
       "      <td>Guerrero</td>\n",
       "      <td>56</td>\n",
       "      <td>Tecoanapa</td>\n",
       "      <td>guerrero</td>\n",
       "      <td>tecoanapa</td>\n",
       "    </tr>\n",
       "    <tr>\n",
       "      <th>...</th>\n",
       "      <td>...</td>\n",
       "      <td>...</td>\n",
       "      <td>...</td>\n",
       "      <td>...</td>\n",
       "      <td>...</td>\n",
       "      <td>...</td>\n",
       "      <td>...</td>\n",
       "      <td>...</td>\n",
       "      <td>...</td>\n",
       "      <td>...</td>\n",
       "      <td>...</td>\n",
       "      <td>...</td>\n",
       "      <td>...</td>\n",
       "      <td>...</td>\n",
       "      <td>...</td>\n",
       "      <td>...</td>\n",
       "      <td>...</td>\n",
       "      <td>...</td>\n",
       "      <td>...</td>\n",
       "      <td>...</td>\n",
       "      <td>...</td>\n",
       "    </tr>\n",
       "    <tr>\n",
       "      <th>275018</th>\n",
       "      <td>CASTILLO CUEVAS AMANCIO</td>\n",
       "      <td>CENTRO PAÍS</td>\n",
       "      <td>GUERRERO</td>\n",
       "      <td>TAXCO DE ALARCÓN</td>\n",
       "      <td>PAINTLA</td>\n",
       "      <td>Alto</td>\n",
       "      <td>FERTILIZANTES</td>\n",
       "      <td>FERTILIZANTES</td>\n",
       "      <td>FERTILIZANTES</td>\n",
       "      <td>Cultivo de maíz grano</td>\n",
       "      <td>...</td>\n",
       "      <td>taxco de alarcon</td>\n",
       "      <td>guerrero-taxco de alarcon</td>\n",
       "      <td>guerrero-taxco de alarcon</td>\n",
       "      <td>guerrero-taxco de alarcon</td>\n",
       "      <td>12</td>\n",
       "      <td>Guerrero</td>\n",
       "      <td>55</td>\n",
       "      <td>Taxco de Alarcón</td>\n",
       "      <td>guerrero</td>\n",
       "      <td>taxco de alarcon</td>\n",
       "    </tr>\n",
       "    <tr>\n",
       "      <th>275019</th>\n",
       "      <td>RUEDA SECUNDINO ANACLETO</td>\n",
       "      <td>CENTRO PAÍS</td>\n",
       "      <td>GUERRERO</td>\n",
       "      <td>TAXCO DE ALARCÓN</td>\n",
       "      <td>PAINTLA</td>\n",
       "      <td>Alto</td>\n",
       "      <td>FERTILIZANTES</td>\n",
       "      <td>FERTILIZANTES</td>\n",
       "      <td>FERTILIZANTES</td>\n",
       "      <td>Cultivo de maíz grano</td>\n",
       "      <td>...</td>\n",
       "      <td>taxco de alarcon</td>\n",
       "      <td>guerrero-taxco de alarcon</td>\n",
       "      <td>guerrero-taxco de alarcon</td>\n",
       "      <td>guerrero-taxco de alarcon</td>\n",
       "      <td>12</td>\n",
       "      <td>Guerrero</td>\n",
       "      <td>55</td>\n",
       "      <td>Taxco de Alarcón</td>\n",
       "      <td>guerrero</td>\n",
       "      <td>taxco de alarcon</td>\n",
       "    </tr>\n",
       "    <tr>\n",
       "      <th>275020</th>\n",
       "      <td>ARMENTA VILLEGAS LUIS</td>\n",
       "      <td>CENTRO PAÍS</td>\n",
       "      <td>GUERRERO</td>\n",
       "      <td>COCULA</td>\n",
       "      <td>COCULA</td>\n",
       "      <td>Alto</td>\n",
       "      <td>FERTILIZANTES</td>\n",
       "      <td>FERTILIZANTES</td>\n",
       "      <td>FERTILIZANTES</td>\n",
       "      <td>Cultivo de maíz grano</td>\n",
       "      <td>...</td>\n",
       "      <td>cocula</td>\n",
       "      <td>guerrero-cocula</td>\n",
       "      <td>guerrero-cocula</td>\n",
       "      <td>guerrero-cocula</td>\n",
       "      <td>12</td>\n",
       "      <td>Guerrero</td>\n",
       "      <td>17</td>\n",
       "      <td>Cocula</td>\n",
       "      <td>guerrero</td>\n",
       "      <td>cocula</td>\n",
       "    </tr>\n",
       "    <tr>\n",
       "      <th>275021</th>\n",
       "      <td>BELLO JIMENEZ GREGORIA</td>\n",
       "      <td>CENTRO PAÍS</td>\n",
       "      <td>GUERRERO</td>\n",
       "      <td>ATLIXTAC</td>\n",
       "      <td>XALPITZÁHUAC</td>\n",
       "      <td>Muy alto</td>\n",
       "      <td>FERTILIZANTES</td>\n",
       "      <td>FERTILIZANTES</td>\n",
       "      <td>FERTILIZANTES</td>\n",
       "      <td>Cultivo de maíz grano</td>\n",
       "      <td>...</td>\n",
       "      <td>atlixtac</td>\n",
       "      <td>guerrero-atlixtac</td>\n",
       "      <td>guerrero-atlixtac</td>\n",
       "      <td>guerrero-atlixtac</td>\n",
       "      <td>12</td>\n",
       "      <td>Guerrero</td>\n",
       "      <td>10</td>\n",
       "      <td>Atlixtac</td>\n",
       "      <td>guerrero</td>\n",
       "      <td>atlixtac</td>\n",
       "    </tr>\n",
       "    <tr>\n",
       "      <th>275022</th>\n",
       "      <td>CASIMIRO MARTINEZ ELIBORIA</td>\n",
       "      <td>CENTRO PAÍS</td>\n",
       "      <td>GUERRERO</td>\n",
       "      <td>TAXCO DE ALARCÓN</td>\n",
       "      <td>PAINTLA</td>\n",
       "      <td>Alto</td>\n",
       "      <td>FERTILIZANTES</td>\n",
       "      <td>FERTILIZANTES</td>\n",
       "      <td>FERTILIZANTES</td>\n",
       "      <td>Cultivo de maíz grano</td>\n",
       "      <td>...</td>\n",
       "      <td>taxco de alarcon</td>\n",
       "      <td>guerrero-taxco de alarcon</td>\n",
       "      <td>guerrero-taxco de alarcon</td>\n",
       "      <td>guerrero-taxco de alarcon</td>\n",
       "      <td>12</td>\n",
       "      <td>Guerrero</td>\n",
       "      <td>55</td>\n",
       "      <td>Taxco de Alarcón</td>\n",
       "      <td>guerrero</td>\n",
       "      <td>taxco de alarcon</td>\n",
       "    </tr>\n",
       "  </tbody>\n",
       "</table>\n",
       "<p>275023 rows × 27 columns</p>\n",
       "</div>"
      ],
      "text/plain": [
       "                       BENEFICIARIO         ZONA   ENTIDAD         MUNICIPIO  \\\n",
       "0            TORRES ROMERO SANTANA   CENTRO PAÍS  GUERRERO             AZOYÚ   \n",
       "1           GOMEZ PADILLA DEMETRIA   CENTRO PAÍS  GUERRERO         TECOANAPA   \n",
       "2          GUERRERO MELCHOR ADRIAN   CENTRO PAÍS  GUERRERO        TELOLOAPAN   \n",
       "3         ROMERO GONZALEZ CELERINA   CENTRO PAÍS  GUERRERO        TELOLOAPAN   \n",
       "4            GOMEZ CERON MA.MIREYA   CENTRO PAÍS  GUERRERO         TECOANAPA   \n",
       "...                             ...          ...       ...               ...   \n",
       "275018     CASTILLO CUEVAS AMANCIO   CENTRO PAÍS  GUERRERO  TAXCO DE ALARCÓN   \n",
       "275019    RUEDA SECUNDINO ANACLETO   CENTRO PAÍS  GUERRERO  TAXCO DE ALARCÓN   \n",
       "275020       ARMENTA VILLEGAS LUIS   CENTRO PAÍS  GUERRERO            COCULA   \n",
       "275021      BELLO JIMENEZ GREGORIA   CENTRO PAÍS  GUERRERO          ATLIXTAC   \n",
       "275022  CASIMIRO MARTINEZ ELIBORIA   CENTRO PAÍS  GUERRERO  TAXCO DE ALARCÓN   \n",
       "\n",
       "                       LOCALIDAD ESTRATIFICACIÓN       PROGRAMA  \\\n",
       "0                    LOS CHEGÜES            Alto  FERTILIZANTES   \n",
       "1                      MECATEPEC            Alto  FERTILIZANTES   \n",
       "2       TLAJOCOTLA (LA HACIENDA)            Alto  FERTILIZANTES   \n",
       "3                     TELOLOAPAN           Medio  FERTILIZANTES   \n",
       "4                     LOS SAUCES            Alto  FERTILIZANTES   \n",
       "...                          ...             ...            ...   \n",
       "275018                   PAINTLA            Alto  FERTILIZANTES   \n",
       "275019                   PAINTLA            Alto  FERTILIZANTES   \n",
       "275020                    COCULA            Alto  FERTILIZANTES   \n",
       "275021              XALPITZÁHUAC        Muy alto  FERTILIZANTES   \n",
       "275022                   PAINTLA            Alto  FERTILIZANTES   \n",
       "\n",
       "           COMPONENTE  SUBCOMPONENTE               PRODUCTO  ...  \\\n",
       "0       FERTILIZANTES  FERTILIZANTES  Cultivo de maíz grano  ...   \n",
       "1       FERTILIZANTES  FERTILIZANTES  Cultivo de maíz grano  ...   \n",
       "2       FERTILIZANTES  FERTILIZANTES  Cultivo de maíz grano  ...   \n",
       "3       FERTILIZANTES  FERTILIZANTES  Cultivo de maíz grano  ...   \n",
       "4       FERTILIZANTES  FERTILIZANTES  Cultivo de maíz grano  ...   \n",
       "...               ...            ...                    ...  ...   \n",
       "275018  FERTILIZANTES  FERTILIZANTES  Cultivo de maíz grano  ...   \n",
       "275019  FERTILIZANTES  FERTILIZANTES  Cultivo de maíz grano  ...   \n",
       "275020  FERTILIZANTES  FERTILIZANTES  Cultivo de maíz grano  ...   \n",
       "275021  FERTILIZANTES  FERTILIZANTES  Cultivo de maíz grano  ...   \n",
       "275022  FERTILIZANTES  FERTILIZANTES  Cultivo de maíz grano  ...   \n",
       "\n",
       "         MUNICIPIO_Clean             Estado-mun-KEY  \\\n",
       "0                  azoyu             guerrero-azoyu   \n",
       "1              tecoanapa         guerrero-tecoanapa   \n",
       "2             teloloapan        guerrero-teloloapan   \n",
       "3             teloloapan        guerrero-teloloapan   \n",
       "4              tecoanapa         guerrero-tecoanapa   \n",
       "...                  ...                        ...   \n",
       "275018  taxco de alarcon  guerrero-taxco de alarcon   \n",
       "275019  taxco de alarcon  guerrero-taxco de alarcon   \n",
       "275020            cocula            guerrero-cocula   \n",
       "275021          atlixtac          guerrero-atlixtac   \n",
       "275022  taxco de alarcon  guerrero-taxco de alarcon   \n",
       "\n",
       "                    KEY_benef_mun        KEY_inegi_municipio CVE_ENT  \\\n",
       "0                  guerrero-azoyu             guerrero-azoyu      12   \n",
       "1              guerrero-tecoanapa         guerrero-tecoanapa      12   \n",
       "2             guerrero-teloloapan        guerrero-teloloapan      12   \n",
       "3             guerrero-teloloapan        guerrero-teloloapan      12   \n",
       "4              guerrero-tecoanapa         guerrero-tecoanapa      12   \n",
       "...                           ...                        ...     ...   \n",
       "275018  guerrero-taxco de alarcon  guerrero-taxco de alarcon      12   \n",
       "275019  guerrero-taxco de alarcon  guerrero-taxco de alarcon      12   \n",
       "275020            guerrero-cocula            guerrero-cocula      12   \n",
       "275021          guerrero-atlixtac          guerrero-atlixtac      12   \n",
       "275022  guerrero-taxco de alarcon  guerrero-taxco de alarcon      12   \n",
       "\n",
       "       Entidad_inegi CVE_MUN   Municipio_inegi Entidad_c_inegi  \\\n",
       "0           Guerrero      13             Azoyú        guerrero   \n",
       "1           Guerrero      56         Tecoanapa        guerrero   \n",
       "2           Guerrero      58        Teloloapan        guerrero   \n",
       "3           Guerrero      58        Teloloapan        guerrero   \n",
       "4           Guerrero      56         Tecoanapa        guerrero   \n",
       "...              ...     ...               ...             ...   \n",
       "275018      Guerrero      55  Taxco de Alarcón        guerrero   \n",
       "275019      Guerrero      55  Taxco de Alarcón        guerrero   \n",
       "275020      Guerrero      17            Cocula        guerrero   \n",
       "275021      Guerrero      10          Atlixtac        guerrero   \n",
       "275022      Guerrero      55  Taxco de Alarcón        guerrero   \n",
       "\n",
       "       Municipio_c_inegi  \n",
       "0                  azoyu  \n",
       "1              tecoanapa  \n",
       "2             teloloapan  \n",
       "3             teloloapan  \n",
       "4              tecoanapa  \n",
       "...                  ...  \n",
       "275018  taxco de alarcon  \n",
       "275019  taxco de alarcon  \n",
       "275020            cocula  \n",
       "275021          atlixtac  \n",
       "275022  taxco de alarcon  \n",
       "\n",
       "[275023 rows x 27 columns]"
      ]
     },
     "execution_count": 40,
     "metadata": {},
     "output_type": "execute_result"
    }
   ],
   "source": [
    "listado_beneficiarios_parte_II"
   ]
  },
  {
   "cell_type": "code",
   "execution_count": 41,
   "metadata": {},
   "outputs": [
    {
     "data": {
      "text/plain": [
       "Index(['BENEFICIARIO', 'ZONA', 'ENTIDAD', 'MUNICIPIO', 'LOCALIDAD',\n",
       "       'ESTRATIFICACIÓN', 'PROGRAMA', 'COMPONENTE', 'SUBCOMPONENTE',\n",
       "       'PRODUCTO', 'FECHA', 'MONTO FEDERAL', 'APOYO', 'ACTIVIDAD', 'ESLABÓN',\n",
       "       'CICLO AGRÍCOLA', 'ESTADO_Clean', 'MUNICIPIO_Clean', 'Estado-mun-KEY',\n",
       "       'KEY_benef_mun', 'KEY_inegi_municipio', 'CVE_ENT', 'Entidad_inegi',\n",
       "       'CVE_MUN', 'Municipio_inegi', 'Entidad_c_inegi', 'Municipio_c_inegi'],\n",
       "      dtype='object')"
      ]
     },
     "execution_count": 41,
     "metadata": {},
     "output_type": "execute_result"
    }
   ],
   "source": [
    "listado_beneficiarios_parte_II.columns"
   ]
  },
  {
   "cell_type": "code",
   "execution_count": 42,
   "metadata": {},
   "outputs": [],
   "source": [
    "listado_beneficiarios_parte_II = listado_beneficiarios_parte_II.drop(columns=['ESTADO_Clean', 'MUNICIPIO_Clean', 'Estado-mun-KEY', 'KEY_inegi_municipio', 'Entidad_c_inegi','Municipio_c_inegi', 'ESTRATIFICACIÓN', 'PROGRAMA', 'COMPONENTE', 'SUBCOMPONENTE', 'APOYO', 'ACTIVIDAD', 'ESLABÓN'])"
   ]
  },
  {
   "cell_type": "code",
   "execution_count": 43,
   "metadata": {},
   "outputs": [
    {
     "data": {
      "text/html": [
       "<div>\n",
       "<style scoped>\n",
       "    .dataframe tbody tr th:only-of-type {\n",
       "        vertical-align: middle;\n",
       "    }\n",
       "\n",
       "    .dataframe tbody tr th {\n",
       "        vertical-align: top;\n",
       "    }\n",
       "\n",
       "    .dataframe thead th {\n",
       "        text-align: right;\n",
       "    }\n",
       "</style>\n",
       "<table border=\"1\" class=\"dataframe\">\n",
       "  <thead>\n",
       "    <tr style=\"text-align: right;\">\n",
       "      <th></th>\n",
       "      <th>BENEFICIARIO</th>\n",
       "      <th>ZONA</th>\n",
       "      <th>ENTIDAD</th>\n",
       "      <th>MUNICIPIO</th>\n",
       "      <th>LOCALIDAD</th>\n",
       "      <th>PRODUCTO</th>\n",
       "      <th>FECHA</th>\n",
       "      <th>MONTO FEDERAL</th>\n",
       "      <th>CICLO AGRÍCOLA</th>\n",
       "      <th>KEY_benef_mun</th>\n",
       "      <th>CVE_ENT</th>\n",
       "      <th>Entidad_inegi</th>\n",
       "      <th>CVE_MUN</th>\n",
       "      <th>Municipio_inegi</th>\n",
       "    </tr>\n",
       "  </thead>\n",
       "  <tbody>\n",
       "    <tr>\n",
       "      <th>0</th>\n",
       "      <td>TORRES ROMERO SANTANA</td>\n",
       "      <td>CENTRO PAÍS</td>\n",
       "      <td>GUERRERO</td>\n",
       "      <td>AZOYÚ</td>\n",
       "      <td>LOS CHEGÜES</td>\n",
       "      <td>Cultivo de maíz grano</td>\n",
       "      <td>30/06/2019</td>\n",
       "      <td>2430.55</td>\n",
       "      <td>PV2019</td>\n",
       "      <td>guerrero-azoyu</td>\n",
       "      <td>12</td>\n",
       "      <td>Guerrero</td>\n",
       "      <td>13</td>\n",
       "      <td>Azoyú</td>\n",
       "    </tr>\n",
       "    <tr>\n",
       "      <th>1</th>\n",
       "      <td>GOMEZ PADILLA DEMETRIA</td>\n",
       "      <td>CENTRO PAÍS</td>\n",
       "      <td>GUERRERO</td>\n",
       "      <td>TECOANAPA</td>\n",
       "      <td>MECATEPEC</td>\n",
       "      <td>Cultivo de maíz grano</td>\n",
       "      <td>02/07/2019</td>\n",
       "      <td>4383.10</td>\n",
       "      <td>PV2019</td>\n",
       "      <td>guerrero-tecoanapa</td>\n",
       "      <td>12</td>\n",
       "      <td>Guerrero</td>\n",
       "      <td>56</td>\n",
       "      <td>Tecoanapa</td>\n",
       "    </tr>\n",
       "    <tr>\n",
       "      <th>2</th>\n",
       "      <td>GUERRERO MELCHOR ADRIAN</td>\n",
       "      <td>CENTRO PAÍS</td>\n",
       "      <td>GUERRERO</td>\n",
       "      <td>TELOLOAPAN</td>\n",
       "      <td>TLAJOCOTLA (LA HACIENDA)</td>\n",
       "      <td>Cultivo de maíz grano</td>\n",
       "      <td>27/06/2019</td>\n",
       "      <td>2430.55</td>\n",
       "      <td>PV2019</td>\n",
       "      <td>guerrero-teloloapan</td>\n",
       "      <td>12</td>\n",
       "      <td>Guerrero</td>\n",
       "      <td>58</td>\n",
       "      <td>Teloloapan</td>\n",
       "    </tr>\n",
       "    <tr>\n",
       "      <th>3</th>\n",
       "      <td>ROMERO GONZALEZ CELERINA</td>\n",
       "      <td>CENTRO PAÍS</td>\n",
       "      <td>GUERRERO</td>\n",
       "      <td>TELOLOAPAN</td>\n",
       "      <td>TELOLOAPAN</td>\n",
       "      <td>Cultivo de maíz grano</td>\n",
       "      <td>17/07/2019</td>\n",
       "      <td>4383.10</td>\n",
       "      <td>PV2019</td>\n",
       "      <td>guerrero-teloloapan</td>\n",
       "      <td>12</td>\n",
       "      <td>Guerrero</td>\n",
       "      <td>58</td>\n",
       "      <td>Teloloapan</td>\n",
       "    </tr>\n",
       "    <tr>\n",
       "      <th>4</th>\n",
       "      <td>GOMEZ CERON MA.MIREYA</td>\n",
       "      <td>CENTRO PAÍS</td>\n",
       "      <td>GUERRERO</td>\n",
       "      <td>TECOANAPA</td>\n",
       "      <td>LOS SAUCES</td>\n",
       "      <td>Cultivo de maíz grano</td>\n",
       "      <td>18/07/2019</td>\n",
       "      <td>4383.10</td>\n",
       "      <td>PV2019</td>\n",
       "      <td>guerrero-tecoanapa</td>\n",
       "      <td>12</td>\n",
       "      <td>Guerrero</td>\n",
       "      <td>56</td>\n",
       "      <td>Tecoanapa</td>\n",
       "    </tr>\n",
       "    <tr>\n",
       "      <th>...</th>\n",
       "      <td>...</td>\n",
       "      <td>...</td>\n",
       "      <td>...</td>\n",
       "      <td>...</td>\n",
       "      <td>...</td>\n",
       "      <td>...</td>\n",
       "      <td>...</td>\n",
       "      <td>...</td>\n",
       "      <td>...</td>\n",
       "      <td>...</td>\n",
       "      <td>...</td>\n",
       "      <td>...</td>\n",
       "      <td>...</td>\n",
       "      <td>...</td>\n",
       "    </tr>\n",
       "    <tr>\n",
       "      <th>275018</th>\n",
       "      <td>CASTILLO CUEVAS AMANCIO</td>\n",
       "      <td>CENTRO PAÍS</td>\n",
       "      <td>GUERRERO</td>\n",
       "      <td>TAXCO DE ALARCÓN</td>\n",
       "      <td>PAINTLA</td>\n",
       "      <td>Cultivo de maíz grano</td>\n",
       "      <td>27/06/2019</td>\n",
       "      <td>2430.55</td>\n",
       "      <td>PV2019</td>\n",
       "      <td>guerrero-taxco de alarcon</td>\n",
       "      <td>12</td>\n",
       "      <td>Guerrero</td>\n",
       "      <td>55</td>\n",
       "      <td>Taxco de Alarcón</td>\n",
       "    </tr>\n",
       "    <tr>\n",
       "      <th>275019</th>\n",
       "      <td>RUEDA SECUNDINO ANACLETO</td>\n",
       "      <td>CENTRO PAÍS</td>\n",
       "      <td>GUERRERO</td>\n",
       "      <td>TAXCO DE ALARCÓN</td>\n",
       "      <td>PAINTLA</td>\n",
       "      <td>Cultivo de maíz grano</td>\n",
       "      <td>27/06/2019</td>\n",
       "      <td>2430.55</td>\n",
       "      <td>PV2019</td>\n",
       "      <td>guerrero-taxco de alarcon</td>\n",
       "      <td>12</td>\n",
       "      <td>Guerrero</td>\n",
       "      <td>55</td>\n",
       "      <td>Taxco de Alarcón</td>\n",
       "    </tr>\n",
       "    <tr>\n",
       "      <th>275020</th>\n",
       "      <td>ARMENTA VILLEGAS LUIS</td>\n",
       "      <td>CENTRO PAÍS</td>\n",
       "      <td>GUERRERO</td>\n",
       "      <td>COCULA</td>\n",
       "      <td>COCULA</td>\n",
       "      <td>Cultivo de maíz grano</td>\n",
       "      <td>06/07/2019</td>\n",
       "      <td>2430.55</td>\n",
       "      <td>PV2019</td>\n",
       "      <td>guerrero-cocula</td>\n",
       "      <td>12</td>\n",
       "      <td>Guerrero</td>\n",
       "      <td>17</td>\n",
       "      <td>Cocula</td>\n",
       "    </tr>\n",
       "    <tr>\n",
       "      <th>275021</th>\n",
       "      <td>BELLO JIMENEZ GREGORIA</td>\n",
       "      <td>CENTRO PAÍS</td>\n",
       "      <td>GUERRERO</td>\n",
       "      <td>ATLIXTAC</td>\n",
       "      <td>XALPITZÁHUAC</td>\n",
       "      <td>Cultivo de maíz grano</td>\n",
       "      <td>15/07/2019</td>\n",
       "      <td>6574.65</td>\n",
       "      <td>PV2019</td>\n",
       "      <td>guerrero-atlixtac</td>\n",
       "      <td>12</td>\n",
       "      <td>Guerrero</td>\n",
       "      <td>10</td>\n",
       "      <td>Atlixtac</td>\n",
       "    </tr>\n",
       "    <tr>\n",
       "      <th>275022</th>\n",
       "      <td>CASIMIRO MARTINEZ ELIBORIA</td>\n",
       "      <td>CENTRO PAÍS</td>\n",
       "      <td>GUERRERO</td>\n",
       "      <td>TAXCO DE ALARCÓN</td>\n",
       "      <td>PAINTLA</td>\n",
       "      <td>Cultivo de maíz grano</td>\n",
       "      <td>27/06/2019</td>\n",
       "      <td>2430.55</td>\n",
       "      <td>PV2019</td>\n",
       "      <td>guerrero-taxco de alarcon</td>\n",
       "      <td>12</td>\n",
       "      <td>Guerrero</td>\n",
       "      <td>55</td>\n",
       "      <td>Taxco de Alarcón</td>\n",
       "    </tr>\n",
       "  </tbody>\n",
       "</table>\n",
       "<p>275023 rows × 14 columns</p>\n",
       "</div>"
      ],
      "text/plain": [
       "                       BENEFICIARIO         ZONA   ENTIDAD         MUNICIPIO  \\\n",
       "0            TORRES ROMERO SANTANA   CENTRO PAÍS  GUERRERO             AZOYÚ   \n",
       "1           GOMEZ PADILLA DEMETRIA   CENTRO PAÍS  GUERRERO         TECOANAPA   \n",
       "2          GUERRERO MELCHOR ADRIAN   CENTRO PAÍS  GUERRERO        TELOLOAPAN   \n",
       "3         ROMERO GONZALEZ CELERINA   CENTRO PAÍS  GUERRERO        TELOLOAPAN   \n",
       "4            GOMEZ CERON MA.MIREYA   CENTRO PAÍS  GUERRERO         TECOANAPA   \n",
       "...                             ...          ...       ...               ...   \n",
       "275018     CASTILLO CUEVAS AMANCIO   CENTRO PAÍS  GUERRERO  TAXCO DE ALARCÓN   \n",
       "275019    RUEDA SECUNDINO ANACLETO   CENTRO PAÍS  GUERRERO  TAXCO DE ALARCÓN   \n",
       "275020       ARMENTA VILLEGAS LUIS   CENTRO PAÍS  GUERRERO            COCULA   \n",
       "275021      BELLO JIMENEZ GREGORIA   CENTRO PAÍS  GUERRERO          ATLIXTAC   \n",
       "275022  CASIMIRO MARTINEZ ELIBORIA   CENTRO PAÍS  GUERRERO  TAXCO DE ALARCÓN   \n",
       "\n",
       "                       LOCALIDAD               PRODUCTO       FECHA  \\\n",
       "0                    LOS CHEGÜES  Cultivo de maíz grano  30/06/2019   \n",
       "1                      MECATEPEC  Cultivo de maíz grano  02/07/2019   \n",
       "2       TLAJOCOTLA (LA HACIENDA)  Cultivo de maíz grano  27/06/2019   \n",
       "3                     TELOLOAPAN  Cultivo de maíz grano  17/07/2019   \n",
       "4                     LOS SAUCES  Cultivo de maíz grano  18/07/2019   \n",
       "...                          ...                    ...         ...   \n",
       "275018                   PAINTLA  Cultivo de maíz grano  27/06/2019   \n",
       "275019                   PAINTLA  Cultivo de maíz grano  27/06/2019   \n",
       "275020                    COCULA  Cultivo de maíz grano  06/07/2019   \n",
       "275021              XALPITZÁHUAC  Cultivo de maíz grano  15/07/2019   \n",
       "275022                   PAINTLA  Cultivo de maíz grano  27/06/2019   \n",
       "\n",
       "        MONTO FEDERAL CICLO AGRÍCOLA              KEY_benef_mun  CVE_ENT  \\\n",
       "0             2430.55         PV2019             guerrero-azoyu       12   \n",
       "1             4383.10         PV2019         guerrero-tecoanapa       12   \n",
       "2             2430.55         PV2019        guerrero-teloloapan       12   \n",
       "3             4383.10         PV2019        guerrero-teloloapan       12   \n",
       "4             4383.10         PV2019         guerrero-tecoanapa       12   \n",
       "...               ...            ...                        ...      ...   \n",
       "275018        2430.55         PV2019  guerrero-taxco de alarcon       12   \n",
       "275019        2430.55         PV2019  guerrero-taxco de alarcon       12   \n",
       "275020        2430.55         PV2019            guerrero-cocula       12   \n",
       "275021        6574.65         PV2019          guerrero-atlixtac       12   \n",
       "275022        2430.55         PV2019  guerrero-taxco de alarcon       12   \n",
       "\n",
       "       Entidad_inegi  CVE_MUN   Municipio_inegi  \n",
       "0           Guerrero       13             Azoyú  \n",
       "1           Guerrero       56         Tecoanapa  \n",
       "2           Guerrero       58        Teloloapan  \n",
       "3           Guerrero       58        Teloloapan  \n",
       "4           Guerrero       56         Tecoanapa  \n",
       "...              ...      ...               ...  \n",
       "275018      Guerrero       55  Taxco de Alarcón  \n",
       "275019      Guerrero       55  Taxco de Alarcón  \n",
       "275020      Guerrero       17            Cocula  \n",
       "275021      Guerrero       10          Atlixtac  \n",
       "275022      Guerrero       55  Taxco de Alarcón  \n",
       "\n",
       "[275023 rows x 14 columns]"
      ]
     },
     "execution_count": 43,
     "metadata": {},
     "output_type": "execute_result"
    }
   ],
   "source": [
    "listado_beneficiarios_parte_II"
   ]
  },
  {
   "cell_type": "code",
   "execution_count": 44,
   "metadata": {},
   "outputs": [
    {
     "data": {
      "text/plain": [
       "Index(['BENEFICIARIO', 'ZONA', 'ENTIDAD', 'MUNICIPIO', 'LOCALIDAD', 'PRODUCTO',\n",
       "       'FECHA', 'MONTO FEDERAL', 'CICLO AGRÍCOLA', 'KEY_benef_mun', 'CVE_ENT',\n",
       "       'Entidad_inegi', 'CVE_MUN', 'Municipio_inegi'],\n",
       "      dtype='object')"
      ]
     },
     "execution_count": 44,
     "metadata": {},
     "output_type": "execute_result"
    }
   ],
   "source": [
    "listado_beneficiarios_parte_II.columns"
   ]
  },
  {
   "cell_type": "code",
   "execution_count": 45,
   "metadata": {},
   "outputs": [],
   "source": [
    "listado_beneficiarios_parte_II.to_csv('../../data/listados_completos/listado_beneficiarios_2019.csv', index=False)"
   ]
  },
  {
   "cell_type": "code",
   "execution_count": 46,
   "metadata": {},
   "outputs": [
    {
     "data": {
      "text/plain": [
       "BENEFICIARIO       0\n",
       "ZONA               0\n",
       "ENTIDAD            0\n",
       "MUNICIPIO          0\n",
       "LOCALIDAD          0\n",
       "PRODUCTO           0\n",
       "FECHA              0\n",
       "MONTO FEDERAL      0\n",
       "CICLO AGRÍCOLA     0\n",
       "KEY_benef_mun      0\n",
       "CVE_ENT            0\n",
       "Entidad_inegi      0\n",
       "CVE_MUN            0\n",
       "Municipio_inegi    0\n",
       "dtype: int64"
      ]
     },
     "execution_count": 46,
     "metadata": {},
     "output_type": "execute_result"
    }
   ],
   "source": [
    "listado_beneficiarios_parte_II.isna().sum()"
   ]
  },
  {
   "cell_type": "markdown",
   "metadata": {},
   "source": [
    "# 3. Join por entidad (Divide y Vencerás)"
   ]
  },
  {
   "cell_type": "markdown",
   "metadata": {},
   "source": [
    "### 3.1.1 Join de localidades - PUEBLA"
   ]
  },
  {
   "cell_type": "code",
   "execution_count": 47,
   "metadata": {},
   "outputs": [],
   "source": [
    "Localidades_19_PUEBLA = listado_beneficiarios_parte_II[listado_beneficiarios_parte_II[\"ENTIDAD\"] == \"PUEBLA\"]\n",
    "\n",
    "dataset_inegi_uniqueloc_PUEBLA = INEGI_UNIQUELOC_2019[INEGI_UNIQUELOC_2019['Entidad_inegi'] == 'Puebla']"
   ]
  },
  {
   "cell_type": "code",
   "execution_count": 48,
   "metadata": {},
   "outputs": [
    {
     "ename": "KeyError",
     "evalue": "'KEY_benef_loc'",
     "output_type": "error",
     "traceback": [
      "\u001b[0;31m---------------------------------------------------------------------------\u001b[0m",
      "\u001b[0;31mKeyError\u001b[0m                                  Traceback (most recent call last)",
      "File \u001b[0;32m/Library/Frameworks/Python.framework/Versions/3.9/lib/python3.9/site-packages/pandas/core/indexes/base.py:3805\u001b[0m, in \u001b[0;36mIndex.get_loc\u001b[0;34m(self, key)\u001b[0m\n\u001b[1;32m   3804\u001b[0m \u001b[38;5;28;01mtry\u001b[39;00m:\n\u001b[0;32m-> 3805\u001b[0m     \u001b[38;5;28;01mreturn\u001b[39;00m \u001b[38;5;28;43mself\u001b[39;49m\u001b[38;5;241;43m.\u001b[39;49m\u001b[43m_engine\u001b[49m\u001b[38;5;241;43m.\u001b[39;49m\u001b[43mget_loc\u001b[49m\u001b[43m(\u001b[49m\u001b[43mcasted_key\u001b[49m\u001b[43m)\u001b[49m\n\u001b[1;32m   3806\u001b[0m \u001b[38;5;28;01mexcept\u001b[39;00m \u001b[38;5;167;01mKeyError\u001b[39;00m \u001b[38;5;28;01mas\u001b[39;00m err:\n",
      "File \u001b[0;32mindex.pyx:167\u001b[0m, in \u001b[0;36mpandas._libs.index.IndexEngine.get_loc\u001b[0;34m()\u001b[0m\n",
      "File \u001b[0;32mindex.pyx:196\u001b[0m, in \u001b[0;36mpandas._libs.index.IndexEngine.get_loc\u001b[0;34m()\u001b[0m\n",
      "File \u001b[0;32mpandas/_libs/hashtable_class_helper.pxi:7081\u001b[0m, in \u001b[0;36mpandas._libs.hashtable.PyObjectHashTable.get_item\u001b[0;34m()\u001b[0m\n",
      "File \u001b[0;32mpandas/_libs/hashtable_class_helper.pxi:7089\u001b[0m, in \u001b[0;36mpandas._libs.hashtable.PyObjectHashTable.get_item\u001b[0;34m()\u001b[0m\n",
      "\u001b[0;31mKeyError\u001b[0m: 'KEY_benef_loc'",
      "\nThe above exception was the direct cause of the following exception:\n",
      "\u001b[0;31mKeyError\u001b[0m                                  Traceback (most recent call last)",
      "Cell \u001b[0;32mIn[48], line 1\u001b[0m\n\u001b[0;32m----> 1\u001b[0m Localidades_19_PUEBLA \u001b[38;5;241m=\u001b[39m \u001b[43mfuzzy_merge_benef2019_2022\u001b[49m\u001b[43m(\u001b[49m\u001b[43mLocalidades_19_PUEBLA\u001b[49m\u001b[43m,\u001b[49m\u001b[43m \u001b[49m\u001b[43mdataset_inegi_uniqueloc_PUEBLA\u001b[49m\u001b[43m,\u001b[49m\u001b[43m \u001b[49m\u001b[38;5;124;43m'\u001b[39;49m\u001b[38;5;124;43mKEY_benef_loc\u001b[39;49m\u001b[38;5;124;43m'\u001b[39;49m\u001b[43m,\u001b[49m\u001b[43m \u001b[49m\u001b[38;5;124;43m'\u001b[39;49m\u001b[38;5;124;43mKEY_inegi_localidad\u001b[39;49m\u001b[38;5;124;43m'\u001b[39;49m\u001b[43m)\u001b[49m\n\u001b[1;32m      2\u001b[0m Localidades_19_PUEBLA\u001b[38;5;241m.\u001b[39mshape\n",
      "Cell \u001b[0;32mIn[26], line 14\u001b[0m, in \u001b[0;36mfuzzy_merge_benef2019_2022\u001b[0;34m(df_benef, df_inegi, key1, key2, threshold, limit)\u001b[0m\n\u001b[1;32m     11\u001b[0m s \u001b[38;5;241m=\u001b[39m df_inegi[key2]\u001b[38;5;241m.\u001b[39mtolist()\n\u001b[1;32m     13\u001b[0m \u001b[38;5;66;03m# Encontrar las mejores coincidencias para cada clave en df_inegi\u001b[39;00m\n\u001b[0;32m---> 14\u001b[0m matches \u001b[38;5;241m=\u001b[39m \u001b[43mdf_benef\u001b[49m\u001b[43m[\u001b[49m\u001b[43mkey1\u001b[49m\u001b[43m]\u001b[49m\u001b[38;5;241m.\u001b[39mapply(\u001b[38;5;28;01mlambda\u001b[39;00m x: process\u001b[38;5;241m.\u001b[39mextractOne(x, s, score_cutoff\u001b[38;5;241m=\u001b[39mthreshold))\n\u001b[1;32m     17\u001b[0m \u001b[38;5;66;03m# Crear una columna con las mejores coincidencias\u001b[39;00m\n\u001b[1;32m     18\u001b[0m df_benef[\u001b[38;5;124m'\u001b[39m\u001b[38;5;124mbest_match\u001b[39m\u001b[38;5;124m'\u001b[39m] \u001b[38;5;241m=\u001b[39m [match[\u001b[38;5;241m0\u001b[39m] \u001b[38;5;28;01mif\u001b[39;00m match \u001b[38;5;28;01melse\u001b[39;00m \u001b[38;5;28;01mNone\u001b[39;00m \u001b[38;5;28;01mfor\u001b[39;00m match \u001b[38;5;129;01min\u001b[39;00m matches]\n",
      "File \u001b[0;32m/Library/Frameworks/Python.framework/Versions/3.9/lib/python3.9/site-packages/pandas/core/frame.py:4102\u001b[0m, in \u001b[0;36mDataFrame.__getitem__\u001b[0;34m(self, key)\u001b[0m\n\u001b[1;32m   4100\u001b[0m \u001b[38;5;28;01mif\u001b[39;00m \u001b[38;5;28mself\u001b[39m\u001b[38;5;241m.\u001b[39mcolumns\u001b[38;5;241m.\u001b[39mnlevels \u001b[38;5;241m>\u001b[39m \u001b[38;5;241m1\u001b[39m:\n\u001b[1;32m   4101\u001b[0m     \u001b[38;5;28;01mreturn\u001b[39;00m \u001b[38;5;28mself\u001b[39m\u001b[38;5;241m.\u001b[39m_getitem_multilevel(key)\n\u001b[0;32m-> 4102\u001b[0m indexer \u001b[38;5;241m=\u001b[39m \u001b[38;5;28;43mself\u001b[39;49m\u001b[38;5;241;43m.\u001b[39;49m\u001b[43mcolumns\u001b[49m\u001b[38;5;241;43m.\u001b[39;49m\u001b[43mget_loc\u001b[49m\u001b[43m(\u001b[49m\u001b[43mkey\u001b[49m\u001b[43m)\u001b[49m\n\u001b[1;32m   4103\u001b[0m \u001b[38;5;28;01mif\u001b[39;00m is_integer(indexer):\n\u001b[1;32m   4104\u001b[0m     indexer \u001b[38;5;241m=\u001b[39m [indexer]\n",
      "File \u001b[0;32m/Library/Frameworks/Python.framework/Versions/3.9/lib/python3.9/site-packages/pandas/core/indexes/base.py:3812\u001b[0m, in \u001b[0;36mIndex.get_loc\u001b[0;34m(self, key)\u001b[0m\n\u001b[1;32m   3807\u001b[0m     \u001b[38;5;28;01mif\u001b[39;00m \u001b[38;5;28misinstance\u001b[39m(casted_key, \u001b[38;5;28mslice\u001b[39m) \u001b[38;5;129;01mor\u001b[39;00m (\n\u001b[1;32m   3808\u001b[0m         \u001b[38;5;28misinstance\u001b[39m(casted_key, abc\u001b[38;5;241m.\u001b[39mIterable)\n\u001b[1;32m   3809\u001b[0m         \u001b[38;5;129;01mand\u001b[39;00m \u001b[38;5;28many\u001b[39m(\u001b[38;5;28misinstance\u001b[39m(x, \u001b[38;5;28mslice\u001b[39m) \u001b[38;5;28;01mfor\u001b[39;00m x \u001b[38;5;129;01min\u001b[39;00m casted_key)\n\u001b[1;32m   3810\u001b[0m     ):\n\u001b[1;32m   3811\u001b[0m         \u001b[38;5;28;01mraise\u001b[39;00m InvalidIndexError(key)\n\u001b[0;32m-> 3812\u001b[0m     \u001b[38;5;28;01mraise\u001b[39;00m \u001b[38;5;167;01mKeyError\u001b[39;00m(key) \u001b[38;5;28;01mfrom\u001b[39;00m \u001b[38;5;21;01merr\u001b[39;00m\n\u001b[1;32m   3813\u001b[0m \u001b[38;5;28;01mexcept\u001b[39;00m \u001b[38;5;167;01mTypeError\u001b[39;00m:\n\u001b[1;32m   3814\u001b[0m     \u001b[38;5;66;03m# If we have a listlike key, _check_indexing_error will raise\u001b[39;00m\n\u001b[1;32m   3815\u001b[0m     \u001b[38;5;66;03m#  InvalidIndexError. Otherwise we fall through and re-raise\u001b[39;00m\n\u001b[1;32m   3816\u001b[0m     \u001b[38;5;66;03m#  the TypeError.\u001b[39;00m\n\u001b[1;32m   3817\u001b[0m     \u001b[38;5;28mself\u001b[39m\u001b[38;5;241m.\u001b[39m_check_indexing_error(key)\n",
      "\u001b[0;31mKeyError\u001b[0m: 'KEY_benef_loc'"
     ]
    }
   ],
   "source": [
    "Localidades_19_PUEBLA = fuzzy_merge_benef2019_2022(Localidades_19_PUEBLA, dataset_inegi_uniqueloc_PUEBLA, 'KEY_benef_loc', 'KEY_inegi_localidad')\n",
    "Localidades_19_PUEBLA.shape"
   ]
  },
  {
   "cell_type": "markdown",
   "metadata": {},
   "source": [
    "### 3.2.2 Join de localidades - CHIAPAS"
   ]
  },
  {
   "cell_type": "code",
   "execution_count": null,
   "metadata": {},
   "outputs": [],
   "source": [
    "Localidades_19_CHIAPAS = Localidades_19[Localidades_19[\"ENTIDAD\"] == \"CHIAPAS\"]\n",
    "\n",
    "dataset_inegi_uniqueloc_CHIAPAS = INEGI_UNIQUELOC_2019[INEGI_UNIQUELOC_2019['Entidad_inegi'] == 'Chiapas']"
   ]
  },
  {
   "cell_type": "code",
   "execution_count": null,
   "metadata": {},
   "outputs": [
    {
     "data": {
      "text/plain": [
       "(0, 21)"
      ]
     },
     "execution_count": 44,
     "metadata": {},
     "output_type": "execute_result"
    }
   ],
   "source": [
    "Localidades_19_CHIAPAS = fuzzy_merge_benef2019_2022(Localidades_19_CHIAPAS, dataset_inegi_uniqueloc_CHIAPAS, 'KEY_benef_loc', 'KEY_inegi_localidad')\n",
    "Localidades_19_CHIAPAS.shape"
   ]
  },
  {
   "cell_type": "markdown",
   "metadata": {},
   "source": [
    "### 3.2.3 Join de localidades - DURANGO"
   ]
  },
  {
   "cell_type": "code",
   "execution_count": null,
   "metadata": {},
   "outputs": [],
   "source": [
    "Localidades_19_DURANGO = Localidades_19[Localidades_19[\"ENTIDAD\"] == \"DURANGO\"]\n",
    "\n",
    "dataset_inegi_uniqueloc_DURANGO = INEGI_UNIQUELOC_2019[INEGI_UNIQUELOC_2019['Entidad_inegi'] == 'Durango']"
   ]
  },
  {
   "cell_type": "code",
   "execution_count": null,
   "metadata": {},
   "outputs": [
    {
     "data": {
      "text/plain": [
       "(0, 21)"
      ]
     },
     "execution_count": 46,
     "metadata": {},
     "output_type": "execute_result"
    }
   ],
   "source": [
    "Localidades_19_DURANGO = fuzzy_merge_benef2019_2022(Localidades_19_DURANGO, dataset_inegi_uniqueloc_DURANGO, 'KEY_benef_loc', 'KEY_inegi_localidad')\n",
    "Localidades_19_DURANGO.shape"
   ]
  },
  {
   "cell_type": "markdown",
   "metadata": {},
   "source": [
    "### 3.2.4 Join de localidades - MORELOS"
   ]
  },
  {
   "cell_type": "code",
   "execution_count": null,
   "metadata": {},
   "outputs": [],
   "source": [
    "Localidades_19_MORELOS = Localidades_19[Localidades_19[\"ENTIDAD\"] == \"MORELOS\"]\n",
    "\n",
    "dataset_inegi_uniqueloc_MORELOS = INEGI_UNIQUELOC_2019[INEGI_UNIQUELOC_2019['Entidad_inegi'] == 'Morelos']"
   ]
  },
  {
   "cell_type": "code",
   "execution_count": null,
   "metadata": {},
   "outputs": [
    {
     "data": {
      "text/plain": [
       "(0, 21)"
      ]
     },
     "execution_count": 48,
     "metadata": {},
     "output_type": "execute_result"
    }
   ],
   "source": [
    "Localidades_19_MORELOS = fuzzy_merge_benef2019_2022(Localidades_19_MORELOS, dataset_inegi_uniqueloc_MORELOS, 'KEY_benef_loc', 'KEY_inegi_localidad')\n",
    "Localidades_19_MORELOS.shape"
   ]
  },
  {
   "cell_type": "markdown",
   "metadata": {},
   "source": [
    "### 3.2.5 Join de localidades - GUERRERO"
   ]
  },
  {
   "cell_type": "code",
   "execution_count": null,
   "metadata": {},
   "outputs": [],
   "source": [
    "Localidades_19_GUERRERO = Localidades_19[Localidades_19[\"ENTIDAD\"] == \"GUERRERO\"]\n",
    "\n",
    "dataset_inegi_uniqueloc_GUERRERO = INEGI_UNIQUELOC_2019[INEGI_UNIQUELOC_2019['Entidad_inegi'] == 'Guerrero']"
   ]
  },
  {
   "cell_type": "code",
   "execution_count": null,
   "metadata": {},
   "outputs": [],
   "source": [
    "Localidades_19_GUERRERO = fuzzy_merge_benef2019_2022(Localidades_19_GUERRERO, dataset_inegi_uniqueloc_GUERRERO, 'KEY_benef_loc', 'KEY_inegi_localidad')\n",
    "Localidades_19_GUERRERO.shape"
   ]
  },
  {
   "cell_type": "markdown",
   "metadata": {},
   "source": [
    "### 3.2.6 Join de localidades - NAYARIT"
   ]
  },
  {
   "cell_type": "code",
   "execution_count": null,
   "metadata": {},
   "outputs": [],
   "source": [
    "Localidades_19_NAYARIT = Localidades_19[Localidades_19[\"ENTIDAD\"] == \"NAYARIT\"]\n",
    "\n",
    "dataset_inegi_uniqueloc_NAYARIT = INEGI_UNIQUELOC_2019[INEGI_UNIQUELOC_2019['Entidad_inegi'] == 'Nayarit']"
   ]
  },
  {
   "cell_type": "code",
   "execution_count": null,
   "metadata": {},
   "outputs": [
    {
     "data": {
      "text/plain": [
       "(0, 21)"
      ]
     },
     "execution_count": 40,
     "metadata": {},
     "output_type": "execute_result"
    }
   ],
   "source": [
    "Localidades_19_NAYARIT = fuzzy_merge_benef2019_2022(Localidades_19_NAYARIT, dataset_inegi_uniqueloc_NAYARIT, 'KEY_benef_loc', 'KEY_inegi_localidad')\n",
    "Localidades_19_NAYARIT.shape"
   ]
  },
  {
   "cell_type": "markdown",
   "metadata": {},
   "source": [
    "### 3.2.7 Join de localidades - OAXACA"
   ]
  },
  {
   "cell_type": "code",
   "execution_count": null,
   "metadata": {},
   "outputs": [],
   "source": [
    "Localidades_19_OAXACA = Localidades_19[Localidades_19[\"ENTIDAD\"] == \"OAXACA\"]\n",
    "\n",
    "dataset_inegi_uniqueloc_OAXACA = INEGI_UNIQUELOC_2019[INEGI_UNIQUELOC_2019['Entidad_inegi'] == 'Oaxaca']"
   ]
  },
  {
   "cell_type": "code",
   "execution_count": null,
   "metadata": {},
   "outputs": [
    {
     "data": {
      "text/plain": [
       "(0, 21)"
      ]
     },
     "execution_count": 42,
     "metadata": {},
     "output_type": "execute_result"
    }
   ],
   "source": [
    "Localidades_19_OAXACA = fuzzy_merge_benef2019_2022(Localidades_19_OAXACA, dataset_inegi_uniqueloc_OAXACA, 'KEY_benef_loc', 'KEY_inegi_localidad')\n",
    "Localidades_19_OAXACA.shape"
   ]
  },
  {
   "cell_type": "markdown",
   "metadata": {},
   "source": [
    "### 3.2.8 Join de localidades - TLAXCALA"
   ]
  },
  {
   "cell_type": "code",
   "execution_count": null,
   "metadata": {},
   "outputs": [],
   "source": [
    "Localidades_19_TLAXCALA = Localidades_19[Localidades_19[\"ENTIDAD\"] == \"TLAXCALA\"]\n",
    "\n",
    "dataset_inegi_uniqueloc_TLAXCALA = INEGI_UNIQUELOC_2019[INEGI_UNIQUELOC_2019['Entidad_inegi'] == 'Tlaxcala']"
   ]
  },
  {
   "cell_type": "code",
   "execution_count": null,
   "metadata": {},
   "outputs": [
    {
     "data": {
      "text/plain": [
       "(0, 21)"
      ]
     },
     "execution_count": 44,
     "metadata": {},
     "output_type": "execute_result"
    }
   ],
   "source": [
    "Localidades_19_TLAXCALA = fuzzy_merge_benef2019_2022(Localidades_19_TLAXCALA, dataset_inegi_uniqueloc_TLAXCALA, 'KEY_benef_loc', 'KEY_inegi_localidad')\n",
    "Localidades_19_TLAXCALA.shape"
   ]
  },
  {
   "cell_type": "markdown",
   "metadata": {},
   "source": [
    "### 3.2.9 Join de localidades - ZACATECAS"
   ]
  },
  {
   "cell_type": "code",
   "execution_count": null,
   "metadata": {},
   "outputs": [],
   "source": [
    "Localidades_19_ZACATECAS = Localidades_19[Localidades_19[\"ENTIDAD\"] == \"ZACATECAS\"]\n",
    "\n",
    "dataset_inegi_uniqueloc_ZACATECAS = INEGI_UNIQUELOC_2019[INEGI_UNIQUELOC_2019['Entidad_inegi'] == 'Zacatecas']"
   ]
  },
  {
   "cell_type": "code",
   "execution_count": null,
   "metadata": {},
   "outputs": [
    {
     "data": {
      "text/plain": [
       "(0, 21)"
      ]
     },
     "execution_count": 46,
     "metadata": {},
     "output_type": "execute_result"
    }
   ],
   "source": [
    "Localidades_19_ZACATECAS = fuzzy_merge_benef2019_2022(Localidades_19_ZACATECAS, dataset_inegi_uniqueloc_ZACATECAS, 'KEY_benef_loc', 'KEY_inegi_localidad')\n",
    "Localidades_19_ZACATECAS.shape"
   ]
  },
  {
   "cell_type": "code",
   "execution_count": null,
   "metadata": {},
   "outputs": [],
   "source": [
    "Localidades_19_GUERRERO.to_csv('../../data/productores_beneficiarios 2019-2022/diccionarios_E3/Localidades_19_GUERRERO.csv', index=False)"
   ]
  }
 ],
 "metadata": {
  "kernelspec": {
   "display_name": "Python 3 (ipykernel)",
   "language": "python",
   "name": "python3"
  },
  "language_info": {
   "codemirror_mode": {
    "name": "ipython",
    "version": 3
   },
   "file_extension": ".py",
   "mimetype": "text/x-python",
   "name": "python",
   "nbconvert_exporter": "python",
   "pygments_lexer": "ipython3",
   "version": "3.11.5"
  }
 },
 "nbformat": 4,
 "nbformat_minor": 2
}
