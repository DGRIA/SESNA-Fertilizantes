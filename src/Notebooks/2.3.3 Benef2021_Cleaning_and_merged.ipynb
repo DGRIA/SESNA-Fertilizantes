{
 "cells": [
  {
   "cell_type": "markdown",
   "metadata": {},
   "source": [
    "# Data Cleaning Listado de Listado de Beneficiarios 2021"
   ]
  },
  {
   "cell_type": "markdown",
   "metadata": {},
   "source": [
    "## Autores\n",
    "- José Luis Delgado Dávara\n",
    "- Arturo Ortiz Aguilar\n",
    "- Beltrán Valle Gutiérrez-Cortines"
   ]
  },
  {
   "cell_type": "markdown",
   "metadata": {},
   "source": [
    "## Importante leer para entender\n",
    "\n",
    "En este Notebook se trabaja con 3 listados importantes:\n",
    "\n",
    "1. beneficiarios_21 -> Dataset con el listado de TODOS los beneficiarios de 2021.\n",
    "2. Estados_Beneficiarios_2019_2022 -> Dataset sólo con los estados *únicos* encontrados en el dataset anterior.\n",
    "3. Diccionario -> Emparejamiento entre ambos listados de beneficiarios\n",
    "4. Dataset_Inegi -> Catálogo obtenido de Inegi"
   ]
  },
  {
   "cell_type": "code",
   "execution_count": 1,
   "metadata": {},
   "outputs": [],
   "source": [
    "import pandas as pd\n",
    "import seaborn as sns\n",
    "from thefuzz import fuzz\n",
    "from thefuzz import process\n",
    "import matplotlib.pyplot as plt\n",
    "import numpy as np\n",
    "import os\n",
    "import glob\n",
    "import re\n",
    "import unidecode"
   ]
  },
  {
   "cell_type": "code",
   "execution_count": 2,
   "metadata": {},
   "outputs": [],
   "source": [
    "def clean_text(text):\n",
    "    \"\"\"\n",
    "    De esta manera tenemos el texto sin espacios blancos extra y sobre todo con todas las palabras con capitalización correcta.\n",
    "    \"\"\"\n",
    "    if pd.isna(text):\n",
    "        return text\n",
    "    text = text.strip()  # Eliminate white spaces\n",
    "    text = text.lower()  # Convert to lowercase\n",
    "    text = unidecode.unidecode(text)  # Remove accents\n",
    "    text = re.sub('-.*-', '', text) #Remove what is in between - -\n",
    "    text = re.sub('\\s+', ' ', text)  # Eliminate extra white spaces\n",
    "    text = re.sub('^\\s+|\\s+?$', '', text)  # Eliminate spaces at the beginning and end\n",
    "    return text"
   ]
  },
  {
   "cell_type": "markdown",
   "metadata": {},
   "source": [
    "# 1. Lectura y limpieza de datos"
   ]
  },
  {
   "cell_type": "markdown",
   "metadata": {},
   "source": [
    "### 1.1 Beneficiarios 2021\n",
    "\n",
    "Obtenemos el listado único de localidades y listado único de municipios con sus claves."
   ]
  },
  {
   "cell_type": "code",
   "execution_count": 3,
   "metadata": {},
   "outputs": [],
   "source": [
    "beneficiarios_21 = pd.read_csv('../../data/productores_beneficiarios 2019-2022/listado_beneficiarios_fertilizantes_2021.csv', encoding='utf-8', skiprows=0)"
   ]
  },
  {
   "cell_type": "code",
   "execution_count": 4,
   "metadata": {},
   "outputs": [
    {
     "data": {
      "text/plain": [
       "(394986, 16)"
      ]
     },
     "execution_count": 4,
     "metadata": {},
     "output_type": "execute_result"
    }
   ],
   "source": [
    "beneficiarios_21.shape"
   ]
  },
  {
   "cell_type": "code",
   "execution_count": 5,
   "metadata": {},
   "outputs": [],
   "source": [
    "beneficiarios_21 = beneficiarios_21[~((beneficiarios_21['ENTIDAD'] == 'NACIONAL') & (beneficiarios_21['MUNICIPIO'] == 'NACIONAL') & (beneficiarios_21['LOCALIDAD'] == 'NACIONAL'))]"
   ]
  },
  {
   "cell_type": "code",
   "execution_count": 6,
   "metadata": {},
   "outputs": [
    {
     "data": {
      "text/plain": [
       "array(['GUERRERO', 'PUEBLA', 'MORELOS', 'TLAXCALA', nan], dtype=object)"
      ]
     },
     "execution_count": 6,
     "metadata": {},
     "output_type": "execute_result"
    }
   ],
   "source": [
    "beneficiarios_21['ENTIDAD'].unique()"
   ]
  },
  {
   "cell_type": "markdown",
   "metadata": {},
   "source": [
    "Dropeamos los tres valores nulos debido a que las rows enteras salen como nan"
   ]
  },
  {
   "cell_type": "code",
   "execution_count": 8,
   "metadata": {},
   "outputs": [],
   "source": [
    "beneficiarios_21.dropna(inplace=True)"
   ]
  },
  {
   "cell_type": "code",
   "execution_count": 10,
   "metadata": {},
   "outputs": [],
   "source": [
    "# Obtenemos las localidades únicas en el dataset.\n",
    "Localidades_21 = beneficiarios_21[['ENTIDAD', 'MUNICIPIO', 'LOCALIDAD']]\n",
    "Localidades_21 = Localidades_21.drop_duplicates()\n"
   ]
  },
  {
   "cell_type": "code",
   "execution_count": 11,
   "metadata": {},
   "outputs": [],
   "source": [
    "Localidades_21['ENTIDAD_c_benef'] = Localidades_21['ENTIDAD'].apply(clean_text)\n",
    "Localidades_21['MUNICIPIO_c_benef'] = Localidades_21['MUNICIPIO'].apply(clean_text)\n",
    "Localidades_21['LOCALIDAD_c_benef'] = Localidades_21['LOCALIDAD'].apply(clean_text)"
   ]
  },
  {
   "cell_type": "code",
   "execution_count": 12,
   "metadata": {},
   "outputs": [],
   "source": [
    "# Creamos las dos keys de beneficiarios 2019\n",
    "Localidades_21['KEY_benef_mun'] = Localidades_21['ENTIDAD_c_benef'].astype(str) + '-' + Localidades_21[\n",
    "    'MUNICIPIO_c_benef'].astype(str)\n",
    "Localidades_21['KEY_benef_loc'] = Localidades_21['ENTIDAD_c_benef'].astype(str) + '-' + Localidades_21[\n",
    "    'MUNICIPIO_c_benef'].astype(str) + '-' + Localidades_21['LOCALIDAD_c_benef'].astype(str)"
   ]
  },
  {
   "cell_type": "code",
   "execution_count": 13,
   "metadata": {},
   "outputs": [
    {
     "data": {
      "text/plain": [
       "(5914, 8)"
      ]
     },
     "execution_count": 13,
     "metadata": {},
     "output_type": "execute_result"
    }
   ],
   "source": [
    "Localidades_21.shape"
   ]
  },
  {
   "cell_type": "code",
   "execution_count": 14,
   "metadata": {},
   "outputs": [],
   "source": [
    "# Obtenemos las localidades únicas en el dataset.\n",
    "Municipios_21 = beneficiarios_21[['ENTIDAD', 'MUNICIPIO']]\n",
    "Municipios_21 = Municipios_21.drop_duplicates()"
   ]
  },
  {
   "cell_type": "code",
   "execution_count": 15,
   "metadata": {},
   "outputs": [],
   "source": [
    "# Estandarizamos la limpieza de los datos\n",
    "Municipios_21['ENTIDAD_c_benef'] = Municipios_21['ENTIDAD'].apply(clean_text)\n",
    "Municipios_21['MUNICIPIO_c_benef'] = Municipios_21['MUNICIPIO'].apply(clean_text)"
   ]
  },
  {
   "cell_type": "code",
   "execution_count": 16,
   "metadata": {},
   "outputs": [],
   "source": [
    "# Creamos las dos keys de beneficiarios \n",
    "Municipios_21['KEY_benef_mun'] = Municipios_21['ENTIDAD_c_benef'].astype(str) + '-' + Municipios_21[\n",
    "    'MUNICIPIO_c_benef'].astype(str)"
   ]
  },
  {
   "cell_type": "code",
   "execution_count": 17,
   "metadata": {},
   "outputs": [
    {
     "data": {
      "text/plain": [
       "(248, 5)"
      ]
     },
     "execution_count": 17,
     "metadata": {},
     "output_type": "execute_result"
    }
   ],
   "source": [
    "Municipios_21.shape"
   ]
  },
  {
   "cell_type": "code",
   "execution_count": 18,
   "metadata": {},
   "outputs": [
    {
     "data": {
      "text/plain": [
       "Index(['ENTIDAD', 'MUNICIPIO', 'ENTIDAD_c_benef', 'MUNICIPIO_c_benef',\n",
       "       'KEY_benef_mun'],\n",
       "      dtype='object')"
      ]
     },
     "execution_count": 18,
     "metadata": {},
     "output_type": "execute_result"
    }
   ],
   "source": [
    "Municipios_21.columns"
   ]
  },
  {
   "cell_type": "markdown",
   "metadata": {},
   "source": [
    "### 1.2 INEGI 2021\n",
    "\n",
    "Obtener listado único de municipios y listado único de localidades de inegi de 2021 con sus claves."
   ]
  },
  {
   "cell_type": "code",
   "execution_count": 19,
   "metadata": {},
   "outputs": [],
   "source": [
    "path_dataset_inegi_2021 = '../../data/inegi/dataset_inegi_clean_2021.csv'\n",
    "#dataset_inegi_clean = pd.read_csv(path_dataset_inegi_2022, encoding='utf-8', dtype={'CVE_ENT': str, 'CVE_MUN': str, 'CVE_LOC': str})\n",
    "dataset_inegi_2021 = pd.read_csv(path_dataset_inegi_2021)"
   ]
  },
  {
   "cell_type": "markdown",
   "metadata": {},
   "source": [
    "### 1.2.1 INEGI 2021 Municipios únicos para cada año."
   ]
  },
  {
   "cell_type": "code",
   "execution_count": 20,
   "metadata": {},
   "outputs": [],
   "source": [
    "dataset_inegi_2021['KEY_inegi_municipio'] = dataset_inegi_2021['Entidad_c_inegi'].astype(str) + '-' + dataset_inegi_2021[\n",
    "    'Municipio_c_inegi'].astype(str) \n",
    "dataset_inegi_2021['KEY_inegi_localidad'] = dataset_inegi_2021['Entidad_c_inegi'].astype(str) + '-' + dataset_inegi_2021[\n",
    "    'Municipio_c_inegi'].astype(str) + '-' + dataset_inegi_2021['Localidad_c_inegi'].astype(str)"
   ]
  },
  {
   "cell_type": "code",
   "execution_count": 21,
   "metadata": {},
   "outputs": [],
   "source": [
    "INEGI_UNIQUEMUN_2021 = dataset_inegi_2021.drop(columns=[\"CVE_LOC\", \"Localidad_inegi\", \"Localidad_c_inegi\", \"KEY_inegi_localidad\"])\n",
    "\n",
    "INEGI_UNIQUEMUN_2021 = INEGI_UNIQUEMUN_2021.drop_duplicates()"
   ]
  },
  {
   "cell_type": "code",
   "execution_count": 22,
   "metadata": {},
   "outputs": [
    {
     "data": {
      "text/plain": [
       "(2471, 7)"
      ]
     },
     "execution_count": 22,
     "metadata": {},
     "output_type": "execute_result"
    }
   ],
   "source": [
    "INEGI_UNIQUEMUN_2021.shape"
   ]
  },
  {
   "cell_type": "code",
   "execution_count": 23,
   "metadata": {},
   "outputs": [
    {
     "data": {
      "text/plain": [
       "Index(['CVE_ENT', 'Entidad_inegi', 'CVE_MUN', 'Municipio_inegi',\n",
       "       'Entidad_c_inegi', 'Municipio_c_inegi', 'KEY_inegi_municipio'],\n",
       "      dtype='object')"
      ]
     },
     "execution_count": 23,
     "metadata": {},
     "output_type": "execute_result"
    }
   ],
   "source": [
    "INEGI_UNIQUEMUN_2021.columns"
   ]
  },
  {
   "cell_type": "markdown",
   "metadata": {},
   "source": [
    "### 1.2.1 INEGI 2021 Localidades únicas para cada año."
   ]
  },
  {
   "cell_type": "code",
   "execution_count": 24,
   "metadata": {},
   "outputs": [],
   "source": [
    "INEGI_UNIQUELOC_2021 = dataset_inegi_2021\n",
    "\n",
    "INEGI_UNIQUELOC_2021 = INEGI_UNIQUELOC_2021.drop_duplicates()"
   ]
  },
  {
   "cell_type": "code",
   "execution_count": 25,
   "metadata": {},
   "outputs": [
    {
     "data": {
      "text/plain": [
       "(300350, 11)"
      ]
     },
     "execution_count": 25,
     "metadata": {},
     "output_type": "execute_result"
    }
   ],
   "source": [
    "INEGI_UNIQUELOC_2021.shape"
   ]
  },
  {
   "cell_type": "markdown",
   "metadata": {},
   "source": [
    "# 2. Diccionario de los datasets de INEGI Y LISTADO BENEFICIARIOS 2019\n",
    "\n",
    "El objetivo de esta sección es crear dos diccionarios de códigos según BENEFICIARIOS-MUNICIPIOS_INEGI y otro BENEFICIARIOS-LOCALIDADES_INEGI, para cada uno de los estados encontrados en inegi_2021, en este caso el número de keys es menor con lo cual no nos hará falta dividir por estado.\n",
    "\n",
    "Para ello haremos un Left join entre Localidades_21 y el dataset de INEGI correspondiente."
   ]
  },
  {
   "cell_type": "code",
   "execution_count": 26,
   "metadata": {},
   "outputs": [],
   "source": [
    "# Crear una función para encontrar la mejor coincidencia difusa con límites entre 85 y 100 de coincidencia\n",
    "def fuzzy_merge_benef2019_2022(df_benef, df_inegi, key1, key2, threshold=85, limit=1):\n",
    "    \"\"\"\n",
    "    df_inegi: DataFrame de la izquierda (el DataFrame principal)\n",
    "    df_prod: DataFrame de la derecha (el DataFrame con el que se quiere hacer el join)\n",
    "    key1: Columna de la clave en df_inegi\n",
    "    key2: Columna de la clave en df_prod\n",
    "    threshold: Umbral de coincidencia difusa\n",
    "    limit: Número de coincidencias a encontrar\n",
    "    \"\"\"\n",
    "    s = df_inegi[key2].tolist()\n",
    "    \n",
    "    # Encontrar las mejores coincidencias para cada clave en df_inegi\n",
    "    matches = df_benef[key1].apply(lambda x: process.extractOne(x, s, score_cutoff=threshold))\n",
    "\n",
    "\n",
    "    # Crear una columna con las mejores coincidencias\n",
    "    df_benef['best_match'] = [match[0] if match else None for match in matches]\n",
    "    \n",
    "    df_benef['match_score'] = [match[1] if match else None for match in matches]\n",
    "    \n",
    "\n",
    "    # Hacer el merge con las mejores coincidencias\n",
    "    df_merged = pd.merge(df_benef, df_inegi, left_on='best_match', right_on=key2, how='left',\n",
    "                         suffixes=('_benef', '_inegi'))\n",
    "    \n",
    "    return df_merged"
   ]
  },
  {
   "cell_type": "code",
   "execution_count": 27,
   "metadata": {},
   "outputs": [
    {
     "data": {
      "text/plain": [
       "(248, 14)"
      ]
     },
     "execution_count": 27,
     "metadata": {},
     "output_type": "execute_result"
    }
   ],
   "source": [
    "diccionario_MUN_21 = fuzzy_merge_benef2019_2022(Municipios_21, INEGI_UNIQUEMUN_2021, 'KEY_benef_mun', 'KEY_inegi_municipio')\n",
    "diccionario_MUN_21.shape"
   ]
  },
  {
   "cell_type": "code",
   "execution_count": 28,
   "metadata": {},
   "outputs": [],
   "source": [
    "diccionario_MUN_21.drop(columns=['ENTIDAD', 'MUNICIPIO', 'ENTIDAD_c_benef', 'MUNICIPIO_c_benef', 'Entidad_c_inegi',\n",
    "       'Municipio_c_inegi'], inplace=True)"
   ]
  },
  {
   "cell_type": "code",
   "execution_count": 29,
   "metadata": {},
   "outputs": [],
   "source": [
    "diccionario_MUN_21.to_csv('../../data/productores_beneficiarios 2019-2022/diccionarios_E3/diccionario_MUN_21.csv', index=False)"
   ]
  },
  {
   "cell_type": "code",
   "execution_count": 30,
   "metadata": {},
   "outputs": [],
   "source": [
    "diccionario_MUN_21_simple = pd.read_csv('../../data/productores_beneficiarios 2019-2022/diccionarios_E3/diccionario_MUN_21_simple.csv')"
   ]
  },
  {
   "cell_type": "code",
   "execution_count": 31,
   "metadata": {},
   "outputs": [],
   "source": [
    "nan_rows = beneficiarios_21[beneficiarios_21.isna().any(axis=1)]"
   ]
  },
  {
   "cell_type": "code",
   "execution_count": 32,
   "metadata": {},
   "outputs": [
    {
     "data": {
      "text/html": [
       "<div>\n",
       "<style scoped>\n",
       "    .dataframe tbody tr th:only-of-type {\n",
       "        vertical-align: middle;\n",
       "    }\n",
       "\n",
       "    .dataframe tbody tr th {\n",
       "        vertical-align: top;\n",
       "    }\n",
       "\n",
       "    .dataframe thead th {\n",
       "        text-align: right;\n",
       "    }\n",
       "</style>\n",
       "<table border=\"1\" class=\"dataframe\">\n",
       "  <thead>\n",
       "    <tr style=\"text-align: right;\">\n",
       "      <th></th>\n",
       "      <th>BENEFICIARIO</th>\n",
       "      <th>ZONA</th>\n",
       "      <th>ENTIDAD</th>\n",
       "      <th>MUNICIPIO</th>\n",
       "      <th>LOCALIDAD</th>\n",
       "      <th>ESTRATIFICACIÓN</th>\n",
       "      <th>PROGRAMA</th>\n",
       "      <th>COMPONENTE</th>\n",
       "      <th>SUBCOMPONENTE</th>\n",
       "      <th>PRODUCTO</th>\n",
       "      <th>FECHA</th>\n",
       "      <th>MONTO FEDERAL</th>\n",
       "      <th>APOYO</th>\n",
       "      <th>ACTIVIDAD</th>\n",
       "      <th>ESLABÓN</th>\n",
       "      <th>CICLO AGRÍCOLA</th>\n",
       "    </tr>\n",
       "  </thead>\n",
       "  <tbody>\n",
       "  </tbody>\n",
       "</table>\n",
       "</div>"
      ],
      "text/plain": [
       "Empty DataFrame\n",
       "Columns: [BENEFICIARIO, ZONA, ENTIDAD, MUNICIPIO, LOCALIDAD, ESTRATIFICACIÓN, PROGRAMA, COMPONENTE, SUBCOMPONENTE, PRODUCTO, FECHA, MONTO FEDERAL, APOYO, ACTIVIDAD, ESLABÓN, CICLO AGRÍCOLA]\n",
       "Index: []"
      ]
     },
     "execution_count": 32,
     "metadata": {},
     "output_type": "execute_result"
    }
   ],
   "source": [
    "nan_rows"
   ]
  },
  {
   "cell_type": "code",
   "execution_count": 33,
   "metadata": {},
   "outputs": [],
   "source": [
    "# Assuming your DataFrame is named df\n",
    "filtered_df = beneficiarios_21[beneficiarios_21['ENTIDAD'] == 'NACIONAL']"
   ]
  },
  {
   "cell_type": "code",
   "execution_count": 34,
   "metadata": {},
   "outputs": [
    {
     "data": {
      "text/html": [
       "<div>\n",
       "<style scoped>\n",
       "    .dataframe tbody tr th:only-of-type {\n",
       "        vertical-align: middle;\n",
       "    }\n",
       "\n",
       "    .dataframe tbody tr th {\n",
       "        vertical-align: top;\n",
       "    }\n",
       "\n",
       "    .dataframe thead th {\n",
       "        text-align: right;\n",
       "    }\n",
       "</style>\n",
       "<table border=\"1\" class=\"dataframe\">\n",
       "  <thead>\n",
       "    <tr style=\"text-align: right;\">\n",
       "      <th></th>\n",
       "      <th>BENEFICIARIO</th>\n",
       "      <th>ZONA</th>\n",
       "      <th>ENTIDAD</th>\n",
       "      <th>MUNICIPIO</th>\n",
       "      <th>LOCALIDAD</th>\n",
       "      <th>ESTRATIFICACIÓN</th>\n",
       "      <th>PROGRAMA</th>\n",
       "      <th>COMPONENTE</th>\n",
       "      <th>SUBCOMPONENTE</th>\n",
       "      <th>PRODUCTO</th>\n",
       "      <th>FECHA</th>\n",
       "      <th>MONTO FEDERAL</th>\n",
       "      <th>APOYO</th>\n",
       "      <th>ACTIVIDAD</th>\n",
       "      <th>ESLABÓN</th>\n",
       "      <th>CICLO AGRÍCOLA</th>\n",
       "    </tr>\n",
       "  </thead>\n",
       "  <tbody>\n",
       "  </tbody>\n",
       "</table>\n",
       "</div>"
      ],
      "text/plain": [
       "Empty DataFrame\n",
       "Columns: [BENEFICIARIO, ZONA, ENTIDAD, MUNICIPIO, LOCALIDAD, ESTRATIFICACIÓN, PROGRAMA, COMPONENTE, SUBCOMPONENTE, PRODUCTO, FECHA, MONTO FEDERAL, APOYO, ACTIVIDAD, ESLABÓN, CICLO AGRÍCOLA]\n",
       "Index: []"
      ]
     },
     "execution_count": 34,
     "metadata": {},
     "output_type": "execute_result"
    }
   ],
   "source": [
    "filtered_df"
   ]
  },
  {
   "cell_type": "markdown",
   "metadata": {},
   "source": [
    "### MERGE\n",
    "\n",
    "Armamos por partes el dataset definitivo:\n",
    "1. Juntamos beneficiarios_19 con el diccionario simple. (listado_beneficiario_parte_I)\n",
    "2. Al df anterior juntamos las claver provenientes del catálogo de Inegi. (listado_beneficiario_parte_II)"
   ]
  },
  {
   "cell_type": "code",
   "execution_count": 35,
   "metadata": {},
   "outputs": [
    {
     "data": {
      "text/plain": [
       "Index(['BENEFICIARIO', 'ZONA', 'ENTIDAD', 'MUNICIPIO', 'LOCALIDAD',\n",
       "       'ESTRATIFICACIÓN', 'PROGRAMA', 'COMPONENTE', 'SUBCOMPONENTE',\n",
       "       'PRODUCTO', 'FECHA', 'MONTO FEDERAL', 'APOYO', 'ACTIVIDAD', 'ESLABÓN',\n",
       "       'CICLO AGRÍCOLA'],\n",
       "      dtype='object')"
      ]
     },
     "execution_count": 35,
     "metadata": {},
     "output_type": "execute_result"
    }
   ],
   "source": [
    "beneficiarios_21.columns"
   ]
  },
  {
   "cell_type": "code",
   "execution_count": 36,
   "metadata": {},
   "outputs": [],
   "source": [
    "# Crear una variable KEY en listado de productores y el diccionario para hacer el join\n",
    "\n",
    "# Clean listado beneficiarios\n",
    "beneficiarios_21['ESTADO_Clean'] = beneficiarios_21['ENTIDAD'].apply(clean_text)\n",
    "beneficiarios_21['MUNICIPIO_Clean'] = beneficiarios_21['MUNICIPIO'].apply(clean_text)\n",
    "\n",
    "# Create KEY in listado beneficiarios\n",
    "beneficiarios_21['Estado-mun-KEY'] = beneficiarios_21['ESTADO_Clean'].astype(str) + '-' + beneficiarios_21[\n",
    "    'MUNICIPIO_Clean'].astype(str)"
   ]
  },
  {
   "cell_type": "code",
   "execution_count": 37,
   "metadata": {},
   "outputs": [],
   "source": [
    "# Hacer el join de la Parte I\n",
    "listado_beneficiarios_parte_I = pd.merge(beneficiarios_21, diccionario_MUN_21_simple, left_on=\"Estado-mun-KEY\",\n",
    "                                        right_on=\"KEY_benef_mun\", how='left', suffixes=('_benef', '_inegi'))"
   ]
  },
  {
   "cell_type": "code",
   "execution_count": 38,
   "metadata": {},
   "outputs": [
    {
     "data": {
      "text/plain": [
       "BENEFICIARIO           0\n",
       "ZONA                   0\n",
       "ENTIDAD                0\n",
       "MUNICIPIO              0\n",
       "LOCALIDAD              0\n",
       "ESTRATIFICACIÓN        0\n",
       "PROGRAMA               0\n",
       "COMPONENTE             0\n",
       "SUBCOMPONENTE          0\n",
       "PRODUCTO               0\n",
       "FECHA                  0\n",
       "MONTO FEDERAL          0\n",
       "APOYO                  0\n",
       "ACTIVIDAD              0\n",
       "ESLABÓN                0\n",
       "CICLO AGRÍCOLA         0\n",
       "ESTADO_Clean           0\n",
       "MUNICIPIO_Clean        0\n",
       "Estado-mun-KEY         0\n",
       "KEY_benef_mun          0\n",
       "KEY_inegi_municipio    0\n",
       "dtype: int64"
      ]
     },
     "execution_count": 38,
     "metadata": {},
     "output_type": "execute_result"
    }
   ],
   "source": [
    "listado_beneficiarios_parte_I.isna().sum()"
   ]
  },
  {
   "cell_type": "code",
   "execution_count": 39,
   "metadata": {},
   "outputs": [
    {
     "data": {
      "text/plain": [
       "Index(['BENEFICIARIO', 'ZONA', 'ENTIDAD', 'MUNICIPIO', 'LOCALIDAD',\n",
       "       'ESTRATIFICACIÓN', 'PROGRAMA', 'COMPONENTE', 'SUBCOMPONENTE',\n",
       "       'PRODUCTO', 'FECHA', 'MONTO FEDERAL', 'APOYO', 'ACTIVIDAD', 'ESLABÓN',\n",
       "       'CICLO AGRÍCOLA', 'ESTADO_Clean', 'MUNICIPIO_Clean', 'Estado-mun-KEY',\n",
       "       'KEY_benef_mun', 'KEY_inegi_municipio'],\n",
       "      dtype='object')"
      ]
     },
     "execution_count": 39,
     "metadata": {},
     "output_type": "execute_result"
    }
   ],
   "source": [
    "listado_beneficiarios_parte_I.columns"
   ]
  },
  {
   "cell_type": "code",
   "execution_count": 40,
   "metadata": {},
   "outputs": [],
   "source": [
    "# Hacer el join de la Parte II\n",
    "listado_beneficiarios_parte_II = pd.merge(listado_beneficiarios_parte_I, INEGI_UNIQUEMUN_2021, left_on=\"KEY_inegi_municipio\",\n",
    "                                        right_on=\"KEY_inegi_municipio\", how='left', suffixes=('_benef', '_inegi'))"
   ]
  },
  {
   "cell_type": "code",
   "execution_count": 41,
   "metadata": {},
   "outputs": [
    {
     "data": {
      "text/html": [
       "<div>\n",
       "<style scoped>\n",
       "    .dataframe tbody tr th:only-of-type {\n",
       "        vertical-align: middle;\n",
       "    }\n",
       "\n",
       "    .dataframe tbody tr th {\n",
       "        vertical-align: top;\n",
       "    }\n",
       "\n",
       "    .dataframe thead th {\n",
       "        text-align: right;\n",
       "    }\n",
       "</style>\n",
       "<table border=\"1\" class=\"dataframe\">\n",
       "  <thead>\n",
       "    <tr style=\"text-align: right;\">\n",
       "      <th></th>\n",
       "      <th>BENEFICIARIO</th>\n",
       "      <th>ZONA</th>\n",
       "      <th>ENTIDAD</th>\n",
       "      <th>MUNICIPIO</th>\n",
       "      <th>LOCALIDAD</th>\n",
       "      <th>ESTRATIFICACIÓN</th>\n",
       "      <th>PROGRAMA</th>\n",
       "      <th>COMPONENTE</th>\n",
       "      <th>SUBCOMPONENTE</th>\n",
       "      <th>PRODUCTO</th>\n",
       "      <th>...</th>\n",
       "      <th>MUNICIPIO_Clean</th>\n",
       "      <th>Estado-mun-KEY</th>\n",
       "      <th>KEY_benef_mun</th>\n",
       "      <th>KEY_inegi_municipio</th>\n",
       "      <th>CVE_ENT</th>\n",
       "      <th>Entidad_inegi</th>\n",
       "      <th>CVE_MUN</th>\n",
       "      <th>Municipio_inegi</th>\n",
       "      <th>Entidad_c_inegi</th>\n",
       "      <th>Municipio_c_inegi</th>\n",
       "    </tr>\n",
       "  </thead>\n",
       "  <tbody>\n",
       "    <tr>\n",
       "      <th>0</th>\n",
       "      <td>ABAC NERI JESUS CARLOS</td>\n",
       "      <td>CENTRO PAÍS</td>\n",
       "      <td>GUERRERO</td>\n",
       "      <td>COYUCA DE BENÍTEZ</td>\n",
       "      <td>PUEBLO VIEJO</td>\n",
       "      <td>Alto</td>\n",
       "      <td>FERTILIZANTES</td>\n",
       "      <td>FERTILIZANTES</td>\n",
       "      <td>FERTILIZANTES</td>\n",
       "      <td>Cultivo de maíz grano blanco</td>\n",
       "      <td>...</td>\n",
       "      <td>coyuca de benitez</td>\n",
       "      <td>guerrero-coyuca de benitez</td>\n",
       "      <td>guerrero-coyuca de benitez</td>\n",
       "      <td>guerrero-coyuca de benitez</td>\n",
       "      <td>12</td>\n",
       "      <td>Guerrero</td>\n",
       "      <td>21</td>\n",
       "      <td>Coyuca de Benítez</td>\n",
       "      <td>guerrero</td>\n",
       "      <td>coyuca de benitez</td>\n",
       "    </tr>\n",
       "    <tr>\n",
       "      <th>1</th>\n",
       "      <td>ABAD ALARCON ELIAZAR</td>\n",
       "      <td>CENTRO PAÍS</td>\n",
       "      <td>GUERRERO</td>\n",
       "      <td>COYUCA DE BENÍTEZ</td>\n",
       "      <td>PUEBLO VIEJO</td>\n",
       "      <td>Alto</td>\n",
       "      <td>FERTILIZANTES</td>\n",
       "      <td>FERTILIZANTES</td>\n",
       "      <td>FERTILIZANTES</td>\n",
       "      <td>Cultivo de maíz grano blanco</td>\n",
       "      <td>...</td>\n",
       "      <td>coyuca de benitez</td>\n",
       "      <td>guerrero-coyuca de benitez</td>\n",
       "      <td>guerrero-coyuca de benitez</td>\n",
       "      <td>guerrero-coyuca de benitez</td>\n",
       "      <td>12</td>\n",
       "      <td>Guerrero</td>\n",
       "      <td>21</td>\n",
       "      <td>Coyuca de Benítez</td>\n",
       "      <td>guerrero</td>\n",
       "      <td>coyuca de benitez</td>\n",
       "    </tr>\n",
       "    <tr>\n",
       "      <th>2</th>\n",
       "      <td>ABAD ALARCON EZEQUIEL</td>\n",
       "      <td>CENTRO PAÍS</td>\n",
       "      <td>GUERRERO</td>\n",
       "      <td>COYUCA DE BENÍTEZ</td>\n",
       "      <td>AGUA ZARCA</td>\n",
       "      <td>Alto</td>\n",
       "      <td>FERTILIZANTES</td>\n",
       "      <td>FERTILIZANTES</td>\n",
       "      <td>FERTILIZANTES</td>\n",
       "      <td>Cultivo de maíz grano blanco</td>\n",
       "      <td>...</td>\n",
       "      <td>coyuca de benitez</td>\n",
       "      <td>guerrero-coyuca de benitez</td>\n",
       "      <td>guerrero-coyuca de benitez</td>\n",
       "      <td>guerrero-coyuca de benitez</td>\n",
       "      <td>12</td>\n",
       "      <td>Guerrero</td>\n",
       "      <td>21</td>\n",
       "      <td>Coyuca de Benítez</td>\n",
       "      <td>guerrero</td>\n",
       "      <td>coyuca de benitez</td>\n",
       "    </tr>\n",
       "    <tr>\n",
       "      <th>3</th>\n",
       "      <td>ABAD ALARCON FULGENCIO</td>\n",
       "      <td>CENTRO PAÍS</td>\n",
       "      <td>GUERRERO</td>\n",
       "      <td>COYUCA DE BENÍTEZ</td>\n",
       "      <td>AGUA ZARCA</td>\n",
       "      <td>Alto</td>\n",
       "      <td>FERTILIZANTES</td>\n",
       "      <td>FERTILIZANTES</td>\n",
       "      <td>FERTILIZANTES</td>\n",
       "      <td>Cultivo de maíz grano blanco</td>\n",
       "      <td>...</td>\n",
       "      <td>coyuca de benitez</td>\n",
       "      <td>guerrero-coyuca de benitez</td>\n",
       "      <td>guerrero-coyuca de benitez</td>\n",
       "      <td>guerrero-coyuca de benitez</td>\n",
       "      <td>12</td>\n",
       "      <td>Guerrero</td>\n",
       "      <td>21</td>\n",
       "      <td>Coyuca de Benítez</td>\n",
       "      <td>guerrero</td>\n",
       "      <td>coyuca de benitez</td>\n",
       "    </tr>\n",
       "    <tr>\n",
       "      <th>4</th>\n",
       "      <td>ABAD ALARCON ROMALDA</td>\n",
       "      <td>CENTRO PAÍS</td>\n",
       "      <td>GUERRERO</td>\n",
       "      <td>COYUCA DE BENÍTEZ</td>\n",
       "      <td>YERBASANTITA</td>\n",
       "      <td>Alto</td>\n",
       "      <td>FERTILIZANTES</td>\n",
       "      <td>FERTILIZANTES</td>\n",
       "      <td>FERTILIZANTES</td>\n",
       "      <td>Cultivo de maíz grano blanco</td>\n",
       "      <td>...</td>\n",
       "      <td>coyuca de benitez</td>\n",
       "      <td>guerrero-coyuca de benitez</td>\n",
       "      <td>guerrero-coyuca de benitez</td>\n",
       "      <td>guerrero-coyuca de benitez</td>\n",
       "      <td>12</td>\n",
       "      <td>Guerrero</td>\n",
       "      <td>21</td>\n",
       "      <td>Coyuca de Benítez</td>\n",
       "      <td>guerrero</td>\n",
       "      <td>coyuca de benitez</td>\n",
       "    </tr>\n",
       "    <tr>\n",
       "      <th>...</th>\n",
       "      <td>...</td>\n",
       "      <td>...</td>\n",
       "      <td>...</td>\n",
       "      <td>...</td>\n",
       "      <td>...</td>\n",
       "      <td>...</td>\n",
       "      <td>...</td>\n",
       "      <td>...</td>\n",
       "      <td>...</td>\n",
       "      <td>...</td>\n",
       "      <td>...</td>\n",
       "      <td>...</td>\n",
       "      <td>...</td>\n",
       "      <td>...</td>\n",
       "      <td>...</td>\n",
       "      <td>...</td>\n",
       "      <td>...</td>\n",
       "      <td>...</td>\n",
       "      <td>...</td>\n",
       "      <td>...</td>\n",
       "      <td>...</td>\n",
       "    </tr>\n",
       "    <tr>\n",
       "      <th>394978</th>\n",
       "      <td>ZURITA VILLEGAS CRESCENCIANA</td>\n",
       "      <td>CENTRO PAÍS</td>\n",
       "      <td>GUERRERO</td>\n",
       "      <td>XALPATLÁHUAC</td>\n",
       "      <td>XALPATLÁHUAC</td>\n",
       "      <td>Alto</td>\n",
       "      <td>FERTILIZANTES</td>\n",
       "      <td>FERTILIZANTES</td>\n",
       "      <td>FERTILIZANTES</td>\n",
       "      <td>Cultivo de maíz grano blanco</td>\n",
       "      <td>...</td>\n",
       "      <td>xalpatlahuac</td>\n",
       "      <td>guerrero-xalpatlahuac</td>\n",
       "      <td>guerrero-xalpatlahuac</td>\n",
       "      <td>guerrero-xalpatlahuac</td>\n",
       "      <td>12</td>\n",
       "      <td>Guerrero</td>\n",
       "      <td>69</td>\n",
       "      <td>Xalpatláhuac</td>\n",
       "      <td>guerrero</td>\n",
       "      <td>xalpatlahuac</td>\n",
       "    </tr>\n",
       "    <tr>\n",
       "      <th>394979</th>\n",
       "      <td>ZURITA VILLEGAS MARIA INES</td>\n",
       "      <td>CENTRO PAÍS</td>\n",
       "      <td>GUERRERO</td>\n",
       "      <td>XALPATLÁHUAC</td>\n",
       "      <td>XALPATLÁHUAC</td>\n",
       "      <td>Alto</td>\n",
       "      <td>FERTILIZANTES</td>\n",
       "      <td>FERTILIZANTES</td>\n",
       "      <td>FERTILIZANTES</td>\n",
       "      <td>Cultivo de maíz grano blanco</td>\n",
       "      <td>...</td>\n",
       "      <td>xalpatlahuac</td>\n",
       "      <td>guerrero-xalpatlahuac</td>\n",
       "      <td>guerrero-xalpatlahuac</td>\n",
       "      <td>guerrero-xalpatlahuac</td>\n",
       "      <td>12</td>\n",
       "      <td>Guerrero</td>\n",
       "      <td>69</td>\n",
       "      <td>Xalpatláhuac</td>\n",
       "      <td>guerrero</td>\n",
       "      <td>xalpatlahuac</td>\n",
       "    </tr>\n",
       "    <tr>\n",
       "      <th>394980</th>\n",
       "      <td>ZURITA VILLEGAS NICOLASA</td>\n",
       "      <td>CENTRO PAÍS</td>\n",
       "      <td>GUERRERO</td>\n",
       "      <td>XALPATLÁHUAC</td>\n",
       "      <td>XALPATLÁHUAC</td>\n",
       "      <td>Alto</td>\n",
       "      <td>FERTILIZANTES</td>\n",
       "      <td>FERTILIZANTES</td>\n",
       "      <td>FERTILIZANTES</td>\n",
       "      <td>Cultivo de maíz grano blanco</td>\n",
       "      <td>...</td>\n",
       "      <td>xalpatlahuac</td>\n",
       "      <td>guerrero-xalpatlahuac</td>\n",
       "      <td>guerrero-xalpatlahuac</td>\n",
       "      <td>guerrero-xalpatlahuac</td>\n",
       "      <td>12</td>\n",
       "      <td>Guerrero</td>\n",
       "      <td>69</td>\n",
       "      <td>Xalpatláhuac</td>\n",
       "      <td>guerrero</td>\n",
       "      <td>xalpatlahuac</td>\n",
       "    </tr>\n",
       "    <tr>\n",
       "      <th>394981</th>\n",
       "      <td>ZURITA VITINIO GREGORIA</td>\n",
       "      <td>CENTRO PAÍS</td>\n",
       "      <td>GUERRERO</td>\n",
       "      <td>XALPATLÁHUAC</td>\n",
       "      <td>XALPATLÁHUAC</td>\n",
       "      <td>Alto</td>\n",
       "      <td>FERTILIZANTES</td>\n",
       "      <td>FERTILIZANTES</td>\n",
       "      <td>FERTILIZANTES</td>\n",
       "      <td>Cultivo de maíz grano blanco</td>\n",
       "      <td>...</td>\n",
       "      <td>xalpatlahuac</td>\n",
       "      <td>guerrero-xalpatlahuac</td>\n",
       "      <td>guerrero-xalpatlahuac</td>\n",
       "      <td>guerrero-xalpatlahuac</td>\n",
       "      <td>12</td>\n",
       "      <td>Guerrero</td>\n",
       "      <td>69</td>\n",
       "      <td>Xalpatláhuac</td>\n",
       "      <td>guerrero</td>\n",
       "      <td>xalpatlahuac</td>\n",
       "    </tr>\n",
       "    <tr>\n",
       "      <th>394982</th>\n",
       "      <td>ZURITA VITINIO JOSE</td>\n",
       "      <td>CENTRO PAÍS</td>\n",
       "      <td>GUERRERO</td>\n",
       "      <td>XALPATLÁHUAC</td>\n",
       "      <td>XALPATLÁHUAC</td>\n",
       "      <td>Alto</td>\n",
       "      <td>FERTILIZANTES</td>\n",
       "      <td>FERTILIZANTES</td>\n",
       "      <td>FERTILIZANTES</td>\n",
       "      <td>Cultivo de maíz grano blanco</td>\n",
       "      <td>...</td>\n",
       "      <td>xalpatlahuac</td>\n",
       "      <td>guerrero-xalpatlahuac</td>\n",
       "      <td>guerrero-xalpatlahuac</td>\n",
       "      <td>guerrero-xalpatlahuac</td>\n",
       "      <td>12</td>\n",
       "      <td>Guerrero</td>\n",
       "      <td>69</td>\n",
       "      <td>Xalpatláhuac</td>\n",
       "      <td>guerrero</td>\n",
       "      <td>xalpatlahuac</td>\n",
       "    </tr>\n",
       "  </tbody>\n",
       "</table>\n",
       "<p>394983 rows × 27 columns</p>\n",
       "</div>"
      ],
      "text/plain": [
       "                         BENEFICIARIO         ZONA   ENTIDAD  \\\n",
       "0             ABAC NERI JESUS CARLOS   CENTRO PAÍS  GUERRERO   \n",
       "1               ABAD ALARCON ELIAZAR   CENTRO PAÍS  GUERRERO   \n",
       "2              ABAD ALARCON EZEQUIEL   CENTRO PAÍS  GUERRERO   \n",
       "3             ABAD ALARCON FULGENCIO   CENTRO PAÍS  GUERRERO   \n",
       "4               ABAD ALARCON ROMALDA   CENTRO PAÍS  GUERRERO   \n",
       "...                               ...          ...       ...   \n",
       "394978  ZURITA VILLEGAS CRESCENCIANA   CENTRO PAÍS  GUERRERO   \n",
       "394979    ZURITA VILLEGAS MARIA INES   CENTRO PAÍS  GUERRERO   \n",
       "394980      ZURITA VILLEGAS NICOLASA   CENTRO PAÍS  GUERRERO   \n",
       "394981       ZURITA VITINIO GREGORIA   CENTRO PAÍS  GUERRERO   \n",
       "394982           ZURITA VITINIO JOSE   CENTRO PAÍS  GUERRERO   \n",
       "\n",
       "                MUNICIPIO     LOCALIDAD ESTRATIFICACIÓN       PROGRAMA  \\\n",
       "0       COYUCA DE BENÍTEZ  PUEBLO VIEJO            Alto  FERTILIZANTES   \n",
       "1       COYUCA DE BENÍTEZ  PUEBLO VIEJO            Alto  FERTILIZANTES   \n",
       "2       COYUCA DE BENÍTEZ    AGUA ZARCA            Alto  FERTILIZANTES   \n",
       "3       COYUCA DE BENÍTEZ    AGUA ZARCA            Alto  FERTILIZANTES   \n",
       "4       COYUCA DE BENÍTEZ  YERBASANTITA            Alto  FERTILIZANTES   \n",
       "...                   ...           ...             ...            ...   \n",
       "394978       XALPATLÁHUAC  XALPATLÁHUAC            Alto  FERTILIZANTES   \n",
       "394979       XALPATLÁHUAC  XALPATLÁHUAC            Alto  FERTILIZANTES   \n",
       "394980       XALPATLÁHUAC  XALPATLÁHUAC            Alto  FERTILIZANTES   \n",
       "394981       XALPATLÁHUAC  XALPATLÁHUAC            Alto  FERTILIZANTES   \n",
       "394982       XALPATLÁHUAC  XALPATLÁHUAC            Alto  FERTILIZANTES   \n",
       "\n",
       "           COMPONENTE  SUBCOMPONENTE                      PRODUCTO  ...  \\\n",
       "0       FERTILIZANTES  FERTILIZANTES  Cultivo de maíz grano blanco  ...   \n",
       "1       FERTILIZANTES  FERTILIZANTES  Cultivo de maíz grano blanco  ...   \n",
       "2       FERTILIZANTES  FERTILIZANTES  Cultivo de maíz grano blanco  ...   \n",
       "3       FERTILIZANTES  FERTILIZANTES  Cultivo de maíz grano blanco  ...   \n",
       "4       FERTILIZANTES  FERTILIZANTES  Cultivo de maíz grano blanco  ...   \n",
       "...               ...            ...                           ...  ...   \n",
       "394978  FERTILIZANTES  FERTILIZANTES  Cultivo de maíz grano blanco  ...   \n",
       "394979  FERTILIZANTES  FERTILIZANTES  Cultivo de maíz grano blanco  ...   \n",
       "394980  FERTILIZANTES  FERTILIZANTES  Cultivo de maíz grano blanco  ...   \n",
       "394981  FERTILIZANTES  FERTILIZANTES  Cultivo de maíz grano blanco  ...   \n",
       "394982  FERTILIZANTES  FERTILIZANTES  Cultivo de maíz grano blanco  ...   \n",
       "\n",
       "          MUNICIPIO_Clean              Estado-mun-KEY  \\\n",
       "0       coyuca de benitez  guerrero-coyuca de benitez   \n",
       "1       coyuca de benitez  guerrero-coyuca de benitez   \n",
       "2       coyuca de benitez  guerrero-coyuca de benitez   \n",
       "3       coyuca de benitez  guerrero-coyuca de benitez   \n",
       "4       coyuca de benitez  guerrero-coyuca de benitez   \n",
       "...                   ...                         ...   \n",
       "394978       xalpatlahuac       guerrero-xalpatlahuac   \n",
       "394979       xalpatlahuac       guerrero-xalpatlahuac   \n",
       "394980       xalpatlahuac       guerrero-xalpatlahuac   \n",
       "394981       xalpatlahuac       guerrero-xalpatlahuac   \n",
       "394982       xalpatlahuac       guerrero-xalpatlahuac   \n",
       "\n",
       "                     KEY_benef_mun         KEY_inegi_municipio CVE_ENT  \\\n",
       "0       guerrero-coyuca de benitez  guerrero-coyuca de benitez      12   \n",
       "1       guerrero-coyuca de benitez  guerrero-coyuca de benitez      12   \n",
       "2       guerrero-coyuca de benitez  guerrero-coyuca de benitez      12   \n",
       "3       guerrero-coyuca de benitez  guerrero-coyuca de benitez      12   \n",
       "4       guerrero-coyuca de benitez  guerrero-coyuca de benitez      12   \n",
       "...                            ...                         ...     ...   \n",
       "394978       guerrero-xalpatlahuac       guerrero-xalpatlahuac      12   \n",
       "394979       guerrero-xalpatlahuac       guerrero-xalpatlahuac      12   \n",
       "394980       guerrero-xalpatlahuac       guerrero-xalpatlahuac      12   \n",
       "394981       guerrero-xalpatlahuac       guerrero-xalpatlahuac      12   \n",
       "394982       guerrero-xalpatlahuac       guerrero-xalpatlahuac      12   \n",
       "\n",
       "       Entidad_inegi CVE_MUN    Municipio_inegi Entidad_c_inegi  \\\n",
       "0           Guerrero      21  Coyuca de Benítez        guerrero   \n",
       "1           Guerrero      21  Coyuca de Benítez        guerrero   \n",
       "2           Guerrero      21  Coyuca de Benítez        guerrero   \n",
       "3           Guerrero      21  Coyuca de Benítez        guerrero   \n",
       "4           Guerrero      21  Coyuca de Benítez        guerrero   \n",
       "...              ...     ...                ...             ...   \n",
       "394978      Guerrero      69       Xalpatláhuac        guerrero   \n",
       "394979      Guerrero      69       Xalpatláhuac        guerrero   \n",
       "394980      Guerrero      69       Xalpatláhuac        guerrero   \n",
       "394981      Guerrero      69       Xalpatláhuac        guerrero   \n",
       "394982      Guerrero      69       Xalpatláhuac        guerrero   \n",
       "\n",
       "        Municipio_c_inegi  \n",
       "0       coyuca de benitez  \n",
       "1       coyuca de benitez  \n",
       "2       coyuca de benitez  \n",
       "3       coyuca de benitez  \n",
       "4       coyuca de benitez  \n",
       "...                   ...  \n",
       "394978       xalpatlahuac  \n",
       "394979       xalpatlahuac  \n",
       "394980       xalpatlahuac  \n",
       "394981       xalpatlahuac  \n",
       "394982       xalpatlahuac  \n",
       "\n",
       "[394983 rows x 27 columns]"
      ]
     },
     "execution_count": 41,
     "metadata": {},
     "output_type": "execute_result"
    }
   ],
   "source": [
    "listado_beneficiarios_parte_II"
   ]
  },
  {
   "cell_type": "code",
   "execution_count": 42,
   "metadata": {},
   "outputs": [
    {
     "data": {
      "text/plain": [
       "Index(['BENEFICIARIO', 'ZONA', 'ENTIDAD', 'MUNICIPIO', 'LOCALIDAD',\n",
       "       'ESTRATIFICACIÓN', 'PROGRAMA', 'COMPONENTE', 'SUBCOMPONENTE',\n",
       "       'PRODUCTO', 'FECHA', 'MONTO FEDERAL', 'APOYO', 'ACTIVIDAD', 'ESLABÓN',\n",
       "       'CICLO AGRÍCOLA', 'ESTADO_Clean', 'MUNICIPIO_Clean', 'Estado-mun-KEY',\n",
       "       'KEY_benef_mun', 'KEY_inegi_municipio', 'CVE_ENT', 'Entidad_inegi',\n",
       "       'CVE_MUN', 'Municipio_inegi', 'Entidad_c_inegi', 'Municipio_c_inegi'],\n",
       "      dtype='object')"
      ]
     },
     "execution_count": 42,
     "metadata": {},
     "output_type": "execute_result"
    }
   ],
   "source": [
    "listado_beneficiarios_parte_II.columns"
   ]
  },
  {
   "cell_type": "code",
   "execution_count": 43,
   "metadata": {},
   "outputs": [],
   "source": [
    "listado_beneficiarios_parte_II = listado_beneficiarios_parte_II.drop(columns=['ESTADO_Clean', 'MUNICIPIO_Clean', 'Estado-mun-KEY', 'Entidad_c_inegi','Municipio_c_inegi', 'KEY_inegi_municipio', 'ESTRATIFICACIÓN', 'PROGRAMA', 'COMPONENTE', 'SUBCOMPONENTE', 'APOYO', 'ACTIVIDAD', 'ESLABÓN'])"
   ]
  },
  {
   "cell_type": "code",
   "execution_count": 44,
   "metadata": {},
   "outputs": [
    {
     "data": {
      "text/html": [
       "<div>\n",
       "<style scoped>\n",
       "    .dataframe tbody tr th:only-of-type {\n",
       "        vertical-align: middle;\n",
       "    }\n",
       "\n",
       "    .dataframe tbody tr th {\n",
       "        vertical-align: top;\n",
       "    }\n",
       "\n",
       "    .dataframe thead th {\n",
       "        text-align: right;\n",
       "    }\n",
       "</style>\n",
       "<table border=\"1\" class=\"dataframe\">\n",
       "  <thead>\n",
       "    <tr style=\"text-align: right;\">\n",
       "      <th></th>\n",
       "      <th>BENEFICIARIO</th>\n",
       "      <th>ZONA</th>\n",
       "      <th>ENTIDAD</th>\n",
       "      <th>MUNICIPIO</th>\n",
       "      <th>LOCALIDAD</th>\n",
       "      <th>PRODUCTO</th>\n",
       "      <th>FECHA</th>\n",
       "      <th>MONTO FEDERAL</th>\n",
       "      <th>CICLO AGRÍCOLA</th>\n",
       "      <th>KEY_benef_mun</th>\n",
       "      <th>CVE_ENT</th>\n",
       "      <th>Entidad_inegi</th>\n",
       "      <th>CVE_MUN</th>\n",
       "      <th>Municipio_inegi</th>\n",
       "    </tr>\n",
       "  </thead>\n",
       "  <tbody>\n",
       "    <tr>\n",
       "      <th>0</th>\n",
       "      <td>ABAC NERI JESUS CARLOS</td>\n",
       "      <td>CENTRO PAÍS</td>\n",
       "      <td>GUERRERO</td>\n",
       "      <td>COYUCA DE BENÍTEZ</td>\n",
       "      <td>PUEBLO VIEJO</td>\n",
       "      <td>Cultivo de maíz grano blanco</td>\n",
       "      <td>2021-04-10</td>\n",
       "      <td>7196.13</td>\n",
       "      <td>PV2021</td>\n",
       "      <td>guerrero-coyuca de benitez</td>\n",
       "      <td>12</td>\n",
       "      <td>Guerrero</td>\n",
       "      <td>21</td>\n",
       "      <td>Coyuca de Benítez</td>\n",
       "    </tr>\n",
       "    <tr>\n",
       "      <th>1</th>\n",
       "      <td>ABAD ALARCON ELIAZAR</td>\n",
       "      <td>CENTRO PAÍS</td>\n",
       "      <td>GUERRERO</td>\n",
       "      <td>COYUCA DE BENÍTEZ</td>\n",
       "      <td>PUEBLO VIEJO</td>\n",
       "      <td>Cultivo de maíz grano blanco</td>\n",
       "      <td>2021-04-10</td>\n",
       "      <td>3598.07</td>\n",
       "      <td>PV2021</td>\n",
       "      <td>guerrero-coyuca de benitez</td>\n",
       "      <td>12</td>\n",
       "      <td>Guerrero</td>\n",
       "      <td>21</td>\n",
       "      <td>Coyuca de Benítez</td>\n",
       "    </tr>\n",
       "    <tr>\n",
       "      <th>2</th>\n",
       "      <td>ABAD ALARCON EZEQUIEL</td>\n",
       "      <td>CENTRO PAÍS</td>\n",
       "      <td>GUERRERO</td>\n",
       "      <td>COYUCA DE BENÍTEZ</td>\n",
       "      <td>AGUA ZARCA</td>\n",
       "      <td>Cultivo de maíz grano blanco</td>\n",
       "      <td>2021-04-06</td>\n",
       "      <td>7196.13</td>\n",
       "      <td>PV2021</td>\n",
       "      <td>guerrero-coyuca de benitez</td>\n",
       "      <td>12</td>\n",
       "      <td>Guerrero</td>\n",
       "      <td>21</td>\n",
       "      <td>Coyuca de Benítez</td>\n",
       "    </tr>\n",
       "    <tr>\n",
       "      <th>3</th>\n",
       "      <td>ABAD ALARCON FULGENCIO</td>\n",
       "      <td>CENTRO PAÍS</td>\n",
       "      <td>GUERRERO</td>\n",
       "      <td>COYUCA DE BENÍTEZ</td>\n",
       "      <td>AGUA ZARCA</td>\n",
       "      <td>Cultivo de maíz grano blanco</td>\n",
       "      <td>2021-04-06</td>\n",
       "      <td>7196.13</td>\n",
       "      <td>PV2021</td>\n",
       "      <td>guerrero-coyuca de benitez</td>\n",
       "      <td>12</td>\n",
       "      <td>Guerrero</td>\n",
       "      <td>21</td>\n",
       "      <td>Coyuca de Benítez</td>\n",
       "    </tr>\n",
       "    <tr>\n",
       "      <th>4</th>\n",
       "      <td>ABAD ALARCON ROMALDA</td>\n",
       "      <td>CENTRO PAÍS</td>\n",
       "      <td>GUERRERO</td>\n",
       "      <td>COYUCA DE BENÍTEZ</td>\n",
       "      <td>YERBASANTITA</td>\n",
       "      <td>Cultivo de maíz grano blanco</td>\n",
       "      <td>2021-04-04</td>\n",
       "      <td>7196.13</td>\n",
       "      <td>PV2021</td>\n",
       "      <td>guerrero-coyuca de benitez</td>\n",
       "      <td>12</td>\n",
       "      <td>Guerrero</td>\n",
       "      <td>21</td>\n",
       "      <td>Coyuca de Benítez</td>\n",
       "    </tr>\n",
       "    <tr>\n",
       "      <th>...</th>\n",
       "      <td>...</td>\n",
       "      <td>...</td>\n",
       "      <td>...</td>\n",
       "      <td>...</td>\n",
       "      <td>...</td>\n",
       "      <td>...</td>\n",
       "      <td>...</td>\n",
       "      <td>...</td>\n",
       "      <td>...</td>\n",
       "      <td>...</td>\n",
       "      <td>...</td>\n",
       "      <td>...</td>\n",
       "      <td>...</td>\n",
       "      <td>...</td>\n",
       "    </tr>\n",
       "    <tr>\n",
       "      <th>394978</th>\n",
       "      <td>ZURITA VILLEGAS CRESCENCIANA</td>\n",
       "      <td>CENTRO PAÍS</td>\n",
       "      <td>GUERRERO</td>\n",
       "      <td>XALPATLÁHUAC</td>\n",
       "      <td>XALPATLÁHUAC</td>\n",
       "      <td>Cultivo de maíz grano blanco</td>\n",
       "      <td>2021-05-08</td>\n",
       "      <td>3598.07</td>\n",
       "      <td>PV2021</td>\n",
       "      <td>guerrero-xalpatlahuac</td>\n",
       "      <td>12</td>\n",
       "      <td>Guerrero</td>\n",
       "      <td>69</td>\n",
       "      <td>Xalpatláhuac</td>\n",
       "    </tr>\n",
       "    <tr>\n",
       "      <th>394979</th>\n",
       "      <td>ZURITA VILLEGAS MARIA INES</td>\n",
       "      <td>CENTRO PAÍS</td>\n",
       "      <td>GUERRERO</td>\n",
       "      <td>XALPATLÁHUAC</td>\n",
       "      <td>XALPATLÁHUAC</td>\n",
       "      <td>Cultivo de maíz grano blanco</td>\n",
       "      <td>2021-05-08</td>\n",
       "      <td>3598.07</td>\n",
       "      <td>PV2021</td>\n",
       "      <td>guerrero-xalpatlahuac</td>\n",
       "      <td>12</td>\n",
       "      <td>Guerrero</td>\n",
       "      <td>69</td>\n",
       "      <td>Xalpatláhuac</td>\n",
       "    </tr>\n",
       "    <tr>\n",
       "      <th>394980</th>\n",
       "      <td>ZURITA VILLEGAS NICOLASA</td>\n",
       "      <td>CENTRO PAÍS</td>\n",
       "      <td>GUERRERO</td>\n",
       "      <td>XALPATLÁHUAC</td>\n",
       "      <td>XALPATLÁHUAC</td>\n",
       "      <td>Cultivo de maíz grano blanco</td>\n",
       "      <td>2021-05-08</td>\n",
       "      <td>3598.07</td>\n",
       "      <td>PV2021</td>\n",
       "      <td>guerrero-xalpatlahuac</td>\n",
       "      <td>12</td>\n",
       "      <td>Guerrero</td>\n",
       "      <td>69</td>\n",
       "      <td>Xalpatláhuac</td>\n",
       "    </tr>\n",
       "    <tr>\n",
       "      <th>394981</th>\n",
       "      <td>ZURITA VITINIO GREGORIA</td>\n",
       "      <td>CENTRO PAÍS</td>\n",
       "      <td>GUERRERO</td>\n",
       "      <td>XALPATLÁHUAC</td>\n",
       "      <td>XALPATLÁHUAC</td>\n",
       "      <td>Cultivo de maíz grano blanco</td>\n",
       "      <td>2021-05-08</td>\n",
       "      <td>3598.07</td>\n",
       "      <td>PV2021</td>\n",
       "      <td>guerrero-xalpatlahuac</td>\n",
       "      <td>12</td>\n",
       "      <td>Guerrero</td>\n",
       "      <td>69</td>\n",
       "      <td>Xalpatláhuac</td>\n",
       "    </tr>\n",
       "    <tr>\n",
       "      <th>394982</th>\n",
       "      <td>ZURITA VITINIO JOSE</td>\n",
       "      <td>CENTRO PAÍS</td>\n",
       "      <td>GUERRERO</td>\n",
       "      <td>XALPATLÁHUAC</td>\n",
       "      <td>XALPATLÁHUAC</td>\n",
       "      <td>Cultivo de maíz grano blanco</td>\n",
       "      <td>2021-05-08</td>\n",
       "      <td>7196.13</td>\n",
       "      <td>PV2021</td>\n",
       "      <td>guerrero-xalpatlahuac</td>\n",
       "      <td>12</td>\n",
       "      <td>Guerrero</td>\n",
       "      <td>69</td>\n",
       "      <td>Xalpatláhuac</td>\n",
       "    </tr>\n",
       "  </tbody>\n",
       "</table>\n",
       "<p>394983 rows × 14 columns</p>\n",
       "</div>"
      ],
      "text/plain": [
       "                         BENEFICIARIO         ZONA   ENTIDAD  \\\n",
       "0             ABAC NERI JESUS CARLOS   CENTRO PAÍS  GUERRERO   \n",
       "1               ABAD ALARCON ELIAZAR   CENTRO PAÍS  GUERRERO   \n",
       "2              ABAD ALARCON EZEQUIEL   CENTRO PAÍS  GUERRERO   \n",
       "3             ABAD ALARCON FULGENCIO   CENTRO PAÍS  GUERRERO   \n",
       "4               ABAD ALARCON ROMALDA   CENTRO PAÍS  GUERRERO   \n",
       "...                               ...          ...       ...   \n",
       "394978  ZURITA VILLEGAS CRESCENCIANA   CENTRO PAÍS  GUERRERO   \n",
       "394979    ZURITA VILLEGAS MARIA INES   CENTRO PAÍS  GUERRERO   \n",
       "394980      ZURITA VILLEGAS NICOLASA   CENTRO PAÍS  GUERRERO   \n",
       "394981       ZURITA VITINIO GREGORIA   CENTRO PAÍS  GUERRERO   \n",
       "394982           ZURITA VITINIO JOSE   CENTRO PAÍS  GUERRERO   \n",
       "\n",
       "                MUNICIPIO     LOCALIDAD                      PRODUCTO  \\\n",
       "0       COYUCA DE BENÍTEZ  PUEBLO VIEJO  Cultivo de maíz grano blanco   \n",
       "1       COYUCA DE BENÍTEZ  PUEBLO VIEJO  Cultivo de maíz grano blanco   \n",
       "2       COYUCA DE BENÍTEZ    AGUA ZARCA  Cultivo de maíz grano blanco   \n",
       "3       COYUCA DE BENÍTEZ    AGUA ZARCA  Cultivo de maíz grano blanco   \n",
       "4       COYUCA DE BENÍTEZ  YERBASANTITA  Cultivo de maíz grano blanco   \n",
       "...                   ...           ...                           ...   \n",
       "394978       XALPATLÁHUAC  XALPATLÁHUAC  Cultivo de maíz grano blanco   \n",
       "394979       XALPATLÁHUAC  XALPATLÁHUAC  Cultivo de maíz grano blanco   \n",
       "394980       XALPATLÁHUAC  XALPATLÁHUAC  Cultivo de maíz grano blanco   \n",
       "394981       XALPATLÁHUAC  XALPATLÁHUAC  Cultivo de maíz grano blanco   \n",
       "394982       XALPATLÁHUAC  XALPATLÁHUAC  Cultivo de maíz grano blanco   \n",
       "\n",
       "             FECHA  MONTO FEDERAL CICLO AGRÍCOLA               KEY_benef_mun  \\\n",
       "0       2021-04-10        7196.13         PV2021  guerrero-coyuca de benitez   \n",
       "1       2021-04-10        3598.07         PV2021  guerrero-coyuca de benitez   \n",
       "2       2021-04-06        7196.13         PV2021  guerrero-coyuca de benitez   \n",
       "3       2021-04-06        7196.13         PV2021  guerrero-coyuca de benitez   \n",
       "4       2021-04-04        7196.13         PV2021  guerrero-coyuca de benitez   \n",
       "...            ...            ...            ...                         ...   \n",
       "394978  2021-05-08        3598.07         PV2021       guerrero-xalpatlahuac   \n",
       "394979  2021-05-08        3598.07         PV2021       guerrero-xalpatlahuac   \n",
       "394980  2021-05-08        3598.07         PV2021       guerrero-xalpatlahuac   \n",
       "394981  2021-05-08        3598.07         PV2021       guerrero-xalpatlahuac   \n",
       "394982  2021-05-08        7196.13         PV2021       guerrero-xalpatlahuac   \n",
       "\n",
       "        CVE_ENT Entidad_inegi  CVE_MUN    Municipio_inegi  \n",
       "0            12      Guerrero       21  Coyuca de Benítez  \n",
       "1            12      Guerrero       21  Coyuca de Benítez  \n",
       "2            12      Guerrero       21  Coyuca de Benítez  \n",
       "3            12      Guerrero       21  Coyuca de Benítez  \n",
       "4            12      Guerrero       21  Coyuca de Benítez  \n",
       "...         ...           ...      ...                ...  \n",
       "394978       12      Guerrero       69       Xalpatláhuac  \n",
       "394979       12      Guerrero       69       Xalpatláhuac  \n",
       "394980       12      Guerrero       69       Xalpatláhuac  \n",
       "394981       12      Guerrero       69       Xalpatláhuac  \n",
       "394982       12      Guerrero       69       Xalpatláhuac  \n",
       "\n",
       "[394983 rows x 14 columns]"
      ]
     },
     "execution_count": 44,
     "metadata": {},
     "output_type": "execute_result"
    }
   ],
   "source": [
    "listado_beneficiarios_parte_II"
   ]
  },
  {
   "cell_type": "code",
   "execution_count": 45,
   "metadata": {},
   "outputs": [
    {
     "data": {
      "text/plain": [
       "Index(['BENEFICIARIO', 'ZONA', 'ENTIDAD', 'MUNICIPIO', 'LOCALIDAD', 'PRODUCTO',\n",
       "       'FECHA', 'MONTO FEDERAL', 'CICLO AGRÍCOLA', 'KEY_benef_mun', 'CVE_ENT',\n",
       "       'Entidad_inegi', 'CVE_MUN', 'Municipio_inegi'],\n",
       "      dtype='object')"
      ]
     },
     "execution_count": 45,
     "metadata": {},
     "output_type": "execute_result"
    }
   ],
   "source": [
    "listado_beneficiarios_parte_II.columns"
   ]
  },
  {
   "cell_type": "code",
   "execution_count": 46,
   "metadata": {},
   "outputs": [],
   "source": [
    "listado_beneficiarios_parte_II.to_csv('../../data/listados_completos/listado_beneficiarios_2021.csv', index=False)"
   ]
  },
  {
   "cell_type": "code",
   "execution_count": 47,
   "metadata": {},
   "outputs": [
    {
     "data": {
      "text/plain": [
       "BENEFICIARIO       0\n",
       "ZONA               0\n",
       "ENTIDAD            0\n",
       "MUNICIPIO          0\n",
       "LOCALIDAD          0\n",
       "PRODUCTO           0\n",
       "FECHA              0\n",
       "MONTO FEDERAL      0\n",
       "CICLO AGRÍCOLA     0\n",
       "KEY_benef_mun      0\n",
       "CVE_ENT            0\n",
       "Entidad_inegi      0\n",
       "CVE_MUN            0\n",
       "Municipio_inegi    0\n",
       "dtype: int64"
      ]
     },
     "execution_count": 47,
     "metadata": {},
     "output_type": "execute_result"
    }
   ],
   "source": [
    "listado_beneficiarios_parte_II.isna().sum()"
   ]
  },
  {
   "cell_type": "code",
   "execution_count": 48,
   "metadata": {},
   "outputs": [],
   "source": [
    "# Assuming listado_beneficiarios_parte_II is your DataFrame\n",
    "rows_with_nan = listado_beneficiarios_parte_II[listado_beneficiarios_parte_II.isna().any(axis=1)]\n",
    "\n",
    "# rows_with_nan now contains only the rows with NaN values in any column"
   ]
  },
  {
   "cell_type": "code",
   "execution_count": 49,
   "metadata": {},
   "outputs": [
    {
     "data": {
      "text/html": [
       "<div>\n",
       "<style scoped>\n",
       "    .dataframe tbody tr th:only-of-type {\n",
       "        vertical-align: middle;\n",
       "    }\n",
       "\n",
       "    .dataframe tbody tr th {\n",
       "        vertical-align: top;\n",
       "    }\n",
       "\n",
       "    .dataframe thead th {\n",
       "        text-align: right;\n",
       "    }\n",
       "</style>\n",
       "<table border=\"1\" class=\"dataframe\">\n",
       "  <thead>\n",
       "    <tr style=\"text-align: right;\">\n",
       "      <th></th>\n",
       "      <th>BENEFICIARIO</th>\n",
       "      <th>ZONA</th>\n",
       "      <th>ENTIDAD</th>\n",
       "      <th>MUNICIPIO</th>\n",
       "      <th>LOCALIDAD</th>\n",
       "      <th>PRODUCTO</th>\n",
       "      <th>FECHA</th>\n",
       "      <th>MONTO FEDERAL</th>\n",
       "      <th>CICLO AGRÍCOLA</th>\n",
       "      <th>KEY_benef_mun</th>\n",
       "      <th>CVE_ENT</th>\n",
       "      <th>Entidad_inegi</th>\n",
       "      <th>CVE_MUN</th>\n",
       "      <th>Municipio_inegi</th>\n",
       "    </tr>\n",
       "  </thead>\n",
       "  <tbody>\n",
       "  </tbody>\n",
       "</table>\n",
       "</div>"
      ],
      "text/plain": [
       "Empty DataFrame\n",
       "Columns: [BENEFICIARIO, ZONA, ENTIDAD, MUNICIPIO, LOCALIDAD, PRODUCTO, FECHA, MONTO FEDERAL, CICLO AGRÍCOLA, KEY_benef_mun, CVE_ENT, Entidad_inegi, CVE_MUN, Municipio_inegi]\n",
       "Index: []"
      ]
     },
     "execution_count": 49,
     "metadata": {},
     "output_type": "execute_result"
    }
   ],
   "source": [
    "rows_with_nan"
   ]
  },
  {
   "cell_type": "code",
   "execution_count": 50,
   "metadata": {},
   "outputs": [
    {
     "data": {
      "text/plain": [
       "(394983, 14)"
      ]
     },
     "execution_count": 50,
     "metadata": {},
     "output_type": "execute_result"
    }
   ],
   "source": [
    "listado_beneficiarios_parte_II.shape"
   ]
  }
 ],
 "metadata": {
  "kernelspec": {
   "display_name": "Python 3",
   "language": "python",
   "name": "python3"
  },
  "language_info": {
   "codemirror_mode": {
    "name": "ipython",
    "version": 3
   },
   "file_extension": ".py",
   "mimetype": "text/x-python",
   "name": "python",
   "nbconvert_exporter": "python",
   "pygments_lexer": "ipython3",
   "version": "3.9.9"
  }
 },
 "nbformat": 4,
 "nbformat_minor": 2
}
