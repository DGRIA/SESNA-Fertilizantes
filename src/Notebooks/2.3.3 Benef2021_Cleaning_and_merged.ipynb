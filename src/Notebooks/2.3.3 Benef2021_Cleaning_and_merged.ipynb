{
 "cells": [
  {
   "cell_type": "markdown",
   "metadata": {},
   "source": [
    "# Data Cleaning Listado de Listado de Beneficiarios 2021"
   ]
  },
  {
   "cell_type": "markdown",
   "metadata": {},
   "source": [
    "## Autores\n",
    "- José Luis Delgado Dávara\n",
    "- Arturo Ortiz Aguilar\n",
    "- Beltrán Valle Gutiérrez-Cortines"
   ]
  },
  {
   "cell_type": "markdown",
   "metadata": {},
   "source": [
    "## Importante leer para entender\n",
    "\n",
    "En este Notebook se trabaja con 3 listados importantes:\n",
    "\n",
    "1. beneficiarios_21 -> Dataset con el listado de TODOS los beneficiarios de 2021.\n",
    "2. Estados_Beneficiarios_2019_2022 -> Dataset sólo con los estados *únicos* encontrados en el dataset anterior.\n",
    "3. Diccionario -> Emparejamiento entre ambos listados de beneficiarios\n",
    "4. Dataset_Inegi -> Catálogo obtenido de Inegi"
   ]
  },
  {
   "cell_type": "code",
   "execution_count": 1,
   "metadata": {},
   "outputs": [],
   "source": [
    "import pandas as pd\n",
    "import seaborn as sns\n",
    "from thefuzz import fuzz\n",
    "from thefuzz import process\n",
    "import matplotlib.pyplot as plt\n",
    "import numpy as np\n",
    "import os\n",
    "import glob\n",
    "import re\n",
    "import unidecode"
   ]
  },
  {
   "cell_type": "code",
   "execution_count": 2,
   "metadata": {},
   "outputs": [],
   "source": [
    "def clean_text(text):\n",
    "    \"\"\"\n",
    "    De esta manera tenemos el texto sin espacios blancos extra y sobre todo con todas las palabras con capitalización correcta.\n",
    "    \"\"\"\n",
    "    if pd.isna(text):\n",
    "        return text\n",
    "    text = text.strip()  # Eliminate white spaces\n",
    "    text = text.lower()  # Convert to lowercase\n",
    "    text = unidecode.unidecode(text)  # Remove accents\n",
    "    text = re.sub('-.*-', '', text) #Remove what is in between - -\n",
    "    text = re.sub('\\s+', ' ', text)  # Eliminate extra white spaces\n",
    "    text = re.sub('^\\s+|\\s+?$', '', text)  # Eliminate spaces at the beginning and end\n",
    "    return text"
   ]
  },
  {
   "cell_type": "markdown",
   "metadata": {},
   "source": [
    "# 1. Lectura y limpieza de datos"
   ]
  },
  {
   "cell_type": "markdown",
   "metadata": {},
   "source": [
    "### 1.1 Beneficiarios 2021\n",
    "\n",
    "Obtenemos el listado único de localidades y listado único de municipios con sus claves."
   ]
  },
  {
   "cell_type": "code",
   "execution_count": 3,
   "metadata": {},
   "outputs": [],
   "source": [
    "beneficiarios_21 = pd.read_csv('../../data/productores_beneficiarios 2019-2022/listado_beneficiarios_fertilizantes_2021.csv', encoding='utf-8', skiprows=0)"
   ]
  },
  {
   "cell_type": "code",
   "execution_count": 4,
   "metadata": {},
   "outputs": [
    {
     "data": {
      "text/plain": [
       "(394986, 16)"
      ]
     },
     "execution_count": 4,
     "metadata": {},
     "output_type": "execute_result"
    }
   ],
   "source": [
    "beneficiarios_21.shape"
   ]
  },
  {
   "cell_type": "code",
   "execution_count": 5,
   "metadata": {},
   "outputs": [],
   "source": [
    "beneficiarios_21 = beneficiarios_21[~((beneficiarios_21['ENTIDAD'] == 'NACIONAL') & (beneficiarios_21['MUNICIPIO'] == 'NACIONAL') & (beneficiarios_21['LOCALIDAD'] == 'NACIONAL'))]"
   ]
  },
  {
   "cell_type": "code",
   "execution_count": 6,
   "metadata": {},
   "outputs": [
    {
     "data": {
      "text/plain": [
       "array(['GUERRERO', 'PUEBLA', 'MORELOS', 'TLAXCALA', nan], dtype=object)"
      ]
     },
     "execution_count": 6,
     "metadata": {},
     "output_type": "execute_result"
    }
   ],
   "source": [
    "beneficiarios_21['ENTIDAD'].unique()"
   ]
  },
  {
   "cell_type": "markdown",
   "metadata": {},
   "source": [
    "Dropeamos los tres valores nulos debido a que las rows enteras salen como nan"
   ]
  },
  {
   "cell_type": "code",
   "execution_count": 7,
   "metadata": {},
   "outputs": [],
   "source": [
    "beneficiarios_21.dropna(inplace=True)"
   ]
  },
  {
   "cell_type": "code",
   "execution_count": 8,
   "metadata": {},
   "outputs": [],
   "source": [
    "# Obtenemos las localidades únicas en el dataset.\n",
    "Localidades_21 = beneficiarios_21[['ENTIDAD', 'MUNICIPIO', 'LOCALIDAD']]\n",
    "Localidades_21 = Localidades_21.drop_duplicates()\n"
   ]
  },
  {
   "cell_type": "code",
   "execution_count": 9,
   "metadata": {},
   "outputs": [],
   "source": [
    "Localidades_21['ENTIDAD_c_benef'] = Localidades_21['ENTIDAD'].apply(clean_text)\n",
    "Localidades_21['MUNICIPIO_c_benef'] = Localidades_21['MUNICIPIO'].apply(clean_text)\n",
    "Localidades_21['LOCALIDAD_c_benef'] = Localidades_21['LOCALIDAD'].apply(clean_text)"
   ]
  },
  {
   "cell_type": "code",
   "execution_count": 10,
   "metadata": {},
   "outputs": [],
   "source": [
    "# Creamos las dos keys de beneficiarios 2019\n",
    "Localidades_21['KEY_benef_mun'] = Localidades_21['ENTIDAD_c_benef'].astype(str) + '-' + Localidades_21[\n",
    "    'MUNICIPIO_c_benef'].astype(str)\n",
    "Localidades_21['KEY_benef_loc'] = Localidades_21['MUNICIPIO_c_benef'].astype(str) + '-' + Localidades_21['LOCALIDAD_c_benef'].astype(str)"
   ]
  },
  {
   "cell_type": "code",
   "execution_count": 11,
   "metadata": {},
   "outputs": [
    {
     "data": {
      "text/plain": [
       "(5914, 8)"
      ]
     },
     "execution_count": 11,
     "metadata": {},
     "output_type": "execute_result"
    }
   ],
   "source": [
    "Localidades_21.shape"
   ]
  },
  {
   "cell_type": "code",
   "execution_count": 12,
   "metadata": {},
   "outputs": [],
   "source": [
    "# Obtenemos las localidades únicas en el dataset.\n",
    "Municipios_21 = beneficiarios_21[['ENTIDAD', 'MUNICIPIO']]\n",
    "Municipios_21 = Municipios_21.drop_duplicates()"
   ]
  },
  {
   "cell_type": "code",
   "execution_count": 13,
   "metadata": {},
   "outputs": [],
   "source": [
    "# Estandarizamos la limpieza de los datos\n",
    "Municipios_21['ENTIDAD_c_benef'] = Municipios_21['ENTIDAD'].apply(clean_text)\n",
    "Municipios_21['MUNICIPIO_c_benef'] = Municipios_21['MUNICIPIO'].apply(clean_text)"
   ]
  },
  {
   "cell_type": "code",
   "execution_count": 14,
   "metadata": {},
   "outputs": [],
   "source": [
    "# Creamos las dos keys de beneficiarios \n",
    "Municipios_21['KEY_benef_mun'] = Municipios_21['ENTIDAD_c_benef'].astype(str) + '-' + Municipios_21[\n",
    "    'MUNICIPIO_c_benef'].astype(str)"
   ]
  },
  {
   "cell_type": "code",
   "execution_count": 15,
   "metadata": {},
   "outputs": [
    {
     "data": {
      "text/plain": [
       "(248, 5)"
      ]
     },
     "execution_count": 15,
     "metadata": {},
     "output_type": "execute_result"
    }
   ],
   "source": [
    "Municipios_21.shape"
   ]
  },
  {
   "cell_type": "code",
   "execution_count": 16,
   "metadata": {},
   "outputs": [
    {
     "data": {
      "text/plain": [
       "Index(['ENTIDAD', 'MUNICIPIO', 'ENTIDAD_c_benef', 'MUNICIPIO_c_benef',\n",
       "       'KEY_benef_mun'],\n",
       "      dtype='object')"
      ]
     },
     "execution_count": 16,
     "metadata": {},
     "output_type": "execute_result"
    }
   ],
   "source": [
    "Municipios_21.columns"
   ]
  },
  {
   "cell_type": "markdown",
   "metadata": {},
   "source": [
    "### 1.2 INEGI 2021\n",
    "\n",
    "Obtener listado único de municipios y listado único de localidades de inegi de 2021 con sus claves."
   ]
  },
  {
   "cell_type": "code",
   "execution_count": 17,
   "metadata": {},
   "outputs": [],
   "source": [
    "path_dataset_inegi_2021 = '../../data/inegi/dataset_inegi_clean_2021.csv'\n",
    "#dataset_inegi_clean = pd.read_csv(path_dataset_inegi_2022, encoding='utf-8', dtype={'CVE_ENT': str, 'CVE_MUN': str, 'CVE_LOC': str})\n",
    "dataset_inegi_2021 = pd.read_csv(path_dataset_inegi_2021)"
   ]
  },
  {
   "cell_type": "markdown",
   "metadata": {},
   "source": [
    "### 1.2.1 INEGI 2021 Municipios únicos para cada año."
   ]
  },
  {
   "cell_type": "code",
   "execution_count": 18,
   "metadata": {},
   "outputs": [],
   "source": [
    "dataset_inegi_2021['KEY_inegi_municipio'] = dataset_inegi_2021['Entidad_c_inegi'].astype(str) + '-' + dataset_inegi_2021[\n",
    "    'Municipio_c_inegi'].astype(str) \n",
    "dataset_inegi_2021['KEY_inegi_localidad'] = dataset_inegi_2021['Municipio_c_inegi'].astype(str) + '-' + dataset_inegi_2021['Localidad_c_inegi'].astype(str)"
   ]
  },
  {
   "cell_type": "code",
   "execution_count": 19,
   "metadata": {},
   "outputs": [],
   "source": [
    "INEGI_UNIQUEMUN_2021 = dataset_inegi_2021.drop(columns=[\"CVE_LOC\", \"Localidad_inegi\", \"Localidad_c_inegi\", \"KEY_inegi_localidad\", \"POB_TOTAL\"])\n",
    "\n",
    "INEGI_UNIQUEMUN_2021 = INEGI_UNIQUEMUN_2021.drop_duplicates()"
   ]
  },
  {
   "cell_type": "code",
   "execution_count": 20,
   "metadata": {},
   "outputs": [
    {
     "data": {
      "text/plain": [
       "(2471, 7)"
      ]
     },
     "execution_count": 20,
     "metadata": {},
     "output_type": "execute_result"
    }
   ],
   "source": [
    "INEGI_UNIQUEMUN_2021.shape"
   ]
  },
  {
   "cell_type": "code",
   "execution_count": 21,
   "metadata": {},
   "outputs": [
    {
     "data": {
      "text/plain": [
       "Index(['CVE_ENT', 'Entidad_inegi', 'CVE_MUN', 'Municipio_inegi',\n",
       "       'Entidad_c_inegi', 'Municipio_c_inegi', 'KEY_inegi_municipio'],\n",
       "      dtype='object')"
      ]
     },
     "execution_count": 21,
     "metadata": {},
     "output_type": "execute_result"
    }
   ],
   "source": [
    "INEGI_UNIQUEMUN_2021.columns"
   ]
  },
  {
   "cell_type": "code",
   "execution_count": 22,
   "metadata": {},
   "outputs": [],
   "source": [
    "INEGI_UNIQUEMUN_2021.drop_duplicates(subset='KEY_inegi_municipio', keep='first', inplace=True)"
   ]
  },
  {
   "cell_type": "markdown",
   "metadata": {},
   "source": [
    "# 2. Diccionario de los datasets de INEGI Y LISTADO BENEFICIARIOS 2021\n",
    "\n",
    "El objetivo de esta sección es crear dos diccionarios de códigos según BENEFICIARIOS-MUNICIPIOS_INEGI y otro BENEFICIARIOS-LOCALIDADES_INEGI, para cada uno de los estados encontrados en inegi_2021, en este caso el número de keys es menor con lo cual no nos hará falta dividir por estado.\n",
    "\n",
    "Para ello haremos un Left join entre Localidades_21 y el dataset de INEGI correspondiente."
   ]
  },
  {
   "cell_type": "code",
   "execution_count": 23,
   "metadata": {},
   "outputs": [],
   "source": [
    "# Crear una función para encontrar la mejor coincidencia difusa con límites entre 85 y 100 de coincidencia\n",
    "def fuzzy_merge_benef2019_2022(df_benef, df_inegi, key1, key2, threshold=85, limit=1):\n",
    "    \"\"\"\n",
    "    df_inegi: DataFrame de la izquierda (el DataFrame principal)\n",
    "    df_prod: DataFrame de la derecha (el DataFrame con el que se quiere hacer el join)\n",
    "    key1: Columna de la clave en df_inegi\n",
    "    key2: Columna de la clave en df_prod\n",
    "    threshold: Umbral de coincidencia difusa\n",
    "    limit: Número de coincidencias a encontrar\n",
    "    \"\"\"\n",
    "    s = df_inegi[key2].tolist()\n",
    "    \n",
    "    # Encontrar las mejores coincidencias para cada clave en df_inegi\n",
    "    matches = df_benef[key1].apply(lambda x: process.extractOne(x, s, score_cutoff=threshold))\n",
    "\n",
    "\n",
    "    # Crear una columna con las mejores coincidencias\n",
    "    df_benef['best_match'] = [match[0] if match else None for match in matches]\n",
    "    \n",
    "    df_benef['match_score'] = [match[1] if match else None for match in matches]\n",
    "    \n",
    "\n",
    "    # Hacer el merge con las mejores coincidencias\n",
    "    df_merged = pd.merge(df_benef, df_inegi, left_on='best_match', right_on=key2, how='left')\n",
    "    \n",
    "    return df_merged"
   ]
  },
  {
   "cell_type": "code",
   "execution_count": 24,
   "metadata": {},
   "outputs": [
    {
     "data": {
      "text/plain": [
       "(248, 14)"
      ]
     },
     "execution_count": 24,
     "metadata": {},
     "output_type": "execute_result"
    }
   ],
   "source": [
    "diccionario_MUN_21 = fuzzy_merge_benef2019_2022(Municipios_21, INEGI_UNIQUEMUN_2021, 'KEY_benef_mun', 'KEY_inegi_municipio')\n",
    "diccionario_MUN_21.shape"
   ]
  },
  {
   "cell_type": "code",
   "execution_count": 25,
   "metadata": {},
   "outputs": [],
   "source": [
    "diccionario_MUN_21.drop(columns=['ENTIDAD', 'MUNICIPIO', 'ENTIDAD_c_benef', 'MUNICIPIO_c_benef', 'Entidad_c_inegi',\n",
    "       'Municipio_c_inegi'], inplace=True)\n",
    "diccionario_MUN_21.drop_duplicates(subset='KEY_benef_mun', keep='first', inplace=True)"
   ]
  },
  {
   "cell_type": "code",
   "execution_count": 26,
   "metadata": {},
   "outputs": [],
   "source": [
    "diccionario_MUN_21.to_csv('../../data/productores_beneficiarios 2019-2022/diccionarios_E3/diccionario_MUN_21.csv', index=False)"
   ]
  },
  {
   "cell_type": "code",
   "execution_count": 27,
   "metadata": {},
   "outputs": [],
   "source": [
    "diccionario_MUN_21_simple = pd.read_csv('../../data/productores_beneficiarios 2019-2022/diccionarios_E3/diccionario_MUN_21_simple.csv')"
   ]
  },
  {
   "cell_type": "code",
   "execution_count": 28,
   "metadata": {},
   "outputs": [],
   "source": [
    "diccionario_MUN_21_simple = diccionario_MUN_21_simple.drop_duplicates(subset='KEY_inegi_municipio', keep='first')"
   ]
  },
  {
   "cell_type": "code",
   "execution_count": 29,
   "metadata": {},
   "outputs": [],
   "source": [
    "diccionario_MUN_21_simple = diccionario_MUN_21_simple.drop_duplicates(subset='KEY_benef_mun', keep='first')"
   ]
  },
  {
   "cell_type": "code",
   "execution_count": 30,
   "metadata": {},
   "outputs": [],
   "source": [
    "nan_rows = beneficiarios_21[beneficiarios_21.isna().any(axis=1)]"
   ]
  },
  {
   "cell_type": "code",
   "execution_count": 31,
   "metadata": {},
   "outputs": [],
   "source": [
    "# Assuming your DataFrame is named df\n",
    "filtered_df = beneficiarios_21[beneficiarios_21['ENTIDAD'] == 'NACIONAL']"
   ]
  },
  {
   "cell_type": "markdown",
   "metadata": {},
   "source": [
    "### MERGE\n",
    "\n",
    "Armamos por partes el dataset definitivo:\n",
    "1. Juntamos beneficiarios_19 con el diccionario simple. (listado_beneficiario_parte_I)\n",
    "2. Al df anterior juntamos las claver provenientes del catálogo de Inegi. (listado_beneficiario_parte_II)"
   ]
  },
  {
   "cell_type": "code",
   "execution_count": 32,
   "metadata": {},
   "outputs": [
    {
     "data": {
      "text/plain": [
       "Index(['BENEFICIARIO', 'ZONA', 'ENTIDAD', 'MUNICIPIO', 'LOCALIDAD',\n",
       "       'ESTRATIFICACIÓN', 'PROGRAMA', 'COMPONENTE', 'SUBCOMPONENTE',\n",
       "       'PRODUCTO', 'FECHA', 'MONTO FEDERAL', 'APOYO', 'ACTIVIDAD', 'ESLABÓN',\n",
       "       'CICLO AGRÍCOLA'],\n",
       "      dtype='object')"
      ]
     },
     "execution_count": 32,
     "metadata": {},
     "output_type": "execute_result"
    }
   ],
   "source": [
    "beneficiarios_21.columns"
   ]
  },
  {
   "cell_type": "code",
   "execution_count": 33,
   "metadata": {},
   "outputs": [],
   "source": [
    "# Crear una variable KEY en listado de productores y el diccionario para hacer el join\n",
    "\n",
    "# Clean listado beneficiarios\n",
    "beneficiarios_21['ESTADO_Clean'] = beneficiarios_21['ENTIDAD'].apply(clean_text)\n",
    "beneficiarios_21['MUNICIPIO_Clean'] = beneficiarios_21['MUNICIPIO'].apply(clean_text)\n",
    "\n",
    "# Create KEY in listado beneficiarios\n",
    "beneficiarios_21['Estado-mun-KEY'] = beneficiarios_21['ESTADO_Clean'].astype(str) + '-' + beneficiarios_21[\n",
    "    'MUNICIPIO_Clean'].astype(str)"
   ]
  },
  {
   "cell_type": "code",
   "execution_count": 34,
   "metadata": {},
   "outputs": [],
   "source": [
    "# Hacer el join de la Parte I\n",
    "listado_beneficiarios_parte_I = pd.merge(beneficiarios_21, diccionario_MUN_21_simple, left_on=\"Estado-mun-KEY\",\n",
    "                                        right_on=\"KEY_benef_mun\", how='left', suffixes=('_benef', '_inegi'))"
   ]
  },
  {
   "cell_type": "code",
   "execution_count": 35,
   "metadata": {},
   "outputs": [
    {
     "data": {
      "text/plain": [
       "BENEFICIARIO           0\n",
       "ZONA                   0\n",
       "ENTIDAD                0\n",
       "MUNICIPIO              0\n",
       "LOCALIDAD              0\n",
       "ESTRATIFICACIÓN        0\n",
       "PROGRAMA               0\n",
       "COMPONENTE             0\n",
       "SUBCOMPONENTE          0\n",
       "PRODUCTO               0\n",
       "FECHA                  0\n",
       "MONTO FEDERAL          0\n",
       "APOYO                  0\n",
       "ACTIVIDAD              0\n",
       "ESLABÓN                0\n",
       "CICLO AGRÍCOLA         0\n",
       "ESTADO_Clean           0\n",
       "MUNICIPIO_Clean        0\n",
       "Estado-mun-KEY         0\n",
       "KEY_benef_mun          0\n",
       "KEY_inegi_municipio    0\n",
       "dtype: int64"
      ]
     },
     "execution_count": 35,
     "metadata": {},
     "output_type": "execute_result"
    }
   ],
   "source": [
    "listado_beneficiarios_parte_I.isna().sum()"
   ]
  },
  {
   "cell_type": "code",
   "execution_count": 36,
   "metadata": {},
   "outputs": [
    {
     "data": {
      "text/plain": [
       "Index(['BENEFICIARIO', 'ZONA', 'ENTIDAD', 'MUNICIPIO', 'LOCALIDAD',\n",
       "       'ESTRATIFICACIÓN', 'PROGRAMA', 'COMPONENTE', 'SUBCOMPONENTE',\n",
       "       'PRODUCTO', 'FECHA', 'MONTO FEDERAL', 'APOYO', 'ACTIVIDAD', 'ESLABÓN',\n",
       "       'CICLO AGRÍCOLA', 'ESTADO_Clean', 'MUNICIPIO_Clean', 'Estado-mun-KEY',\n",
       "       'KEY_benef_mun', 'KEY_inegi_municipio'],\n",
       "      dtype='object')"
      ]
     },
     "execution_count": 36,
     "metadata": {},
     "output_type": "execute_result"
    }
   ],
   "source": [
    "listado_beneficiarios_parte_I.columns"
   ]
  },
  {
   "cell_type": "code",
   "execution_count": 37,
   "metadata": {},
   "outputs": [],
   "source": [
    "# Hacer el join de la Parte II\n",
    "listado_beneficiarios_parte_II = pd.merge(listado_beneficiarios_parte_I, INEGI_UNIQUEMUN_2021, left_on=\"KEY_inegi_municipio\",\n",
    "                                        right_on=\"KEY_inegi_municipio\", how='left', suffixes=('_benef', '_inegi'))"
   ]
  },
  {
   "cell_type": "code",
   "execution_count": 38,
   "metadata": {},
   "outputs": [],
   "source": [
    "listado_beneficiarios_parte_II = listado_beneficiarios_parte_II.drop(columns=['ESTADO_Clean', 'MUNICIPIO_Clean', 'Estado-mun-KEY', 'Entidad_c_inegi','Municipio_c_inegi', 'KEY_inegi_municipio', 'ESTRATIFICACIÓN', 'PROGRAMA', 'COMPONENTE', 'SUBCOMPONENTE', 'APOYO', 'ACTIVIDAD', 'ESLABÓN'])"
   ]
  },
  {
   "cell_type": "code",
   "execution_count": 39,
   "metadata": {},
   "outputs": [
    {
     "data": {
      "text/plain": [
       "Index(['BENEFICIARIO', 'ZONA', 'ENTIDAD', 'MUNICIPIO', 'LOCALIDAD', 'PRODUCTO',\n",
       "       'FECHA', 'MONTO FEDERAL', 'CICLO AGRÍCOLA', 'KEY_benef_mun', 'CVE_ENT',\n",
       "       'Entidad_inegi', 'CVE_MUN', 'Municipio_inegi'],\n",
       "      dtype='object')"
      ]
     },
     "execution_count": 39,
     "metadata": {},
     "output_type": "execute_result"
    }
   ],
   "source": [
    "listado_beneficiarios_parte_II.columns"
   ]
  },
  {
   "cell_type": "code",
   "execution_count": 40,
   "metadata": {},
   "outputs": [],
   "source": [
    "listado_beneficiarios_parte_II.to_csv('../../data/listados_completos/listado_beneficiarios_2021.csv', index=False)"
   ]
  },
  {
   "cell_type": "code",
   "execution_count": 41,
   "metadata": {},
   "outputs": [
    {
     "data": {
      "text/plain": [
       "BENEFICIARIO       0\n",
       "ZONA               0\n",
       "ENTIDAD            0\n",
       "MUNICIPIO          0\n",
       "LOCALIDAD          0\n",
       "PRODUCTO           0\n",
       "FECHA              0\n",
       "MONTO FEDERAL      0\n",
       "CICLO AGRÍCOLA     0\n",
       "KEY_benef_mun      0\n",
       "CVE_ENT            0\n",
       "Entidad_inegi      0\n",
       "CVE_MUN            0\n",
       "Municipio_inegi    0\n",
       "dtype: int64"
      ]
     },
     "execution_count": 41,
     "metadata": {},
     "output_type": "execute_result"
    }
   ],
   "source": [
    "listado_beneficiarios_parte_II.isna().sum()"
   ]
  },
  {
   "cell_type": "code",
   "execution_count": 42,
   "metadata": {},
   "outputs": [
    {
     "data": {
      "text/plain": [
       "(394983, 14)"
      ]
     },
     "execution_count": 42,
     "metadata": {},
     "output_type": "execute_result"
    }
   ],
   "source": [
    "listado_beneficiarios_parte_II.shape"
   ]
  },
  {
   "cell_type": "markdown",
   "metadata": {},
   "source": [
    "# 3. Join por entidad (Divide y Vencerás)"
   ]
  },
  {
   "cell_type": "code",
   "execution_count": 43,
   "metadata": {},
   "outputs": [],
   "source": [
    "listado_beneficiarios_2021 = pd.read_csv('../../data/listados_completos/listado_beneficiarios_2021.csv')"
   ]
  },
  {
   "cell_type": "code",
   "execution_count": 44,
   "metadata": {},
   "outputs": [
    {
     "data": {
      "text/plain": [
       "Index(['BENEFICIARIO', 'ZONA', 'ENTIDAD', 'MUNICIPIO', 'LOCALIDAD', 'PRODUCTO',\n",
       "       'FECHA', 'MONTO FEDERAL', 'CICLO AGRÍCOLA', 'KEY_benef_mun', 'CVE_ENT',\n",
       "       'Entidad_inegi', 'CVE_MUN', 'Municipio_inegi'],\n",
       "      dtype='object')"
      ]
     },
     "execution_count": 44,
     "metadata": {},
     "output_type": "execute_result"
    }
   ],
   "source": [
    "listado_beneficiarios_2021.columns"
   ]
  },
  {
   "cell_type": "code",
   "execution_count": 45,
   "metadata": {},
   "outputs": [],
   "source": [
    "listado_beneficiarios_2021['ENTIDAD_c_benef'] = listado_beneficiarios_2021['ENTIDAD'].apply(clean_text)\n",
    "listado_beneficiarios_2021['MUNICIPIO_c_benef'] = listado_beneficiarios_2021['MUNICIPIO'].apply(clean_text)\n",
    "listado_beneficiarios_2021['LOCALIDAD_c_benef'] = listado_beneficiarios_2021['LOCALIDAD'].apply(clean_text)"
   ]
  },
  {
   "cell_type": "code",
   "execution_count": 46,
   "metadata": {},
   "outputs": [],
   "source": [
    "listado_beneficiarios_2021['KEY_benef_loc'] = listado_beneficiarios_2021['MUNICIPIO_c_benef'].astype(str) + '-' + listado_beneficiarios_2021['LOCALIDAD_c_benef'].astype(str)"
   ]
  },
  {
   "cell_type": "code",
   "execution_count": 47,
   "metadata": {},
   "outputs": [
    {
     "data": {
      "text/plain": [
       "(394983, 18)"
      ]
     },
     "execution_count": 47,
     "metadata": {},
     "output_type": "execute_result"
    }
   ],
   "source": [
    "listado_beneficiarios_2021.shape"
   ]
  },
  {
   "cell_type": "code",
   "execution_count": 48,
   "metadata": {},
   "outputs": [],
   "source": [
    "listado_beneficiarios_2021 = listado_beneficiarios_2021.drop_duplicates(subset=['KEY_benef_loc'])"
   ]
  },
  {
   "cell_type": "code",
   "execution_count": 49,
   "metadata": {},
   "outputs": [
    {
     "data": {
      "text/plain": [
       "(5913, 18)"
      ]
     },
     "execution_count": 49,
     "metadata": {},
     "output_type": "execute_result"
    }
   ],
   "source": [
    "listado_beneficiarios_2021.shape"
   ]
  },
  {
   "cell_type": "code",
   "execution_count": 50,
   "metadata": {},
   "outputs": [
    {
     "data": {
      "text/plain": [
       "array(['GUERRERO', 'PUEBLA', 'MORELOS', 'TLAXCALA'], dtype=object)"
      ]
     },
     "execution_count": 50,
     "metadata": {},
     "output_type": "execute_result"
    }
   ],
   "source": [
    "listado_beneficiarios_2021.ENTIDAD.unique()"
   ]
  },
  {
   "cell_type": "markdown",
   "metadata": {},
   "source": [
    "### 3.2.1 Join de localidades - GUERRERO"
   ]
  },
  {
   "cell_type": "markdown",
   "metadata": {},
   "source": [
    "Empezamos creando los datasets por entiedad del dataset de beneficiarios.\n"
   ]
  },
  {
   "cell_type": "code",
   "execution_count": 51,
   "metadata": {},
   "outputs": [
    {
     "name": "stdout",
     "output_type": "stream",
     "text": [
      "Localidades_21_GUERRERO defined with shape: (4588, 18)\n",
      "Localidades_21_PUEBLA defined with shape: (646, 18)\n",
      "Localidades_21_MORELOS defined with shape: (273, 18)\n",
      "Localidades_21_TLAXCALA defined with shape: (406, 18)\n"
     ]
    }
   ],
   "source": [
    "entities = ['GUERRERO', 'PUEBLA', 'MORELOS', 'TLAXCALA']\n",
    "\n",
    "# Dictionary to hold DataFrames\n",
    "dataframes_dict = {}\n",
    "\n",
    "for entity in entities:\n",
    "    variable_name = f\"Localidades_21_{entity.upper().replace(' ', '_')}\"\n",
    "    dataframe = listado_beneficiarios_2021[listado_beneficiarios_2021[\"ENTIDAD\"] == entity]\n",
    "    \n",
    "    # Check if the DataFrame for this entity already exists in the dictionary\n",
    "    if variable_name in dataframes_dict:\n",
    "        # If it exists, concatenate the new DataFrame with the existing one\n",
    "        dataframes_dict[variable_name] = pd.concat([dataframes_dict[variable_name], dataframe])\n",
    "    else:\n",
    "        # If it does not exist, create a new entry in the dictionary\n",
    "        dataframes_dict[variable_name] = dataframe\n",
    "\n",
    "# Define each DataFrame as a separate variable\n",
    "for name, df in dataframes_dict.items():\n",
    "    globals()[name] = df\n",
    "    print(f\"{name} defined with shape: {df.shape}\")"
   ]
  },
  {
   "cell_type": "code",
   "execution_count": 52,
   "metadata": {},
   "outputs": [
    {
     "data": {
      "text/plain": [
       "(5913, 18)"
      ]
     },
     "execution_count": 52,
     "metadata": {},
     "output_type": "execute_result"
    }
   ],
   "source": [
    "listado_beneficiarios_2021.shape"
   ]
  },
  {
   "cell_type": "markdown",
   "metadata": {},
   "source": [
    "### 3.2.2 Diccionarios de Inegi por entidad."
   ]
  },
  {
   "cell_type": "code",
   "execution_count": 53,
   "metadata": {},
   "outputs": [
    {
     "name": "stdout",
     "output_type": "stream",
     "text": [
      "INEGI_UNIQUELOC_2021_nayarit: 4424 filas, 11 columnas\n",
      "INEGI_UNIQUELOC_2021_morelos: 1905 filas, 11 columnas\n",
      "INEGI_UNIQUELOC_2021_guerrero: 9214 filas, 11 columnas\n",
      "INEGI_UNIQUELOC_2021_durango: 9115 filas, 11 columnas\n",
      "INEGI_UNIQUELOC_2021_zacatecas: 6457 filas, 11 columnas\n",
      "INEGI_UNIQUELOC_2021_puebla: 7724 filas, 11 columnas\n",
      "INEGI_UNIQUELOC_2021_oaxaca: 12921 filas, 11 columnas\n",
      "INEGI_UNIQUELOC_2021_chiapas: 22192 filas, 11 columnas\n",
      "INEGI_UNIQUELOC_2021_tlaxcala: 1685 filas, 11 columnas\n"
     ]
    }
   ],
   "source": [
    "folder_path = '../../data/productores_beneficiarios 2019-2022/diccionarios_E3/2021'\n",
    "\n",
    "# Listar todos los archivos en la carpeta\n",
    "files = os.listdir(folder_path)\n",
    "\n",
    "# Filtrar solo los archivos CSV\n",
    "csv_files = [file for file in files if file.endswith('.csv')]\n",
    "\n",
    "# Leer cada archivo CSV y almacenar en variables separadas\n",
    "for file_name in csv_files:\n",
    "    file_path = os.path.join(folder_path, file_name)\n",
    "    # Crear un nombre de variable dinámicamente eliminando la extensión .csv\n",
    "    var_name = file_name.replace('.csv', '')\n",
    "    # Leer el archivo CSV y asignar el DataFrame a la variable\n",
    "    globals()[var_name] = pd.read_csv(file_path)\n",
    "\n",
    "# Opcional: Imprimir el nombre de las variables creadas y la cantidad de filas y columnas de cada DataFrame\n",
    "for file_name in csv_files:\n",
    "    var_name = file_name.replace('.csv', '')\n",
    "    df = globals()[var_name]\n",
    "    print(f'{var_name}: {df.shape[0]} filas, {df.shape[1]} columnas')\n"
   ]
  },
  {
   "cell_type": "code",
   "execution_count": 54,
   "metadata": {},
   "outputs": [
    {
     "data": {
      "text/plain": [
       "(9214, 11)"
      ]
     },
     "execution_count": 54,
     "metadata": {},
     "output_type": "execute_result"
    }
   ],
   "source": [
    "INEGI_UNIQUELOC_2021_guerrero.shape"
   ]
  },
  {
   "cell_type": "code",
   "execution_count": 55,
   "metadata": {},
   "outputs": [
    {
     "name": "stderr",
     "output_type": "stream",
     "text": [
      "/var/folders/ng/n9ng0wy92t90_49j662nh02c0000gn/T/ipykernel_45376/3519495578.py:18: SettingWithCopyWarning: \n",
      "A value is trying to be set on a copy of a slice from a DataFrame.\n",
      "Try using .loc[row_indexer,col_indexer] = value instead\n",
      "\n",
      "See the caveats in the documentation: https://pandas.pydata.org/pandas-docs/stable/user_guide/indexing.html#returning-a-view-versus-a-copy\n",
      "  df_benef['best_match'] = [match[0] if match else None for match in matches]\n",
      "/var/folders/ng/n9ng0wy92t90_49j662nh02c0000gn/T/ipykernel_45376/3519495578.py:20: SettingWithCopyWarning: \n",
      "A value is trying to be set on a copy of a slice from a DataFrame.\n",
      "Try using .loc[row_indexer,col_indexer] = value instead\n",
      "\n",
      "See the caveats in the documentation: https://pandas.pydata.org/pandas-docs/stable/user_guide/indexing.html#returning-a-view-versus-a-copy\n",
      "  df_benef['match_score'] = [match[1] if match else None for match in matches]\n",
      "/var/folders/ng/n9ng0wy92t90_49j662nh02c0000gn/T/ipykernel_45376/3519495578.py:18: SettingWithCopyWarning: \n",
      "A value is trying to be set on a copy of a slice from a DataFrame.\n",
      "Try using .loc[row_indexer,col_indexer] = value instead\n",
      "\n",
      "See the caveats in the documentation: https://pandas.pydata.org/pandas-docs/stable/user_guide/indexing.html#returning-a-view-versus-a-copy\n",
      "  df_benef['best_match'] = [match[0] if match else None for match in matches]\n",
      "/var/folders/ng/n9ng0wy92t90_49j662nh02c0000gn/T/ipykernel_45376/3519495578.py:20: SettingWithCopyWarning: \n",
      "A value is trying to be set on a copy of a slice from a DataFrame.\n",
      "Try using .loc[row_indexer,col_indexer] = value instead\n",
      "\n",
      "See the caveats in the documentation: https://pandas.pydata.org/pandas-docs/stable/user_guide/indexing.html#returning-a-view-versus-a-copy\n",
      "  df_benef['match_score'] = [match[1] if match else None for match in matches]\n",
      "/var/folders/ng/n9ng0wy92t90_49j662nh02c0000gn/T/ipykernel_45376/3519495578.py:18: SettingWithCopyWarning: \n",
      "A value is trying to be set on a copy of a slice from a DataFrame.\n",
      "Try using .loc[row_indexer,col_indexer] = value instead\n",
      "\n",
      "See the caveats in the documentation: https://pandas.pydata.org/pandas-docs/stable/user_guide/indexing.html#returning-a-view-versus-a-copy\n",
      "  df_benef['best_match'] = [match[0] if match else None for match in matches]\n",
      "/var/folders/ng/n9ng0wy92t90_49j662nh02c0000gn/T/ipykernel_45376/3519495578.py:20: SettingWithCopyWarning: \n",
      "A value is trying to be set on a copy of a slice from a DataFrame.\n",
      "Try using .loc[row_indexer,col_indexer] = value instead\n",
      "\n",
      "See the caveats in the documentation: https://pandas.pydata.org/pandas-docs/stable/user_guide/indexing.html#returning-a-view-versus-a-copy\n",
      "  df_benef['match_score'] = [match[1] if match else None for match in matches]\n",
      "/var/folders/ng/n9ng0wy92t90_49j662nh02c0000gn/T/ipykernel_45376/3519495578.py:18: SettingWithCopyWarning: \n",
      "A value is trying to be set on a copy of a slice from a DataFrame.\n",
      "Try using .loc[row_indexer,col_indexer] = value instead\n",
      "\n",
      "See the caveats in the documentation: https://pandas.pydata.org/pandas-docs/stable/user_guide/indexing.html#returning-a-view-versus-a-copy\n",
      "  df_benef['best_match'] = [match[0] if match else None for match in matches]\n",
      "/var/folders/ng/n9ng0wy92t90_49j662nh02c0000gn/T/ipykernel_45376/3519495578.py:20: SettingWithCopyWarning: \n",
      "A value is trying to be set on a copy of a slice from a DataFrame.\n",
      "Try using .loc[row_indexer,col_indexer] = value instead\n",
      "\n",
      "See the caveats in the documentation: https://pandas.pydata.org/pandas-docs/stable/user_guide/indexing.html#returning-a-view-versus-a-copy\n",
      "  df_benef['match_score'] = [match[1] if match else None for match in matches]\n"
     ]
    },
    {
     "data": {
      "text/plain": [
       "(406, 31)"
      ]
     },
     "execution_count": 55,
     "metadata": {},
     "output_type": "execute_result"
    }
   ],
   "source": [
    "Localidades_21_GUERRERO_parte_I = fuzzy_merge_benef2019_2022(Localidades_21_GUERRERO, INEGI_UNIQUELOC_2021_guerrero, 'KEY_benef_loc', 'KEY_inegi_localidad')\n",
    "Localidades_21_GUERRERO_parte_I.shape\n",
    "\n",
    "Localidades_21_PUEBLA_parte_I = fuzzy_merge_benef2019_2022(Localidades_21_PUEBLA, INEGI_UNIQUELOC_2021_puebla, 'KEY_benef_loc', 'KEY_inegi_localidad')\n",
    "Localidades_21_PUEBLA_parte_I.shape\n",
    "\n",
    "Localidades_21_MORELOS_parte_I = fuzzy_merge_benef2019_2022(Localidades_21_MORELOS, INEGI_UNIQUELOC_2021_morelos, 'KEY_benef_loc', 'KEY_inegi_localidad')\n",
    "Localidades_21_MORELOS_parte_I.shape\n",
    "\n",
    "Localidades_21_TLAXCALA_parte_I = fuzzy_merge_benef2019_2022(Localidades_21_TLAXCALA, INEGI_UNIQUELOC_2021_tlaxcala, 'KEY_benef_loc', 'KEY_inegi_localidad')\n",
    "Localidades_21_TLAXCALA_parte_I.shape"
   ]
  },
  {
   "cell_type": "code",
   "execution_count": 56,
   "metadata": {},
   "outputs": [
    {
     "data": {
      "text/plain": [
       "(5915, 31)"
      ]
     },
     "execution_count": 56,
     "metadata": {},
     "output_type": "execute_result"
    }
   ],
   "source": [
    "# Concatenate datasets vertically\n",
    "diccionario_LOC_21 = pd.concat([\n",
    "    Localidades_21_GUERRERO_parte_I,\n",
    "    Localidades_21_PUEBLA_parte_I,\n",
    "    Localidades_21_MORELOS_parte_I,\n",
    "    Localidades_21_TLAXCALA_parte_I\n",
    "], axis=0)\n",
    "\n",
    "# Check the shape of the concatenated DataFrame\n",
    "diccionario_LOC_21.shape"
   ]
  },
  {
   "cell_type": "code",
   "execution_count": 57,
   "metadata": {},
   "outputs": [
    {
     "data": {
      "text/plain": [
       "Index(['BENEFICIARIO', 'ZONA', 'ENTIDAD', 'MUNICIPIO', 'LOCALIDAD', 'PRODUCTO',\n",
       "       'FECHA', 'MONTO FEDERAL', 'CICLO AGRÍCOLA', 'KEY_benef_mun',\n",
       "       'CVE_ENT_x', 'Entidad_inegi_x', 'CVE_MUN_x', 'Municipio_inegi_x',\n",
       "       'ENTIDAD_c_benef', 'MUNICIPIO_c_benef', 'LOCALIDAD_c_benef',\n",
       "       'KEY_benef_loc', 'best_match', 'match_score', 'CVE_ENT_y',\n",
       "       'Entidad_inegi_y', 'CVE_MUN_y', 'Municipio_inegi_y', 'CVE_LOC',\n",
       "       'Localidad_inegi', 'POB_TOTAL', 'Entidad_c_inegi', 'Municipio_c_inegi',\n",
       "       'Localidad_c_inegi', 'KEY_inegi_localidad'],\n",
       "      dtype='object')"
      ]
     },
     "execution_count": 57,
     "metadata": {},
     "output_type": "execute_result"
    }
   ],
   "source": [
    "diccionario_LOC_21.columns"
   ]
  },
  {
   "cell_type": "code",
   "execution_count": 58,
   "metadata": {},
   "outputs": [],
   "source": [
    "diccionario_LOC_21.drop(columns=['BENEFICIARIO', 'ZONA', 'ENTIDAD', 'MUNICIPIO', 'LOCALIDAD', 'PRODUCTO',\n",
    "       'FECHA', 'MONTO FEDERAL', 'CICLO AGRÍCOLA', 'ENTIDAD_c_benef',\n",
    "       'MUNICIPIO_c_benef', 'LOCALIDAD_c_benef', 'best_match', 'CVE_ENT_x', 'Entidad_inegi_x', 'CVE_MUN_x', 'Municipio_inegi_x',\n",
    "       'CVE_LOC', 'Localidad_inegi', 'POB_TOTAL', 'Entidad_c_inegi',\n",
    "       'Municipio_c_inegi', 'Localidad_c_inegi', 'CVE_ENT_y', 'Entidad_inegi_y', 'CVE_MUN_y', 'Municipio_inegi_y', 'KEY_benef_mun'], inplace=True)"
   ]
  },
  {
   "cell_type": "code",
   "execution_count": 59,
   "metadata": {},
   "outputs": [
    {
     "data": {
      "text/plain": [
       "Index(['KEY_benef_loc', 'match_score', 'KEY_inegi_localidad'], dtype='object')"
      ]
     },
     "execution_count": 59,
     "metadata": {},
     "output_type": "execute_result"
    }
   ],
   "source": [
    "diccionario_LOC_21.columns"
   ]
  },
  {
   "cell_type": "code",
   "execution_count": 60,
   "metadata": {},
   "outputs": [],
   "source": [
    "diccionario_LOC_21.to_csv('../../data/productores_beneficiarios 2019-2022/diccionarios_E3/diccionario_LOC_21_simple.csv', index=False)"
   ]
  },
  {
   "cell_type": "code",
   "execution_count": 61,
   "metadata": {},
   "outputs": [
    {
     "data": {
      "text/plain": [
       "KEY_benef_loc          0\n",
       "match_score            0\n",
       "KEY_inegi_localidad    0\n",
       "dtype: int64"
      ]
     },
     "execution_count": 61,
     "metadata": {},
     "output_type": "execute_result"
    }
   ],
   "source": [
    "diccionario_LOC_21.isna().sum()"
   ]
  },
  {
   "cell_type": "markdown",
   "metadata": {},
   "source": [
    "# 4. Diccionarios de localidades y merge respectivos."
   ]
  },
  {
   "cell_type": "markdown",
   "metadata": {},
   "source": [
    "Empezamos leyendo el diccionario_LOC_21_simple, el cual solo tiene key_benef_mun y key_inegi_municipio manipulada."
   ]
  },
  {
   "cell_type": "code",
   "execution_count": 62,
   "metadata": {},
   "outputs": [
    {
     "name": "stdout",
     "output_type": "stream",
     "text": [
      "                      KEY_benef_loc  match_score  \\\n",
      "0    coyuca de benitez-pueblo viejo          100   \n",
      "1      coyuca de benitez-agua zarca          100   \n",
      "2    coyuca de benitez-yerbasantita          100   \n",
      "3  cutzamala de pinzon-limon grande          100   \n",
      "4                 arcelia-ixcatepec          100   \n",
      "\n",
      "                KEY_inegi_localidad  \n",
      "0    coyuca de benitez-pueblo viejo  \n",
      "1      coyuca de benitez-agua zarca  \n",
      "2    coyuca de benitez-yerbasantita  \n",
      "3  cutzamala de pinzon-limon grande  \n",
      "4                 arcelia-ixcatepec  \n"
     ]
    }
   ],
   "source": [
    "import pandas as pd\n",
    "\n",
    "# Intentar leer el archivo CSV con diferentes configuraciones de lectura\n",
    "try:\n",
    "    diccionario_LOC_21_simple = pd.read_csv('../../data/productores_beneficiarios 2019-2022/diccionarios_E3/diccionario_LOC_21_simple.csv', encoding='cp1252', \n",
    "                          delimiter=',')\n",
    "    #diccionario_LOC_21_simple.drop(columns=['ValidaciÃ³n', 'Propuesta'], inplace=True)\n",
    "    print(diccionario_LOC_21_simple.head())\n",
    "except pd.errors.ParserError as e:\n",
    "    print(\"Error al leer el archivo CSV:\", e)\n",
    "\n",
    "\n"
   ]
  },
  {
   "cell_type": "code",
   "execution_count": 63,
   "metadata": {},
   "outputs": [
    {
     "data": {
      "text/plain": [
       "Index(['KEY_benef_loc', 'match_score', 'KEY_inegi_localidad'], dtype='object')"
      ]
     },
     "execution_count": 63,
     "metadata": {},
     "output_type": "execute_result"
    }
   ],
   "source": [
    "diccionario_LOC_21_simple.columns"
   ]
  },
  {
   "cell_type": "code",
   "execution_count": 64,
   "metadata": {},
   "outputs": [],
   "source": [
    "diccionario_LOC_21_simple.rename(columns={'ï»¿KEY_benef_loc': 'KEY_benef_loc'}, inplace=True)"
   ]
  },
  {
   "cell_type": "code",
   "execution_count": 65,
   "metadata": {},
   "outputs": [
    {
     "data": {
      "text/plain": [
       "(5915, 3)"
      ]
     },
     "execution_count": 65,
     "metadata": {},
     "output_type": "execute_result"
    }
   ],
   "source": [
    "diccionario_LOC_21_simple.shape"
   ]
  },
  {
   "cell_type": "code",
   "execution_count": 66,
   "metadata": {},
   "outputs": [
    {
     "data": {
      "text/html": [
       "<div>\n",
       "<style scoped>\n",
       "    .dataframe tbody tr th:only-of-type {\n",
       "        vertical-align: middle;\n",
       "    }\n",
       "\n",
       "    .dataframe tbody tr th {\n",
       "        vertical-align: top;\n",
       "    }\n",
       "\n",
       "    .dataframe thead th {\n",
       "        text-align: right;\n",
       "    }\n",
       "</style>\n",
       "<table border=\"1\" class=\"dataframe\">\n",
       "  <thead>\n",
       "    <tr style=\"text-align: right;\">\n",
       "      <th></th>\n",
       "      <th>KEY_benef_loc</th>\n",
       "      <th>match_score</th>\n",
       "      <th>KEY_inegi_localidad</th>\n",
       "    </tr>\n",
       "  </thead>\n",
       "  <tbody>\n",
       "    <tr>\n",
       "      <th>5910</th>\n",
       "      <td>apetatitlan de antonio carvajal-san matias tep...</td>\n",
       "      <td>100</td>\n",
       "      <td>apetatitlan de antonio carvajal-san matias tep...</td>\n",
       "    </tr>\n",
       "    <tr>\n",
       "      <th>5911</th>\n",
       "      <td>espanita-la joya</td>\n",
       "      <td>100</td>\n",
       "      <td>espanita-la joya</td>\n",
       "    </tr>\n",
       "    <tr>\n",
       "      <th>5912</th>\n",
       "      <td>teolocholco-marcoxtla</td>\n",
       "      <td>95</td>\n",
       "      <td>teolocholco-teolocholco</td>\n",
       "    </tr>\n",
       "    <tr>\n",
       "      <th>5913</th>\n",
       "      <td>huamantla-el durazno</td>\n",
       "      <td>100</td>\n",
       "      <td>huamantla-el durazno</td>\n",
       "    </tr>\n",
       "    <tr>\n",
       "      <th>5914</th>\n",
       "      <td>contla de juan cuamatzi-ocotlan tepatlaxco</td>\n",
       "      <td>100</td>\n",
       "      <td>contla de juan cuamatzi-ocotlan tepatlaxco</td>\n",
       "    </tr>\n",
       "  </tbody>\n",
       "</table>\n",
       "</div>"
      ],
      "text/plain": [
       "                                          KEY_benef_loc  match_score  \\\n",
       "5910  apetatitlan de antonio carvajal-san matias tep...          100   \n",
       "5911                                   espanita-la joya          100   \n",
       "5912                              teolocholco-marcoxtla           95   \n",
       "5913                               huamantla-el durazno          100   \n",
       "5914         contla de juan cuamatzi-ocotlan tepatlaxco          100   \n",
       "\n",
       "                                    KEY_inegi_localidad  \n",
       "5910  apetatitlan de antonio carvajal-san matias tep...  \n",
       "5911                                   espanita-la joya  \n",
       "5912                            teolocholco-teolocholco  \n",
       "5913                               huamantla-el durazno  \n",
       "5914         contla de juan cuamatzi-ocotlan tepatlaxco  "
      ]
     },
     "execution_count": 66,
     "metadata": {},
     "output_type": "execute_result"
    }
   ],
   "source": [
    "diccionario_LOC_21_simple.tail()"
   ]
  },
  {
   "cell_type": "code",
   "execution_count": 67,
   "metadata": {},
   "outputs": [],
   "source": [
    "listado_beneficiarios_parte_II['MUNICIPIO_Clean'] = listado_beneficiarios_parte_II['MUNICIPIO'].apply(clean_text)\n",
    "listado_beneficiarios_parte_II['LOCALIDAD_Clean'] = listado_beneficiarios_parte_II['LOCALIDAD'].apply(clean_text)\n",
    "\n",
    "# Create KEY in listado beneficiarios\n",
    "listado_beneficiarios_parte_II['Municipio-loc-KEY'] = listado_beneficiarios_parte_II['MUNICIPIO_Clean'].astype(str) + '-' + listado_beneficiarios_parte_II[\n",
    "    'LOCALIDAD_Clean'].astype(str)"
   ]
  },
  {
   "cell_type": "markdown",
   "metadata": {},
   "source": [
    "Primer merge entre listado_beneficiarios_parte_II, y diccionario_LOC_22_simple. En este merge cogemos el dataset con los municipios corregidos previamente y ejecutamos el merge de manera que nos traemos las key_inegi_localidad corregidas."
   ]
  },
  {
   "cell_type": "code",
   "execution_count": 68,
   "metadata": {},
   "outputs": [
    {
     "data": {
      "text/plain": [
       "(394983, 17)"
      ]
     },
     "execution_count": 68,
     "metadata": {},
     "output_type": "execute_result"
    }
   ],
   "source": [
    "listado_beneficiarios_parte_II.shape"
   ]
  },
  {
   "cell_type": "code",
   "execution_count": 69,
   "metadata": {},
   "outputs": [],
   "source": [
    "listado_beneficiarios_parte_II = listado_beneficiarios_parte_II.drop_duplicates()"
   ]
  },
  {
   "cell_type": "code",
   "execution_count": 70,
   "metadata": {},
   "outputs": [
    {
     "data": {
      "text/plain": [
       "(394855, 17)"
      ]
     },
     "execution_count": 70,
     "metadata": {},
     "output_type": "execute_result"
    }
   ],
   "source": [
    "listado_beneficiarios_parte_II.shape"
   ]
  },
  {
   "cell_type": "code",
   "execution_count": 71,
   "metadata": {},
   "outputs": [],
   "source": [
    "INEGI_UNIQUELOC_2021 = dataset_inegi_2021.drop(columns=['Entidad_c_inegi', 'Municipio_c_inegi',\n",
    "       'Localidad_c_inegi', 'POB_TOTAL'])\n",
    "INEGI_UNIQUELOC_2021 = INEGI_UNIQUELOC_2021.drop_duplicates(subset='KEY_inegi_localidad', keep='first')"
   ]
  },
  {
   "cell_type": "code",
   "execution_count": 72,
   "metadata": {},
   "outputs": [
    {
     "data": {
      "text/plain": [
       "Index(['CVE_ENT', 'Entidad_inegi', 'CVE_MUN', 'Municipio_inegi', 'CVE_LOC',\n",
       "       'Localidad_inegi', 'KEY_inegi_municipio', 'KEY_inegi_localidad'],\n",
       "      dtype='object')"
      ]
     },
     "execution_count": 72,
     "metadata": {},
     "output_type": "execute_result"
    }
   ],
   "source": [
    "INEGI_UNIQUELOC_2021.columns"
   ]
  },
  {
   "cell_type": "code",
   "execution_count": 73,
   "metadata": {},
   "outputs": [],
   "source": [
    "listado_beneficiarios_parte_II['Municipio-loc-KEY'] = listado_beneficiarios_parte_II['Municipio-loc-KEY'].str.strip().str.lower()\n",
    "diccionario_LOC_21_simple['KEY_benef_loc'] = diccionario_LOC_21_simple['KEY_benef_loc'].str.strip().str.lower()\n",
    "\n",
    "# Asegurar que las keys son del mismo tipo\n",
    "listado_beneficiarios_parte_II['Municipio-loc-KEY'] = listado_beneficiarios_parte_II['Municipio-loc-KEY'].astype(str)\n",
    "diccionario_LOC_21_simple['KEY_benef_loc'] = diccionario_LOC_21_simple['KEY_benef_loc'].astype(str)"
   ]
  },
  {
   "cell_type": "code",
   "execution_count": 74,
   "metadata": {},
   "outputs": [],
   "source": [
    "# Hacer el join de la Parte I\n",
    "listado_beneficiarios_parte_I_localidades = pd.merge(listado_beneficiarios_parte_II, diccionario_LOC_21_simple, left_on=\"Municipio-loc-KEY\",\n",
    "                                         right_on=\"KEY_benef_loc\", how='left', suffixes=('_benef', '_inegi'))"
   ]
  },
  {
   "cell_type": "code",
   "execution_count": 75,
   "metadata": {},
   "outputs": [
    {
     "data": {
      "text/plain": [
       "(394925, 20)"
      ]
     },
     "execution_count": 75,
     "metadata": {},
     "output_type": "execute_result"
    }
   ],
   "source": [
    "listado_beneficiarios_parte_I_localidades.shape"
   ]
  },
  {
   "cell_type": "code",
   "execution_count": 76,
   "metadata": {},
   "outputs": [],
   "source": [
    "# Marcar todos los duplicados en las columnas 'columna1' y 'columna2' como True\n",
    "duplicados = listado_beneficiarios_parte_I_localidades.duplicated()\n",
    "\n",
    "# Filtrar el DataFrame original para mostrar solo los duplicados\n",
    "df_duplicados = listado_beneficiarios_parte_I_localidades[duplicados]"
   ]
  },
  {
   "cell_type": "code",
   "execution_count": 77,
   "metadata": {},
   "outputs": [
    {
     "data": {
      "text/html": [
       "<div>\n",
       "<style scoped>\n",
       "    .dataframe tbody tr th:only-of-type {\n",
       "        vertical-align: middle;\n",
       "    }\n",
       "\n",
       "    .dataframe tbody tr th {\n",
       "        vertical-align: top;\n",
       "    }\n",
       "\n",
       "    .dataframe thead th {\n",
       "        text-align: right;\n",
       "    }\n",
       "</style>\n",
       "<table border=\"1\" class=\"dataframe\">\n",
       "  <thead>\n",
       "    <tr style=\"text-align: right;\">\n",
       "      <th></th>\n",
       "      <th>BENEFICIARIO</th>\n",
       "      <th>ZONA</th>\n",
       "      <th>ENTIDAD</th>\n",
       "      <th>MUNICIPIO</th>\n",
       "      <th>LOCALIDAD</th>\n",
       "      <th>PRODUCTO</th>\n",
       "      <th>FECHA</th>\n",
       "      <th>MONTO FEDERAL</th>\n",
       "      <th>CICLO AGRÍCOLA</th>\n",
       "      <th>KEY_benef_mun</th>\n",
       "      <th>CVE_ENT</th>\n",
       "      <th>Entidad_inegi</th>\n",
       "      <th>CVE_MUN</th>\n",
       "      <th>Municipio_inegi</th>\n",
       "      <th>MUNICIPIO_Clean</th>\n",
       "      <th>LOCALIDAD_Clean</th>\n",
       "      <th>Municipio-loc-KEY</th>\n",
       "      <th>KEY_benef_loc</th>\n",
       "      <th>match_score</th>\n",
       "      <th>KEY_inegi_localidad</th>\n",
       "    </tr>\n",
       "  </thead>\n",
       "  <tbody>\n",
       "    <tr>\n",
       "      <th>22181</th>\n",
       "      <td>ARGUELLO LOPEZ ERNESTO</td>\n",
       "      <td>CENTRO PAÍS</td>\n",
       "      <td>PUEBLA</td>\n",
       "      <td>QUIMIXTLÁN</td>\n",
       "      <td>QUIMIXTLÁN</td>\n",
       "      <td>Cultivo de maíz elotero</td>\n",
       "      <td>2021-11-11</td>\n",
       "      <td>8677.18</td>\n",
       "      <td>PV2021</td>\n",
       "      <td>puebla-quimixtlan</td>\n",
       "      <td>21</td>\n",
       "      <td>Puebla</td>\n",
       "      <td>116</td>\n",
       "      <td>Quimixtlán</td>\n",
       "      <td>quimixtlan</td>\n",
       "      <td>quimixtlan</td>\n",
       "      <td>quimixtlan-quimixtlan</td>\n",
       "      <td>quimixtlan-quimixtlan</td>\n",
       "      <td>100</td>\n",
       "      <td>quimixtlan-quimixtlan</td>\n",
       "    </tr>\n",
       "    <tr>\n",
       "      <th>44248</th>\n",
       "      <td>BONIFACIO ELOTL VICENTE</td>\n",
       "      <td>CENTRO PAÍS</td>\n",
       "      <td>PUEBLA</td>\n",
       "      <td>QUIMIXTLÁN</td>\n",
       "      <td>QUIMIXTLÁN</td>\n",
       "      <td>Cultivo de maíz elotero</td>\n",
       "      <td>2021-11-11</td>\n",
       "      <td>4338.59</td>\n",
       "      <td>PV2021</td>\n",
       "      <td>puebla-quimixtlan</td>\n",
       "      <td>21</td>\n",
       "      <td>Puebla</td>\n",
       "      <td>116</td>\n",
       "      <td>Quimixtlán</td>\n",
       "      <td>quimixtlan</td>\n",
       "      <td>quimixtlan</td>\n",
       "      <td>quimixtlan-quimixtlan</td>\n",
       "      <td>quimixtlan-quimixtlan</td>\n",
       "      <td>100</td>\n",
       "      <td>quimixtlan-quimixtlan</td>\n",
       "    </tr>\n",
       "    <tr>\n",
       "      <th>44250</th>\n",
       "      <td>BONIFACIO ELOX JOSE SALVADOR</td>\n",
       "      <td>CENTRO PAÍS</td>\n",
       "      <td>PUEBLA</td>\n",
       "      <td>QUIMIXTLÁN</td>\n",
       "      <td>QUIMIXTLÁN</td>\n",
       "      <td>Cultivo de maíz elotero</td>\n",
       "      <td>2021-11-11</td>\n",
       "      <td>8677.18</td>\n",
       "      <td>PV2021</td>\n",
       "      <td>puebla-quimixtlan</td>\n",
       "      <td>21</td>\n",
       "      <td>Puebla</td>\n",
       "      <td>116</td>\n",
       "      <td>Quimixtlán</td>\n",
       "      <td>quimixtlan</td>\n",
       "      <td>quimixtlan</td>\n",
       "      <td>quimixtlan-quimixtlan</td>\n",
       "      <td>quimixtlan-quimixtlan</td>\n",
       "      <td>100</td>\n",
       "      <td>quimixtlan-quimixtlan</td>\n",
       "    </tr>\n",
       "    <tr>\n",
       "      <th>44309</th>\n",
       "      <td>BONIFACIO LUNA JOSE PEDRO</td>\n",
       "      <td>CENTRO PAÍS</td>\n",
       "      <td>PUEBLA</td>\n",
       "      <td>QUIMIXTLÁN</td>\n",
       "      <td>QUIMIXTLÁN</td>\n",
       "      <td>Cultivo de maíz elotero</td>\n",
       "      <td>2021-11-11</td>\n",
       "      <td>4338.59</td>\n",
       "      <td>PV2021</td>\n",
       "      <td>puebla-quimixtlan</td>\n",
       "      <td>21</td>\n",
       "      <td>Puebla</td>\n",
       "      <td>116</td>\n",
       "      <td>Quimixtlán</td>\n",
       "      <td>quimixtlan</td>\n",
       "      <td>quimixtlan</td>\n",
       "      <td>quimixtlan-quimixtlan</td>\n",
       "      <td>quimixtlan-quimixtlan</td>\n",
       "      <td>100</td>\n",
       "      <td>quimixtlan-quimixtlan</td>\n",
       "    </tr>\n",
       "    <tr>\n",
       "      <th>47895</th>\n",
       "      <td>CABALLERO OCHOA ANGEL</td>\n",
       "      <td>CENTRO PAÍS</td>\n",
       "      <td>PUEBLA</td>\n",
       "      <td>QUIMIXTLÁN</td>\n",
       "      <td>QUIMIXTLÁN</td>\n",
       "      <td>Cultivo de maíz elotero</td>\n",
       "      <td>2021-11-11</td>\n",
       "      <td>8677.18</td>\n",
       "      <td>PV2021</td>\n",
       "      <td>puebla-quimixtlan</td>\n",
       "      <td>21</td>\n",
       "      <td>Puebla</td>\n",
       "      <td>116</td>\n",
       "      <td>Quimixtlán</td>\n",
       "      <td>quimixtlan</td>\n",
       "      <td>quimixtlan</td>\n",
       "      <td>quimixtlan-quimixtlan</td>\n",
       "      <td>quimixtlan-quimixtlan</td>\n",
       "      <td>100</td>\n",
       "      <td>quimixtlan-quimixtlan</td>\n",
       "    </tr>\n",
       "    <tr>\n",
       "      <th>...</th>\n",
       "      <td>...</td>\n",
       "      <td>...</td>\n",
       "      <td>...</td>\n",
       "      <td>...</td>\n",
       "      <td>...</td>\n",
       "      <td>...</td>\n",
       "      <td>...</td>\n",
       "      <td>...</td>\n",
       "      <td>...</td>\n",
       "      <td>...</td>\n",
       "      <td>...</td>\n",
       "      <td>...</td>\n",
       "      <td>...</td>\n",
       "      <td>...</td>\n",
       "      <td>...</td>\n",
       "      <td>...</td>\n",
       "      <td>...</td>\n",
       "      <td>...</td>\n",
       "      <td>...</td>\n",
       "      <td>...</td>\n",
       "    </tr>\n",
       "    <tr>\n",
       "      <th>339133</th>\n",
       "      <td>SANCHEZ PERALTA ELISEO AGUSTIN</td>\n",
       "      <td>CENTRO PAÍS</td>\n",
       "      <td>PUEBLA</td>\n",
       "      <td>QUIMIXTLÁN</td>\n",
       "      <td>QUIMIXTLÁN</td>\n",
       "      <td>Cultivo de maíz elotero</td>\n",
       "      <td>2021-11-11</td>\n",
       "      <td>8677.18</td>\n",
       "      <td>PV2021</td>\n",
       "      <td>puebla-quimixtlan</td>\n",
       "      <td>21</td>\n",
       "      <td>Puebla</td>\n",
       "      <td>116</td>\n",
       "      <td>Quimixtlán</td>\n",
       "      <td>quimixtlan</td>\n",
       "      <td>quimixtlan</td>\n",
       "      <td>quimixtlan-quimixtlan</td>\n",
       "      <td>quimixtlan-quimixtlan</td>\n",
       "      <td>100</td>\n",
       "      <td>quimixtlan-quimixtlan</td>\n",
       "    </tr>\n",
       "    <tr>\n",
       "      <th>339137</th>\n",
       "      <td>SANCHEZ PERALTA JACOBO MAURO</td>\n",
       "      <td>CENTRO PAÍS</td>\n",
       "      <td>PUEBLA</td>\n",
       "      <td>QUIMIXTLÁN</td>\n",
       "      <td>QUIMIXTLÁN</td>\n",
       "      <td>Cultivo de maíz elotero</td>\n",
       "      <td>2021-11-11</td>\n",
       "      <td>8677.18</td>\n",
       "      <td>PV2021</td>\n",
       "      <td>puebla-quimixtlan</td>\n",
       "      <td>21</td>\n",
       "      <td>Puebla</td>\n",
       "      <td>116</td>\n",
       "      <td>Quimixtlán</td>\n",
       "      <td>quimixtlan</td>\n",
       "      <td>quimixtlan</td>\n",
       "      <td>quimixtlan-quimixtlan</td>\n",
       "      <td>quimixtlan-quimixtlan</td>\n",
       "      <td>100</td>\n",
       "      <td>quimixtlan-quimixtlan</td>\n",
       "    </tr>\n",
       "    <tr>\n",
       "      <th>365385</th>\n",
       "      <td>TORRES CARICIO MIRIAM GIANELY</td>\n",
       "      <td>CENTRO PAÍS</td>\n",
       "      <td>PUEBLA</td>\n",
       "      <td>QUIMIXTLÁN</td>\n",
       "      <td>QUIMIXTLÁN</td>\n",
       "      <td>Cultivo de maíz elotero</td>\n",
       "      <td>2021-11-11</td>\n",
       "      <td>4338.59</td>\n",
       "      <td>PV2021</td>\n",
       "      <td>puebla-quimixtlan</td>\n",
       "      <td>21</td>\n",
       "      <td>Puebla</td>\n",
       "      <td>116</td>\n",
       "      <td>Quimixtlán</td>\n",
       "      <td>quimixtlan</td>\n",
       "      <td>quimixtlan</td>\n",
       "      <td>quimixtlan-quimixtlan</td>\n",
       "      <td>quimixtlan-quimixtlan</td>\n",
       "      <td>100</td>\n",
       "      <td>quimixtlan-quimixtlan</td>\n",
       "    </tr>\n",
       "    <tr>\n",
       "      <th>367544</th>\n",
       "      <td>TOXQUI OCHOA MARIA LUCIA</td>\n",
       "      <td>CENTRO PAÍS</td>\n",
       "      <td>PUEBLA</td>\n",
       "      <td>QUIMIXTLÁN</td>\n",
       "      <td>QUIMIXTLÁN</td>\n",
       "      <td>Cultivo de maíz elotero</td>\n",
       "      <td>2021-11-11</td>\n",
       "      <td>8677.18</td>\n",
       "      <td>PV2021</td>\n",
       "      <td>puebla-quimixtlan</td>\n",
       "      <td>21</td>\n",
       "      <td>Puebla</td>\n",
       "      <td>116</td>\n",
       "      <td>Quimixtlán</td>\n",
       "      <td>quimixtlan</td>\n",
       "      <td>quimixtlan</td>\n",
       "      <td>quimixtlan-quimixtlan</td>\n",
       "      <td>quimixtlan-quimixtlan</td>\n",
       "      <td>100</td>\n",
       "      <td>quimixtlan-quimixtlan</td>\n",
       "    </tr>\n",
       "    <tr>\n",
       "      <th>367546</th>\n",
       "      <td>TOXQUI OCHOA ROGELIO MIGUEL</td>\n",
       "      <td>CENTRO PAÍS</td>\n",
       "      <td>PUEBLA</td>\n",
       "      <td>QUIMIXTLÁN</td>\n",
       "      <td>QUIMIXTLÁN</td>\n",
       "      <td>Cultivo de maíz elotero</td>\n",
       "      <td>2021-11-17</td>\n",
       "      <td>4338.59</td>\n",
       "      <td>PV2021</td>\n",
       "      <td>puebla-quimixtlan</td>\n",
       "      <td>21</td>\n",
       "      <td>Puebla</td>\n",
       "      <td>116</td>\n",
       "      <td>Quimixtlán</td>\n",
       "      <td>quimixtlan</td>\n",
       "      <td>quimixtlan</td>\n",
       "      <td>quimixtlan-quimixtlan</td>\n",
       "      <td>quimixtlan-quimixtlan</td>\n",
       "      <td>100</td>\n",
       "      <td>quimixtlan-quimixtlan</td>\n",
       "    </tr>\n",
       "  </tbody>\n",
       "</table>\n",
       "<p>70 rows × 20 columns</p>\n",
       "</div>"
      ],
      "text/plain": [
       "                           BENEFICIARIO         ZONA ENTIDAD   MUNICIPIO  \\\n",
       "22181           ARGUELLO LOPEZ ERNESTO   CENTRO PAÍS  PUEBLA  QUIMIXTLÁN   \n",
       "44248          BONIFACIO ELOTL VICENTE   CENTRO PAÍS  PUEBLA  QUIMIXTLÁN   \n",
       "44250     BONIFACIO ELOX JOSE SALVADOR   CENTRO PAÍS  PUEBLA  QUIMIXTLÁN   \n",
       "44309        BONIFACIO LUNA JOSE PEDRO   CENTRO PAÍS  PUEBLA  QUIMIXTLÁN   \n",
       "47895            CABALLERO OCHOA ANGEL   CENTRO PAÍS  PUEBLA  QUIMIXTLÁN   \n",
       "...                                 ...          ...     ...         ...   \n",
       "339133  SANCHEZ PERALTA ELISEO AGUSTIN   CENTRO PAÍS  PUEBLA  QUIMIXTLÁN   \n",
       "339137    SANCHEZ PERALTA JACOBO MAURO   CENTRO PAÍS  PUEBLA  QUIMIXTLÁN   \n",
       "365385   TORRES CARICIO MIRIAM GIANELY   CENTRO PAÍS  PUEBLA  QUIMIXTLÁN   \n",
       "367544        TOXQUI OCHOA MARIA LUCIA   CENTRO PAÍS  PUEBLA  QUIMIXTLÁN   \n",
       "367546     TOXQUI OCHOA ROGELIO MIGUEL   CENTRO PAÍS  PUEBLA  QUIMIXTLÁN   \n",
       "\n",
       "         LOCALIDAD                 PRODUCTO       FECHA  MONTO FEDERAL  \\\n",
       "22181   QUIMIXTLÁN  Cultivo de maíz elotero  2021-11-11        8677.18   \n",
       "44248   QUIMIXTLÁN  Cultivo de maíz elotero  2021-11-11        4338.59   \n",
       "44250   QUIMIXTLÁN  Cultivo de maíz elotero  2021-11-11        8677.18   \n",
       "44309   QUIMIXTLÁN  Cultivo de maíz elotero  2021-11-11        4338.59   \n",
       "47895   QUIMIXTLÁN  Cultivo de maíz elotero  2021-11-11        8677.18   \n",
       "...            ...                      ...         ...            ...   \n",
       "339133  QUIMIXTLÁN  Cultivo de maíz elotero  2021-11-11        8677.18   \n",
       "339137  QUIMIXTLÁN  Cultivo de maíz elotero  2021-11-11        8677.18   \n",
       "365385  QUIMIXTLÁN  Cultivo de maíz elotero  2021-11-11        4338.59   \n",
       "367544  QUIMIXTLÁN  Cultivo de maíz elotero  2021-11-11        8677.18   \n",
       "367546  QUIMIXTLÁN  Cultivo de maíz elotero  2021-11-17        4338.59   \n",
       "\n",
       "       CICLO AGRÍCOLA      KEY_benef_mun  CVE_ENT Entidad_inegi  CVE_MUN  \\\n",
       "22181          PV2021  puebla-quimixtlan       21        Puebla      116   \n",
       "44248          PV2021  puebla-quimixtlan       21        Puebla      116   \n",
       "44250          PV2021  puebla-quimixtlan       21        Puebla      116   \n",
       "44309          PV2021  puebla-quimixtlan       21        Puebla      116   \n",
       "47895          PV2021  puebla-quimixtlan       21        Puebla      116   \n",
       "...               ...                ...      ...           ...      ...   \n",
       "339133         PV2021  puebla-quimixtlan       21        Puebla      116   \n",
       "339137         PV2021  puebla-quimixtlan       21        Puebla      116   \n",
       "365385         PV2021  puebla-quimixtlan       21        Puebla      116   \n",
       "367544         PV2021  puebla-quimixtlan       21        Puebla      116   \n",
       "367546         PV2021  puebla-quimixtlan       21        Puebla      116   \n",
       "\n",
       "       Municipio_inegi MUNICIPIO_Clean LOCALIDAD_Clean      Municipio-loc-KEY  \\\n",
       "22181       Quimixtlán      quimixtlan      quimixtlan  quimixtlan-quimixtlan   \n",
       "44248       Quimixtlán      quimixtlan      quimixtlan  quimixtlan-quimixtlan   \n",
       "44250       Quimixtlán      quimixtlan      quimixtlan  quimixtlan-quimixtlan   \n",
       "44309       Quimixtlán      quimixtlan      quimixtlan  quimixtlan-quimixtlan   \n",
       "47895       Quimixtlán      quimixtlan      quimixtlan  quimixtlan-quimixtlan   \n",
       "...                ...             ...             ...                    ...   \n",
       "339133      Quimixtlán      quimixtlan      quimixtlan  quimixtlan-quimixtlan   \n",
       "339137      Quimixtlán      quimixtlan      quimixtlan  quimixtlan-quimixtlan   \n",
       "365385      Quimixtlán      quimixtlan      quimixtlan  quimixtlan-quimixtlan   \n",
       "367544      Quimixtlán      quimixtlan      quimixtlan  quimixtlan-quimixtlan   \n",
       "367546      Quimixtlán      quimixtlan      quimixtlan  quimixtlan-quimixtlan   \n",
       "\n",
       "                KEY_benef_loc  match_score    KEY_inegi_localidad  \n",
       "22181   quimixtlan-quimixtlan          100  quimixtlan-quimixtlan  \n",
       "44248   quimixtlan-quimixtlan          100  quimixtlan-quimixtlan  \n",
       "44250   quimixtlan-quimixtlan          100  quimixtlan-quimixtlan  \n",
       "44309   quimixtlan-quimixtlan          100  quimixtlan-quimixtlan  \n",
       "47895   quimixtlan-quimixtlan          100  quimixtlan-quimixtlan  \n",
       "...                       ...          ...                    ...  \n",
       "339133  quimixtlan-quimixtlan          100  quimixtlan-quimixtlan  \n",
       "339137  quimixtlan-quimixtlan          100  quimixtlan-quimixtlan  \n",
       "365385  quimixtlan-quimixtlan          100  quimixtlan-quimixtlan  \n",
       "367544  quimixtlan-quimixtlan          100  quimixtlan-quimixtlan  \n",
       "367546  quimixtlan-quimixtlan          100  quimixtlan-quimixtlan  \n",
       "\n",
       "[70 rows x 20 columns]"
      ]
     },
     "execution_count": 77,
     "metadata": {},
     "output_type": "execute_result"
    }
   ],
   "source": [
    "df_duplicados"
   ]
  },
  {
   "cell_type": "code",
   "execution_count": 78,
   "metadata": {},
   "outputs": [],
   "source": [
    "listado_beneficiarios_parte_I_localidades.drop_duplicates(keep='first', inplace=True)"
   ]
  },
  {
   "cell_type": "code",
   "execution_count": 79,
   "metadata": {},
   "outputs": [
    {
     "data": {
      "text/plain": [
       "(394855, 20)"
      ]
     },
     "execution_count": 79,
     "metadata": {},
     "output_type": "execute_result"
    }
   ],
   "source": [
    "listado_beneficiarios_parte_I_localidades.shape"
   ]
  },
  {
   "cell_type": "code",
   "execution_count": 80,
   "metadata": {},
   "outputs": [],
   "source": [
    "# Marcar todos los duplicados en las columnas 'columna1' y 'columna2' como True\n",
    "duplicados = listado_beneficiarios_parte_I_localidades.duplicated()\n",
    "\n",
    "# Filtrar el DataFrame original para mostrar solo los duplicados\n",
    "df_duplicados = listado_beneficiarios_parte_I_localidades[duplicados]"
   ]
  },
  {
   "cell_type": "code",
   "execution_count": 81,
   "metadata": {},
   "outputs": [
    {
     "data": {
      "text/plain": [
       "(394855, 20)"
      ]
     },
     "execution_count": 81,
     "metadata": {},
     "output_type": "execute_result"
    }
   ],
   "source": [
    "listado_beneficiarios_parte_I_localidades.shape"
   ]
  },
  {
   "cell_type": "code",
   "execution_count": 82,
   "metadata": {},
   "outputs": [
    {
     "data": {
      "text/plain": [
       "Index(['CVE_ENT', 'Entidad_inegi', 'CVE_MUN', 'Municipio_inegi', 'CVE_LOC',\n",
       "       'Localidad_inegi', 'POB_TOTAL', 'Entidad_c_inegi', 'Municipio_c_inegi',\n",
       "       'Localidad_c_inegi', 'KEY_inegi_municipio', 'KEY_inegi_localidad'],\n",
       "      dtype='object')"
      ]
     },
     "execution_count": 82,
     "metadata": {},
     "output_type": "execute_result"
    }
   ],
   "source": [
    "dataset_inegi_2021.columns"
   ]
  },
  {
   "cell_type": "code",
   "execution_count": 83,
   "metadata": {},
   "outputs": [
    {
     "data": {
      "text/plain": [
       "Index(['BENEFICIARIO', 'ZONA', 'ENTIDAD', 'MUNICIPIO', 'LOCALIDAD', 'PRODUCTO',\n",
       "       'FECHA', 'MONTO FEDERAL', 'CICLO AGRÍCOLA', 'KEY_benef_mun', 'CVE_ENT',\n",
       "       'Entidad_inegi', 'CVE_MUN', 'Municipio_inegi', 'MUNICIPIO_Clean',\n",
       "       'LOCALIDAD_Clean', 'Municipio-loc-KEY', 'KEY_benef_loc', 'match_score',\n",
       "       'KEY_inegi_localidad'],\n",
       "      dtype='object')"
      ]
     },
     "execution_count": 83,
     "metadata": {},
     "output_type": "execute_result"
    }
   ],
   "source": [
    "listado_beneficiarios_parte_I_localidades.columns"
   ]
  },
  {
   "cell_type": "code",
   "execution_count": 84,
   "metadata": {},
   "outputs": [
    {
     "data": {
      "text/plain": [
       "BENEFICIARIO           0\n",
       "ZONA                   0\n",
       "ENTIDAD                0\n",
       "MUNICIPIO              0\n",
       "LOCALIDAD              0\n",
       "PRODUCTO               0\n",
       "FECHA                  0\n",
       "MONTO FEDERAL          0\n",
       "CICLO AGRÍCOLA         0\n",
       "KEY_benef_mun          0\n",
       "CVE_ENT                0\n",
       "Entidad_inegi          0\n",
       "CVE_MUN                0\n",
       "Municipio_inegi        0\n",
       "MUNICIPIO_Clean        0\n",
       "LOCALIDAD_Clean        0\n",
       "Municipio-loc-KEY      0\n",
       "KEY_benef_loc          0\n",
       "match_score            0\n",
       "KEY_inegi_localidad    0\n",
       "dtype: int64"
      ]
     },
     "execution_count": 84,
     "metadata": {},
     "output_type": "execute_result"
    }
   ],
   "source": [
    "listado_beneficiarios_parte_I_localidades.isna().sum()"
   ]
  },
  {
   "cell_type": "code",
   "execution_count": 85,
   "metadata": {},
   "outputs": [],
   "source": [
    "# Assuming listado_beneficiarios_parte_II is your DataFrame\n",
    "rows_with_nan = listado_beneficiarios_parte_I_localidades[listado_beneficiarios_parte_I_localidades.isna().any(axis=1)]\n",
    "\n",
    "# rows_with_nan now contains only the rows with NaN values in any column"
   ]
  },
  {
   "cell_type": "code",
   "execution_count": 86,
   "metadata": {},
   "outputs": [
    {
     "data": {
      "text/html": [
       "<div>\n",
       "<style scoped>\n",
       "    .dataframe tbody tr th:only-of-type {\n",
       "        vertical-align: middle;\n",
       "    }\n",
       "\n",
       "    .dataframe tbody tr th {\n",
       "        vertical-align: top;\n",
       "    }\n",
       "\n",
       "    .dataframe thead th {\n",
       "        text-align: right;\n",
       "    }\n",
       "</style>\n",
       "<table border=\"1\" class=\"dataframe\">\n",
       "  <thead>\n",
       "    <tr style=\"text-align: right;\">\n",
       "      <th></th>\n",
       "      <th>BENEFICIARIO</th>\n",
       "      <th>ZONA</th>\n",
       "      <th>ENTIDAD</th>\n",
       "      <th>MUNICIPIO</th>\n",
       "      <th>LOCALIDAD</th>\n",
       "      <th>PRODUCTO</th>\n",
       "      <th>FECHA</th>\n",
       "      <th>MONTO FEDERAL</th>\n",
       "      <th>CICLO AGRÍCOLA</th>\n",
       "      <th>KEY_benef_mun</th>\n",
       "      <th>CVE_ENT</th>\n",
       "      <th>Entidad_inegi</th>\n",
       "      <th>CVE_MUN</th>\n",
       "      <th>Municipio_inegi</th>\n",
       "      <th>MUNICIPIO_Clean</th>\n",
       "      <th>LOCALIDAD_Clean</th>\n",
       "      <th>Municipio-loc-KEY</th>\n",
       "      <th>KEY_benef_loc</th>\n",
       "      <th>match_score</th>\n",
       "      <th>KEY_inegi_localidad</th>\n",
       "    </tr>\n",
       "  </thead>\n",
       "  <tbody>\n",
       "  </tbody>\n",
       "</table>\n",
       "</div>"
      ],
      "text/plain": [
       "Empty DataFrame\n",
       "Columns: [BENEFICIARIO, ZONA, ENTIDAD, MUNICIPIO, LOCALIDAD, PRODUCTO, FECHA, MONTO FEDERAL, CICLO AGRÍCOLA, KEY_benef_mun, CVE_ENT, Entidad_inegi, CVE_MUN, Municipio_inegi, MUNICIPIO_Clean, LOCALIDAD_Clean, Municipio-loc-KEY, KEY_benef_loc, match_score, KEY_inegi_localidad]\n",
       "Index: []"
      ]
     },
     "execution_count": 86,
     "metadata": {},
     "output_type": "execute_result"
    }
   ],
   "source": [
    "rows_with_nan"
   ]
  },
  {
   "cell_type": "code",
   "execution_count": 87,
   "metadata": {},
   "outputs": [
    {
     "name": "stdout",
     "output_type": "stream",
     "text": [
      "389001\n",
      "0\n"
     ]
    }
   ],
   "source": [
    "print(listado_beneficiarios_parte_I_localidades['KEY_inegi_localidad'].duplicated().sum())\n",
    "print(INEGI_UNIQUELOC_2021['KEY_inegi_localidad'].duplicated().sum())"
   ]
  },
  {
   "cell_type": "code",
   "execution_count": 88,
   "metadata": {},
   "outputs": [
    {
     "data": {
      "text/plain": [
       "Index(['BENEFICIARIO', 'ZONA', 'ENTIDAD', 'MUNICIPIO', 'LOCALIDAD', 'PRODUCTO',\n",
       "       'FECHA', 'MONTO FEDERAL', 'CICLO AGRÍCOLA', 'KEY_benef_mun', 'CVE_ENT',\n",
       "       'Entidad_inegi', 'CVE_MUN', 'Municipio_inegi', 'MUNICIPIO_Clean',\n",
       "       'LOCALIDAD_Clean', 'Municipio-loc-KEY', 'KEY_benef_loc', 'match_score',\n",
       "       'KEY_inegi_localidad'],\n",
       "      dtype='object')"
      ]
     },
     "execution_count": 88,
     "metadata": {},
     "output_type": "execute_result"
    }
   ],
   "source": [
    "listado_beneficiarios_parte_I_localidades.columns"
   ]
  },
  {
   "cell_type": "code",
   "execution_count": 89,
   "metadata": {},
   "outputs": [
    {
     "data": {
      "text/plain": [
       "(394855, 20)"
      ]
     },
     "execution_count": 89,
     "metadata": {},
     "output_type": "execute_result"
    }
   ],
   "source": [
    "listado_beneficiarios_parte_I_localidades.shape"
   ]
  },
  {
   "cell_type": "code",
   "execution_count": 90,
   "metadata": {},
   "outputs": [
    {
     "data": {
      "text/plain": [
       "Index(['CVE_ENT', 'Entidad_inegi', 'CVE_MUN', 'Municipio_inegi', 'CVE_LOC',\n",
       "       'Localidad_inegi', 'KEY_inegi_municipio', 'KEY_inegi_localidad'],\n",
       "      dtype='object')"
      ]
     },
     "execution_count": 90,
     "metadata": {},
     "output_type": "execute_result"
    }
   ],
   "source": [
    "INEGI_UNIQUELOC_2021.columns"
   ]
  },
  {
   "cell_type": "code",
   "execution_count": 91,
   "metadata": {},
   "outputs": [
    {
     "data": {
      "text/plain": [
       "CVE_ENT                    32\n",
       "Entidad_inegi              32\n",
       "CVE_MUN                   570\n",
       "Municipio_inegi          2327\n",
       "CVE_LOC                  5375\n",
       "Localidad_inegi        149296\n",
       "KEY_inegi_municipio      2467\n",
       "KEY_inegi_localidad    272135\n",
       "dtype: int64"
      ]
     },
     "execution_count": 91,
     "metadata": {},
     "output_type": "execute_result"
    }
   ],
   "source": [
    "INEGI_UNIQUELOC_2021.nunique()"
   ]
  },
  {
   "cell_type": "code",
   "execution_count": 92,
   "metadata": {},
   "outputs": [
    {
     "data": {
      "text/html": [
       "<div>\n",
       "<style scoped>\n",
       "    .dataframe tbody tr th:only-of-type {\n",
       "        vertical-align: middle;\n",
       "    }\n",
       "\n",
       "    .dataframe tbody tr th {\n",
       "        vertical-align: top;\n",
       "    }\n",
       "\n",
       "    .dataframe thead th {\n",
       "        text-align: right;\n",
       "    }\n",
       "</style>\n",
       "<table border=\"1\" class=\"dataframe\">\n",
       "  <thead>\n",
       "    <tr style=\"text-align: right;\">\n",
       "      <th></th>\n",
       "      <th>CVE_ENT</th>\n",
       "      <th>Entidad_inegi</th>\n",
       "      <th>CVE_MUN</th>\n",
       "      <th>Municipio_inegi</th>\n",
       "      <th>CVE_LOC</th>\n",
       "      <th>Localidad_inegi</th>\n",
       "      <th>KEY_inegi_municipio</th>\n",
       "      <th>KEY_inegi_localidad</th>\n",
       "    </tr>\n",
       "  </thead>\n",
       "  <tbody>\n",
       "    <tr>\n",
       "      <th>0</th>\n",
       "      <td>1</td>\n",
       "      <td>Aguascalientes</td>\n",
       "      <td>1</td>\n",
       "      <td>Aguascalientes</td>\n",
       "      <td>1</td>\n",
       "      <td>Aguascalientes</td>\n",
       "      <td>aguascalientes-aguascalientes</td>\n",
       "      <td>aguascalientes-aguascalientes</td>\n",
       "    </tr>\n",
       "    <tr>\n",
       "      <th>1</th>\n",
       "      <td>1</td>\n",
       "      <td>Aguascalientes</td>\n",
       "      <td>1</td>\n",
       "      <td>Aguascalientes</td>\n",
       "      <td>94</td>\n",
       "      <td>Granja Adelita</td>\n",
       "      <td>aguascalientes-aguascalientes</td>\n",
       "      <td>aguascalientes-granja adelita</td>\n",
       "    </tr>\n",
       "    <tr>\n",
       "      <th>2</th>\n",
       "      <td>1</td>\n",
       "      <td>Aguascalientes</td>\n",
       "      <td>1</td>\n",
       "      <td>Aguascalientes</td>\n",
       "      <td>96</td>\n",
       "      <td>Agua Azul</td>\n",
       "      <td>aguascalientes-aguascalientes</td>\n",
       "      <td>aguascalientes-agua azul</td>\n",
       "    </tr>\n",
       "    <tr>\n",
       "      <th>3</th>\n",
       "      <td>1</td>\n",
       "      <td>Aguascalientes</td>\n",
       "      <td>1</td>\n",
       "      <td>Aguascalientes</td>\n",
       "      <td>100</td>\n",
       "      <td>Rancho Alegre</td>\n",
       "      <td>aguascalientes-aguascalientes</td>\n",
       "      <td>aguascalientes-rancho alegre</td>\n",
       "    </tr>\n",
       "    <tr>\n",
       "      <th>4</th>\n",
       "      <td>1</td>\n",
       "      <td>Aguascalientes</td>\n",
       "      <td>1</td>\n",
       "      <td>Aguascalientes</td>\n",
       "      <td>102</td>\n",
       "      <td>Los Arbolitos [Rancho]</td>\n",
       "      <td>aguascalientes-aguascalientes</td>\n",
       "      <td>aguascalientes-los arbolitos [rancho]</td>\n",
       "    </tr>\n",
       "    <tr>\n",
       "      <th>...</th>\n",
       "      <td>...</td>\n",
       "      <td>...</td>\n",
       "      <td>...</td>\n",
       "      <td>...</td>\n",
       "      <td>...</td>\n",
       "      <td>...</td>\n",
       "      <td>...</td>\n",
       "      <td>...</td>\n",
       "    </tr>\n",
       "    <tr>\n",
       "      <th>300345</th>\n",
       "      <td>32</td>\n",
       "      <td>Zacatecas</td>\n",
       "      <td>58</td>\n",
       "      <td>Santa María de la Paz</td>\n",
       "      <td>39</td>\n",
       "      <td>San Isidro</td>\n",
       "      <td>zacatecas-santa maria de la paz</td>\n",
       "      <td>santa maria de la paz-san isidro</td>\n",
       "    </tr>\n",
       "    <tr>\n",
       "      <th>300346</th>\n",
       "      <td>32</td>\n",
       "      <td>Zacatecas</td>\n",
       "      <td>58</td>\n",
       "      <td>Santa María de la Paz</td>\n",
       "      <td>40</td>\n",
       "      <td>San José</td>\n",
       "      <td>zacatecas-santa maria de la paz</td>\n",
       "      <td>santa maria de la paz-san jose</td>\n",
       "    </tr>\n",
       "    <tr>\n",
       "      <th>300347</th>\n",
       "      <td>32</td>\n",
       "      <td>Zacatecas</td>\n",
       "      <td>58</td>\n",
       "      <td>Santa María de la Paz</td>\n",
       "      <td>41</td>\n",
       "      <td>San Miguel Tepetitlán</td>\n",
       "      <td>zacatecas-santa maria de la paz</td>\n",
       "      <td>santa maria de la paz-san miguel tepetitlan</td>\n",
       "    </tr>\n",
       "    <tr>\n",
       "      <th>300348</th>\n",
       "      <td>32</td>\n",
       "      <td>Zacatecas</td>\n",
       "      <td>58</td>\n",
       "      <td>Santa María de la Paz</td>\n",
       "      <td>42</td>\n",
       "      <td>San Rafael</td>\n",
       "      <td>zacatecas-santa maria de la paz</td>\n",
       "      <td>santa maria de la paz-san rafael</td>\n",
       "    </tr>\n",
       "    <tr>\n",
       "      <th>300349</th>\n",
       "      <td>32</td>\n",
       "      <td>Zacatecas</td>\n",
       "      <td>58</td>\n",
       "      <td>Santa María de la Paz</td>\n",
       "      <td>43</td>\n",
       "      <td>Santa Fe</td>\n",
       "      <td>zacatecas-santa maria de la paz</td>\n",
       "      <td>santa maria de la paz-santa fe</td>\n",
       "    </tr>\n",
       "  </tbody>\n",
       "</table>\n",
       "<p>272135 rows × 8 columns</p>\n",
       "</div>"
      ],
      "text/plain": [
       "        CVE_ENT   Entidad_inegi  CVE_MUN        Municipio_inegi  CVE_LOC  \\\n",
       "0             1  Aguascalientes        1         Aguascalientes        1   \n",
       "1             1  Aguascalientes        1         Aguascalientes       94   \n",
       "2             1  Aguascalientes        1         Aguascalientes       96   \n",
       "3             1  Aguascalientes        1         Aguascalientes      100   \n",
       "4             1  Aguascalientes        1         Aguascalientes      102   \n",
       "...         ...             ...      ...                    ...      ...   \n",
       "300345       32       Zacatecas       58  Santa María de la Paz       39   \n",
       "300346       32       Zacatecas       58  Santa María de la Paz       40   \n",
       "300347       32       Zacatecas       58  Santa María de la Paz       41   \n",
       "300348       32       Zacatecas       58  Santa María de la Paz       42   \n",
       "300349       32       Zacatecas       58  Santa María de la Paz       43   \n",
       "\n",
       "               Localidad_inegi              KEY_inegi_municipio  \\\n",
       "0               Aguascalientes    aguascalientes-aguascalientes   \n",
       "1               Granja Adelita    aguascalientes-aguascalientes   \n",
       "2                    Agua Azul    aguascalientes-aguascalientes   \n",
       "3                Rancho Alegre    aguascalientes-aguascalientes   \n",
       "4       Los Arbolitos [Rancho]    aguascalientes-aguascalientes   \n",
       "...                        ...                              ...   \n",
       "300345              San Isidro  zacatecas-santa maria de la paz   \n",
       "300346                San José  zacatecas-santa maria de la paz   \n",
       "300347   San Miguel Tepetitlán  zacatecas-santa maria de la paz   \n",
       "300348              San Rafael  zacatecas-santa maria de la paz   \n",
       "300349                Santa Fe  zacatecas-santa maria de la paz   \n",
       "\n",
       "                                KEY_inegi_localidad  \n",
       "0                     aguascalientes-aguascalientes  \n",
       "1                     aguascalientes-granja adelita  \n",
       "2                          aguascalientes-agua azul  \n",
       "3                      aguascalientes-rancho alegre  \n",
       "4             aguascalientes-los arbolitos [rancho]  \n",
       "...                                             ...  \n",
       "300345             santa maria de la paz-san isidro  \n",
       "300346               santa maria de la paz-san jose  \n",
       "300347  santa maria de la paz-san miguel tepetitlan  \n",
       "300348             santa maria de la paz-san rafael  \n",
       "300349               santa maria de la paz-santa fe  \n",
       "\n",
       "[272135 rows x 8 columns]"
      ]
     },
     "execution_count": 92,
     "metadata": {},
     "output_type": "execute_result"
    }
   ],
   "source": [
    "INEGI_UNIQUELOC_2021"
   ]
  },
  {
   "cell_type": "code",
   "execution_count": 93,
   "metadata": {},
   "outputs": [],
   "source": [
    "# TODO: REVISAR ESTA PARTE (ARTURO)\n",
    "listado_beneficiarios_parte_II_localidades = pd.merge(listado_beneficiarios_parte_I_localidades, INEGI_UNIQUELOC_2021,\n",
    "                                          left_on=\"KEY_inegi_localidad\",\n",
    "                                          right_on=\"KEY_inegi_localidad\", how='left', suffixes=('_benef', '_inegi'))"
   ]
  },
  {
   "cell_type": "code",
   "execution_count": 94,
   "metadata": {},
   "outputs": [
    {
     "data": {
      "text/plain": [
       "BENEFICIARIO             0\n",
       "ZONA                     0\n",
       "ENTIDAD                  0\n",
       "MUNICIPIO                0\n",
       "LOCALIDAD                0\n",
       "PRODUCTO                 0\n",
       "FECHA                    0\n",
       "MONTO FEDERAL            0\n",
       "CICLO AGRÍCOLA           0\n",
       "KEY_benef_mun            0\n",
       "CVE_ENT_benef            0\n",
       "Entidad_inegi_benef      0\n",
       "CVE_MUN_benef            0\n",
       "Municipio_inegi_benef    0\n",
       "MUNICIPIO_Clean          0\n",
       "LOCALIDAD_Clean          0\n",
       "Municipio-loc-KEY        0\n",
       "KEY_benef_loc            0\n",
       "match_score              0\n",
       "KEY_inegi_localidad      0\n",
       "CVE_ENT_inegi            0\n",
       "Entidad_inegi_inegi      0\n",
       "CVE_MUN_inegi            0\n",
       "Municipio_inegi_inegi    0\n",
       "CVE_LOC                  0\n",
       "Localidad_inegi          0\n",
       "KEY_inegi_municipio      0\n",
       "dtype: int64"
      ]
     },
     "execution_count": 94,
     "metadata": {},
     "output_type": "execute_result"
    }
   ],
   "source": [
    "listado_beneficiarios_parte_II_localidades.isna().sum()"
   ]
  },
  {
   "cell_type": "code",
   "execution_count": 95,
   "metadata": {},
   "outputs": [],
   "source": [
    "# Assuming listado_beneficiarios_parte_II is your DataFrame\n",
    "rows_with_nan = listado_beneficiarios_parte_II_localidades[listado_beneficiarios_parte_II_localidades.isna().any(axis=1)]\n",
    "\n",
    "# rows_with_nan now contains only the rows with NaN values in any column"
   ]
  },
  {
   "cell_type": "code",
   "execution_count": 96,
   "metadata": {},
   "outputs": [
    {
     "data": {
      "text/html": [
       "<div>\n",
       "<style scoped>\n",
       "    .dataframe tbody tr th:only-of-type {\n",
       "        vertical-align: middle;\n",
       "    }\n",
       "\n",
       "    .dataframe tbody tr th {\n",
       "        vertical-align: top;\n",
       "    }\n",
       "\n",
       "    .dataframe thead th {\n",
       "        text-align: right;\n",
       "    }\n",
       "</style>\n",
       "<table border=\"1\" class=\"dataframe\">\n",
       "  <thead>\n",
       "    <tr style=\"text-align: right;\">\n",
       "      <th></th>\n",
       "      <th>BENEFICIARIO</th>\n",
       "      <th>ZONA</th>\n",
       "      <th>ENTIDAD</th>\n",
       "      <th>MUNICIPIO</th>\n",
       "      <th>LOCALIDAD</th>\n",
       "      <th>PRODUCTO</th>\n",
       "      <th>FECHA</th>\n",
       "      <th>MONTO FEDERAL</th>\n",
       "      <th>CICLO AGRÍCOLA</th>\n",
       "      <th>KEY_benef_mun</th>\n",
       "      <th>...</th>\n",
       "      <th>KEY_benef_loc</th>\n",
       "      <th>match_score</th>\n",
       "      <th>KEY_inegi_localidad</th>\n",
       "      <th>CVE_ENT_inegi</th>\n",
       "      <th>Entidad_inegi_inegi</th>\n",
       "      <th>CVE_MUN_inegi</th>\n",
       "      <th>Municipio_inegi_inegi</th>\n",
       "      <th>CVE_LOC</th>\n",
       "      <th>Localidad_inegi</th>\n",
       "      <th>KEY_inegi_municipio</th>\n",
       "    </tr>\n",
       "  </thead>\n",
       "  <tbody>\n",
       "  </tbody>\n",
       "</table>\n",
       "<p>0 rows × 27 columns</p>\n",
       "</div>"
      ],
      "text/plain": [
       "Empty DataFrame\n",
       "Columns: [BENEFICIARIO, ZONA, ENTIDAD, MUNICIPIO, LOCALIDAD, PRODUCTO, FECHA, MONTO FEDERAL, CICLO AGRÍCOLA, KEY_benef_mun, CVE_ENT_benef, Entidad_inegi_benef, CVE_MUN_benef, Municipio_inegi_benef, MUNICIPIO_Clean, LOCALIDAD_Clean, Municipio-loc-KEY, KEY_benef_loc, match_score, KEY_inegi_localidad, CVE_ENT_inegi, Entidad_inegi_inegi, CVE_MUN_inegi, Municipio_inegi_inegi, CVE_LOC, Localidad_inegi, KEY_inegi_municipio]\n",
       "Index: []\n",
       "\n",
       "[0 rows x 27 columns]"
      ]
     },
     "execution_count": 96,
     "metadata": {},
     "output_type": "execute_result"
    }
   ],
   "source": [
    "rows_with_nan.tail(50)"
   ]
  },
  {
   "cell_type": "code",
   "execution_count": 97,
   "metadata": {},
   "outputs": [
    {
     "data": {
      "text/html": [
       "<div>\n",
       "<style scoped>\n",
       "    .dataframe tbody tr th:only-of-type {\n",
       "        vertical-align: middle;\n",
       "    }\n",
       "\n",
       "    .dataframe tbody tr th {\n",
       "        vertical-align: top;\n",
       "    }\n",
       "\n",
       "    .dataframe thead th {\n",
       "        text-align: right;\n",
       "    }\n",
       "</style>\n",
       "<table border=\"1\" class=\"dataframe\">\n",
       "  <thead>\n",
       "    <tr style=\"text-align: right;\">\n",
       "      <th></th>\n",
       "      <th>BENEFICIARIO</th>\n",
       "      <th>ZONA</th>\n",
       "      <th>ENTIDAD</th>\n",
       "      <th>MUNICIPIO</th>\n",
       "      <th>LOCALIDAD</th>\n",
       "      <th>PRODUCTO</th>\n",
       "      <th>FECHA</th>\n",
       "      <th>MONTO FEDERAL</th>\n",
       "      <th>CICLO AGRÍCOLA</th>\n",
       "      <th>KEY_benef_mun</th>\n",
       "      <th>...</th>\n",
       "      <th>KEY_benef_loc</th>\n",
       "      <th>match_score</th>\n",
       "      <th>KEY_inegi_localidad</th>\n",
       "      <th>CVE_ENT_inegi</th>\n",
       "      <th>Entidad_inegi_inegi</th>\n",
       "      <th>CVE_MUN_inegi</th>\n",
       "      <th>Municipio_inegi_inegi</th>\n",
       "      <th>CVE_LOC</th>\n",
       "      <th>Localidad_inegi</th>\n",
       "      <th>KEY_inegi_municipio</th>\n",
       "    </tr>\n",
       "  </thead>\n",
       "  <tbody>\n",
       "    <tr>\n",
       "      <th>0</th>\n",
       "      <td>ABAC NERI JESUS CARLOS</td>\n",
       "      <td>CENTRO PAÍS</td>\n",
       "      <td>GUERRERO</td>\n",
       "      <td>COYUCA DE BENÍTEZ</td>\n",
       "      <td>PUEBLO VIEJO</td>\n",
       "      <td>Cultivo de maíz grano blanco</td>\n",
       "      <td>2021-04-10</td>\n",
       "      <td>7196.13</td>\n",
       "      <td>PV2021</td>\n",
       "      <td>guerrero-coyuca de benitez</td>\n",
       "      <td>...</td>\n",
       "      <td>coyuca de benitez-pueblo viejo</td>\n",
       "      <td>100</td>\n",
       "      <td>coyuca de benitez-pueblo viejo</td>\n",
       "      <td>12</td>\n",
       "      <td>Guerrero</td>\n",
       "      <td>21</td>\n",
       "      <td>Coyuca de Benítez</td>\n",
       "      <td>45</td>\n",
       "      <td>Pueblo Viejo</td>\n",
       "      <td>guerrero-coyuca de benitez</td>\n",
       "    </tr>\n",
       "    <tr>\n",
       "      <th>1</th>\n",
       "      <td>ABAD ALARCON ELIAZAR</td>\n",
       "      <td>CENTRO PAÍS</td>\n",
       "      <td>GUERRERO</td>\n",
       "      <td>COYUCA DE BENÍTEZ</td>\n",
       "      <td>PUEBLO VIEJO</td>\n",
       "      <td>Cultivo de maíz grano blanco</td>\n",
       "      <td>2021-04-10</td>\n",
       "      <td>3598.07</td>\n",
       "      <td>PV2021</td>\n",
       "      <td>guerrero-coyuca de benitez</td>\n",
       "      <td>...</td>\n",
       "      <td>coyuca de benitez-pueblo viejo</td>\n",
       "      <td>100</td>\n",
       "      <td>coyuca de benitez-pueblo viejo</td>\n",
       "      <td>12</td>\n",
       "      <td>Guerrero</td>\n",
       "      <td>21</td>\n",
       "      <td>Coyuca de Benítez</td>\n",
       "      <td>45</td>\n",
       "      <td>Pueblo Viejo</td>\n",
       "      <td>guerrero-coyuca de benitez</td>\n",
       "    </tr>\n",
       "    <tr>\n",
       "      <th>2</th>\n",
       "      <td>ABAD ALARCON EZEQUIEL</td>\n",
       "      <td>CENTRO PAÍS</td>\n",
       "      <td>GUERRERO</td>\n",
       "      <td>COYUCA DE BENÍTEZ</td>\n",
       "      <td>AGUA ZARCA</td>\n",
       "      <td>Cultivo de maíz grano blanco</td>\n",
       "      <td>2021-04-06</td>\n",
       "      <td>7196.13</td>\n",
       "      <td>PV2021</td>\n",
       "      <td>guerrero-coyuca de benitez</td>\n",
       "      <td>...</td>\n",
       "      <td>coyuca de benitez-agua zarca</td>\n",
       "      <td>100</td>\n",
       "      <td>coyuca de benitez-agua zarca</td>\n",
       "      <td>12</td>\n",
       "      <td>Guerrero</td>\n",
       "      <td>21</td>\n",
       "      <td>Coyuca de Benítez</td>\n",
       "      <td>4</td>\n",
       "      <td>Agua Zarca</td>\n",
       "      <td>guerrero-coyuca de benitez</td>\n",
       "    </tr>\n",
       "    <tr>\n",
       "      <th>3</th>\n",
       "      <td>ABAD ALARCON FULGENCIO</td>\n",
       "      <td>CENTRO PAÍS</td>\n",
       "      <td>GUERRERO</td>\n",
       "      <td>COYUCA DE BENÍTEZ</td>\n",
       "      <td>AGUA ZARCA</td>\n",
       "      <td>Cultivo de maíz grano blanco</td>\n",
       "      <td>2021-04-06</td>\n",
       "      <td>7196.13</td>\n",
       "      <td>PV2021</td>\n",
       "      <td>guerrero-coyuca de benitez</td>\n",
       "      <td>...</td>\n",
       "      <td>coyuca de benitez-agua zarca</td>\n",
       "      <td>100</td>\n",
       "      <td>coyuca de benitez-agua zarca</td>\n",
       "      <td>12</td>\n",
       "      <td>Guerrero</td>\n",
       "      <td>21</td>\n",
       "      <td>Coyuca de Benítez</td>\n",
       "      <td>4</td>\n",
       "      <td>Agua Zarca</td>\n",
       "      <td>guerrero-coyuca de benitez</td>\n",
       "    </tr>\n",
       "    <tr>\n",
       "      <th>4</th>\n",
       "      <td>ABAD ALARCON ROMALDA</td>\n",
       "      <td>CENTRO PAÍS</td>\n",
       "      <td>GUERRERO</td>\n",
       "      <td>COYUCA DE BENÍTEZ</td>\n",
       "      <td>YERBASANTITA</td>\n",
       "      <td>Cultivo de maíz grano blanco</td>\n",
       "      <td>2021-04-04</td>\n",
       "      <td>7196.13</td>\n",
       "      <td>PV2021</td>\n",
       "      <td>guerrero-coyuca de benitez</td>\n",
       "      <td>...</td>\n",
       "      <td>coyuca de benitez-yerbasantita</td>\n",
       "      <td>100</td>\n",
       "      <td>coyuca de benitez-yerbasantita</td>\n",
       "      <td>12</td>\n",
       "      <td>Guerrero</td>\n",
       "      <td>21</td>\n",
       "      <td>Coyuca de Benítez</td>\n",
       "      <td>65</td>\n",
       "      <td>Yerbasantita</td>\n",
       "      <td>guerrero-coyuca de benitez</td>\n",
       "    </tr>\n",
       "    <tr>\n",
       "      <th>...</th>\n",
       "      <td>...</td>\n",
       "      <td>...</td>\n",
       "      <td>...</td>\n",
       "      <td>...</td>\n",
       "      <td>...</td>\n",
       "      <td>...</td>\n",
       "      <td>...</td>\n",
       "      <td>...</td>\n",
       "      <td>...</td>\n",
       "      <td>...</td>\n",
       "      <td>...</td>\n",
       "      <td>...</td>\n",
       "      <td>...</td>\n",
       "      <td>...</td>\n",
       "      <td>...</td>\n",
       "      <td>...</td>\n",
       "      <td>...</td>\n",
       "      <td>...</td>\n",
       "      <td>...</td>\n",
       "      <td>...</td>\n",
       "      <td>...</td>\n",
       "    </tr>\n",
       "    <tr>\n",
       "      <th>394850</th>\n",
       "      <td>ZURITA VILLEGAS CRESCENCIANA</td>\n",
       "      <td>CENTRO PAÍS</td>\n",
       "      <td>GUERRERO</td>\n",
       "      <td>XALPATLÁHUAC</td>\n",
       "      <td>XALPATLÁHUAC</td>\n",
       "      <td>Cultivo de maíz grano blanco</td>\n",
       "      <td>2021-05-08</td>\n",
       "      <td>3598.07</td>\n",
       "      <td>PV2021</td>\n",
       "      <td>guerrero-xalpatlahuac</td>\n",
       "      <td>...</td>\n",
       "      <td>xalpatlahuac-xalpatlahuac</td>\n",
       "      <td>100</td>\n",
       "      <td>xalpatlahuac-xalpatlahuac</td>\n",
       "      <td>12</td>\n",
       "      <td>Guerrero</td>\n",
       "      <td>69</td>\n",
       "      <td>Xalpatláhuac</td>\n",
       "      <td>1</td>\n",
       "      <td>Xalpatláhuac</td>\n",
       "      <td>guerrero-xalpatlahuac</td>\n",
       "    </tr>\n",
       "    <tr>\n",
       "      <th>394851</th>\n",
       "      <td>ZURITA VILLEGAS MARIA INES</td>\n",
       "      <td>CENTRO PAÍS</td>\n",
       "      <td>GUERRERO</td>\n",
       "      <td>XALPATLÁHUAC</td>\n",
       "      <td>XALPATLÁHUAC</td>\n",
       "      <td>Cultivo de maíz grano blanco</td>\n",
       "      <td>2021-05-08</td>\n",
       "      <td>3598.07</td>\n",
       "      <td>PV2021</td>\n",
       "      <td>guerrero-xalpatlahuac</td>\n",
       "      <td>...</td>\n",
       "      <td>xalpatlahuac-xalpatlahuac</td>\n",
       "      <td>100</td>\n",
       "      <td>xalpatlahuac-xalpatlahuac</td>\n",
       "      <td>12</td>\n",
       "      <td>Guerrero</td>\n",
       "      <td>69</td>\n",
       "      <td>Xalpatláhuac</td>\n",
       "      <td>1</td>\n",
       "      <td>Xalpatláhuac</td>\n",
       "      <td>guerrero-xalpatlahuac</td>\n",
       "    </tr>\n",
       "    <tr>\n",
       "      <th>394852</th>\n",
       "      <td>ZURITA VILLEGAS NICOLASA</td>\n",
       "      <td>CENTRO PAÍS</td>\n",
       "      <td>GUERRERO</td>\n",
       "      <td>XALPATLÁHUAC</td>\n",
       "      <td>XALPATLÁHUAC</td>\n",
       "      <td>Cultivo de maíz grano blanco</td>\n",
       "      <td>2021-05-08</td>\n",
       "      <td>3598.07</td>\n",
       "      <td>PV2021</td>\n",
       "      <td>guerrero-xalpatlahuac</td>\n",
       "      <td>...</td>\n",
       "      <td>xalpatlahuac-xalpatlahuac</td>\n",
       "      <td>100</td>\n",
       "      <td>xalpatlahuac-xalpatlahuac</td>\n",
       "      <td>12</td>\n",
       "      <td>Guerrero</td>\n",
       "      <td>69</td>\n",
       "      <td>Xalpatláhuac</td>\n",
       "      <td>1</td>\n",
       "      <td>Xalpatláhuac</td>\n",
       "      <td>guerrero-xalpatlahuac</td>\n",
       "    </tr>\n",
       "    <tr>\n",
       "      <th>394853</th>\n",
       "      <td>ZURITA VITINIO GREGORIA</td>\n",
       "      <td>CENTRO PAÍS</td>\n",
       "      <td>GUERRERO</td>\n",
       "      <td>XALPATLÁHUAC</td>\n",
       "      <td>XALPATLÁHUAC</td>\n",
       "      <td>Cultivo de maíz grano blanco</td>\n",
       "      <td>2021-05-08</td>\n",
       "      <td>3598.07</td>\n",
       "      <td>PV2021</td>\n",
       "      <td>guerrero-xalpatlahuac</td>\n",
       "      <td>...</td>\n",
       "      <td>xalpatlahuac-xalpatlahuac</td>\n",
       "      <td>100</td>\n",
       "      <td>xalpatlahuac-xalpatlahuac</td>\n",
       "      <td>12</td>\n",
       "      <td>Guerrero</td>\n",
       "      <td>69</td>\n",
       "      <td>Xalpatláhuac</td>\n",
       "      <td>1</td>\n",
       "      <td>Xalpatláhuac</td>\n",
       "      <td>guerrero-xalpatlahuac</td>\n",
       "    </tr>\n",
       "    <tr>\n",
       "      <th>394854</th>\n",
       "      <td>ZURITA VITINIO JOSE</td>\n",
       "      <td>CENTRO PAÍS</td>\n",
       "      <td>GUERRERO</td>\n",
       "      <td>XALPATLÁHUAC</td>\n",
       "      <td>XALPATLÁHUAC</td>\n",
       "      <td>Cultivo de maíz grano blanco</td>\n",
       "      <td>2021-05-08</td>\n",
       "      <td>7196.13</td>\n",
       "      <td>PV2021</td>\n",
       "      <td>guerrero-xalpatlahuac</td>\n",
       "      <td>...</td>\n",
       "      <td>xalpatlahuac-xalpatlahuac</td>\n",
       "      <td>100</td>\n",
       "      <td>xalpatlahuac-xalpatlahuac</td>\n",
       "      <td>12</td>\n",
       "      <td>Guerrero</td>\n",
       "      <td>69</td>\n",
       "      <td>Xalpatláhuac</td>\n",
       "      <td>1</td>\n",
       "      <td>Xalpatláhuac</td>\n",
       "      <td>guerrero-xalpatlahuac</td>\n",
       "    </tr>\n",
       "  </tbody>\n",
       "</table>\n",
       "<p>394855 rows × 27 columns</p>\n",
       "</div>"
      ],
      "text/plain": [
       "                         BENEFICIARIO         ZONA   ENTIDAD  \\\n",
       "0             ABAC NERI JESUS CARLOS   CENTRO PAÍS  GUERRERO   \n",
       "1               ABAD ALARCON ELIAZAR   CENTRO PAÍS  GUERRERO   \n",
       "2              ABAD ALARCON EZEQUIEL   CENTRO PAÍS  GUERRERO   \n",
       "3             ABAD ALARCON FULGENCIO   CENTRO PAÍS  GUERRERO   \n",
       "4               ABAD ALARCON ROMALDA   CENTRO PAÍS  GUERRERO   \n",
       "...                               ...          ...       ...   \n",
       "394850  ZURITA VILLEGAS CRESCENCIANA   CENTRO PAÍS  GUERRERO   \n",
       "394851    ZURITA VILLEGAS MARIA INES   CENTRO PAÍS  GUERRERO   \n",
       "394852      ZURITA VILLEGAS NICOLASA   CENTRO PAÍS  GUERRERO   \n",
       "394853       ZURITA VITINIO GREGORIA   CENTRO PAÍS  GUERRERO   \n",
       "394854           ZURITA VITINIO JOSE   CENTRO PAÍS  GUERRERO   \n",
       "\n",
       "                MUNICIPIO     LOCALIDAD                      PRODUCTO  \\\n",
       "0       COYUCA DE BENÍTEZ  PUEBLO VIEJO  Cultivo de maíz grano blanco   \n",
       "1       COYUCA DE BENÍTEZ  PUEBLO VIEJO  Cultivo de maíz grano blanco   \n",
       "2       COYUCA DE BENÍTEZ    AGUA ZARCA  Cultivo de maíz grano blanco   \n",
       "3       COYUCA DE BENÍTEZ    AGUA ZARCA  Cultivo de maíz grano blanco   \n",
       "4       COYUCA DE BENÍTEZ  YERBASANTITA  Cultivo de maíz grano blanco   \n",
       "...                   ...           ...                           ...   \n",
       "394850       XALPATLÁHUAC  XALPATLÁHUAC  Cultivo de maíz grano blanco   \n",
       "394851       XALPATLÁHUAC  XALPATLÁHUAC  Cultivo de maíz grano blanco   \n",
       "394852       XALPATLÁHUAC  XALPATLÁHUAC  Cultivo de maíz grano blanco   \n",
       "394853       XALPATLÁHUAC  XALPATLÁHUAC  Cultivo de maíz grano blanco   \n",
       "394854       XALPATLÁHUAC  XALPATLÁHUAC  Cultivo de maíz grano blanco   \n",
       "\n",
       "             FECHA  MONTO FEDERAL CICLO AGRÍCOLA               KEY_benef_mun  \\\n",
       "0       2021-04-10        7196.13         PV2021  guerrero-coyuca de benitez   \n",
       "1       2021-04-10        3598.07         PV2021  guerrero-coyuca de benitez   \n",
       "2       2021-04-06        7196.13         PV2021  guerrero-coyuca de benitez   \n",
       "3       2021-04-06        7196.13         PV2021  guerrero-coyuca de benitez   \n",
       "4       2021-04-04        7196.13         PV2021  guerrero-coyuca de benitez   \n",
       "...            ...            ...            ...                         ...   \n",
       "394850  2021-05-08        3598.07         PV2021       guerrero-xalpatlahuac   \n",
       "394851  2021-05-08        3598.07         PV2021       guerrero-xalpatlahuac   \n",
       "394852  2021-05-08        3598.07         PV2021       guerrero-xalpatlahuac   \n",
       "394853  2021-05-08        3598.07         PV2021       guerrero-xalpatlahuac   \n",
       "394854  2021-05-08        7196.13         PV2021       guerrero-xalpatlahuac   \n",
       "\n",
       "        ...                   KEY_benef_loc match_score  \\\n",
       "0       ...  coyuca de benitez-pueblo viejo         100   \n",
       "1       ...  coyuca de benitez-pueblo viejo         100   \n",
       "2       ...    coyuca de benitez-agua zarca         100   \n",
       "3       ...    coyuca de benitez-agua zarca         100   \n",
       "4       ...  coyuca de benitez-yerbasantita         100   \n",
       "...     ...                             ...         ...   \n",
       "394850  ...       xalpatlahuac-xalpatlahuac         100   \n",
       "394851  ...       xalpatlahuac-xalpatlahuac         100   \n",
       "394852  ...       xalpatlahuac-xalpatlahuac         100   \n",
       "394853  ...       xalpatlahuac-xalpatlahuac         100   \n",
       "394854  ...       xalpatlahuac-xalpatlahuac         100   \n",
       "\n",
       "                   KEY_inegi_localidad CVE_ENT_inegi Entidad_inegi_inegi  \\\n",
       "0       coyuca de benitez-pueblo viejo            12            Guerrero   \n",
       "1       coyuca de benitez-pueblo viejo            12            Guerrero   \n",
       "2         coyuca de benitez-agua zarca            12            Guerrero   \n",
       "3         coyuca de benitez-agua zarca            12            Guerrero   \n",
       "4       coyuca de benitez-yerbasantita            12            Guerrero   \n",
       "...                                ...           ...                 ...   \n",
       "394850       xalpatlahuac-xalpatlahuac            12            Guerrero   \n",
       "394851       xalpatlahuac-xalpatlahuac            12            Guerrero   \n",
       "394852       xalpatlahuac-xalpatlahuac            12            Guerrero   \n",
       "394853       xalpatlahuac-xalpatlahuac            12            Guerrero   \n",
       "394854       xalpatlahuac-xalpatlahuac            12            Guerrero   \n",
       "\n",
       "       CVE_MUN_inegi Municipio_inegi_inegi CVE_LOC  Localidad_inegi  \\\n",
       "0                 21     Coyuca de Benítez      45     Pueblo Viejo   \n",
       "1                 21     Coyuca de Benítez      45     Pueblo Viejo   \n",
       "2                 21     Coyuca de Benítez       4       Agua Zarca   \n",
       "3                 21     Coyuca de Benítez       4       Agua Zarca   \n",
       "4                 21     Coyuca de Benítez      65     Yerbasantita   \n",
       "...              ...                   ...     ...              ...   \n",
       "394850            69          Xalpatláhuac       1     Xalpatláhuac   \n",
       "394851            69          Xalpatláhuac       1     Xalpatláhuac   \n",
       "394852            69          Xalpatláhuac       1     Xalpatláhuac   \n",
       "394853            69          Xalpatláhuac       1     Xalpatláhuac   \n",
       "394854            69          Xalpatláhuac       1     Xalpatláhuac   \n",
       "\n",
       "               KEY_inegi_municipio  \n",
       "0       guerrero-coyuca de benitez  \n",
       "1       guerrero-coyuca de benitez  \n",
       "2       guerrero-coyuca de benitez  \n",
       "3       guerrero-coyuca de benitez  \n",
       "4       guerrero-coyuca de benitez  \n",
       "...                            ...  \n",
       "394850       guerrero-xalpatlahuac  \n",
       "394851       guerrero-xalpatlahuac  \n",
       "394852       guerrero-xalpatlahuac  \n",
       "394853       guerrero-xalpatlahuac  \n",
       "394854       guerrero-xalpatlahuac  \n",
       "\n",
       "[394855 rows x 27 columns]"
      ]
     },
     "execution_count": 97,
     "metadata": {},
     "output_type": "execute_result"
    }
   ],
   "source": [
    "listado_beneficiarios_parte_II_localidades"
   ]
  }
 ],
 "metadata": {
  "kernelspec": {
   "display_name": "Python 3",
   "language": "python",
   "name": "python3"
  },
  "language_info": {
   "codemirror_mode": {
    "name": "ipython",
    "version": 3
   },
   "file_extension": ".py",
   "mimetype": "text/x-python",
   "name": "python",
   "nbconvert_exporter": "python",
   "pygments_lexer": "ipython3",
   "version": "3.9.9"
  }
 },
 "nbformat": 4,
 "nbformat_minor": 2
}
