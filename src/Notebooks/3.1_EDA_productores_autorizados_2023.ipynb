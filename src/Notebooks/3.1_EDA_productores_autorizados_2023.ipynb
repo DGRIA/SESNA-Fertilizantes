{
 "cells": [
  {
   "metadata": {},
   "cell_type": "markdown",
   "source": "# Análisis EDA de productores autorizados 2023",
   "id": "abf0265080885b4"
  },
  {
   "metadata": {},
   "cell_type": "markdown",
   "source": "# 1. Importación de librerías y carga de datos",
   "id": "e83c53bd8e1cacfe"
  },
  {
   "metadata": {
    "ExecuteTime": {
     "end_time": "2024-05-29T08:57:50.682970Z",
     "start_time": "2024-05-29T08:57:50.677979Z"
    }
   },
   "cell_type": "code",
   "source": [
    "import pandas as pd\n",
    "import numpy as np\n",
    "import time\n",
    "import matplotlib.pyplot as plt\n",
    "import seaborn as sns\n",
    "# pd.set_option('display.max_columns', None)"
   ],
   "id": "857fbe7303fac90",
   "outputs": [],
   "execution_count": 2
  },
  {
   "metadata": {
    "ExecuteTime": {
     "end_time": "2024-05-29T08:57:53.077518Z",
     "start_time": "2024-05-29T08:57:50.757593Z"
    }
   },
   "cell_type": "code",
   "source": "lista_productores = pd.read_csv('../../data/listado_productores_complete.csv')",
   "id": "6fe016464be90ed3",
   "outputs": [],
   "execution_count": 3
  },
  {
   "metadata": {
    "ExecuteTime": {
     "end_time": "2024-05-29T08:57:53.086494Z",
     "start_time": "2024-05-29T08:57:53.079523Z"
    }
   },
   "cell_type": "code",
   "source": "lista_productores.shape",
   "id": "52022c129f759636",
   "outputs": [
    {
     "data": {
      "text/plain": [
       "(1525720, 11)"
      ]
     },
     "execution_count": 4,
     "metadata": {},
     "output_type": "execute_result"
    }
   ],
   "execution_count": 4
  },
  {
   "metadata": {},
   "cell_type": "markdown",
   "source": "# 2. Análisis Inicial",
   "id": "4a5db07f392095b3"
  },
  {
   "metadata": {},
   "cell_type": "markdown",
   "source": "## 2.1 Estructura de los datos",
   "id": "a276dbb9bf7675dd"
  },
  {
   "metadata": {
    "ExecuteTime": {
     "end_time": "2024-05-29T08:57:53.105947Z",
     "start_time": "2024-05-29T08:57:53.087498Z"
    }
   },
   "cell_type": "code",
   "source": "lista_productores.head()",
   "id": "81a1006971a76955",
   "outputs": [
    {
     "data": {
      "text/plain": [
       "           ESTADO       MUNICIPIO         NOM_MUN         NOM_ENT  CVE_ENT  \\\n",
       "0  AGUASCALIENTES  AGUASCALIENTES  Aguascalientes  Aguascalientes      1.0   \n",
       "1  AGUASCALIENTES  AGUASCALIENTES  Aguascalientes  Aguascalientes      1.0   \n",
       "2  AGUASCALIENTES  AGUASCALIENTES  Aguascalientes  Aguascalientes      1.0   \n",
       "3  AGUASCALIENTES  AGUASCALIENTES  Aguascalientes  Aguascalientes      1.0   \n",
       "4  AGUASCALIENTES  AGUASCALIENTES  Aguascalientes  Aguascalientes      1.0   \n",
       "\n",
       "   CVE_MUN                           ACUSE APELLIDO PATERNO APELLIDO MATERNO  \\\n",
       "0      1.0  23-PRONAFE-FERT-000510-S000-AS          AGUILAR          AGUILAR   \n",
       "1      1.0  23-PRONAFE-FERT-000339-S000-AS          AGUILAR           GARCIA   \n",
       "2      1.0  23-PRONAFE-FERT-000340-S000-AS          AGUILAR           GARCIA   \n",
       "3      1.0  23-PRONAFE-FERT-000511-S000-AS          AGUILAR          OROPEZA   \n",
       "4      1.0  23-PRONAFE-FERT-000676-S000-AS             ALBA          ESTRADA   \n",
       "\n",
       "          NOMBRE (S)  PAQUETE  \n",
       "0            NICOLAS        2  \n",
       "1             MANUEL        2  \n",
       "2              PAULO        2  \n",
       "3             MIGUEL        2  \n",
       "4  MARIA DEL ROSARIO        2  "
      ],
      "text/html": [
       "<div>\n",
       "<style scoped>\n",
       "    .dataframe tbody tr th:only-of-type {\n",
       "        vertical-align: middle;\n",
       "    }\n",
       "\n",
       "    .dataframe tbody tr th {\n",
       "        vertical-align: top;\n",
       "    }\n",
       "\n",
       "    .dataframe thead th {\n",
       "        text-align: right;\n",
       "    }\n",
       "</style>\n",
       "<table border=\"1\" class=\"dataframe\">\n",
       "  <thead>\n",
       "    <tr style=\"text-align: right;\">\n",
       "      <th></th>\n",
       "      <th>ESTADO</th>\n",
       "      <th>MUNICIPIO</th>\n",
       "      <th>NOM_MUN</th>\n",
       "      <th>NOM_ENT</th>\n",
       "      <th>CVE_ENT</th>\n",
       "      <th>CVE_MUN</th>\n",
       "      <th>ACUSE</th>\n",
       "      <th>APELLIDO PATERNO</th>\n",
       "      <th>APELLIDO MATERNO</th>\n",
       "      <th>NOMBRE (S)</th>\n",
       "      <th>PAQUETE</th>\n",
       "    </tr>\n",
       "  </thead>\n",
       "  <tbody>\n",
       "    <tr>\n",
       "      <th>0</th>\n",
       "      <td>AGUASCALIENTES</td>\n",
       "      <td>AGUASCALIENTES</td>\n",
       "      <td>Aguascalientes</td>\n",
       "      <td>Aguascalientes</td>\n",
       "      <td>1.0</td>\n",
       "      <td>1.0</td>\n",
       "      <td>23-PRONAFE-FERT-000510-S000-AS</td>\n",
       "      <td>AGUILAR</td>\n",
       "      <td>AGUILAR</td>\n",
       "      <td>NICOLAS</td>\n",
       "      <td>2</td>\n",
       "    </tr>\n",
       "    <tr>\n",
       "      <th>1</th>\n",
       "      <td>AGUASCALIENTES</td>\n",
       "      <td>AGUASCALIENTES</td>\n",
       "      <td>Aguascalientes</td>\n",
       "      <td>Aguascalientes</td>\n",
       "      <td>1.0</td>\n",
       "      <td>1.0</td>\n",
       "      <td>23-PRONAFE-FERT-000339-S000-AS</td>\n",
       "      <td>AGUILAR</td>\n",
       "      <td>GARCIA</td>\n",
       "      <td>MANUEL</td>\n",
       "      <td>2</td>\n",
       "    </tr>\n",
       "    <tr>\n",
       "      <th>2</th>\n",
       "      <td>AGUASCALIENTES</td>\n",
       "      <td>AGUASCALIENTES</td>\n",
       "      <td>Aguascalientes</td>\n",
       "      <td>Aguascalientes</td>\n",
       "      <td>1.0</td>\n",
       "      <td>1.0</td>\n",
       "      <td>23-PRONAFE-FERT-000340-S000-AS</td>\n",
       "      <td>AGUILAR</td>\n",
       "      <td>GARCIA</td>\n",
       "      <td>PAULO</td>\n",
       "      <td>2</td>\n",
       "    </tr>\n",
       "    <tr>\n",
       "      <th>3</th>\n",
       "      <td>AGUASCALIENTES</td>\n",
       "      <td>AGUASCALIENTES</td>\n",
       "      <td>Aguascalientes</td>\n",
       "      <td>Aguascalientes</td>\n",
       "      <td>1.0</td>\n",
       "      <td>1.0</td>\n",
       "      <td>23-PRONAFE-FERT-000511-S000-AS</td>\n",
       "      <td>AGUILAR</td>\n",
       "      <td>OROPEZA</td>\n",
       "      <td>MIGUEL</td>\n",
       "      <td>2</td>\n",
       "    </tr>\n",
       "    <tr>\n",
       "      <th>4</th>\n",
       "      <td>AGUASCALIENTES</td>\n",
       "      <td>AGUASCALIENTES</td>\n",
       "      <td>Aguascalientes</td>\n",
       "      <td>Aguascalientes</td>\n",
       "      <td>1.0</td>\n",
       "      <td>1.0</td>\n",
       "      <td>23-PRONAFE-FERT-000676-S000-AS</td>\n",
       "      <td>ALBA</td>\n",
       "      <td>ESTRADA</td>\n",
       "      <td>MARIA DEL ROSARIO</td>\n",
       "      <td>2</td>\n",
       "    </tr>\n",
       "  </tbody>\n",
       "</table>\n",
       "</div>"
      ]
     },
     "execution_count": 5,
     "metadata": {},
     "output_type": "execute_result"
    }
   ],
   "execution_count": 5
  },
  {
   "metadata": {
    "ExecuteTime": {
     "end_time": "2024-05-29T08:57:53.117604Z",
     "start_time": "2024-05-29T08:57:53.107954Z"
    }
   },
   "cell_type": "code",
   "source": "lista_productores.tail()",
   "id": "a4dcd9f2a68e5cdb",
   "outputs": [
    {
     "data": {
      "text/plain": [
       "         ESTADO  MUNICIPIO    NOM_MUN NOM_ENT  CVE_ENT  CVE_MUN  \\\n",
       "1525715  PUEBLA  ZOQUITLAN  Zoquitlán  Puebla     21.0    217.0   \n",
       "1525716  PUEBLA  ZOQUITLAN  Zoquitlán  Puebla     21.0    217.0   \n",
       "1525717  PUEBLA  ZOQUITLAN  Zoquitlán  Puebla     21.0    217.0   \n",
       "1525718  PUEBLA  ZOQUITLAN  Zoquitlán  Puebla     21.0    217.0   \n",
       "1525719  PUEBLA  ZOQUITLAN  Zoquitlán  Puebla     21.0    217.0   \n",
       "\n",
       "                                  ACUSE APELLIDO PATERNO APELLIDO MATERNO  \\\n",
       "1525715  23-PRONAFE-FERT-103370-S000-PL              NaN              NaN   \n",
       "1525716  23-PRONAFE-FERT-103371-S000-PL              NaN              NaN   \n",
       "1525717  23-PRONAFE-FERT-103166-S000-PL              NaN              NaN   \n",
       "1525718  23-PRONAFE-FERT-103373-S000-PL              NaN              NaN   \n",
       "1525719  23-PRONAFE-FERT-103374-S000-PL              NaN              NaN   \n",
       "\n",
       "        NOMBRE (S)  PAQUETE  \n",
       "1525715        NaN        2  \n",
       "1525716        NaN        2  \n",
       "1525717        NaN        2  \n",
       "1525718        NaN        2  \n",
       "1525719        NaN        2  "
      ],
      "text/html": [
       "<div>\n",
       "<style scoped>\n",
       "    .dataframe tbody tr th:only-of-type {\n",
       "        vertical-align: middle;\n",
       "    }\n",
       "\n",
       "    .dataframe tbody tr th {\n",
       "        vertical-align: top;\n",
       "    }\n",
       "\n",
       "    .dataframe thead th {\n",
       "        text-align: right;\n",
       "    }\n",
       "</style>\n",
       "<table border=\"1\" class=\"dataframe\">\n",
       "  <thead>\n",
       "    <tr style=\"text-align: right;\">\n",
       "      <th></th>\n",
       "      <th>ESTADO</th>\n",
       "      <th>MUNICIPIO</th>\n",
       "      <th>NOM_MUN</th>\n",
       "      <th>NOM_ENT</th>\n",
       "      <th>CVE_ENT</th>\n",
       "      <th>CVE_MUN</th>\n",
       "      <th>ACUSE</th>\n",
       "      <th>APELLIDO PATERNO</th>\n",
       "      <th>APELLIDO MATERNO</th>\n",
       "      <th>NOMBRE (S)</th>\n",
       "      <th>PAQUETE</th>\n",
       "    </tr>\n",
       "  </thead>\n",
       "  <tbody>\n",
       "    <tr>\n",
       "      <th>1525715</th>\n",
       "      <td>PUEBLA</td>\n",
       "      <td>ZOQUITLAN</td>\n",
       "      <td>Zoquitlán</td>\n",
       "      <td>Puebla</td>\n",
       "      <td>21.0</td>\n",
       "      <td>217.0</td>\n",
       "      <td>23-PRONAFE-FERT-103370-S000-PL</td>\n",
       "      <td>NaN</td>\n",
       "      <td>NaN</td>\n",
       "      <td>NaN</td>\n",
       "      <td>2</td>\n",
       "    </tr>\n",
       "    <tr>\n",
       "      <th>1525716</th>\n",
       "      <td>PUEBLA</td>\n",
       "      <td>ZOQUITLAN</td>\n",
       "      <td>Zoquitlán</td>\n",
       "      <td>Puebla</td>\n",
       "      <td>21.0</td>\n",
       "      <td>217.0</td>\n",
       "      <td>23-PRONAFE-FERT-103371-S000-PL</td>\n",
       "      <td>NaN</td>\n",
       "      <td>NaN</td>\n",
       "      <td>NaN</td>\n",
       "      <td>2</td>\n",
       "    </tr>\n",
       "    <tr>\n",
       "      <th>1525717</th>\n",
       "      <td>PUEBLA</td>\n",
       "      <td>ZOQUITLAN</td>\n",
       "      <td>Zoquitlán</td>\n",
       "      <td>Puebla</td>\n",
       "      <td>21.0</td>\n",
       "      <td>217.0</td>\n",
       "      <td>23-PRONAFE-FERT-103166-S000-PL</td>\n",
       "      <td>NaN</td>\n",
       "      <td>NaN</td>\n",
       "      <td>NaN</td>\n",
       "      <td>2</td>\n",
       "    </tr>\n",
       "    <tr>\n",
       "      <th>1525718</th>\n",
       "      <td>PUEBLA</td>\n",
       "      <td>ZOQUITLAN</td>\n",
       "      <td>Zoquitlán</td>\n",
       "      <td>Puebla</td>\n",
       "      <td>21.0</td>\n",
       "      <td>217.0</td>\n",
       "      <td>23-PRONAFE-FERT-103373-S000-PL</td>\n",
       "      <td>NaN</td>\n",
       "      <td>NaN</td>\n",
       "      <td>NaN</td>\n",
       "      <td>2</td>\n",
       "    </tr>\n",
       "    <tr>\n",
       "      <th>1525719</th>\n",
       "      <td>PUEBLA</td>\n",
       "      <td>ZOQUITLAN</td>\n",
       "      <td>Zoquitlán</td>\n",
       "      <td>Puebla</td>\n",
       "      <td>21.0</td>\n",
       "      <td>217.0</td>\n",
       "      <td>23-PRONAFE-FERT-103374-S000-PL</td>\n",
       "      <td>NaN</td>\n",
       "      <td>NaN</td>\n",
       "      <td>NaN</td>\n",
       "      <td>2</td>\n",
       "    </tr>\n",
       "  </tbody>\n",
       "</table>\n",
       "</div>"
      ]
     },
     "execution_count": 6,
     "metadata": {},
     "output_type": "execute_result"
    }
   ],
   "execution_count": 6
  },
  {
   "metadata": {},
   "cell_type": "markdown",
   "source": "## 2.2 Información general",
   "id": "57cd673a77d345e5"
  },
  {
   "metadata": {
    "ExecuteTime": {
     "end_time": "2024-05-29T08:57:53.370505Z",
     "start_time": "2024-05-29T08:57:53.120610Z"
    }
   },
   "cell_type": "code",
   "source": "lista_productores.info()",
   "id": "507625372568fc72",
   "outputs": [
    {
     "name": "stdout",
     "output_type": "stream",
     "text": [
      "<class 'pandas.core.frame.DataFrame'>\n",
      "RangeIndex: 1525720 entries, 0 to 1525719\n",
      "Data columns (total 11 columns):\n",
      " #   Column            Non-Null Count    Dtype  \n",
      "---  ------            --------------    -----  \n",
      " 0   ESTADO            1525720 non-null  object \n",
      " 1   MUNICIPIO         1450208 non-null  object \n",
      " 2   NOM_MUN           1412445 non-null  object \n",
      " 3   NOM_ENT           1412445 non-null  object \n",
      " 4   CVE_ENT           1412445 non-null  float64\n",
      " 5   CVE_MUN           1412445 non-null  float64\n",
      " 6   ACUSE             1525720 non-null  object \n",
      " 7   APELLIDO PATERNO  1521426 non-null  object \n",
      " 8   APELLIDO MATERNO  1497507 non-null  object \n",
      " 9   NOMBRE (S)        1521427 non-null  object \n",
      " 10  PAQUETE           1525720 non-null  int64  \n",
      "dtypes: float64(2), int64(1), object(8)\n",
      "memory usage: 128.0+ MB\n"
     ]
    }
   ],
   "execution_count": 7
  },
  {
   "metadata": {},
   "cell_type": "markdown",
   "source": "## 2.3 Estadísticas Descriptivas",
   "id": "3377d0de26dccc09"
  },
  {
   "metadata": {
    "ExecuteTime": {
     "end_time": "2024-05-29T08:57:55.491669Z",
     "start_time": "2024-05-29T08:57:53.371511Z"
    }
   },
   "cell_type": "code",
   "source": [
    "# Obtener estadísticas descriptivas para todas las variables\n",
    "descriptive_stats = lista_productores.describe(include='all').transpose()\n",
    "\n",
    "# Mostrar las estadísticas descriptivas\n",
    "print(descriptive_stats)"
   ],
   "id": "d828d73e8ba0c12a",
   "outputs": [
    {
     "name": "stdout",
     "output_type": "stream",
     "text": [
      "                      count   unique                             top    freq  \\\n",
      "ESTADO              1525720       20                        GUERRERO  356223   \n",
      "MUNICIPIO           1450208     1694                  LAS MARGARITAS   19497   \n",
      "NOM_MUN             1412445     1662                  Las Margaritas   19497   \n",
      "NOM_ENT             1412445       17                        Guerrero  354841   \n",
      "CVE_ENT           1412445.0      NaN                             NaN     NaN   \n",
      "CVE_MUN           1412445.0      NaN                             NaN     NaN   \n",
      "ACUSE               1525720  1525720  23-PRONAFE-FERT-000510-S000-AS       1   \n",
      "APELLIDO PATERNO    1521426    13551                       HERNANDEZ   75301   \n",
      "APELLIDO MATERNO    1497507    15970                       HERNANDEZ   75248   \n",
      "NOMBRE (S)          1521427   116715                            JUAN   24614   \n",
      "PAQUETE           1525720.0      NaN                             NaN     NaN   \n",
      "\n",
      "                       mean         std  min   25%   50%   75%    max  \n",
      "ESTADO                  NaN         NaN  NaN   NaN   NaN   NaN    NaN  \n",
      "MUNICIPIO               NaN         NaN  NaN   NaN   NaN   NaN    NaN  \n",
      "NOM_MUN                 NaN         NaN  NaN   NaN   NaN   NaN    NaN  \n",
      "NOM_ENT                 NaN         NaN  NaN   NaN   NaN   NaN    NaN  \n",
      "CVE_ENT           14.019306    5.862325  1.0  12.0  12.0  20.0   31.0  \n",
      "CVE_MUN            82.45165  104.247758  1.0  24.0  53.0  93.0  570.0  \n",
      "ACUSE                   NaN         NaN  NaN   NaN   NaN   NaN    NaN  \n",
      "APELLIDO PATERNO        NaN         NaN  NaN   NaN   NaN   NaN    NaN  \n",
      "APELLIDO MATERNO        NaN         NaN  NaN   NaN   NaN   NaN    NaN  \n",
      "NOMBRE (S)              NaN         NaN  NaN   NaN   NaN   NaN    NaN  \n",
      "PAQUETE            1.463099    0.498637  1.0   1.0   1.0   2.0    2.0  \n"
     ]
    }
   ],
   "execution_count": 8
  },
  {
   "metadata": {},
   "cell_type": "markdown",
   "source": "# 3. Limpieza de Datos",
   "id": "fa46866ef6914741"
  },
  {
   "metadata": {},
   "cell_type": "markdown",
   "source": "## 3.1 Valores Nulos",
   "id": "9145269c2636ee1e"
  },
  {
   "metadata": {
    "ExecuteTime": {
     "end_time": "2024-05-29T08:57:55.719712Z",
     "start_time": "2024-05-29T08:57:55.492674Z"
    }
   },
   "cell_type": "code",
   "source": [
    "valores_nulos = lista_productores.isna().sum()\n",
    "print(valores_nulos)"
   ],
   "id": "eba455847d6e00ef",
   "outputs": [
    {
     "name": "stdout",
     "output_type": "stream",
     "text": [
      "ESTADO                   0\n",
      "MUNICIPIO            75512\n",
      "NOM_MUN             113275\n",
      "NOM_ENT             113275\n",
      "CVE_ENT             113275\n",
      "CVE_MUN             113275\n",
      "ACUSE                    0\n",
      "APELLIDO PATERNO      4294\n",
      "APELLIDO MATERNO     28213\n",
      "NOMBRE (S)            4293\n",
      "PAQUETE                  0\n",
      "dtype: int64\n"
     ]
    }
   ],
   "execution_count": 9
  },
  {
   "metadata": {},
   "cell_type": "markdown",
   "source": "## 3.2 Decisiones sobre valores nulos",
   "id": "3b05c69917be4587"
  },
  {
   "metadata": {
    "ExecuteTime": {
     "end_time": "2024-05-29T08:57:55.916149Z",
     "start_time": "2024-05-29T08:57:55.720718Z"
    }
   },
   "cell_type": "code",
   "source": [
    "# Los nombres y apellidos paternos y maternos que están vacíos y tengan número de acuse se reemplazarán por 'unknown'\n",
    "lista_productores.loc[(lista_productores['APELLIDO PATERNO'].isna()) & (\n",
    "    lista_productores['ACUSE'].notna()), 'APELLIDO PATERNO'] = 'unknown'\n",
    "lista_productores.loc[(lista_productores['APELLIDO MATERNO'].isna()) & (\n",
    "    lista_productores['ACUSE'].notna()), 'APELLIDO MATERNO'] = 'unknown'\n",
    "lista_productores.loc[\n",
    "    (lista_productores['NOMBRE (S)'].isna()) & (lista_productores['ACUSE'].notna()), 'NOMBRE (S)'] = 'unknown'"
   ],
   "id": "680871a309df9721",
   "outputs": [],
   "execution_count": 10
  },
  {
   "metadata": {
    "ExecuteTime": {
     "end_time": "2024-05-29T08:57:56.155668Z",
     "start_time": "2024-05-29T08:57:55.916149Z"
    }
   },
   "cell_type": "code",
   "source": [
    "duplicated_rows_productores = lista_productores['ACUSE'].duplicated()\n",
    "number_of_duplicated_rows_productores = duplicated_rows_productores.sum()\n",
    "print(f\"El número de filas duplicadas es: {number_of_duplicated_rows_productores}\")"
   ],
   "id": "a382affd257f97d7",
   "outputs": [
    {
     "name": "stdout",
     "output_type": "stream",
     "text": [
      "El número de filas duplicadas es: 0\n"
     ]
    }
   ],
   "execution_count": 11
  },
  {
   "metadata": {},
   "cell_type": "markdown",
   "source": "## 3.3 Valores Duplicados",
   "id": "2602e983b55aaa10"
  },
  {
   "metadata": {
    "ExecuteTime": {
     "end_time": "2024-05-29T08:57:57.206695Z",
     "start_time": "2024-05-29T08:57:56.157673Z"
    }
   },
   "cell_type": "code",
   "source": [
    "filas_duplicadas = lista_productores.duplicated().sum()\n",
    "print(f'Hay {filas_duplicadas} valores duplicados')"
   ],
   "id": "77cb4f0f4a5e3f9f",
   "outputs": [
    {
     "name": "stdout",
     "output_type": "stream",
     "text": [
      "Hay 0 valores duplicados\n"
     ]
    }
   ],
   "execution_count": 12
  },
  {
   "metadata": {
    "ExecuteTime": {
     "end_time": "2024-05-29T08:57:57.703693Z",
     "start_time": "2024-05-29T08:57:57.207701Z"
    }
   },
   "cell_type": "code",
   "source": [
    "for column in lista_productores.columns:\n",
    "    duplicated_rows = lista_productores[column].duplicated()\n",
    "    number_of_duplicated_rows = duplicated_rows.sum()\n",
    "    print(f\"El número de filas duplicadas en la columna {column} es: {number_of_duplicated_rows}\")"
   ],
   "id": "ddbdaed48b0948e9",
   "outputs": [
    {
     "name": "stdout",
     "output_type": "stream",
     "text": [
      "El número de filas duplicadas en la columna ESTADO es: 1525700\n",
      "El número de filas duplicadas en la columna MUNICIPIO es: 1524025\n",
      "El número de filas duplicadas en la columna NOM_MUN es: 1524057\n",
      "El número de filas duplicadas en la columna NOM_ENT es: 1525702\n",
      "El número de filas duplicadas en la columna CVE_ENT es: 1525702\n",
      "El número de filas duplicadas en la columna CVE_MUN es: 1525157\n",
      "El número de filas duplicadas en la columna ACUSE es: 0\n",
      "El número de filas duplicadas en la columna APELLIDO PATERNO es: 1512168\n",
      "El número de filas duplicadas en la columna APELLIDO MATERNO es: 1509749\n",
      "El número de filas duplicadas en la columna NOMBRE (S) es: 1409004\n",
      "El número de filas duplicadas en la columna PAQUETE es: 1525718\n"
     ]
    }
   ],
   "execution_count": 13
  },
  {
   "metadata": {},
   "cell_type": "markdown",
   "source": "## 3.4 Decisiones sobre valores duplicados",
   "id": "96f7ad6838628af3"
  },
  {
   "metadata": {
    "ExecuteTime": {
     "end_time": "2024-05-29T08:57:57.708248Z",
     "start_time": "2024-05-29T08:57:57.705697Z"
    }
   },
   "cell_type": "code",
   "source": "",
   "id": "9b1f35cdd50b9459",
   "outputs": [],
   "execution_count": 13
  },
  {
   "metadata": {},
   "cell_type": "markdown",
   "source": "## 3.5 Corrección de Tipos de Datos",
   "id": "3df92c4a455ab3c7"
  },
  {
   "metadata": {
    "ExecuteTime": {
     "end_time": "2024-05-29T08:57:58.497814Z",
     "start_time": "2024-05-29T08:57:57.710254Z"
    }
   },
   "cell_type": "code",
   "source": [
    "lista_productores = lista_productores.astype({\n",
    "    'ESTADO': 'str',\n",
    "    'MUNICIPIO': 'str',\n",
    "    'ACUSE': 'str',\n",
    "    'APELLIDO PATERNO': 'str',\n",
    "    'APELLIDO MATERNO': 'str',\n",
    "    'NOMBRE (S)': 'str',\n",
    "    'PAQUETE': 'int',\n",
    "    'NOM_MUN': 'str',\n",
    "    'NOM_ENT': 'str',\n",
    "    'CVE_MUN': 'str',\n",
    "    'CVE_ENT': 'str'\n",
    "})"
   ],
   "id": "996f4be7b7d684da",
   "outputs": [],
   "execution_count": 14
  },
  {
   "metadata": {
    "ExecuteTime": {
     "end_time": "2024-05-29T08:57:58.811467Z",
     "start_time": "2024-05-29T08:57:58.499819Z"
    }
   },
   "cell_type": "code",
   "source": "lista_productores.info()",
   "id": "9d2b2d63ab115b07",
   "outputs": [
    {
     "name": "stdout",
     "output_type": "stream",
     "text": [
      "<class 'pandas.core.frame.DataFrame'>\n",
      "RangeIndex: 1525720 entries, 0 to 1525719\n",
      "Data columns (total 11 columns):\n",
      " #   Column            Non-Null Count    Dtype \n",
      "---  ------            --------------    ----- \n",
      " 0   ESTADO            1525720 non-null  object\n",
      " 1   MUNICIPIO         1525720 non-null  object\n",
      " 2   NOM_MUN           1525720 non-null  object\n",
      " 3   NOM_ENT           1525720 non-null  object\n",
      " 4   CVE_ENT           1525720 non-null  object\n",
      " 5   CVE_MUN           1525720 non-null  object\n",
      " 6   ACUSE             1525720 non-null  object\n",
      " 7   APELLIDO PATERNO  1525720 non-null  object\n",
      " 8   APELLIDO MATERNO  1525720 non-null  object\n",
      " 9   NOMBRE (S)        1525720 non-null  object\n",
      " 10  PAQUETE           1525720 non-null  int32 \n",
      "dtypes: int32(1), object(10)\n",
      "memory usage: 122.2+ MB\n"
     ]
    }
   ],
   "execution_count": 15
  },
  {
   "metadata": {
    "ExecuteTime": {
     "end_time": "2024-05-29T08:57:58.816334Z",
     "start_time": "2024-05-29T08:57:58.812471Z"
    }
   },
   "cell_type": "code",
   "source": " ",
   "id": "b760d0e106943c6a",
   "outputs": [],
   "execution_count": 15
  },
  {
   "metadata": {
    "ExecuteTime": {
     "end_time": "2024-05-29T08:57:58.821618Z",
     "start_time": "2024-05-29T08:57:58.817341Z"
    }
   },
   "cell_type": "code",
   "source": "",
   "id": "43760fa9908eda3e",
   "outputs": [],
   "execution_count": 15
  },
  {
   "metadata": {
    "ExecuteTime": {
     "end_time": "2024-05-29T08:57:58.826598Z",
     "start_time": "2024-05-29T08:57:58.823624Z"
    }
   },
   "cell_type": "code",
   "source": "",
   "id": "1cd16b0d4aa34d19",
   "outputs": [],
   "execution_count": 15
  },
  {
   "metadata": {
    "ExecuteTime": {
     "end_time": "2024-05-29T08:57:58.831193Z",
     "start_time": "2024-05-29T08:57:58.827603Z"
    }
   },
   "cell_type": "code",
   "source": "",
   "id": "f9daa21fe73a5036",
   "outputs": [],
   "execution_count": 15
  },
  {
   "metadata": {},
   "cell_type": "markdown",
   "source": "# 4. Análisis Univariado",
   "id": "70fe0de7ab78bdc5"
  },
  {
   "metadata": {},
   "cell_type": "markdown",
   "source": [
    "## 4.1 Variables Numéricas\n",
    "\n",
    "En este caso, la única variable númerica es la de paquetes."
   ],
   "id": "7271523a5b7a4b98"
  },
  {
   "metadata": {
    "ExecuteTime": {
     "end_time": "2024-05-29T08:57:59.003780Z",
     "start_time": "2024-05-29T08:57:58.833200Z"
    }
   },
   "cell_type": "code",
   "source": [
    "# Filtrar los datos para estar dentro del rango de interés\n",
    "paquetes = lista_productores['PAQUETE']\n",
    "\n",
    "# Crear el histograma con un mayor número de bins\n",
    "plt.figure(figsize=(10, 6))\n",
    "barras = plt.hist(paquetes, color='skyblue', edgecolor='black')\n",
    "plt.xlabel('Numero de paquetes')\n",
    "plt.ylabel('Frecuencia')\n",
    "plt.title('Histograma de Paquetes')\n",
    "plt.grid(axis='y', linestyle='--', alpha=0.7)\n",
    "\n",
    "# Recorrer las barras\n",
    "for i in range(len(barras[0])):\n",
    "    # Obtener el valor de la barra\n",
    "    valor = barras[0][i]\n",
    "\n",
    "     # Calcular la posición x de la anotación como el centro de la barra\n",
    "    bar_width = barras[1][1] - barras[1][0]  # Ancho de las barras\n",
    "    x_pos = barras[1][i] + bar_width / 2  # Posición x del centro de la barra\n",
    "\n",
    "    # Mostrar el valor encima de la barra\n",
    "    plt.annotate(f\"{valor:.0f}\", xy=(x_pos, valor),\n",
    "                 ha=\"center\", va=\"bottom\", fontsize=8, color=\"black\")\n",
    "\n",
    "plt.show()"
   ],
   "id": "aad85e68ef3a64ab",
   "outputs": [
    {
     "data": {
      "text/plain": [
       "<Figure size 1000x600 with 1 Axes>"
      ],
      "image/png": "[encoded data removed]"
     },
     "metadata": {},
     "output_type": "display_data"
    }
   ],
   "execution_count": 16
  },
  {
   "metadata": {},
   "cell_type": "code",
   "source": "# TODO Ver cantidad en una etiqueta",
   "id": "acd7cb277d49317a",
   "outputs": [],
   "execution_count": null
  },
  {
   "metadata": {},
   "cell_type": "markdown",
   "source": "## 4.2 Variables Categóricas",
   "id": "168265eda5fe173b"
  },
  {
   "metadata": {},
   "cell_type": "code",
   "source": [
    "paquetes = lista_productores['ESTADO_prod']\n",
    "\n",
    "# Crear el histograma con un mayor número de bins\n",
    "plt.figure(figsize=(30, 4))\n",
    "plt.hist(paquetes, color='skyblue', edgecolor='black')\n",
    "plt.xlabel('Cantidad')\n",
    "plt.ylabel('Frecuencia')\n",
    "plt.title('Histograma de Paquetes')\n",
    "plt.grid(axis='x', linestyle='--', alpha=0.7)\n",
    "plt.show()"
   ],
   "id": "42e0eda2ee5144ca",
   "outputs": [],
   "execution_count": null
  },
  {
   "metadata": {},
   "cell_type": "code",
   "source": "x = lista_productores[['ESTADO_prod', 'MUNICIPIO_prod', 'ACUSE']]",
   "id": "1c104530d5604575",
   "outputs": [],
   "execution_count": null
  },
  {
   "metadata": {},
   "cell_type": "code",
   "source": "grouped_df = lista_productores.groupby(\"ESTADO_prod\")[\"MUNICIPIO_inegi\"].count().reset_index()",
   "id": "3f1d3838bce75792",
   "outputs": [],
   "execution_count": null
  },
  {
   "metadata": {},
   "cell_type": "code",
   "source": "grouped_df",
   "id": "994cb34c098e7b4b",
   "outputs": [],
   "execution_count": null
  },
  {
   "metadata": {},
   "cell_type": "code",
   "source": "",
   "id": "20cd6e448fdb5c2a",
   "outputs": [],
   "execution_count": null
  }
 ],
 "metadata": {
  "kernelspec": {
   "display_name": "Python 3",
   "language": "python",
   "name": "python3"
  },
  "language_info": {
   "codemirror_mode": {
    "name": "ipython",
    "version": 2
   },
   "file_extension": ".py",
   "mimetype": "text/x-python",
   "name": "python",
   "nbconvert_exporter": "python",
   "pygments_lexer": "ipython2",
   "version": "2.7.6"
  }
 },
 "nbformat": 4,
 "nbformat_minor": 5
}
