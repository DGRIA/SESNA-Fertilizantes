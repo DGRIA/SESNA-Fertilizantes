{
 "cells": [
  {
   "cell_type": "markdown",
   "id": "e81f8196fda25d5b",
   "metadata": {},
   "source": []
  },
  {
   "cell_type": "markdown",
   "id": "6960feab7ef56473",
   "metadata": {},
   "source": [
    "# Data Cleaning Listado de Productores Autorizados"
   ]
  },
  {
   "cell_type": "markdown",
   "id": "23de63a25eb2daf6",
   "metadata": {},
   "source": [
    "## Autores\n",
    "- José Luis Delgado Dávara\n",
    "- Arturo Ortiz Aguilar\n",
    "- Beltrán Valle Gutiérrez-Cortines"
   ]
  },
  {
   "cell_type": "code",
   "execution_count": 1,
   "id": "cb5833c3d96a224c",
   "metadata": {
    "ExecuteTime": {
     "end_time": "2024-05-30T14:01:37.230529Z",
     "start_time": "2024-05-30T14:01:37.040759Z"
    }
   },
   "outputs": [],
   "source": [
    "import pandas as pd\n",
    "import seaborn as sns\n",
    "from thefuzz import fuzz\n",
    "from thefuzz import process\n",
    "import matplotlib.pyplot as plt\n",
    "import numpy as np\n",
    "import os\n",
    "import glob\n",
    "import re\n",
    "import unidecode"
   ]
  },
  {
   "cell_type": "code",
   "execution_count": 2,
   "id": "ac0b22b6344a0b96",
   "metadata": {
    "ExecuteTime": {
     "end_time": "2024-05-30T14:01:37.238020Z",
     "start_time": "2024-05-30T14:01:37.231536Z"
    }
   },
   "outputs": [],
   "source": [
    "# Definición de funciones\n",
    "\n",
    "def load_datasets(directory):\n",
    "    # Get a list of all CSV files in the directory\n",
    "    csv_files = glob.glob(os.path.join(directory, '*.csv'))\n",
    "\n",
    "    # Read each CSV file and store the DataFrame in a list\n",
    "    dataframes = [pd.read_csv(file, encoding='cp1252', index_col=0, skiprows=1) for file in csv_files]\n",
    "\n",
    "    # Concatenate all DataFrames in the list\n",
    "    merged_df = pd.concat(dataframes, join='inner', ignore_index=True)\n",
    "\n",
    "    return merged_df\n",
    "\n",
    "\n",
    "def clean_text(text):\n",
    "    \"\"\"\n",
    "    De esta manera tenemos el texto sin espacios blancos extra y sobre todo con todas las palabras con capitalización correcta.\n",
    "    \"\"\"\n",
    "    if pd.isna(text):\n",
    "        return text\n",
    "    text = text.strip()  # Eliminate white spaces\n",
    "    text = text.lower()  # Convert to lowercase\n",
    "    text = unidecode.unidecode(text)  # Remove accents\n",
    "    text = re.sub('-.*-', '', text)\n",
    "    text = re.sub('\\s+', ' ', text)  # Eliminate extra white spaces\n",
    "    text = re.sub('^\\s+|\\s+?$', '', text)  # Eliminate spaces at the beginning and end\n",
    "    return text"
   ]
  },
  {
   "cell_type": "markdown",
   "id": "5c0595e208484f96",
   "metadata": {},
   "source": [
    "# 1. Lectura de los datos"
   ]
  },
  {
   "cell_type": "markdown",
   "id": "9b99291631d5d3b1",
   "metadata": {},
   "source": [
    "Lectura del dataset del INEGI"
   ]
  },
  {
   "cell_type": "code",
   "execution_count": null,
   "id": "2596158784542f3d",
   "metadata": {
    "ExecuteTime": {
     "end_time": "2024-05-30T14:01:38.326264Z",
     "start_time": "2024-05-30T14:01:37.241026Z"
    }
   },
   "outputs": [],
   "source": [
    "path_dataset_inegi = '../../data/dataset_inegi.csv'\n",
    "dataset_inegi = pd.read_csv(path_dataset_inegi, encoding='cp1252', dtype={'CVE_ENT': str, 'CVE_MUN': str})"
   ]
  },
  {
   "cell_type": "markdown",
   "id": "650cbc699caa705d",
   "metadata": {},
   "source": [
    "Lectura del listado de productores autorizados"
   ]
  },
  {
   "cell_type": "code",
   "execution_count": null,
   "id": "53fef8d078ec79cf",
   "metadata": {
    "ExecuteTime": {
     "end_time": "2024-05-30T14:01:40.160043Z",
     "start_time": "2024-05-30T14:01:38.327278Z"
    }
   },
   "outputs": [],
   "source": [
    "listado_productores = load_datasets('../../data/productores_autorizados/')"
   ]
  },
  {
   "cell_type": "code",
   "execution_count": 3,
   "id": "fb3f5433",
   "metadata": {},
   "outputs": [],
   "source": [
    "path_dataset_inegi_2022 = '../../data/dataset_inegi_2022.csv'\n",
    "dataset_inegi_2022 = pd.read_csv(path_dataset_inegi_2022)"
   ]
  },
  {
   "cell_type": "markdown",
   "id": "35eb26bcb3f4f060",
   "metadata": {},
   "source": [
    "# 2. Limpieza de los datos"
   ]
  },
  {
   "cell_type": "markdown",
   "id": "f5c385abb0e2ebea",
   "metadata": {},
   "source": [
    "## 2.1 INEGI"
   ]
  },
  {
   "cell_type": "code",
   "execution_count": 13,
   "id": "bc3d8e451808121b",
   "metadata": {
    "ExecuteTime": {
     "end_time": "2024-05-30T14:01:40.169375Z",
     "start_time": "2024-05-30T14:01:40.161048Z"
    }
   },
   "outputs": [
    {
     "ename": "NameError",
     "evalue": "name 'dataset_inegi' is not defined",
     "output_type": "error",
     "traceback": [
      "\u001b[0;31m---------------------------------------------------------------------------\u001b[0m",
      "\u001b[0;31mNameError\u001b[0m                                 Traceback (most recent call last)",
      "Cell \u001b[0;32mIn[13], line 2\u001b[0m\n\u001b[1;32m      1\u001b[0m \u001b[38;5;66;03m# Revisamos las columnas del dataset\u001b[39;00m\n\u001b[0;32m----> 2\u001b[0m \u001b[43mdataset_inegi\u001b[49m\u001b[38;5;241m.\u001b[39mcolumns\n",
      "\u001b[0;31mNameError\u001b[0m: name 'dataset_inegi' is not defined"
     ]
    }
   ],
   "source": [
    "# Revisamos las columnas del dataset\n",
    "dataset_inegi.columns"
   ]
  },
  {
   "cell_type": "code",
   "execution_count": null,
   "id": "64e3fc4553663cc5",
   "metadata": {
    "ExecuteTime": {
     "end_time": "2024-05-30T14:01:40.197601Z",
     "start_time": "2024-05-30T14:01:40.173380Z"
    }
   },
   "outputs": [],
   "source": [
    "# Revisamos las primeras filas del dataset\n",
    "dataset_inegi.head()"
   ]
  },
  {
   "cell_type": "code",
   "execution_count": null,
   "id": "ac6cf4a705d01ca9",
   "metadata": {
    "ExecuteTime": {
     "end_time": "2024-05-30T14:01:40.209771Z",
     "start_time": "2024-05-30T14:01:40.198605Z"
    }
   },
   "outputs": [],
   "source": [
    "# Eliminamos las columnas que no son de interés\n",
    "COLUMNS_TO_DROP = ['MAPA', 'Estatus', 'NOM_ABR', 'CVE_LOC', 'NOM_LOC', 'AMBITO', 'LATITUD', 'LONGITUD',\n",
    "                   'LAT_DECIMAL', 'LON_DECIMAL', 'ALTITUD', 'CVE_CARTA', 'POB_TOTAL',\n",
    "                   'POB_MASCULINA', 'POB_FEMENINA', 'TOTAL DE VIVIENDAS HABITADAS']\n",
    "dataset_inegi = dataset_inegi.drop(COLUMNS_TO_DROP, axis=1)"
   ]
  },
  {
   "cell_type": "code",
   "execution_count": null,
   "id": "61b75d87762aaa69",
   "metadata": {
    "ExecuteTime": {
     "end_time": "2024-05-30T14:01:40.222142Z",
     "start_time": "2024-05-30T14:01:40.211783Z"
    }
   },
   "outputs": [],
   "source": [
    "# Las claves de entidad y municipio serán tratadas numéricamente en la limpieza aunque posteriormente se les asignará el tipo de cadena de texto para tener el estándar.\n",
    "dataset_inegi.dtypes"
   ]
  },
  {
   "cell_type": "code",
   "execution_count": null,
   "id": "8d89a91fdd8ba82b",
   "metadata": {
    "ExecuteTime": {
     "end_time": "2024-05-30T14:01:40.286905Z",
     "start_time": "2024-05-30T14:01:40.226155Z"
    }
   },
   "outputs": [],
   "source": [
    "# Revisamos la cantidad de filas y columnas del dataset\n",
    "print(\"Shape of dataset_inegi: \", dataset_inegi.shape)\n",
    "\n",
    "dataset_inegi_clean = dataset_inegi.drop_duplicates()\n",
    "print(\"Shape of dataset_inegi_clean: \", dataset_inegi_clean.shape)"
   ]
  },
  {
   "cell_type": "markdown",
   "id": "5ee1cfeb4a72782c",
   "metadata": {},
   "source": [
    "A partir de aquí seguimos trabajando con el listado de Estados y Municipios limpio de Inegi (sin repetir) \"dataset_inegi_clean\"."
   ]
  },
  {
   "cell_type": "code",
   "execution_count": null,
   "id": "d824af463f93f62a",
   "metadata": {
    "ExecuteTime": {
     "end_time": "2024-05-30T14:01:40.299354Z",
     "start_time": "2024-05-30T14:01:40.288916Z"
    }
   },
   "outputs": [],
   "source": [
    "# Revisamos las primeras filas del dataset con las columnas seleccionadas\n",
    "dataset_inegi_clean.head()"
   ]
  },
  {
   "cell_type": "code",
   "execution_count": null,
   "id": "d4ea9f7f9cae4cfc",
   "metadata": {
    "ExecuteTime": {
     "end_time": "2024-05-30T14:01:40.308523Z",
     "start_time": "2024-05-30T14:01:40.300381Z"
    }
   },
   "outputs": [],
   "source": [
    "# Revisamos las últimas filas del dataset con las columnas seleccionadas\n",
    "dataset_inegi_clean.tail()"
   ]
  },
  {
   "cell_type": "code",
   "execution_count": null,
   "id": "2699470a43525bbb",
   "metadata": {
    "ExecuteTime": {
     "end_time": "2024-05-30T14:01:40.320927Z",
     "start_time": "2024-05-30T14:01:40.309949Z"
    }
   },
   "outputs": [],
   "source": [
    "dataset_inegi_clean.info()"
   ]
  },
  {
   "cell_type": "code",
   "execution_count": null,
   "id": "71c209b05bf35c7e",
   "metadata": {
    "ExecuteTime": {
     "end_time": "2024-05-30T14:01:40.330064Z",
     "start_time": "2024-05-30T14:01:40.321936Z"
    }
   },
   "outputs": [],
   "source": [
    "print(\"Los valores únicos en cada columna son:\\n\", dataset_inegi_clean.nunique())"
   ]
  },
  {
   "cell_type": "code",
   "execution_count": null,
   "id": "1af2e236df4d4847",
   "metadata": {
    "ExecuteTime": {
     "end_time": "2024-05-30T14:01:40.341472Z",
     "start_time": "2024-05-30T14:01:40.331071Z"
    }
   },
   "outputs": [],
   "source": [
    "# Creamos una columna con la clave única por municipio\n",
    "\n",
    "dataset_inegi_clean['CVE_MUN_Unique'] = dataset_inegi_clean['CVE_ENT'].astype(str) + '-' + dataset_inegi_clean[\n",
    "    'CVE_MUN'].astype(str)\n",
    "\n",
    "dataset_inegi_clean.head()"
   ]
  },
  {
   "cell_type": "code",
   "execution_count": null,
   "id": "e86bd51ac84fbb00",
   "metadata": {
    "ExecuteTime": {
     "end_time": "2024-05-30T14:01:40.351987Z",
     "start_time": "2024-05-30T14:01:40.343242Z"
    }
   },
   "outputs": [],
   "source": [
    "dataset_inegi_clean.tail()"
   ]
  },
  {
   "cell_type": "markdown",
   "id": "aef4017a546db04a",
   "metadata": {},
   "source": [
    "### 2.1.1 Estandarización de nombre de municipios\n",
    "\n",
    "Con el fin de poder hacer un merge bajo los mismos nombres, hacemos una limpieza de los datos."
   ]
  },
  {
   "cell_type": "code",
   "execution_count": null,
   "id": "cec148c18a669995",
   "metadata": {
    "ExecuteTime": {
     "end_time": "2024-05-30T14:01:40.381500Z",
     "start_time": "2024-05-30T14:01:40.352997Z"
    }
   },
   "outputs": [],
   "source": [
    "# Estandarizamos la limpieza de los datos\n",
    "dataset_inegi_clean['NOM_ENT_Clean'] = dataset_inegi_clean['NOM_ENT'].apply(clean_text)\n",
    "dataset_inegi_clean['NOM_MUN_Clean'] = dataset_inegi_clean['NOM_MUN'].apply(clean_text)"
   ]
  },
  {
   "cell_type": "code",
   "execution_count": null,
   "id": "4bfd20c3f448a963",
   "metadata": {
    "ExecuteTime": {
     "end_time": "2024-05-30T14:01:40.394414Z",
     "start_time": "2024-05-30T14:01:40.382509Z"
    }
   },
   "outputs": [],
   "source": [
    "dataset_inegi_clean"
   ]
  },
  {
   "cell_type": "code",
   "execution_count": null,
   "id": "d3280e796c8ee53d",
   "metadata": {
    "ExecuteTime": {
     "end_time": "2024-05-30T14:01:40.402733Z",
     "start_time": "2024-05-30T14:01:40.396421Z"
    }
   },
   "outputs": [],
   "source": [
    "dataset_inegi_clean.shape"
   ]
  },
  {
   "cell_type": "markdown",
   "id": "0c59c771",
   "metadata": {},
   "source": [
    "## 2.2 INEGI 2022"
   ]
  },
  {
   "cell_type": "code",
   "execution_count": 4,
   "id": "ee8323f2",
   "metadata": {},
   "outputs": [
    {
     "data": {
      "text/plain": [
       "Index(['MAPA', 'Estatus', 'CVE_ENT', 'NOM_ENT', 'NOM_ABR', 'CVE_MUN',\n",
       "       'NOM_MUN', 'CVE_LOC', 'NOM_LOC', 'AMBITO', 'LATITUD', 'LONGITUD',\n",
       "       'LAT_DECIMAL', 'LON_DECIMAL', 'ALTITUD', 'CVE_CARTA', 'POB_TOTAL',\n",
       "       'POB_MASCULINA', 'POB_FEMENINA', 'TOTAL DE VIVIENDAS HABITADAS'],\n",
       "      dtype='object')"
      ]
     },
     "execution_count": 4,
     "metadata": {},
     "output_type": "execute_result"
    }
   ],
   "source": [
    "dataset_inegi_2022.columns"
   ]
  },
  {
   "cell_type": "code",
   "execution_count": 5,
   "id": "d2758636",
   "metadata": {},
   "outputs": [],
   "source": [
    "# Eliminamos las columnas que no son de interés\n",
    "COLUMNS_TO_DROP = ['MAPA', 'Estatus', 'NOM_ABR', 'AMBITO', 'LATITUD', 'LONGITUD',\n",
    "                   'LAT_DECIMAL', 'LON_DECIMAL', 'ALTITUD', 'CVE_CARTA', 'POB_TOTAL',\n",
    "                   'POB_MASCULINA', 'POB_FEMENINA', 'TOTAL DE VIVIENDAS HABITADAS']\n",
    "dataset_inegi_2022 = dataset_inegi_2022.drop(COLUMNS_TO_DROP, axis=1)"
   ]
  },
  {
   "cell_type": "code",
   "execution_count": 6,
   "id": "d9596421",
   "metadata": {},
   "outputs": [
    {
     "data": {
      "text/plain": [
       "(300240, 6)"
      ]
     },
     "execution_count": 6,
     "metadata": {},
     "output_type": "execute_result"
    }
   ],
   "source": [
    "dataset_inegi_2022.columns\n",
    "dataset_inegi_2022.shape\n",
    "#dataset_inegi_2022.drop_duplicates()"
   ]
  },
  {
   "cell_type": "code",
   "execution_count": 7,
   "id": "029ee7b4",
   "metadata": {},
   "outputs": [
    {
     "data": {
      "text/plain": [
       "Index(['CVE_ENT', 'NOM_ENT', 'CVE_MUN', 'NOM_MUN', 'CVE_LOC', 'NOM_LOC'], dtype='object')"
      ]
     },
     "execution_count": 7,
     "metadata": {},
     "output_type": "execute_result"
    }
   ],
   "source": [
    "dataset_inegi_2022.drop_duplicates()\n",
    "dataset_inegi_2022_clean = dataset_inegi_2022\n",
    "dataset_inegi_2022_clean.columns"
   ]
  },
  {
   "cell_type": "markdown",
   "id": "f1ca92f7",
   "metadata": {},
   "source": [
    "### 2.2.1 Estandarización de nombre de municipios\n",
    "\n",
    "Con el fin de poder hacer un merge bajo los mismos nombres, hacemos una limpieza de los datos."
   ]
  },
  {
   "cell_type": "code",
   "execution_count": 8,
   "id": "4f9b00e9",
   "metadata": {},
   "outputs": [],
   "source": [
    "# Creamos una columna con la clave única por municipio y por localidad\n",
    "# ceamos dataset_inegi_2022_clean\n",
    "\n",
    "dataset_inegi_2022_clean['ENT_c_inegi'] = dataset_inegi_2022['NOM_ENT'].apply(clean_text)\n",
    "dataset_inegi_2022_clean['MUN_c_inegi'] = dataset_inegi_2022['NOM_MUN'].apply(clean_text)\n",
    "dataset_inegi_2022_clean['LOC_c_inegi'] = dataset_inegi_2022['NOM_LOC'].apply(clean_text)"
   ]
  },
  {
   "cell_type": "code",
   "execution_count": 11,
   "id": "709dbc90",
   "metadata": {},
   "outputs": [],
   "source": [
    "#Creación de claves\n",
    "\n",
    "dataset_inegi_2022_clean[\"KEY_MUN_inegi\"] = dataset_inegi_2022_clean[\"ENT_c_inegi\"] + \"-\" + dataset_inegi_2022_clean[\"MUN_c_inegi\"]\n",
    "dataset_inegi_2022_clean[\"KEY_LOC_inegi\"] = dataset_inegi_2022_clean[\"ENT_c_inegi\"] + \"-\" + dataset_inegi_2022_clean[\"MUN_c_inegi\"] + \"-\" + dataset_inegi_2022_clean[\"LOC_c_inegi\"]"
   ]
  },
  {
   "cell_type": "code",
   "execution_count": 12,
   "id": "b6265dbd",
   "metadata": {},
   "outputs": [
    {
     "data": {
      "text/html": [
       "<div>\n",
       "<style scoped>\n",
       "    .dataframe tbody tr th:only-of-type {\n",
       "        vertical-align: middle;\n",
       "    }\n",
       "\n",
       "    .dataframe tbody tr th {\n",
       "        vertical-align: top;\n",
       "    }\n",
       "\n",
       "    .dataframe thead th {\n",
       "        text-align: right;\n",
       "    }\n",
       "</style>\n",
       "<table border=\"1\" class=\"dataframe\">\n",
       "  <thead>\n",
       "    <tr style=\"text-align: right;\">\n",
       "      <th></th>\n",
       "      <th>CVE_ENT</th>\n",
       "      <th>NOM_ENT</th>\n",
       "      <th>CVE_MUN</th>\n",
       "      <th>NOM_MUN</th>\n",
       "      <th>CVE_LOC</th>\n",
       "      <th>NOM_LOC</th>\n",
       "      <th>ENT_c_inegi</th>\n",
       "      <th>MUN_c_inegi</th>\n",
       "      <th>LOC_c_inegi</th>\n",
       "      <th>KEY_MUN_inegi</th>\n",
       "      <th>KEY_LOC_inegi</th>\n",
       "    </tr>\n",
       "  </thead>\n",
       "  <tbody>\n",
       "    <tr>\n",
       "      <th>0</th>\n",
       "      <td>1</td>\n",
       "      <td>Aguascalientes</td>\n",
       "      <td>1</td>\n",
       "      <td>Aguascalientes</td>\n",
       "      <td>1</td>\n",
       "      <td>Aguascalientes</td>\n",
       "      <td>aguascalientes</td>\n",
       "      <td>aguascalientes</td>\n",
       "      <td>aguascalientes</td>\n",
       "      <td>aguascalientes-aguascalientes</td>\n",
       "      <td>aguascalientes-aguascalientes-aguascalientes</td>\n",
       "    </tr>\n",
       "    <tr>\n",
       "      <th>1</th>\n",
       "      <td>1</td>\n",
       "      <td>Aguascalientes</td>\n",
       "      <td>1</td>\n",
       "      <td>Aguascalientes</td>\n",
       "      <td>94</td>\n",
       "      <td>Granja Adelita</td>\n",
       "      <td>aguascalientes</td>\n",
       "      <td>aguascalientes</td>\n",
       "      <td>granja adelita</td>\n",
       "      <td>aguascalientes-aguascalientes</td>\n",
       "      <td>aguascalientes-aguascalientes-granja adelita</td>\n",
       "    </tr>\n",
       "    <tr>\n",
       "      <th>2</th>\n",
       "      <td>1</td>\n",
       "      <td>Aguascalientes</td>\n",
       "      <td>1</td>\n",
       "      <td>Aguascalientes</td>\n",
       "      <td>96</td>\n",
       "      <td>Agua Azul</td>\n",
       "      <td>aguascalientes</td>\n",
       "      <td>aguascalientes</td>\n",
       "      <td>agua azul</td>\n",
       "      <td>aguascalientes-aguascalientes</td>\n",
       "      <td>aguascalientes-aguascalientes-agua azul</td>\n",
       "    </tr>\n",
       "    <tr>\n",
       "      <th>3</th>\n",
       "      <td>1</td>\n",
       "      <td>Aguascalientes</td>\n",
       "      <td>1</td>\n",
       "      <td>Aguascalientes</td>\n",
       "      <td>100</td>\n",
       "      <td>Rancho Alegre</td>\n",
       "      <td>aguascalientes</td>\n",
       "      <td>aguascalientes</td>\n",
       "      <td>rancho alegre</td>\n",
       "      <td>aguascalientes-aguascalientes</td>\n",
       "      <td>aguascalientes-aguascalientes-rancho alegre</td>\n",
       "    </tr>\n",
       "    <tr>\n",
       "      <th>4</th>\n",
       "      <td>1</td>\n",
       "      <td>Aguascalientes</td>\n",
       "      <td>1</td>\n",
       "      <td>Aguascalientes</td>\n",
       "      <td>102</td>\n",
       "      <td>Los Arbolitos [Rancho]</td>\n",
       "      <td>aguascalientes</td>\n",
       "      <td>aguascalientes</td>\n",
       "      <td>los arbolitos [rancho]</td>\n",
       "      <td>aguascalientes-aguascalientes</td>\n",
       "      <td>aguascalientes-aguascalientes-los arbolitos [r...</td>\n",
       "    </tr>\n",
       "  </tbody>\n",
       "</table>\n",
       "</div>"
      ],
      "text/plain": [
       "   CVE_ENT         NOM_ENT  CVE_MUN         NOM_MUN  CVE_LOC  \\\n",
       "0        1  Aguascalientes        1  Aguascalientes        1   \n",
       "1        1  Aguascalientes        1  Aguascalientes       94   \n",
       "2        1  Aguascalientes        1  Aguascalientes       96   \n",
       "3        1  Aguascalientes        1  Aguascalientes      100   \n",
       "4        1  Aguascalientes        1  Aguascalientes      102   \n",
       "\n",
       "                  NOM_LOC     ENT_c_inegi     MUN_c_inegi  \\\n",
       "0          Aguascalientes  aguascalientes  aguascalientes   \n",
       "1          Granja Adelita  aguascalientes  aguascalientes   \n",
       "2               Agua Azul  aguascalientes  aguascalientes   \n",
       "3           Rancho Alegre  aguascalientes  aguascalientes   \n",
       "4  Los Arbolitos [Rancho]  aguascalientes  aguascalientes   \n",
       "\n",
       "              LOC_c_inegi                  KEY_MUN_inegi  \\\n",
       "0          aguascalientes  aguascalientes-aguascalientes   \n",
       "1          granja adelita  aguascalientes-aguascalientes   \n",
       "2               agua azul  aguascalientes-aguascalientes   \n",
       "3           rancho alegre  aguascalientes-aguascalientes   \n",
       "4  los arbolitos [rancho]  aguascalientes-aguascalientes   \n",
       "\n",
       "                                       KEY_LOC_inegi  \n",
       "0       aguascalientes-aguascalientes-aguascalientes  \n",
       "1       aguascalientes-aguascalientes-granja adelita  \n",
       "2            aguascalientes-aguascalientes-agua azul  \n",
       "3        aguascalientes-aguascalientes-rancho alegre  \n",
       "4  aguascalientes-aguascalientes-los arbolitos [r...  "
      ]
     },
     "execution_count": 12,
     "metadata": {},
     "output_type": "execute_result"
    }
   ],
   "source": [
    "dataset_inegi_2022_clean.head()"
   ]
  },
  {
   "cell_type": "code",
   "execution_count": null,
   "id": "faf78c3c",
   "metadata": {},
   "outputs": [],
   "source": [
    "dataset_inegi_2022_clean.head()"
   ]
  },
  {
   "cell_type": "code",
   "execution_count": null,
   "id": "0f0510fd",
   "metadata": {},
   "outputs": [],
   "source": [
    "dataset_inegi_clean_2022"
   ]
  },
  {
   "cell_type": "markdown",
   "id": "c1c7ea2410869cec",
   "metadata": {},
   "source": [
    "## 2.3 Listado de Productores Autorizados"
   ]
  },
  {
   "cell_type": "code",
   "execution_count": null,
   "id": "6291de4f806565e0",
   "metadata": {
    "ExecuteTime": {
     "end_time": "2024-05-30T14:01:40.413128Z",
     "start_time": "2024-05-30T14:01:40.404802Z"
    }
   },
   "outputs": [],
   "source": [
    "listado_productores.columns"
   ]
  },
  {
   "cell_type": "code",
   "execution_count": null,
   "id": "e8cd3f8b9eeda9d",
   "metadata": {
    "ExecuteTime": {
     "end_time": "2024-05-30T14:01:40.427070Z",
     "start_time": "2024-05-30T14:01:40.414646Z"
    }
   },
   "outputs": [],
   "source": [
    "listado_productores.head()"
   ]
  },
  {
   "cell_type": "code",
   "execution_count": null,
   "id": "3e42ada4be1ed5d7",
   "metadata": {
    "ExecuteTime": {
     "end_time": "2024-05-30T14:01:40.614571Z",
     "start_time": "2024-05-30T14:01:40.428121Z"
    }
   },
   "outputs": [],
   "source": [
    "# Mostramos el tipo de dato de cada columna\n",
    "listado_productores.dtypes\n",
    "listado_productores.info()"
   ]
  },
  {
   "cell_type": "code",
   "execution_count": null,
   "id": "eba1c8548f6a16da",
   "metadata": {
    "ExecuteTime": {
     "end_time": "2024-05-30T14:01:40.725863Z",
     "start_time": "2024-05-30T14:01:40.615616Z"
    }
   },
   "outputs": [],
   "source": [
    "# Observamos los valores únicos y la cantidad de cada columna, ordenados\n",
    "COLUMNS_TO_VIEW = ['ESTADO', 'MUNICIPIO', 'PAQUETE']\n",
    "for column in COLUMNS_TO_VIEW:\n",
    "    unique_values = listado_productores[column].unique()\n",
    "    if unique_values.dtype == 'object':\n",
    "        unique_values = unique_values.astype(str)\n",
    "        unique_values.sort()\n",
    "    if len(unique_values) <= 1000:\n",
    "        print(\n",
    "            f\"\\n{column}\\nCantidad de valores unicos {len(unique_values)}. Valores únicos en la columna {column}: {unique_values}\")\n",
    "    else:\n",
    "        print(f\"\\nCantidad de valores únicos en {column}: {len(unique_values)}\")\n",
    "        print(f\"Valores únicos en la columna {column}:\")\n",
    "        for value in unique_values:\n",
    "            print(value)"
   ]
  },
  {
   "cell_type": "code",
   "execution_count": null,
   "id": "18b6eb9df0dc1d24",
   "metadata": {
    "ExecuteTime": {
     "end_time": "2024-05-30T14:01:40.782544Z",
     "start_time": "2024-05-30T14:01:40.728222Z"
    }
   },
   "outputs": [],
   "source": [
    "\n",
    "municipio_counts = listado_productores['MUNICIPIO'].value_counts().reset_index()\n",
    "municipio_counts.columns = ['MUNICIPIO', 'COUNT']\n",
    "print(municipio_counts)"
   ]
  },
  {
   "cell_type": "markdown",
   "id": "43f4e76276d2c760",
   "metadata": {},
   "source": [
    "¿Qué ESTADOS tienen algún municipio NULL?"
   ]
  },
  {
   "cell_type": "code",
   "execution_count": null,
   "id": "ea6fbf5e35941f5d",
   "metadata": {
    "ExecuteTime": {
     "end_time": "2024-05-30T14:01:40.834741Z",
     "start_time": "2024-05-30T14:01:40.784873Z"
    }
   },
   "outputs": [],
   "source": [
    "municipios_null = listado_productores[listado_productores['MUNICIPIO'].isnull()]\n",
    "\n",
    "# ¿Qué ESTADOS tienen algún municipio Null?\n",
    "print(municipios_null['ESTADO'].unique())"
   ]
  },
  {
   "cell_type": "code",
   "execution_count": null,
   "id": "b878164687ea95ad",
   "metadata": {
    "ExecuteTime": {
     "end_time": "2024-05-30T14:01:42.128451Z",
     "start_time": "2024-05-30T14:01:40.836750Z"
    }
   },
   "outputs": [],
   "source": [
    "# Filas duplicadas y filas únicas\n",
    "duplicated_rows_productores = listado_productores.duplicated()\n",
    "number_of_duplicated_rows_productores = duplicated_rows_productores.sum()\n",
    "print(f\"El número de filas duplicadas es: {number_of_duplicated_rows_productores}\")\n",
    "print(f\"El número de filas únicas es: {listado_productores.shape[0] - number_of_duplicated_rows_productores}\")"
   ]
  },
  {
   "cell_type": "markdown",
   "id": "a2b76d34ed86b510",
   "metadata": {},
   "source": [
    "No hay filas completas duplicadas."
   ]
  },
  {
   "cell_type": "code",
   "execution_count": null,
   "id": "9f39c4c7f2790276",
   "metadata": {
    "ExecuteTime": {
     "end_time": "2024-05-30T14:01:42.362489Z",
     "start_time": "2024-05-30T14:01:42.129505Z"
    }
   },
   "outputs": [],
   "source": [
    "# Valores nulos\n",
    "listado_productores.isna().sum()"
   ]
  },
  {
   "cell_type": "markdown",
   "id": "ae924d8fed0936c5",
   "metadata": {},
   "source": [
    "Existen 75512 filas con el municipio nulo. \n",
    "Y muchas filas con nombre y apellidos vacíos.\n"
   ]
  },
  {
   "cell_type": "code",
   "execution_count": null,
   "id": "6555a1cf28997b27",
   "metadata": {
    "ExecuteTime": {
     "end_time": "2024-05-30T14:01:42.424671Z",
     "start_time": "2024-05-30T14:01:42.364508Z"
    }
   },
   "outputs": [],
   "source": [
    "# Analicemos dónde los municipios están vacíos\n",
    "listado_productores[(listado_productores['MUNICIPIO'].isna())]\n"
   ]
  },
  {
   "cell_type": "markdown",
   "id": "f18927de1bc4dabc",
   "metadata": {},
   "source": [
    "Todas las filas con municipios vacíos vienen del estado de Veracruz de Ignacio de la Llave."
   ]
  },
  {
   "cell_type": "code",
   "execution_count": null,
   "id": "2ab3ab8fd425f7d5",
   "metadata": {
    "ExecuteTime": {
     "end_time": "2024-05-30T14:01:42.675270Z",
     "start_time": "2024-05-30T14:01:42.425681Z"
    }
   },
   "outputs": [],
   "source": [
    "listado_productores.info()"
   ]
  },
  {
   "cell_type": "markdown",
   "id": "2169b43a5d0246a3",
   "metadata": {},
   "source": [
    "### 2.1.1 Estandarización de nombre de municipios\n",
    "\n",
    "Con el fin de poder hacer un merge bajo los mismos nombres, hacemos una limpieza de los nombres de municipios en un dataset más ligero llamado **Estados_productores**."
   ]
  },
  {
   "cell_type": "code",
   "execution_count": null,
   "id": "1b448bedab0f901",
   "metadata": {
    "ExecuteTime": {
     "end_time": "2024-05-30T14:01:42.861719Z",
     "start_time": "2024-05-30T14:01:42.677533Z"
    }
   },
   "outputs": [],
   "source": [
    "# Seleccionar solo las dos primeras columnas\n",
    "Estados_productores = listado_productores[['ESTADO', 'MUNICIPIO']]\n",
    "\n",
    "# Obtener las filas únicas\n",
    "Estados_productores = Estados_productores.drop_duplicates()"
   ]
  },
  {
   "cell_type": "code",
   "execution_count": null,
   "id": "1b55b60f61e15acf",
   "metadata": {
    "ExecuteTime": {
     "end_time": "2024-05-30T14:01:42.876305Z",
     "start_time": "2024-05-30T14:01:42.862769Z"
    }
   },
   "outputs": [],
   "source": [
    "Estados_productores.shape"
   ]
  },
  {
   "cell_type": "code",
   "execution_count": null,
   "id": "2a1352dd1255f838",
   "metadata": {
    "ExecuteTime": {
     "end_time": "2024-05-30T14:01:42.895573Z",
     "start_time": "2024-05-30T14:01:42.878343Z"
    }
   },
   "outputs": [],
   "source": [
    "# Estandarizamos la limpieza de los datos\n",
    "Estados_productores['ESTADO_Clean'] = Estados_productores['ESTADO'].apply(clean_text)\n",
    "Estados_productores['MUNICIPIO_Clean'] = Estados_productores['MUNICIPIO'].apply(clean_text)"
   ]
  },
  {
   "cell_type": "markdown",
   "id": "2d5274c603dc362",
   "metadata": {},
   "source": [
    "Creamos columna clave"
   ]
  },
  {
   "cell_type": "code",
   "execution_count": null,
   "id": "9c80bfa53540d17a",
   "metadata": {
    "ExecuteTime": {
     "end_time": "2024-05-30T14:01:42.904575Z",
     "start_time": "2024-05-30T14:01:42.896580Z"
    }
   },
   "outputs": [],
   "source": [
    "# Primero creemos una columna clave en cada dataset -> Estados productores\n",
    "\n",
    "Estados_productores[\"ESTADO_Clean\"] = Estados_productores[\"ESTADO_Clean\"].astype(str)\n",
    "Estados_productores[\"MUNICIPIO_Clean\"] = Estados_productores[\"MUNICIPIO_Clean\"].astype(str)\n",
    "\n",
    "Estados_productores[\"KEY_prod\"] = Estados_productores[\"ESTADO_Clean\"] + \"-\" + Estados_productores[\"MUNICIPIO_Clean\"]"
   ]
  },
  {
   "cell_type": "code",
   "execution_count": null,
   "id": "d8b6c9343757ffff",
   "metadata": {
    "ExecuteTime": {
     "end_time": "2024-05-30T14:01:42.915735Z",
     "start_time": "2024-05-30T14:01:42.906587Z"
    }
   },
   "outputs": [],
   "source": [
    "Estados_productores.shape"
   ]
  },
  {
   "cell_type": "markdown",
   "id": "daa9f974cc33efa1",
   "metadata": {},
   "source": [
    "# 3. Diccionario de los datasets de INEGI Y PRODUCTORES AUTORIZADOS\n",
    "\n",
    "A este punto llegamos con 3 datasets:  \n",
    "    1. dataset_inegi_clean: municipios y estados de INEGI con los nombres estandarizados  \n",
    "    2. Productores_Autorizados: listado de productores autorizados con municipios y estados estandarizados  \n",
    "    3. Estados_productores: Municipios y Estados únicos que aparecen en el listado de Productores Autorizados, sin el formato INEGI.  \n",
    "\n",
    "El objetivo de esta sección es crear un diccionario de códigos según INEGI para los municipios Estados_productores. Para ello haremos un Left join entre Estados_productores y dataset_inegi_clean."
   ]
  },
  {
   "cell_type": "markdown",
   "id": "54bf8df24ed21525",
   "metadata": {},
   "source": [
    "### 3.1 Left join"
   ]
  },
  {
   "cell_type": "code",
   "execution_count": null,
   "id": "ea5bae9b91288894",
   "metadata": {
    "ExecuteTime": {
     "end_time": "2024-05-30T14:01:42.924041Z",
     "start_time": "2024-05-30T14:01:42.917743Z"
    }
   },
   "outputs": [],
   "source": [
    "# Primero creemos una columna clave en cada dataset -> INEGI\n",
    "\n",
    "dataset_inegi_clean[\"NOM_ENT_Clean\"] = dataset_inegi_clean[\"NOM_ENT_Clean\"].astype(str)\n",
    "dataset_inegi_clean[\"NOM_MUN_Clean\"] = dataset_inegi_clean[\"NOM_MUN_Clean\"].astype(str)\n",
    "\n",
    "dataset_inegi_clean[\"KEY_inegi\"] = dataset_inegi_clean[\"NOM_ENT_Clean\"] + \"-\" + dataset_inegi_clean[\"NOM_MUN_Clean\"]"
   ]
  },
  {
   "cell_type": "code",
   "execution_count": null,
   "id": "feb526c1f311e75c",
   "metadata": {
    "ExecuteTime": {
     "end_time": "2024-05-30T14:01:42.935921Z",
     "start_time": "2024-05-30T14:01:42.926058Z"
    }
   },
   "outputs": [],
   "source": [
    "dataset_inegi_clean.info()"
   ]
  },
  {
   "cell_type": "code",
   "execution_count": null,
   "id": "450aef6f93156af7",
   "metadata": {
    "ExecuteTime": {
     "end_time": "2024-05-30T14:01:42.947063Z",
     "start_time": "2024-05-30T14:01:42.938953Z"
    }
   },
   "outputs": [],
   "source": [
    "Estados_productores.info()"
   ]
  },
  {
   "cell_type": "code",
   "execution_count": null,
   "id": "d78b6da92ca65e74",
   "metadata": {
    "ExecuteTime": {
     "end_time": "2024-05-30T14:01:42.957406Z",
     "start_time": "2024-05-30T14:01:42.948071Z"
    }
   },
   "outputs": [],
   "source": [
    "Estados_productores = Estados_productores.drop(['ESTADO', 'MUNICIPIO'], axis=1)\n",
    "Estados_productores = Estados_productores.drop_duplicates()\n",
    "Estados_productores.shape"
   ]
  },
  {
   "cell_type": "markdown",
   "id": "43e7e7b6ffe949d3",
   "metadata": {},
   "source": [
    "Comprobamos que la columna KEY es realmente clave."
   ]
  },
  {
   "cell_type": "code",
   "execution_count": null,
   "id": "b7c3cc9391b95dec",
   "metadata": {
    "ExecuteTime": {
     "end_time": "2024-05-30T14:01:42.965660Z",
     "start_time": "2024-05-30T14:01:42.958443Z"
    }
   },
   "outputs": [],
   "source": [
    "Estados_productores['KEY_prod'].nunique()"
   ]
  },
  {
   "cell_type": "code",
   "execution_count": null,
   "id": "ce0a1b9a7e456962",
   "metadata": {
    "ExecuteTime": {
     "end_time": "2024-05-30T14:01:42.975237Z",
     "start_time": "2024-05-30T14:01:42.970686Z"
    }
   },
   "outputs": [],
   "source": [
    "\n",
    "# Crear una función para encontrar la mejor coincidencia difusa con límites entre 90 y 100 de coincidencia\n",
    "def fuzzy_merge(df_inegi, df_prod, key1, key2, threshold=96, limit=1):\n",
    "    \"\"\"\n",
    "    df_inegi: DataFrame de la izquierda (el DataFrame principal)\n",
    "    df_prod: DataFrame de la derecha (el DataFrame con el que se quiere hacer el join)\n",
    "    key1: Columna de la clave en df_inegi\n",
    "    key2: Columna de la clave en df_prod\n",
    "    threshold: Umbral de coincidencia difusa\n",
    "    limit: Número de coincidencias a encontrar\n",
    "    \"\"\"\n",
    "    s = df_prod[key2].tolist()\n",
    "\n",
    "    # Encontrar las mejores coincidencias para cada clave en df_inegi\n",
    "    matches = df_inegi[key1].apply(lambda x: process.extractOne(x, s, score_cutoff=threshold))\n",
    "\n",
    "    # Crear una columna con las mejores coincidencias\n",
    "    df_inegi['best_match'] = [match[0] if match else None for match in matches]\n",
    "    df_inegi['match_score'] = [match[1] if match else None for match in matches]\n",
    "\n",
    "    # Hacer el merge con las mejores coincidencias\n",
    "    df_merged = pd.merge(df_inegi, df_prod, left_on='best_match', right_on=key2, how='inner',\n",
    "                         suffixes=('_inegi', '_prod'))\n",
    "    \n",
    "    return df_merged\n"
   ]
  },
  {
   "cell_type": "code",
   "execution_count": null,
   "id": "bca965b4ce80146f",
   "metadata": {
    "ExecuteTime": {
     "end_time": "2024-05-30T14:04:01.709287Z",
     "start_time": "2024-05-30T14:01:42.976257Z"
    }
   },
   "outputs": [],
   "source": [
    "# Aplicar la función de coincidencia difusa\n",
    "diccionario = fuzzy_merge(dataset_inegi_clean, Estados_productores, 'KEY_inegi', 'KEY_prod')\n",
    "diccionario.drop_duplicates(subset=['KEY_inegi'], inplace=True)\n",
    "\n",
    "# Mostrar el resultado\n",
    "diccionario.columns"
   ]
  },
  {
   "cell_type": "code",
   "execution_count": null,
   "id": "8fa88001722b264f",
   "metadata": {
    "ExecuteTime": {
     "end_time": "2024-05-30T14:04:01.722237Z",
     "start_time": "2024-05-30T14:04:01.711301Z"
    }
   },
   "outputs": [],
   "source": [
    "diccionario.head()"
   ]
  },
  {
   "cell_type": "code",
   "execution_count": null,
   "id": "4cefccc4079ae8e9",
   "metadata": {
    "ExecuteTime": {
     "end_time": "2024-05-30T14:04:01.741880Z",
     "start_time": "2024-05-30T14:04:01.724246Z"
    }
   },
   "outputs": [],
   "source": [
    "diccionario.to_csv('../../data/merged_dataset.csv', index=False)"
   ]
  },
  {
   "cell_type": "markdown",
   "id": "7480947838e468f7",
   "metadata": {},
   "source": [
    "## 3.2 Productores Autorizados\n",
    "\n",
    "Esta sección se encarga de completar el listado original de Productores Autorizados con los nombre corregido de INEGI usando el diccionario."
   ]
  },
  {
   "cell_type": "code",
   "execution_count": null,
   "id": "6ae598e683e47cac",
   "metadata": {
    "ExecuteTime": {
     "end_time": "2024-05-30T14:04:10.797009Z",
     "start_time": "2024-05-30T14:04:01.743888Z"
    }
   },
   "outputs": [],
   "source": [
    "# Crear una variable KEY en listado de productores y el diccionario para hacer el join\n",
    "listado_productores['ESTADO_Clean'] = listado_productores['ESTADO'].apply(clean_text)\n",
    "listado_productores['MUNICIPIO_Clean'] = listado_productores['MUNICIPIO'].apply(clean_text)\n",
    "listado_productores['Estado-mun-KEY'] = listado_productores['ESTADO_Clean'].astype(str) + '-' + listado_productores[\n",
    "    'MUNICIPIO_Clean'].astype(str)\n",
    "\n",
    "diccionario_Sin_VC = diccionario[diccionario[\"NOM_ENT\"] != \"Veracruz de Ignacio de la Llave\"]"
   ]
  },
  {
   "cell_type": "code",
   "execution_count": null,
   "id": "672ed551381e1e8a",
   "metadata": {
    "ExecuteTime": {
     "end_time": "2024-05-30T14:04:10.806584Z",
     "start_time": "2024-05-30T14:04:10.800015Z"
    }
   },
   "outputs": [],
   "source": [
    "listado_productores.shape"
   ]
  },
  {
   "cell_type": "code",
   "execution_count": null,
   "id": "eadcf12bf02de348",
   "metadata": {
    "ExecuteTime": {
     "end_time": "2024-05-30T14:04:10.821110Z",
     "start_time": "2024-05-30T14:04:10.808616Z"
    }
   },
   "outputs": [],
   "source": [
    "diccionario_Sin_VC2 = diccionario_Sin_VC[['CVE_ENT', 'NOM_ENT', 'CVE_MUN', 'NOM_MUN', 'CVE_MUN_Unique',\n",
    "       'KEY_inegi', 'best_match', 'match_score', 'ESTADO_Clean', 'MUNICIPIO_Clean', 'KEY_prod']]\n",
    "\n",
    "diccionario_Sin_VC.shape"
   ]
  },
  {
   "cell_type": "code",
   "execution_count": null,
   "id": "621ca3dd88360266",
   "metadata": {
    "ExecuteTime": {
     "end_time": "2024-05-30T14:04:10.848871Z",
     "start_time": "2024-05-30T14:04:10.823116Z"
    }
   },
   "outputs": [],
   "source": [
    "diccionario_Sin_VC.to_csv('../../data/Diccionario_autom.csv', index=False)\n",
    "diccionario_Sin_VC.columns"
   ]
  },
  {
   "cell_type": "code",
   "execution_count": null,
   "id": "9a887b8bde1fcd6c",
   "metadata": {
    "ExecuteTime": {
     "end_time": "2024-05-30T14:04:10.879818Z",
     "start_time": "2024-05-30T14:04:10.849876Z"
    }
   },
   "outputs": [],
   "source": [
    "# Lectura del diccionario manipulado\n",
    "diccionario_manipulado = pd.read_csv('../../data/Diccionario_manual.csv')"
   ]
  },
  {
   "cell_type": "code",
   "execution_count": null,
   "id": "e1928c484fe89c5e",
   "metadata": {
    "ExecuteTime": {
     "end_time": "2024-05-30T14:04:11.928301Z",
     "start_time": "2024-05-30T14:04:10.882823Z"
    }
   },
   "outputs": [],
   "source": [
    "# Hacer el join\n",
    "listado_productores_complete = pd.merge(listado_productores, diccionario_manipulado, left_on=\"Estado-mun-KEY\",\n",
    "                                        right_on=\"KEY_prod\", how='left', suffixes=('_prod', '_inegi'))"
   ]
  },
  {
   "cell_type": "code",
   "execution_count": null,
   "id": "583fefbe0c8062cb",
   "metadata": {
    "ExecuteTime": {
     "end_time": "2024-05-30T14:04:14.096594Z",
     "start_time": "2024-05-30T14:04:11.929338Z"
    }
   },
   "outputs": [],
   "source": [
    "listado_productores_complete[['CVE_ENT', 'CVE_MUN']] = listado_productores_complete['CVE_MUN_Unique'].str.split('-',\n",
    "                                                                                                                expand=True)\n"
   ]
  },
  {
   "cell_type": "code",
   "execution_count": null,
   "id": "eff01ecd75f63b54",
   "metadata": {
    "ExecuteTime": {
     "end_time": "2024-05-30T14:04:14.104571Z",
     "start_time": "2024-05-30T14:04:14.097713Z"
    }
   },
   "outputs": [],
   "source": [
    "listado_productores_complete.columns"
   ]
  },
  {
   "cell_type": "code",
   "execution_count": null,
   "id": "b27a125b519d9ac8",
   "metadata": {
    "ExecuteTime": {
     "end_time": "2024-05-30T14:04:14.339706Z",
     "start_time": "2024-05-30T14:04:14.106578Z"
    }
   },
   "outputs": [],
   "source": [
    "# Seleccionamos las columnas que nos interesan\n",
    "listado_productores_complete = listado_productores_complete[\n",
    "    ['ESTADO', 'MUNICIPIO', 'ACUSE', 'APELLIDO PATERNO', 'APELLIDO MATERNO',\n",
    "     'NOMBRE (S)', 'PAQUETE', 'KEY_inegi', 'NOM_ENT', 'NOM_MUN', 'CVE_ENT', 'CVE_MUN']]"
   ]
  },
  {
   "cell_type": "code",
   "execution_count": null,
   "id": "f74b72372f1494ed",
   "metadata": {
    "ExecuteTime": {
     "end_time": "2024-05-30T14:04:14.361161Z",
     "start_time": "2024-05-30T14:04:14.346729Z"
    }
   },
   "outputs": [],
   "source": [
    "# Revisamos el dataset\n",
    "print(listado_productores_complete.shape)\n",
    "print(listado_productores_complete.columns)\n",
    "print(listado_productores_complete.head())"
   ]
  },
  {
   "cell_type": "code",
   "execution_count": null,
   "id": "b6f806cac74b96ab",
   "metadata": {
    "ExecuteTime": {
     "end_time": "2024-05-30T14:04:19.057829Z",
     "start_time": "2024-05-30T14:04:14.366177Z"
    }
   },
   "outputs": [],
   "source": [
    "listado_productores_complete.to_csv('../../data/listado_productores_complete.csv', index=False)"
   ]
  },
  {
   "cell_type": "markdown",
   "id": "bcd916bf21333552",
   "metadata": {},
   "source": [
    "# Adicional"
   ]
  },
  {
   "cell_type": "code",
   "execution_count": null,
   "id": "5fc354179f7d64c0",
   "metadata": {
    "ExecuteTime": {
     "end_time": "2024-05-30T14:04:19.165987Z",
     "start_time": "2024-05-30T14:04:19.059152Z"
    }
   },
   "outputs": [],
   "source": [
    "unique_listado = listado_productores['Estado-mun-KEY'].unique()\n",
    "unique_diccionario = diccionario_Sin_VC['KEY_prod'].unique()\n",
    "\n",
    "# To get the common values\n",
    "common_values = set(unique_listado).intersection(unique_diccionario)\n",
    "print(\"Common values:\", common_values)\n",
    "\n",
    "# To get values in listado_productores not in diccionario_Sin_VC\n",
    "in_listado_not_diccionario = set(unique_listado) - set(unique_diccionario)\n",
    "print(\"Values in 'listado_productores' not in 'diccionario_Sin_VC':\", in_listado_not_diccionario)"
   ]
  },
  {
   "cell_type": "code",
   "execution_count": null,
   "id": "6c31a85743f69eb3",
   "metadata": {
    "ExecuteTime": {
     "end_time": "2024-05-30T14:04:19.178377Z",
     "start_time": "2024-05-30T14:04:19.167763Z"
    }
   },
   "outputs": [],
   "source": [
    "# To get values in diccionario_Sin_VC not in listado_productores\n",
    "in_diccionario_not_listado = set(unique_diccionario) - set(unique_listado)\n",
    "print(\"Values in 'diccionario_Sin_VC' not in 'listado_productores':\", in_diccionario_not_listado)\n",
    "# Create a DataFrame with unique values from 'listado_productores'\n",
    "df_relations = pd.DataFrame(unique_listado, columns=['Estado-mun-KEY'])# Check if each value is present in 'diccionario_Sin_VC'\n",
    "df_relations['In_diccionario_Sin_VC'] = df_relations['Estado-mun-KEY'].isin(unique_diccionario)"
   ]
  },
  {
   "cell_type": "code",
   "execution_count": null,
   "id": "7554b2781ea4df4e",
   "metadata": {
    "ExecuteTime": {
     "end_time": "2024-05-30T14:04:19.198521Z",
     "start_time": "2024-05-30T14:04:19.180386Z"
    }
   },
   "outputs": [],
   "source": [
    "# Repeat the process for 'diccionario_Sin_VC'\n",
    "df_relations_diccionario = pd.DataFrame(unique_diccionario, columns=['KEY_prod'])\n",
    "df_relations_diccionario['In_listado_productores'] = df_relations_diccionario['KEY_prod'].isin(unique_listado)\n",
    "\n",
    "# Merge the two DataFrames\n",
    "df_relations = pd.merge(df_relations, df_relations_diccionario, left_on='Estado-mun-KEY', right_on='KEY_prod',\n",
    "                        how='outer')\n",
    "\n",
    "df_relations"
   ]
  },
  {
   "cell_type": "code",
   "execution_count": null,
   "id": "f23345f462726fb6",
   "metadata": {
    "ExecuteTime": {
     "end_time": "2024-05-30T14:04:19.214058Z",
     "start_time": "2024-05-30T14:04:19.199529Z"
    }
   },
   "outputs": [],
   "source": [
    "df_relations[(df_relations['In_diccionario_Sin_VC'] == False) | (df_relations['In_listado_productores'] == False)]"
   ]
  },
  {
   "cell_type": "code",
   "execution_count": null,
   "id": "c3abb46d84a04e72",
   "metadata": {},
   "outputs": [],
   "source": []
  }
 ],
 "metadata": {
  "kernelspec": {
   "display_name": "Python 3",
   "language": "python",
   "name": "python3"
  },
  "language_info": {
   "codemirror_mode": {
    "name": "ipython",
    "version": 3
   },
   "file_extension": ".py",
   "mimetype": "text/x-python",
   "name": "python",
   "nbconvert_exporter": "python",
   "pygments_lexer": "ipython3",
   "version": "3.11.9"
  }
 },
 "nbformat": 4,
 "nbformat_minor": 5
}
