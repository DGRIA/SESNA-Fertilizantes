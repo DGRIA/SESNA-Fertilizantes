{
 "cells": [
  {
   "cell_type": "markdown",
   "metadata": {},
   "source": [
    "# Data Cleaning Listado de Listado de Beneficiarios 2020"
   ]
  },
  {
   "cell_type": "markdown",
   "metadata": {},
   "source": [
    "## Autores\n",
    "- José Luis Delgado Dávara\n",
    "- Arturo Ortiz Aguilar\n",
    "- Beltrán Valle Gutiérrez-Cortines"
   ]
  },
  {
   "cell_type": "markdown",
   "metadata": {},
   "source": [
    "## Importante leer para entender\n",
    "\n",
    "En este Notebook se trabaja con 3 listados importantes:\n",
    "\n",
    "1. beneficiarios_20 -> Dataset con el listado de TODOS los beneficiarios de 2020.\n",
    "2. Estados_Beneficiarios_2019_2022 -> Dataset sólo con los estados *únicos* encontrados en el dataset anterior.\n",
    "3. Diccionario -> Emparejamiento entre ambos listados de beneficiarios\n",
    "4. Dataset_Inegi -> Catálogo obtenido de Inegi"
   ]
  },
  {
   "cell_type": "code",
   "execution_count": 1,
   "metadata": {},
   "outputs": [],
   "source": [
    "import pandas as pd\n",
    "import seaborn as sns\n",
    "from thefuzz import fuzz\n",
    "from thefuzz import process\n",
    "import matplotlib.pyplot as plt\n",
    "import numpy as np\n",
    "import os\n",
    "import glob\n",
    "import re\n",
    "import unidecode"
   ]
  },
  {
   "cell_type": "code",
   "execution_count": 2,
   "metadata": {},
   "outputs": [],
   "source": [
    "def clean_text(text):\n",
    "    \"\"\"\n",
    "    De esta manera tenemos el texto sin espacios blancos extra y sobre todo con todas las palabras con capitalización correcta.\n",
    "    \"\"\"\n",
    "    if pd.isna(text):\n",
    "        return text\n",
    "    text = text.strip()  # Eliminate white spaces\n",
    "    text = text.lower()  # Convert to lowercase\n",
    "    text = unidecode.unidecode(text)  # Remove accents\n",
    "    text = re.sub('-.*-', '', text) #Remove what is in between - -\n",
    "    text = re.sub('\\s+', ' ', text)  # Eliminate extra white spaces\n",
    "    text = re.sub('^\\s+|\\s+?$', '', text)  # Eliminate spaces at the beginning and end\n",
    "    return text"
   ]
  },
  {
   "cell_type": "markdown",
   "metadata": {},
   "source": [
    "# 1. Lectura y limpieza de datos"
   ]
  },
  {
   "cell_type": "markdown",
   "metadata": {},
   "source": [
    "### 1.1 Beneficiarios 2020\n",
    "\n",
    "Obtenemos el listado único de localidades y listado único de municipios con sus claves."
   ]
  },
  {
   "cell_type": "code",
   "execution_count": 3,
   "metadata": {},
   "outputs": [],
   "source": [
    "beneficiarios_20 = pd.read_csv('../../data/productores_beneficiarios 2019-2022/listado_beneficiarios_fertilizantes_2020.csv', encoding='utf-8', skiprows=0)"
   ]
  },
  {
   "cell_type": "code",
   "execution_count": 4,
   "metadata": {},
   "outputs": [],
   "source": [
    "beneficiarios_20 = beneficiarios_20[~((beneficiarios_20['ENTIDAD'] == 'NACIONAL') & (beneficiarios_20['MUNICIPIO'] == 'NACIONAL') & (beneficiarios_20['LOCALIDAD'] == 'NACIONAL'))]"
   ]
  },
  {
   "cell_type": "code",
   "execution_count": 5,
   "metadata": {},
   "outputs": [
    {
     "data": {
      "text/plain": [
       "(369040, 16)"
      ]
     },
     "execution_count": 5,
     "metadata": {},
     "output_type": "execute_result"
    }
   ],
   "source": [
    "beneficiarios_20.shape"
   ]
  },
  {
   "cell_type": "code",
   "execution_count": 6,
   "metadata": {},
   "outputs": [
    {
     "data": {
      "text/plain": [
       "array(['GUERRERO', 'MORELOS', 'TLAXCALA', 'PUEBLA', nan], dtype=object)"
      ]
     },
     "execution_count": 6,
     "metadata": {},
     "output_type": "execute_result"
    }
   ],
   "source": [
    "beneficiarios_20['ENTIDAD'].unique()"
   ]
  },
  {
   "cell_type": "markdown",
   "metadata": {},
   "source": [
    "Dropeamos los tres valores nulos debido a que las rows enteras salen como nan"
   ]
  },
  {
   "cell_type": "code",
   "execution_count": 7,
   "metadata": {},
   "outputs": [],
   "source": [
    "beneficiarios_20.dropna(inplace=True)"
   ]
  },
  {
   "cell_type": "code",
   "execution_count": 8,
   "metadata": {},
   "outputs": [],
   "source": [
    "# Obtenemos las localidades únicas en el dataset.\n",
    "Localidades_20 = beneficiarios_20[['ENTIDAD', 'MUNICIPIO', 'LOCALIDAD']]\n",
    "Localidades_20 = Localidades_20.drop_duplicates()\n"
   ]
  },
  {
   "cell_type": "code",
   "execution_count": 9,
   "metadata": {},
   "outputs": [],
   "source": [
    "Localidades_20['ENTIDAD_c_benef'] = Localidades_20['ENTIDAD'].apply(clean_text)\n",
    "Localidades_20['MUNICIPIO_c_benef'] = Localidades_20['MUNICIPIO'].apply(clean_text)\n",
    "Localidades_20['LOCALIDAD_c_benef'] = Localidades_20['LOCALIDAD'].apply(clean_text)"
   ]
  },
  {
   "cell_type": "code",
   "execution_count": 10,
   "metadata": {},
   "outputs": [],
   "source": [
    "# Creamos las dos keys de beneficiarios 2019\n",
    "Localidades_20['KEY_benef_mun'] = Localidades_20['ENTIDAD_c_benef'].astype(str) + '-' + Localidades_20[\n",
    "    'MUNICIPIO_c_benef'].astype(str)\n",
    "Localidades_20['KEY_benef_loc'] = Localidades_20['ENTIDAD_c_benef'].astype(str) + '-' + Localidades_20[\n",
    "    'MUNICIPIO_c_benef'].astype(str) + '-' + Localidades_20['LOCALIDAD_c_benef'].astype(str)"
   ]
  },
  {
   "cell_type": "code",
   "execution_count": 11,
   "metadata": {},
   "outputs": [
    {
     "data": {
      "text/plain": [
       "(5381, 8)"
      ]
     },
     "execution_count": 11,
     "metadata": {},
     "output_type": "execute_result"
    }
   ],
   "source": [
    "Localidades_20.shape"
   ]
  },
  {
   "cell_type": "code",
   "execution_count": 12,
   "metadata": {},
   "outputs": [],
   "source": [
    "# Obtenemos las localidades únicas en el dataset.\n",
    "Municipios_20 = beneficiarios_20[['ENTIDAD', 'MUNICIPIO']]\n",
    "Municipios_20 = Municipios_20.drop_duplicates()"
   ]
  },
  {
   "cell_type": "code",
   "execution_count": 13,
   "metadata": {},
   "outputs": [],
   "source": [
    "# Estandarizamos la limpieza de los datos\n",
    "Municipios_20['ENTIDAD_c_benef'] = Municipios_20['ENTIDAD'].apply(clean_text)\n",
    "Municipios_20['MUNICIPIO_c_benef'] = Municipios_20['MUNICIPIO'].apply(clean_text)"
   ]
  },
  {
   "cell_type": "code",
   "execution_count": 14,
   "metadata": {},
   "outputs": [],
   "source": [
    "# Creamos las dos keys de beneficiarios \n",
    "Municipios_20['KEY_benef_mun'] = Municipios_20['ENTIDAD_c_benef'].astype(str) + '-' + Municipios_20[\n",
    "    'MUNICIPIO_c_benef'].astype(str)"
   ]
  },
  {
   "cell_type": "code",
   "execution_count": 15,
   "metadata": {},
   "outputs": [
    {
     "data": {
      "text/plain": [
       "(182, 5)"
      ]
     },
     "execution_count": 15,
     "metadata": {},
     "output_type": "execute_result"
    }
   ],
   "source": [
    "Municipios_20.shape"
   ]
  },
  {
   "cell_type": "code",
   "execution_count": 16,
   "metadata": {},
   "outputs": [
    {
     "data": {
      "text/plain": [
       "Index(['ENTIDAD', 'MUNICIPIO', 'ENTIDAD_c_benef', 'MUNICIPIO_c_benef',\n",
       "       'KEY_benef_mun'],\n",
       "      dtype='object')"
      ]
     },
     "execution_count": 16,
     "metadata": {},
     "output_type": "execute_result"
    }
   ],
   "source": [
    "Municipios_20.columns"
   ]
  },
  {
   "cell_type": "markdown",
   "metadata": {},
   "source": [
    "### 1.2 INEGI 2020\n",
    "\n",
    "Obtener listado único de municipios y listado único de localidades de inegi de 2020 con sus claves."
   ]
  },
  {
   "cell_type": "code",
   "execution_count": 17,
   "metadata": {},
   "outputs": [],
   "source": [
    "path_dataset_inegi_2020 = '../../data/inegi/dataset_inegi_clean_2020.csv'\n",
    "#dataset_inegi_clean = pd.read_csv(path_dataset_inegi_2022, encoding='utf-8', dtype={'CVE_ENT': str, 'CVE_MUN': str, 'CVE_LOC': str})\n",
    "dataset_inegi_2020 = pd.read_csv(path_dataset_inegi_2020)"
   ]
  },
  {
   "cell_type": "code",
   "execution_count": null,
   "metadata": {},
   "outputs": [],
   "source": [
    "dataset_inegi_2020['CVE_ENT'] = dataset_inegi_2020['CVE_ENT'].astype(str).str.zfill(2)\n",
    "dataset_inegi_2020['CVE_MUN'] = dataset_inegi_2020['CVE_MUN'].astype(str).str.zfill(3)\n",
    "dataset_inegi_2020['CVE_LOC'] = dataset_inegi_2020['CVE_LOC'].astype(str).str.zfill(4)"
   ]
  },
  {
   "cell_type": "markdown",
   "metadata": {},
   "source": [
    "### 1.2.1 INEGI 2020 Municipios únicos para cada año."
   ]
  },
  {
   "cell_type": "code",
   "execution_count": 18,
   "metadata": {},
   "outputs": [],
   "source": [
    "dataset_inegi_2020['KEY_inegi_municipio'] = dataset_inegi_2020['Entidad_c_inegi'].astype(str) + '-' + dataset_inegi_2020[\n",
    "    'Municipio_c_inegi'].astype(str) \n",
    "dataset_inegi_2020['KEY_inegi_localidad'] = dataset_inegi_2020['Municipio_c_inegi'].astype(str) + '-' + dataset_inegi_2020['Localidad_c_inegi'].astype(str)"
   ]
  },
  {
   "cell_type": "code",
   "execution_count": 19,
   "metadata": {},
   "outputs": [],
   "source": [
    "INEGI_UNIQUEMUN_2020 = dataset_inegi_2020.drop(columns=[\"CVE_LOC\", \"Localidad_inegi\", \"Localidad_c_inegi\", \"KEY_inegi_localidad\", \"POB_TOTAL\"])\n",
    "INEGI_UNIQUEMUN_2020 = INEGI_UNIQUEMUN_2020.drop_duplicates()"
   ]
  },
  {
   "cell_type": "code",
   "execution_count": 20,
   "metadata": {},
   "outputs": [
    {
     "data": {
      "text/plain": [
       "(2469, 7)"
      ]
     },
     "execution_count": 20,
     "metadata": {},
     "output_type": "execute_result"
    }
   ],
   "source": [
    "INEGI_UNIQUEMUN_2020.shape"
   ]
  },
  {
   "cell_type": "code",
   "execution_count": 21,
   "metadata": {},
   "outputs": [
    {
     "data": {
      "text/plain": [
       "Index(['CVE_ENT', 'Entidad_inegi', 'CVE_MUN', 'Municipio_inegi',\n",
       "       'Entidad_c_inegi', 'Municipio_c_inegi', 'KEY_inegi_municipio'],\n",
       "      dtype='object')"
      ]
     },
     "execution_count": 21,
     "metadata": {},
     "output_type": "execute_result"
    }
   ],
   "source": [
    "INEGI_UNIQUEMUN_2020.columns"
   ]
  },
  {
   "cell_type": "code",
   "execution_count": 22,
   "metadata": {},
   "outputs": [],
   "source": [
    "INEGI_UNIQUEMUN_2020.drop_duplicates(subset='KEY_inegi_municipio', keep='first', inplace=True)\n"
   ]
  },
  {
   "cell_type": "markdown",
   "metadata": {},
   "source": [
    "# 2. Diccionario de los datasets de INEGI Y LISTADO BENEFICIARIOS 2020\n",
    "\n",
    "El objetivo de esta sección es crear dos diccionarios de códigos según BENEFICIARIOS-MUNICIPIOS_INEGI y otro BENEFICIARIOS-LOCALIDADES_INEGI, para cada uno de los estados encontrados en inegi_2020, en este caso el número de keys es menor con lo cual no nos hará falta dividir por estado.\n",
    "\n",
    "Para ello haremos un Left join entre Localidades_20 y el dataset de INEGI correspondiente."
   ]
  },
  {
   "cell_type": "code",
   "execution_count": 23,
   "metadata": {},
   "outputs": [],
   "source": [
    "# Crear una función para encontrar la mejor coincidencia difusa con límites entre 85 y 100 de coincidencia\n",
    "def fuzzy_merge_benef2019_2022(df_benef, df_inegi, key1, key2, threshold=85, limit=1):\n",
    "    \"\"\"\n",
    "    df_inegi: DataFrame de la izquierda (el DataFrame principal)\n",
    "    df_prod: DataFrame de la derecha (el DataFrame con el que se quiere hacer el join)\n",
    "    key1: Columna de la clave en df_inegi\n",
    "    key2: Columna de la clave en df_prod\n",
    "    threshold: Umbral de coincidencia difusa\n",
    "    limit: Número de coincidencias a encontrar\n",
    "    \"\"\"\n",
    "    s = df_inegi[key2].tolist()\n",
    "    \n",
    "    # Encontrar las mejores coincidencias para cada clave en df_inegi\n",
    "    matches = df_benef[key1].apply(lambda x: process.extractOne(x, s, score_cutoff=threshold))\n",
    "\n",
    "\n",
    "    # Crear una columna con las mejores coincidencias\n",
    "    df_benef['best_match'] = [match[0] if match else None for match in matches]\n",
    "    \n",
    "    df_benef['match_score'] = [match[1] if match else None for match in matches]\n",
    "    \n",
    "\n",
    "    # Hacer el merge con las mejores coincidencias\n",
    "    df_merged = pd.merge(df_benef, df_inegi, left_on='best_match', right_on=key2, how='left',\n",
    "                         suffixes=('_benef', '_inegi'))\n",
    "    \n",
    "    return df_merged"
   ]
  },
  {
   "cell_type": "code",
   "execution_count": 24,
   "metadata": {},
   "outputs": [
    {
     "data": {
      "text/plain": [
       "(182, 14)"
      ]
     },
     "execution_count": 24,
     "metadata": {},
     "output_type": "execute_result"
    }
   ],
   "source": [
    "diccionario_MUN_20 = fuzzy_merge_benef2019_2022(Municipios_20, INEGI_UNIQUEMUN_2020, 'KEY_benef_mun', 'KEY_inegi_municipio')\n",
    "diccionario_MUN_20.shape"
   ]
  },
  {
   "cell_type": "code",
   "execution_count": 25,
   "metadata": {},
   "outputs": [],
   "source": [
    "diccionario_MUN_20.drop(columns=['ENTIDAD', 'MUNICIPIO', 'ENTIDAD_c_benef', 'MUNICIPIO_c_benef', 'Entidad_c_inegi',\n",
    "       'Municipio_c_inegi'], inplace=True)\n",
    "diccionario_MUN_20.drop_duplicates(subset='KEY_benef_mun', keep='first', inplace=True)"
   ]
  },
  {
   "cell_type": "code",
   "execution_count": 26,
   "metadata": {},
   "outputs": [],
   "source": [
    "diccionario_MUN_20.to_csv('../../data/productores_beneficiarios 2019-2022/diccionarios_E3/diccionario_MUN_20.csv', index=False)"
   ]
  },
  {
   "cell_type": "code",
   "execution_count": 27,
   "metadata": {},
   "outputs": [],
   "source": [
    "diccionario_MUN_20_simple = pd.read_csv('../../data/productores_beneficiarios 2019-2022/diccionarios_E3/diccionario_MUN_20_simple.csv')"
   ]
  },
  {
   "cell_type": "code",
   "execution_count": 28,
   "metadata": {},
   "outputs": [],
   "source": [
    "diccionario_MUN_21_simple = diccionario_MUN_20_simple.drop_duplicates(subset='KEY_inegi_municipio', keep='first')"
   ]
  },
  {
   "cell_type": "code",
   "execution_count": 29,
   "metadata": {},
   "outputs": [],
   "source": [
    "diccionario_MUN_21_simple = diccionario_MUN_20_simple.drop_duplicates(subset='KEY_inegi_municipio', keep='first')"
   ]
  },
  {
   "cell_type": "code",
   "execution_count": 30,
   "metadata": {},
   "outputs": [
    {
     "data": {
      "text/plain": [
       "(183, 2)"
      ]
     },
     "execution_count": 30,
     "metadata": {},
     "output_type": "execute_result"
    }
   ],
   "source": [
    "diccionario_MUN_20_simple.shape"
   ]
  },
  {
   "cell_type": "code",
   "execution_count": 31,
   "metadata": {},
   "outputs": [
    {
     "data": {
      "text/plain": [
       "Index(['KEY_benef_mun', 'KEY_inegi_municipio'], dtype='object')"
      ]
     },
     "execution_count": 31,
     "metadata": {},
     "output_type": "execute_result"
    }
   ],
   "source": [
    "diccionario_MUN_20_simple.columns"
   ]
  },
  {
   "cell_type": "markdown",
   "metadata": {},
   "source": [
    "### MERGE\n",
    "\n",
    "Armamos por partes el dataset definitivo:\n",
    "1. Juntamos beneficiarios_19 con el diccionario simple. (listado_beneficiario_parte_I)\n",
    "2. Al df anterior juntamos las claver provenientes del catálogo de Inegi. (listado_beneficiario_parte_II)"
   ]
  },
  {
   "cell_type": "code",
   "execution_count": 32,
   "metadata": {},
   "outputs": [
    {
     "data": {
      "text/plain": [
       "Index(['BENEFICIARIO', 'ZONA', 'ENTIDAD', 'MUNICIPIO', 'LOCALIDAD',\n",
       "       'ESTRATIFICACIÓN', 'PROGRAMA', 'COMPONENTE', 'SUBCOMPONENTE',\n",
       "       'PRODUCTO', 'FECHA', 'MONTO FEDERAL', 'APOYO', 'ACTIVIDAD', 'ESLABÓN',\n",
       "       'CICLO AGRÍCOLA'],\n",
       "      dtype='object')"
      ]
     },
     "execution_count": 32,
     "metadata": {},
     "output_type": "execute_result"
    }
   ],
   "source": [
    "beneficiarios_20.columns"
   ]
  },
  {
   "cell_type": "code",
   "execution_count": 33,
   "metadata": {},
   "outputs": [
    {
     "data": {
      "text/plain": [
       "(369037, 16)"
      ]
     },
     "execution_count": 33,
     "metadata": {},
     "output_type": "execute_result"
    }
   ],
   "source": [
    "beneficiarios_20.shape"
   ]
  },
  {
   "cell_type": "code",
   "execution_count": 34,
   "metadata": {},
   "outputs": [],
   "source": [
    "# Crear una variable KEY en listado de productores y el diccionario para hacer el join\n",
    "\n",
    "# Clean listado beneficiarios\n",
    "beneficiarios_20['ESTADO_Clean'] = beneficiarios_20['ENTIDAD'].apply(clean_text)\n",
    "beneficiarios_20['MUNICIPIO_Clean'] = beneficiarios_20['MUNICIPIO'].apply(clean_text)\n",
    "\n",
    "# Create KEY in listado beneficiarios\n",
    "beneficiarios_20['Estado-mun-KEY'] = beneficiarios_20['ESTADO_Clean'].astype(str) + '-' + beneficiarios_20[\n",
    "    'MUNICIPIO_Clean'].astype(str)"
   ]
  },
  {
   "cell_type": "code",
   "execution_count": 35,
   "metadata": {},
   "outputs": [],
   "source": [
    "# Hacer el join de la Parte I\n",
    "listado_beneficiarios_parte_I = pd.merge(beneficiarios_20, diccionario_MUN_20_simple, left_on=\"Estado-mun-KEY\",\n",
    "                                        right_on=\"KEY_benef_mun\", how='left')"
   ]
  },
  {
   "cell_type": "code",
   "execution_count": 36,
   "metadata": {},
   "outputs": [
    {
     "data": {
      "text/plain": [
       "(369037, 21)"
      ]
     },
     "execution_count": 36,
     "metadata": {},
     "output_type": "execute_result"
    }
   ],
   "source": [
    "listado_beneficiarios_parte_I.shape"
   ]
  },
  {
   "cell_type": "code",
   "execution_count": 37,
   "metadata": {},
   "outputs": [
    {
     "data": {
      "text/plain": [
       "Index(['BENEFICIARIO', 'ZONA', 'ENTIDAD', 'MUNICIPIO', 'LOCALIDAD',\n",
       "       'ESTRATIFICACIÓN', 'PROGRAMA', 'COMPONENTE', 'SUBCOMPONENTE',\n",
       "       'PRODUCTO', 'FECHA', 'MONTO FEDERAL', 'APOYO', 'ACTIVIDAD', 'ESLABÓN',\n",
       "       'CICLO AGRÍCOLA', 'ESTADO_Clean', 'MUNICIPIO_Clean', 'Estado-mun-KEY',\n",
       "       'KEY_benef_mun', 'KEY_inegi_municipio'],\n",
       "      dtype='object')"
      ]
     },
     "execution_count": 37,
     "metadata": {},
     "output_type": "execute_result"
    }
   ],
   "source": [
    "listado_beneficiarios_parte_I.columns"
   ]
  },
  {
   "cell_type": "code",
   "execution_count": 38,
   "metadata": {},
   "outputs": [
    {
     "data": {
      "text/plain": [
       "BENEFICIARIO           0\n",
       "ZONA                   0\n",
       "ENTIDAD                0\n",
       "MUNICIPIO              0\n",
       "LOCALIDAD              0\n",
       "ESTRATIFICACIÓN        0\n",
       "PROGRAMA               0\n",
       "COMPONENTE             0\n",
       "SUBCOMPONENTE          0\n",
       "PRODUCTO               0\n",
       "FECHA                  0\n",
       "MONTO FEDERAL          0\n",
       "APOYO                  0\n",
       "ACTIVIDAD              0\n",
       "ESLABÓN                0\n",
       "CICLO AGRÍCOLA         0\n",
       "ESTADO_Clean           0\n",
       "MUNICIPIO_Clean        0\n",
       "Estado-mun-KEY         0\n",
       "KEY_benef_mun          0\n",
       "KEY_inegi_municipio    0\n",
       "dtype: int64"
      ]
     },
     "execution_count": 38,
     "metadata": {},
     "output_type": "execute_result"
    }
   ],
   "source": [
    "listado_beneficiarios_parte_I.isna().sum()"
   ]
  },
  {
   "cell_type": "code",
   "execution_count": 39,
   "metadata": {},
   "outputs": [],
   "source": [
    "# Hacer el join de la Parte II\n",
    "listado_beneficiarios_parte_II = pd.merge(listado_beneficiarios_parte_I, INEGI_UNIQUEMUN_2020, left_on=\"KEY_inegi_municipio\",\n",
    "                                        right_on=\"KEY_inegi_municipio\", how='left', suffixes=('_benef', '_inegi'))"
   ]
  },
  {
   "cell_type": "code",
   "execution_count": 40,
   "metadata": {},
   "outputs": [
    {
     "data": {
      "text/html": [
       "<div>\n",
       "<style scoped>\n",
       "    .dataframe tbody tr th:only-of-type {\n",
       "        vertical-align: middle;\n",
       "    }\n",
       "\n",
       "    .dataframe tbody tr th {\n",
       "        vertical-align: top;\n",
       "    }\n",
       "\n",
       "    .dataframe thead th {\n",
       "        text-align: right;\n",
       "    }\n",
       "</style>\n",
       "<table border=\"1\" class=\"dataframe\">\n",
       "  <thead>\n",
       "    <tr style=\"text-align: right;\">\n",
       "      <th></th>\n",
       "      <th>BENEFICIARIO</th>\n",
       "      <th>ZONA</th>\n",
       "      <th>ENTIDAD</th>\n",
       "      <th>MUNICIPIO</th>\n",
       "      <th>LOCALIDAD</th>\n",
       "      <th>ESTRATIFICACIÓN</th>\n",
       "      <th>PROGRAMA</th>\n",
       "      <th>COMPONENTE</th>\n",
       "      <th>SUBCOMPONENTE</th>\n",
       "      <th>PRODUCTO</th>\n",
       "      <th>...</th>\n",
       "      <th>MUNICIPIO_Clean</th>\n",
       "      <th>Estado-mun-KEY</th>\n",
       "      <th>KEY_benef_mun</th>\n",
       "      <th>KEY_inegi_municipio</th>\n",
       "      <th>CVE_ENT</th>\n",
       "      <th>Entidad_inegi</th>\n",
       "      <th>CVE_MUN</th>\n",
       "      <th>Municipio_inegi</th>\n",
       "      <th>Entidad_c_inegi</th>\n",
       "      <th>Municipio_c_inegi</th>\n",
       "    </tr>\n",
       "  </thead>\n",
       "  <tbody>\n",
       "    <tr>\n",
       "      <th>0</th>\n",
       "      <td>ESPINOZA ZAMORA SILVANO</td>\n",
       "      <td>CENTRO PAÍS</td>\n",
       "      <td>GUERRERO</td>\n",
       "      <td>ACATEPEC</td>\n",
       "      <td>ESCALERILLA ZAPATA</td>\n",
       "      <td>Muy alto</td>\n",
       "      <td>FERTILIZANTES</td>\n",
       "      <td>FERTILIZANTES</td>\n",
       "      <td>FERTILIZANTES</td>\n",
       "      <td>Cultivo de maíz grano</td>\n",
       "      <td>...</td>\n",
       "      <td>acatepec</td>\n",
       "      <td>guerrero-acatepec</td>\n",
       "      <td>guerrero-acatepec</td>\n",
       "      <td>guerrero-acatepec</td>\n",
       "      <td>12</td>\n",
       "      <td>Guerrero</td>\n",
       "      <td>76</td>\n",
       "      <td>Acatepec</td>\n",
       "      <td>guerrero</td>\n",
       "      <td>acatepec</td>\n",
       "    </tr>\n",
       "    <tr>\n",
       "      <th>1</th>\n",
       "      <td>CASTRO IGNACIO ESTEBAN</td>\n",
       "      <td>CENTRO PAÍS</td>\n",
       "      <td>GUERRERO</td>\n",
       "      <td>ACATEPEC</td>\n",
       "      <td>ESCALERILLA ZAPATA</td>\n",
       "      <td>Muy alto</td>\n",
       "      <td>FERTILIZANTES</td>\n",
       "      <td>FERTILIZANTES</td>\n",
       "      <td>FERTILIZANTES</td>\n",
       "      <td>Cultivo de maíz grano</td>\n",
       "      <td>...</td>\n",
       "      <td>acatepec</td>\n",
       "      <td>guerrero-acatepec</td>\n",
       "      <td>guerrero-acatepec</td>\n",
       "      <td>guerrero-acatepec</td>\n",
       "      <td>12</td>\n",
       "      <td>Guerrero</td>\n",
       "      <td>76</td>\n",
       "      <td>Acatepec</td>\n",
       "      <td>guerrero</td>\n",
       "      <td>acatepec</td>\n",
       "    </tr>\n",
       "    <tr>\n",
       "      <th>2</th>\n",
       "      <td>ESPINOZA ESPINOZA AMELIA</td>\n",
       "      <td>CENTRO PAÍS</td>\n",
       "      <td>GUERRERO</td>\n",
       "      <td>ACATEPEC</td>\n",
       "      <td>ESCALERILLA ZAPATA</td>\n",
       "      <td>Muy alto</td>\n",
       "      <td>FERTILIZANTES</td>\n",
       "      <td>FERTILIZANTES</td>\n",
       "      <td>FERTILIZANTES</td>\n",
       "      <td>Cultivo de maíz grano</td>\n",
       "      <td>...</td>\n",
       "      <td>acatepec</td>\n",
       "      <td>guerrero-acatepec</td>\n",
       "      <td>guerrero-acatepec</td>\n",
       "      <td>guerrero-acatepec</td>\n",
       "      <td>12</td>\n",
       "      <td>Guerrero</td>\n",
       "      <td>76</td>\n",
       "      <td>Acatepec</td>\n",
       "      <td>guerrero</td>\n",
       "      <td>acatepec</td>\n",
       "    </tr>\n",
       "    <tr>\n",
       "      <th>3</th>\n",
       "      <td>DIRCIO CALIXTO ANUNCIACION</td>\n",
       "      <td>CENTRO PAÍS</td>\n",
       "      <td>GUERRERO</td>\n",
       "      <td>ACATEPEC</td>\n",
       "      <td>ESCALERILLA ZAPATA</td>\n",
       "      <td>Muy alto</td>\n",
       "      <td>FERTILIZANTES</td>\n",
       "      <td>FERTILIZANTES</td>\n",
       "      <td>FERTILIZANTES</td>\n",
       "      <td>Cultivo de maíz grano</td>\n",
       "      <td>...</td>\n",
       "      <td>acatepec</td>\n",
       "      <td>guerrero-acatepec</td>\n",
       "      <td>guerrero-acatepec</td>\n",
       "      <td>guerrero-acatepec</td>\n",
       "      <td>12</td>\n",
       "      <td>Guerrero</td>\n",
       "      <td>76</td>\n",
       "      <td>Acatepec</td>\n",
       "      <td>guerrero</td>\n",
       "      <td>acatepec</td>\n",
       "    </tr>\n",
       "    <tr>\n",
       "      <th>4</th>\n",
       "      <td>CALIXTRO LOPEZ LAURA</td>\n",
       "      <td>CENTRO PAÍS</td>\n",
       "      <td>GUERRERO</td>\n",
       "      <td>ACATEPEC</td>\n",
       "      <td>ESCALERILLA ZAPATA</td>\n",
       "      <td>Muy alto</td>\n",
       "      <td>FERTILIZANTES</td>\n",
       "      <td>FERTILIZANTES</td>\n",
       "      <td>FERTILIZANTES</td>\n",
       "      <td>Cultivo de maíz grano</td>\n",
       "      <td>...</td>\n",
       "      <td>acatepec</td>\n",
       "      <td>guerrero-acatepec</td>\n",
       "      <td>guerrero-acatepec</td>\n",
       "      <td>guerrero-acatepec</td>\n",
       "      <td>12</td>\n",
       "      <td>Guerrero</td>\n",
       "      <td>76</td>\n",
       "      <td>Acatepec</td>\n",
       "      <td>guerrero</td>\n",
       "      <td>acatepec</td>\n",
       "    </tr>\n",
       "    <tr>\n",
       "      <th>...</th>\n",
       "      <td>...</td>\n",
       "      <td>...</td>\n",
       "      <td>...</td>\n",
       "      <td>...</td>\n",
       "      <td>...</td>\n",
       "      <td>...</td>\n",
       "      <td>...</td>\n",
       "      <td>...</td>\n",
       "      <td>...</td>\n",
       "      <td>...</td>\n",
       "      <td>...</td>\n",
       "      <td>...</td>\n",
       "      <td>...</td>\n",
       "      <td>...</td>\n",
       "      <td>...</td>\n",
       "      <td>...</td>\n",
       "      <td>...</td>\n",
       "      <td>...</td>\n",
       "      <td>...</td>\n",
       "      <td>...</td>\n",
       "      <td>...</td>\n",
       "    </tr>\n",
       "    <tr>\n",
       "      <th>369032</th>\n",
       "      <td>RAMIREZ FLORES GUILLERMINA</td>\n",
       "      <td>CENTRO PAÍS</td>\n",
       "      <td>PUEBLA</td>\n",
       "      <td>ACAJETE</td>\n",
       "      <td>LA MAGDALENA TETELA MORELOS</td>\n",
       "      <td>Alto</td>\n",
       "      <td>FERTILIZANTES</td>\n",
       "      <td>FERTILIZANTES</td>\n",
       "      <td>FERTILIZANTES</td>\n",
       "      <td>Cultivo de maíz grano</td>\n",
       "      <td>...</td>\n",
       "      <td>acajete</td>\n",
       "      <td>puebla-acajete</td>\n",
       "      <td>puebla-acajete</td>\n",
       "      <td>puebla-acajete</td>\n",
       "      <td>21</td>\n",
       "      <td>Puebla</td>\n",
       "      <td>1</td>\n",
       "      <td>Acajete</td>\n",
       "      <td>puebla</td>\n",
       "      <td>acajete</td>\n",
       "    </tr>\n",
       "    <tr>\n",
       "      <th>369033</th>\n",
       "      <td>MARTINEZ HERNANDEZ JOSE JUAN</td>\n",
       "      <td>CENTRO PAÍS</td>\n",
       "      <td>PUEBLA</td>\n",
       "      <td>SAN SALVADOR EL SECO</td>\n",
       "      <td>SAN SALVADOR EL SECO</td>\n",
       "      <td>Alto</td>\n",
       "      <td>FERTILIZANTES</td>\n",
       "      <td>FERTILIZANTES</td>\n",
       "      <td>FERTILIZANTES</td>\n",
       "      <td>Cultivo de maíz grano</td>\n",
       "      <td>...</td>\n",
       "      <td>san salvador el seco</td>\n",
       "      <td>puebla-san salvador el seco</td>\n",
       "      <td>puebla-san salvador el seco</td>\n",
       "      <td>puebla-san salvador el seco</td>\n",
       "      <td>21</td>\n",
       "      <td>Puebla</td>\n",
       "      <td>142</td>\n",
       "      <td>San Salvador el Seco</td>\n",
       "      <td>puebla</td>\n",
       "      <td>san salvador el seco</td>\n",
       "    </tr>\n",
       "    <tr>\n",
       "      <th>369034</th>\n",
       "      <td>VARILLAS MORA JUANA</td>\n",
       "      <td>CENTRO PAÍS</td>\n",
       "      <td>PUEBLA</td>\n",
       "      <td>TLACOTEPEC DE BENITO JUÁREZ</td>\n",
       "      <td>TLACOTEPEC DE BENITO JUÁREZ</td>\n",
       "      <td>Alto</td>\n",
       "      <td>FERTILIZANTES</td>\n",
       "      <td>FERTILIZANTES</td>\n",
       "      <td>FERTILIZANTES</td>\n",
       "      <td>Cultivo de maíz grano</td>\n",
       "      <td>...</td>\n",
       "      <td>tlacotepec de benito juarez</td>\n",
       "      <td>puebla-tlacotepec de benito juarez</td>\n",
       "      <td>puebla-tlacotepec de benito juarez</td>\n",
       "      <td>puebla-tlacotepec de benito juarez</td>\n",
       "      <td>21</td>\n",
       "      <td>Puebla</td>\n",
       "      <td>177</td>\n",
       "      <td>Tlacotepec de Benito Juárez</td>\n",
       "      <td>puebla</td>\n",
       "      <td>tlacotepec de benito juarez</td>\n",
       "    </tr>\n",
       "    <tr>\n",
       "      <th>369035</th>\n",
       "      <td>JIMENEZ AGUILAR FLORENTINO</td>\n",
       "      <td>CENTRO PAÍS</td>\n",
       "      <td>GUERRERO</td>\n",
       "      <td>JUCHITÁN</td>\n",
       "      <td>JUCHITÁN</td>\n",
       "      <td>Alto</td>\n",
       "      <td>FERTILIZANTES</td>\n",
       "      <td>FERTILIZANTES</td>\n",
       "      <td>FERTILIZANTES</td>\n",
       "      <td>Cultivo de maíz grano</td>\n",
       "      <td>...</td>\n",
       "      <td>juchitan</td>\n",
       "      <td>guerrero-juchitan</td>\n",
       "      <td>guerrero-juchitan</td>\n",
       "      <td>guerrero-juchitan</td>\n",
       "      <td>12</td>\n",
       "      <td>Guerrero</td>\n",
       "      <td>80</td>\n",
       "      <td>Juchitán</td>\n",
       "      <td>guerrero</td>\n",
       "      <td>juchitan</td>\n",
       "    </tr>\n",
       "    <tr>\n",
       "      <th>369036</th>\n",
       "      <td>TORIBIO CAYETANO MARTINA</td>\n",
       "      <td>CENTRO PAÍS</td>\n",
       "      <td>GUERRERO</td>\n",
       "      <td>ACATEPEC</td>\n",
       "      <td>TIERRA BLANCA</td>\n",
       "      <td>Muy alto</td>\n",
       "      <td>FERTILIZANTES</td>\n",
       "      <td>FERTILIZANTES</td>\n",
       "      <td>FERTILIZANTES</td>\n",
       "      <td>Cultivo de maíz grano</td>\n",
       "      <td>...</td>\n",
       "      <td>acatepec</td>\n",
       "      <td>guerrero-acatepec</td>\n",
       "      <td>guerrero-acatepec</td>\n",
       "      <td>guerrero-acatepec</td>\n",
       "      <td>12</td>\n",
       "      <td>Guerrero</td>\n",
       "      <td>76</td>\n",
       "      <td>Acatepec</td>\n",
       "      <td>guerrero</td>\n",
       "      <td>acatepec</td>\n",
       "    </tr>\n",
       "  </tbody>\n",
       "</table>\n",
       "<p>369037 rows × 27 columns</p>\n",
       "</div>"
      ],
      "text/plain": [
       "                         BENEFICIARIO         ZONA   ENTIDAD  \\\n",
       "0            ESPINOZA ZAMORA SILVANO   CENTRO PAÍS  GUERRERO   \n",
       "1             CASTRO IGNACIO ESTEBAN   CENTRO PAÍS  GUERRERO   \n",
       "2           ESPINOZA ESPINOZA AMELIA   CENTRO PAÍS  GUERRERO   \n",
       "3         DIRCIO CALIXTO ANUNCIACION   CENTRO PAÍS  GUERRERO   \n",
       "4               CALIXTRO LOPEZ LAURA   CENTRO PAÍS  GUERRERO   \n",
       "...                               ...          ...       ...   \n",
       "369032    RAMIREZ FLORES GUILLERMINA   CENTRO PAÍS    PUEBLA   \n",
       "369033  MARTINEZ HERNANDEZ JOSE JUAN   CENTRO PAÍS    PUEBLA   \n",
       "369034           VARILLAS MORA JUANA   CENTRO PAÍS    PUEBLA   \n",
       "369035    JIMENEZ AGUILAR FLORENTINO   CENTRO PAÍS  GUERRERO   \n",
       "369036      TORIBIO CAYETANO MARTINA   CENTRO PAÍS  GUERRERO   \n",
       "\n",
       "                          MUNICIPIO                    LOCALIDAD  \\\n",
       "0                          ACATEPEC           ESCALERILLA ZAPATA   \n",
       "1                          ACATEPEC           ESCALERILLA ZAPATA   \n",
       "2                          ACATEPEC           ESCALERILLA ZAPATA   \n",
       "3                          ACATEPEC           ESCALERILLA ZAPATA   \n",
       "4                          ACATEPEC           ESCALERILLA ZAPATA   \n",
       "...                             ...                          ...   \n",
       "369032                      ACAJETE  LA MAGDALENA TETELA MORELOS   \n",
       "369033         SAN SALVADOR EL SECO         SAN SALVADOR EL SECO   \n",
       "369034  TLACOTEPEC DE BENITO JUÁREZ  TLACOTEPEC DE BENITO JUÁREZ   \n",
       "369035                     JUCHITÁN                     JUCHITÁN   \n",
       "369036                     ACATEPEC                TIERRA BLANCA   \n",
       "\n",
       "       ESTRATIFICACIÓN       PROGRAMA     COMPONENTE  SUBCOMPONENTE  \\\n",
       "0             Muy alto  FERTILIZANTES  FERTILIZANTES  FERTILIZANTES   \n",
       "1             Muy alto  FERTILIZANTES  FERTILIZANTES  FERTILIZANTES   \n",
       "2             Muy alto  FERTILIZANTES  FERTILIZANTES  FERTILIZANTES   \n",
       "3             Muy alto  FERTILIZANTES  FERTILIZANTES  FERTILIZANTES   \n",
       "4             Muy alto  FERTILIZANTES  FERTILIZANTES  FERTILIZANTES   \n",
       "...                ...            ...            ...            ...   \n",
       "369032            Alto  FERTILIZANTES  FERTILIZANTES  FERTILIZANTES   \n",
       "369033            Alto  FERTILIZANTES  FERTILIZANTES  FERTILIZANTES   \n",
       "369034            Alto  FERTILIZANTES  FERTILIZANTES  FERTILIZANTES   \n",
       "369035            Alto  FERTILIZANTES  FERTILIZANTES  FERTILIZANTES   \n",
       "369036        Muy alto  FERTILIZANTES  FERTILIZANTES  FERTILIZANTES   \n",
       "\n",
       "                     PRODUCTO  ...              MUNICIPIO_Clean  \\\n",
       "0       Cultivo de maíz grano  ...                     acatepec   \n",
       "1       Cultivo de maíz grano  ...                     acatepec   \n",
       "2       Cultivo de maíz grano  ...                     acatepec   \n",
       "3       Cultivo de maíz grano  ...                     acatepec   \n",
       "4       Cultivo de maíz grano  ...                     acatepec   \n",
       "...                       ...  ...                          ...   \n",
       "369032  Cultivo de maíz grano  ...                      acajete   \n",
       "369033  Cultivo de maíz grano  ...         san salvador el seco   \n",
       "369034  Cultivo de maíz grano  ...  tlacotepec de benito juarez   \n",
       "369035  Cultivo de maíz grano  ...                     juchitan   \n",
       "369036  Cultivo de maíz grano  ...                     acatepec   \n",
       "\n",
       "                            Estado-mun-KEY  \\\n",
       "0                        guerrero-acatepec   \n",
       "1                        guerrero-acatepec   \n",
       "2                        guerrero-acatepec   \n",
       "3                        guerrero-acatepec   \n",
       "4                        guerrero-acatepec   \n",
       "...                                    ...   \n",
       "369032                      puebla-acajete   \n",
       "369033         puebla-san salvador el seco   \n",
       "369034  puebla-tlacotepec de benito juarez   \n",
       "369035                   guerrero-juchitan   \n",
       "369036                   guerrero-acatepec   \n",
       "\n",
       "                             KEY_benef_mun  \\\n",
       "0                        guerrero-acatepec   \n",
       "1                        guerrero-acatepec   \n",
       "2                        guerrero-acatepec   \n",
       "3                        guerrero-acatepec   \n",
       "4                        guerrero-acatepec   \n",
       "...                                    ...   \n",
       "369032                      puebla-acajete   \n",
       "369033         puebla-san salvador el seco   \n",
       "369034  puebla-tlacotepec de benito juarez   \n",
       "369035                   guerrero-juchitan   \n",
       "369036                   guerrero-acatepec   \n",
       "\n",
       "                       KEY_inegi_municipio CVE_ENT Entidad_inegi CVE_MUN  \\\n",
       "0                        guerrero-acatepec      12      Guerrero      76   \n",
       "1                        guerrero-acatepec      12      Guerrero      76   \n",
       "2                        guerrero-acatepec      12      Guerrero      76   \n",
       "3                        guerrero-acatepec      12      Guerrero      76   \n",
       "4                        guerrero-acatepec      12      Guerrero      76   \n",
       "...                                    ...     ...           ...     ...   \n",
       "369032                      puebla-acajete      21        Puebla       1   \n",
       "369033         puebla-san salvador el seco      21        Puebla     142   \n",
       "369034  puebla-tlacotepec de benito juarez      21        Puebla     177   \n",
       "369035                   guerrero-juchitan      12      Guerrero      80   \n",
       "369036                   guerrero-acatepec      12      Guerrero      76   \n",
       "\n",
       "                    Municipio_inegi Entidad_c_inegi  \\\n",
       "0                          Acatepec        guerrero   \n",
       "1                          Acatepec        guerrero   \n",
       "2                          Acatepec        guerrero   \n",
       "3                          Acatepec        guerrero   \n",
       "4                          Acatepec        guerrero   \n",
       "...                             ...             ...   \n",
       "369032                      Acajete          puebla   \n",
       "369033         San Salvador el Seco          puebla   \n",
       "369034  Tlacotepec de Benito Juárez          puebla   \n",
       "369035                     Juchitán        guerrero   \n",
       "369036                     Acatepec        guerrero   \n",
       "\n",
       "                  Municipio_c_inegi  \n",
       "0                          acatepec  \n",
       "1                          acatepec  \n",
       "2                          acatepec  \n",
       "3                          acatepec  \n",
       "4                          acatepec  \n",
       "...                             ...  \n",
       "369032                      acajete  \n",
       "369033         san salvador el seco  \n",
       "369034  tlacotepec de benito juarez  \n",
       "369035                     juchitan  \n",
       "369036                     acatepec  \n",
       "\n",
       "[369037 rows x 27 columns]"
      ]
     },
     "execution_count": 40,
     "metadata": {},
     "output_type": "execute_result"
    }
   ],
   "source": [
    "listado_beneficiarios_parte_II"
   ]
  },
  {
   "cell_type": "code",
   "execution_count": 41,
   "metadata": {},
   "outputs": [],
   "source": [
    "listado_beneficiarios_parte_II = listado_beneficiarios_parte_II.drop(columns=['ESTADO_Clean', 'MUNICIPIO_Clean', 'Estado-mun-KEY', 'KEY_inegi_municipio', 'Entidad_c_inegi','Municipio_c_inegi', 'ESTRATIFICACIÓN', 'PROGRAMA', 'COMPONENTE', 'SUBCOMPONENTE', 'APOYO', 'ACTIVIDAD', 'ESLABÓN'])"
   ]
  },
  {
   "cell_type": "code",
   "execution_count": 42,
   "metadata": {},
   "outputs": [
    {
     "data": {
      "text/plain": [
       "Index(['BENEFICIARIO', 'ZONA', 'ENTIDAD', 'MUNICIPIO', 'LOCALIDAD', 'PRODUCTO',\n",
       "       'FECHA', 'MONTO FEDERAL', 'CICLO AGRÍCOLA', 'KEY_benef_mun', 'CVE_ENT',\n",
       "       'Entidad_inegi', 'CVE_MUN', 'Municipio_inegi'],\n",
       "      dtype='object')"
      ]
     },
     "execution_count": 42,
     "metadata": {},
     "output_type": "execute_result"
    }
   ],
   "source": [
    "listado_beneficiarios_parte_II.columns"
   ]
  },
  {
   "cell_type": "code",
   "execution_count": 43,
   "metadata": {},
   "outputs": [],
   "source": [
    "listado_beneficiarios_parte_II.to_csv('../../data/listados_completos/listado_beneficiarios_2020.csv', index=False)"
   ]
  },
  {
   "cell_type": "code",
   "execution_count": 44,
   "metadata": {},
   "outputs": [
    {
     "data": {
      "text/plain": [
       "BENEFICIARIO       0\n",
       "ZONA               0\n",
       "ENTIDAD            0\n",
       "MUNICIPIO          0\n",
       "LOCALIDAD          0\n",
       "PRODUCTO           0\n",
       "FECHA              0\n",
       "MONTO FEDERAL      0\n",
       "CICLO AGRÍCOLA     0\n",
       "KEY_benef_mun      0\n",
       "CVE_ENT            0\n",
       "Entidad_inegi      0\n",
       "CVE_MUN            0\n",
       "Municipio_inegi    0\n",
       "dtype: int64"
      ]
     },
     "execution_count": 44,
     "metadata": {},
     "output_type": "execute_result"
    }
   ],
   "source": [
    "listado_beneficiarios_parte_II.isna().sum()"
   ]
  },
  {
   "cell_type": "code",
   "execution_count": 45,
   "metadata": {},
   "outputs": [
    {
     "data": {
      "text/plain": [
       "(369037, 14)"
      ]
     },
     "execution_count": 45,
     "metadata": {},
     "output_type": "execute_result"
    }
   ],
   "source": [
    "listado_beneficiarios_parte_II.shape"
   ]
  },
  {
   "cell_type": "markdown",
   "metadata": {},
   "source": [
    "# 3. Join por entidad (Divide y Vencerás)"
   ]
  },
  {
   "cell_type": "code",
   "execution_count": 46,
   "metadata": {},
   "outputs": [],
   "source": [
    "listado_beneficiarios_2020_match = pd.read_csv('../../data/listados_completos/listado_beneficiarios_2020_match.csv')"
   ]
  },
  {
   "cell_type": "code",
   "execution_count": 47,
   "metadata": {},
   "outputs": [
    {
     "data": {
      "text/plain": [
       "Index(['Unnamed: 0', 'BENEFICIARIO', 'ZONA', 'ENTIDAD', 'MUNICIPIO',\n",
       "       'LOCALIDAD', 'PRODUCTO', 'FECHA', 'MONTO FEDERAL', 'CICLO AGRÍCOLA'],\n",
       "      dtype='object')"
      ]
     },
     "execution_count": 47,
     "metadata": {},
     "output_type": "execute_result"
    }
   ],
   "source": [
    "listado_beneficiarios_2020_match.columns"
   ]
  },
  {
   "cell_type": "code",
   "execution_count": 48,
   "metadata": {},
   "outputs": [],
   "source": [
    "# Obtenemos las localidades únicas en el dataset.\n",
    "listado_beneficiarios_2020_match = listado_beneficiarios_2020_match.drop(columns=['Unnamed: 0'])"
   ]
  },
  {
   "cell_type": "code",
   "execution_count": 49,
   "metadata": {},
   "outputs": [],
   "source": [
    "listado_beneficiarios_2020_match['ENTIDAD_c_benef'] = listado_beneficiarios_2020_match['ENTIDAD'].apply(clean_text)\n",
    "listado_beneficiarios_2020_match['MUNICIPIO_c_benef'] = listado_beneficiarios_2020_match['MUNICIPIO'].apply(clean_text)\n",
    "listado_beneficiarios_2020_match['LOCALIDAD_c_benef'] = listado_beneficiarios_2020_match['LOCALIDAD'].apply(clean_text)"
   ]
  },
  {
   "cell_type": "code",
   "execution_count": 50,
   "metadata": {},
   "outputs": [],
   "source": [
    "listado_beneficiarios_2020_match['KEY_benef_loc'] = listado_beneficiarios_2020_match['MUNICIPIO_c_benef'].astype(str) + '-' + listado_beneficiarios_2020_match['LOCALIDAD_c_benef'].astype(str)"
   ]
  },
  {
   "cell_type": "code",
   "execution_count": 51,
   "metadata": {},
   "outputs": [
    {
     "data": {
      "text/plain": [
       "(369091, 13)"
      ]
     },
     "execution_count": 51,
     "metadata": {},
     "output_type": "execute_result"
    }
   ],
   "source": [
    "listado_beneficiarios_2020_match.shape"
   ]
  },
  {
   "cell_type": "code",
   "execution_count": 52,
   "metadata": {},
   "outputs": [],
   "source": [
    "listado_beneficiarios_2020_match = listado_beneficiarios_2020_match.drop_duplicates(subset=['KEY_benef_loc'])"
   ]
  },
  {
   "cell_type": "code",
   "execution_count": 53,
   "metadata": {},
   "outputs": [
    {
     "data": {
      "text/plain": [
       "(5404, 13)"
      ]
     },
     "execution_count": 53,
     "metadata": {},
     "output_type": "execute_result"
    }
   ],
   "source": [
    "listado_beneficiarios_2020_match.shape"
   ]
  },
  {
   "cell_type": "code",
   "execution_count": 54,
   "metadata": {},
   "outputs": [
    {
     "data": {
      "text/plain": [
       "array(['GUERRERO', 'MORELOS', 'TLAXCALA', 'PUEBLA', 'Guerrero', 'Puebla'],\n",
       "      dtype=object)"
      ]
     },
     "execution_count": 54,
     "metadata": {},
     "output_type": "execute_result"
    }
   ],
   "source": [
    "listado_beneficiarios_2020_match.ENTIDAD.unique()"
   ]
  },
  {
   "cell_type": "markdown",
   "metadata": {},
   "source": [
    "### 3.2.1 Join de localidades - GUERRERO"
   ]
  },
  {
   "cell_type": "markdown",
   "metadata": {},
   "source": [
    "Empezamos creando los datasets por entiedad del dataset de beneficiarios.\n"
   ]
  },
  {
   "cell_type": "code",
   "execution_count": 55,
   "metadata": {},
   "outputs": [
    {
     "name": "stdout",
     "output_type": "stream",
     "text": [
      "Localidades_20_GUERRERO defined with shape: (4554, 13)\n",
      "Localidades_20_MORELOS defined with shape: (270, 13)\n",
      "Localidades_20_TLAXCALA defined with shape: (290, 13)\n",
      "Localidades_20_PUEBLA defined with shape: (290, 13)\n"
     ]
    }
   ],
   "source": [
    "entities = ['GUERRERO', 'MORELOS', 'TLAXCALA', 'PUEBLA', 'Guerrero', 'Puebla']\n",
    "\n",
    "# Dictionary to hold DataFrames\n",
    "dataframes_dict = {}\n",
    "\n",
    "for entity in entities:\n",
    "    variable_name = f\"Localidades_20_{entity.upper().replace(' ', '_')}\"\n",
    "    dataframe = listado_beneficiarios_2020_match[listado_beneficiarios_2020_match[\"ENTIDAD\"] == entity]\n",
    "    \n",
    "    # Check if the DataFrame for this entity already exists in the dictionary\n",
    "    if variable_name in dataframes_dict:\n",
    "        # If it exists, concatenate the new DataFrame with the existing one\n",
    "        dataframes_dict[variable_name] = pd.concat([dataframes_dict[variable_name], dataframe])\n",
    "    else:\n",
    "        # If it does not exist, create a new entry in the dictionary\n",
    "        dataframes_dict[variable_name] = dataframe\n",
    "\n",
    "# Define each DataFrame as a separate variable\n",
    "for name, df in dataframes_dict.items():\n",
    "    globals()[name] = df\n",
    "    print(f\"{name} defined with shape: {df.shape}\")"
   ]
  },
  {
   "cell_type": "code",
   "execution_count": 56,
   "metadata": {},
   "outputs": [],
   "source": [
    "Localidades_20_Guerrero = listado_beneficiarios_2020_match[listado_beneficiarios_2020_match['ENTIDAD'] == 'Guerrero']"
   ]
  },
  {
   "cell_type": "code",
   "execution_count": 57,
   "metadata": {},
   "outputs": [
    {
     "data": {
      "text/plain": [
       "(5404, 13)"
      ]
     },
     "execution_count": 57,
     "metadata": {},
     "output_type": "execute_result"
    }
   ],
   "source": [
    "listado_beneficiarios_2020_match.shape"
   ]
  },
  {
   "cell_type": "markdown",
   "metadata": {},
   "source": [
    "### 3.2.2 Diccionarios de Inegi por entidad."
   ]
  },
  {
   "cell_type": "code",
   "execution_count": 58,
   "metadata": {},
   "outputs": [
    {
     "name": "stdout",
     "output_type": "stream",
     "text": [
      "INEGI_UNIQUELOC_2020_puebla: 7726 filas, 11 columnas\n",
      "INEGI_UNIQUELOC_2020_guerrero: 9220 filas, 11 columnas\n",
      "INEGI_UNIQUELOC_2020_morelos: 1904 filas, 11 columnas\n",
      "INEGI_UNIQUELOC_2020_tlaxcala: 1689 filas, 11 columnas\n"
     ]
    }
   ],
   "source": [
    "folder_path = '../../data/productores_beneficiarios 2019-2022/diccionarios_E3/2020'\n",
    "\n",
    "# Listar todos los archivos en la carpeta\n",
    "files = os.listdir(folder_path)\n",
    "\n",
    "# Filtrar solo los archivos CSV\n",
    "csv_files = [file for file in files if file.endswith('.csv')]\n",
    "\n",
    "# Leer cada archivo CSV y almacenar en variables separadas\n",
    "for file_name in csv_files:\n",
    "    file_path = os.path.join(folder_path, file_name)\n",
    "    # Crear un nombre de variable dinámicamente eliminando la extensión .csv\n",
    "    var_name = file_name.replace('.csv', '')\n",
    "    # Leer el archivo CSV y asignar el DataFrame a la variable\n",
    "    globals()[var_name] = pd.read_csv(file_path)\n",
    "\n",
    "# Opcional: Imprimir el nombre de las variables creadas y la cantidad de filas y columnas de cada DataFrame\n",
    "for file_name in csv_files:\n",
    "    var_name = file_name.replace('.csv', '')\n",
    "    df = globals()[var_name]\n",
    "    print(f'{var_name}: {df.shape[0]} filas, {df.shape[1]} columnas')\n"
   ]
  },
  {
   "cell_type": "code",
   "execution_count": 59,
   "metadata": {},
   "outputs": [
    {
     "data": {
      "text/plain": [
       "(9220, 11)"
      ]
     },
     "execution_count": 59,
     "metadata": {},
     "output_type": "execute_result"
    }
   ],
   "source": [
    "INEGI_UNIQUELOC_2020_guerrero.shape"
   ]
  },
  {
   "cell_type": "code",
   "execution_count": 60,
   "metadata": {},
   "outputs": [
    {
     "name": "stderr",
     "output_type": "stream",
     "text": [
      "/var/folders/ng/n9ng0wy92t90_49j662nh02c0000gn/T/ipykernel_26870/734782849.py:18: SettingWithCopyWarning: \n",
      "A value is trying to be set on a copy of a slice from a DataFrame.\n",
      "Try using .loc[row_indexer,col_indexer] = value instead\n",
      "\n",
      "See the caveats in the documentation: https://pandas.pydata.org/pandas-docs/stable/user_guide/indexing.html#returning-a-view-versus-a-copy\n",
      "  df_benef['best_match'] = [match[0] if match else None for match in matches]\n",
      "/var/folders/ng/n9ng0wy92t90_49j662nh02c0000gn/T/ipykernel_26870/734782849.py:20: SettingWithCopyWarning: \n",
      "A value is trying to be set on a copy of a slice from a DataFrame.\n",
      "Try using .loc[row_indexer,col_indexer] = value instead\n",
      "\n",
      "See the caveats in the documentation: https://pandas.pydata.org/pandas-docs/stable/user_guide/indexing.html#returning-a-view-versus-a-copy\n",
      "  df_benef['match_score'] = [match[1] if match else None for match in matches]\n",
      "/var/folders/ng/n9ng0wy92t90_49j662nh02c0000gn/T/ipykernel_26870/734782849.py:18: SettingWithCopyWarning: \n",
      "A value is trying to be set on a copy of a slice from a DataFrame.\n",
      "Try using .loc[row_indexer,col_indexer] = value instead\n",
      "\n",
      "See the caveats in the documentation: https://pandas.pydata.org/pandas-docs/stable/user_guide/indexing.html#returning-a-view-versus-a-copy\n",
      "  df_benef['best_match'] = [match[0] if match else None for match in matches]\n",
      "/var/folders/ng/n9ng0wy92t90_49j662nh02c0000gn/T/ipykernel_26870/734782849.py:20: SettingWithCopyWarning: \n",
      "A value is trying to be set on a copy of a slice from a DataFrame.\n",
      "Try using .loc[row_indexer,col_indexer] = value instead\n",
      "\n",
      "See the caveats in the documentation: https://pandas.pydata.org/pandas-docs/stable/user_guide/indexing.html#returning-a-view-versus-a-copy\n",
      "  df_benef['match_score'] = [match[1] if match else None for match in matches]\n"
     ]
    },
    {
     "data": {
      "text/plain": [
       "(290, 26)"
      ]
     },
     "execution_count": 60,
     "metadata": {},
     "output_type": "execute_result"
    }
   ],
   "source": [
    "Localidades_20_GUERRERO_parte_I = fuzzy_merge_benef2019_2022(Localidades_20_GUERRERO, INEGI_UNIQUELOC_2020_guerrero, 'KEY_benef_loc', 'KEY_inegi_localidad')\n",
    "Localidades_20_GUERRERO_parte_I.shape\n",
    "\n",
    "Localidades_20_PUEBLA_parte_I = fuzzy_merge_benef2019_2022(Localidades_20_PUEBLA, INEGI_UNIQUELOC_2020_puebla, 'KEY_benef_loc', 'KEY_inegi_localidad')\n",
    "Localidades_20_PUEBLA_parte_I.shape\n",
    "\n",
    "Localidades_20_MORELOS_parte_I = fuzzy_merge_benef2019_2022(Localidades_20_MORELOS, INEGI_UNIQUELOC_2020_morelos, 'KEY_benef_loc', 'KEY_inegi_localidad')\n",
    "Localidades_20_MORELOS_parte_I.shape\n",
    "\n",
    "Localidades_20_TLAXCALA_parte_I = fuzzy_merge_benef2019_2022(Localidades_20_TLAXCALA, INEGI_UNIQUELOC_2020_tlaxcala, 'KEY_benef_loc', 'KEY_inegi_localidad')\n",
    "Localidades_20_TLAXCALA_parte_I.shape"
   ]
  },
  {
   "cell_type": "code",
   "execution_count": 61,
   "metadata": {},
   "outputs": [
    {
     "data": {
      "text/plain": [
       "(5404, 26)"
      ]
     },
     "execution_count": 61,
     "metadata": {},
     "output_type": "execute_result"
    }
   ],
   "source": [
    "# Concatenate datasets vertically\n",
    "diccionario_LOC_20 = pd.concat([\n",
    "    Localidades_20_GUERRERO_parte_I,\n",
    "    Localidades_20_PUEBLA_parte_I,\n",
    "    Localidades_20_MORELOS_parte_I,\n",
    "    Localidades_20_TLAXCALA_parte_I\n",
    "], axis=0)\n",
    "\n",
    "# Check the shape of the concatenated DataFrame\n",
    "diccionario_LOC_20.shape"
   ]
  },
  {
   "cell_type": "code",
   "execution_count": 62,
   "metadata": {},
   "outputs": [],
   "source": [
    "diccionario_LOC_20.drop(columns=['BENEFICIARIO', 'ZONA', 'ENTIDAD', 'MUNICIPIO', 'LOCALIDAD', 'PRODUCTO',\n",
    "       'FECHA', 'MONTO FEDERAL', 'CICLO AGRÍCOLA', 'ENTIDAD_c_benef',\n",
    "       'MUNICIPIO_c_benef', 'LOCALIDAD_c_benef', 'best_match', 'CVE_ENT', 'Entidad_inegi', 'CVE_MUN', 'Municipio_inegi',\n",
    "       'CVE_LOC', 'Localidad_inegi', 'POB_TOTAL', 'Entidad_c_inegi',\n",
    "       'Municipio_c_inegi', 'Localidad_c_inegi'], inplace=True)"
   ]
  },
  {
   "cell_type": "code",
   "execution_count": 63,
   "metadata": {},
   "outputs": [],
   "source": [
    "diccionario_LOC_20.to_csv('../../data/productores_beneficiarios 2019-2022/diccionarios_E3/diccionario_LOC_20.csv', index=False)"
   ]
  },
  {
   "cell_type": "code",
   "execution_count": 64,
   "metadata": {},
   "outputs": [
    {
     "data": {
      "text/plain": [
       "KEY_benef_loc          0\n",
       "match_score            0\n",
       "KEY_inegi_localidad    0\n",
       "dtype: int64"
      ]
     },
     "execution_count": 64,
     "metadata": {},
     "output_type": "execute_result"
    }
   ],
   "source": [
    "diccionario_LOC_20.isna().sum()"
   ]
  },
  {
   "cell_type": "markdown",
   "metadata": {},
   "source": [
    "# 4. Diccionarios de localidades y merge respectivos."
   ]
  },
  {
   "cell_type": "markdown",
   "metadata": {},
   "source": [
    "Empezamos leyendo el diccionario_LOC_20_simple, el cual solo tiene key_benef_mun y key_inegi_municipio manipulada."
   ]
  },
  {
   "cell_type": "code",
   "execution_count": 65,
   "metadata": {},
   "outputs": [
    {
     "name": "stdout",
     "output_type": "stream",
     "text": [
      "                                    ï»¿KEY_benef_loc  match_score  \\\n",
      "0  teloloapan-cuadrilla del encanto (cerro del ba...           86   \n",
      "1  arcelia-reforma de lazaro cardenas (el aterriz...           86   \n",
      "2                           arcelia-colonia progreso           86   \n",
      "3               arcelia-colonia emperador cuauhtemoc           86   \n",
      "4  pungarabato-seminario diocesano la anunciacion...           86   \n",
      "\n",
      "                           KEY_inegi_localidad  \n",
      "0                        teloloapan-teloloapan  \n",
      "1                           arcelia-la reforma  \n",
      "2  acapulco de juarez-colonia acapulco dos mil  \n",
      "3                              arcelia-arcelia  \n",
      "4                pungarabato-ciudad altamirano  \n"
     ]
    }
   ],
   "source": [
    "import pandas as pd\n",
    "\n",
    "# Intentar leer el archivo CSV con diferentes configuraciones de lectura\n",
    "try:\n",
    "    diccionario_LOC_20_simple = pd.read_csv('../../data/productores_beneficiarios 2019-2022/diccionarios_E3/diccionario_LOC_20_simple.csv', encoding='cp1252', \n",
    "                          delimiter=';')\n",
    "    #diccionario_LOC_21_simple.drop(columns=['ValidaciÃ³n', 'Propuesta'], inplace=True)\n",
    "    print(diccionario_LOC_20_simple.head())\n",
    "except pd.errors.ParserError as e:\n",
    "    print(\"Error al leer el archivo CSV:\", e)\n",
    "\n",
    "\n"
   ]
  },
  {
   "cell_type": "code",
   "execution_count": 66,
   "metadata": {},
   "outputs": [
    {
     "data": {
      "text/plain": [
       "Index(['ï»¿KEY_benef_loc', 'match_score', 'KEY_inegi_localidad'], dtype='object')"
      ]
     },
     "execution_count": 66,
     "metadata": {},
     "output_type": "execute_result"
    }
   ],
   "source": [
    "diccionario_LOC_20_simple.columns"
   ]
  },
  {
   "cell_type": "code",
   "execution_count": 67,
   "metadata": {},
   "outputs": [],
   "source": [
    "diccionario_LOC_20_simple.rename(columns={'ï»¿KEY_benef_loc': 'KEY_benef_loc'}, inplace=True)"
   ]
  },
  {
   "cell_type": "code",
   "execution_count": 68,
   "metadata": {},
   "outputs": [
    {
     "data": {
      "text/plain": [
       "Index(['KEY_benef_loc', 'match_score', 'KEY_inegi_localidad'], dtype='object')"
      ]
     },
     "execution_count": 68,
     "metadata": {},
     "output_type": "execute_result"
    }
   ],
   "source": [
    "diccionario_LOC_20_simple.columns"
   ]
  },
  {
   "cell_type": "code",
   "execution_count": 69,
   "metadata": {},
   "outputs": [
    {
     "data": {
      "text/html": [
       "<div>\n",
       "<style scoped>\n",
       "    .dataframe tbody tr th:only-of-type {\n",
       "        vertical-align: middle;\n",
       "    }\n",
       "\n",
       "    .dataframe tbody tr th {\n",
       "        vertical-align: top;\n",
       "    }\n",
       "\n",
       "    .dataframe thead th {\n",
       "        text-align: right;\n",
       "    }\n",
       "</style>\n",
       "<table border=\"1\" class=\"dataframe\">\n",
       "  <thead>\n",
       "    <tr style=\"text-align: right;\">\n",
       "      <th></th>\n",
       "      <th>KEY_benef_loc</th>\n",
       "      <th>match_score</th>\n",
       "      <th>KEY_inegi_localidad</th>\n",
       "    </tr>\n",
       "  </thead>\n",
       "  <tbody>\n",
       "    <tr>\n",
       "      <th>0</th>\n",
       "      <td>teloloapan-cuadrilla del encanto (cerro del ba...</td>\n",
       "      <td>86</td>\n",
       "      <td>teloloapan-teloloapan</td>\n",
       "    </tr>\n",
       "    <tr>\n",
       "      <th>1</th>\n",
       "      <td>arcelia-reforma de lazaro cardenas (el aterriz...</td>\n",
       "      <td>86</td>\n",
       "      <td>arcelia-la reforma</td>\n",
       "    </tr>\n",
       "    <tr>\n",
       "      <th>2</th>\n",
       "      <td>arcelia-colonia progreso</td>\n",
       "      <td>86</td>\n",
       "      <td>acapulco de juarez-colonia acapulco dos mil</td>\n",
       "    </tr>\n",
       "    <tr>\n",
       "      <th>3</th>\n",
       "      <td>arcelia-colonia emperador cuauhtemoc</td>\n",
       "      <td>86</td>\n",
       "      <td>arcelia-arcelia</td>\n",
       "    </tr>\n",
       "    <tr>\n",
       "      <th>4</th>\n",
       "      <td>pungarabato-seminario diocesano la anunciacion...</td>\n",
       "      <td>86</td>\n",
       "      <td>pungarabato-ciudad altamirano</td>\n",
       "    </tr>\n",
       "    <tr>\n",
       "      <th>...</th>\n",
       "      <td>...</td>\n",
       "      <td>...</td>\n",
       "      <td>...</td>\n",
       "    </tr>\n",
       "    <tr>\n",
       "      <th>5399</th>\n",
       "      <td>contla de juan cuamatzi-san jose aztatla</td>\n",
       "      <td>100</td>\n",
       "      <td>contla de juan cuamatzi-san jose aztatla</td>\n",
       "    </tr>\n",
       "    <tr>\n",
       "      <th>5400</th>\n",
       "      <td>huamantla-el durazno</td>\n",
       "      <td>100</td>\n",
       "      <td>huamantla-el durazno</td>\n",
       "    </tr>\n",
       "    <tr>\n",
       "      <th>5401</th>\n",
       "      <td>atltzayanca-la garita</td>\n",
       "      <td>100</td>\n",
       "      <td>atltzayanca-la garita</td>\n",
       "    </tr>\n",
       "    <tr>\n",
       "      <th>5402</th>\n",
       "      <td>teolocholco-el carmen aztama</td>\n",
       "      <td>100</td>\n",
       "      <td>teolocholco-el carmen aztama</td>\n",
       "    </tr>\n",
       "    <tr>\n",
       "      <th>5403</th>\n",
       "      <td>tetla de la solidaridad-san isidro piedras negras</td>\n",
       "      <td>100</td>\n",
       "      <td>tetla de la solidaridad-san isidro piedras negras</td>\n",
       "    </tr>\n",
       "  </tbody>\n",
       "</table>\n",
       "<p>5404 rows × 3 columns</p>\n",
       "</div>"
      ],
      "text/plain": [
       "                                          KEY_benef_loc  match_score  \\\n",
       "0     teloloapan-cuadrilla del encanto (cerro del ba...           86   \n",
       "1     arcelia-reforma de lazaro cardenas (el aterriz...           86   \n",
       "2                              arcelia-colonia progreso           86   \n",
       "3                  arcelia-colonia emperador cuauhtemoc           86   \n",
       "4     pungarabato-seminario diocesano la anunciacion...           86   \n",
       "...                                                 ...          ...   \n",
       "5399           contla de juan cuamatzi-san jose aztatla          100   \n",
       "5400                               huamantla-el durazno          100   \n",
       "5401                              atltzayanca-la garita          100   \n",
       "5402                       teolocholco-el carmen aztama          100   \n",
       "5403  tetla de la solidaridad-san isidro piedras negras          100   \n",
       "\n",
       "                                    KEY_inegi_localidad  \n",
       "0                                 teloloapan-teloloapan  \n",
       "1                                    arcelia-la reforma  \n",
       "2           acapulco de juarez-colonia acapulco dos mil  \n",
       "3                                       arcelia-arcelia  \n",
       "4                         pungarabato-ciudad altamirano  \n",
       "...                                                 ...  \n",
       "5399           contla de juan cuamatzi-san jose aztatla  \n",
       "5400                               huamantla-el durazno  \n",
       "5401                              atltzayanca-la garita  \n",
       "5402                       teolocholco-el carmen aztama  \n",
       "5403  tetla de la solidaridad-san isidro piedras negras  \n",
       "\n",
       "[5404 rows x 3 columns]"
      ]
     },
     "execution_count": 69,
     "metadata": {},
     "output_type": "execute_result"
    }
   ],
   "source": [
    "diccionario_LOC_20_simple"
   ]
  },
  {
   "cell_type": "code",
   "execution_count": 70,
   "metadata": {},
   "outputs": [],
   "source": [
    "listado_beneficiarios_parte_II['MUNICIPIO_Clean'] = listado_beneficiarios_parte_II['MUNICIPIO'].apply(clean_text)\n",
    "listado_beneficiarios_parte_II['LOCALIDAD_Clean'] = listado_beneficiarios_parte_II['LOCALIDAD'].apply(clean_text)\n",
    "\n",
    "# Create KEY in listado beneficiarios\n",
    "listado_beneficiarios_parte_II['Municipio-loc-KEY'] = listado_beneficiarios_parte_II['MUNICIPIO_Clean'].astype(str) + '-' + listado_beneficiarios_parte_II[\n",
    "    'LOCALIDAD_Clean'].astype(str)"
   ]
  },
  {
   "cell_type": "markdown",
   "metadata": {},
   "source": [
    "Primer merge entre listado_beneficiarios_parte_II, y diccionario_LOC_22_simple. En este merge cogemos el dataset con los municipios corregidos previamente y ejecutamos el merge de manera que nos traemos las key_inegi_localidad corregidas."
   ]
  },
  {
   "cell_type": "code",
   "execution_count": 71,
   "metadata": {},
   "outputs": [
    {
     "data": {
      "text/plain": [
       "(369037, 17)"
      ]
     },
     "execution_count": 71,
     "metadata": {},
     "output_type": "execute_result"
    }
   ],
   "source": [
    "listado_beneficiarios_parte_II.shape"
   ]
  },
  {
   "cell_type": "code",
   "execution_count": 72,
   "metadata": {},
   "outputs": [],
   "source": [
    "INEGI_UNIQUELOC_2020 = dataset_inegi_2020.drop(columns=['Entidad_c_inegi', 'Municipio_c_inegi',\n",
    "       'Localidad_c_inegi', 'POB_TOTAL'])\n",
    "INEGI_UNIQUELOC_2020 = INEGI_UNIQUELOC_2020.drop_duplicates(subset='KEY_inegi_localidad', keep='first')"
   ]
  },
  {
   "cell_type": "code",
   "execution_count": 73,
   "metadata": {},
   "outputs": [
    {
     "data": {
      "text/plain": [
       "Index(['CVE_ENT', 'Entidad_inegi', 'CVE_MUN', 'Municipio_inegi', 'CVE_LOC',\n",
       "       'Localidad_inegi', 'KEY_inegi_municipio', 'KEY_inegi_localidad'],\n",
       "      dtype='object')"
      ]
     },
     "execution_count": 73,
     "metadata": {},
     "output_type": "execute_result"
    }
   ],
   "source": [
    "INEGI_UNIQUELOC_2020.columns"
   ]
  },
  {
   "cell_type": "code",
   "execution_count": 74,
   "metadata": {},
   "outputs": [],
   "source": [
    "listado_beneficiarios_parte_II = listado_beneficiarios_parte_II.drop_duplicates()"
   ]
  },
  {
   "cell_type": "code",
   "execution_count": 75,
   "metadata": {},
   "outputs": [],
   "source": [
    "listado_beneficiarios_parte_II['Municipio-loc-KEY'] = listado_beneficiarios_parte_II['Municipio-loc-KEY'].str.strip().str.lower()\n",
    "diccionario_LOC_20_simple['KEY_benef_loc'] = diccionario_LOC_20_simple['KEY_benef_loc'].str.strip().str.lower()\n",
    "\n",
    "# Asegurar que las keys son del mismo tipo\n",
    "listado_beneficiarios_parte_II['Municipio-loc-KEY'] = listado_beneficiarios_parte_II['Municipio-loc-KEY'].astype(str)\n",
    "diccionario_LOC_20_simple['KEY_benef_loc'] = diccionario_LOC_20_simple['KEY_benef_loc'].astype(str)"
   ]
  },
  {
   "cell_type": "code",
   "execution_count": 76,
   "metadata": {},
   "outputs": [],
   "source": [
    "# Hacer el join de la Parte I\n",
    "listado_beneficiarios_parte_I_localidades = pd.merge(listado_beneficiarios_parte_II, diccionario_LOC_20_simple, left_on=\"Municipio-loc-KEY\",\n",
    "                                         right_on=\"KEY_benef_loc\", how='left', suffixes=('_benef', '_inegi'))"
   ]
  },
  {
   "cell_type": "code",
   "execution_count": 77,
   "metadata": {},
   "outputs": [
    {
     "data": {
      "text/plain": [
       "(368920, 20)"
      ]
     },
     "execution_count": 77,
     "metadata": {},
     "output_type": "execute_result"
    }
   ],
   "source": [
    "listado_beneficiarios_parte_I_localidades.shape"
   ]
  },
  {
   "cell_type": "code",
   "execution_count": 78,
   "metadata": {},
   "outputs": [],
   "source": [
    "# Marcar todos los duplicados en las columnas 'columna1' y 'columna2' como True\n",
    "duplicados = listado_beneficiarios_parte_I_localidades.duplicated(subset=['FECHA', 'BENEFICIARIO'], keep=False)\n",
    "\n",
    "# Filtrar el DataFrame original para mostrar solo los duplicados\n",
    "df_duplicados = listado_beneficiarios_parte_I_localidades[duplicados]"
   ]
  },
  {
   "cell_type": "code",
   "execution_count": 79,
   "metadata": {},
   "outputs": [
    {
     "data": {
      "text/html": [
       "<div>\n",
       "<style scoped>\n",
       "    .dataframe tbody tr th:only-of-type {\n",
       "        vertical-align: middle;\n",
       "    }\n",
       "\n",
       "    .dataframe tbody tr th {\n",
       "        vertical-align: top;\n",
       "    }\n",
       "\n",
       "    .dataframe thead th {\n",
       "        text-align: right;\n",
       "    }\n",
       "</style>\n",
       "<table border=\"1\" class=\"dataframe\">\n",
       "  <thead>\n",
       "    <tr style=\"text-align: right;\">\n",
       "      <th></th>\n",
       "      <th>BENEFICIARIO</th>\n",
       "      <th>ZONA</th>\n",
       "      <th>ENTIDAD</th>\n",
       "      <th>MUNICIPIO</th>\n",
       "      <th>LOCALIDAD</th>\n",
       "      <th>PRODUCTO</th>\n",
       "      <th>FECHA</th>\n",
       "      <th>MONTO FEDERAL</th>\n",
       "      <th>CICLO AGRÍCOLA</th>\n",
       "      <th>KEY_benef_mun</th>\n",
       "      <th>CVE_ENT</th>\n",
       "      <th>Entidad_inegi</th>\n",
       "      <th>CVE_MUN</th>\n",
       "      <th>Municipio_inegi</th>\n",
       "      <th>MUNICIPIO_Clean</th>\n",
       "      <th>LOCALIDAD_Clean</th>\n",
       "      <th>Municipio-loc-KEY</th>\n",
       "      <th>KEY_benef_loc</th>\n",
       "      <th>match_score</th>\n",
       "      <th>KEY_inegi_localidad</th>\n",
       "    </tr>\n",
       "  </thead>\n",
       "  <tbody>\n",
       "    <tr>\n",
       "      <th>1001</th>\n",
       "      <td>INFANTE HERNANDEZ RAMON</td>\n",
       "      <td>CENTRO PAÍS</td>\n",
       "      <td>GUERRERO</td>\n",
       "      <td>ZIHUATANEJO DE AZUETA</td>\n",
       "      <td>ZIHUATANEJO</td>\n",
       "      <td>Cultivo de maíz grano</td>\n",
       "      <td>2020-05-26</td>\n",
       "      <td>6163.44</td>\n",
       "      <td>PV2020</td>\n",
       "      <td>guerrero-zihuatanejo de azueta</td>\n",
       "      <td>12</td>\n",
       "      <td>Guerrero</td>\n",
       "      <td>38</td>\n",
       "      <td>Zihuatanejo de Azueta</td>\n",
       "      <td>zihuatanejo de azueta</td>\n",
       "      <td>zihuatanejo</td>\n",
       "      <td>zihuatanejo de azueta-zihuatanejo</td>\n",
       "      <td>zihuatanejo de azueta-zihuatanejo</td>\n",
       "      <td>100</td>\n",
       "      <td>zihuatanejo de azueta-zihuatanejo</td>\n",
       "    </tr>\n",
       "    <tr>\n",
       "      <th>1002</th>\n",
       "      <td>SANCHEZ SALAZAR JUAN</td>\n",
       "      <td>CENTRO PAÍS</td>\n",
       "      <td>GUERRERO</td>\n",
       "      <td>QUECHULTENANGO</td>\n",
       "      <td>JALAPA</td>\n",
       "      <td>Cultivo de maíz grano</td>\n",
       "      <td>2020-06-04</td>\n",
       "      <td>6163.44</td>\n",
       "      <td>PV2020</td>\n",
       "      <td>guerrero-quechultenango</td>\n",
       "      <td>12</td>\n",
       "      <td>Guerrero</td>\n",
       "      <td>51</td>\n",
       "      <td>Quechultenango</td>\n",
       "      <td>quechultenango</td>\n",
       "      <td>jalapa</td>\n",
       "      <td>quechultenango-jalapa</td>\n",
       "      <td>quechultenango-jalapa</td>\n",
       "      <td>100</td>\n",
       "      <td>quechultenango-jalapa</td>\n",
       "    </tr>\n",
       "    <tr>\n",
       "      <th>1251</th>\n",
       "      <td>MIER RAMIREZ NOLBERTO</td>\n",
       "      <td>CENTRO PAÍS</td>\n",
       "      <td>GUERRERO</td>\n",
       "      <td>JUCHITÁN</td>\n",
       "      <td>AGUA ZARCA</td>\n",
       "      <td>Cultivo de maíz grano</td>\n",
       "      <td>2020-05-22</td>\n",
       "      <td>3081.72</td>\n",
       "      <td>PV2020</td>\n",
       "      <td>guerrero-juchitan</td>\n",
       "      <td>12</td>\n",
       "      <td>Guerrero</td>\n",
       "      <td>80</td>\n",
       "      <td>Juchitán</td>\n",
       "      <td>juchitan</td>\n",
       "      <td>agua zarca</td>\n",
       "      <td>juchitan-agua zarca</td>\n",
       "      <td>juchitan-agua zarca</td>\n",
       "      <td>100</td>\n",
       "      <td>juchitan-agua zarca</td>\n",
       "    </tr>\n",
       "    <tr>\n",
       "      <th>1451</th>\n",
       "      <td>SANTOS MORALES JOSE</td>\n",
       "      <td>CENTRO PAÍS</td>\n",
       "      <td>GUERRERO</td>\n",
       "      <td>OMETEPEC</td>\n",
       "      <td>LA LADRILLERA</td>\n",
       "      <td>Cultivo de maíz grano</td>\n",
       "      <td>2020-06-22</td>\n",
       "      <td>3081.72</td>\n",
       "      <td>PV2020</td>\n",
       "      <td>guerrero-ometepec</td>\n",
       "      <td>12</td>\n",
       "      <td>Guerrero</td>\n",
       "      <td>46</td>\n",
       "      <td>Ometepec</td>\n",
       "      <td>ometepec</td>\n",
       "      <td>la ladrillera</td>\n",
       "      <td>ometepec-la ladrillera</td>\n",
       "      <td>ometepec-la ladrillera</td>\n",
       "      <td>100</td>\n",
       "      <td>ometepec-la ladrillera</td>\n",
       "    </tr>\n",
       "    <tr>\n",
       "      <th>2574</th>\n",
       "      <td>GALLEGOS MORALES APOLINAR</td>\n",
       "      <td>CENTRO PAÍS</td>\n",
       "      <td>GUERRERO</td>\n",
       "      <td>CUAUTEPEC</td>\n",
       "      <td>HUAMUCHITITÁN (EL HUAMUCHITO)</td>\n",
       "      <td>Cultivo de maíz grano</td>\n",
       "      <td>2020-05-25</td>\n",
       "      <td>3081.72</td>\n",
       "      <td>PV2020</td>\n",
       "      <td>guerrero-cuautepec</td>\n",
       "      <td>12</td>\n",
       "      <td>Guerrero</td>\n",
       "      <td>25</td>\n",
       "      <td>Cuautepec</td>\n",
       "      <td>cuautepec</td>\n",
       "      <td>huamuchititan (el huamuchito)</td>\n",
       "      <td>cuautepec-huamuchititan (el huamuchito)</td>\n",
       "      <td>cuautepec-huamuchititan (el huamuchito)</td>\n",
       "      <td>100</td>\n",
       "      <td>cuautepec-huamuchititan (el huamuchito)</td>\n",
       "    </tr>\n",
       "    <tr>\n",
       "      <th>...</th>\n",
       "      <td>...</td>\n",
       "      <td>...</td>\n",
       "      <td>...</td>\n",
       "      <td>...</td>\n",
       "      <td>...</td>\n",
       "      <td>...</td>\n",
       "      <td>...</td>\n",
       "      <td>...</td>\n",
       "      <td>...</td>\n",
       "      <td>...</td>\n",
       "      <td>...</td>\n",
       "      <td>...</td>\n",
       "      <td>...</td>\n",
       "      <td>...</td>\n",
       "      <td>...</td>\n",
       "      <td>...</td>\n",
       "      <td>...</td>\n",
       "      <td>...</td>\n",
       "      <td>...</td>\n",
       "      <td>...</td>\n",
       "    </tr>\n",
       "    <tr>\n",
       "      <th>356242</th>\n",
       "      <td>DOLORES ROSALES JUAN</td>\n",
       "      <td>CENTRO PAÍS</td>\n",
       "      <td>PUEBLA</td>\n",
       "      <td>TLACOTEPEC DE BENITO JUÁREZ</td>\n",
       "      <td>TLACOTEPEC DE BENITO JUÁREZ</td>\n",
       "      <td>Cultivo de maíz grano</td>\n",
       "      <td>2021-02-22</td>\n",
       "      <td>5784.84</td>\n",
       "      <td>PV2020</td>\n",
       "      <td>puebla-tlacotepec de benito juarez</td>\n",
       "      <td>21</td>\n",
       "      <td>Puebla</td>\n",
       "      <td>177</td>\n",
       "      <td>Tlacotepec de Benito Juárez</td>\n",
       "      <td>tlacotepec de benito juarez</td>\n",
       "      <td>tlacotepec de benito juarez</td>\n",
       "      <td>tlacotepec de benito juarez-tlacotepec de beni...</td>\n",
       "      <td>tlacotepec de benito juarez-tlacotepec de beni...</td>\n",
       "      <td>100</td>\n",
       "      <td>tlacotepec de benito juarez-tlacotepec de beni...</td>\n",
       "    </tr>\n",
       "    <tr>\n",
       "      <th>358774</th>\n",
       "      <td>GONZALEZ CRUZ ORLANDO</td>\n",
       "      <td>CENTRO PAÍS</td>\n",
       "      <td>TLAXCALA</td>\n",
       "      <td>LÁZARO CÁRDENAS</td>\n",
       "      <td>LÁZARO CÁRDENAS</td>\n",
       "      <td>Cultivo de maíz grano</td>\n",
       "      <td>2021-02-26</td>\n",
       "      <td>5577.06</td>\n",
       "      <td>PV2020</td>\n",
       "      <td>tlaxcala-lazaro cardenas</td>\n",
       "      <td>29</td>\n",
       "      <td>Tlaxcala</td>\n",
       "      <td>47</td>\n",
       "      <td>Lázaro Cárdenas</td>\n",
       "      <td>lazaro cardenas</td>\n",
       "      <td>lazaro cardenas</td>\n",
       "      <td>lazaro cardenas-lazaro cardenas</td>\n",
       "      <td>lazaro cardenas-lazaro cardenas</td>\n",
       "      <td>100</td>\n",
       "      <td>lazaro cardenas-lazaro cardenas</td>\n",
       "    </tr>\n",
       "    <tr>\n",
       "      <th>358975</th>\n",
       "      <td>GONZALEZ CRUZ ORLANDO</td>\n",
       "      <td>CENTRO PAÍS</td>\n",
       "      <td>TLAXCALA</td>\n",
       "      <td>LÁZARO CÁRDENAS</td>\n",
       "      <td>LÁZARO CÁRDENAS</td>\n",
       "      <td>Cultivo de maíz grano</td>\n",
       "      <td>2021-02-26</td>\n",
       "      <td>5732.92</td>\n",
       "      <td>PV2020</td>\n",
       "      <td>tlaxcala-lazaro cardenas</td>\n",
       "      <td>29</td>\n",
       "      <td>Tlaxcala</td>\n",
       "      <td>47</td>\n",
       "      <td>Lázaro Cárdenas</td>\n",
       "      <td>lazaro cardenas</td>\n",
       "      <td>lazaro cardenas</td>\n",
       "      <td>lazaro cardenas-lazaro cardenas</td>\n",
       "      <td>lazaro cardenas-lazaro cardenas</td>\n",
       "      <td>100</td>\n",
       "      <td>lazaro cardenas-lazaro cardenas</td>\n",
       "    </tr>\n",
       "    <tr>\n",
       "      <th>364568</th>\n",
       "      <td>FLORES ACALCO BENJAMIN</td>\n",
       "      <td>CENTRO PAÍS</td>\n",
       "      <td>PUEBLA</td>\n",
       "      <td>ACATZINGO</td>\n",
       "      <td>ACTIPAN DE MORELOS (SANTA MARÍA ACTIPAN)</td>\n",
       "      <td>Cultivo de maíz grano</td>\n",
       "      <td>2021-03-09</td>\n",
       "      <td>2892.42</td>\n",
       "      <td>PV2020</td>\n",
       "      <td>puebla-acatzingo</td>\n",
       "      <td>21</td>\n",
       "      <td>Puebla</td>\n",
       "      <td>4</td>\n",
       "      <td>Acatzingo</td>\n",
       "      <td>acatzingo</td>\n",
       "      <td>actipan de morelos (santa maria actipan)</td>\n",
       "      <td>acatzingo-actipan de morelos (santa maria acti...</td>\n",
       "      <td>acatzingo-actipan de morelos (santa maria acti...</td>\n",
       "      <td>100</td>\n",
       "      <td>acatzingo-actipan de morelos (santa maria acti...</td>\n",
       "    </tr>\n",
       "    <tr>\n",
       "      <th>364569</th>\n",
       "      <td>FLORES ACALCO BENJAMIN</td>\n",
       "      <td>CENTRO PAÍS</td>\n",
       "      <td>PUEBLA</td>\n",
       "      <td>ACATZINGO</td>\n",
       "      <td>ACTIPAN DE MORELOS (SANTA MARÍA ACTIPAN)</td>\n",
       "      <td>Cultivo de maíz grano</td>\n",
       "      <td>2021-03-09</td>\n",
       "      <td>5784.84</td>\n",
       "      <td>PV2020</td>\n",
       "      <td>puebla-acatzingo</td>\n",
       "      <td>21</td>\n",
       "      <td>Puebla</td>\n",
       "      <td>4</td>\n",
       "      <td>Acatzingo</td>\n",
       "      <td>acatzingo</td>\n",
       "      <td>actipan de morelos (santa maria actipan)</td>\n",
       "      <td>acatzingo-actipan de morelos (santa maria acti...</td>\n",
       "      <td>acatzingo-actipan de morelos (santa maria acti...</td>\n",
       "      <td>100</td>\n",
       "      <td>acatzingo-actipan de morelos (santa maria acti...</td>\n",
       "    </tr>\n",
       "  </tbody>\n",
       "</table>\n",
       "<p>279 rows × 20 columns</p>\n",
       "</div>"
      ],
      "text/plain": [
       "                      BENEFICIARIO         ZONA   ENTIDAD  \\\n",
       "1001      INFANTE HERNANDEZ RAMON   CENTRO PAÍS  GUERRERO   \n",
       "1002         SANCHEZ SALAZAR JUAN   CENTRO PAÍS  GUERRERO   \n",
       "1251        MIER RAMIREZ NOLBERTO   CENTRO PAÍS  GUERRERO   \n",
       "1451          SANTOS MORALES JOSE   CENTRO PAÍS  GUERRERO   \n",
       "2574    GALLEGOS MORALES APOLINAR   CENTRO PAÍS  GUERRERO   \n",
       "...                            ...          ...       ...   \n",
       "356242       DOLORES ROSALES JUAN   CENTRO PAÍS    PUEBLA   \n",
       "358774      GONZALEZ CRUZ ORLANDO   CENTRO PAÍS  TLAXCALA   \n",
       "358975      GONZALEZ CRUZ ORLANDO   CENTRO PAÍS  TLAXCALA   \n",
       "364568     FLORES ACALCO BENJAMIN   CENTRO PAÍS    PUEBLA   \n",
       "364569     FLORES ACALCO BENJAMIN   CENTRO PAÍS    PUEBLA   \n",
       "\n",
       "                          MUNICIPIO                                 LOCALIDAD  \\\n",
       "1001          ZIHUATANEJO DE AZUETA                               ZIHUATANEJO   \n",
       "1002                 QUECHULTENANGO                                    JALAPA   \n",
       "1251                       JUCHITÁN                                AGUA ZARCA   \n",
       "1451                       OMETEPEC                             LA LADRILLERA   \n",
       "2574                      CUAUTEPEC             HUAMUCHITITÁN (EL HUAMUCHITO)   \n",
       "...                             ...                                       ...   \n",
       "356242  TLACOTEPEC DE BENITO JUÁREZ               TLACOTEPEC DE BENITO JUÁREZ   \n",
       "358774              LÁZARO CÁRDENAS                           LÁZARO CÁRDENAS   \n",
       "358975              LÁZARO CÁRDENAS                           LÁZARO CÁRDENAS   \n",
       "364568                    ACATZINGO  ACTIPAN DE MORELOS (SANTA MARÍA ACTIPAN)   \n",
       "364569                    ACATZINGO  ACTIPAN DE MORELOS (SANTA MARÍA ACTIPAN)   \n",
       "\n",
       "                     PRODUCTO       FECHA  MONTO FEDERAL CICLO AGRÍCOLA  \\\n",
       "1001    Cultivo de maíz grano  2020-05-26        6163.44         PV2020   \n",
       "1002    Cultivo de maíz grano  2020-06-04        6163.44         PV2020   \n",
       "1251    Cultivo de maíz grano  2020-05-22        3081.72         PV2020   \n",
       "1451    Cultivo de maíz grano  2020-06-22        3081.72         PV2020   \n",
       "2574    Cultivo de maíz grano  2020-05-25        3081.72         PV2020   \n",
       "...                       ...         ...            ...            ...   \n",
       "356242  Cultivo de maíz grano  2021-02-22        5784.84         PV2020   \n",
       "358774  Cultivo de maíz grano  2021-02-26        5577.06         PV2020   \n",
       "358975  Cultivo de maíz grano  2021-02-26        5732.92         PV2020   \n",
       "364568  Cultivo de maíz grano  2021-03-09        2892.42         PV2020   \n",
       "364569  Cultivo de maíz grano  2021-03-09        5784.84         PV2020   \n",
       "\n",
       "                             KEY_benef_mun  CVE_ENT Entidad_inegi  CVE_MUN  \\\n",
       "1001        guerrero-zihuatanejo de azueta       12      Guerrero       38   \n",
       "1002               guerrero-quechultenango       12      Guerrero       51   \n",
       "1251                     guerrero-juchitan       12      Guerrero       80   \n",
       "1451                     guerrero-ometepec       12      Guerrero       46   \n",
       "2574                    guerrero-cuautepec       12      Guerrero       25   \n",
       "...                                    ...      ...           ...      ...   \n",
       "356242  puebla-tlacotepec de benito juarez       21        Puebla      177   \n",
       "358774            tlaxcala-lazaro cardenas       29      Tlaxcala       47   \n",
       "358975            tlaxcala-lazaro cardenas       29      Tlaxcala       47   \n",
       "364568                    puebla-acatzingo       21        Puebla        4   \n",
       "364569                    puebla-acatzingo       21        Puebla        4   \n",
       "\n",
       "                    Municipio_inegi              MUNICIPIO_Clean  \\\n",
       "1001          Zihuatanejo de Azueta        zihuatanejo de azueta   \n",
       "1002                 Quechultenango               quechultenango   \n",
       "1251                       Juchitán                     juchitan   \n",
       "1451                       Ometepec                     ometepec   \n",
       "2574                      Cuautepec                    cuautepec   \n",
       "...                             ...                          ...   \n",
       "356242  Tlacotepec de Benito Juárez  tlacotepec de benito juarez   \n",
       "358774              Lázaro Cárdenas              lazaro cardenas   \n",
       "358975              Lázaro Cárdenas              lazaro cardenas   \n",
       "364568                    Acatzingo                    acatzingo   \n",
       "364569                    Acatzingo                    acatzingo   \n",
       "\n",
       "                                 LOCALIDAD_Clean  \\\n",
       "1001                                 zihuatanejo   \n",
       "1002                                      jalapa   \n",
       "1251                                  agua zarca   \n",
       "1451                               la ladrillera   \n",
       "2574               huamuchititan (el huamuchito)   \n",
       "...                                          ...   \n",
       "356242               tlacotepec de benito juarez   \n",
       "358774                           lazaro cardenas   \n",
       "358975                           lazaro cardenas   \n",
       "364568  actipan de morelos (santa maria actipan)   \n",
       "364569  actipan de morelos (santa maria actipan)   \n",
       "\n",
       "                                        Municipio-loc-KEY  \\\n",
       "1001                    zihuatanejo de azueta-zihuatanejo   \n",
       "1002                                quechultenango-jalapa   \n",
       "1251                                  juchitan-agua zarca   \n",
       "1451                               ometepec-la ladrillera   \n",
       "2574              cuautepec-huamuchititan (el huamuchito)   \n",
       "...                                                   ...   \n",
       "356242  tlacotepec de benito juarez-tlacotepec de beni...   \n",
       "358774                    lazaro cardenas-lazaro cardenas   \n",
       "358975                    lazaro cardenas-lazaro cardenas   \n",
       "364568  acatzingo-actipan de morelos (santa maria acti...   \n",
       "364569  acatzingo-actipan de morelos (santa maria acti...   \n",
       "\n",
       "                                            KEY_benef_loc  match_score  \\\n",
       "1001                    zihuatanejo de azueta-zihuatanejo          100   \n",
       "1002                                quechultenango-jalapa          100   \n",
       "1251                                  juchitan-agua zarca          100   \n",
       "1451                               ometepec-la ladrillera          100   \n",
       "2574              cuautepec-huamuchititan (el huamuchito)          100   \n",
       "...                                                   ...          ...   \n",
       "356242  tlacotepec de benito juarez-tlacotepec de beni...          100   \n",
       "358774                    lazaro cardenas-lazaro cardenas          100   \n",
       "358975                    lazaro cardenas-lazaro cardenas          100   \n",
       "364568  acatzingo-actipan de morelos (santa maria acti...          100   \n",
       "364569  acatzingo-actipan de morelos (santa maria acti...          100   \n",
       "\n",
       "                                      KEY_inegi_localidad  \n",
       "1001                    zihuatanejo de azueta-zihuatanejo  \n",
       "1002                                quechultenango-jalapa  \n",
       "1251                                  juchitan-agua zarca  \n",
       "1451                               ometepec-la ladrillera  \n",
       "2574              cuautepec-huamuchititan (el huamuchito)  \n",
       "...                                                   ...  \n",
       "356242  tlacotepec de benito juarez-tlacotepec de beni...  \n",
       "358774                    lazaro cardenas-lazaro cardenas  \n",
       "358975                    lazaro cardenas-lazaro cardenas  \n",
       "364568  acatzingo-actipan de morelos (santa maria acti...  \n",
       "364569  acatzingo-actipan de morelos (santa maria acti...  \n",
       "\n",
       "[279 rows x 20 columns]"
      ]
     },
     "execution_count": 79,
     "metadata": {},
     "output_type": "execute_result"
    }
   ],
   "source": [
    "df_duplicados"
   ]
  },
  {
   "cell_type": "code",
   "execution_count": 80,
   "metadata": {},
   "outputs": [],
   "source": [
    "listado_beneficiarios_parte_I_localidades.drop_duplicates(keep='first', inplace=True)"
   ]
  },
  {
   "cell_type": "code",
   "execution_count": 81,
   "metadata": {},
   "outputs": [
    {
     "data": {
      "text/plain": [
       "(368920, 20)"
      ]
     },
     "execution_count": 81,
     "metadata": {},
     "output_type": "execute_result"
    }
   ],
   "source": [
    "listado_beneficiarios_parte_I_localidades.shape"
   ]
  },
  {
   "cell_type": "code",
   "execution_count": 82,
   "metadata": {},
   "outputs": [
    {
     "data": {
      "text/plain": [
       "BENEFICIARIO           0\n",
       "ZONA                   0\n",
       "ENTIDAD                0\n",
       "MUNICIPIO              0\n",
       "LOCALIDAD              0\n",
       "PRODUCTO               0\n",
       "FECHA                  0\n",
       "MONTO FEDERAL          0\n",
       "CICLO AGRÍCOLA         0\n",
       "KEY_benef_mun          0\n",
       "CVE_ENT                0\n",
       "Entidad_inegi          0\n",
       "CVE_MUN                0\n",
       "Municipio_inegi        0\n",
       "MUNICIPIO_Clean        0\n",
       "LOCALIDAD_Clean        0\n",
       "Municipio-loc-KEY      0\n",
       "KEY_benef_loc          0\n",
       "match_score            0\n",
       "KEY_inegi_localidad    0\n",
       "dtype: int64"
      ]
     },
     "execution_count": 82,
     "metadata": {},
     "output_type": "execute_result"
    }
   ],
   "source": [
    "listado_beneficiarios_parte_I_localidades.isna().sum()"
   ]
  },
  {
   "cell_type": "code",
   "execution_count": 83,
   "metadata": {},
   "outputs": [],
   "source": [
    "# Assuming listado_beneficiarios_parte_II is your DataFrame\n",
    "rows_with_nan = listado_beneficiarios_parte_I_localidades[listado_beneficiarios_parte_I_localidades.isna().any(axis=1)]\n",
    "\n",
    "# rows_with_nan now contains only the rows with NaN values in any column"
   ]
  },
  {
   "cell_type": "code",
   "execution_count": 84,
   "metadata": {},
   "outputs": [
    {
     "data": {
      "text/html": [
       "<div>\n",
       "<style scoped>\n",
       "    .dataframe tbody tr th:only-of-type {\n",
       "        vertical-align: middle;\n",
       "    }\n",
       "\n",
       "    .dataframe tbody tr th {\n",
       "        vertical-align: top;\n",
       "    }\n",
       "\n",
       "    .dataframe thead th {\n",
       "        text-align: right;\n",
       "    }\n",
       "</style>\n",
       "<table border=\"1\" class=\"dataframe\">\n",
       "  <thead>\n",
       "    <tr style=\"text-align: right;\">\n",
       "      <th></th>\n",
       "      <th>BENEFICIARIO</th>\n",
       "      <th>ZONA</th>\n",
       "      <th>ENTIDAD</th>\n",
       "      <th>MUNICIPIO</th>\n",
       "      <th>LOCALIDAD</th>\n",
       "      <th>PRODUCTO</th>\n",
       "      <th>FECHA</th>\n",
       "      <th>MONTO FEDERAL</th>\n",
       "      <th>CICLO AGRÍCOLA</th>\n",
       "      <th>KEY_benef_mun</th>\n",
       "      <th>CVE_ENT</th>\n",
       "      <th>Entidad_inegi</th>\n",
       "      <th>CVE_MUN</th>\n",
       "      <th>Municipio_inegi</th>\n",
       "      <th>MUNICIPIO_Clean</th>\n",
       "      <th>LOCALIDAD_Clean</th>\n",
       "      <th>Municipio-loc-KEY</th>\n",
       "      <th>KEY_benef_loc</th>\n",
       "      <th>match_score</th>\n",
       "      <th>KEY_inegi_localidad</th>\n",
       "    </tr>\n",
       "  </thead>\n",
       "  <tbody>\n",
       "  </tbody>\n",
       "</table>\n",
       "</div>"
      ],
      "text/plain": [
       "Empty DataFrame\n",
       "Columns: [BENEFICIARIO, ZONA, ENTIDAD, MUNICIPIO, LOCALIDAD, PRODUCTO, FECHA, MONTO FEDERAL, CICLO AGRÍCOLA, KEY_benef_mun, CVE_ENT, Entidad_inegi, CVE_MUN, Municipio_inegi, MUNICIPIO_Clean, LOCALIDAD_Clean, Municipio-loc-KEY, KEY_benef_loc, match_score, KEY_inegi_localidad]\n",
       "Index: []"
      ]
     },
     "execution_count": 84,
     "metadata": {},
     "output_type": "execute_result"
    }
   ],
   "source": [
    "rows_with_nan"
   ]
  },
  {
   "cell_type": "code",
   "execution_count": 85,
   "metadata": {},
   "outputs": [
    {
     "name": "stdout",
     "output_type": "stream",
     "text": [
      "363611\n",
      "0\n"
     ]
    }
   ],
   "source": [
    "print(listado_beneficiarios_parte_I_localidades['KEY_inegi_localidad'].duplicated().sum())\n",
    "print(INEGI_UNIQUELOC_2020['KEY_inegi_localidad'].duplicated().sum())"
   ]
  },
  {
   "cell_type": "code",
   "execution_count": 86,
   "metadata": {},
   "outputs": [],
   "source": [
    "# TODO: REVISAR ESTA PARTE (ARTURO)\n",
    "listado_beneficiarios_parte_II_localidades = pd.merge(listado_beneficiarios_parte_I_localidades, INEGI_UNIQUELOC_2020,\n",
    "                                          left_on=\"KEY_inegi_localidad\",\n",
    "                                          right_on=\"KEY_inegi_localidad\", how='left', suffixes=('_benef', '_inegi'))"
   ]
  },
  {
   "cell_type": "code",
   "execution_count": 87,
   "metadata": {},
   "outputs": [
    {
     "data": {
      "text/plain": [
       "BENEFICIARIO             0\n",
       "ZONA                     0\n",
       "ENTIDAD                  0\n",
       "MUNICIPIO                0\n",
       "LOCALIDAD                0\n",
       "PRODUCTO                 0\n",
       "FECHA                    0\n",
       "MONTO FEDERAL            0\n",
       "CICLO AGRÍCOLA           0\n",
       "KEY_benef_mun            0\n",
       "CVE_ENT_benef            0\n",
       "Entidad_inegi_benef      0\n",
       "CVE_MUN_benef            0\n",
       "Municipio_inegi_benef    0\n",
       "MUNICIPIO_Clean          0\n",
       "LOCALIDAD_Clean          0\n",
       "Municipio-loc-KEY        0\n",
       "KEY_benef_loc            0\n",
       "match_score              0\n",
       "KEY_inegi_localidad      0\n",
       "CVE_ENT_inegi            0\n",
       "Entidad_inegi_inegi      0\n",
       "CVE_MUN_inegi            0\n",
       "Municipio_inegi_inegi    0\n",
       "CVE_LOC                  0\n",
       "Localidad_inegi          0\n",
       "KEY_inegi_municipio      0\n",
       "dtype: int64"
      ]
     },
     "execution_count": 87,
     "metadata": {},
     "output_type": "execute_result"
    }
   ],
   "source": [
    "listado_beneficiarios_parte_II_localidades.isna().sum()"
   ]
  },
  {
   "cell_type": "code",
   "execution_count": 88,
   "metadata": {},
   "outputs": [],
   "source": [
    "# Assuming listado_beneficiarios_parte_II is your DataFrame\n",
    "rows_with_nan = listado_beneficiarios_parte_II_localidades[listado_beneficiarios_parte_II_localidades.isna().any(axis=1)]\n",
    "\n",
    "# rows_with_nan now contains only the rows with NaN values in any column"
   ]
  },
  {
   "cell_type": "code",
   "execution_count": 89,
   "metadata": {},
   "outputs": [
    {
     "data": {
      "text/html": [
       "<div>\n",
       "<style scoped>\n",
       "    .dataframe tbody tr th:only-of-type {\n",
       "        vertical-align: middle;\n",
       "    }\n",
       "\n",
       "    .dataframe tbody tr th {\n",
       "        vertical-align: top;\n",
       "    }\n",
       "\n",
       "    .dataframe thead th {\n",
       "        text-align: right;\n",
       "    }\n",
       "</style>\n",
       "<table border=\"1\" class=\"dataframe\">\n",
       "  <thead>\n",
       "    <tr style=\"text-align: right;\">\n",
       "      <th></th>\n",
       "      <th>BENEFICIARIO</th>\n",
       "      <th>ZONA</th>\n",
       "      <th>ENTIDAD</th>\n",
       "      <th>MUNICIPIO</th>\n",
       "      <th>LOCALIDAD</th>\n",
       "      <th>PRODUCTO</th>\n",
       "      <th>FECHA</th>\n",
       "      <th>MONTO FEDERAL</th>\n",
       "      <th>CICLO AGRÍCOLA</th>\n",
       "      <th>KEY_benef_mun</th>\n",
       "      <th>...</th>\n",
       "      <th>KEY_benef_loc</th>\n",
       "      <th>match_score</th>\n",
       "      <th>KEY_inegi_localidad</th>\n",
       "      <th>CVE_ENT_inegi</th>\n",
       "      <th>Entidad_inegi_inegi</th>\n",
       "      <th>CVE_MUN_inegi</th>\n",
       "      <th>Municipio_inegi_inegi</th>\n",
       "      <th>CVE_LOC</th>\n",
       "      <th>Localidad_inegi</th>\n",
       "      <th>KEY_inegi_municipio</th>\n",
       "    </tr>\n",
       "  </thead>\n",
       "  <tbody>\n",
       "  </tbody>\n",
       "</table>\n",
       "<p>0 rows × 27 columns</p>\n",
       "</div>"
      ],
      "text/plain": [
       "Empty DataFrame\n",
       "Columns: [BENEFICIARIO, ZONA, ENTIDAD, MUNICIPIO, LOCALIDAD, PRODUCTO, FECHA, MONTO FEDERAL, CICLO AGRÍCOLA, KEY_benef_mun, CVE_ENT_benef, Entidad_inegi_benef, CVE_MUN_benef, Municipio_inegi_benef, MUNICIPIO_Clean, LOCALIDAD_Clean, Municipio-loc-KEY, KEY_benef_loc, match_score, KEY_inegi_localidad, CVE_ENT_inegi, Entidad_inegi_inegi, CVE_MUN_inegi, Municipio_inegi_inegi, CVE_LOC, Localidad_inegi, KEY_inegi_municipio]\n",
       "Index: []\n",
       "\n",
       "[0 rows x 27 columns]"
      ]
     },
     "execution_count": 89,
     "metadata": {},
     "output_type": "execute_result"
    }
   ],
   "source": [
    "rows_with_nan.tail(50)"
   ]
  },
  {
   "cell_type": "code",
   "execution_count": 90,
   "metadata": {},
   "outputs": [
    {
     "data": {
      "text/plain": [
       "Index(['BENEFICIARIO', 'ZONA', 'ENTIDAD', 'MUNICIPIO', 'LOCALIDAD', 'PRODUCTO',\n",
       "       'FECHA', 'MONTO FEDERAL', 'CICLO AGRÍCOLA', 'KEY_benef_mun',\n",
       "       'CVE_ENT_benef', 'Entidad_inegi_benef', 'CVE_MUN_benef',\n",
       "       'Municipio_inegi_benef', 'MUNICIPIO_Clean', 'LOCALIDAD_Clean',\n",
       "       'Municipio-loc-KEY', 'KEY_benef_loc', 'match_score',\n",
       "       'KEY_inegi_localidad', 'CVE_ENT_inegi', 'Entidad_inegi_inegi',\n",
       "       'CVE_MUN_inegi', 'Municipio_inegi_inegi', 'CVE_LOC', 'Localidad_inegi',\n",
       "       'KEY_inegi_municipio'],\n",
       "      dtype='object')"
      ]
     },
     "execution_count": 90,
     "metadata": {},
     "output_type": "execute_result"
    }
   ],
   "source": [
    "listado_beneficiarios_parte_II_localidades.columns"
   ]
  },
  {
   "cell_type": "code",
   "execution_count": 91,
   "metadata": {},
   "outputs": [],
   "source": [
    "listado_beneficiarios_parte_II_localidades.drop(columns=['ENTIDAD', 'MUNICIPIO', 'LOCALIDAD',\n",
    "       'MUNICIPIO_Clean', 'LOCALIDAD_Clean', 'Municipio-loc-KEY', 'match_score', 'KEY_inegi_localidad',\n",
    "       'KEY_inegi_municipio', 'KEY_benef_mun', 'CVE_ENT_benef',\n",
    "       'Entidad_inegi_benef', 'CVE_MUN_benef', 'Municipio_inegi_benef',\n",
    "       'KEY_benef_loc'], inplace=True)"
   ]
  },
  {
   "cell_type": "code",
   "execution_count": 92,
   "metadata": {},
   "outputs": [
    {
     "data": {
      "text/plain": [
       "Index(['BENEFICIARIO', 'ZONA', 'PRODUCTO', 'FECHA', 'MONTO FEDERAL',\n",
       "       'CICLO AGRÍCOLA', 'CVE_ENT_inegi', 'Entidad_inegi_inegi',\n",
       "       'CVE_MUN_inegi', 'Municipio_inegi_inegi', 'CVE_LOC', 'Localidad_inegi'],\n",
       "      dtype='object')"
      ]
     },
     "execution_count": 92,
     "metadata": {},
     "output_type": "execute_result"
    }
   ],
   "source": [
    "listado_beneficiarios_parte_II_localidades.columns"
   ]
  },
  {
   "cell_type": "code",
   "execution_count": 93,
   "metadata": {},
   "outputs": [],
   "source": [
    "listado_beneficiarios_parte_II_localidades.rename(columns={'BENEFICIARIO': 'Nombre del beneficiario',\n",
    "                                                           'ZONA': 'Zona del país',\n",
    "                                                           'CVE_ENT_inegi': 'Clave de entidad',\n",
    "                                                            'Entidad_inegi_inegi': 'Entidad federativa',\n",
    "                                                            'CVE_MUN_inegi': 'Clave de municipio',\n",
    "                                                            'Municipio_inegi_inegi': 'Municipio',                                                           \n",
    "                                                            'CVE_LOC': 'Clave de localidad',\n",
    "                                                            'Localidad_inegi': 'Localidad',\n",
    "                                                            'PRODUCTO': 'Producto cultivado',\n",
    "                                                            'FECHA': 'Fecha de entrega del beneficio',\n",
    "                                                            'MONTO FEDERAL': 'Monto entregado',\n",
    "                                                            'CICLO AGRÍCOLA': 'Ciclo agrícola'}, inplace=True)"
   ]
  },
  {
   "cell_type": "code",
   "execution_count": 94,
   "metadata": {},
   "outputs": [],
   "source": [
    "listado_beneficiarios_parte_II_localidades.to_csv('../../data/listados_completos/listado_beneficiarios_2020_localidades.csv', index=False)"
   ]
  }
 ],
 "metadata": {
  "kernelspec": {
   "display_name": "Python 3",
   "language": "python",
   "name": "python3"
  },
  "language_info": {
   "codemirror_mode": {
    "name": "ipython",
    "version": 3
   },
   "file_extension": ".py",
   "mimetype": "text/x-python",
   "name": "python",
   "nbconvert_exporter": "python",
   "pygments_lexer": "ipython3",
   "version": "3.9.9"
  }
 },
 "nbformat": 4,
 "nbformat_minor": 2
}
