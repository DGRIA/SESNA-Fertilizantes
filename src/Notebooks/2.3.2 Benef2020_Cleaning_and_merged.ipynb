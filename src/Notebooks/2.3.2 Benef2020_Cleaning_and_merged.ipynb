{
 "cells": [
  {
   "cell_type": "markdown",
   "metadata": {},
   "source": [
    "# Data Cleaning Listado de Listado de Beneficiarios 2020"
   ]
  },
  {
   "cell_type": "markdown",
   "metadata": {},
   "source": [
    "## Autores\n",
    "- José Luis Delgado Dávara\n",
    "- Arturo Ortiz Aguilar\n",
    "- Beltrán Valle Gutiérrez-Cortines"
   ]
  },
  {
   "cell_type": "markdown",
   "metadata": {},
   "source": [
    "## Importante leer para entender\n",
    "\n",
    "En este Notebook se trabaja con 3 listados importantes:\n",
    "\n",
    "1. beneficiarios_20 -> Dataset con el listado de TODOS los beneficiarios de 2020.\n",
    "2. Estados_Beneficiarios_2019_2022 -> Dataset sólo con los estados *únicos* encontrados en el dataset anterior.\n",
    "3. Diccionario -> Emparejamiento entre ambos listados de beneficiarios\n",
    "4. Dataset_Inegi -> Catálogo obtenido de Inegi"
   ]
  },
  {
   "cell_type": "code",
   "execution_count": 1,
   "metadata": {},
   "outputs": [],
   "source": [
    "import pandas as pd\n",
    "import seaborn as sns\n",
    "from thefuzz import fuzz\n",
    "from thefuzz import process\n",
    "import matplotlib.pyplot as plt\n",
    "import numpy as np\n",
    "import os\n",
    "import glob\n",
    "import re\n",
    "import unidecode"
   ]
  },
  {
   "cell_type": "code",
   "execution_count": 2,
   "metadata": {},
   "outputs": [],
   "source": [
    "def clean_text(text):\n",
    "    \"\"\"\n",
    "    De esta manera tenemos el texto sin espacios blancos extra y sobre todo con todas las palabras con capitalización correcta.\n",
    "    \"\"\"\n",
    "    if pd.isna(text):\n",
    "        return text\n",
    "    text = text.strip()  # Eliminate white spaces\n",
    "    text = text.lower()  # Convert to lowercase\n",
    "    text = unidecode.unidecode(text)  # Remove accents\n",
    "    text = re.sub('-.*-', '', text) #Remove what is in between - -\n",
    "    text = re.sub('\\s+', ' ', text)  # Eliminate extra white spaces\n",
    "    text = re.sub('^\\s+|\\s+?$', '', text)  # Eliminate spaces at the beginning and end\n",
    "    return text"
   ]
  },
  {
   "cell_type": "markdown",
   "metadata": {},
   "source": [
    "# 1. Lectura y limpieza de datos"
   ]
  },
  {
   "cell_type": "markdown",
   "metadata": {},
   "source": [
    "### 1.1 Beneficiarios 2020\n",
    "\n",
    "Obtenemos el listado único de localidades y listado único de municipios con sus claves."
   ]
  },
  {
   "cell_type": "code",
   "execution_count": 3,
   "metadata": {},
   "outputs": [],
   "source": [
    "beneficiarios_20 = pd.read_csv('../../data/productores_beneficiarios 2019-2022/listado_beneficiarios_fertilizantes_2020.csv', encoding='utf-8', skiprows=0)"
   ]
  },
  {
   "cell_type": "code",
   "execution_count": 4,
   "metadata": {},
   "outputs": [],
   "source": [
    "beneficiarios_20 = beneficiarios_20[~((beneficiarios_20['ENTIDAD'] == 'NACIONAL') & (beneficiarios_20['MUNICIPIO'] == 'NACIONAL') & (beneficiarios_20['LOCALIDAD'] == 'NACIONAL'))]"
   ]
  },
  {
   "cell_type": "code",
   "execution_count": 5,
   "metadata": {},
   "outputs": [
    {
     "data": {
      "text/plain": [
       "(369040, 16)"
      ]
     },
     "execution_count": 5,
     "metadata": {},
     "output_type": "execute_result"
    }
   ],
   "source": [
    "beneficiarios_20.shape"
   ]
  },
  {
   "cell_type": "code",
   "execution_count": 6,
   "metadata": {},
   "outputs": [
    {
     "data": {
      "text/plain": [
       "array(['GUERRERO', 'MORELOS', 'TLAXCALA', 'PUEBLA', nan], dtype=object)"
      ]
     },
     "execution_count": 6,
     "metadata": {},
     "output_type": "execute_result"
    }
   ],
   "source": [
    "beneficiarios_20['ENTIDAD'].unique()"
   ]
  },
  {
   "cell_type": "markdown",
   "metadata": {},
   "source": [
    "Dropeamos los tres valores nulos debido a que las rows enteras salen como nan"
   ]
  },
  {
   "cell_type": "code",
   "execution_count": 7,
   "metadata": {},
   "outputs": [],
   "source": [
    "beneficiarios_20.dropna(inplace=True)"
   ]
  },
  {
   "cell_type": "code",
   "execution_count": 8,
   "metadata": {},
   "outputs": [],
   "source": [
    "# Obtenemos las localidades únicas en el dataset.\n",
    "Localidades_20 = beneficiarios_20[['ENTIDAD', 'MUNICIPIO', 'LOCALIDAD']]\n",
    "Localidades_20 = Localidades_20.drop_duplicates()\n"
   ]
  },
  {
   "cell_type": "code",
   "execution_count": 9,
   "metadata": {},
   "outputs": [],
   "source": [
    "Localidades_20['ENTIDAD_c_benef'] = Localidades_20['ENTIDAD'].apply(clean_text)\n",
    "Localidades_20['MUNICIPIO_c_benef'] = Localidades_20['MUNICIPIO'].apply(clean_text)\n",
    "Localidades_20['LOCALIDAD_c_benef'] = Localidades_20['LOCALIDAD'].apply(clean_text)"
   ]
  },
  {
   "cell_type": "code",
   "execution_count": 10,
   "metadata": {},
   "outputs": [],
   "source": [
    "# Creamos las dos keys de beneficiarios 2019\n",
    "Localidades_20['KEY_benef_mun'] = Localidades_20['ENTIDAD_c_benef'].astype(str) + '-' + Localidades_20[\n",
    "    'MUNICIPIO_c_benef'].astype(str)\n",
    "Localidades_20['KEY_benef_loc'] = Localidades_20['ENTIDAD_c_benef'].astype(str) + '-' + Localidades_20[\n",
    "    'MUNICIPIO_c_benef'].astype(str) + '-' + Localidades_20['LOCALIDAD_c_benef'].astype(str)"
   ]
  },
  {
   "cell_type": "code",
   "execution_count": 11,
   "metadata": {},
   "outputs": [
    {
     "data": {
      "text/plain": [
       "(5381, 8)"
      ]
     },
     "execution_count": 11,
     "metadata": {},
     "output_type": "execute_result"
    }
   ],
   "source": [
    "Localidades_20.shape"
   ]
  },
  {
   "cell_type": "code",
   "execution_count": 12,
   "metadata": {},
   "outputs": [],
   "source": [
    "# Obtenemos las localidades únicas en el dataset.\n",
    "Municipios_20 = beneficiarios_20[['ENTIDAD', 'MUNICIPIO']]\n",
    "Municipios_20 = Municipios_20.drop_duplicates()"
   ]
  },
  {
   "cell_type": "code",
   "execution_count": 13,
   "metadata": {},
   "outputs": [],
   "source": [
    "# Estandarizamos la limpieza de los datos\n",
    "Municipios_20['ENTIDAD_c_benef'] = Municipios_20['ENTIDAD'].apply(clean_text)\n",
    "Municipios_20['MUNICIPIO_c_benef'] = Municipios_20['MUNICIPIO'].apply(clean_text)"
   ]
  },
  {
   "cell_type": "code",
   "execution_count": 14,
   "metadata": {},
   "outputs": [],
   "source": [
    "# Creamos las dos keys de beneficiarios \n",
    "Municipios_20['KEY_benef_mun'] = Municipios_20['ENTIDAD_c_benef'].astype(str) + '-' + Municipios_20[\n",
    "    'MUNICIPIO_c_benef'].astype(str)"
   ]
  },
  {
   "cell_type": "code",
   "execution_count": 15,
   "metadata": {},
   "outputs": [
    {
     "data": {
      "text/plain": [
       "(182, 5)"
      ]
     },
     "execution_count": 15,
     "metadata": {},
     "output_type": "execute_result"
    }
   ],
   "source": [
    "Municipios_20.shape"
   ]
  },
  {
   "cell_type": "code",
   "execution_count": 16,
   "metadata": {},
   "outputs": [
    {
     "data": {
      "text/plain": [
       "Index(['ENTIDAD', 'MUNICIPIO', 'ENTIDAD_c_benef', 'MUNICIPIO_c_benef',\n",
       "       'KEY_benef_mun'],\n",
       "      dtype='object')"
      ]
     },
     "execution_count": 16,
     "metadata": {},
     "output_type": "execute_result"
    }
   ],
   "source": [
    "Municipios_20.columns"
   ]
  },
  {
   "cell_type": "markdown",
   "metadata": {},
   "source": [
    "### 1.2 INEGI 2020\n",
    "\n",
    "Obtener listado único de municipios y listado único de localidades de inegi de 2020 con sus claves."
   ]
  },
  {
   "cell_type": "code",
   "execution_count": 17,
   "metadata": {},
   "outputs": [],
   "source": [
    "path_dataset_inegi_2020 = '../../data/inegi/dataset_inegi_clean_2020.csv'\n",
    "#dataset_inegi_clean = pd.read_csv(path_dataset_inegi_2022, encoding='utf-8', dtype={'CVE_ENT': str, 'CVE_MUN': str, 'CVE_LOC': str})\n",
    "dataset_inegi_2020 = pd.read_csv(path_dataset_inegi_2020)"
   ]
  },
  {
   "cell_type": "markdown",
   "metadata": {},
   "source": [
    "### 1.2.1 INEGI 2020 Municipios únicos para cada año."
   ]
  },
  {
   "cell_type": "code",
   "execution_count": 18,
   "metadata": {},
   "outputs": [],
   "source": [
    "dataset_inegi_2020['KEY_inegi_municipio'] = dataset_inegi_2020['Entidad_c_inegi'].astype(str) + '-' + dataset_inegi_2020[\n",
    "    'Municipio_c_inegi'].astype(str) \n",
    "dataset_inegi_2020['KEY_inegi_localidad'] = dataset_inegi_2020['Entidad_c_inegi'].astype(str) + '-' + dataset_inegi_2020[\n",
    "    'Municipio_c_inegi'].astype(str) + '-' + dataset_inegi_2020['Localidad_c_inegi'].astype(str)"
   ]
  },
  {
   "cell_type": "code",
   "execution_count": 19,
   "metadata": {},
   "outputs": [],
   "source": [
    "INEGI_UNIQUEMUN_2020 = dataset_inegi_2020.drop(columns=[\"CVE_LOC\", \"Localidad_inegi\", \"Localidad_c_inegi\", \"KEY_inegi_localidad\"])\n",
    "\n",
    "INEGI_UNIQUEMUN_2020 = INEGI_UNIQUEMUN_2020.drop_duplicates()"
   ]
  },
  {
   "cell_type": "code",
   "execution_count": 20,
   "metadata": {},
   "outputs": [
    {
     "data": {
      "text/plain": [
       "(98356, 8)"
      ]
     },
     "execution_count": 20,
     "metadata": {},
     "output_type": "execute_result"
    }
   ],
   "source": [
    "INEGI_UNIQUEMUN_2020.shape"
   ]
  },
  {
   "cell_type": "code",
   "execution_count": 21,
   "metadata": {},
   "outputs": [
    {
     "data": {
      "text/plain": [
       "Index(['CVE_ENT', 'Entidad_inegi', 'CVE_MUN', 'Municipio_inegi', 'POB_TOTAL',\n",
       "       'Entidad_c_inegi', 'Municipio_c_inegi', 'KEY_inegi_municipio'],\n",
       "      dtype='object')"
      ]
     },
     "execution_count": 21,
     "metadata": {},
     "output_type": "execute_result"
    }
   ],
   "source": [
    "INEGI_UNIQUEMUN_2020.columns"
   ]
  },
  {
   "cell_type": "markdown",
   "metadata": {},
   "source": [
    "### 1.2.1 INEGI 2020 Localidades únicas para cada año."
   ]
  },
  {
   "cell_type": "code",
   "execution_count": 22,
   "metadata": {},
   "outputs": [],
   "source": [
    "INEGI_UNIQUELOC_2020 = dataset_inegi_2020\n",
    "\n",
    "INEGI_UNIQUELOC_2020 = INEGI_UNIQUELOC_2020.drop_duplicates()"
   ]
  },
  {
   "cell_type": "code",
   "execution_count": 23,
   "metadata": {},
   "outputs": [
    {
     "data": {
      "text/plain": [
       "(300690, 12)"
      ]
     },
     "execution_count": 23,
     "metadata": {},
     "output_type": "execute_result"
    }
   ],
   "source": [
    "INEGI_UNIQUELOC_2020.shape"
   ]
  },
  {
   "cell_type": "code",
   "execution_count": 24,
   "metadata": {},
   "outputs": [
    {
     "name": "stdout",
     "output_type": "stream",
     "text": [
      "Número de rows con base en Entidad, Municipio y Localidad:  (43858, 12)\n"
     ]
    }
   ],
   "source": [
    "# Ordenar el DataFrame por Entidad_inegi, Municipio_inegi y Localidad_inegi\n",
    "df_sorted = INEGI_UNIQUELOC_2020.sort_values(by=['Entidad_inegi', 'Municipio_inegi', 'Localidad_inegi'])\n",
    "\n",
    "# Identificar duplicados basados en Entidad_inegi, Municipio_inegi y Localidad_inegi\n",
    "duplicados = df_sorted[df_sorted.duplicated(subset=['Entidad_inegi', 'Municipio_inegi', 'Localidad_inegi'], keep=False)]\n",
    "print(\"Número de rows con base en Entidad, Municipio y Localidad: \" , duplicados.shape)"
   ]
  },
  {
   "cell_type": "code",
   "execution_count": 25,
   "metadata": {},
   "outputs": [
    {
     "data": {
      "text/html": [
       "<div>\n",
       "<style scoped>\n",
       "    .dataframe tbody tr th:only-of-type {\n",
       "        vertical-align: middle;\n",
       "    }\n",
       "\n",
       "    .dataframe tbody tr th {\n",
       "        vertical-align: top;\n",
       "    }\n",
       "\n",
       "    .dataframe thead th {\n",
       "        text-align: right;\n",
       "    }\n",
       "</style>\n",
       "<table border=\"1\" class=\"dataframe\">\n",
       "  <thead>\n",
       "    <tr style=\"text-align: right;\">\n",
       "      <th></th>\n",
       "      <th>Entidad_inegi</th>\n",
       "      <th>Municipio_inegi</th>\n",
       "      <th>Localidad_inegi</th>\n",
       "      <th>Numero_Duplicados</th>\n",
       "    </tr>\n",
       "  </thead>\n",
       "  <tbody>\n",
       "    <tr>\n",
       "      <th>11516</th>\n",
       "      <td>Sinaloa</td>\n",
       "      <td>Culiacán</td>\n",
       "      <td>Ninguno</td>\n",
       "      <td>95</td>\n",
       "    </tr>\n",
       "    <tr>\n",
       "      <th>1358</th>\n",
       "      <td>Campeche</td>\n",
       "      <td>Carmen</td>\n",
       "      <td>Ninguno</td>\n",
       "      <td>79</td>\n",
       "    </tr>\n",
       "    <tr>\n",
       "      <th>11273</th>\n",
       "      <td>Sinaloa</td>\n",
       "      <td>Ahome</td>\n",
       "      <td>Ninguno</td>\n",
       "      <td>63</td>\n",
       "    </tr>\n",
       "    <tr>\n",
       "      <th>12054</th>\n",
       "      <td>Sonora</td>\n",
       "      <td>Cajeme</td>\n",
       "      <td>Ninguno</td>\n",
       "      <td>58</td>\n",
       "    </tr>\n",
       "    <tr>\n",
       "      <th>16229</th>\n",
       "      <td>Yucatán</td>\n",
       "      <td>Tizimín</td>\n",
       "      <td>San José</td>\n",
       "      <td>53</td>\n",
       "    </tr>\n",
       "    <tr>\n",
       "      <th>...</th>\n",
       "      <td>...</td>\n",
       "      <td>...</td>\n",
       "      <td>...</td>\n",
       "      <td>...</td>\n",
       "    </tr>\n",
       "    <tr>\n",
       "      <th>6859</th>\n",
       "      <td>Durango</td>\n",
       "      <td>San Dimas</td>\n",
       "      <td>Cuevecillas</td>\n",
       "      <td>2</td>\n",
       "    </tr>\n",
       "    <tr>\n",
       "      <th>6860</th>\n",
       "      <td>Durango</td>\n",
       "      <td>San Dimas</td>\n",
       "      <td>El Carrizo</td>\n",
       "      <td>2</td>\n",
       "    </tr>\n",
       "    <tr>\n",
       "      <th>6861</th>\n",
       "      <td>Durango</td>\n",
       "      <td>San Dimas</td>\n",
       "      <td>El Chirimoyo</td>\n",
       "      <td>2</td>\n",
       "    </tr>\n",
       "    <tr>\n",
       "      <th>6862</th>\n",
       "      <td>Durango</td>\n",
       "      <td>San Dimas</td>\n",
       "      <td>El Gato</td>\n",
       "      <td>2</td>\n",
       "    </tr>\n",
       "    <tr>\n",
       "      <th>16509</th>\n",
       "      <td>Zacatecas</td>\n",
       "      <td>Zacatecas</td>\n",
       "      <td>Rancho Nuevo</td>\n",
       "      <td>2</td>\n",
       "    </tr>\n",
       "  </tbody>\n",
       "</table>\n",
       "<p>16510 rows × 4 columns</p>\n",
       "</div>"
      ],
      "text/plain": [
       "      Entidad_inegi Municipio_inegi Localidad_inegi  Numero_Duplicados\n",
       "11516       Sinaloa        Culiacán         Ninguno                 95\n",
       "1358       Campeche          Carmen         Ninguno                 79\n",
       "11273       Sinaloa           Ahome         Ninguno                 63\n",
       "12054        Sonora          Cajeme         Ninguno                 58\n",
       "16229       Yucatán         Tizimín        San José                 53\n",
       "...             ...             ...             ...                ...\n",
       "6859        Durango       San Dimas     Cuevecillas                  2\n",
       "6860        Durango       San Dimas      El Carrizo                  2\n",
       "6861        Durango       San Dimas    El Chirimoyo                  2\n",
       "6862        Durango       San Dimas         El Gato                  2\n",
       "16509     Zacatecas       Zacatecas    Rancho Nuevo                  2\n",
       "\n",
       "[16510 rows x 4 columns]"
      ]
     },
     "execution_count": 25,
     "metadata": {},
     "output_type": "execute_result"
    }
   ],
   "source": [
    "conteo_duplicados = duplicados.groupby(['Entidad_inegi', 'Municipio_inegi', 'Localidad_inegi']).size().reset_index(name='Numero_Duplicados')\n",
    "\n",
    "# Ordenar por el número de duplicados en orden descendente\n",
    "conteo_duplicados = conteo_duplicados.sort_values(by='Numero_Duplicados', ascending=False)\n",
    "\n",
    "# Mostrar el conteo de duplicados ordenado por count\n",
    "conteo_duplicados"
   ]
  },
  {
   "cell_type": "code",
   "execution_count": 26,
   "metadata": {},
   "outputs": [],
   "source": [
    "conteo_duplicados_2020 = conteo_duplicados[conteo_duplicados['Entidad_inegi'].isin(['Guerrero', 'Morelos', 'Tlaxcala', 'Puebla'])]"
   ]
  },
  {
   "cell_type": "code",
   "execution_count": 27,
   "metadata": {},
   "outputs": [
    {
     "data": {
      "text/html": [
       "<div>\n",
       "<style scoped>\n",
       "    .dataframe tbody tr th:only-of-type {\n",
       "        vertical-align: middle;\n",
       "    }\n",
       "\n",
       "    .dataframe tbody tr th {\n",
       "        vertical-align: top;\n",
       "    }\n",
       "\n",
       "    .dataframe thead th {\n",
       "        text-align: right;\n",
       "    }\n",
       "</style>\n",
       "<table border=\"1\" class=\"dataframe\">\n",
       "  <thead>\n",
       "    <tr style=\"text-align: right;\">\n",
       "      <th></th>\n",
       "      <th>Entidad_inegi</th>\n",
       "      <th>Municipio_inegi</th>\n",
       "      <th>Localidad_inegi</th>\n",
       "      <th>Numero_Duplicados</th>\n",
       "    </tr>\n",
       "  </thead>\n",
       "  <tbody>\n",
       "    <tr>\n",
       "      <th>10680</th>\n",
       "      <td>Puebla</td>\n",
       "      <td>San Salvador Huixcolotla</td>\n",
       "      <td>San Salvador Huixcolotla</td>\n",
       "      <td>6</td>\n",
       "    </tr>\n",
       "    <tr>\n",
       "      <th>7643</th>\n",
       "      <td>Guerrero</td>\n",
       "      <td>Zirándaro</td>\n",
       "      <td>El Guayabo</td>\n",
       "      <td>6</td>\n",
       "    </tr>\n",
       "    <tr>\n",
       "      <th>7665</th>\n",
       "      <td>Guerrero</td>\n",
       "      <td>Zirándaro</td>\n",
       "      <td>Las Juntas</td>\n",
       "      <td>5</td>\n",
       "    </tr>\n",
       "    <tr>\n",
       "      <th>7594</th>\n",
       "      <td>Guerrero</td>\n",
       "      <td>Técpan de Galeana</td>\n",
       "      <td>El Rincón</td>\n",
       "      <td>5</td>\n",
       "    </tr>\n",
       "    <tr>\n",
       "      <th>10534</th>\n",
       "      <td>Puebla</td>\n",
       "      <td>Chapulco</td>\n",
       "      <td>Chapulco</td>\n",
       "      <td>5</td>\n",
       "    </tr>\n",
       "    <tr>\n",
       "      <th>...</th>\n",
       "      <td>...</td>\n",
       "      <td>...</td>\n",
       "      <td>...</td>\n",
       "      <td>...</td>\n",
       "    </tr>\n",
       "    <tr>\n",
       "      <th>7389</th>\n",
       "      <td>Guerrero</td>\n",
       "      <td>Acatepec</td>\n",
       "      <td>Ojo de Agua</td>\n",
       "      <td>2</td>\n",
       "    </tr>\n",
       "    <tr>\n",
       "      <th>7385</th>\n",
       "      <td>Guerrero</td>\n",
       "      <td>Acapulco de Juárez</td>\n",
       "      <td>El Paraíso</td>\n",
       "      <td>2</td>\n",
       "    </tr>\n",
       "    <tr>\n",
       "      <th>7386</th>\n",
       "      <td>Guerrero</td>\n",
       "      <td>Acapulco de Juárez</td>\n",
       "      <td>El Rincón</td>\n",
       "      <td>2</td>\n",
       "    </tr>\n",
       "    <tr>\n",
       "      <th>7387</th>\n",
       "      <td>Guerrero</td>\n",
       "      <td>Acapulco de Juárez</td>\n",
       "      <td>El Zapote</td>\n",
       "      <td>2</td>\n",
       "    </tr>\n",
       "    <tr>\n",
       "      <th>7388</th>\n",
       "      <td>Guerrero</td>\n",
       "      <td>Acatepec</td>\n",
       "      <td>Laguna Seca</td>\n",
       "      <td>2</td>\n",
       "    </tr>\n",
       "  </tbody>\n",
       "</table>\n",
       "<p>594 rows × 4 columns</p>\n",
       "</div>"
      ],
      "text/plain": [
       "      Entidad_inegi           Municipio_inegi           Localidad_inegi  \\\n",
       "10680        Puebla  San Salvador Huixcolotla  San Salvador Huixcolotla   \n",
       "7643       Guerrero                 Zirándaro                El Guayabo   \n",
       "7665       Guerrero                 Zirándaro                Las Juntas   \n",
       "7594       Guerrero         Técpan de Galeana                 El Rincón   \n",
       "10534        Puebla                  Chapulco                  Chapulco   \n",
       "...             ...                       ...                       ...   \n",
       "7389       Guerrero                  Acatepec               Ojo de Agua   \n",
       "7385       Guerrero        Acapulco de Juárez                El Paraíso   \n",
       "7386       Guerrero        Acapulco de Juárez                 El Rincón   \n",
       "7387       Guerrero        Acapulco de Juárez                 El Zapote   \n",
       "7388       Guerrero                  Acatepec               Laguna Seca   \n",
       "\n",
       "       Numero_Duplicados  \n",
       "10680                  6  \n",
       "7643                   6  \n",
       "7665                   5  \n",
       "7594                   5  \n",
       "10534                  5  \n",
       "...                  ...  \n",
       "7389                   2  \n",
       "7385                   2  \n",
       "7386                   2  \n",
       "7387                   2  \n",
       "7388                   2  \n",
       "\n",
       "[594 rows x 4 columns]"
      ]
     },
     "execution_count": 27,
     "metadata": {},
     "output_type": "execute_result"
    }
   ],
   "source": [
    "conteo_duplicados_2020"
   ]
  },
  {
   "cell_type": "markdown",
   "metadata": {},
   "source": [
    "# 2. Diccionario de los datasets de INEGI Y LISTADO BENEFICIARIOS 2019\n",
    "\n",
    "El objetivo de esta sección es crear dos diccionarios de códigos según BENEFICIARIOS-MUNICIPIOS_INEGI y otro BENEFICIARIOS-LOCALIDADES_INEGI, para cada uno de los estados encontrados en inegi_2020, en este caso el número de keys es menor con lo cual no nos hará falta dividir por estado.\n",
    "\n",
    "Para ello haremos un Left join entre Localidades_20 y el dataset de INEGI correspondiente."
   ]
  },
  {
   "cell_type": "code",
   "execution_count": 24,
   "metadata": {},
   "outputs": [],
   "source": [
    "# Crear una función para encontrar la mejor coincidencia difusa con límites entre 85 y 100 de coincidencia\n",
    "def fuzzy_merge_benef2019_2022(df_benef, df_inegi, key1, key2, threshold=85, limit=1):\n",
    "    \"\"\"\n",
    "    df_inegi: DataFrame de la izquierda (el DataFrame principal)\n",
    "    df_prod: DataFrame de la derecha (el DataFrame con el que se quiere hacer el join)\n",
    "    key1: Columna de la clave en df_inegi\n",
    "    key2: Columna de la clave en df_prod\n",
    "    threshold: Umbral de coincidencia difusa\n",
    "    limit: Número de coincidencias a encontrar\n",
    "    \"\"\"\n",
    "    s = df_inegi[key2].tolist()\n",
    "    \n",
    "    # Encontrar las mejores coincidencias para cada clave en df_inegi\n",
    "    matches = df_benef[key1].apply(lambda x: process.extractOne(x, s, score_cutoff=threshold))\n",
    "\n",
    "\n",
    "    # Crear una columna con las mejores coincidencias\n",
    "    df_benef['best_match'] = [match[0] if match else None for match in matches]\n",
    "    \n",
    "    df_benef['match_score'] = [match[1] if match else None for match in matches]\n",
    "    \n",
    "\n",
    "    # Hacer el merge con las mejores coincidencias\n",
    "    df_merged = pd.merge(df_benef, df_inegi, left_on='best_match', right_on=key2, how='left',\n",
    "                         suffixes=('_benef', '_inegi'))\n",
    "    \n",
    "    return df_merged"
   ]
  },
  {
   "cell_type": "code",
   "execution_count": 25,
   "metadata": {},
   "outputs": [
    {
     "data": {
      "text/plain": [
       "(182, 14)"
      ]
     },
     "execution_count": 25,
     "metadata": {},
     "output_type": "execute_result"
    }
   ],
   "source": [
    "diccionario_MUN_20 = fuzzy_merge_benef2019_2022(Municipios_20, INEGI_UNIQUEMUN_2020, 'KEY_benef_mun', 'KEY_inegi_municipio')\n",
    "diccionario_MUN_20.shape"
   ]
  },
  {
   "cell_type": "code",
   "execution_count": 26,
   "metadata": {},
   "outputs": [],
   "source": [
    "diccionario_MUN_20.drop(columns=['ENTIDAD', 'MUNICIPIO', 'ENTIDAD_c_benef', 'MUNICIPIO_c_benef', 'Entidad_c_inegi',\n",
    "       'Municipio_c_inegi'], inplace=True)"
   ]
  },
  {
   "cell_type": "code",
   "execution_count": 27,
   "metadata": {},
   "outputs": [],
   "source": [
    "diccionario_MUN_20.to_csv('../../data/productores_beneficiarios 2019-2022/diccionarios_E3/diccionario_MUN_20.csv', index=False)"
   ]
  },
  {
   "cell_type": "code",
   "execution_count": 28,
   "metadata": {},
   "outputs": [],
   "source": [
    "diccionario_MUN_20_simple = pd.read_csv('../../data/productores_beneficiarios 2019-2022/diccionarios_E3/diccionario_MUN_20_simple.csv')"
   ]
  },
  {
   "cell_type": "code",
   "execution_count": 29,
   "metadata": {},
   "outputs": [
    {
     "data": {
      "text/plain": [
       "(183, 2)"
      ]
     },
     "execution_count": 29,
     "metadata": {},
     "output_type": "execute_result"
    }
   ],
   "source": [
    "diccionario_MUN_20_simple.shape"
   ]
  },
  {
   "cell_type": "code",
   "execution_count": 30,
   "metadata": {},
   "outputs": [
    {
     "data": {
      "text/plain": [
       "Index(['KEY_benef_mun', 'KEY_inegi_municipio'], dtype='object')"
      ]
     },
     "execution_count": 30,
     "metadata": {},
     "output_type": "execute_result"
    }
   ],
   "source": [
    "diccionario_MUN_20_simple.columns"
   ]
  },
  {
   "cell_type": "code",
   "execution_count": 31,
   "metadata": {},
   "outputs": [],
   "source": [
    "nan_rows = beneficiarios_20[beneficiarios_20.isna().any(axis=1)]"
   ]
  },
  {
   "cell_type": "code",
   "execution_count": 32,
   "metadata": {},
   "outputs": [
    {
     "data": {
      "text/html": [
       "<div>\n",
       "<style scoped>\n",
       "    .dataframe tbody tr th:only-of-type {\n",
       "        vertical-align: middle;\n",
       "    }\n",
       "\n",
       "    .dataframe tbody tr th {\n",
       "        vertical-align: top;\n",
       "    }\n",
       "\n",
       "    .dataframe thead th {\n",
       "        text-align: right;\n",
       "    }\n",
       "</style>\n",
       "<table border=\"1\" class=\"dataframe\">\n",
       "  <thead>\n",
       "    <tr style=\"text-align: right;\">\n",
       "      <th></th>\n",
       "      <th>BENEFICIARIO</th>\n",
       "      <th>ZONA</th>\n",
       "      <th>ENTIDAD</th>\n",
       "      <th>MUNICIPIO</th>\n",
       "      <th>LOCALIDAD</th>\n",
       "      <th>ESTRATIFICACIÓN</th>\n",
       "      <th>PROGRAMA</th>\n",
       "      <th>COMPONENTE</th>\n",
       "      <th>SUBCOMPONENTE</th>\n",
       "      <th>PRODUCTO</th>\n",
       "      <th>FECHA</th>\n",
       "      <th>MONTO FEDERAL</th>\n",
       "      <th>APOYO</th>\n",
       "      <th>ACTIVIDAD</th>\n",
       "      <th>ESLABÓN</th>\n",
       "      <th>CICLO AGRÍCOLA</th>\n",
       "    </tr>\n",
       "  </thead>\n",
       "  <tbody>\n",
       "  </tbody>\n",
       "</table>\n",
       "</div>"
      ],
      "text/plain": [
       "Empty DataFrame\n",
       "Columns: [BENEFICIARIO, ZONA, ENTIDAD, MUNICIPIO, LOCALIDAD, ESTRATIFICACIÓN, PROGRAMA, COMPONENTE, SUBCOMPONENTE, PRODUCTO, FECHA, MONTO FEDERAL, APOYO, ACTIVIDAD, ESLABÓN, CICLO AGRÍCOLA]\n",
       "Index: []"
      ]
     },
     "execution_count": 32,
     "metadata": {},
     "output_type": "execute_result"
    }
   ],
   "source": [
    "nan_rows"
   ]
  },
  {
   "cell_type": "code",
   "execution_count": 33,
   "metadata": {},
   "outputs": [],
   "source": [
    "# Assuming your DataFrame is named df\n",
    "filtered_df = beneficiarios_20[beneficiarios_20['ENTIDAD'] == 'NACIONAL']"
   ]
  },
  {
   "cell_type": "code",
   "execution_count": 34,
   "metadata": {},
   "outputs": [
    {
     "data": {
      "text/html": [
       "<div>\n",
       "<style scoped>\n",
       "    .dataframe tbody tr th:only-of-type {\n",
       "        vertical-align: middle;\n",
       "    }\n",
       "\n",
       "    .dataframe tbody tr th {\n",
       "        vertical-align: top;\n",
       "    }\n",
       "\n",
       "    .dataframe thead th {\n",
       "        text-align: right;\n",
       "    }\n",
       "</style>\n",
       "<table border=\"1\" class=\"dataframe\">\n",
       "  <thead>\n",
       "    <tr style=\"text-align: right;\">\n",
       "      <th></th>\n",
       "      <th>BENEFICIARIO</th>\n",
       "      <th>ZONA</th>\n",
       "      <th>ENTIDAD</th>\n",
       "      <th>MUNICIPIO</th>\n",
       "      <th>LOCALIDAD</th>\n",
       "      <th>ESTRATIFICACIÓN</th>\n",
       "      <th>PROGRAMA</th>\n",
       "      <th>COMPONENTE</th>\n",
       "      <th>SUBCOMPONENTE</th>\n",
       "      <th>PRODUCTO</th>\n",
       "      <th>FECHA</th>\n",
       "      <th>MONTO FEDERAL</th>\n",
       "      <th>APOYO</th>\n",
       "      <th>ACTIVIDAD</th>\n",
       "      <th>ESLABÓN</th>\n",
       "      <th>CICLO AGRÍCOLA</th>\n",
       "    </tr>\n",
       "  </thead>\n",
       "  <tbody>\n",
       "  </tbody>\n",
       "</table>\n",
       "</div>"
      ],
      "text/plain": [
       "Empty DataFrame\n",
       "Columns: [BENEFICIARIO, ZONA, ENTIDAD, MUNICIPIO, LOCALIDAD, ESTRATIFICACIÓN, PROGRAMA, COMPONENTE, SUBCOMPONENTE, PRODUCTO, FECHA, MONTO FEDERAL, APOYO, ACTIVIDAD, ESLABÓN, CICLO AGRÍCOLA]\n",
       "Index: []"
      ]
     },
     "execution_count": 34,
     "metadata": {},
     "output_type": "execute_result"
    }
   ],
   "source": [
    "filtered_df"
   ]
  },
  {
   "cell_type": "markdown",
   "metadata": {},
   "source": [
    "### MERGE\n",
    "\n",
    "Armamos por partes el dataset definitivo:\n",
    "1. Juntamos beneficiarios_19 con el diccionario simple. (listado_beneficiario_parte_I)\n",
    "2. Al df anterior juntamos las claver provenientes del catálogo de Inegi. (listado_beneficiario_parte_II)"
   ]
  },
  {
   "cell_type": "code",
   "execution_count": 35,
   "metadata": {},
   "outputs": [
    {
     "data": {
      "text/plain": [
       "Index(['BENEFICIARIO', 'ZONA', 'ENTIDAD', 'MUNICIPIO', 'LOCALIDAD',\n",
       "       'ESTRATIFICACIÓN', 'PROGRAMA', 'COMPONENTE', 'SUBCOMPONENTE',\n",
       "       'PRODUCTO', 'FECHA', 'MONTO FEDERAL', 'APOYO', 'ACTIVIDAD', 'ESLABÓN',\n",
       "       'CICLO AGRÍCOLA'],\n",
       "      dtype='object')"
      ]
     },
     "execution_count": 35,
     "metadata": {},
     "output_type": "execute_result"
    }
   ],
   "source": [
    "beneficiarios_20.columns"
   ]
  },
  {
   "cell_type": "code",
   "execution_count": 36,
   "metadata": {},
   "outputs": [
    {
     "data": {
      "text/plain": [
       "(369037, 16)"
      ]
     },
     "execution_count": 36,
     "metadata": {},
     "output_type": "execute_result"
    }
   ],
   "source": [
    "beneficiarios_20.shape"
   ]
  },
  {
   "cell_type": "code",
   "execution_count": 37,
   "metadata": {},
   "outputs": [],
   "source": [
    "# Crear una variable KEY en listado de productores y el diccionario para hacer el join\n",
    "\n",
    "# Clean listado beneficiarios\n",
    "beneficiarios_20['ESTADO_Clean'] = beneficiarios_20['ENTIDAD'].apply(clean_text)\n",
    "beneficiarios_20['MUNICIPIO_Clean'] = beneficiarios_20['MUNICIPIO'].apply(clean_text)\n",
    "\n",
    "# Create KEY in listado beneficiarios\n",
    "beneficiarios_20['Estado-mun-KEY'] = beneficiarios_20['ESTADO_Clean'].astype(str) + '-' + beneficiarios_20[\n",
    "    'MUNICIPIO_Clean'].astype(str)"
   ]
  },
  {
   "cell_type": "code",
   "execution_count": 38,
   "metadata": {},
   "outputs": [],
   "source": [
    "# Hacer el join de la Parte I\n",
    "listado_beneficiarios_parte_I = pd.merge(beneficiarios_20, diccionario_MUN_20_simple, left_on=\"Estado-mun-KEY\",\n",
    "                                        right_on=\"KEY_benef_mun\", how='left')"
   ]
  },
  {
   "cell_type": "code",
   "execution_count": 39,
   "metadata": {},
   "outputs": [
    {
     "data": {
      "text/plain": [
       "(369037, 21)"
      ]
     },
     "execution_count": 39,
     "metadata": {},
     "output_type": "execute_result"
    }
   ],
   "source": [
    "listado_beneficiarios_parte_I.shape"
   ]
  },
  {
   "cell_type": "code",
   "execution_count": 40,
   "metadata": {},
   "outputs": [
    {
     "data": {
      "text/plain": [
       "Index(['BENEFICIARIO', 'ZONA', 'ENTIDAD', 'MUNICIPIO', 'LOCALIDAD',\n",
       "       'ESTRATIFICACIÓN', 'PROGRAMA', 'COMPONENTE', 'SUBCOMPONENTE',\n",
       "       'PRODUCTO', 'FECHA', 'MONTO FEDERAL', 'APOYO', 'ACTIVIDAD', 'ESLABÓN',\n",
       "       'CICLO AGRÍCOLA', 'ESTADO_Clean', 'MUNICIPIO_Clean', 'Estado-mun-KEY',\n",
       "       'KEY_benef_mun', 'KEY_inegi_municipio'],\n",
       "      dtype='object')"
      ]
     },
     "execution_count": 40,
     "metadata": {},
     "output_type": "execute_result"
    }
   ],
   "source": [
    "listado_beneficiarios_parte_I.columns"
   ]
  },
  {
   "cell_type": "code",
   "execution_count": 41,
   "metadata": {},
   "outputs": [
    {
     "data": {
      "text/plain": [
       "BENEFICIARIO           0\n",
       "ZONA                   0\n",
       "ENTIDAD                0\n",
       "MUNICIPIO              0\n",
       "LOCALIDAD              0\n",
       "ESTRATIFICACIÓN        0\n",
       "PROGRAMA               0\n",
       "COMPONENTE             0\n",
       "SUBCOMPONENTE          0\n",
       "PRODUCTO               0\n",
       "FECHA                  0\n",
       "MONTO FEDERAL          0\n",
       "APOYO                  0\n",
       "ACTIVIDAD              0\n",
       "ESLABÓN                0\n",
       "CICLO AGRÍCOLA         0\n",
       "ESTADO_Clean           0\n",
       "MUNICIPIO_Clean        0\n",
       "Estado-mun-KEY         0\n",
       "KEY_benef_mun          0\n",
       "KEY_inegi_municipio    0\n",
       "dtype: int64"
      ]
     },
     "execution_count": 41,
     "metadata": {},
     "output_type": "execute_result"
    }
   ],
   "source": [
    "listado_beneficiarios_parte_I.isna().sum()"
   ]
  },
  {
   "cell_type": "code",
   "execution_count": 42,
   "metadata": {},
   "outputs": [],
   "source": [
    "# Assuming listado_beneficiarios_parte_II is your DataFrame\n",
    "rows_with_nan = listado_beneficiarios_parte_I[listado_beneficiarios_parte_I.isna().any(axis=1)]\n",
    "\n",
    "# rows_with_nan now contains only the rows with NaN values in any column"
   ]
  },
  {
   "cell_type": "code",
   "execution_count": 43,
   "metadata": {},
   "outputs": [
    {
     "data": {
      "text/html": [
       "<div>\n",
       "<style scoped>\n",
       "    .dataframe tbody tr th:only-of-type {\n",
       "        vertical-align: middle;\n",
       "    }\n",
       "\n",
       "    .dataframe tbody tr th {\n",
       "        vertical-align: top;\n",
       "    }\n",
       "\n",
       "    .dataframe thead th {\n",
       "        text-align: right;\n",
       "    }\n",
       "</style>\n",
       "<table border=\"1\" class=\"dataframe\">\n",
       "  <thead>\n",
       "    <tr style=\"text-align: right;\">\n",
       "      <th></th>\n",
       "      <th>BENEFICIARIO</th>\n",
       "      <th>ZONA</th>\n",
       "      <th>ENTIDAD</th>\n",
       "      <th>MUNICIPIO</th>\n",
       "      <th>LOCALIDAD</th>\n",
       "      <th>ESTRATIFICACIÓN</th>\n",
       "      <th>PROGRAMA</th>\n",
       "      <th>COMPONENTE</th>\n",
       "      <th>SUBCOMPONENTE</th>\n",
       "      <th>PRODUCTO</th>\n",
       "      <th>...</th>\n",
       "      <th>MONTO FEDERAL</th>\n",
       "      <th>APOYO</th>\n",
       "      <th>ACTIVIDAD</th>\n",
       "      <th>ESLABÓN</th>\n",
       "      <th>CICLO AGRÍCOLA</th>\n",
       "      <th>ESTADO_Clean</th>\n",
       "      <th>MUNICIPIO_Clean</th>\n",
       "      <th>Estado-mun-KEY</th>\n",
       "      <th>KEY_benef_mun</th>\n",
       "      <th>KEY_inegi_municipio</th>\n",
       "    </tr>\n",
       "  </thead>\n",
       "  <tbody>\n",
       "  </tbody>\n",
       "</table>\n",
       "<p>0 rows × 21 columns</p>\n",
       "</div>"
      ],
      "text/plain": [
       "Empty DataFrame\n",
       "Columns: [BENEFICIARIO, ZONA, ENTIDAD, MUNICIPIO, LOCALIDAD, ESTRATIFICACIÓN, PROGRAMA, COMPONENTE, SUBCOMPONENTE, PRODUCTO, FECHA, MONTO FEDERAL, APOYO, ACTIVIDAD, ESLABÓN, CICLO AGRÍCOLA, ESTADO_Clean, MUNICIPIO_Clean, Estado-mun-KEY, KEY_benef_mun, KEY_inegi_municipio]\n",
       "Index: []\n",
       "\n",
       "[0 rows x 21 columns]"
      ]
     },
     "execution_count": 43,
     "metadata": {},
     "output_type": "execute_result"
    }
   ],
   "source": [
    "rows_with_nan"
   ]
  },
  {
   "cell_type": "code",
   "execution_count": 44,
   "metadata": {},
   "outputs": [],
   "source": [
    "# Hacer el join de la Parte II\n",
    "listado_beneficiarios_parte_II = pd.merge(listado_beneficiarios_parte_I, INEGI_UNIQUEMUN_2020, left_on=\"KEY_inegi_municipio\",\n",
    "                                        right_on=\"KEY_inegi_municipio\", how='left', suffixes=('_benef', '_inegi'))"
   ]
  },
  {
   "cell_type": "code",
   "execution_count": 45,
   "metadata": {},
   "outputs": [
    {
     "data": {
      "text/html": [
       "<div>\n",
       "<style scoped>\n",
       "    .dataframe tbody tr th:only-of-type {\n",
       "        vertical-align: middle;\n",
       "    }\n",
       "\n",
       "    .dataframe tbody tr th {\n",
       "        vertical-align: top;\n",
       "    }\n",
       "\n",
       "    .dataframe thead th {\n",
       "        text-align: right;\n",
       "    }\n",
       "</style>\n",
       "<table border=\"1\" class=\"dataframe\">\n",
       "  <thead>\n",
       "    <tr style=\"text-align: right;\">\n",
       "      <th></th>\n",
       "      <th>BENEFICIARIO</th>\n",
       "      <th>ZONA</th>\n",
       "      <th>ENTIDAD</th>\n",
       "      <th>MUNICIPIO</th>\n",
       "      <th>LOCALIDAD</th>\n",
       "      <th>ESTRATIFICACIÓN</th>\n",
       "      <th>PROGRAMA</th>\n",
       "      <th>COMPONENTE</th>\n",
       "      <th>SUBCOMPONENTE</th>\n",
       "      <th>PRODUCTO</th>\n",
       "      <th>...</th>\n",
       "      <th>MUNICIPIO_Clean</th>\n",
       "      <th>Estado-mun-KEY</th>\n",
       "      <th>KEY_benef_mun</th>\n",
       "      <th>KEY_inegi_municipio</th>\n",
       "      <th>CVE_ENT</th>\n",
       "      <th>Entidad_inegi</th>\n",
       "      <th>CVE_MUN</th>\n",
       "      <th>Municipio_inegi</th>\n",
       "      <th>Entidad_c_inegi</th>\n",
       "      <th>Municipio_c_inegi</th>\n",
       "    </tr>\n",
       "  </thead>\n",
       "  <tbody>\n",
       "    <tr>\n",
       "      <th>0</th>\n",
       "      <td>ESPINOZA ZAMORA SILVANO</td>\n",
       "      <td>CENTRO PAÍS</td>\n",
       "      <td>GUERRERO</td>\n",
       "      <td>ACATEPEC</td>\n",
       "      <td>ESCALERILLA ZAPATA</td>\n",
       "      <td>Muy alto</td>\n",
       "      <td>FERTILIZANTES</td>\n",
       "      <td>FERTILIZANTES</td>\n",
       "      <td>FERTILIZANTES</td>\n",
       "      <td>Cultivo de maíz grano</td>\n",
       "      <td>...</td>\n",
       "      <td>acatepec</td>\n",
       "      <td>guerrero-acatepec</td>\n",
       "      <td>guerrero-acatepec</td>\n",
       "      <td>guerrero-acatepec</td>\n",
       "      <td>12</td>\n",
       "      <td>Guerrero</td>\n",
       "      <td>76</td>\n",
       "      <td>Acatepec</td>\n",
       "      <td>guerrero</td>\n",
       "      <td>acatepec</td>\n",
       "    </tr>\n",
       "    <tr>\n",
       "      <th>1</th>\n",
       "      <td>CASTRO IGNACIO ESTEBAN</td>\n",
       "      <td>CENTRO PAÍS</td>\n",
       "      <td>GUERRERO</td>\n",
       "      <td>ACATEPEC</td>\n",
       "      <td>ESCALERILLA ZAPATA</td>\n",
       "      <td>Muy alto</td>\n",
       "      <td>FERTILIZANTES</td>\n",
       "      <td>FERTILIZANTES</td>\n",
       "      <td>FERTILIZANTES</td>\n",
       "      <td>Cultivo de maíz grano</td>\n",
       "      <td>...</td>\n",
       "      <td>acatepec</td>\n",
       "      <td>guerrero-acatepec</td>\n",
       "      <td>guerrero-acatepec</td>\n",
       "      <td>guerrero-acatepec</td>\n",
       "      <td>12</td>\n",
       "      <td>Guerrero</td>\n",
       "      <td>76</td>\n",
       "      <td>Acatepec</td>\n",
       "      <td>guerrero</td>\n",
       "      <td>acatepec</td>\n",
       "    </tr>\n",
       "    <tr>\n",
       "      <th>2</th>\n",
       "      <td>ESPINOZA ESPINOZA AMELIA</td>\n",
       "      <td>CENTRO PAÍS</td>\n",
       "      <td>GUERRERO</td>\n",
       "      <td>ACATEPEC</td>\n",
       "      <td>ESCALERILLA ZAPATA</td>\n",
       "      <td>Muy alto</td>\n",
       "      <td>FERTILIZANTES</td>\n",
       "      <td>FERTILIZANTES</td>\n",
       "      <td>FERTILIZANTES</td>\n",
       "      <td>Cultivo de maíz grano</td>\n",
       "      <td>...</td>\n",
       "      <td>acatepec</td>\n",
       "      <td>guerrero-acatepec</td>\n",
       "      <td>guerrero-acatepec</td>\n",
       "      <td>guerrero-acatepec</td>\n",
       "      <td>12</td>\n",
       "      <td>Guerrero</td>\n",
       "      <td>76</td>\n",
       "      <td>Acatepec</td>\n",
       "      <td>guerrero</td>\n",
       "      <td>acatepec</td>\n",
       "    </tr>\n",
       "    <tr>\n",
       "      <th>3</th>\n",
       "      <td>DIRCIO CALIXTO ANUNCIACION</td>\n",
       "      <td>CENTRO PAÍS</td>\n",
       "      <td>GUERRERO</td>\n",
       "      <td>ACATEPEC</td>\n",
       "      <td>ESCALERILLA ZAPATA</td>\n",
       "      <td>Muy alto</td>\n",
       "      <td>FERTILIZANTES</td>\n",
       "      <td>FERTILIZANTES</td>\n",
       "      <td>FERTILIZANTES</td>\n",
       "      <td>Cultivo de maíz grano</td>\n",
       "      <td>...</td>\n",
       "      <td>acatepec</td>\n",
       "      <td>guerrero-acatepec</td>\n",
       "      <td>guerrero-acatepec</td>\n",
       "      <td>guerrero-acatepec</td>\n",
       "      <td>12</td>\n",
       "      <td>Guerrero</td>\n",
       "      <td>76</td>\n",
       "      <td>Acatepec</td>\n",
       "      <td>guerrero</td>\n",
       "      <td>acatepec</td>\n",
       "    </tr>\n",
       "    <tr>\n",
       "      <th>4</th>\n",
       "      <td>CALIXTRO LOPEZ LAURA</td>\n",
       "      <td>CENTRO PAÍS</td>\n",
       "      <td>GUERRERO</td>\n",
       "      <td>ACATEPEC</td>\n",
       "      <td>ESCALERILLA ZAPATA</td>\n",
       "      <td>Muy alto</td>\n",
       "      <td>FERTILIZANTES</td>\n",
       "      <td>FERTILIZANTES</td>\n",
       "      <td>FERTILIZANTES</td>\n",
       "      <td>Cultivo de maíz grano</td>\n",
       "      <td>...</td>\n",
       "      <td>acatepec</td>\n",
       "      <td>guerrero-acatepec</td>\n",
       "      <td>guerrero-acatepec</td>\n",
       "      <td>guerrero-acatepec</td>\n",
       "      <td>12</td>\n",
       "      <td>Guerrero</td>\n",
       "      <td>76</td>\n",
       "      <td>Acatepec</td>\n",
       "      <td>guerrero</td>\n",
       "      <td>acatepec</td>\n",
       "    </tr>\n",
       "    <tr>\n",
       "      <th>...</th>\n",
       "      <td>...</td>\n",
       "      <td>...</td>\n",
       "      <td>...</td>\n",
       "      <td>...</td>\n",
       "      <td>...</td>\n",
       "      <td>...</td>\n",
       "      <td>...</td>\n",
       "      <td>...</td>\n",
       "      <td>...</td>\n",
       "      <td>...</td>\n",
       "      <td>...</td>\n",
       "      <td>...</td>\n",
       "      <td>...</td>\n",
       "      <td>...</td>\n",
       "      <td>...</td>\n",
       "      <td>...</td>\n",
       "      <td>...</td>\n",
       "      <td>...</td>\n",
       "      <td>...</td>\n",
       "      <td>...</td>\n",
       "      <td>...</td>\n",
       "    </tr>\n",
       "    <tr>\n",
       "      <th>369032</th>\n",
       "      <td>RAMIREZ FLORES GUILLERMINA</td>\n",
       "      <td>CENTRO PAÍS</td>\n",
       "      <td>PUEBLA</td>\n",
       "      <td>ACAJETE</td>\n",
       "      <td>LA MAGDALENA TETELA MORELOS</td>\n",
       "      <td>Alto</td>\n",
       "      <td>FERTILIZANTES</td>\n",
       "      <td>FERTILIZANTES</td>\n",
       "      <td>FERTILIZANTES</td>\n",
       "      <td>Cultivo de maíz grano</td>\n",
       "      <td>...</td>\n",
       "      <td>acajete</td>\n",
       "      <td>puebla-acajete</td>\n",
       "      <td>puebla-acajete</td>\n",
       "      <td>puebla-acajete</td>\n",
       "      <td>21</td>\n",
       "      <td>Puebla</td>\n",
       "      <td>1</td>\n",
       "      <td>Acajete</td>\n",
       "      <td>puebla</td>\n",
       "      <td>acajete</td>\n",
       "    </tr>\n",
       "    <tr>\n",
       "      <th>369033</th>\n",
       "      <td>MARTINEZ HERNANDEZ JOSE JUAN</td>\n",
       "      <td>CENTRO PAÍS</td>\n",
       "      <td>PUEBLA</td>\n",
       "      <td>SAN SALVADOR EL SECO</td>\n",
       "      <td>SAN SALVADOR EL SECO</td>\n",
       "      <td>Alto</td>\n",
       "      <td>FERTILIZANTES</td>\n",
       "      <td>FERTILIZANTES</td>\n",
       "      <td>FERTILIZANTES</td>\n",
       "      <td>Cultivo de maíz grano</td>\n",
       "      <td>...</td>\n",
       "      <td>san salvador el seco</td>\n",
       "      <td>puebla-san salvador el seco</td>\n",
       "      <td>puebla-san salvador el seco</td>\n",
       "      <td>puebla-san salvador el seco</td>\n",
       "      <td>21</td>\n",
       "      <td>Puebla</td>\n",
       "      <td>142</td>\n",
       "      <td>San Salvador el Seco</td>\n",
       "      <td>puebla</td>\n",
       "      <td>san salvador el seco</td>\n",
       "    </tr>\n",
       "    <tr>\n",
       "      <th>369034</th>\n",
       "      <td>VARILLAS MORA JUANA</td>\n",
       "      <td>CENTRO PAÍS</td>\n",
       "      <td>PUEBLA</td>\n",
       "      <td>TLACOTEPEC DE BENITO JUÁREZ</td>\n",
       "      <td>TLACOTEPEC DE BENITO JUÁREZ</td>\n",
       "      <td>Alto</td>\n",
       "      <td>FERTILIZANTES</td>\n",
       "      <td>FERTILIZANTES</td>\n",
       "      <td>FERTILIZANTES</td>\n",
       "      <td>Cultivo de maíz grano</td>\n",
       "      <td>...</td>\n",
       "      <td>tlacotepec de benito juarez</td>\n",
       "      <td>puebla-tlacotepec de benito juarez</td>\n",
       "      <td>puebla-tlacotepec de benito juarez</td>\n",
       "      <td>puebla-tlacotepec de benito juarez</td>\n",
       "      <td>21</td>\n",
       "      <td>Puebla</td>\n",
       "      <td>177</td>\n",
       "      <td>Tlacotepec de Benito Juárez</td>\n",
       "      <td>puebla</td>\n",
       "      <td>tlacotepec de benito juarez</td>\n",
       "    </tr>\n",
       "    <tr>\n",
       "      <th>369035</th>\n",
       "      <td>JIMENEZ AGUILAR FLORENTINO</td>\n",
       "      <td>CENTRO PAÍS</td>\n",
       "      <td>GUERRERO</td>\n",
       "      <td>JUCHITÁN</td>\n",
       "      <td>JUCHITÁN</td>\n",
       "      <td>Alto</td>\n",
       "      <td>FERTILIZANTES</td>\n",
       "      <td>FERTILIZANTES</td>\n",
       "      <td>FERTILIZANTES</td>\n",
       "      <td>Cultivo de maíz grano</td>\n",
       "      <td>...</td>\n",
       "      <td>juchitan</td>\n",
       "      <td>guerrero-juchitan</td>\n",
       "      <td>guerrero-juchitan</td>\n",
       "      <td>guerrero-juchitan</td>\n",
       "      <td>12</td>\n",
       "      <td>Guerrero</td>\n",
       "      <td>80</td>\n",
       "      <td>Juchitán</td>\n",
       "      <td>guerrero</td>\n",
       "      <td>juchitan</td>\n",
       "    </tr>\n",
       "    <tr>\n",
       "      <th>369036</th>\n",
       "      <td>TORIBIO CAYETANO MARTINA</td>\n",
       "      <td>CENTRO PAÍS</td>\n",
       "      <td>GUERRERO</td>\n",
       "      <td>ACATEPEC</td>\n",
       "      <td>TIERRA BLANCA</td>\n",
       "      <td>Muy alto</td>\n",
       "      <td>FERTILIZANTES</td>\n",
       "      <td>FERTILIZANTES</td>\n",
       "      <td>FERTILIZANTES</td>\n",
       "      <td>Cultivo de maíz grano</td>\n",
       "      <td>...</td>\n",
       "      <td>acatepec</td>\n",
       "      <td>guerrero-acatepec</td>\n",
       "      <td>guerrero-acatepec</td>\n",
       "      <td>guerrero-acatepec</td>\n",
       "      <td>12</td>\n",
       "      <td>Guerrero</td>\n",
       "      <td>76</td>\n",
       "      <td>Acatepec</td>\n",
       "      <td>guerrero</td>\n",
       "      <td>acatepec</td>\n",
       "    </tr>\n",
       "  </tbody>\n",
       "</table>\n",
       "<p>369037 rows × 27 columns</p>\n",
       "</div>"
      ],
      "text/plain": [
       "                         BENEFICIARIO         ZONA   ENTIDAD  \\\n",
       "0            ESPINOZA ZAMORA SILVANO   CENTRO PAÍS  GUERRERO   \n",
       "1             CASTRO IGNACIO ESTEBAN   CENTRO PAÍS  GUERRERO   \n",
       "2           ESPINOZA ESPINOZA AMELIA   CENTRO PAÍS  GUERRERO   \n",
       "3         DIRCIO CALIXTO ANUNCIACION   CENTRO PAÍS  GUERRERO   \n",
       "4               CALIXTRO LOPEZ LAURA   CENTRO PAÍS  GUERRERO   \n",
       "...                               ...          ...       ...   \n",
       "369032    RAMIREZ FLORES GUILLERMINA   CENTRO PAÍS    PUEBLA   \n",
       "369033  MARTINEZ HERNANDEZ JOSE JUAN   CENTRO PAÍS    PUEBLA   \n",
       "369034           VARILLAS MORA JUANA   CENTRO PAÍS    PUEBLA   \n",
       "369035    JIMENEZ AGUILAR FLORENTINO   CENTRO PAÍS  GUERRERO   \n",
       "369036      TORIBIO CAYETANO MARTINA   CENTRO PAÍS  GUERRERO   \n",
       "\n",
       "                          MUNICIPIO                    LOCALIDAD  \\\n",
       "0                          ACATEPEC           ESCALERILLA ZAPATA   \n",
       "1                          ACATEPEC           ESCALERILLA ZAPATA   \n",
       "2                          ACATEPEC           ESCALERILLA ZAPATA   \n",
       "3                          ACATEPEC           ESCALERILLA ZAPATA   \n",
       "4                          ACATEPEC           ESCALERILLA ZAPATA   \n",
       "...                             ...                          ...   \n",
       "369032                      ACAJETE  LA MAGDALENA TETELA MORELOS   \n",
       "369033         SAN SALVADOR EL SECO         SAN SALVADOR EL SECO   \n",
       "369034  TLACOTEPEC DE BENITO JUÁREZ  TLACOTEPEC DE BENITO JUÁREZ   \n",
       "369035                     JUCHITÁN                     JUCHITÁN   \n",
       "369036                     ACATEPEC                TIERRA BLANCA   \n",
       "\n",
       "       ESTRATIFICACIÓN       PROGRAMA     COMPONENTE  SUBCOMPONENTE  \\\n",
       "0             Muy alto  FERTILIZANTES  FERTILIZANTES  FERTILIZANTES   \n",
       "1             Muy alto  FERTILIZANTES  FERTILIZANTES  FERTILIZANTES   \n",
       "2             Muy alto  FERTILIZANTES  FERTILIZANTES  FERTILIZANTES   \n",
       "3             Muy alto  FERTILIZANTES  FERTILIZANTES  FERTILIZANTES   \n",
       "4             Muy alto  FERTILIZANTES  FERTILIZANTES  FERTILIZANTES   \n",
       "...                ...            ...            ...            ...   \n",
       "369032            Alto  FERTILIZANTES  FERTILIZANTES  FERTILIZANTES   \n",
       "369033            Alto  FERTILIZANTES  FERTILIZANTES  FERTILIZANTES   \n",
       "369034            Alto  FERTILIZANTES  FERTILIZANTES  FERTILIZANTES   \n",
       "369035            Alto  FERTILIZANTES  FERTILIZANTES  FERTILIZANTES   \n",
       "369036        Muy alto  FERTILIZANTES  FERTILIZANTES  FERTILIZANTES   \n",
       "\n",
       "                     PRODUCTO  ...              MUNICIPIO_Clean  \\\n",
       "0       Cultivo de maíz grano  ...                     acatepec   \n",
       "1       Cultivo de maíz grano  ...                     acatepec   \n",
       "2       Cultivo de maíz grano  ...                     acatepec   \n",
       "3       Cultivo de maíz grano  ...                     acatepec   \n",
       "4       Cultivo de maíz grano  ...                     acatepec   \n",
       "...                       ...  ...                          ...   \n",
       "369032  Cultivo de maíz grano  ...                      acajete   \n",
       "369033  Cultivo de maíz grano  ...         san salvador el seco   \n",
       "369034  Cultivo de maíz grano  ...  tlacotepec de benito juarez   \n",
       "369035  Cultivo de maíz grano  ...                     juchitan   \n",
       "369036  Cultivo de maíz grano  ...                     acatepec   \n",
       "\n",
       "                            Estado-mun-KEY  \\\n",
       "0                        guerrero-acatepec   \n",
       "1                        guerrero-acatepec   \n",
       "2                        guerrero-acatepec   \n",
       "3                        guerrero-acatepec   \n",
       "4                        guerrero-acatepec   \n",
       "...                                    ...   \n",
       "369032                      puebla-acajete   \n",
       "369033         puebla-san salvador el seco   \n",
       "369034  puebla-tlacotepec de benito juarez   \n",
       "369035                   guerrero-juchitan   \n",
       "369036                   guerrero-acatepec   \n",
       "\n",
       "                             KEY_benef_mun  \\\n",
       "0                        guerrero-acatepec   \n",
       "1                        guerrero-acatepec   \n",
       "2                        guerrero-acatepec   \n",
       "3                        guerrero-acatepec   \n",
       "4                        guerrero-acatepec   \n",
       "...                                    ...   \n",
       "369032                      puebla-acajete   \n",
       "369033         puebla-san salvador el seco   \n",
       "369034  puebla-tlacotepec de benito juarez   \n",
       "369035                   guerrero-juchitan   \n",
       "369036                   guerrero-acatepec   \n",
       "\n",
       "                       KEY_inegi_municipio CVE_ENT Entidad_inegi CVE_MUN  \\\n",
       "0                        guerrero-acatepec      12      Guerrero      76   \n",
       "1                        guerrero-acatepec      12      Guerrero      76   \n",
       "2                        guerrero-acatepec      12      Guerrero      76   \n",
       "3                        guerrero-acatepec      12      Guerrero      76   \n",
       "4                        guerrero-acatepec      12      Guerrero      76   \n",
       "...                                    ...     ...           ...     ...   \n",
       "369032                      puebla-acajete      21        Puebla       1   \n",
       "369033         puebla-san salvador el seco      21        Puebla     142   \n",
       "369034  puebla-tlacotepec de benito juarez      21        Puebla     177   \n",
       "369035                   guerrero-juchitan      12      Guerrero      80   \n",
       "369036                   guerrero-acatepec      12      Guerrero      76   \n",
       "\n",
       "                    Municipio_inegi Entidad_c_inegi  \\\n",
       "0                          Acatepec        guerrero   \n",
       "1                          Acatepec        guerrero   \n",
       "2                          Acatepec        guerrero   \n",
       "3                          Acatepec        guerrero   \n",
       "4                          Acatepec        guerrero   \n",
       "...                             ...             ...   \n",
       "369032                      Acajete          puebla   \n",
       "369033         San Salvador el Seco          puebla   \n",
       "369034  Tlacotepec de Benito Juárez          puebla   \n",
       "369035                     Juchitán        guerrero   \n",
       "369036                     Acatepec        guerrero   \n",
       "\n",
       "                  Municipio_c_inegi  \n",
       "0                          acatepec  \n",
       "1                          acatepec  \n",
       "2                          acatepec  \n",
       "3                          acatepec  \n",
       "4                          acatepec  \n",
       "...                             ...  \n",
       "369032                      acajete  \n",
       "369033         san salvador el seco  \n",
       "369034  tlacotepec de benito juarez  \n",
       "369035                     juchitan  \n",
       "369036                     acatepec  \n",
       "\n",
       "[369037 rows x 27 columns]"
      ]
     },
     "execution_count": 45,
     "metadata": {},
     "output_type": "execute_result"
    }
   ],
   "source": [
    "listado_beneficiarios_parte_II"
   ]
  },
  {
   "cell_type": "code",
   "execution_count": 46,
   "metadata": {},
   "outputs": [
    {
     "data": {
      "text/plain": [
       "Index(['BENEFICIARIO', 'ZONA', 'ENTIDAD', 'MUNICIPIO', 'LOCALIDAD',\n",
       "       'ESTRATIFICACIÓN', 'PROGRAMA', 'COMPONENTE', 'SUBCOMPONENTE',\n",
       "       'PRODUCTO', 'FECHA', 'MONTO FEDERAL', 'APOYO', 'ACTIVIDAD', 'ESLABÓN',\n",
       "       'CICLO AGRÍCOLA', 'ESTADO_Clean', 'MUNICIPIO_Clean', 'Estado-mun-KEY',\n",
       "       'KEY_benef_mun', 'KEY_inegi_municipio', 'CVE_ENT', 'Entidad_inegi',\n",
       "       'CVE_MUN', 'Municipio_inegi', 'Entidad_c_inegi', 'Municipio_c_inegi'],\n",
       "      dtype='object')"
      ]
     },
     "execution_count": 46,
     "metadata": {},
     "output_type": "execute_result"
    }
   ],
   "source": [
    "listado_beneficiarios_parte_II.columns"
   ]
  },
  {
   "cell_type": "code",
   "execution_count": 47,
   "metadata": {},
   "outputs": [],
   "source": [
    "listado_beneficiarios_parte_II = listado_beneficiarios_parte_II.drop(columns=['ESTADO_Clean', 'MUNICIPIO_Clean', 'Estado-mun-KEY', 'KEY_inegi_municipio', 'Entidad_c_inegi','Municipio_c_inegi', 'ESTRATIFICACIÓN', 'PROGRAMA', 'COMPONENTE', 'SUBCOMPONENTE', 'APOYO', 'ACTIVIDAD', 'ESLABÓN'])"
   ]
  },
  {
   "cell_type": "code",
   "execution_count": 48,
   "metadata": {},
   "outputs": [
    {
     "data": {
      "text/html": [
       "<div>\n",
       "<style scoped>\n",
       "    .dataframe tbody tr th:only-of-type {\n",
       "        vertical-align: middle;\n",
       "    }\n",
       "\n",
       "    .dataframe tbody tr th {\n",
       "        vertical-align: top;\n",
       "    }\n",
       "\n",
       "    .dataframe thead th {\n",
       "        text-align: right;\n",
       "    }\n",
       "</style>\n",
       "<table border=\"1\" class=\"dataframe\">\n",
       "  <thead>\n",
       "    <tr style=\"text-align: right;\">\n",
       "      <th></th>\n",
       "      <th>BENEFICIARIO</th>\n",
       "      <th>ZONA</th>\n",
       "      <th>ENTIDAD</th>\n",
       "      <th>MUNICIPIO</th>\n",
       "      <th>LOCALIDAD</th>\n",
       "      <th>PRODUCTO</th>\n",
       "      <th>FECHA</th>\n",
       "      <th>MONTO FEDERAL</th>\n",
       "      <th>CICLO AGRÍCOLA</th>\n",
       "      <th>KEY_benef_mun</th>\n",
       "      <th>CVE_ENT</th>\n",
       "      <th>Entidad_inegi</th>\n",
       "      <th>CVE_MUN</th>\n",
       "      <th>Municipio_inegi</th>\n",
       "    </tr>\n",
       "  </thead>\n",
       "  <tbody>\n",
       "    <tr>\n",
       "      <th>0</th>\n",
       "      <td>ESPINOZA ZAMORA SILVANO</td>\n",
       "      <td>CENTRO PAÍS</td>\n",
       "      <td>GUERRERO</td>\n",
       "      <td>ACATEPEC</td>\n",
       "      <td>ESCALERILLA ZAPATA</td>\n",
       "      <td>Cultivo de maíz grano</td>\n",
       "      <td>2020-06-12</td>\n",
       "      <td>6163.44</td>\n",
       "      <td>PV2020</td>\n",
       "      <td>guerrero-acatepec</td>\n",
       "      <td>12</td>\n",
       "      <td>Guerrero</td>\n",
       "      <td>76</td>\n",
       "      <td>Acatepec</td>\n",
       "    </tr>\n",
       "    <tr>\n",
       "      <th>1</th>\n",
       "      <td>CASTRO IGNACIO ESTEBAN</td>\n",
       "      <td>CENTRO PAÍS</td>\n",
       "      <td>GUERRERO</td>\n",
       "      <td>ACATEPEC</td>\n",
       "      <td>ESCALERILLA ZAPATA</td>\n",
       "      <td>Cultivo de maíz grano</td>\n",
       "      <td>2020-06-14</td>\n",
       "      <td>6163.44</td>\n",
       "      <td>PV2020</td>\n",
       "      <td>guerrero-acatepec</td>\n",
       "      <td>12</td>\n",
       "      <td>Guerrero</td>\n",
       "      <td>76</td>\n",
       "      <td>Acatepec</td>\n",
       "    </tr>\n",
       "    <tr>\n",
       "      <th>2</th>\n",
       "      <td>ESPINOZA ESPINOZA AMELIA</td>\n",
       "      <td>CENTRO PAÍS</td>\n",
       "      <td>GUERRERO</td>\n",
       "      <td>ACATEPEC</td>\n",
       "      <td>ESCALERILLA ZAPATA</td>\n",
       "      <td>Cultivo de maíz grano</td>\n",
       "      <td>2020-06-15</td>\n",
       "      <td>3081.72</td>\n",
       "      <td>PV2020</td>\n",
       "      <td>guerrero-acatepec</td>\n",
       "      <td>12</td>\n",
       "      <td>Guerrero</td>\n",
       "      <td>76</td>\n",
       "      <td>Acatepec</td>\n",
       "    </tr>\n",
       "    <tr>\n",
       "      <th>3</th>\n",
       "      <td>DIRCIO CALIXTO ANUNCIACION</td>\n",
       "      <td>CENTRO PAÍS</td>\n",
       "      <td>GUERRERO</td>\n",
       "      <td>ACATEPEC</td>\n",
       "      <td>ESCALERILLA ZAPATA</td>\n",
       "      <td>Cultivo de maíz grano</td>\n",
       "      <td>2020-06-15</td>\n",
       "      <td>3081.72</td>\n",
       "      <td>PV2020</td>\n",
       "      <td>guerrero-acatepec</td>\n",
       "      <td>12</td>\n",
       "      <td>Guerrero</td>\n",
       "      <td>76</td>\n",
       "      <td>Acatepec</td>\n",
       "    </tr>\n",
       "    <tr>\n",
       "      <th>4</th>\n",
       "      <td>CALIXTRO LOPEZ LAURA</td>\n",
       "      <td>CENTRO PAÍS</td>\n",
       "      <td>GUERRERO</td>\n",
       "      <td>ACATEPEC</td>\n",
       "      <td>ESCALERILLA ZAPATA</td>\n",
       "      <td>Cultivo de maíz grano</td>\n",
       "      <td>2020-06-15</td>\n",
       "      <td>3081.72</td>\n",
       "      <td>PV2020</td>\n",
       "      <td>guerrero-acatepec</td>\n",
       "      <td>12</td>\n",
       "      <td>Guerrero</td>\n",
       "      <td>76</td>\n",
       "      <td>Acatepec</td>\n",
       "    </tr>\n",
       "    <tr>\n",
       "      <th>...</th>\n",
       "      <td>...</td>\n",
       "      <td>...</td>\n",
       "      <td>...</td>\n",
       "      <td>...</td>\n",
       "      <td>...</td>\n",
       "      <td>...</td>\n",
       "      <td>...</td>\n",
       "      <td>...</td>\n",
       "      <td>...</td>\n",
       "      <td>...</td>\n",
       "      <td>...</td>\n",
       "      <td>...</td>\n",
       "      <td>...</td>\n",
       "      <td>...</td>\n",
       "    </tr>\n",
       "    <tr>\n",
       "      <th>369032</th>\n",
       "      <td>RAMIREZ FLORES GUILLERMINA</td>\n",
       "      <td>CENTRO PAÍS</td>\n",
       "      <td>PUEBLA</td>\n",
       "      <td>ACAJETE</td>\n",
       "      <td>LA MAGDALENA TETELA MORELOS</td>\n",
       "      <td>Cultivo de maíz grano</td>\n",
       "      <td>2021-03-31</td>\n",
       "      <td>2816.79</td>\n",
       "      <td>PV2020</td>\n",
       "      <td>puebla-acajete</td>\n",
       "      <td>21</td>\n",
       "      <td>Puebla</td>\n",
       "      <td>1</td>\n",
       "      <td>Acajete</td>\n",
       "    </tr>\n",
       "    <tr>\n",
       "      <th>369033</th>\n",
       "      <td>MARTINEZ HERNANDEZ JOSE JUAN</td>\n",
       "      <td>CENTRO PAÍS</td>\n",
       "      <td>PUEBLA</td>\n",
       "      <td>SAN SALVADOR EL SECO</td>\n",
       "      <td>SAN SALVADOR EL SECO</td>\n",
       "      <td>Cultivo de maíz grano</td>\n",
       "      <td>2021-03-31</td>\n",
       "      <td>5633.58</td>\n",
       "      <td>PV2020</td>\n",
       "      <td>puebla-san salvador el seco</td>\n",
       "      <td>21</td>\n",
       "      <td>Puebla</td>\n",
       "      <td>142</td>\n",
       "      <td>San Salvador el Seco</td>\n",
       "    </tr>\n",
       "    <tr>\n",
       "      <th>369034</th>\n",
       "      <td>VARILLAS MORA JUANA</td>\n",
       "      <td>CENTRO PAÍS</td>\n",
       "      <td>PUEBLA</td>\n",
       "      <td>TLACOTEPEC DE BENITO JUÁREZ</td>\n",
       "      <td>TLACOTEPEC DE BENITO JUÁREZ</td>\n",
       "      <td>Cultivo de maíz grano</td>\n",
       "      <td>2021-03-31</td>\n",
       "      <td>2816.79</td>\n",
       "      <td>PV2020</td>\n",
       "      <td>puebla-tlacotepec de benito juarez</td>\n",
       "      <td>21</td>\n",
       "      <td>Puebla</td>\n",
       "      <td>177</td>\n",
       "      <td>Tlacotepec de Benito Juárez</td>\n",
       "    </tr>\n",
       "    <tr>\n",
       "      <th>369035</th>\n",
       "      <td>JIMENEZ AGUILAR FLORENTINO</td>\n",
       "      <td>CENTRO PAÍS</td>\n",
       "      <td>GUERRERO</td>\n",
       "      <td>JUCHITÁN</td>\n",
       "      <td>JUCHITÁN</td>\n",
       "      <td>Cultivo de maíz grano</td>\n",
       "      <td>2020-05-28</td>\n",
       "      <td>3082.00</td>\n",
       "      <td>PV2020</td>\n",
       "      <td>guerrero-juchitan</td>\n",
       "      <td>12</td>\n",
       "      <td>Guerrero</td>\n",
       "      <td>80</td>\n",
       "      <td>Juchitán</td>\n",
       "    </tr>\n",
       "    <tr>\n",
       "      <th>369036</th>\n",
       "      <td>TORIBIO CAYETANO MARTINA</td>\n",
       "      <td>CENTRO PAÍS</td>\n",
       "      <td>GUERRERO</td>\n",
       "      <td>ACATEPEC</td>\n",
       "      <td>TIERRA BLANCA</td>\n",
       "      <td>Cultivo de maíz grano</td>\n",
       "      <td>2020-06-26</td>\n",
       "      <td>3082.00</td>\n",
       "      <td>PV2020</td>\n",
       "      <td>guerrero-acatepec</td>\n",
       "      <td>12</td>\n",
       "      <td>Guerrero</td>\n",
       "      <td>76</td>\n",
       "      <td>Acatepec</td>\n",
       "    </tr>\n",
       "  </tbody>\n",
       "</table>\n",
       "<p>369037 rows × 14 columns</p>\n",
       "</div>"
      ],
      "text/plain": [
       "                         BENEFICIARIO         ZONA   ENTIDAD  \\\n",
       "0            ESPINOZA ZAMORA SILVANO   CENTRO PAÍS  GUERRERO   \n",
       "1             CASTRO IGNACIO ESTEBAN   CENTRO PAÍS  GUERRERO   \n",
       "2           ESPINOZA ESPINOZA AMELIA   CENTRO PAÍS  GUERRERO   \n",
       "3         DIRCIO CALIXTO ANUNCIACION   CENTRO PAÍS  GUERRERO   \n",
       "4               CALIXTRO LOPEZ LAURA   CENTRO PAÍS  GUERRERO   \n",
       "...                               ...          ...       ...   \n",
       "369032    RAMIREZ FLORES GUILLERMINA   CENTRO PAÍS    PUEBLA   \n",
       "369033  MARTINEZ HERNANDEZ JOSE JUAN   CENTRO PAÍS    PUEBLA   \n",
       "369034           VARILLAS MORA JUANA   CENTRO PAÍS    PUEBLA   \n",
       "369035    JIMENEZ AGUILAR FLORENTINO   CENTRO PAÍS  GUERRERO   \n",
       "369036      TORIBIO CAYETANO MARTINA   CENTRO PAÍS  GUERRERO   \n",
       "\n",
       "                          MUNICIPIO                    LOCALIDAD  \\\n",
       "0                          ACATEPEC           ESCALERILLA ZAPATA   \n",
       "1                          ACATEPEC           ESCALERILLA ZAPATA   \n",
       "2                          ACATEPEC           ESCALERILLA ZAPATA   \n",
       "3                          ACATEPEC           ESCALERILLA ZAPATA   \n",
       "4                          ACATEPEC           ESCALERILLA ZAPATA   \n",
       "...                             ...                          ...   \n",
       "369032                      ACAJETE  LA MAGDALENA TETELA MORELOS   \n",
       "369033         SAN SALVADOR EL SECO         SAN SALVADOR EL SECO   \n",
       "369034  TLACOTEPEC DE BENITO JUÁREZ  TLACOTEPEC DE BENITO JUÁREZ   \n",
       "369035                     JUCHITÁN                     JUCHITÁN   \n",
       "369036                     ACATEPEC                TIERRA BLANCA   \n",
       "\n",
       "                     PRODUCTO       FECHA  MONTO FEDERAL CICLO AGRÍCOLA  \\\n",
       "0       Cultivo de maíz grano  2020-06-12        6163.44         PV2020   \n",
       "1       Cultivo de maíz grano  2020-06-14        6163.44         PV2020   \n",
       "2       Cultivo de maíz grano  2020-06-15        3081.72         PV2020   \n",
       "3       Cultivo de maíz grano  2020-06-15        3081.72         PV2020   \n",
       "4       Cultivo de maíz grano  2020-06-15        3081.72         PV2020   \n",
       "...                       ...         ...            ...            ...   \n",
       "369032  Cultivo de maíz grano  2021-03-31        2816.79         PV2020   \n",
       "369033  Cultivo de maíz grano  2021-03-31        5633.58         PV2020   \n",
       "369034  Cultivo de maíz grano  2021-03-31        2816.79         PV2020   \n",
       "369035  Cultivo de maíz grano  2020-05-28        3082.00         PV2020   \n",
       "369036  Cultivo de maíz grano  2020-06-26        3082.00         PV2020   \n",
       "\n",
       "                             KEY_benef_mun  CVE_ENT Entidad_inegi  CVE_MUN  \\\n",
       "0                        guerrero-acatepec       12      Guerrero       76   \n",
       "1                        guerrero-acatepec       12      Guerrero       76   \n",
       "2                        guerrero-acatepec       12      Guerrero       76   \n",
       "3                        guerrero-acatepec       12      Guerrero       76   \n",
       "4                        guerrero-acatepec       12      Guerrero       76   \n",
       "...                                    ...      ...           ...      ...   \n",
       "369032                      puebla-acajete       21        Puebla        1   \n",
       "369033         puebla-san salvador el seco       21        Puebla      142   \n",
       "369034  puebla-tlacotepec de benito juarez       21        Puebla      177   \n",
       "369035                   guerrero-juchitan       12      Guerrero       80   \n",
       "369036                   guerrero-acatepec       12      Guerrero       76   \n",
       "\n",
       "                    Municipio_inegi  \n",
       "0                          Acatepec  \n",
       "1                          Acatepec  \n",
       "2                          Acatepec  \n",
       "3                          Acatepec  \n",
       "4                          Acatepec  \n",
       "...                             ...  \n",
       "369032                      Acajete  \n",
       "369033         San Salvador el Seco  \n",
       "369034  Tlacotepec de Benito Juárez  \n",
       "369035                     Juchitán  \n",
       "369036                     Acatepec  \n",
       "\n",
       "[369037 rows x 14 columns]"
      ]
     },
     "execution_count": 48,
     "metadata": {},
     "output_type": "execute_result"
    }
   ],
   "source": [
    "listado_beneficiarios_parte_II"
   ]
  },
  {
   "cell_type": "code",
   "execution_count": 49,
   "metadata": {},
   "outputs": [
    {
     "data": {
      "text/plain": [
       "Index(['BENEFICIARIO', 'ZONA', 'ENTIDAD', 'MUNICIPIO', 'LOCALIDAD', 'PRODUCTO',\n",
       "       'FECHA', 'MONTO FEDERAL', 'CICLO AGRÍCOLA', 'KEY_benef_mun', 'CVE_ENT',\n",
       "       'Entidad_inegi', 'CVE_MUN', 'Municipio_inegi'],\n",
       "      dtype='object')"
      ]
     },
     "execution_count": 49,
     "metadata": {},
     "output_type": "execute_result"
    }
   ],
   "source": [
    "listado_beneficiarios_parte_II.columns"
   ]
  },
  {
   "cell_type": "code",
   "execution_count": 50,
   "metadata": {},
   "outputs": [],
   "source": [
    "listado_beneficiarios_parte_II.to_csv('../../data/listados_completos/listado_beneficiarios_2020.csv', index=False)"
   ]
  },
  {
   "cell_type": "code",
   "execution_count": 51,
   "metadata": {},
   "outputs": [
    {
     "data": {
      "text/plain": [
       "BENEFICIARIO       0\n",
       "ZONA               0\n",
       "ENTIDAD            0\n",
       "MUNICIPIO          0\n",
       "LOCALIDAD          0\n",
       "PRODUCTO           0\n",
       "FECHA              0\n",
       "MONTO FEDERAL      0\n",
       "CICLO AGRÍCOLA     0\n",
       "KEY_benef_mun      0\n",
       "CVE_ENT            0\n",
       "Entidad_inegi      0\n",
       "CVE_MUN            0\n",
       "Municipio_inegi    0\n",
       "dtype: int64"
      ]
     },
     "execution_count": 51,
     "metadata": {},
     "output_type": "execute_result"
    }
   ],
   "source": [
    "listado_beneficiarios_parte_II.isna().sum()"
   ]
  },
  {
   "cell_type": "code",
   "execution_count": 52,
   "metadata": {},
   "outputs": [],
   "source": [
    "# Assuming listado_beneficiarios_parte_II is your DataFrame\n",
    "rows_with_nan = listado_beneficiarios_parte_II[listado_beneficiarios_parte_II.isna().any(axis=1)]\n",
    "\n",
    "# rows_with_nan now contains only the rows with NaN values in any column"
   ]
  },
  {
   "cell_type": "code",
   "execution_count": 53,
   "metadata": {},
   "outputs": [
    {
     "data": {
      "text/html": [
       "<div>\n",
       "<style scoped>\n",
       "    .dataframe tbody tr th:only-of-type {\n",
       "        vertical-align: middle;\n",
       "    }\n",
       "\n",
       "    .dataframe tbody tr th {\n",
       "        vertical-align: top;\n",
       "    }\n",
       "\n",
       "    .dataframe thead th {\n",
       "        text-align: right;\n",
       "    }\n",
       "</style>\n",
       "<table border=\"1\" class=\"dataframe\">\n",
       "  <thead>\n",
       "    <tr style=\"text-align: right;\">\n",
       "      <th></th>\n",
       "      <th>BENEFICIARIO</th>\n",
       "      <th>ZONA</th>\n",
       "      <th>ENTIDAD</th>\n",
       "      <th>MUNICIPIO</th>\n",
       "      <th>LOCALIDAD</th>\n",
       "      <th>PRODUCTO</th>\n",
       "      <th>FECHA</th>\n",
       "      <th>MONTO FEDERAL</th>\n",
       "      <th>CICLO AGRÍCOLA</th>\n",
       "      <th>KEY_benef_mun</th>\n",
       "      <th>CVE_ENT</th>\n",
       "      <th>Entidad_inegi</th>\n",
       "      <th>CVE_MUN</th>\n",
       "      <th>Municipio_inegi</th>\n",
       "    </tr>\n",
       "  </thead>\n",
       "  <tbody>\n",
       "  </tbody>\n",
       "</table>\n",
       "</div>"
      ],
      "text/plain": [
       "Empty DataFrame\n",
       "Columns: [BENEFICIARIO, ZONA, ENTIDAD, MUNICIPIO, LOCALIDAD, PRODUCTO, FECHA, MONTO FEDERAL, CICLO AGRÍCOLA, KEY_benef_mun, CVE_ENT, Entidad_inegi, CVE_MUN, Municipio_inegi]\n",
       "Index: []"
      ]
     },
     "execution_count": 53,
     "metadata": {},
     "output_type": "execute_result"
    }
   ],
   "source": [
    "rows_with_nan"
   ]
  }
 ],
 "metadata": {
  "kernelspec": {
   "display_name": "Python 3",
   "language": "python",
   "name": "python3"
  },
  "language_info": {
   "codemirror_mode": {
    "name": "ipython",
    "version": 3
   },
   "file_extension": ".py",
   "mimetype": "text/x-python",
   "name": "python",
   "nbconvert_exporter": "python",
   "pygments_lexer": "ipython3",
   "version": "3.9.9"
  }
 },
 "nbformat": 4,
 "nbformat_minor": 2
}
