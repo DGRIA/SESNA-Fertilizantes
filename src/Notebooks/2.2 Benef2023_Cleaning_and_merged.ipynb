{
 "cells": [
  {
   "cell_type": "markdown",
   "id": "e81f8196fda25d5b",
   "metadata": {},
   "source": []
  },
  {
   "cell_type": "markdown",
   "id": "6960feab7ef56473",
   "metadata": {},
   "source": [
    "# Data Cleaning Listado de Listado de Beneficiarios 2023"
   ]
  },
  {
   "cell_type": "markdown",
   "id": "23de63a25eb2daf6",
   "metadata": {},
   "source": [
    "## Autores\n",
    "- José Luis Delgado Dávara\n",
    "- Arturo Ortiz Aguilar\n",
    "- Beltrán Valle Gutiérrez-Cortines"
   ]
  },
  {
   "cell_type": "markdown",
   "id": "b07c3a8a",
   "metadata": {},
   "source": [
    "## Importante leer para entender\n",
    "\n",
    "En este Notebook se trabaja con 3 listados importantes:\n",
    "\n",
    "1. Beneficiarios2023 -> Dataset con el listado de TODOS los beneficiarios.\n",
    "2. Estados_Beneficiarios 2023 -> Dataset sólo con los estados *únicos* encontrados en el dataset anterior.\n",
    "3. Diccionario ->\n",
    "4. Dataset_Inegi ->"
   ]
  },
  {
   "cell_type": "code",
   "execution_count": 1,
   "id": "cb5833c3d96a224c",
   "metadata": {
    "ExecuteTime": {
     "end_time": "2024-05-30T14:01:37.230529Z",
     "start_time": "2024-05-30T14:01:37.040759Z"
    }
   },
   "outputs": [
    {
     "name": "stderr",
     "output_type": "stream",
     "text": [
      "/opt/anaconda3/lib/python3.11/site-packages/thefuzz/fuzz.py:11: UserWarning: Using slow pure-python SequenceMatcher. Install python-Levenshtein to remove this warning\n",
      "  warnings.warn('Using slow pure-python SequenceMatcher. Install python-Levenshtein to remove this warning')\n"
     ]
    }
   ],
   "source": [
    "import pandas as pd\n",
    "import seaborn as sns\n",
    "from thefuzz import fuzz\n",
    "from thefuzz import process\n",
    "import matplotlib.pyplot as plt\n",
    "import numpy as np\n",
    "import os\n",
    "import glob\n",
    "import re\n",
    "import unidecode"
   ]
  },
  {
   "cell_type": "code",
   "execution_count": 2,
   "id": "ac0b22b6344a0b96",
   "metadata": {
    "ExecuteTime": {
     "end_time": "2024-05-30T14:01:37.238020Z",
     "start_time": "2024-05-30T14:01:37.231536Z"
    }
   },
   "outputs": [],
   "source": [
    "def load_datasets(directory):\n",
    "    # Get a list of all CSV files in the directory\n",
    "    csv_files = glob.glob(os.path.join(directory, '*.csv'))\n",
    "\n",
    "    # Read each CSV file and store the DataFrame in a list\n",
    "    dataframes = [pd.read_csv(file, encoding='cp1252', index_col=0, skiprows=1) for file in csv_files]\n",
    "\n",
    "    # Print the number of rows for each DataFrame\n",
    "    for i, df in enumerate(dataframes):\n",
    "        print(f\"Number of rows in DataFrame {i+1}: {df.shape[0]}\")\n",
    "\n",
    "    # Calculate the sum of rows in each individual dataset\n",
    "    individual_row_sum = sum([df.shape[0] for df in dataframes])\n",
    "\n",
    "    # Concatenate all DataFrames in the list\n",
    "    merged_df = pd.concat(dataframes, join='inner', ignore_index=True)\n",
    "\n",
    "    return merged_df, individual_row_sum\n",
    "\n",
    "\n",
    "def clean_text(text):\n",
    "    \"\"\"\n",
    "    De esta manera tenemos el texto sin espacios blancos extra y sobre todo con todas las palabras con capitalización correcta.\n",
    "    \"\"\"\n",
    "    if pd.isna(text):\n",
    "        return text\n",
    "    text = text.strip()  # Eliminate white spaces\n",
    "    text = text.lower()  # Convert to lowercase\n",
    "    text = unidecode.unidecode(text)  # Remove accents\n",
    "    text = re.sub('-.*-', '', text)\n",
    "    text = re.sub('\\s+', ' ', text)  # Eliminate extra white spaces\n",
    "    text = re.sub('^\\s+|\\s+?$', '', text)  # Eliminate spaces at the beginning and end\n",
    "    return text"
   ]
  },
  {
   "cell_type": "markdown",
   "id": "5c0595e208484f96",
   "metadata": {},
   "source": [
    "# 1. Lectura de los datos"
   ]
  },
  {
   "cell_type": "markdown",
   "id": "9b99291631d5d3b1",
   "metadata": {},
   "source": [
    "### Lectura del dataset del INEGI"
   ]
  },
  {
   "cell_type": "code",
   "execution_count": 3,
   "id": "2596158784542f3d",
   "metadata": {
    "ExecuteTime": {
     "end_time": "2024-05-30T14:01:38.326264Z",
     "start_time": "2024-05-30T14:01:37.241026Z"
    }
   },
   "outputs": [],
   "source": [
    "path_dataset_inegi = '../../data/dataset_inegi.csv'\n",
    "dataset_inegi = pd.read_csv(path_dataset_inegi, encoding='cp1252', dtype={'CVE_ENT': str, 'CVE_MUN': str})"
   ]
  },
  {
   "cell_type": "markdown",
   "id": "650cbc699caa705d",
   "metadata": {},
   "source": [
    "### Lectura del listado de Beneficiarios 2023"
   ]
  },
  {
   "cell_type": "code",
   "execution_count": 4,
   "id": "53fef8d078ec79cf",
   "metadata": {
    "ExecuteTime": {
     "end_time": "2024-05-30T14:01:40.160043Z",
     "start_time": "2024-05-30T14:01:38.327278Z"
    }
   },
   "outputs": [
    {
     "name": "stdout",
     "output_type": "stream",
     "text": [
      "Number of rows in DataFrame 1: 42854\n",
      "Number of rows in DataFrame 2: 493598\n",
      "Number of rows in DataFrame 3: 830761\n",
      "Number of rows in DataFrame 4: 312892\n"
     ]
    }
   ],
   "source": [
    "listado_beneficiarios, sumOfRows = load_datasets(\"../../data/beneficiarios2023\")"
   ]
  },
  {
   "cell_type": "code",
   "execution_count": 5,
   "id": "cef3fe33",
   "metadata": {},
   "outputs": [
    {
     "data": {
      "text/plain": [
       "1680105"
      ]
     },
     "execution_count": 5,
     "metadata": {},
     "output_type": "execute_result"
    }
   ],
   "source": [
    "sumOfRows"
   ]
  },
  {
   "cell_type": "code",
   "execution_count": 6,
   "id": "03cef601",
   "metadata": {},
   "outputs": [
    {
     "data": {
      "text/html": [
       "<div>\n",
       "<style scoped>\n",
       "    .dataframe tbody tr th:only-of-type {\n",
       "        vertical-align: middle;\n",
       "    }\n",
       "\n",
       "    .dataframe tbody tr th {\n",
       "        vertical-align: top;\n",
       "    }\n",
       "\n",
       "    .dataframe thead th {\n",
       "        text-align: right;\n",
       "    }\n",
       "</style>\n",
       "<table border=\"1\" class=\"dataframe\">\n",
       "  <thead>\n",
       "    <tr style=\"text-align: right;\">\n",
       "      <th></th>\n",
       "      <th>ESTADO</th>\n",
       "      <th>MUNICIPIO</th>\n",
       "      <th>ACUSE ESTATAL</th>\n",
       "      <th>APELLIDO PATERNO</th>\n",
       "      <th>APELLIDO MATERNO</th>\n",
       "      <th>NOMBRE (S)</th>\n",
       "      <th>PAQUETE</th>\n",
       "    </tr>\n",
       "  </thead>\n",
       "  <tbody>\n",
       "    <tr>\n",
       "      <th>0</th>\n",
       "      <td>SINALOA</td>\n",
       "      <td>AHOME</td>\n",
       "      <td>23-PROESFE-ESTR-000051-E000-SL</td>\n",
       "      <td>ABOITES</td>\n",
       "      <td>ARMENTA</td>\n",
       "      <td>FRANCISCO</td>\n",
       "      <td>4.0</td>\n",
       "    </tr>\n",
       "    <tr>\n",
       "      <th>1</th>\n",
       "      <td>SINALOA</td>\n",
       "      <td>AHOME</td>\n",
       "      <td>23-PROESFE-ESTR-043733-E000-SL</td>\n",
       "      <td>ABOYTE</td>\n",
       "      <td>RUIZ</td>\n",
       "      <td>ISMAEL</td>\n",
       "      <td>7.0</td>\n",
       "    </tr>\n",
       "    <tr>\n",
       "      <th>2</th>\n",
       "      <td>SINALOA</td>\n",
       "      <td>AHOME</td>\n",
       "      <td>23-PROESFE-ESTR-000052-E000-SL</td>\n",
       "      <td>ABOYTES</td>\n",
       "      <td>ARMENTA</td>\n",
       "      <td>RODOLFO</td>\n",
       "      <td>4.0</td>\n",
       "    </tr>\n",
       "    <tr>\n",
       "      <th>3</th>\n",
       "      <td>SINALOA</td>\n",
       "      <td>AHOME</td>\n",
       "      <td>23-PROESFE-ESTR-030724-E000-SL</td>\n",
       "      <td>ACOSTA</td>\n",
       "      <td>BUELNA</td>\n",
       "      <td>EDGAR</td>\n",
       "      <td>10.0</td>\n",
       "    </tr>\n",
       "    <tr>\n",
       "      <th>4</th>\n",
       "      <td>SINALOA</td>\n",
       "      <td>AHOME</td>\n",
       "      <td>23-PROESFE-ESTR-035928-E000-SL</td>\n",
       "      <td>ACOSTA</td>\n",
       "      <td>BUELNA</td>\n",
       "      <td>GUADALUPE</td>\n",
       "      <td>5.0</td>\n",
       "    </tr>\n",
       "  </tbody>\n",
       "</table>\n",
       "</div>"
      ],
      "text/plain": [
       "    ESTADO MUNICIPIO                   ACUSE ESTATAL APELLIDO PATERNO  \\\n",
       "0  SINALOA     AHOME  23-PROESFE-ESTR-000051-E000-SL          ABOITES   \n",
       "1  SINALOA     AHOME  23-PROESFE-ESTR-043733-E000-SL           ABOYTE   \n",
       "2  SINALOA     AHOME  23-PROESFE-ESTR-000052-E000-SL          ABOYTES   \n",
       "3  SINALOA     AHOME  23-PROESFE-ESTR-030724-E000-SL           ACOSTA   \n",
       "4  SINALOA     AHOME  23-PROESFE-ESTR-035928-E000-SL           ACOSTA   \n",
       "\n",
       "  APELLIDO MATERNO NOMBRE (S)  PAQUETE  \n",
       "0          ARMENTA  FRANCISCO      4.0  \n",
       "1             RUIZ     ISMAEL      7.0  \n",
       "2          ARMENTA    RODOLFO      4.0  \n",
       "3           BUELNA      EDGAR     10.0  \n",
       "4           BUELNA  GUADALUPE      5.0  "
      ]
     },
     "execution_count": 6,
     "metadata": {},
     "output_type": "execute_result"
    }
   ],
   "source": [
    "listado_beneficiarios.head()"
   ]
  },
  {
   "cell_type": "markdown",
   "id": "35eb26bcb3f4f060",
   "metadata": {},
   "source": [
    "# 2. Limpieza de los datos"
   ]
  },
  {
   "cell_type": "markdown",
   "id": "f5c385abb0e2ebea",
   "metadata": {},
   "source": [
    "### 2.1 INEGI"
   ]
  },
  {
   "cell_type": "code",
   "execution_count": 7,
   "id": "bc3d8e451808121b",
   "metadata": {
    "ExecuteTime": {
     "end_time": "2024-05-30T14:01:40.169375Z",
     "start_time": "2024-05-30T14:01:40.161048Z"
    }
   },
   "outputs": [
    {
     "data": {
      "text/plain": [
       "Index(['MAPA', 'Estatus', 'CVE_ENT', 'NOM_ENT', 'NOM_ABR', 'CVE_MUN',\n",
       "       'NOM_MUN', 'CVE_LOC', 'NOM_LOC', 'AMBITO', 'LATITUD', 'LONGITUD',\n",
       "       'LAT_DECIMAL', 'LON_DECIMAL', 'ALTITUD', 'CVE_CARTA', 'POB_TOTAL',\n",
       "       'POB_MASCULINA', 'POB_FEMENINA', 'TOTAL DE VIVIENDAS HABITADAS'],\n",
       "      dtype='object')"
      ]
     },
     "execution_count": 7,
     "metadata": {},
     "output_type": "execute_result"
    }
   ],
   "source": [
    "# Revisamos las columnas del dataset\n",
    "dataset_inegi.columns"
   ]
  },
  {
   "cell_type": "code",
   "execution_count": 8,
   "id": "ac6cf4a705d01ca9",
   "metadata": {
    "ExecuteTime": {
     "end_time": "2024-05-30T14:01:40.209771Z",
     "start_time": "2024-05-30T14:01:40.198605Z"
    }
   },
   "outputs": [],
   "source": [
    "# Eliminamos las columnas que no son de interés\n",
    "COLUMNS_TO_DROP = ['MAPA', 'Estatus', 'NOM_ABR', 'CVE_LOC', 'NOM_LOC', 'AMBITO', 'LATITUD', 'LONGITUD',\n",
    "                   'LAT_DECIMAL', 'LON_DECIMAL', 'ALTITUD', 'CVE_CARTA', 'POB_TOTAL',\n",
    "                   'POB_MASCULINA', 'POB_FEMENINA', 'TOTAL DE VIVIENDAS HABITADAS']\n",
    "dataset_inegi = dataset_inegi.drop(COLUMNS_TO_DROP, axis=1)"
   ]
  },
  {
   "cell_type": "code",
   "execution_count": 9,
   "id": "61b75d87762aaa69",
   "metadata": {
    "ExecuteTime": {
     "end_time": "2024-05-30T14:01:40.222142Z",
     "start_time": "2024-05-30T14:01:40.211783Z"
    }
   },
   "outputs": [
    {
     "data": {
      "text/plain": [
       "CVE_ENT            object\n",
       "Entidad_inegi      object\n",
       "CVE_MUN            object\n",
       "Municipio_inegi    object\n",
       "dtype: object"
      ]
     },
     "execution_count": 9,
     "metadata": {},
     "output_type": "execute_result"
    }
   ],
   "source": [
    "# Renombrar las columnas\n",
    "dataset_inegi.rename(columns={\n",
    "    'CVE_ENT': 'CVE_ENT',\n",
    "    'NOM_ENT': 'Entidad_inegi',\n",
    "    'CVE_MUN': 'CVE_MUN',\n",
    "    'NOM_MUN': 'Municipio_inegi'\n",
    "}, inplace=True)\n",
    "\n",
    "\n",
    "# Las claves de entidad y municipio serán tratadas numéricamente en la limpieza aunque posteriormente se les asignará el tipo de cadena de texto para tener el estándar.\n",
    "dataset_inegi.dtypes"
   ]
  },
  {
   "cell_type": "code",
   "execution_count": 11,
   "id": "8d89a91fdd8ba82b",
   "metadata": {
    "ExecuteTime": {
     "end_time": "2024-05-30T14:01:40.286905Z",
     "start_time": "2024-05-30T14:01:40.226155Z"
    }
   },
   "outputs": [
    {
     "name": "stdout",
     "output_type": "stream",
     "text": [
      "Shape of dataset_inegi:  (299568, 4)\n",
      "Shape of dataset_inegi_uniquemun:  (2476, 4)\n"
     ]
    }
   ],
   "source": [
    "# Revisamos la cantidad de filas y columnas del dataset\n",
    "print(\"Shape of dataset_inegi: \", dataset_inegi.shape)\n",
    "\n",
    "dataset_inegi_uniquemun = dataset_inegi.drop_duplicates()\n",
    "print(\"Shape of dataset_inegi_uniquemun: \", dataset_inegi_uniquemun.shape)"
   ]
  },
  {
   "cell_type": "markdown",
   "id": "5ee1cfeb4a72782c",
   "metadata": {},
   "source": [
    "A partir de aquí seguimos trabajando con el listado de Estados y Municipios limpio de Inegi (sin repetir) \"dataset_inegi_clean\"."
   ]
  },
  {
   "cell_type": "code",
   "execution_count": 12,
   "id": "d824af463f93f62a",
   "metadata": {
    "ExecuteTime": {
     "end_time": "2024-05-30T14:01:40.299354Z",
     "start_time": "2024-05-30T14:01:40.288916Z"
    }
   },
   "outputs": [
    {
     "data": {
      "text/html": [
       "<div>\n",
       "<style scoped>\n",
       "    .dataframe tbody tr th:only-of-type {\n",
       "        vertical-align: middle;\n",
       "    }\n",
       "\n",
       "    .dataframe tbody tr th {\n",
       "        vertical-align: top;\n",
       "    }\n",
       "\n",
       "    .dataframe thead th {\n",
       "        text-align: right;\n",
       "    }\n",
       "</style>\n",
       "<table border=\"1\" class=\"dataframe\">\n",
       "  <thead>\n",
       "    <tr style=\"text-align: right;\">\n",
       "      <th></th>\n",
       "      <th>CVE_ENT</th>\n",
       "      <th>Entidad_inegi</th>\n",
       "      <th>CVE_MUN</th>\n",
       "      <th>Municipio_inegi</th>\n",
       "    </tr>\n",
       "  </thead>\n",
       "  <tbody>\n",
       "    <tr>\n",
       "      <th>0</th>\n",
       "      <td>01</td>\n",
       "      <td>Aguascalientes</td>\n",
       "      <td>001</td>\n",
       "      <td>Aguascalientes</td>\n",
       "    </tr>\n",
       "    <tr>\n",
       "      <th>708</th>\n",
       "      <td>01</td>\n",
       "      <td>Aguascalientes</td>\n",
       "      <td>002</td>\n",
       "      <td>Asientos</td>\n",
       "    </tr>\n",
       "    <tr>\n",
       "      <th>945</th>\n",
       "      <td>01</td>\n",
       "      <td>Aguascalientes</td>\n",
       "      <td>003</td>\n",
       "      <td>Calvillo</td>\n",
       "    </tr>\n",
       "    <tr>\n",
       "      <th>1237</th>\n",
       "      <td>01</td>\n",
       "      <td>Aguascalientes</td>\n",
       "      <td>004</td>\n",
       "      <td>Cosío</td>\n",
       "    </tr>\n",
       "    <tr>\n",
       "      <th>1330</th>\n",
       "      <td>01</td>\n",
       "      <td>Aguascalientes</td>\n",
       "      <td>005</td>\n",
       "      <td>Jesús María</td>\n",
       "    </tr>\n",
       "  </tbody>\n",
       "</table>\n",
       "</div>"
      ],
      "text/plain": [
       "     CVE_ENT   Entidad_inegi CVE_MUN Municipio_inegi\n",
       "0         01  Aguascalientes     001  Aguascalientes\n",
       "708       01  Aguascalientes     002        Asientos\n",
       "945       01  Aguascalientes     003        Calvillo\n",
       "1237      01  Aguascalientes     004           Cosío\n",
       "1330      01  Aguascalientes     005     Jesús María"
      ]
     },
     "execution_count": 12,
     "metadata": {},
     "output_type": "execute_result"
    }
   ],
   "source": [
    "# Revisamos las primeras filas del dataset con las columnas seleccionadas\n",
    "dataset_inegi_uniquemun.head()"
   ]
  },
  {
   "cell_type": "code",
   "execution_count": 13,
   "id": "2699470a43525bbb",
   "metadata": {
    "ExecuteTime": {
     "end_time": "2024-05-30T14:01:40.320927Z",
     "start_time": "2024-05-30T14:01:40.309949Z"
    }
   },
   "outputs": [
    {
     "name": "stdout",
     "output_type": "stream",
     "text": [
      "<class 'pandas.core.frame.DataFrame'>\n",
      "Index: 2476 entries, 0 to 299526\n",
      "Data columns (total 4 columns):\n",
      " #   Column           Non-Null Count  Dtype \n",
      "---  ------           --------------  ----- \n",
      " 0   CVE_ENT          2476 non-null   object\n",
      " 1   Entidad_inegi    2476 non-null   object\n",
      " 2   CVE_MUN          2476 non-null   object\n",
      " 3   Municipio_inegi  2476 non-null   object\n",
      "dtypes: object(4)\n",
      "memory usage: 96.7+ KB\n"
     ]
    }
   ],
   "source": [
    "dataset_inegi_uniquemun.info()"
   ]
  },
  {
   "cell_type": "code",
   "execution_count": 14,
   "id": "71c209b05bf35c7e",
   "metadata": {
    "ExecuteTime": {
     "end_time": "2024-05-30T14:01:40.330064Z",
     "start_time": "2024-05-30T14:01:40.321936Z"
    }
   },
   "outputs": [
    {
     "name": "stdout",
     "output_type": "stream",
     "text": [
      "Los valores únicos en cada columna son:\n",
      " CVE_ENT              32\n",
      "Entidad_inegi        32\n",
      "CVE_MUN             570\n",
      "Municipio_inegi    2332\n",
      "dtype: int64\n"
     ]
    }
   ],
   "source": [
    "print(\"Los valores únicos en cada columna son:\\n\", dataset_inegi_uniquemun.nunique())"
   ]
  },
  {
   "cell_type": "markdown",
   "id": "aef4017a546db04a",
   "metadata": {},
   "source": [
    "#### 2.1.1 Estandarización de nombre de municipios\n",
    "\n",
    "Con el fin de poder hacer un merge bajo los mismos nombres, hacemos una limpieza de los datos."
   ]
  },
  {
   "cell_type": "code",
   "execution_count": 15,
   "id": "cec148c18a669995",
   "metadata": {
    "ExecuteTime": {
     "end_time": "2024-05-30T14:01:40.381500Z",
     "start_time": "2024-05-30T14:01:40.352997Z"
    }
   },
   "outputs": [
    {
     "name": "stderr",
     "output_type": "stream",
     "text": [
      "/var/folders/lr/s5n5xs912wb6j0x5kb_y8br00000gn/T/ipykernel_29731/4159994235.py:2: SettingWithCopyWarning: \n",
      "A value is trying to be set on a copy of a slice from a DataFrame.\n",
      "Try using .loc[row_indexer,col_indexer] = value instead\n",
      "\n",
      "See the caveats in the documentation: https://pandas.pydata.org/pandas-docs/stable/user_guide/indexing.html#returning-a-view-versus-a-copy\n",
      "  dataset_inegi_uniquemun['Entidad_c_inegi'] = dataset_inegi_uniquemun['Entidad_inegi'].apply(clean_text)\n",
      "/var/folders/lr/s5n5xs912wb6j0x5kb_y8br00000gn/T/ipykernel_29731/4159994235.py:3: SettingWithCopyWarning: \n",
      "A value is trying to be set on a copy of a slice from a DataFrame.\n",
      "Try using .loc[row_indexer,col_indexer] = value instead\n",
      "\n",
      "See the caveats in the documentation: https://pandas.pydata.org/pandas-docs/stable/user_guide/indexing.html#returning-a-view-versus-a-copy\n",
      "  dataset_inegi_uniquemun['Municipio_c_inegi'] = dataset_inegi_uniquemun['Municipio_inegi'].apply(clean_text)\n"
     ]
    }
   ],
   "source": [
    "# Estandarizamos la limpieza de los datos\n",
    "dataset_inegi_uniquemun['Entidad_c_inegi'] = dataset_inegi_uniquemun['Entidad_inegi'].apply(clean_text)\n",
    "dataset_inegi_uniquemun['Municipio_c_inegi'] = dataset_inegi_uniquemun['Municipio_inegi'].apply(clean_text)"
   ]
  },
  {
   "cell_type": "code",
   "execution_count": 16,
   "id": "1af2e236df4d4847",
   "metadata": {
    "ExecuteTime": {
     "end_time": "2024-05-30T14:01:40.341472Z",
     "start_time": "2024-05-30T14:01:40.331071Z"
    }
   },
   "outputs": [
    {
     "name": "stderr",
     "output_type": "stream",
     "text": [
      "/var/folders/lr/s5n5xs912wb6j0x5kb_y8br00000gn/T/ipykernel_29731/2100087808.py:3: SettingWithCopyWarning: \n",
      "A value is trying to be set on a copy of a slice from a DataFrame.\n",
      "Try using .loc[row_indexer,col_indexer] = value instead\n",
      "\n",
      "See the caveats in the documentation: https://pandas.pydata.org/pandas-docs/stable/user_guide/indexing.html#returning-a-view-versus-a-copy\n",
      "  dataset_inegi_uniquemun['KEY_inegi'] = dataset_inegi_uniquemun['Entidad_c_inegi'].astype(str) + '-' + dataset_inegi_uniquemun[\n"
     ]
    },
    {
     "data": {
      "text/html": [
       "<div>\n",
       "<style scoped>\n",
       "    .dataframe tbody tr th:only-of-type {\n",
       "        vertical-align: middle;\n",
       "    }\n",
       "\n",
       "    .dataframe tbody tr th {\n",
       "        vertical-align: top;\n",
       "    }\n",
       "\n",
       "    .dataframe thead th {\n",
       "        text-align: right;\n",
       "    }\n",
       "</style>\n",
       "<table border=\"1\" class=\"dataframe\">\n",
       "  <thead>\n",
       "    <tr style=\"text-align: right;\">\n",
       "      <th></th>\n",
       "      <th>CVE_ENT</th>\n",
       "      <th>Entidad_inegi</th>\n",
       "      <th>CVE_MUN</th>\n",
       "      <th>Municipio_inegi</th>\n",
       "      <th>Entidad_c_inegi</th>\n",
       "      <th>Municipio_c_inegi</th>\n",
       "      <th>KEY_inegi</th>\n",
       "    </tr>\n",
       "  </thead>\n",
       "  <tbody>\n",
       "    <tr>\n",
       "      <th>0</th>\n",
       "      <td>01</td>\n",
       "      <td>Aguascalientes</td>\n",
       "      <td>001</td>\n",
       "      <td>Aguascalientes</td>\n",
       "      <td>aguascalientes</td>\n",
       "      <td>aguascalientes</td>\n",
       "      <td>aguascalientes-aguascalientes</td>\n",
       "    </tr>\n",
       "    <tr>\n",
       "      <th>708</th>\n",
       "      <td>01</td>\n",
       "      <td>Aguascalientes</td>\n",
       "      <td>002</td>\n",
       "      <td>Asientos</td>\n",
       "      <td>aguascalientes</td>\n",
       "      <td>asientos</td>\n",
       "      <td>aguascalientes-asientos</td>\n",
       "    </tr>\n",
       "    <tr>\n",
       "      <th>945</th>\n",
       "      <td>01</td>\n",
       "      <td>Aguascalientes</td>\n",
       "      <td>003</td>\n",
       "      <td>Calvillo</td>\n",
       "      <td>aguascalientes</td>\n",
       "      <td>calvillo</td>\n",
       "      <td>aguascalientes-calvillo</td>\n",
       "    </tr>\n",
       "    <tr>\n",
       "      <th>1237</th>\n",
       "      <td>01</td>\n",
       "      <td>Aguascalientes</td>\n",
       "      <td>004</td>\n",
       "      <td>Cosío</td>\n",
       "      <td>aguascalientes</td>\n",
       "      <td>cosio</td>\n",
       "      <td>aguascalientes-cosio</td>\n",
       "    </tr>\n",
       "    <tr>\n",
       "      <th>1330</th>\n",
       "      <td>01</td>\n",
       "      <td>Aguascalientes</td>\n",
       "      <td>005</td>\n",
       "      <td>Jesús María</td>\n",
       "      <td>aguascalientes</td>\n",
       "      <td>jesus maria</td>\n",
       "      <td>aguascalientes-jesus maria</td>\n",
       "    </tr>\n",
       "  </tbody>\n",
       "</table>\n",
       "</div>"
      ],
      "text/plain": [
       "     CVE_ENT   Entidad_inegi CVE_MUN Municipio_inegi Entidad_c_inegi  \\\n",
       "0         01  Aguascalientes     001  Aguascalientes  aguascalientes   \n",
       "708       01  Aguascalientes     002        Asientos  aguascalientes   \n",
       "945       01  Aguascalientes     003        Calvillo  aguascalientes   \n",
       "1237      01  Aguascalientes     004           Cosío  aguascalientes   \n",
       "1330      01  Aguascalientes     005     Jesús María  aguascalientes   \n",
       "\n",
       "     Municipio_c_inegi                      KEY_inegi  \n",
       "0       aguascalientes  aguascalientes-aguascalientes  \n",
       "708           asientos        aguascalientes-asientos  \n",
       "945           calvillo        aguascalientes-calvillo  \n",
       "1237             cosio           aguascalientes-cosio  \n",
       "1330       jesus maria     aguascalientes-jesus maria  "
      ]
     },
     "execution_count": 16,
     "metadata": {},
     "output_type": "execute_result"
    }
   ],
   "source": [
    "# Creamos una columna con la clave única por municipio\n",
    "\n",
    "dataset_inegi_uniquemun['KEY_inegi'] = dataset_inegi_uniquemun['Entidad_c_inegi'].astype(str) + '-' + dataset_inegi_uniquemun[\n",
    "    'Municipio_c_inegi'].astype(str)\n",
    "\n",
    "dataset_inegi_uniquemun.head()"
   ]
  },
  {
   "cell_type": "code",
   "execution_count": 17,
   "id": "29f31a32",
   "metadata": {},
   "outputs": [
    {
     "data": {
      "text/html": [
       "<div>\n",
       "<style scoped>\n",
       "    .dataframe tbody tr th:only-of-type {\n",
       "        vertical-align: middle;\n",
       "    }\n",
       "\n",
       "    .dataframe tbody tr th {\n",
       "        vertical-align: top;\n",
       "    }\n",
       "\n",
       "    .dataframe thead th {\n",
       "        text-align: right;\n",
       "    }\n",
       "</style>\n",
       "<table border=\"1\" class=\"dataframe\">\n",
       "  <thead>\n",
       "    <tr style=\"text-align: right;\">\n",
       "      <th></th>\n",
       "      <th>CVE_ENT</th>\n",
       "      <th>Entidad_inegi</th>\n",
       "      <th>CVE_MUN</th>\n",
       "      <th>Municipio_inegi</th>\n",
       "      <th>Entidad_c_inegi</th>\n",
       "      <th>Municipio_c_inegi</th>\n",
       "      <th>KEY_inegi</th>\n",
       "    </tr>\n",
       "  </thead>\n",
       "  <tbody>\n",
       "    <tr>\n",
       "      <th>299150</th>\n",
       "      <td>32</td>\n",
       "      <td>Zacatecas</td>\n",
       "      <td>054</td>\n",
       "      <td>Villa Hidalgo</td>\n",
       "      <td>zacatecas</td>\n",
       "      <td>villa hidalgo</td>\n",
       "      <td>zacatecas-villa hidalgo</td>\n",
       "    </tr>\n",
       "    <tr>\n",
       "      <th>299211</th>\n",
       "      <td>32</td>\n",
       "      <td>Zacatecas</td>\n",
       "      <td>055</td>\n",
       "      <td>Villanueva</td>\n",
       "      <td>zacatecas</td>\n",
       "      <td>villanueva</td>\n",
       "      <td>zacatecas-villanueva</td>\n",
       "    </tr>\n",
       "    <tr>\n",
       "      <th>299363</th>\n",
       "      <td>32</td>\n",
       "      <td>Zacatecas</td>\n",
       "      <td>056</td>\n",
       "      <td>Zacatecas</td>\n",
       "      <td>zacatecas</td>\n",
       "      <td>zacatecas</td>\n",
       "      <td>zacatecas-zacatecas</td>\n",
       "    </tr>\n",
       "    <tr>\n",
       "      <th>299484</th>\n",
       "      <td>32</td>\n",
       "      <td>Zacatecas</td>\n",
       "      <td>057</td>\n",
       "      <td>Trancoso</td>\n",
       "      <td>zacatecas</td>\n",
       "      <td>trancoso</td>\n",
       "      <td>zacatecas-trancoso</td>\n",
       "    </tr>\n",
       "    <tr>\n",
       "      <th>299526</th>\n",
       "      <td>32</td>\n",
       "      <td>Zacatecas</td>\n",
       "      <td>058</td>\n",
       "      <td>Santa María de la Paz</td>\n",
       "      <td>zacatecas</td>\n",
       "      <td>santa maria de la paz</td>\n",
       "      <td>zacatecas-santa maria de la paz</td>\n",
       "    </tr>\n",
       "  </tbody>\n",
       "</table>\n",
       "</div>"
      ],
      "text/plain": [
       "       CVE_ENT Entidad_inegi CVE_MUN        Municipio_inegi Entidad_c_inegi  \\\n",
       "299150      32     Zacatecas     054          Villa Hidalgo       zacatecas   \n",
       "299211      32     Zacatecas     055             Villanueva       zacatecas   \n",
       "299363      32     Zacatecas     056              Zacatecas       zacatecas   \n",
       "299484      32     Zacatecas     057               Trancoso       zacatecas   \n",
       "299526      32     Zacatecas     058  Santa María de la Paz       zacatecas   \n",
       "\n",
       "            Municipio_c_inegi                        KEY_inegi  \n",
       "299150          villa hidalgo          zacatecas-villa hidalgo  \n",
       "299211             villanueva             zacatecas-villanueva  \n",
       "299363              zacatecas              zacatecas-zacatecas  \n",
       "299484               trancoso               zacatecas-trancoso  \n",
       "299526  santa maria de la paz  zacatecas-santa maria de la paz  "
      ]
     },
     "execution_count": 17,
     "metadata": {},
     "output_type": "execute_result"
    }
   ],
   "source": [
    "dataset_inegi_uniquemun.tail()"
   ]
  },
  {
   "cell_type": "markdown",
   "id": "c1c7ea2410869cec",
   "metadata": {},
   "source": [
    "## 2.2 Beneficiarios 2023"
   ]
  },
  {
   "cell_type": "markdown",
   "id": "1558ba7e",
   "metadata": {},
   "source": [
    "### Creación de Estados_Beneficiarios2023\n",
    "Este dataset es una versión de Beneficiarios2023 pero más ligera y sin repeticiones."
   ]
  },
  {
   "cell_type": "code",
   "execution_count": 19,
   "id": "9c646052",
   "metadata": {},
   "outputs": [
    {
     "data": {
      "text/plain": [
       "ESTADO               object\n",
       "MUNICIPIO            object\n",
       "ACUSE ESTATAL        object\n",
       "APELLIDO PATERNO     object\n",
       "APELLIDO MATERNO     object\n",
       "NOMBRE (S)           object\n",
       "PAQUETE             float64\n",
       "dtype: object"
      ]
     },
     "execution_count": 19,
     "metadata": {},
     "output_type": "execute_result"
    }
   ],
   "source": [
    "listado_beneficiarios.dtypes"
   ]
  },
  {
   "cell_type": "code",
   "execution_count": 20,
   "id": "649e28f4",
   "metadata": {},
   "outputs": [
    {
     "name": "stdout",
     "output_type": "stream",
     "text": [
      "                      count   unique                             top    freq  \\\n",
      "ESTADO              1680105       30                        GUERRERO  331097   \n",
      "MUNICIPIO           1680105     2237                  LAS MARGARITAS   18041   \n",
      "ACUSE ESTATAL       1680105  1680105  23-PROESFE-ESTR-000051-E000-SL       1   \n",
      "APELLIDO PATERNO    1680104    14995                       HERNANDEZ   77418   \n",
      "APELLIDO MATERNO    1653877    17604                       HERNANDEZ   76953   \n",
      "NOMBRE (S)          1680105   124628                            JUAN   26798   \n",
      "PAQUETE           1680097.0      NaN                             NaN     NaN   \n",
      "\n",
      "                      mean       std  min  25%  50%  75%   max  \n",
      "ESTADO                 NaN       NaN  NaN  NaN  NaN  NaN   NaN  \n",
      "MUNICIPIO              NaN       NaN  NaN  NaN  NaN  NaN   NaN  \n",
      "ACUSE ESTATAL          NaN       NaN  NaN  NaN  NaN  NaN   NaN  \n",
      "APELLIDO PATERNO       NaN       NaN  NaN  NaN  NaN  NaN   NaN  \n",
      "APELLIDO MATERNO       NaN       NaN  NaN  NaN  NaN  NaN   NaN  \n",
      "NOMBRE (S)             NaN       NaN  NaN  NaN  NaN  NaN   NaN  \n",
      "PAQUETE           1.633161  0.993369  1.0  1.0  2.0  2.0  10.0  \n"
     ]
    }
   ],
   "source": [
    "descriptive_stats = listado_beneficiarios.describe(include='all').transpose()\n",
    "\n",
    "# Mostrar las estadísticas descriptivas\n",
    "print(descriptive_stats)"
   ]
  },
  {
   "cell_type": "code",
   "execution_count": 23,
   "id": "fd241fe2",
   "metadata": {},
   "outputs": [
    {
     "data": {
      "text/plain": [
       "ESTADO                  0\n",
       "MUNICIPIO               0\n",
       "ACUSE ESTATAL           0\n",
       "APELLIDO PATERNO        1\n",
       "APELLIDO MATERNO    26228\n",
       "NOMBRE (S)              0\n",
       "PAQUETE                 8\n",
       "dtype: int64"
      ]
     },
     "execution_count": 23,
     "metadata": {},
     "output_type": "execute_result"
    }
   ],
   "source": [
    "listado_beneficiarios.isna().sum()"
   ]
  },
  {
   "cell_type": "code",
   "execution_count": 25,
   "id": "a34b9233",
   "metadata": {},
   "outputs": [
    {
     "data": {
      "text/html": [
       "<div>\n",
       "<style scoped>\n",
       "    .dataframe tbody tr th:only-of-type {\n",
       "        vertical-align: middle;\n",
       "    }\n",
       "\n",
       "    .dataframe tbody tr th {\n",
       "        vertical-align: top;\n",
       "    }\n",
       "\n",
       "    .dataframe thead th {\n",
       "        text-align: right;\n",
       "    }\n",
       "</style>\n",
       "<table border=\"1\" class=\"dataframe\">\n",
       "  <thead>\n",
       "    <tr style=\"text-align: right;\">\n",
       "      <th></th>\n",
       "      <th>ESTADO</th>\n",
       "      <th>MUNICIPIO</th>\n",
       "      <th>ACUSE ESTATAL</th>\n",
       "      <th>APELLIDO PATERNO</th>\n",
       "      <th>APELLIDO MATERNO</th>\n",
       "      <th>NOMBRE (S)</th>\n",
       "      <th>PAQUETE</th>\n",
       "    </tr>\n",
       "  </thead>\n",
       "  <tbody>\n",
       "    <tr>\n",
       "      <th>0</th>\n",
       "      <td>SINALOA</td>\n",
       "      <td>AHOME</td>\n",
       "      <td>23-PROESFE-ESTR-000051-E000-SL</td>\n",
       "      <td>ABOITES</td>\n",
       "      <td>ARMENTA</td>\n",
       "      <td>FRANCISCO</td>\n",
       "      <td>4.0</td>\n",
       "    </tr>\n",
       "    <tr>\n",
       "      <th>1</th>\n",
       "      <td>SINALOA</td>\n",
       "      <td>AHOME</td>\n",
       "      <td>23-PROESFE-ESTR-043733-E000-SL</td>\n",
       "      <td>ABOYTE</td>\n",
       "      <td>RUIZ</td>\n",
       "      <td>ISMAEL</td>\n",
       "      <td>7.0</td>\n",
       "    </tr>\n",
       "    <tr>\n",
       "      <th>2</th>\n",
       "      <td>SINALOA</td>\n",
       "      <td>AHOME</td>\n",
       "      <td>23-PROESFE-ESTR-000052-E000-SL</td>\n",
       "      <td>ABOYTES</td>\n",
       "      <td>ARMENTA</td>\n",
       "      <td>RODOLFO</td>\n",
       "      <td>4.0</td>\n",
       "    </tr>\n",
       "    <tr>\n",
       "      <th>3</th>\n",
       "      <td>SINALOA</td>\n",
       "      <td>AHOME</td>\n",
       "      <td>23-PROESFE-ESTR-030724-E000-SL</td>\n",
       "      <td>ACOSTA</td>\n",
       "      <td>BUELNA</td>\n",
       "      <td>EDGAR</td>\n",
       "      <td>10.0</td>\n",
       "    </tr>\n",
       "    <tr>\n",
       "      <th>4</th>\n",
       "      <td>SINALOA</td>\n",
       "      <td>AHOME</td>\n",
       "      <td>23-PROESFE-ESTR-035928-E000-SL</td>\n",
       "      <td>ACOSTA</td>\n",
       "      <td>BUELNA</td>\n",
       "      <td>GUADALUPE</td>\n",
       "      <td>5.0</td>\n",
       "    </tr>\n",
       "  </tbody>\n",
       "</table>\n",
       "</div>"
      ],
      "text/plain": [
       "    ESTADO MUNICIPIO                   ACUSE ESTATAL APELLIDO PATERNO  \\\n",
       "0  SINALOA     AHOME  23-PROESFE-ESTR-000051-E000-SL          ABOITES   \n",
       "1  SINALOA     AHOME  23-PROESFE-ESTR-043733-E000-SL           ABOYTE   \n",
       "2  SINALOA     AHOME  23-PROESFE-ESTR-000052-E000-SL          ABOYTES   \n",
       "3  SINALOA     AHOME  23-PROESFE-ESTR-030724-E000-SL           ACOSTA   \n",
       "4  SINALOA     AHOME  23-PROESFE-ESTR-035928-E000-SL           ACOSTA   \n",
       "\n",
       "  APELLIDO MATERNO NOMBRE (S)  PAQUETE  \n",
       "0          ARMENTA  FRANCISCO      4.0  \n",
       "1             RUIZ     ISMAEL      7.0  \n",
       "2          ARMENTA    RODOLFO      4.0  \n",
       "3           BUELNA      EDGAR     10.0  \n",
       "4           BUELNA  GUADALUPE      5.0  "
      ]
     },
     "execution_count": 25,
     "metadata": {},
     "output_type": "execute_result"
    }
   ],
   "source": [
    "listado_beneficiarios.head()"
   ]
  },
  {
   "cell_type": "code",
   "execution_count": 27,
   "id": "001e5b4d",
   "metadata": {},
   "outputs": [],
   "source": [
    "Estados_beneficiarios2023 = listado_beneficiarios[['ESTADO', 'MUNICIPIO']]"
   ]
  },
  {
   "cell_type": "code",
   "execution_count": 28,
   "id": "33a9e34f",
   "metadata": {},
   "outputs": [
    {
     "name": "stderr",
     "output_type": "stream",
     "text": [
      "/var/folders/lr/s5n5xs912wb6j0x5kb_y8br00000gn/T/ipykernel_29731/4050903399.py:2: SettingWithCopyWarning: \n",
      "A value is trying to be set on a copy of a slice from a DataFrame.\n",
      "Try using .loc[row_indexer,col_indexer] = value instead\n",
      "\n",
      "See the caveats in the documentation: https://pandas.pydata.org/pandas-docs/stable/user_guide/indexing.html#returning-a-view-versus-a-copy\n",
      "  Estados_beneficiarios2023['ESTADO_c_benef'] = Estados_beneficiarios2023['ESTADO'].apply(clean_text)\n",
      "/var/folders/lr/s5n5xs912wb6j0x5kb_y8br00000gn/T/ipykernel_29731/4050903399.py:3: SettingWithCopyWarning: \n",
      "A value is trying to be set on a copy of a slice from a DataFrame.\n",
      "Try using .loc[row_indexer,col_indexer] = value instead\n",
      "\n",
      "See the caveats in the documentation: https://pandas.pydata.org/pandas-docs/stable/user_guide/indexing.html#returning-a-view-versus-a-copy\n",
      "  Estados_beneficiarios2023['MUNICIPIO_c_benef'] = Estados_beneficiarios2023['MUNICIPIO'].apply(clean_text)\n"
     ]
    }
   ],
   "source": [
    "# Estandarizamos la limpieza de los datos\n",
    "Estados_beneficiarios2023['ESTADO_c_benef'] = Estados_beneficiarios2023['ESTADO'].apply(clean_text)\n",
    "Estados_beneficiarios2023['MUNICIPIO_c_benef'] = Estados_beneficiarios2023['MUNICIPIO'].apply(clean_text)"
   ]
  },
  {
   "cell_type": "code",
   "execution_count": 29,
   "id": "17ef23d4",
   "metadata": {},
   "outputs": [
    {
     "data": {
      "text/html": [
       "<div>\n",
       "<style scoped>\n",
       "    .dataframe tbody tr th:only-of-type {\n",
       "        vertical-align: middle;\n",
       "    }\n",
       "\n",
       "    .dataframe tbody tr th {\n",
       "        vertical-align: top;\n",
       "    }\n",
       "\n",
       "    .dataframe thead th {\n",
       "        text-align: right;\n",
       "    }\n",
       "</style>\n",
       "<table border=\"1\" class=\"dataframe\">\n",
       "  <thead>\n",
       "    <tr style=\"text-align: right;\">\n",
       "      <th></th>\n",
       "      <th>ESTADO</th>\n",
       "      <th>MUNICIPIO</th>\n",
       "      <th>ESTADO_c_benef</th>\n",
       "      <th>MUNICIPIO_c_benef</th>\n",
       "    </tr>\n",
       "  </thead>\n",
       "  <tbody>\n",
       "    <tr>\n",
       "      <th>0</th>\n",
       "      <td>SINALOA</td>\n",
       "      <td>AHOME</td>\n",
       "      <td>sinaloa</td>\n",
       "      <td>ahome</td>\n",
       "    </tr>\n",
       "    <tr>\n",
       "      <th>1</th>\n",
       "      <td>SINALOA</td>\n",
       "      <td>AHOME</td>\n",
       "      <td>sinaloa</td>\n",
       "      <td>ahome</td>\n",
       "    </tr>\n",
       "    <tr>\n",
       "      <th>2</th>\n",
       "      <td>SINALOA</td>\n",
       "      <td>AHOME</td>\n",
       "      <td>sinaloa</td>\n",
       "      <td>ahome</td>\n",
       "    </tr>\n",
       "    <tr>\n",
       "      <th>3</th>\n",
       "      <td>SINALOA</td>\n",
       "      <td>AHOME</td>\n",
       "      <td>sinaloa</td>\n",
       "      <td>ahome</td>\n",
       "    </tr>\n",
       "    <tr>\n",
       "      <th>4</th>\n",
       "      <td>SINALOA</td>\n",
       "      <td>AHOME</td>\n",
       "      <td>sinaloa</td>\n",
       "      <td>ahome</td>\n",
       "    </tr>\n",
       "  </tbody>\n",
       "</table>\n",
       "</div>"
      ],
      "text/plain": [
       "    ESTADO MUNICIPIO ESTADO_c_benef MUNICIPIO_c_benef\n",
       "0  SINALOA     AHOME        sinaloa             ahome\n",
       "1  SINALOA     AHOME        sinaloa             ahome\n",
       "2  SINALOA     AHOME        sinaloa             ahome\n",
       "3  SINALOA     AHOME        sinaloa             ahome\n",
       "4  SINALOA     AHOME        sinaloa             ahome"
      ]
     },
     "execution_count": 29,
     "metadata": {},
     "output_type": "execute_result"
    }
   ],
   "source": [
    "Estados_beneficiarios2023.head()"
   ]
  },
  {
   "cell_type": "code",
   "execution_count": 31,
   "id": "5407ac1e",
   "metadata": {},
   "outputs": [
    {
     "name": "stderr",
     "output_type": "stream",
     "text": [
      "/var/folders/lr/s5n5xs912wb6j0x5kb_y8br00000gn/T/ipykernel_29731/4066468156.py:1: SettingWithCopyWarning: \n",
      "A value is trying to be set on a copy of a slice from a DataFrame.\n",
      "Try using .loc[row_indexer,col_indexer] = value instead\n",
      "\n",
      "See the caveats in the documentation: https://pandas.pydata.org/pandas-docs/stable/user_guide/indexing.html#returning-a-view-versus-a-copy\n",
      "  Estados_beneficiarios2023['KEY_benef'] = Estados_beneficiarios2023['ESTADO_c_benef'].astype(str) + '-' + Estados_beneficiarios2023[\n"
     ]
    },
    {
     "data": {
      "text/html": [
       "<div>\n",
       "<style scoped>\n",
       "    .dataframe tbody tr th:only-of-type {\n",
       "        vertical-align: middle;\n",
       "    }\n",
       "\n",
       "    .dataframe tbody tr th {\n",
       "        vertical-align: top;\n",
       "    }\n",
       "\n",
       "    .dataframe thead th {\n",
       "        text-align: right;\n",
       "    }\n",
       "</style>\n",
       "<table border=\"1\" class=\"dataframe\">\n",
       "  <thead>\n",
       "    <tr style=\"text-align: right;\">\n",
       "      <th></th>\n",
       "      <th>ESTADO</th>\n",
       "      <th>MUNICIPIO</th>\n",
       "      <th>ESTADO_c_benef</th>\n",
       "      <th>MUNICIPIO_c_benef</th>\n",
       "      <th>KEY_benef</th>\n",
       "    </tr>\n",
       "  </thead>\n",
       "  <tbody>\n",
       "    <tr>\n",
       "      <th>0</th>\n",
       "      <td>SINALOA</td>\n",
       "      <td>AHOME</td>\n",
       "      <td>sinaloa</td>\n",
       "      <td>ahome</td>\n",
       "      <td>sinaloa-ahome</td>\n",
       "    </tr>\n",
       "    <tr>\n",
       "      <th>1</th>\n",
       "      <td>SINALOA</td>\n",
       "      <td>AHOME</td>\n",
       "      <td>sinaloa</td>\n",
       "      <td>ahome</td>\n",
       "      <td>sinaloa-ahome</td>\n",
       "    </tr>\n",
       "    <tr>\n",
       "      <th>2</th>\n",
       "      <td>SINALOA</td>\n",
       "      <td>AHOME</td>\n",
       "      <td>sinaloa</td>\n",
       "      <td>ahome</td>\n",
       "      <td>sinaloa-ahome</td>\n",
       "    </tr>\n",
       "    <tr>\n",
       "      <th>3</th>\n",
       "      <td>SINALOA</td>\n",
       "      <td>AHOME</td>\n",
       "      <td>sinaloa</td>\n",
       "      <td>ahome</td>\n",
       "      <td>sinaloa-ahome</td>\n",
       "    </tr>\n",
       "    <tr>\n",
       "      <th>4</th>\n",
       "      <td>SINALOA</td>\n",
       "      <td>AHOME</td>\n",
       "      <td>sinaloa</td>\n",
       "      <td>ahome</td>\n",
       "      <td>sinaloa-ahome</td>\n",
       "    </tr>\n",
       "  </tbody>\n",
       "</table>\n",
       "</div>"
      ],
      "text/plain": [
       "    ESTADO MUNICIPIO ESTADO_c_benef MUNICIPIO_c_benef      KEY_benef\n",
       "0  SINALOA     AHOME        sinaloa             ahome  sinaloa-ahome\n",
       "1  SINALOA     AHOME        sinaloa             ahome  sinaloa-ahome\n",
       "2  SINALOA     AHOME        sinaloa             ahome  sinaloa-ahome\n",
       "3  SINALOA     AHOME        sinaloa             ahome  sinaloa-ahome\n",
       "4  SINALOA     AHOME        sinaloa             ahome  sinaloa-ahome"
      ]
     },
     "execution_count": 31,
     "metadata": {},
     "output_type": "execute_result"
    }
   ],
   "source": [
    "Estados_beneficiarios2023['KEY_benef'] = Estados_beneficiarios2023['ESTADO_c_benef'].astype(str) + '-' + Estados_beneficiarios2023[\n",
    "    'MUNICIPIO_c_benef'].astype(str)\n",
    "\n",
    "Estados_beneficiarios2023.head()"
   ]
  },
  {
   "cell_type": "code",
   "execution_count": null,
   "id": "eba1c8548f6a16da",
   "metadata": {
    "ExecuteTime": {
     "end_time": "2024-05-30T14:01:40.725863Z",
     "start_time": "2024-05-30T14:01:40.615616Z"
    }
   },
   "outputs": [],
   "source": [
    "# Valores únicos y la cantidad de cada columna\n",
    "# Obtener estadísticas descriptivas para todas las variables\n",
    "\n",
    "descriptive_stats = Estados_beneficiarios.describe(include='all').transpose()\n",
    "\n",
    "# Mostrar las estadísticas descriptivas\n",
    "print(descriptive_stats)"
   ]
  },
  {
   "cell_type": "markdown",
   "id": "daa9f974cc33efa1",
   "metadata": {},
   "source": [
    "# 3. Diccionario de los datasets de INEGI Y LISTADO BENEFICIARIOS 2023\n",
    "\n",
    "El objetivo de esta sección es crear un diccionario de códigos según INEGI para los municipios Listado_beneficiarios2023. Para ello haremos un Left join entre Estados_Beneficiarios2023 y dataset_inegi_clean."
   ]
  },
  {
   "cell_type": "markdown",
   "id": "ce912939",
   "metadata": {},
   "source": [
    "### 3.1 Creamos las columnas clave"
   ]
  },
  {
   "cell_type": "markdown",
   "id": "1aac072a",
   "metadata": {},
   "source": [
    "Crearemos las columnas clave concatenando [Estado_limpio]-[Municipio_limpio] en **ambos datasets**"
   ]
  },
  {
   "cell_type": "code",
   "execution_count": null,
   "id": "fd948d1e",
   "metadata": {},
   "outputs": [],
   "source": [
    "# INEGI\n",
    "dataset_inegi_clean[\"NOM_ENT_Clean\"] = dataset_inegi_clean[\"NOM_ENT_Clean\"].astype(str)\n",
    "dataset_inegi_clean[\"NOM_MUN_Clean\"] = dataset_inegi_clean[\"NOM_MUN_Clean\"].astype(str)\n",
    "\n",
    "dataset_inegi_clean[\"KEY_inegi\"] = dataset_inegi_clean[\"NOM_ENT_Clean\"] + \"-\" + dataset_inegi_clean[\"NOM_MUN_Clean\"]"
   ]
  },
  {
   "cell_type": "code",
   "execution_count": null,
   "id": "8df123fe",
   "metadata": {},
   "outputs": [],
   "source": [
    "Estados_beneficiarios[\"ESTADO_Clean\"] = Estados_beneficiarios[\"ESTADO_Clean\"].astype(str)\n",
    "Estados_beneficiarios[\"MUNICIPIO_Clean\"] = Estados_beneficiarios[\"MUNICIPIO_Clean\"].astype(str)\n",
    "\n",
    "Estados_beneficiarios[\"KEY_benef23\"] = Estados_beneficiarios[\"ESTADO_Clean\"] + \"-\" + Estados_beneficiarios[\"MUNICIPIO_Clean\"]"
   ]
  },
  {
   "cell_type": "code",
   "execution_count": null,
   "id": "3b996144",
   "metadata": {},
   "outputs": [],
   "source": [
    "df = Estados_beneficiarios['KEY_benef23'].unique()"
   ]
  },
  {
   "cell_type": "code",
   "execution_count": null,
   "id": "f04c54e4",
   "metadata": {},
   "outputs": [],
   "source": [
    "df.shape"
   ]
  },
  {
   "cell_type": "markdown",
   "id": "54bf8df24ed21525",
   "metadata": {},
   "source": [
    "### 3.1 Left join\n",
    "\n",
    "Creamos el diccionario."
   ]
  },
  {
   "cell_type": "code",
   "execution_count": null,
   "id": "d78b6da92ca65e74",
   "metadata": {
    "ExecuteTime": {
     "end_time": "2024-05-30T14:01:42.957406Z",
     "start_time": "2024-05-30T14:01:42.948071Z"
    }
   },
   "outputs": [],
   "source": [
    "Estados_beneficiarios = Estados_beneficiarios.drop(['ESTADO', 'MUNICIPIO'], axis=1)\n",
    "Estados_beneficiarios = Estados_beneficiarios.drop_duplicates()\n",
    "Estados_beneficiarios.shape"
   ]
  },
  {
   "cell_type": "code",
   "execution_count": null,
   "id": "196ee9d3",
   "metadata": {},
   "outputs": [],
   "source": [
    "Estados_beneficiarios"
   ]
  },
  {
   "cell_type": "code",
   "execution_count": null,
   "id": "ce0a1b9a7e456962",
   "metadata": {
    "ExecuteTime": {
     "end_time": "2024-05-30T14:01:42.975237Z",
     "start_time": "2024-05-30T14:01:42.970686Z"
    }
   },
   "outputs": [],
   "source": [
    "# Crear una función para encontrar la mejor coincidencia difusa con límites entre 90 y 100 de coincidencia\n",
    "def fuzzy_merge_beneficiarios2023(df_inegi, df_prod, key1, key2, threshold=90, limit=1):\n",
    "    \"\"\"\n",
    "    df_inegi: DataFrame de la izquierda (el DataFrame principal)\n",
    "    df_prod: DataFrame de la derecha (el DataFrame con el que se quiere hacer el join)\n",
    "    key1: Columna de la clave en df_inegi\n",
    "    key2: Columna de la clave en df_prod\n",
    "    threshold: Umbral de coincidencia difusa\n",
    "    limit: Número de coincidencias a encontrar\n",
    "    \"\"\"\n",
    "    s = df_prod[key2].tolist()\n",
    "\n",
    "    # Encontrar las mejores coincidencias para cada clave en df_inegi\n",
    "    matches = df_inegi[key1].apply(lambda x: process.extractOne(x, s, score_cutoff=threshold))\n",
    "\n",
    "    # Crear una columna con las mejores coincidencias\n",
    "    df_inegi['best_match'] = [match[0] if match else None for match in matches]\n",
    "    df_inegi['match_score'] = [match[1] if match else None for match in matches]\n",
    "\n",
    "    # Hacer el merge con las mejores coincidencias\n",
    "    df_merged = pd.merge(df_inegi, df_prod, left_on='best_match', right_on=key2, how='inner',\n",
    "                         suffixes=('_inegi', '_prod'))\n",
    "    \n",
    "    return df_merged\n"
   ]
  },
  {
   "cell_type": "code",
   "execution_count": null,
   "id": "bca965b4ce80146f",
   "metadata": {
    "ExecuteTime": {
     "end_time": "2024-05-30T14:04:01.709287Z",
     "start_time": "2024-05-30T14:01:42.976257Z"
    }
   },
   "outputs": [],
   "source": [
    "# Aplicar la función de coincidencia difusa\n",
    "diccionario = fuzzy_merge_beneficiarios2023(dataset_inegi_clean, Estados_beneficiarios, 'KEY_inegi', 'KEY_benef23')\n",
    "diccionario.drop_duplicates(subset=['KEY_inegi'], inplace=True)\n",
    "\n",
    "# Mostrar el resultado\n",
    "diccionario.columns"
   ]
  },
  {
   "cell_type": "code",
   "execution_count": null,
   "id": "0a596a42",
   "metadata": {},
   "outputs": [],
   "source": [
    "nan_rows = diccionario.isna()"
   ]
  },
  {
   "cell_type": "code",
   "execution_count": null,
   "id": "4cefccc4079ae8e9",
   "metadata": {
    "ExecuteTime": {
     "end_time": "2024-05-30T14:04:01.741880Z",
     "start_time": "2024-05-30T14:04:01.724246Z"
    }
   },
   "outputs": [],
   "source": [
    "diccionario.to_csv('../../data/diccionario.csv', index=False)"
   ]
  },
  {
   "cell_type": "markdown",
   "id": "7480947838e468f7",
   "metadata": {},
   "source": [
    "## 3.2 Listado beneficiarios2023\n",
    "\n",
    "Esta sección se encarga de completar el listado original de Beneficiarios Autorizados con los nombre corregido de INEGI usando el diccionario."
   ]
  },
  {
   "cell_type": "code",
   "execution_count": null,
   "id": "6ae598e683e47cac",
   "metadata": {
    "ExecuteTime": {
     "end_time": "2024-05-30T14:04:10.797009Z",
     "start_time": "2024-05-30T14:04:01.743888Z"
    }
   },
   "outputs": [],
   "source": [
    "# Crear una variable KEY en listado de productores y el diccionario para hacer el join\n",
    "listado_beneficiarios['ESTADO_Clean'] = listado_beneficiarios['ESTADO'].apply(clean_text)\n",
    "listado_beneficiarios['MUNICIPIO_Clean'] = listado_beneficiarios['MUNICIPIO'].apply(clean_text)\n",
    "listado_beneficiarios['Estado-mun-KEY'] = listado_beneficiarios['ESTADO_Clean'].astype(str) + '-' + listado_beneficiarios[\n",
    "    'MUNICIPIO_Clean'].astype(str)"
   ]
  },
  {
   "cell_type": "code",
   "execution_count": null,
   "id": "d8d5e195",
   "metadata": {},
   "outputs": [],
   "source": [
    "nan_rows = listado_beneficiarios.isna()"
   ]
  },
  {
   "cell_type": "code",
   "execution_count": null,
   "id": "446d9c40",
   "metadata": {},
   "outputs": [],
   "source": [
    "nan_rows.sum()"
   ]
  },
  {
   "cell_type": "code",
   "execution_count": null,
   "id": "672ed551381e1e8a",
   "metadata": {
    "ExecuteTime": {
     "end_time": "2024-05-30T14:04:10.806584Z",
     "start_time": "2024-05-30T14:04:10.800015Z"
    }
   },
   "outputs": [],
   "source": [
    "listado_beneficiarios.shape"
   ]
  },
  {
   "cell_type": "code",
   "execution_count": null,
   "id": "13fed7f5",
   "metadata": {},
   "outputs": [],
   "source": [
    "diccionario.shape"
   ]
  },
  {
   "cell_type": "code",
   "execution_count": null,
   "id": "9a887b8bde1fcd6c",
   "metadata": {
    "ExecuteTime": {
     "end_time": "2024-05-30T14:04:10.879818Z",
     "start_time": "2024-05-30T14:04:10.849876Z"
    }
   },
   "outputs": [],
   "source": [
    "# Lectura del diccionario manipulado\n",
    "diccionario_manipulado = pd.read_csv('../../data/Diccionario_manual.csv')"
   ]
  },
  {
   "cell_type": "code",
   "execution_count": null,
   "id": "e1928c484fe89c5e",
   "metadata": {
    "ExecuteTime": {
     "end_time": "2024-05-30T14:04:11.928301Z",
     "start_time": "2024-05-30T14:04:10.882823Z"
    }
   },
   "outputs": [],
   "source": [
    "# Hacer el join\n",
    "listado_beneficiarios_complete = pd.merge(listado_beneficiarios, diccionario, left_on=\"Estado-mun-KEY\",\n",
    "                                        right_on=\"KEY_benef23\", how='left', suffixes=('_prod', '_inegi'))"
   ]
  },
  {
   "cell_type": "code",
   "execution_count": null,
   "id": "583fefbe0c8062cb",
   "metadata": {
    "ExecuteTime": {
     "end_time": "2024-05-30T14:04:14.096594Z",
     "start_time": "2024-05-30T14:04:11.929338Z"
    }
   },
   "outputs": [],
   "source": [
    "listado_beneficiarios_complete[['CVE_ENT', 'CVE_MUN']] = listado_beneficiarios_complete['CVE_MUN_Unique'].str.split('-',\n",
    "                                                                                                                expand=True)\n"
   ]
  },
  {
   "cell_type": "code",
   "execution_count": null,
   "id": "eff01ecd75f63b54",
   "metadata": {
    "ExecuteTime": {
     "end_time": "2024-05-30T14:04:14.104571Z",
     "start_time": "2024-05-30T14:04:14.097713Z"
    }
   },
   "outputs": [],
   "source": [
    "listado_beneficiarios_complete.columns"
   ]
  },
  {
   "cell_type": "code",
   "execution_count": null,
   "id": "b27a125b519d9ac8",
   "metadata": {
    "ExecuteTime": {
     "end_time": "2024-05-30T14:04:14.339706Z",
     "start_time": "2024-05-30T14:04:14.106578Z"
    }
   },
   "outputs": [],
   "source": [
    "# Seleccionamos las columnas que nos interesan\n",
    "listado_beneficiarios_complete = listado_beneficiarios_complete[\n",
    "    ['ESTADO', 'MUNICIPIO', 'ACUSE ESTATAL', 'APELLIDO PATERNO', 'APELLIDO MATERNO',\n",
    "     'NOMBRE (S)', 'PAQUETE', 'KEY_benef23', 'NOM_ENT', 'NOM_MUN', 'CVE_ENT', 'CVE_MUN']]"
   ]
  },
  {
   "cell_type": "code",
   "execution_count": null,
   "id": "f74b72372f1494ed",
   "metadata": {
    "ExecuteTime": {
     "end_time": "2024-05-30T14:04:14.361161Z",
     "start_time": "2024-05-30T14:04:14.346729Z"
    }
   },
   "outputs": [],
   "source": [
    "# Revisamos el dataset\n",
    "print(listado_beneficiarios_complete.shape)\n",
    "print(listado_beneficiarios_complete.columns)\n",
    "print(listado_beneficiarios_complete.head())"
   ]
  },
  {
   "cell_type": "code",
   "execution_count": null,
   "id": "7afb8c2a",
   "metadata": {},
   "outputs": [],
   "source": [
    "nan_counts = listado_beneficiarios_complete.isna().sum()\n",
    "print(nan_counts)"
   ]
  },
  {
   "cell_type": "code",
   "execution_count": null,
   "id": "4652dc62",
   "metadata": {},
   "outputs": [],
   "source": [
    "nan_rows = listado_beneficiarios_complete[listado_beneficiarios_complete['NOM_ENT'].isna()]\n"
   ]
  },
  {
   "cell_type": "code",
   "execution_count": null,
   "id": "0b7d6e8f",
   "metadata": {},
   "outputs": [],
   "source": [
    "nan_rows.tail(50)"
   ]
  },
  {
   "cell_type": "code",
   "execution_count": null,
   "id": "c3c7eab8",
   "metadata": {},
   "outputs": [],
   "source": [
    "listado_beneficiarios_complete = listado_beneficiarios_complete.dropna(subset=['PAQUETE'])"
   ]
  },
  {
   "cell_type": "code",
   "execution_count": null,
   "id": "dd34649f",
   "metadata": {},
   "outputs": [],
   "source": [
    "listado_beneficiarios_complete.shape"
   ]
  },
  {
   "cell_type": "code",
   "execution_count": null,
   "id": "62410dca",
   "metadata": {},
   "outputs": [],
   "source": [
    "listado_beneficiarios_complete = listado_beneficiarios_complete.astype({\n",
    "    'ESTADO': 'str',\n",
    "    'MUNICIPIO': 'str',\n",
    "    'ACUSE ESTATAL': 'str',\n",
    "    'APELLIDO PATERNO': 'str',\n",
    "    'APELLIDO MATERNO': 'str',\n",
    "    'NOMBRE (S)': 'str',\n",
    "    'PAQUETE': 'int',\n",
    "    'NOM_MUN': 'str',\n",
    "    'NOM_ENT': 'str',\n",
    "    'CVE_MUN': 'str',\n",
    "    'CVE_ENT': 'str',\n",
    "    'KEY_benef23': 'str'\n",
    "\n",
    "    })\n",
    "\n",
    "listado_beneficiarios_complete = listado_beneficiarios_complete.rename(columns={\n",
    "'ESTADO': 'estado1',\n",
    "'MUNICIPIO': 'municipio1',\n",
    "'ACUSE ESTATAL': 'acuse',\n",
    "'APELLIDO PATERNO': 'apellido_paterno',\n",
    "'APELLIDO MATERNO': 'apellido_materno',\n",
    "'NOMBRE (S)': 'nombre_propio',\n",
    "'PAQUETE': 'paquete',\n",
    "'NOM_MUN': 'municipio',\n",
    "'NOM_ENT': 'entidad',\n",
    "'CVE_MUN': 'cve_mun',\n",
    "'CVE_ENT': 'cve_ent',\n",
    "'KEY_benef23': 'key_benef23'\n",
    "})"
   ]
  },
  {
   "cell_type": "code",
   "execution_count": null,
   "id": "1a7ba681",
   "metadata": {},
   "outputs": [],
   "source": [
    "listado_beneficiarios_complete = listado_beneficiarios_complete.drop(columns=['estado1', 'municipio1'])\n",
    "\n",
    "listado_beneficiarios_complete['id'] = listado_beneficiarios_complete.index\n",
    "\n",
    "# Assuming df is your DataFrame\n",
    "ordered_columns = ['id', 'cve_ent', 'entidad', 'cve_mun', 'municipio', 'acuse', 'apellido_paterno', 'apellido_materno', 'nombre_propio', 'paquete', 'key_benef23']\n",
    "listado_beneficiarios_complete = listado_beneficiarios_complete.reindex(columns=ordered_columns)\n",
    "\n",
    "listado_beneficiarios_complete['cve_ent'] = listado_beneficiarios_complete['cve_ent'].str.zfill(2)\n",
    "listado_beneficiarios_complete['cve_mun'] = listado_beneficiarios_complete['cve_mun'].str.zfill(3) "
   ]
  },
  {
   "cell_type": "code",
   "execution_count": null,
   "id": "b6f806cac74b96ab",
   "metadata": {
    "ExecuteTime": {
     "end_time": "2024-05-30T14:04:19.057829Z",
     "start_time": "2024-05-30T14:04:14.366177Z"
    }
   },
   "outputs": [],
   "source": [
    "listado_beneficiarios_complete.to_csv('../../data/listado_beneficiarios_complete.csv', index=False)"
   ]
  }
 ],
 "metadata": {
  "kernelspec": {
   "display_name": "Python 3",
   "language": "python",
   "name": "python3"
  },
  "language_info": {
   "codemirror_mode": {
    "name": "ipython",
    "version": 3
   },
   "file_extension": ".py",
   "mimetype": "text/x-python",
   "name": "python",
   "nbconvert_exporter": "python",
   "pygments_lexer": "ipython3",
   "version": "3.11.7"
  }
 },
 "nbformat": 4,
 "nbformat_minor": 5
}
