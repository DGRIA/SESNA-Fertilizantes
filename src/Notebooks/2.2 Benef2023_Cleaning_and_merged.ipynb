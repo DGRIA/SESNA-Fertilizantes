{
 "cells": [
  {
   "cell_type": "markdown",
   "id": "e81f8196fda25d5b",
   "metadata": {},
   "source": []
  },
  {
   "cell_type": "markdown",
   "id": "6960feab7ef56473",
   "metadata": {},
   "source": [
    "# Data Cleaning Listado de Listado de Beneficiarios 2023"
   ]
  },
  {
   "cell_type": "markdown",
   "id": "23de63a25eb2daf6",
   "metadata": {},
   "source": [
    "## Autores\n",
    "- José Luis Delgado Dávara\n",
    "- Arturo Ortiz Aguilar\n",
    "- Beltrán Valle Gutiérrez-Cortines"
   ]
  },
  {
   "cell_type": "markdown",
   "id": "b07c3a8a",
   "metadata": {},
   "source": [
    "## Importante leer para entender\n",
    "\n",
    "En este Notebook se trabaja con 3 listados importantes:\n",
    "\n",
    "1. Beneficiarios2023 -> Dataset con el listado de TODOS los beneficiarios.\n",
    "2. Estados_Beneficiarios 2023 -> Dataset sólo con los estados *únicos* encontrados en el dataset anterior.\n",
    "3. Diccionario -> Emparejamiento entre ambos listados de beneficiarios\n",
    "4. Dataset_Inegi -> Catálogo obtenido de Inegi"
   ]
  },
  {
   "cell_type": "code",
   "execution_count": 1,
   "id": "cb5833c3d96a224c",
   "metadata": {
    "ExecuteTime": {
     "end_time": "2024-05-30T14:01:37.230529Z",
     "start_time": "2024-05-30T14:01:37.040759Z"
    }
   },
   "outputs": [],
   "source": [
    "import pandas as pd\n",
    "import seaborn as sns\n",
    "from thefuzz import fuzz\n",
    "from thefuzz import process\n",
    "import matplotlib.pyplot as plt\n",
    "import numpy as np\n",
    "import os\n",
    "import glob\n",
    "import re\n",
    "import unidecode"
   ]
  },
  {
   "cell_type": "code",
   "execution_count": 2,
   "id": "ac0b22b6344a0b96",
   "metadata": {
    "ExecuteTime": {
     "end_time": "2024-05-30T14:01:37.238020Z",
     "start_time": "2024-05-30T14:01:37.231536Z"
    }
   },
   "outputs": [],
   "source": [
    "def load_datasets(directory):\n",
    "    # Get a list of all CSV files in the directory\n",
    "    csv_files = glob.glob(os.path.join(directory, '*.csv'))\n",
    "\n",
    "    # Read each CSV file and store the DataFrame in a list\n",
    "    dataframes = [pd.read_csv(file, encoding='cp1252', index_col=0, skiprows=1) for file in csv_files]\n",
    "\n",
    "    # Print the number of rows for each DataFrame\n",
    "    for i, df in enumerate(dataframes):\n",
    "        print(f\"Number of rows in DataFrame {i+1}: {df.shape[0]}\")\n",
    "\n",
    "    # Calculate the sum of rows in each individual dataset\n",
    "    individual_row_sum = sum([df.shape[0] for df in dataframes])\n",
    "\n",
    "    # Concatenate all DataFrames in the list\n",
    "    merged_df = pd.concat(dataframes, join='inner', ignore_index=True)\n",
    "\n",
    "    return merged_df, individual_row_sum\n",
    "\n",
    "\n",
    "def clean_text(text):\n",
    "    \"\"\"\n",
    "    De esta manera tenemos el texto sin espacios blancos extra y sobre todo con todas las palabras con capitalización correcta.\n",
    "    \"\"\"\n",
    "    if pd.isna(text):\n",
    "        return text\n",
    "    text = text.strip()  # Eliminate white spaces\n",
    "    text = text.lower()  # Convert to lowercase\n",
    "    text = unidecode.unidecode(text)  # Remove accents\n",
    "    text = re.sub('-.*-', '', text) #Remove what is in between - -\n",
    "    text = re.sub('\\s+', ' ', text)  # Eliminate extra white spaces\n",
    "    text = re.sub('^\\s+|\\s+?$', '', text)  # Eliminate spaces at the beginning and end\n",
    "    return text"
   ]
  },
  {
   "cell_type": "markdown",
   "id": "5c0595e208484f96",
   "metadata": {},
   "source": [
    "# 1. Lectura de los datos"
   ]
  },
  {
   "cell_type": "markdown",
   "id": "9b99291631d5d3b1",
   "metadata": {},
   "source": [
    "### Lectura del dataset del INEGI"
   ]
  },
  {
   "cell_type": "code",
   "execution_count": 3,
   "id": "2596158784542f3d",
   "metadata": {
    "ExecuteTime": {
     "end_time": "2024-05-30T14:01:38.326264Z",
     "start_time": "2024-05-30T14:01:37.241026Z"
    }
   },
   "outputs": [],
   "source": [
    "path_dataset_inegi = '../../data/Diccionarios/dataset_inegi.csv'\n",
    "dataset_inegi = pd.read_csv(path_dataset_inegi, encoding='cp1252', dtype={'CVE_ENT': str, 'CVE_MUN': str})"
   ]
  },
  {
   "cell_type": "markdown",
   "id": "650cbc699caa705d",
   "metadata": {},
   "source": [
    "### Lectura del listado de Beneficiarios 2023"
   ]
  },
  {
   "cell_type": "code",
   "execution_count": 4,
   "id": "53fef8d078ec79cf",
   "metadata": {
    "ExecuteTime": {
     "end_time": "2024-05-30T14:01:40.160043Z",
     "start_time": "2024-05-30T14:01:38.327278Z"
    }
   },
   "outputs": [
    {
     "name": "stdout",
     "output_type": "stream",
     "text": [
      "Number of rows in DataFrame 1: 42854\n",
      "Number of rows in DataFrame 2: 493598\n",
      "Number of rows in DataFrame 3: 830761\n",
      "Number of rows in DataFrame 4: 312892\n"
     ]
    }
   ],
   "source": [
    "listado_beneficiarios, sumOfRows = load_datasets(\"../../data/beneficiarios2023\")"
   ]
  },
  {
   "cell_type": "code",
   "execution_count": 5,
   "id": "552edcc7",
   "metadata": {},
   "outputs": [],
   "source": [
    "nan_rows = listado_beneficiarios.isna()"
   ]
  },
  {
   "cell_type": "code",
   "execution_count": 6,
   "id": "cef3fe33",
   "metadata": {},
   "outputs": [
    {
     "data": {
      "text/plain": [
       "1680105"
      ]
     },
     "execution_count": 6,
     "metadata": {},
     "output_type": "execute_result"
    }
   ],
   "source": [
    "sumOfRows"
   ]
  },
  {
   "cell_type": "code",
   "execution_count": 7,
   "id": "03cef601",
   "metadata": {},
   "outputs": [
    {
     "data": {
      "text/html": [
       "<div>\n",
       "<style scoped>\n",
       "    .dataframe tbody tr th:only-of-type {\n",
       "        vertical-align: middle;\n",
       "    }\n",
       "\n",
       "    .dataframe tbody tr th {\n",
       "        vertical-align: top;\n",
       "    }\n",
       "\n",
       "    .dataframe thead th {\n",
       "        text-align: right;\n",
       "    }\n",
       "</style>\n",
       "<table border=\"1\" class=\"dataframe\">\n",
       "  <thead>\n",
       "    <tr style=\"text-align: right;\">\n",
       "      <th></th>\n",
       "      <th>ESTADO</th>\n",
       "      <th>MUNICIPIO</th>\n",
       "      <th>ACUSE ESTATAL</th>\n",
       "      <th>APELLIDO PATERNO</th>\n",
       "      <th>APELLIDO MATERNO</th>\n",
       "      <th>NOMBRE (S)</th>\n",
       "      <th>PAQUETE</th>\n",
       "    </tr>\n",
       "  </thead>\n",
       "  <tbody>\n",
       "    <tr>\n",
       "      <th>0</th>\n",
       "      <td>SINALOA</td>\n",
       "      <td>AHOME</td>\n",
       "      <td>23-PROESFE-ESTR-000051-E000-SL</td>\n",
       "      <td>ABOITES</td>\n",
       "      <td>ARMENTA</td>\n",
       "      <td>FRANCISCO</td>\n",
       "      <td>4.0</td>\n",
       "    </tr>\n",
       "    <tr>\n",
       "      <th>1</th>\n",
       "      <td>SINALOA</td>\n",
       "      <td>AHOME</td>\n",
       "      <td>23-PROESFE-ESTR-043733-E000-SL</td>\n",
       "      <td>ABOYTE</td>\n",
       "      <td>RUIZ</td>\n",
       "      <td>ISMAEL</td>\n",
       "      <td>7.0</td>\n",
       "    </tr>\n",
       "    <tr>\n",
       "      <th>2</th>\n",
       "      <td>SINALOA</td>\n",
       "      <td>AHOME</td>\n",
       "      <td>23-PROESFE-ESTR-000052-E000-SL</td>\n",
       "      <td>ABOYTES</td>\n",
       "      <td>ARMENTA</td>\n",
       "      <td>RODOLFO</td>\n",
       "      <td>4.0</td>\n",
       "    </tr>\n",
       "    <tr>\n",
       "      <th>3</th>\n",
       "      <td>SINALOA</td>\n",
       "      <td>AHOME</td>\n",
       "      <td>23-PROESFE-ESTR-030724-E000-SL</td>\n",
       "      <td>ACOSTA</td>\n",
       "      <td>BUELNA</td>\n",
       "      <td>EDGAR</td>\n",
       "      <td>10.0</td>\n",
       "    </tr>\n",
       "    <tr>\n",
       "      <th>4</th>\n",
       "      <td>SINALOA</td>\n",
       "      <td>AHOME</td>\n",
       "      <td>23-PROESFE-ESTR-035928-E000-SL</td>\n",
       "      <td>ACOSTA</td>\n",
       "      <td>BUELNA</td>\n",
       "      <td>GUADALUPE</td>\n",
       "      <td>5.0</td>\n",
       "    </tr>\n",
       "  </tbody>\n",
       "</table>\n",
       "</div>"
      ],
      "text/plain": [
       "    ESTADO MUNICIPIO                   ACUSE ESTATAL APELLIDO PATERNO  \\\n",
       "0  SINALOA     AHOME  23-PROESFE-ESTR-000051-E000-SL          ABOITES   \n",
       "1  SINALOA     AHOME  23-PROESFE-ESTR-043733-E000-SL           ABOYTE   \n",
       "2  SINALOA     AHOME  23-PROESFE-ESTR-000052-E000-SL          ABOYTES   \n",
       "3  SINALOA     AHOME  23-PROESFE-ESTR-030724-E000-SL           ACOSTA   \n",
       "4  SINALOA     AHOME  23-PROESFE-ESTR-035928-E000-SL           ACOSTA   \n",
       "\n",
       "  APELLIDO MATERNO NOMBRE (S)  PAQUETE  \n",
       "0          ARMENTA  FRANCISCO      4.0  \n",
       "1             RUIZ     ISMAEL      7.0  \n",
       "2          ARMENTA    RODOLFO      4.0  \n",
       "3           BUELNA      EDGAR     10.0  \n",
       "4           BUELNA  GUADALUPE      5.0  "
      ]
     },
     "execution_count": 7,
     "metadata": {},
     "output_type": "execute_result"
    }
   ],
   "source": [
    "listado_beneficiarios.head()"
   ]
  },
  {
   "cell_type": "markdown",
   "id": "35eb26bcb3f4f060",
   "metadata": {},
   "source": [
    "# 2. Limpieza de los datos"
   ]
  },
  {
   "cell_type": "markdown",
   "id": "f5c385abb0e2ebea",
   "metadata": {},
   "source": [
    "### 2.1 INEGI"
   ]
  },
  {
   "cell_type": "code",
   "execution_count": 8,
   "id": "bc3d8e451808121b",
   "metadata": {
    "ExecuteTime": {
     "end_time": "2024-05-30T14:01:40.169375Z",
     "start_time": "2024-05-30T14:01:40.161048Z"
    }
   },
   "outputs": [
    {
     "data": {
      "text/plain": [
       "Index(['MAPA', 'Estatus', 'CVE_ENT', 'NOM_ENT', 'NOM_ABR', 'CVE_MUN',\n",
       "       'NOM_MUN', 'CVE_LOC', 'NOM_LOC', 'AMBITO', 'LATITUD', 'LONGITUD',\n",
       "       'LAT_DECIMAL', 'LON_DECIMAL', 'ALTITUD', 'CVE_CARTA', 'POB_TOTAL',\n",
       "       'POB_MASCULINA', 'POB_FEMENINA', 'TOTAL DE VIVIENDAS HABITADAS'],\n",
       "      dtype='object')"
      ]
     },
     "execution_count": 8,
     "metadata": {},
     "output_type": "execute_result"
    }
   ],
   "source": [
    "# Revisamos las columnas del dataset\n",
    "dataset_inegi.columns"
   ]
  },
  {
   "cell_type": "code",
   "execution_count": 9,
   "id": "ac6cf4a705d01ca9",
   "metadata": {
    "ExecuteTime": {
     "end_time": "2024-05-30T14:01:40.209771Z",
     "start_time": "2024-05-30T14:01:40.198605Z"
    }
   },
   "outputs": [],
   "source": [
    "# Eliminamos las columnas que no son de interés\n",
    "COLUMNS_TO_DROP = ['MAPA', 'Estatus', 'NOM_ABR', 'CVE_LOC', 'NOM_LOC', 'AMBITO', 'LATITUD', 'LONGITUD',\n",
    "                   'LAT_DECIMAL', 'LON_DECIMAL', 'ALTITUD', 'CVE_CARTA', 'POB_TOTAL',\n",
    "                   'POB_MASCULINA', 'POB_FEMENINA', 'TOTAL DE VIVIENDAS HABITADAS']\n",
    "dataset_inegi = dataset_inegi.drop(COLUMNS_TO_DROP, axis=1)"
   ]
  },
  {
   "cell_type": "code",
   "execution_count": 10,
   "id": "61b75d87762aaa69",
   "metadata": {
    "ExecuteTime": {
     "end_time": "2024-05-30T14:01:40.222142Z",
     "start_time": "2024-05-30T14:01:40.211783Z"
    }
   },
   "outputs": [
    {
     "data": {
      "text/plain": [
       "CVE_ENT            object\n",
       "Entidad_inegi      object\n",
       "CVE_MUN            object\n",
       "Municipio_inegi    object\n",
       "dtype: object"
      ]
     },
     "execution_count": 10,
     "metadata": {},
     "output_type": "execute_result"
    }
   ],
   "source": [
    "# Renombrar las columnas\n",
    "dataset_inegi.rename(columns={\n",
    "    'CVE_ENT': 'CVE_ENT',\n",
    "    'NOM_ENT': 'Entidad_inegi',\n",
    "    'CVE_MUN': 'CVE_MUN',\n",
    "    'NOM_MUN': 'Municipio_inegi'\n",
    "}, inplace=True)\n",
    "\n",
    "\n",
    "# Las claves de entidad y municipio serán tratadas numéricamente en la limpieza aunque posteriormente se les asignará el tipo de cadena de texto para tener el estándar.\n",
    "dataset_inegi.dtypes"
   ]
  },
  {
   "cell_type": "code",
   "execution_count": 11,
   "id": "8d89a91fdd8ba82b",
   "metadata": {
    "ExecuteTime": {
     "end_time": "2024-05-30T14:01:40.286905Z",
     "start_time": "2024-05-30T14:01:40.226155Z"
    }
   },
   "outputs": [
    {
     "name": "stdout",
     "output_type": "stream",
     "text": [
      "Shape of dataset_inegi:  (299568, 4)\n",
      "Shape of dataset_inegi_uniquemun:  (2476, 4)\n"
     ]
    }
   ],
   "source": [
    "# Revisamos la cantidad de filas y columnas del dataset\n",
    "print(\"Shape of dataset_inegi: \", dataset_inegi.shape)\n",
    "\n",
    "dataset_inegi_uniquemun = dataset_inegi.drop_duplicates()\n",
    "print(\"Shape of dataset_inegi_uniquemun: \", dataset_inegi_uniquemun.shape)"
   ]
  },
  {
   "cell_type": "markdown",
   "id": "5ee1cfeb4a72782c",
   "metadata": {},
   "source": [
    "A partir de aquí seguimos trabajando con el listado de Estados y Municipios limpio de Inegi (sin repetir) \"dataset_inegi_clean\"."
   ]
  },
  {
   "cell_type": "code",
   "execution_count": 12,
   "id": "d824af463f93f62a",
   "metadata": {
    "ExecuteTime": {
     "end_time": "2024-05-30T14:01:40.299354Z",
     "start_time": "2024-05-30T14:01:40.288916Z"
    }
   },
   "outputs": [
    {
     "data": {
      "text/html": [
       "<div>\n",
       "<style scoped>\n",
       "    .dataframe tbody tr th:only-of-type {\n",
       "        vertical-align: middle;\n",
       "    }\n",
       "\n",
       "    .dataframe tbody tr th {\n",
       "        vertical-align: top;\n",
       "    }\n",
       "\n",
       "    .dataframe thead th {\n",
       "        text-align: right;\n",
       "    }\n",
       "</style>\n",
       "<table border=\"1\" class=\"dataframe\">\n",
       "  <thead>\n",
       "    <tr style=\"text-align: right;\">\n",
       "      <th></th>\n",
       "      <th>CVE_ENT</th>\n",
       "      <th>Entidad_inegi</th>\n",
       "      <th>CVE_MUN</th>\n",
       "      <th>Municipio_inegi</th>\n",
       "    </tr>\n",
       "  </thead>\n",
       "  <tbody>\n",
       "    <tr>\n",
       "      <th>0</th>\n",
       "      <td>01</td>\n",
       "      <td>Aguascalientes</td>\n",
       "      <td>001</td>\n",
       "      <td>Aguascalientes</td>\n",
       "    </tr>\n",
       "    <tr>\n",
       "      <th>708</th>\n",
       "      <td>01</td>\n",
       "      <td>Aguascalientes</td>\n",
       "      <td>002</td>\n",
       "      <td>Asientos</td>\n",
       "    </tr>\n",
       "    <tr>\n",
       "      <th>945</th>\n",
       "      <td>01</td>\n",
       "      <td>Aguascalientes</td>\n",
       "      <td>003</td>\n",
       "      <td>Calvillo</td>\n",
       "    </tr>\n",
       "    <tr>\n",
       "      <th>1237</th>\n",
       "      <td>01</td>\n",
       "      <td>Aguascalientes</td>\n",
       "      <td>004</td>\n",
       "      <td>Cosío</td>\n",
       "    </tr>\n",
       "    <tr>\n",
       "      <th>1330</th>\n",
       "      <td>01</td>\n",
       "      <td>Aguascalientes</td>\n",
       "      <td>005</td>\n",
       "      <td>Jesús María</td>\n",
       "    </tr>\n",
       "  </tbody>\n",
       "</table>\n",
       "</div>"
      ],
      "text/plain": [
       "     CVE_ENT   Entidad_inegi CVE_MUN Municipio_inegi\n",
       "0         01  Aguascalientes     001  Aguascalientes\n",
       "708       01  Aguascalientes     002        Asientos\n",
       "945       01  Aguascalientes     003        Calvillo\n",
       "1237      01  Aguascalientes     004           Cosío\n",
       "1330      01  Aguascalientes     005     Jesús María"
      ]
     },
     "execution_count": 12,
     "metadata": {},
     "output_type": "execute_result"
    }
   ],
   "source": [
    "# Revisamos las primeras filas del dataset con las columnas seleccionadas\n",
    "dataset_inegi_uniquemun.head()"
   ]
  },
  {
   "cell_type": "code",
   "execution_count": 13,
   "id": "2699470a43525bbb",
   "metadata": {
    "ExecuteTime": {
     "end_time": "2024-05-30T14:01:40.320927Z",
     "start_time": "2024-05-30T14:01:40.309949Z"
    }
   },
   "outputs": [
    {
     "name": "stdout",
     "output_type": "stream",
     "text": [
      "<class 'pandas.core.frame.DataFrame'>\n",
      "Index: 2476 entries, 0 to 299526\n",
      "Data columns (total 4 columns):\n",
      " #   Column           Non-Null Count  Dtype \n",
      "---  ------           --------------  ----- \n",
      " 0   CVE_ENT          2476 non-null   object\n",
      " 1   Entidad_inegi    2476 non-null   object\n",
      " 2   CVE_MUN          2476 non-null   object\n",
      " 3   Municipio_inegi  2476 non-null   object\n",
      "dtypes: object(4)\n",
      "memory usage: 96.7+ KB\n"
     ]
    }
   ],
   "source": [
    "dataset_inegi_uniquemun.info()"
   ]
  },
  {
   "cell_type": "code",
   "execution_count": 14,
   "id": "71c209b05bf35c7e",
   "metadata": {
    "ExecuteTime": {
     "end_time": "2024-05-30T14:01:40.330064Z",
     "start_time": "2024-05-30T14:01:40.321936Z"
    }
   },
   "outputs": [
    {
     "name": "stdout",
     "output_type": "stream",
     "text": [
      "Los valores únicos en cada columna son:\n",
      " CVE_ENT              32\n",
      "Entidad_inegi        32\n",
      "CVE_MUN             570\n",
      "Municipio_inegi    2332\n",
      "dtype: int64\n"
     ]
    }
   ],
   "source": [
    "print(\"Los valores únicos en cada columna son:\\n\", dataset_inegi_uniquemun.nunique())"
   ]
  },
  {
   "cell_type": "markdown",
   "id": "aef4017a546db04a",
   "metadata": {},
   "source": [
    "#### 2.1.1 Estandarización de nombre de municipios\n",
    "\n",
    "Con el fin de poder hacer un merge bajo los mismos nombres, hacemos una limpieza de los datos."
   ]
  },
  {
   "cell_type": "code",
   "execution_count": 15,
   "id": "cec148c18a669995",
   "metadata": {
    "ExecuteTime": {
     "end_time": "2024-05-30T14:01:40.381500Z",
     "start_time": "2024-05-30T14:01:40.352997Z"
    }
   },
   "outputs": [
    {
     "name": "stderr",
     "output_type": "stream",
     "text": [
      "/var/folders/lr/s5n5xs912wb6j0x5kb_y8br00000gn/T/ipykernel_26843/4159994235.py:2: SettingWithCopyWarning: \n",
      "A value is trying to be set on a copy of a slice from a DataFrame.\n",
      "Try using .loc[row_indexer,col_indexer] = value instead\n",
      "\n",
      "See the caveats in the documentation: https://pandas.pydata.org/pandas-docs/stable/user_guide/indexing.html#returning-a-view-versus-a-copy\n",
      "  dataset_inegi_uniquemun['Entidad_c_inegi'] = dataset_inegi_uniquemun['Entidad_inegi'].apply(clean_text)\n",
      "/var/folders/lr/s5n5xs912wb6j0x5kb_y8br00000gn/T/ipykernel_26843/4159994235.py:3: SettingWithCopyWarning: \n",
      "A value is trying to be set on a copy of a slice from a DataFrame.\n",
      "Try using .loc[row_indexer,col_indexer] = value instead\n",
      "\n",
      "See the caveats in the documentation: https://pandas.pydata.org/pandas-docs/stable/user_guide/indexing.html#returning-a-view-versus-a-copy\n",
      "  dataset_inegi_uniquemun['Municipio_c_inegi'] = dataset_inegi_uniquemun['Municipio_inegi'].apply(clean_text)\n"
     ]
    }
   ],
   "source": [
    "# Estandarizamos la limpieza de los datos\n",
    "dataset_inegi_uniquemun['Entidad_c_inegi'] = dataset_inegi_uniquemun['Entidad_inegi'].apply(clean_text)\n",
    "dataset_inegi_uniquemun['Municipio_c_inegi'] = dataset_inegi_uniquemun['Municipio_inegi'].apply(clean_text)"
   ]
  },
  {
   "cell_type": "code",
   "execution_count": 16,
   "id": "1af2e236df4d4847",
   "metadata": {
    "ExecuteTime": {
     "end_time": "2024-05-30T14:01:40.341472Z",
     "start_time": "2024-05-30T14:01:40.331071Z"
    }
   },
   "outputs": [
    {
     "name": "stderr",
     "output_type": "stream",
     "text": [
      "/var/folders/lr/s5n5xs912wb6j0x5kb_y8br00000gn/T/ipykernel_26843/2100087808.py:3: SettingWithCopyWarning: \n",
      "A value is trying to be set on a copy of a slice from a DataFrame.\n",
      "Try using .loc[row_indexer,col_indexer] = value instead\n",
      "\n",
      "See the caveats in the documentation: https://pandas.pydata.org/pandas-docs/stable/user_guide/indexing.html#returning-a-view-versus-a-copy\n",
      "  dataset_inegi_uniquemun['KEY_inegi'] = dataset_inegi_uniquemun['Entidad_c_inegi'].astype(str) + '-' + dataset_inegi_uniquemun[\n"
     ]
    },
    {
     "data": {
      "text/html": [
       "<div>\n",
       "<style scoped>\n",
       "    .dataframe tbody tr th:only-of-type {\n",
       "        vertical-align: middle;\n",
       "    }\n",
       "\n",
       "    .dataframe tbody tr th {\n",
       "        vertical-align: top;\n",
       "    }\n",
       "\n",
       "    .dataframe thead th {\n",
       "        text-align: right;\n",
       "    }\n",
       "</style>\n",
       "<table border=\"1\" class=\"dataframe\">\n",
       "  <thead>\n",
       "    <tr style=\"text-align: right;\">\n",
       "      <th></th>\n",
       "      <th>CVE_ENT</th>\n",
       "      <th>Entidad_inegi</th>\n",
       "      <th>CVE_MUN</th>\n",
       "      <th>Municipio_inegi</th>\n",
       "      <th>Entidad_c_inegi</th>\n",
       "      <th>Municipio_c_inegi</th>\n",
       "      <th>KEY_inegi</th>\n",
       "    </tr>\n",
       "  </thead>\n",
       "  <tbody>\n",
       "    <tr>\n",
       "      <th>0</th>\n",
       "      <td>01</td>\n",
       "      <td>Aguascalientes</td>\n",
       "      <td>001</td>\n",
       "      <td>Aguascalientes</td>\n",
       "      <td>aguascalientes</td>\n",
       "      <td>aguascalientes</td>\n",
       "      <td>aguascalientes-aguascalientes</td>\n",
       "    </tr>\n",
       "    <tr>\n",
       "      <th>708</th>\n",
       "      <td>01</td>\n",
       "      <td>Aguascalientes</td>\n",
       "      <td>002</td>\n",
       "      <td>Asientos</td>\n",
       "      <td>aguascalientes</td>\n",
       "      <td>asientos</td>\n",
       "      <td>aguascalientes-asientos</td>\n",
       "    </tr>\n",
       "    <tr>\n",
       "      <th>945</th>\n",
       "      <td>01</td>\n",
       "      <td>Aguascalientes</td>\n",
       "      <td>003</td>\n",
       "      <td>Calvillo</td>\n",
       "      <td>aguascalientes</td>\n",
       "      <td>calvillo</td>\n",
       "      <td>aguascalientes-calvillo</td>\n",
       "    </tr>\n",
       "    <tr>\n",
       "      <th>1237</th>\n",
       "      <td>01</td>\n",
       "      <td>Aguascalientes</td>\n",
       "      <td>004</td>\n",
       "      <td>Cosío</td>\n",
       "      <td>aguascalientes</td>\n",
       "      <td>cosio</td>\n",
       "      <td>aguascalientes-cosio</td>\n",
       "    </tr>\n",
       "    <tr>\n",
       "      <th>1330</th>\n",
       "      <td>01</td>\n",
       "      <td>Aguascalientes</td>\n",
       "      <td>005</td>\n",
       "      <td>Jesús María</td>\n",
       "      <td>aguascalientes</td>\n",
       "      <td>jesus maria</td>\n",
       "      <td>aguascalientes-jesus maria</td>\n",
       "    </tr>\n",
       "  </tbody>\n",
       "</table>\n",
       "</div>"
      ],
      "text/plain": [
       "     CVE_ENT   Entidad_inegi CVE_MUN Municipio_inegi Entidad_c_inegi  \\\n",
       "0         01  Aguascalientes     001  Aguascalientes  aguascalientes   \n",
       "708       01  Aguascalientes     002        Asientos  aguascalientes   \n",
       "945       01  Aguascalientes     003        Calvillo  aguascalientes   \n",
       "1237      01  Aguascalientes     004           Cosío  aguascalientes   \n",
       "1330      01  Aguascalientes     005     Jesús María  aguascalientes   \n",
       "\n",
       "     Municipio_c_inegi                      KEY_inegi  \n",
       "0       aguascalientes  aguascalientes-aguascalientes  \n",
       "708           asientos        aguascalientes-asientos  \n",
       "945           calvillo        aguascalientes-calvillo  \n",
       "1237             cosio           aguascalientes-cosio  \n",
       "1330       jesus maria     aguascalientes-jesus maria  "
      ]
     },
     "execution_count": 16,
     "metadata": {},
     "output_type": "execute_result"
    }
   ],
   "source": [
    "# Creamos una columna con la clave única por municipio\n",
    "\n",
    "dataset_inegi_uniquemun['KEY_inegi'] = dataset_inegi_uniquemun['Entidad_c_inegi'].astype(str) + '-' + dataset_inegi_uniquemun[\n",
    "    'Municipio_c_inegi'].astype(str)\n",
    "\n",
    "dataset_inegi_uniquemun.head()"
   ]
  },
  {
   "cell_type": "code",
   "execution_count": 17,
   "id": "29f31a32",
   "metadata": {},
   "outputs": [
    {
     "data": {
      "text/html": [
       "<div>\n",
       "<style scoped>\n",
       "    .dataframe tbody tr th:only-of-type {\n",
       "        vertical-align: middle;\n",
       "    }\n",
       "\n",
       "    .dataframe tbody tr th {\n",
       "        vertical-align: top;\n",
       "    }\n",
       "\n",
       "    .dataframe thead th {\n",
       "        text-align: right;\n",
       "    }\n",
       "</style>\n",
       "<table border=\"1\" class=\"dataframe\">\n",
       "  <thead>\n",
       "    <tr style=\"text-align: right;\">\n",
       "      <th></th>\n",
       "      <th>CVE_ENT</th>\n",
       "      <th>Entidad_inegi</th>\n",
       "      <th>CVE_MUN</th>\n",
       "      <th>Municipio_inegi</th>\n",
       "      <th>Entidad_c_inegi</th>\n",
       "      <th>Municipio_c_inegi</th>\n",
       "      <th>KEY_inegi</th>\n",
       "    </tr>\n",
       "  </thead>\n",
       "  <tbody>\n",
       "    <tr>\n",
       "      <th>299150</th>\n",
       "      <td>32</td>\n",
       "      <td>Zacatecas</td>\n",
       "      <td>054</td>\n",
       "      <td>Villa Hidalgo</td>\n",
       "      <td>zacatecas</td>\n",
       "      <td>villa hidalgo</td>\n",
       "      <td>zacatecas-villa hidalgo</td>\n",
       "    </tr>\n",
       "    <tr>\n",
       "      <th>299211</th>\n",
       "      <td>32</td>\n",
       "      <td>Zacatecas</td>\n",
       "      <td>055</td>\n",
       "      <td>Villanueva</td>\n",
       "      <td>zacatecas</td>\n",
       "      <td>villanueva</td>\n",
       "      <td>zacatecas-villanueva</td>\n",
       "    </tr>\n",
       "    <tr>\n",
       "      <th>299363</th>\n",
       "      <td>32</td>\n",
       "      <td>Zacatecas</td>\n",
       "      <td>056</td>\n",
       "      <td>Zacatecas</td>\n",
       "      <td>zacatecas</td>\n",
       "      <td>zacatecas</td>\n",
       "      <td>zacatecas-zacatecas</td>\n",
       "    </tr>\n",
       "    <tr>\n",
       "      <th>299484</th>\n",
       "      <td>32</td>\n",
       "      <td>Zacatecas</td>\n",
       "      <td>057</td>\n",
       "      <td>Trancoso</td>\n",
       "      <td>zacatecas</td>\n",
       "      <td>trancoso</td>\n",
       "      <td>zacatecas-trancoso</td>\n",
       "    </tr>\n",
       "    <tr>\n",
       "      <th>299526</th>\n",
       "      <td>32</td>\n",
       "      <td>Zacatecas</td>\n",
       "      <td>058</td>\n",
       "      <td>Santa María de la Paz</td>\n",
       "      <td>zacatecas</td>\n",
       "      <td>santa maria de la paz</td>\n",
       "      <td>zacatecas-santa maria de la paz</td>\n",
       "    </tr>\n",
       "  </tbody>\n",
       "</table>\n",
       "</div>"
      ],
      "text/plain": [
       "       CVE_ENT Entidad_inegi CVE_MUN        Municipio_inegi Entidad_c_inegi  \\\n",
       "299150      32     Zacatecas     054          Villa Hidalgo       zacatecas   \n",
       "299211      32     Zacatecas     055             Villanueva       zacatecas   \n",
       "299363      32     Zacatecas     056              Zacatecas       zacatecas   \n",
       "299484      32     Zacatecas     057               Trancoso       zacatecas   \n",
       "299526      32     Zacatecas     058  Santa María de la Paz       zacatecas   \n",
       "\n",
       "            Municipio_c_inegi                        KEY_inegi  \n",
       "299150          villa hidalgo          zacatecas-villa hidalgo  \n",
       "299211             villanueva             zacatecas-villanueva  \n",
       "299363              zacatecas              zacatecas-zacatecas  \n",
       "299484               trancoso               zacatecas-trancoso  \n",
       "299526  santa maria de la paz  zacatecas-santa maria de la paz  "
      ]
     },
     "execution_count": 17,
     "metadata": {},
     "output_type": "execute_result"
    }
   ],
   "source": [
    "dataset_inegi_uniquemun.tail()"
   ]
  },
  {
   "cell_type": "markdown",
   "id": "c1c7ea2410869cec",
   "metadata": {},
   "source": [
    "## 2.2 Beneficiarios 2023"
   ]
  },
  {
   "cell_type": "markdown",
   "id": "1558ba7e",
   "metadata": {},
   "source": [
    "### Creación de Estados_Beneficiarios2023\n",
    "Este dataset es una versión de Beneficiarios2023 pero más ligera y sin repeticiones."
   ]
  },
  {
   "cell_type": "code",
   "execution_count": 18,
   "id": "9c646052",
   "metadata": {},
   "outputs": [
    {
     "data": {
      "text/plain": [
       "ESTADO               object\n",
       "MUNICIPIO            object\n",
       "ACUSE ESTATAL        object\n",
       "APELLIDO PATERNO     object\n",
       "APELLIDO MATERNO     object\n",
       "NOMBRE (S)           object\n",
       "PAQUETE             float64\n",
       "dtype: object"
      ]
     },
     "execution_count": 18,
     "metadata": {},
     "output_type": "execute_result"
    }
   ],
   "source": [
    "listado_beneficiarios.dtypes"
   ]
  },
  {
   "cell_type": "code",
   "execution_count": 19,
   "id": "649e28f4",
   "metadata": {},
   "outputs": [
    {
     "name": "stdout",
     "output_type": "stream",
     "text": [
      "                      count   unique                             top    freq  \\\n",
      "ESTADO              1680105       30                        GUERRERO  331097   \n",
      "MUNICIPIO           1680105     2237                  LAS MARGARITAS   18041   \n",
      "ACUSE ESTATAL       1680105  1680105  23-PROESFE-ESTR-000051-E000-SL       1   \n",
      "APELLIDO PATERNO    1680104    14995                       HERNANDEZ   77418   \n",
      "APELLIDO MATERNO    1653877    17604                       HERNANDEZ   76953   \n",
      "NOMBRE (S)          1680105   124628                            JUAN   26798   \n",
      "PAQUETE           1680097.0      NaN                             NaN     NaN   \n",
      "\n",
      "                      mean       std  min  25%  50%  75%   max  \n",
      "ESTADO                 NaN       NaN  NaN  NaN  NaN  NaN   NaN  \n",
      "MUNICIPIO              NaN       NaN  NaN  NaN  NaN  NaN   NaN  \n",
      "ACUSE ESTATAL          NaN       NaN  NaN  NaN  NaN  NaN   NaN  \n",
      "APELLIDO PATERNO       NaN       NaN  NaN  NaN  NaN  NaN   NaN  \n",
      "APELLIDO MATERNO       NaN       NaN  NaN  NaN  NaN  NaN   NaN  \n",
      "NOMBRE (S)             NaN       NaN  NaN  NaN  NaN  NaN   NaN  \n",
      "PAQUETE           1.633161  0.993369  1.0  1.0  2.0  2.0  10.0  \n"
     ]
    }
   ],
   "source": [
    "descriptive_stats = listado_beneficiarios.describe(include='all').transpose()\n",
    "\n",
    "# Mostrar las estadísticas descriptivas\n",
    "print(descriptive_stats)"
   ]
  },
  {
   "cell_type": "code",
   "execution_count": 20,
   "id": "fd241fe2",
   "metadata": {},
   "outputs": [
    {
     "data": {
      "text/plain": [
       "ESTADO                  0\n",
       "MUNICIPIO               0\n",
       "ACUSE ESTATAL           0\n",
       "APELLIDO PATERNO        1\n",
       "APELLIDO MATERNO    26228\n",
       "NOMBRE (S)              0\n",
       "PAQUETE                 8\n",
       "dtype: int64"
      ]
     },
     "execution_count": 20,
     "metadata": {},
     "output_type": "execute_result"
    }
   ],
   "source": [
    "listado_beneficiarios.isna().sum()"
   ]
  },
  {
   "cell_type": "code",
   "execution_count": 21,
   "id": "a34b9233",
   "metadata": {},
   "outputs": [
    {
     "data": {
      "text/html": [
       "<div>\n",
       "<style scoped>\n",
       "    .dataframe tbody tr th:only-of-type {\n",
       "        vertical-align: middle;\n",
       "    }\n",
       "\n",
       "    .dataframe tbody tr th {\n",
       "        vertical-align: top;\n",
       "    }\n",
       "\n",
       "    .dataframe thead th {\n",
       "        text-align: right;\n",
       "    }\n",
       "</style>\n",
       "<table border=\"1\" class=\"dataframe\">\n",
       "  <thead>\n",
       "    <tr style=\"text-align: right;\">\n",
       "      <th></th>\n",
       "      <th>ESTADO</th>\n",
       "      <th>MUNICIPIO</th>\n",
       "      <th>ACUSE ESTATAL</th>\n",
       "      <th>APELLIDO PATERNO</th>\n",
       "      <th>APELLIDO MATERNO</th>\n",
       "      <th>NOMBRE (S)</th>\n",
       "      <th>PAQUETE</th>\n",
       "    </tr>\n",
       "  </thead>\n",
       "  <tbody>\n",
       "    <tr>\n",
       "      <th>0</th>\n",
       "      <td>SINALOA</td>\n",
       "      <td>AHOME</td>\n",
       "      <td>23-PROESFE-ESTR-000051-E000-SL</td>\n",
       "      <td>ABOITES</td>\n",
       "      <td>ARMENTA</td>\n",
       "      <td>FRANCISCO</td>\n",
       "      <td>4.0</td>\n",
       "    </tr>\n",
       "    <tr>\n",
       "      <th>1</th>\n",
       "      <td>SINALOA</td>\n",
       "      <td>AHOME</td>\n",
       "      <td>23-PROESFE-ESTR-043733-E000-SL</td>\n",
       "      <td>ABOYTE</td>\n",
       "      <td>RUIZ</td>\n",
       "      <td>ISMAEL</td>\n",
       "      <td>7.0</td>\n",
       "    </tr>\n",
       "    <tr>\n",
       "      <th>2</th>\n",
       "      <td>SINALOA</td>\n",
       "      <td>AHOME</td>\n",
       "      <td>23-PROESFE-ESTR-000052-E000-SL</td>\n",
       "      <td>ABOYTES</td>\n",
       "      <td>ARMENTA</td>\n",
       "      <td>RODOLFO</td>\n",
       "      <td>4.0</td>\n",
       "    </tr>\n",
       "    <tr>\n",
       "      <th>3</th>\n",
       "      <td>SINALOA</td>\n",
       "      <td>AHOME</td>\n",
       "      <td>23-PROESFE-ESTR-030724-E000-SL</td>\n",
       "      <td>ACOSTA</td>\n",
       "      <td>BUELNA</td>\n",
       "      <td>EDGAR</td>\n",
       "      <td>10.0</td>\n",
       "    </tr>\n",
       "    <tr>\n",
       "      <th>4</th>\n",
       "      <td>SINALOA</td>\n",
       "      <td>AHOME</td>\n",
       "      <td>23-PROESFE-ESTR-035928-E000-SL</td>\n",
       "      <td>ACOSTA</td>\n",
       "      <td>BUELNA</td>\n",
       "      <td>GUADALUPE</td>\n",
       "      <td>5.0</td>\n",
       "    </tr>\n",
       "  </tbody>\n",
       "</table>\n",
       "</div>"
      ],
      "text/plain": [
       "    ESTADO MUNICIPIO                   ACUSE ESTATAL APELLIDO PATERNO  \\\n",
       "0  SINALOA     AHOME  23-PROESFE-ESTR-000051-E000-SL          ABOITES   \n",
       "1  SINALOA     AHOME  23-PROESFE-ESTR-043733-E000-SL           ABOYTE   \n",
       "2  SINALOA     AHOME  23-PROESFE-ESTR-000052-E000-SL          ABOYTES   \n",
       "3  SINALOA     AHOME  23-PROESFE-ESTR-030724-E000-SL           ACOSTA   \n",
       "4  SINALOA     AHOME  23-PROESFE-ESTR-035928-E000-SL           ACOSTA   \n",
       "\n",
       "  APELLIDO MATERNO NOMBRE (S)  PAQUETE  \n",
       "0          ARMENTA  FRANCISCO      4.0  \n",
       "1             RUIZ     ISMAEL      7.0  \n",
       "2          ARMENTA    RODOLFO      4.0  \n",
       "3           BUELNA      EDGAR     10.0  \n",
       "4           BUELNA  GUADALUPE      5.0  "
      ]
     },
     "execution_count": 21,
     "metadata": {},
     "output_type": "execute_result"
    }
   ],
   "source": [
    "listado_beneficiarios.head()"
   ]
  },
  {
   "cell_type": "code",
   "execution_count": 22,
   "id": "001e5b4d",
   "metadata": {},
   "outputs": [],
   "source": [
    "Estados_beneficiarios2023 = listado_beneficiarios[['ESTADO', 'MUNICIPIO']]"
   ]
  },
  {
   "cell_type": "code",
   "execution_count": 23,
   "id": "02be04ce",
   "metadata": {},
   "outputs": [],
   "source": [
    "Estados_beneficiarios2023 = Estados_beneficiarios2023.drop_duplicates()"
   ]
  },
  {
   "cell_type": "code",
   "execution_count": 24,
   "id": "33a9e34f",
   "metadata": {},
   "outputs": [],
   "source": [
    "# Estandarizamos la limpieza de los datos\n",
    "Estados_beneficiarios2023['ESTADO_c_benef'] = Estados_beneficiarios2023['ESTADO'].apply(clean_text)\n",
    "Estados_beneficiarios2023['MUNICIPIO_c_benef'] = Estados_beneficiarios2023['MUNICIPIO'].apply(clean_text)"
   ]
  },
  {
   "cell_type": "code",
   "execution_count": 25,
   "id": "bdd2411f",
   "metadata": {},
   "outputs": [
    {
     "data": {
      "text/plain": [
       "(2358, 4)"
      ]
     },
     "execution_count": 25,
     "metadata": {},
     "output_type": "execute_result"
    }
   ],
   "source": [
    "Estados_beneficiarios2023.shape"
   ]
  },
  {
   "cell_type": "code",
   "execution_count": 26,
   "id": "5407ac1e",
   "metadata": {},
   "outputs": [
    {
     "data": {
      "text/html": [
       "<div>\n",
       "<style scoped>\n",
       "    .dataframe tbody tr th:only-of-type {\n",
       "        vertical-align: middle;\n",
       "    }\n",
       "\n",
       "    .dataframe tbody tr th {\n",
       "        vertical-align: top;\n",
       "    }\n",
       "\n",
       "    .dataframe thead th {\n",
       "        text-align: right;\n",
       "    }\n",
       "</style>\n",
       "<table border=\"1\" class=\"dataframe\">\n",
       "  <thead>\n",
       "    <tr style=\"text-align: right;\">\n",
       "      <th></th>\n",
       "      <th>ESTADO</th>\n",
       "      <th>MUNICIPIO</th>\n",
       "      <th>ESTADO_c_benef</th>\n",
       "      <th>MUNICIPIO_c_benef</th>\n",
       "      <th>KEY_benef</th>\n",
       "    </tr>\n",
       "  </thead>\n",
       "  <tbody>\n",
       "    <tr>\n",
       "      <th>0</th>\n",
       "      <td>SINALOA</td>\n",
       "      <td>AHOME</td>\n",
       "      <td>sinaloa</td>\n",
       "      <td>ahome</td>\n",
       "      <td>sinaloa-ahome</td>\n",
       "    </tr>\n",
       "    <tr>\n",
       "      <th>2574</th>\n",
       "      <td>SINALOA</td>\n",
       "      <td>ANGOSTURA</td>\n",
       "      <td>sinaloa</td>\n",
       "      <td>angostura</td>\n",
       "      <td>sinaloa-angostura</td>\n",
       "    </tr>\n",
       "    <tr>\n",
       "      <th>3789</th>\n",
       "      <td>SINALOA</td>\n",
       "      <td>BADIRAGUATO</td>\n",
       "      <td>sinaloa</td>\n",
       "      <td>badiraguato</td>\n",
       "      <td>sinaloa-badiraguato</td>\n",
       "    </tr>\n",
       "    <tr>\n",
       "      <th>6623</th>\n",
       "      <td>SINALOA</td>\n",
       "      <td>CHOIX</td>\n",
       "      <td>sinaloa</td>\n",
       "      <td>choix</td>\n",
       "      <td>sinaloa-choix</td>\n",
       "    </tr>\n",
       "    <tr>\n",
       "      <th>9113</th>\n",
       "      <td>SINALOA</td>\n",
       "      <td>CONCORDIA</td>\n",
       "      <td>sinaloa</td>\n",
       "      <td>concordia</td>\n",
       "      <td>sinaloa-concordia</td>\n",
       "    </tr>\n",
       "  </tbody>\n",
       "</table>\n",
       "</div>"
      ],
      "text/plain": [
       "       ESTADO    MUNICIPIO ESTADO_c_benef MUNICIPIO_c_benef  \\\n",
       "0     SINALOA        AHOME        sinaloa             ahome   \n",
       "2574  SINALOA    ANGOSTURA        sinaloa         angostura   \n",
       "3789  SINALOA  BADIRAGUATO        sinaloa       badiraguato   \n",
       "6623  SINALOA        CHOIX        sinaloa             choix   \n",
       "9113  SINALOA    CONCORDIA        sinaloa         concordia   \n",
       "\n",
       "                KEY_benef  \n",
       "0           sinaloa-ahome  \n",
       "2574    sinaloa-angostura  \n",
       "3789  sinaloa-badiraguato  \n",
       "6623        sinaloa-choix  \n",
       "9113    sinaloa-concordia  "
      ]
     },
     "execution_count": 26,
     "metadata": {},
     "output_type": "execute_result"
    }
   ],
   "source": [
    "Estados_beneficiarios2023['KEY_benef'] = Estados_beneficiarios2023['ESTADO_c_benef'].astype(str) + '-' + Estados_beneficiarios2023[\n",
    "    'MUNICIPIO_c_benef'].astype(str)\n",
    "\n",
    "Estados_beneficiarios2023.head()\n"
   ]
  },
  {
   "cell_type": "code",
   "execution_count": 27,
   "id": "eba1c8548f6a16da",
   "metadata": {
    "ExecuteTime": {
     "end_time": "2024-05-30T14:01:40.725863Z",
     "start_time": "2024-05-30T14:01:40.615616Z"
    }
   },
   "outputs": [
    {
     "name": "stdout",
     "output_type": "stream",
     "text": [
      "                  count unique                        top freq\n",
      "ESTADO             2358     30                     OAXACA  566\n",
      "MUNICIPIO          2358   2237            EMILIANO ZAPATA    6\n",
      "ESTADO_c_benef     2358     30                     oaxaca  566\n",
      "MUNICIPIO_c_benef  2358   2235            emiliano zapata    6\n",
      "KEY_benef          2358   2356  oaxaca-san pedro mixtepec    2\n"
     ]
    }
   ],
   "source": [
    "# Valores únicos y la cantidad de cada columna\n",
    "# Obtener estadísticas descriptivas para todas las variables\n",
    "\n",
    "descriptive_stats = Estados_beneficiarios2023.describe(include='all').transpose()\n",
    "\n",
    "# Mostrar las estadísticas descriptivas\n",
    "print(descriptive_stats)"
   ]
  },
  {
   "cell_type": "code",
   "execution_count": 28,
   "id": "848799ff",
   "metadata": {},
   "outputs": [],
   "source": [
    "Estados_beneficiarios2023 = Estados_beneficiarios2023.drop_duplicates(subset='KEY_benef')"
   ]
  },
  {
   "cell_type": "code",
   "execution_count": 29,
   "metadata": {},
   "outputs": [
    {
     "data": {
      "text/plain": [
       "(2356, 5)"
      ]
     },
     "execution_count": 29,
     "metadata": {},
     "output_type": "execute_result"
    }
   ],
   "source": [
    "Estados_beneficiarios2023.shape"
   ]
  },
  {
   "cell_type": "markdown",
   "id": "daa9f974cc33efa1",
   "metadata": {},
   "source": [
    "# 3. Diccionario de los datasets de INEGI Y LISTADO BENEFICIARIOS 2023\n",
    "\n",
    "El objetivo de esta sección es crear un diccionario de códigos según INEGI para los municipios Listado_beneficiarios2023. Para ello haremos un Left join entre Estados_Beneficiarios2023 y dataset_inegi_clean."
   ]
  },
  {
   "cell_type": "markdown",
   "id": "ce912939",
   "metadata": {},
   "source": [
    "### 3.1 Creamos las columnas clave"
   ]
  },
  {
   "cell_type": "markdown",
   "id": "1aac072a",
   "metadata": {},
   "source": [
    "Confirmamos que tengamos las columnas clave en abos datasets."
   ]
  },
  {
   "cell_type": "code",
   "execution_count": 30,
   "id": "bb33ebdc",
   "metadata": {},
   "outputs": [
    {
     "data": {
      "text/html": [
       "<div>\n",
       "<style scoped>\n",
       "    .dataframe tbody tr th:only-of-type {\n",
       "        vertical-align: middle;\n",
       "    }\n",
       "\n",
       "    .dataframe tbody tr th {\n",
       "        vertical-align: top;\n",
       "    }\n",
       "\n",
       "    .dataframe thead th {\n",
       "        text-align: right;\n",
       "    }\n",
       "</style>\n",
       "<table border=\"1\" class=\"dataframe\">\n",
       "  <thead>\n",
       "    <tr style=\"text-align: right;\">\n",
       "      <th></th>\n",
       "      <th>CVE_ENT</th>\n",
       "      <th>Entidad_inegi</th>\n",
       "      <th>CVE_MUN</th>\n",
       "      <th>Municipio_inegi</th>\n",
       "      <th>Entidad_c_inegi</th>\n",
       "      <th>Municipio_c_inegi</th>\n",
       "      <th>KEY_inegi</th>\n",
       "    </tr>\n",
       "  </thead>\n",
       "  <tbody>\n",
       "    <tr>\n",
       "      <th>0</th>\n",
       "      <td>01</td>\n",
       "      <td>Aguascalientes</td>\n",
       "      <td>001</td>\n",
       "      <td>Aguascalientes</td>\n",
       "      <td>aguascalientes</td>\n",
       "      <td>aguascalientes</td>\n",
       "      <td>aguascalientes-aguascalientes</td>\n",
       "    </tr>\n",
       "    <tr>\n",
       "      <th>708</th>\n",
       "      <td>01</td>\n",
       "      <td>Aguascalientes</td>\n",
       "      <td>002</td>\n",
       "      <td>Asientos</td>\n",
       "      <td>aguascalientes</td>\n",
       "      <td>asientos</td>\n",
       "      <td>aguascalientes-asientos</td>\n",
       "    </tr>\n",
       "    <tr>\n",
       "      <th>945</th>\n",
       "      <td>01</td>\n",
       "      <td>Aguascalientes</td>\n",
       "      <td>003</td>\n",
       "      <td>Calvillo</td>\n",
       "      <td>aguascalientes</td>\n",
       "      <td>calvillo</td>\n",
       "      <td>aguascalientes-calvillo</td>\n",
       "    </tr>\n",
       "    <tr>\n",
       "      <th>1237</th>\n",
       "      <td>01</td>\n",
       "      <td>Aguascalientes</td>\n",
       "      <td>004</td>\n",
       "      <td>Cosío</td>\n",
       "      <td>aguascalientes</td>\n",
       "      <td>cosio</td>\n",
       "      <td>aguascalientes-cosio</td>\n",
       "    </tr>\n",
       "    <tr>\n",
       "      <th>1330</th>\n",
       "      <td>01</td>\n",
       "      <td>Aguascalientes</td>\n",
       "      <td>005</td>\n",
       "      <td>Jesús María</td>\n",
       "      <td>aguascalientes</td>\n",
       "      <td>jesus maria</td>\n",
       "      <td>aguascalientes-jesus maria</td>\n",
       "    </tr>\n",
       "  </tbody>\n",
       "</table>\n",
       "</div>"
      ],
      "text/plain": [
       "     CVE_ENT   Entidad_inegi CVE_MUN Municipio_inegi Entidad_c_inegi  \\\n",
       "0         01  Aguascalientes     001  Aguascalientes  aguascalientes   \n",
       "708       01  Aguascalientes     002        Asientos  aguascalientes   \n",
       "945       01  Aguascalientes     003        Calvillo  aguascalientes   \n",
       "1237      01  Aguascalientes     004           Cosío  aguascalientes   \n",
       "1330      01  Aguascalientes     005     Jesús María  aguascalientes   \n",
       "\n",
       "     Municipio_c_inegi                      KEY_inegi  \n",
       "0       aguascalientes  aguascalientes-aguascalientes  \n",
       "708           asientos        aguascalientes-asientos  \n",
       "945           calvillo        aguascalientes-calvillo  \n",
       "1237             cosio           aguascalientes-cosio  \n",
       "1330       jesus maria     aguascalientes-jesus maria  "
      ]
     },
     "execution_count": 30,
     "metadata": {},
     "output_type": "execute_result"
    }
   ],
   "source": [
    "dataset_inegi_uniquemun.head()"
   ]
  },
  {
   "cell_type": "code",
   "execution_count": 31,
   "id": "8b81e8cb",
   "metadata": {},
   "outputs": [
    {
     "data": {
      "text/html": [
       "<div>\n",
       "<style scoped>\n",
       "    .dataframe tbody tr th:only-of-type {\n",
       "        vertical-align: middle;\n",
       "    }\n",
       "\n",
       "    .dataframe tbody tr th {\n",
       "        vertical-align: top;\n",
       "    }\n",
       "\n",
       "    .dataframe thead th {\n",
       "        text-align: right;\n",
       "    }\n",
       "</style>\n",
       "<table border=\"1\" class=\"dataframe\">\n",
       "  <thead>\n",
       "    <tr style=\"text-align: right;\">\n",
       "      <th></th>\n",
       "      <th>ESTADO</th>\n",
       "      <th>MUNICIPIO</th>\n",
       "      <th>ESTADO_c_benef</th>\n",
       "      <th>MUNICIPIO_c_benef</th>\n",
       "      <th>KEY_benef</th>\n",
       "    </tr>\n",
       "  </thead>\n",
       "  <tbody>\n",
       "    <tr>\n",
       "      <th>0</th>\n",
       "      <td>SINALOA</td>\n",
       "      <td>AHOME</td>\n",
       "      <td>sinaloa</td>\n",
       "      <td>ahome</td>\n",
       "      <td>sinaloa-ahome</td>\n",
       "    </tr>\n",
       "    <tr>\n",
       "      <th>2574</th>\n",
       "      <td>SINALOA</td>\n",
       "      <td>ANGOSTURA</td>\n",
       "      <td>sinaloa</td>\n",
       "      <td>angostura</td>\n",
       "      <td>sinaloa-angostura</td>\n",
       "    </tr>\n",
       "    <tr>\n",
       "      <th>3789</th>\n",
       "      <td>SINALOA</td>\n",
       "      <td>BADIRAGUATO</td>\n",
       "      <td>sinaloa</td>\n",
       "      <td>badiraguato</td>\n",
       "      <td>sinaloa-badiraguato</td>\n",
       "    </tr>\n",
       "    <tr>\n",
       "      <th>6623</th>\n",
       "      <td>SINALOA</td>\n",
       "      <td>CHOIX</td>\n",
       "      <td>sinaloa</td>\n",
       "      <td>choix</td>\n",
       "      <td>sinaloa-choix</td>\n",
       "    </tr>\n",
       "    <tr>\n",
       "      <th>9113</th>\n",
       "      <td>SINALOA</td>\n",
       "      <td>CONCORDIA</td>\n",
       "      <td>sinaloa</td>\n",
       "      <td>concordia</td>\n",
       "      <td>sinaloa-concordia</td>\n",
       "    </tr>\n",
       "  </tbody>\n",
       "</table>\n",
       "</div>"
      ],
      "text/plain": [
       "       ESTADO    MUNICIPIO ESTADO_c_benef MUNICIPIO_c_benef  \\\n",
       "0     SINALOA        AHOME        sinaloa             ahome   \n",
       "2574  SINALOA    ANGOSTURA        sinaloa         angostura   \n",
       "3789  SINALOA  BADIRAGUATO        sinaloa       badiraguato   \n",
       "6623  SINALOA        CHOIX        sinaloa             choix   \n",
       "9113  SINALOA    CONCORDIA        sinaloa         concordia   \n",
       "\n",
       "                KEY_benef  \n",
       "0           sinaloa-ahome  \n",
       "2574    sinaloa-angostura  \n",
       "3789  sinaloa-badiraguato  \n",
       "6623        sinaloa-choix  \n",
       "9113    sinaloa-concordia  "
      ]
     },
     "execution_count": 31,
     "metadata": {},
     "output_type": "execute_result"
    }
   ],
   "source": [
    "Estados_beneficiarios2023.head()"
   ]
  },
  {
   "cell_type": "code",
   "execution_count": 32,
   "id": "8baf7b52",
   "metadata": {},
   "outputs": [
    {
     "data": {
      "text/plain": [
       "(2476, 7)"
      ]
     },
     "execution_count": 32,
     "metadata": {},
     "output_type": "execute_result"
    }
   ],
   "source": [
    "dataset_inegi_uniquemun.shape"
   ]
  },
  {
   "cell_type": "code",
   "execution_count": 33,
   "id": "9458d520",
   "metadata": {},
   "outputs": [
    {
     "data": {
      "text/plain": [
       "(2356, 5)"
      ]
     },
     "execution_count": 33,
     "metadata": {},
     "output_type": "execute_result"
    }
   ],
   "source": [
    "Estados_beneficiarios2023.shape"
   ]
  },
  {
   "cell_type": "markdown",
   "id": "e51d9278",
   "metadata": {},
   "source": []
  },
  {
   "cell_type": "markdown",
   "id": "54bf8df24ed21525",
   "metadata": {},
   "source": [
    "### 3.1 Left join (Para crear diccionario)\n",
    "\n",
    "Creamos el diccionario."
   ]
  },
  {
   "cell_type": "code",
   "execution_count": 34,
   "id": "ad6eaef8",
   "metadata": {},
   "outputs": [],
   "source": [
    "# Crear una función para encontrar la mejor coincidencia difusa con límites entre 90 y 100 de coincidencia\n",
    "def fuzzy_merge_benef2023(df_benef, df_inegi, key1, key2, threshold=90, limit=1):\n",
    "    \"\"\"\n",
    "    df_inegi: DataFrame de la izquierda (el DataFrame principal)\n",
    "    df_prod: DataFrame de la derecha (el DataFrame con el que se quiere hacer el join)\n",
    "    key1: Columna de la clave en df_inegi\n",
    "    key2: Columna de la clave en df_prod\n",
    "    threshold: Umbral de coincidencia difusa\n",
    "    limit: Número de coincidencias a encontrar\n",
    "    \"\"\"\n",
    "    s = df_inegi[key2].tolist()\n",
    "    \n",
    "    # Encontrar las mejores coincidencias para cada clave en df_inegi\n",
    "    matches = df_benef[key1].apply(lambda x: process.extractOne(x, s, score_cutoff=threshold))\n",
    "\n",
    "\n",
    "    # Crear una columna con las mejores coincidencias\n",
    "    df_benef['best_match'] = [match[0] if match else None for match in matches]\n",
    "    \n",
    "    df_benef['match_score'] = [match[1] if match else None for match in matches]\n",
    "    \n",
    "\n",
    "    # Hacer el merge con las mejores coincidencias\n",
    "    df_merged = pd.merge(df_benef, df_inegi, left_on='best_match', right_on=key2, how='left',\n",
    "                         suffixes=('_benef', '_inegi'))\n",
    "    \n",
    "    return df_merged"
   ]
  },
  {
   "cell_type": "code",
   "execution_count": 35,
   "id": "ef162063",
   "metadata": {},
   "outputs": [
    {
     "ename": "KeyboardInterrupt",
     "evalue": "",
     "output_type": "error",
     "traceback": [
      "\u001b[0;31m---------------------------------------------------------------------------\u001b[0m",
      "\u001b[0;31mAttributeError\u001b[0m                            Traceback (most recent call last)",
      "File \u001b[0;32m/opt/anaconda3/lib/python3.11/site-packages/thefuzz/process.py:108\u001b[0m, in \u001b[0;36mextractWithoutOrder\u001b[0;34m(query, choices, processor, scorer, score_cutoff)\u001b[0m\n\u001b[1;32m    106\u001b[0m \u001b[38;5;28;01mtry\u001b[39;00m:\n\u001b[1;32m    107\u001b[0m     \u001b[38;5;66;03m# See if choices is a dictionary-like object.\u001b[39;00m\n\u001b[0;32m--> 108\u001b[0m     \u001b[38;5;28;01mfor\u001b[39;00m key, choice \u001b[38;5;129;01min\u001b[39;00m choices\u001b[38;5;241m.\u001b[39mitems():\n\u001b[1;32m    109\u001b[0m         processed \u001b[38;5;241m=\u001b[39m pre_processor(processor(choice))\n",
      "\u001b[0;31mAttributeError\u001b[0m: 'list' object has no attribute 'items'",
      "\nDuring handling of the above exception, another exception occurred:\n",
      "\u001b[0;31mKeyboardInterrupt\u001b[0m                         Traceback (most recent call last)",
      "Cell \u001b[0;32mIn[35], line 1\u001b[0m\n\u001b[0;32m----> 1\u001b[0m diccionario \u001b[38;5;241m=\u001b[39m fuzzy_merge_benef2023(Estados_beneficiarios2023, dataset_inegi_uniquemun, \u001b[38;5;124m'\u001b[39m\u001b[38;5;124mKEY_benef\u001b[39m\u001b[38;5;124m'\u001b[39m, \u001b[38;5;124m'\u001b[39m\u001b[38;5;124mKEY_inegi\u001b[39m\u001b[38;5;124m'\u001b[39m)\n\u001b[1;32m      2\u001b[0m \u001b[38;5;66;03m# Mostrar el resultado\u001b[39;00m\n\u001b[1;32m      3\u001b[0m diccionario\u001b[38;5;241m.\u001b[39mcolumns\n",
      "Cell \u001b[0;32mIn[34], line 14\u001b[0m, in \u001b[0;36mfuzzy_merge_benef2023\u001b[0;34m(df_benef, df_inegi, key1, key2, threshold, limit)\u001b[0m\n\u001b[1;32m     11\u001b[0m s \u001b[38;5;241m=\u001b[39m df_inegi[key2]\u001b[38;5;241m.\u001b[39mtolist()\n\u001b[1;32m     13\u001b[0m \u001b[38;5;66;03m# Encontrar las mejores coincidencias para cada clave en df_inegi\u001b[39;00m\n\u001b[0;32m---> 14\u001b[0m matches \u001b[38;5;241m=\u001b[39m df_benef[key1]\u001b[38;5;241m.\u001b[39mapply(\u001b[38;5;28;01mlambda\u001b[39;00m x: process\u001b[38;5;241m.\u001b[39mextractOne(x, s, score_cutoff\u001b[38;5;241m=\u001b[39mthreshold))\n\u001b[1;32m     17\u001b[0m \u001b[38;5;66;03m# Crear una columna con las mejores coincidencias\u001b[39;00m\n\u001b[1;32m     18\u001b[0m df_benef[\u001b[38;5;124m'\u001b[39m\u001b[38;5;124mbest_match\u001b[39m\u001b[38;5;124m'\u001b[39m] \u001b[38;5;241m=\u001b[39m [match[\u001b[38;5;241m0\u001b[39m] \u001b[38;5;28;01mif\u001b[39;00m match \u001b[38;5;28;01melse\u001b[39;00m \u001b[38;5;28;01mNone\u001b[39;00m \u001b[38;5;28;01mfor\u001b[39;00m match \u001b[38;5;129;01min\u001b[39;00m matches]\n",
      "File \u001b[0;32m/opt/anaconda3/lib/python3.11/site-packages/pandas/core/series.py:4924\u001b[0m, in \u001b[0;36mSeries.apply\u001b[0;34m(self, func, convert_dtype, args, by_row, **kwargs)\u001b[0m\n\u001b[1;32m   4789\u001b[0m \u001b[38;5;28;01mdef\u001b[39;00m \u001b[38;5;21mapply\u001b[39m(\n\u001b[1;32m   4790\u001b[0m     \u001b[38;5;28mself\u001b[39m,\n\u001b[1;32m   4791\u001b[0m     func: AggFuncType,\n\u001b[0;32m   (...)\u001b[0m\n\u001b[1;32m   4796\u001b[0m     \u001b[38;5;241m*\u001b[39m\u001b[38;5;241m*\u001b[39mkwargs,\n\u001b[1;32m   4797\u001b[0m ) \u001b[38;5;241m-\u001b[39m\u001b[38;5;241m>\u001b[39m DataFrame \u001b[38;5;241m|\u001b[39m Series:\n\u001b[1;32m   4798\u001b[0m \u001b[38;5;250m    \u001b[39m\u001b[38;5;124;03m\"\"\"\u001b[39;00m\n\u001b[1;32m   4799\u001b[0m \u001b[38;5;124;03m    Invoke function on values of Series.\u001b[39;00m\n\u001b[1;32m   4800\u001b[0m \n\u001b[0;32m   (...)\u001b[0m\n\u001b[1;32m   4915\u001b[0m \u001b[38;5;124;03m    dtype: float64\u001b[39;00m\n\u001b[1;32m   4916\u001b[0m \u001b[38;5;124;03m    \"\"\"\u001b[39;00m\n\u001b[1;32m   4917\u001b[0m     \u001b[38;5;28;01mreturn\u001b[39;00m SeriesApply(\n\u001b[1;32m   4918\u001b[0m         \u001b[38;5;28mself\u001b[39m,\n\u001b[1;32m   4919\u001b[0m         func,\n\u001b[1;32m   4920\u001b[0m         convert_dtype\u001b[38;5;241m=\u001b[39mconvert_dtype,\n\u001b[1;32m   4921\u001b[0m         by_row\u001b[38;5;241m=\u001b[39mby_row,\n\u001b[1;32m   4922\u001b[0m         args\u001b[38;5;241m=\u001b[39margs,\n\u001b[1;32m   4923\u001b[0m         kwargs\u001b[38;5;241m=\u001b[39mkwargs,\n\u001b[0;32m-> 4924\u001b[0m     )\u001b[38;5;241m.\u001b[39mapply()\n",
      "File \u001b[0;32m/opt/anaconda3/lib/python3.11/site-packages/pandas/core/apply.py:1427\u001b[0m, in \u001b[0;36mSeriesApply.apply\u001b[0;34m(self)\u001b[0m\n\u001b[1;32m   1424\u001b[0m     \u001b[38;5;28;01mreturn\u001b[39;00m \u001b[38;5;28mself\u001b[39m\u001b[38;5;241m.\u001b[39mapply_compat()\n\u001b[1;32m   1426\u001b[0m \u001b[38;5;66;03m# self.func is Callable\u001b[39;00m\n\u001b[0;32m-> 1427\u001b[0m \u001b[38;5;28;01mreturn\u001b[39;00m \u001b[38;5;28mself\u001b[39m\u001b[38;5;241m.\u001b[39mapply_standard()\n",
      "File \u001b[0;32m/opt/anaconda3/lib/python3.11/site-packages/pandas/core/apply.py:1507\u001b[0m, in \u001b[0;36mSeriesApply.apply_standard\u001b[0;34m(self)\u001b[0m\n\u001b[1;32m   1501\u001b[0m \u001b[38;5;66;03m# row-wise access\u001b[39;00m\n\u001b[1;32m   1502\u001b[0m \u001b[38;5;66;03m# apply doesn't have a `na_action` keyword and for backward compat reasons\u001b[39;00m\n\u001b[1;32m   1503\u001b[0m \u001b[38;5;66;03m# we need to give `na_action=\"ignore\"` for categorical data.\u001b[39;00m\n\u001b[1;32m   1504\u001b[0m \u001b[38;5;66;03m# TODO: remove the `na_action=\"ignore\"` when that default has been changed in\u001b[39;00m\n\u001b[1;32m   1505\u001b[0m \u001b[38;5;66;03m#  Categorical (GH51645).\u001b[39;00m\n\u001b[1;32m   1506\u001b[0m action \u001b[38;5;241m=\u001b[39m \u001b[38;5;124m\"\u001b[39m\u001b[38;5;124mignore\u001b[39m\u001b[38;5;124m\"\u001b[39m \u001b[38;5;28;01mif\u001b[39;00m \u001b[38;5;28misinstance\u001b[39m(obj\u001b[38;5;241m.\u001b[39mdtype, CategoricalDtype) \u001b[38;5;28;01melse\u001b[39;00m \u001b[38;5;28;01mNone\u001b[39;00m\n\u001b[0;32m-> 1507\u001b[0m mapped \u001b[38;5;241m=\u001b[39m obj\u001b[38;5;241m.\u001b[39m_map_values(\n\u001b[1;32m   1508\u001b[0m     mapper\u001b[38;5;241m=\u001b[39mcurried, na_action\u001b[38;5;241m=\u001b[39maction, convert\u001b[38;5;241m=\u001b[39m\u001b[38;5;28mself\u001b[39m\u001b[38;5;241m.\u001b[39mconvert_dtype\n\u001b[1;32m   1509\u001b[0m )\n\u001b[1;32m   1511\u001b[0m \u001b[38;5;28;01mif\u001b[39;00m \u001b[38;5;28mlen\u001b[39m(mapped) \u001b[38;5;129;01mand\u001b[39;00m \u001b[38;5;28misinstance\u001b[39m(mapped[\u001b[38;5;241m0\u001b[39m], ABCSeries):\n\u001b[1;32m   1512\u001b[0m     \u001b[38;5;66;03m# GH#43986 Need to do list(mapped) in order to get treated as nested\u001b[39;00m\n\u001b[1;32m   1513\u001b[0m     \u001b[38;5;66;03m#  See also GH#25959 regarding EA support\u001b[39;00m\n\u001b[1;32m   1514\u001b[0m     \u001b[38;5;28;01mreturn\u001b[39;00m obj\u001b[38;5;241m.\u001b[39m_constructor_expanddim(\u001b[38;5;28mlist\u001b[39m(mapped), index\u001b[38;5;241m=\u001b[39mobj\u001b[38;5;241m.\u001b[39mindex)\n",
      "File \u001b[0;32m/opt/anaconda3/lib/python3.11/site-packages/pandas/core/base.py:921\u001b[0m, in \u001b[0;36mIndexOpsMixin._map_values\u001b[0;34m(self, mapper, na_action, convert)\u001b[0m\n\u001b[1;32m    918\u001b[0m \u001b[38;5;28;01mif\u001b[39;00m \u001b[38;5;28misinstance\u001b[39m(arr, ExtensionArray):\n\u001b[1;32m    919\u001b[0m     \u001b[38;5;28;01mreturn\u001b[39;00m arr\u001b[38;5;241m.\u001b[39mmap(mapper, na_action\u001b[38;5;241m=\u001b[39mna_action)\n\u001b[0;32m--> 921\u001b[0m \u001b[38;5;28;01mreturn\u001b[39;00m algorithms\u001b[38;5;241m.\u001b[39mmap_array(arr, mapper, na_action\u001b[38;5;241m=\u001b[39mna_action, convert\u001b[38;5;241m=\u001b[39mconvert)\n",
      "File \u001b[0;32m/opt/anaconda3/lib/python3.11/site-packages/pandas/core/algorithms.py:1743\u001b[0m, in \u001b[0;36mmap_array\u001b[0;34m(arr, mapper, na_action, convert)\u001b[0m\n\u001b[1;32m   1741\u001b[0m values \u001b[38;5;241m=\u001b[39m arr\u001b[38;5;241m.\u001b[39mastype(\u001b[38;5;28mobject\u001b[39m, copy\u001b[38;5;241m=\u001b[39m\u001b[38;5;28;01mFalse\u001b[39;00m)\n\u001b[1;32m   1742\u001b[0m \u001b[38;5;28;01mif\u001b[39;00m na_action \u001b[38;5;129;01mis\u001b[39;00m \u001b[38;5;28;01mNone\u001b[39;00m:\n\u001b[0;32m-> 1743\u001b[0m     \u001b[38;5;28;01mreturn\u001b[39;00m lib\u001b[38;5;241m.\u001b[39mmap_infer(values, mapper, convert\u001b[38;5;241m=\u001b[39mconvert)\n\u001b[1;32m   1744\u001b[0m \u001b[38;5;28;01melse\u001b[39;00m:\n\u001b[1;32m   1745\u001b[0m     \u001b[38;5;28;01mreturn\u001b[39;00m lib\u001b[38;5;241m.\u001b[39mmap_infer_mask(\n\u001b[1;32m   1746\u001b[0m         values, mapper, mask\u001b[38;5;241m=\u001b[39misna(values)\u001b[38;5;241m.\u001b[39mview(np\u001b[38;5;241m.\u001b[39muint8), convert\u001b[38;5;241m=\u001b[39mconvert\n\u001b[1;32m   1747\u001b[0m     )\n",
      "File \u001b[0;32mlib.pyx:2972\u001b[0m, in \u001b[0;36mpandas._libs.lib.map_infer\u001b[0;34m()\u001b[0m\n",
      "Cell \u001b[0;32mIn[34], line 14\u001b[0m, in \u001b[0;36mfuzzy_merge_benef2023.<locals>.<lambda>\u001b[0;34m(x)\u001b[0m\n\u001b[1;32m     11\u001b[0m s \u001b[38;5;241m=\u001b[39m df_inegi[key2]\u001b[38;5;241m.\u001b[39mtolist()\n\u001b[1;32m     13\u001b[0m \u001b[38;5;66;03m# Encontrar las mejores coincidencias para cada clave en df_inegi\u001b[39;00m\n\u001b[0;32m---> 14\u001b[0m matches \u001b[38;5;241m=\u001b[39m df_benef[key1]\u001b[38;5;241m.\u001b[39mapply(\u001b[38;5;28;01mlambda\u001b[39;00m x: process\u001b[38;5;241m.\u001b[39mextractOne(x, s, score_cutoff\u001b[38;5;241m=\u001b[39mthreshold))\n\u001b[1;32m     17\u001b[0m \u001b[38;5;66;03m# Crear una columna con las mejores coincidencias\u001b[39;00m\n\u001b[1;32m     18\u001b[0m df_benef[\u001b[38;5;124m'\u001b[39m\u001b[38;5;124mbest_match\u001b[39m\u001b[38;5;124m'\u001b[39m] \u001b[38;5;241m=\u001b[39m [match[\u001b[38;5;241m0\u001b[39m] \u001b[38;5;28;01mif\u001b[39;00m match \u001b[38;5;28;01melse\u001b[39;00m \u001b[38;5;28;01mNone\u001b[39;00m \u001b[38;5;28;01mfor\u001b[39;00m match \u001b[38;5;129;01min\u001b[39;00m matches]\n",
      "File \u001b[0;32m/opt/anaconda3/lib/python3.11/site-packages/thefuzz/process.py:220\u001b[0m, in \u001b[0;36mextractOne\u001b[0;34m(query, choices, processor, scorer, score_cutoff)\u001b[0m\n\u001b[1;32m    218\u001b[0m best_list \u001b[38;5;241m=\u001b[39m extractWithoutOrder(query, choices, processor, scorer, score_cutoff)\n\u001b[1;32m    219\u001b[0m \u001b[38;5;28;01mtry\u001b[39;00m:\n\u001b[0;32m--> 220\u001b[0m     \u001b[38;5;28;01mreturn\u001b[39;00m \u001b[38;5;28mmax\u001b[39m(best_list, key\u001b[38;5;241m=\u001b[39m\u001b[38;5;28;01mlambda\u001b[39;00m i: i[\u001b[38;5;241m1\u001b[39m])\n\u001b[1;32m    221\u001b[0m \u001b[38;5;28;01mexcept\u001b[39;00m \u001b[38;5;167;01mValueError\u001b[39;00m:\n\u001b[1;32m    222\u001b[0m     \u001b[38;5;28;01mreturn\u001b[39;00m \u001b[38;5;28;01mNone\u001b[39;00m\n",
      "File \u001b[0;32m/opt/anaconda3/lib/python3.11/site-packages/thefuzz/process.py:117\u001b[0m, in \u001b[0;36mextractWithoutOrder\u001b[0;34m(query, choices, processor, scorer, score_cutoff)\u001b[0m\n\u001b[1;32m    115\u001b[0m \u001b[38;5;28;01mfor\u001b[39;00m choice \u001b[38;5;129;01min\u001b[39;00m choices:\n\u001b[1;32m    116\u001b[0m     processed \u001b[38;5;241m=\u001b[39m pre_processor(processor(choice))\n\u001b[0;32m--> 117\u001b[0m     score \u001b[38;5;241m=\u001b[39m scorer(processed_query, processed)\n\u001b[1;32m    118\u001b[0m     \u001b[38;5;28;01mif\u001b[39;00m score \u001b[38;5;241m>\u001b[39m\u001b[38;5;241m=\u001b[39m score_cutoff:\n\u001b[1;32m    119\u001b[0m         \u001b[38;5;28;01myield\u001b[39;00m (choice, score)\n",
      "File \u001b[0;32m/opt/anaconda3/lib/python3.11/site-packages/thefuzz/fuzz.py:291\u001b[0m, in \u001b[0;36mWRatio\u001b[0;34m(s1, s2, force_ascii, full_process)\u001b[0m\n\u001b[1;32m    288\u001b[0m     partial \u001b[38;5;241m=\u001b[39m partial_ratio(p1, p2) \u001b[38;5;241m*\u001b[39m partial_scale\n\u001b[1;32m    289\u001b[0m     ptsor \u001b[38;5;241m=\u001b[39m partial_token_sort_ratio(p1, p2, full_process\u001b[38;5;241m=\u001b[39m\u001b[38;5;28;01mFalse\u001b[39;00m) \\\n\u001b[1;32m    290\u001b[0m         \u001b[38;5;241m*\u001b[39m unbase_scale \u001b[38;5;241m*\u001b[39m partial_scale\n\u001b[0;32m--> 291\u001b[0m     ptser \u001b[38;5;241m=\u001b[39m partial_token_set_ratio(p1, p2, full_process\u001b[38;5;241m=\u001b[39m\u001b[38;5;28;01mFalse\u001b[39;00m) \\\n\u001b[1;32m    292\u001b[0m         \u001b[38;5;241m*\u001b[39m unbase_scale \u001b[38;5;241m*\u001b[39m partial_scale\n\u001b[1;32m    294\u001b[0m     \u001b[38;5;28;01mreturn\u001b[39;00m utils\u001b[38;5;241m.\u001b[39mintr(\u001b[38;5;28mmax\u001b[39m(base, partial, ptsor, ptser))\n\u001b[1;32m    295\u001b[0m \u001b[38;5;28;01melse\u001b[39;00m:\n",
      "File \u001b[0;32m/opt/anaconda3/lib/python3.11/site-packages/thefuzz/fuzz.py:173\u001b[0m, in \u001b[0;36mpartial_token_set_ratio\u001b[0;34m(s1, s2, force_ascii, full_process)\u001b[0m\n\u001b[1;32m    172\u001b[0m \u001b[38;5;28;01mdef\u001b[39;00m \u001b[38;5;21mpartial_token_set_ratio\u001b[39m(s1, s2, force_ascii\u001b[38;5;241m=\u001b[39m\u001b[38;5;28;01mTrue\u001b[39;00m, full_process\u001b[38;5;241m=\u001b[39m\u001b[38;5;28;01mTrue\u001b[39;00m):\n\u001b[0;32m--> 173\u001b[0m     \u001b[38;5;28;01mreturn\u001b[39;00m _token_set(s1, s2, partial\u001b[38;5;241m=\u001b[39m\u001b[38;5;28;01mTrue\u001b[39;00m, force_ascii\u001b[38;5;241m=\u001b[39mforce_ascii, full_process\u001b[38;5;241m=\u001b[39mfull_process)\n",
      "File \u001b[0;32m/opt/anaconda3/lib/python3.11/site-packages/thefuzz/utils.py:38\u001b[0m, in \u001b[0;36mcheck_for_none.<locals>.decorator\u001b[0;34m(*args, **kwargs)\u001b[0m\n\u001b[1;32m     36\u001b[0m \u001b[38;5;28;01mif\u001b[39;00m args[\u001b[38;5;241m0\u001b[39m] \u001b[38;5;129;01mis\u001b[39;00m \u001b[38;5;28;01mNone\u001b[39;00m \u001b[38;5;129;01mor\u001b[39;00m args[\u001b[38;5;241m1\u001b[39m] \u001b[38;5;129;01mis\u001b[39;00m \u001b[38;5;28;01mNone\u001b[39;00m:\n\u001b[1;32m     37\u001b[0m     \u001b[38;5;28;01mreturn\u001b[39;00m \u001b[38;5;241m0\u001b[39m\n\u001b[0;32m---> 38\u001b[0m \u001b[38;5;28;01mreturn\u001b[39;00m func(\u001b[38;5;241m*\u001b[39margs, \u001b[38;5;241m*\u001b[39m\u001b[38;5;241m*\u001b[39mkwargs)\n",
      "File \u001b[0;32m/opt/anaconda3/lib/python3.11/site-packages/thefuzz/fuzz.py:163\u001b[0m, in \u001b[0;36m_token_set\u001b[0;34m(s1, s2, partial, force_ascii, full_process)\u001b[0m\n\u001b[1;32m    157\u001b[0m \u001b[38;5;28;01melse\u001b[39;00m:\n\u001b[1;32m    158\u001b[0m     ratio_func \u001b[38;5;241m=\u001b[39m ratio\n\u001b[1;32m    160\u001b[0m pairwise \u001b[38;5;241m=\u001b[39m [\n\u001b[1;32m    161\u001b[0m     ratio_func(sorted_sect, combined_1to2),\n\u001b[1;32m    162\u001b[0m     ratio_func(sorted_sect, combined_2to1),\n\u001b[0;32m--> 163\u001b[0m     ratio_func(combined_1to2, combined_2to1)\n\u001b[1;32m    164\u001b[0m ]\n\u001b[1;32m    165\u001b[0m \u001b[38;5;28;01mreturn\u001b[39;00m \u001b[38;5;28mmax\u001b[39m(pairwise)\n",
      "File \u001b[0;32m/opt/anaconda3/lib/python3.11/site-packages/thefuzz/utils.py:38\u001b[0m, in \u001b[0;36mcheck_for_none.<locals>.decorator\u001b[0;34m(*args, **kwargs)\u001b[0m\n\u001b[1;32m     36\u001b[0m \u001b[38;5;28;01mif\u001b[39;00m args[\u001b[38;5;241m0\u001b[39m] \u001b[38;5;129;01mis\u001b[39;00m \u001b[38;5;28;01mNone\u001b[39;00m \u001b[38;5;129;01mor\u001b[39;00m args[\u001b[38;5;241m1\u001b[39m] \u001b[38;5;129;01mis\u001b[39;00m \u001b[38;5;28;01mNone\u001b[39;00m:\n\u001b[1;32m     37\u001b[0m     \u001b[38;5;28;01mreturn\u001b[39;00m \u001b[38;5;241m0\u001b[39m\n\u001b[0;32m---> 38\u001b[0m \u001b[38;5;28;01mreturn\u001b[39;00m func(\u001b[38;5;241m*\u001b[39margs, \u001b[38;5;241m*\u001b[39m\u001b[38;5;241m*\u001b[39mkwargs)\n",
      "File \u001b[0;32m/opt/anaconda3/lib/python3.11/site-packages/thefuzz/utils.py:29\u001b[0m, in \u001b[0;36mcheck_for_equivalence.<locals>.decorator\u001b[0;34m(*args, **kwargs)\u001b[0m\n\u001b[1;32m     27\u001b[0m \u001b[38;5;28;01mif\u001b[39;00m args[\u001b[38;5;241m0\u001b[39m] \u001b[38;5;241m==\u001b[39m args[\u001b[38;5;241m1\u001b[39m]:\n\u001b[1;32m     28\u001b[0m     \u001b[38;5;28;01mreturn\u001b[39;00m \u001b[38;5;241m100\u001b[39m\n\u001b[0;32m---> 29\u001b[0m \u001b[38;5;28;01mreturn\u001b[39;00m func(\u001b[38;5;241m*\u001b[39margs, \u001b[38;5;241m*\u001b[39m\u001b[38;5;241m*\u001b[39mkwargs)\n",
      "File \u001b[0;32m/opt/anaconda3/lib/python3.11/site-packages/thefuzz/utils.py:47\u001b[0m, in \u001b[0;36mcheck_empty_string.<locals>.decorator\u001b[0;34m(*args, **kwargs)\u001b[0m\n\u001b[1;32m     45\u001b[0m \u001b[38;5;28;01mif\u001b[39;00m \u001b[38;5;28mlen\u001b[39m(args[\u001b[38;5;241m0\u001b[39m]) \u001b[38;5;241m==\u001b[39m \u001b[38;5;241m0\u001b[39m \u001b[38;5;129;01mor\u001b[39;00m \u001b[38;5;28mlen\u001b[39m(args[\u001b[38;5;241m1\u001b[39m]) \u001b[38;5;241m==\u001b[39m \u001b[38;5;241m0\u001b[39m:\n\u001b[1;32m     46\u001b[0m     \u001b[38;5;28;01mreturn\u001b[39;00m \u001b[38;5;241m0\u001b[39m\n\u001b[0;32m---> 47\u001b[0m \u001b[38;5;28;01mreturn\u001b[39;00m func(\u001b[38;5;241m*\u001b[39margs, \u001b[38;5;241m*\u001b[39m\u001b[38;5;241m*\u001b[39mkwargs)\n",
      "File \u001b[0;32m/opt/anaconda3/lib/python3.11/site-packages/thefuzz/fuzz.py:66\u001b[0m, in \u001b[0;36mpartial_ratio\u001b[0;34m(s1, s2)\u001b[0m\n\u001b[1;32m     64\u001b[0m         \u001b[38;5;28;01mreturn\u001b[39;00m \u001b[38;5;241m100\u001b[39m\n\u001b[1;32m     65\u001b[0m     \u001b[38;5;28;01melse\u001b[39;00m:\n\u001b[0;32m---> 66\u001b[0m         scores\u001b[38;5;241m.\u001b[39mappend(r)\n\u001b[1;32m     68\u001b[0m \u001b[38;5;28;01mreturn\u001b[39;00m utils\u001b[38;5;241m.\u001b[39mintr(\u001b[38;5;241m100\u001b[39m \u001b[38;5;241m*\u001b[39m \u001b[38;5;28mmax\u001b[39m(scores))\n",
      "\u001b[0;31mKeyboardInterrupt\u001b[0m: "
     ]
    }
   ],
   "source": [
    "diccionario = fuzzy_merge_benef2023(Estados_beneficiarios2023, dataset_inegi_uniquemun, 'KEY_benef', 'KEY_inegi')\n",
    "# Mostrar el resultado\n",
    "diccionario.columns"
   ]
  },
  {
   "cell_type": "code",
   "execution_count": null,
   "id": "0551eb3f",
   "metadata": {},
   "outputs": [],
   "source": [
    "# Valores únicos y la cantidad de cada columna\n",
    "# Obtener estadísticas descriptivas para todas las variables\n",
    "\n",
    "descriptive_stats = diccionario.describe(include='all').transpose()\n",
    "\n",
    "# Mostrar las estadísticas descriptivas\n",
    "print(descriptive_stats)"
   ]
  },
  {
   "cell_type": "code",
   "execution_count": null,
   "id": "0a596a42",
   "metadata": {},
   "outputs": [],
   "source": [
    "nan_rows = diccionario.isna()"
   ]
  },
  {
   "cell_type": "code",
   "execution_count": null,
   "id": "4cefccc4079ae8e9",
   "metadata": {
    "ExecuteTime": {
     "end_time": "2024-05-30T14:04:01.741880Z",
     "start_time": "2024-05-30T14:04:01.724246Z"
    }
   },
   "outputs": [],
   "source": [
    "diccionario.to_csv('../../data/diccionario_benef.csv', index=False)"
   ]
  },
  {
   "cell_type": "markdown",
   "id": "7480947838e468f7",
   "metadata": {},
   "source": [
    "## 3.2 Listado beneficiarios2023\n",
    "\n",
    "Esta sección se encarga de completar el listado original de Beneficiarios Autorizados con los nombre corregido de INEGI usando el diccionario."
   ]
  },
  {
   "cell_type": "code",
   "execution_count": 36,
   "id": "6ae598e683e47cac",
   "metadata": {
    "ExecuteTime": {
     "end_time": "2024-05-30T14:04:10.797009Z",
     "start_time": "2024-05-30T14:04:01.743888Z"
    }
   },
   "outputs": [],
   "source": [
    "# Crear una variable KEY en listado de productores y el diccionario para hacer el join\n",
    "\n",
    "# Clean listado beneficiarios\n",
    "listado_beneficiarios['ESTADO_Clean'] = listado_beneficiarios['ESTADO'].apply(clean_text)\n",
    "listado_beneficiarios['MUNICIPIO_Clean'] = listado_beneficiarios['MUNICIPIO'].apply(clean_text)\n",
    "\n",
    "# Create KEY in listado beneficiarios\n",
    "listado_beneficiarios['Estado-mun-KEY'] = listado_beneficiarios['ESTADO_Clean'].astype(str) + '-' + listado_beneficiarios[\n",
    "    'MUNICIPIO_Clean'].astype(str)"
   ]
  },
  {
   "cell_type": "code",
   "execution_count": 37,
   "id": "d8d5e195",
   "metadata": {},
   "outputs": [],
   "source": [
    "nan_rows = listado_beneficiarios.isna()"
   ]
  },
  {
   "cell_type": "code",
   "execution_count": 38,
   "id": "446d9c40",
   "metadata": {},
   "outputs": [
    {
     "data": {
      "text/plain": [
       "ESTADO                  0\n",
       "MUNICIPIO               0\n",
       "ACUSE ESTATAL           0\n",
       "APELLIDO PATERNO        1\n",
       "APELLIDO MATERNO    26228\n",
       "NOMBRE (S)              0\n",
       "PAQUETE                 8\n",
       "ESTADO_Clean            0\n",
       "MUNICIPIO_Clean         0\n",
       "Estado-mun-KEY          0\n",
       "dtype: int64"
      ]
     },
     "execution_count": 38,
     "metadata": {},
     "output_type": "execute_result"
    }
   ],
   "source": [
    "nan_rows.sum()"
   ]
  },
  {
   "cell_type": "code",
   "execution_count": 39,
   "id": "672ed551381e1e8a",
   "metadata": {
    "ExecuteTime": {
     "end_time": "2024-05-30T14:04:10.806584Z",
     "start_time": "2024-05-30T14:04:10.800015Z"
    }
   },
   "outputs": [
    {
     "name": "stdout",
     "output_type": "stream",
     "text": [
      "(1680105, 10)\n"
     ]
    },
    {
     "data": {
      "text/plain": [
       "Index(['ESTADO', 'MUNICIPIO', 'ACUSE ESTATAL', 'APELLIDO PATERNO',\n",
       "       'APELLIDO MATERNO', 'NOMBRE (S)', 'PAQUETE', 'ESTADO_Clean',\n",
       "       'MUNICIPIO_Clean', 'Estado-mun-KEY'],\n",
       "      dtype='object')"
      ]
     },
     "execution_count": 39,
     "metadata": {},
     "output_type": "execute_result"
    }
   ],
   "source": [
    "print(listado_beneficiarios.shape)\n",
    "listado_beneficiarios.columns\n"
   ]
  },
  {
   "cell_type": "code",
   "execution_count": 53,
   "id": "9a887b8bde1fcd6c",
   "metadata": {
    "ExecuteTime": {
     "end_time": "2024-05-30T14:04:10.879818Z",
     "start_time": "2024-05-30T14:04:10.849876Z"
    }
   },
   "outputs": [],
   "source": [
    "# Lectura del diccionario Verificado Simple\n",
    "#diccionario_verificado = pd.read_csv('../../data/Diccionario_benef_manual_verificado.csv')\n",
    "diccionario_verificado_simple = pd.read_csv('../../data/Diccionarios/Diccionario_Simple.csv')"
   ]
  },
  {
   "cell_type": "code",
   "execution_count": 54,
   "id": "179191e6",
   "metadata": {},
   "outputs": [
    {
     "name": "stdout",
     "output_type": "stream",
     "text": [
      "                     count unique                               top freq\n",
      "KEY_benef             2356   2356                    mexico-acambay    1\n",
      "KEY_benef_Verificado  2356   2335  chiapas-rincon chamula san pedro    3\n"
     ]
    }
   ],
   "source": [
    "descriptive_stats = diccionario_verificado_simple.describe(include='all').transpose()\n",
    "\n",
    "# Mostrar las estadísticas descriptivas\n",
    "print(descriptive_stats)"
   ]
  },
  {
   "cell_type": "markdown",
   "id": "68e8b406",
   "metadata": {},
   "source": [
    "El diccionatio contiene KEY_benef únicos (Freq = 1), mientras que KEY_benef_Verificado puede repetirse."
   ]
  },
  {
   "cell_type": "markdown",
   "id": "d0c557f0",
   "metadata": {},
   "source": [
    "### MERGE\n",
    "\n",
    "Armamos por partes el dataset definitivo:\n",
    "1. Juntamos Listado_beneficiarios con el diccionario simple. (listado_beneficiario_parte_I)\n",
    "2. Al df anterior juntamos las claver provenientes del catálogo de Inegi. (listado_beneficiario_parte_II)"
   ]
  },
  {
   "cell_type": "code",
   "execution_count": 55,
   "id": "e1928c484fe89c5e",
   "metadata": {
    "ExecuteTime": {
     "end_time": "2024-05-30T14:04:11.928301Z",
     "start_time": "2024-05-30T14:04:10.882823Z"
    }
   },
   "outputs": [],
   "source": [
    "# Hacer el join de la Parte I\n",
    "listado_beneficiarios_parte_I = pd.merge(listado_beneficiarios, diccionario_verificado_simple, left_on=\"Estado-mun-KEY\",\n",
    "                                        right_on=\"KEY_benef\", how='left', suffixes=('_benef', '_inegi'))"
   ]
  },
  {
   "cell_type": "code",
   "execution_count": 56,
   "id": "c11e6579",
   "metadata": {},
   "outputs": [],
   "source": [
    "# Hacer el join de la Parte II\n",
    "listado_beneficiarios_parte_II = pd.merge(listado_beneficiarios_parte_I, dataset_inegi_uniquemun, left_on=\"KEY_benef_Verificado\",\n",
    "                                        right_on=\"KEY_inegi\", how='left', suffixes=('_benef', '_inegi'))"
   ]
  },
  {
   "cell_type": "code",
   "execution_count": 57,
   "id": "e05e3642",
   "metadata": {},
   "outputs": [
    {
     "data": {
      "text/plain": [
       "Index(['ESTADO', 'MUNICIPIO', 'ACUSE ESTATAL', 'APELLIDO PATERNO',\n",
       "       'APELLIDO MATERNO', 'NOMBRE (S)', 'PAQUETE', 'ESTADO_Clean',\n",
       "       'MUNICIPIO_Clean', 'Estado-mun-KEY', 'KEY_benef',\n",
       "       'KEY_benef_Verificado', 'CVE_ENT', 'Entidad_inegi', 'CVE_MUN',\n",
       "       'Municipio_inegi', 'Entidad_c_inegi', 'Municipio_c_inegi', 'KEY_inegi'],\n",
       "      dtype='object')"
      ]
     },
     "execution_count": 57,
     "metadata": {},
     "output_type": "execute_result"
    }
   ],
   "source": [
    "listado_beneficiarios_parte_II.columns"
   ]
  },
  {
   "cell_type": "code",
   "execution_count": 58,
   "id": "392ed8b1",
   "metadata": {},
   "outputs": [
    {
     "data": {
      "text/plain": [
       "(1682804, 19)"
      ]
     },
     "execution_count": 58,
     "metadata": {},
     "output_type": "execute_result"
    }
   ],
   "source": [
    "listado_beneficiarios_parte_II.shape"
   ]
  },
  {
   "cell_type": "code",
   "execution_count": 59,
   "id": "03d2a2b1",
   "metadata": {},
   "outputs": [
    {
     "name": "stdout",
     "output_type": "stream",
     "text": [
      "                          count   unique                             top  \\\n",
      "ESTADO                  1682804       30                        GUERRERO   \n",
      "MUNICIPIO               1682804     2237                  LAS MARGARITAS   \n",
      "ACUSE ESTATAL           1682804  1680105  23-PRONAFE-FERT-094971-S000-OC   \n",
      "APELLIDO PATERNO        1682803    14995                       HERNANDEZ   \n",
      "APELLIDO MATERNO        1656391    17604                       HERNANDEZ   \n",
      "NOMBRE (S)              1682804   124628                            JUAN   \n",
      "PAQUETE               1682796.0      NaN                             NaN   \n",
      "ESTADO_Clean            1682804       30                        guerrero   \n",
      "MUNICIPIO_Clean         1682804     2235                  las margaritas   \n",
      "Estado-mun-KEY          1682804     2356          chiapas-las margaritas   \n",
      "KEY_benef               1682804     2356          chiapas-las margaritas   \n",
      "KEY_benef_Verificado    1682804     2335          chiapas-las margaritas   \n",
      "CVE_ENT                 1682804       30                              12   \n",
      "Entidad_inegi           1682804       30                        Guerrero   \n",
      "CVE_MUN                 1682804      562                             010   \n",
      "Municipio_inegi         1682804     2216                  Las Margaritas   \n",
      "Entidad_c_inegi         1682804       30                        guerrero   \n",
      "Municipio_c_inegi       1682804     2216                  las margaritas   \n",
      "KEY_inegi               1682804     2335          chiapas-las margaritas   \n",
      "\n",
      "                        freq      mean       std  min  25%  50%  75%   max  \n",
      "ESTADO                331097       NaN       NaN  NaN  NaN  NaN  NaN   NaN  \n",
      "MUNICIPIO              18041       NaN       NaN  NaN  NaN  NaN  NaN   NaN  \n",
      "ACUSE ESTATAL              2       NaN       NaN  NaN  NaN  NaN  NaN   NaN  \n",
      "APELLIDO PATERNO       77591       NaN       NaN  NaN  NaN  NaN  NaN   NaN  \n",
      "APELLIDO MATERNO       77130       NaN       NaN  NaN  NaN  NaN  NaN   NaN  \n",
      "NOMBRE (S)             26829       NaN       NaN  NaN  NaN  NaN  NaN   NaN  \n",
      "PAQUETE                  NaN  1.632146  0.992895  1.0  1.0  2.0  2.0  10.0  \n",
      "ESTADO_Clean          331097       NaN       NaN  NaN  NaN  NaN  NaN   NaN  \n",
      "MUNICIPIO_Clean        18041       NaN       NaN  NaN  NaN  NaN  NaN   NaN  \n",
      "Estado-mun-KEY         18041       NaN       NaN  NaN  NaN  NaN  NaN   NaN  \n",
      "KEY_benef              18041       NaN       NaN  NaN  NaN  NaN  NaN   NaN  \n",
      "KEY_benef_Verificado   18041       NaN       NaN  NaN  NaN  NaN  NaN   NaN  \n",
      "CVE_ENT               331097       NaN       NaN  NaN  NaN  NaN  NaN   NaN  \n",
      "Entidad_inegi         331097       NaN       NaN  NaN  NaN  NaN  NaN   NaN  \n",
      "CVE_MUN                37057       NaN       NaN  NaN  NaN  NaN  NaN   NaN  \n",
      "Municipio_inegi        18041       NaN       NaN  NaN  NaN  NaN  NaN   NaN  \n",
      "Entidad_c_inegi       331097       NaN       NaN  NaN  NaN  NaN  NaN   NaN  \n",
      "Municipio_c_inegi      18041       NaN       NaN  NaN  NaN  NaN  NaN   NaN  \n",
      "KEY_inegi              18041       NaN       NaN  NaN  NaN  NaN  NaN   NaN  \n"
     ]
    }
   ],
   "source": [
    "# Valores únicos y la cantidad de cada columna\n",
    "# Obtener estadísticas descriptivas para todas las variables\n",
    "\n",
    "descriptive_stats = listado_beneficiarios_parte_II.describe(include='all').transpose()\n",
    "\n",
    "# Mostrar las estadísticas descriptivas\n",
    "print(descriptive_stats)"
   ]
  },
  {
   "cell_type": "code",
   "execution_count": 63,
   "id": "4095e5d0",
   "metadata": {},
   "outputs": [
    {
     "data": {
      "text/plain": [
       "(1680105, 19)"
      ]
     },
     "execution_count": 63,
     "metadata": {},
     "output_type": "execute_result"
    }
   ],
   "source": [
    "listado_beneficiarios_parte_II = listado_beneficiarios_parte_II.drop_duplicates(subset = ['ACUSE ESTATAL'],keep = 'first')\n",
    "listado_beneficiarios_parte_II.shape"
   ]
  },
  {
   "cell_type": "code",
   "execution_count": 64,
   "id": "b27a125b519d9ac8",
   "metadata": {
    "ExecuteTime": {
     "end_time": "2024-05-30T14:04:14.339706Z",
     "start_time": "2024-05-30T14:04:14.106578Z"
    }
   },
   "outputs": [],
   "source": [
    "# Seleccionamos las columnas que nos interesan\n",
    "listado_beneficiarios_parte_II = listado_beneficiarios_parte_II[\n",
    "    ['ESTADO', 'MUNICIPIO', 'ACUSE ESTATAL', 'APELLIDO PATERNO', 'APELLIDO MATERNO',\n",
    "     'NOMBRE (S)', 'PAQUETE', 'KEY_benef_Verificado', 'Entidad_inegi', 'Municipio_inegi', 'CVE_ENT', 'CVE_MUN']]"
   ]
  },
  {
   "cell_type": "code",
   "execution_count": 65,
   "id": "f74b72372f1494ed",
   "metadata": {
    "ExecuteTime": {
     "end_time": "2024-05-30T14:04:14.361161Z",
     "start_time": "2024-05-30T14:04:14.346729Z"
    }
   },
   "outputs": [
    {
     "name": "stdout",
     "output_type": "stream",
     "text": [
      "(1680105, 12)\n",
      "Index(['ESTADO', 'MUNICIPIO', 'ACUSE ESTATAL', 'APELLIDO PATERNO',\n",
      "       'APELLIDO MATERNO', 'NOMBRE (S)', 'PAQUETE', 'KEY_benef_Verificado',\n",
      "       'Entidad_inegi', 'Municipio_inegi', 'CVE_ENT', 'CVE_MUN'],\n",
      "      dtype='object')\n",
      "    ESTADO MUNICIPIO                   ACUSE ESTATAL APELLIDO PATERNO  \\\n",
      "0  SINALOA     AHOME  23-PROESFE-ESTR-000051-E000-SL          ABOITES   \n",
      "1  SINALOA     AHOME  23-PROESFE-ESTR-043733-E000-SL           ABOYTE   \n",
      "2  SINALOA     AHOME  23-PROESFE-ESTR-000052-E000-SL          ABOYTES   \n",
      "3  SINALOA     AHOME  23-PROESFE-ESTR-030724-E000-SL           ACOSTA   \n",
      "4  SINALOA     AHOME  23-PROESFE-ESTR-035928-E000-SL           ACOSTA   \n",
      "\n",
      "  APELLIDO MATERNO NOMBRE (S)  PAQUETE KEY_benef_Verificado Entidad_inegi  \\\n",
      "0          ARMENTA  FRANCISCO      4.0        sinaloa-ahome       Sinaloa   \n",
      "1             RUIZ     ISMAEL      7.0        sinaloa-ahome       Sinaloa   \n",
      "2          ARMENTA    RODOLFO      4.0        sinaloa-ahome       Sinaloa   \n",
      "3           BUELNA      EDGAR     10.0        sinaloa-ahome       Sinaloa   \n",
      "4           BUELNA  GUADALUPE      5.0        sinaloa-ahome       Sinaloa   \n",
      "\n",
      "  Municipio_inegi CVE_ENT CVE_MUN  \n",
      "0           Ahome      25     001  \n",
      "1           Ahome      25     001  \n",
      "2           Ahome      25     001  \n",
      "3           Ahome      25     001  \n",
      "4           Ahome      25     001  \n"
     ]
    }
   ],
   "source": [
    "# Revisamos el dataset\n",
    "print(listado_beneficiarios_parte_II.shape)\n",
    "print(listado_beneficiarios_parte_II.columns)\n",
    "print(listado_beneficiarios_parte_II.head())"
   ]
  },
  {
   "cell_type": "code",
   "execution_count": 66,
   "id": "7afb8c2a",
   "metadata": {},
   "outputs": [
    {
     "name": "stdout",
     "output_type": "stream",
     "text": [
      "ESTADO                      0\n",
      "MUNICIPIO                   0\n",
      "ACUSE ESTATAL               0\n",
      "APELLIDO PATERNO            1\n",
      "APELLIDO MATERNO        26228\n",
      "NOMBRE (S)                  0\n",
      "PAQUETE                     8\n",
      "KEY_benef_Verificado        0\n",
      "Entidad_inegi               0\n",
      "Municipio_inegi             0\n",
      "CVE_ENT                     0\n",
      "CVE_MUN                     0\n",
      "dtype: int64\n"
     ]
    }
   ],
   "source": [
    "nan_counts = listado_beneficiarios_parte_II.isna().sum()\n",
    "print(nan_counts)"
   ]
  },
  {
   "cell_type": "markdown",
   "id": "43a74521",
   "metadata": {},
   "source": [
    "Hay 0 filas que no han sido emparejadas."
   ]
  },
  {
   "cell_type": "code",
   "execution_count": 67,
   "id": "e3275def",
   "metadata": {},
   "outputs": [],
   "source": [
    "listado_beneficiarios_parte_II.to_csv('../../data/LISTADO_BENEFICIARIOS2023_COMPLETO.csv', index=False)"
   ]
  },
  {
   "cell_type": "code",
   "execution_count": 68,
   "id": "7c26d7e5",
   "metadata": {},
   "outputs": [
    {
     "data": {
      "text/plain": [
       "(1680105, 12)"
      ]
     },
     "execution_count": 68,
     "metadata": {},
     "output_type": "execute_result"
    }
   ],
   "source": [
    "listado_beneficiarios_parte_II.shape\n"
   ]
  }
 ],
 "metadata": {
  "kernelspec": {
   "display_name": "Python 3",
   "language": "python",
   "name": "python3"
  },
  "language_info": {
   "codemirror_mode": {
    "name": "ipython",
    "version": 3
   },
   "file_extension": ".py",
   "mimetype": "text/x-python",
   "name": "python",
   "nbconvert_exporter": "python",
   "pygments_lexer": "ipython3",
   "version": "3.11.7"
  }
 },
 "nbformat": 4,
 "nbformat_minor": 5
}
