{
 "cells": [
  {
   "cell_type": "markdown",
   "id": "e81f8196fda25d5b",
   "metadata": {},
   "source": []
  },
  {
   "cell_type": "markdown",
   "id": "6960feab7ef56473",
   "metadata": {},
   "source": [
    "# Data Cleaning Listado de Listado de Beneficiarios 2023"
   ]
  },
  {
   "cell_type": "markdown",
   "id": "23de63a25eb2daf6",
   "metadata": {},
   "source": [
    "## Autores\n",
    "- José Luis Delgado Dávara\n",
    "- Arturo Ortiz Aguilar\n",
    "- Beltrán Valle Gutiérrez-Cortines"
   ]
  },
  {
   "cell_type": "markdown",
   "id": "b07c3a8a",
   "metadata": {},
   "source": [
    "## Importante leer para entender\n",
    "\n",
    "En este Notebook se trabaja con 3 listados importantes:\n",
    "\n",
    "1. Beneficiarios2023 -> Dataset con el listado de TODOS los beneficiarios.\n",
    "2. Estados_Beneficiarios 2023 -> Dataset sólo con los estados *únicos* encontrados en el dataset anterior.\n",
    "3. Diccionario -> Emparejamiento entre ambos listados de beneficiarios\n",
    "4. Dataset_Inegi -> Catálogo obtenido de Inegi"
   ]
  },
  {
   "cell_type": "code",
   "execution_count": 1,
   "id": "cb5833c3d96a224c",
   "metadata": {
    "ExecuteTime": {
     "end_time": "2024-05-30T14:01:37.230529Z",
     "start_time": "2024-05-30T14:01:37.040759Z"
    }
   },
   "outputs": [],
   "source": [
    "import pandas as pd\n",
    "import seaborn as sns\n",
    "from thefuzz import fuzz\n",
    "from thefuzz import process\n",
    "import matplotlib.pyplot as plt\n",
    "import numpy as np\n",
    "import os\n",
    "import glob\n",
    "import re\n",
    "import unidecode"
   ]
  },
  {
   "cell_type": "code",
   "execution_count": 2,
   "id": "ac0b22b6344a0b96",
   "metadata": {
    "ExecuteTime": {
     "end_time": "2024-05-30T14:01:37.238020Z",
     "start_time": "2024-05-30T14:01:37.231536Z"
    }
   },
   "outputs": [],
   "source": [
    "def load_datasets(directory):\n",
    "    # Get a list of all CSV files in the directory\n",
    "    csv_files = glob.glob(os.path.join(directory, '*.csv'))\n",
    "\n",
    "    # Read each CSV file and store the DataFrame in a list\n",
    "    dataframes = [pd.read_csv(file, encoding='cp1252', index_col=0, skiprows=1) for file in csv_files]\n",
    "\n",
    "    # Print the number of rows for each DataFrame\n",
    "    for i, df in enumerate(dataframes):\n",
    "        print(f\"Number of rows in DataFrame {i+1}: {df.shape[0]}\")\n",
    "\n",
    "    # Calculate the sum of rows in each individual dataset\n",
    "    individual_row_sum = sum([df.shape[0] for df in dataframes])\n",
    "\n",
    "    # Concatenate all DataFrames in the list\n",
    "    merged_df = pd.concat(dataframes, join='inner', ignore_index=True)\n",
    "\n",
    "    return merged_df, individual_row_sum\n",
    "\n",
    "\n",
    "def clean_text(text):\n",
    "    \"\"\"\n",
    "    De esta manera tenemos el texto sin espacios blancos extra y sobre todo con todas las palabras con capitalización correcta.\n",
    "    \"\"\"\n",
    "    if pd.isna(text):\n",
    "        return text\n",
    "    text = text.strip()  # Eliminate white spaces\n",
    "    text = text.lower()  # Convert to lowercase\n",
    "    text = unidecode.unidecode(text)  # Remove accents\n",
    "    text = re.sub('-.*-', '', text) #Remove what is in between - -\n",
    "    text = re.sub('\\s+', ' ', text)  # Eliminate extra white spaces\n",
    "    text = re.sub('^\\s+|\\s+?$', '', text)  # Eliminate spaces at the beginning and end\n",
    "    return text"
   ]
  },
  {
   "cell_type": "markdown",
   "id": "5c0595e208484f96",
   "metadata": {},
   "source": [
    "# 1. Lectura de los datos"
   ]
  },
  {
   "cell_type": "markdown",
   "id": "9b99291631d5d3b1",
   "metadata": {},
   "source": [
    "### Lectura del dataset del INEGI"
   ]
  },
  {
   "cell_type": "code",
   "execution_count": 3,
   "id": "2596158784542f3d",
   "metadata": {
    "ExecuteTime": {
     "end_time": "2024-05-30T14:01:38.326264Z",
     "start_time": "2024-05-30T14:01:37.241026Z"
    }
   },
   "outputs": [],
   "source": [
    "path_dataset_inegi = '../../data/dataset_inegi.csv'\n",
    "dataset_inegi = pd.read_csv(path_dataset_inegi, encoding='cp1252', dtype={'CVE_ENT': str, 'CVE_MUN': str})"
   ]
  },
  {
   "cell_type": "markdown",
   "id": "650cbc699caa705d",
   "metadata": {},
   "source": [
    "### Lectura del listado de Beneficiarios 2023"
   ]
  },
  {
   "cell_type": "code",
   "execution_count": 4,
   "id": "53fef8d078ec79cf",
   "metadata": {
    "ExecuteTime": {
     "end_time": "2024-05-30T14:01:40.160043Z",
     "start_time": "2024-05-30T14:01:38.327278Z"
    }
   },
   "outputs": [
    {
     "name": "stdout",
     "output_type": "stream",
     "text": [
      "Number of rows in DataFrame 1: 42853\n",
      "Number of rows in DataFrame 2: 493512\n",
      "Number of rows in DataFrame 3: 830588\n",
      "Number of rows in DataFrame 4: 312842\n"
     ]
    }
   ],
   "source": [
    "listado_beneficiarios, sumOfRows = load_datasets(\"../../data/productores_beneficiarios\")"
   ]
  },
  {
   "cell_type": "code",
   "execution_count": 5,
   "id": "552edcc7",
   "metadata": {},
   "outputs": [],
   "source": [
    "nan_rows = listado_beneficiarios.isna()"
   ]
  },
  {
   "cell_type": "code",
   "execution_count": 6,
   "id": "cef3fe33",
   "metadata": {},
   "outputs": [
    {
     "data": {
      "text/plain": [
       "1679795"
      ]
     },
     "execution_count": 6,
     "metadata": {},
     "output_type": "execute_result"
    }
   ],
   "source": [
    "sumOfRows"
   ]
  },
  {
   "cell_type": "code",
   "execution_count": 7,
   "id": "03cef601",
   "metadata": {},
   "outputs": [
    {
     "data": {
      "text/html": [
       "<div>\n",
       "<style scoped>\n",
       "    .dataframe tbody tr th:only-of-type {\n",
       "        vertical-align: middle;\n",
       "    }\n",
       "\n",
       "    .dataframe tbody tr th {\n",
       "        vertical-align: top;\n",
       "    }\n",
       "\n",
       "    .dataframe thead th {\n",
       "        text-align: right;\n",
       "    }\n",
       "</style>\n",
       "<table border=\"1\" class=\"dataframe\">\n",
       "  <thead>\n",
       "    <tr style=\"text-align: right;\">\n",
       "      <th></th>\n",
       "      <th>ESTADO</th>\n",
       "      <th>MUNICIPIO</th>\n",
       "      <th>ACUSE ESTATAL</th>\n",
       "      <th>APELLIDO PATERNO</th>\n",
       "      <th>APELLIDO MATERNO</th>\n",
       "      <th>NOMBRE (S)</th>\n",
       "      <th>PAQUETE</th>\n",
       "    </tr>\n",
       "  </thead>\n",
       "  <tbody>\n",
       "    <tr>\n",
       "      <th>0</th>\n",
       "      <td>SINALOA</td>\n",
       "      <td>AHOME</td>\n",
       "      <td>23-PROESFE-ESTR-000051-E000-SL</td>\n",
       "      <td>ABOITES</td>\n",
       "      <td>ARMENTA</td>\n",
       "      <td>FRANCISCO</td>\n",
       "      <td>4.0</td>\n",
       "    </tr>\n",
       "    <tr>\n",
       "      <th>1</th>\n",
       "      <td>SINALOA</td>\n",
       "      <td>AHOME</td>\n",
       "      <td>23-PROESFE-ESTR-043733-E000-SL</td>\n",
       "      <td>ABOYTE</td>\n",
       "      <td>RUIZ</td>\n",
       "      <td>ISMAEL</td>\n",
       "      <td>7.0</td>\n",
       "    </tr>\n",
       "    <tr>\n",
       "      <th>2</th>\n",
       "      <td>SINALOA</td>\n",
       "      <td>AHOME</td>\n",
       "      <td>23-PROESFE-ESTR-000052-E000-SL</td>\n",
       "      <td>ABOYTES</td>\n",
       "      <td>ARMENTA</td>\n",
       "      <td>RODOLFO</td>\n",
       "      <td>4.0</td>\n",
       "    </tr>\n",
       "    <tr>\n",
       "      <th>3</th>\n",
       "      <td>SINALOA</td>\n",
       "      <td>AHOME</td>\n",
       "      <td>23-PROESFE-ESTR-030724-E000-SL</td>\n",
       "      <td>ACOSTA</td>\n",
       "      <td>BUELNA</td>\n",
       "      <td>EDGAR</td>\n",
       "      <td>10.0</td>\n",
       "    </tr>\n",
       "    <tr>\n",
       "      <th>4</th>\n",
       "      <td>SINALOA</td>\n",
       "      <td>AHOME</td>\n",
       "      <td>23-PROESFE-ESTR-035928-E000-SL</td>\n",
       "      <td>ACOSTA</td>\n",
       "      <td>BUELNA</td>\n",
       "      <td>GUADALUPE</td>\n",
       "      <td>5.0</td>\n",
       "    </tr>\n",
       "  </tbody>\n",
       "</table>\n",
       "</div>"
      ],
      "text/plain": [
       "    ESTADO MUNICIPIO                   ACUSE ESTATAL APELLIDO PATERNO  \\\n",
       "0  SINALOA     AHOME  23-PROESFE-ESTR-000051-E000-SL          ABOITES   \n",
       "1  SINALOA     AHOME  23-PROESFE-ESTR-043733-E000-SL           ABOYTE   \n",
       "2  SINALOA     AHOME  23-PROESFE-ESTR-000052-E000-SL          ABOYTES   \n",
       "3  SINALOA     AHOME  23-PROESFE-ESTR-030724-E000-SL           ACOSTA   \n",
       "4  SINALOA     AHOME  23-PROESFE-ESTR-035928-E000-SL           ACOSTA   \n",
       "\n",
       "  APELLIDO MATERNO NOMBRE (S)  PAQUETE  \n",
       "0          ARMENTA  FRANCISCO      4.0  \n",
       "1             RUIZ     ISMAEL      7.0  \n",
       "2          ARMENTA    RODOLFO      4.0  \n",
       "3           BUELNA      EDGAR     10.0  \n",
       "4           BUELNA  GUADALUPE      5.0  "
      ]
     },
     "execution_count": 7,
     "metadata": {},
     "output_type": "execute_result"
    }
   ],
   "source": [
    "listado_beneficiarios.head()"
   ]
  },
  {
   "cell_type": "markdown",
   "id": "35eb26bcb3f4f060",
   "metadata": {},
   "source": [
    "# 2. Limpieza de los datos"
   ]
  },
  {
   "cell_type": "markdown",
   "id": "f5c385abb0e2ebea",
   "metadata": {},
   "source": [
    "### 2.1 INEGI"
   ]
  },
  {
   "cell_type": "code",
   "execution_count": 8,
   "id": "bc3d8e451808121b",
   "metadata": {
    "ExecuteTime": {
     "end_time": "2024-05-30T14:01:40.169375Z",
     "start_time": "2024-05-30T14:01:40.161048Z"
    }
   },
   "outputs": [
    {
     "data": {
      "text/plain": [
       "Index(['MAPA', 'Estatus', 'CVE_ENT', 'NOM_ENT', 'NOM_ABR', 'CVE_MUN',\n",
       "       'NOM_MUN', 'CVE_LOC', 'NOM_LOC', 'AMBITO', 'LATITUD', 'LONGITUD',\n",
       "       'LAT_DECIMAL', 'LON_DECIMAL', 'ALTITUD', 'CVE_CARTA', 'POB_TOTAL',\n",
       "       'POB_MASCULINA', 'POB_FEMENINA', 'TOTAL DE VIVIENDAS HABITADAS'],\n",
       "      dtype='object')"
      ]
     },
     "execution_count": 8,
     "metadata": {},
     "output_type": "execute_result"
    }
   ],
   "source": [
    "# Revisamos las columnas del dataset\n",
    "dataset_inegi.columns"
   ]
  },
  {
   "cell_type": "code",
   "execution_count": 9,
   "id": "ac6cf4a705d01ca9",
   "metadata": {
    "ExecuteTime": {
     "end_time": "2024-05-30T14:01:40.209771Z",
     "start_time": "2024-05-30T14:01:40.198605Z"
    }
   },
   "outputs": [],
   "source": [
    "# Eliminamos las columnas que no son de interés\n",
    "COLUMNS_TO_DROP = ['MAPA', 'Estatus', 'NOM_ABR', 'CVE_LOC', 'NOM_LOC', 'AMBITO', 'LATITUD', 'LONGITUD',\n",
    "                   'LAT_DECIMAL', 'LON_DECIMAL', 'ALTITUD', 'CVE_CARTA', 'POB_TOTAL',\n",
    "                   'POB_MASCULINA', 'POB_FEMENINA', 'TOTAL DE VIVIENDAS HABITADAS']\n",
    "dataset_inegi = dataset_inegi.drop(COLUMNS_TO_DROP, axis=1)"
   ]
  },
  {
   "cell_type": "code",
   "execution_count": 10,
   "id": "61b75d87762aaa69",
   "metadata": {
    "ExecuteTime": {
     "end_time": "2024-05-30T14:01:40.222142Z",
     "start_time": "2024-05-30T14:01:40.211783Z"
    }
   },
   "outputs": [
    {
     "data": {
      "text/plain": [
       "CVE_ENT            object\n",
       "Entidad_inegi      object\n",
       "CVE_MUN            object\n",
       "Municipio_inegi    object\n",
       "dtype: object"
      ]
     },
     "execution_count": 10,
     "metadata": {},
     "output_type": "execute_result"
    }
   ],
   "source": [
    "# Renombrar las columnas\n",
    "dataset_inegi.rename(columns={\n",
    "    'CVE_ENT': 'CVE_ENT',\n",
    "    'NOM_ENT': 'Entidad_inegi',\n",
    "    'CVE_MUN': 'CVE_MUN',\n",
    "    'NOM_MUN': 'Municipio_inegi'\n",
    "}, inplace=True)\n",
    "\n",
    "\n",
    "# Las claves de entidad y municipio serán tratadas numéricamente en la limpieza aunque posteriormente se les asignará el tipo de cadena de texto para tener el estándar.\n",
    "dataset_inegi.dtypes"
   ]
  },
  {
   "cell_type": "code",
   "execution_count": 11,
   "id": "8d89a91fdd8ba82b",
   "metadata": {
    "ExecuteTime": {
     "end_time": "2024-05-30T14:01:40.286905Z",
     "start_time": "2024-05-30T14:01:40.226155Z"
    }
   },
   "outputs": [
    {
     "name": "stdout",
     "output_type": "stream",
     "text": [
      "Shape of dataset_inegi:  (299568, 4)\n",
      "Shape of dataset_inegi_uniquemun:  (2476, 4)\n"
     ]
    }
   ],
   "source": [
    "# Revisamos la cantidad de filas y columnas del dataset\n",
    "print(\"Shape of dataset_inegi: \", dataset_inegi.shape)\n",
    "\n",
    "dataset_inegi_uniquemun = dataset_inegi.drop_duplicates()\n",
    "print(\"Shape of dataset_inegi_uniquemun: \", dataset_inegi_uniquemun.shape)"
   ]
  },
  {
   "cell_type": "markdown",
   "id": "5ee1cfeb4a72782c",
   "metadata": {},
   "source": [
    "A partir de aquí seguimos trabajando con el listado de Estados y Municipios limpio de Inegi (sin repetir) \"dataset_inegi_clean\"."
   ]
  },
  {
   "cell_type": "code",
   "execution_count": 12,
   "id": "d824af463f93f62a",
   "metadata": {
    "ExecuteTime": {
     "end_time": "2024-05-30T14:01:40.299354Z",
     "start_time": "2024-05-30T14:01:40.288916Z"
    }
   },
   "outputs": [
    {
     "data": {
      "text/html": [
       "<div>\n",
       "<style scoped>\n",
       "    .dataframe tbody tr th:only-of-type {\n",
       "        vertical-align: middle;\n",
       "    }\n",
       "\n",
       "    .dataframe tbody tr th {\n",
       "        vertical-align: top;\n",
       "    }\n",
       "\n",
       "    .dataframe thead th {\n",
       "        text-align: right;\n",
       "    }\n",
       "</style>\n",
       "<table border=\"1\" class=\"dataframe\">\n",
       "  <thead>\n",
       "    <tr style=\"text-align: right;\">\n",
       "      <th></th>\n",
       "      <th>CVE_ENT</th>\n",
       "      <th>Entidad_inegi</th>\n",
       "      <th>CVE_MUN</th>\n",
       "      <th>Municipio_inegi</th>\n",
       "    </tr>\n",
       "  </thead>\n",
       "  <tbody>\n",
       "    <tr>\n",
       "      <th>0</th>\n",
       "      <td>01</td>\n",
       "      <td>Aguascalientes</td>\n",
       "      <td>001</td>\n",
       "      <td>Aguascalientes</td>\n",
       "    </tr>\n",
       "    <tr>\n",
       "      <th>708</th>\n",
       "      <td>01</td>\n",
       "      <td>Aguascalientes</td>\n",
       "      <td>002</td>\n",
       "      <td>Asientos</td>\n",
       "    </tr>\n",
       "    <tr>\n",
       "      <th>945</th>\n",
       "      <td>01</td>\n",
       "      <td>Aguascalientes</td>\n",
       "      <td>003</td>\n",
       "      <td>Calvillo</td>\n",
       "    </tr>\n",
       "    <tr>\n",
       "      <th>1237</th>\n",
       "      <td>01</td>\n",
       "      <td>Aguascalientes</td>\n",
       "      <td>004</td>\n",
       "      <td>Cosío</td>\n",
       "    </tr>\n",
       "    <tr>\n",
       "      <th>1330</th>\n",
       "      <td>01</td>\n",
       "      <td>Aguascalientes</td>\n",
       "      <td>005</td>\n",
       "      <td>Jesús María</td>\n",
       "    </tr>\n",
       "  </tbody>\n",
       "</table>\n",
       "</div>"
      ],
      "text/plain": [
       "     CVE_ENT   Entidad_inegi CVE_MUN Municipio_inegi\n",
       "0         01  Aguascalientes     001  Aguascalientes\n",
       "708       01  Aguascalientes     002        Asientos\n",
       "945       01  Aguascalientes     003        Calvillo\n",
       "1237      01  Aguascalientes     004           Cosío\n",
       "1330      01  Aguascalientes     005     Jesús María"
      ]
     },
     "execution_count": 12,
     "metadata": {},
     "output_type": "execute_result"
    }
   ],
   "source": [
    "# Revisamos las primeras filas del dataset con las columnas seleccionadas\n",
    "dataset_inegi_uniquemun.head()"
   ]
  },
  {
   "cell_type": "code",
   "execution_count": 13,
   "id": "2699470a43525bbb",
   "metadata": {
    "ExecuteTime": {
     "end_time": "2024-05-30T14:01:40.320927Z",
     "start_time": "2024-05-30T14:01:40.309949Z"
    }
   },
   "outputs": [
    {
     "name": "stdout",
     "output_type": "stream",
     "text": [
      "<class 'pandas.core.frame.DataFrame'>\n",
      "Index: 2476 entries, 0 to 299526\n",
      "Data columns (total 4 columns):\n",
      " #   Column           Non-Null Count  Dtype \n",
      "---  ------           --------------  ----- \n",
      " 0   CVE_ENT          2476 non-null   object\n",
      " 1   Entidad_inegi    2476 non-null   object\n",
      " 2   CVE_MUN          2476 non-null   object\n",
      " 3   Municipio_inegi  2476 non-null   object\n",
      "dtypes: object(4)\n",
      "memory usage: 96.7+ KB\n"
     ]
    }
   ],
   "source": [
    "dataset_inegi_uniquemun.info()"
   ]
  },
  {
   "cell_type": "code",
   "execution_count": 14,
   "id": "71c209b05bf35c7e",
   "metadata": {
    "ExecuteTime": {
     "end_time": "2024-05-30T14:01:40.330064Z",
     "start_time": "2024-05-30T14:01:40.321936Z"
    }
   },
   "outputs": [
    {
     "name": "stdout",
     "output_type": "stream",
     "text": [
      "Los valores únicos en cada columna son:\n",
      " CVE_ENT              32\n",
      "Entidad_inegi        32\n",
      "CVE_MUN             570\n",
      "Municipio_inegi    2332\n",
      "dtype: int64\n"
     ]
    }
   ],
   "source": [
    "print(\"Los valores únicos en cada columna son:\\n\", dataset_inegi_uniquemun.nunique())"
   ]
  },
  {
   "cell_type": "markdown",
   "id": "aef4017a546db04a",
   "metadata": {},
   "source": [
    "#### 2.1.1 Estandarización de nombre de municipios\n",
    "\n",
    "Con el fin de poder hacer un merge bajo los mismos nombres, hacemos una limpieza de los datos."
   ]
  },
  {
   "cell_type": "code",
   "execution_count": 15,
   "id": "cec148c18a669995",
   "metadata": {
    "ExecuteTime": {
     "end_time": "2024-05-30T14:01:40.381500Z",
     "start_time": "2024-05-30T14:01:40.352997Z"
    }
   },
   "outputs": [
    {
     "name": "stderr",
     "output_type": "stream",
     "text": [
      "/var/folders/ng/n9ng0wy92t90_49j662nh02c0000gn/T/ipykernel_63913/4159994235.py:2: SettingWithCopyWarning: \n",
      "A value is trying to be set on a copy of a slice from a DataFrame.\n",
      "Try using .loc[row_indexer,col_indexer] = value instead\n",
      "\n",
      "See the caveats in the documentation: https://pandas.pydata.org/pandas-docs/stable/user_guide/indexing.html#returning-a-view-versus-a-copy\n",
      "  dataset_inegi_uniquemun['Entidad_c_inegi'] = dataset_inegi_uniquemun['Entidad_inegi'].apply(clean_text)\n",
      "/var/folders/ng/n9ng0wy92t90_49j662nh02c0000gn/T/ipykernel_63913/4159994235.py:3: SettingWithCopyWarning: \n",
      "A value is trying to be set on a copy of a slice from a DataFrame.\n",
      "Try using .loc[row_indexer,col_indexer] = value instead\n",
      "\n",
      "See the caveats in the documentation: https://pandas.pydata.org/pandas-docs/stable/user_guide/indexing.html#returning-a-view-versus-a-copy\n",
      "  dataset_inegi_uniquemun['Municipio_c_inegi'] = dataset_inegi_uniquemun['Municipio_inegi'].apply(clean_text)\n"
     ]
    }
   ],
   "source": [
    "# Estandarizamos la limpieza de los datos\n",
    "dataset_inegi_uniquemun['Entidad_c_inegi'] = dataset_inegi_uniquemun['Entidad_inegi'].apply(clean_text)\n",
    "dataset_inegi_uniquemun['Municipio_c_inegi'] = dataset_inegi_uniquemun['Municipio_inegi'].apply(clean_text)"
   ]
  },
  {
   "cell_type": "code",
   "execution_count": 16,
   "id": "1af2e236df4d4847",
   "metadata": {
    "ExecuteTime": {
     "end_time": "2024-05-30T14:01:40.341472Z",
     "start_time": "2024-05-30T14:01:40.331071Z"
    }
   },
   "outputs": [
    {
     "name": "stderr",
     "output_type": "stream",
     "text": [
      "/var/folders/ng/n9ng0wy92t90_49j662nh02c0000gn/T/ipykernel_63913/2100087808.py:3: SettingWithCopyWarning: \n",
      "A value is trying to be set on a copy of a slice from a DataFrame.\n",
      "Try using .loc[row_indexer,col_indexer] = value instead\n",
      "\n",
      "See the caveats in the documentation: https://pandas.pydata.org/pandas-docs/stable/user_guide/indexing.html#returning-a-view-versus-a-copy\n",
      "  dataset_inegi_uniquemun['KEY_inegi'] = dataset_inegi_uniquemun['Entidad_c_inegi'].astype(str) + '-' + dataset_inegi_uniquemun[\n"
     ]
    },
    {
     "data": {
      "text/html": [
       "<div>\n",
       "<style scoped>\n",
       "    .dataframe tbody tr th:only-of-type {\n",
       "        vertical-align: middle;\n",
       "    }\n",
       "\n",
       "    .dataframe tbody tr th {\n",
       "        vertical-align: top;\n",
       "    }\n",
       "\n",
       "    .dataframe thead th {\n",
       "        text-align: right;\n",
       "    }\n",
       "</style>\n",
       "<table border=\"1\" class=\"dataframe\">\n",
       "  <thead>\n",
       "    <tr style=\"text-align: right;\">\n",
       "      <th></th>\n",
       "      <th>CVE_ENT</th>\n",
       "      <th>Entidad_inegi</th>\n",
       "      <th>CVE_MUN</th>\n",
       "      <th>Municipio_inegi</th>\n",
       "      <th>Entidad_c_inegi</th>\n",
       "      <th>Municipio_c_inegi</th>\n",
       "      <th>KEY_inegi</th>\n",
       "    </tr>\n",
       "  </thead>\n",
       "  <tbody>\n",
       "    <tr>\n",
       "      <th>0</th>\n",
       "      <td>01</td>\n",
       "      <td>Aguascalientes</td>\n",
       "      <td>001</td>\n",
       "      <td>Aguascalientes</td>\n",
       "      <td>aguascalientes</td>\n",
       "      <td>aguascalientes</td>\n",
       "      <td>aguascalientes-aguascalientes</td>\n",
       "    </tr>\n",
       "    <tr>\n",
       "      <th>708</th>\n",
       "      <td>01</td>\n",
       "      <td>Aguascalientes</td>\n",
       "      <td>002</td>\n",
       "      <td>Asientos</td>\n",
       "      <td>aguascalientes</td>\n",
       "      <td>asientos</td>\n",
       "      <td>aguascalientes-asientos</td>\n",
       "    </tr>\n",
       "    <tr>\n",
       "      <th>945</th>\n",
       "      <td>01</td>\n",
       "      <td>Aguascalientes</td>\n",
       "      <td>003</td>\n",
       "      <td>Calvillo</td>\n",
       "      <td>aguascalientes</td>\n",
       "      <td>calvillo</td>\n",
       "      <td>aguascalientes-calvillo</td>\n",
       "    </tr>\n",
       "    <tr>\n",
       "      <th>1237</th>\n",
       "      <td>01</td>\n",
       "      <td>Aguascalientes</td>\n",
       "      <td>004</td>\n",
       "      <td>Cosío</td>\n",
       "      <td>aguascalientes</td>\n",
       "      <td>cosio</td>\n",
       "      <td>aguascalientes-cosio</td>\n",
       "    </tr>\n",
       "    <tr>\n",
       "      <th>1330</th>\n",
       "      <td>01</td>\n",
       "      <td>Aguascalientes</td>\n",
       "      <td>005</td>\n",
       "      <td>Jesús María</td>\n",
       "      <td>aguascalientes</td>\n",
       "      <td>jesus maria</td>\n",
       "      <td>aguascalientes-jesus maria</td>\n",
       "    </tr>\n",
       "  </tbody>\n",
       "</table>\n",
       "</div>"
      ],
      "text/plain": [
       "     CVE_ENT   Entidad_inegi CVE_MUN Municipio_inegi Entidad_c_inegi  \\\n",
       "0         01  Aguascalientes     001  Aguascalientes  aguascalientes   \n",
       "708       01  Aguascalientes     002        Asientos  aguascalientes   \n",
       "945       01  Aguascalientes     003        Calvillo  aguascalientes   \n",
       "1237      01  Aguascalientes     004           Cosío  aguascalientes   \n",
       "1330      01  Aguascalientes     005     Jesús María  aguascalientes   \n",
       "\n",
       "     Municipio_c_inegi                      KEY_inegi  \n",
       "0       aguascalientes  aguascalientes-aguascalientes  \n",
       "708           asientos        aguascalientes-asientos  \n",
       "945           calvillo        aguascalientes-calvillo  \n",
       "1237             cosio           aguascalientes-cosio  \n",
       "1330       jesus maria     aguascalientes-jesus maria  "
      ]
     },
     "execution_count": 16,
     "metadata": {},
     "output_type": "execute_result"
    }
   ],
   "source": [
    "# Creamos una columna con la clave única por municipio\n",
    "\n",
    "dataset_inegi_uniquemun['KEY_inegi'] = dataset_inegi_uniquemun['Entidad_c_inegi'].astype(str) + '-' + dataset_inegi_uniquemun[\n",
    "    'Municipio_c_inegi'].astype(str)\n",
    "\n",
    "dataset_inegi_uniquemun.head()"
   ]
  },
  {
   "cell_type": "code",
   "execution_count": 17,
   "id": "29f31a32",
   "metadata": {},
   "outputs": [
    {
     "data": {
      "text/html": [
       "<div>\n",
       "<style scoped>\n",
       "    .dataframe tbody tr th:only-of-type {\n",
       "        vertical-align: middle;\n",
       "    }\n",
       "\n",
       "    .dataframe tbody tr th {\n",
       "        vertical-align: top;\n",
       "    }\n",
       "\n",
       "    .dataframe thead th {\n",
       "        text-align: right;\n",
       "    }\n",
       "</style>\n",
       "<table border=\"1\" class=\"dataframe\">\n",
       "  <thead>\n",
       "    <tr style=\"text-align: right;\">\n",
       "      <th></th>\n",
       "      <th>CVE_ENT</th>\n",
       "      <th>Entidad_inegi</th>\n",
       "      <th>CVE_MUN</th>\n",
       "      <th>Municipio_inegi</th>\n",
       "      <th>Entidad_c_inegi</th>\n",
       "      <th>Municipio_c_inegi</th>\n",
       "      <th>KEY_inegi</th>\n",
       "    </tr>\n",
       "  </thead>\n",
       "  <tbody>\n",
       "    <tr>\n",
       "      <th>299150</th>\n",
       "      <td>32</td>\n",
       "      <td>Zacatecas</td>\n",
       "      <td>054</td>\n",
       "      <td>Villa Hidalgo</td>\n",
       "      <td>zacatecas</td>\n",
       "      <td>villa hidalgo</td>\n",
       "      <td>zacatecas-villa hidalgo</td>\n",
       "    </tr>\n",
       "    <tr>\n",
       "      <th>299211</th>\n",
       "      <td>32</td>\n",
       "      <td>Zacatecas</td>\n",
       "      <td>055</td>\n",
       "      <td>Villanueva</td>\n",
       "      <td>zacatecas</td>\n",
       "      <td>villanueva</td>\n",
       "      <td>zacatecas-villanueva</td>\n",
       "    </tr>\n",
       "    <tr>\n",
       "      <th>299363</th>\n",
       "      <td>32</td>\n",
       "      <td>Zacatecas</td>\n",
       "      <td>056</td>\n",
       "      <td>Zacatecas</td>\n",
       "      <td>zacatecas</td>\n",
       "      <td>zacatecas</td>\n",
       "      <td>zacatecas-zacatecas</td>\n",
       "    </tr>\n",
       "    <tr>\n",
       "      <th>299484</th>\n",
       "      <td>32</td>\n",
       "      <td>Zacatecas</td>\n",
       "      <td>057</td>\n",
       "      <td>Trancoso</td>\n",
       "      <td>zacatecas</td>\n",
       "      <td>trancoso</td>\n",
       "      <td>zacatecas-trancoso</td>\n",
       "    </tr>\n",
       "    <tr>\n",
       "      <th>299526</th>\n",
       "      <td>32</td>\n",
       "      <td>Zacatecas</td>\n",
       "      <td>058</td>\n",
       "      <td>Santa María de la Paz</td>\n",
       "      <td>zacatecas</td>\n",
       "      <td>santa maria de la paz</td>\n",
       "      <td>zacatecas-santa maria de la paz</td>\n",
       "    </tr>\n",
       "  </tbody>\n",
       "</table>\n",
       "</div>"
      ],
      "text/plain": [
       "       CVE_ENT Entidad_inegi CVE_MUN        Municipio_inegi Entidad_c_inegi  \\\n",
       "299150      32     Zacatecas     054          Villa Hidalgo       zacatecas   \n",
       "299211      32     Zacatecas     055             Villanueva       zacatecas   \n",
       "299363      32     Zacatecas     056              Zacatecas       zacatecas   \n",
       "299484      32     Zacatecas     057               Trancoso       zacatecas   \n",
       "299526      32     Zacatecas     058  Santa María de la Paz       zacatecas   \n",
       "\n",
       "            Municipio_c_inegi                        KEY_inegi  \n",
       "299150          villa hidalgo          zacatecas-villa hidalgo  \n",
       "299211             villanueva             zacatecas-villanueva  \n",
       "299363              zacatecas              zacatecas-zacatecas  \n",
       "299484               trancoso               zacatecas-trancoso  \n",
       "299526  santa maria de la paz  zacatecas-santa maria de la paz  "
      ]
     },
     "execution_count": 17,
     "metadata": {},
     "output_type": "execute_result"
    }
   ],
   "source": [
    "dataset_inegi_uniquemun.tail()"
   ]
  },
  {
   "cell_type": "markdown",
   "id": "c1c7ea2410869cec",
   "metadata": {},
   "source": [
    "## 2.2 Beneficiarios 2023"
   ]
  },
  {
   "cell_type": "markdown",
   "id": "1558ba7e",
   "metadata": {},
   "source": [
    "### Creación de Estados_Beneficiarios2023\n",
    "Este dataset es una versión de Beneficiarios2023 pero más ligera y sin repeticiones."
   ]
  },
  {
   "cell_type": "code",
   "execution_count": 18,
   "id": "9c646052",
   "metadata": {},
   "outputs": [
    {
     "data": {
      "text/plain": [
       "ESTADO               object\n",
       "MUNICIPIO            object\n",
       "ACUSE ESTATAL        object\n",
       "APELLIDO PATERNO     object\n",
       "APELLIDO MATERNO     object\n",
       "NOMBRE (S)           object\n",
       "PAQUETE             float64\n",
       "dtype: object"
      ]
     },
     "execution_count": 18,
     "metadata": {},
     "output_type": "execute_result"
    }
   ],
   "source": [
    "listado_beneficiarios.dtypes"
   ]
  },
  {
   "cell_type": "code",
   "execution_count": 19,
   "id": "649e28f4",
   "metadata": {},
   "outputs": [
    {
     "name": "stdout",
     "output_type": "stream",
     "text": [
      "                      count   unique                             top    freq  \\\n",
      "ESTADO              1679795       30                        GUERRERO  331011   \n",
      "MUNICIPIO           1679795     2237                  LAS MARGARITAS   18040   \n",
      "ACUSE ESTATAL       1679795  1679795  23-PROESFE-ESTR-000051-E000-SL       1   \n",
      "APELLIDO PATERNO    1679794    14994                       HERNANDEZ   77403   \n",
      "APELLIDO MATERNO    1653572    17599                       HERNANDEZ   76938   \n",
      "NOMBRE (S)          1679795   124611                            JUAN   26791   \n",
      "PAQUETE           1679794.0      NaN                             NaN     NaN   \n",
      "\n",
      "                     mean       std  min  25%  50%  75%   max  \n",
      "ESTADO                NaN       NaN  NaN  NaN  NaN  NaN   NaN  \n",
      "MUNICIPIO             NaN       NaN  NaN  NaN  NaN  NaN   NaN  \n",
      "ACUSE ESTATAL         NaN       NaN  NaN  NaN  NaN  NaN   NaN  \n",
      "APELLIDO PATERNO      NaN       NaN  NaN  NaN  NaN  NaN   NaN  \n",
      "APELLIDO MATERNO      NaN       NaN  NaN  NaN  NaN  NaN   NaN  \n",
      "NOMBRE (S)            NaN       NaN  NaN  NaN  NaN  NaN   NaN  \n",
      "PAQUETE           1.63317  0.993432  1.0  1.0  2.0  2.0  10.0  \n"
     ]
    }
   ],
   "source": [
    "descriptive_stats = listado_beneficiarios.describe(include='all').transpose()\n",
    "\n",
    "# Mostrar las estadísticas descriptivas\n",
    "print(descriptive_stats)"
   ]
  },
  {
   "cell_type": "code",
   "execution_count": 20,
   "id": "fd241fe2",
   "metadata": {},
   "outputs": [
    {
     "data": {
      "text/plain": [
       "ESTADO                  0\n",
       "MUNICIPIO               0\n",
       "ACUSE ESTATAL           0\n",
       "APELLIDO PATERNO        1\n",
       "APELLIDO MATERNO    26223\n",
       "NOMBRE (S)              0\n",
       "PAQUETE                 1\n",
       "dtype: int64"
      ]
     },
     "execution_count": 20,
     "metadata": {},
     "output_type": "execute_result"
    }
   ],
   "source": [
    "listado_beneficiarios.isna().sum()"
   ]
  },
  {
   "cell_type": "code",
   "execution_count": 21,
   "id": "a34b9233",
   "metadata": {},
   "outputs": [
    {
     "data": {
      "text/html": [
       "<div>\n",
       "<style scoped>\n",
       "    .dataframe tbody tr th:only-of-type {\n",
       "        vertical-align: middle;\n",
       "    }\n",
       "\n",
       "    .dataframe tbody tr th {\n",
       "        vertical-align: top;\n",
       "    }\n",
       "\n",
       "    .dataframe thead th {\n",
       "        text-align: right;\n",
       "    }\n",
       "</style>\n",
       "<table border=\"1\" class=\"dataframe\">\n",
       "  <thead>\n",
       "    <tr style=\"text-align: right;\">\n",
       "      <th></th>\n",
       "      <th>ESTADO</th>\n",
       "      <th>MUNICIPIO</th>\n",
       "      <th>ACUSE ESTATAL</th>\n",
       "      <th>APELLIDO PATERNO</th>\n",
       "      <th>APELLIDO MATERNO</th>\n",
       "      <th>NOMBRE (S)</th>\n",
       "      <th>PAQUETE</th>\n",
       "    </tr>\n",
       "  </thead>\n",
       "  <tbody>\n",
       "    <tr>\n",
       "      <th>0</th>\n",
       "      <td>SINALOA</td>\n",
       "      <td>AHOME</td>\n",
       "      <td>23-PROESFE-ESTR-000051-E000-SL</td>\n",
       "      <td>ABOITES</td>\n",
       "      <td>ARMENTA</td>\n",
       "      <td>FRANCISCO</td>\n",
       "      <td>4.0</td>\n",
       "    </tr>\n",
       "    <tr>\n",
       "      <th>1</th>\n",
       "      <td>SINALOA</td>\n",
       "      <td>AHOME</td>\n",
       "      <td>23-PROESFE-ESTR-043733-E000-SL</td>\n",
       "      <td>ABOYTE</td>\n",
       "      <td>RUIZ</td>\n",
       "      <td>ISMAEL</td>\n",
       "      <td>7.0</td>\n",
       "    </tr>\n",
       "    <tr>\n",
       "      <th>2</th>\n",
       "      <td>SINALOA</td>\n",
       "      <td>AHOME</td>\n",
       "      <td>23-PROESFE-ESTR-000052-E000-SL</td>\n",
       "      <td>ABOYTES</td>\n",
       "      <td>ARMENTA</td>\n",
       "      <td>RODOLFO</td>\n",
       "      <td>4.0</td>\n",
       "    </tr>\n",
       "    <tr>\n",
       "      <th>3</th>\n",
       "      <td>SINALOA</td>\n",
       "      <td>AHOME</td>\n",
       "      <td>23-PROESFE-ESTR-030724-E000-SL</td>\n",
       "      <td>ACOSTA</td>\n",
       "      <td>BUELNA</td>\n",
       "      <td>EDGAR</td>\n",
       "      <td>10.0</td>\n",
       "    </tr>\n",
       "    <tr>\n",
       "      <th>4</th>\n",
       "      <td>SINALOA</td>\n",
       "      <td>AHOME</td>\n",
       "      <td>23-PROESFE-ESTR-035928-E000-SL</td>\n",
       "      <td>ACOSTA</td>\n",
       "      <td>BUELNA</td>\n",
       "      <td>GUADALUPE</td>\n",
       "      <td>5.0</td>\n",
       "    </tr>\n",
       "  </tbody>\n",
       "</table>\n",
       "</div>"
      ],
      "text/plain": [
       "    ESTADO MUNICIPIO                   ACUSE ESTATAL APELLIDO PATERNO  \\\n",
       "0  SINALOA     AHOME  23-PROESFE-ESTR-000051-E000-SL          ABOITES   \n",
       "1  SINALOA     AHOME  23-PROESFE-ESTR-043733-E000-SL           ABOYTE   \n",
       "2  SINALOA     AHOME  23-PROESFE-ESTR-000052-E000-SL          ABOYTES   \n",
       "3  SINALOA     AHOME  23-PROESFE-ESTR-030724-E000-SL           ACOSTA   \n",
       "4  SINALOA     AHOME  23-PROESFE-ESTR-035928-E000-SL           ACOSTA   \n",
       "\n",
       "  APELLIDO MATERNO NOMBRE (S)  PAQUETE  \n",
       "0          ARMENTA  FRANCISCO      4.0  \n",
       "1             RUIZ     ISMAEL      7.0  \n",
       "2          ARMENTA    RODOLFO      4.0  \n",
       "3           BUELNA      EDGAR     10.0  \n",
       "4           BUELNA  GUADALUPE      5.0  "
      ]
     },
     "execution_count": 21,
     "metadata": {},
     "output_type": "execute_result"
    }
   ],
   "source": [
    "listado_beneficiarios.head()"
   ]
  },
  {
   "cell_type": "code",
   "execution_count": 22,
   "id": "001e5b4d",
   "metadata": {},
   "outputs": [],
   "source": [
    "Estados_beneficiarios2023 = listado_beneficiarios[['ESTADO', 'MUNICIPIO']]"
   ]
  },
  {
   "cell_type": "code",
   "execution_count": 23,
   "id": "02be04ce",
   "metadata": {},
   "outputs": [],
   "source": [
    "Estados_beneficiarios2023 = Estados_beneficiarios2023.drop_duplicates()"
   ]
  },
  {
   "cell_type": "code",
   "execution_count": 24,
   "id": "33a9e34f",
   "metadata": {},
   "outputs": [],
   "source": [
    "# Estandarizamos la limpieza de los datos\n",
    "Estados_beneficiarios2023['ESTADO_c_benef'] = Estados_beneficiarios2023['ESTADO'].apply(clean_text)\n",
    "Estados_beneficiarios2023['MUNICIPIO_c_benef'] = Estados_beneficiarios2023['MUNICIPIO'].apply(clean_text)"
   ]
  },
  {
   "cell_type": "code",
   "execution_count": 25,
   "id": "bdd2411f",
   "metadata": {},
   "outputs": [
    {
     "data": {
      "text/plain": [
       "(2358, 4)"
      ]
     },
     "execution_count": 25,
     "metadata": {},
     "output_type": "execute_result"
    }
   ],
   "source": [
    "Estados_beneficiarios2023.shape"
   ]
  },
  {
   "cell_type": "code",
   "execution_count": 26,
   "id": "5407ac1e",
   "metadata": {},
   "outputs": [
    {
     "data": {
      "text/html": [
       "<div>\n",
       "<style scoped>\n",
       "    .dataframe tbody tr th:only-of-type {\n",
       "        vertical-align: middle;\n",
       "    }\n",
       "\n",
       "    .dataframe tbody tr th {\n",
       "        vertical-align: top;\n",
       "    }\n",
       "\n",
       "    .dataframe thead th {\n",
       "        text-align: right;\n",
       "    }\n",
       "</style>\n",
       "<table border=\"1\" class=\"dataframe\">\n",
       "  <thead>\n",
       "    <tr style=\"text-align: right;\">\n",
       "      <th></th>\n",
       "      <th>ESTADO</th>\n",
       "      <th>MUNICIPIO</th>\n",
       "      <th>ESTADO_c_benef</th>\n",
       "      <th>MUNICIPIO_c_benef</th>\n",
       "      <th>KEY_benef</th>\n",
       "    </tr>\n",
       "  </thead>\n",
       "  <tbody>\n",
       "    <tr>\n",
       "      <th>0</th>\n",
       "      <td>SINALOA</td>\n",
       "      <td>AHOME</td>\n",
       "      <td>sinaloa</td>\n",
       "      <td>ahome</td>\n",
       "      <td>sinaloa-ahome</td>\n",
       "    </tr>\n",
       "    <tr>\n",
       "      <th>2574</th>\n",
       "      <td>SINALOA</td>\n",
       "      <td>ANGOSTURA</td>\n",
       "      <td>sinaloa</td>\n",
       "      <td>angostura</td>\n",
       "      <td>sinaloa-angostura</td>\n",
       "    </tr>\n",
       "    <tr>\n",
       "      <th>3789</th>\n",
       "      <td>SINALOA</td>\n",
       "      <td>BADIRAGUATO</td>\n",
       "      <td>sinaloa</td>\n",
       "      <td>badiraguato</td>\n",
       "      <td>sinaloa-badiraguato</td>\n",
       "    </tr>\n",
       "    <tr>\n",
       "      <th>6623</th>\n",
       "      <td>SINALOA</td>\n",
       "      <td>CHOIX</td>\n",
       "      <td>sinaloa</td>\n",
       "      <td>choix</td>\n",
       "      <td>sinaloa-choix</td>\n",
       "    </tr>\n",
       "    <tr>\n",
       "      <th>9113</th>\n",
       "      <td>SINALOA</td>\n",
       "      <td>CONCORDIA</td>\n",
       "      <td>sinaloa</td>\n",
       "      <td>concordia</td>\n",
       "      <td>sinaloa-concordia</td>\n",
       "    </tr>\n",
       "  </tbody>\n",
       "</table>\n",
       "</div>"
      ],
      "text/plain": [
       "       ESTADO    MUNICIPIO ESTADO_c_benef MUNICIPIO_c_benef  \\\n",
       "0     SINALOA        AHOME        sinaloa             ahome   \n",
       "2574  SINALOA    ANGOSTURA        sinaloa         angostura   \n",
       "3789  SINALOA  BADIRAGUATO        sinaloa       badiraguato   \n",
       "6623  SINALOA        CHOIX        sinaloa             choix   \n",
       "9113  SINALOA    CONCORDIA        sinaloa         concordia   \n",
       "\n",
       "                KEY_benef  \n",
       "0           sinaloa-ahome  \n",
       "2574    sinaloa-angostura  \n",
       "3789  sinaloa-badiraguato  \n",
       "6623        sinaloa-choix  \n",
       "9113    sinaloa-concordia  "
      ]
     },
     "execution_count": 26,
     "metadata": {},
     "output_type": "execute_result"
    }
   ],
   "source": [
    "Estados_beneficiarios2023['KEY_benef'] = Estados_beneficiarios2023['ESTADO_c_benef'].astype(str) + '-' + Estados_beneficiarios2023[\n",
    "    'MUNICIPIO_c_benef'].astype(str)\n",
    "\n",
    "Estados_beneficiarios2023.head()\n"
   ]
  },
  {
   "cell_type": "code",
   "execution_count": 27,
   "id": "eba1c8548f6a16da",
   "metadata": {
    "ExecuteTime": {
     "end_time": "2024-05-30T14:01:40.725863Z",
     "start_time": "2024-05-30T14:01:40.615616Z"
    }
   },
   "outputs": [
    {
     "name": "stdout",
     "output_type": "stream",
     "text": [
      "                  count unique                        top freq\n",
      "ESTADO             2358     30                     OAXACA  566\n",
      "MUNICIPIO          2358   2237            EMILIANO ZAPATA    6\n",
      "ESTADO_c_benef     2358     30                     oaxaca  566\n",
      "MUNICIPIO_c_benef  2358   2235            emiliano zapata    6\n",
      "KEY_benef          2358   2356  oaxaca-san pedro mixtepec    2\n"
     ]
    }
   ],
   "source": [
    "# Valores únicos y la cantidad de cada columna\n",
    "# Obtener estadísticas descriptivas para todas las variables\n",
    "\n",
    "descriptive_stats = Estados_beneficiarios2023.describe(include='all').transpose()\n",
    "\n",
    "# Mostrar las estadísticas descriptivas\n",
    "print(descriptive_stats)"
   ]
  },
  {
   "cell_type": "code",
   "execution_count": 28,
   "id": "848799ff",
   "metadata": {},
   "outputs": [],
   "source": [
    "Estados_beneficiarios2023 = Estados_beneficiarios2023.drop_duplicates(subset='KEY_benef')"
   ]
  },
  {
   "cell_type": "code",
   "execution_count": 29,
   "metadata": {},
   "outputs": [
    {
     "data": {
      "text/plain": [
       "(2356, 5)"
      ]
     },
     "execution_count": 29,
     "metadata": {},
     "output_type": "execute_result"
    }
   ],
   "source": [
    "Estados_beneficiarios2023.shape"
   ]
  },
  {
   "cell_type": "markdown",
   "id": "daa9f974cc33efa1",
   "metadata": {},
   "source": [
    "# 3. Diccionario de los datasets de INEGI Y LISTADO BENEFICIARIOS 2023\n",
    "\n",
    "El objetivo de esta sección es crear un diccionario de códigos según INEGI para los municipios Listado_beneficiarios2023. Para ello haremos un Left join entre Estados_Beneficiarios2023 y dataset_inegi_clean."
   ]
  },
  {
   "cell_type": "markdown",
   "id": "ce912939",
   "metadata": {},
   "source": [
    "### 3.1 Creamos las columnas clave"
   ]
  },
  {
   "cell_type": "markdown",
   "id": "1aac072a",
   "metadata": {},
   "source": [
    "Confirmamos que tengamos las columnas clave en abos datasets."
   ]
  },
  {
   "cell_type": "code",
   "execution_count": 30,
   "id": "bb33ebdc",
   "metadata": {},
   "outputs": [
    {
     "data": {
      "text/html": [
       "<div>\n",
       "<style scoped>\n",
       "    .dataframe tbody tr th:only-of-type {\n",
       "        vertical-align: middle;\n",
       "    }\n",
       "\n",
       "    .dataframe tbody tr th {\n",
       "        vertical-align: top;\n",
       "    }\n",
       "\n",
       "    .dataframe thead th {\n",
       "        text-align: right;\n",
       "    }\n",
       "</style>\n",
       "<table border=\"1\" class=\"dataframe\">\n",
       "  <thead>\n",
       "    <tr style=\"text-align: right;\">\n",
       "      <th></th>\n",
       "      <th>CVE_ENT</th>\n",
       "      <th>Entidad_inegi</th>\n",
       "      <th>CVE_MUN</th>\n",
       "      <th>Municipio_inegi</th>\n",
       "      <th>Entidad_c_inegi</th>\n",
       "      <th>Municipio_c_inegi</th>\n",
       "      <th>KEY_inegi</th>\n",
       "    </tr>\n",
       "  </thead>\n",
       "  <tbody>\n",
       "    <tr>\n",
       "      <th>0</th>\n",
       "      <td>01</td>\n",
       "      <td>Aguascalientes</td>\n",
       "      <td>001</td>\n",
       "      <td>Aguascalientes</td>\n",
       "      <td>aguascalientes</td>\n",
       "      <td>aguascalientes</td>\n",
       "      <td>aguascalientes-aguascalientes</td>\n",
       "    </tr>\n",
       "    <tr>\n",
       "      <th>708</th>\n",
       "      <td>01</td>\n",
       "      <td>Aguascalientes</td>\n",
       "      <td>002</td>\n",
       "      <td>Asientos</td>\n",
       "      <td>aguascalientes</td>\n",
       "      <td>asientos</td>\n",
       "      <td>aguascalientes-asientos</td>\n",
       "    </tr>\n",
       "    <tr>\n",
       "      <th>945</th>\n",
       "      <td>01</td>\n",
       "      <td>Aguascalientes</td>\n",
       "      <td>003</td>\n",
       "      <td>Calvillo</td>\n",
       "      <td>aguascalientes</td>\n",
       "      <td>calvillo</td>\n",
       "      <td>aguascalientes-calvillo</td>\n",
       "    </tr>\n",
       "    <tr>\n",
       "      <th>1237</th>\n",
       "      <td>01</td>\n",
       "      <td>Aguascalientes</td>\n",
       "      <td>004</td>\n",
       "      <td>Cosío</td>\n",
       "      <td>aguascalientes</td>\n",
       "      <td>cosio</td>\n",
       "      <td>aguascalientes-cosio</td>\n",
       "    </tr>\n",
       "    <tr>\n",
       "      <th>1330</th>\n",
       "      <td>01</td>\n",
       "      <td>Aguascalientes</td>\n",
       "      <td>005</td>\n",
       "      <td>Jesús María</td>\n",
       "      <td>aguascalientes</td>\n",
       "      <td>jesus maria</td>\n",
       "      <td>aguascalientes-jesus maria</td>\n",
       "    </tr>\n",
       "  </tbody>\n",
       "</table>\n",
       "</div>"
      ],
      "text/plain": [
       "     CVE_ENT   Entidad_inegi CVE_MUN Municipio_inegi Entidad_c_inegi  \\\n",
       "0         01  Aguascalientes     001  Aguascalientes  aguascalientes   \n",
       "708       01  Aguascalientes     002        Asientos  aguascalientes   \n",
       "945       01  Aguascalientes     003        Calvillo  aguascalientes   \n",
       "1237      01  Aguascalientes     004           Cosío  aguascalientes   \n",
       "1330      01  Aguascalientes     005     Jesús María  aguascalientes   \n",
       "\n",
       "     Municipio_c_inegi                      KEY_inegi  \n",
       "0       aguascalientes  aguascalientes-aguascalientes  \n",
       "708           asientos        aguascalientes-asientos  \n",
       "945           calvillo        aguascalientes-calvillo  \n",
       "1237             cosio           aguascalientes-cosio  \n",
       "1330       jesus maria     aguascalientes-jesus maria  "
      ]
     },
     "execution_count": 30,
     "metadata": {},
     "output_type": "execute_result"
    }
   ],
   "source": [
    "dataset_inegi_uniquemun.head()"
   ]
  },
  {
   "cell_type": "code",
   "execution_count": 31,
   "id": "8b81e8cb",
   "metadata": {},
   "outputs": [
    {
     "data": {
      "text/html": [
       "<div>\n",
       "<style scoped>\n",
       "    .dataframe tbody tr th:only-of-type {\n",
       "        vertical-align: middle;\n",
       "    }\n",
       "\n",
       "    .dataframe tbody tr th {\n",
       "        vertical-align: top;\n",
       "    }\n",
       "\n",
       "    .dataframe thead th {\n",
       "        text-align: right;\n",
       "    }\n",
       "</style>\n",
       "<table border=\"1\" class=\"dataframe\">\n",
       "  <thead>\n",
       "    <tr style=\"text-align: right;\">\n",
       "      <th></th>\n",
       "      <th>ESTADO</th>\n",
       "      <th>MUNICIPIO</th>\n",
       "      <th>ESTADO_c_benef</th>\n",
       "      <th>MUNICIPIO_c_benef</th>\n",
       "      <th>KEY_benef</th>\n",
       "    </tr>\n",
       "  </thead>\n",
       "  <tbody>\n",
       "    <tr>\n",
       "      <th>0</th>\n",
       "      <td>SINALOA</td>\n",
       "      <td>AHOME</td>\n",
       "      <td>sinaloa</td>\n",
       "      <td>ahome</td>\n",
       "      <td>sinaloa-ahome</td>\n",
       "    </tr>\n",
       "    <tr>\n",
       "      <th>2574</th>\n",
       "      <td>SINALOA</td>\n",
       "      <td>ANGOSTURA</td>\n",
       "      <td>sinaloa</td>\n",
       "      <td>angostura</td>\n",
       "      <td>sinaloa-angostura</td>\n",
       "    </tr>\n",
       "    <tr>\n",
       "      <th>3789</th>\n",
       "      <td>SINALOA</td>\n",
       "      <td>BADIRAGUATO</td>\n",
       "      <td>sinaloa</td>\n",
       "      <td>badiraguato</td>\n",
       "      <td>sinaloa-badiraguato</td>\n",
       "    </tr>\n",
       "    <tr>\n",
       "      <th>6623</th>\n",
       "      <td>SINALOA</td>\n",
       "      <td>CHOIX</td>\n",
       "      <td>sinaloa</td>\n",
       "      <td>choix</td>\n",
       "      <td>sinaloa-choix</td>\n",
       "    </tr>\n",
       "    <tr>\n",
       "      <th>9113</th>\n",
       "      <td>SINALOA</td>\n",
       "      <td>CONCORDIA</td>\n",
       "      <td>sinaloa</td>\n",
       "      <td>concordia</td>\n",
       "      <td>sinaloa-concordia</td>\n",
       "    </tr>\n",
       "  </tbody>\n",
       "</table>\n",
       "</div>"
      ],
      "text/plain": [
       "       ESTADO    MUNICIPIO ESTADO_c_benef MUNICIPIO_c_benef  \\\n",
       "0     SINALOA        AHOME        sinaloa             ahome   \n",
       "2574  SINALOA    ANGOSTURA        sinaloa         angostura   \n",
       "3789  SINALOA  BADIRAGUATO        sinaloa       badiraguato   \n",
       "6623  SINALOA        CHOIX        sinaloa             choix   \n",
       "9113  SINALOA    CONCORDIA        sinaloa         concordia   \n",
       "\n",
       "                KEY_benef  \n",
       "0           sinaloa-ahome  \n",
       "2574    sinaloa-angostura  \n",
       "3789  sinaloa-badiraguato  \n",
       "6623        sinaloa-choix  \n",
       "9113    sinaloa-concordia  "
      ]
     },
     "execution_count": 31,
     "metadata": {},
     "output_type": "execute_result"
    }
   ],
   "source": [
    "Estados_beneficiarios2023.head()"
   ]
  },
  {
   "cell_type": "code",
   "execution_count": 32,
   "id": "8baf7b52",
   "metadata": {},
   "outputs": [
    {
     "data": {
      "text/plain": [
       "(2476, 7)"
      ]
     },
     "execution_count": 32,
     "metadata": {},
     "output_type": "execute_result"
    }
   ],
   "source": [
    "dataset_inegi_uniquemun.shape"
   ]
  },
  {
   "cell_type": "code",
   "execution_count": 33,
   "id": "9458d520",
   "metadata": {},
   "outputs": [
    {
     "data": {
      "text/plain": [
       "(2356, 5)"
      ]
     },
     "execution_count": 33,
     "metadata": {},
     "output_type": "execute_result"
    }
   ],
   "source": [
    "Estados_beneficiarios2023.shape"
   ]
  },
  {
   "cell_type": "markdown",
   "id": "e51d9278",
   "metadata": {},
   "source": []
  },
  {
   "cell_type": "markdown",
   "id": "54bf8df24ed21525",
   "metadata": {},
   "source": [
    "### 3.1 Left join (Para crear diccionario)\n",
    "\n",
    "Creamos el diccionario."
   ]
  },
  {
   "cell_type": "code",
   "execution_count": 34,
   "id": "ad6eaef8",
   "metadata": {},
   "outputs": [],
   "source": [
    "# Crear una función para encontrar la mejor coincidencia difusa con límites entre 90 y 100 de coincidencia\n",
    "def fuzzy_merge_benef2023(df_benef, df_inegi, key1, key2, threshold=90, limit=1):\n",
    "    \"\"\"\n",
    "    df_inegi: DataFrame de la izquierda (el DataFrame principal)\n",
    "    df_prod: DataFrame de la derecha (el DataFrame con el que se quiere hacer el join)\n",
    "    key1: Columna de la clave en df_inegi\n",
    "    key2: Columna de la clave en df_prod\n",
    "    threshold: Umbral de coincidencia difusa\n",
    "    limit: Número de coincidencias a encontrar\n",
    "    \"\"\"\n",
    "    s = df_inegi[key2].tolist()\n",
    "    \n",
    "    # Encontrar las mejores coincidencias para cada clave en df_inegi\n",
    "    matches = df_benef[key1].apply(lambda x: process.extractOne(x, s, score_cutoff=threshold))\n",
    "\n",
    "\n",
    "    # Crear una columna con las mejores coincidencias\n",
    "    df_benef['best_match'] = [match[0] if match else None for match in matches]\n",
    "    \n",
    "    df_benef['match_score'] = [match[1] if match else None for match in matches]\n",
    "    \n",
    "\n",
    "    # Hacer el merge con las mejores coincidencias\n",
    "    df_merged = pd.merge(df_benef, df_inegi, left_on='best_match', right_on=key2, how='left',\n",
    "                         suffixes=('_benef', '_inegi'))\n",
    "    \n",
    "    return df_merged"
   ]
  },
  {
   "cell_type": "code",
   "execution_count": 35,
   "id": "ef162063",
   "metadata": {},
   "outputs": [
    {
     "data": {
      "text/plain": [
       "Index(['ESTADO', 'MUNICIPIO', 'ESTADO_c_benef', 'MUNICIPIO_c_benef',\n",
       "       'KEY_benef', 'best_match', 'match_score', 'CVE_ENT', 'Entidad_inegi',\n",
       "       'CVE_MUN', 'Municipio_inegi', 'Entidad_c_inegi', 'Municipio_c_inegi',\n",
       "       'KEY_inegi'],\n",
       "      dtype='object')"
      ]
     },
     "execution_count": 35,
     "metadata": {},
     "output_type": "execute_result"
    }
   ],
   "source": [
    "diccionario = fuzzy_merge_benef2023(Estados_beneficiarios2023, dataset_inegi_uniquemun, 'KEY_benef', 'KEY_inegi')\n",
    "# Mostrar el resultado\n",
    "diccionario.columns"
   ]
  },
  {
   "cell_type": "code",
   "execution_count": 36,
   "id": "0551eb3f",
   "metadata": {},
   "outputs": [
    {
     "name": "stdout",
     "output_type": "stream",
     "text": [
      "                    count unique                               top freq  \\\n",
      "ESTADO               2358     30                            OAXACA  566   \n",
      "MUNICIPIO            2358   2235                   EMILIANO ZAPATA    6   \n",
      "ESTADO_c_benef       2358     30                            oaxaca  566   \n",
      "MUNICIPIO_c_benef    2358   2235                   emiliano zapata    6   \n",
      "KEY_benef            2358   2356         oaxaca-san pedro mixtepec    2   \n",
      "best_match           2340   2315  chiapas-rincon chamula san pedro    3   \n",
      "match_score        2340.0    NaN                               NaN  NaN   \n",
      "CVE_ENT              2340     30                                20  563   \n",
      "Entidad_inegi        2340     30                            Oaxaca  563   \n",
      "CVE_MUN              2340    561                               003   29   \n",
      "Municipio_inegi      2340   2197                            Ocampo    7   \n",
      "Entidad_c_inegi      2340     30                            oaxaca  563   \n",
      "Municipio_c_inegi    2340   2197                            ocampo    7   \n",
      "KEY_inegi            2340   2315  chiapas-rincon chamula san pedro    3   \n",
      "\n",
      "                        mean       std   min    25%    50%    75%    max  \n",
      "ESTADO                   NaN       NaN   NaN    NaN    NaN    NaN    NaN  \n",
      "MUNICIPIO                NaN       NaN   NaN    NaN    NaN    NaN    NaN  \n",
      "ESTADO_c_benef           NaN       NaN   NaN    NaN    NaN    NaN    NaN  \n",
      "MUNICIPIO_c_benef        NaN       NaN   NaN    NaN    NaN    NaN    NaN  \n",
      "KEY_benef                NaN       NaN   NaN    NaN    NaN    NaN    NaN  \n",
      "best_match               NaN       NaN   NaN    NaN    NaN    NaN    NaN  \n",
      "match_score        99.901709  0.776249  90.0  100.0  100.0  100.0  100.0  \n",
      "CVE_ENT                  NaN       NaN   NaN    NaN    NaN    NaN    NaN  \n",
      "Entidad_inegi            NaN       NaN   NaN    NaN    NaN    NaN    NaN  \n",
      "CVE_MUN                  NaN       NaN   NaN    NaN    NaN    NaN    NaN  \n",
      "Municipio_inegi          NaN       NaN   NaN    NaN    NaN    NaN    NaN  \n",
      "Entidad_c_inegi          NaN       NaN   NaN    NaN    NaN    NaN    NaN  \n",
      "Municipio_c_inegi        NaN       NaN   NaN    NaN    NaN    NaN    NaN  \n",
      "KEY_inegi                NaN       NaN   NaN    NaN    NaN    NaN    NaN  \n"
     ]
    }
   ],
   "source": [
    "# Valores únicos y la cantidad de cada columna\n",
    "# Obtener estadísticas descriptivas para todas las variables\n",
    "\n",
    "descriptive_stats = diccionario.describe(include='all').transpose()\n",
    "\n",
    "# Mostrar las estadísticas descriptivas\n",
    "print(descriptive_stats)"
   ]
  },
  {
   "cell_type": "code",
   "execution_count": 37,
   "id": "0a596a42",
   "metadata": {},
   "outputs": [],
   "source": [
    "nan_rows = diccionario.isna()"
   ]
  },
  {
   "cell_type": "code",
   "execution_count": 39,
   "id": "4cefccc4079ae8e9",
   "metadata": {
    "ExecuteTime": {
     "end_time": "2024-05-30T14:04:01.741880Z",
     "start_time": "2024-05-30T14:04:01.724246Z"
    }
   },
   "outputs": [],
   "source": [
    "diccionario.to_csv('../../data/productores_beneficiarios/diccionarios_E2/diccionario_benef_E2.csv', index=False)"
   ]
  },
  {
   "cell_type": "markdown",
   "id": "7480947838e468f7",
   "metadata": {},
   "source": [
    "## 3.2 Listado beneficiarios2023\n",
    "\n",
    "Esta sección se encarga de completar el listado original de Beneficiarios Autorizados con los nombre corregido de INEGI usando el diccionario."
   ]
  },
  {
   "cell_type": "code",
   "execution_count": 40,
   "id": "6ae598e683e47cac",
   "metadata": {
    "ExecuteTime": {
     "end_time": "2024-05-30T14:04:10.797009Z",
     "start_time": "2024-05-30T14:04:01.743888Z"
    }
   },
   "outputs": [],
   "source": [
    "# Crear una variable KEY en listado de productores y el diccionario para hacer el join\n",
    "\n",
    "# Clean listado beneficiarios\n",
    "listado_beneficiarios['ESTADO_Clean'] = listado_beneficiarios['ESTADO'].apply(clean_text)\n",
    "listado_beneficiarios['MUNICIPIO_Clean'] = listado_beneficiarios['MUNICIPIO'].apply(clean_text)\n",
    "\n",
    "# Create KEY in listado beneficiarios\n",
    "listado_beneficiarios['Estado-mun-KEY'] = listado_beneficiarios['ESTADO_Clean'].astype(str) + '-' + listado_beneficiarios[\n",
    "    'MUNICIPIO_Clean'].astype(str)"
   ]
  },
  {
   "cell_type": "code",
   "execution_count": 41,
   "id": "d8d5e195",
   "metadata": {},
   "outputs": [],
   "source": [
    "nan_rows = listado_beneficiarios.isna()"
   ]
  },
  {
   "cell_type": "code",
   "execution_count": 42,
   "id": "446d9c40",
   "metadata": {},
   "outputs": [
    {
     "data": {
      "text/plain": [
       "ESTADO                  0\n",
       "MUNICIPIO               0\n",
       "ACUSE ESTATAL           0\n",
       "APELLIDO PATERNO        1\n",
       "APELLIDO MATERNO    26223\n",
       "NOMBRE (S)              0\n",
       "PAQUETE                 1\n",
       "ESTADO_Clean            0\n",
       "MUNICIPIO_Clean         0\n",
       "Estado-mun-KEY          0\n",
       "dtype: int64"
      ]
     },
     "execution_count": 42,
     "metadata": {},
     "output_type": "execute_result"
    }
   ],
   "source": [
    "nan_rows.sum()"
   ]
  },
  {
   "cell_type": "code",
   "execution_count": 43,
   "id": "672ed551381e1e8a",
   "metadata": {
    "ExecuteTime": {
     "end_time": "2024-05-30T14:04:10.806584Z",
     "start_time": "2024-05-30T14:04:10.800015Z"
    }
   },
   "outputs": [
    {
     "name": "stdout",
     "output_type": "stream",
     "text": [
      "(1679795, 10)\n"
     ]
    },
    {
     "data": {
      "text/plain": [
       "Index(['ESTADO', 'MUNICIPIO', 'ACUSE ESTATAL', 'APELLIDO PATERNO',\n",
       "       'APELLIDO MATERNO', 'NOMBRE (S)', 'PAQUETE', 'ESTADO_Clean',\n",
       "       'MUNICIPIO_Clean', 'Estado-mun-KEY'],\n",
       "      dtype='object')"
      ]
     },
     "execution_count": 43,
     "metadata": {},
     "output_type": "execute_result"
    }
   ],
   "source": [
    "print(listado_beneficiarios.shape)\n",
    "listado_beneficiarios.columns\n"
   ]
  },
  {
   "cell_type": "code",
   "execution_count": null,
   "id": "9a887b8bde1fcd6c",
   "metadata": {
    "ExecuteTime": {
     "end_time": "2024-05-30T14:04:10.879818Z",
     "start_time": "2024-05-30T14:04:10.849876Z"
    }
   },
   "outputs": [
    {
     "ename": "FileNotFoundError",
     "evalue": "[Errno 2] No such file or directory: '../../data/Diccionario_Simple.csv'",
     "output_type": "error",
     "traceback": [
      "\u001b[0;31m---------------------------------------------------------------------------\u001b[0m",
      "\u001b[0;31mFileNotFoundError\u001b[0m                         Traceback (most recent call last)",
      "Cell \u001b[0;32mIn[43], line 3\u001b[0m\n\u001b[1;32m      1\u001b[0m \u001b[38;5;66;03m# Lectura del diccionario Verificado Simple\u001b[39;00m\n\u001b[1;32m      2\u001b[0m \u001b[38;5;66;03m#diccionario_verificado = pd.read_csv('../../data/Diccionario_benef_manual_verificado.csv')\u001b[39;00m\n\u001b[0;32m----> 3\u001b[0m diccionario_verificado_simple \u001b[38;5;241m=\u001b[39m \u001b[43mpd\u001b[49m\u001b[38;5;241;43m.\u001b[39;49m\u001b[43mread_csv\u001b[49m\u001b[43m(\u001b[49m\u001b[38;5;124;43m'\u001b[39;49m\u001b[38;5;124;43m../../data/Diccionario_Simple.csv\u001b[39;49m\u001b[38;5;124;43m'\u001b[39;49m\u001b[43m)\u001b[49m\n",
      "File \u001b[0;32m/Library/Frameworks/Python.framework/Versions/3.9/lib/python3.9/site-packages/pandas/io/parsers/readers.py:1026\u001b[0m, in \u001b[0;36mread_csv\u001b[0;34m(filepath_or_buffer, sep, delimiter, header, names, index_col, usecols, dtype, engine, converters, true_values, false_values, skipinitialspace, skiprows, skipfooter, nrows, na_values, keep_default_na, na_filter, verbose, skip_blank_lines, parse_dates, infer_datetime_format, keep_date_col, date_parser, date_format, dayfirst, cache_dates, iterator, chunksize, compression, thousands, decimal, lineterminator, quotechar, quoting, doublequote, escapechar, comment, encoding, encoding_errors, dialect, on_bad_lines, delim_whitespace, low_memory, memory_map, float_precision, storage_options, dtype_backend)\u001b[0m\n\u001b[1;32m   1013\u001b[0m kwds_defaults \u001b[38;5;241m=\u001b[39m _refine_defaults_read(\n\u001b[1;32m   1014\u001b[0m     dialect,\n\u001b[1;32m   1015\u001b[0m     delimiter,\n\u001b[0;32m   (...)\u001b[0m\n\u001b[1;32m   1022\u001b[0m     dtype_backend\u001b[38;5;241m=\u001b[39mdtype_backend,\n\u001b[1;32m   1023\u001b[0m )\n\u001b[1;32m   1024\u001b[0m kwds\u001b[38;5;241m.\u001b[39mupdate(kwds_defaults)\n\u001b[0;32m-> 1026\u001b[0m \u001b[38;5;28;01mreturn\u001b[39;00m \u001b[43m_read\u001b[49m\u001b[43m(\u001b[49m\u001b[43mfilepath_or_buffer\u001b[49m\u001b[43m,\u001b[49m\u001b[43m \u001b[49m\u001b[43mkwds\u001b[49m\u001b[43m)\u001b[49m\n",
      "File \u001b[0;32m/Library/Frameworks/Python.framework/Versions/3.9/lib/python3.9/site-packages/pandas/io/parsers/readers.py:620\u001b[0m, in \u001b[0;36m_read\u001b[0;34m(filepath_or_buffer, kwds)\u001b[0m\n\u001b[1;32m    617\u001b[0m _validate_names(kwds\u001b[38;5;241m.\u001b[39mget(\u001b[38;5;124m\"\u001b[39m\u001b[38;5;124mnames\u001b[39m\u001b[38;5;124m\"\u001b[39m, \u001b[38;5;28;01mNone\u001b[39;00m))\n\u001b[1;32m    619\u001b[0m \u001b[38;5;66;03m# Create the parser.\u001b[39;00m\n\u001b[0;32m--> 620\u001b[0m parser \u001b[38;5;241m=\u001b[39m \u001b[43mTextFileReader\u001b[49m\u001b[43m(\u001b[49m\u001b[43mfilepath_or_buffer\u001b[49m\u001b[43m,\u001b[49m\u001b[43m \u001b[49m\u001b[38;5;241;43m*\u001b[39;49m\u001b[38;5;241;43m*\u001b[39;49m\u001b[43mkwds\u001b[49m\u001b[43m)\u001b[49m\n\u001b[1;32m    622\u001b[0m \u001b[38;5;28;01mif\u001b[39;00m chunksize \u001b[38;5;129;01mor\u001b[39;00m iterator:\n\u001b[1;32m    623\u001b[0m     \u001b[38;5;28;01mreturn\u001b[39;00m parser\n",
      "File \u001b[0;32m/Library/Frameworks/Python.framework/Versions/3.9/lib/python3.9/site-packages/pandas/io/parsers/readers.py:1620\u001b[0m, in \u001b[0;36mTextFileReader.__init__\u001b[0;34m(self, f, engine, **kwds)\u001b[0m\n\u001b[1;32m   1617\u001b[0m     \u001b[38;5;28mself\u001b[39m\u001b[38;5;241m.\u001b[39moptions[\u001b[38;5;124m\"\u001b[39m\u001b[38;5;124mhas_index_names\u001b[39m\u001b[38;5;124m\"\u001b[39m] \u001b[38;5;241m=\u001b[39m kwds[\u001b[38;5;124m\"\u001b[39m\u001b[38;5;124mhas_index_names\u001b[39m\u001b[38;5;124m\"\u001b[39m]\n\u001b[1;32m   1619\u001b[0m \u001b[38;5;28mself\u001b[39m\u001b[38;5;241m.\u001b[39mhandles: IOHandles \u001b[38;5;241m|\u001b[39m \u001b[38;5;28;01mNone\u001b[39;00m \u001b[38;5;241m=\u001b[39m \u001b[38;5;28;01mNone\u001b[39;00m\n\u001b[0;32m-> 1620\u001b[0m \u001b[38;5;28mself\u001b[39m\u001b[38;5;241m.\u001b[39m_engine \u001b[38;5;241m=\u001b[39m \u001b[38;5;28;43mself\u001b[39;49m\u001b[38;5;241;43m.\u001b[39;49m\u001b[43m_make_engine\u001b[49m\u001b[43m(\u001b[49m\u001b[43mf\u001b[49m\u001b[43m,\u001b[49m\u001b[43m \u001b[49m\u001b[38;5;28;43mself\u001b[39;49m\u001b[38;5;241;43m.\u001b[39;49m\u001b[43mengine\u001b[49m\u001b[43m)\u001b[49m\n",
      "File \u001b[0;32m/Library/Frameworks/Python.framework/Versions/3.9/lib/python3.9/site-packages/pandas/io/parsers/readers.py:1880\u001b[0m, in \u001b[0;36mTextFileReader._make_engine\u001b[0;34m(self, f, engine)\u001b[0m\n\u001b[1;32m   1878\u001b[0m     \u001b[38;5;28;01mif\u001b[39;00m \u001b[38;5;124m\"\u001b[39m\u001b[38;5;124mb\u001b[39m\u001b[38;5;124m\"\u001b[39m \u001b[38;5;129;01mnot\u001b[39;00m \u001b[38;5;129;01min\u001b[39;00m mode:\n\u001b[1;32m   1879\u001b[0m         mode \u001b[38;5;241m+\u001b[39m\u001b[38;5;241m=\u001b[39m \u001b[38;5;124m\"\u001b[39m\u001b[38;5;124mb\u001b[39m\u001b[38;5;124m\"\u001b[39m\n\u001b[0;32m-> 1880\u001b[0m \u001b[38;5;28mself\u001b[39m\u001b[38;5;241m.\u001b[39mhandles \u001b[38;5;241m=\u001b[39m \u001b[43mget_handle\u001b[49m\u001b[43m(\u001b[49m\n\u001b[1;32m   1881\u001b[0m \u001b[43m    \u001b[49m\u001b[43mf\u001b[49m\u001b[43m,\u001b[49m\n\u001b[1;32m   1882\u001b[0m \u001b[43m    \u001b[49m\u001b[43mmode\u001b[49m\u001b[43m,\u001b[49m\n\u001b[1;32m   1883\u001b[0m \u001b[43m    \u001b[49m\u001b[43mencoding\u001b[49m\u001b[38;5;241;43m=\u001b[39;49m\u001b[38;5;28;43mself\u001b[39;49m\u001b[38;5;241;43m.\u001b[39;49m\u001b[43moptions\u001b[49m\u001b[38;5;241;43m.\u001b[39;49m\u001b[43mget\u001b[49m\u001b[43m(\u001b[49m\u001b[38;5;124;43m\"\u001b[39;49m\u001b[38;5;124;43mencoding\u001b[39;49m\u001b[38;5;124;43m\"\u001b[39;49m\u001b[43m,\u001b[49m\u001b[43m \u001b[49m\u001b[38;5;28;43;01mNone\u001b[39;49;00m\u001b[43m)\u001b[49m\u001b[43m,\u001b[49m\n\u001b[1;32m   1884\u001b[0m \u001b[43m    \u001b[49m\u001b[43mcompression\u001b[49m\u001b[38;5;241;43m=\u001b[39;49m\u001b[38;5;28;43mself\u001b[39;49m\u001b[38;5;241;43m.\u001b[39;49m\u001b[43moptions\u001b[49m\u001b[38;5;241;43m.\u001b[39;49m\u001b[43mget\u001b[49m\u001b[43m(\u001b[49m\u001b[38;5;124;43m\"\u001b[39;49m\u001b[38;5;124;43mcompression\u001b[39;49m\u001b[38;5;124;43m\"\u001b[39;49m\u001b[43m,\u001b[49m\u001b[43m \u001b[49m\u001b[38;5;28;43;01mNone\u001b[39;49;00m\u001b[43m)\u001b[49m\u001b[43m,\u001b[49m\n\u001b[1;32m   1885\u001b[0m \u001b[43m    \u001b[49m\u001b[43mmemory_map\u001b[49m\u001b[38;5;241;43m=\u001b[39;49m\u001b[38;5;28;43mself\u001b[39;49m\u001b[38;5;241;43m.\u001b[39;49m\u001b[43moptions\u001b[49m\u001b[38;5;241;43m.\u001b[39;49m\u001b[43mget\u001b[49m\u001b[43m(\u001b[49m\u001b[38;5;124;43m\"\u001b[39;49m\u001b[38;5;124;43mmemory_map\u001b[39;49m\u001b[38;5;124;43m\"\u001b[39;49m\u001b[43m,\u001b[49m\u001b[43m \u001b[49m\u001b[38;5;28;43;01mFalse\u001b[39;49;00m\u001b[43m)\u001b[49m\u001b[43m,\u001b[49m\n\u001b[1;32m   1886\u001b[0m \u001b[43m    \u001b[49m\u001b[43mis_text\u001b[49m\u001b[38;5;241;43m=\u001b[39;49m\u001b[43mis_text\u001b[49m\u001b[43m,\u001b[49m\n\u001b[1;32m   1887\u001b[0m \u001b[43m    \u001b[49m\u001b[43merrors\u001b[49m\u001b[38;5;241;43m=\u001b[39;49m\u001b[38;5;28;43mself\u001b[39;49m\u001b[38;5;241;43m.\u001b[39;49m\u001b[43moptions\u001b[49m\u001b[38;5;241;43m.\u001b[39;49m\u001b[43mget\u001b[49m\u001b[43m(\u001b[49m\u001b[38;5;124;43m\"\u001b[39;49m\u001b[38;5;124;43mencoding_errors\u001b[39;49m\u001b[38;5;124;43m\"\u001b[39;49m\u001b[43m,\u001b[49m\u001b[43m \u001b[49m\u001b[38;5;124;43m\"\u001b[39;49m\u001b[38;5;124;43mstrict\u001b[39;49m\u001b[38;5;124;43m\"\u001b[39;49m\u001b[43m)\u001b[49m\u001b[43m,\u001b[49m\n\u001b[1;32m   1888\u001b[0m \u001b[43m    \u001b[49m\u001b[43mstorage_options\u001b[49m\u001b[38;5;241;43m=\u001b[39;49m\u001b[38;5;28;43mself\u001b[39;49m\u001b[38;5;241;43m.\u001b[39;49m\u001b[43moptions\u001b[49m\u001b[38;5;241;43m.\u001b[39;49m\u001b[43mget\u001b[49m\u001b[43m(\u001b[49m\u001b[38;5;124;43m\"\u001b[39;49m\u001b[38;5;124;43mstorage_options\u001b[39;49m\u001b[38;5;124;43m\"\u001b[39;49m\u001b[43m,\u001b[49m\u001b[43m \u001b[49m\u001b[38;5;28;43;01mNone\u001b[39;49;00m\u001b[43m)\u001b[49m\u001b[43m,\u001b[49m\n\u001b[1;32m   1889\u001b[0m \u001b[43m\u001b[49m\u001b[43m)\u001b[49m\n\u001b[1;32m   1890\u001b[0m \u001b[38;5;28;01massert\u001b[39;00m \u001b[38;5;28mself\u001b[39m\u001b[38;5;241m.\u001b[39mhandles \u001b[38;5;129;01mis\u001b[39;00m \u001b[38;5;129;01mnot\u001b[39;00m \u001b[38;5;28;01mNone\u001b[39;00m\n\u001b[1;32m   1891\u001b[0m f \u001b[38;5;241m=\u001b[39m \u001b[38;5;28mself\u001b[39m\u001b[38;5;241m.\u001b[39mhandles\u001b[38;5;241m.\u001b[39mhandle\n",
      "File \u001b[0;32m/Library/Frameworks/Python.framework/Versions/3.9/lib/python3.9/site-packages/pandas/io/common.py:873\u001b[0m, in \u001b[0;36mget_handle\u001b[0;34m(path_or_buf, mode, encoding, compression, memory_map, is_text, errors, storage_options)\u001b[0m\n\u001b[1;32m    868\u001b[0m \u001b[38;5;28;01melif\u001b[39;00m \u001b[38;5;28misinstance\u001b[39m(handle, \u001b[38;5;28mstr\u001b[39m):\n\u001b[1;32m    869\u001b[0m     \u001b[38;5;66;03m# Check whether the filename is to be opened in binary mode.\u001b[39;00m\n\u001b[1;32m    870\u001b[0m     \u001b[38;5;66;03m# Binary mode does not support 'encoding' and 'newline'.\u001b[39;00m\n\u001b[1;32m    871\u001b[0m     \u001b[38;5;28;01mif\u001b[39;00m ioargs\u001b[38;5;241m.\u001b[39mencoding \u001b[38;5;129;01mand\u001b[39;00m \u001b[38;5;124m\"\u001b[39m\u001b[38;5;124mb\u001b[39m\u001b[38;5;124m\"\u001b[39m \u001b[38;5;129;01mnot\u001b[39;00m \u001b[38;5;129;01min\u001b[39;00m ioargs\u001b[38;5;241m.\u001b[39mmode:\n\u001b[1;32m    872\u001b[0m         \u001b[38;5;66;03m# Encoding\u001b[39;00m\n\u001b[0;32m--> 873\u001b[0m         handle \u001b[38;5;241m=\u001b[39m \u001b[38;5;28;43mopen\u001b[39;49m\u001b[43m(\u001b[49m\n\u001b[1;32m    874\u001b[0m \u001b[43m            \u001b[49m\u001b[43mhandle\u001b[49m\u001b[43m,\u001b[49m\n\u001b[1;32m    875\u001b[0m \u001b[43m            \u001b[49m\u001b[43mioargs\u001b[49m\u001b[38;5;241;43m.\u001b[39;49m\u001b[43mmode\u001b[49m\u001b[43m,\u001b[49m\n\u001b[1;32m    876\u001b[0m \u001b[43m            \u001b[49m\u001b[43mencoding\u001b[49m\u001b[38;5;241;43m=\u001b[39;49m\u001b[43mioargs\u001b[49m\u001b[38;5;241;43m.\u001b[39;49m\u001b[43mencoding\u001b[49m\u001b[43m,\u001b[49m\n\u001b[1;32m    877\u001b[0m \u001b[43m            \u001b[49m\u001b[43merrors\u001b[49m\u001b[38;5;241;43m=\u001b[39;49m\u001b[43merrors\u001b[49m\u001b[43m,\u001b[49m\n\u001b[1;32m    878\u001b[0m \u001b[43m            \u001b[49m\u001b[43mnewline\u001b[49m\u001b[38;5;241;43m=\u001b[39;49m\u001b[38;5;124;43m\"\u001b[39;49m\u001b[38;5;124;43m\"\u001b[39;49m\u001b[43m,\u001b[49m\n\u001b[1;32m    879\u001b[0m \u001b[43m        \u001b[49m\u001b[43m)\u001b[49m\n\u001b[1;32m    880\u001b[0m     \u001b[38;5;28;01melse\u001b[39;00m:\n\u001b[1;32m    881\u001b[0m         \u001b[38;5;66;03m# Binary mode\u001b[39;00m\n\u001b[1;32m    882\u001b[0m         handle \u001b[38;5;241m=\u001b[39m \u001b[38;5;28mopen\u001b[39m(handle, ioargs\u001b[38;5;241m.\u001b[39mmode)\n",
      "\u001b[0;31mFileNotFoundError\u001b[0m: [Errno 2] No such file or directory: '../../data/Diccionario_Simple.csv'"
     ]
    }
   ],
   "source": [
    "# Lectura del diccionario Verificado Simple\n",
    "#diccionario_verificado = pd.read_csv('../../data/Diccionario_benef_manual_verificado.csv')\n",
    "diccionario_verificado_simple = pd.read_csv('../../data/Diccionario_Simple.csv')"
   ]
  },
  {
   "cell_type": "code",
   "execution_count": null,
   "id": "179191e6",
   "metadata": {},
   "outputs": [
    {
     "name": "stdout",
     "output_type": "stream",
     "text": [
      "                       count unique                               top freq  \\\n",
      "Unnamed: 0            2356.0    NaN                               NaN  NaN   \n",
      "ï»¿KEY_benef            2356   2356                    mexico-acambay    1   \n",
      "KEY_benef_Verificado    2356   2335  chiapas-rincon chamula san pedro    3   \n",
      "\n",
      "                        mean         std  min     25%     50%      75%     max  \n",
      "Unnamed: 0            1177.5  680.262939  0.0  588.75  1177.5  1766.25  2355.0  \n",
      "ï»¿KEY_benef             NaN         NaN  NaN     NaN     NaN      NaN     NaN  \n",
      "KEY_benef_Verificado     NaN         NaN  NaN     NaN     NaN      NaN     NaN  \n"
     ]
    }
   ],
   "source": [
    "descriptive_stats = diccionario_verificado_simple.describe(include='all').transpose()\n",
    "\n",
    "# Mostrar las estadísticas descriptivas\n",
    "print(descriptive_stats)"
   ]
  },
  {
   "cell_type": "code",
   "execution_count": null,
   "id": "60163919",
   "metadata": {},
   "outputs": [
    {
     "data": {
      "text/plain": [
       "Index(['Unnamed: 0', 'ï»¿KEY_benef', 'KEY_benef_Verificado'], dtype='object')"
      ]
     },
     "execution_count": 45,
     "metadata": {},
     "output_type": "execute_result"
    }
   ],
   "source": [
    "diccionario_verificado_simple.columns"
   ]
  },
  {
   "cell_type": "code",
   "execution_count": null,
   "id": "f555bb77",
   "metadata": {},
   "outputs": [],
   "source": [
    "diccionario_verificado_simple.rename(columns={'ï»¿KEY_benef': 'KEY_benef'}, inplace=True)"
   ]
  },
  {
   "cell_type": "markdown",
   "id": "68e8b406",
   "metadata": {},
   "source": [
    "El diccionatio contiene KEY_benef únicos (Freq = 1), mientras que KEY_benef_Verificado puede repetirse."
   ]
  },
  {
   "cell_type": "markdown",
   "id": "d0c557f0",
   "metadata": {},
   "source": [
    "### MERGE\n",
    "\n",
    "Armamos por partes el dataset definitivo:\n",
    "1. Juntamos Listado_beneficiarios con el diccionario simple. (listado_beneficiario_parte_I)\n",
    "2. Al df anterior juntamos las claver provenientes del catálogo de Inegi. (listado_beneficiario_parte_II)"
   ]
  },
  {
   "cell_type": "code",
   "execution_count": null,
   "id": "e1928c484fe89c5e",
   "metadata": {
    "ExecuteTime": {
     "end_time": "2024-05-30T14:04:11.928301Z",
     "start_time": "2024-05-30T14:04:10.882823Z"
    }
   },
   "outputs": [],
   "source": [
    "# Hacer el join de la Parte I\n",
    "listado_beneficiarios_parte_I = pd.merge(listado_beneficiarios, diccionario_verificado_simple, left_on=\"Estado-mun-KEY\",\n",
    "                                        right_on=\"KEY_benef\", how='left', suffixes=('_benef', '_inegi'))"
   ]
  },
  {
   "cell_type": "code",
   "execution_count": null,
   "id": "c11e6579",
   "metadata": {},
   "outputs": [],
   "source": [
    "# Hacer el join de la Parte II\n",
    "listado_beneficiarios_parte_II = pd.merge(listado_beneficiarios_parte_I, dataset_inegi_uniquemun, left_on=\"KEY_benef_Verificado\",\n",
    "                                        right_on=\"KEY_inegi\", how='left', suffixes=('_benef', '_inegi'))"
   ]
  },
  {
   "cell_type": "code",
   "execution_count": null,
   "id": "e05e3642",
   "metadata": {},
   "outputs": [
    {
     "data": {
      "text/plain": [
       "Index(['ESTADO', 'MUNICIPIO', 'ACUSE ESTATAL', 'APELLIDO PATERNO',\n",
       "       'APELLIDO MATERNO', 'NOMBRE (S)', 'PAQUETE', 'ESTADO_Clean',\n",
       "       'MUNICIPIO_Clean', 'Estado-mun-KEY', 'Unnamed: 0', 'KEY_benef',\n",
       "       'KEY_benef_Verificado', 'CVE_ENT', 'Entidad_inegi', 'CVE_MUN',\n",
       "       'Municipio_inegi', 'Entidad_c_inegi', 'Municipio_c_inegi', 'KEY_inegi'],\n",
       "      dtype='object')"
      ]
     },
     "execution_count": 49,
     "metadata": {},
     "output_type": "execute_result"
    }
   ],
   "source": [
    "listado_beneficiarios_parte_II.columns"
   ]
  },
  {
   "cell_type": "code",
   "execution_count": null,
   "id": "392ed8b1",
   "metadata": {},
   "outputs": [
    {
     "data": {
      "text/plain": [
       "(1682494, 20)"
      ]
     },
     "execution_count": 50,
     "metadata": {},
     "output_type": "execute_result"
    }
   ],
   "source": [
    "listado_beneficiarios_parte_II.shape"
   ]
  },
  {
   "cell_type": "code",
   "execution_count": null,
   "id": "03d2a2b1",
   "metadata": {},
   "outputs": [
    {
     "name": "stdout",
     "output_type": "stream",
     "text": [
      "                          count   unique                             top  \\\n",
      "ESTADO                  1682494       30                        GUERRERO   \n",
      "MUNICIPIO               1682494     2237                  LAS MARGARITAS   \n",
      "ACUSE ESTATAL           1682494  1679795  23-PRONAFE-FERT-094967-S000-OC   \n",
      "APELLIDO PATERNO        1682493    14994                       HERNANDEZ   \n",
      "APELLIDO MATERNO        1656086    17599                       HERNANDEZ   \n",
      "NOMBRE (S)              1682494   124611                            JUAN   \n",
      "PAQUETE               1682493.0      NaN                             NaN   \n",
      "ESTADO_Clean            1682494       30                        guerrero   \n",
      "MUNICIPIO_Clean         1682494     2235                  las margaritas   \n",
      "Estado-mun-KEY          1682494     2356          chiapas-las margaritas   \n",
      "Unnamed: 0            1682494.0      NaN                             NaN   \n",
      "KEY_benef               1682494     2356          chiapas-las margaritas   \n",
      "KEY_benef_Verificado    1682494     2335          chiapas-las margaritas   \n",
      "CVE_ENT                 1682494       30                              12   \n",
      "Entidad_inegi           1682494       30                        Guerrero   \n",
      "CVE_MUN                 1682494      562                             010   \n",
      "Municipio_inegi         1682494     2216                  Las Margaritas   \n",
      "Entidad_c_inegi         1682494       30                        guerrero   \n",
      "Municipio_c_inegi       1682494     2216                  las margaritas   \n",
      "KEY_inegi               1682494     2335          chiapas-las margaritas   \n",
      "\n",
      "                        freq        mean         std  min    25%    50%  \\\n",
      "ESTADO                331011         NaN         NaN  NaN    NaN    NaN   \n",
      "MUNICIPIO              18040         NaN         NaN  NaN    NaN    NaN   \n",
      "ACUSE ESTATAL              2         NaN         NaN  NaN    NaN    NaN   \n",
      "APELLIDO PATERNO       77576         NaN         NaN  NaN    NaN    NaN   \n",
      "APELLIDO MATERNO       77115         NaN         NaN  NaN    NaN    NaN   \n",
      "NOMBRE (S)             26822         NaN         NaN  NaN    NaN    NaN   \n",
      "PAQUETE                  NaN    1.632155    0.992958  1.0    1.0    2.0   \n",
      "ESTADO_Clean          331011         NaN         NaN  NaN    NaN    NaN   \n",
      "MUNICIPIO_Clean        18040         NaN         NaN  NaN    NaN    NaN   \n",
      "Estado-mun-KEY         18040         NaN         NaN  NaN    NaN    NaN   \n",
      "Unnamed: 0               NaN  918.285372  632.241132  0.0  431.0  760.0   \n",
      "KEY_benef              18040         NaN         NaN  NaN    NaN    NaN   \n",
      "KEY_benef_Verificado   18040         NaN         NaN  NaN    NaN    NaN   \n",
      "CVE_ENT               331011         NaN         NaN  NaN    NaN    NaN   \n",
      "Entidad_inegi         331011         NaN         NaN  NaN    NaN    NaN   \n",
      "CVE_MUN                37051         NaN         NaN  NaN    NaN    NaN   \n",
      "Municipio_inegi        18040         NaN         NaN  NaN    NaN    NaN   \n",
      "Entidad_c_inegi       331011         NaN         NaN  NaN    NaN    NaN   \n",
      "Municipio_c_inegi      18040         NaN         NaN  NaN    NaN    NaN   \n",
      "KEY_inegi              18040         NaN         NaN  NaN    NaN    NaN   \n",
      "\n",
      "                         75%     max  \n",
      "ESTADO                   NaN     NaN  \n",
      "MUNICIPIO                NaN     NaN  \n",
      "ACUSE ESTATAL            NaN     NaN  \n",
      "APELLIDO PATERNO         NaN     NaN  \n",
      "APELLIDO MATERNO         NaN     NaN  \n",
      "NOMBRE (S)               NaN     NaN  \n",
      "PAQUETE                  2.0    10.0  \n",
      "ESTADO_Clean             NaN     NaN  \n",
      "MUNICIPIO_Clean          NaN     NaN  \n",
      "Estado-mun-KEY           NaN     NaN  \n",
      "Unnamed: 0            1457.0  2355.0  \n",
      "KEY_benef                NaN     NaN  \n",
      "KEY_benef_Verificado     NaN     NaN  \n",
      "CVE_ENT                  NaN     NaN  \n",
      "Entidad_inegi            NaN     NaN  \n",
      "CVE_MUN                  NaN     NaN  \n",
      "Municipio_inegi          NaN     NaN  \n",
      "Entidad_c_inegi          NaN     NaN  \n",
      "Municipio_c_inegi        NaN     NaN  \n",
      "KEY_inegi                NaN     NaN  \n"
     ]
    }
   ],
   "source": [
    "# Valores únicos y la cantidad de cada columna\n",
    "# Obtener estadísticas descriptivas para todas las variables\n",
    "\n",
    "descriptive_stats = listado_beneficiarios_parte_II.describe(include='all').transpose()\n",
    "\n",
    "# Mostrar las estadísticas descriptivas\n",
    "print(descriptive_stats)"
   ]
  },
  {
   "cell_type": "code",
   "execution_count": null,
   "id": "4095e5d0",
   "metadata": {},
   "outputs": [
    {
     "data": {
      "text/plain": [
       "(1679795, 20)"
      ]
     },
     "execution_count": 52,
     "metadata": {},
     "output_type": "execute_result"
    }
   ],
   "source": [
    "listado_beneficiarios_parte_II = listado_beneficiarios_parte_II.drop_duplicates(subset = ['ACUSE ESTATAL'],keep = 'first')\n",
    "listado_beneficiarios_parte_II.shape"
   ]
  },
  {
   "cell_type": "code",
   "execution_count": null,
   "id": "b27a125b519d9ac8",
   "metadata": {
    "ExecuteTime": {
     "end_time": "2024-05-30T14:04:14.339706Z",
     "start_time": "2024-05-30T14:04:14.106578Z"
    }
   },
   "outputs": [],
   "source": [
    "# Seleccionamos las columnas que nos interesan\n",
    "listado_beneficiarios_parte_II = listado_beneficiarios_parte_II[\n",
    "    ['ESTADO', 'MUNICIPIO', 'ACUSE ESTATAL', 'APELLIDO PATERNO', 'APELLIDO MATERNO',\n",
    "     'NOMBRE (S)', 'PAQUETE', 'KEY_benef_Verificado', 'Entidad_inegi', 'Municipio_inegi', 'CVE_ENT', 'CVE_MUN']]"
   ]
  },
  {
   "cell_type": "code",
   "execution_count": null,
   "id": "f74b72372f1494ed",
   "metadata": {
    "ExecuteTime": {
     "end_time": "2024-05-30T14:04:14.361161Z",
     "start_time": "2024-05-30T14:04:14.346729Z"
    }
   },
   "outputs": [
    {
     "name": "stdout",
     "output_type": "stream",
     "text": [
      "(1679795, 12)\n",
      "Index(['ESTADO', 'MUNICIPIO', 'ACUSE ESTATAL', 'APELLIDO PATERNO',\n",
      "       'APELLIDO MATERNO', 'NOMBRE (S)', 'PAQUETE', 'KEY_benef_Verificado',\n",
      "       'Entidad_inegi', 'Municipio_inegi', 'CVE_ENT', 'CVE_MUN'],\n",
      "      dtype='object')\n",
      "    ESTADO MUNICIPIO                   ACUSE ESTATAL APELLIDO PATERNO  \\\n",
      "0  SINALOA     AHOME  23-PROESFE-ESTR-000051-E000-SL          ABOITES   \n",
      "1  SINALOA     AHOME  23-PROESFE-ESTR-043733-E000-SL           ABOYTE   \n",
      "2  SINALOA     AHOME  23-PROESFE-ESTR-000052-E000-SL          ABOYTES   \n",
      "3  SINALOA     AHOME  23-PROESFE-ESTR-030724-E000-SL           ACOSTA   \n",
      "4  SINALOA     AHOME  23-PROESFE-ESTR-035928-E000-SL           ACOSTA   \n",
      "\n",
      "  APELLIDO MATERNO NOMBRE (S)  PAQUETE KEY_benef_Verificado Entidad_inegi  \\\n",
      "0          ARMENTA  FRANCISCO      4.0        sinaloa-ahome       Sinaloa   \n",
      "1             RUIZ     ISMAEL      7.0        sinaloa-ahome       Sinaloa   \n",
      "2          ARMENTA    RODOLFO      4.0        sinaloa-ahome       Sinaloa   \n",
      "3           BUELNA      EDGAR     10.0        sinaloa-ahome       Sinaloa   \n",
      "4           BUELNA  GUADALUPE      5.0        sinaloa-ahome       Sinaloa   \n",
      "\n",
      "  Municipio_inegi CVE_ENT CVE_MUN  \n",
      "0           Ahome      25     001  \n",
      "1           Ahome      25     001  \n",
      "2           Ahome      25     001  \n",
      "3           Ahome      25     001  \n",
      "4           Ahome      25     001  \n"
     ]
    }
   ],
   "source": [
    "# Revisamos el dataset\n",
    "print(listado_beneficiarios_parte_II.shape)\n",
    "print(listado_beneficiarios_parte_II.columns)\n",
    "print(listado_beneficiarios_parte_II.head())"
   ]
  },
  {
   "cell_type": "code",
   "execution_count": null,
   "id": "7afb8c2a",
   "metadata": {},
   "outputs": [
    {
     "name": "stdout",
     "output_type": "stream",
     "text": [
      "ESTADO                      0\n",
      "MUNICIPIO                   0\n",
      "ACUSE ESTATAL               0\n",
      "APELLIDO PATERNO            1\n",
      "APELLIDO MATERNO        26223\n",
      "NOMBRE (S)                  0\n",
      "PAQUETE                     1\n",
      "KEY_benef_Verificado        0\n",
      "Entidad_inegi               0\n",
      "Municipio_inegi             0\n",
      "CVE_ENT                     0\n",
      "CVE_MUN                     0\n",
      "dtype: int64\n"
     ]
    }
   ],
   "source": [
    "nan_counts = listado_beneficiarios_parte_II.isna().sum()\n",
    "print(nan_counts)"
   ]
  },
  {
   "cell_type": "markdown",
   "id": "43a74521",
   "metadata": {},
   "source": [
    "Hay 0 filas que no han sido emparejadas."
   ]
  },
  {
   "cell_type": "code",
   "execution_count": null,
   "id": "e3275def",
   "metadata": {},
   "outputs": [],
   "source": [
    "listado_beneficiarios_parte_II.to_csv('../../data/LISTADO_BENEFICIARIOS2023_COMPLETO.csv', index=False)"
   ]
  },
  {
   "cell_type": "code",
   "execution_count": null,
   "id": "7c26d7e5",
   "metadata": {},
   "outputs": [
    {
     "data": {
      "text/plain": [
       "(1679795, 12)"
      ]
     },
     "execution_count": 57,
     "metadata": {},
     "output_type": "execute_result"
    }
   ],
   "source": [
    "listado_beneficiarios_parte_II.shape\n"
   ]
  }
 ],
 "metadata": {
  "kernelspec": {
   "display_name": "Python 3",
   "language": "python",
   "name": "python3"
  },
  "language_info": {
   "codemirror_mode": {
    "name": "ipython",
    "version": 3
   },
   "file_extension": ".py",
   "mimetype": "text/x-python",
   "name": "python",
   "nbconvert_exporter": "python",
   "pygments_lexer": "ipython3",
   "version": "3.9.9"
  }
 },
 "nbformat": 4,
 "nbformat_minor": 5
}
