{
 "cells": [
  {
   "cell_type": "markdown",
   "id": "e81f8196fda25d5b",
   "metadata": {},
   "source": []
  },
  {
   "cell_type": "markdown",
   "id": "6960feab7ef56473",
   "metadata": {},
   "source": [
    "# Data Cleaning Listado de Listado de Beneficiarios 2019-2022"
   ]
  },
  {
   "cell_type": "markdown",
   "id": "23de63a25eb2daf6",
   "metadata": {},
   "source": [
    "## Autores\n",
    "- José Luis Delgado Dávara\n",
    "- Arturo Ortiz Aguilar\n",
    "- Beltrán Valle Gutiérrez-Cortines"
   ]
  },
  {
   "cell_type": "markdown",
   "id": "b07c3a8a",
   "metadata": {},
   "source": [
    "## Importante leer para entender\n",
    "\n",
    "En este Notebook se trabaja con 3 listados importantes:\n",
    "\n",
    "1. Beneficiarios2019_2022 -> Dataset con el listado de TODOS los beneficiarios.\n",
    "2. Estados_Beneficiarios_2019_2022 -> Dataset sólo con los estados *únicos* encontrados en el dataset anterior.\n",
    "3. Diccionario -> Emparejamiento entre ambos listados de beneficiarios\n",
    "4. Dataset_Inegi -> Catálogo obtenido de Inegi"
   ]
  },
  {
   "cell_type": "code",
   "execution_count": 1,
   "id": "cb5833c3d96a224c",
   "metadata": {
    "ExecuteTime": {
     "end_time": "2024-05-30T14:01:37.230529Z",
     "start_time": "2024-05-30T14:01:37.040759Z"
    }
   },
   "outputs": [],
   "source": [
    "import pandas as pd\n",
    "import seaborn as sns\n",
    "from thefuzz import fuzz\n",
    "from thefuzz import process\n",
    "import matplotlib.pyplot as plt\n",
    "import numpy as np\n",
    "import os\n",
    "import glob\n",
    "import re\n",
    "import unidecode"
   ]
  },
  {
   "cell_type": "code",
   "execution_count": 2,
   "id": "ac0b22b6344a0b96",
   "metadata": {
    "ExecuteTime": {
     "end_time": "2024-05-30T14:01:37.238020Z",
     "start_time": "2024-05-30T14:01:37.231536Z"
    }
   },
   "outputs": [],
   "source": [
    "def load_datasets(directory):\n",
    "    # Get a list of all CSV files in the directory\n",
    "    csv_files = glob.glob(os.path.join(directory, '*.csv'))\n",
    "\n",
    "    # Read each CSV file and store the DataFrame in a list\n",
    "    dataframes = [pd.read_csv(file, encoding='utf-8', index_col=0, skiprows=0) for file in csv_files]\n",
    "\n",
    "    # Print the number of rows for each DataFrame\n",
    "    for i, df in enumerate(dataframes):\n",
    "        print(f\"Number of rows in DataFrame {i+1}: {df.shape[0]}\")\n",
    "\n",
    "    # Calculate the sum of rows in each individual dataset\n",
    "    individual_row_sum = sum([df.shape[0] for df in dataframes])\n",
    "\n",
    "    # Concatenate all DataFrames in the list\n",
    "    merged_df = pd.concat(dataframes, join='inner', ignore_index=True)\n",
    "\n",
    "    return merged_df, individual_row_sum\n",
    "\n",
    "\n",
    "def clean_text(text):\n",
    "    \"\"\"\n",
    "    De esta manera tenemos el texto sin espacios blancos extra y sobre todo con todas las palabras con capitalización correcta.\n",
    "    \"\"\"\n",
    "    if pd.isna(text):\n",
    "        return text\n",
    "    text = text.strip()  # Eliminate white spaces\n",
    "    text = text.lower()  # Convert to lowercase\n",
    "    text = unidecode.unidecode(text)  # Remove accents\n",
    "    text = re.sub('-.*-', '', text) #Remove what is in between - -\n",
    "    text = re.sub('\\s+', ' ', text)  # Eliminate extra white spaces\n",
    "    text = re.sub('^\\s+|\\s+?$', '', text)  # Eliminate spaces at the beginning and end\n",
    "    return text"
   ]
  },
  {
   "cell_type": "markdown",
   "id": "5c0595e208484f96",
   "metadata": {},
   "source": [
    "# 1. Lectura de los datos"
   ]
  },
  {
   "cell_type": "markdown",
   "id": "9b99291631d5d3b1",
   "metadata": {},
   "source": [
    "### Lectura del dataset del INEGI"
   ]
  },
  {
   "cell_type": "code",
   "execution_count": 3,
   "id": "2596158784542f3d",
   "metadata": {
    "ExecuteTime": {
     "end_time": "2024-05-30T14:01:38.326264Z",
     "start_time": "2024-05-30T14:01:37.241026Z"
    }
   },
   "outputs": [],
   "source": [
    "path_dataset_inegi = '../../data/dataset_inegi.csv'\n",
    "dataset_inegi = pd.read_csv(path_dataset_inegi, encoding='cp1252', dtype={'CVE_ENT': str, 'CVE_MUN': str, 'CVE_LOC': str})"
   ]
  },
  {
   "cell_type": "markdown",
   "id": "650cbc699caa705d",
   "metadata": {},
   "source": [
    "### Lectura del listado de Beneficiarios 2019-2022"
   ]
  },
  {
   "cell_type": "code",
   "execution_count": 4,
   "id": "53fef8d078ec79cf",
   "metadata": {
    "ExecuteTime": {
     "end_time": "2024-05-30T14:01:40.160043Z",
     "start_time": "2024-05-30T14:01:38.327278Z"
    }
   },
   "outputs": [
    {
     "name": "stdout",
     "output_type": "stream",
     "text": [
      "Number of rows in DataFrame 1: 826385\n",
      "Number of rows in DataFrame 2: 394986\n",
      "Number of rows in DataFrame 3: 369124\n",
      "Number of rows in DataFrame 4: 278550\n"
     ]
    }
   ],
   "source": [
    "listado_beneficiarios, sumOfRows = load_datasets(\"../../data/productores_beneficiarios 2019-2022\")"
   ]
  },
  {
   "cell_type": "code",
   "execution_count": 5,
   "id": "552edcc7",
   "metadata": {},
   "outputs": [],
   "source": [
    "nan_rows = listado_beneficiarios.isna()"
   ]
  },
  {
   "cell_type": "code",
   "execution_count": 6,
   "id": "cef3fe33",
   "metadata": {},
   "outputs": [
    {
     "data": {
      "text/plain": [
       "1869045"
      ]
     },
     "execution_count": 6,
     "metadata": {},
     "output_type": "execute_result"
    }
   ],
   "source": [
    "sumOfRows"
   ]
  },
  {
   "cell_type": "code",
   "execution_count": 7,
   "id": "03cef601",
   "metadata": {},
   "outputs": [
    {
     "data": {
      "text/html": [
       "<div>\n",
       "<style scoped>\n",
       "    .dataframe tbody tr th:only-of-type {\n",
       "        vertical-align: middle;\n",
       "    }\n",
       "\n",
       "    .dataframe tbody tr th {\n",
       "        vertical-align: top;\n",
       "    }\n",
       "\n",
       "    .dataframe thead th {\n",
       "        text-align: right;\n",
       "    }\n",
       "</style>\n",
       "<table border=\"1\" class=\"dataframe\">\n",
       "  <thead>\n",
       "    <tr style=\"text-align: right;\">\n",
       "      <th></th>\n",
       "      <th>ZONA</th>\n",
       "      <th>ENTIDAD</th>\n",
       "      <th>MUNICIPIO</th>\n",
       "      <th>LOCALIDAD</th>\n",
       "      <th>ESTRATIFICACIÓN</th>\n",
       "      <th>PROGRAMA</th>\n",
       "      <th>COMPONENTE</th>\n",
       "      <th>SUBCOMPONENTE</th>\n",
       "      <th>PRODUCTO</th>\n",
       "      <th>FECHA</th>\n",
       "      <th>MONTO FEDERAL</th>\n",
       "      <th>APOYO</th>\n",
       "      <th>ACTIVIDAD</th>\n",
       "      <th>ESLABÓN</th>\n",
       "      <th>CICLO AGRÍCOLA</th>\n",
       "    </tr>\n",
       "  </thead>\n",
       "  <tbody>\n",
       "    <tr>\n",
       "      <th>0</th>\n",
       "      <td>CENTRO PAÍS</td>\n",
       "      <td>GUERRERO</td>\n",
       "      <td>COYUCA DE BENÍTEZ</td>\n",
       "      <td>PUEBLO VIEJO</td>\n",
       "      <td>Alto</td>\n",
       "      <td>FERTILIZANTES</td>\n",
       "      <td>FERTILIZANTES</td>\n",
       "      <td>FERTILIZANTES</td>\n",
       "      <td>Cultivo de maíz grano blanco</td>\n",
       "      <td>2022-06-26</td>\n",
       "      <td>12244.18</td>\n",
       "      <td>Fertilizantes</td>\n",
       "      <td>AGRARIA</td>\n",
       "      <td>AGRARIA</td>\n",
       "      <td>PV2022</td>\n",
       "    </tr>\n",
       "    <tr>\n",
       "      <th>1</th>\n",
       "      <td>CENTRO PAÍS</td>\n",
       "      <td>GUERRERO</td>\n",
       "      <td>COYUCA DE BENÍTEZ</td>\n",
       "      <td>PUEBLO VIEJO</td>\n",
       "      <td>Alto</td>\n",
       "      <td>FERTILIZANTES</td>\n",
       "      <td>FERTILIZANTES</td>\n",
       "      <td>FERTILIZANTES</td>\n",
       "      <td>Cultivo de maíz grano blanco</td>\n",
       "      <td>2022-06-26</td>\n",
       "      <td>6122.09</td>\n",
       "      <td>Fertilizantes</td>\n",
       "      <td>AGRARIA</td>\n",
       "      <td>AGRARIA</td>\n",
       "      <td>PV2022</td>\n",
       "    </tr>\n",
       "    <tr>\n",
       "      <th>2</th>\n",
       "      <td>CENTRO PAÍS</td>\n",
       "      <td>GUERRERO</td>\n",
       "      <td>COYUCA DE BENÍTEZ</td>\n",
       "      <td>AGUA ZARCA</td>\n",
       "      <td>Alto</td>\n",
       "      <td>FERTILIZANTES</td>\n",
       "      <td>FERTILIZANTES</td>\n",
       "      <td>FERTILIZANTES</td>\n",
       "      <td>Cultivo de maíz grano blanco</td>\n",
       "      <td>2022-07-12</td>\n",
       "      <td>12244.18</td>\n",
       "      <td>Fertilizantes</td>\n",
       "      <td>AGRARIA</td>\n",
       "      <td>AGRARIA</td>\n",
       "      <td>PV2022</td>\n",
       "    </tr>\n",
       "    <tr>\n",
       "      <th>3</th>\n",
       "      <td>CENTRO PAÍS</td>\n",
       "      <td>GUERRERO</td>\n",
       "      <td>COYUCA DE BENÍTEZ</td>\n",
       "      <td>AGUA ZARCA</td>\n",
       "      <td>Alto</td>\n",
       "      <td>FERTILIZANTES</td>\n",
       "      <td>FERTILIZANTES</td>\n",
       "      <td>FERTILIZANTES</td>\n",
       "      <td>Cultivo de maíz grano blanco</td>\n",
       "      <td>2022-07-12</td>\n",
       "      <td>12244.18</td>\n",
       "      <td>Fertilizantes</td>\n",
       "      <td>AGRARIA</td>\n",
       "      <td>AGRARIA</td>\n",
       "      <td>PV2022</td>\n",
       "    </tr>\n",
       "    <tr>\n",
       "      <th>4</th>\n",
       "      <td>CENTRO PAÍS</td>\n",
       "      <td>GUERRERO</td>\n",
       "      <td>COYUCA DE BENÍTEZ</td>\n",
       "      <td>YERBASANTITA</td>\n",
       "      <td>Alto</td>\n",
       "      <td>FERTILIZANTES</td>\n",
       "      <td>FERTILIZANTES</td>\n",
       "      <td>FERTILIZANTES</td>\n",
       "      <td>Cultivo de maíz grano blanco</td>\n",
       "      <td>2022-06-20</td>\n",
       "      <td>12244.18</td>\n",
       "      <td>Fertilizantes</td>\n",
       "      <td>AGRARIA</td>\n",
       "      <td>AGRARIA</td>\n",
       "      <td>PV2022</td>\n",
       "    </tr>\n",
       "  </tbody>\n",
       "</table>\n",
       "</div>"
      ],
      "text/plain": [
       "          ZONA   ENTIDAD          MUNICIPIO     LOCALIDAD ESTRATIFICACIÓN  \\\n",
       "0  CENTRO PAÍS  GUERRERO  COYUCA DE BENÍTEZ  PUEBLO VIEJO            Alto   \n",
       "1  CENTRO PAÍS  GUERRERO  COYUCA DE BENÍTEZ  PUEBLO VIEJO            Alto   \n",
       "2  CENTRO PAÍS  GUERRERO  COYUCA DE BENÍTEZ    AGUA ZARCA            Alto   \n",
       "3  CENTRO PAÍS  GUERRERO  COYUCA DE BENÍTEZ    AGUA ZARCA            Alto   \n",
       "4  CENTRO PAÍS  GUERRERO  COYUCA DE BENÍTEZ  YERBASANTITA            Alto   \n",
       "\n",
       "        PROGRAMA     COMPONENTE  SUBCOMPONENTE                      PRODUCTO  \\\n",
       "0  FERTILIZANTES  FERTILIZANTES  FERTILIZANTES  Cultivo de maíz grano blanco   \n",
       "1  FERTILIZANTES  FERTILIZANTES  FERTILIZANTES  Cultivo de maíz grano blanco   \n",
       "2  FERTILIZANTES  FERTILIZANTES  FERTILIZANTES  Cultivo de maíz grano blanco   \n",
       "3  FERTILIZANTES  FERTILIZANTES  FERTILIZANTES  Cultivo de maíz grano blanco   \n",
       "4  FERTILIZANTES  FERTILIZANTES  FERTILIZANTES  Cultivo de maíz grano blanco   \n",
       "\n",
       "        FECHA  MONTO FEDERAL          APOYO ACTIVIDAD  ESLABÓN CICLO AGRÍCOLA  \n",
       "0  2022-06-26       12244.18  Fertilizantes   AGRARIA  AGRARIA         PV2022  \n",
       "1  2022-06-26        6122.09  Fertilizantes   AGRARIA  AGRARIA         PV2022  \n",
       "2  2022-07-12       12244.18  Fertilizantes   AGRARIA  AGRARIA         PV2022  \n",
       "3  2022-07-12       12244.18  Fertilizantes   AGRARIA  AGRARIA         PV2022  \n",
       "4  2022-06-20       12244.18  Fertilizantes   AGRARIA  AGRARIA         PV2022  "
      ]
     },
     "execution_count": 7,
     "metadata": {},
     "output_type": "execute_result"
    }
   ],
   "source": [
    "listado_beneficiarios.head()"
   ]
  },
  {
   "cell_type": "code",
   "execution_count": 8,
   "id": "63d92dae",
   "metadata": {},
   "outputs": [
    {
     "data": {
      "text/plain": [
       "Index(['ZONA', 'ENTIDAD', 'MUNICIPIO', 'LOCALIDAD', 'ESTRATIFICACIÓN',\n",
       "       'PROGRAMA', 'COMPONENTE', 'SUBCOMPONENTE', 'PRODUCTO', 'FECHA',\n",
       "       'MONTO FEDERAL', 'APOYO', 'ACTIVIDAD', 'ESLABÓN', 'CICLO AGRÍCOLA'],\n",
       "      dtype='object')"
      ]
     },
     "execution_count": 8,
     "metadata": {},
     "output_type": "execute_result"
    }
   ],
   "source": [
    "listado_beneficiarios.columns"
   ]
  },
  {
   "cell_type": "markdown",
   "id": "35eb26bcb3f4f060",
   "metadata": {},
   "source": [
    "# 2. Limpieza de los datos"
   ]
  },
  {
   "cell_type": "markdown",
   "id": "f5c385abb0e2ebea",
   "metadata": {},
   "source": [
    "### 2.1 INEGI"
   ]
  },
  {
   "cell_type": "code",
   "execution_count": 9,
   "id": "bc3d8e451808121b",
   "metadata": {
    "ExecuteTime": {
     "end_time": "2024-05-30T14:01:40.169375Z",
     "start_time": "2024-05-30T14:01:40.161048Z"
    }
   },
   "outputs": [
    {
     "data": {
      "text/plain": [
       "Index(['MAPA', 'Estatus', 'CVE_ENT', 'NOM_ENT', 'NOM_ABR', 'CVE_MUN',\n",
       "       'NOM_MUN', 'CVE_LOC', 'NOM_LOC', 'AMBITO', 'LATITUD', 'LONGITUD',\n",
       "       'LAT_DECIMAL', 'LON_DECIMAL', 'ALTITUD', 'CVE_CARTA', 'POB_TOTAL',\n",
       "       'POB_MASCULINA', 'POB_FEMENINA', 'TOTAL DE VIVIENDAS HABITADAS'],\n",
       "      dtype='object')"
      ]
     },
     "execution_count": 9,
     "metadata": {},
     "output_type": "execute_result"
    }
   ],
   "source": [
    "# Revisamos las columnas del dataset\n",
    "dataset_inegi.columns"
   ]
  },
  {
   "cell_type": "code",
   "execution_count": 10,
   "id": "ac6cf4a705d01ca9",
   "metadata": {
    "ExecuteTime": {
     "end_time": "2024-05-30T14:01:40.209771Z",
     "start_time": "2024-05-30T14:01:40.198605Z"
    }
   },
   "outputs": [],
   "source": [
    "# Eliminamos las columnas que no son de interés\n",
    "COLUMNS_TO_DROP = ['MAPA', 'Estatus', 'NOM_ABR', 'AMBITO', 'LATITUD', 'LONGITUD',\n",
    "                   'LAT_DECIMAL', 'LON_DECIMAL', 'ALTITUD', 'CVE_CARTA', 'POB_TOTAL',\n",
    "                   'POB_MASCULINA', 'POB_FEMENINA', 'TOTAL DE VIVIENDAS HABITADAS']\n",
    "dataset_inegi = dataset_inegi.drop(COLUMNS_TO_DROP, axis=1)"
   ]
  },
  {
   "cell_type": "code",
   "execution_count": 11,
   "id": "61b75d87762aaa69",
   "metadata": {
    "ExecuteTime": {
     "end_time": "2024-05-30T14:01:40.222142Z",
     "start_time": "2024-05-30T14:01:40.211783Z"
    }
   },
   "outputs": [
    {
     "data": {
      "text/plain": [
       "CVE_ENT            object\n",
       "Entidad_inegi      object\n",
       "CVE_MUN            object\n",
       "Municipio_inegi    object\n",
       "CVE_LOC            object\n",
       "Localidad_inegi    object\n",
       "dtype: object"
      ]
     },
     "execution_count": 11,
     "metadata": {},
     "output_type": "execute_result"
    }
   ],
   "source": [
    "# Renombrar las columnas\n",
    "dataset_inegi.rename(columns={\n",
    "    'CVE_ENT': 'CVE_ENT',\n",
    "    'NOM_ENT': 'Entidad_inegi',\n",
    "    'CVE_MUN': 'CVE_MUN',\n",
    "    'NOM_MUN': 'Municipio_inegi',\n",
    "    'CVE_LOC': 'CVE_LOC',\n",
    "    'NOM_LOC': 'Localidad_inegi',\n",
    "}, inplace=True)\n",
    "\n",
    "#dataset_inegi['CVE_LOC'] = dataset_inegi['CVE_LOC'].astype(str)\n",
    "# Las claves de entidad y municipio serán tratadas numéricamente en la limpieza aunque posteriormente se les asignará el tipo de cadena de texto para tener el estándar.\n",
    "dataset_inegi.dtypes"
   ]
  },
  {
   "cell_type": "code",
   "execution_count": 12,
   "id": "a5ee6ca8",
   "metadata": {},
   "outputs": [
    {
     "name": "stdout",
     "output_type": "stream",
     "text": [
      "Number of duplicates: 0\n"
     ]
    }
   ],
   "source": [
    "number_of_duplicates = dataset_inegi.duplicated().sum()\n",
    "print(f\"Number of duplicates: {number_of_duplicates}\")"
   ]
  },
  {
   "cell_type": "code",
   "execution_count": 13,
   "id": "2f0c368e",
   "metadata": {},
   "outputs": [
    {
     "name": "stdout",
     "output_type": "stream",
     "text": [
      "Shape of dataset_inegi:  (299568, 6)\n",
      "Shape of dataset_inegi_uniquemun:  (2467, 6)\n"
     ]
    }
   ],
   "source": [
    "# Revisamos la cantidad de filas y columnas del dataset\n",
    "print(\"Shape of dataset_inegi: \", dataset_inegi.shape)\n",
    "\n",
    "dataset_inegi_uniquemun = dataset_inegi.drop_duplicates(subset=['CVE_MUN', 'Municipio_inegi'], keep='first')\n",
    "print(\"Shape of dataset_inegi_uniquemun: \", dataset_inegi_uniquemun.shape)"
   ]
  },
  {
   "cell_type": "code",
   "execution_count": 14,
   "id": "ffb680d4",
   "metadata": {},
   "outputs": [
    {
     "data": {
      "text/html": [
       "<div>\n",
       "<style scoped>\n",
       "    .dataframe tbody tr th:only-of-type {\n",
       "        vertical-align: middle;\n",
       "    }\n",
       "\n",
       "    .dataframe tbody tr th {\n",
       "        vertical-align: top;\n",
       "    }\n",
       "\n",
       "    .dataframe thead th {\n",
       "        text-align: right;\n",
       "    }\n",
       "</style>\n",
       "<table border=\"1\" class=\"dataframe\">\n",
       "  <thead>\n",
       "    <tr style=\"text-align: right;\">\n",
       "      <th></th>\n",
       "      <th>CVE_ENT</th>\n",
       "      <th>Entidad_inegi</th>\n",
       "      <th>CVE_MUN</th>\n",
       "      <th>Municipio_inegi</th>\n",
       "      <th>CVE_LOC</th>\n",
       "      <th>Localidad_inegi</th>\n",
       "    </tr>\n",
       "  </thead>\n",
       "  <tbody>\n",
       "    <tr>\n",
       "      <th>0</th>\n",
       "      <td>01</td>\n",
       "      <td>Aguascalientes</td>\n",
       "      <td>001</td>\n",
       "      <td>Aguascalientes</td>\n",
       "      <td>0001</td>\n",
       "      <td>Aguascalientes</td>\n",
       "    </tr>\n",
       "    <tr>\n",
       "      <th>708</th>\n",
       "      <td>01</td>\n",
       "      <td>Aguascalientes</td>\n",
       "      <td>002</td>\n",
       "      <td>Asientos</td>\n",
       "      <td>0001</td>\n",
       "      <td>Asientos</td>\n",
       "    </tr>\n",
       "    <tr>\n",
       "      <th>945</th>\n",
       "      <td>01</td>\n",
       "      <td>Aguascalientes</td>\n",
       "      <td>003</td>\n",
       "      <td>Calvillo</td>\n",
       "      <td>0001</td>\n",
       "      <td>Calvillo</td>\n",
       "    </tr>\n",
       "    <tr>\n",
       "      <th>1237</th>\n",
       "      <td>01</td>\n",
       "      <td>Aguascalientes</td>\n",
       "      <td>004</td>\n",
       "      <td>Cosío</td>\n",
       "      <td>0001</td>\n",
       "      <td>Cosío</td>\n",
       "    </tr>\n",
       "    <tr>\n",
       "      <th>1330</th>\n",
       "      <td>01</td>\n",
       "      <td>Aguascalientes</td>\n",
       "      <td>005</td>\n",
       "      <td>Jesús María</td>\n",
       "      <td>0001</td>\n",
       "      <td>Jesús María</td>\n",
       "    </tr>\n",
       "    <tr>\n",
       "      <th>...</th>\n",
       "      <td>...</td>\n",
       "      <td>...</td>\n",
       "      <td>...</td>\n",
       "      <td>...</td>\n",
       "      <td>...</td>\n",
       "      <td>...</td>\n",
       "    </tr>\n",
       "    <tr>\n",
       "      <th>299150</th>\n",
       "      <td>32</td>\n",
       "      <td>Zacatecas</td>\n",
       "      <td>054</td>\n",
       "      <td>Villa Hidalgo</td>\n",
       "      <td>0001</td>\n",
       "      <td>Villa Hidalgo</td>\n",
       "    </tr>\n",
       "    <tr>\n",
       "      <th>299211</th>\n",
       "      <td>32</td>\n",
       "      <td>Zacatecas</td>\n",
       "      <td>055</td>\n",
       "      <td>Villanueva</td>\n",
       "      <td>0001</td>\n",
       "      <td>Villanueva</td>\n",
       "    </tr>\n",
       "    <tr>\n",
       "      <th>299363</th>\n",
       "      <td>32</td>\n",
       "      <td>Zacatecas</td>\n",
       "      <td>056</td>\n",
       "      <td>Zacatecas</td>\n",
       "      <td>0001</td>\n",
       "      <td>Zacatecas</td>\n",
       "    </tr>\n",
       "    <tr>\n",
       "      <th>299484</th>\n",
       "      <td>32</td>\n",
       "      <td>Zacatecas</td>\n",
       "      <td>057</td>\n",
       "      <td>Trancoso</td>\n",
       "      <td>0001</td>\n",
       "      <td>Trancoso</td>\n",
       "    </tr>\n",
       "    <tr>\n",
       "      <th>299526</th>\n",
       "      <td>32</td>\n",
       "      <td>Zacatecas</td>\n",
       "      <td>058</td>\n",
       "      <td>Santa María de la Paz</td>\n",
       "      <td>0001</td>\n",
       "      <td>Santa María de la Paz</td>\n",
       "    </tr>\n",
       "  </tbody>\n",
       "</table>\n",
       "<p>2467 rows × 6 columns</p>\n",
       "</div>"
      ],
      "text/plain": [
       "       CVE_ENT   Entidad_inegi CVE_MUN        Municipio_inegi CVE_LOC  \\\n",
       "0           01  Aguascalientes     001         Aguascalientes    0001   \n",
       "708         01  Aguascalientes     002               Asientos    0001   \n",
       "945         01  Aguascalientes     003               Calvillo    0001   \n",
       "1237        01  Aguascalientes     004                  Cosío    0001   \n",
       "1330        01  Aguascalientes     005            Jesús María    0001   \n",
       "...        ...             ...     ...                    ...     ...   \n",
       "299150      32       Zacatecas     054          Villa Hidalgo    0001   \n",
       "299211      32       Zacatecas     055             Villanueva    0001   \n",
       "299363      32       Zacatecas     056              Zacatecas    0001   \n",
       "299484      32       Zacatecas     057               Trancoso    0001   \n",
       "299526      32       Zacatecas     058  Santa María de la Paz    0001   \n",
       "\n",
       "              Localidad_inegi  \n",
       "0              Aguascalientes  \n",
       "708                  Asientos  \n",
       "945                  Calvillo  \n",
       "1237                    Cosío  \n",
       "1330              Jesús María  \n",
       "...                       ...  \n",
       "299150          Villa Hidalgo  \n",
       "299211             Villanueva  \n",
       "299363              Zacatecas  \n",
       "299484               Trancoso  \n",
       "299526  Santa María de la Paz  \n",
       "\n",
       "[2467 rows x 6 columns]"
      ]
     },
     "execution_count": 14,
     "metadata": {},
     "output_type": "execute_result"
    }
   ],
   "source": [
    "dataset_inegi_uniquemun"
   ]
  },
  {
   "cell_type": "code",
   "execution_count": 15,
   "id": "8d89a91fdd8ba82b",
   "metadata": {
    "ExecuteTime": {
     "end_time": "2024-05-30T14:01:40.286905Z",
     "start_time": "2024-05-30T14:01:40.226155Z"
    }
   },
   "outputs": [
    {
     "name": "stdout",
     "output_type": "stream",
     "text": [
      "Shape of dataset_inegi:  (299568, 6)\n",
      "Shape of dataset_inegi_uniqueloc:  (285783, 6)\n"
     ]
    }
   ],
   "source": [
    "# Revisamos la cantidad de filas y columnas del dataset\n",
    "print(\"Shape of dataset_inegi: \", dataset_inegi.shape)\n",
    "\n",
    "dataset_inegi_loc = dataset_inegi.drop_duplicates(subset=['CVE_LOC', 'Localidad_inegi'], keep='first')\n",
    "print(\"Shape of dataset_inegi_uniqueloc: \", dataset_inegi_loc.shape)"
   ]
  },
  {
   "cell_type": "code",
   "execution_count": 16,
   "id": "c4ec6312",
   "metadata": {},
   "outputs": [
    {
     "name": "stdout",
     "output_type": "stream",
     "text": [
      "Localidad_inegi with multiple municipio_inegi values and their counts:\n",
      "Localidad_inegi\n",
      "10 de Abril        8 - Mapastepec, Suchiate, San Luis de la Paz, ...\n",
      "10 de Mayo                                     2 - Carmen, Iliatenco\n",
      "12 de Diciembre         2 - Venustiano Carranza, Santiago Miahuatlán\n",
      "12 de Julio                     2 - La Trinitaria, San Juan Mazatlán\n",
      "12 de Octubre      4 - Altamirano, Ocozocoautla de Espinosa, Saba...\n",
      "                                         ...                        \n",
      "Ánimas                               2 - Ensenada, Guadalupe y Calvo\n",
      "Ávila [Rancho]                             2 - Ensenada, San Quintín\n",
      "Órganos                                     2 - Mezquital, Fresnillo\n",
      "Último Esfuerzo               3 - Caborca, Balancán, Emiliano Zapata\n",
      "Úrsulo Galván      24 - Ensenada, Palenque, Salto de Agua, Solosu...\n",
      "Name: Municipio_inegi, Length: 18494, dtype: object\n"
     ]
    }
   ],
   "source": [
    "# Group by 'Localidad_inegi' and aggregate unique 'Municipio_inegi' values\n",
    "localidad_municipio = dataset_inegi.groupby('Localidad_inegi')['Municipio_inegi'].unique()\n",
    "\n",
    "# Create a summary string for each 'localidad_inegi' showing count and municipio names\n",
    "localidad_municipio_summary = localidad_municipio.apply(lambda x: f\"{len(x)} - {', '.join(x)}\")\n",
    "\n",
    "# Filter to find 'localidad_inegi' with more than one 'municipio_inegi'\n",
    "multiple_municipios_summary = localidad_municipio_summary[localidad_municipio.apply(len) > 1]\n",
    "\n",
    "print(\"Localidad_inegi with multiple municipio_inegi values and their counts:\")\n",
    "print(multiple_municipios_summary)"
   ]
  },
  {
   "cell_type": "markdown",
   "id": "f3f58b22",
   "metadata": {},
   "source": [
    "Por aquí existen localidades con nombres de fechas lo cual debe ser común en México ya que se repiten en diversas ocasiones."
   ]
  },
  {
   "cell_type": "code",
   "execution_count": 17,
   "id": "120eeb2d",
   "metadata": {},
   "outputs": [
    {
     "name": "stdout",
     "output_type": "stream",
     "text": [
      "       CVE_ENT Entidad_inegi CVE_MUN     Municipio_inegi CVE_LOC  \\\n",
      "42725       07       Chiapas     051          Mapastepec    0278   \n",
      "52029       07       Chiapas     087            Suchiate    0293   \n",
      "104096      11    Guanajuato     033  San Luis de la Paz    0835   \n",
      "106159      12      Guerrero     001  Acapulco de Juárez    0377   \n",
      "159080      17       Morelos     031           Zacatepec    0029   \n",
      "176504      20        Oaxaca     044         Loma Bonita    0221   \n",
      "191848      21        Puebla     106            Ocoyucan    0031   \n",
      "229683      26        Sonora     033          Huatabampo    0107   \n",
      "\n",
      "       Localidad_inegi  \n",
      "42725      10 de Abril  \n",
      "52029      10 de Abril  \n",
      "104096     10 de Abril  \n",
      "106159     10 de Abril  \n",
      "159080     10 de Abril  \n",
      "176504     10 de Abril  \n",
      "191848     10 de Abril  \n",
      "229683     10 de Abril  \n"
     ]
    }
   ],
   "source": [
    "# Filter the dataset for rows where 'Municipio' equals '10 De Abril'\n",
    "filtered_dataset = dataset_inegi[dataset_inegi['Localidad_inegi'] == '10 de Abril']\n",
    "\n",
    "# Display the filtered dataset\n",
    "print(filtered_dataset)"
   ]
  },
  {
   "cell_type": "markdown",
   "id": "5ee1cfeb4a72782c",
   "metadata": {},
   "source": [
    "A partir de aquí seguimos trabajando con el listado de Estados y Municipios limpio de Inegi (sin repetir) \"dataset_inegi_clean\"."
   ]
  },
  {
   "cell_type": "code",
   "execution_count": 18,
   "id": "d824af463f93f62a",
   "metadata": {
    "ExecuteTime": {
     "end_time": "2024-05-30T14:01:40.299354Z",
     "start_time": "2024-05-30T14:01:40.288916Z"
    }
   },
   "outputs": [
    {
     "data": {
      "text/html": [
       "<div>\n",
       "<style scoped>\n",
       "    .dataframe tbody tr th:only-of-type {\n",
       "        vertical-align: middle;\n",
       "    }\n",
       "\n",
       "    .dataframe tbody tr th {\n",
       "        vertical-align: top;\n",
       "    }\n",
       "\n",
       "    .dataframe thead th {\n",
       "        text-align: right;\n",
       "    }\n",
       "</style>\n",
       "<table border=\"1\" class=\"dataframe\">\n",
       "  <thead>\n",
       "    <tr style=\"text-align: right;\">\n",
       "      <th></th>\n",
       "      <th>CVE_ENT</th>\n",
       "      <th>Entidad_inegi</th>\n",
       "      <th>CVE_MUN</th>\n",
       "      <th>Municipio_inegi</th>\n",
       "      <th>CVE_LOC</th>\n",
       "      <th>Localidad_inegi</th>\n",
       "    </tr>\n",
       "  </thead>\n",
       "  <tbody>\n",
       "    <tr>\n",
       "      <th>0</th>\n",
       "      <td>01</td>\n",
       "      <td>Aguascalientes</td>\n",
       "      <td>001</td>\n",
       "      <td>Aguascalientes</td>\n",
       "      <td>0001</td>\n",
       "      <td>Aguascalientes</td>\n",
       "    </tr>\n",
       "    <tr>\n",
       "      <th>708</th>\n",
       "      <td>01</td>\n",
       "      <td>Aguascalientes</td>\n",
       "      <td>002</td>\n",
       "      <td>Asientos</td>\n",
       "      <td>0001</td>\n",
       "      <td>Asientos</td>\n",
       "    </tr>\n",
       "    <tr>\n",
       "      <th>945</th>\n",
       "      <td>01</td>\n",
       "      <td>Aguascalientes</td>\n",
       "      <td>003</td>\n",
       "      <td>Calvillo</td>\n",
       "      <td>0001</td>\n",
       "      <td>Calvillo</td>\n",
       "    </tr>\n",
       "    <tr>\n",
       "      <th>1237</th>\n",
       "      <td>01</td>\n",
       "      <td>Aguascalientes</td>\n",
       "      <td>004</td>\n",
       "      <td>Cosío</td>\n",
       "      <td>0001</td>\n",
       "      <td>Cosío</td>\n",
       "    </tr>\n",
       "    <tr>\n",
       "      <th>1330</th>\n",
       "      <td>01</td>\n",
       "      <td>Aguascalientes</td>\n",
       "      <td>005</td>\n",
       "      <td>Jesús María</td>\n",
       "      <td>0001</td>\n",
       "      <td>Jesús María</td>\n",
       "    </tr>\n",
       "  </tbody>\n",
       "</table>\n",
       "</div>"
      ],
      "text/plain": [
       "     CVE_ENT   Entidad_inegi CVE_MUN Municipio_inegi CVE_LOC Localidad_inegi\n",
       "0         01  Aguascalientes     001  Aguascalientes    0001  Aguascalientes\n",
       "708       01  Aguascalientes     002        Asientos    0001        Asientos\n",
       "945       01  Aguascalientes     003        Calvillo    0001        Calvillo\n",
       "1237      01  Aguascalientes     004           Cosío    0001           Cosío\n",
       "1330      01  Aguascalientes     005     Jesús María    0001     Jesús María"
      ]
     },
     "execution_count": 18,
     "metadata": {},
     "output_type": "execute_result"
    }
   ],
   "source": [
    "# Revisamos las primeras filas del dataset con las columnas seleccionadas\n",
    "dataset_inegi_uniquemun.head()"
   ]
  },
  {
   "cell_type": "code",
   "execution_count": 19,
   "id": "2699470a43525bbb",
   "metadata": {
    "ExecuteTime": {
     "end_time": "2024-05-30T14:01:40.320927Z",
     "start_time": "2024-05-30T14:01:40.309949Z"
    }
   },
   "outputs": [
    {
     "name": "stdout",
     "output_type": "stream",
     "text": [
      "<class 'pandas.core.frame.DataFrame'>\n",
      "Index: 2467 entries, 0 to 299526\n",
      "Data columns (total 6 columns):\n",
      " #   Column           Non-Null Count  Dtype \n",
      "---  ------           --------------  ----- \n",
      " 0   CVE_ENT          2467 non-null   object\n",
      " 1   Entidad_inegi    2467 non-null   object\n",
      " 2   CVE_MUN          2467 non-null   object\n",
      " 3   Municipio_inegi  2467 non-null   object\n",
      " 4   CVE_LOC          2467 non-null   object\n",
      " 5   Localidad_inegi  2467 non-null   object\n",
      "dtypes: object(6)\n",
      "memory usage: 134.9+ KB\n"
     ]
    }
   ],
   "source": [
    "dataset_inegi_uniquemun.info()"
   ]
  },
  {
   "cell_type": "code",
   "execution_count": 20,
   "id": "71c209b05bf35c7e",
   "metadata": {
    "ExecuteTime": {
     "end_time": "2024-05-30T14:01:40.330064Z",
     "start_time": "2024-05-30T14:01:40.321936Z"
    }
   },
   "outputs": [
    {
     "name": "stdout",
     "output_type": "stream",
     "text": [
      "Los valores únicos en cada columna son:\n",
      " CVE_ENT              32\n",
      "Entidad_inegi        32\n",
      "CVE_MUN             570\n",
      "Municipio_inegi    2332\n",
      "CVE_LOC               3\n",
      "Localidad_inegi    2365\n",
      "dtype: int64\n"
     ]
    }
   ],
   "source": [
    "print(\"Los valores únicos en cada columna son:\\n\", dataset_inegi_uniquemun.nunique())"
   ]
  },
  {
   "cell_type": "code",
   "execution_count": 21,
   "id": "079f095a",
   "metadata": {},
   "outputs": [
    {
     "name": "stdout",
     "output_type": "stream",
     "text": [
      "Los valores únicos en cada columna son:\n",
      " CVE_ENT                32\n",
      "Entidad_inegi          32\n",
      "CVE_MUN               570\n",
      "Municipio_inegi      2332\n",
      "CVE_LOC              5692\n",
      "Localidad_inegi    149004\n",
      "dtype: int64\n"
     ]
    }
   ],
   "source": [
    "print(\"Los valores únicos en cada columna son:\\n\", dataset_inegi.nunique())"
   ]
  },
  {
   "cell_type": "markdown",
   "id": "aef4017a546db04a",
   "metadata": {},
   "source": [
    "#### 2.1.1 Estandarización de nombre de municipios\n",
    "\n",
    "Con el fin de poder hacer un merge bajo los mismos nombres, hacemos una limpieza de los datos."
   ]
  },
  {
   "cell_type": "code",
   "execution_count": 22,
   "id": "dafa3c9c",
   "metadata": {},
   "outputs": [
    {
     "name": "stderr",
     "output_type": "stream",
     "text": [
      "/var/folders/ng/n9ng0wy92t90_49j662nh02c0000gn/T/ipykernel_89061/4159994235.py:2: SettingWithCopyWarning: \n",
      "A value is trying to be set on a copy of a slice from a DataFrame.\n",
      "Try using .loc[row_indexer,col_indexer] = value instead\n",
      "\n",
      "See the caveats in the documentation: https://pandas.pydata.org/pandas-docs/stable/user_guide/indexing.html#returning-a-view-versus-a-copy\n",
      "  dataset_inegi_uniquemun['Entidad_c_inegi'] = dataset_inegi_uniquemun['Entidad_inegi'].apply(clean_text)\n",
      "/var/folders/ng/n9ng0wy92t90_49j662nh02c0000gn/T/ipykernel_89061/4159994235.py:3: SettingWithCopyWarning: \n",
      "A value is trying to be set on a copy of a slice from a DataFrame.\n",
      "Try using .loc[row_indexer,col_indexer] = value instead\n",
      "\n",
      "See the caveats in the documentation: https://pandas.pydata.org/pandas-docs/stable/user_guide/indexing.html#returning-a-view-versus-a-copy\n",
      "  dataset_inegi_uniquemun['Municipio_c_inegi'] = dataset_inegi_uniquemun['Municipio_inegi'].apply(clean_text)\n"
     ]
    }
   ],
   "source": [
    "# Estandarizamos la limpieza de los datos\n",
    "dataset_inegi_uniquemun['Entidad_c_inegi'] = dataset_inegi_uniquemun['Entidad_inegi'].apply(clean_text)\n",
    "dataset_inegi_uniquemun['Municipio_c_inegi'] = dataset_inegi_uniquemun['Municipio_inegi'].apply(clean_text)"
   ]
  },
  {
   "cell_type": "code",
   "execution_count": 23,
   "id": "1af2e236df4d4847",
   "metadata": {
    "ExecuteTime": {
     "end_time": "2024-05-30T14:01:40.341472Z",
     "start_time": "2024-05-30T14:01:40.331071Z"
    }
   },
   "outputs": [
    {
     "name": "stderr",
     "output_type": "stream",
     "text": [
      "/var/folders/ng/n9ng0wy92t90_49j662nh02c0000gn/T/ipykernel_89061/2100087808.py:3: SettingWithCopyWarning: \n",
      "A value is trying to be set on a copy of a slice from a DataFrame.\n",
      "Try using .loc[row_indexer,col_indexer] = value instead\n",
      "\n",
      "See the caveats in the documentation: https://pandas.pydata.org/pandas-docs/stable/user_guide/indexing.html#returning-a-view-versus-a-copy\n",
      "  dataset_inegi_uniquemun['KEY_inegi'] = dataset_inegi_uniquemun['Entidad_c_inegi'].astype(str) + '-' + dataset_inegi_uniquemun[\n"
     ]
    },
    {
     "data": {
      "text/html": [
       "<div>\n",
       "<style scoped>\n",
       "    .dataframe tbody tr th:only-of-type {\n",
       "        vertical-align: middle;\n",
       "    }\n",
       "\n",
       "    .dataframe tbody tr th {\n",
       "        vertical-align: top;\n",
       "    }\n",
       "\n",
       "    .dataframe thead th {\n",
       "        text-align: right;\n",
       "    }\n",
       "</style>\n",
       "<table border=\"1\" class=\"dataframe\">\n",
       "  <thead>\n",
       "    <tr style=\"text-align: right;\">\n",
       "      <th></th>\n",
       "      <th>CVE_ENT</th>\n",
       "      <th>Entidad_inegi</th>\n",
       "      <th>CVE_MUN</th>\n",
       "      <th>Municipio_inegi</th>\n",
       "      <th>CVE_LOC</th>\n",
       "      <th>Localidad_inegi</th>\n",
       "      <th>Entidad_c_inegi</th>\n",
       "      <th>Municipio_c_inegi</th>\n",
       "      <th>KEY_inegi</th>\n",
       "    </tr>\n",
       "  </thead>\n",
       "  <tbody>\n",
       "    <tr>\n",
       "      <th>0</th>\n",
       "      <td>01</td>\n",
       "      <td>Aguascalientes</td>\n",
       "      <td>001</td>\n",
       "      <td>Aguascalientes</td>\n",
       "      <td>0001</td>\n",
       "      <td>Aguascalientes</td>\n",
       "      <td>aguascalientes</td>\n",
       "      <td>aguascalientes</td>\n",
       "      <td>aguascalientes-aguascalientes</td>\n",
       "    </tr>\n",
       "    <tr>\n",
       "      <th>708</th>\n",
       "      <td>01</td>\n",
       "      <td>Aguascalientes</td>\n",
       "      <td>002</td>\n",
       "      <td>Asientos</td>\n",
       "      <td>0001</td>\n",
       "      <td>Asientos</td>\n",
       "      <td>aguascalientes</td>\n",
       "      <td>asientos</td>\n",
       "      <td>aguascalientes-asientos</td>\n",
       "    </tr>\n",
       "    <tr>\n",
       "      <th>945</th>\n",
       "      <td>01</td>\n",
       "      <td>Aguascalientes</td>\n",
       "      <td>003</td>\n",
       "      <td>Calvillo</td>\n",
       "      <td>0001</td>\n",
       "      <td>Calvillo</td>\n",
       "      <td>aguascalientes</td>\n",
       "      <td>calvillo</td>\n",
       "      <td>aguascalientes-calvillo</td>\n",
       "    </tr>\n",
       "    <tr>\n",
       "      <th>1237</th>\n",
       "      <td>01</td>\n",
       "      <td>Aguascalientes</td>\n",
       "      <td>004</td>\n",
       "      <td>Cosío</td>\n",
       "      <td>0001</td>\n",
       "      <td>Cosío</td>\n",
       "      <td>aguascalientes</td>\n",
       "      <td>cosio</td>\n",
       "      <td>aguascalientes-cosio</td>\n",
       "    </tr>\n",
       "    <tr>\n",
       "      <th>1330</th>\n",
       "      <td>01</td>\n",
       "      <td>Aguascalientes</td>\n",
       "      <td>005</td>\n",
       "      <td>Jesús María</td>\n",
       "      <td>0001</td>\n",
       "      <td>Jesús María</td>\n",
       "      <td>aguascalientes</td>\n",
       "      <td>jesus maria</td>\n",
       "      <td>aguascalientes-jesus maria</td>\n",
       "    </tr>\n",
       "  </tbody>\n",
       "</table>\n",
       "</div>"
      ],
      "text/plain": [
       "     CVE_ENT   Entidad_inegi CVE_MUN Municipio_inegi CVE_LOC Localidad_inegi  \\\n",
       "0         01  Aguascalientes     001  Aguascalientes    0001  Aguascalientes   \n",
       "708       01  Aguascalientes     002        Asientos    0001        Asientos   \n",
       "945       01  Aguascalientes     003        Calvillo    0001        Calvillo   \n",
       "1237      01  Aguascalientes     004           Cosío    0001           Cosío   \n",
       "1330      01  Aguascalientes     005     Jesús María    0001     Jesús María   \n",
       "\n",
       "     Entidad_c_inegi Municipio_c_inegi                      KEY_inegi  \n",
       "0     aguascalientes    aguascalientes  aguascalientes-aguascalientes  \n",
       "708   aguascalientes          asientos        aguascalientes-asientos  \n",
       "945   aguascalientes          calvillo        aguascalientes-calvillo  \n",
       "1237  aguascalientes             cosio           aguascalientes-cosio  \n",
       "1330  aguascalientes       jesus maria     aguascalientes-jesus maria  "
      ]
     },
     "execution_count": 23,
     "metadata": {},
     "output_type": "execute_result"
    }
   ],
   "source": [
    "# Creamos una columna con la clave única por municipio\n",
    "\n",
    "dataset_inegi_uniquemun['KEY_inegi'] = dataset_inegi_uniquemun['Entidad_c_inegi'].astype(str) + '-' + dataset_inegi_uniquemun[\n",
    "    'Municipio_c_inegi'].astype(str)\n",
    "\n",
    "dataset_inegi_uniquemun.head()"
   ]
  },
  {
   "cell_type": "code",
   "execution_count": 24,
   "id": "29f31a32",
   "metadata": {},
   "outputs": [
    {
     "data": {
      "text/html": [
       "<div>\n",
       "<style scoped>\n",
       "    .dataframe tbody tr th:only-of-type {\n",
       "        vertical-align: middle;\n",
       "    }\n",
       "\n",
       "    .dataframe tbody tr th {\n",
       "        vertical-align: top;\n",
       "    }\n",
       "\n",
       "    .dataframe thead th {\n",
       "        text-align: right;\n",
       "    }\n",
       "</style>\n",
       "<table border=\"1\" class=\"dataframe\">\n",
       "  <thead>\n",
       "    <tr style=\"text-align: right;\">\n",
       "      <th></th>\n",
       "      <th>CVE_ENT</th>\n",
       "      <th>Entidad_inegi</th>\n",
       "      <th>CVE_MUN</th>\n",
       "      <th>Municipio_inegi</th>\n",
       "      <th>CVE_LOC</th>\n",
       "      <th>Localidad_inegi</th>\n",
       "      <th>Entidad_c_inegi</th>\n",
       "      <th>Municipio_c_inegi</th>\n",
       "      <th>KEY_inegi</th>\n",
       "    </tr>\n",
       "  </thead>\n",
       "  <tbody>\n",
       "    <tr>\n",
       "      <th>299150</th>\n",
       "      <td>32</td>\n",
       "      <td>Zacatecas</td>\n",
       "      <td>054</td>\n",
       "      <td>Villa Hidalgo</td>\n",
       "      <td>0001</td>\n",
       "      <td>Villa Hidalgo</td>\n",
       "      <td>zacatecas</td>\n",
       "      <td>villa hidalgo</td>\n",
       "      <td>zacatecas-villa hidalgo</td>\n",
       "    </tr>\n",
       "    <tr>\n",
       "      <th>299211</th>\n",
       "      <td>32</td>\n",
       "      <td>Zacatecas</td>\n",
       "      <td>055</td>\n",
       "      <td>Villanueva</td>\n",
       "      <td>0001</td>\n",
       "      <td>Villanueva</td>\n",
       "      <td>zacatecas</td>\n",
       "      <td>villanueva</td>\n",
       "      <td>zacatecas-villanueva</td>\n",
       "    </tr>\n",
       "    <tr>\n",
       "      <th>299363</th>\n",
       "      <td>32</td>\n",
       "      <td>Zacatecas</td>\n",
       "      <td>056</td>\n",
       "      <td>Zacatecas</td>\n",
       "      <td>0001</td>\n",
       "      <td>Zacatecas</td>\n",
       "      <td>zacatecas</td>\n",
       "      <td>zacatecas</td>\n",
       "      <td>zacatecas-zacatecas</td>\n",
       "    </tr>\n",
       "    <tr>\n",
       "      <th>299484</th>\n",
       "      <td>32</td>\n",
       "      <td>Zacatecas</td>\n",
       "      <td>057</td>\n",
       "      <td>Trancoso</td>\n",
       "      <td>0001</td>\n",
       "      <td>Trancoso</td>\n",
       "      <td>zacatecas</td>\n",
       "      <td>trancoso</td>\n",
       "      <td>zacatecas-trancoso</td>\n",
       "    </tr>\n",
       "    <tr>\n",
       "      <th>299526</th>\n",
       "      <td>32</td>\n",
       "      <td>Zacatecas</td>\n",
       "      <td>058</td>\n",
       "      <td>Santa María de la Paz</td>\n",
       "      <td>0001</td>\n",
       "      <td>Santa María de la Paz</td>\n",
       "      <td>zacatecas</td>\n",
       "      <td>santa maria de la paz</td>\n",
       "      <td>zacatecas-santa maria de la paz</td>\n",
       "    </tr>\n",
       "  </tbody>\n",
       "</table>\n",
       "</div>"
      ],
      "text/plain": [
       "       CVE_ENT Entidad_inegi CVE_MUN        Municipio_inegi CVE_LOC  \\\n",
       "299150      32     Zacatecas     054          Villa Hidalgo    0001   \n",
       "299211      32     Zacatecas     055             Villanueva    0001   \n",
       "299363      32     Zacatecas     056              Zacatecas    0001   \n",
       "299484      32     Zacatecas     057               Trancoso    0001   \n",
       "299526      32     Zacatecas     058  Santa María de la Paz    0001   \n",
       "\n",
       "              Localidad_inegi Entidad_c_inegi      Municipio_c_inegi  \\\n",
       "299150          Villa Hidalgo       zacatecas          villa hidalgo   \n",
       "299211             Villanueva       zacatecas             villanueva   \n",
       "299363              Zacatecas       zacatecas              zacatecas   \n",
       "299484               Trancoso       zacatecas               trancoso   \n",
       "299526  Santa María de la Paz       zacatecas  santa maria de la paz   \n",
       "\n",
       "                              KEY_inegi  \n",
       "299150          zacatecas-villa hidalgo  \n",
       "299211             zacatecas-villanueva  \n",
       "299363              zacatecas-zacatecas  \n",
       "299484               zacatecas-trancoso  \n",
       "299526  zacatecas-santa maria de la paz  "
      ]
     },
     "execution_count": 24,
     "metadata": {},
     "output_type": "execute_result"
    }
   ],
   "source": [
    "dataset_inegi_uniquemun.tail()"
   ]
  },
  {
   "cell_type": "code",
   "execution_count": 25,
   "id": "634c759f",
   "metadata": {},
   "outputs": [
    {
     "name": "stderr",
     "output_type": "stream",
     "text": [
      "/var/folders/ng/n9ng0wy92t90_49j662nh02c0000gn/T/ipykernel_89061/1014247258.py:1: SettingWithCopyWarning: \n",
      "A value is trying to be set on a copy of a slice from a DataFrame\n",
      "\n",
      "See the caveats in the documentation: https://pandas.pydata.org/pandas-docs/stable/user_guide/indexing.html#returning-a-view-versus-a-copy\n",
      "  dataset_inegi_uniquemun.drop_duplicates(subset=['KEY_inegi'], keep='first', inplace=True)\n"
     ]
    }
   ],
   "source": [
    "dataset_inegi_uniquemun.drop_duplicates(subset=['KEY_inegi'], keep='first', inplace=True)"
   ]
  },
  {
   "cell_type": "code",
   "execution_count": 26,
   "id": "da7adb37",
   "metadata": {},
   "outputs": [
    {
     "data": {
      "text/plain": [
       "(2465, 9)"
      ]
     },
     "execution_count": 26,
     "metadata": {},
     "output_type": "execute_result"
    }
   ],
   "source": [
    "dataset_inegi_uniquemun.shape"
   ]
  },
  {
   "cell_type": "markdown",
   "id": "c1c7ea2410869cec",
   "metadata": {},
   "source": [
    "## 2.2 Beneficiarios 2023"
   ]
  },
  {
   "cell_type": "markdown",
   "id": "1558ba7e",
   "metadata": {},
   "source": [
    "### Creación de Estados_Beneficiarios2023\n",
    "Este dataset es una versión de Beneficiarios2023 pero más ligera y sin repeticiones."
   ]
  },
  {
   "cell_type": "code",
   "execution_count": 27,
   "id": "9c646052",
   "metadata": {},
   "outputs": [
    {
     "data": {
      "text/plain": [
       "ZONA                object\n",
       "ENTIDAD             object\n",
       "MUNICIPIO           object\n",
       "LOCALIDAD           object\n",
       "ESTRATIFICACIÓN     object\n",
       "PROGRAMA            object\n",
       "COMPONENTE          object\n",
       "SUBCOMPONENTE       object\n",
       "PRODUCTO            object\n",
       "FECHA               object\n",
       "MONTO FEDERAL      float64\n",
       "APOYO               object\n",
       "ACTIVIDAD           object\n",
       "ESLABÓN             object\n",
       "CICLO AGRÍCOLA      object\n",
       "dtype: object"
      ]
     },
     "execution_count": 27,
     "metadata": {},
     "output_type": "execute_result"
    }
   ],
   "source": [
    "listado_beneficiarios.dtypes"
   ]
  },
  {
   "cell_type": "code",
   "execution_count": 28,
   "id": "649e28f4",
   "metadata": {},
   "outputs": [
    {
     "name": "stdout",
     "output_type": "stream",
     "text": [
      "                     count unique                           top     freq  \\\n",
      "ZONA               1869033      8                   CENTRO PAÍS  1424972   \n",
      "ENTIDAD            1869033     10                      GUERRERO  1279305   \n",
      "MUNICIPIO          1869033   1025            CHILAPA DE ÁLVAREZ    60148   \n",
      "LOCALIDAD          1869033   9979                     TECOANAPA    10820   \n",
      "ESTRATIFICACIÓN    1869033      7                          Alto  1253286   \n",
      "PROGRAMA           1869033      1                 FERTILIZANTES  1869033   \n",
      "COMPONENTE         1869033      1                 FERTILIZANTES  1869033   \n",
      "SUBCOMPONENTE      1869033      1                 FERTILIZANTES  1869033   \n",
      "PRODUCTO           1869033      7  Cultivo de maíz grano blanco  1132720   \n",
      "FECHA              1869033    815                    15/07/2019    17568   \n",
      "MONTO FEDERAL    1869033.0    NaN                           NaN      NaN   \n",
      "APOYO              1869033      1                 Fertilizantes  1869033   \n",
      "ACTIVIDAD          1869033      1                       AGRARIA  1869033   \n",
      "ESLABÓN            1869033      1                       AGRARIA  1869033   \n",
      "CICLO AGRÍCOLA     1869033      4                        PV2022   826382   \n",
      "\n",
      "                        mean          std    min      25%      50%      75%  \\\n",
      "ZONA                     NaN          NaN    NaN      NaN      NaN      NaN   \n",
      "ENTIDAD                  NaN          NaN    NaN      NaN      NaN      NaN   \n",
      "MUNICIPIO                NaN          NaN    NaN      NaN      NaN      NaN   \n",
      "LOCALIDAD                NaN          NaN    NaN      NaN      NaN      NaN   \n",
      "ESTRATIFICACIÓN          NaN          NaN    NaN      NaN      NaN      NaN   \n",
      "PROGRAMA                 NaN          NaN    NaN      NaN      NaN      NaN   \n",
      "COMPONENTE               NaN          NaN    NaN      NaN      NaN      NaN   \n",
      "SUBCOMPONENTE            NaN          NaN    NaN      NaN      NaN      NaN   \n",
      "PRODUCTO                 NaN          NaN    NaN      NaN      NaN      NaN   \n",
      "FECHA                    NaN          NaN    NaN      NaN      NaN      NaN   \n",
      "MONTO FEDERAL    6433.250058  2862.423347  239.0  3598.07  6163.44  7491.34   \n",
      "APOYO                    NaN          NaN    NaN      NaN      NaN      NaN   \n",
      "ACTIVIDAD                NaN          NaN    NaN      NaN      NaN      NaN   \n",
      "ESLABÓN                  NaN          NaN    NaN      NaN      NaN      NaN   \n",
      "CICLO AGRÍCOLA           NaN          NaN    NaN      NaN      NaN      NaN   \n",
      "\n",
      "                      max  \n",
      "ZONA                  NaN  \n",
      "ENTIDAD               NaN  \n",
      "MUNICIPIO             NaN  \n",
      "LOCALIDAD             NaN  \n",
      "ESTRATIFICACIÓN       NaN  \n",
      "PROGRAMA              NaN  \n",
      "COMPONENTE            NaN  \n",
      "SUBCOMPONENTE         NaN  \n",
      "PRODUCTO              NaN  \n",
      "FECHA                 NaN  \n",
      "MONTO FEDERAL    15414.01  \n",
      "APOYO                 NaN  \n",
      "ACTIVIDAD             NaN  \n",
      "ESLABÓN               NaN  \n",
      "CICLO AGRÍCOLA        NaN  \n"
     ]
    }
   ],
   "source": [
    "descriptive_stats = listado_beneficiarios.describe(include='all').transpose()\n",
    "\n",
    "# Mostrar las estadísticas descriptivas\n",
    "print(descriptive_stats)"
   ]
  },
  {
   "cell_type": "code",
   "execution_count": 29,
   "id": "fd241fe2",
   "metadata": {},
   "outputs": [],
   "source": [
    "rows_with_nan = listado_beneficiarios[listado_beneficiarios.isna().any(axis=1)]"
   ]
  },
  {
   "cell_type": "code",
   "execution_count": 30,
   "id": "2d3a1d18",
   "metadata": {},
   "outputs": [
    {
     "data": {
      "text/html": [
       "<div>\n",
       "<style scoped>\n",
       "    .dataframe tbody tr th:only-of-type {\n",
       "        vertical-align: middle;\n",
       "    }\n",
       "\n",
       "    .dataframe tbody tr th {\n",
       "        vertical-align: top;\n",
       "    }\n",
       "\n",
       "    .dataframe thead th {\n",
       "        text-align: right;\n",
       "    }\n",
       "</style>\n",
       "<table border=\"1\" class=\"dataframe\">\n",
       "  <thead>\n",
       "    <tr style=\"text-align: right;\">\n",
       "      <th></th>\n",
       "      <th>ZONA</th>\n",
       "      <th>ENTIDAD</th>\n",
       "      <th>MUNICIPIO</th>\n",
       "      <th>LOCALIDAD</th>\n",
       "      <th>ESTRATIFICACIÓN</th>\n",
       "      <th>PROGRAMA</th>\n",
       "      <th>COMPONENTE</th>\n",
       "      <th>SUBCOMPONENTE</th>\n",
       "      <th>PRODUCTO</th>\n",
       "      <th>FECHA</th>\n",
       "      <th>MONTO FEDERAL</th>\n",
       "      <th>APOYO</th>\n",
       "      <th>ACTIVIDAD</th>\n",
       "      <th>ESLABÓN</th>\n",
       "      <th>CICLO AGRÍCOLA</th>\n",
       "    </tr>\n",
       "  </thead>\n",
       "  <tbody>\n",
       "    <tr>\n",
       "      <th>826382</th>\n",
       "      <td>NaN</td>\n",
       "      <td>NaN</td>\n",
       "      <td>NaN</td>\n",
       "      <td>NaN</td>\n",
       "      <td>NaN</td>\n",
       "      <td>NaN</td>\n",
       "      <td>NaN</td>\n",
       "      <td>NaN</td>\n",
       "      <td>NaN</td>\n",
       "      <td>NaN</td>\n",
       "      <td>NaN</td>\n",
       "      <td>NaN</td>\n",
       "      <td>NaN</td>\n",
       "      <td>NaN</td>\n",
       "      <td>NaN</td>\n",
       "    </tr>\n",
       "    <tr>\n",
       "      <th>826383</th>\n",
       "      <td>NaN</td>\n",
       "      <td>NaN</td>\n",
       "      <td>NaN</td>\n",
       "      <td>NaN</td>\n",
       "      <td>NaN</td>\n",
       "      <td>NaN</td>\n",
       "      <td>NaN</td>\n",
       "      <td>NaN</td>\n",
       "      <td>NaN</td>\n",
       "      <td>NaN</td>\n",
       "      <td>NaN</td>\n",
       "      <td>NaN</td>\n",
       "      <td>NaN</td>\n",
       "      <td>NaN</td>\n",
       "      <td>NaN</td>\n",
       "    </tr>\n",
       "    <tr>\n",
       "      <th>826384</th>\n",
       "      <td>NaN</td>\n",
       "      <td>NaN</td>\n",
       "      <td>NaN</td>\n",
       "      <td>NaN</td>\n",
       "      <td>NaN</td>\n",
       "      <td>NaN</td>\n",
       "      <td>NaN</td>\n",
       "      <td>NaN</td>\n",
       "      <td>NaN</td>\n",
       "      <td>NaN</td>\n",
       "      <td>NaN</td>\n",
       "      <td>NaN</td>\n",
       "      <td>NaN</td>\n",
       "      <td>NaN</td>\n",
       "      <td>NaN</td>\n",
       "    </tr>\n",
       "    <tr>\n",
       "      <th>1221368</th>\n",
       "      <td>NaN</td>\n",
       "      <td>NaN</td>\n",
       "      <td>NaN</td>\n",
       "      <td>NaN</td>\n",
       "      <td>NaN</td>\n",
       "      <td>NaN</td>\n",
       "      <td>NaN</td>\n",
       "      <td>NaN</td>\n",
       "      <td>NaN</td>\n",
       "      <td>NaN</td>\n",
       "      <td>NaN</td>\n",
       "      <td>NaN</td>\n",
       "      <td>NaN</td>\n",
       "      <td>NaN</td>\n",
       "      <td>NaN</td>\n",
       "    </tr>\n",
       "    <tr>\n",
       "      <th>1221369</th>\n",
       "      <td>NaN</td>\n",
       "      <td>NaN</td>\n",
       "      <td>NaN</td>\n",
       "      <td>NaN</td>\n",
       "      <td>NaN</td>\n",
       "      <td>NaN</td>\n",
       "      <td>NaN</td>\n",
       "      <td>NaN</td>\n",
       "      <td>NaN</td>\n",
       "      <td>NaN</td>\n",
       "      <td>NaN</td>\n",
       "      <td>NaN</td>\n",
       "      <td>NaN</td>\n",
       "      <td>NaN</td>\n",
       "      <td>NaN</td>\n",
       "    </tr>\n",
       "    <tr>\n",
       "      <th>1221370</th>\n",
       "      <td>NaN</td>\n",
       "      <td>NaN</td>\n",
       "      <td>NaN</td>\n",
       "      <td>NaN</td>\n",
       "      <td>NaN</td>\n",
       "      <td>NaN</td>\n",
       "      <td>NaN</td>\n",
       "      <td>NaN</td>\n",
       "      <td>NaN</td>\n",
       "      <td>NaN</td>\n",
       "      <td>NaN</td>\n",
       "      <td>NaN</td>\n",
       "      <td>NaN</td>\n",
       "      <td>NaN</td>\n",
       "      <td>NaN</td>\n",
       "    </tr>\n",
       "    <tr>\n",
       "      <th>1590492</th>\n",
       "      <td>NaN</td>\n",
       "      <td>NaN</td>\n",
       "      <td>NaN</td>\n",
       "      <td>NaN</td>\n",
       "      <td>NaN</td>\n",
       "      <td>NaN</td>\n",
       "      <td>NaN</td>\n",
       "      <td>NaN</td>\n",
       "      <td>NaN</td>\n",
       "      <td>NaN</td>\n",
       "      <td>NaN</td>\n",
       "      <td>NaN</td>\n",
       "      <td>NaN</td>\n",
       "      <td>NaN</td>\n",
       "      <td>NaN</td>\n",
       "    </tr>\n",
       "    <tr>\n",
       "      <th>1590493</th>\n",
       "      <td>NaN</td>\n",
       "      <td>NaN</td>\n",
       "      <td>NaN</td>\n",
       "      <td>NaN</td>\n",
       "      <td>NaN</td>\n",
       "      <td>NaN</td>\n",
       "      <td>NaN</td>\n",
       "      <td>NaN</td>\n",
       "      <td>NaN</td>\n",
       "      <td>NaN</td>\n",
       "      <td>NaN</td>\n",
       "      <td>NaN</td>\n",
       "      <td>NaN</td>\n",
       "      <td>NaN</td>\n",
       "      <td>NaN</td>\n",
       "    </tr>\n",
       "    <tr>\n",
       "      <th>1590494</th>\n",
       "      <td>NaN</td>\n",
       "      <td>NaN</td>\n",
       "      <td>NaN</td>\n",
       "      <td>NaN</td>\n",
       "      <td>NaN</td>\n",
       "      <td>NaN</td>\n",
       "      <td>NaN</td>\n",
       "      <td>NaN</td>\n",
       "      <td>NaN</td>\n",
       "      <td>NaN</td>\n",
       "      <td>NaN</td>\n",
       "      <td>NaN</td>\n",
       "      <td>NaN</td>\n",
       "      <td>NaN</td>\n",
       "      <td>NaN</td>\n",
       "    </tr>\n",
       "    <tr>\n",
       "      <th>1869042</th>\n",
       "      <td>NaN</td>\n",
       "      <td>NaN</td>\n",
       "      <td>NaN</td>\n",
       "      <td>NaN</td>\n",
       "      <td>NaN</td>\n",
       "      <td>NaN</td>\n",
       "      <td>NaN</td>\n",
       "      <td>NaN</td>\n",
       "      <td>NaN</td>\n",
       "      <td>NaN</td>\n",
       "      <td>NaN</td>\n",
       "      <td>NaN</td>\n",
       "      <td>NaN</td>\n",
       "      <td>NaN</td>\n",
       "      <td>NaN</td>\n",
       "    </tr>\n",
       "    <tr>\n",
       "      <th>1869043</th>\n",
       "      <td>NaN</td>\n",
       "      <td>NaN</td>\n",
       "      <td>NaN</td>\n",
       "      <td>NaN</td>\n",
       "      <td>NaN</td>\n",
       "      <td>NaN</td>\n",
       "      <td>NaN</td>\n",
       "      <td>NaN</td>\n",
       "      <td>NaN</td>\n",
       "      <td>NaN</td>\n",
       "      <td>NaN</td>\n",
       "      <td>NaN</td>\n",
       "      <td>NaN</td>\n",
       "      <td>NaN</td>\n",
       "      <td>NaN</td>\n",
       "    </tr>\n",
       "    <tr>\n",
       "      <th>1869044</th>\n",
       "      <td>NaN</td>\n",
       "      <td>NaN</td>\n",
       "      <td>NaN</td>\n",
       "      <td>NaN</td>\n",
       "      <td>NaN</td>\n",
       "      <td>NaN</td>\n",
       "      <td>NaN</td>\n",
       "      <td>NaN</td>\n",
       "      <td>NaN</td>\n",
       "      <td>NaN</td>\n",
       "      <td>NaN</td>\n",
       "      <td>NaN</td>\n",
       "      <td>NaN</td>\n",
       "      <td>NaN</td>\n",
       "      <td>NaN</td>\n",
       "    </tr>\n",
       "  </tbody>\n",
       "</table>\n",
       "</div>"
      ],
      "text/plain": [
       "        ZONA ENTIDAD MUNICIPIO LOCALIDAD ESTRATIFICACIÓN PROGRAMA COMPONENTE  \\\n",
       "826382   NaN     NaN       NaN       NaN             NaN      NaN        NaN   \n",
       "826383   NaN     NaN       NaN       NaN             NaN      NaN        NaN   \n",
       "826384   NaN     NaN       NaN       NaN             NaN      NaN        NaN   \n",
       "1221368  NaN     NaN       NaN       NaN             NaN      NaN        NaN   \n",
       "1221369  NaN     NaN       NaN       NaN             NaN      NaN        NaN   \n",
       "1221370  NaN     NaN       NaN       NaN             NaN      NaN        NaN   \n",
       "1590492  NaN     NaN       NaN       NaN             NaN      NaN        NaN   \n",
       "1590493  NaN     NaN       NaN       NaN             NaN      NaN        NaN   \n",
       "1590494  NaN     NaN       NaN       NaN             NaN      NaN        NaN   \n",
       "1869042  NaN     NaN       NaN       NaN             NaN      NaN        NaN   \n",
       "1869043  NaN     NaN       NaN       NaN             NaN      NaN        NaN   \n",
       "1869044  NaN     NaN       NaN       NaN             NaN      NaN        NaN   \n",
       "\n",
       "        SUBCOMPONENTE PRODUCTO FECHA  MONTO FEDERAL APOYO ACTIVIDAD ESLABÓN  \\\n",
       "826382            NaN      NaN   NaN            NaN   NaN       NaN     NaN   \n",
       "826383            NaN      NaN   NaN            NaN   NaN       NaN     NaN   \n",
       "826384            NaN      NaN   NaN            NaN   NaN       NaN     NaN   \n",
       "1221368           NaN      NaN   NaN            NaN   NaN       NaN     NaN   \n",
       "1221369           NaN      NaN   NaN            NaN   NaN       NaN     NaN   \n",
       "1221370           NaN      NaN   NaN            NaN   NaN       NaN     NaN   \n",
       "1590492           NaN      NaN   NaN            NaN   NaN       NaN     NaN   \n",
       "1590493           NaN      NaN   NaN            NaN   NaN       NaN     NaN   \n",
       "1590494           NaN      NaN   NaN            NaN   NaN       NaN     NaN   \n",
       "1869042           NaN      NaN   NaN            NaN   NaN       NaN     NaN   \n",
       "1869043           NaN      NaN   NaN            NaN   NaN       NaN     NaN   \n",
       "1869044           NaN      NaN   NaN            NaN   NaN       NaN     NaN   \n",
       "\n",
       "        CICLO AGRÍCOLA  \n",
       "826382             NaN  \n",
       "826383             NaN  \n",
       "826384             NaN  \n",
       "1221368            NaN  \n",
       "1221369            NaN  \n",
       "1221370            NaN  \n",
       "1590492            NaN  \n",
       "1590493            NaN  \n",
       "1590494            NaN  \n",
       "1869042            NaN  \n",
       "1869043            NaN  \n",
       "1869044            NaN  "
      ]
     },
     "execution_count": 30,
     "metadata": {},
     "output_type": "execute_result"
    }
   ],
   "source": [
    "rows_with_nan"
   ]
  },
  {
   "cell_type": "code",
   "execution_count": 31,
   "id": "a34b9233",
   "metadata": {},
   "outputs": [
    {
     "data": {
      "text/html": [
       "<div>\n",
       "<style scoped>\n",
       "    .dataframe tbody tr th:only-of-type {\n",
       "        vertical-align: middle;\n",
       "    }\n",
       "\n",
       "    .dataframe tbody tr th {\n",
       "        vertical-align: top;\n",
       "    }\n",
       "\n",
       "    .dataframe thead th {\n",
       "        text-align: right;\n",
       "    }\n",
       "</style>\n",
       "<table border=\"1\" class=\"dataframe\">\n",
       "  <thead>\n",
       "    <tr style=\"text-align: right;\">\n",
       "      <th></th>\n",
       "      <th>ZONA</th>\n",
       "      <th>ENTIDAD</th>\n",
       "      <th>MUNICIPIO</th>\n",
       "      <th>LOCALIDAD</th>\n",
       "      <th>ESTRATIFICACIÓN</th>\n",
       "      <th>PROGRAMA</th>\n",
       "      <th>COMPONENTE</th>\n",
       "      <th>SUBCOMPONENTE</th>\n",
       "      <th>PRODUCTO</th>\n",
       "      <th>FECHA</th>\n",
       "      <th>MONTO FEDERAL</th>\n",
       "      <th>APOYO</th>\n",
       "      <th>ACTIVIDAD</th>\n",
       "      <th>ESLABÓN</th>\n",
       "      <th>CICLO AGRÍCOLA</th>\n",
       "    </tr>\n",
       "  </thead>\n",
       "  <tbody>\n",
       "    <tr>\n",
       "      <th>0</th>\n",
       "      <td>CENTRO PAÍS</td>\n",
       "      <td>GUERRERO</td>\n",
       "      <td>COYUCA DE BENÍTEZ</td>\n",
       "      <td>PUEBLO VIEJO</td>\n",
       "      <td>Alto</td>\n",
       "      <td>FERTILIZANTES</td>\n",
       "      <td>FERTILIZANTES</td>\n",
       "      <td>FERTILIZANTES</td>\n",
       "      <td>Cultivo de maíz grano blanco</td>\n",
       "      <td>2022-06-26</td>\n",
       "      <td>12244.18</td>\n",
       "      <td>Fertilizantes</td>\n",
       "      <td>AGRARIA</td>\n",
       "      <td>AGRARIA</td>\n",
       "      <td>PV2022</td>\n",
       "    </tr>\n",
       "    <tr>\n",
       "      <th>1</th>\n",
       "      <td>CENTRO PAÍS</td>\n",
       "      <td>GUERRERO</td>\n",
       "      <td>COYUCA DE BENÍTEZ</td>\n",
       "      <td>PUEBLO VIEJO</td>\n",
       "      <td>Alto</td>\n",
       "      <td>FERTILIZANTES</td>\n",
       "      <td>FERTILIZANTES</td>\n",
       "      <td>FERTILIZANTES</td>\n",
       "      <td>Cultivo de maíz grano blanco</td>\n",
       "      <td>2022-06-26</td>\n",
       "      <td>6122.09</td>\n",
       "      <td>Fertilizantes</td>\n",
       "      <td>AGRARIA</td>\n",
       "      <td>AGRARIA</td>\n",
       "      <td>PV2022</td>\n",
       "    </tr>\n",
       "    <tr>\n",
       "      <th>2</th>\n",
       "      <td>CENTRO PAÍS</td>\n",
       "      <td>GUERRERO</td>\n",
       "      <td>COYUCA DE BENÍTEZ</td>\n",
       "      <td>AGUA ZARCA</td>\n",
       "      <td>Alto</td>\n",
       "      <td>FERTILIZANTES</td>\n",
       "      <td>FERTILIZANTES</td>\n",
       "      <td>FERTILIZANTES</td>\n",
       "      <td>Cultivo de maíz grano blanco</td>\n",
       "      <td>2022-07-12</td>\n",
       "      <td>12244.18</td>\n",
       "      <td>Fertilizantes</td>\n",
       "      <td>AGRARIA</td>\n",
       "      <td>AGRARIA</td>\n",
       "      <td>PV2022</td>\n",
       "    </tr>\n",
       "    <tr>\n",
       "      <th>3</th>\n",
       "      <td>CENTRO PAÍS</td>\n",
       "      <td>GUERRERO</td>\n",
       "      <td>COYUCA DE BENÍTEZ</td>\n",
       "      <td>AGUA ZARCA</td>\n",
       "      <td>Alto</td>\n",
       "      <td>FERTILIZANTES</td>\n",
       "      <td>FERTILIZANTES</td>\n",
       "      <td>FERTILIZANTES</td>\n",
       "      <td>Cultivo de maíz grano blanco</td>\n",
       "      <td>2022-07-12</td>\n",
       "      <td>12244.18</td>\n",
       "      <td>Fertilizantes</td>\n",
       "      <td>AGRARIA</td>\n",
       "      <td>AGRARIA</td>\n",
       "      <td>PV2022</td>\n",
       "    </tr>\n",
       "    <tr>\n",
       "      <th>4</th>\n",
       "      <td>CENTRO PAÍS</td>\n",
       "      <td>GUERRERO</td>\n",
       "      <td>COYUCA DE BENÍTEZ</td>\n",
       "      <td>YERBASANTITA</td>\n",
       "      <td>Alto</td>\n",
       "      <td>FERTILIZANTES</td>\n",
       "      <td>FERTILIZANTES</td>\n",
       "      <td>FERTILIZANTES</td>\n",
       "      <td>Cultivo de maíz grano blanco</td>\n",
       "      <td>2022-06-20</td>\n",
       "      <td>12244.18</td>\n",
       "      <td>Fertilizantes</td>\n",
       "      <td>AGRARIA</td>\n",
       "      <td>AGRARIA</td>\n",
       "      <td>PV2022</td>\n",
       "    </tr>\n",
       "  </tbody>\n",
       "</table>\n",
       "</div>"
      ],
      "text/plain": [
       "          ZONA   ENTIDAD          MUNICIPIO     LOCALIDAD ESTRATIFICACIÓN  \\\n",
       "0  CENTRO PAÍS  GUERRERO  COYUCA DE BENÍTEZ  PUEBLO VIEJO            Alto   \n",
       "1  CENTRO PAÍS  GUERRERO  COYUCA DE BENÍTEZ  PUEBLO VIEJO            Alto   \n",
       "2  CENTRO PAÍS  GUERRERO  COYUCA DE BENÍTEZ    AGUA ZARCA            Alto   \n",
       "3  CENTRO PAÍS  GUERRERO  COYUCA DE BENÍTEZ    AGUA ZARCA            Alto   \n",
       "4  CENTRO PAÍS  GUERRERO  COYUCA DE BENÍTEZ  YERBASANTITA            Alto   \n",
       "\n",
       "        PROGRAMA     COMPONENTE  SUBCOMPONENTE                      PRODUCTO  \\\n",
       "0  FERTILIZANTES  FERTILIZANTES  FERTILIZANTES  Cultivo de maíz grano blanco   \n",
       "1  FERTILIZANTES  FERTILIZANTES  FERTILIZANTES  Cultivo de maíz grano blanco   \n",
       "2  FERTILIZANTES  FERTILIZANTES  FERTILIZANTES  Cultivo de maíz grano blanco   \n",
       "3  FERTILIZANTES  FERTILIZANTES  FERTILIZANTES  Cultivo de maíz grano blanco   \n",
       "4  FERTILIZANTES  FERTILIZANTES  FERTILIZANTES  Cultivo de maíz grano blanco   \n",
       "\n",
       "        FECHA  MONTO FEDERAL          APOYO ACTIVIDAD  ESLABÓN CICLO AGRÍCOLA  \n",
       "0  2022-06-26       12244.18  Fertilizantes   AGRARIA  AGRARIA         PV2022  \n",
       "1  2022-06-26        6122.09  Fertilizantes   AGRARIA  AGRARIA         PV2022  \n",
       "2  2022-07-12       12244.18  Fertilizantes   AGRARIA  AGRARIA         PV2022  \n",
       "3  2022-07-12       12244.18  Fertilizantes   AGRARIA  AGRARIA         PV2022  \n",
       "4  2022-06-20       12244.18  Fertilizantes   AGRARIA  AGRARIA         PV2022  "
      ]
     },
     "execution_count": 31,
     "metadata": {},
     "output_type": "execute_result"
    }
   ],
   "source": [
    "listado_beneficiarios.head()"
   ]
  },
  {
   "cell_type": "code",
   "execution_count": 32,
   "id": "001e5b4d",
   "metadata": {},
   "outputs": [],
   "source": [
    "Estados_beneficiarios2019_2022 = listado_beneficiarios[['ENTIDAD', 'MUNICIPIO']]"
   ]
  },
  {
   "cell_type": "code",
   "execution_count": 33,
   "id": "02be04ce",
   "metadata": {},
   "outputs": [],
   "source": [
    "Estados_beneficiarios2019_2022 = Estados_beneficiarios2019_2022.drop_duplicates()"
   ]
  },
  {
   "cell_type": "code",
   "execution_count": 34,
   "id": "33a9e34f",
   "metadata": {},
   "outputs": [],
   "source": [
    "# Estandarizamos la limpieza de los datos\n",
    "Estados_beneficiarios2019_2022['ESTADO_c_benef'] = Estados_beneficiarios2019_2022['ENTIDAD'].apply(clean_text)\n",
    "Estados_beneficiarios2019_2022['MUNICIPIO_c_benef'] = Estados_beneficiarios2019_2022['MUNICIPIO'].apply(clean_text)"
   ]
  },
  {
   "cell_type": "code",
   "execution_count": 35,
   "id": "bdd2411f",
   "metadata": {},
   "outputs": [
    {
     "data": {
      "text/plain": [
       "(1034, 4)"
      ]
     },
     "execution_count": 35,
     "metadata": {},
     "output_type": "execute_result"
    }
   ],
   "source": [
    "Estados_beneficiarios2019_2022.shape"
   ]
  },
  {
   "cell_type": "code",
   "execution_count": 36,
   "id": "5407ac1e",
   "metadata": {},
   "outputs": [
    {
     "data": {
      "text/html": [
       "<div>\n",
       "<style scoped>\n",
       "    .dataframe tbody tr th:only-of-type {\n",
       "        vertical-align: middle;\n",
       "    }\n",
       "\n",
       "    .dataframe tbody tr th {\n",
       "        vertical-align: top;\n",
       "    }\n",
       "\n",
       "    .dataframe thead th {\n",
       "        text-align: right;\n",
       "    }\n",
       "</style>\n",
       "<table border=\"1\" class=\"dataframe\">\n",
       "  <thead>\n",
       "    <tr style=\"text-align: right;\">\n",
       "      <th></th>\n",
       "      <th>ENTIDAD</th>\n",
       "      <th>MUNICIPIO</th>\n",
       "      <th>ESTADO_c_benef</th>\n",
       "      <th>MUNICIPIO_c_benef</th>\n",
       "      <th>KEY_benef</th>\n",
       "    </tr>\n",
       "  </thead>\n",
       "  <tbody>\n",
       "    <tr>\n",
       "      <th>0</th>\n",
       "      <td>GUERRERO</td>\n",
       "      <td>COYUCA DE BENÍTEZ</td>\n",
       "      <td>guerrero</td>\n",
       "      <td>coyuca de benitez</td>\n",
       "      <td>guerrero-coyuca de benitez</td>\n",
       "    </tr>\n",
       "    <tr>\n",
       "      <th>5</th>\n",
       "      <td>GUERRERO</td>\n",
       "      <td>CUTZAMALA DE PINZÓN</td>\n",
       "      <td>guerrero</td>\n",
       "      <td>cutzamala de pinzon</td>\n",
       "      <td>guerrero-cutzamala de pinzon</td>\n",
       "    </tr>\n",
       "    <tr>\n",
       "      <th>6</th>\n",
       "      <td>OAXACA</td>\n",
       "      <td>SAN JUAN GUICHICOVI</td>\n",
       "      <td>oaxaca</td>\n",
       "      <td>san juan guichicovi</td>\n",
       "      <td>oaxaca-san juan guichicovi</td>\n",
       "    </tr>\n",
       "    <tr>\n",
       "      <th>7</th>\n",
       "      <td>GUERRERO</td>\n",
       "      <td>ARCELIA</td>\n",
       "      <td>guerrero</td>\n",
       "      <td>arcelia</td>\n",
       "      <td>guerrero-arcelia</td>\n",
       "    </tr>\n",
       "    <tr>\n",
       "      <th>8</th>\n",
       "      <td>GUERRERO</td>\n",
       "      <td>TLALCHAPA</td>\n",
       "      <td>guerrero</td>\n",
       "      <td>tlalchapa</td>\n",
       "      <td>guerrero-tlalchapa</td>\n",
       "    </tr>\n",
       "  </tbody>\n",
       "</table>\n",
       "</div>"
      ],
      "text/plain": [
       "    ENTIDAD            MUNICIPIO ESTADO_c_benef    MUNICIPIO_c_benef  \\\n",
       "0  GUERRERO    COYUCA DE BENÍTEZ       guerrero    coyuca de benitez   \n",
       "5  GUERRERO  CUTZAMALA DE PINZÓN       guerrero  cutzamala de pinzon   \n",
       "6    OAXACA  SAN JUAN GUICHICOVI         oaxaca  san juan guichicovi   \n",
       "7  GUERRERO              ARCELIA       guerrero              arcelia   \n",
       "8  GUERRERO            TLALCHAPA       guerrero            tlalchapa   \n",
       "\n",
       "                      KEY_benef  \n",
       "0    guerrero-coyuca de benitez  \n",
       "5  guerrero-cutzamala de pinzon  \n",
       "6    oaxaca-san juan guichicovi  \n",
       "7              guerrero-arcelia  \n",
       "8            guerrero-tlalchapa  "
      ]
     },
     "execution_count": 36,
     "metadata": {},
     "output_type": "execute_result"
    }
   ],
   "source": [
    "Estados_beneficiarios2019_2022['KEY_benef'] = Estados_beneficiarios2019_2022['ESTADO_c_benef'].astype(str) + '-' + Estados_beneficiarios2019_2022[\n",
    "    'MUNICIPIO_c_benef'].astype(str)\n",
    "\n",
    "Estados_beneficiarios2019_2022.head()\n"
   ]
  },
  {
   "cell_type": "code",
   "execution_count": 37,
   "id": "eba1c8548f6a16da",
   "metadata": {
    "ExecuteTime": {
     "end_time": "2024-05-30T14:01:40.725863Z",
     "start_time": "2024-05-30T14:01:40.615616Z"
    }
   },
   "outputs": [
    {
     "name": "stdout",
     "output_type": "stream",
     "text": [
      "                  count unique                         top freq\n",
      "ENTIDAD            1033     10                      OAXACA  558\n",
      "MUNICIPIO          1033   1025             EMILIANO ZAPATA    3\n",
      "ESTADO_c_benef     1033     10                      oaxaca  558\n",
      "MUNICIPIO_c_benef  1033   1025             emiliano zapata    3\n",
      "KEY_benef          1034   1034  guerrero-coyuca de benitez    1\n"
     ]
    }
   ],
   "source": [
    "# Valores únicos y la cantidad de cada columna\n",
    "# Obtener estadísticas descriptivas para todas las variables\n",
    "\n",
    "descriptive_stats = Estados_beneficiarios2019_2022.describe(include='all').transpose()\n",
    "\n",
    "# Mostrar las estadísticas descriptivas\n",
    "print(descriptive_stats)"
   ]
  },
  {
   "cell_type": "code",
   "execution_count": 38,
   "id": "848799ff",
   "metadata": {},
   "outputs": [],
   "source": [
    "Estados_beneficiarios2019_2022 = Estados_beneficiarios2019_2022.drop_duplicates(subset='KEY_benef')"
   ]
  },
  {
   "cell_type": "code",
   "execution_count": 39,
   "metadata": {},
   "outputs": [
    {
     "data": {
      "text/plain": [
       "(1034, 5)"
      ]
     },
     "execution_count": 39,
     "metadata": {},
     "output_type": "execute_result"
    }
   ],
   "source": [
    "Estados_beneficiarios2019_2022.shape"
   ]
  },
  {
   "cell_type": "markdown",
   "id": "daa9f974cc33efa1",
   "metadata": {},
   "source": [
    "# 3. Diccionario de los datasets de INEGI Y LISTADO BENEFICIARIOS 2023\n",
    "\n",
    "El objetivo de esta sección es crear un diccionario de códigos según INEGI para los municipios Listado_beneficiarios2023. Para ello haremos un Left join entre Estados_Beneficiarios2023 y dataset_inegi_clean."
   ]
  },
  {
   "cell_type": "markdown",
   "id": "ce912939",
   "metadata": {},
   "source": [
    "### 3.1 Creamos las columnas clave"
   ]
  },
  {
   "cell_type": "markdown",
   "id": "1aac072a",
   "metadata": {},
   "source": [
    "Confirmamos que tengamos las columnas clave en abos datasets."
   ]
  },
  {
   "cell_type": "code",
   "execution_count": 40,
   "id": "bb33ebdc",
   "metadata": {},
   "outputs": [
    {
     "data": {
      "text/html": [
       "<div>\n",
       "<style scoped>\n",
       "    .dataframe tbody tr th:only-of-type {\n",
       "        vertical-align: middle;\n",
       "    }\n",
       "\n",
       "    .dataframe tbody tr th {\n",
       "        vertical-align: top;\n",
       "    }\n",
       "\n",
       "    .dataframe thead th {\n",
       "        text-align: right;\n",
       "    }\n",
       "</style>\n",
       "<table border=\"1\" class=\"dataframe\">\n",
       "  <thead>\n",
       "    <tr style=\"text-align: right;\">\n",
       "      <th></th>\n",
       "      <th>CVE_ENT</th>\n",
       "      <th>Entidad_inegi</th>\n",
       "      <th>CVE_MUN</th>\n",
       "      <th>Municipio_inegi</th>\n",
       "      <th>CVE_LOC</th>\n",
       "      <th>Localidad_inegi</th>\n",
       "    </tr>\n",
       "  </thead>\n",
       "  <tbody>\n",
       "    <tr>\n",
       "      <th>0</th>\n",
       "      <td>01</td>\n",
       "      <td>Aguascalientes</td>\n",
       "      <td>001</td>\n",
       "      <td>Aguascalientes</td>\n",
       "      <td>0001</td>\n",
       "      <td>Aguascalientes</td>\n",
       "    </tr>\n",
       "    <tr>\n",
       "      <th>1</th>\n",
       "      <td>01</td>\n",
       "      <td>Aguascalientes</td>\n",
       "      <td>001</td>\n",
       "      <td>Aguascalientes</td>\n",
       "      <td>0094</td>\n",
       "      <td>Granja Adelita</td>\n",
       "    </tr>\n",
       "    <tr>\n",
       "      <th>2</th>\n",
       "      <td>01</td>\n",
       "      <td>Aguascalientes</td>\n",
       "      <td>001</td>\n",
       "      <td>Aguascalientes</td>\n",
       "      <td>0096</td>\n",
       "      <td>Agua Azul</td>\n",
       "    </tr>\n",
       "    <tr>\n",
       "      <th>3</th>\n",
       "      <td>01</td>\n",
       "      <td>Aguascalientes</td>\n",
       "      <td>001</td>\n",
       "      <td>Aguascalientes</td>\n",
       "      <td>0100</td>\n",
       "      <td>Rancho Alegre</td>\n",
       "    </tr>\n",
       "    <tr>\n",
       "      <th>4</th>\n",
       "      <td>01</td>\n",
       "      <td>Aguascalientes</td>\n",
       "      <td>001</td>\n",
       "      <td>Aguascalientes</td>\n",
       "      <td>0102</td>\n",
       "      <td>Los Arbolitos [Rancho]</td>\n",
       "    </tr>\n",
       "  </tbody>\n",
       "</table>\n",
       "</div>"
      ],
      "text/plain": [
       "  CVE_ENT   Entidad_inegi CVE_MUN Municipio_inegi CVE_LOC  \\\n",
       "0      01  Aguascalientes     001  Aguascalientes    0001   \n",
       "1      01  Aguascalientes     001  Aguascalientes    0094   \n",
       "2      01  Aguascalientes     001  Aguascalientes    0096   \n",
       "3      01  Aguascalientes     001  Aguascalientes    0100   \n",
       "4      01  Aguascalientes     001  Aguascalientes    0102   \n",
       "\n",
       "          Localidad_inegi  \n",
       "0          Aguascalientes  \n",
       "1          Granja Adelita  \n",
       "2               Agua Azul  \n",
       "3           Rancho Alegre  \n",
       "4  Los Arbolitos [Rancho]  "
      ]
     },
     "execution_count": 40,
     "metadata": {},
     "output_type": "execute_result"
    }
   ],
   "source": [
    "dataset_inegi.head()"
   ]
  },
  {
   "cell_type": "code",
   "execution_count": 41,
   "id": "8b81e8cb",
   "metadata": {},
   "outputs": [
    {
     "data": {
      "text/html": [
       "<div>\n",
       "<style scoped>\n",
       "    .dataframe tbody tr th:only-of-type {\n",
       "        vertical-align: middle;\n",
       "    }\n",
       "\n",
       "    .dataframe tbody tr th {\n",
       "        vertical-align: top;\n",
       "    }\n",
       "\n",
       "    .dataframe thead th {\n",
       "        text-align: right;\n",
       "    }\n",
       "</style>\n",
       "<table border=\"1\" class=\"dataframe\">\n",
       "  <thead>\n",
       "    <tr style=\"text-align: right;\">\n",
       "      <th></th>\n",
       "      <th>ENTIDAD</th>\n",
       "      <th>MUNICIPIO</th>\n",
       "      <th>ESTADO_c_benef</th>\n",
       "      <th>MUNICIPIO_c_benef</th>\n",
       "      <th>KEY_benef</th>\n",
       "    </tr>\n",
       "  </thead>\n",
       "  <tbody>\n",
       "    <tr>\n",
       "      <th>0</th>\n",
       "      <td>GUERRERO</td>\n",
       "      <td>COYUCA DE BENÍTEZ</td>\n",
       "      <td>guerrero</td>\n",
       "      <td>coyuca de benitez</td>\n",
       "      <td>guerrero-coyuca de benitez</td>\n",
       "    </tr>\n",
       "    <tr>\n",
       "      <th>5</th>\n",
       "      <td>GUERRERO</td>\n",
       "      <td>CUTZAMALA DE PINZÓN</td>\n",
       "      <td>guerrero</td>\n",
       "      <td>cutzamala de pinzon</td>\n",
       "      <td>guerrero-cutzamala de pinzon</td>\n",
       "    </tr>\n",
       "    <tr>\n",
       "      <th>6</th>\n",
       "      <td>OAXACA</td>\n",
       "      <td>SAN JUAN GUICHICOVI</td>\n",
       "      <td>oaxaca</td>\n",
       "      <td>san juan guichicovi</td>\n",
       "      <td>oaxaca-san juan guichicovi</td>\n",
       "    </tr>\n",
       "    <tr>\n",
       "      <th>7</th>\n",
       "      <td>GUERRERO</td>\n",
       "      <td>ARCELIA</td>\n",
       "      <td>guerrero</td>\n",
       "      <td>arcelia</td>\n",
       "      <td>guerrero-arcelia</td>\n",
       "    </tr>\n",
       "    <tr>\n",
       "      <th>8</th>\n",
       "      <td>GUERRERO</td>\n",
       "      <td>TLALCHAPA</td>\n",
       "      <td>guerrero</td>\n",
       "      <td>tlalchapa</td>\n",
       "      <td>guerrero-tlalchapa</td>\n",
       "    </tr>\n",
       "  </tbody>\n",
       "</table>\n",
       "</div>"
      ],
      "text/plain": [
       "    ENTIDAD            MUNICIPIO ESTADO_c_benef    MUNICIPIO_c_benef  \\\n",
       "0  GUERRERO    COYUCA DE BENÍTEZ       guerrero    coyuca de benitez   \n",
       "5  GUERRERO  CUTZAMALA DE PINZÓN       guerrero  cutzamala de pinzon   \n",
       "6    OAXACA  SAN JUAN GUICHICOVI         oaxaca  san juan guichicovi   \n",
       "7  GUERRERO              ARCELIA       guerrero              arcelia   \n",
       "8  GUERRERO            TLALCHAPA       guerrero            tlalchapa   \n",
       "\n",
       "                      KEY_benef  \n",
       "0    guerrero-coyuca de benitez  \n",
       "5  guerrero-cutzamala de pinzon  \n",
       "6    oaxaca-san juan guichicovi  \n",
       "7              guerrero-arcelia  \n",
       "8            guerrero-tlalchapa  "
      ]
     },
     "execution_count": 41,
     "metadata": {},
     "output_type": "execute_result"
    }
   ],
   "source": [
    "Estados_beneficiarios2019_2022.head()"
   ]
  },
  {
   "cell_type": "code",
   "execution_count": 42,
   "id": "8baf7b52",
   "metadata": {},
   "outputs": [
    {
     "data": {
      "text/plain": [
       "(299568, 6)"
      ]
     },
     "execution_count": 42,
     "metadata": {},
     "output_type": "execute_result"
    }
   ],
   "source": [
    "dataset_inegi.shape"
   ]
  },
  {
   "cell_type": "code",
   "execution_count": 43,
   "id": "9458d520",
   "metadata": {},
   "outputs": [
    {
     "data": {
      "text/plain": [
       "(1034, 5)"
      ]
     },
     "execution_count": 43,
     "metadata": {},
     "output_type": "execute_result"
    }
   ],
   "source": [
    "Estados_beneficiarios2019_2022.shape"
   ]
  },
  {
   "cell_type": "markdown",
   "id": "e51d9278",
   "metadata": {},
   "source": []
  },
  {
   "cell_type": "markdown",
   "id": "54bf8df24ed21525",
   "metadata": {},
   "source": [
    "### 3.1 Left join (Para crear diccionario)\n",
    "\n",
    "Creamos el diccionario."
   ]
  },
  {
   "cell_type": "code",
   "execution_count": 44,
   "id": "ad6eaef8",
   "metadata": {},
   "outputs": [],
   "source": [
    "def fuzzy_merge_benef2019_2022(df_benef, df_inegi, key1, key2, threshold=90, limit=1):\n",
    "    \"\"\"\n",
    "    df_benef: DataFrame de la derecha (el DataFrame con el que se quiere hacer el join)\n",
    "    df_inegi: DataFrame de la izquierda (el DataFrame principal)\n",
    "    key1: Columna de la clave en df_benef\n",
    "    key2: Columna de la clave en df_inegi\n",
    "    threshold: Umbral de coincidencia difusa\n",
    "    limit: Número de coincidencias a encontrar\n",
    "    \"\"\"\n",
    "    # Convertir la columna clave de df_benef a una lista\n",
    "    s = df_benef[key1].tolist()\n",
    "    \n",
    "    # Encontrar las mejores coincidencias para cada clave en df_inegi\n",
    "    matches = df_inegi[key2].apply(lambda x: process.extractOne(x, s, score_cutoff=threshold))\n",
    "\n",
    "    # Crear columnas temporales en df_inegi con las mejores coincidencias y sus puntuaciones\n",
    "    df_inegi['best_match'] = [match[0] if match else None for match in matches]\n",
    "    df_inegi['match_score'] = [match[1] if match else None for match in matches]\n",
    "\n",
    "    # Hacer el merge con las mejores coincidencias, asegurando que df_inegi sea el DataFrame de la izquierda\n",
    "    df_merged = pd.merge(df_inegi, df_benef, left_on='best_match', right_on=key1, how='left',\n",
    "                         suffixes=('_inegi', '_benef'))\n",
    "    \n",
    "    return df_merged"
   ]
  },
  {
   "cell_type": "code",
   "execution_count": 45,
   "id": "ef162063",
   "metadata": {},
   "outputs": [
    {
     "name": "stderr",
     "output_type": "stream",
     "text": [
      "/var/folders/ng/n9ng0wy92t90_49j662nh02c0000gn/T/ipykernel_89061/934286962.py:17: SettingWithCopyWarning: \n",
      "A value is trying to be set on a copy of a slice from a DataFrame.\n",
      "Try using .loc[row_indexer,col_indexer] = value instead\n",
      "\n",
      "See the caveats in the documentation: https://pandas.pydata.org/pandas-docs/stable/user_guide/indexing.html#returning-a-view-versus-a-copy\n",
      "  df_inegi['best_match'] = [match[0] if match else None for match in matches]\n",
      "/var/folders/ng/n9ng0wy92t90_49j662nh02c0000gn/T/ipykernel_89061/934286962.py:18: SettingWithCopyWarning: \n",
      "A value is trying to be set on a copy of a slice from a DataFrame.\n",
      "Try using .loc[row_indexer,col_indexer] = value instead\n",
      "\n",
      "See the caveats in the documentation: https://pandas.pydata.org/pandas-docs/stable/user_guide/indexing.html#returning-a-view-versus-a-copy\n",
      "  df_inegi['match_score'] = [match[1] if match else None for match in matches]\n"
     ]
    },
    {
     "data": {
      "text/plain": [
       "Index(['CVE_ENT', 'Entidad_inegi', 'CVE_MUN', 'Municipio_inegi', 'CVE_LOC',\n",
       "       'Localidad_inegi', 'Entidad_c_inegi', 'Municipio_c_inegi', 'KEY_inegi',\n",
       "       'best_match', 'match_score', 'ENTIDAD', 'MUNICIPIO', 'ESTADO_c_benef',\n",
       "       'MUNICIPIO_c_benef', 'KEY_benef'],\n",
       "      dtype='object')"
      ]
     },
     "execution_count": 45,
     "metadata": {},
     "output_type": "execute_result"
    }
   ],
   "source": [
    "diccionario = fuzzy_merge_benef2019_2022(Estados_beneficiarios2019_2022, dataset_inegi_uniquemun, 'KEY_benef', 'KEY_inegi')\n",
    "# Mostrar el resultado\n",
    "diccionario.columns"
   ]
  },
  {
   "cell_type": "code",
   "execution_count": 46,
   "id": "191cff1b",
   "metadata": {},
   "outputs": [
    {
     "data": {
      "text/plain": [
       "(2465, 16)"
      ]
     },
     "execution_count": 46,
     "metadata": {},
     "output_type": "execute_result"
    }
   ],
   "source": [
    "diccionario.shape"
   ]
  },
  {
   "cell_type": "code",
   "execution_count": 47,
   "id": "0551eb3f",
   "metadata": {},
   "outputs": [
    {
     "name": "stdout",
     "output_type": "stream",
     "text": [
      "                    count unique                            top  freq  \\\n",
      "CVE_ENT              2465     32                             20   568   \n",
      "Entidad_inegi        2465     32                         Oaxaca   568   \n",
      "CVE_MUN              2465    569                            003    31   \n",
      "Municipio_inegi      2465   2332                         Ocampo     6   \n",
      "CVE_LOC              2465      3                           0001  2463   \n",
      "Localidad_inegi      2465   2363                  Villa Hidalgo     6   \n",
      "Entidad_c_inegi      2465     32                         oaxaca   568   \n",
      "Municipio_c_inegi    2465   2332                         ocampo     6   \n",
      "KEY_inegi            2465   2465  aguascalientes-aguascalientes     1   \n",
      "best_match           1139   1028                  puebla-puebla    91   \n",
      "match_score        1139.0    NaN                            NaN   NaN   \n",
      "ENTIDAD              1139      9                         OAXACA   558   \n",
      "MUNICIPIO            1139   1021                         PUEBLA    91   \n",
      "ESTADO_c_benef       1139      9                         oaxaca   558   \n",
      "MUNICIPIO_c_benef    1139   1021                         puebla    91   \n",
      "KEY_benef            1139   1028                  puebla-puebla    91   \n",
      "\n",
      "                        mean       std   min    25%    50%    75%    max  \n",
      "CVE_ENT                  NaN       NaN   NaN    NaN    NaN    NaN    NaN  \n",
      "Entidad_inegi            NaN       NaN   NaN    NaN    NaN    NaN    NaN  \n",
      "CVE_MUN                  NaN       NaN   NaN    NaN    NaN    NaN    NaN  \n",
      "Municipio_inegi          NaN       NaN   NaN    NaN    NaN    NaN    NaN  \n",
      "CVE_LOC                  NaN       NaN   NaN    NaN    NaN    NaN    NaN  \n",
      "Localidad_inegi          NaN       NaN   NaN    NaN    NaN    NaN    NaN  \n",
      "Entidad_c_inegi          NaN       NaN   NaN    NaN    NaN    NaN    NaN  \n",
      "Municipio_c_inegi        NaN       NaN   NaN    NaN    NaN    NaN    NaN  \n",
      "KEY_inegi                NaN       NaN   NaN    NaN    NaN    NaN    NaN  \n",
      "best_match               NaN       NaN   NaN    NaN    NaN    NaN    NaN  \n",
      "match_score        99.466198  1.622949  90.0  100.0  100.0  100.0  100.0  \n",
      "ENTIDAD                  NaN       NaN   NaN    NaN    NaN    NaN    NaN  \n",
      "MUNICIPIO                NaN       NaN   NaN    NaN    NaN    NaN    NaN  \n",
      "ESTADO_c_benef           NaN       NaN   NaN    NaN    NaN    NaN    NaN  \n",
      "MUNICIPIO_c_benef        NaN       NaN   NaN    NaN    NaN    NaN    NaN  \n",
      "KEY_benef                NaN       NaN   NaN    NaN    NaN    NaN    NaN  \n"
     ]
    }
   ],
   "source": [
    "# Valores únicos y la cantidad de cada columna\n",
    "# Obtener estadísticas descriptivas para todas las variables\n",
    "\n",
    "descriptive_stats = diccionario.describe(include='all').transpose()\n",
    "\n",
    "# Mostrar las estadísticas descriptivas\n",
    "print(descriptive_stats)"
   ]
  },
  {
   "cell_type": "code",
   "execution_count": 48,
   "id": "0a596a42",
   "metadata": {},
   "outputs": [],
   "source": [
    "nan_rows = diccionario.isna()"
   ]
  },
  {
   "cell_type": "code",
   "execution_count": 49,
   "id": "4cefccc4079ae8e9",
   "metadata": {
    "ExecuteTime": {
     "end_time": "2024-05-30T14:04:01.741880Z",
     "start_time": "2024-05-30T14:04:01.724246Z"
    }
   },
   "outputs": [],
   "source": [
    "diccionario.to_csv('../../data/diccionario_benef2019_2022.csv', index=False)"
   ]
  },
  {
   "cell_type": "code",
   "execution_count": 50,
   "id": "80197030",
   "metadata": {},
   "outputs": [],
   "source": [
    "diccionario_benef2019_2022 = pd.read_csv('../../data/diccionario_benef2019_2022.csv')"
   ]
  },
  {
   "cell_type": "markdown",
   "id": "7480947838e468f7",
   "metadata": {},
   "source": [
    "## 3.2 Listado beneficiarios2023\n",
    "\n",
    "Esta sección se encarga de completar el listado original de Beneficiarios Autorizados con los nombre corregido de INEGI usando el diccionario."
   ]
  },
  {
   "cell_type": "code",
   "execution_count": 51,
   "id": "6ae598e683e47cac",
   "metadata": {
    "ExecuteTime": {
     "end_time": "2024-05-30T14:04:10.797009Z",
     "start_time": "2024-05-30T14:04:01.743888Z"
    }
   },
   "outputs": [],
   "source": [
    "# Crear una variable KEY en listado de productores y el diccionario para hacer el join\n",
    "\n",
    "# Clean listado beneficiarios\n",
    "listado_beneficiarios['ESTADO_Clean'] = listado_beneficiarios['ENTIDAD'].apply(clean_text)\n",
    "listado_beneficiarios['MUNICIPIO_Clean'] = listado_beneficiarios['MUNICIPIO'].apply(clean_text)\n",
    "\n",
    "# Create KEY in listado beneficiarios\n",
    "listado_beneficiarios['Estado-mun-KEY'] = listado_beneficiarios['ESTADO_Clean'].astype(str) + '-' + listado_beneficiarios[\n",
    "    'MUNICIPIO_Clean'].astype(str)"
   ]
  },
  {
   "cell_type": "code",
   "execution_count": 52,
   "id": "d8d5e195",
   "metadata": {},
   "outputs": [],
   "source": [
    "nan_rows = listado_beneficiarios.isna()"
   ]
  },
  {
   "cell_type": "code",
   "execution_count": 53,
   "id": "446d9c40",
   "metadata": {},
   "outputs": [
    {
     "data": {
      "text/plain": [
       "ZONA               12\n",
       "ENTIDAD            12\n",
       "MUNICIPIO          12\n",
       "LOCALIDAD          12\n",
       "ESTRATIFICACIÓN    12\n",
       "PROGRAMA           12\n",
       "COMPONENTE         12\n",
       "SUBCOMPONENTE      12\n",
       "PRODUCTO           12\n",
       "FECHA              12\n",
       "MONTO FEDERAL      12\n",
       "APOYO              12\n",
       "ACTIVIDAD          12\n",
       "ESLABÓN            12\n",
       "CICLO AGRÍCOLA     12\n",
       "ESTADO_Clean       12\n",
       "MUNICIPIO_Clean    12\n",
       "Estado-mun-KEY      0\n",
       "dtype: int64"
      ]
     },
     "execution_count": 53,
     "metadata": {},
     "output_type": "execute_result"
    }
   ],
   "source": [
    "nan_rows.sum()"
   ]
  },
  {
   "cell_type": "code",
   "execution_count": 54,
   "id": "672ed551381e1e8a",
   "metadata": {
    "ExecuteTime": {
     "end_time": "2024-05-30T14:04:10.806584Z",
     "start_time": "2024-05-30T14:04:10.800015Z"
    }
   },
   "outputs": [
    {
     "name": "stdout",
     "output_type": "stream",
     "text": [
      "(1869045, 18)\n"
     ]
    },
    {
     "data": {
      "text/plain": [
       "Index(['ZONA', 'ENTIDAD', 'MUNICIPIO', 'LOCALIDAD', 'ESTRATIFICACIÓN',\n",
       "       'PROGRAMA', 'COMPONENTE', 'SUBCOMPONENTE', 'PRODUCTO', 'FECHA',\n",
       "       'MONTO FEDERAL', 'APOYO', 'ACTIVIDAD', 'ESLABÓN', 'CICLO AGRÍCOLA',\n",
       "       'ESTADO_Clean', 'MUNICIPIO_Clean', 'Estado-mun-KEY'],\n",
       "      dtype='object')"
      ]
     },
     "execution_count": 54,
     "metadata": {},
     "output_type": "execute_result"
    }
   ],
   "source": [
    "print(listado_beneficiarios.shape)\n",
    "listado_beneficiarios.columns\n"
   ]
  },
  {
   "cell_type": "code",
   "execution_count": 55,
   "id": "9a887b8bde1fcd6c",
   "metadata": {
    "ExecuteTime": {
     "end_time": "2024-05-30T14:04:10.879818Z",
     "start_time": "2024-05-30T14:04:10.849876Z"
    }
   },
   "outputs": [],
   "source": [
    "# Lectura del diccionario Verificado Simple\n",
    "#diccionario_verificado = pd.read_csv('../../data/Diccionario_benef_manual_verificado.csv')\n",
    "diccionario_verificado_simple = pd.read_csv('../../data/Diccionario_Simple.csv')"
   ]
  },
  {
   "cell_type": "code",
   "execution_count": 56,
   "id": "179191e6",
   "metadata": {},
   "outputs": [
    {
     "name": "stdout",
     "output_type": "stream",
     "text": [
      "                       count unique                                   top  \\\n",
      "ESTADO                  2362     30                                OAXACA   \n",
      "MUNICIPIO               2362   2237                       EMILIANO ZAPATA   \n",
      "ESTADO_c_benef          2362     31                                oaxaca   \n",
      "MUNICIPIO_c_benef       2362   2237                       emiliano zapata   \n",
      "KEY_benef               2362   2358  oaxaca-san pedro mixtepec -dto. 26 -   \n",
      "KEY_benef_Verificado    2362   2334            jalisco-canadas de obregon   \n",
      "best_match              2345   2316             oaxaca-san pedro mixtepec   \n",
      "match_score           2345.0    NaN                                   NaN   \n",
      "CVE_ENT               2362.0    NaN                                   NaN   \n",
      "Entidad_inegi           2362     30                                Oaxaca   \n",
      "CVE_MUN               2362.0    NaN                                   NaN   \n",
      "Municipio_inegi         2362   2215                                Ocampo   \n",
      "Entidad_c_inegi         2345     30                                oaxaca   \n",
      "Municipio_c_inegi       2345   2198                                ocampo   \n",
      "KEY_inegi               2345   2316             oaxaca-san pedro mixtepec   \n",
      "\n",
      "                     freq       mean         std   min    25%    50%     75%  \\\n",
      "ESTADO                570        NaN         NaN   NaN    NaN    NaN     NaN   \n",
      "MUNICIPIO               6        NaN         NaN   NaN    NaN    NaN     NaN   \n",
      "ESTADO_c_benef        570        NaN         NaN   NaN    NaN    NaN     NaN   \n",
      "MUNICIPIO_c_benef       6        NaN         NaN   NaN    NaN    NaN     NaN   \n",
      "KEY_benef               2        NaN         NaN   NaN    NaN    NaN     NaN   \n",
      "KEY_benef_Verificado    3        NaN         NaN   NaN    NaN    NaN     NaN   \n",
      "best_match              4        NaN         NaN   NaN    NaN    NaN     NaN   \n",
      "match_score           NaN  99.880597    0.851261  90.0  100.0  100.0   100.0   \n",
      "CVE_ENT               NaN   19.23243    7.249455   1.0   14.0   20.0    24.0   \n",
      "Entidad_inegi         570        NaN         NaN   NaN    NaN    NaN     NaN   \n",
      "CVE_MUN               NaN  111.88696  133.670707   1.0   24.0   59.0  134.75   \n",
      "Municipio_inegi         7        NaN         NaN   NaN    NaN    NaN     NaN   \n",
      "Entidad_c_inegi       567        NaN         NaN   NaN    NaN    NaN     NaN   \n",
      "Municipio_c_inegi       7        NaN         NaN   NaN    NaN    NaN     NaN   \n",
      "KEY_inegi               4        NaN         NaN   NaN    NaN    NaN     NaN   \n",
      "\n",
      "                        max  \n",
      "ESTADO                  NaN  \n",
      "MUNICIPIO               NaN  \n",
      "ESTADO_c_benef          NaN  \n",
      "MUNICIPIO_c_benef       NaN  \n",
      "KEY_benef               NaN  \n",
      "KEY_benef_Verificado    NaN  \n",
      "best_match              NaN  \n",
      "match_score           100.0  \n",
      "CVE_ENT                32.0  \n",
      "Entidad_inegi           NaN  \n",
      "CVE_MUN               570.0  \n",
      "Municipio_inegi         NaN  \n",
      "Entidad_c_inegi         NaN  \n",
      "Municipio_c_inegi       NaN  \n",
      "KEY_inegi               NaN  \n"
     ]
    }
   ],
   "source": [
    "descriptive_stats = diccionario_verificado_simple.describe(include='all').transpose()\n",
    "\n",
    "# Mostrar las estadísticas descriptivas\n",
    "print(descriptive_stats)"
   ]
  },
  {
   "cell_type": "code",
   "execution_count": 57,
   "id": "60163919",
   "metadata": {},
   "outputs": [
    {
     "data": {
      "text/plain": [
       "Index(['ESTADO', 'MUNICIPIO', 'ESTADO_c_benef', 'MUNICIPIO_c_benef',\n",
       "       'KEY_benef', 'KEY_benef_Verificado', 'best_match', 'match_score',\n",
       "       'CVE_ENT', 'Entidad_inegi', 'CVE_MUN', 'Municipio_inegi',\n",
       "       'Entidad_c_inegi', 'Municipio_c_inegi', 'KEY_inegi'],\n",
       "      dtype='object')"
      ]
     },
     "execution_count": 57,
     "metadata": {},
     "output_type": "execute_result"
    }
   ],
   "source": [
    "diccionario_verificado_simple.columns"
   ]
  },
  {
   "cell_type": "code",
   "execution_count": 58,
   "id": "f555bb77",
   "metadata": {},
   "outputs": [],
   "source": [
    "diccionario_verificado_simple.rename(columns={'ï»¿KEY_benef': 'KEY_benef'}, inplace=True)"
   ]
  },
  {
   "cell_type": "code",
   "execution_count": 59,
   "id": "07bd0589",
   "metadata": {},
   "outputs": [],
   "source": [
    "diccionario_simple = pd.read_csv('../../data/Diccionario_Simple.csv')"
   ]
  },
  {
   "cell_type": "markdown",
   "id": "68e8b406",
   "metadata": {},
   "source": [
    "El diccionatio contiene KEY_benef únicos (Freq = 1), mientras que KEY_benef_Verificado puede repetirse."
   ]
  },
  {
   "cell_type": "markdown",
   "id": "d0c557f0",
   "metadata": {},
   "source": [
    "### MERGE\n",
    "\n",
    "Armamos por partes el dataset definitivo:\n",
    "1. Juntamos Listado_beneficiarios con el diccionario simple. (listado_beneficiario_parte_I)\n",
    "2. Al df anterior juntamos las claver provenientes del catálogo de Inegi. (listado_beneficiario_parte_II)"
   ]
  },
  {
   "cell_type": "code",
   "execution_count": 60,
   "id": "e1928c484fe89c5e",
   "metadata": {
    "ExecuteTime": {
     "end_time": "2024-05-30T14:04:11.928301Z",
     "start_time": "2024-05-30T14:04:10.882823Z"
    }
   },
   "outputs": [],
   "source": [
    "# Hacer el join de la Parte I\n",
    "listado_beneficiarios_parte_I = pd.merge(listado_beneficiarios, diccionario_benef2019_2022, left_on=\"Estado-mun-KEY\",\n",
    "                                        right_on=\"KEY_benef_Verificado\", how='left', suffixes=('_benef', '_inegi'))"
   ]
  },
  {
   "cell_type": "code",
   "execution_count": 61,
   "id": "fee05580",
   "metadata": {},
   "outputs": [
    {
     "data": {
      "text/plain": [
       "Index(['ZONA', 'ENTIDAD', 'MUNICIPIO_benef', 'LOCALIDAD', 'ESTRATIFICACIÓN',\n",
       "       'PROGRAMA', 'COMPONENTE', 'SUBCOMPONENTE', 'PRODUCTO', 'FECHA',\n",
       "       'MONTO FEDERAL', 'APOYO', 'ACTIVIDAD', 'ESLABÓN', 'CICLO AGRÍCOLA',\n",
       "       'ESTADO_Clean', 'MUNICIPIO_Clean', 'Estado-mun-KEY', 'ESTADO',\n",
       "       'MUNICIPIO_inegi', 'ESTADO_c_benef', 'MUNICIPIO_c_benef', 'KEY_benef',\n",
       "       'KEY_benef_Verificado', 'best_match', 'match_score', 'CVE_ENT',\n",
       "       'Entidad_inegi', 'CVE_MUN', 'Municipio_inegi', 'Entidad_c_inegi',\n",
       "       'Municipio_c_inegi', 'KEY_inegi'],\n",
       "      dtype='object')"
      ]
     },
     "execution_count": 61,
     "metadata": {},
     "output_type": "execute_result"
    }
   ],
   "source": [
    "listado_beneficiarios_parte_I.columns"
   ]
  },
  {
   "cell_type": "code",
   "execution_count": 62,
   "id": "1cfb28a8",
   "metadata": {},
   "outputs": [
    {
     "name": "stdout",
     "output_type": "stream",
     "text": [
      "ZONA                       12\n",
      "ENTIDAD                    12\n",
      "MUNICIPIO_benef            12\n",
      "LOCALIDAD                  12\n",
      "ESTRATIFICACIÓN            12\n",
      "PROGRAMA                   12\n",
      "COMPONENTE                 12\n",
      "SUBCOMPONENTE              12\n",
      "PRODUCTO                   12\n",
      "FECHA                      12\n",
      "MONTO FEDERAL              12\n",
      "APOYO                      12\n",
      "ACTIVIDAD                  12\n",
      "ESLABÓN                    12\n",
      "CICLO AGRÍCOLA             12\n",
      "ESTADO_Clean               12\n",
      "MUNICIPIO_Clean            12\n",
      "Estado-mun-KEY              0\n",
      "ESTADO                  13583\n",
      "MUNICIPIO_inegi         13583\n",
      "ESTADO_c_benef          13583\n",
      "MUNICIPIO_c_benef       13583\n",
      "KEY_benef               13583\n",
      "KEY_benef_Verificado    13583\n",
      "best_match              17909\n",
      "match_score             17909\n",
      "CVE_ENT                 13583\n",
      "Entidad_inegi           13583\n",
      "CVE_MUN                 13583\n",
      "Municipio_inegi         13583\n",
      "Entidad_c_inegi         17909\n",
      "Municipio_c_inegi       17909\n",
      "KEY_inegi               17909\n",
      "dtype: int64\n"
     ]
    }
   ],
   "source": [
    "listado_beneficiarios_parte_I_nan_counts = listado_beneficiarios_parte_I.isna().sum()\n",
    "print(listado_beneficiarios_parte_I_nan_counts)"
   ]
  },
  {
   "cell_type": "code",
   "execution_count": null,
   "id": "30c3520f",
   "metadata": {},
   "outputs": [],
   "source": []
  },
  {
   "cell_type": "code",
   "execution_count": null,
   "id": "7b07de77",
   "metadata": {},
   "outputs": [],
   "source": []
  },
  {
   "cell_type": "code",
   "execution_count": null,
   "id": "7c5de067",
   "metadata": {},
   "outputs": [],
   "source": []
  },
  {
   "cell_type": "code",
   "execution_count": null,
   "id": "797e54b3",
   "metadata": {},
   "outputs": [],
   "source": []
  },
  {
   "cell_type": "code",
   "execution_count": null,
   "id": "81761c73",
   "metadata": {},
   "outputs": [],
   "source": []
  },
  {
   "cell_type": "code",
   "execution_count": 63,
   "id": "c11e6579",
   "metadata": {},
   "outputs": [],
   "source": [
    "# Hacer el join de la Parte II\n",
    "listado_beneficiarios_parte_II = pd.merge(listado_beneficiarios_parte_I, dataset_inegi_uniquemun, left_on=\"KEY_benef\",\n",
    "                                        right_on=\"KEY_inegi\", how='left', suffixes=('_benef', '_inegi'))"
   ]
  },
  {
   "cell_type": "code",
   "execution_count": 64,
   "id": "e05e3642",
   "metadata": {},
   "outputs": [
    {
     "data": {
      "text/plain": [
       "Index(['ZONA', 'ENTIDAD', 'MUNICIPIO_benef', 'LOCALIDAD', 'ESTRATIFICACIÓN',\n",
       "       'PROGRAMA', 'COMPONENTE', 'SUBCOMPONENTE', 'PRODUCTO', 'FECHA',\n",
       "       'MONTO FEDERAL', 'APOYO', 'ACTIVIDAD', 'ESLABÓN', 'CICLO AGRÍCOLA',\n",
       "       'ESTADO_Clean', 'MUNICIPIO_Clean', 'Estado-mun-KEY', 'ESTADO',\n",
       "       'MUNICIPIO_inegi', 'ESTADO_c_benef', 'MUNICIPIO_c_benef', 'KEY_benef',\n",
       "       'KEY_benef_Verificado', 'best_match', 'match_score', 'CVE_ENT_benef',\n",
       "       'Entidad_inegi_benef', 'CVE_MUN_benef', 'Municipio_inegi_benef',\n",
       "       'Entidad_c_inegi_benef', 'Municipio_c_inegi_benef', 'KEY_inegi_benef',\n",
       "       'CVE_ENT_inegi', 'Entidad_inegi_inegi', 'CVE_MUN_inegi',\n",
       "       'Municipio_inegi_inegi', 'CVE_LOC', 'Localidad_inegi',\n",
       "       'Entidad_c_inegi_inegi', 'Municipio_c_inegi_inegi', 'KEY_inegi_inegi'],\n",
       "      dtype='object')"
      ]
     },
     "execution_count": 64,
     "metadata": {},
     "output_type": "execute_result"
    }
   ],
   "source": [
    "listado_beneficiarios_parte_II.columns"
   ]
  },
  {
   "cell_type": "code",
   "execution_count": 65,
   "id": "392ed8b1",
   "metadata": {},
   "outputs": [
    {
     "data": {
      "text/plain": [
       "(1880396, 42)"
      ]
     },
     "execution_count": 65,
     "metadata": {},
     "output_type": "execute_result"
    }
   ],
   "source": [
    "listado_beneficiarios_parte_II.shape"
   ]
  },
  {
   "cell_type": "code",
   "execution_count": 66,
   "id": "03d2a2b1",
   "metadata": {},
   "outputs": [
    {
     "name": "stdout",
     "output_type": "stream",
     "text": [
      "                             count unique                           top  \\\n",
      "ZONA                       1880384      8                   CENTRO PAÍS   \n",
      "ENTIDAD                    1880384     10                      GUERRERO   \n",
      "MUNICIPIO_benef            1880384   1025            CHILAPA DE ÁLVAREZ   \n",
      "LOCALIDAD                  1880384   9979                     TECOANAPA   \n",
      "ESTRATIFICACIÓN            1880384      7                          Alto   \n",
      "PROGRAMA                   1880384      1                 FERTILIZANTES   \n",
      "COMPONENTE                 1880384      1                 FERTILIZANTES   \n",
      "SUBCOMPONENTE              1880384      1                 FERTILIZANTES   \n",
      "PRODUCTO                   1880384      7  Cultivo de maíz grano blanco   \n",
      "FECHA                      1880384    815                    15/07/2019   \n",
      "MONTO FEDERAL            1880384.0    NaN                           NaN   \n",
      "APOYO                      1880384      1                 Fertilizantes   \n",
      "ACTIVIDAD                  1880384      1                       AGRARIA   \n",
      "ESLABÓN                    1880384      1                       AGRARIA   \n",
      "CICLO AGRÍCOLA             1880384      4                        PV2022   \n",
      "ESTADO_Clean               1880384     10                      guerrero   \n",
      "MUNICIPIO_Clean            1880384   1025            chilapa de alvarez   \n",
      "Estado-mun-KEY             1880396   1034   guerrero-chilapa de alvarez   \n",
      "ESTADO                     1866813     12                      GUERRERO   \n",
      "MUNICIPIO_inegi            1866813   1023            CHILAPA DE ALVAREZ   \n",
      "ESTADO_c_benef             1866813     12                      guerrero   \n",
      "MUNICIPIO_c_benef          1866813   1023            chilapa de alvarez   \n",
      "KEY_benef                  1866813   1030   guerrero-chilapa de alvarez   \n",
      "KEY_benef_Verificado       1866813   1015   guerrero-chilapa de alvarez   \n",
      "best_match                 1862487   1019   guerrero-chilapa de alvarez   \n",
      "match_score              1862487.0    NaN                           NaN   \n",
      "CVE_ENT_benef            1866813.0    NaN                           NaN   \n",
      "Entidad_inegi_benef        1866813     12                      Guerrero   \n",
      "CVE_MUN_benef            1866813.0    NaN                           NaN   \n",
      "Municipio_inegi_benef      1866813   1014            Chilapa de Álvarez   \n",
      "Entidad_c_inegi_benef      1862487     12                      guerrero   \n",
      "Municipio_c_inegi_benef    1862487   1012            chilapa de alvarez   \n",
      "KEY_inegi_benef            1862487   1019   guerrero-chilapa de alvarez   \n",
      "CVE_ENT_inegi              1844771      9                            12   \n",
      "Entidad_inegi_inegi        1844771      9                      Guerrero   \n",
      "CVE_MUN_inegi              1844771    549                           028   \n",
      "Municipio_inegi_inegi      1844771    999            Chilapa de Álvarez   \n",
      "CVE_LOC                    1844771      2                          0001   \n",
      "Localidad_inegi            1844771   1000            Chilapa de Álvarez   \n",
      "Entidad_c_inegi_inegi      1844771      9                      guerrero   \n",
      "Municipio_c_inegi_inegi    1844771    999            chilapa de alvarez   \n",
      "KEY_inegi_inegi            1844771   1005   guerrero-chilapa de alvarez   \n",
      "\n",
      "                            freq         mean          std    min      25%  \\\n",
      "ZONA                     1428400          NaN          NaN    NaN      NaN   \n",
      "ENTIDAD                  1279305          NaN          NaN    NaN      NaN   \n",
      "MUNICIPIO_benef            60148          NaN          NaN    NaN      NaN   \n",
      "LOCALIDAD                  10820          NaN          NaN    NaN      NaN   \n",
      "ESTRATIFICACIÓN          1263047          NaN          NaN    NaN      NaN   \n",
      "PROGRAMA                 1880384          NaN          NaN    NaN      NaN   \n",
      "COMPONENTE               1880384          NaN          NaN    NaN      NaN   \n",
      "SUBCOMPONENTE            1880384          NaN          NaN    NaN      NaN   \n",
      "PRODUCTO                 1142488          NaN          NaN    NaN      NaN   \n",
      "FECHA                      17568          NaN          NaN    NaN      NaN   \n",
      "MONTO FEDERAL                NaN  6441.798832  2860.189337  239.0  3598.07   \n",
      "APOYO                    1880384          NaN          NaN    NaN      NaN   \n",
      "ACTIVIDAD                1880384          NaN          NaN    NaN      NaN   \n",
      "ESLABÓN                  1880384          NaN          NaN    NaN      NaN   \n",
      "CICLO AGRÍCOLA            835690          NaN          NaN    NaN      NaN   \n",
      "ESTADO_Clean             1279305          NaN          NaN    NaN      NaN   \n",
      "MUNICIPIO_Clean            60148          NaN          NaN    NaN      NaN   \n",
      "Estado-mun-KEY             60148          NaN          NaN    NaN      NaN   \n",
      "ESTADO                   1279305          NaN          NaN    NaN      NaN   \n",
      "MUNICIPIO_inegi            60148          NaN          NaN    NaN      NaN   \n",
      "ESTADO_c_benef           1279305          NaN          NaN    NaN      NaN   \n",
      "MUNICIPIO_c_benef          60148          NaN          NaN    NaN      NaN   \n",
      "KEY_benef                  60148          NaN          NaN    NaN      NaN   \n",
      "KEY_benef_Verificado       60148          NaN          NaN    NaN      NaN   \n",
      "best_match                 60148          NaN          NaN    NaN      NaN   \n",
      "match_score                  NaN    99.966679     0.399227   90.0    100.0   \n",
      "CVE_ENT_benef                NaN    13.017286     4.651139    7.0     12.0   \n",
      "Entidad_inegi_benef      1279305          NaN          NaN    NaN      NaN   \n",
      "CVE_MUN_benef                NaN    65.590941    87.934575    1.0     23.0   \n",
      "Municipio_inegi_benef      60148          NaN          NaN    NaN      NaN   \n",
      "Entidad_c_inegi_benef    1275241          NaN          NaN    NaN      NaN   \n",
      "Municipio_c_inegi_benef    60148          NaN          NaN    NaN      NaN   \n",
      "KEY_inegi_benef            60148          NaN          NaN    NaN      NaN   \n",
      "CVE_ENT_inegi            1274152          NaN          NaN    NaN      NaN   \n",
      "Entidad_inegi_inegi      1274152          NaN          NaN    NaN      NaN   \n",
      "CVE_MUN_inegi              62100          NaN          NaN    NaN      NaN   \n",
      "Municipio_inegi_inegi      60148          NaN          NaN    NaN      NaN   \n",
      "CVE_LOC                  1843680          NaN          NaN    NaN      NaN   \n",
      "Localidad_inegi            60148          NaN          NaN    NaN      NaN   \n",
      "Entidad_c_inegi_inegi    1274152          NaN          NaN    NaN      NaN   \n",
      "Municipio_c_inegi_inegi    60148          NaN          NaN    NaN      NaN   \n",
      "KEY_inegi_inegi            60148          NaN          NaN    NaN      NaN   \n",
      "\n",
      "                             50%      75%       max  \n",
      "ZONA                         NaN      NaN       NaN  \n",
      "ENTIDAD                      NaN      NaN       NaN  \n",
      "MUNICIPIO_benef              NaN      NaN       NaN  \n",
      "LOCALIDAD                    NaN      NaN       NaN  \n",
      "ESTRATIFICACIÓN              NaN      NaN       NaN  \n",
      "PROGRAMA                     NaN      NaN       NaN  \n",
      "COMPONENTE                   NaN      NaN       NaN  \n",
      "SUBCOMPONENTE                NaN      NaN       NaN  \n",
      "PRODUCTO                     NaN      NaN       NaN  \n",
      "FECHA                        NaN      NaN       NaN  \n",
      "MONTO FEDERAL            6163.44  7491.34  15414.01  \n",
      "APOYO                        NaN      NaN       NaN  \n",
      "ACTIVIDAD                    NaN      NaN       NaN  \n",
      "ESLABÓN                      NaN      NaN       NaN  \n",
      "CICLO AGRÍCOLA               NaN      NaN       NaN  \n",
      "ESTADO_Clean                 NaN      NaN       NaN  \n",
      "MUNICIPIO_Clean              NaN      NaN       NaN  \n",
      "Estado-mun-KEY               NaN      NaN       NaN  \n",
      "ESTADO                       NaN      NaN       NaN  \n",
      "MUNICIPIO_inegi              NaN      NaN       NaN  \n",
      "ESTADO_c_benef               NaN      NaN       NaN  \n",
      "MUNICIPIO_c_benef            NaN      NaN       NaN  \n",
      "KEY_benef                    NaN      NaN       NaN  \n",
      "KEY_benef_Verificado         NaN      NaN       NaN  \n",
      "best_match                   NaN      NaN       NaN  \n",
      "match_score                100.0    100.0     100.0  \n",
      "CVE_ENT_benef               12.0     12.0      32.0  \n",
      "Entidad_inegi_benef          NaN      NaN       NaN  \n",
      "CVE_MUN_benef               46.0     71.0     570.0  \n",
      "Municipio_inegi_benef        NaN      NaN       NaN  \n",
      "Entidad_c_inegi_benef        NaN      NaN       NaN  \n",
      "Municipio_c_inegi_benef      NaN      NaN       NaN  \n",
      "KEY_inegi_benef              NaN      NaN       NaN  \n",
      "CVE_ENT_inegi                NaN      NaN       NaN  \n",
      "Entidad_inegi_inegi          NaN      NaN       NaN  \n",
      "CVE_MUN_inegi                NaN      NaN       NaN  \n",
      "Municipio_inegi_inegi        NaN      NaN       NaN  \n",
      "CVE_LOC                      NaN      NaN       NaN  \n",
      "Localidad_inegi              NaN      NaN       NaN  \n",
      "Entidad_c_inegi_inegi        NaN      NaN       NaN  \n",
      "Municipio_c_inegi_inegi      NaN      NaN       NaN  \n",
      "KEY_inegi_inegi              NaN      NaN       NaN  \n"
     ]
    }
   ],
   "source": [
    "# Valores únicos y la cantidad de cada columna\n",
    "# Obtener estadísticas descriptivas para todas las variables\n",
    "\n",
    "descriptive_stats = listado_beneficiarios_parte_II.describe(include='all').transpose()\n",
    "\n",
    "# Mostrar las estadísticas descriptivas\n",
    "print(descriptive_stats)"
   ]
  },
  {
   "cell_type": "code",
   "execution_count": 67,
   "id": "4095e5d0",
   "metadata": {},
   "outputs": [
    {
     "ename": "KeyError",
     "evalue": "Index(['ACUSE ESTATAL'], dtype='object')",
     "output_type": "error",
     "traceback": [
      "\u001b[0;31m---------------------------------------------------------------------------\u001b[0m",
      "\u001b[0;31mKeyError\u001b[0m                                  Traceback (most recent call last)",
      "Cell \u001b[0;32mIn[67], line 1\u001b[0m\n\u001b[0;32m----> 1\u001b[0m listado_beneficiarios_parte_II \u001b[38;5;241m=\u001b[39m \u001b[43mlistado_beneficiarios_parte_II\u001b[49m\u001b[38;5;241;43m.\u001b[39;49m\u001b[43mdrop_duplicates\u001b[49m\u001b[43m(\u001b[49m\u001b[43msubset\u001b[49m\u001b[43m \u001b[49m\u001b[38;5;241;43m=\u001b[39;49m\u001b[43m \u001b[49m\u001b[43m[\u001b[49m\u001b[38;5;124;43m'\u001b[39;49m\u001b[38;5;124;43mACUSE ESTATAL\u001b[39;49m\u001b[38;5;124;43m'\u001b[39;49m\u001b[43m]\u001b[49m\u001b[43m,\u001b[49m\u001b[43mkeep\u001b[49m\u001b[43m \u001b[49m\u001b[38;5;241;43m=\u001b[39;49m\u001b[43m \u001b[49m\u001b[38;5;124;43m'\u001b[39;49m\u001b[38;5;124;43mfirst\u001b[39;49m\u001b[38;5;124;43m'\u001b[39;49m\u001b[43m)\u001b[49m\n\u001b[1;32m      2\u001b[0m listado_beneficiarios_parte_II\u001b[38;5;241m.\u001b[39mshape\n",
      "File \u001b[0;32m/Library/Frameworks/Python.framework/Versions/3.9/lib/python3.9/site-packages/pandas/core/frame.py:6818\u001b[0m, in \u001b[0;36mDataFrame.drop_duplicates\u001b[0;34m(self, subset, keep, inplace, ignore_index)\u001b[0m\n\u001b[1;32m   6815\u001b[0m inplace \u001b[38;5;241m=\u001b[39m validate_bool_kwarg(inplace, \u001b[38;5;124m\"\u001b[39m\u001b[38;5;124minplace\u001b[39m\u001b[38;5;124m\"\u001b[39m)\n\u001b[1;32m   6816\u001b[0m ignore_index \u001b[38;5;241m=\u001b[39m validate_bool_kwarg(ignore_index, \u001b[38;5;124m\"\u001b[39m\u001b[38;5;124mignore_index\u001b[39m\u001b[38;5;124m\"\u001b[39m)\n\u001b[0;32m-> 6818\u001b[0m result \u001b[38;5;241m=\u001b[39m \u001b[38;5;28mself\u001b[39m[\u001b[38;5;241m-\u001b[39m\u001b[38;5;28;43mself\u001b[39;49m\u001b[38;5;241;43m.\u001b[39;49m\u001b[43mduplicated\u001b[49m\u001b[43m(\u001b[49m\u001b[43msubset\u001b[49m\u001b[43m,\u001b[49m\u001b[43m \u001b[49m\u001b[43mkeep\u001b[49m\u001b[38;5;241;43m=\u001b[39;49m\u001b[43mkeep\u001b[49m\u001b[43m)\u001b[49m]\n\u001b[1;32m   6819\u001b[0m \u001b[38;5;28;01mif\u001b[39;00m ignore_index:\n\u001b[1;32m   6820\u001b[0m     result\u001b[38;5;241m.\u001b[39mindex \u001b[38;5;241m=\u001b[39m default_index(\u001b[38;5;28mlen\u001b[39m(result))\n",
      "File \u001b[0;32m/Library/Frameworks/Python.framework/Versions/3.9/lib/python3.9/site-packages/pandas/core/frame.py:6950\u001b[0m, in \u001b[0;36mDataFrame.duplicated\u001b[0;34m(self, subset, keep)\u001b[0m\n\u001b[1;32m   6948\u001b[0m diff \u001b[38;5;241m=\u001b[39m \u001b[38;5;28mset\u001b[39m(subset) \u001b[38;5;241m-\u001b[39m \u001b[38;5;28mset\u001b[39m(\u001b[38;5;28mself\u001b[39m\u001b[38;5;241m.\u001b[39mcolumns)\n\u001b[1;32m   6949\u001b[0m \u001b[38;5;28;01mif\u001b[39;00m diff:\n\u001b[0;32m-> 6950\u001b[0m     \u001b[38;5;28;01mraise\u001b[39;00m \u001b[38;5;167;01mKeyError\u001b[39;00m(Index(diff))\n\u001b[1;32m   6952\u001b[0m \u001b[38;5;28;01mif\u001b[39;00m \u001b[38;5;28mlen\u001b[39m(subset) \u001b[38;5;241m==\u001b[39m \u001b[38;5;241m1\u001b[39m \u001b[38;5;129;01mand\u001b[39;00m \u001b[38;5;28mself\u001b[39m\u001b[38;5;241m.\u001b[39mcolumns\u001b[38;5;241m.\u001b[39mis_unique:\n\u001b[1;32m   6953\u001b[0m     \u001b[38;5;66;03m# GH#45236 This is faster than get_group_index below\u001b[39;00m\n\u001b[1;32m   6954\u001b[0m     result \u001b[38;5;241m=\u001b[39m \u001b[38;5;28mself\u001b[39m[subset[\u001b[38;5;241m0\u001b[39m]]\u001b[38;5;241m.\u001b[39mduplicated(keep)\n",
      "\u001b[0;31mKeyError\u001b[0m: Index(['ACUSE ESTATAL'], dtype='object')"
     ]
    }
   ],
   "source": [
    "listado_beneficiarios_parte_II = listado_beneficiarios_parte_II.drop_duplicates(subset = ['ACUSE ESTATAL'],keep = 'first')\n",
    "listado_beneficiarios_parte_II.shape"
   ]
  },
  {
   "cell_type": "code",
   "execution_count": null,
   "id": "b27a125b519d9ac8",
   "metadata": {
    "ExecuteTime": {
     "end_time": "2024-05-30T14:04:14.339706Z",
     "start_time": "2024-05-30T14:04:14.106578Z"
    }
   },
   "outputs": [
    {
     "ename": "KeyError",
     "evalue": "\"None of [Index(['ESTADO', 'MUNICIPIO', 'ACUSE ESTATAL', 'APELLIDO PATERNO',\\n       'APELLIDO MATERNO', 'NOMBRE (S)', 'PAQUETE', 'KEY_benef_Verificado',\\n       'Entidad_inegi', 'Municipio_inegi', 'CVE_ENT', 'CVE_MUN'],\\n      dtype='object')] are in the [columns]\"",
     "output_type": "error",
     "traceback": [
      "\u001b[0;31m---------------------------------------------------------------------------\u001b[0m",
      "\u001b[0;31mKeyError\u001b[0m                                  Traceback (most recent call last)",
      "Cell \u001b[0;32mIn[66], line 2\u001b[0m\n\u001b[1;32m      1\u001b[0m \u001b[38;5;66;03m# Seleccionamos las columnas que nos interesan\u001b[39;00m\n\u001b[0;32m----> 2\u001b[0m listado_beneficiarios_parte_II \u001b[38;5;241m=\u001b[39m \u001b[43mlistado_beneficiarios_parte_II\u001b[49m\u001b[43m[\u001b[49m\n\u001b[1;32m      3\u001b[0m \u001b[43m    \u001b[49m\u001b[43m[\u001b[49m\u001b[38;5;124;43m'\u001b[39;49m\u001b[38;5;124;43mESTADO\u001b[39;49m\u001b[38;5;124;43m'\u001b[39;49m\u001b[43m,\u001b[49m\u001b[43m \u001b[49m\u001b[38;5;124;43m'\u001b[39;49m\u001b[38;5;124;43mMUNICIPIO\u001b[39;49m\u001b[38;5;124;43m'\u001b[39;49m\u001b[43m,\u001b[49m\u001b[43m \u001b[49m\u001b[38;5;124;43m'\u001b[39;49m\u001b[38;5;124;43mACUSE ESTATAL\u001b[39;49m\u001b[38;5;124;43m'\u001b[39;49m\u001b[43m,\u001b[49m\u001b[43m \u001b[49m\u001b[38;5;124;43m'\u001b[39;49m\u001b[38;5;124;43mAPELLIDO PATERNO\u001b[39;49m\u001b[38;5;124;43m'\u001b[39;49m\u001b[43m,\u001b[49m\u001b[43m \u001b[49m\u001b[38;5;124;43m'\u001b[39;49m\u001b[38;5;124;43mAPELLIDO MATERNO\u001b[39;49m\u001b[38;5;124;43m'\u001b[39;49m\u001b[43m,\u001b[49m\n\u001b[1;32m      4\u001b[0m \u001b[43m     \u001b[49m\u001b[38;5;124;43m'\u001b[39;49m\u001b[38;5;124;43mNOMBRE (S)\u001b[39;49m\u001b[38;5;124;43m'\u001b[39;49m\u001b[43m,\u001b[49m\u001b[43m \u001b[49m\u001b[38;5;124;43m'\u001b[39;49m\u001b[38;5;124;43mPAQUETE\u001b[39;49m\u001b[38;5;124;43m'\u001b[39;49m\u001b[43m,\u001b[49m\u001b[43m \u001b[49m\u001b[38;5;124;43m'\u001b[39;49m\u001b[38;5;124;43mKEY_benef_Verificado\u001b[39;49m\u001b[38;5;124;43m'\u001b[39;49m\u001b[43m,\u001b[49m\u001b[43m \u001b[49m\u001b[38;5;124;43m'\u001b[39;49m\u001b[38;5;124;43mEntidad_inegi\u001b[39;49m\u001b[38;5;124;43m'\u001b[39;49m\u001b[43m,\u001b[49m\u001b[43m \u001b[49m\u001b[38;5;124;43m'\u001b[39;49m\u001b[38;5;124;43mMunicipio_inegi\u001b[39;49m\u001b[38;5;124;43m'\u001b[39;49m\u001b[43m,\u001b[49m\u001b[43m \u001b[49m\u001b[38;5;124;43m'\u001b[39;49m\u001b[38;5;124;43mCVE_ENT\u001b[39;49m\u001b[38;5;124;43m'\u001b[39;49m\u001b[43m,\u001b[49m\u001b[43m \u001b[49m\u001b[38;5;124;43m'\u001b[39;49m\u001b[38;5;124;43mCVE_MUN\u001b[39;49m\u001b[38;5;124;43m'\u001b[39;49m\u001b[43m]\u001b[49m\u001b[43m]\u001b[49m\n",
      "File \u001b[0;32m/Library/Frameworks/Python.framework/Versions/3.9/lib/python3.9/site-packages/pandas/core/frame.py:4108\u001b[0m, in \u001b[0;36mDataFrame.__getitem__\u001b[0;34m(self, key)\u001b[0m\n\u001b[1;32m   4106\u001b[0m     \u001b[38;5;28;01mif\u001b[39;00m is_iterator(key):\n\u001b[1;32m   4107\u001b[0m         key \u001b[38;5;241m=\u001b[39m \u001b[38;5;28mlist\u001b[39m(key)\n\u001b[0;32m-> 4108\u001b[0m     indexer \u001b[38;5;241m=\u001b[39m \u001b[38;5;28;43mself\u001b[39;49m\u001b[38;5;241;43m.\u001b[39;49m\u001b[43mcolumns\u001b[49m\u001b[38;5;241;43m.\u001b[39;49m\u001b[43m_get_indexer_strict\u001b[49m\u001b[43m(\u001b[49m\u001b[43mkey\u001b[49m\u001b[43m,\u001b[49m\u001b[43m \u001b[49m\u001b[38;5;124;43m\"\u001b[39;49m\u001b[38;5;124;43mcolumns\u001b[39;49m\u001b[38;5;124;43m\"\u001b[39;49m\u001b[43m)\u001b[49m[\u001b[38;5;241m1\u001b[39m]\n\u001b[1;32m   4110\u001b[0m \u001b[38;5;66;03m# take() does not accept boolean indexers\u001b[39;00m\n\u001b[1;32m   4111\u001b[0m \u001b[38;5;28;01mif\u001b[39;00m \u001b[38;5;28mgetattr\u001b[39m(indexer, \u001b[38;5;124m\"\u001b[39m\u001b[38;5;124mdtype\u001b[39m\u001b[38;5;124m\"\u001b[39m, \u001b[38;5;28;01mNone\u001b[39;00m) \u001b[38;5;241m==\u001b[39m \u001b[38;5;28mbool\u001b[39m:\n",
      "File \u001b[0;32m/Library/Frameworks/Python.framework/Versions/3.9/lib/python3.9/site-packages/pandas/core/indexes/base.py:6200\u001b[0m, in \u001b[0;36mIndex._get_indexer_strict\u001b[0;34m(self, key, axis_name)\u001b[0m\n\u001b[1;32m   6197\u001b[0m \u001b[38;5;28;01melse\u001b[39;00m:\n\u001b[1;32m   6198\u001b[0m     keyarr, indexer, new_indexer \u001b[38;5;241m=\u001b[39m \u001b[38;5;28mself\u001b[39m\u001b[38;5;241m.\u001b[39m_reindex_non_unique(keyarr)\n\u001b[0;32m-> 6200\u001b[0m \u001b[38;5;28;43mself\u001b[39;49m\u001b[38;5;241;43m.\u001b[39;49m\u001b[43m_raise_if_missing\u001b[49m\u001b[43m(\u001b[49m\u001b[43mkeyarr\u001b[49m\u001b[43m,\u001b[49m\u001b[43m \u001b[49m\u001b[43mindexer\u001b[49m\u001b[43m,\u001b[49m\u001b[43m \u001b[49m\u001b[43maxis_name\u001b[49m\u001b[43m)\u001b[49m\n\u001b[1;32m   6202\u001b[0m keyarr \u001b[38;5;241m=\u001b[39m \u001b[38;5;28mself\u001b[39m\u001b[38;5;241m.\u001b[39mtake(indexer)\n\u001b[1;32m   6203\u001b[0m \u001b[38;5;28;01mif\u001b[39;00m \u001b[38;5;28misinstance\u001b[39m(key, Index):\n\u001b[1;32m   6204\u001b[0m     \u001b[38;5;66;03m# GH 42790 - Preserve name from an Index\u001b[39;00m\n",
      "File \u001b[0;32m/Library/Frameworks/Python.framework/Versions/3.9/lib/python3.9/site-packages/pandas/core/indexes/base.py:6249\u001b[0m, in \u001b[0;36mIndex._raise_if_missing\u001b[0;34m(self, key, indexer, axis_name)\u001b[0m\n\u001b[1;32m   6247\u001b[0m \u001b[38;5;28;01mif\u001b[39;00m nmissing:\n\u001b[1;32m   6248\u001b[0m     \u001b[38;5;28;01mif\u001b[39;00m nmissing \u001b[38;5;241m==\u001b[39m \u001b[38;5;28mlen\u001b[39m(indexer):\n\u001b[0;32m-> 6249\u001b[0m         \u001b[38;5;28;01mraise\u001b[39;00m \u001b[38;5;167;01mKeyError\u001b[39;00m(\u001b[38;5;124mf\u001b[39m\u001b[38;5;124m\"\u001b[39m\u001b[38;5;124mNone of [\u001b[39m\u001b[38;5;132;01m{\u001b[39;00mkey\u001b[38;5;132;01m}\u001b[39;00m\u001b[38;5;124m] are in the [\u001b[39m\u001b[38;5;132;01m{\u001b[39;00maxis_name\u001b[38;5;132;01m}\u001b[39;00m\u001b[38;5;124m]\u001b[39m\u001b[38;5;124m\"\u001b[39m)\n\u001b[1;32m   6251\u001b[0m     not_found \u001b[38;5;241m=\u001b[39m \u001b[38;5;28mlist\u001b[39m(ensure_index(key)[missing_mask\u001b[38;5;241m.\u001b[39mnonzero()[\u001b[38;5;241m0\u001b[39m]]\u001b[38;5;241m.\u001b[39munique())\n\u001b[1;32m   6252\u001b[0m     \u001b[38;5;28;01mraise\u001b[39;00m \u001b[38;5;167;01mKeyError\u001b[39;00m(\u001b[38;5;124mf\u001b[39m\u001b[38;5;124m\"\u001b[39m\u001b[38;5;132;01m{\u001b[39;00mnot_found\u001b[38;5;132;01m}\u001b[39;00m\u001b[38;5;124m not in index\u001b[39m\u001b[38;5;124m\"\u001b[39m)\n",
      "\u001b[0;31mKeyError\u001b[0m: \"None of [Index(['ESTADO', 'MUNICIPIO', 'ACUSE ESTATAL', 'APELLIDO PATERNO',\\n       'APELLIDO MATERNO', 'NOMBRE (S)', 'PAQUETE', 'KEY_benef_Verificado',\\n       'Entidad_inegi', 'Municipio_inegi', 'CVE_ENT', 'CVE_MUN'],\\n      dtype='object')] are in the [columns]\""
     ]
    }
   ],
   "source": [
    "# Seleccionamos las columnas que nos interesan\n",
    "listado_beneficiarios_parte_II = listado_beneficiarios_parte_II[\n",
    "    ['ESTADO', 'MUNICIPIO', 'ACUSE ESTATAL', 'APELLIDO PATERNO', 'APELLIDO MATERNO',\n",
    "     'NOMBRE (S)', 'PAQUETE', 'KEY_benef_Verificado', 'Entidad_inegi', 'Municipio_inegi', 'CVE_ENT', 'CVE_MUN']]"
   ]
  },
  {
   "cell_type": "code",
   "execution_count": null,
   "id": "f74b72372f1494ed",
   "metadata": {
    "ExecuteTime": {
     "end_time": "2024-05-30T14:04:14.361161Z",
     "start_time": "2024-05-30T14:04:14.346729Z"
    }
   },
   "outputs": [
    {
     "name": "stdout",
     "output_type": "stream",
     "text": [
      "(1869045, 43)\n",
      "Index(['ZONA', 'ENTIDAD_benef', 'MUNICIPIO_benef', 'LOCALIDAD',\n",
      "       'ESTRATIFICACIÓN', 'PROGRAMA', 'COMPONENTE', 'SUBCOMPONENTE',\n",
      "       'PRODUCTO', 'FECHA', 'MONTO FEDERAL', 'APOYO', 'ACTIVIDAD', 'ESLABÓN',\n",
      "       'CICLO AGRÍCOLA', 'ESTADO_Clean', 'MUNICIPIO_Clean', 'Estado-mun-KEY',\n",
      "       'ENTIDAD_inegi', 'MUNICIPIO_inegi', 'ESTADO_c_benef',\n",
      "       'MUNICIPIO_c_benef', 'KEY_benef', 'best_match', 'match_score',\n",
      "       'CVE_ENT_benef', 'Entidad_inegi_benef', 'CVE_MUN_benef',\n",
      "       'Municipio_inegi_benef', 'CVE_LOC_benef', 'Localidad_inegi_benef',\n",
      "       'Entidad_c_inegi_benef', 'Municipio_c_inegi_benef', 'KEY_inegi_benef',\n",
      "       'CVE_ENT_inegi', 'Entidad_inegi_inegi', 'CVE_MUN_inegi',\n",
      "       'Municipio_inegi_inegi', 'CVE_LOC_inegi', 'Localidad_inegi_inegi',\n",
      "       'Entidad_c_inegi_inegi', 'Municipio_c_inegi_inegi', 'KEY_inegi_inegi'],\n",
      "      dtype='object')\n",
      "          ZONA ENTIDAD_benef    MUNICIPIO_benef     LOCALIDAD ESTRATIFICACIÓN  \\\n",
      "0  CENTRO PAÍS      GUERRERO  COYUCA DE BENÍTEZ  PUEBLO VIEJO            Alto   \n",
      "1  CENTRO PAÍS      GUERRERO  COYUCA DE BENÍTEZ  PUEBLO VIEJO            Alto   \n",
      "2  CENTRO PAÍS      GUERRERO  COYUCA DE BENÍTEZ    AGUA ZARCA            Alto   \n",
      "3  CENTRO PAÍS      GUERRERO  COYUCA DE BENÍTEZ    AGUA ZARCA            Alto   \n",
      "4  CENTRO PAÍS      GUERRERO  COYUCA DE BENÍTEZ  YERBASANTITA            Alto   \n",
      "\n",
      "        PROGRAMA     COMPONENTE  SUBCOMPONENTE                      PRODUCTO  \\\n",
      "0  FERTILIZANTES  FERTILIZANTES  FERTILIZANTES  Cultivo de maíz grano blanco   \n",
      "1  FERTILIZANTES  FERTILIZANTES  FERTILIZANTES  Cultivo de maíz grano blanco   \n",
      "2  FERTILIZANTES  FERTILIZANTES  FERTILIZANTES  Cultivo de maíz grano blanco   \n",
      "3  FERTILIZANTES  FERTILIZANTES  FERTILIZANTES  Cultivo de maíz grano blanco   \n",
      "4  FERTILIZANTES  FERTILIZANTES  FERTILIZANTES  Cultivo de maíz grano blanco   \n",
      "\n",
      "        FECHA  ...             KEY_inegi_benef CVE_ENT_inegi  \\\n",
      "0  2022-06-26  ...  guerrero-coyuca de benitez            12   \n",
      "1  2022-06-26  ...  guerrero-coyuca de benitez            12   \n",
      "2  2022-07-12  ...  guerrero-coyuca de benitez            12   \n",
      "3  2022-07-12  ...  guerrero-coyuca de benitez            12   \n",
      "4  2022-06-20  ...  guerrero-coyuca de benitez            12   \n",
      "\n",
      "  Entidad_inegi_inegi CVE_MUN_inegi Municipio_inegi_inegi CVE_LOC_inegi  \\\n",
      "0            Guerrero           021     Coyuca de Benítez          0001   \n",
      "1            Guerrero           021     Coyuca de Benítez          0001   \n",
      "2            Guerrero           021     Coyuca de Benítez          0001   \n",
      "3            Guerrero           021     Coyuca de Benítez          0001   \n",
      "4            Guerrero           021     Coyuca de Benítez          0001   \n",
      "\n",
      "  Localidad_inegi_inegi Entidad_c_inegi_inegi Municipio_c_inegi_inegi  \\\n",
      "0     Coyuca de Benítez              guerrero       coyuca de benitez   \n",
      "1     Coyuca de Benítez              guerrero       coyuca de benitez   \n",
      "2     Coyuca de Benítez              guerrero       coyuca de benitez   \n",
      "3     Coyuca de Benítez              guerrero       coyuca de benitez   \n",
      "4     Coyuca de Benítez              guerrero       coyuca de benitez   \n",
      "\n",
      "              KEY_inegi_inegi  \n",
      "0  guerrero-coyuca de benitez  \n",
      "1  guerrero-coyuca de benitez  \n",
      "2  guerrero-coyuca de benitez  \n",
      "3  guerrero-coyuca de benitez  \n",
      "4  guerrero-coyuca de benitez  \n",
      "\n",
      "[5 rows x 43 columns]\n"
     ]
    }
   ],
   "source": [
    "# Revisamos el dataset\n",
    "print(listado_beneficiarios_parte_II.shape)\n",
    "print(listado_beneficiarios_parte_II.columns)\n",
    "print(listado_beneficiarios_parte_II.head())"
   ]
  },
  {
   "cell_type": "code",
   "execution_count": null,
   "id": "7afb8c2a",
   "metadata": {},
   "outputs": [
    {
     "name": "stdout",
     "output_type": "stream",
     "text": [
      "ZONA                          12\n",
      "ENTIDAD_benef                 12\n",
      "MUNICIPIO_benef               12\n",
      "LOCALIDAD                     12\n",
      "ESTRATIFICACIÓN               12\n",
      "PROGRAMA                      12\n",
      "COMPONENTE                    12\n",
      "SUBCOMPONENTE                 12\n",
      "PRODUCTO                      12\n",
      "FECHA                         12\n",
      "MONTO FEDERAL                 12\n",
      "APOYO                         12\n",
      "ACTIVIDAD                     12\n",
      "ESLABÓN                       12\n",
      "CICLO AGRÍCOLA                12\n",
      "ESTADO_Clean                  12\n",
      "MUNICIPIO_Clean               12\n",
      "Estado-mun-KEY                 0\n",
      "ENTIDAD_inegi                 12\n",
      "MUNICIPIO_inegi               12\n",
      "ESTADO_c_benef                12\n",
      "MUNICIPIO_c_benef             12\n",
      "KEY_benef                      0\n",
      "best_match                  5680\n",
      "match_score                 5680\n",
      "CVE_ENT_benef               5680\n",
      "Entidad_inegi_benef         5680\n",
      "CVE_MUN_benef               5680\n",
      "Municipio_inegi_benef       5680\n",
      "CVE_LOC_benef               5680\n",
      "Localidad_inegi_benef       5680\n",
      "Entidad_c_inegi_benef       5680\n",
      "Municipio_c_inegi_benef     5680\n",
      "KEY_inegi_benef             5680\n",
      "CVE_ENT_inegi              11620\n",
      "Entidad_inegi_inegi        11620\n",
      "CVE_MUN_inegi              11620\n",
      "Municipio_inegi_inegi      11620\n",
      "CVE_LOC_inegi              11620\n",
      "Localidad_inegi_inegi      11620\n",
      "Entidad_c_inegi_inegi      11620\n",
      "Municipio_c_inegi_inegi    11620\n",
      "KEY_inegi_inegi            11620\n",
      "dtype: int64\n"
     ]
    }
   ],
   "source": [
    "nan_counts = listado_beneficiarios_parte_II.isna().sum()\n",
    "print(nan_counts)"
   ]
  },
  {
   "cell_type": "markdown",
   "id": "43a74521",
   "metadata": {},
   "source": [
    "Hay 0 filas que no han sido emparejadas."
   ]
  },
  {
   "cell_type": "code",
   "execution_count": null,
   "id": "e3275def",
   "metadata": {},
   "outputs": [
    {
     "ename": "KeyboardInterrupt",
     "evalue": "",
     "output_type": "error",
     "traceback": [
      "\u001b[0;31m---------------------------------------------------------------------------\u001b[0m",
      "\u001b[0;31mKeyboardInterrupt\u001b[0m                         Traceback (most recent call last)",
      "Cell \u001b[0;32mIn[69], line 1\u001b[0m\n\u001b[0;32m----> 1\u001b[0m \u001b[43mlistado_beneficiarios_parte_II\u001b[49m\u001b[38;5;241;43m.\u001b[39;49m\u001b[43mto_csv\u001b[49m\u001b[43m(\u001b[49m\u001b[38;5;124;43m'\u001b[39;49m\u001b[38;5;124;43m../../data/LISTADO_BENEFICIARIOS2023_COMPLETO.csv\u001b[39;49m\u001b[38;5;124;43m'\u001b[39;49m\u001b[43m,\u001b[49m\u001b[43m \u001b[49m\u001b[43mindex\u001b[49m\u001b[38;5;241;43m=\u001b[39;49m\u001b[38;5;28;43;01mFalse\u001b[39;49;00m\u001b[43m)\u001b[49m\n",
      "File \u001b[0;32m/Library/Frameworks/Python.framework/Versions/3.9/lib/python3.9/site-packages/pandas/util/_decorators.py:333\u001b[0m, in \u001b[0;36mdeprecate_nonkeyword_arguments.<locals>.decorate.<locals>.wrapper\u001b[0;34m(*args, **kwargs)\u001b[0m\n\u001b[1;32m    327\u001b[0m \u001b[38;5;28;01mif\u001b[39;00m \u001b[38;5;28mlen\u001b[39m(args) \u001b[38;5;241m>\u001b[39m num_allow_args:\n\u001b[1;32m    328\u001b[0m     warnings\u001b[38;5;241m.\u001b[39mwarn(\n\u001b[1;32m    329\u001b[0m         msg\u001b[38;5;241m.\u001b[39mformat(arguments\u001b[38;5;241m=\u001b[39m_format_argument_list(allow_args)),\n\u001b[1;32m    330\u001b[0m         \u001b[38;5;167;01mFutureWarning\u001b[39;00m,\n\u001b[1;32m    331\u001b[0m         stacklevel\u001b[38;5;241m=\u001b[39mfind_stack_level(),\n\u001b[1;32m    332\u001b[0m     )\n\u001b[0;32m--> 333\u001b[0m \u001b[38;5;28;01mreturn\u001b[39;00m \u001b[43mfunc\u001b[49m\u001b[43m(\u001b[49m\u001b[38;5;241;43m*\u001b[39;49m\u001b[43margs\u001b[49m\u001b[43m,\u001b[49m\u001b[43m \u001b[49m\u001b[38;5;241;43m*\u001b[39;49m\u001b[38;5;241;43m*\u001b[39;49m\u001b[43mkwargs\u001b[49m\u001b[43m)\u001b[49m\n",
      "File \u001b[0;32m/Library/Frameworks/Python.framework/Versions/3.9/lib/python3.9/site-packages/pandas/core/generic.py:3967\u001b[0m, in \u001b[0;36mNDFrame.to_csv\u001b[0;34m(self, path_or_buf, sep, na_rep, float_format, columns, header, index, index_label, mode, encoding, compression, quoting, quotechar, lineterminator, chunksize, date_format, doublequote, escapechar, decimal, errors, storage_options)\u001b[0m\n\u001b[1;32m   3956\u001b[0m df \u001b[38;5;241m=\u001b[39m \u001b[38;5;28mself\u001b[39m \u001b[38;5;28;01mif\u001b[39;00m \u001b[38;5;28misinstance\u001b[39m(\u001b[38;5;28mself\u001b[39m, ABCDataFrame) \u001b[38;5;28;01melse\u001b[39;00m \u001b[38;5;28mself\u001b[39m\u001b[38;5;241m.\u001b[39mto_frame()\n\u001b[1;32m   3958\u001b[0m formatter \u001b[38;5;241m=\u001b[39m DataFrameFormatter(\n\u001b[1;32m   3959\u001b[0m     frame\u001b[38;5;241m=\u001b[39mdf,\n\u001b[1;32m   3960\u001b[0m     header\u001b[38;5;241m=\u001b[39mheader,\n\u001b[0;32m   (...)\u001b[0m\n\u001b[1;32m   3964\u001b[0m     decimal\u001b[38;5;241m=\u001b[39mdecimal,\n\u001b[1;32m   3965\u001b[0m )\n\u001b[0;32m-> 3967\u001b[0m \u001b[38;5;28;01mreturn\u001b[39;00m \u001b[43mDataFrameRenderer\u001b[49m\u001b[43m(\u001b[49m\u001b[43mformatter\u001b[49m\u001b[43m)\u001b[49m\u001b[38;5;241;43m.\u001b[39;49m\u001b[43mto_csv\u001b[49m\u001b[43m(\u001b[49m\n\u001b[1;32m   3968\u001b[0m \u001b[43m    \u001b[49m\u001b[43mpath_or_buf\u001b[49m\u001b[43m,\u001b[49m\n\u001b[1;32m   3969\u001b[0m \u001b[43m    \u001b[49m\u001b[43mlineterminator\u001b[49m\u001b[38;5;241;43m=\u001b[39;49m\u001b[43mlineterminator\u001b[49m\u001b[43m,\u001b[49m\n\u001b[1;32m   3970\u001b[0m \u001b[43m    \u001b[49m\u001b[43msep\u001b[49m\u001b[38;5;241;43m=\u001b[39;49m\u001b[43msep\u001b[49m\u001b[43m,\u001b[49m\n\u001b[1;32m   3971\u001b[0m \u001b[43m    \u001b[49m\u001b[43mencoding\u001b[49m\u001b[38;5;241;43m=\u001b[39;49m\u001b[43mencoding\u001b[49m\u001b[43m,\u001b[49m\n\u001b[1;32m   3972\u001b[0m \u001b[43m    \u001b[49m\u001b[43merrors\u001b[49m\u001b[38;5;241;43m=\u001b[39;49m\u001b[43merrors\u001b[49m\u001b[43m,\u001b[49m\n\u001b[1;32m   3973\u001b[0m \u001b[43m    \u001b[49m\u001b[43mcompression\u001b[49m\u001b[38;5;241;43m=\u001b[39;49m\u001b[43mcompression\u001b[49m\u001b[43m,\u001b[49m\n\u001b[1;32m   3974\u001b[0m \u001b[43m    \u001b[49m\u001b[43mquoting\u001b[49m\u001b[38;5;241;43m=\u001b[39;49m\u001b[43mquoting\u001b[49m\u001b[43m,\u001b[49m\n\u001b[1;32m   3975\u001b[0m \u001b[43m    \u001b[49m\u001b[43mcolumns\u001b[49m\u001b[38;5;241;43m=\u001b[39;49m\u001b[43mcolumns\u001b[49m\u001b[43m,\u001b[49m\n\u001b[1;32m   3976\u001b[0m \u001b[43m    \u001b[49m\u001b[43mindex_label\u001b[49m\u001b[38;5;241;43m=\u001b[39;49m\u001b[43mindex_label\u001b[49m\u001b[43m,\u001b[49m\n\u001b[1;32m   3977\u001b[0m \u001b[43m    \u001b[49m\u001b[43mmode\u001b[49m\u001b[38;5;241;43m=\u001b[39;49m\u001b[43mmode\u001b[49m\u001b[43m,\u001b[49m\n\u001b[1;32m   3978\u001b[0m \u001b[43m    \u001b[49m\u001b[43mchunksize\u001b[49m\u001b[38;5;241;43m=\u001b[39;49m\u001b[43mchunksize\u001b[49m\u001b[43m,\u001b[49m\n\u001b[1;32m   3979\u001b[0m \u001b[43m    \u001b[49m\u001b[43mquotechar\u001b[49m\u001b[38;5;241;43m=\u001b[39;49m\u001b[43mquotechar\u001b[49m\u001b[43m,\u001b[49m\n\u001b[1;32m   3980\u001b[0m \u001b[43m    \u001b[49m\u001b[43mdate_format\u001b[49m\u001b[38;5;241;43m=\u001b[39;49m\u001b[43mdate_format\u001b[49m\u001b[43m,\u001b[49m\n\u001b[1;32m   3981\u001b[0m \u001b[43m    \u001b[49m\u001b[43mdoublequote\u001b[49m\u001b[38;5;241;43m=\u001b[39;49m\u001b[43mdoublequote\u001b[49m\u001b[43m,\u001b[49m\n\u001b[1;32m   3982\u001b[0m \u001b[43m    \u001b[49m\u001b[43mescapechar\u001b[49m\u001b[38;5;241;43m=\u001b[39;49m\u001b[43mescapechar\u001b[49m\u001b[43m,\u001b[49m\n\u001b[1;32m   3983\u001b[0m \u001b[43m    \u001b[49m\u001b[43mstorage_options\u001b[49m\u001b[38;5;241;43m=\u001b[39;49m\u001b[43mstorage_options\u001b[49m\u001b[43m,\u001b[49m\n\u001b[1;32m   3984\u001b[0m \u001b[43m\u001b[49m\u001b[43m)\u001b[49m\n",
      "File \u001b[0;32m/Library/Frameworks/Python.framework/Versions/3.9/lib/python3.9/site-packages/pandas/io/formats/format.py:1014\u001b[0m, in \u001b[0;36mDataFrameRenderer.to_csv\u001b[0;34m(self, path_or_buf, encoding, sep, columns, index_label, mode, compression, quoting, quotechar, lineterminator, chunksize, date_format, doublequote, escapechar, errors, storage_options)\u001b[0m\n\u001b[1;32m    993\u001b[0m     created_buffer \u001b[38;5;241m=\u001b[39m \u001b[38;5;28;01mFalse\u001b[39;00m\n\u001b[1;32m    995\u001b[0m csv_formatter \u001b[38;5;241m=\u001b[39m CSVFormatter(\n\u001b[1;32m    996\u001b[0m     path_or_buf\u001b[38;5;241m=\u001b[39mpath_or_buf,\n\u001b[1;32m    997\u001b[0m     lineterminator\u001b[38;5;241m=\u001b[39mlineterminator,\n\u001b[0;32m   (...)\u001b[0m\n\u001b[1;32m   1012\u001b[0m     formatter\u001b[38;5;241m=\u001b[39m\u001b[38;5;28mself\u001b[39m\u001b[38;5;241m.\u001b[39mfmt,\n\u001b[1;32m   1013\u001b[0m )\n\u001b[0;32m-> 1014\u001b[0m \u001b[43mcsv_formatter\u001b[49m\u001b[38;5;241;43m.\u001b[39;49m\u001b[43msave\u001b[49m\u001b[43m(\u001b[49m\u001b[43m)\u001b[49m\n\u001b[1;32m   1016\u001b[0m \u001b[38;5;28;01mif\u001b[39;00m created_buffer:\n\u001b[1;32m   1017\u001b[0m     \u001b[38;5;28;01massert\u001b[39;00m \u001b[38;5;28misinstance\u001b[39m(path_or_buf, StringIO)\n",
      "File \u001b[0;32m/Library/Frameworks/Python.framework/Versions/3.9/lib/python3.9/site-packages/pandas/io/formats/csvs.py:270\u001b[0m, in \u001b[0;36mCSVFormatter.save\u001b[0;34m(self)\u001b[0m\n\u001b[1;32m    251\u001b[0m \u001b[38;5;28;01mwith\u001b[39;00m get_handle(\n\u001b[1;32m    252\u001b[0m     \u001b[38;5;28mself\u001b[39m\u001b[38;5;241m.\u001b[39mfilepath_or_buffer,\n\u001b[1;32m    253\u001b[0m     \u001b[38;5;28mself\u001b[39m\u001b[38;5;241m.\u001b[39mmode,\n\u001b[0;32m   (...)\u001b[0m\n\u001b[1;32m    258\u001b[0m ) \u001b[38;5;28;01mas\u001b[39;00m handles:\n\u001b[1;32m    259\u001b[0m     \u001b[38;5;66;03m# Note: self.encoding is irrelevant here\u001b[39;00m\n\u001b[1;32m    260\u001b[0m     \u001b[38;5;28mself\u001b[39m\u001b[38;5;241m.\u001b[39mwriter \u001b[38;5;241m=\u001b[39m csvlib\u001b[38;5;241m.\u001b[39mwriter(\n\u001b[1;32m    261\u001b[0m         handles\u001b[38;5;241m.\u001b[39mhandle,\n\u001b[1;32m    262\u001b[0m         lineterminator\u001b[38;5;241m=\u001b[39m\u001b[38;5;28mself\u001b[39m\u001b[38;5;241m.\u001b[39mlineterminator,\n\u001b[0;32m   (...)\u001b[0m\n\u001b[1;32m    267\u001b[0m         quotechar\u001b[38;5;241m=\u001b[39m\u001b[38;5;28mself\u001b[39m\u001b[38;5;241m.\u001b[39mquotechar,\n\u001b[1;32m    268\u001b[0m     )\n\u001b[0;32m--> 270\u001b[0m     \u001b[38;5;28;43mself\u001b[39;49m\u001b[38;5;241;43m.\u001b[39;49m\u001b[43m_save\u001b[49m\u001b[43m(\u001b[49m\u001b[43m)\u001b[49m\n",
      "File \u001b[0;32m/Library/Frameworks/Python.framework/Versions/3.9/lib/python3.9/site-packages/pandas/io/formats/csvs.py:275\u001b[0m, in \u001b[0;36mCSVFormatter._save\u001b[0;34m(self)\u001b[0m\n\u001b[1;32m    273\u001b[0m \u001b[38;5;28;01mif\u001b[39;00m \u001b[38;5;28mself\u001b[39m\u001b[38;5;241m.\u001b[39m_need_to_save_header:\n\u001b[1;32m    274\u001b[0m     \u001b[38;5;28mself\u001b[39m\u001b[38;5;241m.\u001b[39m_save_header()\n\u001b[0;32m--> 275\u001b[0m \u001b[38;5;28;43mself\u001b[39;49m\u001b[38;5;241;43m.\u001b[39;49m\u001b[43m_save_body\u001b[49m\u001b[43m(\u001b[49m\u001b[43m)\u001b[49m\n",
      "File \u001b[0;32m/Library/Frameworks/Python.framework/Versions/3.9/lib/python3.9/site-packages/pandas/io/formats/csvs.py:313\u001b[0m, in \u001b[0;36mCSVFormatter._save_body\u001b[0;34m(self)\u001b[0m\n\u001b[1;32m    311\u001b[0m \u001b[38;5;28;01mif\u001b[39;00m start_i \u001b[38;5;241m>\u001b[39m\u001b[38;5;241m=\u001b[39m end_i:\n\u001b[1;32m    312\u001b[0m     \u001b[38;5;28;01mbreak\u001b[39;00m\n\u001b[0;32m--> 313\u001b[0m \u001b[38;5;28;43mself\u001b[39;49m\u001b[38;5;241;43m.\u001b[39;49m\u001b[43m_save_chunk\u001b[49m\u001b[43m(\u001b[49m\u001b[43mstart_i\u001b[49m\u001b[43m,\u001b[49m\u001b[43m \u001b[49m\u001b[43mend_i\u001b[49m\u001b[43m)\u001b[49m\n",
      "File \u001b[0;32m/Library/Frameworks/Python.framework/Versions/3.9/lib/python3.9/site-packages/pandas/io/formats/csvs.py:324\u001b[0m, in \u001b[0;36mCSVFormatter._save_chunk\u001b[0;34m(self, start_i, end_i)\u001b[0m\n\u001b[1;32m    321\u001b[0m data \u001b[38;5;241m=\u001b[39m \u001b[38;5;28mlist\u001b[39m(res\u001b[38;5;241m.\u001b[39m_iter_column_arrays())\n\u001b[1;32m    323\u001b[0m ix \u001b[38;5;241m=\u001b[39m \u001b[38;5;28mself\u001b[39m\u001b[38;5;241m.\u001b[39mdata_index[slicer]\u001b[38;5;241m.\u001b[39m_get_values_for_csv(\u001b[38;5;241m*\u001b[39m\u001b[38;5;241m*\u001b[39m\u001b[38;5;28mself\u001b[39m\u001b[38;5;241m.\u001b[39m_number_format)\n\u001b[0;32m--> 324\u001b[0m \u001b[43mlibwriters\u001b[49m\u001b[38;5;241;43m.\u001b[39;49m\u001b[43mwrite_csv_rows\u001b[49m\u001b[43m(\u001b[49m\n\u001b[1;32m    325\u001b[0m \u001b[43m    \u001b[49m\u001b[43mdata\u001b[49m\u001b[43m,\u001b[49m\n\u001b[1;32m    326\u001b[0m \u001b[43m    \u001b[49m\u001b[43mix\u001b[49m\u001b[43m,\u001b[49m\n\u001b[1;32m    327\u001b[0m \u001b[43m    \u001b[49m\u001b[38;5;28;43mself\u001b[39;49m\u001b[38;5;241;43m.\u001b[39;49m\u001b[43mnlevels\u001b[49m\u001b[43m,\u001b[49m\n\u001b[1;32m    328\u001b[0m \u001b[43m    \u001b[49m\u001b[38;5;28;43mself\u001b[39;49m\u001b[38;5;241;43m.\u001b[39;49m\u001b[43mcols\u001b[49m\u001b[43m,\u001b[49m\n\u001b[1;32m    329\u001b[0m \u001b[43m    \u001b[49m\u001b[38;5;28;43mself\u001b[39;49m\u001b[38;5;241;43m.\u001b[39;49m\u001b[43mwriter\u001b[49m\u001b[43m,\u001b[49m\n\u001b[1;32m    330\u001b[0m \u001b[43m\u001b[49m\u001b[43m)\u001b[49m\n",
      "File \u001b[0;32mwriters.pyx:73\u001b[0m, in \u001b[0;36mpandas._libs.writers.write_csv_rows\u001b[0;34m()\u001b[0m\n",
      "\u001b[0;31mKeyboardInterrupt\u001b[0m: "
     ]
    }
   ],
   "source": [
    "listado_beneficiarios_parte_II.to_csv('../../data/LISTADO_BENEFICIARIOS2023_COMPLETO.csv', index=False)"
   ]
  },
  {
   "cell_type": "code",
   "execution_count": null,
   "id": "7c26d7e5",
   "metadata": {},
   "outputs": [
    {
     "data": {
      "text/plain": [
       "(1679795, 12)"
      ]
     },
     "execution_count": 57,
     "metadata": {},
     "output_type": "execute_result"
    }
   ],
   "source": [
    "listado_beneficiarios_parte_II.shape\n"
   ]
  }
 ],
 "metadata": {
  "kernelspec": {
   "display_name": "Python 3",
   "language": "python",
   "name": "python3"
  },
  "language_info": {
   "codemirror_mode": {
    "name": "ipython",
    "version": 3
   },
   "file_extension": ".py",
   "mimetype": "text/x-python",
   "name": "python",
   "nbconvert_exporter": "python",
   "pygments_lexer": "ipython3",
   "version": "3.9.9"
  }
 },
 "nbformat": 4,
 "nbformat_minor": 5
}
