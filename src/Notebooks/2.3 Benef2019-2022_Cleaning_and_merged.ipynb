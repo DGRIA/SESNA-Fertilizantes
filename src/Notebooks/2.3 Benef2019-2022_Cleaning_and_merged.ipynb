{
 "cells": [
  {
   "cell_type": "markdown",
   "id": "e81f8196fda25d5b",
   "metadata": {},
   "source": []
  },
  {
   "cell_type": "markdown",
   "id": "6960feab7ef56473",
   "metadata": {},
   "source": [
    "# Data Cleaning Listado de Listado de Beneficiarios 2019-2022"
   ]
  },
  {
   "cell_type": "markdown",
   "id": "23de63a25eb2daf6",
   "metadata": {},
   "source": [
    "## Autores\n",
    "- José Luis Delgado Dávara\n",
    "- Arturo Ortiz Aguilar\n",
    "- Beltrán Valle Gutiérrez-Cortines"
   ]
  },
  {
   "cell_type": "markdown",
   "id": "b07c3a8a",
   "metadata": {},
   "source": [
    "## Importante leer para entender\n",
    "\n",
    "En este Notebook se trabaja con 3 listados importantes:\n",
    "\n",
    "1. Beneficiarios2019_2022 -> Dataset con el listado de TODOS los beneficiarios.\n",
    "2. Estados_Beneficiarios_2019_2022 -> Dataset sólo con los estados *únicos* encontrados en el dataset anterior.\n",
    "3. Diccionario -> Emparejamiento entre ambos listados de beneficiarios\n",
    "4. Dataset_Inegi -> Catálogo obtenido de Inegi"
   ]
  },
  {
   "cell_type": "code",
   "execution_count": 1,
   "id": "cb5833c3d96a224c",
   "metadata": {
    "ExecuteTime": {
     "end_time": "2024-05-30T14:01:37.230529Z",
     "start_time": "2024-05-30T14:01:37.040759Z"
    }
   },
   "outputs": [],
   "source": [
    "import pandas as pd\n",
    "import seaborn as sns\n",
    "from thefuzz import fuzz\n",
    "from thefuzz import process\n",
    "import matplotlib.pyplot as plt\n",
    "import numpy as np\n",
    "import os\n",
    "import glob\n",
    "import re\n",
    "import unidecode"
   ]
  },
  {
   "cell_type": "code",
   "execution_count": 2,
   "id": "ac0b22b6344a0b96",
   "metadata": {
    "ExecuteTime": {
     "end_time": "2024-05-30T14:01:37.238020Z",
     "start_time": "2024-05-30T14:01:37.231536Z"
    }
   },
   "outputs": [],
   "source": [
    "def load_datasets(directory):\n",
    "    # Get a list of all CSV files in the directory\n",
    "    csv_files = glob.glob(os.path.join(directory, '*.csv'))\n",
    "\n",
    "    # Read each CSV file and store the DataFrame in a list\n",
    "    dataframes = [pd.read_csv(file, encoding='utf-8', skiprows=0) for file in csv_files]\n",
    "\n",
    "    # Print the number of rows for each DataFrame\n",
    "    for i, df in enumerate(dataframes):\n",
    "        print(f\"Number of rows in DataFrame {i+1}: {df.shape[0]}\")\n",
    "\n",
    "    # Calculate the sum of rows in each individual dataset\n",
    "    individual_row_sum = sum([df.shape[0] for df in dataframes])\n",
    "\n",
    "    # Concatenate all DataFrames in the list\n",
    "    merged_df = pd.concat(dataframes, join='inner', ignore_index=True)\n",
    "\n",
    "    return merged_df, individual_row_sum\n",
    "\n",
    "\n",
    "def clean_text(text):\n",
    "    \"\"\"\n",
    "    De esta manera tenemos el texto sin espacios blancos extra y sobre todo con todas las palabras con capitalización correcta.\n",
    "    \"\"\"\n",
    "    if pd.isna(text):\n",
    "        return text\n",
    "    text = text.strip()  # Eliminate white spaces\n",
    "    text = text.lower()  # Convert to lowercase\n",
    "    text = unidecode.unidecode(text)  # Remove accents\n",
    "    text = re.sub('-.*-', '', text) #Remove what is in between - -\n",
    "    text = re.sub('\\s+', ' ', text)  # Eliminate extra white spaces\n",
    "    text = re.sub('^\\s+|\\s+?$', '', text)  # Eliminate spaces at the beginning and end\n",
    "    return text"
   ]
  },
  {
   "cell_type": "markdown",
   "id": "5c0595e208484f96",
   "metadata": {},
   "source": [
    "# 1. Lectura y limpieza de datos"
   ]
  },
  {
   "cell_type": "markdown",
   "id": "650cbc699caa705d",
   "metadata": {},
   "source": [
    "### 1.1 Beneficiarios 2019-2022\n",
    "\n",
    "Obtenemos el listado único de localidades y listado único de municipios con sus claves."
   ]
  },
  {
   "cell_type": "code",
   "execution_count": 36,
   "id": "53fef8d078ec79cf",
   "metadata": {
    "ExecuteTime": {
     "end_time": "2024-05-30T14:01:40.160043Z",
     "start_time": "2024-05-30T14:01:38.327278Z"
    }
   },
   "outputs": [
    {
     "name": "stdout",
     "output_type": "stream",
     "text": [
      "Number of rows in DataFrame 1: 826385\n",
      "Number of rows in DataFrame 2: 394986\n",
      "Number of rows in DataFrame 3: 369124\n",
      "Number of rows in DataFrame 4: 278550\n"
     ]
    }
   ],
   "source": [
    "listado_beneficiarios, sumOfRows = load_datasets(\"../../data/productores_beneficiarios 2019-2022\")"
   ]
  },
  {
   "cell_type": "code",
   "execution_count": 40,
   "id": "5b10888a",
   "metadata": {},
   "outputs": [
    {
     "name": "stdout",
     "output_type": "stream",
     "text": [
      "Columnas: Index(['BENEFICIARIO', 'ZONA', 'ENTIDAD', 'MUNICIPIO', 'LOCALIDAD',\n",
      "       'ESTRATIFICACIÓN', 'PROGRAMA', 'COMPONENTE', 'SUBCOMPONENTE',\n",
      "       'PRODUCTO', 'FECHA', 'MONTO FEDERAL', 'APOYO', 'ACTIVIDAD', 'ESLABÓN',\n",
      "       'CICLO AGRÍCOLA'],\n",
      "      dtype='object')\n"
     ]
    },
    {
     "data": {
      "text/html": [
       "<div>\n",
       "<style scoped>\n",
       "    .dataframe tbody tr th:only-of-type {\n",
       "        vertical-align: middle;\n",
       "    }\n",
       "\n",
       "    .dataframe tbody tr th {\n",
       "        vertical-align: top;\n",
       "    }\n",
       "\n",
       "    .dataframe thead th {\n",
       "        text-align: right;\n",
       "    }\n",
       "</style>\n",
       "<table border=\"1\" class=\"dataframe\">\n",
       "  <thead>\n",
       "    <tr style=\"text-align: right;\">\n",
       "      <th></th>\n",
       "      <th>BENEFICIARIO</th>\n",
       "      <th>ZONA</th>\n",
       "      <th>ENTIDAD</th>\n",
       "      <th>MUNICIPIO</th>\n",
       "      <th>LOCALIDAD</th>\n",
       "      <th>ESTRATIFICACIÓN</th>\n",
       "      <th>PROGRAMA</th>\n",
       "      <th>COMPONENTE</th>\n",
       "      <th>SUBCOMPONENTE</th>\n",
       "      <th>PRODUCTO</th>\n",
       "      <th>FECHA</th>\n",
       "      <th>MONTO FEDERAL</th>\n",
       "      <th>APOYO</th>\n",
       "      <th>ACTIVIDAD</th>\n",
       "      <th>ESLABÓN</th>\n",
       "      <th>CICLO AGRÍCOLA</th>\n",
       "    </tr>\n",
       "  </thead>\n",
       "  <tbody>\n",
       "    <tr>\n",
       "      <th>0</th>\n",
       "      <td>ABAC NERI JESUS CARLOS</td>\n",
       "      <td>CENTRO PAÍS</td>\n",
       "      <td>GUERRERO</td>\n",
       "      <td>COYUCA DE BENÍTEZ</td>\n",
       "      <td>PUEBLO VIEJO</td>\n",
       "      <td>Alto</td>\n",
       "      <td>FERTILIZANTES</td>\n",
       "      <td>FERTILIZANTES</td>\n",
       "      <td>FERTILIZANTES</td>\n",
       "      <td>Cultivo de maíz grano blanco</td>\n",
       "      <td>2022-06-26</td>\n",
       "      <td>12244.18</td>\n",
       "      <td>Fertilizantes</td>\n",
       "      <td>AGRARIA</td>\n",
       "      <td>AGRARIA</td>\n",
       "      <td>PV2022</td>\n",
       "    </tr>\n",
       "    <tr>\n",
       "      <th>1</th>\n",
       "      <td>ABAD ALARCON ELIAZAR</td>\n",
       "      <td>CENTRO PAÍS</td>\n",
       "      <td>GUERRERO</td>\n",
       "      <td>COYUCA DE BENÍTEZ</td>\n",
       "      <td>PUEBLO VIEJO</td>\n",
       "      <td>Alto</td>\n",
       "      <td>FERTILIZANTES</td>\n",
       "      <td>FERTILIZANTES</td>\n",
       "      <td>FERTILIZANTES</td>\n",
       "      <td>Cultivo de maíz grano blanco</td>\n",
       "      <td>2022-06-26</td>\n",
       "      <td>6122.09</td>\n",
       "      <td>Fertilizantes</td>\n",
       "      <td>AGRARIA</td>\n",
       "      <td>AGRARIA</td>\n",
       "      <td>PV2022</td>\n",
       "    </tr>\n",
       "    <tr>\n",
       "      <th>2</th>\n",
       "      <td>ABAD ALARCON EZEQUIEL</td>\n",
       "      <td>CENTRO PAÍS</td>\n",
       "      <td>GUERRERO</td>\n",
       "      <td>COYUCA DE BENÍTEZ</td>\n",
       "      <td>AGUA ZARCA</td>\n",
       "      <td>Alto</td>\n",
       "      <td>FERTILIZANTES</td>\n",
       "      <td>FERTILIZANTES</td>\n",
       "      <td>FERTILIZANTES</td>\n",
       "      <td>Cultivo de maíz grano blanco</td>\n",
       "      <td>2022-07-12</td>\n",
       "      <td>12244.18</td>\n",
       "      <td>Fertilizantes</td>\n",
       "      <td>AGRARIA</td>\n",
       "      <td>AGRARIA</td>\n",
       "      <td>PV2022</td>\n",
       "    </tr>\n",
       "    <tr>\n",
       "      <th>3</th>\n",
       "      <td>ABAD ALARCON FULGENCIO</td>\n",
       "      <td>CENTRO PAÍS</td>\n",
       "      <td>GUERRERO</td>\n",
       "      <td>COYUCA DE BENÍTEZ</td>\n",
       "      <td>AGUA ZARCA</td>\n",
       "      <td>Alto</td>\n",
       "      <td>FERTILIZANTES</td>\n",
       "      <td>FERTILIZANTES</td>\n",
       "      <td>FERTILIZANTES</td>\n",
       "      <td>Cultivo de maíz grano blanco</td>\n",
       "      <td>2022-07-12</td>\n",
       "      <td>12244.18</td>\n",
       "      <td>Fertilizantes</td>\n",
       "      <td>AGRARIA</td>\n",
       "      <td>AGRARIA</td>\n",
       "      <td>PV2022</td>\n",
       "    </tr>\n",
       "    <tr>\n",
       "      <th>4</th>\n",
       "      <td>ABAD ALARCON ROMALDA</td>\n",
       "      <td>CENTRO PAÍS</td>\n",
       "      <td>GUERRERO</td>\n",
       "      <td>COYUCA DE BENÍTEZ</td>\n",
       "      <td>YERBASANTITA</td>\n",
       "      <td>Alto</td>\n",
       "      <td>FERTILIZANTES</td>\n",
       "      <td>FERTILIZANTES</td>\n",
       "      <td>FERTILIZANTES</td>\n",
       "      <td>Cultivo de maíz grano blanco</td>\n",
       "      <td>2022-06-20</td>\n",
       "      <td>12244.18</td>\n",
       "      <td>Fertilizantes</td>\n",
       "      <td>AGRARIA</td>\n",
       "      <td>AGRARIA</td>\n",
       "      <td>PV2022</td>\n",
       "    </tr>\n",
       "  </tbody>\n",
       "</table>\n",
       "</div>"
      ],
      "text/plain": [
       "              BENEFICIARIO         ZONA   ENTIDAD          MUNICIPIO  \\\n",
       "0  ABAC NERI JESUS CARLOS   CENTRO PAÍS  GUERRERO  COYUCA DE BENÍTEZ   \n",
       "1    ABAD ALARCON ELIAZAR   CENTRO PAÍS  GUERRERO  COYUCA DE BENÍTEZ   \n",
       "2   ABAD ALARCON EZEQUIEL   CENTRO PAÍS  GUERRERO  COYUCA DE BENÍTEZ   \n",
       "3  ABAD ALARCON FULGENCIO   CENTRO PAÍS  GUERRERO  COYUCA DE BENÍTEZ   \n",
       "4    ABAD ALARCON ROMALDA   CENTRO PAÍS  GUERRERO  COYUCA DE BENÍTEZ   \n",
       "\n",
       "      LOCALIDAD ESTRATIFICACIÓN       PROGRAMA     COMPONENTE  SUBCOMPONENTE  \\\n",
       "0  PUEBLO VIEJO            Alto  FERTILIZANTES  FERTILIZANTES  FERTILIZANTES   \n",
       "1  PUEBLO VIEJO            Alto  FERTILIZANTES  FERTILIZANTES  FERTILIZANTES   \n",
       "2    AGUA ZARCA            Alto  FERTILIZANTES  FERTILIZANTES  FERTILIZANTES   \n",
       "3    AGUA ZARCA            Alto  FERTILIZANTES  FERTILIZANTES  FERTILIZANTES   \n",
       "4  YERBASANTITA            Alto  FERTILIZANTES  FERTILIZANTES  FERTILIZANTES   \n",
       "\n",
       "                       PRODUCTO       FECHA  MONTO FEDERAL          APOYO  \\\n",
       "0  Cultivo de maíz grano blanco  2022-06-26       12244.18  Fertilizantes   \n",
       "1  Cultivo de maíz grano blanco  2022-06-26        6122.09  Fertilizantes   \n",
       "2  Cultivo de maíz grano blanco  2022-07-12       12244.18  Fertilizantes   \n",
       "3  Cultivo de maíz grano blanco  2022-07-12       12244.18  Fertilizantes   \n",
       "4  Cultivo de maíz grano blanco  2022-06-20       12244.18  Fertilizantes   \n",
       "\n",
       "  ACTIVIDAD  ESLABÓN CICLO AGRÍCOLA  \n",
       "0   AGRARIA  AGRARIA         PV2022  \n",
       "1   AGRARIA  AGRARIA         PV2022  \n",
       "2   AGRARIA  AGRARIA         PV2022  \n",
       "3   AGRARIA  AGRARIA         PV2022  \n",
       "4   AGRARIA  AGRARIA         PV2022  "
      ]
     },
     "execution_count": 40,
     "metadata": {},
     "output_type": "execute_result"
    }
   ],
   "source": [
    "print(f\"Columnas: {listado_beneficiarios.columns}\")\n",
    "listado_beneficiarios.head()"
   ]
  },
  {
   "cell_type": "code",
   "execution_count": 41,
   "id": "7bb76044",
   "metadata": {},
   "outputs": [
    {
     "data": {
      "image/png": "[encoded data removed]",
      "text/plain": [
       "<Figure size 1000x800 with 1 Axes>"
      ]
     },
     "metadata": {},
     "output_type": "display_data"
    }
   ],
   "source": [
    "agrupado = listado_beneficiarios.groupby('ENTIDAD').agg({'MUNICIPIO': pd.Series.nunique, 'LOCALIDAD': pd.Series.nunique}).reset_index()\n",
    "\n",
    "# Renombrar columnas para claridad\n",
    "agrupado.columns = ['Entidad', 'Número de Municipios', 'Número de Localidades']\n",
    "\n",
    "# Graficar\n",
    "fig, ax = plt.subplots(figsize=(10, 8))\n",
    "agrupado.plot(kind='bar', x='Entidad', y=['Número de Municipios', 'Número de Localidades'], ax=ax)\n",
    "plt.title('Número de Municipios y Localidades por Entidad de Beneficiarios')\n",
    "plt.xlabel('Entidad')\n",
    "plt.ylabel('Número')\n",
    "plt.xticks(rotation=45, ha=\"right\")\n",
    "plt.legend(title='Categoría')\n",
    "plt.tight_layout()\n",
    "\n",
    "plt.show()"
   ]
  },
  {
   "cell_type": "code",
   "execution_count": 43,
   "id": "63d92dae",
   "metadata": {},
   "outputs": [
    {
     "data": {
      "text/plain": [
       "(13220, 8)"
      ]
     },
     "execution_count": 43,
     "metadata": {},
     "output_type": "execute_result"
    }
   ],
   "source": [
    "# Obtenemos las localidades únicas en el dataset.\n",
    "Localidades_19_22 = listado_beneficiarios[['ENTIDAD', 'MUNICIPIO', 'LOCALIDAD']]\n",
    "Localidades_19_22 = Localidades_19_22.drop_duplicates()\n",
    "\n",
    "# Estandarizamos la limpieza de los datos\n",
    "Localidades_19_22['ENTIDAD_c_benef'] = Localidades_19_22['ENTIDAD'].apply(clean_text)\n",
    "Localidades_19_22['MUNICIPIO_c_benef'] = Localidades_19_22['MUNICIPIO'].apply(clean_text)\n",
    "Localidades_19_22['LOCALIDAD_c_benef'] = Localidades_19_22['LOCALIDAD'].apply(clean_text)\n",
    "\n",
    "# Creamos las dos keys de beneficiarios \n",
    "Localidades_19_22['KEY_benef_mun'] = Localidades_19_22['ENTIDAD_c_benef'].astype(str) + '-' + Localidades_19_22[\n",
    "    'MUNICIPIO_c_benef'].astype(str)\n",
    "\n",
    "Localidades_19_22['KEY_benef_loc'] = Localidades_19_22['ENTIDAD_c_benef'].astype(str) + '-' + Localidades_19_22[\n",
    "    'MUNICIPIO_c_benef'].astype(str) + '-' + Localidades_19_22['LOCALIDAD_c_benef'].astype(str)\n",
    "\n",
    "Localidades_19_22.shape"
   ]
  },
  {
   "cell_type": "code",
   "execution_count": null,
   "id": "08298066",
   "metadata": {},
   "outputs": [],
   "source": [
    "# Valores únicos y la cantidad de cada columna\n",
    "# Obtener estadísticas descriptivas para todas las variables\n",
    "\n",
    "descriptive_stats = Localidades_19_22.describe(include='all').transpose()\n",
    "\n",
    "# Mostrar las estadísticas descriptivas\n",
    "print(descriptive_stats)"
   ]
  },
  {
   "cell_type": "code",
   "execution_count": 46,
   "id": "fed1bfce",
   "metadata": {},
   "outputs": [
    {
     "data": {
      "text/plain": [
       "(1034, 5)"
      ]
     },
     "execution_count": 46,
     "metadata": {},
     "output_type": "execute_result"
    }
   ],
   "source": [
    "# Obtenemos las localidades únicas en el dataset.\n",
    "Municipios_19_22 = listado_beneficiarios[['ENTIDAD', 'MUNICIPIO']]\n",
    "Municipios_19_22 = Municipios_19_22.drop_duplicates()\n",
    "\n",
    "# Estandarizamos la limpieza de los datos\n",
    "Municipios_19_22['ENTIDAD_c_benef'] = Municipios_19_22['ENTIDAD'].apply(clean_text)\n",
    "Municipios_19_22['MUNICIPIO_c_benef'] = Municipios_19_22['MUNICIPIO'].apply(clean_text)\n",
    "\n",
    "# Creamos las dos keys de beneficiarios \n",
    "Municipios_19_22['KEY_benef_mun'] = Municipios_19_22['ENTIDAD_c_benef'].astype(str) + '-' + Municipios_19_22[\n",
    "    'MUNICIPIO_c_benef'].astype(str)\n",
    "\n",
    "Municipios_19_22.shape"
   ]
  },
  {
   "cell_type": "code",
   "execution_count": null,
   "id": "587daf0c",
   "metadata": {},
   "outputs": [],
   "source": [
    "# Valores únicos y la cantidad de cada columna\n",
    "# Obtener estadísticas descriptivas para todas las variables\n",
    "\n",
    "descriptive_stats = Municipios_19_22.describe(include='all').transpose()\n",
    "\n",
    "# Mostrar las estadísticas descriptivas\n",
    "print(descriptive_stats)"
   ]
  },
  {
   "cell_type": "code",
   "execution_count": null,
   "id": "433e81bd",
   "metadata": {},
   "outputs": [],
   "source": [
    "unique_entidad_list_benef = Localidades_19_22['ESTADO_c_benef'].unique().tolist()\n",
    "print(unique_entidad_list_benef)"
   ]
  },
  {
   "cell_type": "code",
   "execution_count": null,
   "id": "5496a82d",
   "metadata": {},
   "outputs": [],
   "source": [
    "# Quitamos las filas de nacional.\n",
    "Localidades_19_22 = Localidades_19_22[Localidades_19_22[\"ESTADO_c_benef\"] != \"nacional\"]\n",
    "Localidades_19_22.shape"
   ]
  },
  {
   "cell_type": "markdown",
   "id": "9b99291631d5d3b1",
   "metadata": {},
   "source": [
    "### 1.2 INEGI 2022\n",
    "\n",
    "Obtener listado único de municipios y listado único de localidades de inegi 2022 con sus claves."
   ]
  },
  {
   "cell_type": "code",
   "execution_count": 3,
   "id": "4eb87f07",
   "metadata": {},
   "outputs": [],
   "source": [
    "path_dataset_inegi_2022 = '../../data/dataset_inegi_2022.csv'\n",
    "#dataset_inegi_clean = pd.read_csv(path_dataset_inegi_2022, encoding='utf-8', dtype={'CVE_ENT': str, 'CVE_MUN': str, 'CVE_LOC': str})\n",
    "dataset_inegi_2022 = pd.read_csv(path_dataset_inegi_2022)"
   ]
  },
  {
   "cell_type": "code",
   "execution_count": 4,
   "id": "eaa613da",
   "metadata": {},
   "outputs": [
    {
     "data": {
      "text/plain": [
       "Index(['MAPA', 'Estatus', 'CVE_ENT', 'NOM_ENT', 'NOM_ABR', 'CVE_MUN',\n",
       "       'NOM_MUN', 'CVE_LOC', 'NOM_LOC', 'AMBITO', 'LATITUD', 'LONGITUD',\n",
       "       'LAT_DECIMAL', 'LON_DECIMAL', 'ALTITUD', 'CVE_CARTA', 'POB_TOTAL',\n",
       "       'POB_MASCULINA', 'POB_FEMENINA', 'TOTAL DE VIVIENDAS HABITADAS'],\n",
       "      dtype='object')"
      ]
     },
     "execution_count": 4,
     "metadata": {},
     "output_type": "execute_result"
    }
   ],
   "source": [
    "dataset_inegi_2022.columns"
   ]
  },
  {
   "cell_type": "code",
   "execution_count": 5,
   "id": "d95eb7de",
   "metadata": {},
   "outputs": [],
   "source": [
    "# Eliminamos las columnas que no son de interés\n",
    "COLUMNS_TO_DROP = ['MAPA', 'Estatus', 'NOM_ABR', 'AMBITO', 'LATITUD', 'LONGITUD',\n",
    "                   'LAT_DECIMAL', 'LON_DECIMAL', 'ALTITUD', 'CVE_CARTA', 'POB_TOTAL',\n",
    "                   'POB_MASCULINA', 'POB_FEMENINA', 'TOTAL DE VIVIENDAS HABITADAS']\n",
    "dataset_inegi_2022 = dataset_inegi_2022.drop(COLUMNS_TO_DROP, axis=1)"
   ]
  },
  {
   "cell_type": "code",
   "execution_count": 6,
   "id": "ac04697f",
   "metadata": {},
   "outputs": [
    {
     "data": {
      "text/plain": [
       "(300240, 6)"
      ]
     },
     "execution_count": 6,
     "metadata": {},
     "output_type": "execute_result"
    }
   ],
   "source": [
    "dataset_inegi_2022.columns\n",
    "dataset_inegi_2022.shape\n",
    "#dataset_inegi_2022.drop_duplicates()"
   ]
  },
  {
   "cell_type": "code",
   "execution_count": 10,
   "id": "8bf79e67",
   "metadata": {},
   "outputs": [
    {
     "data": {
      "text/html": [
       "<div>\n",
       "<style scoped>\n",
       "    .dataframe tbody tr th:only-of-type {\n",
       "        vertical-align: middle;\n",
       "    }\n",
       "\n",
       "    .dataframe tbody tr th {\n",
       "        vertical-align: top;\n",
       "    }\n",
       "\n",
       "    .dataframe thead th {\n",
       "        text-align: right;\n",
       "    }\n",
       "</style>\n",
       "<table border=\"1\" class=\"dataframe\">\n",
       "  <thead>\n",
       "    <tr style=\"text-align: right;\">\n",
       "      <th></th>\n",
       "      <th>CVE_ENT</th>\n",
       "      <th>NOM_ENT</th>\n",
       "      <th>CVE_MUN</th>\n",
       "      <th>NOM_MUN</th>\n",
       "      <th>CVE_LOC</th>\n",
       "      <th>NOM_LOC</th>\n",
       "    </tr>\n",
       "  </thead>\n",
       "  <tbody>\n",
       "    <tr>\n",
       "      <th>0</th>\n",
       "      <td>1</td>\n",
       "      <td>Aguascalientes</td>\n",
       "      <td>1</td>\n",
       "      <td>Aguascalientes</td>\n",
       "      <td>1</td>\n",
       "      <td>Aguascalientes</td>\n",
       "    </tr>\n",
       "    <tr>\n",
       "      <th>1</th>\n",
       "      <td>1</td>\n",
       "      <td>Aguascalientes</td>\n",
       "      <td>1</td>\n",
       "      <td>Aguascalientes</td>\n",
       "      <td>94</td>\n",
       "      <td>Granja Adelita</td>\n",
       "    </tr>\n",
       "    <tr>\n",
       "      <th>2</th>\n",
       "      <td>1</td>\n",
       "      <td>Aguascalientes</td>\n",
       "      <td>1</td>\n",
       "      <td>Aguascalientes</td>\n",
       "      <td>96</td>\n",
       "      <td>Agua Azul</td>\n",
       "    </tr>\n",
       "    <tr>\n",
       "      <th>3</th>\n",
       "      <td>1</td>\n",
       "      <td>Aguascalientes</td>\n",
       "      <td>1</td>\n",
       "      <td>Aguascalientes</td>\n",
       "      <td>100</td>\n",
       "      <td>Rancho Alegre</td>\n",
       "    </tr>\n",
       "    <tr>\n",
       "      <th>4</th>\n",
       "      <td>1</td>\n",
       "      <td>Aguascalientes</td>\n",
       "      <td>1</td>\n",
       "      <td>Aguascalientes</td>\n",
       "      <td>102</td>\n",
       "      <td>Los Arbolitos [Rancho]</td>\n",
       "    </tr>\n",
       "  </tbody>\n",
       "</table>\n",
       "</div>"
      ],
      "text/plain": [
       "   CVE_ENT         NOM_ENT  CVE_MUN         NOM_MUN  CVE_LOC  \\\n",
       "0        1  Aguascalientes        1  Aguascalientes        1   \n",
       "1        1  Aguascalientes        1  Aguascalientes       94   \n",
       "2        1  Aguascalientes        1  Aguascalientes       96   \n",
       "3        1  Aguascalientes        1  Aguascalientes      100   \n",
       "4        1  Aguascalientes        1  Aguascalientes      102   \n",
       "\n",
       "                  NOM_LOC  \n",
       "0          Aguascalientes  \n",
       "1          Granja Adelita  \n",
       "2               Agua Azul  \n",
       "3           Rancho Alegre  \n",
       "4  Los Arbolitos [Rancho]  "
      ]
     },
     "execution_count": 10,
     "metadata": {},
     "output_type": "execute_result"
    }
   ],
   "source": [
    "dataset_inegi_2022.drop_duplicates()\n",
    "dataset_inegi_2022_clean = dataset_inegi_2022\n",
    "dataset_inegi_2022_clean.head()"
   ]
  },
  {
   "cell_type": "code",
   "execution_count": 13,
   "id": "4c5d1d7a",
   "metadata": {},
   "outputs": [],
   "source": [
    "# Creamos una columna con la clave única por municipio y por localidad\n",
    "# ceamos dataset_inegi_2022_clean\n",
    "\n",
    "dataset_inegi_2022_clean['ENT_c_inegi'] = dataset_inegi_2022['NOM_ENT'].apply(clean_text)\n",
    "dataset_inegi_2022_clean['MUN_c_inegi'] = dataset_inegi_2022['NOM_MUN'].apply(clean_text)\n",
    "dataset_inegi_2022_clean['LOC_c_inegi'] = dataset_inegi_2022['NOM_LOC'].apply(clean_text)\n",
    "\n",
    "dataset_inegi_2022_clean['KEY_inegi_municipio'] = dataset_inegi_2022_clean['ENT_c_inegi'].astype(str) + '-' + dataset_inegi_2022_clean[\n",
    "    'MUN_c_inegi'].astype(str) \n",
    "\n",
    "dataset_inegi_2022_clean['KEY_inegi_localidad'] = dataset_inegi_2022_clean['ENT_c_inegi'].astype(str) + '-' + dataset_inegi_2022_clean[\n",
    "    'MUN_c_inegi'].astype(str) + '-' + dataset_inegi_2022_clean['LOC_c_inegi'].astype(str) "
   ]
  },
  {
   "cell_type": "code",
   "execution_count": 14,
   "id": "f217ea4e",
   "metadata": {},
   "outputs": [
    {
     "data": {
      "text/html": [
       "<div>\n",
       "<style scoped>\n",
       "    .dataframe tbody tr th:only-of-type {\n",
       "        vertical-align: middle;\n",
       "    }\n",
       "\n",
       "    .dataframe tbody tr th {\n",
       "        vertical-align: top;\n",
       "    }\n",
       "\n",
       "    .dataframe thead th {\n",
       "        text-align: right;\n",
       "    }\n",
       "</style>\n",
       "<table border=\"1\" class=\"dataframe\">\n",
       "  <thead>\n",
       "    <tr style=\"text-align: right;\">\n",
       "      <th></th>\n",
       "      <th>CVE_ENT</th>\n",
       "      <th>NOM_ENT</th>\n",
       "      <th>CVE_MUN</th>\n",
       "      <th>NOM_MUN</th>\n",
       "      <th>CVE_LOC</th>\n",
       "      <th>NOM_LOC</th>\n",
       "      <th>ENT_c_inegi</th>\n",
       "      <th>MUN_c_inegi</th>\n",
       "      <th>LOC_c_inegi</th>\n",
       "      <th>KEY_inegi_municipio</th>\n",
       "      <th>KEY_inegi_localidad</th>\n",
       "    </tr>\n",
       "  </thead>\n",
       "  <tbody>\n",
       "    <tr>\n",
       "      <th>0</th>\n",
       "      <td>1</td>\n",
       "      <td>Aguascalientes</td>\n",
       "      <td>1</td>\n",
       "      <td>Aguascalientes</td>\n",
       "      <td>1</td>\n",
       "      <td>Aguascalientes</td>\n",
       "      <td>aguascalientes</td>\n",
       "      <td>aguascalientes</td>\n",
       "      <td>aguascalientes</td>\n",
       "      <td>aguascalientes-aguascalientes</td>\n",
       "      <td>aguascalientes-aguascalientes-aguascalientes</td>\n",
       "    </tr>\n",
       "    <tr>\n",
       "      <th>1</th>\n",
       "      <td>1</td>\n",
       "      <td>Aguascalientes</td>\n",
       "      <td>1</td>\n",
       "      <td>Aguascalientes</td>\n",
       "      <td>94</td>\n",
       "      <td>Granja Adelita</td>\n",
       "      <td>aguascalientes</td>\n",
       "      <td>aguascalientes</td>\n",
       "      <td>granja adelita</td>\n",
       "      <td>aguascalientes-aguascalientes</td>\n",
       "      <td>aguascalientes-aguascalientes-granja adelita</td>\n",
       "    </tr>\n",
       "    <tr>\n",
       "      <th>2</th>\n",
       "      <td>1</td>\n",
       "      <td>Aguascalientes</td>\n",
       "      <td>1</td>\n",
       "      <td>Aguascalientes</td>\n",
       "      <td>96</td>\n",
       "      <td>Agua Azul</td>\n",
       "      <td>aguascalientes</td>\n",
       "      <td>aguascalientes</td>\n",
       "      <td>agua azul</td>\n",
       "      <td>aguascalientes-aguascalientes</td>\n",
       "      <td>aguascalientes-aguascalientes-agua azul</td>\n",
       "    </tr>\n",
       "    <tr>\n",
       "      <th>3</th>\n",
       "      <td>1</td>\n",
       "      <td>Aguascalientes</td>\n",
       "      <td>1</td>\n",
       "      <td>Aguascalientes</td>\n",
       "      <td>100</td>\n",
       "      <td>Rancho Alegre</td>\n",
       "      <td>aguascalientes</td>\n",
       "      <td>aguascalientes</td>\n",
       "      <td>rancho alegre</td>\n",
       "      <td>aguascalientes-aguascalientes</td>\n",
       "      <td>aguascalientes-aguascalientes-rancho alegre</td>\n",
       "    </tr>\n",
       "    <tr>\n",
       "      <th>4</th>\n",
       "      <td>1</td>\n",
       "      <td>Aguascalientes</td>\n",
       "      <td>1</td>\n",
       "      <td>Aguascalientes</td>\n",
       "      <td>102</td>\n",
       "      <td>Los Arbolitos [Rancho]</td>\n",
       "      <td>aguascalientes</td>\n",
       "      <td>aguascalientes</td>\n",
       "      <td>los arbolitos [rancho]</td>\n",
       "      <td>aguascalientes-aguascalientes</td>\n",
       "      <td>aguascalientes-aguascalientes-los arbolitos [r...</td>\n",
       "    </tr>\n",
       "  </tbody>\n",
       "</table>\n",
       "</div>"
      ],
      "text/plain": [
       "   CVE_ENT         NOM_ENT  CVE_MUN         NOM_MUN  CVE_LOC  \\\n",
       "0        1  Aguascalientes        1  Aguascalientes        1   \n",
       "1        1  Aguascalientes        1  Aguascalientes       94   \n",
       "2        1  Aguascalientes        1  Aguascalientes       96   \n",
       "3        1  Aguascalientes        1  Aguascalientes      100   \n",
       "4        1  Aguascalientes        1  Aguascalientes      102   \n",
       "\n",
       "                  NOM_LOC     ENT_c_inegi     MUN_c_inegi  \\\n",
       "0          Aguascalientes  aguascalientes  aguascalientes   \n",
       "1          Granja Adelita  aguascalientes  aguascalientes   \n",
       "2               Agua Azul  aguascalientes  aguascalientes   \n",
       "3           Rancho Alegre  aguascalientes  aguascalientes   \n",
       "4  Los Arbolitos [Rancho]  aguascalientes  aguascalientes   \n",
       "\n",
       "              LOC_c_inegi            KEY_inegi_municipio  \\\n",
       "0          aguascalientes  aguascalientes-aguascalientes   \n",
       "1          granja adelita  aguascalientes-aguascalientes   \n",
       "2               agua azul  aguascalientes-aguascalientes   \n",
       "3           rancho alegre  aguascalientes-aguascalientes   \n",
       "4  los arbolitos [rancho]  aguascalientes-aguascalientes   \n",
       "\n",
       "                                 KEY_inegi_localidad  \n",
       "0       aguascalientes-aguascalientes-aguascalientes  \n",
       "1       aguascalientes-aguascalientes-granja adelita  \n",
       "2            aguascalientes-aguascalientes-agua azul  \n",
       "3        aguascalientes-aguascalientes-rancho alegre  \n",
       "4  aguascalientes-aguascalientes-los arbolitos [r...  "
      ]
     },
     "execution_count": 14,
     "metadata": {},
     "output_type": "execute_result"
    }
   ],
   "source": [
    "dataset_inegi_2022_clean.head()"
   ]
  },
  {
   "cell_type": "code",
   "execution_count": 17,
   "id": "d94ee123",
   "metadata": {},
   "outputs": [
    {
     "data": {
      "text/plain": [
       "Index(['CVE_ENT', 'NOM_ENT', 'CVE_MUN', 'NOM_MUN', 'CVE_LOC', 'NOM_LOC',\n",
       "       'ENT_c_inegi', 'MUN_c_inegi', 'LOC_c_inegi', 'KEY_inegi_municipio',\n",
       "       'KEY_inegi_localidad'],\n",
       "      dtype='object')"
      ]
     },
     "execution_count": 17,
     "metadata": {},
     "output_type": "execute_result"
    }
   ],
   "source": [
    "dataset_inegi_2022_clean.columns"
   ]
  },
  {
   "cell_type": "code",
   "execution_count": 29,
   "id": "fdd5bd8b",
   "metadata": {},
   "outputs": [],
   "source": [
    "# Creamos un dataset de municipios únicos INEGI_UNIQUEMUN_2022\n",
    "\n",
    "INEGI_UNIQUEMUN_2022 = dataset_inegi_2022_clean.drop(columns=[\"CVE_LOC\", \"NOM_LOC\", \"LOC_c_inegi\", \"KEY_inegi_localidad\"])\n",
    "\n",
    "INEGI_UNIQUEMUN_2022 = INEGI_UNIQUEMUN_2022.drop_duplicates()"
   ]
  },
  {
   "cell_type": "code",
   "execution_count": 30,
   "id": "53f20643",
   "metadata": {},
   "outputs": [
    {
     "data": {
      "text/plain": [
       "(2475, 7)"
      ]
     },
     "execution_count": 30,
     "metadata": {},
     "output_type": "execute_result"
    }
   ],
   "source": [
    "INEGI_UNIQUEMUN_2022.shape"
   ]
  },
  {
   "cell_type": "code",
   "execution_count": 31,
   "id": "446d5add",
   "metadata": {},
   "outputs": [],
   "source": [
    "# Creamos un dataset de localidades únicas INEGI_UNIQUELOC_2022\n",
    "INEGI_UNIQUELOC_2022 = dataset_inegi_2022_clean\n",
    "\n",
    "INEGI_UNIQUELOC_2022 = INEGI_UNIQUELOC_2022.drop_duplicates()"
   ]
  },
  {
   "cell_type": "code",
   "execution_count": 33,
   "id": "28de5e1d",
   "metadata": {},
   "outputs": [
    {
     "data": {
      "text/plain": [
       "(300240, 11)"
      ]
     },
     "execution_count": 33,
     "metadata": {},
     "output_type": "execute_result"
    }
   ],
   "source": [
    "INEGI_UNIQUELOC_2022.shape"
   ]
  },
  {
   "cell_type": "code",
   "execution_count": null,
   "id": "646f9060",
   "metadata": {},
   "outputs": [],
   "source": [
    "\"\"\"\n",
    "dataset_inegi_chiapas = dataset_inegi_uniqueloc[dataset_inegi_uniqueloc['Entidad_c_inegi'] == 'chiapas']\n",
    "dataset_inegi_durango = dataset_inegi_uniqueloc[dataset_inegi_uniqueloc['Entidad_c_inegi'] == 'durango']\n",
    "dataset_inegi_guerrero = dataset_inegi_uniqueloc[dataset_inegi_uniqueloc['Entidad_c_inegi'] == 'guerrero']\n",
    "dataset_inegi_morelos = dataset_inegi_uniqueloc[dataset_inegi_uniqueloc['Entidad_c_inegi'] == 'morelos']\n",
    "dataset_inegi_nayarit = dataset_inegi_uniqueloc[dataset_inegi_uniqueloc['Entidad_c_inegi'] == 'nayarit']\n",
    "dataset_inegi_oaxaca = dataset_inegi_uniqueloc[dataset_inegi_uniqueloc['Entidad_c_inegi'] == 'oaxaca']\n",
    "dataset_inegi_puebla = dataset_inegi_uniqueloc[dataset_inegi_uniqueloc['Entidad_c_inegi'] == 'puebla']\n",
    "dataset_inegi_tlaxcala = dataset_inegi_uniqueloc[dataset_inegi_uniqueloc['Entidad_c_inegi'] == 'tlaxcala']\n",
    "dataset_inegi_zacatecas = dataset_inegi_uniqueloc[dataset_inegi_uniqueloc['Entidad_c_inegi'] == 'zacatecas']\n",
    "\"\"\""
   ]
  },
  {
   "cell_type": "markdown",
   "id": "daa9f974cc33efa1",
   "metadata": {},
   "source": [
    "# 3. Diccionario de los datasets de INEGI Y LISTADO BENEFICIARIOS 2023\n",
    "\n",
    "El objetivo de esta sección es crear dos diccionarios de códigos según BENEFICIARIOS-MUNICIPIOS_INEGI y otro BENEFICIARIOS-LOCALIDADES_INEGI. \n",
    "\n",
    "Para ello haremos un Left join entre Localidades_19_22 y el dataset de INENI correspondiente."
   ]
  },
  {
   "cell_type": "markdown",
   "id": "ce912939",
   "metadata": {},
   "source": [
    "### 3.1 DICCIONARIO BENEFICIARIOS-MUNICIPIOS_INEGI"
   ]
  },
  {
   "cell_type": "code",
   "execution_count": null,
   "id": "ad6eaef8",
   "metadata": {},
   "outputs": [],
   "source": [
    "# Crear una función para encontrar la mejor coincidencia difusa con límites entre 85 y 100 de coincidencia\n",
    "def fuzzy_merge_benef2019_2022(df_benef, df_inegi, key1, key2, threshold=85, limit=1):\n",
    "    \"\"\"\n",
    "    df_inegi: DataFrame de la izquierda (el DataFrame principal)\n",
    "    df_prod: DataFrame de la derecha (el DataFrame con el que se quiere hacer el join)\n",
    "    key1: Columna de la clave en df_inegi\n",
    "    key2: Columna de la clave en df_prod\n",
    "    threshold: Umbral de coincidencia difusa\n",
    "    limit: Número de coincidencias a encontrar\n",
    "    \"\"\"\n",
    "    s = df_inegi[key2].tolist()\n",
    "    \n",
    "    # Encontrar las mejores coincidencias para cada clave en df_inegi\n",
    "    matches = df_benef[key1].apply(lambda x: process.extractOne(x, s, score_cutoff=threshold))\n",
    "\n",
    "\n",
    "    # Crear una columna con las mejores coincidencias\n",
    "    df_benef['best_match'] = [match[0] if match else None for match in matches]\n",
    "    \n",
    "    df_benef['match_score'] = [match[1] if match else None for match in matches]\n",
    "    \n",
    "\n",
    "    # Hacer el merge con las mejores coincidencias\n",
    "    df_merged = pd.merge(df_benef, df_inegi, left_on='best_match', right_on=key2, how='left',\n",
    "                         suffixes=('_benef', '_inegi'))\n",
    "    \n",
    "    return df_merged"
   ]
  },
  {
   "cell_type": "code",
   "execution_count": null,
   "id": "b580ddb9",
   "metadata": {},
   "outputs": [],
   "source": [
    "dataset_inegi_uniquemun.head()"
   ]
  },
  {
   "cell_type": "code",
   "execution_count": null,
   "id": "6d0832e6",
   "metadata": {},
   "outputs": [],
   "source": [
    "Localidades_19_22.head()"
   ]
  },
  {
   "cell_type": "code",
   "execution_count": null,
   "id": "cb5e4607",
   "metadata": {},
   "outputs": [],
   "source": [
    "Localidades_19_22.columns"
   ]
  },
  {
   "cell_type": "code",
   "execution_count": null,
   "id": "9b9505ea",
   "metadata": {},
   "outputs": [],
   "source": [
    "Localidades_19_22_MUN = Localidades_19_22.drop(columns=[\"LOCALIDAD\", \"LOCALIDAD_c_benef\", \"KEY_benef_loc\"])\n",
    "\n",
    "Localidades_19_22_MUN = Localidades_19_22_MUN.drop_duplicates()\n",
    "Localidades_19_22_MUN.shape"
   ]
  },
  {
   "cell_type": "code",
   "execution_count": null,
   "id": "ef162063",
   "metadata": {},
   "outputs": [],
   "source": [
    "diccionario_MUN = fuzzy_merge_benef2019_2022(Localidades_19_22_MUN, dataset_inegi_uniquemun, 'KEY_benef_mun', 'KEY_inegi_municipio')\n",
    "diccionario_MUN.shape"
   ]
  },
  {
   "cell_type": "code",
   "execution_count": null,
   "id": "1726e454",
   "metadata": {},
   "outputs": [],
   "source": [
    "diccionario_MUN.columns"
   ]
  },
  {
   "cell_type": "code",
   "execution_count": null,
   "id": "7c7c78ef",
   "metadata": {},
   "outputs": [],
   "source": [
    "diccionario_MUN.drop(columns=['ENTIDAD', 'MUNICIPIO', 'ESTADO_c_benef', 'MUNICIPIO_c_benef', 'Entidad_c_inegi',\n",
    "       'Municipio_c_inegi'], inplace=True)"
   ]
  },
  {
   "cell_type": "code",
   "execution_count": null,
   "id": "e0f543a1",
   "metadata": {},
   "outputs": [],
   "source": [
    "diccionario_MUN.to_csv('../../data/productores_beneficiarios 2019-2022/diccionarios_E3/diccionario_MUN.csv', index=False)"
   ]
  },
  {
   "cell_type": "code",
   "execution_count": null,
   "id": "7d05ad84",
   "metadata": {},
   "outputs": [],
   "source": [
    "diccionario_MUN_E3_Manual = pd.read_csv(\"../../data/productores_beneficiarios 2019-2022/diccionarios_E3/diccionario_MUN_E3_INEGI_2022.csv\")"
   ]
  },
  {
   "cell_type": "markdown",
   "id": "7cef1780",
   "metadata": {},
   "source": [
    "Unimos las clave de Municipios"
   ]
  },
  {
   "cell_type": "code",
   "execution_count": null,
   "id": "e786cb14",
   "metadata": {},
   "outputs": [],
   "source": [
    "# Hacer el join de Municipios a Beneficiarios\n",
    "Localidades_19_22_PARTE_I = pd.merge(Localidades_19_22, diccionario_MUN_E3_Manual, left_on=\"KEY_benef_mun\",\n",
    "                                        right_on=\"best_match\", how='left', suffixes=('_benef', '_inegi'))"
   ]
  },
  {
   "cell_type": "code",
   "execution_count": null,
   "id": "38fe55a8",
   "metadata": {},
   "outputs": [],
   "source": [
    "Localidades_19_22_PARTE_I.columns"
   ]
  },
  {
   "cell_type": "code",
   "execution_count": null,
   "id": "f53afe34",
   "metadata": {},
   "outputs": [],
   "source": [
    "Localidades_19_22_PARTE_I.drop(columns=['KEY_benef_mun_benef', 'KEY_benef_mun_inegi', 'KEY_inegi_municipio', 'ESTADO_c_benef',\n",
    "       'MUNICIPIO_c_benef'], inplace=True)"
   ]
  },
  {
   "cell_type": "code",
   "execution_count": null,
   "id": "29d341e9",
   "metadata": {},
   "outputs": [],
   "source": [
    "Localidades_19_22_PARTE_I.head()"
   ]
  },
  {
   "cell_type": "code",
   "execution_count": null,
   "id": "e67ae64f",
   "metadata": {},
   "outputs": [],
   "source": [
    "Localidades_19_22_PARTE_I.columns"
   ]
  },
  {
   "cell_type": "markdown",
   "id": "00821f90",
   "metadata": {},
   "source": [
    "Ojo aquí sale un merge con 60 filas de más, seguramente relacionados Chiapas - Belisario Dominguez que matcheamos con Altamirano."
   ]
  },
  {
   "cell_type": "code",
   "execution_count": null,
   "id": "1978bd9c",
   "metadata": {},
   "outputs": [],
   "source": [
    "Localidades_19_22_PARTE_I.shape"
   ]
  },
  {
   "cell_type": "code",
   "execution_count": null,
   "id": "1d02f9b7",
   "metadata": {},
   "outputs": [],
   "source": [
    "Localidades_19_22.shape"
   ]
  },
  {
   "cell_type": "code",
   "execution_count": null,
   "id": "b413923a",
   "metadata": {},
   "outputs": [],
   "source": [
    "#Chunk para reducir el número d filas de inegi. REVISAR\n",
    "dataset_inegi_clean_filtered = dataset_inegi_clean[dataset_inegi_clean['Entidad_c_inegi'].isin(unique_entidad_list_benef)]\n",
    "\n",
    "unique_entidad_list_inegi = dataset_inegi_clean_filtered['Entidad_c_inegi'].unique().tolist()\n",
    "print(unique_entidad_list_inegi)"
   ]
  },
  {
   "cell_type": "markdown",
   "id": "870bb913",
   "metadata": {},
   "source": [
    "# 4. Join por entidad (Divide y Vencerás)"
   ]
  },
  {
   "cell_type": "markdown",
   "id": "73b5b1cc",
   "metadata": {},
   "source": [
    "## 4.1.1 Join de localidades - PUEBLA"
   ]
  },
  {
   "cell_type": "code",
   "execution_count": null,
   "id": "619e3175",
   "metadata": {},
   "outputs": [],
   "source": [
    "dataset_inegi_uniqueloc.columns"
   ]
  },
  {
   "cell_type": "code",
   "execution_count": null,
   "id": "389781fe",
   "metadata": {},
   "outputs": [],
   "source": [
    "Localidades_19_22_PUEBLA = Localidades_19_22_PARTE_I[Localidades_19_22_PARTE_I[\"ENTIDAD\"] == \"PUEBLA\"]\n",
    "\n",
    "dataset_inegi_uniqueloc_PUEBLA = dataset_inegi_uniqueloc[dataset_inegi_uniqueloc['Entidad_inegi'] == 'Puebla']"
   ]
  },
  {
   "cell_type": "code",
   "execution_count": null,
   "id": "33cd7925",
   "metadata": {},
   "outputs": [],
   "source": [
    "Localidades_19_22_PUEBLA = fuzzy_merge_benef2019_2022(Localidades_19_22_PUEBLA, dataset_inegi_uniqueloc_PUEBLA, 'KEY_benef_loc', 'KEY_inegi_localidad')\n",
    "Localidades_19_22_PUEBLA.shape"
   ]
  },
  {
   "cell_type": "markdown",
   "id": "b7716788",
   "metadata": {},
   "source": [
    "### 3.2.2 Join de localidades - CHIAPAS"
   ]
  },
  {
   "cell_type": "code",
   "execution_count": null,
   "id": "96fa0b2e",
   "metadata": {},
   "outputs": [],
   "source": [
    "Localidades_19_22_CHIAPAS = Localidades_19_22_PARTE_I[Localidades_19_22_PARTE_I[\"ENTIDAD\"] == \"CHIAPAS\"]\n",
    "\n",
    "dataset_inegi_uniqueloc_CHIAPAS = dataset_inegi_uniqueloc[dataset_inegi_uniqueloc['Entidad_inegi'] == 'Chiapas']"
   ]
  },
  {
   "cell_type": "code",
   "execution_count": null,
   "id": "ade611d9",
   "metadata": {},
   "outputs": [],
   "source": [
    "Localidades_19_22_CHIAPAS = fuzzy_merge_benef2019_2022(Localidades_19_22_CHIAPAS, dataset_inegi_uniqueloc_CHIAPAS, 'KEY_benef_loc', 'KEY_inegi_localidad')\n",
    "Localidades_19_22_CHIAPAS.shape"
   ]
  },
  {
   "cell_type": "markdown",
   "id": "ca2e2162",
   "metadata": {},
   "source": [
    "### 3.2.3 Join de localidades - DURANGO"
   ]
  },
  {
   "cell_type": "code",
   "execution_count": null,
   "id": "5f04e6fd",
   "metadata": {},
   "outputs": [],
   "source": [
    "Localidades_19_22_DURANGO = Localidades_19_22_PARTE_I[Localidades_19_22_PARTE_I[\"ENTIDAD\"] == \"DURANGO\"]\n",
    "\n",
    "dataset_inegi_uniqueloc_DURANGO = dataset_inegi_uniqueloc[dataset_inegi_uniqueloc['Entidad_inegi'] == 'Durango']"
   ]
  },
  {
   "cell_type": "code",
   "execution_count": null,
   "id": "4788509b",
   "metadata": {},
   "outputs": [],
   "source": [
    "Localidades_19_22_DURANGO = fuzzy_merge_benef2019_2022(Localidades_19_22_DURANGO, dataset_inegi_uniqueloc_DURANGO, 'KEY_benef_loc', 'KEY_inegi_localidad')\n",
    "Localidades_19_22_DURANGO.shape"
   ]
  },
  {
   "cell_type": "markdown",
   "id": "a5e78e90",
   "metadata": {},
   "source": [
    "### 3.2.4 Join de localidades - MORELOS"
   ]
  },
  {
   "cell_type": "code",
   "execution_count": null,
   "id": "37cc4f63",
   "metadata": {},
   "outputs": [],
   "source": [
    "Localidades_19_22_MORELOS = Localidades_19_22_PARTE_I[Localidades_19_22_PARTE_I[\"ENTIDAD\"] == \"MORELOS\"]\n",
    "\n",
    "dataset_inegi_uniqueloc_MORELOS = dataset_inegi_uniqueloc[dataset_inegi_uniqueloc['Entidad_inegi'] == 'Morelos']"
   ]
  },
  {
   "cell_type": "code",
   "execution_count": null,
   "id": "a0b4fe96",
   "metadata": {},
   "outputs": [],
   "source": [
    "Localidades_19_22_MORELOS = fuzzy_merge_benef2019_2022(Localidades_19_22_MORELOS, dataset_inegi_uniqueloc_MORELOS, 'KEY_benef_loc', 'KEY_inegi_localidad')\n",
    "Localidades_19_22_MORELOS.shape"
   ]
  },
  {
   "cell_type": "markdown",
   "id": "ac76d67d",
   "metadata": {},
   "source": [
    "### 3.2.5 Join de localidades - GUERRERO"
   ]
  },
  {
   "cell_type": "code",
   "execution_count": null,
   "id": "e9d7b41f",
   "metadata": {},
   "outputs": [],
   "source": [
    "Localidades_19_22_GUERRERO = Localidades_19_22_PARTE_I[Localidades_19_22_PARTE_I[\"ENTIDAD\"] == \"GUERRERO\"]\n",
    "\n",
    "dataset_inegi_uniqueloc_GUERRERO = dataset_inegi_uniqueloc[dataset_inegi_uniqueloc['Entidad_inegi'] == 'Guerrero']"
   ]
  },
  {
   "cell_type": "code",
   "execution_count": null,
   "id": "b2071653",
   "metadata": {},
   "outputs": [],
   "source": [
    "Localidades_19_22_GUERRERO = fuzzy_merge_benef2019_2022(Localidades_19_22_GUERRERO, dataset_inegi_uniqueloc_GUERRERO, 'KEY_benef_loc', 'KEY_inegi_localidad')\n",
    "Localidades_19_22_GUERRERO.shape"
   ]
  },
  {
   "cell_type": "markdown",
   "id": "0970dcca",
   "metadata": {},
   "source": [
    "### 3.2.6 Join de localidades - NAYARIT"
   ]
  },
  {
   "cell_type": "code",
   "execution_count": null,
   "id": "a4bf265a",
   "metadata": {},
   "outputs": [],
   "source": [
    "Localidades_19_22_NAYARIT = Localidades_19_22_PARTE_I[Localidades_19_22_PARTE_I[\"ENTIDAD\"] == \"NAYARIT\"]\n",
    "\n",
    "dataset_inegi_uniqueloc_NAYARIT = dataset_inegi_uniqueloc[dataset_inegi_uniqueloc['Entidad_inegi'] == 'Nayarit']"
   ]
  },
  {
   "cell_type": "code",
   "execution_count": null,
   "id": "dc89558d",
   "metadata": {},
   "outputs": [],
   "source": [
    "Localidades_19_22_NAYARIT = fuzzy_merge_benef2019_2022(Localidades_19_22_NAYARIT, dataset_inegi_uniqueloc_NAYARIT, 'KEY_benef_loc', 'KEY_inegi_localidad')\n",
    "Localidades_19_22_NAYARIT.shape"
   ]
  },
  {
   "cell_type": "markdown",
   "id": "bc32119b",
   "metadata": {},
   "source": [
    "### 3.2.7 Join de localidades - OAXACA"
   ]
  },
  {
   "cell_type": "code",
   "execution_count": null,
   "id": "7a19a50d",
   "metadata": {},
   "outputs": [],
   "source": [
    "Localidades_19_22_OAXACA = Localidades_19_22_PARTE_I[Localidades_19_22_PARTE_I[\"ENTIDAD\"] == \"OAXACA\"]\n",
    "\n",
    "dataset_inegi_uniqueloc_OAXACA = dataset_inegi_uniqueloc[dataset_inegi_uniqueloc['Entidad_inegi'] == 'Oaxaca']"
   ]
  },
  {
   "cell_type": "code",
   "execution_count": null,
   "id": "c7130aa6",
   "metadata": {},
   "outputs": [],
   "source": [
    "Localidades_19_22_OAXACA = fuzzy_merge_benef2019_2022(Localidades_19_22_OAXACA, dataset_inegi_uniqueloc_OAXACA, 'KEY_benef_loc', 'KEY_inegi_localidad')\n",
    "Localidades_19_22_OAXACA.shape"
   ]
  },
  {
   "cell_type": "markdown",
   "id": "324ab70a",
   "metadata": {},
   "source": [
    "### 3.2.8 Join de localidades - TLAXCALA"
   ]
  },
  {
   "cell_type": "code",
   "execution_count": null,
   "id": "9ba1cf0a",
   "metadata": {},
   "outputs": [],
   "source": [
    "Localidades_19_22_TLAXCALA = Localidades_19_22_PARTE_I[Localidades_19_22_PARTE_I[\"ENTIDAD\"] == \"TLAXCALA\"]\n",
    "\n",
    "dataset_inegi_uniqueloc_TLAXCALA = dataset_inegi_uniqueloc[dataset_inegi_uniqueloc['Entidad_inegi'] == 'Tlaxcala']"
   ]
  },
  {
   "cell_type": "code",
   "execution_count": null,
   "id": "a7ebceff",
   "metadata": {},
   "outputs": [],
   "source": [
    "Localidades_19_22_TLAXCALA = fuzzy_merge_benef2019_2022(Localidades_19_22_TLAXCALA, dataset_inegi_uniqueloc_TLAXCALA, 'KEY_benef_loc', 'KEY_inegi_localidad')\n",
    "Localidades_19_22_TLAXCALA.shape"
   ]
  },
  {
   "cell_type": "markdown",
   "id": "49ae34e1",
   "metadata": {},
   "source": [
    "### 3.2.9 Join de localidades - ZACATECAS"
   ]
  },
  {
   "cell_type": "code",
   "execution_count": null,
   "id": "e3a6743f",
   "metadata": {},
   "outputs": [],
   "source": [
    "Localidades_19_22_ZACATECAS = Localidades_19_22_PARTE_I[Localidades_19_22_PARTE_I[\"ENTIDAD\"] == \"ZACATECAS\"]\n",
    "\n",
    "dataset_inegi_uniqueloc_ZACATECAS = dataset_inegi_uniqueloc[dataset_inegi_uniqueloc['Entidad_inegi'] == 'Zacatecas']"
   ]
  },
  {
   "cell_type": "code",
   "execution_count": null,
   "id": "bf0c857c",
   "metadata": {},
   "outputs": [],
   "source": [
    "Localidades_19_22_ZACATECAS = fuzzy_merge_benef2019_2022(Localidades_19_22_ZACATECAS, dataset_inegi_uniqueloc_ZACATECAS, 'KEY_benef_loc', 'KEY_inegi_localidad')\n",
    "Localidades_19_22_TLAXCALA.shape"
   ]
  },
  {
   "cell_type": "markdown",
   "id": "d2e181eb",
   "metadata": {},
   "source": [
    "### 3.2.10 Diccionario de localidades"
   ]
  },
  {
   "cell_type": "code",
   "execution_count": null,
   "id": "11b63ebe",
   "metadata": {},
   "outputs": [],
   "source": [
    "diccionario_LOC = pd.concat([Localidades_19_22_PUEBLA, Localidades_19_22_CHIAPAS, Localidades_19_22_DURANGO, Localidades_19_22_MORELOS, Localidades_19_22_GUERRERO, Localidades_19_22_NAYARIT, Localidades_19_22_OAXACA, Localidades_19_22_TLAXCALA, Localidades_19_22_ZACATECAS])"
   ]
  },
  {
   "cell_type": "code",
   "execution_count": null,
   "id": "920877df",
   "metadata": {},
   "outputs": [],
   "source": [
    "diccionario_LOC"
   ]
  },
  {
   "cell_type": "code",
   "execution_count": null,
   "id": "0a3ad342",
   "metadata": {},
   "outputs": [],
   "source": [
    "# Step 1: Filter the DataFrame for non-matching key_benef_loc and key_inegi_localidad\n",
    "non_matching_df = diccionario_LOC[diccionario_LOC['KEY_benef_loc'] != diccionario_LOC['KEY_inegi_localidad']]\n",
    "\n",
    "# Step 2: Extract the first letter of key_benef_loc\n",
    "non_matching_df['first_letter'] = non_matching_df['KEY_benef_loc'].str[0]\n",
    "\n",
    "# Step 3: Group by the first letter and count the occurrences\n",
    "categorized_counts = non_matching_df.groupby('first_letter').size()\n",
    "\n",
    "# Display the categorized counts\n",
    "print(categorized_counts)"
   ]
  },
  {
   "cell_type": "code",
   "execution_count": null,
   "id": "ec5bc15e",
   "metadata": {},
   "outputs": [],
   "source": [
    "puebla_df = dataset_inegi_clean[dataset_inegi_clean['Entidad_c_inegi'] == 'puebla']\n",
    "\n",
    "# Display the 'localidades' and 'municipios' columns\n",
    "print(puebla_df[['Municipio_c_inegi', 'Localidad_c_inegi']])"
   ]
  },
  {
   "cell_type": "code",
   "execution_count": null,
   "id": "5320019f",
   "metadata": {},
   "outputs": [],
   "source": [
    "diccionario_LOC.to_csv('../../data/productores_beneficiarios 2019-2022/diccionarios_E3/diccionario_LOC.csv', index=False)"
   ]
  },
  {
   "cell_type": "code",
   "execution_count": null,
   "id": "1c6f2d6d",
   "metadata": {},
   "outputs": [],
   "source": [
    "non_matching_df"
   ]
  },
  {
   "cell_type": "code",
   "execution_count": null,
   "id": "d5010832",
   "metadata": {},
   "outputs": [],
   "source": [
    "non_matching_df_puebla = non_matching_df[non_matching_df['ENTIDAD'] == 'PUEBLA']\n",
    "non_matching_df_puebla = non_matching_df_puebla[['ENTIDAD', 'KEY_benef_loc', 'KEY_inegi_localidad', 'best_match']]\n",
    "non_matching_df_puebla.to_csv('../../data/productores_beneficiarios 2019-2022/diccionarios_E3/non_matching_df_puebla.csv', index=False)"
   ]
  },
  {
   "cell_type": "code",
   "execution_count": null,
   "id": "a486a20c",
   "metadata": {},
   "outputs": [],
   "source": [
    "non_matching_df_morelos = non_matching_df[non_matching_df['ENTIDAD'] == 'MORELOS']\n",
    "non_matching_df_morelos = non_matching_df_morelos[['ENTIDAD', 'KEY_benef_loc', 'KEY_inegi_localidad', 'best_match']]\n",
    "non_matching_df_morelos.to_csv('../../data/productores_beneficiarios 2019-2022/diccionarios_E3/non_matching_df_morelos.csv', index=False)"
   ]
  },
  {
   "cell_type": "code",
   "execution_count": null,
   "id": "8c12db12",
   "metadata": {},
   "outputs": [],
   "source": [
    "non_matching_df_guerrero = non_matching_df[non_matching_df['ENTIDAD'] == 'GUERRERO']\n",
    "non_matching_df_guerrero = non_matching_df_guerrero[['ENTIDAD', 'KEY_benef_loc', 'KEY_inegi_localidad', 'best_match']]\n",
    "non_matching_df_guerrero.to_csv('../../data/productores_beneficiarios 2019-2022/diccionarios_E3/non_matching_df_guerrero.csv', index=False)"
   ]
  },
  {
   "cell_type": "code",
   "execution_count": null,
   "id": "df9019f0",
   "metadata": {},
   "outputs": [],
   "source": [
    "non_matching_df_nayarit = non_matching_df[non_matching_df['ENTIDAD'] == 'NAYARIT']\n",
    "non_matching_df_nayarit = non_matching_df_nayarit[['ENTIDAD', 'KEY_benef_loc', 'KEY_inegi_localidad', 'best_match']]\n",
    "non_matching_df_nayarit.to_csv('../../data/productores_beneficiarios 2019-2022/diccionarios_E3/non_matching_df_nayarit.csv', index=False)"
   ]
  },
  {
   "cell_type": "code",
   "execution_count": null,
   "id": "5781ed19",
   "metadata": {},
   "outputs": [],
   "source": [
    "non_matching_df_tlaxcala = non_matching_df[non_matching_df['ENTIDAD'] == 'TLAXCALA']\n",
    "non_matching_df_tlaxcala = non_matching_df_tlaxcala[['ENTIDAD', 'KEY_benef_loc', 'KEY_inegi_localidad', 'best_match']]\n",
    "non_matching_df_tlaxcala.to_csv('../../data/productores_beneficiarios 2019-2022/diccionarios_E3/non_matching_df_tlaxcala.csv', index=False)"
   ]
  },
  {
   "cell_type": "code",
   "execution_count": null,
   "id": "0998b91a",
   "metadata": {},
   "outputs": [],
   "source": [
    "non_matching_df_zacatecas= non_matching_df[non_matching_df['ENTIDAD'] == 'ZACATECAS']\n",
    "non_matching_df_zacatecas= non_matching_df_zacatecas[['ENTIDAD', 'KEY_benef_loc', 'KEY_inegi_localidad', 'best_match']]\n",
    "non_matching_df_zacatecas.to_csv('../../data/productores_beneficiarios 2019-2022/diccionarios_E3//non_matching_df_zacatecas.csv', index=False)"
   ]
  },
  {
   "cell_type": "code",
   "execution_count": null,
   "id": "320d38b4",
   "metadata": {},
   "outputs": [],
   "source": [
    "non_matching_df_durango = non_matching_df[non_matching_df['ENTIDAD'] == 'DURANGO']\n",
    "non_matching_df_durango = non_matching_df_durango[['ENTIDAD', 'KEY_benef_loc', 'KEY_inegi_localidad', 'best_match']]\n",
    "non_matching_df_durango.to_csv('../../data/productores_beneficiarios 2019-2022/diccionarios_E3/non_matching_df_durango.csv', index=False)"
   ]
  },
  {
   "cell_type": "code",
   "execution_count": null,
   "id": "2ebd2df2",
   "metadata": {},
   "outputs": [],
   "source": [
    "non_matching_df_chiapas = non_matching_df[non_matching_df['ENTIDAD'] == 'CHIAPAS']\n",
    "non_matching_df_chiapas = non_matching_df_chiapas[['ENTIDAD', 'KEY_benef_loc', 'KEY_inegi_localidad', 'best_match']]\n",
    "non_matching_df_chiapas.to_csv('../../data/productores_beneficiarios 2019-2022/diccionarios_E3/non_matching_df_chiapas.csv', index=False)"
   ]
  },
  {
   "cell_type": "code",
   "execution_count": null,
   "id": "e6202771",
   "metadata": {},
   "outputs": [],
   "source": [
    "non_matching_df_oaxaca = non_matching_df[non_matching_df['ENTIDAD'] == 'OAXACA']\n",
    "non_matching_df_oaxaca = non_matching_df_oaxaca[['ENTIDAD', 'KEY_benef_loc', 'KEY_inegi_localidad', 'best_match']]\n",
    "non_matching_df_oaxaca.to_csv('../../data/productores_beneficiarios 2019-2022/diccionarios_E3/non_matching_df_oaxaca.csv', index=False)"
   ]
  },
  {
   "cell_type": "code",
   "execution_count": null,
   "id": "f007e775",
   "metadata": {},
   "outputs": [],
   "source": []
  },
  {
   "cell_type": "code",
   "execution_count": null,
   "id": "54f8ba4a",
   "metadata": {},
   "outputs": [],
   "source": []
  },
  {
   "cell_type": "code",
   "execution_count": null,
   "id": "e6ad30dd",
   "metadata": {},
   "outputs": [],
   "source": []
  },
  {
   "cell_type": "code",
   "execution_count": null,
   "id": "5aff49fe",
   "metadata": {},
   "outputs": [],
   "source": []
  },
  {
   "cell_type": "code",
   "execution_count": null,
   "id": "85efa6ce",
   "metadata": {},
   "outputs": [],
   "source": [
    "'''\n",
    "dataset_inegi_chiapas = dataset_inegi_clean[dataset_inegi_clean['Entidad_c_inegi'] == 'chiapas']\n",
    "dataset_inegi_durango = dataset_inegi_clean[dataset_inegi_clean['Entidad_c_inegi'] == 'durango']\n",
    "dataset_inegi_guerrero = dataset_inegi_clean[dataset_inegi_clean['Entidad_c_inegi'] == 'guerrero']\n",
    "dataset_inegi_morelos = dataset_inegi_clean[dataset_inegi_clean['Entidad_c_inegi'] == 'morelos']\n",
    "dataset_inegi_nayarit = dataset_inegi_clean[dataset_inegi_clean['Entidad_c_inegi'] == 'nayarit']\n",
    "dataset_inegi_oaxaca = dataset_inegi_clean[dataset_inegi_clean['Entidad_c_inegi'] == 'oaxaca']\n",
    "dataset_inegi_puebla = dataset_inegi_clean[dataset_inegi_clean['Entidad_c_inegi'] == 'puebla']\n",
    "dataset_inegi_tlaxcala = dataset_inegi_clean[dataset_inegi_clean['Entidad_c_inegi'] == 'tlaxcala']\n",
    "dataset_inegi_zacatecas = dataset_inegi_clean[dataset_inegi_clean['Entidad_c_inegi'] == 'zacatecas']\n",
    "'''"
   ]
  },
  {
   "cell_type": "code",
   "execution_count": null,
   "id": "3cd88963",
   "metadata": {},
   "outputs": [],
   "source": [
    "diccionario_puebla = fuzzy_merge_benef_por_estado_2019_2022(Estados_beneficiarios_localidad_2019_2022, dataset_inegi_puebla, 'KEY_benef_localidad', 'KEY_inegi_localidad')"
   ]
  },
  {
   "cell_type": "code",
   "execution_count": null,
   "id": "e9578109",
   "metadata": {},
   "outputs": [],
   "source": [
    "diccionario_durango = fuzzy_merge_benef_por_estado_2019_2022(Estados_beneficiarios_localidad_2019_2022, dataset_inegi_durango, 'KEY_benef_localidad', 'KEY_inegi_localidad')"
   ]
  },
  {
   "cell_type": "code",
   "execution_count": null,
   "id": "37155bf4",
   "metadata": {},
   "outputs": [],
   "source": [
    "diccionario_morelos = fuzzy_merge_benef_por_estado_2019_2022(Estados_beneficiarios_localidad_2019_2022, dataset_inegi_morelos, 'KEY_benef_localidad', 'KEY_inegi_localidad')"
   ]
  },
  {
   "cell_type": "code",
   "execution_count": null,
   "id": "3103eaa7",
   "metadata": {},
   "outputs": [],
   "source": [
    "diccionario_nayarit = fuzzy_merge_benef_por_estado_2019_2022(Estados_beneficiarios_localidad_2019_2022, dataset_inegi_nayarit, 'KEY_benef_localidad', 'KEY_inegi_localidad')"
   ]
  },
  {
   "cell_type": "code",
   "execution_count": null,
   "id": "66a7ebd7",
   "metadata": {},
   "outputs": [],
   "source": [
    "diccionario_oaxaca = fuzzy_merge_benef_por_estado_2019_2022(Estados_beneficiarios_localidad_2019_2022, dataset_inegi_oaxaca, 'KEY_benef_localidad', 'KEY_inegi_localidad')"
   ]
  },
  {
   "cell_type": "code",
   "execution_count": null,
   "id": "66c687aa",
   "metadata": {},
   "outputs": [],
   "source": [
    "diccionario_chiapas = fuzzy_merge_benef_por_estado_2019_2022(Estados_beneficiarios_localidad_2019_2022, dataset_inegi_chiapas, 'KEY_benef_localidad', 'KEY_inegi_localidad')"
   ]
  },
  {
   "cell_type": "code",
   "execution_count": null,
   "id": "5e95c0ca",
   "metadata": {},
   "outputs": [],
   "source": [
    "diccionario_tlaxcala = fuzzy_merge_benef_por_estado_2019_2022(Estados_beneficiarios_localidad_2019_2022, dataset_inegi_tlaxcala, 'KEY_benef_localidad', 'KEY_inegi_localidad')"
   ]
  },
  {
   "cell_type": "code",
   "execution_count": null,
   "id": "a48f534f",
   "metadata": {},
   "outputs": [],
   "source": [
    "diccionario_zacatecas = fuzzy_merge_benef_por_estado_2019_2022(Estados_beneficiarios_localidad_2019_2022, dataset_inegi_zacatecas, 'KEY_benef_localidad', 'KEY_inegi_localidad')"
   ]
  },
  {
   "cell_type": "code",
   "execution_count": null,
   "id": "4e8ccee7",
   "metadata": {},
   "outputs": [],
   "source": [
    "diccionario_puebla"
   ]
  },
  {
   "cell_type": "code",
   "execution_count": null,
   "id": "2b7296ee",
   "metadata": {},
   "outputs": [],
   "source": [
    "diccionario_guerrero = fuzzy_merge_benef_por_estado_2019_2022(Estados_beneficiarios_localidad_2019_2022, dataset_inegi_guerrero, 'KEY_benef_localidad', 'KEY_inegi_localidad')"
   ]
  },
  {
   "cell_type": "code",
   "execution_count": null,
   "id": "428d7920",
   "metadata": {},
   "outputs": [],
   "source": [
    "diccionario_localidades = pd.concat([diccionario_puebla, diccionario_durango, diccionario_morelos, diccionario_nayarit, diccionario_oaxaca, diccionario_chiapas, diccionario_tlaxcala, diccionario_zacatecas, diccionario_guerrero])"
   ]
  },
  {
   "cell_type": "code",
   "execution_count": null,
   "id": "7fefd48f",
   "metadata": {},
   "outputs": [],
   "source": [
    "diccionario_localidades.drop(columns=['KEY_inegi_localidad_additional'], inplace=True)"
   ]
  },
  {
   "cell_type": "code",
   "execution_count": null,
   "id": "3bb07cb8",
   "metadata": {},
   "outputs": [],
   "source": [
    "diccionario_localidades.columns"
   ]
  },
  {
   "cell_type": "code",
   "execution_count": null,
   "id": "acc431c5",
   "metadata": {},
   "outputs": [],
   "source": [
    "diccionario_localidades.to_csv('../../data/productores_beneficiarios 2019-2022/diccionariosE3/diccionario_localidades.csv', index=False, encoding='utf-8')"
   ]
  },
  {
   "cell_type": "code",
   "execution_count": null,
   "id": "191cff1b",
   "metadata": {},
   "outputs": [],
   "source": [
    "diccionario_localidades.shape"
   ]
  },
  {
   "cell_type": "code",
   "execution_count": null,
   "id": "0551eb3f",
   "metadata": {},
   "outputs": [],
   "source": [
    "# Valores únicos y la cantidad de cada columna\n",
    "# Obtener estadísticas descriptivas para todas las variables\n",
    "\n",
    "descriptive_stats = diccionario.describe(include='all').transpose()\n",
    "\n",
    "# Mostrar las estadísticas descriptivas\n",
    "print(descriptive_stats)"
   ]
  },
  {
   "cell_type": "code",
   "execution_count": null,
   "id": "0a596a42",
   "metadata": {},
   "outputs": [],
   "source": [
    "nan_rows = diccionario.isna()"
   ]
  },
  {
   "cell_type": "code",
   "execution_count": null,
   "id": "875ef20a",
   "metadata": {},
   "outputs": [],
   "source": [
    "nan_rows.sum()"
   ]
  },
  {
   "cell_type": "code",
   "execution_count": null,
   "id": "4cefccc4079ae8e9",
   "metadata": {
    "ExecuteTime": {
     "end_time": "2024-05-30T14:04:01.741880Z",
     "start_time": "2024-05-30T14:04:01.724246Z"
    }
   },
   "outputs": [],
   "source": [
    "diccionario.to_csv('../../data/diccionario_benef2019_2022.csv', index=False)"
   ]
  },
  {
   "cell_type": "code",
   "execution_count": null,
   "id": "80197030",
   "metadata": {},
   "outputs": [],
   "source": [
    "diccionario_benef2019_2022 = pd.read_csv('../../data/diccionario_benef2019_2022.csv')"
   ]
  },
  {
   "cell_type": "code",
   "execution_count": null,
   "id": "2babc5eb",
   "metadata": {},
   "outputs": [],
   "source": [
    "# Step 1: Check data types\n",
    "print(Estados_beneficiarios2019_2022['KEY_benef'].dtype)\n",
    "print(diccionario_benef2019_2022['KEY_benef'].dtype)  # Replace 'YourKeyColumnName' with the actual column name\n",
    "\n",
    "# Step 2: Trim whitespace and check formatting (example for strings)\n",
    "key_benef_list = [str(key).strip().lower() for key in Estados_beneficiarios2019_2022['KEY_benef'].to_list()]  # Adjust if your keys are not strings\n",
    "diccionario_keys = [str(key).strip().lower() for key in diccionario_benef2019_2022['KEY_benef'].tolist()]  # Adjust column name\n",
    "\n",
    "keys_not_in_diccionario = [key for key in key_benef_list if key not in diccionario_keys]\n",
    "\n",
    "# Count of keys not in diccionario\n",
    "count_keys_not_in_diccionario = len(keys_not_in_diccionario)\n",
    "\n",
    "print(f\"Keys not in diccionario: {keys_not_in_diccionario}\")\n",
    "print(f\"Count of keys not in diccionario: {count_keys_not_in_diccionario}\")"
   ]
  },
  {
   "cell_type": "markdown",
   "id": "7480947838e468f7",
   "metadata": {},
   "source": [
    "## 3.2 Listado beneficiarios2023\n",
    "\n",
    "Esta sección se encarga de completar el listado original de Beneficiarios Autorizados con los nombre corregido de INEGI usando el diccionario."
   ]
  },
  {
   "cell_type": "code",
   "execution_count": null,
   "id": "6ae598e683e47cac",
   "metadata": {
    "ExecuteTime": {
     "end_time": "2024-05-30T14:04:10.797009Z",
     "start_time": "2024-05-30T14:04:01.743888Z"
    }
   },
   "outputs": [],
   "source": [
    "# Crear una variable KEY en listado de productores y el diccionario para hacer el join\n",
    "\n",
    "# Clean listado beneficiarios\n",
    "listado_beneficiarios['ESTADO_Clean'] = listado_beneficiarios['ENTIDAD'].apply(clean_text)\n",
    "listado_beneficiarios['MUNICIPIO_Clean'] = listado_beneficiarios['MUNICIPIO'].apply(clean_text)\n",
    "\n",
    "# Create KEY in listado beneficiarios\n",
    "listado_beneficiarios['Estado-mun-KEY'] = listado_beneficiarios['ESTADO_Clean'].astype(str) + '-' + listado_beneficiarios[\n",
    "    'MUNICIPIO_Clean'].astype(str)"
   ]
  },
  {
   "cell_type": "code",
   "execution_count": null,
   "id": "d8d5e195",
   "metadata": {},
   "outputs": [],
   "source": [
    "nan_rows = listado_beneficiarios.isna()"
   ]
  },
  {
   "cell_type": "code",
   "execution_count": null,
   "id": "446d9c40",
   "metadata": {},
   "outputs": [],
   "source": [
    "nan_rows.sum()"
   ]
  },
  {
   "cell_type": "code",
   "execution_count": null,
   "id": "672ed551381e1e8a",
   "metadata": {
    "ExecuteTime": {
     "end_time": "2024-05-30T14:04:10.806584Z",
     "start_time": "2024-05-30T14:04:10.800015Z"
    }
   },
   "outputs": [],
   "source": [
    "print(listado_beneficiarios.shape)\n",
    "listado_beneficiarios.columns\n"
   ]
  },
  {
   "cell_type": "code",
   "execution_count": null,
   "id": "9a887b8bde1fcd6c",
   "metadata": {
    "ExecuteTime": {
     "end_time": "2024-05-30T14:04:10.879818Z",
     "start_time": "2024-05-30T14:04:10.849876Z"
    }
   },
   "outputs": [],
   "source": [
    "# Lectura del diccionario Verificado Simple\n",
    "#diccionario_verificado = pd.read_csv('../../data/Diccionario_benef_manual_verificado.csv')\n",
    "diccionario_verificado_e3 = pd.read_csv('../../data/DiccionarioE3_unique_mun.csv')"
   ]
  },
  {
   "cell_type": "code",
   "execution_count": null,
   "id": "179191e6",
   "metadata": {},
   "outputs": [],
   "source": [
    "descriptive_stats = diccionario_verificado_e3.describe(include='all').transpose()\n",
    "\n",
    "# Mostrar las estadísticas descriptivas\n",
    "print(descriptive_stats)"
   ]
  },
  {
   "cell_type": "code",
   "execution_count": null,
   "id": "60163919",
   "metadata": {},
   "outputs": [],
   "source": [
    "diccionario_verificado_e3.columns"
   ]
  },
  {
   "cell_type": "markdown",
   "id": "68e8b406",
   "metadata": {},
   "source": [
    "El diccionatio contiene KEY_benef únicos (Freq = 1), mientras que KEY_benef_Verificado puede repetirse."
   ]
  },
  {
   "cell_type": "markdown",
   "id": "d0c557f0",
   "metadata": {},
   "source": [
    "### MERGE\n",
    "\n",
    "Armamos por partes el dataset definitivo:\n",
    "1. Juntamos Listado_beneficiarios con el diccionario simple. (listado_beneficiario_parte_I)\n",
    "2. Al df anterior juntamos las claver provenientes del catálogo de Inegi. (listado_beneficiario_parte_II)"
   ]
  },
  {
   "cell_type": "code",
   "execution_count": null,
   "id": "e1928c484fe89c5e",
   "metadata": {
    "ExecuteTime": {
     "end_time": "2024-05-30T14:04:11.928301Z",
     "start_time": "2024-05-30T14:04:10.882823Z"
    }
   },
   "outputs": [],
   "source": [
    "# Hacer el join de la Parte I\n",
    "listado_beneficiarios_parte_I = pd.merge(listado_beneficiarios, diccionario_verificado_e3, left_on=\"Estado-mun-KEY\",\n",
    "                                        right_on=\"KEY_benef\", how='left', suffixes=('_benef', '_inegi'))"
   ]
  },
  {
   "cell_type": "code",
   "execution_count": null,
   "id": "fee05580",
   "metadata": {},
   "outputs": [],
   "source": [
    "listado_beneficiarios_parte_I.columns"
   ]
  },
  {
   "cell_type": "code",
   "execution_count": null,
   "id": "1cfb28a8",
   "metadata": {},
   "outputs": [],
   "source": [
    "listado_beneficiarios_parte_I_nan_counts = listado_beneficiarios_parte_I.isna().sum()\n",
    "print(listado_beneficiarios_parte_I_nan_counts)"
   ]
  },
  {
   "cell_type": "code",
   "execution_count": null,
   "id": "03d2a2b1",
   "metadata": {},
   "outputs": [],
   "source": [
    "# Valores únicos y la cantidad de cada columna\n",
    "# Obtener estadísticas descriptivas para todas las variables\n",
    "\n",
    "descriptive_stats = listado_beneficiarios_parte_I.describe(include='all').transpose()\n",
    "\n",
    "# Mostrar las estadísticas descriptivas\n",
    "print(descriptive_stats)"
   ]
  },
  {
   "cell_type": "code",
   "execution_count": null,
   "id": "b27a125b519d9ac8",
   "metadata": {
    "ExecuteTime": {
     "end_time": "2024-05-30T14:04:14.339706Z",
     "start_time": "2024-05-30T14:04:14.106578Z"
    }
   },
   "outputs": [],
   "source": [
    "# Seleccionamos las columnas que nos interesan\n",
    "listado_beneficiarios_parte_I = listado_beneficiarios_parte_I[\n",
    "    ['ZONA', 'CVE_ENT', 'ENTIDAD_inegi', 'CVE_MUN', 'MUNICIPIO_inegi', 'BENEFICIARIO', 'PRODUCTO', 'FECHA',\n",
    "     'MONTO FEDERAL', 'CICLO AGRÍCOLA']]"
   ]
  },
  {
   "cell_type": "code",
   "execution_count": null,
   "id": "f74b72372f1494ed",
   "metadata": {
    "ExecuteTime": {
     "end_time": "2024-05-30T14:04:14.361161Z",
     "start_time": "2024-05-30T14:04:14.346729Z"
    }
   },
   "outputs": [],
   "source": [
    "# Revisamos el dataset\n",
    "print(listado_beneficiarios_parte_I.shape)\n",
    "print(listado_beneficiarios_parte_I.columns)\n",
    "print(listado_beneficiarios_parte_I.head())"
   ]
  },
  {
   "cell_type": "code",
   "execution_count": null,
   "id": "7afb8c2a",
   "metadata": {},
   "outputs": [],
   "source": [
    "nan_counts = listado_beneficiarios_parte_I.isna().sum()\n",
    "print(nan_counts)"
   ]
  }
 ],
 "metadata": {
  "kernelspec": {
   "display_name": "Python 3",
   "language": "python",
   "name": "python3"
  },
  "language_info": {
   "codemirror_mode": {
    "name": "ipython",
    "version": 3
   },
   "file_extension": ".py",
   "mimetype": "text/x-python",
   "name": "python",
   "nbconvert_exporter": "python",
   "pygments_lexer": "ipython3",
   "version": "3.11.9"
  }
 },
 "nbformat": 4,
 "nbformat_minor": 5
}
