{
 "cells": [
  {
   "cell_type": "markdown",
   "id": "e81f8196fda25d5b",
   "metadata": {},
   "source": []
  },
  {
   "cell_type": "markdown",
   "id": "6960feab7ef56473",
   "metadata": {},
   "source": [
    "# Data Cleaning Listado de Listado de Beneficiarios 2019-2022"
   ]
  },
  {
   "cell_type": "markdown",
   "id": "23de63a25eb2daf6",
   "metadata": {},
   "source": [
    "## Autores\n",
    "- José Luis Delgado Dávara\n",
    "- Arturo Ortiz Aguilar\n",
    "- Beltrán Valle Gutiérrez-Cortines"
   ]
  },
  {
   "cell_type": "markdown",
   "id": "b07c3a8a",
   "metadata": {},
   "source": [
    "## Importante leer para entender\n",
    "\n",
    "En este Notebook se trabaja con 3 listados importantes:\n",
    "\n",
    "1. Beneficiarios2019_2022 -> Dataset con el listado de TODOS los beneficiarios.\n",
    "2. Estados_Beneficiarios_2019_2022 -> Dataset sólo con los estados *únicos* encontrados en el dataset anterior.\n",
    "3. Diccionario -> Emparejamiento entre ambos listados de beneficiarios\n",
    "4. Dataset_Inegi -> Catálogo obtenido de Inegi"
   ]
  },
  {
   "cell_type": "code",
   "execution_count": 1,
   "id": "cb5833c3d96a224c",
   "metadata": {
    "ExecuteTime": {
     "end_time": "2024-05-30T14:01:37.230529Z",
     "start_time": "2024-05-30T14:01:37.040759Z"
    }
   },
   "outputs": [],
   "source": [
    "import pandas as pd\n",
    "import seaborn as sns\n",
    "from thefuzz import fuzz\n",
    "from thefuzz import process\n",
    "import matplotlib.pyplot as plt\n",
    "import numpy as np\n",
    "import os\n",
    "import glob\n",
    "import re\n",
    "import unidecode"
   ]
  },
  {
   "cell_type": "code",
   "execution_count": 2,
   "id": "ac0b22b6344a0b96",
   "metadata": {
    "ExecuteTime": {
     "end_time": "2024-05-30T14:01:37.238020Z",
     "start_time": "2024-05-30T14:01:37.231536Z"
    }
   },
   "outputs": [],
   "source": [
    "def load_datasets(directory):\n",
    "    # Get a list of all CSV files in the directory\n",
    "    csv_files = glob.glob(os.path.join(directory, '*.csv'))\n",
    "\n",
    "    # Read each CSV file and store the DataFrame in a list\n",
    "    dataframes = [pd.read_csv(file, encoding='utf-8', skiprows=0) for file in csv_files]\n",
    "\n",
    "    # Print the number of rows for each DataFrame\n",
    "    for i, df in enumerate(dataframes):\n",
    "        print(f\"Number of rows in DataFrame {i+1}: {df.shape[0]}\")\n",
    "\n",
    "    # Calculate the sum of rows in each individual dataset\n",
    "    individual_row_sum = sum([df.shape[0] for df in dataframes])\n",
    "\n",
    "    # Concatenate all DataFrames in the list\n",
    "    merged_df = pd.concat(dataframes, join='inner', ignore_index=True)\n",
    "\n",
    "    return merged_df, individual_row_sum\n",
    "\n",
    "\n",
    "def clean_text(text):\n",
    "    \"\"\"\n",
    "    De esta manera tenemos el texto sin espacios blancos extra y sobre todo con todas las palabras con capitalización correcta.\n",
    "    \"\"\"\n",
    "    if pd.isna(text):\n",
    "        return text\n",
    "    text = text.strip()  # Eliminate white spaces\n",
    "    text = text.lower()  # Convert to lowercase\n",
    "    text = unidecode.unidecode(text)  # Remove accents\n",
    "    text = re.sub('-.*-', '', text) #Remove what is in between - -\n",
    "    text = re.sub('\\s+', ' ', text)  # Eliminate extra white spaces\n",
    "    text = re.sub('^\\s+|\\s+?$', '', text)  # Eliminate spaces at the beginning and end\n",
    "    return text"
   ]
  },
  {
   "cell_type": "markdown",
   "id": "5c0595e208484f96",
   "metadata": {},
   "source": [
    "# 1. Lectura de los datos"
   ]
  },
  {
   "cell_type": "markdown",
   "id": "9b99291631d5d3b1",
   "metadata": {},
   "source": [
    "### Lectura del dataset del INEGI"
   ]
  },
  {
   "cell_type": "code",
   "execution_count": 3,
   "id": "2596158784542f3d",
   "metadata": {
    "ExecuteTime": {
     "end_time": "2024-05-30T14:01:38.326264Z",
     "start_time": "2024-05-30T14:01:37.241026Z"
    }
   },
   "outputs": [],
   "source": [
    "path_dataset_inegi = '../../data/dataset_inegi_clean.csv'\n",
    "dataset_inegi_clean = pd.read_csv(path_dataset_inegi, encoding='utf-8', dtype={'CVE_ENT': str, 'CVE_MUN': str, 'CVE_LOC': str})"
   ]
  },
  {
   "cell_type": "markdown",
   "id": "650cbc699caa705d",
   "metadata": {},
   "source": [
    "### Lectura del listado de Beneficiarios 2019-2022"
   ]
  },
  {
   "cell_type": "code",
   "execution_count": 4,
   "id": "53fef8d078ec79cf",
   "metadata": {
    "ExecuteTime": {
     "end_time": "2024-05-30T14:01:40.160043Z",
     "start_time": "2024-05-30T14:01:38.327278Z"
    }
   },
   "outputs": [
    {
     "name": "stdout",
     "output_type": "stream",
     "text": [
      "Number of rows in DataFrame 1: 826385\n",
      "Number of rows in DataFrame 2: 394986\n",
      "Number of rows in DataFrame 3: 369124\n",
      "Number of rows in DataFrame 4: 278550\n"
     ]
    }
   ],
   "source": [
    "listado_beneficiarios, sumOfRows = load_datasets(\"../../data/productores_beneficiarios 2019-2022\")"
   ]
  },
  {
   "cell_type": "code",
   "execution_count": 5,
   "id": "552edcc7",
   "metadata": {},
   "outputs": [],
   "source": [
    "nan_rows = listado_beneficiarios.isna()"
   ]
  },
  {
   "cell_type": "code",
   "execution_count": 6,
   "id": "cef3fe33",
   "metadata": {},
   "outputs": [
    {
     "data": {
      "text/plain": [
       "1869045"
      ]
     },
     "execution_count": 6,
     "metadata": {},
     "output_type": "execute_result"
    }
   ],
   "source": [
    "sumOfRows"
   ]
  },
  {
   "cell_type": "code",
   "execution_count": 7,
   "id": "03cef601",
   "metadata": {},
   "outputs": [
    {
     "data": {
      "text/html": [
       "<div>\n",
       "<style scoped>\n",
       "    .dataframe tbody tr th:only-of-type {\n",
       "        vertical-align: middle;\n",
       "    }\n",
       "\n",
       "    .dataframe tbody tr th {\n",
       "        vertical-align: top;\n",
       "    }\n",
       "\n",
       "    .dataframe thead th {\n",
       "        text-align: right;\n",
       "    }\n",
       "</style>\n",
       "<table border=\"1\" class=\"dataframe\">\n",
       "  <thead>\n",
       "    <tr style=\"text-align: right;\">\n",
       "      <th></th>\n",
       "      <th>BENEFICIARIO</th>\n",
       "      <th>ZONA</th>\n",
       "      <th>ENTIDAD</th>\n",
       "      <th>MUNICIPIO</th>\n",
       "      <th>LOCALIDAD</th>\n",
       "      <th>ESTRATIFICACIÓN</th>\n",
       "      <th>PROGRAMA</th>\n",
       "      <th>COMPONENTE</th>\n",
       "      <th>SUBCOMPONENTE</th>\n",
       "      <th>PRODUCTO</th>\n",
       "      <th>FECHA</th>\n",
       "      <th>MONTO FEDERAL</th>\n",
       "      <th>APOYO</th>\n",
       "      <th>ACTIVIDAD</th>\n",
       "      <th>ESLABÓN</th>\n",
       "      <th>CICLO AGRÍCOLA</th>\n",
       "    </tr>\n",
       "  </thead>\n",
       "  <tbody>\n",
       "    <tr>\n",
       "      <th>0</th>\n",
       "      <td>ABAC NERI JESUS CARLOS</td>\n",
       "      <td>CENTRO PAÍS</td>\n",
       "      <td>GUERRERO</td>\n",
       "      <td>COYUCA DE BENÍTEZ</td>\n",
       "      <td>PUEBLO VIEJO</td>\n",
       "      <td>Alto</td>\n",
       "      <td>FERTILIZANTES</td>\n",
       "      <td>FERTILIZANTES</td>\n",
       "      <td>FERTILIZANTES</td>\n",
       "      <td>Cultivo de maíz grano blanco</td>\n",
       "      <td>2022-06-26</td>\n",
       "      <td>12244.18</td>\n",
       "      <td>Fertilizantes</td>\n",
       "      <td>AGRARIA</td>\n",
       "      <td>AGRARIA</td>\n",
       "      <td>PV2022</td>\n",
       "    </tr>\n",
       "    <tr>\n",
       "      <th>1</th>\n",
       "      <td>ABAD ALARCON ELIAZAR</td>\n",
       "      <td>CENTRO PAÍS</td>\n",
       "      <td>GUERRERO</td>\n",
       "      <td>COYUCA DE BENÍTEZ</td>\n",
       "      <td>PUEBLO VIEJO</td>\n",
       "      <td>Alto</td>\n",
       "      <td>FERTILIZANTES</td>\n",
       "      <td>FERTILIZANTES</td>\n",
       "      <td>FERTILIZANTES</td>\n",
       "      <td>Cultivo de maíz grano blanco</td>\n",
       "      <td>2022-06-26</td>\n",
       "      <td>6122.09</td>\n",
       "      <td>Fertilizantes</td>\n",
       "      <td>AGRARIA</td>\n",
       "      <td>AGRARIA</td>\n",
       "      <td>PV2022</td>\n",
       "    </tr>\n",
       "    <tr>\n",
       "      <th>2</th>\n",
       "      <td>ABAD ALARCON EZEQUIEL</td>\n",
       "      <td>CENTRO PAÍS</td>\n",
       "      <td>GUERRERO</td>\n",
       "      <td>COYUCA DE BENÍTEZ</td>\n",
       "      <td>AGUA ZARCA</td>\n",
       "      <td>Alto</td>\n",
       "      <td>FERTILIZANTES</td>\n",
       "      <td>FERTILIZANTES</td>\n",
       "      <td>FERTILIZANTES</td>\n",
       "      <td>Cultivo de maíz grano blanco</td>\n",
       "      <td>2022-07-12</td>\n",
       "      <td>12244.18</td>\n",
       "      <td>Fertilizantes</td>\n",
       "      <td>AGRARIA</td>\n",
       "      <td>AGRARIA</td>\n",
       "      <td>PV2022</td>\n",
       "    </tr>\n",
       "    <tr>\n",
       "      <th>3</th>\n",
       "      <td>ABAD ALARCON FULGENCIO</td>\n",
       "      <td>CENTRO PAÍS</td>\n",
       "      <td>GUERRERO</td>\n",
       "      <td>COYUCA DE BENÍTEZ</td>\n",
       "      <td>AGUA ZARCA</td>\n",
       "      <td>Alto</td>\n",
       "      <td>FERTILIZANTES</td>\n",
       "      <td>FERTILIZANTES</td>\n",
       "      <td>FERTILIZANTES</td>\n",
       "      <td>Cultivo de maíz grano blanco</td>\n",
       "      <td>2022-07-12</td>\n",
       "      <td>12244.18</td>\n",
       "      <td>Fertilizantes</td>\n",
       "      <td>AGRARIA</td>\n",
       "      <td>AGRARIA</td>\n",
       "      <td>PV2022</td>\n",
       "    </tr>\n",
       "    <tr>\n",
       "      <th>4</th>\n",
       "      <td>ABAD ALARCON ROMALDA</td>\n",
       "      <td>CENTRO PAÍS</td>\n",
       "      <td>GUERRERO</td>\n",
       "      <td>COYUCA DE BENÍTEZ</td>\n",
       "      <td>YERBASANTITA</td>\n",
       "      <td>Alto</td>\n",
       "      <td>FERTILIZANTES</td>\n",
       "      <td>FERTILIZANTES</td>\n",
       "      <td>FERTILIZANTES</td>\n",
       "      <td>Cultivo de maíz grano blanco</td>\n",
       "      <td>2022-06-20</td>\n",
       "      <td>12244.18</td>\n",
       "      <td>Fertilizantes</td>\n",
       "      <td>AGRARIA</td>\n",
       "      <td>AGRARIA</td>\n",
       "      <td>PV2022</td>\n",
       "    </tr>\n",
       "  </tbody>\n",
       "</table>\n",
       "</div>"
      ],
      "text/plain": [
       "              BENEFICIARIO         ZONA   ENTIDAD          MUNICIPIO  \\\n",
       "0  ABAC NERI JESUS CARLOS   CENTRO PAÍS  GUERRERO  COYUCA DE BENÍTEZ   \n",
       "1    ABAD ALARCON ELIAZAR   CENTRO PAÍS  GUERRERO  COYUCA DE BENÍTEZ   \n",
       "2   ABAD ALARCON EZEQUIEL   CENTRO PAÍS  GUERRERO  COYUCA DE BENÍTEZ   \n",
       "3  ABAD ALARCON FULGENCIO   CENTRO PAÍS  GUERRERO  COYUCA DE BENÍTEZ   \n",
       "4    ABAD ALARCON ROMALDA   CENTRO PAÍS  GUERRERO  COYUCA DE BENÍTEZ   \n",
       "\n",
       "      LOCALIDAD ESTRATIFICACIÓN       PROGRAMA     COMPONENTE  SUBCOMPONENTE  \\\n",
       "0  PUEBLO VIEJO            Alto  FERTILIZANTES  FERTILIZANTES  FERTILIZANTES   \n",
       "1  PUEBLO VIEJO            Alto  FERTILIZANTES  FERTILIZANTES  FERTILIZANTES   \n",
       "2    AGUA ZARCA            Alto  FERTILIZANTES  FERTILIZANTES  FERTILIZANTES   \n",
       "3    AGUA ZARCA            Alto  FERTILIZANTES  FERTILIZANTES  FERTILIZANTES   \n",
       "4  YERBASANTITA            Alto  FERTILIZANTES  FERTILIZANTES  FERTILIZANTES   \n",
       "\n",
       "                       PRODUCTO       FECHA  MONTO FEDERAL          APOYO  \\\n",
       "0  Cultivo de maíz grano blanco  2022-06-26       12244.18  Fertilizantes   \n",
       "1  Cultivo de maíz grano blanco  2022-06-26        6122.09  Fertilizantes   \n",
       "2  Cultivo de maíz grano blanco  2022-07-12       12244.18  Fertilizantes   \n",
       "3  Cultivo de maíz grano blanco  2022-07-12       12244.18  Fertilizantes   \n",
       "4  Cultivo de maíz grano blanco  2022-06-20       12244.18  Fertilizantes   \n",
       "\n",
       "  ACTIVIDAD  ESLABÓN CICLO AGRÍCOLA  \n",
       "0   AGRARIA  AGRARIA         PV2022  \n",
       "1   AGRARIA  AGRARIA         PV2022  \n",
       "2   AGRARIA  AGRARIA         PV2022  \n",
       "3   AGRARIA  AGRARIA         PV2022  \n",
       "4   AGRARIA  AGRARIA         PV2022  "
      ]
     },
     "execution_count": 7,
     "metadata": {},
     "output_type": "execute_result"
    }
   ],
   "source": [
    "listado_beneficiarios.head()"
   ]
  },
  {
   "cell_type": "code",
   "execution_count": 8,
   "id": "63d92dae",
   "metadata": {},
   "outputs": [
    {
     "data": {
      "text/plain": [
       "Index(['BENEFICIARIO', 'ZONA', 'ENTIDAD', 'MUNICIPIO', 'LOCALIDAD',\n",
       "       'ESTRATIFICACIÓN', 'PROGRAMA', 'COMPONENTE', 'SUBCOMPONENTE',\n",
       "       'PRODUCTO', 'FECHA', 'MONTO FEDERAL', 'APOYO', 'ACTIVIDAD', 'ESLABÓN',\n",
       "       'CICLO AGRÍCOLA'],\n",
       "      dtype='object')"
      ]
     },
     "execution_count": 8,
     "metadata": {},
     "output_type": "execute_result"
    }
   ],
   "source": [
    "listado_beneficiarios.columns"
   ]
  },
  {
   "cell_type": "markdown",
   "id": "e16d9e40",
   "metadata": {},
   "source": [
    "# 2. Limpieza de datos."
   ]
  },
  {
   "cell_type": "markdown",
   "id": "02eadabf",
   "metadata": {},
   "source": [
    "### 2.1 Beneficiarios 2019-2022"
   ]
  },
  {
   "cell_type": "markdown",
   "id": "1558ba7e",
   "metadata": {},
   "source": [
    "### Creación de Estados_Beneficiarios2019-2022\n",
    "Este dataset es una versión de Estados_beneficiarios2019-2022 pero más ligera y sin repeticiones."
   ]
  },
  {
   "cell_type": "code",
   "execution_count": 9,
   "id": "9c646052",
   "metadata": {},
   "outputs": [
    {
     "data": {
      "text/plain": [
       "BENEFICIARIO        object\n",
       "ZONA                object\n",
       "ENTIDAD             object\n",
       "MUNICIPIO           object\n",
       "LOCALIDAD           object\n",
       "ESTRATIFICACIÓN     object\n",
       "PROGRAMA            object\n",
       "COMPONENTE          object\n",
       "SUBCOMPONENTE       object\n",
       "PRODUCTO            object\n",
       "FECHA               object\n",
       "MONTO FEDERAL      float64\n",
       "APOYO               object\n",
       "ACTIVIDAD           object\n",
       "ESLABÓN             object\n",
       "CICLO AGRÍCOLA      object\n",
       "dtype: object"
      ]
     },
     "execution_count": 9,
     "metadata": {},
     "output_type": "execute_result"
    }
   ],
   "source": [
    "listado_beneficiarios.dtypes"
   ]
  },
  {
   "cell_type": "code",
   "execution_count": 10,
   "id": "649e28f4",
   "metadata": {},
   "outputs": [
    {
     "name": "stdout",
     "output_type": "stream",
     "text": [
      "                     count  unique                           top     freq  \\\n",
      "BENEFICIARIO       1869037  817428             PEREZ PEREZ JUAN       111   \n",
      "ZONA               1869033       8                   CENTRO PAÍS  1424972   \n",
      "ENTIDAD            1869033      10                      GUERRERO  1279305   \n",
      "MUNICIPIO          1869033    1025            CHILAPA DE ÁLVAREZ    60148   \n",
      "LOCALIDAD          1869033    9979                     TECOANAPA    10820   \n",
      "ESTRATIFICACIÓN    1869033       7                          Alto  1253286   \n",
      "PROGRAMA           1869033       1                 FERTILIZANTES  1869033   \n",
      "COMPONENTE         1869033       1                 FERTILIZANTES  1869033   \n",
      "SUBCOMPONENTE      1869033       1                 FERTILIZANTES  1869033   \n",
      "PRODUCTO           1869033       7  Cultivo de maíz grano blanco  1132720   \n",
      "FECHA              1869033     815                    15/07/2019    17568   \n",
      "MONTO FEDERAL    1869033.0     NaN                           NaN      NaN   \n",
      "APOYO              1869033       1                 Fertilizantes  1869033   \n",
      "ACTIVIDAD          1869033       1                       AGRARIA  1869033   \n",
      "ESLABÓN            1869033       1                       AGRARIA  1869033   \n",
      "CICLO AGRÍCOLA     1869033       4                        PV2022   826382   \n",
      "\n",
      "                        mean          std    min      25%      50%      75%  \\\n",
      "BENEFICIARIO             NaN          NaN    NaN      NaN      NaN      NaN   \n",
      "ZONA                     NaN          NaN    NaN      NaN      NaN      NaN   \n",
      "ENTIDAD                  NaN          NaN    NaN      NaN      NaN      NaN   \n",
      "MUNICIPIO                NaN          NaN    NaN      NaN      NaN      NaN   \n",
      "LOCALIDAD                NaN          NaN    NaN      NaN      NaN      NaN   \n",
      "ESTRATIFICACIÓN          NaN          NaN    NaN      NaN      NaN      NaN   \n",
      "PROGRAMA                 NaN          NaN    NaN      NaN      NaN      NaN   \n",
      "COMPONENTE               NaN          NaN    NaN      NaN      NaN      NaN   \n",
      "SUBCOMPONENTE            NaN          NaN    NaN      NaN      NaN      NaN   \n",
      "PRODUCTO                 NaN          NaN    NaN      NaN      NaN      NaN   \n",
      "FECHA                    NaN          NaN    NaN      NaN      NaN      NaN   \n",
      "MONTO FEDERAL    6433.250058  2862.423347  239.0  3598.07  6163.44  7491.34   \n",
      "APOYO                    NaN          NaN    NaN      NaN      NaN      NaN   \n",
      "ACTIVIDAD                NaN          NaN    NaN      NaN      NaN      NaN   \n",
      "ESLABÓN                  NaN          NaN    NaN      NaN      NaN      NaN   \n",
      "CICLO AGRÍCOLA           NaN          NaN    NaN      NaN      NaN      NaN   \n",
      "\n",
      "                      max  \n",
      "BENEFICIARIO          NaN  \n",
      "ZONA                  NaN  \n",
      "ENTIDAD               NaN  \n",
      "MUNICIPIO             NaN  \n",
      "LOCALIDAD             NaN  \n",
      "ESTRATIFICACIÓN       NaN  \n",
      "PROGRAMA              NaN  \n",
      "COMPONENTE            NaN  \n",
      "SUBCOMPONENTE         NaN  \n",
      "PRODUCTO              NaN  \n",
      "FECHA                 NaN  \n",
      "MONTO FEDERAL    15414.01  \n",
      "APOYO                 NaN  \n",
      "ACTIVIDAD             NaN  \n",
      "ESLABÓN               NaN  \n",
      "CICLO AGRÍCOLA        NaN  \n"
     ]
    }
   ],
   "source": [
    "descriptive_stats = listado_beneficiarios.describe(include='all').transpose()\n",
    "\n",
    "# Mostrar las estadísticas descriptivas\n",
    "print(descriptive_stats)"
   ]
  },
  {
   "cell_type": "code",
   "execution_count": 11,
   "id": "8dda6993",
   "metadata": {},
   "outputs": [],
   "source": [
    "listado_beneficiarios = listado_beneficiarios.drop(columns=['PROGRAMA', 'COMPONENTE', 'SUBCOMPONENTE', 'APOYO', 'ACTIVIDAD', 'ESLABÓN'])"
   ]
  },
  {
   "cell_type": "code",
   "execution_count": 12,
   "id": "fd241fe2",
   "metadata": {},
   "outputs": [],
   "source": [
    "rows_with_nan = listado_beneficiarios[listado_beneficiarios.isna().any(axis=1)]"
   ]
  },
  {
   "cell_type": "code",
   "execution_count": 13,
   "id": "2d3a1d18",
   "metadata": {},
   "outputs": [
    {
     "data": {
      "text/html": [
       "<div>\n",
       "<style scoped>\n",
       "    .dataframe tbody tr th:only-of-type {\n",
       "        vertical-align: middle;\n",
       "    }\n",
       "\n",
       "    .dataframe tbody tr th {\n",
       "        vertical-align: top;\n",
       "    }\n",
       "\n",
       "    .dataframe thead th {\n",
       "        text-align: right;\n",
       "    }\n",
       "</style>\n",
       "<table border=\"1\" class=\"dataframe\">\n",
       "  <thead>\n",
       "    <tr style=\"text-align: right;\">\n",
       "      <th></th>\n",
       "      <th>BENEFICIARIO</th>\n",
       "      <th>ZONA</th>\n",
       "      <th>ENTIDAD</th>\n",
       "      <th>MUNICIPIO</th>\n",
       "      <th>LOCALIDAD</th>\n",
       "      <th>ESTRATIFICACIÓN</th>\n",
       "      <th>PRODUCTO</th>\n",
       "      <th>FECHA</th>\n",
       "      <th>MONTO FEDERAL</th>\n",
       "      <th>CICLO AGRÍCOLA</th>\n",
       "    </tr>\n",
       "  </thead>\n",
       "  <tbody>\n",
       "    <tr>\n",
       "      <th>826382</th>\n",
       "      <td>NaN</td>\n",
       "      <td>NaN</td>\n",
       "      <td>NaN</td>\n",
       "      <td>NaN</td>\n",
       "      <td>NaN</td>\n",
       "      <td>NaN</td>\n",
       "      <td>NaN</td>\n",
       "      <td>NaN</td>\n",
       "      <td>NaN</td>\n",
       "      <td>NaN</td>\n",
       "    </tr>\n",
       "    <tr>\n",
       "      <th>826383</th>\n",
       "      <td>NaN</td>\n",
       "      <td>NaN</td>\n",
       "      <td>NaN</td>\n",
       "      <td>NaN</td>\n",
       "      <td>NaN</td>\n",
       "      <td>NaN</td>\n",
       "      <td>NaN</td>\n",
       "      <td>NaN</td>\n",
       "      <td>NaN</td>\n",
       "      <td>NaN</td>\n",
       "    </tr>\n",
       "    <tr>\n",
       "      <th>826384</th>\n",
       "      <td>\"Nota: El Sistema de Rendición de Cuentas sobr...</td>\n",
       "      <td>NaN</td>\n",
       "      <td>NaN</td>\n",
       "      <td>NaN</td>\n",
       "      <td>NaN</td>\n",
       "      <td>NaN</td>\n",
       "      <td>NaN</td>\n",
       "      <td>NaN</td>\n",
       "      <td>NaN</td>\n",
       "      <td>NaN</td>\n",
       "    </tr>\n",
       "    <tr>\n",
       "      <th>1221368</th>\n",
       "      <td>NaN</td>\n",
       "      <td>NaN</td>\n",
       "      <td>NaN</td>\n",
       "      <td>NaN</td>\n",
       "      <td>NaN</td>\n",
       "      <td>NaN</td>\n",
       "      <td>NaN</td>\n",
       "      <td>NaN</td>\n",
       "      <td>NaN</td>\n",
       "      <td>NaN</td>\n",
       "    </tr>\n",
       "    <tr>\n",
       "      <th>1221369</th>\n",
       "      <td>NaN</td>\n",
       "      <td>NaN</td>\n",
       "      <td>NaN</td>\n",
       "      <td>NaN</td>\n",
       "      <td>NaN</td>\n",
       "      <td>NaN</td>\n",
       "      <td>NaN</td>\n",
       "      <td>NaN</td>\n",
       "      <td>NaN</td>\n",
       "      <td>NaN</td>\n",
       "    </tr>\n",
       "    <tr>\n",
       "      <th>1221370</th>\n",
       "      <td>\"Nota: El Sistema de Rendición de Cuentas sobr...</td>\n",
       "      <td>NaN</td>\n",
       "      <td>NaN</td>\n",
       "      <td>NaN</td>\n",
       "      <td>NaN</td>\n",
       "      <td>NaN</td>\n",
       "      <td>NaN</td>\n",
       "      <td>NaN</td>\n",
       "      <td>NaN</td>\n",
       "      <td>NaN</td>\n",
       "    </tr>\n",
       "    <tr>\n",
       "      <th>1590492</th>\n",
       "      <td>NaN</td>\n",
       "      <td>NaN</td>\n",
       "      <td>NaN</td>\n",
       "      <td>NaN</td>\n",
       "      <td>NaN</td>\n",
       "      <td>NaN</td>\n",
       "      <td>NaN</td>\n",
       "      <td>NaN</td>\n",
       "      <td>NaN</td>\n",
       "      <td>NaN</td>\n",
       "    </tr>\n",
       "    <tr>\n",
       "      <th>1590493</th>\n",
       "      <td>NaN</td>\n",
       "      <td>NaN</td>\n",
       "      <td>NaN</td>\n",
       "      <td>NaN</td>\n",
       "      <td>NaN</td>\n",
       "      <td>NaN</td>\n",
       "      <td>NaN</td>\n",
       "      <td>NaN</td>\n",
       "      <td>NaN</td>\n",
       "      <td>NaN</td>\n",
       "    </tr>\n",
       "    <tr>\n",
       "      <th>1590494</th>\n",
       "      <td>\"Nota: El Sistema de Rendición de Cuentas sobr...</td>\n",
       "      <td>NaN</td>\n",
       "      <td>NaN</td>\n",
       "      <td>NaN</td>\n",
       "      <td>NaN</td>\n",
       "      <td>NaN</td>\n",
       "      <td>NaN</td>\n",
       "      <td>NaN</td>\n",
       "      <td>NaN</td>\n",
       "      <td>NaN</td>\n",
       "    </tr>\n",
       "    <tr>\n",
       "      <th>1869042</th>\n",
       "      <td>NaN</td>\n",
       "      <td>NaN</td>\n",
       "      <td>NaN</td>\n",
       "      <td>NaN</td>\n",
       "      <td>NaN</td>\n",
       "      <td>NaN</td>\n",
       "      <td>NaN</td>\n",
       "      <td>NaN</td>\n",
       "      <td>NaN</td>\n",
       "      <td>NaN</td>\n",
       "    </tr>\n",
       "    <tr>\n",
       "      <th>1869043</th>\n",
       "      <td>NaN</td>\n",
       "      <td>NaN</td>\n",
       "      <td>NaN</td>\n",
       "      <td>NaN</td>\n",
       "      <td>NaN</td>\n",
       "      <td>NaN</td>\n",
       "      <td>NaN</td>\n",
       "      <td>NaN</td>\n",
       "      <td>NaN</td>\n",
       "      <td>NaN</td>\n",
       "    </tr>\n",
       "    <tr>\n",
       "      <th>1869044</th>\n",
       "      <td>\"Nota: El Sistema de Rendición de Cuentas sobr...</td>\n",
       "      <td>NaN</td>\n",
       "      <td>NaN</td>\n",
       "      <td>NaN</td>\n",
       "      <td>NaN</td>\n",
       "      <td>NaN</td>\n",
       "      <td>NaN</td>\n",
       "      <td>NaN</td>\n",
       "      <td>NaN</td>\n",
       "      <td>NaN</td>\n",
       "    </tr>\n",
       "  </tbody>\n",
       "</table>\n",
       "</div>"
      ],
      "text/plain": [
       "                                              BENEFICIARIO ZONA ENTIDAD  \\\n",
       "826382                                                 NaN  NaN     NaN   \n",
       "826383                                                 NaN  NaN     NaN   \n",
       "826384   \"Nota: El Sistema de Rendición de Cuentas sobr...  NaN     NaN   \n",
       "1221368                                                NaN  NaN     NaN   \n",
       "1221369                                                NaN  NaN     NaN   \n",
       "1221370  \"Nota: El Sistema de Rendición de Cuentas sobr...  NaN     NaN   \n",
       "1590492                                                NaN  NaN     NaN   \n",
       "1590493                                                NaN  NaN     NaN   \n",
       "1590494  \"Nota: El Sistema de Rendición de Cuentas sobr...  NaN     NaN   \n",
       "1869042                                                NaN  NaN     NaN   \n",
       "1869043                                                NaN  NaN     NaN   \n",
       "1869044  \"Nota: El Sistema de Rendición de Cuentas sobr...  NaN     NaN   \n",
       "\n",
       "        MUNICIPIO LOCALIDAD ESTRATIFICACIÓN PRODUCTO FECHA  MONTO FEDERAL  \\\n",
       "826382        NaN       NaN             NaN      NaN   NaN            NaN   \n",
       "826383        NaN       NaN             NaN      NaN   NaN            NaN   \n",
       "826384        NaN       NaN             NaN      NaN   NaN            NaN   \n",
       "1221368       NaN       NaN             NaN      NaN   NaN            NaN   \n",
       "1221369       NaN       NaN             NaN      NaN   NaN            NaN   \n",
       "1221370       NaN       NaN             NaN      NaN   NaN            NaN   \n",
       "1590492       NaN       NaN             NaN      NaN   NaN            NaN   \n",
       "1590493       NaN       NaN             NaN      NaN   NaN            NaN   \n",
       "1590494       NaN       NaN             NaN      NaN   NaN            NaN   \n",
       "1869042       NaN       NaN             NaN      NaN   NaN            NaN   \n",
       "1869043       NaN       NaN             NaN      NaN   NaN            NaN   \n",
       "1869044       NaN       NaN             NaN      NaN   NaN            NaN   \n",
       "\n",
       "        CICLO AGRÍCOLA  \n",
       "826382             NaN  \n",
       "826383             NaN  \n",
       "826384             NaN  \n",
       "1221368            NaN  \n",
       "1221369            NaN  \n",
       "1221370            NaN  \n",
       "1590492            NaN  \n",
       "1590493            NaN  \n",
       "1590494            NaN  \n",
       "1869042            NaN  \n",
       "1869043            NaN  \n",
       "1869044            NaN  "
      ]
     },
     "execution_count": 13,
     "metadata": {},
     "output_type": "execute_result"
    }
   ],
   "source": [
    "rows_with_nan"
   ]
  },
  {
   "cell_type": "markdown",
   "id": "37f4e47a",
   "metadata": {},
   "source": [
    "# QUE HACEMOS CON ESTAS NOTAS?"
   ]
  },
  {
   "cell_type": "code",
   "execution_count": 14,
   "id": "3592077c",
   "metadata": {},
   "outputs": [],
   "source": [
    "listado_beneficiarios = listado_beneficiarios.drop(rows_with_nan.index)"
   ]
  },
  {
   "cell_type": "code",
   "execution_count": 15,
   "id": "fff3da6c",
   "metadata": {},
   "outputs": [
    {
     "data": {
      "text/plain": [
       "BENEFICIARIO       0\n",
       "ZONA               0\n",
       "ENTIDAD            0\n",
       "MUNICIPIO          0\n",
       "LOCALIDAD          0\n",
       "ESTRATIFICACIÓN    0\n",
       "PRODUCTO           0\n",
       "FECHA              0\n",
       "MONTO FEDERAL      0\n",
       "CICLO AGRÍCOLA     0\n",
       "dtype: int64"
      ]
     },
     "execution_count": 15,
     "metadata": {},
     "output_type": "execute_result"
    }
   ],
   "source": [
    "listado_beneficiarios.isna().sum()"
   ]
  },
  {
   "cell_type": "code",
   "execution_count": 16,
   "id": "a34b9233",
   "metadata": {},
   "outputs": [
    {
     "data": {
      "text/html": [
       "<div>\n",
       "<style scoped>\n",
       "    .dataframe tbody tr th:only-of-type {\n",
       "        vertical-align: middle;\n",
       "    }\n",
       "\n",
       "    .dataframe tbody tr th {\n",
       "        vertical-align: top;\n",
       "    }\n",
       "\n",
       "    .dataframe thead th {\n",
       "        text-align: right;\n",
       "    }\n",
       "</style>\n",
       "<table border=\"1\" class=\"dataframe\">\n",
       "  <thead>\n",
       "    <tr style=\"text-align: right;\">\n",
       "      <th></th>\n",
       "      <th>BENEFICIARIO</th>\n",
       "      <th>ZONA</th>\n",
       "      <th>ENTIDAD</th>\n",
       "      <th>MUNICIPIO</th>\n",
       "      <th>LOCALIDAD</th>\n",
       "      <th>ESTRATIFICACIÓN</th>\n",
       "      <th>PRODUCTO</th>\n",
       "      <th>FECHA</th>\n",
       "      <th>MONTO FEDERAL</th>\n",
       "      <th>CICLO AGRÍCOLA</th>\n",
       "    </tr>\n",
       "  </thead>\n",
       "  <tbody>\n",
       "    <tr>\n",
       "      <th>0</th>\n",
       "      <td>ABAC NERI JESUS CARLOS</td>\n",
       "      <td>CENTRO PAÍS</td>\n",
       "      <td>GUERRERO</td>\n",
       "      <td>COYUCA DE BENÍTEZ</td>\n",
       "      <td>PUEBLO VIEJO</td>\n",
       "      <td>Alto</td>\n",
       "      <td>Cultivo de maíz grano blanco</td>\n",
       "      <td>2022-06-26</td>\n",
       "      <td>12244.18</td>\n",
       "      <td>PV2022</td>\n",
       "    </tr>\n",
       "    <tr>\n",
       "      <th>1</th>\n",
       "      <td>ABAD ALARCON ELIAZAR</td>\n",
       "      <td>CENTRO PAÍS</td>\n",
       "      <td>GUERRERO</td>\n",
       "      <td>COYUCA DE BENÍTEZ</td>\n",
       "      <td>PUEBLO VIEJO</td>\n",
       "      <td>Alto</td>\n",
       "      <td>Cultivo de maíz grano blanco</td>\n",
       "      <td>2022-06-26</td>\n",
       "      <td>6122.09</td>\n",
       "      <td>PV2022</td>\n",
       "    </tr>\n",
       "    <tr>\n",
       "      <th>2</th>\n",
       "      <td>ABAD ALARCON EZEQUIEL</td>\n",
       "      <td>CENTRO PAÍS</td>\n",
       "      <td>GUERRERO</td>\n",
       "      <td>COYUCA DE BENÍTEZ</td>\n",
       "      <td>AGUA ZARCA</td>\n",
       "      <td>Alto</td>\n",
       "      <td>Cultivo de maíz grano blanco</td>\n",
       "      <td>2022-07-12</td>\n",
       "      <td>12244.18</td>\n",
       "      <td>PV2022</td>\n",
       "    </tr>\n",
       "    <tr>\n",
       "      <th>3</th>\n",
       "      <td>ABAD ALARCON FULGENCIO</td>\n",
       "      <td>CENTRO PAÍS</td>\n",
       "      <td>GUERRERO</td>\n",
       "      <td>COYUCA DE BENÍTEZ</td>\n",
       "      <td>AGUA ZARCA</td>\n",
       "      <td>Alto</td>\n",
       "      <td>Cultivo de maíz grano blanco</td>\n",
       "      <td>2022-07-12</td>\n",
       "      <td>12244.18</td>\n",
       "      <td>PV2022</td>\n",
       "    </tr>\n",
       "    <tr>\n",
       "      <th>4</th>\n",
       "      <td>ABAD ALARCON ROMALDA</td>\n",
       "      <td>CENTRO PAÍS</td>\n",
       "      <td>GUERRERO</td>\n",
       "      <td>COYUCA DE BENÍTEZ</td>\n",
       "      <td>YERBASANTITA</td>\n",
       "      <td>Alto</td>\n",
       "      <td>Cultivo de maíz grano blanco</td>\n",
       "      <td>2022-06-20</td>\n",
       "      <td>12244.18</td>\n",
       "      <td>PV2022</td>\n",
       "    </tr>\n",
       "  </tbody>\n",
       "</table>\n",
       "</div>"
      ],
      "text/plain": [
       "              BENEFICIARIO         ZONA   ENTIDAD          MUNICIPIO  \\\n",
       "0  ABAC NERI JESUS CARLOS   CENTRO PAÍS  GUERRERO  COYUCA DE BENÍTEZ   \n",
       "1    ABAD ALARCON ELIAZAR   CENTRO PAÍS  GUERRERO  COYUCA DE BENÍTEZ   \n",
       "2   ABAD ALARCON EZEQUIEL   CENTRO PAÍS  GUERRERO  COYUCA DE BENÍTEZ   \n",
       "3  ABAD ALARCON FULGENCIO   CENTRO PAÍS  GUERRERO  COYUCA DE BENÍTEZ   \n",
       "4    ABAD ALARCON ROMALDA   CENTRO PAÍS  GUERRERO  COYUCA DE BENÍTEZ   \n",
       "\n",
       "      LOCALIDAD ESTRATIFICACIÓN                      PRODUCTO       FECHA  \\\n",
       "0  PUEBLO VIEJO            Alto  Cultivo de maíz grano blanco  2022-06-26   \n",
       "1  PUEBLO VIEJO            Alto  Cultivo de maíz grano blanco  2022-06-26   \n",
       "2    AGUA ZARCA            Alto  Cultivo de maíz grano blanco  2022-07-12   \n",
       "3    AGUA ZARCA            Alto  Cultivo de maíz grano blanco  2022-07-12   \n",
       "4  YERBASANTITA            Alto  Cultivo de maíz grano blanco  2022-06-20   \n",
       "\n",
       "   MONTO FEDERAL CICLO AGRÍCOLA  \n",
       "0       12244.18         PV2022  \n",
       "1        6122.09         PV2022  \n",
       "2       12244.18         PV2022  \n",
       "3       12244.18         PV2022  \n",
       "4       12244.18         PV2022  "
      ]
     },
     "execution_count": 16,
     "metadata": {},
     "output_type": "execute_result"
    }
   ],
   "source": [
    "listado_beneficiarios.head()"
   ]
  },
  {
   "cell_type": "code",
   "execution_count": 17,
   "id": "001e5b4d",
   "metadata": {},
   "outputs": [],
   "source": [
    "Estados_beneficiarios2019_2022 = listado_beneficiarios[['ENTIDAD', 'MUNICIPIO', 'LOCALIDAD']]"
   ]
  },
  {
   "cell_type": "code",
   "execution_count": 18,
   "id": "02be04ce",
   "metadata": {},
   "outputs": [],
   "source": [
    "Estados_beneficiarios2019_2022 = Estados_beneficiarios2019_2022.drop_duplicates()"
   ]
  },
  {
   "cell_type": "code",
   "execution_count": 19,
   "id": "33a9e34f",
   "metadata": {},
   "outputs": [],
   "source": [
    "# Estandarizamos la limpieza de los datos\n",
    "Estados_beneficiarios2019_2022['ESTADO_c_benef'] = Estados_beneficiarios2019_2022['ENTIDAD'].apply(clean_text)\n",
    "Estados_beneficiarios2019_2022['MUNICIPIO_c_benef'] = Estados_beneficiarios2019_2022['MUNICIPIO'].apply(clean_text)\n",
    "Estados_beneficiarios2019_2022['LOCALIDAD_c_benef'] = Estados_beneficiarios2019_2022['LOCALIDAD'].apply(clean_text)\n"
   ]
  },
  {
   "cell_type": "code",
   "execution_count": 20,
   "id": "bdd2411f",
   "metadata": {},
   "outputs": [
    {
     "data": {
      "text/plain": [
       "(13219, 6)"
      ]
     },
     "execution_count": 20,
     "metadata": {},
     "output_type": "execute_result"
    }
   ],
   "source": [
    "Estados_beneficiarios2019_2022.shape"
   ]
  },
  {
   "cell_type": "code",
   "execution_count": 21,
   "id": "5407ac1e",
   "metadata": {},
   "outputs": [
    {
     "data": {
      "text/html": [
       "<div>\n",
       "<style scoped>\n",
       "    .dataframe tbody tr th:only-of-type {\n",
       "        vertical-align: middle;\n",
       "    }\n",
       "\n",
       "    .dataframe tbody tr th {\n",
       "        vertical-align: top;\n",
       "    }\n",
       "\n",
       "    .dataframe thead th {\n",
       "        text-align: right;\n",
       "    }\n",
       "</style>\n",
       "<table border=\"1\" class=\"dataframe\">\n",
       "  <thead>\n",
       "    <tr style=\"text-align: right;\">\n",
       "      <th></th>\n",
       "      <th>ENTIDAD</th>\n",
       "      <th>MUNICIPIO</th>\n",
       "      <th>LOCALIDAD</th>\n",
       "      <th>ESTADO_c_benef</th>\n",
       "      <th>MUNICIPIO_c_benef</th>\n",
       "      <th>LOCALIDAD_c_benef</th>\n",
       "      <th>KEY_benef</th>\n",
       "      <th>KEY_benef_localidad</th>\n",
       "    </tr>\n",
       "  </thead>\n",
       "  <tbody>\n",
       "    <tr>\n",
       "      <th>0</th>\n",
       "      <td>GUERRERO</td>\n",
       "      <td>COYUCA DE BENÍTEZ</td>\n",
       "      <td>PUEBLO VIEJO</td>\n",
       "      <td>guerrero</td>\n",
       "      <td>coyuca de benitez</td>\n",
       "      <td>pueblo viejo</td>\n",
       "      <td>guerrero-coyuca de benitez</td>\n",
       "      <td>guerrero-coyuca de benitez</td>\n",
       "    </tr>\n",
       "    <tr>\n",
       "      <th>2</th>\n",
       "      <td>GUERRERO</td>\n",
       "      <td>COYUCA DE BENÍTEZ</td>\n",
       "      <td>AGUA ZARCA</td>\n",
       "      <td>guerrero</td>\n",
       "      <td>coyuca de benitez</td>\n",
       "      <td>agua zarca</td>\n",
       "      <td>guerrero-coyuca de benitez</td>\n",
       "      <td>guerrero-coyuca de benitez</td>\n",
       "    </tr>\n",
       "    <tr>\n",
       "      <th>4</th>\n",
       "      <td>GUERRERO</td>\n",
       "      <td>COYUCA DE BENÍTEZ</td>\n",
       "      <td>YERBASANTITA</td>\n",
       "      <td>guerrero</td>\n",
       "      <td>coyuca de benitez</td>\n",
       "      <td>yerbasantita</td>\n",
       "      <td>guerrero-coyuca de benitez</td>\n",
       "      <td>guerrero-coyuca de benitez</td>\n",
       "    </tr>\n",
       "    <tr>\n",
       "      <th>5</th>\n",
       "      <td>GUERRERO</td>\n",
       "      <td>CUTZAMALA DE PINZÓN</td>\n",
       "      <td>LIMÓN GRANDE</td>\n",
       "      <td>guerrero</td>\n",
       "      <td>cutzamala de pinzon</td>\n",
       "      <td>limon grande</td>\n",
       "      <td>guerrero-cutzamala de pinzon</td>\n",
       "      <td>guerrero-cutzamala de pinzon</td>\n",
       "    </tr>\n",
       "    <tr>\n",
       "      <th>6</th>\n",
       "      <td>OAXACA</td>\n",
       "      <td>SAN JUAN GUICHICOVI</td>\n",
       "      <td>SAN JUAN GUICHICOVI</td>\n",
       "      <td>oaxaca</td>\n",
       "      <td>san juan guichicovi</td>\n",
       "      <td>san juan guichicovi</td>\n",
       "      <td>oaxaca-san juan guichicovi</td>\n",
       "      <td>oaxaca-san juan guichicovi</td>\n",
       "    </tr>\n",
       "  </tbody>\n",
       "</table>\n",
       "</div>"
      ],
      "text/plain": [
       "    ENTIDAD            MUNICIPIO            LOCALIDAD ESTADO_c_benef  \\\n",
       "0  GUERRERO    COYUCA DE BENÍTEZ         PUEBLO VIEJO       guerrero   \n",
       "2  GUERRERO    COYUCA DE BENÍTEZ           AGUA ZARCA       guerrero   \n",
       "4  GUERRERO    COYUCA DE BENÍTEZ         YERBASANTITA       guerrero   \n",
       "5  GUERRERO  CUTZAMALA DE PINZÓN         LIMÓN GRANDE       guerrero   \n",
       "6    OAXACA  SAN JUAN GUICHICOVI  SAN JUAN GUICHICOVI         oaxaca   \n",
       "\n",
       "     MUNICIPIO_c_benef    LOCALIDAD_c_benef                     KEY_benef  \\\n",
       "0    coyuca de benitez         pueblo viejo    guerrero-coyuca de benitez   \n",
       "2    coyuca de benitez           agua zarca    guerrero-coyuca de benitez   \n",
       "4    coyuca de benitez         yerbasantita    guerrero-coyuca de benitez   \n",
       "5  cutzamala de pinzon         limon grande  guerrero-cutzamala de pinzon   \n",
       "6  san juan guichicovi  san juan guichicovi    oaxaca-san juan guichicovi   \n",
       "\n",
       "            KEY_benef_localidad  \n",
       "0    guerrero-coyuca de benitez  \n",
       "2    guerrero-coyuca de benitez  \n",
       "4    guerrero-coyuca de benitez  \n",
       "5  guerrero-cutzamala de pinzon  \n",
       "6    oaxaca-san juan guichicovi  "
      ]
     },
     "execution_count": 21,
     "metadata": {},
     "output_type": "execute_result"
    }
   ],
   "source": [
    "Estados_beneficiarios2019_2022['KEY_benef'] = Estados_beneficiarios2019_2022['ESTADO_c_benef'].astype(str) + '-' + Estados_beneficiarios2019_2022[\n",
    "    'MUNICIPIO_c_benef'].astype(str)\n",
    "\n",
    "Estados_beneficiarios2019_2022['KEY_benef_localidad'] = Estados_beneficiarios2019_2022['ESTADO_c_benef'].astype(str) + '-' + Estados_beneficiarios2019_2022[\n",
    "    'MUNICIPIO_c_benef'].astype(str)\n",
    "\n",
    "Estados_beneficiarios2019_2022.head()\n"
   ]
  },
  {
   "cell_type": "code",
   "execution_count": 22,
   "id": "eba1c8548f6a16da",
   "metadata": {
    "ExecuteTime": {
     "end_time": "2024-05-30T14:01:40.725863Z",
     "start_time": "2024-05-30T14:01:40.615616Z"
    }
   },
   "outputs": [
    {
     "name": "stdout",
     "output_type": "stream",
     "text": [
      "                     count unique                         top  freq\n",
      "ENTIDAD              13219     10                    GUERRERO  5259\n",
      "MUNICIPIO            13219   1025           COYUCA DE CATALÁN   215\n",
      "LOCALIDAD            13219   9979                  BUENAVISTA    37\n",
      "ESTADO_c_benef       13219     10                    guerrero  5259\n",
      "MUNICIPIO_c_benef    13219   1025           coyuca de catalan   215\n",
      "LOCALIDAD_c_benef    13219   9969                  buenavista    37\n",
      "KEY_benef            13219   1033  guerrero-coyuca de catalan   215\n",
      "KEY_benef_localidad  13219   1033  guerrero-coyuca de catalan   215\n"
     ]
    }
   ],
   "source": [
    "# Valores únicos y la cantidad de cada columna\n",
    "# Obtener estadísticas descriptivas para todas las variables\n",
    "\n",
    "descriptive_stats = Estados_beneficiarios2019_2022.describe(include='all').transpose()\n",
    "\n",
    "# Mostrar las estadísticas descriptivas\n",
    "print(descriptive_stats)"
   ]
  },
  {
   "cell_type": "code",
   "execution_count": 23,
   "id": "848799ff",
   "metadata": {},
   "outputs": [],
   "source": [
    "Estados_beneficiarios2019_2022 = Estados_beneficiarios2019_2022.drop_duplicates(subset='KEY_benef')"
   ]
  },
  {
   "cell_type": "code",
   "execution_count": 24,
   "id": "9f303077",
   "metadata": {},
   "outputs": [
    {
     "data": {
      "text/plain": [
       "(1033, 8)"
      ]
     },
     "execution_count": 24,
     "metadata": {},
     "output_type": "execute_result"
    }
   ],
   "source": [
    "Estados_beneficiarios2019_2022.shape"
   ]
  },
  {
   "cell_type": "markdown",
   "id": "de63cbc9",
   "metadata": {},
   "source": [
    "### 2.1.2 Reducción de inegi en base a estados beneficiarios."
   ]
  },
  {
   "cell_type": "code",
   "execution_count": 25,
   "id": "433e81bd",
   "metadata": {},
   "outputs": [
    {
     "name": "stdout",
     "output_type": "stream",
     "text": [
      "['guerrero', 'oaxaca', 'puebla', 'morelos', 'chiapas', 'durango', 'tlaxcala', 'nayarit', 'zacatecas', 'nacional']\n"
     ]
    }
   ],
   "source": [
    "unique_entidad_list_benef = Estados_beneficiarios2019_2022['ESTADO_c_benef'].unique().tolist()\n",
    "print(unique_entidad_list_benef)"
   ]
  },
  {
   "cell_type": "markdown",
   "id": "9baec378",
   "metadata": {},
   "source": [
    "# Que es nacional?"
   ]
  },
  {
   "cell_type": "code",
   "execution_count": 26,
   "id": "b3cb4525",
   "metadata": {},
   "outputs": [
    {
     "data": {
      "text/plain": [
       "(299568, 9)"
      ]
     },
     "execution_count": 26,
     "metadata": {},
     "output_type": "execute_result"
    }
   ],
   "source": [
    "dataset_inegi_clean.shape"
   ]
  },
  {
   "cell_type": "code",
   "execution_count": 27,
   "id": "dc99cdfa",
   "metadata": {},
   "outputs": [],
   "source": [
    "dataset_inegi_clean_filtered = dataset_inegi_clean[dataset_inegi_clean['Entidad_c_inegi'].isin(unique_entidad_list_benef)]"
   ]
  },
  {
   "cell_type": "code",
   "execution_count": 28,
   "id": "a9055bb1",
   "metadata": {},
   "outputs": [
    {
     "name": "stdout",
     "output_type": "stream",
     "text": [
      "['chiapas', 'durango', 'guerrero', 'morelos', 'nayarit', 'oaxaca', 'puebla', 'tlaxcala', 'zacatecas']\n"
     ]
    }
   ],
   "source": [
    "unique_entidad_list_inegi = dataset_inegi_clean_filtered['Entidad_c_inegi'].unique().tolist()\n",
    "print(unique_entidad_list_inegi)"
   ]
  },
  {
   "cell_type": "code",
   "execution_count": 29,
   "id": "c7307e0a",
   "metadata": {},
   "outputs": [
    {
     "data": {
      "text/plain": [
       "(83449, 9)"
      ]
     },
     "execution_count": 29,
     "metadata": {},
     "output_type": "execute_result"
    }
   ],
   "source": [
    "dataset_inegi_clean_filtered.shape"
   ]
  },
  {
   "cell_type": "code",
   "execution_count": 30,
   "id": "e2d9a37f",
   "metadata": {},
   "outputs": [],
   "source": [
    "dataset_inegi_clean = dataset_inegi_clean_filtered"
   ]
  },
  {
   "cell_type": "markdown",
   "id": "b3f039df",
   "metadata": {},
   "source": [
    "### 2.1 Inegi dataset"
   ]
  },
  {
   "cell_type": "code",
   "execution_count": 31,
   "id": "e78bcef6",
   "metadata": {},
   "outputs": [
    {
     "data": {
      "text/plain": [
       "Index(['CVE_ENT', 'Entidad_inegi', 'CVE_MUN', 'Municipio_inegi', 'CVE_LOC',\n",
       "       'Localidad_inegi', 'Entidad_c_inegi', 'Municipio_c_inegi',\n",
       "       'Localidad_c_inegi'],\n",
       "      dtype='object')"
      ]
     },
     "execution_count": 31,
     "metadata": {},
     "output_type": "execute_result"
    }
   ],
   "source": [
    "dataset_inegi_clean.columns"
   ]
  },
  {
   "cell_type": "code",
   "execution_count": 32,
   "id": "0f6a9818",
   "metadata": {},
   "outputs": [
    {
     "name": "stdout",
     "output_type": "stream",
     "text": [
      "Shape of dataset_inegi:  (83449, 9)\n",
      "Shape of dataset_inegi_uniquemun:  (1209, 9)\n",
      "Shape of dataset_inegi_uniqueloc:  (81569, 9)\n"
     ]
    }
   ],
   "source": [
    "# Revisamos la cantidad de filas y columnas del dataset\n",
    "print(\"Shape of dataset_inegi: \", dataset_inegi_clean.shape)\n",
    "\n",
    "dataset_inegi_uniquemun = dataset_inegi_clean.drop_duplicates(subset=['CVE_MUN', 'Municipio_inegi'], keep='first')\n",
    "print(\"Shape of dataset_inegi_uniquemun: \", dataset_inegi_uniquemun.shape)\n",
    "\n",
    "dataset_inegi_uniqueloc = dataset_inegi_clean.drop_duplicates(subset=['CVE_LOC', 'Localidad_inegi'], keep='first')\n",
    "print(\"Shape of dataset_inegi_uniqueloc: \", dataset_inegi_uniqueloc.shape)"
   ]
  },
  {
   "cell_type": "code",
   "execution_count": 33,
   "id": "c20076af",
   "metadata": {},
   "outputs": [
    {
     "data": {
      "text/plain": [
       "'\\n# Group by \\'Localidad_inegi\\' and aggregate unique \\'Municipio_inegi\\' values\\nlocalidad_municipio = dataset_inegi_clean.groupby(\\'Localidad_inegi\\')[\\'Municipio_inegi\\'].unique()\\n\\n# Create a summary string for each \\'localidad_inegi\\' showing count and municipio names\\nlocalidad_municipio_summary = localidad_municipio.apply(lambda x: f\"{len(x)} - {\\', \\'.join(x)}\")\\n\\n# Filter to find \\'localidad_inegi\\' with more than one \\'municipio_inegi\\'\\nmultiple_municipios_summary = localidad_municipio_summary[localidad_municipio.apply(len) > 1]\\n\\nprint(\"Localidad_inegi with multiple municipio_inegi values and their counts:\")\\nprint(multiple_municipios_summary)\\n'"
      ]
     },
     "execution_count": 33,
     "metadata": {},
     "output_type": "execute_result"
    }
   ],
   "source": [
    "'''\n",
    "# Group by 'Localidad_inegi' and aggregate unique 'Municipio_inegi' values\n",
    "localidad_municipio = dataset_inegi_clean.groupby('Localidad_inegi')['Municipio_inegi'].unique()\n",
    "\n",
    "# Create a summary string for each 'localidad_inegi' showing count and municipio names\n",
    "localidad_municipio_summary = localidad_municipio.apply(lambda x: f\"{len(x)} - {', '.join(x)}\")\n",
    "\n",
    "# Filter to find 'localidad_inegi' with more than one 'municipio_inegi'\n",
    "multiple_municipios_summary = localidad_municipio_summary[localidad_municipio.apply(len) > 1]\n",
    "\n",
    "print(\"Localidad_inegi with multiple municipio_inegi values and their counts:\")\n",
    "print(multiple_municipios_summary)\n",
    "'''"
   ]
  },
  {
   "cell_type": "markdown",
   "id": "9c192a97",
   "metadata": {},
   "source": [
    "Por aquí existen localidades con nombres de fechas lo cual debe ser común en México ya que se repiten en diversas ocasiones."
   ]
  },
  {
   "cell_type": "code",
   "execution_count": 34,
   "id": "5a671d94",
   "metadata": {},
   "outputs": [
    {
     "data": {
      "text/plain": [
       "\"\\n# Filter the dataset for rows where 'Municipio' equals '10 De Abril'\\nfiltered_dataset = dataset_inegi_clean[dataset_inegi_clean['Localidad_inegi'] == '10 de Abril']\\n\\n# Display the filtered dataset\\nprint(filtered_dataset)\\n\""
      ]
     },
     "execution_count": 34,
     "metadata": {},
     "output_type": "execute_result"
    }
   ],
   "source": [
    "'''\n",
    "# Filter the dataset for rows where 'Municipio' equals '10 De Abril'\n",
    "filtered_dataset = dataset_inegi_clean[dataset_inegi_clean['Localidad_inegi'] == '10 de Abril']\n",
    "\n",
    "# Display the filtered dataset\n",
    "print(filtered_dataset)\n",
    "'''"
   ]
  },
  {
   "cell_type": "markdown",
   "id": "8705d532",
   "metadata": {},
   "source": [
    "A partir de aquí seguimos trabajando con el listado de Estados y Municipios limpio de Inegi (sin repetir) \"dataset_inegi_uniquemun\"."
   ]
  },
  {
   "cell_type": "code",
   "execution_count": 35,
   "id": "e23cace9",
   "metadata": {},
   "outputs": [
    {
     "data": {
      "text/html": [
       "<div>\n",
       "<style scoped>\n",
       "    .dataframe tbody tr th:only-of-type {\n",
       "        vertical-align: middle;\n",
       "    }\n",
       "\n",
       "    .dataframe tbody tr th {\n",
       "        vertical-align: top;\n",
       "    }\n",
       "\n",
       "    .dataframe thead th {\n",
       "        text-align: right;\n",
       "    }\n",
       "</style>\n",
       "<table border=\"1\" class=\"dataframe\">\n",
       "  <thead>\n",
       "    <tr style=\"text-align: right;\">\n",
       "      <th></th>\n",
       "      <th>CVE_ENT</th>\n",
       "      <th>Entidad_inegi</th>\n",
       "      <th>CVE_MUN</th>\n",
       "      <th>Municipio_inegi</th>\n",
       "      <th>CVE_LOC</th>\n",
       "      <th>Localidad_inegi</th>\n",
       "      <th>Entidad_c_inegi</th>\n",
       "      <th>Municipio_c_inegi</th>\n",
       "      <th>Localidad_c_inegi</th>\n",
       "    </tr>\n",
       "  </thead>\n",
       "  <tbody>\n",
       "    <tr>\n",
       "      <th>33056</th>\n",
       "      <td>07</td>\n",
       "      <td>Chiapas</td>\n",
       "      <td>001</td>\n",
       "      <td>Acacoyagua</td>\n",
       "      <td>1</td>\n",
       "      <td>Acacoyagua</td>\n",
       "      <td>chiapas</td>\n",
       "      <td>acacoyagua</td>\n",
       "      <td>acacoyagua</td>\n",
       "    </tr>\n",
       "    <tr>\n",
       "      <th>33200</th>\n",
       "      <td>07</td>\n",
       "      <td>Chiapas</td>\n",
       "      <td>002</td>\n",
       "      <td>Acala</td>\n",
       "      <td>1</td>\n",
       "      <td>Acala</td>\n",
       "      <td>chiapas</td>\n",
       "      <td>acala</td>\n",
       "      <td>acala</td>\n",
       "    </tr>\n",
       "    <tr>\n",
       "      <th>33352</th>\n",
       "      <td>07</td>\n",
       "      <td>Chiapas</td>\n",
       "      <td>003</td>\n",
       "      <td>Acapetahua</td>\n",
       "      <td>1</td>\n",
       "      <td>Acapetahua</td>\n",
       "      <td>chiapas</td>\n",
       "      <td>acapetahua</td>\n",
       "      <td>acapetahua</td>\n",
       "    </tr>\n",
       "    <tr>\n",
       "      <th>33602</th>\n",
       "      <td>07</td>\n",
       "      <td>Chiapas</td>\n",
       "      <td>004</td>\n",
       "      <td>Altamirano</td>\n",
       "      <td>1</td>\n",
       "      <td>Altamirano</td>\n",
       "      <td>chiapas</td>\n",
       "      <td>altamirano</td>\n",
       "      <td>altamirano</td>\n",
       "    </tr>\n",
       "    <tr>\n",
       "      <th>33795</th>\n",
       "      <td>07</td>\n",
       "      <td>Chiapas</td>\n",
       "      <td>005</td>\n",
       "      <td>Amatán</td>\n",
       "      <td>1</td>\n",
       "      <td>Amatán</td>\n",
       "      <td>chiapas</td>\n",
       "      <td>amatan</td>\n",
       "      <td>amatan</td>\n",
       "    </tr>\n",
       "  </tbody>\n",
       "</table>\n",
       "</div>"
      ],
      "text/plain": [
       "      CVE_ENT Entidad_inegi CVE_MUN Municipio_inegi CVE_LOC Localidad_inegi  \\\n",
       "33056      07       Chiapas     001      Acacoyagua       1      Acacoyagua   \n",
       "33200      07       Chiapas     002           Acala       1           Acala   \n",
       "33352      07       Chiapas     003      Acapetahua       1      Acapetahua   \n",
       "33602      07       Chiapas     004      Altamirano       1      Altamirano   \n",
       "33795      07       Chiapas     005          Amatán       1          Amatán   \n",
       "\n",
       "      Entidad_c_inegi Municipio_c_inegi Localidad_c_inegi  \n",
       "33056         chiapas        acacoyagua        acacoyagua  \n",
       "33200         chiapas             acala             acala  \n",
       "33352         chiapas        acapetahua        acapetahua  \n",
       "33602         chiapas        altamirano        altamirano  \n",
       "33795         chiapas            amatan            amatan  "
      ]
     },
     "execution_count": 35,
     "metadata": {},
     "output_type": "execute_result"
    }
   ],
   "source": [
    "# Revisamos las primeras filas del dataset con las columnas seleccionadas\n",
    "dataset_inegi_uniquemun.head()"
   ]
  },
  {
   "cell_type": "code",
   "execution_count": 36,
   "id": "5ad1ef5c",
   "metadata": {},
   "outputs": [
    {
     "name": "stdout",
     "output_type": "stream",
     "text": [
      "<class 'pandas.core.frame.DataFrame'>\n",
      "Index: 1209 entries, 33056 to 299526\n",
      "Data columns (total 9 columns):\n",
      " #   Column             Non-Null Count  Dtype \n",
      "---  ------             --------------  ----- \n",
      " 0   CVE_ENT            1209 non-null   object\n",
      " 1   Entidad_inegi      1209 non-null   object\n",
      " 2   CVE_MUN            1209 non-null   object\n",
      " 3   Municipio_inegi    1209 non-null   object\n",
      " 4   CVE_LOC            1209 non-null   object\n",
      " 5   Localidad_inegi    1209 non-null   object\n",
      " 6   Entidad_c_inegi    1209 non-null   object\n",
      " 7   Municipio_c_inegi  1209 non-null   object\n",
      " 8   Localidad_c_inegi  1209 non-null   object\n",
      "dtypes: object(9)\n",
      "memory usage: 94.5+ KB\n"
     ]
    }
   ],
   "source": [
    "dataset_inegi_uniquemun.info()"
   ]
  },
  {
   "cell_type": "code",
   "execution_count": 37,
   "id": "454cdbdc",
   "metadata": {},
   "outputs": [
    {
     "name": "stdout",
     "output_type": "stream",
     "text": [
      "Los valores únicos en cada columna son:\n",
      " CVE_ENT                 9\n",
      "Entidad_inegi           9\n",
      "CVE_MUN               570\n",
      "Municipio_inegi      1192\n",
      "CVE_LOC                 2\n",
      "Localidad_inegi      1197\n",
      "Entidad_c_inegi         9\n",
      "Municipio_c_inegi    1192\n",
      "Localidad_c_inegi    1197\n",
      "dtype: int64\n"
     ]
    }
   ],
   "source": [
    "print(\"Los valores únicos en cada columna son:\\n\", dataset_inegi_uniquemun.nunique())"
   ]
  },
  {
   "cell_type": "code",
   "execution_count": 38,
   "id": "a66f279a",
   "metadata": {},
   "outputs": [
    {
     "name": "stdout",
     "output_type": "stream",
     "text": [
      "Los valores únicos en cada columna son:\n",
      " CVE_ENT                  9\n",
      "Entidad_inegi            9\n",
      "CVE_MUN                570\n",
      "Municipio_inegi       1192\n",
      "CVE_LOC               3286\n",
      "Localidad_inegi      45780\n",
      "Entidad_c_inegi          9\n",
      "Municipio_c_inegi     1192\n",
      "Localidad_c_inegi    45674\n",
      "dtype: int64\n"
     ]
    }
   ],
   "source": [
    "print(\"Los valores únicos en cada columna son:\\n\", dataset_inegi_uniqueloc.nunique())"
   ]
  },
  {
   "cell_type": "markdown",
   "id": "c98e4256",
   "metadata": {},
   "source": [
    "#### 2.2.1 Estandarización de nombre de municipios\n",
    "\n",
    "Con el fin de poder hacer un merge bajo los mismos nombres, hacemos una limpieza de los datos."
   ]
  },
  {
   "cell_type": "code",
   "execution_count": 39,
   "id": "ac395aa4",
   "metadata": {},
   "outputs": [
    {
     "name": "stderr",
     "output_type": "stream",
     "text": [
      "/var/folders/ng/n9ng0wy92t90_49j662nh02c0000gn/T/ipykernel_59794/2100087808.py:3: SettingWithCopyWarning: \n",
      "A value is trying to be set on a copy of a slice from a DataFrame.\n",
      "Try using .loc[row_indexer,col_indexer] = value instead\n",
      "\n",
      "See the caveats in the documentation: https://pandas.pydata.org/pandas-docs/stable/user_guide/indexing.html#returning-a-view-versus-a-copy\n",
      "  dataset_inegi_uniquemun['KEY_inegi'] = dataset_inegi_uniquemun['Entidad_c_inegi'].astype(str) + '-' + dataset_inegi_uniquemun[\n"
     ]
    },
    {
     "data": {
      "text/html": [
       "<div>\n",
       "<style scoped>\n",
       "    .dataframe tbody tr th:only-of-type {\n",
       "        vertical-align: middle;\n",
       "    }\n",
       "\n",
       "    .dataframe tbody tr th {\n",
       "        vertical-align: top;\n",
       "    }\n",
       "\n",
       "    .dataframe thead th {\n",
       "        text-align: right;\n",
       "    }\n",
       "</style>\n",
       "<table border=\"1\" class=\"dataframe\">\n",
       "  <thead>\n",
       "    <tr style=\"text-align: right;\">\n",
       "      <th></th>\n",
       "      <th>CVE_ENT</th>\n",
       "      <th>Entidad_inegi</th>\n",
       "      <th>CVE_MUN</th>\n",
       "      <th>Municipio_inegi</th>\n",
       "      <th>CVE_LOC</th>\n",
       "      <th>Localidad_inegi</th>\n",
       "      <th>Entidad_c_inegi</th>\n",
       "      <th>Municipio_c_inegi</th>\n",
       "      <th>Localidad_c_inegi</th>\n",
       "      <th>KEY_inegi</th>\n",
       "    </tr>\n",
       "  </thead>\n",
       "  <tbody>\n",
       "    <tr>\n",
       "      <th>33056</th>\n",
       "      <td>07</td>\n",
       "      <td>Chiapas</td>\n",
       "      <td>001</td>\n",
       "      <td>Acacoyagua</td>\n",
       "      <td>1</td>\n",
       "      <td>Acacoyagua</td>\n",
       "      <td>chiapas</td>\n",
       "      <td>acacoyagua</td>\n",
       "      <td>acacoyagua</td>\n",
       "      <td>chiapas-acacoyagua</td>\n",
       "    </tr>\n",
       "    <tr>\n",
       "      <th>33200</th>\n",
       "      <td>07</td>\n",
       "      <td>Chiapas</td>\n",
       "      <td>002</td>\n",
       "      <td>Acala</td>\n",
       "      <td>1</td>\n",
       "      <td>Acala</td>\n",
       "      <td>chiapas</td>\n",
       "      <td>acala</td>\n",
       "      <td>acala</td>\n",
       "      <td>chiapas-acala</td>\n",
       "    </tr>\n",
       "    <tr>\n",
       "      <th>33352</th>\n",
       "      <td>07</td>\n",
       "      <td>Chiapas</td>\n",
       "      <td>003</td>\n",
       "      <td>Acapetahua</td>\n",
       "      <td>1</td>\n",
       "      <td>Acapetahua</td>\n",
       "      <td>chiapas</td>\n",
       "      <td>acapetahua</td>\n",
       "      <td>acapetahua</td>\n",
       "      <td>chiapas-acapetahua</td>\n",
       "    </tr>\n",
       "    <tr>\n",
       "      <th>33602</th>\n",
       "      <td>07</td>\n",
       "      <td>Chiapas</td>\n",
       "      <td>004</td>\n",
       "      <td>Altamirano</td>\n",
       "      <td>1</td>\n",
       "      <td>Altamirano</td>\n",
       "      <td>chiapas</td>\n",
       "      <td>altamirano</td>\n",
       "      <td>altamirano</td>\n",
       "      <td>chiapas-altamirano</td>\n",
       "    </tr>\n",
       "    <tr>\n",
       "      <th>33795</th>\n",
       "      <td>07</td>\n",
       "      <td>Chiapas</td>\n",
       "      <td>005</td>\n",
       "      <td>Amatán</td>\n",
       "      <td>1</td>\n",
       "      <td>Amatán</td>\n",
       "      <td>chiapas</td>\n",
       "      <td>amatan</td>\n",
       "      <td>amatan</td>\n",
       "      <td>chiapas-amatan</td>\n",
       "    </tr>\n",
       "  </tbody>\n",
       "</table>\n",
       "</div>"
      ],
      "text/plain": [
       "      CVE_ENT Entidad_inegi CVE_MUN Municipio_inegi CVE_LOC Localidad_inegi  \\\n",
       "33056      07       Chiapas     001      Acacoyagua       1      Acacoyagua   \n",
       "33200      07       Chiapas     002           Acala       1           Acala   \n",
       "33352      07       Chiapas     003      Acapetahua       1      Acapetahua   \n",
       "33602      07       Chiapas     004      Altamirano       1      Altamirano   \n",
       "33795      07       Chiapas     005          Amatán       1          Amatán   \n",
       "\n",
       "      Entidad_c_inegi Municipio_c_inegi Localidad_c_inegi           KEY_inegi  \n",
       "33056         chiapas        acacoyagua        acacoyagua  chiapas-acacoyagua  \n",
       "33200         chiapas             acala             acala       chiapas-acala  \n",
       "33352         chiapas        acapetahua        acapetahua  chiapas-acapetahua  \n",
       "33602         chiapas        altamirano        altamirano  chiapas-altamirano  \n",
       "33795         chiapas            amatan            amatan      chiapas-amatan  "
      ]
     },
     "execution_count": 39,
     "metadata": {},
     "output_type": "execute_result"
    }
   ],
   "source": [
    "# Creamos una columna con la clave única por municipio\n",
    "\n",
    "dataset_inegi_uniquemun['KEY_inegi'] = dataset_inegi_uniquemun['Entidad_c_inegi'].astype(str) + '-' + dataset_inegi_uniquemun[\n",
    "    'Municipio_c_inegi'].astype(str)\n",
    "\n",
    "dataset_inegi_uniquemun.head()"
   ]
  },
  {
   "cell_type": "code",
   "execution_count": 40,
   "id": "d3e7ac25",
   "metadata": {},
   "outputs": [
    {
     "name": "stderr",
     "output_type": "stream",
     "text": [
      "/var/folders/ng/n9ng0wy92t90_49j662nh02c0000gn/T/ipykernel_59794/1997716209.py:1: SettingWithCopyWarning: \n",
      "A value is trying to be set on a copy of a slice from a DataFrame.\n",
      "Try using .loc[row_indexer,col_indexer] = value instead\n",
      "\n",
      "See the caveats in the documentation: https://pandas.pydata.org/pandas-docs/stable/user_guide/indexing.html#returning-a-view-versus-a-copy\n",
      "  dataset_inegi_uniqueloc['KEY_inegi_localidad'] = dataset_inegi_uniqueloc['Entidad_c_inegi'].astype(str) + '-' + dataset_inegi_uniqueloc[\n"
     ]
    },
    {
     "data": {
      "text/html": [
       "<div>\n",
       "<style scoped>\n",
       "    .dataframe tbody tr th:only-of-type {\n",
       "        vertical-align: middle;\n",
       "    }\n",
       "\n",
       "    .dataframe tbody tr th {\n",
       "        vertical-align: top;\n",
       "    }\n",
       "\n",
       "    .dataframe thead th {\n",
       "        text-align: right;\n",
       "    }\n",
       "</style>\n",
       "<table border=\"1\" class=\"dataframe\">\n",
       "  <thead>\n",
       "    <tr style=\"text-align: right;\">\n",
       "      <th></th>\n",
       "      <th>CVE_ENT</th>\n",
       "      <th>Entidad_inegi</th>\n",
       "      <th>CVE_MUN</th>\n",
       "      <th>Municipio_inegi</th>\n",
       "      <th>CVE_LOC</th>\n",
       "      <th>Localidad_inegi</th>\n",
       "      <th>Entidad_c_inegi</th>\n",
       "      <th>Municipio_c_inegi</th>\n",
       "      <th>Localidad_c_inegi</th>\n",
       "      <th>KEY_inegi_localidad</th>\n",
       "    </tr>\n",
       "  </thead>\n",
       "  <tbody>\n",
       "    <tr>\n",
       "      <th>33056</th>\n",
       "      <td>07</td>\n",
       "      <td>Chiapas</td>\n",
       "      <td>001</td>\n",
       "      <td>Acacoyagua</td>\n",
       "      <td>1</td>\n",
       "      <td>Acacoyagua</td>\n",
       "      <td>chiapas</td>\n",
       "      <td>acacoyagua</td>\n",
       "      <td>acacoyagua</td>\n",
       "      <td>chiapas-acacoyagua-acacoyagua</td>\n",
       "    </tr>\n",
       "    <tr>\n",
       "      <th>33057</th>\n",
       "      <td>07</td>\n",
       "      <td>Chiapas</td>\n",
       "      <td>001</td>\n",
       "      <td>Acacoyagua</td>\n",
       "      <td>2</td>\n",
       "      <td>Los Amates</td>\n",
       "      <td>chiapas</td>\n",
       "      <td>acacoyagua</td>\n",
       "      <td>los amates</td>\n",
       "      <td>chiapas-acacoyagua-los amates</td>\n",
       "    </tr>\n",
       "    <tr>\n",
       "      <th>33058</th>\n",
       "      <td>07</td>\n",
       "      <td>Chiapas</td>\n",
       "      <td>001</td>\n",
       "      <td>Acacoyagua</td>\n",
       "      <td>3</td>\n",
       "      <td>Arvin</td>\n",
       "      <td>chiapas</td>\n",
       "      <td>acacoyagua</td>\n",
       "      <td>arvin</td>\n",
       "      <td>chiapas-acacoyagua-arvin</td>\n",
       "    </tr>\n",
       "    <tr>\n",
       "      <th>33059</th>\n",
       "      <td>07</td>\n",
       "      <td>Chiapas</td>\n",
       "      <td>001</td>\n",
       "      <td>Acacoyagua</td>\n",
       "      <td>6</td>\n",
       "      <td>Los Cacaos</td>\n",
       "      <td>chiapas</td>\n",
       "      <td>acacoyagua</td>\n",
       "      <td>los cacaos</td>\n",
       "      <td>chiapas-acacoyagua-los cacaos</td>\n",
       "    </tr>\n",
       "    <tr>\n",
       "      <th>33060</th>\n",
       "      <td>07</td>\n",
       "      <td>Chiapas</td>\n",
       "      <td>001</td>\n",
       "      <td>Acacoyagua</td>\n",
       "      <td>7</td>\n",
       "      <td>El Castaño</td>\n",
       "      <td>chiapas</td>\n",
       "      <td>acacoyagua</td>\n",
       "      <td>el castano</td>\n",
       "      <td>chiapas-acacoyagua-el castano</td>\n",
       "    </tr>\n",
       "  </tbody>\n",
       "</table>\n",
       "</div>"
      ],
      "text/plain": [
       "      CVE_ENT Entidad_inegi CVE_MUN Municipio_inegi CVE_LOC Localidad_inegi  \\\n",
       "33056      07       Chiapas     001      Acacoyagua       1      Acacoyagua   \n",
       "33057      07       Chiapas     001      Acacoyagua       2      Los Amates   \n",
       "33058      07       Chiapas     001      Acacoyagua       3           Arvin   \n",
       "33059      07       Chiapas     001      Acacoyagua       6      Los Cacaos   \n",
       "33060      07       Chiapas     001      Acacoyagua       7      El Castaño   \n",
       "\n",
       "      Entidad_c_inegi Municipio_c_inegi Localidad_c_inegi  \\\n",
       "33056         chiapas        acacoyagua        acacoyagua   \n",
       "33057         chiapas        acacoyagua        los amates   \n",
       "33058         chiapas        acacoyagua             arvin   \n",
       "33059         chiapas        acacoyagua        los cacaos   \n",
       "33060         chiapas        acacoyagua        el castano   \n",
       "\n",
       "                 KEY_inegi_localidad  \n",
       "33056  chiapas-acacoyagua-acacoyagua  \n",
       "33057  chiapas-acacoyagua-los amates  \n",
       "33058       chiapas-acacoyagua-arvin  \n",
       "33059  chiapas-acacoyagua-los cacaos  \n",
       "33060  chiapas-acacoyagua-el castano  "
      ]
     },
     "execution_count": 40,
     "metadata": {},
     "output_type": "execute_result"
    }
   ],
   "source": [
    "dataset_inegi_uniqueloc['KEY_inegi_localidad'] = dataset_inegi_uniqueloc['Entidad_c_inegi'].astype(str) + '-' + dataset_inegi_uniqueloc[\n",
    "    'Municipio_c_inegi'].astype(str) + '-' + dataset_inegi_uniqueloc['Localidad_c_inegi'].astype(str)\n",
    "\n",
    "dataset_inegi_uniqueloc.head()"
   ]
  },
  {
   "cell_type": "code",
   "execution_count": 41,
   "id": "923314ed",
   "metadata": {},
   "outputs": [
    {
     "name": "stderr",
     "output_type": "stream",
     "text": [
      "/var/folders/ng/n9ng0wy92t90_49j662nh02c0000gn/T/ipykernel_59794/1014247258.py:1: SettingWithCopyWarning: \n",
      "A value is trying to be set on a copy of a slice from a DataFrame\n",
      "\n",
      "See the caveats in the documentation: https://pandas.pydata.org/pandas-docs/stable/user_guide/indexing.html#returning-a-view-versus-a-copy\n",
      "  dataset_inegi_uniquemun.drop_duplicates(subset=['KEY_inegi'], keep='first', inplace=True)\n"
     ]
    }
   ],
   "source": [
    "dataset_inegi_uniquemun.drop_duplicates(subset=['KEY_inegi'], keep='first', inplace=True)"
   ]
  },
  {
   "cell_type": "code",
   "execution_count": 42,
   "id": "25582709",
   "metadata": {},
   "outputs": [
    {
     "name": "stderr",
     "output_type": "stream",
     "text": [
      "/var/folders/ng/n9ng0wy92t90_49j662nh02c0000gn/T/ipykernel_59794/3976127218.py:1: SettingWithCopyWarning: \n",
      "A value is trying to be set on a copy of a slice from a DataFrame\n",
      "\n",
      "See the caveats in the documentation: https://pandas.pydata.org/pandas-docs/stable/user_guide/indexing.html#returning-a-view-versus-a-copy\n",
      "  dataset_inegi_uniqueloc.drop_duplicates(subset=['KEY_inegi_localidad'], keep='first', inplace=True)\n"
     ]
    }
   ],
   "source": [
    "dataset_inegi_uniqueloc.drop_duplicates(subset=['KEY_inegi_localidad'], keep='first', inplace=True)"
   ]
  },
  {
   "cell_type": "code",
   "execution_count": 43,
   "id": "edb35fb8",
   "metadata": {},
   "outputs": [
    {
     "data": {
      "text/plain": [
       "(1207, 10)"
      ]
     },
     "execution_count": 43,
     "metadata": {},
     "output_type": "execute_result"
    }
   ],
   "source": [
    "dataset_inegi_uniquemun.shape"
   ]
  },
  {
   "cell_type": "code",
   "execution_count": 44,
   "id": "6680cf09",
   "metadata": {},
   "outputs": [
    {
     "data": {
      "text/plain": [
       "(73985, 10)"
      ]
     },
     "execution_count": 44,
     "metadata": {},
     "output_type": "execute_result"
    }
   ],
   "source": [
    "dataset_inegi_uniqueloc.shape"
   ]
  },
  {
   "cell_type": "markdown",
   "id": "daa9f974cc33efa1",
   "metadata": {},
   "source": [
    "# 3. Diccionario de los datasets de INEGI Y LISTADO BENEFICIARIOS 2023\n",
    "\n",
    "El objetivo de esta sección es crear un diccionario de códigos según INEGI para los municipios Listado_beneficiarios2023. Para ello haremos un Left join entre Estados_Beneficiarios2023 y dataset_inegi_uniquemun."
   ]
  },
  {
   "cell_type": "markdown",
   "id": "ce912939",
   "metadata": {},
   "source": [
    "### 3.1 Creamos las columnas clave"
   ]
  },
  {
   "cell_type": "markdown",
   "id": "1aac072a",
   "metadata": {},
   "source": [
    "Confirmamos que tengamos las columnas clave en ambos datasets."
   ]
  },
  {
   "cell_type": "code",
   "execution_count": 45,
   "id": "8b81e8cb",
   "metadata": {},
   "outputs": [
    {
     "data": {
      "text/plain": [
       "Index(['ENTIDAD', 'MUNICIPIO', 'LOCALIDAD', 'ESTADO_c_benef',\n",
       "       'MUNICIPIO_c_benef', 'LOCALIDAD_c_benef', 'KEY_benef',\n",
       "       'KEY_benef_localidad'],\n",
       "      dtype='object')"
      ]
     },
     "execution_count": 45,
     "metadata": {},
     "output_type": "execute_result"
    }
   ],
   "source": [
    "Estados_beneficiarios2019_2022.columns "
   ]
  },
  {
   "cell_type": "code",
   "execution_count": 46,
   "id": "34685ce0",
   "metadata": {},
   "outputs": [
    {
     "data": {
      "text/plain": [
       "(1033, 8)"
      ]
     },
     "execution_count": 46,
     "metadata": {},
     "output_type": "execute_result"
    }
   ],
   "source": [
    "Estados_beneficiarios2019_2022.shape "
   ]
  },
  {
   "cell_type": "code",
   "execution_count": 47,
   "id": "8baf7b52",
   "metadata": {},
   "outputs": [
    {
     "data": {
      "text/plain": [
       "Index(['CVE_ENT', 'Entidad_inegi', 'CVE_MUN', 'Municipio_inegi', 'CVE_LOC',\n",
       "       'Localidad_inegi', 'Entidad_c_inegi', 'Municipio_c_inegi',\n",
       "       'Localidad_c_inegi', 'KEY_inegi'],\n",
       "      dtype='object')"
      ]
     },
     "execution_count": 47,
     "metadata": {},
     "output_type": "execute_result"
    }
   ],
   "source": [
    "dataset_inegi_uniquemun.columns"
   ]
  },
  {
   "cell_type": "code",
   "execution_count": 48,
   "id": "0641b1e3",
   "metadata": {},
   "outputs": [
    {
     "data": {
      "text/plain": [
       "(1207, 10)"
      ]
     },
     "execution_count": 48,
     "metadata": {},
     "output_type": "execute_result"
    }
   ],
   "source": [
    "dataset_inegi_uniquemun.shape "
   ]
  },
  {
   "cell_type": "markdown",
   "id": "54bf8df24ed21525",
   "metadata": {},
   "source": [
    "### 3.1 Left join (Para crear diccionario)\n",
    "\n",
    "Creamos el diccionario."
   ]
  },
  {
   "cell_type": "code",
   "execution_count": 49,
   "id": "ad6eaef8",
   "metadata": {},
   "outputs": [],
   "source": [
    "# Crear una función para encontrar la mejor coincidencia difusa con límites entre 90 y 100 de coincidencia\n",
    "def fuzzy_merge_benef2019_2022(df_benef, df_inegi, key1, key2, threshold=50, limit=1):\n",
    "    \"\"\"\n",
    "    df_inegi: DataFrame de la izquierda (el DataFrame principal)\n",
    "    df_prod: DataFrame de la derecha (el DataFrame con el que se quiere hacer el join)\n",
    "    key1: Columna de la clave en df_inegi\n",
    "    key2: Columna de la clave en df_prod\n",
    "    threshold: Umbral de coincidencia difusa\n",
    "    limit: Número de coincidencias a encontrar\n",
    "    \"\"\"\n",
    "    s = df_inegi[key2].tolist()\n",
    "    \n",
    "    # Encontrar las mejores coincidencias para cada clave en df_inegi\n",
    "    matches = df_benef[key1].apply(lambda x: process.extractOne(x, s, score_cutoff=threshold))\n",
    "\n",
    "\n",
    "    # Crear una columna con las mejores coincidencias\n",
    "    df_benef['best_match'] = [match[0] if match else None for match in matches]\n",
    "    \n",
    "    df_benef['match_score'] = [match[1] if match else None for match in matches]\n",
    "    \n",
    "\n",
    "    # Hacer el merge con las mejores coincidencias\n",
    "    df_merged = pd.merge(df_benef, df_inegi, left_on= 'best_match', right_on=key2, how='left',\n",
    "                         suffixes=('_benef', '_inegi'))\n",
    "    \n",
    "    return df_merged"
   ]
  },
  {
   "cell_type": "code",
   "execution_count": 50,
   "id": "ef162063",
   "metadata": {},
   "outputs": [
    {
     "data": {
      "text/plain": [
       "Index(['ENTIDAD', 'MUNICIPIO', 'LOCALIDAD', 'ESTADO_c_benef',\n",
       "       'MUNICIPIO_c_benef', 'LOCALIDAD_c_benef', 'KEY_benef',\n",
       "       'KEY_benef_localidad', 'best_match', 'match_score', 'CVE_ENT',\n",
       "       'Entidad_inegi', 'CVE_MUN', 'Municipio_inegi', 'CVE_LOC',\n",
       "       'Localidad_inegi', 'Entidad_c_inegi', 'Municipio_c_inegi',\n",
       "       'Localidad_c_inegi', 'KEY_inegi'],\n",
       "      dtype='object')"
      ]
     },
     "execution_count": 50,
     "metadata": {},
     "output_type": "execute_result"
    }
   ],
   "source": [
    "diccionario = fuzzy_merge_benef2019_2022(Estados_beneficiarios2019_2022, dataset_inegi_uniquemun, 'KEY_benef', 'KEY_inegi')\n",
    "# Mostrar el resultado\n",
    "diccionario.columns"
   ]
  },
  {
   "cell_type": "code",
   "execution_count": 51,
   "id": "3cd88963",
   "metadata": {},
   "outputs": [
    {
     "data": {
      "text/plain": [
       "\"\\ndiccionario = fuzzy_merge_benef2019_2022(Estados_beneficiarios2019_2022, dataset_inegi_uniqueloc, 'KEY_benef', 'KEY_inegi_localidad')\\n\""
      ]
     },
     "execution_count": 51,
     "metadata": {},
     "output_type": "execute_result"
    }
   ],
   "source": [
    "'''\n",
    "diccionario = fuzzy_merge_benef2019_2022(Estados_beneficiarios2019_2022, dataset_inegi_uniqueloc, 'KEY_benef', 'KEY_inegi_localidad')\n",
    "'''"
   ]
  },
  {
   "cell_type": "code",
   "execution_count": 52,
   "id": "191cff1b",
   "metadata": {},
   "outputs": [
    {
     "data": {
      "text/plain": [
       "(1033, 20)"
      ]
     },
     "execution_count": 52,
     "metadata": {},
     "output_type": "execute_result"
    }
   ],
   "source": [
    "diccionario.shape"
   ]
  },
  {
   "cell_type": "code",
   "execution_count": 53,
   "id": "0551eb3f",
   "metadata": {},
   "outputs": [
    {
     "name": "stdout",
     "output_type": "stream",
     "text": [
      "                      count unique                                top  freq  \\\n",
      "ENTIDAD                1033     10                             OAXACA   558   \n",
      "MUNICIPIO              1033   1025                    EMILIANO ZAPATA     3   \n",
      "LOCALIDAD              1033   1023                        LA TRINIDAD     3   \n",
      "ESTADO_c_benef         1033     10                             oaxaca   558   \n",
      "MUNICIPIO_c_benef      1033   1025                    emiliano zapata     3   \n",
      "LOCALIDAD_c_benef      1033   1023                        la trinidad     3   \n",
      "KEY_benef              1033   1033         guerrero-coyuca de benitez     1   \n",
      "KEY_benef_localidad    1033   1033         guerrero-coyuca de benitez     1   \n",
      "best_match             1033   1029  oaxaca-santiago pinotepa nacional     2   \n",
      "match_score          1033.0    NaN                                NaN   NaN   \n",
      "CVE_ENT                1033      9                                 20   557   \n",
      "Entidad_inegi          1033      9                             Oaxaca   557   \n",
      "CVE_MUN                1033    561                                010    10   \n",
      "Municipio_inegi        1033   1022                    Emiliano Zapata     3   \n",
      "CVE_LOC                1033      2                                  1  1032   \n",
      "Localidad_inegi        1033   1023                      Villa Hidalgo     3   \n",
      "Entidad_c_inegi        1033      9                             oaxaca   557   \n",
      "Municipio_c_inegi      1033   1022                    emiliano zapata     3   \n",
      "Localidad_c_inegi      1033   1023                      villa hidalgo     3   \n",
      "KEY_inegi              1033   1029  oaxaca-santiago pinotepa nacional     2   \n",
      "\n",
      "                          mean       std   min    25%    50%    75%    max  \n",
      "ENTIDAD                    NaN       NaN   NaN    NaN    NaN    NaN    NaN  \n",
      "MUNICIPIO                  NaN       NaN   NaN    NaN    NaN    NaN    NaN  \n",
      "LOCALIDAD                  NaN       NaN   NaN    NaN    NaN    NaN    NaN  \n",
      "ESTADO_c_benef             NaN       NaN   NaN    NaN    NaN    NaN    NaN  \n",
      "MUNICIPIO_c_benef          NaN       NaN   NaN    NaN    NaN    NaN    NaN  \n",
      "LOCALIDAD_c_benef          NaN       NaN   NaN    NaN    NaN    NaN    NaN  \n",
      "KEY_benef                  NaN       NaN   NaN    NaN    NaN    NaN    NaN  \n",
      "KEY_benef_localidad        NaN       NaN   NaN    NaN    NaN    NaN    NaN  \n",
      "best_match                 NaN       NaN   NaN    NaN    NaN    NaN    NaN  \n",
      "match_score          99.907067  1.044123  86.0  100.0  100.0  100.0  100.0  \n",
      "CVE_ENT                    NaN       NaN   NaN    NaN    NaN    NaN    NaN  \n",
      "Entidad_inegi              NaN       NaN   NaN    NaN    NaN    NaN    NaN  \n",
      "CVE_MUN                    NaN       NaN   NaN    NaN    NaN    NaN    NaN  \n",
      "Municipio_inegi            NaN       NaN   NaN    NaN    NaN    NaN    NaN  \n",
      "CVE_LOC                    NaN       NaN   NaN    NaN    NaN    NaN    NaN  \n",
      "Localidad_inegi            NaN       NaN   NaN    NaN    NaN    NaN    NaN  \n",
      "Entidad_c_inegi            NaN       NaN   NaN    NaN    NaN    NaN    NaN  \n",
      "Municipio_c_inegi          NaN       NaN   NaN    NaN    NaN    NaN    NaN  \n",
      "Localidad_c_inegi          NaN       NaN   NaN    NaN    NaN    NaN    NaN  \n",
      "KEY_inegi                  NaN       NaN   NaN    NaN    NaN    NaN    NaN  \n"
     ]
    }
   ],
   "source": [
    "# Valores únicos y la cantidad de cada columna\n",
    "# Obtener estadísticas descriptivas para todas las variables\n",
    "\n",
    "descriptive_stats = diccionario.describe(include='all').transpose()\n",
    "\n",
    "# Mostrar las estadísticas descriptivas\n",
    "print(descriptive_stats)"
   ]
  },
  {
   "cell_type": "code",
   "execution_count": 54,
   "id": "0a596a42",
   "metadata": {},
   "outputs": [],
   "source": [
    "nan_rows = diccionario.isna()"
   ]
  },
  {
   "cell_type": "code",
   "execution_count": 55,
   "id": "875ef20a",
   "metadata": {},
   "outputs": [
    {
     "data": {
      "text/plain": [
       "ENTIDAD                0\n",
       "MUNICIPIO              0\n",
       "LOCALIDAD              0\n",
       "ESTADO_c_benef         0\n",
       "MUNICIPIO_c_benef      0\n",
       "LOCALIDAD_c_benef      0\n",
       "KEY_benef              0\n",
       "KEY_benef_localidad    0\n",
       "best_match             0\n",
       "match_score            0\n",
       "CVE_ENT                0\n",
       "Entidad_inegi          0\n",
       "CVE_MUN                0\n",
       "Municipio_inegi        0\n",
       "CVE_LOC                0\n",
       "Localidad_inegi        0\n",
       "Entidad_c_inegi        0\n",
       "Municipio_c_inegi      0\n",
       "Localidad_c_inegi      0\n",
       "KEY_inegi              0\n",
       "dtype: int64"
      ]
     },
     "execution_count": 55,
     "metadata": {},
     "output_type": "execute_result"
    }
   ],
   "source": [
    "nan_rows.sum()"
   ]
  },
  {
   "cell_type": "code",
   "execution_count": 56,
   "id": "4cefccc4079ae8e9",
   "metadata": {
    "ExecuteTime": {
     "end_time": "2024-05-30T14:04:01.741880Z",
     "start_time": "2024-05-30T14:04:01.724246Z"
    }
   },
   "outputs": [],
   "source": [
    "diccionario.to_csv('../../data/diccionario_benef2019_2022.csv', index=False)"
   ]
  },
  {
   "cell_type": "code",
   "execution_count": 57,
   "id": "80197030",
   "metadata": {},
   "outputs": [],
   "source": [
    "diccionario_benef2019_2022 = pd.read_csv('../../data/diccionario_benef2019_2022.csv')"
   ]
  },
  {
   "cell_type": "code",
   "execution_count": 58,
   "id": "2babc5eb",
   "metadata": {},
   "outputs": [
    {
     "name": "stdout",
     "output_type": "stream",
     "text": [
      "object\n",
      "object\n",
      "Keys not in diccionario: []\n",
      "Count of keys not in diccionario: 0\n"
     ]
    }
   ],
   "source": [
    "# Step 1: Check data types\n",
    "print(Estados_beneficiarios2019_2022['KEY_benef'].dtype)\n",
    "print(diccionario_benef2019_2022['KEY_benef'].dtype)  # Replace 'YourKeyColumnName' with the actual column name\n",
    "\n",
    "# Step 2: Trim whitespace and check formatting (example for strings)\n",
    "key_benef_list = [str(key).strip().lower() for key in Estados_beneficiarios2019_2022['KEY_benef'].to_list()]  # Adjust if your keys are not strings\n",
    "diccionario_keys = [str(key).strip().lower() for key in diccionario_benef2019_2022['KEY_benef'].tolist()]  # Adjust column name\n",
    "\n",
    "keys_not_in_diccionario = [key for key in key_benef_list if key not in diccionario_keys]\n",
    "\n",
    "# Count of keys not in diccionario\n",
    "count_keys_not_in_diccionario = len(keys_not_in_diccionario)\n",
    "\n",
    "print(f\"Keys not in diccionario: {keys_not_in_diccionario}\")\n",
    "print(f\"Count of keys not in diccionario: {count_keys_not_in_diccionario}\")"
   ]
  },
  {
   "cell_type": "markdown",
   "id": "7480947838e468f7",
   "metadata": {},
   "source": [
    "## 3.2 Listado beneficiarios2023\n",
    "\n",
    "Esta sección se encarga de completar el listado original de Beneficiarios Autorizados con los nombre corregido de INEGI usando el diccionario."
   ]
  },
  {
   "cell_type": "code",
   "execution_count": 59,
   "id": "6ae598e683e47cac",
   "metadata": {
    "ExecuteTime": {
     "end_time": "2024-05-30T14:04:10.797009Z",
     "start_time": "2024-05-30T14:04:01.743888Z"
    }
   },
   "outputs": [],
   "source": [
    "# Crear una variable KEY en listado de productores y el diccionario para hacer el join\n",
    "\n",
    "# Clean listado beneficiarios\n",
    "listado_beneficiarios['ESTADO_Clean'] = listado_beneficiarios['ENTIDAD'].apply(clean_text)\n",
    "listado_beneficiarios['MUNICIPIO_Clean'] = listado_beneficiarios['MUNICIPIO'].apply(clean_text)\n",
    "\n",
    "# Create KEY in listado beneficiarios\n",
    "listado_beneficiarios['Estado-mun-KEY'] = listado_beneficiarios['ESTADO_Clean'].astype(str) + '-' + listado_beneficiarios[\n",
    "    'MUNICIPIO_Clean'].astype(str)"
   ]
  },
  {
   "cell_type": "code",
   "execution_count": 60,
   "id": "d8d5e195",
   "metadata": {},
   "outputs": [],
   "source": [
    "nan_rows = listado_beneficiarios.isna()"
   ]
  },
  {
   "cell_type": "code",
   "execution_count": 61,
   "id": "446d9c40",
   "metadata": {},
   "outputs": [
    {
     "data": {
      "text/plain": [
       "BENEFICIARIO       0\n",
       "ZONA               0\n",
       "ENTIDAD            0\n",
       "MUNICIPIO          0\n",
       "LOCALIDAD          0\n",
       "ESTRATIFICACIÓN    0\n",
       "PRODUCTO           0\n",
       "FECHA              0\n",
       "MONTO FEDERAL      0\n",
       "CICLO AGRÍCOLA     0\n",
       "ESTADO_Clean       0\n",
       "MUNICIPIO_Clean    0\n",
       "Estado-mun-KEY     0\n",
       "dtype: int64"
      ]
     },
     "execution_count": 61,
     "metadata": {},
     "output_type": "execute_result"
    }
   ],
   "source": [
    "nan_rows.sum()"
   ]
  },
  {
   "cell_type": "code",
   "execution_count": 62,
   "id": "672ed551381e1e8a",
   "metadata": {
    "ExecuteTime": {
     "end_time": "2024-05-30T14:04:10.806584Z",
     "start_time": "2024-05-30T14:04:10.800015Z"
    }
   },
   "outputs": [
    {
     "name": "stdout",
     "output_type": "stream",
     "text": [
      "(1869033, 13)\n"
     ]
    },
    {
     "data": {
      "text/plain": [
       "Index(['BENEFICIARIO', 'ZONA', 'ENTIDAD', 'MUNICIPIO', 'LOCALIDAD',\n",
       "       'ESTRATIFICACIÓN', 'PRODUCTO', 'FECHA', 'MONTO FEDERAL',\n",
       "       'CICLO AGRÍCOLA', 'ESTADO_Clean', 'MUNICIPIO_Clean', 'Estado-mun-KEY'],\n",
       "      dtype='object')"
      ]
     },
     "execution_count": 62,
     "metadata": {},
     "output_type": "execute_result"
    }
   ],
   "source": [
    "print(listado_beneficiarios.shape)\n",
    "listado_beneficiarios.columns\n"
   ]
  },
  {
   "cell_type": "code",
   "execution_count": 63,
   "id": "9a887b8bde1fcd6c",
   "metadata": {
    "ExecuteTime": {
     "end_time": "2024-05-30T14:04:10.879818Z",
     "start_time": "2024-05-30T14:04:10.849876Z"
    }
   },
   "outputs": [],
   "source": [
    "# Lectura del diccionario Verificado Simple\n",
    "#diccionario_verificado = pd.read_csv('../../data/Diccionario_benef_manual_verificado.csv')\n",
    "diccionario_verificado_e3 = pd.read_csv('../../data/DiccionarioE3_unique_mun.csv')"
   ]
  },
  {
   "cell_type": "code",
   "execution_count": 64,
   "id": "179191e6",
   "metadata": {},
   "outputs": [
    {
     "name": "stdout",
     "output_type": "stream",
     "text": [
      "                    count unique                                 top freq  \\\n",
      "ENTIDAD              1033     10                              OAXACA  558   \n",
      "MUNICIPIO            1033   1025                     EMILIANO ZAPATA    3   \n",
      "ESTADO_c_benef       1033     10                              oaxaca  558   \n",
      "MUNICIPIO_c_benef    1033   1025                     emiliano zapata    3   \n",
      "KEY_benef            1033   1033              oaxaca-san blas atempa    1   \n",
      "KEY_inegi            1033   1031         oaxaca-juchitan de zaragoza    2   \n",
      "best_match           1033   1029  chiapas-san cristobal de las casas    2   \n",
      "match_score        1033.0    NaN                                 NaN  NaN   \n",
      "CVE_ENT            1033.0    NaN                                 NaN  NaN   \n",
      "Entidad_inegi        1033      9                              Oaxaca  557   \n",
      "CVE_MUN            1033.0    NaN                                 NaN  NaN   \n",
      "Municipio_inegi      1033   1022                     Emiliano Zapata    3   \n",
      "CVE_LOC            1033.0    NaN                                 NaN  NaN   \n",
      "Localidad_inegi      1033   1023                       Villa Hidalgo    3   \n",
      "Entidad_c_inegi      1033      9                              oaxaca  557   \n",
      "Municipio_c_inegi    1033   1022                     emiliano zapata    3   \n",
      "Unnamed: 16           0.0    NaN                                 NaN  NaN   \n",
      "CORRECIÓN               3      3  chiapas-san cristobal de las casas    1   \n",
      "\n",
      "                         mean         std   min    25%    50%    75%    max  \n",
      "ENTIDAD                   NaN         NaN   NaN    NaN    NaN    NaN    NaN  \n",
      "MUNICIPIO                 NaN         NaN   NaN    NaN    NaN    NaN    NaN  \n",
      "ESTADO_c_benef            NaN         NaN   NaN    NaN    NaN    NaN    NaN  \n",
      "MUNICIPIO_c_benef         NaN         NaN   NaN    NaN    NaN    NaN    NaN  \n",
      "KEY_benef                 NaN         NaN   NaN    NaN    NaN    NaN    NaN  \n",
      "KEY_inegi                 NaN         NaN   NaN    NaN    NaN    NaN    NaN  \n",
      "best_match                NaN         NaN   NaN    NaN    NaN    NaN    NaN  \n",
      "match_score         99.907067    1.044123  86.0  100.0  100.0  100.0  100.0  \n",
      "CVE_ENT             18.357212     6.12888   7.0   17.0   20.0   20.0   32.0  \n",
      "Entidad_inegi             NaN         NaN   NaN    NaN    NaN    NaN    NaN  \n",
      "CVE_MUN            177.843175  171.828393   1.0   35.0  105.0  308.0  570.0  \n",
      "Municipio_inegi           NaN         NaN   NaN    NaN    NaN    NaN    NaN  \n",
      "CVE_LOC              1.001936    0.062227   1.0    1.0    1.0    1.0    3.0  \n",
      "Localidad_inegi           NaN         NaN   NaN    NaN    NaN    NaN    NaN  \n",
      "Entidad_c_inegi           NaN         NaN   NaN    NaN    NaN    NaN    NaN  \n",
      "Municipio_c_inegi         NaN         NaN   NaN    NaN    NaN    NaN    NaN  \n",
      "Unnamed: 16               NaN         NaN   NaN    NaN    NaN    NaN    NaN  \n",
      "CORRECIÓN                 NaN         NaN   NaN    NaN    NaN    NaN    NaN  \n"
     ]
    }
   ],
   "source": [
    "descriptive_stats = diccionario_verificado_e3.describe(include='all').transpose()\n",
    "\n",
    "# Mostrar las estadísticas descriptivas\n",
    "print(descriptive_stats)"
   ]
  },
  {
   "cell_type": "code",
   "execution_count": 65,
   "id": "60163919",
   "metadata": {},
   "outputs": [
    {
     "data": {
      "text/plain": [
       "Index(['ENTIDAD', 'MUNICIPIO', 'ESTADO_c_benef', 'MUNICIPIO_c_benef',\n",
       "       'KEY_benef', 'KEY_inegi', 'best_match', 'match_score', 'CVE_ENT',\n",
       "       'Entidad_inegi', 'CVE_MUN', 'Municipio_inegi', 'CVE_LOC',\n",
       "       'Localidad_inegi', 'Entidad_c_inegi', 'Municipio_c_inegi',\n",
       "       'Unnamed: 16', 'CORRECIÓN'],\n",
       "      dtype='object')"
      ]
     },
     "execution_count": 65,
     "metadata": {},
     "output_type": "execute_result"
    }
   ],
   "source": [
    "diccionario_verificado_e3.columns"
   ]
  },
  {
   "cell_type": "markdown",
   "id": "68e8b406",
   "metadata": {},
   "source": [
    "El diccionatio contiene KEY_benef únicos (Freq = 1), mientras que KEY_benef_Verificado puede repetirse."
   ]
  },
  {
   "cell_type": "markdown",
   "id": "d0c557f0",
   "metadata": {},
   "source": [
    "### MERGE\n",
    "\n",
    "Armamos por partes el dataset definitivo:\n",
    "1. Juntamos Listado_beneficiarios con el diccionario simple. (listado_beneficiario_parte_I)\n",
    "2. Al df anterior juntamos las claver provenientes del catálogo de Inegi. (listado_beneficiario_parte_II)"
   ]
  },
  {
   "cell_type": "code",
   "execution_count": 66,
   "id": "e1928c484fe89c5e",
   "metadata": {
    "ExecuteTime": {
     "end_time": "2024-05-30T14:04:11.928301Z",
     "start_time": "2024-05-30T14:04:10.882823Z"
    }
   },
   "outputs": [],
   "source": [
    "# Hacer el join de la Parte I\n",
    "listado_beneficiarios_parte_I = pd.merge(listado_beneficiarios, diccionario_verificado_e3, left_on=\"Estado-mun-KEY\",\n",
    "                                        right_on=\"KEY_benef\", how='left', suffixes=('_benef', '_inegi'))"
   ]
  },
  {
   "cell_type": "code",
   "execution_count": 67,
   "id": "fee05580",
   "metadata": {},
   "outputs": [
    {
     "data": {
      "text/plain": [
       "Index(['BENEFICIARIO', 'ZONA', 'ENTIDAD_benef', 'MUNICIPIO_benef', 'LOCALIDAD',\n",
       "       'ESTRATIFICACIÓN', 'PRODUCTO', 'FECHA', 'MONTO FEDERAL',\n",
       "       'CICLO AGRÍCOLA', 'ESTADO_Clean', 'MUNICIPIO_Clean', 'Estado-mun-KEY',\n",
       "       'ENTIDAD_inegi', 'MUNICIPIO_inegi', 'ESTADO_c_benef',\n",
       "       'MUNICIPIO_c_benef', 'KEY_benef', 'KEY_inegi', 'best_match',\n",
       "       'match_score', 'CVE_ENT', 'Entidad_inegi', 'CVE_MUN', 'Municipio_inegi',\n",
       "       'CVE_LOC', 'Localidad_inegi', 'Entidad_c_inegi', 'Municipio_c_inegi',\n",
       "       'Unnamed: 16', 'CORRECIÓN'],\n",
       "      dtype='object')"
      ]
     },
     "execution_count": 67,
     "metadata": {},
     "output_type": "execute_result"
    }
   ],
   "source": [
    "listado_beneficiarios_parte_I.columns"
   ]
  },
  {
   "cell_type": "code",
   "execution_count": 68,
   "id": "1cfb28a8",
   "metadata": {},
   "outputs": [
    {
     "name": "stdout",
     "output_type": "stream",
     "text": [
      "BENEFICIARIO               0\n",
      "ZONA                       0\n",
      "ENTIDAD_benef              0\n",
      "MUNICIPIO_benef            0\n",
      "LOCALIDAD                  0\n",
      "ESTRATIFICACIÓN            0\n",
      "PRODUCTO                   0\n",
      "FECHA                      0\n",
      "MONTO FEDERAL              0\n",
      "CICLO AGRÍCOLA             0\n",
      "ESTADO_Clean               0\n",
      "MUNICIPIO_Clean            0\n",
      "Estado-mun-KEY             0\n",
      "ENTIDAD_inegi              0\n",
      "MUNICIPIO_inegi            0\n",
      "ESTADO_c_benef             0\n",
      "MUNICIPIO_c_benef          0\n",
      "KEY_benef                  0\n",
      "KEY_inegi                  0\n",
      "best_match                 0\n",
      "match_score                0\n",
      "CVE_ENT                    0\n",
      "Entidad_inegi              0\n",
      "CVE_MUN                    0\n",
      "Municipio_inegi            0\n",
      "CVE_LOC                    0\n",
      "Localidad_inegi            0\n",
      "Entidad_c_inegi            0\n",
      "Municipio_c_inegi          0\n",
      "Unnamed: 16          1869033\n",
      "CORRECIÓN            1868062\n",
      "dtype: int64\n"
     ]
    }
   ],
   "source": [
    "listado_beneficiarios_parte_I_nan_counts = listado_beneficiarios_parte_I.isna().sum()\n",
    "print(listado_beneficiarios_parte_I_nan_counts)"
   ]
  },
  {
   "cell_type": "code",
   "execution_count": 69,
   "id": "03d2a2b1",
   "metadata": {},
   "outputs": [
    {
     "name": "stdout",
     "output_type": "stream",
     "text": [
      "                       count  unique                           top     freq  \\\n",
      "BENEFICIARIO         1869033  817427             PEREZ PEREZ JUAN       111   \n",
      "ZONA                 1869033       8                   CENTRO PAÍS  1424972   \n",
      "ENTIDAD_benef        1869033      10                      GUERRERO  1279305   \n",
      "MUNICIPIO_benef      1869033    1025            CHILAPA DE ÁLVAREZ    60148   \n",
      "LOCALIDAD            1869033    9979                     TECOANAPA    10820   \n",
      "ESTRATIFICACIÓN      1869033       7                          Alto  1253286   \n",
      "PRODUCTO             1869033       7  Cultivo de maíz grano blanco  1132720   \n",
      "FECHA                1869033     815                    15/07/2019    17568   \n",
      "MONTO FEDERAL      1869033.0     NaN                           NaN      NaN   \n",
      "CICLO AGRÍCOLA       1869033       4                        PV2022   826382   \n",
      "ESTADO_Clean         1869033      10                      guerrero  1279305   \n",
      "MUNICIPIO_Clean      1869033    1025            chilapa de alvarez    60148   \n",
      "Estado-mun-KEY       1869033    1033   guerrero-chilapa de alvarez    60148   \n",
      "ENTIDAD_inegi        1869033      10                      GUERRERO  1279305   \n",
      "MUNICIPIO_inegi      1869033    1025            CHILAPA DE ÁLVAREZ    60148   \n",
      "ESTADO_c_benef       1869033      10                      guerrero  1279305   \n",
      "MUNICIPIO_c_benef    1869033    1025            chilapa de alvarez    60148   \n",
      "KEY_benef            1869033    1033   guerrero-chilapa de alvarez    60148   \n",
      "KEY_inegi            1869033    1031   guerrero-chilapa de alvarez    60148   \n",
      "best_match           1869033    1029   guerrero-chilapa de alvarez    60148   \n",
      "match_score        1869033.0     NaN                           NaN      NaN   \n",
      "CVE_ENT            1869033.0     NaN                           NaN      NaN   \n",
      "Entidad_inegi        1869033       9                      Guerrero  1279305   \n",
      "CVE_MUN            1869033.0     NaN                           NaN      NaN   \n",
      "Municipio_inegi      1869033    1022            Chilapa de Álvarez    60148   \n",
      "CVE_LOC            1869033.0     NaN                           NaN      NaN   \n",
      "Localidad_inegi      1869033    1023            Chilapa de Álvarez    60148   \n",
      "Entidad_c_inegi      1869033       9                      guerrero  1279305   \n",
      "Municipio_c_inegi    1869033    1022            chilapa de alvarez    60148   \n",
      "Unnamed: 16              0.0     NaN                           NaN      NaN   \n",
      "CORRECIÓN                971       3     chiapas-bejucal de ocampo      448   \n",
      "\n",
      "                          mean          std    min      25%      50%      75%  \\\n",
      "BENEFICIARIO               NaN          NaN    NaN      NaN      NaN      NaN   \n",
      "ZONA                       NaN          NaN    NaN      NaN      NaN      NaN   \n",
      "ENTIDAD_benef              NaN          NaN    NaN      NaN      NaN      NaN   \n",
      "MUNICIPIO_benef            NaN          NaN    NaN      NaN      NaN      NaN   \n",
      "LOCALIDAD                  NaN          NaN    NaN      NaN      NaN      NaN   \n",
      "ESTRATIFICACIÓN            NaN          NaN    NaN      NaN      NaN      NaN   \n",
      "PRODUCTO                   NaN          NaN    NaN      NaN      NaN      NaN   \n",
      "FECHA                      NaN          NaN    NaN      NaN      NaN      NaN   \n",
      "MONTO FEDERAL      6433.250058  2862.423347  239.0  3598.07  6163.44  7491.34   \n",
      "CICLO AGRÍCOLA             NaN          NaN    NaN      NaN      NaN      NaN   \n",
      "ESTADO_Clean               NaN          NaN    NaN      NaN      NaN      NaN   \n",
      "MUNICIPIO_Clean            NaN          NaN    NaN      NaN      NaN      NaN   \n",
      "Estado-mun-KEY             NaN          NaN    NaN      NaN      NaN      NaN   \n",
      "ENTIDAD_inegi              NaN          NaN    NaN      NaN      NaN      NaN   \n",
      "MUNICIPIO_inegi            NaN          NaN    NaN      NaN      NaN      NaN   \n",
      "ESTADO_c_benef             NaN          NaN    NaN      NaN      NaN      NaN   \n",
      "MUNICIPIO_c_benef          NaN          NaN    NaN      NaN      NaN      NaN   \n",
      "KEY_benef                  NaN          NaN    NaN      NaN      NaN      NaN   \n",
      "KEY_inegi                  NaN          NaN    NaN      NaN      NaN      NaN   \n",
      "best_match                 NaN          NaN    NaN      NaN      NaN      NaN   \n",
      "match_score           99.93461     0.885082   86.0    100.0    100.0    100.0   \n",
      "CVE_ENT              12.995632     4.622054    7.0     12.0     12.0     12.0   \n",
      "Entidad_inegi              NaN          NaN    NaN      NaN      NaN      NaN   \n",
      "CVE_MUN              66.397715    90.365052    1.0     23.0     46.0     71.0   \n",
      "Municipio_inegi            NaN          NaN    NaN      NaN      NaN      NaN   \n",
      "CVE_LOC               1.001167     0.048307    1.0      1.0      1.0      1.0   \n",
      "Localidad_inegi            NaN          NaN    NaN      NaN      NaN      NaN   \n",
      "Entidad_c_inegi            NaN          NaN    NaN      NaN      NaN      NaN   \n",
      "Municipio_c_inegi          NaN          NaN    NaN      NaN      NaN      NaN   \n",
      "Unnamed: 16                NaN          NaN    NaN      NaN      NaN      NaN   \n",
      "CORRECIÓN                  NaN          NaN    NaN      NaN      NaN      NaN   \n",
      "\n",
      "                        max  \n",
      "BENEFICIARIO            NaN  \n",
      "ZONA                    NaN  \n",
      "ENTIDAD_benef           NaN  \n",
      "MUNICIPIO_benef         NaN  \n",
      "LOCALIDAD               NaN  \n",
      "ESTRATIFICACIÓN         NaN  \n",
      "PRODUCTO                NaN  \n",
      "FECHA                   NaN  \n",
      "MONTO FEDERAL      15414.01  \n",
      "CICLO AGRÍCOLA          NaN  \n",
      "ESTADO_Clean            NaN  \n",
      "MUNICIPIO_Clean         NaN  \n",
      "Estado-mun-KEY          NaN  \n",
      "ENTIDAD_inegi           NaN  \n",
      "MUNICIPIO_inegi         NaN  \n",
      "ESTADO_c_benef          NaN  \n",
      "MUNICIPIO_c_benef       NaN  \n",
      "KEY_benef               NaN  \n",
      "KEY_inegi               NaN  \n",
      "best_match              NaN  \n",
      "match_score           100.0  \n",
      "CVE_ENT                32.0  \n",
      "Entidad_inegi           NaN  \n",
      "CVE_MUN               570.0  \n",
      "Municipio_inegi         NaN  \n",
      "CVE_LOC                 3.0  \n",
      "Localidad_inegi         NaN  \n",
      "Entidad_c_inegi         NaN  \n",
      "Municipio_c_inegi       NaN  \n",
      "Unnamed: 16             NaN  \n",
      "CORRECIÓN               NaN  \n"
     ]
    }
   ],
   "source": [
    "# Valores únicos y la cantidad de cada columna\n",
    "# Obtener estadísticas descriptivas para todas las variables\n",
    "\n",
    "descriptive_stats = listado_beneficiarios_parte_I.describe(include='all').transpose()\n",
    "\n",
    "# Mostrar las estadísticas descriptivas\n",
    "print(descriptive_stats)"
   ]
  },
  {
   "cell_type": "code",
   "execution_count": 70,
   "id": "b27a125b519d9ac8",
   "metadata": {
    "ExecuteTime": {
     "end_time": "2024-05-30T14:04:14.339706Z",
     "start_time": "2024-05-30T14:04:14.106578Z"
    }
   },
   "outputs": [],
   "source": [
    "# Seleccionamos las columnas que nos interesan\n",
    "listado_beneficiarios_parte_I = listado_beneficiarios_parte_I[\n",
    "    ['ZONA', 'CVE_ENT', 'ENTIDAD_inegi', 'CVE_MUN', 'MUNICIPIO_inegi', 'BENEFICIARIO', 'PRODUCTO', 'FECHA',\n",
    "     'MONTO FEDERAL', 'CICLO AGRÍCOLA']]"
   ]
  },
  {
   "cell_type": "code",
   "execution_count": 71,
   "id": "f74b72372f1494ed",
   "metadata": {
    "ExecuteTime": {
     "end_time": "2024-05-30T14:04:14.361161Z",
     "start_time": "2024-05-30T14:04:14.346729Z"
    }
   },
   "outputs": [
    {
     "name": "stdout",
     "output_type": "stream",
     "text": [
      "(1869033, 10)\n",
      "Index(['ZONA', 'CVE_ENT', 'ENTIDAD_inegi', 'CVE_MUN', 'MUNICIPIO_inegi',\n",
      "       'BENEFICIARIO', 'PRODUCTO', 'FECHA', 'MONTO FEDERAL', 'CICLO AGRÍCOLA'],\n",
      "      dtype='object')\n",
      "          ZONA  CVE_ENT ENTIDAD_inegi  CVE_MUN    MUNICIPIO_inegi  \\\n",
      "0  CENTRO PAÍS       12      GUERRERO       21  COYUCA DE BENÍTEZ   \n",
      "1  CENTRO PAÍS       12      GUERRERO       21  COYUCA DE BENÍTEZ   \n",
      "2  CENTRO PAÍS       12      GUERRERO       21  COYUCA DE BENÍTEZ   \n",
      "3  CENTRO PAÍS       12      GUERRERO       21  COYUCA DE BENÍTEZ   \n",
      "4  CENTRO PAÍS       12      GUERRERO       21  COYUCA DE BENÍTEZ   \n",
      "\n",
      "              BENEFICIARIO                      PRODUCTO       FECHA  \\\n",
      "0  ABAC NERI JESUS CARLOS   Cultivo de maíz grano blanco  2022-06-26   \n",
      "1    ABAD ALARCON ELIAZAR   Cultivo de maíz grano blanco  2022-06-26   \n",
      "2   ABAD ALARCON EZEQUIEL   Cultivo de maíz grano blanco  2022-07-12   \n",
      "3  ABAD ALARCON FULGENCIO   Cultivo de maíz grano blanco  2022-07-12   \n",
      "4    ABAD ALARCON ROMALDA   Cultivo de maíz grano blanco  2022-06-20   \n",
      "\n",
      "   MONTO FEDERAL CICLO AGRÍCOLA  \n",
      "0       12244.18         PV2022  \n",
      "1        6122.09         PV2022  \n",
      "2       12244.18         PV2022  \n",
      "3       12244.18         PV2022  \n",
      "4       12244.18         PV2022  \n"
     ]
    }
   ],
   "source": [
    "# Revisamos el dataset\n",
    "print(listado_beneficiarios_parte_I.shape)\n",
    "print(listado_beneficiarios_parte_I.columns)\n",
    "print(listado_beneficiarios_parte_I.head())"
   ]
  },
  {
   "cell_type": "code",
   "execution_count": 72,
   "id": "7afb8c2a",
   "metadata": {},
   "outputs": [
    {
     "name": "stdout",
     "output_type": "stream",
     "text": [
      "ZONA               0\n",
      "CVE_ENT            0\n",
      "ENTIDAD_inegi      0\n",
      "CVE_MUN            0\n",
      "MUNICIPIO_inegi    0\n",
      "BENEFICIARIO       0\n",
      "PRODUCTO           0\n",
      "FECHA              0\n",
      "MONTO FEDERAL      0\n",
      "CICLO AGRÍCOLA     0\n",
      "dtype: int64\n"
     ]
    }
   ],
   "source": [
    "nan_counts = listado_beneficiarios_parte_I.isna().sum()\n",
    "print(nan_counts)"
   ]
  }
 ],
 "metadata": {
  "kernelspec": {
   "display_name": "Python 3",
   "language": "python",
   "name": "python3"
  },
  "language_info": {
   "codemirror_mode": {
    "name": "ipython",
    "version": 3
   },
   "file_extension": ".py",
   "mimetype": "text/x-python",
   "name": "python",
   "nbconvert_exporter": "python",
   "pygments_lexer": "ipython3",
   "version": "3.9.9"
  }
 },
 "nbformat": 4,
 "nbformat_minor": 5
}
