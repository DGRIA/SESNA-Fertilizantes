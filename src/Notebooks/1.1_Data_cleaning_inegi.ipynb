{
 "cells": [
  {
   "cell_type": "markdown",
   "metadata": {},
   "source": [
    "# Data Cleaning Dataset de Inegi"
   ]
  },
  {
   "cell_type": "markdown",
   "metadata": {},
   "source": [
    "En este notebook procederemos con la limpieza del dataset de Inegi"
   ]
  },
  {
   "cell_type": "code",
   "execution_count": 1,
   "metadata": {},
   "outputs": [],
   "source": [
    "import pandas as pd\n",
    "import seaborn as sns\n",
    "from thefuzz import fuzz\n",
    "from thefuzz import process\n",
    "import matplotlib.pyplot as plt\n",
    "import numpy as np\n",
    "import os\n",
    "import glob\n",
    "import re\n",
    "import unidecode"
   ]
  },
  {
   "cell_type": "code",
   "execution_count": 2,
   "metadata": {},
   "outputs": [],
   "source": [
    "def clean_text(text):\n",
    "    \"\"\"\n",
    "    De esta manera tenemos el texto sin espacios blancos extra y sobre todo con todas las palabras con capitalización correcta.\n",
    "    \"\"\"\n",
    "    if pd.isna(text):\n",
    "        return text\n",
    "    text = text.strip()  # Eliminate white spaces\n",
    "    text = text.lower()  # Convert to lowercase\n",
    "    text = unidecode.unidecode(text)  # Remove accents\n",
    "    text = re.sub('-.*-', '', text)\n",
    "    text = re.sub('\\s+', ' ', text)  # Eliminate extra white spaces\n",
    "    text = re.sub('^\\s+|\\s+?$', '', text)  # Eliminate spaces at the beginning and end\n",
    "    return text"
   ]
  },
  {
   "cell_type": "code",
   "execution_count": 3,
   "metadata": {},
   "outputs": [],
   "source": [
    "path_dataset_inegi = '../../data/inegi/dataset_inegi.csv'\n",
    "dataset_inegi = pd.read_csv(path_dataset_inegi, encoding='cp1252', dtype={'CVE_ENT': str, 'CVE_MUN': str})"
   ]
  },
  {
   "cell_type": "code",
   "execution_count": 4,
   "metadata": {},
   "outputs": [],
   "source": [
    "path_dataset_inegi_2019 = '../../data/inegi/dataset_inegi_2019.csv'\n",
    "dataset_inegi_2019 = pd.read_csv(path_dataset_inegi_2019, encoding='utf-8', dtype={'CVE_ENT': str, 'CVE_MUN': str})"
   ]
  },
  {
   "cell_type": "code",
   "execution_count": 5,
   "metadata": {},
   "outputs": [],
   "source": [
    "path_dataset_inegi_2020 = '../../data/inegi/dataset_inegi_2020.csv'\n",
    "dataset_inegi_2020 = pd.read_csv(path_dataset_inegi_2020, encoding='utf-8', dtype={'CVE_ENT': str, 'CVE_MUN': str})"
   ]
  },
  {
   "cell_type": "code",
   "execution_count": 6,
   "metadata": {},
   "outputs": [],
   "source": [
    "path_dataset_inegi_2021 = '../../data/inegi/dataset_inegi_2021.csv'\n",
    "dataset_inegi_2021 = pd.read_csv(path_dataset_inegi_2021, encoding='utf-8', dtype={'CVE_ENT': str, 'CVE_MUN': str})"
   ]
  },
  {
   "cell_type": "code",
   "execution_count": 7,
   "metadata": {},
   "outputs": [],
   "source": [
    "path_dataset_inegi_2022 = '../../data/inegi/dataset_inegi_2022.csv'\n",
    "dataset_inegi_2022 = pd.read_csv(path_dataset_inegi_2022, encoding='utf-8', dtype={'CVE_ENT': str, 'CVE_MUN': str})"
   ]
  },
  {
   "cell_type": "code",
   "execution_count": 8,
   "metadata": {},
   "outputs": [
    {
     "data": {
      "text/plain": [
       "Index(['version https://git-lfs.github.com/spec/v1'], dtype='object')"
      ]
     },
     "execution_count": 8,
     "metadata": {},
     "output_type": "execute_result"
    }
   ],
   "source": [
    "# Revisamos las columnas del dataset\n",
    "dataset_inegi.columns"
   ]
  },
  {
   "cell_type": "code",
   "execution_count": 9,
   "metadata": {},
   "outputs": [
    {
     "data": {
      "text/html": [
       "<div>\n",
       "<style scoped>\n",
       "    .dataframe tbody tr th:only-of-type {\n",
       "        vertical-align: middle;\n",
       "    }\n",
       "\n",
       "    .dataframe tbody tr th {\n",
       "        vertical-align: top;\n",
       "    }\n",
       "\n",
       "    .dataframe thead th {\n",
       "        text-align: right;\n",
       "    }\n",
       "</style>\n",
       "<table border=\"1\" class=\"dataframe\">\n",
       "  <thead>\n",
       "    <tr style=\"text-align: right;\">\n",
       "      <th></th>\n",
       "      <th>version https://git-lfs.github.com/spec/v1</th>\n",
       "    </tr>\n",
       "  </thead>\n",
       "  <tbody>\n",
       "    <tr>\n",
       "      <th>0</th>\n",
       "      <td>oid sha256:ef1bfaea1e79102f80672eb52be52d05dec...</td>\n",
       "    </tr>\n",
       "    <tr>\n",
       "      <th>1</th>\n",
       "      <td>size 56598958</td>\n",
       "    </tr>\n",
       "  </tbody>\n",
       "</table>\n",
       "</div>"
      ],
      "text/plain": [
       "          version https://git-lfs.github.com/spec/v1\n",
       "0  oid sha256:ef1bfaea1e79102f80672eb52be52d05dec...\n",
       "1                                      size 56598958"
      ]
     },
     "execution_count": 9,
     "metadata": {},
     "output_type": "execute_result"
    }
   ],
   "source": [
    "dataset_inegi.head()"
   ]
  },
  {
   "cell_type": "code",
   "execution_count": 11,
   "metadata": {},
   "outputs": [
    {
     "data": {
      "text/plain": [
       "Index(['version https://git-lfs.github.com/spec/v1'], dtype='object')"
      ]
     },
     "execution_count": 11,
     "metadata": {},
     "output_type": "execute_result"
    }
   ],
   "source": [
    "dataset_inegi.columns"
   ]
  },
  {
   "cell_type": "code",
   "execution_count": 10,
   "metadata": {},
   "outputs": [
    {
     "ename": "KeyError",
     "evalue": "\"['MAPA', 'Estatus', 'NOM_ABR', 'AMBITO', 'LATITUD', 'LONGITUD', 'LAT_DECIMAL', 'LON_DECIMAL', 'ALTITUD', 'CVE_CARTA', 'POB_TOTAL', 'POB_MASCULINA', 'POB_FEMENINA', 'TOTAL DE VIVIENDAS HABITADAS'] not found in axis\"",
     "output_type": "error",
     "traceback": [
      "\u001b[0;31m---------------------------------------------------------------------------\u001b[0m",
      "\u001b[0;31mKeyError\u001b[0m                                  Traceback (most recent call last)",
      "Cell \u001b[0;32mIn[10], line 5\u001b[0m\n\u001b[1;32m      1\u001b[0m \u001b[38;5;66;03m# Eliminamos las columnas que no son de interés\u001b[39;00m\n\u001b[1;32m      2\u001b[0m COLUMNS_TO_DROP \u001b[38;5;241m=\u001b[39m [\u001b[38;5;124m'\u001b[39m\u001b[38;5;124mMAPA\u001b[39m\u001b[38;5;124m'\u001b[39m, \u001b[38;5;124m'\u001b[39m\u001b[38;5;124mEstatus\u001b[39m\u001b[38;5;124m'\u001b[39m, \u001b[38;5;124m'\u001b[39m\u001b[38;5;124mNOM_ABR\u001b[39m\u001b[38;5;124m'\u001b[39m, \u001b[38;5;124m'\u001b[39m\u001b[38;5;124mAMBITO\u001b[39m\u001b[38;5;124m'\u001b[39m, \u001b[38;5;124m'\u001b[39m\u001b[38;5;124mLATITUD\u001b[39m\u001b[38;5;124m'\u001b[39m, \u001b[38;5;124m'\u001b[39m\u001b[38;5;124mLONGITUD\u001b[39m\u001b[38;5;124m'\u001b[39m,\n\u001b[1;32m      3\u001b[0m                    \u001b[38;5;124m'\u001b[39m\u001b[38;5;124mLAT_DECIMAL\u001b[39m\u001b[38;5;124m'\u001b[39m, \u001b[38;5;124m'\u001b[39m\u001b[38;5;124mLON_DECIMAL\u001b[39m\u001b[38;5;124m'\u001b[39m, \u001b[38;5;124m'\u001b[39m\u001b[38;5;124mALTITUD\u001b[39m\u001b[38;5;124m'\u001b[39m, \u001b[38;5;124m'\u001b[39m\u001b[38;5;124mCVE_CARTA\u001b[39m\u001b[38;5;124m'\u001b[39m, \u001b[38;5;124m'\u001b[39m\u001b[38;5;124mPOB_TOTAL\u001b[39m\u001b[38;5;124m'\u001b[39m,\n\u001b[1;32m      4\u001b[0m                    \u001b[38;5;124m'\u001b[39m\u001b[38;5;124mPOB_MASCULINA\u001b[39m\u001b[38;5;124m'\u001b[39m, \u001b[38;5;124m'\u001b[39m\u001b[38;5;124mPOB_FEMENINA\u001b[39m\u001b[38;5;124m'\u001b[39m, \u001b[38;5;124m'\u001b[39m\u001b[38;5;124mTOTAL DE VIVIENDAS HABITADAS\u001b[39m\u001b[38;5;124m'\u001b[39m]\n\u001b[0;32m----> 5\u001b[0m dataset_inegi \u001b[38;5;241m=\u001b[39m \u001b[43mdataset_inegi\u001b[49m\u001b[38;5;241;43m.\u001b[39;49m\u001b[43mdrop\u001b[49m\u001b[43m(\u001b[49m\u001b[43mCOLUMNS_TO_DROP\u001b[49m\u001b[43m,\u001b[49m\u001b[43m \u001b[49m\u001b[43maxis\u001b[49m\u001b[38;5;241;43m=\u001b[39;49m\u001b[38;5;241;43m1\u001b[39;49m\u001b[43m)\u001b[49m\n\u001b[1;32m      6\u001b[0m dataset_inegi_2019 \u001b[38;5;241m=\u001b[39m dataset_inegi_2019\u001b[38;5;241m.\u001b[39mdrop(COLUMNS_TO_DROP, axis\u001b[38;5;241m=\u001b[39m\u001b[38;5;241m1\u001b[39m)\n\u001b[1;32m      7\u001b[0m dataset_inegi_2020 \u001b[38;5;241m=\u001b[39m dataset_inegi_2020\u001b[38;5;241m.\u001b[39mdrop(COLUMNS_TO_DROP, axis\u001b[38;5;241m=\u001b[39m\u001b[38;5;241m1\u001b[39m)\n",
      "File \u001b[0;32m/Library/Frameworks/Python.framework/Versions/3.9/lib/python3.9/site-packages/pandas/core/frame.py:5581\u001b[0m, in \u001b[0;36mDataFrame.drop\u001b[0;34m(self, labels, axis, index, columns, level, inplace, errors)\u001b[0m\n\u001b[1;32m   5433\u001b[0m \u001b[38;5;28;01mdef\u001b[39;00m \u001b[38;5;21mdrop\u001b[39m(\n\u001b[1;32m   5434\u001b[0m     \u001b[38;5;28mself\u001b[39m,\n\u001b[1;32m   5435\u001b[0m     labels: IndexLabel \u001b[38;5;241m|\u001b[39m \u001b[38;5;28;01mNone\u001b[39;00m \u001b[38;5;241m=\u001b[39m \u001b[38;5;28;01mNone\u001b[39;00m,\n\u001b[0;32m   (...)\u001b[0m\n\u001b[1;32m   5442\u001b[0m     errors: IgnoreRaise \u001b[38;5;241m=\u001b[39m \u001b[38;5;124m\"\u001b[39m\u001b[38;5;124mraise\u001b[39m\u001b[38;5;124m\"\u001b[39m,\n\u001b[1;32m   5443\u001b[0m ) \u001b[38;5;241m-\u001b[39m\u001b[38;5;241m>\u001b[39m DataFrame \u001b[38;5;241m|\u001b[39m \u001b[38;5;28;01mNone\u001b[39;00m:\n\u001b[1;32m   5444\u001b[0m \u001b[38;5;250m    \u001b[39m\u001b[38;5;124;03m\"\"\"\u001b[39;00m\n\u001b[1;32m   5445\u001b[0m \u001b[38;5;124;03m    Drop specified labels from rows or columns.\u001b[39;00m\n\u001b[1;32m   5446\u001b[0m \n\u001b[0;32m   (...)\u001b[0m\n\u001b[1;32m   5579\u001b[0m \u001b[38;5;124;03m            weight  1.0     0.8\u001b[39;00m\n\u001b[1;32m   5580\u001b[0m \u001b[38;5;124;03m    \"\"\"\u001b[39;00m\n\u001b[0;32m-> 5581\u001b[0m     \u001b[38;5;28;01mreturn\u001b[39;00m \u001b[38;5;28;43msuper\u001b[39;49m\u001b[43m(\u001b[49m\u001b[43m)\u001b[49m\u001b[38;5;241;43m.\u001b[39;49m\u001b[43mdrop\u001b[49m\u001b[43m(\u001b[49m\n\u001b[1;32m   5582\u001b[0m \u001b[43m        \u001b[49m\u001b[43mlabels\u001b[49m\u001b[38;5;241;43m=\u001b[39;49m\u001b[43mlabels\u001b[49m\u001b[43m,\u001b[49m\n\u001b[1;32m   5583\u001b[0m \u001b[43m        \u001b[49m\u001b[43maxis\u001b[49m\u001b[38;5;241;43m=\u001b[39;49m\u001b[43maxis\u001b[49m\u001b[43m,\u001b[49m\n\u001b[1;32m   5584\u001b[0m \u001b[43m        \u001b[49m\u001b[43mindex\u001b[49m\u001b[38;5;241;43m=\u001b[39;49m\u001b[43mindex\u001b[49m\u001b[43m,\u001b[49m\n\u001b[1;32m   5585\u001b[0m \u001b[43m        \u001b[49m\u001b[43mcolumns\u001b[49m\u001b[38;5;241;43m=\u001b[39;49m\u001b[43mcolumns\u001b[49m\u001b[43m,\u001b[49m\n\u001b[1;32m   5586\u001b[0m \u001b[43m        \u001b[49m\u001b[43mlevel\u001b[49m\u001b[38;5;241;43m=\u001b[39;49m\u001b[43mlevel\u001b[49m\u001b[43m,\u001b[49m\n\u001b[1;32m   5587\u001b[0m \u001b[43m        \u001b[49m\u001b[43minplace\u001b[49m\u001b[38;5;241;43m=\u001b[39;49m\u001b[43minplace\u001b[49m\u001b[43m,\u001b[49m\n\u001b[1;32m   5588\u001b[0m \u001b[43m        \u001b[49m\u001b[43merrors\u001b[49m\u001b[38;5;241;43m=\u001b[39;49m\u001b[43merrors\u001b[49m\u001b[43m,\u001b[49m\n\u001b[1;32m   5589\u001b[0m \u001b[43m    \u001b[49m\u001b[43m)\u001b[49m\n",
      "File \u001b[0;32m/Library/Frameworks/Python.framework/Versions/3.9/lib/python3.9/site-packages/pandas/core/generic.py:4788\u001b[0m, in \u001b[0;36mNDFrame.drop\u001b[0;34m(self, labels, axis, index, columns, level, inplace, errors)\u001b[0m\n\u001b[1;32m   4786\u001b[0m \u001b[38;5;28;01mfor\u001b[39;00m axis, labels \u001b[38;5;129;01min\u001b[39;00m axes\u001b[38;5;241m.\u001b[39mitems():\n\u001b[1;32m   4787\u001b[0m     \u001b[38;5;28;01mif\u001b[39;00m labels \u001b[38;5;129;01mis\u001b[39;00m \u001b[38;5;129;01mnot\u001b[39;00m \u001b[38;5;28;01mNone\u001b[39;00m:\n\u001b[0;32m-> 4788\u001b[0m         obj \u001b[38;5;241m=\u001b[39m \u001b[43mobj\u001b[49m\u001b[38;5;241;43m.\u001b[39;49m\u001b[43m_drop_axis\u001b[49m\u001b[43m(\u001b[49m\u001b[43mlabels\u001b[49m\u001b[43m,\u001b[49m\u001b[43m \u001b[49m\u001b[43maxis\u001b[49m\u001b[43m,\u001b[49m\u001b[43m \u001b[49m\u001b[43mlevel\u001b[49m\u001b[38;5;241;43m=\u001b[39;49m\u001b[43mlevel\u001b[49m\u001b[43m,\u001b[49m\u001b[43m \u001b[49m\u001b[43merrors\u001b[49m\u001b[38;5;241;43m=\u001b[39;49m\u001b[43merrors\u001b[49m\u001b[43m)\u001b[49m\n\u001b[1;32m   4790\u001b[0m \u001b[38;5;28;01mif\u001b[39;00m inplace:\n\u001b[1;32m   4791\u001b[0m     \u001b[38;5;28mself\u001b[39m\u001b[38;5;241m.\u001b[39m_update_inplace(obj)\n",
      "File \u001b[0;32m/Library/Frameworks/Python.framework/Versions/3.9/lib/python3.9/site-packages/pandas/core/generic.py:4830\u001b[0m, in \u001b[0;36mNDFrame._drop_axis\u001b[0;34m(self, labels, axis, level, errors, only_slice)\u001b[0m\n\u001b[1;32m   4828\u001b[0m         new_axis \u001b[38;5;241m=\u001b[39m axis\u001b[38;5;241m.\u001b[39mdrop(labels, level\u001b[38;5;241m=\u001b[39mlevel, errors\u001b[38;5;241m=\u001b[39merrors)\n\u001b[1;32m   4829\u001b[0m     \u001b[38;5;28;01melse\u001b[39;00m:\n\u001b[0;32m-> 4830\u001b[0m         new_axis \u001b[38;5;241m=\u001b[39m \u001b[43maxis\u001b[49m\u001b[38;5;241;43m.\u001b[39;49m\u001b[43mdrop\u001b[49m\u001b[43m(\u001b[49m\u001b[43mlabels\u001b[49m\u001b[43m,\u001b[49m\u001b[43m \u001b[49m\u001b[43merrors\u001b[49m\u001b[38;5;241;43m=\u001b[39;49m\u001b[43merrors\u001b[49m\u001b[43m)\u001b[49m\n\u001b[1;32m   4831\u001b[0m     indexer \u001b[38;5;241m=\u001b[39m axis\u001b[38;5;241m.\u001b[39mget_indexer(new_axis)\n\u001b[1;32m   4833\u001b[0m \u001b[38;5;66;03m# Case for non-unique axis\u001b[39;00m\n\u001b[1;32m   4834\u001b[0m \u001b[38;5;28;01melse\u001b[39;00m:\n",
      "File \u001b[0;32m/Library/Frameworks/Python.framework/Versions/3.9/lib/python3.9/site-packages/pandas/core/indexes/base.py:7070\u001b[0m, in \u001b[0;36mIndex.drop\u001b[0;34m(self, labels, errors)\u001b[0m\n\u001b[1;32m   7068\u001b[0m \u001b[38;5;28;01mif\u001b[39;00m mask\u001b[38;5;241m.\u001b[39many():\n\u001b[1;32m   7069\u001b[0m     \u001b[38;5;28;01mif\u001b[39;00m errors \u001b[38;5;241m!=\u001b[39m \u001b[38;5;124m\"\u001b[39m\u001b[38;5;124mignore\u001b[39m\u001b[38;5;124m\"\u001b[39m:\n\u001b[0;32m-> 7070\u001b[0m         \u001b[38;5;28;01mraise\u001b[39;00m \u001b[38;5;167;01mKeyError\u001b[39;00m(\u001b[38;5;124mf\u001b[39m\u001b[38;5;124m\"\u001b[39m\u001b[38;5;132;01m{\u001b[39;00mlabels[mask]\u001b[38;5;241m.\u001b[39mtolist()\u001b[38;5;132;01m}\u001b[39;00m\u001b[38;5;124m not found in axis\u001b[39m\u001b[38;5;124m\"\u001b[39m)\n\u001b[1;32m   7071\u001b[0m     indexer \u001b[38;5;241m=\u001b[39m indexer[\u001b[38;5;241m~\u001b[39mmask]\n\u001b[1;32m   7072\u001b[0m \u001b[38;5;28;01mreturn\u001b[39;00m \u001b[38;5;28mself\u001b[39m\u001b[38;5;241m.\u001b[39mdelete(indexer)\n",
      "\u001b[0;31mKeyError\u001b[0m: \"['MAPA', 'Estatus', 'NOM_ABR', 'AMBITO', 'LATITUD', 'LONGITUD', 'LAT_DECIMAL', 'LON_DECIMAL', 'ALTITUD', 'CVE_CARTA', 'POB_TOTAL', 'POB_MASCULINA', 'POB_FEMENINA', 'TOTAL DE VIVIENDAS HABITADAS'] not found in axis\""
     ]
    }
   ],
   "source": [
    "# Eliminamos las columnas que no son de interés\n",
    "COLUMNS_TO_DROP = ['MAPA', 'Estatus', 'NOM_ABR', 'AMBITO', 'LATITUD', 'LONGITUD',\n",
    "                   'LAT_DECIMAL', 'LON_DECIMAL', 'ALTITUD', 'CVE_CARTA', 'POB_TOTAL',\n",
    "                   'POB_MASCULINA', 'POB_FEMENINA', 'TOTAL DE VIVIENDAS HABITADAS']\n",
    "dataset_inegi = dataset_inegi.drop(COLUMNS_TO_DROP, axis=1)\n",
    "dataset_inegi_2019 = dataset_inegi_2019.drop(COLUMNS_TO_DROP, axis=1)\n",
    "dataset_inegi_2020 = dataset_inegi_2020.drop(COLUMNS_TO_DROP, axis=1)\n",
    "dataset_inegi_2021 = dataset_inegi_2021.drop(COLUMNS_TO_DROP, axis=1)\n",
    "dataset_inegi_2022 = dataset_inegi_2022.drop(COLUMNS_TO_DROP, axis=1)"
   ]
  },
  {
   "cell_type": "code",
   "execution_count": null,
   "metadata": {},
   "outputs": [
    {
     "data": {
      "text/plain": [
       "CVE_ENT    object\n",
       "NOM_ENT    object\n",
       "CVE_MUN    object\n",
       "NOM_MUN    object\n",
       "CVE_LOC     int64\n",
       "NOM_LOC    object\n",
       "dtype: object"
      ]
     },
     "execution_count": 11,
     "metadata": {},
     "output_type": "execute_result"
    }
   ],
   "source": [
    "# Las claves de entidad y municipio serán tratadas numéricamente en la limpieza aunque posteriormente se les asignará el tipo de cadena de texto para tener el estándar.\n",
    "dataset_inegi.dtypes"
   ]
  },
  {
   "cell_type": "code",
   "execution_count": null,
   "metadata": {},
   "outputs": [
    {
     "name": "stdout",
     "output_type": "stream",
     "text": [
      "Shape of dataset_inegi:  (299568, 6)\n",
      "Shape of dataset_inegi_clean:  (299568, 6)\n"
     ]
    }
   ],
   "source": [
    "# Revisamos la cantidad de filas y columnas del dataset\n",
    "print(\"Shape of dataset_inegi: \", dataset_inegi.shape)\n",
    "\n",
    "dataset_inegi_clean = dataset_inegi.drop_duplicates()\n",
    "print(\"Shape of dataset_inegi_clean: \", dataset_inegi_clean.shape)"
   ]
  },
  {
   "cell_type": "code",
   "execution_count": null,
   "metadata": {},
   "outputs": [
    {
     "name": "stdout",
     "output_type": "stream",
     "text": [
      "Shape of dataset_inegi:  (299568, 6)\n",
      "Shape of dataset_inegi_clean:  (299570, 6)\n"
     ]
    }
   ],
   "source": [
    "# Revisamos la cantidad de filas y columnas del dataset\n",
    "print(\"Shape of dataset_inegi: \", dataset_inegi.shape)\n",
    "\n",
    "dataset_inegi_clean_2019 = dataset_inegi_2019.drop_duplicates()\n",
    "print(\"Shape of dataset_inegi_clean: \", dataset_inegi_clean_2019.shape)"
   ]
  },
  {
   "cell_type": "code",
   "execution_count": null,
   "metadata": {},
   "outputs": [
    {
     "name": "stdout",
     "output_type": "stream",
     "text": [
      "Shape of dataset_inegi:  (299568, 6)\n",
      "Shape of dataset_inegi_clean:  (300690, 6)\n"
     ]
    }
   ],
   "source": [
    "# Revisamos la cantidad de filas y columnas del dataset\n",
    "print(\"Shape of dataset_inegi: \", dataset_inegi.shape)\n",
    "\n",
    "dataset_inegi_clean_2020 = dataset_inegi_2020.drop_duplicates()\n",
    "print(\"Shape of dataset_inegi_clean: \", dataset_inegi_clean_2020.shape)"
   ]
  },
  {
   "cell_type": "code",
   "execution_count": null,
   "metadata": {},
   "outputs": [
    {
     "name": "stdout",
     "output_type": "stream",
     "text": [
      "Shape of dataset_inegi:  (299568, 6)\n",
      "Shape of dataset_inegi_clean:  (300350, 6)\n"
     ]
    }
   ],
   "source": [
    "# Revisamos la cantidad de filas y columnas del dataset\n",
    "print(\"Shape of dataset_inegi: \", dataset_inegi.shape)\n",
    "\n",
    "dataset_inegi_clean_2021 = dataset_inegi_2021.drop_duplicates()\n",
    "print(\"Shape of dataset_inegi_clean: \", dataset_inegi_clean_2021.shape)"
   ]
  },
  {
   "cell_type": "code",
   "execution_count": null,
   "metadata": {},
   "outputs": [
    {
     "name": "stdout",
     "output_type": "stream",
     "text": [
      "Shape of dataset_inegi_2022:  (300240, 6)\n",
      "Shape of dataset_inegi_clean_2022:  (300240, 6)\n"
     ]
    }
   ],
   "source": [
    "# Revisamos la cantidad de filas y columnas del dataset\n",
    "print(\"Shape of dataset_inegi_2022: \", dataset_inegi_2022.shape)\n",
    "\n",
    "dataset_inegi_clean_2022 = dataset_inegi_2022.drop_duplicates()\n",
    "print(\"Shape of dataset_inegi_clean_2022: \", dataset_inegi_clean_2022.shape)"
   ]
  },
  {
   "cell_type": "code",
   "execution_count": null,
   "metadata": {},
   "outputs": [
    {
     "data": {
      "text/html": [
       "<div>\n",
       "<style scoped>\n",
       "    .dataframe tbody tr th:only-of-type {\n",
       "        vertical-align: middle;\n",
       "    }\n",
       "\n",
       "    .dataframe tbody tr th {\n",
       "        vertical-align: top;\n",
       "    }\n",
       "\n",
       "    .dataframe thead th {\n",
       "        text-align: right;\n",
       "    }\n",
       "</style>\n",
       "<table border=\"1\" class=\"dataframe\">\n",
       "  <thead>\n",
       "    <tr style=\"text-align: right;\">\n",
       "      <th></th>\n",
       "      <th>CVE_ENT</th>\n",
       "      <th>NOM_ENT</th>\n",
       "      <th>CVE_MUN</th>\n",
       "      <th>NOM_MUN</th>\n",
       "      <th>CVE_LOC</th>\n",
       "      <th>NOM_LOC</th>\n",
       "    </tr>\n",
       "  </thead>\n",
       "  <tbody>\n",
       "    <tr>\n",
       "      <th>0</th>\n",
       "      <td>01</td>\n",
       "      <td>Aguascalientes</td>\n",
       "      <td>001</td>\n",
       "      <td>Aguascalientes</td>\n",
       "      <td>1</td>\n",
       "      <td>Aguascalientes</td>\n",
       "    </tr>\n",
       "    <tr>\n",
       "      <th>1</th>\n",
       "      <td>01</td>\n",
       "      <td>Aguascalientes</td>\n",
       "      <td>001</td>\n",
       "      <td>Aguascalientes</td>\n",
       "      <td>94</td>\n",
       "      <td>Granja Adelita</td>\n",
       "    </tr>\n",
       "    <tr>\n",
       "      <th>2</th>\n",
       "      <td>01</td>\n",
       "      <td>Aguascalientes</td>\n",
       "      <td>001</td>\n",
       "      <td>Aguascalientes</td>\n",
       "      <td>96</td>\n",
       "      <td>Agua Azul</td>\n",
       "    </tr>\n",
       "    <tr>\n",
       "      <th>3</th>\n",
       "      <td>01</td>\n",
       "      <td>Aguascalientes</td>\n",
       "      <td>001</td>\n",
       "      <td>Aguascalientes</td>\n",
       "      <td>100</td>\n",
       "      <td>Rancho Alegre</td>\n",
       "    </tr>\n",
       "    <tr>\n",
       "      <th>4</th>\n",
       "      <td>01</td>\n",
       "      <td>Aguascalientes</td>\n",
       "      <td>001</td>\n",
       "      <td>Aguascalientes</td>\n",
       "      <td>102</td>\n",
       "      <td>Los Arbolitos [Rancho]</td>\n",
       "    </tr>\n",
       "  </tbody>\n",
       "</table>\n",
       "</div>"
      ],
      "text/plain": [
       "  CVE_ENT         NOM_ENT CVE_MUN         NOM_MUN  CVE_LOC  \\\n",
       "0      01  Aguascalientes     001  Aguascalientes        1   \n",
       "1      01  Aguascalientes     001  Aguascalientes       94   \n",
       "2      01  Aguascalientes     001  Aguascalientes       96   \n",
       "3      01  Aguascalientes     001  Aguascalientes      100   \n",
       "4      01  Aguascalientes     001  Aguascalientes      102   \n",
       "\n",
       "                  NOM_LOC  \n",
       "0          Aguascalientes  \n",
       "1          Granja Adelita  \n",
       "2               Agua Azul  \n",
       "3           Rancho Alegre  \n",
       "4  Los Arbolitos [Rancho]  "
      ]
     },
     "execution_count": 17,
     "metadata": {},
     "output_type": "execute_result"
    }
   ],
   "source": [
    "# Revisamos las primeras filas del dataset con las columnas seleccionadas\n",
    "dataset_inegi_clean.head()"
   ]
  },
  {
   "cell_type": "code",
   "execution_count": null,
   "metadata": {},
   "outputs": [
    {
     "data": {
      "text/html": [
       "<div>\n",
       "<style scoped>\n",
       "    .dataframe tbody tr th:only-of-type {\n",
       "        vertical-align: middle;\n",
       "    }\n",
       "\n",
       "    .dataframe tbody tr th {\n",
       "        vertical-align: top;\n",
       "    }\n",
       "\n",
       "    .dataframe thead th {\n",
       "        text-align: right;\n",
       "    }\n",
       "</style>\n",
       "<table border=\"1\" class=\"dataframe\">\n",
       "  <thead>\n",
       "    <tr style=\"text-align: right;\">\n",
       "      <th></th>\n",
       "      <th>CVE_ENT</th>\n",
       "      <th>NOM_ENT</th>\n",
       "      <th>CVE_MUN</th>\n",
       "      <th>NOM_MUN</th>\n",
       "      <th>CVE_LOC</th>\n",
       "      <th>NOM_LOC</th>\n",
       "    </tr>\n",
       "  </thead>\n",
       "  <tbody>\n",
       "    <tr>\n",
       "      <th>299563</th>\n",
       "      <td>32</td>\n",
       "      <td>Zacatecas</td>\n",
       "      <td>058</td>\n",
       "      <td>Santa María de la Paz</td>\n",
       "      <td>39</td>\n",
       "      <td>San Isidro</td>\n",
       "    </tr>\n",
       "    <tr>\n",
       "      <th>299564</th>\n",
       "      <td>32</td>\n",
       "      <td>Zacatecas</td>\n",
       "      <td>058</td>\n",
       "      <td>Santa María de la Paz</td>\n",
       "      <td>40</td>\n",
       "      <td>San José</td>\n",
       "    </tr>\n",
       "    <tr>\n",
       "      <th>299565</th>\n",
       "      <td>32</td>\n",
       "      <td>Zacatecas</td>\n",
       "      <td>058</td>\n",
       "      <td>Santa María de la Paz</td>\n",
       "      <td>41</td>\n",
       "      <td>San Miguel Tepetitlán</td>\n",
       "    </tr>\n",
       "    <tr>\n",
       "      <th>299566</th>\n",
       "      <td>32</td>\n",
       "      <td>Zacatecas</td>\n",
       "      <td>058</td>\n",
       "      <td>Santa María de la Paz</td>\n",
       "      <td>42</td>\n",
       "      <td>San Rafael</td>\n",
       "    </tr>\n",
       "    <tr>\n",
       "      <th>299567</th>\n",
       "      <td>32</td>\n",
       "      <td>Zacatecas</td>\n",
       "      <td>058</td>\n",
       "      <td>Santa María de la Paz</td>\n",
       "      <td>43</td>\n",
       "      <td>Santa Fe</td>\n",
       "    </tr>\n",
       "  </tbody>\n",
       "</table>\n",
       "</div>"
      ],
      "text/plain": [
       "       CVE_ENT    NOM_ENT CVE_MUN                NOM_MUN  CVE_LOC  \\\n",
       "299563      32  Zacatecas     058  Santa María de la Paz       39   \n",
       "299564      32  Zacatecas     058  Santa María de la Paz       40   \n",
       "299565      32  Zacatecas     058  Santa María de la Paz       41   \n",
       "299566      32  Zacatecas     058  Santa María de la Paz       42   \n",
       "299567      32  Zacatecas     058  Santa María de la Paz       43   \n",
       "\n",
       "                      NOM_LOC  \n",
       "299563             San Isidro  \n",
       "299564               San José  \n",
       "299565  San Miguel Tepetitlán  \n",
       "299566             San Rafael  \n",
       "299567               Santa Fe  "
      ]
     },
     "execution_count": 18,
     "metadata": {},
     "output_type": "execute_result"
    }
   ],
   "source": [
    "# Revisamos las últimas filas del dataset con las columnas seleccionadas\n",
    "dataset_inegi_clean.tail()"
   ]
  },
  {
   "cell_type": "code",
   "execution_count": null,
   "metadata": {},
   "outputs": [
    {
     "name": "stdout",
     "output_type": "stream",
     "text": [
      "<class 'pandas.core.frame.DataFrame'>\n",
      "RangeIndex: 299568 entries, 0 to 299567\n",
      "Data columns (total 6 columns):\n",
      " #   Column   Non-Null Count   Dtype \n",
      "---  ------   --------------   ----- \n",
      " 0   CVE_ENT  299568 non-null  object\n",
      " 1   NOM_ENT  299568 non-null  object\n",
      " 2   CVE_MUN  299568 non-null  object\n",
      " 3   NOM_MUN  299568 non-null  object\n",
      " 4   CVE_LOC  299568 non-null  int64 \n",
      " 5   NOM_LOC  299568 non-null  object\n",
      "dtypes: int64(1), object(5)\n",
      "memory usage: 13.7+ MB\n"
     ]
    }
   ],
   "source": [
    "dataset_inegi_clean.info()"
   ]
  },
  {
   "cell_type": "code",
   "execution_count": null,
   "metadata": {},
   "outputs": [
    {
     "name": "stdout",
     "output_type": "stream",
     "text": [
      "Los valores únicos en cada columna son:\n",
      " CVE_ENT        32\n",
      "NOM_ENT        32\n",
      "CVE_MUN       570\n",
      "NOM_MUN      2332\n",
      "CVE_LOC      5692\n",
      "NOM_LOC    149004\n",
      "dtype: int64\n"
     ]
    }
   ],
   "source": [
    "print(\"Los valores únicos en cada columna son:\\n\", dataset_inegi_clean.nunique())"
   ]
  },
  {
   "cell_type": "markdown",
   "metadata": {},
   "source": [
    "### 2.1.1 Estandarización de nombre de municipios\n",
    "\n",
    "Con el fin de poder hacer un merge bajo los mismos nombres, hacemos una limpieza de los datos."
   ]
  },
  {
   "cell_type": "code",
   "execution_count": null,
   "metadata": {},
   "outputs": [],
   "source": [
    "dataset_inegi_clean['NOM_ENT_Clean'] = dataset_inegi_clean['NOM_ENT'].apply(clean_text)\n",
    "dataset_inegi_clean['NOM_MUN_Clean'] = dataset_inegi_clean['NOM_MUN'].apply(clean_text)\n",
    "dataset_inegi_clean['NOM_LOC_Clean'] = dataset_inegi_clean['NOM_LOC'].apply(clean_text)"
   ]
  },
  {
   "cell_type": "code",
   "execution_count": null,
   "metadata": {},
   "outputs": [],
   "source": [
    "dataset_inegi_clean_2019['NOM_ENT_Clean'] = dataset_inegi_clean_2019['NOM_ENT'].apply(clean_text)\n",
    "dataset_inegi_clean_2019['NOM_MUN_Clean'] = dataset_inegi_clean_2019['NOM_MUN'].apply(clean_text)\n",
    "dataset_inegi_clean_2019['NOM_LOC_Clean'] = dataset_inegi_clean_2019['NOM_LOC'].apply(clean_text)"
   ]
  },
  {
   "cell_type": "code",
   "execution_count": null,
   "metadata": {},
   "outputs": [],
   "source": [
    "dataset_inegi_clean_2020['NOM_ENT_Clean'] = dataset_inegi_clean_2020['NOM_ENT'].apply(clean_text)\n",
    "dataset_inegi_clean_2020['NOM_MUN_Clean'] = dataset_inegi_clean_2020['NOM_MUN'].apply(clean_text)\n",
    "dataset_inegi_clean_2020['NOM_LOC_Clean'] = dataset_inegi_clean_2020['NOM_LOC'].apply(clean_text)"
   ]
  },
  {
   "cell_type": "code",
   "execution_count": null,
   "metadata": {},
   "outputs": [],
   "source": [
    "dataset_inegi_clean_2021['NOM_ENT_Clean'] = dataset_inegi_clean_2021['NOM_ENT'].apply(clean_text)\n",
    "dataset_inegi_clean_2021['NOM_MUN_Clean'] = dataset_inegi_clean_2021['NOM_MUN'].apply(clean_text)\n",
    "dataset_inegi_clean_2021['NOM_LOC_Clean'] = dataset_inegi_clean_2021['NOM_LOC'].apply(clean_text)"
   ]
  },
  {
   "cell_type": "code",
   "execution_count": null,
   "metadata": {},
   "outputs": [],
   "source": [
    "dataset_inegi_clean_2022['NOM_ENT_Clean'] = dataset_inegi_clean_2022['NOM_ENT'].apply(clean_text)\n",
    "dataset_inegi_clean_2022['NOM_MUN_Clean'] = dataset_inegi_clean_2022['NOM_MUN'].apply(clean_text)\n",
    "dataset_inegi_clean_2022['NOM_LOC_Clean'] = dataset_inegi_clean_2022['NOM_LOC'].apply(clean_text)"
   ]
  },
  {
   "cell_type": "code",
   "execution_count": null,
   "metadata": {},
   "outputs": [
    {
     "data": {
      "text/plain": [
       "(299568, 9)"
      ]
     },
     "execution_count": 26,
     "metadata": {},
     "output_type": "execute_result"
    }
   ],
   "source": [
    "dataset_inegi_clean.shape"
   ]
  },
  {
   "cell_type": "code",
   "execution_count": null,
   "metadata": {},
   "outputs": [
    {
     "data": {
      "text/plain": [
       "(300240, 9)"
      ]
     },
     "execution_count": 27,
     "metadata": {},
     "output_type": "execute_result"
    }
   ],
   "source": [
    "dataset_inegi_clean_2022.shape"
   ]
  },
  {
   "cell_type": "code",
   "execution_count": null,
   "metadata": {},
   "outputs": [
    {
     "data": {
      "text/plain": [
       "CVE_ENT              object\n",
       "Entidad_inegi        object\n",
       "CVE_MUN              object\n",
       "Municipio_inegi      object\n",
       "CVE_LOC               int64\n",
       "Localidad_inegi      object\n",
       "Entidad_c_inegi      object\n",
       "Municipio_c_inegi    object\n",
       "Localidad_c_inegi    object\n",
       "dtype: object"
      ]
     },
     "execution_count": 28,
     "metadata": {},
     "output_type": "execute_result"
    }
   ],
   "source": [
    "# Renombrar las columnas\n",
    "dataset_inegi_clean.rename(columns={\n",
    "    'CVE_ENT': 'CVE_ENT',\n",
    "    'NOM_ENT': 'Entidad_inegi',\n",
    "    'CVE_MUN': 'CVE_MUN',\n",
    "    'NOM_MUN': 'Municipio_inegi',\n",
    "    'CVE_LOC': 'CVE_LOC',\n",
    "    'NOM_LOC': 'Localidad_inegi',\n",
    "    'NOM_ENT_Clean': 'Entidad_c_inegi',\n",
    "    'NOM_MUN_Clean': 'Municipio_c_inegi',\n",
    "    'NOM_LOC_Clean': 'Localidad_c_inegi'\n",
    "}, inplace=True)\n",
    "\n",
    "#dataset_inegi['CVE_LOC'] = dataset_inegi['CVE_LOC'].astype(str)\n",
    "# Las claves de entidad y municipio serán tratadas numéricamente en la limpieza aunque posteriormente se les asignará el tipo de cadena de texto para tener el estándar.\n",
    "dataset_inegi_clean.dtypes"
   ]
  },
  {
   "cell_type": "code",
   "execution_count": null,
   "metadata": {},
   "outputs": [
    {
     "data": {
      "text/plain": [
       "CVE_ENT              object\n",
       "Entidad_inegi        object\n",
       "CVE_MUN              object\n",
       "Municipio_inegi      object\n",
       "CVE_LOC               int64\n",
       "Localidad_inegi      object\n",
       "Entidad_c_inegi      object\n",
       "Municipio_c_inegi    object\n",
       "Localidad_c_inegi    object\n",
       "dtype: object"
      ]
     },
     "execution_count": 29,
     "metadata": {},
     "output_type": "execute_result"
    }
   ],
   "source": [
    "# Renombrar las columnas\n",
    "dataset_inegi_clean_2019.rename(columns={\n",
    "    'CVE_ENT': 'CVE_ENT',\n",
    "    'NOM_ENT': 'Entidad_inegi',\n",
    "    'CVE_MUN': 'CVE_MUN',\n",
    "    'NOM_MUN': 'Municipio_inegi',\n",
    "    'CVE_LOC': 'CVE_LOC',\n",
    "    'NOM_LOC': 'Localidad_inegi',\n",
    "    'NOM_ENT_Clean': 'Entidad_c_inegi',\n",
    "    'NOM_MUN_Clean': 'Municipio_c_inegi',\n",
    "    'NOM_LOC_Clean': 'Localidad_c_inegi'\n",
    "}, inplace=True)\n",
    "\n",
    "#dataset_inegi['CVE_LOC'] = dataset_inegi['CVE_LOC'].astype(str)\n",
    "# Las claves de entidad y municipio serán tratadas numéricamente en la limpieza aunque posteriormente se les asignará el tipo de cadena de texto para tener el estándar.\n",
    "dataset_inegi_clean_2019.dtypes"
   ]
  },
  {
   "cell_type": "code",
   "execution_count": null,
   "metadata": {},
   "outputs": [
    {
     "data": {
      "text/plain": [
       "CVE_ENT              object\n",
       "Entidad_inegi        object\n",
       "CVE_MUN              object\n",
       "Municipio_inegi      object\n",
       "CVE_LOC               int64\n",
       "Localidad_inegi      object\n",
       "Entidad_c_inegi      object\n",
       "Municipio_c_inegi    object\n",
       "Localidad_c_inegi    object\n",
       "dtype: object"
      ]
     },
     "execution_count": 30,
     "metadata": {},
     "output_type": "execute_result"
    }
   ],
   "source": [
    "# Renombrar las columnas\n",
    "dataset_inegi_clean_2020.rename(columns={\n",
    "    'CVE_ENT': 'CVE_ENT',\n",
    "    'NOM_ENT': 'Entidad_inegi',\n",
    "    'CVE_MUN': 'CVE_MUN',\n",
    "    'NOM_MUN': 'Municipio_inegi',\n",
    "    'CVE_LOC': 'CVE_LOC',\n",
    "    'NOM_LOC': 'Localidad_inegi',\n",
    "    'NOM_ENT_Clean': 'Entidad_c_inegi',\n",
    "    'NOM_MUN_Clean': 'Municipio_c_inegi',\n",
    "    'NOM_LOC_Clean': 'Localidad_c_inegi'\n",
    "}, inplace=True)\n",
    "\n",
    "#dataset_inegi['CVE_LOC'] = dataset_inegi['CVE_LOC'].astype(str)\n",
    "# Las claves de entidad y municipio serán tratadas numéricamente en la limpieza aunque posteriormente se les asignará el tipo de cadena de texto para tener el estándar.\n",
    "dataset_inegi_clean_2020.dtypes"
   ]
  },
  {
   "cell_type": "code",
   "execution_count": null,
   "metadata": {},
   "outputs": [
    {
     "data": {
      "text/plain": [
       "CVE_ENT              object\n",
       "Entidad_inegi        object\n",
       "CVE_MUN              object\n",
       "Municipio_inegi      object\n",
       "CVE_LOC               int64\n",
       "Localidad_inegi      object\n",
       "Entidad_c_inegi      object\n",
       "Municipio_c_inegi    object\n",
       "Localidad_c_inegi    object\n",
       "dtype: object"
      ]
     },
     "execution_count": 31,
     "metadata": {},
     "output_type": "execute_result"
    }
   ],
   "source": [
    "# Renombrar las columnas\n",
    "dataset_inegi_clean_2021.rename(columns={\n",
    "    'CVE_ENT': 'CVE_ENT',\n",
    "    'NOM_ENT': 'Entidad_inegi',\n",
    "    'CVE_MUN': 'CVE_MUN',\n",
    "    'NOM_MUN': 'Municipio_inegi',\n",
    "    'CVE_LOC': 'CVE_LOC',\n",
    "    'NOM_LOC': 'Localidad_inegi',\n",
    "    'NOM_ENT_Clean': 'Entidad_c_inegi',\n",
    "    'NOM_MUN_Clean': 'Municipio_c_inegi',\n",
    "    'NOM_LOC_Clean': 'Localidad_c_inegi'\n",
    "}, inplace=True)\n",
    "\n",
    "#dataset_inegi['CVE_LOC'] = dataset_inegi['CVE_LOC'].astype(str)\n",
    "# Las claves de entidad y municipio serán tratadas numéricamente en la limpieza aunque posteriormente se les asignará el tipo de cadena de texto para tener el estándar.\n",
    "dataset_inegi_clean_2021.dtypes"
   ]
  },
  {
   "cell_type": "code",
   "execution_count": null,
   "metadata": {},
   "outputs": [
    {
     "data": {
      "text/plain": [
       "CVE_ENT              object\n",
       "Entidad_inegi        object\n",
       "CVE_MUN              object\n",
       "Municipio_inegi      object\n",
       "CVE_LOC               int64\n",
       "Localidad_inegi      object\n",
       "Entidad_c_inegi      object\n",
       "Municipio_c_inegi    object\n",
       "Localidad_c_inegi    object\n",
       "dtype: object"
      ]
     },
     "execution_count": 32,
     "metadata": {},
     "output_type": "execute_result"
    }
   ],
   "source": [
    "# Renombrar las columnas\n",
    "dataset_inegi_clean_2022.rename(columns={\n",
    "    'CVE_ENT': 'CVE_ENT',\n",
    "    'NOM_ENT': 'Entidad_inegi',\n",
    "    'CVE_MUN': 'CVE_MUN',\n",
    "    'NOM_MUN': 'Municipio_inegi',\n",
    "    'CVE_LOC': 'CVE_LOC',\n",
    "    'NOM_LOC': 'Localidad_inegi',\n",
    "    'NOM_ENT_Clean': 'Entidad_c_inegi',\n",
    "    'NOM_MUN_Clean': 'Municipio_c_inegi',\n",
    "    'NOM_LOC_Clean': 'Localidad_c_inegi'\n",
    "}, inplace=True)\n",
    "\n",
    "#dataset_inegi['CVE_LOC'] = dataset_inegi['CVE_LOC'].astype(str)\n",
    "# Las claves de entidad y municipio serán tratadas numéricamente en la limpieza aunque posteriormente se les asignará el tipo de cadena de texto para tener el estándar.\n",
    "dataset_inegi_clean_2022.dtypes"
   ]
  },
  {
   "cell_type": "code",
   "execution_count": null,
   "metadata": {},
   "outputs": [],
   "source": [
    "dataset_inegi_clean.to_csv('../../data/inegi/dataset_inegi_clean.csv', index=False)"
   ]
  },
  {
   "cell_type": "code",
   "execution_count": null,
   "metadata": {},
   "outputs": [],
   "source": [
    "dataset_inegi_clean_2019.to_csv('../../data/inegi/dataset_inegi_clean_2019.csv', index=False)"
   ]
  },
  {
   "cell_type": "code",
   "execution_count": null,
   "metadata": {},
   "outputs": [],
   "source": [
    "dataset_inegi_clean_2020.to_csv('../../data/inegi/dataset_inegi_clean_2020.csv', index=False)"
   ]
  },
  {
   "cell_type": "code",
   "execution_count": null,
   "metadata": {},
   "outputs": [],
   "source": [
    "dataset_inegi_clean_2021.to_csv('../../data/inegi/dataset_inegi_clean_2021.csv', index=False)"
   ]
  },
  {
   "cell_type": "code",
   "execution_count": null,
   "metadata": {},
   "outputs": [],
   "source": [
    "dataset_inegi_clean_2022.to_csv('../../data/inegi/dataset_inegi_clean_2022.csv', index=False)"
   ]
  }
 ],
 "metadata": {
  "kernelspec": {
   "display_name": "Python 3",
   "language": "python",
   "name": "python3"
  },
  "language_info": {
   "codemirror_mode": {
    "name": "ipython",
    "version": 3
   },
   "file_extension": ".py",
   "mimetype": "text/x-python",
   "name": "python",
   "nbconvert_exporter": "python",
   "pygments_lexer": "ipython3",
   "version": "3.9.9"
  }
 },
 "nbformat": 4,
 "nbformat_minor": 2
}
