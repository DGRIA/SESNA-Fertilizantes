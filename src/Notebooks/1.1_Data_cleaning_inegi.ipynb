{
 "cells": [
  {
   "cell_type": "markdown",
   "metadata": {},
   "source": [
    "# Data Cleaning Dataset de Inegi"
   ]
  },
  {
   "cell_type": "markdown",
   "metadata": {},
   "source": [
    "En este notebook procederemos con la limpieza del dataset de Inegi"
   ]
  },
  {
   "cell_type": "code",
   "execution_count": 48,
   "metadata": {},
   "outputs": [],
   "source": [
    "import pandas as pd\n",
    "import seaborn as sns\n",
    "from thefuzz import fuzz\n",
    "from thefuzz import process\n",
    "import matplotlib.pyplot as plt\n",
    "import numpy as np\n",
    "import os\n",
    "import glob\n",
    "import re\n",
    "import unidecode"
   ]
  },
  {
   "cell_type": "code",
   "execution_count": 49,
   "metadata": {},
   "outputs": [],
   "source": [
    "def clean_text(text):\n",
    "    \"\"\"\n",
    "    De esta manera tenemos el texto sin espacios blancos extra y sobre todo con todas las palabras con capitalización correcta.\n",
    "    \"\"\"\n",
    "    if pd.isna(text):\n",
    "        return text\n",
    "    text = text.strip()  # Eliminate white spaces\n",
    "    text = text.lower()  # Convert to lowercase\n",
    "    text = unidecode.unidecode(text)  # Remove accents\n",
    "    text = re.sub('-.*-', '', text)\n",
    "    text = re.sub('\\s+', ' ', text)  # Eliminate extra white spaces\n",
    "    text = re.sub('^\\s+|\\s+?$', '', text)  # Eliminate spaces at the beginning and end\n",
    "    return text"
   ]
  },
  {
   "cell_type": "code",
   "execution_count": 50,
   "metadata": {},
   "outputs": [
    {
     "data": {
      "text/plain": [
       "(299570, 20)"
      ]
     },
     "execution_count": 50,
     "metadata": {},
     "output_type": "execute_result"
    }
   ],
   "source": [
    "path_dataset_inegi_2019 = '../../data/dataset_inegi_2019.csv'\n",
    "dataset_inegi_2019 = pd.read_csv(path_dataset_inegi_2019, encoding='utf-8', dtype={'CVE_ENT': str, 'CVE_MUN': str})\n",
    "dataset_inegi_2019.shape"
   ]
  },
  {
   "cell_type": "code",
   "execution_count": 51,
   "metadata": {},
   "outputs": [
    {
     "data": {
      "text/plain": [
       "(300690, 20)"
      ]
     },
     "execution_count": 51,
     "metadata": {},
     "output_type": "execute_result"
    }
   ],
   "source": [
    "path_dataset_inegi_2020 = '../../data/dataset_inegi_2020.csv'\n",
    "dataset_inegi_2020 = pd.read_csv(path_dataset_inegi_2020, encoding='utf-8', dtype={'CVE_ENT': str, 'CVE_MUN': str})\n",
    "dataset_inegi_2020.shape"
   ]
  },
  {
   "cell_type": "code",
   "execution_count": 52,
   "metadata": {},
   "outputs": [
    {
     "data": {
      "text/plain": [
       "(300350, 20)"
      ]
     },
     "execution_count": 52,
     "metadata": {},
     "output_type": "execute_result"
    }
   ],
   "source": [
    "path_dataset_inegi_2021 = '../../data/dataset_inegi_2021.csv'\n",
    "dataset_inegi_2021 = pd.read_csv(path_dataset_inegi_2021, encoding='utf-8', dtype={'CVE_ENT': str, 'CVE_MUN': str})\n",
    "dataset_inegi_2021.shape"

    "dataset_inegi.head()"
   ]
  },
  {
   "cell_type": "code",
   "execution_count": 10,
   "metadata": {},
   "outputs": [],
   "source": [
    "# Eliminamos las columnas que no son de interés\n",
    "COLUMNS_TO_DROP = ['MAPA', 'Estatus', 'NOM_ABR', 'AMBITO', 'LATITUD', 'LONGITUD',\n",
    "                   'LAT_DECIMAL', 'LON_DECIMAL', 'ALTITUD', 'CVE_CARTA', 'POB_TOTAL',\n",
    "                   'POB_MASCULINA', 'POB_FEMENINA', 'TOTAL DE VIVIENDAS HABITADAS']\n",
    "dataset_inegi = dataset_inegi.drop(COLUMNS_TO_DROP, axis=1)\n",
    "dataset_inegi_2019 = dataset_inegi_2019.drop(COLUMNS_TO_DROP, axis=1)\n",
    "dataset_inegi_2020 = dataset_inegi_2020.drop(COLUMNS_TO_DROP, axis=1)\n",
    "dataset_inegi_2021 = dataset_inegi_2021.drop(COLUMNS_TO_DROP, axis=1)\n",
    "dataset_inegi_2022 = dataset_inegi_2022.drop(COLUMNS_TO_DROP, axis=1)"
   ]
  },
  {
   "cell_type": "code",
   "execution_count": 53,
   "metadata": {},
   "outputs": [
    {
     "data": {
      "text/plain": [
       "(300240, 20)"
      ]
     },
     "execution_count": 53,
     "metadata": {},
     "output_type": "execute_result"
    }
   ],
   "source": [
    "path_dataset_inegi_2022 = '../../data/dataset_inegi_2022.csv'\n",
    "dataset_inegi_2022 = pd.read_csv(path_dataset_inegi_2022, encoding='utf-8', dtype={'CVE_ENT': str, 'CVE_MUN': str})\n",
    "dataset_inegi_2022.shape"
   ]
  },
  {
   "cell_type": "code",
   "execution_count": 54,
   "metadata": {},
   "outputs": [],
   "source": [
    "# Eliminamos las columnas que no son de interés\n",
    "COLUMNS_TO_DROP = ['MAPA', 'Estatus', 'NOM_ABR', 'AMBITO', 'LATITUD', 'LONGITUD',\n",
    "                   'LAT_DECIMAL', 'LON_DECIMAL', 'ALTITUD', 'CVE_CARTA',\n",
    "                   'POB_MASCULINA', 'POB_FEMENINA', 'TOTAL DE VIVIENDAS HABITADAS']\n",
    "#dataset_inegi = dataset_inegi.drop(COLUMNS_TO_DROP, axis=1)\n",
    "dataset_inegi_2019 = dataset_inegi_2019.drop(COLUMNS_TO_DROP, axis=1)\n",
    "dataset_inegi_2020 = dataset_inegi_2020.drop(COLUMNS_TO_DROP, axis=1)\n",
    "dataset_inegi_2021 = dataset_inegi_2021.drop(COLUMNS_TO_DROP, axis=1)\n",
    "dataset_inegi_2022 = dataset_inegi_2022.drop(COLUMNS_TO_DROP, axis=1)"
   ]
  },
  {
   "cell_type": "code",
   "execution_count": 55,
   "metadata": {},
   "outputs": [
    {
     "name": "stdout",
     "output_type": "stream",
     "text": [
      "Shape of dataset_inegi:  (299568, 6)\n",
      "Shape of dataset_inegi_clean:  (299570, 6)\n"
     ]
    }
   ],
   "source": [
    "# Revisamos la cantidad de filas y columnas del dataset\n",
    "#print(\"Shape of dataset_inegi: \", dataset_inegi.shape)\n",
    "\n",
    "dataset_inegi_clean_2019 = dataset_inegi_2019.drop_duplicates()\n",
    "print(\"Shape of dataset_inegi_clean: \", dataset_inegi_clean_2019.shape)"
   ]
  },
  {
   "cell_type": "code",
   "execution_count": 56,
   "metadata": {},
   "outputs": [
    {
     "name": "stdout",
     "output_type": "stream",
     "text": [
      "Shape of dataset_inegi:  (299568, 6)\n",
      "Shape of dataset_inegi_clean:  (300690, 6)\n"
     ]
    }
   ],
   "source": [
    "# Revisamos la cantidad de filas y columnas del dataset\n",
    "#print(\"Shape of dataset_inegi: \", dataset_inegi.shape)\n",
    "\n",
    "dataset_inegi_clean_2020 = dataset_inegi_2020.drop_duplicates()\n",
    "print(\"Shape of dataset_inegi_clean: \", dataset_inegi_clean_2020.shape)"
   ]
  },
  {
   "cell_type": "code",
   "execution_count": 57,
   "metadata": {},
   "outputs": [
    {
     "name": "stdout",
     "output_type": "stream",
     "text": [
      "Shape of dataset_inegi:  (299568, 6)\n",
      "Shape of dataset_inegi_clean:  (300350, 6)\n"
     ]
    }
   ],
   "source": [
    "# Revisamos la cantidad de filas y columnas del dataset\n",
    "#print(\"Shape of dataset_inegi: \", dataset_inegi.shape)\n",
    "\n",
    "dataset_inegi_clean_2021 = dataset_inegi_2021.drop_duplicates()\n",
    "print(\"Shape of dataset_inegi_clean: \", dataset_inegi_clean_2021.shape)"
   ]
  },
  {
   "cell_type": "code",
   "execution_count": 58,
   "metadata": {},
   "outputs": [
    {
     "name": "stdout",
     "output_type": "stream",
     "text": [
      "Shape of dataset_inegi_2022:  (300240, 7)\n",
      "Shape of dataset_inegi_clean_2022:  (300240, 7)\n"
     ]
    }
   ],
   "source": [
    "# Revisamos la cantidad de filas y columnas del dataset\n",
    "print(\"Shape of dataset_inegi_2022: \", dataset_inegi_2022.shape)\n",
    "\n",
    "dataset_inegi_clean_2022 = dataset_inegi_2022.drop_duplicates()\n",
    "print(\"Shape of dataset_inegi_clean_2022: \", dataset_inegi_clean_2022.shape)"
   ]
  },
  {
   "cell_type": "markdown",
   "metadata": {},
   "source": [
    "### 2.1.1 Estandarización de nombre de municipios\n",
    "\n",
    "Con el fin de poder hacer un merge bajo los mismos nombres, hacemos una limpieza de los datos."
   ]
  },
  {
   "cell_type": "code",
   "execution_count": 59,
   "metadata": {},
   "outputs": [],
   "source": [
    "dataset_inegi_clean_2019['NOM_ENT_Clean'] = dataset_inegi_clean_2019['NOM_ENT'].apply(clean_text)\n",
    "dataset_inegi_clean_2019['NOM_MUN_Clean'] = dataset_inegi_clean_2019['NOM_MUN'].apply(clean_text)\n",
    "dataset_inegi_clean_2019['NOM_LOC_Clean'] = dataset_inegi_clean_2019['NOM_LOC'].apply(clean_text)"
   ]
  },
  {
   "cell_type": "code",
   "execution_count": 60,
   "metadata": {},
   "outputs": [],
   "source": [
    "dataset_inegi_clean_2020['NOM_ENT_Clean'] = dataset_inegi_clean_2020['NOM_ENT'].apply(clean_text)\n",
    "dataset_inegi_clean_2020['NOM_MUN_Clean'] = dataset_inegi_clean_2020['NOM_MUN'].apply(clean_text)\n",
    "dataset_inegi_clean_2020['NOM_LOC_Clean'] = dataset_inegi_clean_2020['NOM_LOC'].apply(clean_text)"
   ]
  },
  {
   "cell_type": "code",
   "execution_count": 61,
   "metadata": {},
   "outputs": [],
   "source": [
    "dataset_inegi_clean_2021['NOM_ENT_Clean'] = dataset_inegi_clean_2021['NOM_ENT'].apply(clean_text)\n",
    "dataset_inegi_clean_2021['NOM_MUN_Clean'] = dataset_inegi_clean_2021['NOM_MUN'].apply(clean_text)\n",
    "dataset_inegi_clean_2021['NOM_LOC_Clean'] = dataset_inegi_clean_2021['NOM_LOC'].apply(clean_text)"
   ]
  },
  {
   "cell_type": "code",
   "execution_count": 62,
   "metadata": {},
   "outputs": [],
   "source": [
    "dataset_inegi_clean_2022['NOM_ENT_Clean'] = dataset_inegi_clean_2022['NOM_ENT'].apply(clean_text)\n",
    "dataset_inegi_clean_2022['NOM_MUN_Clean'] = dataset_inegi_clean_2022['NOM_MUN'].apply(clean_text)\n",
    "dataset_inegi_clean_2022['NOM_LOC_Clean'] = dataset_inegi_clean_2022['NOM_LOC'].apply(clean_text)"
   ]
  },
  {
   "cell_type": "code",
   "execution_count": 63,
   "metadata": {},
   "outputs": [
    {
     "data": {
      "text/plain": [
       "(300240, 10)"
      ]
     },
     "execution_count": 63,
     "metadata": {},
     "output_type": "execute_result"
    }
   ],
   "source": [
    "dataset_inegi_clean_2022.shape"
   ]
  },
  {
   "cell_type": "code",
   "execution_count": 64,
   "metadata": {},
   "outputs": [
    {
     "data": {
      "text/plain": [
       "CVE_ENT              object\n",
       "Entidad_inegi        object\n",
       "CVE_MUN              object\n",
       "Municipio_inegi      object\n",
       "CVE_LOC               int64\n",
       "Localidad_inegi      object\n",
       "POB_TOTAL            object\n",
       "Entidad_c_inegi      object\n",
       "Municipio_c_inegi    object\n",
       "Localidad_c_inegi    object\n",
       "dtype: object"
      ]
     },
     "execution_count": 64,
     "metadata": {},
     "output_type": "execute_result"
    }
   ],
   "source": [
    "# Renombrar las columnas\n",
    "dataset_inegi_clean_2019.rename(columns={\n",
    "    'CVE_ENT': 'CVE_ENT',\n",
    "    'NOM_ENT': 'Entidad_inegi',\n",
    "    'CVE_MUN': 'CVE_MUN',\n",
    "    'NOM_MUN': 'Municipio_inegi',\n",
    "    'CVE_LOC': 'CVE_LOC',\n",
    "    'NOM_LOC': 'Localidad_inegi',\n",
    "    'NOM_ENT_Clean': 'Entidad_c_inegi',\n",
    "    'NOM_MUN_Clean': 'Municipio_c_inegi',\n",
    "    'NOM_LOC_Clean': 'Localidad_c_inegi'\n",
    "}, inplace=True)\n",
    "\n",
    "#dataset_inegi['CVE_LOC'] = dataset_inegi['CVE_LOC'].astype(str)\n",
    "# Las claves de entidad y municipio serán tratadas numéricamente en la limpieza aunque posteriormente se les asignará el tipo de cadena de texto para tener el estándar.\n",
    "dataset_inegi_clean_2019.dtypes"
   ]
  },
  {
   "cell_type": "code",
   "execution_count": 65,
   "metadata": {},
   "outputs": [
    {
     "data": {
      "text/plain": [
       "CVE_ENT              object\n",
       "Entidad_inegi        object\n",
       "CVE_MUN              object\n",
       "Municipio_inegi      object\n",
       "CVE_LOC               int64\n",
       "Localidad_inegi      object\n",
       "POB_TOTAL             int64\n",
       "Entidad_c_inegi      object\n",
       "Municipio_c_inegi    object\n",
       "Localidad_c_inegi    object\n",
       "dtype: object"
      ]
     },
     "execution_count": 65,
     "metadata": {},
     "output_type": "execute_result"
    }
   ],
   "source": [
    "# Renombrar las columnas\n",
    "dataset_inegi_clean_2020.rename(columns={\n",
    "    'CVE_ENT': 'CVE_ENT',\n",
    "    'NOM_ENT': 'Entidad_inegi',\n",
    "    'CVE_MUN': 'CVE_MUN',\n",
    "    'NOM_MUN': 'Municipio_inegi',\n",
    "    'CVE_LOC': 'CVE_LOC',\n",
    "    'NOM_LOC': 'Localidad_inegi',\n",
    "    'NOM_ENT_Clean': 'Entidad_c_inegi',\n",
    "    'NOM_MUN_Clean': 'Municipio_c_inegi',\n",
    "    'NOM_LOC_Clean': 'Localidad_c_inegi'\n",
    "}, inplace=True)\n",
    "\n",
    "#dataset_inegi['CVE_LOC'] = dataset_inegi['CVE_LOC'].astype(str)\n",
    "# Las claves de entidad y municipio serán tratadas numéricamente en la limpieza aunque posteriormente se les asignará el tipo de cadena de texto para tener el estándar.\n",
    "dataset_inegi_clean_2020.dtypes"
   ]
  },
  {
   "cell_type": "code",
   "execution_count": 66,
   "metadata": {},
   "outputs": [
    {
     "data": {
      "text/plain": [
       "CVE_ENT              object\n",
       "Entidad_inegi        object\n",
       "CVE_MUN              object\n",
       "Municipio_inegi      object\n",
       "CVE_LOC               int64\n",
       "Localidad_inegi      object\n",
       "POB_TOTAL            object\n",
       "Entidad_c_inegi      object\n",
       "Municipio_c_inegi    object\n",
       "Localidad_c_inegi    object\n",
       "dtype: object"
      ]
     },
     "execution_count": 66,
     "metadata": {},
     "output_type": "execute_result"
    }
   ],
   "source": [
    "# Renombrar las columnas\n",
    "dataset_inegi_clean_2021.rename(columns={\n",
    "    'CVE_ENT': 'CVE_ENT',\n",
    "    'NOM_ENT': 'Entidad_inegi',\n",
    "    'CVE_MUN': 'CVE_MUN',\n",
    "    'NOM_MUN': 'Municipio_inegi',\n",
    "    'CVE_LOC': 'CVE_LOC',\n",
    "    'NOM_LOC': 'Localidad_inegi',\n",
    "    'NOM_ENT_Clean': 'Entidad_c_inegi',\n",
    "    'NOM_MUN_Clean': 'Municipio_c_inegi',\n",
    "    'NOM_LOC_Clean': 'Localidad_c_inegi'\n",
    "}, inplace=True)\n",
    "\n",
    "#dataset_inegi['CVE_LOC'] = dataset_inegi['CVE_LOC'].astype(str)\n",
    "# Las claves de entidad y municipio serán tratadas numéricamente en la limpieza aunque posteriormente se les asignará el tipo de cadena de texto para tener el estándar.\n",
    "dataset_inegi_clean_2021.dtypes"
   ]
  },
  {
   "cell_type": "code",
   "execution_count": 67,
   "metadata": {},
   "outputs": [
    {
     "data": {
      "text/plain": [
       "CVE_ENT              object\n",
       "Entidad_inegi        object\n",
       "CVE_MUN              object\n",
       "Municipio_inegi      object\n",
       "CVE_LOC               int64\n",
       "Localidad_inegi      object\n",
       "POB_TOTAL            object\n",
       "Entidad_c_inegi      object\n",
       "Municipio_c_inegi    object\n",
       "Localidad_c_inegi    object\n",
       "dtype: object"
      ]
     },
     "execution_count": 67,
     "metadata": {},
     "output_type": "execute_result"
    }
   ],
   "source": [
    "# Renombrar las columnas\n",
    "dataset_inegi_clean_2022.rename(columns={\n",
    "    'CVE_ENT': 'CVE_ENT',\n",
    "    'NOM_ENT': 'Entidad_inegi',\n",
    "    'CVE_MUN': 'CVE_MUN',\n",
    "    'NOM_MUN': 'Municipio_inegi',\n",
    "    'CVE_LOC': 'CVE_LOC',\n",
    "    'NOM_LOC': 'Localidad_inegi',\n",
    "    'NOM_ENT_Clean': 'Entidad_c_inegi',\n",
    "    'NOM_MUN_Clean': 'Municipio_c_inegi',\n",
    "    'NOM_LOC_Clean': 'Localidad_c_inegi'\n",
    "}, inplace=True)\n",
    "\n",
    "#dataset_inegi['CVE_LOC'] = dataset_inegi['CVE_LOC'].astype(str)\n",
    "# Las claves de entidad y municipio serán tratadas numéricamente en la limpieza aunque posteriormente se les asignará el tipo de cadena de texto para tener el estándar.\n",
    "dataset_inegi_clean_2022.dtypes"
   ]
  },
  {
   "cell_type": "code",
   "execution_count": 68,
   "metadata": {},
   "outputs": [],
   "source": [
    "dataset_inegi_clean_2019.to_csv('../../data/dataset_inegi_clean_2019.csv', index=False)"
   ]
  },
  {
   "cell_type": "code",
   "execution_count": 69,
   "metadata": {},
   "outputs": [],
   "source": [
    "dataset_inegi_clean_2020.to_csv('../../data/dataset_inegi_clean_2020.csv', index=False)"
   ]
  },
  {
   "cell_type": "code",
   "execution_count": 70,
   "metadata": {},
   "outputs": [],
   "source": [
    "dataset_inegi_clean_2021.to_csv('../../data/dataset_inegi_clean_2021.csv', index=False)"
   ]
  },
  {
   "cell_type": "code",
   "execution_count": 71,
   "metadata": {},
   "outputs": [],
   "source": [
    "dataset_inegi_clean_2022.to_csv('../../data/dataset_inegi_clean_2022.csv', index=False)"
   ]
  }
 ],
 "metadata": {
  "kernelspec": {
   "display_name": "Python 3 (ipykernel)",
   "language": "python",
   "name": "python3"
  },
  "language_info": {
   "codemirror_mode": {
    "name": "ipython",
    "version": 3
   },
   "file_extension": ".py",
   "mimetype": "text/x-python",
   "name": "python",
   "nbconvert_exporter": "python",
   "pygments_lexer": "ipython3",
   "version": "3.11.5"
  }
 },
 "nbformat": 4,
 "nbformat_minor": 2
}
