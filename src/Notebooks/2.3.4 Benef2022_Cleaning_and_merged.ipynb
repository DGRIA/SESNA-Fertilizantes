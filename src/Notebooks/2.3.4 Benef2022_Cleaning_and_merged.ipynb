{
 "cells": [
  {
   "cell_type": "markdown",
   "metadata": {},
   "source": [
    "# Data Cleaning Listado de Listado de Beneficiarios 2022"
   ]
  },
  {
   "cell_type": "markdown",
   "metadata": {},
   "source": [
    "## Autores\n",
    "- José Luis Delgado Dávara\n",
    "- Arturo Ortiz Aguilar\n",
    "- Beltrán Valle Gutiérrez-Cortines"
   ]
  },
  {
   "cell_type": "markdown",
   "metadata": {},
   "source": [
    "## Importante leer para entender\n",
    "\n",
    "En este Notebook se trabaja con 3 listados importantes:\n",
    "\n",
    "1. beneficiarios_22 -> Dataset con el listado de TODOS los beneficiarios de 2022.\n",
    "2. Estados_Beneficiarios_2019_2022 -> Dataset sólo con los estados *únicos* encontrados en el dataset anterior.\n",
    "3. Diccionario -> Emparejamiento entre ambos listados de beneficiarios\n",
    "4. Dataset_Inegi -> Catálogo obtenido de Inegi"
   ]
  },
  {
   "cell_type": "code",
   "execution_count": 36,
   "metadata": {},
   "outputs": [],
   "source": [
    "import pandas as pd\n",
    "import seaborn as sns\n",
    "from thefuzz import fuzz\n",
    "from thefuzz import process\n",
    "import matplotlib.pyplot as plt\n",
    "import numpy as np\n",
    "import os\n",
    "import glob\n",
    "import re\n",
    "import unidecode"
   ]
  },
  {
   "cell_type": "code",
   "execution_count": 37,
   "metadata": {},
   "outputs": [],
   "source": [
    "def clean_text(text):\n",
    "    \"\"\"\n",
    "    De esta manera tenemos el texto sin espacios blancos extra y sobre todo con todas las palabras con capitalización correcta.\n",
    "    \"\"\"\n",
    "    if pd.isna(text):\n",
    "        return text\n",
    "    text = text.strip()  # Eliminate white spaces\n",
    "    text = text.lower()  # Convert to lowercase\n",
    "    text = unidecode.unidecode(text)  # Remove accents\n",
    "    text = re.sub('-.*-', '', text) #Remove what is in between - -\n",
    "    text = re.sub('\\s+', ' ', text)  # Eliminate extra white spaces\n",
    "    text = re.sub('^\\s+|\\s+?$', '', text)  # Eliminate spaces at the beginning and end\n",
    "    return text"
   ]
  },
  {
   "cell_type": "markdown",
   "metadata": {},
   "source": [
    "# 1. Lectura y limpieza de datos"
   ]
  },
  {
   "cell_type": "markdown",
   "metadata": {},
   "source": [
    "### 1.1 Beneficiarios 2022\n",
    "\n",
    "Obtenemos el listado único de localidades y listado único de municipios con sus claves."
   ]
  },
  {
   "cell_type": "code",
   "execution_count": 38,
   "metadata": {},
   "outputs": [],
   "source": [
    "beneficiarios_22 = pd.read_csv('../../data/productores_beneficiarios 2019-2022/listado_beneficiarios_fertilizantes_2022.csv', encoding='utf-8', skiprows=0)"
   ]
  },
  {
   "cell_type": "code",
   "execution_count": 39,
   "metadata": {},
   "outputs": [
    {
     "data": {
      "text/plain": [
       "(826385, 16)"
      ]
     },
     "execution_count": 39,
     "metadata": {},
     "output_type": "execute_result"
    }
   ],
   "source": [
    "beneficiarios_22.shape"
   ]
  },
  {
   "cell_type": "code",
   "execution_count": 40,
   "metadata": {},
   "outputs": [
    {
     "data": {
      "text/plain": [
       "array(['GUERRERO', 'OAXACA', 'PUEBLA', 'MORELOS', 'CHIAPAS', 'DURANGO',\n",
       "       'TLAXCALA', 'NAYARIT', 'ZACATECAS', nan], dtype=object)"
      ]
     },
     "execution_count": 40,
     "metadata": {},
     "output_type": "execute_result"
    }
   ],
   "source": [
    "beneficiarios_22['ENTIDAD'].unique()"
   ]
  },
  {
   "cell_type": "code",
   "execution_count": 41,
   "metadata": {},
   "outputs": [],
   "source": [
    "beneficiarios_22.dropna(inplace=True)"
   ]
  },
  {
   "cell_type": "code",
   "execution_count": 42,
   "metadata": {},
   "outputs": [],
   "source": [
    "# Obtenemos las localidades únicas en el dataset.\n",
    "Localidades_22 = beneficiarios_22[['ENTIDAD', 'MUNICIPIO', 'LOCALIDAD']]\n",
    "Localidades_22 = Localidades_22.drop_duplicates()\n"
   ]
  },
  {
   "cell_type": "code",
   "execution_count": 43,
   "metadata": {},
   "outputs": [],
   "source": [
    "Localidades_22['ENTIDAD_c_benef'] = Localidades_22['ENTIDAD'].apply(clean_text)\n",
    "Localidades_22['MUNICIPIO_c_benef'] = Localidades_22['MUNICIPIO'].apply(clean_text)\n",
    "Localidades_22['LOCALIDAD_c_benef'] = Localidades_22['LOCALIDAD'].apply(clean_text)"
   ]
  },
  {
   "cell_type": "code",
   "execution_count": 44,
   "metadata": {},
   "outputs": [],
   "source": [
    "# Creamos las dos keys de beneficiarios 2019\n",
    "Localidades_22['KEY_benef_mun'] = Localidades_22['ENTIDAD_c_benef'].astype(str) + '-' + Localidades_22[\n",
    "    'MUNICIPIO_c_benef'].astype(str)\n",
    "Localidades_22['KEY_benef_loc'] = Localidades_22['ENTIDAD_c_benef'].astype(str) + '-' + Localidades_22[\n",
    "    'MUNICIPIO_c_benef'].astype(str) + '-' + Localidades_22['LOCALIDAD_c_benef'].astype(str)"
   ]
  },
  {
   "cell_type": "code",
   "execution_count": 45,
   "metadata": {},
   "outputs": [
    {
     "data": {
      "text/plain": [
       "(12513, 8)"
      ]
     },
     "execution_count": 45,
     "metadata": {},
     "output_type": "execute_result"
    }
   ],
   "source": [
    "Localidades_22.shape"
   ]
  },
  {
   "cell_type": "code",
   "execution_count": 46,
   "metadata": {},
   "outputs": [],
   "source": [
    "# Obtenemos las localidades únicas en el dataset.\n",
    "Municipios_22 = beneficiarios_22[['ENTIDAD', 'MUNICIPIO']]\n",
    "Municipios_22 = Municipios_22.drop_duplicates()"
   ]
  },
  {
   "cell_type": "code",
   "execution_count": 47,
   "metadata": {},
   "outputs": [],
   "source": [
    "# Estandarizamos la limpieza de los datos\n",
    "Municipios_22['ENTIDAD_c_benef'] = Municipios_22['ENTIDAD'].apply(clean_text)\n",
    "Municipios_22['MUNICIPIO_c_benef'] = Municipios_22['MUNICIPIO'].apply(clean_text)"
   ]
  },
  {
   "cell_type": "code",
   "execution_count": 48,
   "metadata": {},
   "outputs": [],
   "source": [
    "# Creamos las dos keys de beneficiarios \n",
    "Municipios_22['KEY_benef_mun'] = Municipios_22['ENTIDAD_c_benef'].astype(str) + '-' + Municipios_22[\n",
    "    'MUNICIPIO_c_benef'].astype(str)"
   ]
  },
  {
   "cell_type": "code",
   "execution_count": 49,
   "metadata": {},
   "outputs": [
    {
     "data": {
      "text/plain": [
       "(1029, 5)"
      ]
     },
     "execution_count": 49,
     "metadata": {},
     "output_type": "execute_result"
    }
   ],
   "source": [
    "Municipios_22.shape"
   ]
  },
  {
   "cell_type": "code",
   "execution_count": 50,
   "metadata": {},
   "outputs": [
    {
     "data": {
      "text/plain": [
       "Index(['ENTIDAD', 'MUNICIPIO', 'ENTIDAD_c_benef', 'MUNICIPIO_c_benef',\n",
       "       'KEY_benef_mun'],\n",
       "      dtype='object')"
      ]
     },
     "execution_count": 50,
     "metadata": {},
     "output_type": "execute_result"
    }
   ],
   "source": [
    "Municipios_22.columns"
   ]
  },
  {
   "cell_type": "markdown",
   "metadata": {},
   "source": [
    "### 1.2 INEGI 2022\n",
    "\n",
    "Obtener listado único de municipios y listado único de localidades de inegi de 2022 con sus claves."
   ]
  },
  {
   "cell_type": "code",
   "execution_count": 51,
   "metadata": {},
   "outputs": [],
   "source": [
    "path_dataset_inegi_2022 = '../../data/dataset_inegi_clean_2022.csv'\n",
    "#dataset_inegi_clean = pd.read_csv(path_dataset_inegi_2022, encoding='utf-8', dtype={'CVE_ENT': str, 'CVE_MUN': str, 'CVE_LOC': str})\n",
    "dataset_inegi_2022 = pd.read_csv(path_dataset_inegi_2022)"
   ]
  },
  {
   "cell_type": "markdown",
   "metadata": {},
   "source": [
    "### 1.2.1 INEGI 2022 Municipios únicos para cada año."
   ]
  },
  {
   "cell_type": "code",
   "execution_count": 52,
   "metadata": {},
   "outputs": [],
   "source": [
    "dataset_inegi_2022['KEY_inegi_municipio'] = dataset_inegi_2022['Entidad_c_inegi'].astype(str) + '-' + dataset_inegi_2022[\n",
    "    'Municipio_c_inegi'].astype(str) \n",
    "dataset_inegi_2022['KEY_inegi_localidad'] = dataset_inegi_2022['Entidad_c_inegi'].astype(str) + '-' + dataset_inegi_2022[\n",
    "    'Municipio_c_inegi'].astype(str) + '-' + dataset_inegi_2022['Localidad_c_inegi'].astype(str)"
   ]
  },
  {
   "cell_type": "code",
   "execution_count": 53,
   "metadata": {},
   "outputs": [],
   "source": [
    "INEGI_UNIQUEMUN_2022 = dataset_inegi_2022.drop(columns=[\"CVE_LOC\", \"Localidad_inegi\", \"Localidad_c_inegi\", \"KEY_inegi_localidad\"])\n",
    "\n",
    "INEGI_UNIQUEMUN_2022 = INEGI_UNIQUEMUN_2022.drop_duplicates()"
   ]
  },
  {
   "cell_type": "code",
   "execution_count": 54,
   "metadata": {},
   "outputs": [
    {
     "data": {
      "text/plain": [
       "(2475, 7)"
      ]
     },
     "execution_count": 54,
     "metadata": {},
     "output_type": "execute_result"
    }
   ],
   "source": [
    "INEGI_UNIQUEMUN_2022.shape"
   ]
  },
  {
   "cell_type": "code",
   "execution_count": 55,
   "metadata": {},
   "outputs": [
    {
     "data": {
      "text/plain": [
       "Index(['CVE_ENT', 'Entidad_inegi', 'CVE_MUN', 'Municipio_inegi',\n",
       "       'Entidad_c_inegi', 'Municipio_c_inegi', 'KEY_inegi_municipio'],\n",
       "      dtype='object')"
      ]
     },
     "execution_count": 55,
     "metadata": {},
     "output_type": "execute_result"
    }
   ],
   "source": [
    "INEGI_UNIQUEMUN_2022.columns"
   ]
  },
  {
   "cell_type": "markdown",
   "metadata": {},
   "source": [
    "### 1.2.1 INEGI 2022 Localidades únicas para cada año."
   ]
  },
  {
   "cell_type": "code",
   "execution_count": 56,
   "metadata": {},
   "outputs": [],
   "source": [
    "INEGI_UNIQUELOC_2022 = dataset_inegi_2022\n",
    "\n",
    "INEGI_UNIQUELOC_2022 = INEGI_UNIQUELOC_2022.drop_duplicates()"
   ]
  },
  {
   "cell_type": "code",
   "execution_count": 57,
   "metadata": {},
   "outputs": [
    {
     "data": {
      "text/plain": [
       "(300240, 11)"
      ]
     },
     "execution_count": 57,
     "metadata": {},
     "output_type": "execute_result"
    }
   ],
   "source": [
    "INEGI_UNIQUELOC_2022.shape"
   ]
  },
  {
   "cell_type": "markdown",
   "metadata": {},
   "source": [
    "# 2. Diccionario de los datasets de INEGI Y LISTADO BENEFICIARIOS 2019\n",
    "\n",
    "El objetivo de esta sección es crear dos diccionarios de códigos según BENEFICIARIOS-MUNICIPIOS_INEGI y otro BENEFICIARIOS-LOCALIDADES_INEGI, para cada uno de los estados encontrados en inegi_2022, en este caso el número de keys es menor con lo cual no nos hará falta dividir por estado.\n",
    "\n",
    "Para ello haremos un Left join entre Localidades_22 y el dataset de INEGI correspondiente."
   ]
  },
  {
   "cell_type": "code",
   "execution_count": 58,
   "metadata": {},
   "outputs": [],
   "source": [
    "# Crear una función para encontrar la mejor coincidencia difusa con límites entre 85 y 100 de coincidencia\n",
    "def fuzzy_merge_benef2019_2022(df_benef, df_inegi, key1, key2, threshold=85, limit=1):\n",
    "    \"\"\"\n",
    "    df_inegi: DataFrame de la izquierda (el DataFrame principal)\n",
    "    df_prod: DataFrame de la derecha (el DataFrame con el que se quiere hacer el join)\n",
    "    key1: Columna de la clave en df_inegi\n",
    "    key2: Columna de la clave en df_prod\n",
    "    threshold: Umbral de coincidencia difusa\n",
    "    limit: Número de coincidencias a encontrar\n",
    "    \"\"\"\n",
    "    s = df_inegi[key2].tolist()\n",
    "    \n",
    "    # Encontrar las mejores coincidencias para cada clave en df_inegi\n",
    "    matches = df_benef[key1].apply(lambda x: process.extractOne(x, s, score_cutoff=threshold))\n",
    "\n",
    "\n",
    "    # Crear una columna con las mejores coincidencias\n",
    "    df_benef['best_match'] = [match[0] if match else None for match in matches]\n",
    "    \n",
    "    df_benef['match_score'] = [match[1] if match else None for match in matches]\n",
    "    \n",
    "\n",
    "    # Hacer el merge con las mejores coincidencias\n",
    "    df_merged = pd.merge(df_benef, df_inegi, left_on='best_match', right_on=key2, how='left',\n",
    "                         suffixes=('_benef', '_inegi'))\n",
    "    \n",
    "    return df_merged"
   ]
  },
  {
   "cell_type": "code",
   "execution_count": 59,
   "metadata": {},
   "outputs": [
    {
     "data": {
      "text/plain": [
       "(1031, 14)"
      ]
     },
     "execution_count": 59,
     "metadata": {},
     "output_type": "execute_result"
    }
   ],
   "source": [
    "diccionario_MUN_22 = fuzzy_merge_benef2019_2022(Municipios_22, INEGI_UNIQUEMUN_2022, 'KEY_benef_mun', 'KEY_inegi_municipio')\n",
    "diccionario_MUN_22.shape"
   ]
  },
  {
   "cell_type": "code",
   "execution_count": 60,
   "metadata": {},
   "outputs": [],
   "source": [
    "diccionario_MUN_22.drop(columns=['ENTIDAD', 'MUNICIPIO', 'ENTIDAD_c_benef', 'MUNICIPIO_c_benef', 'Entidad_c_inegi',\n",
    "       'Municipio_c_inegi'], inplace=True)"
   ]
  },
  {
   "cell_type": "code",
   "execution_count": 61,
   "metadata": {},
   "outputs": [],
   "source": [
    "diccionario_MUN_22.to_csv('../../data/productores_beneficiarios 2019-2022/diccionarios_E3/diccionario_MUN_22.csv', index=False)"
   ]
  },
  {
   "cell_type": "code",
   "execution_count": 62,
   "metadata": {},
   "outputs": [],
   "source": [
    "nan_rows = beneficiarios_22[beneficiarios_22.isna().any(axis=1)]"
   ]
  },
  {
   "cell_type": "code",
   "execution_count": 63,
   "metadata": {},
   "outputs": [
    {
     "data": {
      "text/html": [
       "<div>\n",
       "<style scoped>\n",
       "    .dataframe tbody tr th:only-of-type {\n",
       "        vertical-align: middle;\n",
       "    }\n",
       "\n",
       "    .dataframe tbody tr th {\n",
       "        vertical-align: top;\n",
       "    }\n",
       "\n",
       "    .dataframe thead th {\n",
       "        text-align: right;\n",
       "    }\n",
       "</style>\n",
       "<table border=\"1\" class=\"dataframe\">\n",
       "  <thead>\n",
       "    <tr style=\"text-align: right;\">\n",
       "      <th></th>\n",
       "      <th>BENEFICIARIO</th>\n",
       "      <th>ZONA</th>\n",
       "      <th>ENTIDAD</th>\n",
       "      <th>MUNICIPIO</th>\n",
       "      <th>LOCALIDAD</th>\n",
       "      <th>ESTRATIFICACIÓN</th>\n",
       "      <th>PROGRAMA</th>\n",
       "      <th>COMPONENTE</th>\n",
       "      <th>SUBCOMPONENTE</th>\n",
       "      <th>PRODUCTO</th>\n",
       "      <th>FECHA</th>\n",
       "      <th>MONTO FEDERAL</th>\n",
       "      <th>APOYO</th>\n",
       "      <th>ACTIVIDAD</th>\n",
       "      <th>ESLABÓN</th>\n",
       "      <th>CICLO AGRÍCOLA</th>\n",
       "    </tr>\n",
       "  </thead>\n",
       "  <tbody>\n",
       "  </tbody>\n",
       "</table>\n",
       "</div>"
      ],
      "text/plain": [
       "Empty DataFrame\n",
       "Columns: [BENEFICIARIO, ZONA, ENTIDAD, MUNICIPIO, LOCALIDAD, ESTRATIFICACIÓN, PROGRAMA, COMPONENTE, SUBCOMPONENTE, PRODUCTO, FECHA, MONTO FEDERAL, APOYO, ACTIVIDAD, ESLABÓN, CICLO AGRÍCOLA]\n",
       "Index: []"
      ]
     },
     "execution_count": 63,
     "metadata": {},
     "output_type": "execute_result"
    }
   ],
   "source": [
    "nan_rows"
   ]
  },
  {
   "cell_type": "code",
   "execution_count": 64,
   "metadata": {},
   "outputs": [],
   "source": [
    "# Assuming your DataFrame is named df\n",
    "filtered_df = beneficiarios_22[beneficiarios_22['ENTIDAD'] == 'NACIONAL']"
   ]
  },
  {
   "cell_type": "code",
   "execution_count": 65,
   "metadata": {},
   "outputs": [
    {
     "data": {
      "text/html": [
       "<div>\n",
       "<style scoped>\n",
       "    .dataframe tbody tr th:only-of-type {\n",
       "        vertical-align: middle;\n",
       "    }\n",
       "\n",
       "    .dataframe tbody tr th {\n",
       "        vertical-align: top;\n",
       "    }\n",
       "\n",
       "    .dataframe thead th {\n",
       "        text-align: right;\n",
       "    }\n",
       "</style>\n",
       "<table border=\"1\" class=\"dataframe\">\n",
       "  <thead>\n",
       "    <tr style=\"text-align: right;\">\n",
       "      <th></th>\n",
       "      <th>BENEFICIARIO</th>\n",
       "      <th>ZONA</th>\n",
       "      <th>ENTIDAD</th>\n",
       "      <th>MUNICIPIO</th>\n",
       "      <th>LOCALIDAD</th>\n",
       "      <th>ESTRATIFICACIÓN</th>\n",
       "      <th>PROGRAMA</th>\n",
       "      <th>COMPONENTE</th>\n",
       "      <th>SUBCOMPONENTE</th>\n",
       "      <th>PRODUCTO</th>\n",
       "      <th>FECHA</th>\n",
       "      <th>MONTO FEDERAL</th>\n",
       "      <th>APOYO</th>\n",
       "      <th>ACTIVIDAD</th>\n",
       "      <th>ESLABÓN</th>\n",
       "      <th>CICLO AGRÍCOLA</th>\n",
       "    </tr>\n",
       "  </thead>\n",
       "  <tbody>\n",
       "  </tbody>\n",
       "</table>\n",
       "</div>"
      ],
      "text/plain": [
       "Empty DataFrame\n",
       "Columns: [BENEFICIARIO, ZONA, ENTIDAD, MUNICIPIO, LOCALIDAD, ESTRATIFICACIÓN, PROGRAMA, COMPONENTE, SUBCOMPONENTE, PRODUCTO, FECHA, MONTO FEDERAL, APOYO, ACTIVIDAD, ESLABÓN, CICLO AGRÍCOLA]\n",
       "Index: []"
      ]
     },
     "execution_count": 65,
     "metadata": {},
     "output_type": "execute_result"
    }
   ],
   "source": [
    "filtered_df"
   ]
  },
  {
   "cell_type": "markdown",
   "metadata": {},
   "source": [
    "# 3. Join por entidad (Divide y Vencerás)"
   ]
  },
  {
   "cell_type": "markdown",
   "metadata": {},
   "source": [
    "### 3.1.1 Join de localidades - PUEBLA"
   ]
  },
  {
   "cell_type": "code",
   "execution_count": 66,
   "metadata": {},
   "outputs": [],
   "source": [
    "Localidades_22_PUEBLA = Localidades_22[Localidades_22[\"ENTIDAD\"] == \"PUEBLA\"]\n",
    "\n",
    "dataset_inegi_uniqueloc_PUEBLA = INEGI_UNIQUELOC_2022[INEGI_UNIQUELOC_2022['Entidad_inegi'] == 'Puebla']"
   ]
  },
  {
   "cell_type": "code",
   "execution_count": 67,
   "metadata": {},
   "outputs": [
    {
     "name": "stderr",
     "output_type": "stream",
     "text": [
      "/var/folders/ng/n9ng0wy92t90_49j662nh02c0000gn/T/ipykernel_34875/734782849.py:18: SettingWithCopyWarning: \n",
      "A value is trying to be set on a copy of a slice from a DataFrame.\n",
      "Try using .loc[row_indexer,col_indexer] = value instead\n",
      "\n",
      "See the caveats in the documentation: https://pandas.pydata.org/pandas-docs/stable/user_guide/indexing.html#returning-a-view-versus-a-copy\n",
      "  df_benef['best_match'] = [match[0] if match else None for match in matches]\n",
      "/var/folders/ng/n9ng0wy92t90_49j662nh02c0000gn/T/ipykernel_34875/734782849.py:20: SettingWithCopyWarning: \n",
      "A value is trying to be set on a copy of a slice from a DataFrame.\n",
      "Try using .loc[row_indexer,col_indexer] = value instead\n",
      "\n",
      "See the caveats in the documentation: https://pandas.pydata.org/pandas-docs/stable/user_guide/indexing.html#returning-a-view-versus-a-copy\n",
      "  df_benef['match_score'] = [match[1] if match else None for match in matches]\n"
     ]
    },
    {
     "data": {
      "text/plain": [
       "(744, 21)"
      ]
     },
     "execution_count": 67,
     "metadata": {},
     "output_type": "execute_result"
    }
   ],
   "source": [
    "Localidades_22_PUEBLA = fuzzy_merge_benef2019_2022(Localidades_22_PUEBLA, dataset_inegi_uniqueloc_PUEBLA, 'KEY_benef_loc', 'KEY_inegi_localidad')\n",
    "Localidades_22_PUEBLA.shape"
   ]
  },
  {
   "cell_type": "markdown",
   "metadata": {},
   "source": [
    "### 3.2.2 Join de localidades - CHIAPAS"
   ]
  },
  {
   "cell_type": "code",
   "execution_count": 68,
   "metadata": {},
   "outputs": [],
   "source": [
    "Localidades_22_CHIAPAS = Localidades_22[Localidades_22[\"ENTIDAD\"] == \"CHIAPAS\"]\n",
    "\n",
    "dataset_inegi_uniqueloc_CHIAPAS = INEGI_UNIQUELOC_2022[INEGI_UNIQUELOC_2022['Entidad_inegi'] == 'Chiapas']"
   ]
  },
  {
   "cell_type": "code",
   "execution_count": 69,
   "metadata": {},
   "outputs": [
    {
     "name": "stderr",
     "output_type": "stream",
     "text": [
      "/var/folders/ng/n9ng0wy92t90_49j662nh02c0000gn/T/ipykernel_34875/734782849.py:18: SettingWithCopyWarning: \n",
      "A value is trying to be set on a copy of a slice from a DataFrame.\n",
      "Try using .loc[row_indexer,col_indexer] = value instead\n",
      "\n",
      "See the caveats in the documentation: https://pandas.pydata.org/pandas-docs/stable/user_guide/indexing.html#returning-a-view-versus-a-copy\n",
      "  df_benef['best_match'] = [match[0] if match else None for match in matches]\n",
      "/var/folders/ng/n9ng0wy92t90_49j662nh02c0000gn/T/ipykernel_34875/734782849.py:20: SettingWithCopyWarning: \n",
      "A value is trying to be set on a copy of a slice from a DataFrame.\n",
      "Try using .loc[row_indexer,col_indexer] = value instead\n",
      "\n",
      "See the caveats in the documentation: https://pandas.pydata.org/pandas-docs/stable/user_guide/indexing.html#returning-a-view-versus-a-copy\n",
      "  df_benef['match_score'] = [match[1] if match else None for match in matches]\n"
     ]
    },
    {
     "data": {
      "text/plain": [
       "(3898, 21)"
      ]
     },
     "execution_count": 69,
     "metadata": {},
     "output_type": "execute_result"
    }
   ],
   "source": [
    "Localidades_22_CHIAPAS = fuzzy_merge_benef2019_2022(Localidades_22_CHIAPAS, dataset_inegi_uniqueloc_CHIAPAS, 'KEY_benef_loc', 'KEY_inegi_localidad')\n",
    "Localidades_22_CHIAPAS.shape"
   ]
  },
  {
   "cell_type": "markdown",
   "metadata": {},
   "source": [
    "### 3.2.3 Join de localidades - DURANGO"
   ]
  },
  {
   "cell_type": "code",
   "execution_count": 70,
   "metadata": {},
   "outputs": [],
   "source": [
    "Localidades_22_DURANGO = Localidades_22[Localidades_22[\"ENTIDAD\"] == \"DURANGO\"]\n",
    "\n",
    "dataset_inegi_uniqueloc_DURANGO = INEGI_UNIQUELOC_2022[INEGI_UNIQUELOC_2022['Entidad_inegi'] == 'Durango']"
   ]
  },
  {
   "cell_type": "code",
   "execution_count": 71,
   "metadata": {},
   "outputs": [
    {
     "name": "stderr",
     "output_type": "stream",
     "text": [
      "/var/folders/ng/n9ng0wy92t90_49j662nh02c0000gn/T/ipykernel_34875/734782849.py:18: SettingWithCopyWarning: \n",
      "A value is trying to be set on a copy of a slice from a DataFrame.\n",
      "Try using .loc[row_indexer,col_indexer] = value instead\n",
      "\n",
      "See the caveats in the documentation: https://pandas.pydata.org/pandas-docs/stable/user_guide/indexing.html#returning-a-view-versus-a-copy\n",
      "  df_benef['best_match'] = [match[0] if match else None for match in matches]\n",
      "/var/folders/ng/n9ng0wy92t90_49j662nh02c0000gn/T/ipykernel_34875/734782849.py:20: SettingWithCopyWarning: \n",
      "A value is trying to be set on a copy of a slice from a DataFrame.\n",
      "Try using .loc[row_indexer,col_indexer] = value instead\n",
      "\n",
      "See the caveats in the documentation: https://pandas.pydata.org/pandas-docs/stable/user_guide/indexing.html#returning-a-view-versus-a-copy\n",
      "  df_benef['match_score'] = [match[1] if match else None for match in matches]\n"
     ]
    },
    {
     "data": {
      "text/plain": [
       "(678, 21)"
      ]
     },
     "execution_count": 71,
     "metadata": {},
     "output_type": "execute_result"
    }
   ],
   "source": [
    "Localidades_22_DURANGO = fuzzy_merge_benef2019_2022(Localidades_22_DURANGO, dataset_inegi_uniqueloc_DURANGO, 'KEY_benef_loc', 'KEY_inegi_localidad')\n",
    "Localidades_22_DURANGO.shape"
   ]
  },
  {
   "cell_type": "markdown",
   "metadata": {},
   "source": [
    "### 3.2.4 Join de localidades - MORELOS"
   ]
  },
  {
   "cell_type": "code",
   "execution_count": 72,
   "metadata": {},
   "outputs": [],
   "source": [
    "Localidades_22_MORELOS = Localidades_22[Localidades_22[\"ENTIDAD\"] == \"MORELOS\"]\n",
    "\n",
    "dataset_inegi_uniqueloc_MORELOS = INEGI_UNIQUELOC_2022[INEGI_UNIQUELOC_2022['Entidad_inegi'] == 'Morelos']"
   ]
  },
  {
   "cell_type": "code",
   "execution_count": 73,
   "metadata": {},
   "outputs": [
    {
     "name": "stderr",
     "output_type": "stream",
     "text": [
      "/var/folders/ng/n9ng0wy92t90_49j662nh02c0000gn/T/ipykernel_34875/734782849.py:18: SettingWithCopyWarning: \n",
      "A value is trying to be set on a copy of a slice from a DataFrame.\n",
      "Try using .loc[row_indexer,col_indexer] = value instead\n",
      "\n",
      "See the caveats in the documentation: https://pandas.pydata.org/pandas-docs/stable/user_guide/indexing.html#returning-a-view-versus-a-copy\n",
      "  df_benef['best_match'] = [match[0] if match else None for match in matches]\n",
      "/var/folders/ng/n9ng0wy92t90_49j662nh02c0000gn/T/ipykernel_34875/734782849.py:20: SettingWithCopyWarning: \n",
      "A value is trying to be set on a copy of a slice from a DataFrame.\n",
      "Try using .loc[row_indexer,col_indexer] = value instead\n",
      "\n",
      "See the caveats in the documentation: https://pandas.pydata.org/pandas-docs/stable/user_guide/indexing.html#returning-a-view-versus-a-copy\n",
      "  df_benef['match_score'] = [match[1] if match else None for match in matches]\n"
     ]
    },
    {
     "data": {
      "text/plain": [
       "(271, 21)"
      ]
     },
     "execution_count": 73,
     "metadata": {},
     "output_type": "execute_result"
    }
   ],
   "source": [
    "Localidades_22_MORELOS = fuzzy_merge_benef2019_2022(Localidades_22_MORELOS, dataset_inegi_uniqueloc_MORELOS, 'KEY_benef_loc', 'KEY_inegi_localidad')\n",
    "Localidades_22_MORELOS.shape"
   ]
  },
  {
   "cell_type": "markdown",
   "metadata": {},
   "source": [
    "### 3.2.5 Join de localidades - GUERRERO"
   ]
  },
  {
   "cell_type": "code",
   "execution_count": 74,
   "metadata": {},
   "outputs": [],
   "source": [
    "Localidades_22_GUERRERO = Localidades_22[Localidades_22[\"ENTIDAD\"] == \"GUERRERO\"]\n",
    "\n",
    "dataset_inegi_uniqueloc_GUERRERO = INEGI_UNIQUELOC_2022[INEGI_UNIQUELOC_2022['Entidad_inegi'] == 'Guerrero']"
   ]
  },
  {
   "cell_type": "code",
   "execution_count": 75,
   "metadata": {},
   "outputs": [
    {
     "name": "stderr",
     "output_type": "stream",
     "text": [
      "/var/folders/ng/n9ng0wy92t90_49j662nh02c0000gn/T/ipykernel_34875/734782849.py:18: SettingWithCopyWarning: \n",
      "A value is trying to be set on a copy of a slice from a DataFrame.\n",
      "Try using .loc[row_indexer,col_indexer] = value instead\n",
      "\n",
      "See the caveats in the documentation: https://pandas.pydata.org/pandas-docs/stable/user_guide/indexing.html#returning-a-view-versus-a-copy\n",
      "  df_benef['best_match'] = [match[0] if match else None for match in matches]\n",
      "/var/folders/ng/n9ng0wy92t90_49j662nh02c0000gn/T/ipykernel_34875/734782849.py:20: SettingWithCopyWarning: \n",
      "A value is trying to be set on a copy of a slice from a DataFrame.\n",
      "Try using .loc[row_indexer,col_indexer] = value instead\n",
      "\n",
      "See the caveats in the documentation: https://pandas.pydata.org/pandas-docs/stable/user_guide/indexing.html#returning-a-view-versus-a-copy\n",
      "  df_benef['match_score'] = [match[1] if match else None for match in matches]\n"
     ]
    },
    {
     "data": {
      "text/plain": [
       "(4847, 21)"
      ]
     },
     "execution_count": 75,
     "metadata": {},
     "output_type": "execute_result"
    }
   ],
   "source": [
    "Localidades_22_GUERRERO = fuzzy_merge_benef2019_2022(Localidades_22_GUERRERO, dataset_inegi_uniqueloc_GUERRERO, 'KEY_benef_loc', 'KEY_inegi_localidad')\n",
    "Localidades_22_GUERRERO.shape"
   ]
  },
  {
   "cell_type": "markdown",
   "metadata": {},
   "source": [
    "### 3.2.6 Join de localidades - NAYARIT"
   ]
  },
  {
   "cell_type": "code",
   "execution_count": 76,
   "metadata": {},
   "outputs": [],
   "source": [
    "Localidades_22_NAYARIT = Localidades_22[Localidades_22[\"ENTIDAD\"] == \"NAYARIT\"]\n",
    "\n",
    "dataset_inegi_uniqueloc_NAYARIT = INEGI_UNIQUELOC_2022[INEGI_UNIQUELOC_2022['Entidad_inegi'] == 'Nayarit']"
   ]
  },
  {
   "cell_type": "code",
   "execution_count": 77,
   "metadata": {},
   "outputs": [
    {
     "name": "stderr",
     "output_type": "stream",
     "text": [
      "/var/folders/ng/n9ng0wy92t90_49j662nh02c0000gn/T/ipykernel_34875/734782849.py:18: SettingWithCopyWarning: \n",
      "A value is trying to be set on a copy of a slice from a DataFrame.\n",
      "Try using .loc[row_indexer,col_indexer] = value instead\n",
      "\n",
      "See the caveats in the documentation: https://pandas.pydata.org/pandas-docs/stable/user_guide/indexing.html#returning-a-view-versus-a-copy\n",
      "  df_benef['best_match'] = [match[0] if match else None for match in matches]\n",
      "/var/folders/ng/n9ng0wy92t90_49j662nh02c0000gn/T/ipykernel_34875/734782849.py:20: SettingWithCopyWarning: \n",
      "A value is trying to be set on a copy of a slice from a DataFrame.\n",
      "Try using .loc[row_indexer,col_indexer] = value instead\n",
      "\n",
      "See the caveats in the documentation: https://pandas.pydata.org/pandas-docs/stable/user_guide/indexing.html#returning-a-view-versus-a-copy\n",
      "  df_benef['match_score'] = [match[1] if match else None for match in matches]\n"
     ]
    },
    {
     "data": {
      "text/plain": [
       "(356, 21)"
      ]
     },
     "execution_count": 77,
     "metadata": {},
     "output_type": "execute_result"
    }
   ],
   "source": [
    "Localidades_22_NAYARIT = fuzzy_merge_benef2019_2022(Localidades_22_NAYARIT, dataset_inegi_uniqueloc_NAYARIT, 'KEY_benef_loc', 'KEY_inegi_localidad')\n",
    "Localidades_22_NAYARIT.shape"
   ]
  },
  {
   "cell_type": "markdown",
   "metadata": {},
   "source": [
    "### 3.2.7 Join de localidades - OAXACA"
   ]
  },
  {
   "cell_type": "code",
   "execution_count": 78,
   "metadata": {},
   "outputs": [],
   "source": [
    "Localidades_22_OAXACA = Localidades_22[Localidades_22[\"ENTIDAD\"] == \"OAXACA\"]\n",
    "\n",
    "dataset_inegi_uniqueloc_OAXACA = INEGI_UNIQUELOC_2022[INEGI_UNIQUELOC_2022['Entidad_inegi'] == 'Oaxaca']"
   ]
  },
  {
   "cell_type": "code",
   "execution_count": 79,
   "metadata": {},
   "outputs": [
    {
     "name": "stderr",
     "output_type": "stream",
     "text": [
      "/var/folders/ng/n9ng0wy92t90_49j662nh02c0000gn/T/ipykernel_34875/734782849.py:18: SettingWithCopyWarning: \n",
      "A value is trying to be set on a copy of a slice from a DataFrame.\n",
      "Try using .loc[row_indexer,col_indexer] = value instead\n",
      "\n",
      "See the caveats in the documentation: https://pandas.pydata.org/pandas-docs/stable/user_guide/indexing.html#returning-a-view-versus-a-copy\n",
      "  df_benef['best_match'] = [match[0] if match else None for match in matches]\n",
      "/var/folders/ng/n9ng0wy92t90_49j662nh02c0000gn/T/ipykernel_34875/734782849.py:20: SettingWithCopyWarning: \n",
      "A value is trying to be set on a copy of a slice from a DataFrame.\n",
      "Try using .loc[row_indexer,col_indexer] = value instead\n",
      "\n",
      "See the caveats in the documentation: https://pandas.pydata.org/pandas-docs/stable/user_guide/indexing.html#returning-a-view-versus-a-copy\n",
      "  df_benef['match_score'] = [match[1] if match else None for match in matches]\n"
     ]
    },
    {
     "data": {
      "text/plain": [
       "(1800, 21)"
      ]
     },
     "execution_count": 79,
     "metadata": {},
     "output_type": "execute_result"
    }
   ],
   "source": [
    "Localidades_22_OAXACA = fuzzy_merge_benef2019_2022(Localidades_22_OAXACA, dataset_inegi_uniqueloc_OAXACA, 'KEY_benef_loc', 'KEY_inegi_localidad')\n",
    "Localidades_22_OAXACA.shape"
   ]
  },
  {
   "cell_type": "markdown",
   "metadata": {},
   "source": [
    "### 3.2.8 Join de localidades - TLAXCALA"
   ]
  },
  {
   "cell_type": "code",
   "execution_count": 80,
   "metadata": {},
   "outputs": [],
   "source": [
    "Localidades_22_TLAXCALA = Localidades_22[Localidades_22[\"ENTIDAD\"] == \"TLAXCALA\"]\n",
    "\n",
    "dataset_inegi_uniqueloc_TLAXCALA = INEGI_UNIQUELOC_2022[INEGI_UNIQUELOC_2022['Entidad_inegi'] == 'Tlaxcala']"
   ]
  },
  {
   "cell_type": "code",
   "execution_count": 81,
   "metadata": {},
   "outputs": [
    {
     "name": "stderr",
     "output_type": "stream",
     "text": [
      "/var/folders/ng/n9ng0wy92t90_49j662nh02c0000gn/T/ipykernel_34875/734782849.py:18: SettingWithCopyWarning: \n",
      "A value is trying to be set on a copy of a slice from a DataFrame.\n",
      "Try using .loc[row_indexer,col_indexer] = value instead\n",
      "\n",
      "See the caveats in the documentation: https://pandas.pydata.org/pandas-docs/stable/user_guide/indexing.html#returning-a-view-versus-a-copy\n",
      "  df_benef['best_match'] = [match[0] if match else None for match in matches]\n",
      "/var/folders/ng/n9ng0wy92t90_49j662nh02c0000gn/T/ipykernel_34875/734782849.py:20: SettingWithCopyWarning: \n",
      "A value is trying to be set on a copy of a slice from a DataFrame.\n",
      "Try using .loc[row_indexer,col_indexer] = value instead\n",
      "\n",
      "See the caveats in the documentation: https://pandas.pydata.org/pandas-docs/stable/user_guide/indexing.html#returning-a-view-versus-a-copy\n",
      "  df_benef['match_score'] = [match[1] if match else None for match in matches]\n"
     ]
    },
    {
     "data": {
      "text/plain": [
       "(412, 21)"
      ]
     },
     "execution_count": 81,
     "metadata": {},
     "output_type": "execute_result"
    }
   ],
   "source": [
    "Localidades_22_TLAXCALA = fuzzy_merge_benef2019_2022(Localidades_22_TLAXCALA, dataset_inegi_uniqueloc_TLAXCALA, 'KEY_benef_loc', 'KEY_inegi_localidad')\n",
    "Localidades_22_TLAXCALA.shape"
   ]
  },
  {
   "cell_type": "markdown",
   "metadata": {},
   "source": [
    "### 3.2.9 Join de localidades - ZACATECAS"
   ]
  },
  {
   "cell_type": "code",
   "execution_count": 82,
   "metadata": {},
   "outputs": [],
   "source": [
    "Localidades_22_ZACATECAS = Localidades_22[Localidades_22[\"ENTIDAD\"] == \"ZACATECAS\"]\n",
    "\n",
    "dataset_inegi_uniqueloc_ZACATECAS = INEGI_UNIQUELOC_2022[INEGI_UNIQUELOC_2022['Entidad_inegi'] == 'Zacatecas']"
   ]
  },
  {
   "cell_type": "code",
   "execution_count": 83,
   "metadata": {},
   "outputs": [
    {
     "name": "stderr",
     "output_type": "stream",
     "text": [
      "/var/folders/ng/n9ng0wy92t90_49j662nh02c0000gn/T/ipykernel_34875/734782849.py:18: SettingWithCopyWarning: \n",
      "A value is trying to be set on a copy of a slice from a DataFrame.\n",
      "Try using .loc[row_indexer,col_indexer] = value instead\n",
      "\n",
      "See the caveats in the documentation: https://pandas.pydata.org/pandas-docs/stable/user_guide/indexing.html#returning-a-view-versus-a-copy\n",
      "  df_benef['best_match'] = [match[0] if match else None for match in matches]\n",
      "/var/folders/ng/n9ng0wy92t90_49j662nh02c0000gn/T/ipykernel_34875/734782849.py:20: SettingWithCopyWarning: \n",
      "A value is trying to be set on a copy of a slice from a DataFrame.\n",
      "Try using .loc[row_indexer,col_indexer] = value instead\n",
      "\n",
      "See the caveats in the documentation: https://pandas.pydata.org/pandas-docs/stable/user_guide/indexing.html#returning-a-view-versus-a-copy\n",
      "  df_benef['match_score'] = [match[1] if match else None for match in matches]\n"
     ]
    },
    {
     "data": {
      "text/plain": [
       "(590, 21)"
      ]
     },
     "execution_count": 83,
     "metadata": {},
     "output_type": "execute_result"
    }
   ],
   "source": [
    "Localidades_22_ZACATECAS = fuzzy_merge_benef2019_2022(Localidades_22_ZACATECAS, dataset_inegi_uniqueloc_ZACATECAS, 'KEY_benef_loc', 'KEY_inegi_localidad')\n",
    "Localidades_22_ZACATECAS.shape"
   ]
  }
 ],
 "metadata": {
  "kernelspec": {
   "display_name": "Python 3",
   "language": "python",
   "name": "python3"
  },
  "language_info": {
   "codemirror_mode": {
    "name": "ipython",
    "version": 3
   },
   "file_extension": ".py",
   "mimetype": "text/x-python",
   "name": "python",
   "nbconvert_exporter": "python",
   "pygments_lexer": "ipython3",
   "version": "3.9.9"
  }
 },
 "nbformat": 4,
 "nbformat_minor": 2
}
