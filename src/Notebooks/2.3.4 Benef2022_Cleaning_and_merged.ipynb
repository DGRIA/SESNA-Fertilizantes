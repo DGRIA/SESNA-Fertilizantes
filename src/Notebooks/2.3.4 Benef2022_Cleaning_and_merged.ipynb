{
 "cells": [
  {
   "cell_type": "markdown",
   "metadata": {},
   "source": [
    "# Data Cleaning Listado de Listado de Beneficiarios 2022"
   ]
  },
  {
   "cell_type": "markdown",
   "metadata": {},
   "source": [
    "## Autores\n",
    "- José Luis Delgado Dávara\n",
    "- Arturo Ortiz Aguilar\n",
    "- Beltrán Valle Gutiérrez-Cortines"
   ]
  },
  {
   "cell_type": "markdown",
   "metadata": {},
   "source": [
    "## Importante leer para entender\n",
    "\n",
    "En este Notebook se trabaja con 3 listados importantes:\n",
    "\n",
    "1. beneficiarios_22 -> Dataset con el listado de TODOS los beneficiarios de 2022.\n",
    "2. Estados_Beneficiarios_2019_2022 -> Dataset sólo con los estados *únicos* encontrados en el dataset anterior.\n",
    "3. Diccionario -> Emparejamiento entre ambos listados de beneficiarios\n",
    "4. Dataset_Inegi -> Catálogo obtenido de Inegi"
   ]
  },
  {
   "cell_type": "code",
   "execution_count": 1,
   "metadata": {},
   "outputs": [],
   "source": [
    "import pandas as pd\n",
    "import seaborn as sns\n",
    "from thefuzz import fuzz\n",
    "from thefuzz import process\n",
    "import matplotlib.pyplot as plt\n",
    "import numpy as np\n",
    "import os\n",
    "import glob\n",
    "import re\n",
    "import unidecode"
   ]
  },
  {
   "cell_type": "code",
   "execution_count": 2,
   "metadata": {},
   "outputs": [],
   "source": [
    "def clean_text(text):\n",
    "    \"\"\"\n",
    "    De esta manera tenemos el texto sin espacios blancos extra y sobre todo con todas las palabras con capitalización correcta.\n",
    "    \"\"\"\n",
    "    if pd.isna(text):\n",
    "        return text\n",
    "    text = text.strip()  # Eliminate white spaces\n",
    "    text = text.lower()  # Convert to lowercase\n",
    "    text = unidecode.unidecode(text)  # Remove accents\n",
    "    text = re.sub('-.*-', '', text) #Remove what is in between - -\n",
    "    text = re.sub('\\s+', ' ', text)  # Eliminate extra white spaces\n",
    "    text = re.sub('^\\s+|\\s+?$', '', text)  # Eliminate spaces at the beginning and end\n",
    "    return text"
   ]
  },
  {
   "cell_type": "markdown",
   "metadata": {},
   "source": [
    "# 1. Lectura y limpieza de datos"
   ]
  },
  {
   "cell_type": "markdown",
   "metadata": {},
   "source": [
    "### 1.1 Beneficiarios 2022\n",
    "\n",
    "Obtenemos el listado único de localidades y listado único de municipios con sus claves."
   ]
  },
  {
   "cell_type": "code",
   "execution_count": 3,
   "metadata": {},
   "outputs": [],
   "source": [
    "beneficiarios_22 = pd.read_csv('../../data/productores_beneficiarios 2019-2022/listado_beneficiarios_fertilizantes_2022.csv', encoding='utf-8', skiprows=0)"
   ]
  },
  {
   "cell_type": "code",
   "execution_count": 4,
   "metadata": {},
   "outputs": [],
   "source": [
    "beneficiarios_22 = beneficiarios_22[~((beneficiarios_22['ENTIDAD'] == 'NACIONAL') & (beneficiarios_22['MUNICIPIO'] == 'NACIONAL') & (beneficiarios_22['LOCALIDAD'] == 'NACIONAL'))]"
   ]
  },
  {
   "cell_type": "code",
   "execution_count": 5,
   "metadata": {},
   "outputs": [
    {
     "data": {
      "text/plain": [
       "(826385, 16)"
      ]
     },
     "execution_count": 5,
     "metadata": {},
     "output_type": "execute_result"
    }
   ],
   "source": [
    "beneficiarios_22.shape"
   ]
  },
  {
   "cell_type": "code",
   "execution_count": 6,
   "metadata": {},
   "outputs": [
    {
     "data": {
      "text/plain": [
       "array(['GUERRERO', 'OAXACA', 'PUEBLA', 'MORELOS', 'CHIAPAS', 'DURANGO',\n",
       "       'TLAXCALA', 'NAYARIT', 'ZACATECAS', nan], dtype=object)"
      ]
     },
     "execution_count": 6,
     "metadata": {},
     "output_type": "execute_result"
    }
   ],
   "source": [
    "beneficiarios_22['ENTIDAD'].unique()"
   ]
  },
  {
   "cell_type": "code",
   "execution_count": 7,
   "metadata": {},
   "outputs": [],
   "source": [
    "beneficiarios_22.dropna(inplace=True)"
   ]
  },
  {
   "cell_type": "code",
   "execution_count": 8,
   "metadata": {},
   "outputs": [],
   "source": [
    "# Obtenemos las localidades únicas en el dataset.\n",
    "Localidades_22 = beneficiarios_22[['ENTIDAD', 'MUNICIPIO', 'LOCALIDAD']]\n",
    "Localidades_22 = Localidades_22.drop_duplicates()\n"
   ]
  },
  {
   "cell_type": "code",
   "execution_count": 9,
   "metadata": {},
   "outputs": [],
   "source": [
    "Localidades_22['ENTIDAD_c_benef'] = Localidades_22['ENTIDAD'].apply(clean_text)\n",
    "Localidades_22['MUNICIPIO_c_benef'] = Localidades_22['MUNICIPIO'].apply(clean_text)\n",
    "Localidades_22['LOCALIDAD_c_benef'] = Localidades_22['LOCALIDAD'].apply(clean_text)"
   ]
  },
  {
   "cell_type": "code",
   "execution_count": 10,
   "metadata": {},
   "outputs": [],
   "source": [
    "# Creamos las dos keys de beneficiarios 2019\n",
    "Localidades_22['KEY_benef_mun'] = Localidades_22['ENTIDAD_c_benef'].astype(str) + '-' + Localidades_22[\n",
    "    'MUNICIPIO_c_benef'].astype(str)\n",
    "Localidades_22['KEY_benef_loc'] = Localidades_22['ENTIDAD_c_benef'].astype(str) + '-' + Localidades_22[\n",
    "    'MUNICIPIO_c_benef'].astype(str) + '-' + Localidades_22['LOCALIDAD_c_benef'].astype(str)"
   ]
  },
  {
   "cell_type": "code",
   "execution_count": 11,
   "metadata": {},
   "outputs": [
    {
     "data": {
      "text/plain": [
       "(12513, 8)"
      ]
     },
     "execution_count": 11,
     "metadata": {},
     "output_type": "execute_result"
    }
   ],
   "source": [
    "Localidades_22.shape"
   ]
  },
  {
   "cell_type": "code",
   "execution_count": 12,
   "metadata": {},
   "outputs": [],
   "source": [
    "# Obtenemos las localidades únicas en el dataset.\n",
    "Municipios_22 = beneficiarios_22[['ENTIDAD', 'MUNICIPIO']]\n",
    "Municipios_22 = Municipios_22.drop_duplicates()"
   ]
  },
  {
   "cell_type": "code",
   "execution_count": 13,
   "metadata": {},
   "outputs": [],
   "source": [
    "# Estandarizamos la limpieza de los datos\n",
    "Municipios_22['ENTIDAD_c_benef'] = Municipios_22['ENTIDAD'].apply(clean_text)\n",
    "Municipios_22['MUNICIPIO_c_benef'] = Municipios_22['MUNICIPIO'].apply(clean_text)"
   ]
  },
  {
   "cell_type": "code",
   "execution_count": 14,
   "metadata": {},
   "outputs": [],
   "source": [
    "# Creamos las dos keys de beneficiarios \n",
    "Municipios_22['KEY_benef_mun'] = Municipios_22['ENTIDAD_c_benef'].astype(str) + '-' + Municipios_22[\n",
    "    'MUNICIPIO_c_benef'].astype(str)"
   ]
  },
  {
   "cell_type": "code",
   "execution_count": 15,
   "metadata": {},
   "outputs": [
    {
     "data": {
      "text/plain": [
       "(1029, 5)"
      ]
     },
     "execution_count": 15,
     "metadata": {},
     "output_type": "execute_result"
    }
   ],
   "source": [
    "Municipios_22.shape"
   ]
  },
  {
   "cell_type": "code",
   "execution_count": 16,
   "metadata": {},
   "outputs": [
    {
     "data": {
      "text/plain": [
       "Index(['ENTIDAD', 'MUNICIPIO', 'ENTIDAD_c_benef', 'MUNICIPIO_c_benef',\n",
       "       'KEY_benef_mun'],\n",
       "      dtype='object')"
      ]
     },
     "execution_count": 16,
     "metadata": {},
     "output_type": "execute_result"
    }
   ],
   "source": [
    "Municipios_22.columns"
   ]
  },
  {
   "cell_type": "markdown",
   "metadata": {},
   "source": [
    "### 1.2 INEGI 2022\n",
    "\n",
    "Obtener listado único de municipios y listado único de localidades de inegi de 2022 con sus claves."
   ]
  },
  {
   "cell_type": "code",
   "execution_count": 17,
   "metadata": {},
   "outputs": [],
   "source": [
    "path_dataset_inegi_2022 = '../../data/inegi/dataset_inegi_clean_2022.csv'\n",
    "#dataset_inegi_clean = pd.read_csv(path_dataset_inegi_2022, encoding='utf-8', dtype={'CVE_ENT': str, 'CVE_MUN': str, 'CVE_LOC': str})\n",
    "dataset_inegi_2022 = pd.read_csv(path_dataset_inegi_2022)"
   ]
  },
  {
   "cell_type": "markdown",
   "metadata": {},
   "source": [
    "### 1.2.1 INEGI 2022 Municipios únicos para cada año."
   ]
  },
  {
   "cell_type": "code",
   "execution_count": 18,
   "metadata": {},
   "outputs": [],
   "source": [
    "dataset_inegi_2022['KEY_inegi_municipio'] = dataset_inegi_2022['Entidad_c_inegi'].astype(str) + '-' + dataset_inegi_2022[\n",
    "    'Municipio_c_inegi'].astype(str) \n",
    "dataset_inegi_2022['KEY_inegi_localidad'] = dataset_inegi_2022['Entidad_c_inegi'].astype(str) + '-' + dataset_inegi_2022[\n",
    "    'Municipio_c_inegi'].astype(str) + '-' + dataset_inegi_2022['Localidad_c_inegi'].astype(str)"
   ]
  },
  {
   "cell_type": "code",
   "execution_count": 19,
   "metadata": {},
   "outputs": [],
   "source": [
    "INEGI_UNIQUEMUN_2022 = dataset_inegi_2022.drop(columns=[\"CVE_LOC\", \"Localidad_inegi\", \"Localidad_c_inegi\", \"KEY_inegi_localidad\"])\n",
    "\n",
    "INEGI_UNIQUEMUN_2022 = INEGI_UNIQUEMUN_2022.drop_duplicates()"
   ]
  },
  {
   "cell_type": "code",
   "execution_count": 20,
   "metadata": {},
   "outputs": [
    {
     "data": {
      "text/plain": [
       "(2475, 7)"
      ]
     },
     "execution_count": 20,
     "metadata": {},
     "output_type": "execute_result"
    }
   ],
   "source": [
    "INEGI_UNIQUEMUN_2022.shape"
   ]
  },
  {
   "cell_type": "code",
   "execution_count": 21,
   "metadata": {},
   "outputs": [
    {
     "data": {
      "text/plain": [
       "Index(['CVE_ENT', 'Entidad_inegi', 'CVE_MUN', 'Municipio_inegi',\n",
       "       'Entidad_c_inegi', 'Municipio_c_inegi', 'KEY_inegi_municipio'],\n",
       "      dtype='object')"
      ]
     },
     "execution_count": 21,
     "metadata": {},
     "output_type": "execute_result"
    }
   ],
   "source": [
    "INEGI_UNIQUEMUN_2022.columns"
   ]
  },
  {
   "cell_type": "markdown",
   "metadata": {},
   "source": [
    "### 1.2.1 INEGI 2022 Localidades únicas para cada año."
   ]
  },
  {
   "cell_type": "code",
   "execution_count": 22,
   "metadata": {},
   "outputs": [],
   "source": [
    "INEGI_UNIQUELOC_2022 = dataset_inegi_2022\n",
    "\n",
    "INEGI_UNIQUELOC_2022 = INEGI_UNIQUELOC_2022.drop_duplicates()"
   ]
  },
  {
   "cell_type": "code",
   "execution_count": 23,
   "metadata": {},
   "outputs": [
    {
     "data": {
      "text/plain": [
       "(300240, 11)"
      ]
     },
     "execution_count": 23,
     "metadata": {},
     "output_type": "execute_result"
    }
   ],
   "source": [
    "INEGI_UNIQUELOC_2022.shape"
   ]
  },
  {
   "cell_type": "markdown",
   "metadata": {},
   "source": [
    "# 2. Diccionario de los datasets de INEGI Y LISTADO BENEFICIARIOS 2019\n",
    "\n",
    "El objetivo de esta sección es crear dos diccionarios de códigos según BENEFICIARIOS-MUNICIPIOS_INEGI y otro BENEFICIARIOS-LOCALIDADES_INEGI, para cada uno de los estados encontrados en inegi_2022, en este caso el número de keys es menor con lo cual no nos hará falta dividir por estado.\n",
    "\n",
    "Para ello haremos un Left join entre Localidades_22 y el dataset de INEGI correspondiente."
   ]
  },
  {
   "cell_type": "code",
   "execution_count": 24,
   "metadata": {},
   "outputs": [],
   "source": [
    "# Crear una función para encontrar la mejor coincidencia difusa con límites entre 85 y 100 de coincidencia\n",
    "def fuzzy_merge_benef2019_2022(df_benef, df_inegi, key1, key2, threshold=85, limit=1):\n",
    "    \"\"\"\n",
    "    df_inegi: DataFrame de la izquierda (el DataFrame principal)\n",
    "    df_prod: DataFrame de la derecha (el DataFrame con el que se quiere hacer el join)\n",
    "    key1: Columna de la clave en df_inegi\n",
    "    key2: Columna de la clave en df_prod\n",
    "    threshold: Umbral de coincidencia difusa\n",
    "    limit: Número de coincidencias a encontrar\n",
    "    \"\"\"\n",
    "    s = df_inegi[key2].tolist()\n",
    "    \n",
    "    # Encontrar las mejores coincidencias para cada clave en df_inegi\n",
    "    matches = df_benef[key1].apply(lambda x: process.extractOne(x, s, score_cutoff=threshold))\n",
    "\n",
    "\n",
    "    # Crear una columna con las mejores coincidencias\n",
    "    df_benef['best_match'] = [match[0] if match else None for match in matches]\n",
    "    \n",
    "    df_benef['match_score'] = [match[1] if match else None for match in matches]\n",
    "    \n",
    "\n",
    "    # Hacer el merge con las mejores coincidencias\n",
    "    df_merged = pd.merge(df_benef, df_inegi, left_on='best_match', right_on=key2, how='left',\n",
    "                         suffixes=('_benef', '_inegi'))\n",
    "    \n",
    "    return df_merged"
   ]
  },
  {
   "cell_type": "code",
   "execution_count": 25,
   "metadata": {},
   "outputs": [
    {
     "data": {
      "text/plain": [
       "(1031, 14)"
      ]
     },
     "execution_count": 25,
     "metadata": {},
     "output_type": "execute_result"
    }
   ],
   "source": [
    "diccionario_MUN_22 = fuzzy_merge_benef2019_2022(Municipios_22, INEGI_UNIQUEMUN_2022, 'KEY_benef_mun', 'KEY_inegi_municipio')\n",
    "diccionario_MUN_22.shape"
   ]
  },
  {
   "cell_type": "code",
   "execution_count": 26,
   "metadata": {},
   "outputs": [],
   "source": [
    "diccionario_MUN_22.drop(columns=['ENTIDAD', 'MUNICIPIO', 'ENTIDAD_c_benef', 'MUNICIPIO_c_benef', 'Entidad_c_inegi',\n",
    "       'Municipio_c_inegi'], inplace=True)"
   ]
  },
  {
   "cell_type": "code",
   "execution_count": 27,
   "metadata": {},
   "outputs": [],
   "source": [
    "diccionario_MUN_22.to_csv('../../data/productores_beneficiarios 2019-2022/diccionarios_E3/diccionario_MUN_22.csv', index=False)"
   ]
  },
  {
   "cell_type": "code",
   "execution_count": 28,
   "metadata": {},
   "outputs": [],
   "source": [
    "diccionario_MUN_22_simple = pd.read_csv('../../data/productores_beneficiarios 2019-2022/diccionarios_E3/diccionario_MUN_22_simple.csv')"
   ]
  },
  {
   "cell_type": "code",
   "execution_count": 29,
   "metadata": {},
   "outputs": [],
   "source": [
    "nan_rows = beneficiarios_22[beneficiarios_22.isna().any(axis=1)]"
   ]
  },
  {
   "cell_type": "code",
   "execution_count": 30,
   "metadata": {},
   "outputs": [
    {
     "data": {
      "text/html": [
       "<div>\n",
       "<style scoped>\n",
       "    .dataframe tbody tr th:only-of-type {\n",
       "        vertical-align: middle;\n",
       "    }\n",
       "\n",
       "    .dataframe tbody tr th {\n",
       "        vertical-align: top;\n",
       "    }\n",
       "\n",
       "    .dataframe thead th {\n",
       "        text-align: right;\n",
       "    }\n",
       "</style>\n",
       "<table border=\"1\" class=\"dataframe\">\n",
       "  <thead>\n",
       "    <tr style=\"text-align: right;\">\n",
       "      <th></th>\n",
       "      <th>BENEFICIARIO</th>\n",
       "      <th>ZONA</th>\n",
       "      <th>ENTIDAD</th>\n",
       "      <th>MUNICIPIO</th>\n",
       "      <th>LOCALIDAD</th>\n",
       "      <th>ESTRATIFICACIÓN</th>\n",
       "      <th>PROGRAMA</th>\n",
       "      <th>COMPONENTE</th>\n",
       "      <th>SUBCOMPONENTE</th>\n",
       "      <th>PRODUCTO</th>\n",
       "      <th>FECHA</th>\n",
       "      <th>MONTO FEDERAL</th>\n",
       "      <th>APOYO</th>\n",
       "      <th>ACTIVIDAD</th>\n",
       "      <th>ESLABÓN</th>\n",
       "      <th>CICLO AGRÍCOLA</th>\n",
       "    </tr>\n",
       "  </thead>\n",
       "  <tbody>\n",
       "  </tbody>\n",
       "</table>\n",
       "</div>"
      ],
      "text/plain": [
       "Empty DataFrame\n",
       "Columns: [BENEFICIARIO, ZONA, ENTIDAD, MUNICIPIO, LOCALIDAD, ESTRATIFICACIÓN, PROGRAMA, COMPONENTE, SUBCOMPONENTE, PRODUCTO, FECHA, MONTO FEDERAL, APOYO, ACTIVIDAD, ESLABÓN, CICLO AGRÍCOLA]\n",
       "Index: []"
      ]
     },
     "execution_count": 30,
     "metadata": {},
     "output_type": "execute_result"
    }
   ],
   "source": [
    "nan_rows"
   ]
  },
  {
   "cell_type": "code",
   "execution_count": 31,
   "metadata": {},
   "outputs": [],
   "source": [
    "# Assuming your DataFrame is named df\n",
    "filtered_df = beneficiarios_22[beneficiarios_22['ENTIDAD'] == 'NACIONAL']"
   ]
  },
  {
   "cell_type": "code",
   "execution_count": 32,
   "metadata": {},
   "outputs": [
    {
     "data": {
      "text/html": [
       "<div>\n",
       "<style scoped>\n",
       "    .dataframe tbody tr th:only-of-type {\n",
       "        vertical-align: middle;\n",
       "    }\n",
       "\n",
       "    .dataframe tbody tr th {\n",
       "        vertical-align: top;\n",
       "    }\n",
       "\n",
       "    .dataframe thead th {\n",
       "        text-align: right;\n",
       "    }\n",
       "</style>\n",
       "<table border=\"1\" class=\"dataframe\">\n",
       "  <thead>\n",
       "    <tr style=\"text-align: right;\">\n",
       "      <th></th>\n",
       "      <th>BENEFICIARIO</th>\n",
       "      <th>ZONA</th>\n",
       "      <th>ENTIDAD</th>\n",
       "      <th>MUNICIPIO</th>\n",
       "      <th>LOCALIDAD</th>\n",
       "      <th>ESTRATIFICACIÓN</th>\n",
       "      <th>PROGRAMA</th>\n",
       "      <th>COMPONENTE</th>\n",
       "      <th>SUBCOMPONENTE</th>\n",
       "      <th>PRODUCTO</th>\n",
       "      <th>FECHA</th>\n",
       "      <th>MONTO FEDERAL</th>\n",
       "      <th>APOYO</th>\n",
       "      <th>ACTIVIDAD</th>\n",
       "      <th>ESLABÓN</th>\n",
       "      <th>CICLO AGRÍCOLA</th>\n",
       "    </tr>\n",
       "  </thead>\n",
       "  <tbody>\n",
       "  </tbody>\n",
       "</table>\n",
       "</div>"
      ],
      "text/plain": [
       "Empty DataFrame\n",
       "Columns: [BENEFICIARIO, ZONA, ENTIDAD, MUNICIPIO, LOCALIDAD, ESTRATIFICACIÓN, PROGRAMA, COMPONENTE, SUBCOMPONENTE, PRODUCTO, FECHA, MONTO FEDERAL, APOYO, ACTIVIDAD, ESLABÓN, CICLO AGRÍCOLA]\n",
       "Index: []"
      ]
     },
     "execution_count": 32,
     "metadata": {},
     "output_type": "execute_result"
    }
   ],
   "source": [
    "filtered_df"
   ]
  },
  {
   "cell_type": "markdown",
   "metadata": {},
   "source": [
    "### MERGE\n",
    "\n",
    "Armamos por partes el dataset definitivo:\n",
    "1. Juntamos beneficiarios_19 con el diccionario simple. (listado_beneficiario_parte_I)\n",
    "2. Al df anterior juntamos las claver provenientes del catálogo de Inegi. (listado_beneficiario_parte_II)"
   ]
  },
  {
   "cell_type": "code",
   "execution_count": 33,
   "metadata": {},
   "outputs": [
    {
     "data": {
      "text/plain": [
       "Index(['BENEFICIARIO', 'ZONA', 'ENTIDAD', 'MUNICIPIO', 'LOCALIDAD',\n",
       "       'ESTRATIFICACIÓN', 'PROGRAMA', 'COMPONENTE', 'SUBCOMPONENTE',\n",
       "       'PRODUCTO', 'FECHA', 'MONTO FEDERAL', 'APOYO', 'ACTIVIDAD', 'ESLABÓN',\n",
       "       'CICLO AGRÍCOLA'],\n",
       "      dtype='object')"
      ]
     },
     "execution_count": 33,
     "metadata": {},
     "output_type": "execute_result"
    }
   ],
   "source": [
    "beneficiarios_22.columns"
   ]
  },
  {
   "cell_type": "code",
   "execution_count": 34,
   "metadata": {},
   "outputs": [],
   "source": [
    "# Crear una variable KEY en listado de productores y el diccionario para hacer el join\n",
    "\n",
    "# Clean listado beneficiarios\n",
    "beneficiarios_22['ESTADO_Clean'] = beneficiarios_22['ENTIDAD'].apply(clean_text)\n",
    "beneficiarios_22['MUNICIPIO_Clean'] = beneficiarios_22['MUNICIPIO'].apply(clean_text)\n",
    "\n",
    "# Create KEY in listado beneficiarios\n",
    "beneficiarios_22['Estado-mun-KEY'] = beneficiarios_22['ESTADO_Clean'].astype(str) + '-' + beneficiarios_22[\n",
    "    'MUNICIPIO_Clean'].astype(str)"
   ]
  },
  {
   "cell_type": "code",
   "execution_count": 35,
   "metadata": {},
   "outputs": [],
   "source": [
    "# Hacer el join de la Parte I\n",
    "listado_beneficiarios_parte_I = pd.merge(beneficiarios_22, diccionario_MUN_22_simple, left_on=\"Estado-mun-KEY\",\n",
    "                                        right_on=\"KEY_benef_mun\", how='left', suffixes=('_benef', '_inegi'))"
   ]
  },
  {
   "cell_type": "code",
   "execution_count": 36,
   "metadata": {},
   "outputs": [
    {
     "data": {
      "text/plain": [
       "Index(['BENEFICIARIO', 'ZONA', 'ENTIDAD', 'MUNICIPIO', 'LOCALIDAD',\n",
       "       'ESTRATIFICACIÓN', 'PROGRAMA', 'COMPONENTE', 'SUBCOMPONENTE',\n",
       "       'PRODUCTO', 'FECHA', 'MONTO FEDERAL', 'APOYO', 'ACTIVIDAD', 'ESLABÓN',\n",
       "       'CICLO AGRÍCOLA', 'ESTADO_Clean', 'MUNICIPIO_Clean', 'Estado-mun-KEY',\n",
       "       'KEY_benef_mun', 'KEY_inegi_municipio'],\n",
       "      dtype='object')"
      ]
     },
     "execution_count": 36,
     "metadata": {},
     "output_type": "execute_result"
    }
   ],
   "source": [
    "listado_beneficiarios_parte_I.columns"
   ]
  },
  {
   "cell_type": "code",
   "execution_count": 37,
   "metadata": {},
   "outputs": [],
   "source": [
    "# Hacer el join de la Parte II\n",
    "listado_beneficiarios_parte_II = pd.merge(listado_beneficiarios_parte_I, INEGI_UNIQUEMUN_2022, left_on=\"KEY_benef_mun\",\n",
    "                                        right_on=\"KEY_inegi_municipio\", how='left', suffixes=('_benef', '_inegi'))"
   ]
  },
  {
   "cell_type": "code",
   "execution_count": 38,
   "metadata": {},
   "outputs": [
    {
     "data": {
      "text/html": [
       "<div>\n",
       "<style scoped>\n",
       "    .dataframe tbody tr th:only-of-type {\n",
       "        vertical-align: middle;\n",
       "    }\n",
       "\n",
       "    .dataframe tbody tr th {\n",
       "        vertical-align: top;\n",
       "    }\n",
       "\n",
       "    .dataframe thead th {\n",
       "        text-align: right;\n",
       "    }\n",
       "</style>\n",
       "<table border=\"1\" class=\"dataframe\">\n",
       "  <thead>\n",
       "    <tr style=\"text-align: right;\">\n",
       "      <th></th>\n",
       "      <th>BENEFICIARIO</th>\n",
       "      <th>ZONA</th>\n",
       "      <th>ENTIDAD</th>\n",
       "      <th>MUNICIPIO</th>\n",
       "      <th>LOCALIDAD</th>\n",
       "      <th>ESTRATIFICACIÓN</th>\n",
       "      <th>PROGRAMA</th>\n",
       "      <th>COMPONENTE</th>\n",
       "      <th>SUBCOMPONENTE</th>\n",
       "      <th>PRODUCTO</th>\n",
       "      <th>...</th>\n",
       "      <th>Estado-mun-KEY</th>\n",
       "      <th>KEY_benef_mun</th>\n",
       "      <th>KEY_inegi_municipio_benef</th>\n",
       "      <th>CVE_ENT</th>\n",
       "      <th>Entidad_inegi</th>\n",
       "      <th>CVE_MUN</th>\n",
       "      <th>Municipio_inegi</th>\n",
       "      <th>Entidad_c_inegi</th>\n",
       "      <th>Municipio_c_inegi</th>\n",
       "      <th>KEY_inegi_municipio_inegi</th>\n",
       "    </tr>\n",
       "  </thead>\n",
       "  <tbody>\n",
       "    <tr>\n",
       "      <th>0</th>\n",
       "      <td>ABAC NERI JESUS CARLOS</td>\n",
       "      <td>CENTRO PAÍS</td>\n",
       "      <td>GUERRERO</td>\n",
       "      <td>COYUCA DE BENÍTEZ</td>\n",
       "      <td>PUEBLO VIEJO</td>\n",
       "      <td>Alto</td>\n",
       "      <td>FERTILIZANTES</td>\n",
       "      <td>FERTILIZANTES</td>\n",
       "      <td>FERTILIZANTES</td>\n",
       "      <td>Cultivo de maíz grano blanco</td>\n",
       "      <td>...</td>\n",
       "      <td>guerrero-coyuca de benitez</td>\n",
       "      <td>guerrero-coyuca de benitez</td>\n",
       "      <td>guerrero-coyuca de benitez</td>\n",
       "      <td>12.0</td>\n",
       "      <td>Guerrero</td>\n",
       "      <td>21.0</td>\n",
       "      <td>Coyuca de Benítez</td>\n",
       "      <td>guerrero</td>\n",
       "      <td>coyuca de benitez</td>\n",
       "      <td>guerrero-coyuca de benitez</td>\n",
       "    </tr>\n",
       "    <tr>\n",
       "      <th>1</th>\n",
       "      <td>ABAD ALARCON ELIAZAR</td>\n",
       "      <td>CENTRO PAÍS</td>\n",
       "      <td>GUERRERO</td>\n",
       "      <td>COYUCA DE BENÍTEZ</td>\n",
       "      <td>PUEBLO VIEJO</td>\n",
       "      <td>Alto</td>\n",
       "      <td>FERTILIZANTES</td>\n",
       "      <td>FERTILIZANTES</td>\n",
       "      <td>FERTILIZANTES</td>\n",
       "      <td>Cultivo de maíz grano blanco</td>\n",
       "      <td>...</td>\n",
       "      <td>guerrero-coyuca de benitez</td>\n",
       "      <td>guerrero-coyuca de benitez</td>\n",
       "      <td>guerrero-coyuca de benitez</td>\n",
       "      <td>12.0</td>\n",
       "      <td>Guerrero</td>\n",
       "      <td>21.0</td>\n",
       "      <td>Coyuca de Benítez</td>\n",
       "      <td>guerrero</td>\n",
       "      <td>coyuca de benitez</td>\n",
       "      <td>guerrero-coyuca de benitez</td>\n",
       "    </tr>\n",
       "    <tr>\n",
       "      <th>2</th>\n",
       "      <td>ABAD ALARCON EZEQUIEL</td>\n",
       "      <td>CENTRO PAÍS</td>\n",
       "      <td>GUERRERO</td>\n",
       "      <td>COYUCA DE BENÍTEZ</td>\n",
       "      <td>AGUA ZARCA</td>\n",
       "      <td>Alto</td>\n",
       "      <td>FERTILIZANTES</td>\n",
       "      <td>FERTILIZANTES</td>\n",
       "      <td>FERTILIZANTES</td>\n",
       "      <td>Cultivo de maíz grano blanco</td>\n",
       "      <td>...</td>\n",
       "      <td>guerrero-coyuca de benitez</td>\n",
       "      <td>guerrero-coyuca de benitez</td>\n",
       "      <td>guerrero-coyuca de benitez</td>\n",
       "      <td>12.0</td>\n",
       "      <td>Guerrero</td>\n",
       "      <td>21.0</td>\n",
       "      <td>Coyuca de Benítez</td>\n",
       "      <td>guerrero</td>\n",
       "      <td>coyuca de benitez</td>\n",
       "      <td>guerrero-coyuca de benitez</td>\n",
       "    </tr>\n",
       "    <tr>\n",
       "      <th>3</th>\n",
       "      <td>ABAD ALARCON FULGENCIO</td>\n",
       "      <td>CENTRO PAÍS</td>\n",
       "      <td>GUERRERO</td>\n",
       "      <td>COYUCA DE BENÍTEZ</td>\n",
       "      <td>AGUA ZARCA</td>\n",
       "      <td>Alto</td>\n",
       "      <td>FERTILIZANTES</td>\n",
       "      <td>FERTILIZANTES</td>\n",
       "      <td>FERTILIZANTES</td>\n",
       "      <td>Cultivo de maíz grano blanco</td>\n",
       "      <td>...</td>\n",
       "      <td>guerrero-coyuca de benitez</td>\n",
       "      <td>guerrero-coyuca de benitez</td>\n",
       "      <td>guerrero-coyuca de benitez</td>\n",
       "      <td>12.0</td>\n",
       "      <td>Guerrero</td>\n",
       "      <td>21.0</td>\n",
       "      <td>Coyuca de Benítez</td>\n",
       "      <td>guerrero</td>\n",
       "      <td>coyuca de benitez</td>\n",
       "      <td>guerrero-coyuca de benitez</td>\n",
       "    </tr>\n",
       "    <tr>\n",
       "      <th>4</th>\n",
       "      <td>ABAD ALARCON ROMALDA</td>\n",
       "      <td>CENTRO PAÍS</td>\n",
       "      <td>GUERRERO</td>\n",
       "      <td>COYUCA DE BENÍTEZ</td>\n",
       "      <td>YERBASANTITA</td>\n",
       "      <td>Alto</td>\n",
       "      <td>FERTILIZANTES</td>\n",
       "      <td>FERTILIZANTES</td>\n",
       "      <td>FERTILIZANTES</td>\n",
       "      <td>Cultivo de maíz grano blanco</td>\n",
       "      <td>...</td>\n",
       "      <td>guerrero-coyuca de benitez</td>\n",
       "      <td>guerrero-coyuca de benitez</td>\n",
       "      <td>guerrero-coyuca de benitez</td>\n",
       "      <td>12.0</td>\n",
       "      <td>Guerrero</td>\n",
       "      <td>21.0</td>\n",
       "      <td>Coyuca de Benítez</td>\n",
       "      <td>guerrero</td>\n",
       "      <td>coyuca de benitez</td>\n",
       "      <td>guerrero-coyuca de benitez</td>\n",
       "    </tr>\n",
       "    <tr>\n",
       "      <th>...</th>\n",
       "      <td>...</td>\n",
       "      <td>...</td>\n",
       "      <td>...</td>\n",
       "      <td>...</td>\n",
       "      <td>...</td>\n",
       "      <td>...</td>\n",
       "      <td>...</td>\n",
       "      <td>...</td>\n",
       "      <td>...</td>\n",
       "      <td>...</td>\n",
       "      <td>...</td>\n",
       "      <td>...</td>\n",
       "      <td>...</td>\n",
       "      <td>...</td>\n",
       "      <td>...</td>\n",
       "      <td>...</td>\n",
       "      <td>...</td>\n",
       "      <td>...</td>\n",
       "      <td>...</td>\n",
       "      <td>...</td>\n",
       "      <td>...</td>\n",
       "    </tr>\n",
       "    <tr>\n",
       "      <th>834066</th>\n",
       "      <td>ZURITA ZURITA ROLANDO</td>\n",
       "      <td>SUR SURESTE</td>\n",
       "      <td>OAXACA</td>\n",
       "      <td>SAN SEBASTIÁN TECOMAXTLAHUACA</td>\n",
       "      <td>SAN MATEO TUNUCHI</td>\n",
       "      <td>Alto</td>\n",
       "      <td>FERTILIZANTES</td>\n",
       "      <td>FERTILIZANTES</td>\n",
       "      <td>FERTILIZANTES</td>\n",
       "      <td>Milpa</td>\n",
       "      <td>...</td>\n",
       "      <td>oaxaca-san sebastian tecomaxtlahuaca</td>\n",
       "      <td>oaxaca-san sebastian tecomaxtlahuaca</td>\n",
       "      <td>oaxaca-san sebastian tecomaxtlahuaca</td>\n",
       "      <td>20.0</td>\n",
       "      <td>Oaxaca</td>\n",
       "      <td>348.0</td>\n",
       "      <td>San Sebastián Tecomaxtlahuaca</td>\n",
       "      <td>oaxaca</td>\n",
       "      <td>san sebastian tecomaxtlahuaca</td>\n",
       "      <td>oaxaca-san sebastian tecomaxtlahuaca</td>\n",
       "    </tr>\n",
       "    <tr>\n",
       "      <th>834067</th>\n",
       "      <td>ZURITA ZURITA SIMEON</td>\n",
       "      <td>SUR SURESTE</td>\n",
       "      <td>OAXACA</td>\n",
       "      <td>SAN JUAN LACHAO</td>\n",
       "      <td>SAN JUAN LACHAO</td>\n",
       "      <td>Alto</td>\n",
       "      <td>FERTILIZANTES</td>\n",
       "      <td>FERTILIZANTES</td>\n",
       "      <td>FERTILIZANTES</td>\n",
       "      <td>Cultivo de maíz grano blanco</td>\n",
       "      <td>...</td>\n",
       "      <td>oaxaca-san juan lachao</td>\n",
       "      <td>oaxaca-san juan lachao</td>\n",
       "      <td>oaxaca-san juan lachao</td>\n",
       "      <td>20.0</td>\n",
       "      <td>Oaxaca</td>\n",
       "      <td>202.0</td>\n",
       "      <td>San Juan Lachao</td>\n",
       "      <td>oaxaca</td>\n",
       "      <td>san juan lachao</td>\n",
       "      <td>oaxaca-san juan lachao</td>\n",
       "    </tr>\n",
       "    <tr>\n",
       "      <th>834068</th>\n",
       "      <td>ZURITA ZURITA ZENAIDA</td>\n",
       "      <td>SUR SURESTE</td>\n",
       "      <td>OAXACA</td>\n",
       "      <td>SANTA MARÍA OZOLOTEPEC</td>\n",
       "      <td>SANTA MARÍA OZOLOTEPEC</td>\n",
       "      <td>Alto</td>\n",
       "      <td>FERTILIZANTES</td>\n",
       "      <td>FERTILIZANTES</td>\n",
       "      <td>FERTILIZANTES</td>\n",
       "      <td>Milpa</td>\n",
       "      <td>...</td>\n",
       "      <td>oaxaca-santa maria ozolotepec</td>\n",
       "      <td>oaxaca-santa maria ozolotepec</td>\n",
       "      <td>oaxaca-santa maria ozolotepec</td>\n",
       "      <td>20.0</td>\n",
       "      <td>Oaxaca</td>\n",
       "      <td>424.0</td>\n",
       "      <td>Santa María Ozolotepec</td>\n",
       "      <td>oaxaca</td>\n",
       "      <td>santa maria ozolotepec</td>\n",
       "      <td>oaxaca-santa maria ozolotepec</td>\n",
       "    </tr>\n",
       "    <tr>\n",
       "      <th>834069</th>\n",
       "      <td>ZURROZA RUEDA APOLINAR</td>\n",
       "      <td>SUR SURESTE</td>\n",
       "      <td>OAXACA</td>\n",
       "      <td>SANTO DOMINGO CHIHUITÁN</td>\n",
       "      <td>SANTO DOMINGO CHIHUITÁN</td>\n",
       "      <td>Medio</td>\n",
       "      <td>FERTILIZANTES</td>\n",
       "      <td>FERTILIZANTES</td>\n",
       "      <td>FERTILIZANTES</td>\n",
       "      <td>Cultivo de maíz grano blanco</td>\n",
       "      <td>...</td>\n",
       "      <td>oaxaca-santo domingo chihuitan</td>\n",
       "      <td>oaxaca-santo domingo chihuitan</td>\n",
       "      <td>oaxaca-santo domingo chihuitan</td>\n",
       "      <td>20.0</td>\n",
       "      <td>Oaxaca</td>\n",
       "      <td>508.0</td>\n",
       "      <td>Santo Domingo Chihuitán</td>\n",
       "      <td>oaxaca</td>\n",
       "      <td>santo domingo chihuitan</td>\n",
       "      <td>oaxaca-santo domingo chihuitan</td>\n",
       "    </tr>\n",
       "    <tr>\n",
       "      <th>834070</th>\n",
       "      <td>ZURROZA RUEDA EVA</td>\n",
       "      <td>SUR SURESTE</td>\n",
       "      <td>OAXACA</td>\n",
       "      <td>SANTO DOMINGO CHIHUITÁN</td>\n",
       "      <td>SANTO DOMINGO CHIHUITÁN</td>\n",
       "      <td>Medio</td>\n",
       "      <td>FERTILIZANTES</td>\n",
       "      <td>FERTILIZANTES</td>\n",
       "      <td>FERTILIZANTES</td>\n",
       "      <td>Cultivo de maíz grano blanco</td>\n",
       "      <td>...</td>\n",
       "      <td>oaxaca-santo domingo chihuitan</td>\n",
       "      <td>oaxaca-santo domingo chihuitan</td>\n",
       "      <td>oaxaca-santo domingo chihuitan</td>\n",
       "      <td>20.0</td>\n",
       "      <td>Oaxaca</td>\n",
       "      <td>508.0</td>\n",
       "      <td>Santo Domingo Chihuitán</td>\n",
       "      <td>oaxaca</td>\n",
       "      <td>santo domingo chihuitan</td>\n",
       "      <td>oaxaca-santo domingo chihuitan</td>\n",
       "    </tr>\n",
       "  </tbody>\n",
       "</table>\n",
       "<p>834071 rows × 28 columns</p>\n",
       "</div>"
      ],
      "text/plain": [
       "                   BENEFICIARIO         ZONA   ENTIDAD  \\\n",
       "0       ABAC NERI JESUS CARLOS   CENTRO PAÍS  GUERRERO   \n",
       "1         ABAD ALARCON ELIAZAR   CENTRO PAÍS  GUERRERO   \n",
       "2        ABAD ALARCON EZEQUIEL   CENTRO PAÍS  GUERRERO   \n",
       "3       ABAD ALARCON FULGENCIO   CENTRO PAÍS  GUERRERO   \n",
       "4         ABAD ALARCON ROMALDA   CENTRO PAÍS  GUERRERO   \n",
       "...                         ...          ...       ...   \n",
       "834066   ZURITA ZURITA ROLANDO   SUR SURESTE    OAXACA   \n",
       "834067    ZURITA ZURITA SIMEON   SUR SURESTE    OAXACA   \n",
       "834068   ZURITA ZURITA ZENAIDA   SUR SURESTE    OAXACA   \n",
       "834069  ZURROZA RUEDA APOLINAR   SUR SURESTE    OAXACA   \n",
       "834070       ZURROZA RUEDA EVA   SUR SURESTE    OAXACA   \n",
       "\n",
       "                            MUNICIPIO                LOCALIDAD  \\\n",
       "0                   COYUCA DE BENÍTEZ             PUEBLO VIEJO   \n",
       "1                   COYUCA DE BENÍTEZ             PUEBLO VIEJO   \n",
       "2                   COYUCA DE BENÍTEZ               AGUA ZARCA   \n",
       "3                   COYUCA DE BENÍTEZ               AGUA ZARCA   \n",
       "4                   COYUCA DE BENÍTEZ             YERBASANTITA   \n",
       "...                               ...                      ...   \n",
       "834066  SAN SEBASTIÁN TECOMAXTLAHUACA        SAN MATEO TUNUCHI   \n",
       "834067                SAN JUAN LACHAO          SAN JUAN LACHAO   \n",
       "834068         SANTA MARÍA OZOLOTEPEC   SANTA MARÍA OZOLOTEPEC   \n",
       "834069        SANTO DOMINGO CHIHUITÁN  SANTO DOMINGO CHIHUITÁN   \n",
       "834070        SANTO DOMINGO CHIHUITÁN  SANTO DOMINGO CHIHUITÁN   \n",
       "\n",
       "       ESTRATIFICACIÓN       PROGRAMA     COMPONENTE  SUBCOMPONENTE  \\\n",
       "0                 Alto  FERTILIZANTES  FERTILIZANTES  FERTILIZANTES   \n",
       "1                 Alto  FERTILIZANTES  FERTILIZANTES  FERTILIZANTES   \n",
       "2                 Alto  FERTILIZANTES  FERTILIZANTES  FERTILIZANTES   \n",
       "3                 Alto  FERTILIZANTES  FERTILIZANTES  FERTILIZANTES   \n",
       "4                 Alto  FERTILIZANTES  FERTILIZANTES  FERTILIZANTES   \n",
       "...                ...            ...            ...            ...   \n",
       "834066            Alto  FERTILIZANTES  FERTILIZANTES  FERTILIZANTES   \n",
       "834067            Alto  FERTILIZANTES  FERTILIZANTES  FERTILIZANTES   \n",
       "834068            Alto  FERTILIZANTES  FERTILIZANTES  FERTILIZANTES   \n",
       "834069           Medio  FERTILIZANTES  FERTILIZANTES  FERTILIZANTES   \n",
       "834070           Medio  FERTILIZANTES  FERTILIZANTES  FERTILIZANTES   \n",
       "\n",
       "                            PRODUCTO  ...  \\\n",
       "0       Cultivo de maíz grano blanco  ...   \n",
       "1       Cultivo de maíz grano blanco  ...   \n",
       "2       Cultivo de maíz grano blanco  ...   \n",
       "3       Cultivo de maíz grano blanco  ...   \n",
       "4       Cultivo de maíz grano blanco  ...   \n",
       "...                              ...  ...   \n",
       "834066                         Milpa  ...   \n",
       "834067  Cultivo de maíz grano blanco  ...   \n",
       "834068                         Milpa  ...   \n",
       "834069  Cultivo de maíz grano blanco  ...   \n",
       "834070  Cultivo de maíz grano blanco  ...   \n",
       "\n",
       "                              Estado-mun-KEY  \\\n",
       "0                 guerrero-coyuca de benitez   \n",
       "1                 guerrero-coyuca de benitez   \n",
       "2                 guerrero-coyuca de benitez   \n",
       "3                 guerrero-coyuca de benitez   \n",
       "4                 guerrero-coyuca de benitez   \n",
       "...                                      ...   \n",
       "834066  oaxaca-san sebastian tecomaxtlahuaca   \n",
       "834067                oaxaca-san juan lachao   \n",
       "834068         oaxaca-santa maria ozolotepec   \n",
       "834069        oaxaca-santo domingo chihuitan   \n",
       "834070        oaxaca-santo domingo chihuitan   \n",
       "\n",
       "                               KEY_benef_mun  \\\n",
       "0                 guerrero-coyuca de benitez   \n",
       "1                 guerrero-coyuca de benitez   \n",
       "2                 guerrero-coyuca de benitez   \n",
       "3                 guerrero-coyuca de benitez   \n",
       "4                 guerrero-coyuca de benitez   \n",
       "...                                      ...   \n",
       "834066  oaxaca-san sebastian tecomaxtlahuaca   \n",
       "834067                oaxaca-san juan lachao   \n",
       "834068         oaxaca-santa maria ozolotepec   \n",
       "834069        oaxaca-santo domingo chihuitan   \n",
       "834070        oaxaca-santo domingo chihuitan   \n",
       "\n",
       "                   KEY_inegi_municipio_benef CVE_ENT Entidad_inegi CVE_MUN  \\\n",
       "0                 guerrero-coyuca de benitez    12.0      Guerrero    21.0   \n",
       "1                 guerrero-coyuca de benitez    12.0      Guerrero    21.0   \n",
       "2                 guerrero-coyuca de benitez    12.0      Guerrero    21.0   \n",
       "3                 guerrero-coyuca de benitez    12.0      Guerrero    21.0   \n",
       "4                 guerrero-coyuca de benitez    12.0      Guerrero    21.0   \n",
       "...                                      ...     ...           ...     ...   \n",
       "834066  oaxaca-san sebastian tecomaxtlahuaca    20.0        Oaxaca   348.0   \n",
       "834067                oaxaca-san juan lachao    20.0        Oaxaca   202.0   \n",
       "834068         oaxaca-santa maria ozolotepec    20.0        Oaxaca   424.0   \n",
       "834069        oaxaca-santo domingo chihuitan    20.0        Oaxaca   508.0   \n",
       "834070        oaxaca-santo domingo chihuitan    20.0        Oaxaca   508.0   \n",
       "\n",
       "                      Municipio_inegi Entidad_c_inegi  \\\n",
       "0                   Coyuca de Benítez        guerrero   \n",
       "1                   Coyuca de Benítez        guerrero   \n",
       "2                   Coyuca de Benítez        guerrero   \n",
       "3                   Coyuca de Benítez        guerrero   \n",
       "4                   Coyuca de Benítez        guerrero   \n",
       "...                               ...             ...   \n",
       "834066  San Sebastián Tecomaxtlahuaca          oaxaca   \n",
       "834067                San Juan Lachao          oaxaca   \n",
       "834068         Santa María Ozolotepec          oaxaca   \n",
       "834069        Santo Domingo Chihuitán          oaxaca   \n",
       "834070        Santo Domingo Chihuitán          oaxaca   \n",
       "\n",
       "                    Municipio_c_inegi             KEY_inegi_municipio_inegi  \n",
       "0                   coyuca de benitez            guerrero-coyuca de benitez  \n",
       "1                   coyuca de benitez            guerrero-coyuca de benitez  \n",
       "2                   coyuca de benitez            guerrero-coyuca de benitez  \n",
       "3                   coyuca de benitez            guerrero-coyuca de benitez  \n",
       "4                   coyuca de benitez            guerrero-coyuca de benitez  \n",
       "...                               ...                                   ...  \n",
       "834066  san sebastian tecomaxtlahuaca  oaxaca-san sebastian tecomaxtlahuaca  \n",
       "834067                san juan lachao                oaxaca-san juan lachao  \n",
       "834068         santa maria ozolotepec         oaxaca-santa maria ozolotepec  \n",
       "834069        santo domingo chihuitan        oaxaca-santo domingo chihuitan  \n",
       "834070        santo domingo chihuitan        oaxaca-santo domingo chihuitan  \n",
       "\n",
       "[834071 rows x 28 columns]"
      ]
     },
     "execution_count": 38,
     "metadata": {},
     "output_type": "execute_result"
    }
   ],
   "source": [
    "listado_beneficiarios_parte_II"
   ]
  },
  {
   "cell_type": "code",
   "execution_count": 39,
   "metadata": {},
   "outputs": [
    {
     "data": {
      "text/plain": [
       "Index(['BENEFICIARIO', 'ZONA', 'ENTIDAD', 'MUNICIPIO', 'LOCALIDAD',\n",
       "       'ESTRATIFICACIÓN', 'PROGRAMA', 'COMPONENTE', 'SUBCOMPONENTE',\n",
       "       'PRODUCTO', 'FECHA', 'MONTO FEDERAL', 'APOYO', 'ACTIVIDAD', 'ESLABÓN',\n",
       "       'CICLO AGRÍCOLA', 'ESTADO_Clean', 'MUNICIPIO_Clean', 'Estado-mun-KEY',\n",
       "       'KEY_benef_mun', 'KEY_inegi_municipio_benef', 'CVE_ENT',\n",
       "       'Entidad_inegi', 'CVE_MUN', 'Municipio_inegi', 'Entidad_c_inegi',\n",
       "       'Municipio_c_inegi', 'KEY_inegi_municipio_inegi'],\n",
       "      dtype='object')"
      ]
     },
     "execution_count": 39,
     "metadata": {},
     "output_type": "execute_result"
    }
   ],
   "source": [
    "listado_beneficiarios_parte_II.columns"
   ]
  },
  {
   "cell_type": "code",
   "execution_count": 40,
   "metadata": {},
   "outputs": [],
   "source": [
    "listado_beneficiarios_parte_II = listado_beneficiarios_parte_II.drop(columns=['ESTADO_Clean', 'MUNICIPIO_Clean', 'Estado-mun-KEY', 'KEY_inegi_municipio_benef', 'Entidad_c_inegi','Municipio_c_inegi', 'KEY_inegi_municipio_inegi', 'ESTRATIFICACIÓN', 'PROGRAMA', 'COMPONENTE', 'SUBCOMPONENTE', 'APOYO', 'ACTIVIDAD', 'ESLABÓN'])"
   ]
  },
  {
   "cell_type": "code",
   "execution_count": 41,
   "metadata": {},
   "outputs": [
    {
     "data": {
      "text/html": [
       "<div>\n",
       "<style scoped>\n",
       "    .dataframe tbody tr th:only-of-type {\n",
       "        vertical-align: middle;\n",
       "    }\n",
       "\n",
       "    .dataframe tbody tr th {\n",
       "        vertical-align: top;\n",
       "    }\n",
       "\n",
       "    .dataframe thead th {\n",
       "        text-align: right;\n",
       "    }\n",
       "</style>\n",
       "<table border=\"1\" class=\"dataframe\">\n",
       "  <thead>\n",
       "    <tr style=\"text-align: right;\">\n",
       "      <th></th>\n",
       "      <th>BENEFICIARIO</th>\n",
       "      <th>ZONA</th>\n",
       "      <th>ENTIDAD</th>\n",
       "      <th>MUNICIPIO</th>\n",
       "      <th>LOCALIDAD</th>\n",
       "      <th>PRODUCTO</th>\n",
       "      <th>FECHA</th>\n",
       "      <th>MONTO FEDERAL</th>\n",
       "      <th>CICLO AGRÍCOLA</th>\n",
       "      <th>KEY_benef_mun</th>\n",
       "      <th>CVE_ENT</th>\n",
       "      <th>Entidad_inegi</th>\n",
       "      <th>CVE_MUN</th>\n",
       "      <th>Municipio_inegi</th>\n",
       "    </tr>\n",
       "  </thead>\n",
       "  <tbody>\n",
       "    <tr>\n",
       "      <th>0</th>\n",
       "      <td>ABAC NERI JESUS CARLOS</td>\n",
       "      <td>CENTRO PAÍS</td>\n",
       "      <td>GUERRERO</td>\n",
       "      <td>COYUCA DE BENÍTEZ</td>\n",
       "      <td>PUEBLO VIEJO</td>\n",
       "      <td>Cultivo de maíz grano blanco</td>\n",
       "      <td>2022-06-26</td>\n",
       "      <td>12244.18</td>\n",
       "      <td>PV2022</td>\n",
       "      <td>guerrero-coyuca de benitez</td>\n",
       "      <td>12.0</td>\n",
       "      <td>Guerrero</td>\n",
       "      <td>21.0</td>\n",
       "      <td>Coyuca de Benítez</td>\n",
       "    </tr>\n",
       "    <tr>\n",
       "      <th>1</th>\n",
       "      <td>ABAD ALARCON ELIAZAR</td>\n",
       "      <td>CENTRO PAÍS</td>\n",
       "      <td>GUERRERO</td>\n",
       "      <td>COYUCA DE BENÍTEZ</td>\n",
       "      <td>PUEBLO VIEJO</td>\n",
       "      <td>Cultivo de maíz grano blanco</td>\n",
       "      <td>2022-06-26</td>\n",
       "      <td>6122.09</td>\n",
       "      <td>PV2022</td>\n",
       "      <td>guerrero-coyuca de benitez</td>\n",
       "      <td>12.0</td>\n",
       "      <td>Guerrero</td>\n",
       "      <td>21.0</td>\n",
       "      <td>Coyuca de Benítez</td>\n",
       "    </tr>\n",
       "    <tr>\n",
       "      <th>2</th>\n",
       "      <td>ABAD ALARCON EZEQUIEL</td>\n",
       "      <td>CENTRO PAÍS</td>\n",
       "      <td>GUERRERO</td>\n",
       "      <td>COYUCA DE BENÍTEZ</td>\n",
       "      <td>AGUA ZARCA</td>\n",
       "      <td>Cultivo de maíz grano blanco</td>\n",
       "      <td>2022-07-12</td>\n",
       "      <td>12244.18</td>\n",
       "      <td>PV2022</td>\n",
       "      <td>guerrero-coyuca de benitez</td>\n",
       "      <td>12.0</td>\n",
       "      <td>Guerrero</td>\n",
       "      <td>21.0</td>\n",
       "      <td>Coyuca de Benítez</td>\n",
       "    </tr>\n",
       "    <tr>\n",
       "      <th>3</th>\n",
       "      <td>ABAD ALARCON FULGENCIO</td>\n",
       "      <td>CENTRO PAÍS</td>\n",
       "      <td>GUERRERO</td>\n",
       "      <td>COYUCA DE BENÍTEZ</td>\n",
       "      <td>AGUA ZARCA</td>\n",
       "      <td>Cultivo de maíz grano blanco</td>\n",
       "      <td>2022-07-12</td>\n",
       "      <td>12244.18</td>\n",
       "      <td>PV2022</td>\n",
       "      <td>guerrero-coyuca de benitez</td>\n",
       "      <td>12.0</td>\n",
       "      <td>Guerrero</td>\n",
       "      <td>21.0</td>\n",
       "      <td>Coyuca de Benítez</td>\n",
       "    </tr>\n",
       "    <tr>\n",
       "      <th>4</th>\n",
       "      <td>ABAD ALARCON ROMALDA</td>\n",
       "      <td>CENTRO PAÍS</td>\n",
       "      <td>GUERRERO</td>\n",
       "      <td>COYUCA DE BENÍTEZ</td>\n",
       "      <td>YERBASANTITA</td>\n",
       "      <td>Cultivo de maíz grano blanco</td>\n",
       "      <td>2022-06-20</td>\n",
       "      <td>12244.18</td>\n",
       "      <td>PV2022</td>\n",
       "      <td>guerrero-coyuca de benitez</td>\n",
       "      <td>12.0</td>\n",
       "      <td>Guerrero</td>\n",
       "      <td>21.0</td>\n",
       "      <td>Coyuca de Benítez</td>\n",
       "    </tr>\n",
       "    <tr>\n",
       "      <th>...</th>\n",
       "      <td>...</td>\n",
       "      <td>...</td>\n",
       "      <td>...</td>\n",
       "      <td>...</td>\n",
       "      <td>...</td>\n",
       "      <td>...</td>\n",
       "      <td>...</td>\n",
       "      <td>...</td>\n",
       "      <td>...</td>\n",
       "      <td>...</td>\n",
       "      <td>...</td>\n",
       "      <td>...</td>\n",
       "      <td>...</td>\n",
       "      <td>...</td>\n",
       "    </tr>\n",
       "    <tr>\n",
       "      <th>834066</th>\n",
       "      <td>ZURITA ZURITA ROLANDO</td>\n",
       "      <td>SUR SURESTE</td>\n",
       "      <td>OAXACA</td>\n",
       "      <td>SAN SEBASTIÁN TECOMAXTLAHUACA</td>\n",
       "      <td>SAN MATEO TUNUCHI</td>\n",
       "      <td>Milpa</td>\n",
       "      <td>2022-08-18</td>\n",
       "      <td>7435.60</td>\n",
       "      <td>PV2022</td>\n",
       "      <td>oaxaca-san sebastian tecomaxtlahuaca</td>\n",
       "      <td>20.0</td>\n",
       "      <td>Oaxaca</td>\n",
       "      <td>348.0</td>\n",
       "      <td>San Sebastián Tecomaxtlahuaca</td>\n",
       "    </tr>\n",
       "    <tr>\n",
       "      <th>834067</th>\n",
       "      <td>ZURITA ZURITA SIMEON</td>\n",
       "      <td>SUR SURESTE</td>\n",
       "      <td>OAXACA</td>\n",
       "      <td>SAN JUAN LACHAO</td>\n",
       "      <td>SAN JUAN LACHAO</td>\n",
       "      <td>Cultivo de maíz grano blanco</td>\n",
       "      <td>2022-08-03</td>\n",
       "      <td>7435.60</td>\n",
       "      <td>PV2022</td>\n",
       "      <td>oaxaca-san juan lachao</td>\n",
       "      <td>20.0</td>\n",
       "      <td>Oaxaca</td>\n",
       "      <td>202.0</td>\n",
       "      <td>San Juan Lachao</td>\n",
       "    </tr>\n",
       "    <tr>\n",
       "      <th>834068</th>\n",
       "      <td>ZURITA ZURITA ZENAIDA</td>\n",
       "      <td>SUR SURESTE</td>\n",
       "      <td>OAXACA</td>\n",
       "      <td>SANTA MARÍA OZOLOTEPEC</td>\n",
       "      <td>SANTA MARÍA OZOLOTEPEC</td>\n",
       "      <td>Milpa</td>\n",
       "      <td>2022-08-11</td>\n",
       "      <td>7435.60</td>\n",
       "      <td>PV2022</td>\n",
       "      <td>oaxaca-santa maria ozolotepec</td>\n",
       "      <td>20.0</td>\n",
       "      <td>Oaxaca</td>\n",
       "      <td>424.0</td>\n",
       "      <td>Santa María Ozolotepec</td>\n",
       "    </tr>\n",
       "    <tr>\n",
       "      <th>834069</th>\n",
       "      <td>ZURROZA RUEDA APOLINAR</td>\n",
       "      <td>SUR SURESTE</td>\n",
       "      <td>OAXACA</td>\n",
       "      <td>SANTO DOMINGO CHIHUITÁN</td>\n",
       "      <td>SANTO DOMINGO CHIHUITÁN</td>\n",
       "      <td>Cultivo de maíz grano blanco</td>\n",
       "      <td>2022-08-08</td>\n",
       "      <td>7435.60</td>\n",
       "      <td>PV2022</td>\n",
       "      <td>oaxaca-santo domingo chihuitan</td>\n",
       "      <td>20.0</td>\n",
       "      <td>Oaxaca</td>\n",
       "      <td>508.0</td>\n",
       "      <td>Santo Domingo Chihuitán</td>\n",
       "    </tr>\n",
       "    <tr>\n",
       "      <th>834070</th>\n",
       "      <td>ZURROZA RUEDA EVA</td>\n",
       "      <td>SUR SURESTE</td>\n",
       "      <td>OAXACA</td>\n",
       "      <td>SANTO DOMINGO CHIHUITÁN</td>\n",
       "      <td>SANTO DOMINGO CHIHUITÁN</td>\n",
       "      <td>Cultivo de maíz grano blanco</td>\n",
       "      <td>2022-08-08</td>\n",
       "      <td>7435.60</td>\n",
       "      <td>PV2022</td>\n",
       "      <td>oaxaca-santo domingo chihuitan</td>\n",
       "      <td>20.0</td>\n",
       "      <td>Oaxaca</td>\n",
       "      <td>508.0</td>\n",
       "      <td>Santo Domingo Chihuitán</td>\n",
       "    </tr>\n",
       "  </tbody>\n",
       "</table>\n",
       "<p>834071 rows × 14 columns</p>\n",
       "</div>"
      ],
      "text/plain": [
       "                   BENEFICIARIO         ZONA   ENTIDAD  \\\n",
       "0       ABAC NERI JESUS CARLOS   CENTRO PAÍS  GUERRERO   \n",
       "1         ABAD ALARCON ELIAZAR   CENTRO PAÍS  GUERRERO   \n",
       "2        ABAD ALARCON EZEQUIEL   CENTRO PAÍS  GUERRERO   \n",
       "3       ABAD ALARCON FULGENCIO   CENTRO PAÍS  GUERRERO   \n",
       "4         ABAD ALARCON ROMALDA   CENTRO PAÍS  GUERRERO   \n",
       "...                         ...          ...       ...   \n",
       "834066   ZURITA ZURITA ROLANDO   SUR SURESTE    OAXACA   \n",
       "834067    ZURITA ZURITA SIMEON   SUR SURESTE    OAXACA   \n",
       "834068   ZURITA ZURITA ZENAIDA   SUR SURESTE    OAXACA   \n",
       "834069  ZURROZA RUEDA APOLINAR   SUR SURESTE    OAXACA   \n",
       "834070       ZURROZA RUEDA EVA   SUR SURESTE    OAXACA   \n",
       "\n",
       "                            MUNICIPIO                LOCALIDAD  \\\n",
       "0                   COYUCA DE BENÍTEZ             PUEBLO VIEJO   \n",
       "1                   COYUCA DE BENÍTEZ             PUEBLO VIEJO   \n",
       "2                   COYUCA DE BENÍTEZ               AGUA ZARCA   \n",
       "3                   COYUCA DE BENÍTEZ               AGUA ZARCA   \n",
       "4                   COYUCA DE BENÍTEZ             YERBASANTITA   \n",
       "...                               ...                      ...   \n",
       "834066  SAN SEBASTIÁN TECOMAXTLAHUACA        SAN MATEO TUNUCHI   \n",
       "834067                SAN JUAN LACHAO          SAN JUAN LACHAO   \n",
       "834068         SANTA MARÍA OZOLOTEPEC   SANTA MARÍA OZOLOTEPEC   \n",
       "834069        SANTO DOMINGO CHIHUITÁN  SANTO DOMINGO CHIHUITÁN   \n",
       "834070        SANTO DOMINGO CHIHUITÁN  SANTO DOMINGO CHIHUITÁN   \n",
       "\n",
       "                            PRODUCTO       FECHA  MONTO FEDERAL  \\\n",
       "0       Cultivo de maíz grano blanco  2022-06-26       12244.18   \n",
       "1       Cultivo de maíz grano blanco  2022-06-26        6122.09   \n",
       "2       Cultivo de maíz grano blanco  2022-07-12       12244.18   \n",
       "3       Cultivo de maíz grano blanco  2022-07-12       12244.18   \n",
       "4       Cultivo de maíz grano blanco  2022-06-20       12244.18   \n",
       "...                              ...         ...            ...   \n",
       "834066                         Milpa  2022-08-18        7435.60   \n",
       "834067  Cultivo de maíz grano blanco  2022-08-03        7435.60   \n",
       "834068                         Milpa  2022-08-11        7435.60   \n",
       "834069  Cultivo de maíz grano blanco  2022-08-08        7435.60   \n",
       "834070  Cultivo de maíz grano blanco  2022-08-08        7435.60   \n",
       "\n",
       "       CICLO AGRÍCOLA                         KEY_benef_mun  CVE_ENT  \\\n",
       "0              PV2022            guerrero-coyuca de benitez     12.0   \n",
       "1              PV2022            guerrero-coyuca de benitez     12.0   \n",
       "2              PV2022            guerrero-coyuca de benitez     12.0   \n",
       "3              PV2022            guerrero-coyuca de benitez     12.0   \n",
       "4              PV2022            guerrero-coyuca de benitez     12.0   \n",
       "...               ...                                   ...      ...   \n",
       "834066         PV2022  oaxaca-san sebastian tecomaxtlahuaca     20.0   \n",
       "834067         PV2022                oaxaca-san juan lachao     20.0   \n",
       "834068         PV2022         oaxaca-santa maria ozolotepec     20.0   \n",
       "834069         PV2022        oaxaca-santo domingo chihuitan     20.0   \n",
       "834070         PV2022        oaxaca-santo domingo chihuitan     20.0   \n",
       "\n",
       "       Entidad_inegi  CVE_MUN                Municipio_inegi  \n",
       "0           Guerrero     21.0              Coyuca de Benítez  \n",
       "1           Guerrero     21.0              Coyuca de Benítez  \n",
       "2           Guerrero     21.0              Coyuca de Benítez  \n",
       "3           Guerrero     21.0              Coyuca de Benítez  \n",
       "4           Guerrero     21.0              Coyuca de Benítez  \n",
       "...              ...      ...                            ...  \n",
       "834066        Oaxaca    348.0  San Sebastián Tecomaxtlahuaca  \n",
       "834067        Oaxaca    202.0                San Juan Lachao  \n",
       "834068        Oaxaca    424.0         Santa María Ozolotepec  \n",
       "834069        Oaxaca    508.0        Santo Domingo Chihuitán  \n",
       "834070        Oaxaca    508.0        Santo Domingo Chihuitán  \n",
       "\n",
       "[834071 rows x 14 columns]"
      ]
     },
     "execution_count": 41,
     "metadata": {},
     "output_type": "execute_result"
    }
   ],
   "source": [
    "listado_beneficiarios_parte_II"
   ]
  },
  {
   "cell_type": "code",
   "execution_count": 42,
   "metadata": {},
   "outputs": [
    {
     "data": {
      "text/plain": [
       "Index(['BENEFICIARIO', 'ZONA', 'ENTIDAD', 'MUNICIPIO', 'LOCALIDAD', 'PRODUCTO',\n",
       "       'FECHA', 'MONTO FEDERAL', 'CICLO AGRÍCOLA', 'KEY_benef_mun', 'CVE_ENT',\n",
       "       'Entidad_inegi', 'CVE_MUN', 'Municipio_inegi'],\n",
       "      dtype='object')"
      ]
     },
     "execution_count": 42,
     "metadata": {},
     "output_type": "execute_result"
    }
   ],
   "source": [
    "listado_beneficiarios_parte_II.columns"
   ]
  },
  {
   "cell_type": "code",
   "execution_count": 43,
   "metadata": {},
   "outputs": [],
   "source": [
    "listado_beneficiarios_parte_II.to_csv('../../data/listados_completos/listado_beneficiarios_2022.csv', index=False)"
   ]
  },
  {
   "cell_type": "code",
   "execution_count": 44,
   "metadata": {},
   "outputs": [
    {
     "data": {
      "text/plain": [
       "(834071, 14)"
      ]
     },
     "execution_count": 44,
     "metadata": {},
     "output_type": "execute_result"
    }
   ],
   "source": [
    "listado_beneficiarios_parte_II.shape"
   ]
  },
  {
   "cell_type": "code",
   "execution_count": 45,
   "metadata": {},
   "outputs": [
    {
     "data": {
      "text/plain": [
       "BENEFICIARIO          0\n",
       "ZONA                  0\n",
       "ENTIDAD               0\n",
       "MUNICIPIO             0\n",
       "LOCALIDAD             0\n",
       "PRODUCTO              0\n",
       "FECHA                 0\n",
       "MONTO FEDERAL         0\n",
       "CICLO AGRÍCOLA        0\n",
       "KEY_benef_mun         0\n",
       "CVE_ENT            5923\n",
       "Entidad_inegi      5923\n",
       "CVE_MUN            5923\n",
       "Municipio_inegi    5923\n",
       "dtype: int64"
      ]
     },
     "execution_count": 45,
     "metadata": {},
     "output_type": "execute_result"
    }
   ],
   "source": [
    "listado_beneficiarios_parte_II.isna().sum()"
   ]
  },
  {
   "cell_type": "markdown",
   "metadata": {},
   "source": [
    "# 3. Join por entidad (Divide y Vencerás)"
   ]
  },
  {
   "cell_type": "markdown",
   "metadata": {},
   "source": [
    "### 3.1.1 Join de localidades - PUEBLA"
   ]
  },
  {
   "cell_type": "code",
   "execution_count": 44,
   "metadata": {},
   "outputs": [],
   "source": [
    "Localidades_22_PUEBLA = Localidades_22[Localidades_22[\"ENTIDAD\"] == \"PUEBLA\"]\n",
    "\n",
    "dataset_inegi_uniqueloc_PUEBLA = INEGI_UNIQUELOC_2022[INEGI_UNIQUELOC_2022['Entidad_inegi'] == 'Puebla']"
   ]
  },
  {
   "cell_type": "code",
   "execution_count": 45,
   "metadata": {},
   "outputs": [
    {
     "name": "stderr",
     "output_type": "stream",
     "text": [
      "/var/folders/ng/n9ng0wy92t90_49j662nh02c0000gn/T/ipykernel_86460/734782849.py:18: SettingWithCopyWarning: \n",
      "A value is trying to be set on a copy of a slice from a DataFrame.\n",
      "Try using .loc[row_indexer,col_indexer] = value instead\n",
      "\n",
      "See the caveats in the documentation: https://pandas.pydata.org/pandas-docs/stable/user_guide/indexing.html#returning-a-view-versus-a-copy\n",
      "  df_benef['best_match'] = [match[0] if match else None for match in matches]\n",
      "/var/folders/ng/n9ng0wy92t90_49j662nh02c0000gn/T/ipykernel_86460/734782849.py:20: SettingWithCopyWarning: \n",
      "A value is trying to be set on a copy of a slice from a DataFrame.\n",
      "Try using .loc[row_indexer,col_indexer] = value instead\n",
      "\n",
      "See the caveats in the documentation: https://pandas.pydata.org/pandas-docs/stable/user_guide/indexing.html#returning-a-view-versus-a-copy\n",
      "  df_benef['match_score'] = [match[1] if match else None for match in matches]\n"
     ]
    },
    {
     "data": {
      "text/plain": [
       "(744, 21)"
      ]
     },
     "execution_count": 45,
     "metadata": {},
     "output_type": "execute_result"
    }
   ],
   "source": [
    "Localidades_22_PUEBLA = fuzzy_merge_benef2019_2022(Localidades_22_PUEBLA, dataset_inegi_uniqueloc_PUEBLA, 'KEY_benef_loc', 'KEY_inegi_localidad')\n",
    "Localidades_22_PUEBLA.shape"
   ]
  },
  {
   "cell_type": "markdown",
   "metadata": {},
   "source": [
    "### 3.2.2 Join de localidades - CHIAPAS"
   ]
  },
  {
   "cell_type": "code",
   "execution_count": 46,
   "metadata": {},
   "outputs": [],
   "source": [
    "Localidades_22_CHIAPAS = Localidades_22[Localidades_22[\"ENTIDAD\"] == \"CHIAPAS\"]\n",
    "\n",
    "dataset_inegi_uniqueloc_CHIAPAS = INEGI_UNIQUELOC_2022[INEGI_UNIQUELOC_2022['Entidad_inegi'] == 'Chiapas']"
   ]
  },
  {
   "cell_type": "code",
   "execution_count": 47,
   "metadata": {},
   "outputs": [],
   "source": [
    "Localidades_22_CHIAPAS = fuzzy_merge_benef2019_2022(Localidades_22_CHIAPAS, dataset_inegi_uniqueloc_CHIAPAS, 'KEY_benef_loc', 'KEY_inegi_localidad')\n",
    "Localidades_22_CHIAPAS.shape"
   ]
  },
  {
   "cell_type": "markdown",
   "metadata": {},
   "source": [
    "### 3.2.3 Join de localidades - DURANGO"
   ]
  },
  {
   "cell_type": "code",
   "execution_count": null,
   "metadata": {},
   "outputs": [],
   "source": [
    "Localidades_22_DURANGO = Localidades_22[Localidades_22[\"ENTIDAD\"] == \"DURANGO\"]\n",
    "\n",
    "dataset_inegi_uniqueloc_DURANGO = INEGI_UNIQUELOC_2022[INEGI_UNIQUELOC_2022['Entidad_inegi'] == 'Durango']"
   ]
  },
  {
   "cell_type": "code",
   "execution_count": null,
   "metadata": {},
   "outputs": [
    {
     "name": "stderr",
     "output_type": "stream",
     "text": [
      "/var/folders/ng/n9ng0wy92t90_49j662nh02c0000gn/T/ipykernel_34875/734782849.py:18: SettingWithCopyWarning: \n",
      "A value is trying to be set on a copy of a slice from a DataFrame.\n",
      "Try using .loc[row_indexer,col_indexer] = value instead\n",
      "\n",
      "See the caveats in the documentation: https://pandas.pydata.org/pandas-docs/stable/user_guide/indexing.html#returning-a-view-versus-a-copy\n",
      "  df_benef['best_match'] = [match[0] if match else None for match in matches]\n",
      "/var/folders/ng/n9ng0wy92t90_49j662nh02c0000gn/T/ipykernel_34875/734782849.py:20: SettingWithCopyWarning: \n",
      "A value is trying to be set on a copy of a slice from a DataFrame.\n",
      "Try using .loc[row_indexer,col_indexer] = value instead\n",
      "\n",
      "See the caveats in the documentation: https://pandas.pydata.org/pandas-docs/stable/user_guide/indexing.html#returning-a-view-versus-a-copy\n",
      "  df_benef['match_score'] = [match[1] if match else None for match in matches]\n"
     ]
    },
    {
     "data": {
      "text/plain": [
       "(678, 21)"
      ]
     },
     "execution_count": 71,
     "metadata": {},
     "output_type": "execute_result"
    }
   ],
   "source": [
    "Localidades_22_DURANGO = fuzzy_merge_benef2019_2022(Localidades_22_DURANGO, dataset_inegi_uniqueloc_DURANGO, 'KEY_benef_loc', 'KEY_inegi_localidad')\n",
    "Localidades_22_DURANGO.shape"
   ]
  },
  {
   "cell_type": "markdown",
   "metadata": {},
   "source": [
    "### 3.2.4 Join de localidades - MORELOS"
   ]
  },
  {
   "cell_type": "code",
   "execution_count": null,
   "metadata": {},
   "outputs": [],
   "source": [
    "Localidades_22_MORELOS = Localidades_22[Localidades_22[\"ENTIDAD\"] == \"MORELOS\"]\n",
    "\n",
    "dataset_inegi_uniqueloc_MORELOS = INEGI_UNIQUELOC_2022[INEGI_UNIQUELOC_2022['Entidad_inegi'] == 'Morelos']"
   ]
  },
  {
   "cell_type": "code",
   "execution_count": null,
   "metadata": {},
   "outputs": [
    {
     "name": "stderr",
     "output_type": "stream",
     "text": [
      "/var/folders/ng/n9ng0wy92t90_49j662nh02c0000gn/T/ipykernel_34875/734782849.py:18: SettingWithCopyWarning: \n",
      "A value is trying to be set on a copy of a slice from a DataFrame.\n",
      "Try using .loc[row_indexer,col_indexer] = value instead\n",
      "\n",
      "See the caveats in the documentation: https://pandas.pydata.org/pandas-docs/stable/user_guide/indexing.html#returning-a-view-versus-a-copy\n",
      "  df_benef['best_match'] = [match[0] if match else None for match in matches]\n",
      "/var/folders/ng/n9ng0wy92t90_49j662nh02c0000gn/T/ipykernel_34875/734782849.py:20: SettingWithCopyWarning: \n",
      "A value is trying to be set on a copy of a slice from a DataFrame.\n",
      "Try using .loc[row_indexer,col_indexer] = value instead\n",
      "\n",
      "See the caveats in the documentation: https://pandas.pydata.org/pandas-docs/stable/user_guide/indexing.html#returning-a-view-versus-a-copy\n",
      "  df_benef['match_score'] = [match[1] if match else None for match in matches]\n"
     ]
    },
    {
     "data": {
      "text/plain": [
       "(271, 21)"
      ]
     },
     "execution_count": 73,
     "metadata": {},
     "output_type": "execute_result"
    }
   ],
   "source": [
    "Localidades_22_MORELOS = fuzzy_merge_benef2019_2022(Localidades_22_MORELOS, dataset_inegi_uniqueloc_MORELOS, 'KEY_benef_loc', 'KEY_inegi_localidad')\n",
    "Localidades_22_MORELOS.shape"
   ]
  },
  {
   "cell_type": "markdown",
   "metadata": {},
   "source": [
    "### 3.2.5 Join de localidades - GUERRERO"
   ]
  },
  {
   "cell_type": "code",
   "execution_count": null,
   "metadata": {},
   "outputs": [],
   "source": [
    "Localidades_22_GUERRERO = Localidades_22[Localidades_22[\"ENTIDAD\"] == \"GUERRERO\"]\n",
    "\n",
    "dataset_inegi_uniqueloc_GUERRERO = INEGI_UNIQUELOC_2022[INEGI_UNIQUELOC_2022['Entidad_inegi'] == 'Guerrero']"
   ]
  },
  {
   "cell_type": "code",
   "execution_count": null,
   "metadata": {},
   "outputs": [
    {
     "name": "stderr",
     "output_type": "stream",
     "text": [
      "/var/folders/ng/n9ng0wy92t90_49j662nh02c0000gn/T/ipykernel_34875/734782849.py:18: SettingWithCopyWarning: \n",
      "A value is trying to be set on a copy of a slice from a DataFrame.\n",
      "Try using .loc[row_indexer,col_indexer] = value instead\n",
      "\n",
      "See the caveats in the documentation: https://pandas.pydata.org/pandas-docs/stable/user_guide/indexing.html#returning-a-view-versus-a-copy\n",
      "  df_benef['best_match'] = [match[0] if match else None for match in matches]\n",
      "/var/folders/ng/n9ng0wy92t90_49j662nh02c0000gn/T/ipykernel_34875/734782849.py:20: SettingWithCopyWarning: \n",
      "A value is trying to be set on a copy of a slice from a DataFrame.\n",
      "Try using .loc[row_indexer,col_indexer] = value instead\n",
      "\n",
      "See the caveats in the documentation: https://pandas.pydata.org/pandas-docs/stable/user_guide/indexing.html#returning-a-view-versus-a-copy\n",
      "  df_benef['match_score'] = [match[1] if match else None for match in matches]\n"
     ]
    },
    {
     "data": {
      "text/plain": [
       "(4847, 21)"
      ]
     },
     "execution_count": 75,
     "metadata": {},
     "output_type": "execute_result"
    }
   ],
   "source": [
    "Localidades_22_GUERRERO = fuzzy_merge_benef2019_2022(Localidades_22_GUERRERO, dataset_inegi_uniqueloc_GUERRERO, 'KEY_benef_loc', 'KEY_inegi_localidad')\n",
    "Localidades_22_GUERRERO.shape"
   ]
  },
  {
   "cell_type": "markdown",
   "metadata": {},
   "source": [
    "### 3.2.6 Join de localidades - NAYARIT"
   ]
  },
  {
   "cell_type": "code",
   "execution_count": null,
   "metadata": {},
   "outputs": [],
   "source": [
    "Localidades_22_NAYARIT = Localidades_22[Localidades_22[\"ENTIDAD\"] == \"NAYARIT\"]\n",
    "\n",
    "dataset_inegi_uniqueloc_NAYARIT = INEGI_UNIQUELOC_2022[INEGI_UNIQUELOC_2022['Entidad_inegi'] == 'Nayarit']"
   ]
  },
  {
   "cell_type": "code",
   "execution_count": null,
   "metadata": {},
   "outputs": [
    {
     "name": "stderr",
     "output_type": "stream",
     "text": [
      "/var/folders/ng/n9ng0wy92t90_49j662nh02c0000gn/T/ipykernel_34875/734782849.py:18: SettingWithCopyWarning: \n",
      "A value is trying to be set on a copy of a slice from a DataFrame.\n",
      "Try using .loc[row_indexer,col_indexer] = value instead\n",
      "\n",
      "See the caveats in the documentation: https://pandas.pydata.org/pandas-docs/stable/user_guide/indexing.html#returning-a-view-versus-a-copy\n",
      "  df_benef['best_match'] = [match[0] if match else None for match in matches]\n",
      "/var/folders/ng/n9ng0wy92t90_49j662nh02c0000gn/T/ipykernel_34875/734782849.py:20: SettingWithCopyWarning: \n",
      "A value is trying to be set on a copy of a slice from a DataFrame.\n",
      "Try using .loc[row_indexer,col_indexer] = value instead\n",
      "\n",
      "See the caveats in the documentation: https://pandas.pydata.org/pandas-docs/stable/user_guide/indexing.html#returning-a-view-versus-a-copy\n",
      "  df_benef['match_score'] = [match[1] if match else None for match in matches]\n"
     ]
    },
    {
     "data": {
      "text/plain": [
       "(356, 21)"
      ]
     },
     "execution_count": 77,
     "metadata": {},
     "output_type": "execute_result"
    }
   ],
   "source": [
    "Localidades_22_NAYARIT = fuzzy_merge_benef2019_2022(Localidades_22_NAYARIT, dataset_inegi_uniqueloc_NAYARIT, 'KEY_benef_loc', 'KEY_inegi_localidad')\n",
    "Localidades_22_NAYARIT.shape"
   ]
  },
  {
   "cell_type": "markdown",
   "metadata": {},
   "source": [
    "### 3.2.7 Join de localidades - OAXACA"
   ]
  },
  {
   "cell_type": "code",
   "execution_count": null,
   "metadata": {},
   "outputs": [],
   "source": [
    "Localidades_22_OAXACA = Localidades_22[Localidades_22[\"ENTIDAD\"] == \"OAXACA\"]\n",
    "\n",
    "dataset_inegi_uniqueloc_OAXACA = INEGI_UNIQUELOC_2022[INEGI_UNIQUELOC_2022['Entidad_inegi'] == 'Oaxaca']"
   ]
  },
  {
   "cell_type": "code",
   "execution_count": null,
   "metadata": {},
   "outputs": [
    {
     "name": "stderr",
     "output_type": "stream",
     "text": [
      "/var/folders/ng/n9ng0wy92t90_49j662nh02c0000gn/T/ipykernel_34875/734782849.py:18: SettingWithCopyWarning: \n",
      "A value is trying to be set on a copy of a slice from a DataFrame.\n",
      "Try using .loc[row_indexer,col_indexer] = value instead\n",
      "\n",
      "See the caveats in the documentation: https://pandas.pydata.org/pandas-docs/stable/user_guide/indexing.html#returning-a-view-versus-a-copy\n",
      "  df_benef['best_match'] = [match[0] if match else None for match in matches]\n",
      "/var/folders/ng/n9ng0wy92t90_49j662nh02c0000gn/T/ipykernel_34875/734782849.py:20: SettingWithCopyWarning: \n",
      "A value is trying to be set on a copy of a slice from a DataFrame.\n",
      "Try using .loc[row_indexer,col_indexer] = value instead\n",
      "\n",
      "See the caveats in the documentation: https://pandas.pydata.org/pandas-docs/stable/user_guide/indexing.html#returning-a-view-versus-a-copy\n",
      "  df_benef['match_score'] = [match[1] if match else None for match in matches]\n"
     ]
    },
    {
     "data": {
      "text/plain": [
       "(1800, 21)"
      ]
     },
     "execution_count": 79,
     "metadata": {},
     "output_type": "execute_result"
    }
   ],
   "source": [
    "Localidades_22_OAXACA = fuzzy_merge_benef2019_2022(Localidades_22_OAXACA, dataset_inegi_uniqueloc_OAXACA, 'KEY_benef_loc', 'KEY_inegi_localidad')\n",
    "Localidades_22_OAXACA.shape"
   ]
  },
  {
   "cell_type": "markdown",
   "metadata": {},
   "source": [
    "### 3.2.8 Join de localidades - TLAXCALA"
   ]
  },
  {
   "cell_type": "code",
   "execution_count": null,
   "metadata": {},
   "outputs": [],
   "source": [
    "Localidades_22_TLAXCALA = Localidades_22[Localidades_22[\"ENTIDAD\"] == \"TLAXCALA\"]\n",
    "\n",
    "dataset_inegi_uniqueloc_TLAXCALA = INEGI_UNIQUELOC_2022[INEGI_UNIQUELOC_2022['Entidad_inegi'] == 'Tlaxcala']"
   ]
  },
  {
   "cell_type": "code",
   "execution_count": null,
   "metadata": {},
   "outputs": [
    {
     "name": "stderr",
     "output_type": "stream",
     "text": [
      "/var/folders/ng/n9ng0wy92t90_49j662nh02c0000gn/T/ipykernel_34875/734782849.py:18: SettingWithCopyWarning: \n",
      "A value is trying to be set on a copy of a slice from a DataFrame.\n",
      "Try using .loc[row_indexer,col_indexer] = value instead\n",
      "\n",
      "See the caveats in the documentation: https://pandas.pydata.org/pandas-docs/stable/user_guide/indexing.html#returning-a-view-versus-a-copy\n",
      "  df_benef['best_match'] = [match[0] if match else None for match in matches]\n",
      "/var/folders/ng/n9ng0wy92t90_49j662nh02c0000gn/T/ipykernel_34875/734782849.py:20: SettingWithCopyWarning: \n",
      "A value is trying to be set on a copy of a slice from a DataFrame.\n",
      "Try using .loc[row_indexer,col_indexer] = value instead\n",
      "\n",
      "See the caveats in the documentation: https://pandas.pydata.org/pandas-docs/stable/user_guide/indexing.html#returning-a-view-versus-a-copy\n",
      "  df_benef['match_score'] = [match[1] if match else None for match in matches]\n"
     ]
    },
    {
     "data": {
      "text/plain": [
       "(412, 21)"
      ]
     },
     "execution_count": 81,
     "metadata": {},
     "output_type": "execute_result"
    }
   ],
   "source": [
    "Localidades_22_TLAXCALA = fuzzy_merge_benef2019_2022(Localidades_22_TLAXCALA, dataset_inegi_uniqueloc_TLAXCALA, 'KEY_benef_loc', 'KEY_inegi_localidad')\n",
    "Localidades_22_TLAXCALA.shape"
   ]
  },
  {
   "cell_type": "markdown",
   "metadata": {},
   "source": [
    "### 3.2.9 Join de localidades - ZACATECAS"
   ]
  },
  {
   "cell_type": "code",
   "execution_count": null,
   "metadata": {},
   "outputs": [],
   "source": [
    "Localidades_22_ZACATECAS = Localidades_22[Localidades_22[\"ENTIDAD\"] == \"ZACATECAS\"]\n",
    "\n",
    "dataset_inegi_uniqueloc_ZACATECAS = INEGI_UNIQUELOC_2022[INEGI_UNIQUELOC_2022['Entidad_inegi'] == 'Zacatecas']"
   ]
  },
  {
   "cell_type": "code",
   "execution_count": null,
   "metadata": {},
   "outputs": [
    {
     "name": "stderr",
     "output_type": "stream",
     "text": [
      "/var/folders/ng/n9ng0wy92t90_49j662nh02c0000gn/T/ipykernel_34875/734782849.py:18: SettingWithCopyWarning: \n",
      "A value is trying to be set on a copy of a slice from a DataFrame.\n",
      "Try using .loc[row_indexer,col_indexer] = value instead\n",
      "\n",
      "See the caveats in the documentation: https://pandas.pydata.org/pandas-docs/stable/user_guide/indexing.html#returning-a-view-versus-a-copy\n",
      "  df_benef['best_match'] = [match[0] if match else None for match in matches]\n",
      "/var/folders/ng/n9ng0wy92t90_49j662nh02c0000gn/T/ipykernel_34875/734782849.py:20: SettingWithCopyWarning: \n",
      "A value is trying to be set on a copy of a slice from a DataFrame.\n",
      "Try using .loc[row_indexer,col_indexer] = value instead\n",
      "\n",
      "See the caveats in the documentation: https://pandas.pydata.org/pandas-docs/stable/user_guide/indexing.html#returning-a-view-versus-a-copy\n",
      "  df_benef['match_score'] = [match[1] if match else None for match in matches]\n"
     ]
    },
    {
     "data": {
      "text/plain": [
       "(590, 21)"
      ]
     },
     "execution_count": 83,
     "metadata": {},
     "output_type": "execute_result"
    }
   ],
   "source": [
    "Localidades_22_ZACATECAS = fuzzy_merge_benef2019_2022(Localidades_22_ZACATECAS, dataset_inegi_uniqueloc_ZACATECAS, 'KEY_benef_loc', 'KEY_inegi_localidad')\n",
    "Localidades_22_ZACATECAS.shape"
   ]
  }
 ],
 "metadata": {
  "kernelspec": {
   "display_name": "Python 3",
   "language": "python",
   "name": "python3"
  },
  "language_info": {
   "codemirror_mode": {
    "name": "ipython",
    "version": 3
   },
   "file_extension": ".py",
   "mimetype": "text/x-python",
   "name": "python",
   "nbconvert_exporter": "python",
   "pygments_lexer": "ipython3",
   "version": "3.9.9"
  }
 },
 "nbformat": 4,
 "nbformat_minor": 2
}
