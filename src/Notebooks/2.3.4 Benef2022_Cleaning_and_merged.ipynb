{
 "cells": [
  {
   "cell_type": "markdown",
   "metadata": {},
   "source": [
    "# Data Cleaning Listado de Listado de Beneficiarios 2022"
   ]
  },
  {
   "cell_type": "markdown",
   "metadata": {},
   "source": [
    "## Autores\n",
    "- José Luis Delgado Dávara\n",
    "- Arturo Ortiz Aguilar\n",
    "- Beltrán Valle Gutiérrez-Cortines"
   ]
  },
  {
   "cell_type": "markdown",
   "metadata": {},
   "source": [
    "## Importante leer para entender\n",
    "\n",
    "En este Notebook se trabaja con 3 listados importantes:\n",
    "\n",
    "1. beneficiarios_22 -> Dataset con el listado de TODOS los beneficiarios de 2022.\n",
    "2. Estados_Beneficiarios_2019_2022 -> Dataset sólo con los estados *únicos* encontrados en el dataset anterior.\n",
    "3. Diccionario -> Emparejamiento entre ambos listados de beneficiarios\n",
    "4. Dataset_Inegi -> Catálogo obtenido de Inegi"
   ]
  },
  {
   "cell_type": "code",
   "execution_count": 43,
   "metadata": {
    "ExecuteTime": {
     "end_time": "2024-07-09T14:21:41.830666Z",
     "start_time": "2024-07-09T14:21:41.566619Z"
    }
   },
   "outputs": [],
   "source": [
    "import pandas as pd\n",
    "import seaborn as sns\n",
    "from thefuzz import fuzz\n",
    "from thefuzz import process\n",
    "import matplotlib.pyplot as plt\n",
    "import numpy as np\n",
    "import os\n",
    "import glob\n",
    "import re\n",
    "import unidecode"
   ]
  },
  {
   "cell_type": "code",
   "execution_count": 44,
   "metadata": {
    "ExecuteTime": {
     "end_time": "2024-07-09T14:21:41.862266Z",
     "start_time": "2024-07-09T14:21:41.838221Z"
    }
   },
   "outputs": [],
   "source": [
    "def clean_text(text):\n",
    "    \"\"\"\n",
    "    De esta manera tenemos el texto sin espacios blancos extra y sobre todo con todas las palabras con capitalización correcta.\n",
    "    \"\"\"\n",
    "    if pd.isna(text):\n",
    "        return text\n",
    "    text = text.strip()  # Eliminate white spaces\n",
    "    text = text.lower()  # Convert to lowercase\n",
    "    text = unidecode.unidecode(text)  # Remove accents\n",
    "    text = re.sub('-.*-', '', text)  #Remove what is in between - -\n",
    "    text = re.sub('\\s+', ' ', text)  # Eliminate extra white spaces\n",
    "    text = re.sub('^\\s+|\\s+?$', '', text)  # Eliminate spaces at the beginning and end\n",
    "    return text"
   ]
  },
  {
   "cell_type": "markdown",
   "metadata": {},
   "source": [
    "# 1. Lectura y limpieza de datos"
   ]
  },
  {
   "cell_type": "markdown",
   "metadata": {},
   "source": [
    "### 1.1 Beneficiarios 2022\n",
    "\n",
    "Obtenemos el listado único de localidades y listado único de municipios con sus claves."
   ]
  },
  {
   "cell_type": "code",
   "execution_count": 45,
   "metadata": {
    "ExecuteTime": {
     "end_time": "2024-07-09T14:21:46.974115Z",
     "start_time": "2024-07-09T14:21:41.865808Z"
    }
   },
   "outputs": [],
   "source": [
    "beneficiarios_22 = pd.read_csv(\n",
    "    '../../data/productores_beneficiarios 2019-2022/listado_beneficiarios_fertilizantes_2022.csv', encoding='utf-8',\n",
    "    skiprows=0)"
   ]
  },
  {
   "cell_type": "code",
   "execution_count": 46,
   "metadata": {
    "ExecuteTime": {
     "end_time": "2024-07-09T14:21:47.539383Z",
     "start_time": "2024-07-09T14:21:46.980335Z"
    }
   },
   "outputs": [],
   "source": [
    "beneficiarios_22 = beneficiarios_22[~(\n",
    "            (beneficiarios_22['ENTIDAD'] == 'NACIONAL') & (beneficiarios_22['MUNICIPIO'] == 'NACIONAL') & (\n",
    "                beneficiarios_22['LOCALIDAD'] == 'NACIONAL'))]"
   ]
  },
  {
   "cell_type": "code",
   "execution_count": 47,
   "metadata": {
    "ExecuteTime": {
     "end_time": "2024-07-09T14:21:47.565880Z",
     "start_time": "2024-07-09T14:21:47.543865Z"
    }
   },
   "outputs": [
    {
     "data": {
      "text/plain": [
       "(826385, 16)"
      ]
     },
     "execution_count": 47,
     "metadata": {},
     "output_type": "execute_result"
    }
   ],
   "source": [
    "beneficiarios_22.shape"
   ]
  },
  {
   "cell_type": "code",
   "execution_count": 48,
   "metadata": {
    "ExecuteTime": {
     "end_time": "2024-07-09T14:21:48.100109Z",
     "start_time": "2024-07-09T14:21:47.577516Z"
    }
   },
   "outputs": [],
   "source": [
    "nan_rows = beneficiarios_22[beneficiarios_22.isna().any(axis=1)]"
   ]
  },
  {
   "cell_type": "code",
   "execution_count": 49,
   "metadata": {
    "ExecuteTime": {
     "end_time": "2024-07-09T14:21:48.155027Z",
     "start_time": "2024-07-09T14:21:48.106661Z"
    }
   },
   "outputs": [
    {
     "data": {
      "text/html": [
       "<div>\n",
       "<style scoped>\n",
       "    .dataframe tbody tr th:only-of-type {\n",
       "        vertical-align: middle;\n",
       "    }\n",
       "\n",
       "    .dataframe tbody tr th {\n",
       "        vertical-align: top;\n",
       "    }\n",
       "\n",
       "    .dataframe thead th {\n",
       "        text-align: right;\n",
       "    }\n",
       "</style>\n",
       "<table border=\"1\" class=\"dataframe\">\n",
       "  <thead>\n",
       "    <tr style=\"text-align: right;\">\n",
       "      <th></th>\n",
       "      <th>BENEFICIARIO</th>\n",
       "      <th>ZONA</th>\n",
       "      <th>ENTIDAD</th>\n",
       "      <th>MUNICIPIO</th>\n",
       "      <th>LOCALIDAD</th>\n",
       "      <th>ESTRATIFICACIÓN</th>\n",
       "      <th>PROGRAMA</th>\n",
       "      <th>COMPONENTE</th>\n",
       "      <th>SUBCOMPONENTE</th>\n",
       "      <th>PRODUCTO</th>\n",
       "      <th>FECHA</th>\n",
       "      <th>MONTO FEDERAL</th>\n",
       "      <th>APOYO</th>\n",
       "      <th>ACTIVIDAD</th>\n",
       "      <th>ESLABÓN</th>\n",
       "      <th>CICLO AGRÍCOLA</th>\n",
       "    </tr>\n",
       "  </thead>\n",
       "  <tbody>\n",
       "    <tr>\n",
       "      <th>826382</th>\n",
       "      <td>NaN</td>\n",
       "      <td>NaN</td>\n",
       "      <td>NaN</td>\n",
       "      <td>NaN</td>\n",
       "      <td>NaN</td>\n",
       "      <td>NaN</td>\n",
       "      <td>NaN</td>\n",
       "      <td>NaN</td>\n",
       "      <td>NaN</td>\n",
       "      <td>NaN</td>\n",
       "      <td>NaN</td>\n",
       "      <td>NaN</td>\n",
       "      <td>NaN</td>\n",
       "      <td>NaN</td>\n",
       "      <td>NaN</td>\n",
       "      <td>NaN</td>\n",
       "    </tr>\n",
       "    <tr>\n",
       "      <th>826383</th>\n",
       "      <td>NaN</td>\n",
       "      <td>NaN</td>\n",
       "      <td>NaN</td>\n",
       "      <td>NaN</td>\n",
       "      <td>NaN</td>\n",
       "      <td>NaN</td>\n",
       "      <td>NaN</td>\n",
       "      <td>NaN</td>\n",
       "      <td>NaN</td>\n",
       "      <td>NaN</td>\n",
       "      <td>NaN</td>\n",
       "      <td>NaN</td>\n",
       "      <td>NaN</td>\n",
       "      <td>NaN</td>\n",
       "      <td>NaN</td>\n",
       "      <td>NaN</td>\n",
       "    </tr>\n",
       "    <tr>\n",
       "      <th>826384</th>\n",
       "      <td>\"Nota: El Sistema de Rendición de Cuentas sobr...</td>\n",
       "      <td>NaN</td>\n",
       "      <td>NaN</td>\n",
       "      <td>NaN</td>\n",
       "      <td>NaN</td>\n",
       "      <td>NaN</td>\n",
       "      <td>NaN</td>\n",
       "      <td>NaN</td>\n",
       "      <td>NaN</td>\n",
       "      <td>NaN</td>\n",
       "      <td>NaN</td>\n",
       "      <td>NaN</td>\n",
       "      <td>NaN</td>\n",
       "      <td>NaN</td>\n",
       "      <td>NaN</td>\n",
       "      <td>NaN</td>\n",
       "    </tr>\n",
       "  </tbody>\n",
       "</table>\n",
       "</div>"
      ],
      "text/plain": [
       "                                             BENEFICIARIO ZONA ENTIDAD  \\\n",
       "826382                                                NaN  NaN     NaN   \n",
       "826383                                                NaN  NaN     NaN   \n",
       "826384  \"Nota: El Sistema de Rendición de Cuentas sobr...  NaN     NaN   \n",
       "\n",
       "       MUNICIPIO LOCALIDAD ESTRATIFICACIÓN PROGRAMA COMPONENTE SUBCOMPONENTE  \\\n",
       "826382       NaN       NaN             NaN      NaN        NaN           NaN   \n",
       "826383       NaN       NaN             NaN      NaN        NaN           NaN   \n",
       "826384       NaN       NaN             NaN      NaN        NaN           NaN   \n",
       "\n",
       "       PRODUCTO FECHA  MONTO FEDERAL APOYO ACTIVIDAD ESLABÓN CICLO AGRÍCOLA  \n",
       "826382      NaN   NaN            NaN   NaN       NaN     NaN            NaN  \n",
       "826383      NaN   NaN            NaN   NaN       NaN     NaN            NaN  \n",
       "826384      NaN   NaN            NaN   NaN       NaN     NaN            NaN  "
      ]
     },
     "execution_count": 49,
     "metadata": {},
     "output_type": "execute_result"
    }
   ],
   "source": [
    "nan_rows"
   ]
  },
  {
   "cell_type": "code",
   "execution_count": 50,
   "metadata": {
    "ExecuteTime": {
     "end_time": "2024-07-09T14:21:48.234428Z",
     "start_time": "2024-07-09T14:21:48.160575Z"
    }
   },
   "outputs": [
    {
     "data": {
      "text/plain": [
       "array(['GUERRERO', 'OAXACA', 'PUEBLA', 'MORELOS', 'CHIAPAS', 'DURANGO',\n",
       "       'TLAXCALA', 'NAYARIT', 'ZACATECAS', nan], dtype=object)"
      ]
     },
     "execution_count": 50,
     "metadata": {},
     "output_type": "execute_result"
    }
   ],
   "source": [
    "beneficiarios_22['ENTIDAD'].unique()"
   ]
  },
  {
   "cell_type": "markdown",
   "metadata": {},
   "source": [
    "Dropeamos los tres valores nulos debido a que las rows enteras salen como nan"
   ]
  },
  {
   "cell_type": "code",
   "execution_count": 51,
   "metadata": {
    "ExecuteTime": {
     "end_time": "2024-07-09T14:21:49.021665Z",
     "start_time": "2024-07-09T14:21:48.240823Z"
    }
   },
   "outputs": [],
   "source": [
    "beneficiarios_22.dropna(inplace=True)"
   ]
  },
  {
   "cell_type": "code",
   "execution_count": 52,
   "metadata": {
    "ExecuteTime": {
     "end_time": "2024-07-09T14:21:49.492273Z",
     "start_time": "2024-07-09T14:21:49.024689Z"
    }
   },
   "outputs": [],
   "source": [
    "# Obtenemos las localidades únicas en el dataset.\n",
    "Localidades_22 = beneficiarios_22[['ENTIDAD', 'MUNICIPIO', 'LOCALIDAD']]\n",
    "Localidades_22 = Localidades_22.drop_duplicates()\n"
   ]
  },
  {
   "cell_type": "code",
   "execution_count": 53,
   "metadata": {
    "ExecuteTime": {
     "end_time": "2024-07-09T14:21:49.893793Z",
     "start_time": "2024-07-09T14:21:49.496692Z"
    }
   },
   "outputs": [],
   "source": [
    "Localidades_22['ENTIDAD_c_benef'] = Localidades_22['ENTIDAD'].apply(clean_text)\n",
    "Localidades_22['MUNICIPIO_c_benef'] = Localidades_22['MUNICIPIO'].apply(clean_text)\n",
    "Localidades_22['LOCALIDAD_c_benef'] = Localidades_22['LOCALIDAD'].apply(clean_text)"
   ]
  },
  {
   "cell_type": "code",
   "execution_count": 54,
   "metadata": {
    "ExecuteTime": {
     "end_time": "2024-07-09T14:21:49.946239Z",
     "start_time": "2024-07-09T14:21:49.908117Z"
    }
   },
   "outputs": [],
   "source": [
    "# Creamos las dos keys de beneficiarios 2019\n",
    "Localidades_22['KEY_benef_mun'] = Localidades_22['ENTIDAD_c_benef'].astype(str) + '-' + Localidades_22[\n",
    "    'MUNICIPIO_c_benef'].astype(str)\n",
    "Localidades_22['KEY_benef_loc'] = Localidades_22['MUNICIPIO_c_benef'].astype(str) + '-' + Localidades_22['LOCALIDAD_c_benef'].astype(str)"
   ]
  },
  {
   "cell_type": "code",
   "execution_count": 55,
   "metadata": {
    "ExecuteTime": {
     "end_time": "2024-07-09T14:21:49.964605Z",
     "start_time": "2024-07-09T14:21:49.948766Z"
    }
   },
   "outputs": [
    {
     "data": {
      "text/plain": [
       "(12513, 8)"
      ]
     },
     "execution_count": 55,
     "metadata": {},
     "output_type": "execute_result"
    }
   ],
   "source": [
    "Localidades_22.shape"
   ]
  },
  {
   "cell_type": "code",
   "execution_count": 56,
   "metadata": {
    "ExecuteTime": {
     "end_time": "2024-07-09T14:21:50.246929Z",
     "start_time": "2024-07-09T14:21:49.966615Z"
    }
   },
   "outputs": [],
   "source": [
    "# Obtenemos las localidades únicas en el dataset.\n",
    "Municipios_22 = beneficiarios_22[['ENTIDAD', 'MUNICIPIO']]\n",
    "Municipios_22 = Municipios_22.drop_duplicates()"
   ]
  },
  {
   "cell_type": "code",
   "execution_count": 57,
   "metadata": {
    "ExecuteTime": {
     "end_time": "2024-07-09T14:21:50.292503Z",
     "start_time": "2024-07-09T14:21:50.251489Z"
    }
   },
   "outputs": [],
   "source": [
    "# Estandarizamos la limpieza de los datos\n",
    "Municipios_22['ENTIDAD_c_benef'] = Municipios_22['ENTIDAD'].apply(clean_text)\n",
    "Municipios_22['MUNICIPIO_c_benef'] = Municipios_22['MUNICIPIO'].apply(clean_text)"
   ]
  },
  {
   "cell_type": "code",
   "execution_count": 58,
   "metadata": {
    "ExecuteTime": {
     "end_time": "2024-07-09T14:21:50.306420Z",
     "start_time": "2024-07-09T14:21:50.296039Z"
    }
   },
   "outputs": [],
   "source": [
    "# Creamos las dos keys de beneficiarios \n",
    "Municipios_22['KEY_benef_mun'] = Municipios_22['ENTIDAD_c_benef'].astype(str) + '-' + Municipios_22[\n",
    "    'MUNICIPIO_c_benef'].astype(str)"
   ]
  },
  {
   "cell_type": "code",
   "execution_count": 59,
   "metadata": {
    "ExecuteTime": {
     "end_time": "2024-07-09T14:21:50.325869Z",
     "start_time": "2024-07-09T14:21:50.313998Z"
    }
   },
   "outputs": [
    {
     "data": {
      "text/plain": [
       "(1029, 5)"
      ]
     },
     "execution_count": 59,
     "metadata": {},
     "output_type": "execute_result"
    }
   ],
   "source": [
    "Municipios_22.shape"
   ]
  },
  {
   "cell_type": "code",
   "execution_count": 60,
   "metadata": {
    "ExecuteTime": {
     "end_time": "2024-07-09T14:21:50.351355Z",
     "start_time": "2024-07-09T14:21:50.328391Z"
    }
   },
   "outputs": [
    {
     "data": {
      "text/plain": [
       "Index(['ENTIDAD', 'MUNICIPIO', 'ENTIDAD_c_benef', 'MUNICIPIO_c_benef',\n",
       "       'KEY_benef_mun'],\n",
       "      dtype='object')"
      ]
     },
     "execution_count": 60,
     "metadata": {},
     "output_type": "execute_result"
    }
   ],
   "source": [
    "Municipios_22.columns"
   ]
  },
  {
   "cell_type": "markdown",
   "metadata": {},
   "source": [
    "### 1.2 INEGI 2022\n",
    "\n",
    "Obtener listado único de municipios y listado único de localidades de inegi de 2022 con sus claves."
   ]
  },
  {
   "cell_type": "code",
   "execution_count": 61,
   "metadata": {
    "ExecuteTime": {
     "end_time": "2024-07-09T14:21:51.453145Z",
     "start_time": "2024-07-09T14:21:50.354369Z"
    }
   },
   "outputs": [],
   "source": [
    "path_dataset_inegi_2022 = '../../data/inegi/dataset_inegi_clean_2022.csv'\n",
    "#dataset_inegi_clean = pd.read_csv(path_dataset_inegi_2022, encoding='utf-8', dtype={'CVE_ENT': str, 'CVE_MUN': str, 'CVE_LOC': str})\n",
    "dataset_inegi_2022 = pd.read_csv(path_dataset_inegi_2022)"
   ]
  },
  {
   "cell_type": "markdown",
   "metadata": {},
   "source": [
    "### 1.2.1 INEGI 2022 Municipios únicos para cada año."
   ]
  },
  {
   "cell_type": "code",
   "execution_count": 62,
   "metadata": {
    "ExecuteTime": {
     "end_time": "2024-07-09T14:21:51.811966Z",
     "start_time": "2024-07-09T14:21:51.459728Z"
    }
   },
   "outputs": [],
   "source": [
    "dataset_inegi_2022['KEY_inegi_municipio'] = dataset_inegi_2022['Entidad_c_inegi'].astype(str) + '-' + dataset_inegi_2022['Municipio_c_inegi'].astype(str)\n",
    "dataset_inegi_2022['KEY_inegi_localidad'] = dataset_inegi_2022['Municipio_c_inegi'].astype(str) + '-' + dataset_inegi_2022['Localidad_c_inegi'].astype(str)"
   ]
  },
  {
   "cell_type": "code",
   "execution_count": 63,
   "metadata": {
    "ExecuteTime": {
     "end_time": "2024-07-09T14:21:52.057851Z",
     "start_time": "2024-07-09T14:21:51.813978Z"
    }
   },
   "outputs": [],
   "source": [
    "INEGI_UNIQUEMUN_2022 = dataset_inegi_2022.drop(columns=[\"CVE_LOC\", \"Localidad_inegi\", \"Localidad_c_inegi\", \"KEY_inegi_localidad\", \"POB_TOTAL\"])\n",
    "\n",
    "INEGI_UNIQUEMUN_2022 = INEGI_UNIQUEMUN_2022.drop_duplicates()"
   ]
  },
  {
   "cell_type": "code",
   "execution_count": 64,
   "metadata": {
    "ExecuteTime": {
     "end_time": "2024-07-09T14:21:52.075665Z",
     "start_time": "2024-07-09T14:21:52.060391Z"
    }
   },
   "outputs": [
    {
     "data": {
      "text/plain": [
       "(2475, 7)"
      ]
     },
     "execution_count": 64,
     "metadata": {},
     "output_type": "execute_result"
    }
   ],
   "source": [
    "INEGI_UNIQUEMUN_2022.shape"
   ]
  },
  {
   "cell_type": "code",
   "execution_count": 65,
   "metadata": {
    "ExecuteTime": {
     "end_time": "2024-07-09T14:21:52.094484Z",
     "start_time": "2024-07-09T14:21:52.082794Z"
    }
   },
   "outputs": [
    {
     "data": {
      "text/plain": [
       "Index(['CVE_ENT', 'Entidad_inegi', 'CVE_MUN', 'Municipio_inegi',\n",
       "       'Entidad_c_inegi', 'Municipio_c_inegi', 'KEY_inegi_municipio'],\n",
       "      dtype='object')"
      ]
     },
     "execution_count": 65,
     "metadata": {},
     "output_type": "execute_result"
    }
   ],
   "source": [
    "INEGI_UNIQUEMUN_2022.columns"
   ]
  },
  {
   "cell_type": "markdown",
   "metadata": {},
   "source": [
    "# 2. Diccionario de los datasets de INEGI Y LISTADO BENEFICIARIOS 2019\n",
    "\n",
    "El objetivo de esta sección es crear dos diccionarios de códigos según BENEFICIARIOS-MUNICIPIOS_INEGI y otro BENEFICIARIOS-LOCALIDADES_INEGI, para cada uno de los estados encontrados en inegi_2022, en este caso el número de keys es menor con lo cual no nos hará falta dividir por estado.\n",
    "\n",
    "Para ello haremos un Left join entre Localidades_22 y el dataset de INEGI correspondiente."
   ]
  },
  {
   "cell_type": "code",
   "execution_count": 66,
   "metadata": {
    "ExecuteTime": {
     "end_time": "2024-07-09T14:21:53.032271Z",
     "start_time": "2024-07-09T14:21:53.020120Z"
    }
   },
   "outputs": [],
   "source": [
    "# Crear una función para encontrar la mejor coincidencia difusa con límites entre 85 y 100 de coincidencia\n",
    "def fuzzy_merge_benef2019_2022(df_benef, df_inegi, key1, key2, threshold=85, limit=1):\n",
    "    \"\"\"\n",
    "    df_inegi: DataFrame de la izquierda (el DataFrame principal)\n",
    "    df_prod: DataFrame de la derecha (el DataFrame con el que se quiere hacer el join)\n",
    "    key1: Columna de la clave en df_inegi\n",
    "    key2: Columna de la clave en df_prod\n",
    "    threshold: Umbral de coincidencia difusa\n",
    "    limit: Número de coincidencias a encontrar\n",
    "    \"\"\"\n",
    "    s = df_inegi[key2].tolist()\n",
    "\n",
    "    # Encontrar las mejores coincidencias para cada clave en df_inegi\n",
    "    matches = df_benef[key1].apply(lambda x: process.extractOne(x, s, score_cutoff=threshold))\n",
    "\n",
    "    # Crear una columna con las mejores coincidencias\n",
    "    df_benef['best_match'] = [match[0] if match else None for match in matches]\n",
    "\n",
    "    df_benef['match_score'] = [match[1] if match else None for match in matches]\n",
    "\n",
    "    # Hacer el merge con las mejores coincidencias\n",
    "    df_merged = pd.merge(df_benef, df_inegi, left_on='best_match', right_on=key2, how='left',\n",
    "                         suffixes=('_benef', '_inegi'))\n",
    "\n",
    "    return df_merged"
   ]
  },
  {
   "cell_type": "code",
   "execution_count": 67,
   "metadata": {
    "ExecuteTime": {
     "end_time": "2024-07-09T14:24:33.349477Z",
     "start_time": "2024-07-09T14:21:53.035288Z"
    }
   },
   "outputs": [
    {
     "data": {
      "text/plain": [
       "(1031, 14)"
      ]
     },
     "execution_count": 67,
     "metadata": {},
     "output_type": "execute_result"
    }
   ],
   "source": [
    "diccionario_MUN_22 = fuzzy_merge_benef2019_2022(Municipios_22, INEGI_UNIQUEMUN_2022, 'KEY_benef_mun',\n",
    "                                                'KEY_inegi_municipio')\n",
    "diccionario_MUN_22.shape"
   ]
  },
  {
   "cell_type": "code",
   "execution_count": 68,
   "metadata": {
    "ExecuteTime": {
     "end_time": "2024-07-09T14:24:33.369871Z",
     "start_time": "2024-07-09T14:24:33.352743Z"
    }
   },
   "outputs": [],
   "source": [
    "diccionario_MUN_22.drop(columns=['ENTIDAD', 'MUNICIPIO', 'ENTIDAD_c_benef', 'MUNICIPIO_c_benef', 'Entidad_c_inegi',\n",
    "                                 'Municipio_c_inegi'], inplace=True)\n",
    "diccionario_MUN_22.drop_duplicates(subset='KEY_benef_mun', keep='first', inplace=True)"
   ]
  },
  {
   "cell_type": "code",
   "execution_count": 69,
   "metadata": {
    "ExecuteTime": {
     "end_time": "2024-07-09T14:24:33.400653Z",
     "start_time": "2024-07-09T14:24:33.380426Z"
    }
   },
   "outputs": [
    {
     "data": {
      "text/plain": [
       "(1029, 8)"
      ]
     },
     "execution_count": 69,
     "metadata": {},
     "output_type": "execute_result"
    }
   ],
   "source": [
    "diccionario_MUN_22.shape"
   ]
  },
  {
   "cell_type": "code",
   "execution_count": 70,
   "metadata": {
    "ExecuteTime": {
     "end_time": "2024-07-09T14:24:33.429249Z",
     "start_time": "2024-07-09T14:24:33.405667Z"
    }
   },
   "outputs": [],
   "source": [
    "diccionario_MUN_22.to_csv('../../data/productores_beneficiarios 2019-2022/diccionarios_E3/diccionario_MUN_22.csv',\n",
    "                          index=False)\n",
    "diccionario_MUN_22_simple = diccionario_MUN_22.drop(\n",
    "    columns=['best_match', 'match_score', 'CVE_ENT', 'Entidad_inegi', 'CVE_MUN', 'Municipio_inegi'])\n",
    "# # TODO Es necesario modificar el diccionario manual\n",
    "# diccionario_MUN_22_simple.to_csv(\n",
    "#     '../../data/productores_beneficiarios 2019-2022/diccionarios_E3/diccionario_MUN_22_simple.csv', index=False)"
   ]
  },
  {
   "cell_type": "code",
   "execution_count": 71,
   "metadata": {
    "ExecuteTime": {
     "end_time": "2024-07-09T14:24:33.442534Z",
     "start_time": "2024-07-09T14:24:33.432553Z"
    }
   },
   "outputs": [],
   "source": [
    "diccionario_MUN_22_simple = pd.read_csv(\n",
    "    '../../data/productores_beneficiarios 2019-2022/diccionarios_E3/diccionario_MUN_22_simple.csv')"
   ]
  },
  {
   "cell_type": "code",
   "execution_count": 72,
   "metadata": {
    "ExecuteTime": {
     "end_time": "2024-07-09T14:24:33.462737Z",
     "start_time": "2024-07-09T14:24:33.446550Z"
    }
   },
   "outputs": [
    {
     "data": {
      "text/plain": [
       "(826382, 16)"
      ]
     },
     "execution_count": 72,
     "metadata": {},
     "output_type": "execute_result"
    }
   ],
   "source": [
    "beneficiarios_22.shape"
   ]
  },
  {
   "cell_type": "code",
   "execution_count": 73,
   "metadata": {
    "ExecuteTime": {
     "end_time": "2024-07-09T14:24:33.486830Z",
     "start_time": "2024-07-09T14:24:33.473429Z"
    }
   },
   "outputs": [
    {
     "name": "stdout",
     "output_type": "stream",
     "text": [
      "                 KEY_benef_mun        KEY_inegi_municipio\n",
      "13    oaxaca-san juan mixtepec   oaxaca-san juan mixtepec\n",
      "14    oaxaca-san juan mixtepec   oaxaca-san juan mixtepec\n",
      "339  oaxaca-san pedro mixtepec  oaxaca-san pedro mixtepec\n",
      "340  oaxaca-san pedro mixtepec  oaxaca-san pedro mixtepec\n"
     ]
    }
   ],
   "source": [
    "duplicates_specific_column = diccionario_MUN_22_simple[\n",
    "    diccionario_MUN_22_simple.duplicated(subset=['KEY_benef_mun', 'KEY_inegi_municipio'], keep=False)]\n",
    "print(duplicates_specific_column)"
   ]
  },
  {
   "cell_type": "code",
   "execution_count": 74,
   "metadata": {
    "ExecuteTime": {
     "end_time": "2024-07-09T14:24:33.504818Z",
     "start_time": "2024-07-09T14:24:33.489371Z"
    }
   },
   "outputs": [
    {
     "name": "stdout",
     "output_type": "stream",
     "text": [
      "                                      KEY_benef_mun  \\\n",
      "0     oaxaca-heroica ciudad de juchitan de zaragoza   \n",
      "13                         oaxaca-san juan mixtepec   \n",
      "14                         oaxaca-san juan mixtepec   \n",
      "259                                chiapas-palenque   \n",
      "339                       oaxaca-san pedro mixtepec   \n",
      "340                       oaxaca-san pedro mixtepec   \n",
      "1016                    oaxaca-juchitan de zaragoza   \n",
      "1030                    chiapas-belisario dominguez   \n",
      "\n",
      "              KEY_inegi_municipio  \n",
      "0     oaxaca-juchitan de zaragoza  \n",
      "13       oaxaca-san juan mixtepec  \n",
      "14       oaxaca-san juan mixtepec  \n",
      "259              chiapas-palenque  \n",
      "339     oaxaca-san pedro mixtepec  \n",
      "340     oaxaca-san pedro mixtepec  \n",
      "1016  oaxaca-juchitan de zaragoza  \n",
      "1030             chiapas-palenque  \n"
     ]
    }
   ],
   "source": [
    "duplicates_specific_column = diccionario_MUN_22_simple[\n",
    "    diccionario_MUN_22_simple.duplicated(subset='KEY_inegi_municipio', keep=False)]\n",
    "print(duplicates_specific_column)"
   ]
  },
  {
   "cell_type": "code",
   "execution_count": 75,
   "metadata": {
    "ExecuteTime": {
     "end_time": "2024-07-09T14:24:33.514690Z",
     "start_time": "2024-07-09T14:24:33.506828Z"
    }
   },
   "outputs": [],
   "source": [
    "#diccionario_MUN_22_simple = diccionario_MUN_22_simple.drop_duplicates(subset='KEY_inegi_municipio', keep='first')"
   ]
  },
  {
   "cell_type": "code",
   "execution_count": 76,
   "metadata": {
    "ExecuteTime": {
     "end_time": "2024-07-09T14:24:33.525510Z",
     "start_time": "2024-07-09T14:24:33.518269Z"
    }
   },
   "outputs": [],
   "source": [
    "#diccionario_MUN_22_simple = diccionario_MUN_22_simple.drop_duplicates(subset='KEY_benef_mun', keep='first')"
   ]
  },
  {
   "cell_type": "code",
   "execution_count": 77,
   "metadata": {},
   "outputs": [
    {
     "data": {
      "text/plain": [
       "(1027, 2)"
      ]
     },
     "execution_count": 77,
     "metadata": {},
     "output_type": "execute_result"
    }
   ],
   "source": [
    "diccionario_MUN_22_simple.shape"
   ]
  },
  {
   "cell_type": "code",
   "execution_count": 78,
   "metadata": {
    "ExecuteTime": {
     "end_time": "2024-07-09T14:24:34.044508Z",
     "start_time": "2024-07-09T14:24:33.529592Z"
    }
   },
   "outputs": [],
   "source": [
    "nan_rows = beneficiarios_22[beneficiarios_22.isna().any(axis=1)]"
   ]
  },
  {
   "cell_type": "code",
   "execution_count": 79,
   "metadata": {
    "ExecuteTime": {
     "end_time": "2024-07-09T14:24:34.132181Z",
     "start_time": "2024-07-09T14:24:34.065204Z"
    }
   },
   "outputs": [],
   "source": [
    "# Assuming your DataFrame is named df\n",
    "filtered_df = beneficiarios_22[beneficiarios_22['ENTIDAD'] == 'NACIONAL']"
   ]
  },
  {
   "cell_type": "markdown",
   "metadata": {},
   "source": [
    "### MERGE\n",
    "\n",
    "Armamos por partes el dataset definitivo:\n",
    "1. Juntamos beneficiarios_19 con el diccionario simple. (listado_beneficiario_parte_I)\n",
    "2. Al df anterior juntamos las claver provenientes del catálogo de Inegi. (listado_beneficiario_parte_II)"
   ]
  },
  {
   "cell_type": "code",
   "execution_count": 80,
   "metadata": {
    "ExecuteTime": {
     "end_time": "2024-07-09T14:24:34.160815Z",
     "start_time": "2024-07-09T14:24:34.152503Z"
    }
   },
   "outputs": [
    {
     "data": {
      "text/plain": [
       "Index(['BENEFICIARIO', 'ZONA', 'ENTIDAD', 'MUNICIPIO', 'LOCALIDAD',\n",
       "       'ESTRATIFICACIÓN', 'PROGRAMA', 'COMPONENTE', 'SUBCOMPONENTE',\n",
       "       'PRODUCTO', 'FECHA', 'MONTO FEDERAL', 'APOYO', 'ACTIVIDAD', 'ESLABÓN',\n",
       "       'CICLO AGRÍCOLA'],\n",
       "      dtype='object')"
      ]
     },
     "execution_count": 80,
     "metadata": {},
     "output_type": "execute_result"
    }
   ],
   "source": [
    "beneficiarios_22.columns"
   ]
  },
  {
   "cell_type": "code",
   "execution_count": 81,
   "metadata": {
    "ExecuteTime": {
     "end_time": "2024-07-09T14:24:34.172120Z",
     "start_time": "2024-07-09T14:24:34.164830Z"
    }
   },
   "outputs": [
    {
     "data": {
      "text/plain": [
       "(826382, 16)"
      ]
     },
     "execution_count": 81,
     "metadata": {},
     "output_type": "execute_result"
    }
   ],
   "source": [
    "beneficiarios_22.shape"
   ]
  },
  {
   "cell_type": "code",
   "execution_count": 82,
   "metadata": {
    "ExecuteTime": {
     "end_time": "2024-07-09T14:24:46.918971Z",
     "start_time": "2024-07-09T14:24:34.174128Z"
    }
   },
   "outputs": [],
   "source": [
    "# Crear una variable KEY en listado de productores y el diccionario para hacer el join\n",
    "\n",
    "# Clean listado beneficiarios\n",
    "beneficiarios_22['ESTADO_Clean'] = beneficiarios_22['ENTIDAD'].apply(clean_text)\n",
    "beneficiarios_22['MUNICIPIO_Clean'] = beneficiarios_22['MUNICIPIO'].apply(clean_text)\n",
    "\n",
    "# Create KEY in listado beneficiarios\n",
    "beneficiarios_22['Estado-mun-KEY'] = beneficiarios_22['ESTADO_Clean'].astype(str) + '-' + beneficiarios_22[\n",
    "    'MUNICIPIO_Clean'].astype(str)"
   ]
  },
  {
   "cell_type": "code",
   "execution_count": 83,
   "metadata": {},
   "outputs": [
    {
     "data": {
      "text/html": [
       "<div>\n",
       "<style scoped>\n",
       "    .dataframe tbody tr th:only-of-type {\n",
       "        vertical-align: middle;\n",
       "    }\n",
       "\n",
       "    .dataframe tbody tr th {\n",
       "        vertical-align: top;\n",
       "    }\n",
       "\n",
       "    .dataframe thead th {\n",
       "        text-align: right;\n",
       "    }\n",
       "</style>\n",
       "<table border=\"1\" class=\"dataframe\">\n",
       "  <thead>\n",
       "    <tr style=\"text-align: right;\">\n",
       "      <th></th>\n",
       "      <th>BENEFICIARIO</th>\n",
       "      <th>ZONA</th>\n",
       "      <th>ENTIDAD</th>\n",
       "      <th>MUNICIPIO</th>\n",
       "      <th>LOCALIDAD</th>\n",
       "      <th>ESTRATIFICACIÓN</th>\n",
       "      <th>PROGRAMA</th>\n",
       "      <th>COMPONENTE</th>\n",
       "      <th>SUBCOMPONENTE</th>\n",
       "      <th>PRODUCTO</th>\n",
       "      <th>FECHA</th>\n",
       "      <th>MONTO FEDERAL</th>\n",
       "      <th>APOYO</th>\n",
       "      <th>ACTIVIDAD</th>\n",
       "      <th>ESLABÓN</th>\n",
       "      <th>CICLO AGRÍCOLA</th>\n",
       "      <th>ESTADO_Clean</th>\n",
       "      <th>MUNICIPIO_Clean</th>\n",
       "      <th>Estado-mun-KEY</th>\n",
       "    </tr>\n",
       "  </thead>\n",
       "  <tbody>\n",
       "    <tr>\n",
       "      <th>59305</th>\n",
       "      <td>BARRIOS ROBLERO ESTEBAN</td>\n",
       "      <td>SUR SURESTE</td>\n",
       "      <td>CHIAPAS</td>\n",
       "      <td>BELISARIO DOMINGUEZ</td>\n",
       "      <td>FLOR DE CHIAPAS</td>\n",
       "      <td>SC-CONAPO</td>\n",
       "      <td>FERTILIZANTES</td>\n",
       "      <td>FERTILIZANTES</td>\n",
       "      <td>FERTILIZANTES</td>\n",
       "      <td>Cultivo de maíz grano blanco</td>\n",
       "      <td>2022-09-05</td>\n",
       "      <td>7491.34</td>\n",
       "      <td>Fertilizantes</td>\n",
       "      <td>AGRARIA</td>\n",
       "      <td>AGRARIA</td>\n",
       "      <td>PV2022</td>\n",
       "      <td>chiapas</td>\n",
       "      <td>belisario dominguez</td>\n",
       "      <td>chiapas-belisario dominguez</td>\n",
       "    </tr>\n",
       "    <tr>\n",
       "      <th>76582</th>\n",
       "      <td>BRAVO PEREZ GUALTERIO DIONICIO</td>\n",
       "      <td>SUR SURESTE</td>\n",
       "      <td>CHIAPAS</td>\n",
       "      <td>BELISARIO DOMINGUEZ</td>\n",
       "      <td>FLOR DE CHIAPAS</td>\n",
       "      <td>SC-CONAPO</td>\n",
       "      <td>FERTILIZANTES</td>\n",
       "      <td>FERTILIZANTES</td>\n",
       "      <td>FERTILIZANTES</td>\n",
       "      <td>Cultivo de maíz grano blanco</td>\n",
       "      <td>2022-09-05</td>\n",
       "      <td>7491.34</td>\n",
       "      <td>Fertilizantes</td>\n",
       "      <td>AGRARIA</td>\n",
       "      <td>AGRARIA</td>\n",
       "      <td>PV2022</td>\n",
       "      <td>chiapas</td>\n",
       "      <td>belisario dominguez</td>\n",
       "      <td>chiapas-belisario dominguez</td>\n",
       "    </tr>\n",
       "    <tr>\n",
       "      <th>133667</th>\n",
       "      <td>CRUS ROBLERO CANDIDO</td>\n",
       "      <td>SUR SURESTE</td>\n",
       "      <td>CHIAPAS</td>\n",
       "      <td>BELISARIO DOMINGUEZ</td>\n",
       "      <td>FLOR DE CHIAPAS</td>\n",
       "      <td>SC-CONAPO</td>\n",
       "      <td>FERTILIZANTES</td>\n",
       "      <td>FERTILIZANTES</td>\n",
       "      <td>FERTILIZANTES</td>\n",
       "      <td>Cultivo de maíz grano blanco</td>\n",
       "      <td>2022-09-10</td>\n",
       "      <td>7491.34</td>\n",
       "      <td>Fertilizantes</td>\n",
       "      <td>AGRARIA</td>\n",
       "      <td>AGRARIA</td>\n",
       "      <td>PV2022</td>\n",
       "      <td>chiapas</td>\n",
       "      <td>belisario dominguez</td>\n",
       "      <td>chiapas-belisario dominguez</td>\n",
       "    </tr>\n",
       "    <tr>\n",
       "      <th>133668</th>\n",
       "      <td>CRUS ROBLERO JOSE PEDRO</td>\n",
       "      <td>SUR SURESTE</td>\n",
       "      <td>CHIAPAS</td>\n",
       "      <td>BELISARIO DOMINGUEZ</td>\n",
       "      <td>FLOR DE CHIAPAS</td>\n",
       "      <td>SC-CONAPO</td>\n",
       "      <td>FERTILIZANTES</td>\n",
       "      <td>FERTILIZANTES</td>\n",
       "      <td>FERTILIZANTES</td>\n",
       "      <td>Cultivo de maíz grano blanco</td>\n",
       "      <td>2022-09-10</td>\n",
       "      <td>7491.34</td>\n",
       "      <td>Fertilizantes</td>\n",
       "      <td>AGRARIA</td>\n",
       "      <td>AGRARIA</td>\n",
       "      <td>PV2022</td>\n",
       "      <td>chiapas</td>\n",
       "      <td>belisario dominguez</td>\n",
       "      <td>chiapas-belisario dominguez</td>\n",
       "    </tr>\n",
       "    <tr>\n",
       "      <th>141160</th>\n",
       "      <td>CRUZ LOPEZ ALBERTO</td>\n",
       "      <td>SUR SURESTE</td>\n",
       "      <td>CHIAPAS</td>\n",
       "      <td>BELISARIO DOMINGUEZ</td>\n",
       "      <td>FLOR DE CHIAPAS</td>\n",
       "      <td>SC-CONAPO</td>\n",
       "      <td>FERTILIZANTES</td>\n",
       "      <td>FERTILIZANTES</td>\n",
       "      <td>FERTILIZANTES</td>\n",
       "      <td>Cultivo de maíz grano blanco</td>\n",
       "      <td>2022-09-12</td>\n",
       "      <td>7491.34</td>\n",
       "      <td>Fertilizantes</td>\n",
       "      <td>AGRARIA</td>\n",
       "      <td>AGRARIA</td>\n",
       "      <td>PV2022</td>\n",
       "      <td>chiapas</td>\n",
       "      <td>belisario dominguez</td>\n",
       "      <td>chiapas-belisario dominguez</td>\n",
       "    </tr>\n",
       "    <tr>\n",
       "      <th>...</th>\n",
       "      <td>...</td>\n",
       "      <td>...</td>\n",
       "      <td>...</td>\n",
       "      <td>...</td>\n",
       "      <td>...</td>\n",
       "      <td>...</td>\n",
       "      <td>...</td>\n",
       "      <td>...</td>\n",
       "      <td>...</td>\n",
       "      <td>...</td>\n",
       "      <td>...</td>\n",
       "      <td>...</td>\n",
       "      <td>...</td>\n",
       "      <td>...</td>\n",
       "      <td>...</td>\n",
       "      <td>...</td>\n",
       "      <td>...</td>\n",
       "      <td>...</td>\n",
       "      <td>...</td>\n",
       "    </tr>\n",
       "    <tr>\n",
       "      <th>796076</th>\n",
       "      <td>VAZQUEZ SOLIS NEIME</td>\n",
       "      <td>SUR SURESTE</td>\n",
       "      <td>CHIAPAS</td>\n",
       "      <td>BELISARIO DOMINGUEZ</td>\n",
       "      <td>FLOR DE CHIAPAS</td>\n",
       "      <td>SC-CONAPO</td>\n",
       "      <td>FERTILIZANTES</td>\n",
       "      <td>FERTILIZANTES</td>\n",
       "      <td>FERTILIZANTES</td>\n",
       "      <td>Cultivo de maíz grano blanco</td>\n",
       "      <td>2022-09-05</td>\n",
       "      <td>7491.34</td>\n",
       "      <td>Fertilizantes</td>\n",
       "      <td>AGRARIA</td>\n",
       "      <td>AGRARIA</td>\n",
       "      <td>PV2022</td>\n",
       "      <td>chiapas</td>\n",
       "      <td>belisario dominguez</td>\n",
       "      <td>chiapas-belisario dominguez</td>\n",
       "    </tr>\n",
       "    <tr>\n",
       "      <th>803973</th>\n",
       "      <td>VELAZQUEZ GONZALEZ LORENZO</td>\n",
       "      <td>SUR SURESTE</td>\n",
       "      <td>CHIAPAS</td>\n",
       "      <td>BELISARIO DOMINGUEZ</td>\n",
       "      <td>FLOR DE CHIAPAS</td>\n",
       "      <td>SC-CONAPO</td>\n",
       "      <td>FERTILIZANTES</td>\n",
       "      <td>FERTILIZANTES</td>\n",
       "      <td>FERTILIZANTES</td>\n",
       "      <td>Cultivo de maíz grano blanco</td>\n",
       "      <td>2022-09-05</td>\n",
       "      <td>7491.34</td>\n",
       "      <td>Fertilizantes</td>\n",
       "      <td>AGRARIA</td>\n",
       "      <td>AGRARIA</td>\n",
       "      <td>PV2022</td>\n",
       "      <td>chiapas</td>\n",
       "      <td>belisario dominguez</td>\n",
       "      <td>chiapas-belisario dominguez</td>\n",
       "    </tr>\n",
       "    <tr>\n",
       "      <th>820122</th>\n",
       "      <td>ZALAZ PEREZ DOMITILA</td>\n",
       "      <td>SUR SURESTE</td>\n",
       "      <td>CHIAPAS</td>\n",
       "      <td>BELISARIO DOMINGUEZ</td>\n",
       "      <td>FLOR DE CHIAPAS</td>\n",
       "      <td>SC-CONAPO</td>\n",
       "      <td>FERTILIZANTES</td>\n",
       "      <td>FERTILIZANTES</td>\n",
       "      <td>FERTILIZANTES</td>\n",
       "      <td>Cultivo de maíz grano blanco</td>\n",
       "      <td>2022-09-05</td>\n",
       "      <td>7491.34</td>\n",
       "      <td>Fertilizantes</td>\n",
       "      <td>AGRARIA</td>\n",
       "      <td>AGRARIA</td>\n",
       "      <td>PV2022</td>\n",
       "      <td>chiapas</td>\n",
       "      <td>belisario dominguez</td>\n",
       "      <td>chiapas-belisario dominguez</td>\n",
       "    </tr>\n",
       "    <tr>\n",
       "      <th>825316</th>\n",
       "      <td>ZUNUN ROBLERO ELIZABETH</td>\n",
       "      <td>SUR SURESTE</td>\n",
       "      <td>CHIAPAS</td>\n",
       "      <td>BELISARIO DOMINGUEZ</td>\n",
       "      <td>FLOR DE CHIAPAS</td>\n",
       "      <td>SC-CONAPO</td>\n",
       "      <td>FERTILIZANTES</td>\n",
       "      <td>FERTILIZANTES</td>\n",
       "      <td>FERTILIZANTES</td>\n",
       "      <td>Cultivo de maíz grano blanco</td>\n",
       "      <td>2022-12-05</td>\n",
       "      <td>7491.34</td>\n",
       "      <td>Fertilizantes</td>\n",
       "      <td>AGRARIA</td>\n",
       "      <td>AGRARIA</td>\n",
       "      <td>PV2022</td>\n",
       "      <td>chiapas</td>\n",
       "      <td>belisario dominguez</td>\n",
       "      <td>chiapas-belisario dominguez</td>\n",
       "    </tr>\n",
       "    <tr>\n",
       "      <th>825322</th>\n",
       "      <td>ZUNUN ROBLERO MARGARITA</td>\n",
       "      <td>SUR SURESTE</td>\n",
       "      <td>CHIAPAS</td>\n",
       "      <td>BELISARIO DOMINGUEZ</td>\n",
       "      <td>FLOR DE CHIAPAS</td>\n",
       "      <td>SC-CONAPO</td>\n",
       "      <td>FERTILIZANTES</td>\n",
       "      <td>FERTILIZANTES</td>\n",
       "      <td>FERTILIZANTES</td>\n",
       "      <td>Cultivo de maíz grano blanco</td>\n",
       "      <td>2022-12-05</td>\n",
       "      <td>7491.34</td>\n",
       "      <td>Fertilizantes</td>\n",
       "      <td>AGRARIA</td>\n",
       "      <td>AGRARIA</td>\n",
       "      <td>PV2022</td>\n",
       "      <td>chiapas</td>\n",
       "      <td>belisario dominguez</td>\n",
       "      <td>chiapas-belisario dominguez</td>\n",
       "    </tr>\n",
       "  </tbody>\n",
       "</table>\n",
       "<p>196 rows × 19 columns</p>\n",
       "</div>"
      ],
      "text/plain": [
       "                           BENEFICIARIO         ZONA  ENTIDAD  \\\n",
       "59305          BARRIOS ROBLERO ESTEBAN   SUR SURESTE  CHIAPAS   \n",
       "76582   BRAVO PEREZ GUALTERIO DIONICIO   SUR SURESTE  CHIAPAS   \n",
       "133667            CRUS ROBLERO CANDIDO   SUR SURESTE  CHIAPAS   \n",
       "133668         CRUS ROBLERO JOSE PEDRO   SUR SURESTE  CHIAPAS   \n",
       "141160              CRUZ LOPEZ ALBERTO   SUR SURESTE  CHIAPAS   \n",
       "...                                 ...          ...      ...   \n",
       "796076             VAZQUEZ SOLIS NEIME   SUR SURESTE  CHIAPAS   \n",
       "803973      VELAZQUEZ GONZALEZ LORENZO   SUR SURESTE  CHIAPAS   \n",
       "820122            ZALAZ PEREZ DOMITILA   SUR SURESTE  CHIAPAS   \n",
       "825316         ZUNUN ROBLERO ELIZABETH   SUR SURESTE  CHIAPAS   \n",
       "825322         ZUNUN ROBLERO MARGARITA   SUR SURESTE  CHIAPAS   \n",
       "\n",
       "                  MUNICIPIO        LOCALIDAD ESTRATIFICACIÓN       PROGRAMA  \\\n",
       "59305   BELISARIO DOMINGUEZ  FLOR DE CHIAPAS       SC-CONAPO  FERTILIZANTES   \n",
       "76582   BELISARIO DOMINGUEZ  FLOR DE CHIAPAS       SC-CONAPO  FERTILIZANTES   \n",
       "133667  BELISARIO DOMINGUEZ  FLOR DE CHIAPAS       SC-CONAPO  FERTILIZANTES   \n",
       "133668  BELISARIO DOMINGUEZ  FLOR DE CHIAPAS       SC-CONAPO  FERTILIZANTES   \n",
       "141160  BELISARIO DOMINGUEZ  FLOR DE CHIAPAS       SC-CONAPO  FERTILIZANTES   \n",
       "...                     ...              ...             ...            ...   \n",
       "796076  BELISARIO DOMINGUEZ  FLOR DE CHIAPAS       SC-CONAPO  FERTILIZANTES   \n",
       "803973  BELISARIO DOMINGUEZ  FLOR DE CHIAPAS       SC-CONAPO  FERTILIZANTES   \n",
       "820122  BELISARIO DOMINGUEZ  FLOR DE CHIAPAS       SC-CONAPO  FERTILIZANTES   \n",
       "825316  BELISARIO DOMINGUEZ  FLOR DE CHIAPAS       SC-CONAPO  FERTILIZANTES   \n",
       "825322  BELISARIO DOMINGUEZ  FLOR DE CHIAPAS       SC-CONAPO  FERTILIZANTES   \n",
       "\n",
       "           COMPONENTE  SUBCOMPONENTE                      PRODUCTO  \\\n",
       "59305   FERTILIZANTES  FERTILIZANTES  Cultivo de maíz grano blanco   \n",
       "76582   FERTILIZANTES  FERTILIZANTES  Cultivo de maíz grano blanco   \n",
       "133667  FERTILIZANTES  FERTILIZANTES  Cultivo de maíz grano blanco   \n",
       "133668  FERTILIZANTES  FERTILIZANTES  Cultivo de maíz grano blanco   \n",
       "141160  FERTILIZANTES  FERTILIZANTES  Cultivo de maíz grano blanco   \n",
       "...               ...            ...                           ...   \n",
       "796076  FERTILIZANTES  FERTILIZANTES  Cultivo de maíz grano blanco   \n",
       "803973  FERTILIZANTES  FERTILIZANTES  Cultivo de maíz grano blanco   \n",
       "820122  FERTILIZANTES  FERTILIZANTES  Cultivo de maíz grano blanco   \n",
       "825316  FERTILIZANTES  FERTILIZANTES  Cultivo de maíz grano blanco   \n",
       "825322  FERTILIZANTES  FERTILIZANTES  Cultivo de maíz grano blanco   \n",
       "\n",
       "             FECHA  MONTO FEDERAL          APOYO ACTIVIDAD  ESLABÓN  \\\n",
       "59305   2022-09-05        7491.34  Fertilizantes   AGRARIA  AGRARIA   \n",
       "76582   2022-09-05        7491.34  Fertilizantes   AGRARIA  AGRARIA   \n",
       "133667  2022-09-10        7491.34  Fertilizantes   AGRARIA  AGRARIA   \n",
       "133668  2022-09-10        7491.34  Fertilizantes   AGRARIA  AGRARIA   \n",
       "141160  2022-09-12        7491.34  Fertilizantes   AGRARIA  AGRARIA   \n",
       "...            ...            ...            ...       ...      ...   \n",
       "796076  2022-09-05        7491.34  Fertilizantes   AGRARIA  AGRARIA   \n",
       "803973  2022-09-05        7491.34  Fertilizantes   AGRARIA  AGRARIA   \n",
       "820122  2022-09-05        7491.34  Fertilizantes   AGRARIA  AGRARIA   \n",
       "825316  2022-12-05        7491.34  Fertilizantes   AGRARIA  AGRARIA   \n",
       "825322  2022-12-05        7491.34  Fertilizantes   AGRARIA  AGRARIA   \n",
       "\n",
       "       CICLO AGRÍCOLA ESTADO_Clean      MUNICIPIO_Clean  \\\n",
       "59305          PV2022      chiapas  belisario dominguez   \n",
       "76582          PV2022      chiapas  belisario dominguez   \n",
       "133667         PV2022      chiapas  belisario dominguez   \n",
       "133668         PV2022      chiapas  belisario dominguez   \n",
       "141160         PV2022      chiapas  belisario dominguez   \n",
       "...               ...          ...                  ...   \n",
       "796076         PV2022      chiapas  belisario dominguez   \n",
       "803973         PV2022      chiapas  belisario dominguez   \n",
       "820122         PV2022      chiapas  belisario dominguez   \n",
       "825316         PV2022      chiapas  belisario dominguez   \n",
       "825322         PV2022      chiapas  belisario dominguez   \n",
       "\n",
       "                     Estado-mun-KEY  \n",
       "59305   chiapas-belisario dominguez  \n",
       "76582   chiapas-belisario dominguez  \n",
       "133667  chiapas-belisario dominguez  \n",
       "133668  chiapas-belisario dominguez  \n",
       "141160  chiapas-belisario dominguez  \n",
       "...                             ...  \n",
       "796076  chiapas-belisario dominguez  \n",
       "803973  chiapas-belisario dominguez  \n",
       "820122  chiapas-belisario dominguez  \n",
       "825316  chiapas-belisario dominguez  \n",
       "825322  chiapas-belisario dominguez  \n",
       "\n",
       "[196 rows x 19 columns]"
      ]
     },
     "execution_count": 83,
     "metadata": {},
     "output_type": "execute_result"
    }
   ],
   "source": [
    "beneficiarios_22[beneficiarios_22['Estado-mun-KEY'] == 'chiapas-belisario dominguez']"
   ]
  },
  {
   "cell_type": "code",
   "execution_count": 84,
   "metadata": {},
   "outputs": [
    {
     "data": {
      "text/html": [
       "<div>\n",
       "<style scoped>\n",
       "    .dataframe tbody tr th:only-of-type {\n",
       "        vertical-align: middle;\n",
       "    }\n",
       "\n",
       "    .dataframe tbody tr th {\n",
       "        vertical-align: top;\n",
       "    }\n",
       "\n",
       "    .dataframe thead th {\n",
       "        text-align: right;\n",
       "    }\n",
       "</style>\n",
       "<table border=\"1\" class=\"dataframe\">\n",
       "  <thead>\n",
       "    <tr style=\"text-align: right;\">\n",
       "      <th></th>\n",
       "      <th>KEY_benef_mun</th>\n",
       "      <th>KEY_inegi_municipio</th>\n",
       "    </tr>\n",
       "  </thead>\n",
       "  <tbody>\n",
       "    <tr>\n",
       "      <th>259</th>\n",
       "      <td>chiapas-palenque</td>\n",
       "      <td>chiapas-palenque</td>\n",
       "    </tr>\n",
       "  </tbody>\n",
       "</table>\n",
       "</div>"
      ],
      "text/plain": [
       "        KEY_benef_mun KEY_inegi_municipio\n",
       "259  chiapas-palenque    chiapas-palenque"
      ]
     },
     "execution_count": 84,
     "metadata": {},
     "output_type": "execute_result"
    }
   ],
   "source": [
    "diccionario_MUN_22_simple[diccionario_MUN_22_simple['KEY_benef_mun'] == 'chiapas-palenque']"
   ]
  },
  {
   "cell_type": "code",
   "execution_count": 42,
   "metadata": {
    "ExecuteTime": {
     "end_time": "2024-07-09T14:24:47.847179Z",
     "start_time": "2024-07-09T14:24:46.923199Z"
    }
   },
   "outputs": [],
   "source": [
    "# Hacer el join de la Parte I\n",
    "listado_beneficiarios_parte_I = pd.merge(beneficiarios_22, diccionario_MUN_22_simple, left_on=\"Estado-mun-KEY\",\n",
    "                                         right_on=\"KEY_benef_mun\", how='left', suffixes=('_benef', '_inegi'))"
   ]
  },
  {
   "cell_type": "code",
   "execution_count": 43,
   "metadata": {
    "ExecuteTime": {
     "end_time": "2024-07-09T14:24:47.856284Z",
     "start_time": "2024-07-09T14:24:47.849342Z"
    }
   },
   "outputs": [
    {
     "data": {
      "text/plain": [
       "Index(['BENEFICIARIO', 'ZONA', 'ENTIDAD', 'MUNICIPIO', 'LOCALIDAD',\n",
       "       'ESTRATIFICACIÓN', 'PROGRAMA', 'COMPONENTE', 'SUBCOMPONENTE',\n",
       "       'PRODUCTO', 'FECHA', 'MONTO FEDERAL', 'APOYO', 'ACTIVIDAD', 'ESLABÓN',\n",
       "       'CICLO AGRÍCOLA', 'ESTADO_Clean', 'MUNICIPIO_Clean', 'Estado-mun-KEY',\n",
       "       'KEY_benef_mun', 'KEY_inegi_municipio'],\n",
       "      dtype='object')"
      ]
     },
     "execution_count": 43,
     "metadata": {},
     "output_type": "execute_result"
    }
   ],
   "source": [
    "listado_beneficiarios_parte_I.columns"
   ]
  },
  {
   "cell_type": "code",
   "execution_count": 44,
   "metadata": {
    "ExecuteTime": {
     "end_time": "2024-07-09T14:24:47.868971Z",
     "start_time": "2024-07-09T14:24:47.858293Z"
    }
   },
   "outputs": [
    {
     "data": {
      "text/plain": [
       "(826382, 21)"
      ]
     },
     "execution_count": 44,
     "metadata": {},
     "output_type": "execute_result"
    }
   ],
   "source": [
    "listado_beneficiarios_parte_I.shape"
   ]
  },
  {
   "cell_type": "code",
   "execution_count": 45,
   "metadata": {
    "ExecuteTime": {
     "end_time": "2024-07-09T14:24:47.882144Z",
     "start_time": "2024-07-09T14:24:47.872982Z"
    }
   },
   "outputs": [
    {
     "name": "stdout",
     "output_type": "stream",
     "text": [
      "(2475, 7)\n",
      "(2473, 7)\n"
     ]
    }
   ],
   "source": [
    "print(INEGI_UNIQUEMUN_2022.shape)\n",
    "INEGI_UNIQUEMUN_2022.drop_duplicates(subset='KEY_inegi_municipio', keep='first', inplace=True)\n",
    "print(INEGI_UNIQUEMUN_2022.shape)"
   ]
  },
  {
   "cell_type": "code",
   "execution_count": 46,
   "metadata": {
    "ExecuteTime": {
     "end_time": "2024-07-09T14:24:48.846444Z",
     "start_time": "2024-07-09T14:24:47.884152Z"
    }
   },
   "outputs": [],
   "source": [
    "# TODO: REVISAR ESTA PARTE (ARTURO)\n",
    "listado_beneficiarios_parte_II = pd.merge(listado_beneficiarios_parte_I, INEGI_UNIQUEMUN_2022,\n",
    "                                          left_on=\"KEY_inegi_municipio\",\n",
    "                                          right_on=\"KEY_inegi_municipio\", how='left', suffixes=('_benef', '_inegi'))"
   ]
  },
  {
   "cell_type": "code",
   "execution_count": 47,
   "metadata": {
    "ExecuteTime": {
     "end_time": "2024-07-09T14:24:50.391815Z",
     "start_time": "2024-07-09T14:24:50.383008Z"
    }
   },
   "outputs": [
    {
     "data": {
      "text/plain": [
       "Index(['BENEFICIARIO', 'ZONA', 'ENTIDAD', 'MUNICIPIO', 'LOCALIDAD',\n",
       "       'ESTRATIFICACIÓN', 'PROGRAMA', 'COMPONENTE', 'SUBCOMPONENTE',\n",
       "       'PRODUCTO', 'FECHA', 'MONTO FEDERAL', 'APOYO', 'ACTIVIDAD', 'ESLABÓN',\n",
       "       'CICLO AGRÍCOLA', 'ESTADO_Clean', 'MUNICIPIO_Clean', 'Estado-mun-KEY',\n",
       "       'KEY_benef_mun', 'KEY_inegi_municipio', 'CVE_ENT', 'Entidad_inegi',\n",
       "       'CVE_MUN', 'Municipio_inegi', 'Entidad_c_inegi', 'Municipio_c_inegi'],\n",
       "      dtype='object')"
      ]
     },
     "execution_count": 47,
     "metadata": {},
     "output_type": "execute_result"
    }
   ],
   "source": [
    "listado_beneficiarios_parte_II.columns"
   ]
  },
  {
   "cell_type": "code",
   "execution_count": 48,
   "metadata": {
    "ExecuteTime": {
     "end_time": "2024-07-09T14:24:50.508986Z",
     "start_time": "2024-07-09T14:24:50.394828Z"
    }
   },
   "outputs": [],
   "source": [
    "listado_beneficiarios_parte_II = listado_beneficiarios_parte_II.drop(\n",
    "    columns=['ESTADO_Clean', 'MUNICIPIO_Clean', 'KEY_inegi_municipio', 'Entidad_c_inegi', 'Estado-mun-KEY',\n",
    "             'Municipio_c_inegi', 'ESTRATIFICACIÓN', 'PROGRAMA', 'COMPONENTE', 'SUBCOMPONENTE', 'APOYO', 'ACTIVIDAD',\n",
    "             'ESLABÓN'])"
   ]
  },
  {
   "cell_type": "code",
   "execution_count": 49,
   "metadata": {
    "ExecuteTime": {
     "end_time": "2024-07-09T14:24:50.550345Z",
     "start_time": "2024-07-09T14:24:50.541817Z"
    }
   },
   "outputs": [
    {
     "data": {
      "text/plain": [
       "Index(['BENEFICIARIO', 'ZONA', 'ENTIDAD', 'MUNICIPIO', 'LOCALIDAD', 'PRODUCTO',\n",
       "       'FECHA', 'MONTO FEDERAL', 'CICLO AGRÍCOLA', 'KEY_benef_mun', 'CVE_ENT',\n",
       "       'Entidad_inegi', 'CVE_MUN', 'Municipio_inegi'],\n",
       "      dtype='object')"
      ]
     },
     "execution_count": 49,
     "metadata": {},
     "output_type": "execute_result"
    }
   ],
   "source": [
    "listado_beneficiarios_parte_II.columns"
   ]
  },
  {
   "cell_type": "code",
   "execution_count": 50,
   "metadata": {
    "ExecuteTime": {
     "end_time": "2024-07-09T14:25:01.365884Z",
     "start_time": "2024-07-09T14:24:50.553778Z"
    }
   },
   "outputs": [],
   "source": [
    "listado_beneficiarios_parte_II.to_csv('../../data/listados_completos/listado_beneficiarios_2022.csv', index=False)"
   ]
  },
  {
   "cell_type": "code",
   "execution_count": 51,
   "metadata": {
    "ExecuteTime": {
     "end_time": "2024-07-09T14:25:01.376562Z",
     "start_time": "2024-07-09T14:25:01.368407Z"
    }
   },
   "outputs": [
    {
     "data": {
      "text/plain": [
       "(826382, 14)"
      ]
     },
     "execution_count": 51,
     "metadata": {},
     "output_type": "execute_result"
    }
   ],
   "source": [
    "listado_beneficiarios_parte_II.shape"
   ]
  },
  {
   "cell_type": "code",
   "execution_count": 52,
   "metadata": {
    "ExecuteTime": {
     "end_time": "2024-07-09T14:25:02.140761Z",
     "start_time": "2024-07-09T14:25:01.379865Z"
    }
   },
   "outputs": [
    {
     "data": {
      "text/plain": [
       "BENEFICIARIO         0\n",
       "ZONA                 0\n",
       "ENTIDAD              0\n",
       "MUNICIPIO            0\n",
       "LOCALIDAD            0\n",
       "PRODUCTO             0\n",
       "FECHA                0\n",
       "MONTO FEDERAL        0\n",
       "CICLO AGRÍCOLA       0\n",
       "KEY_benef_mun      198\n",
       "CVE_ENT            198\n",
       "Entidad_inegi      198\n",
       "CVE_MUN            198\n",
       "Municipio_inegi    198\n",
       "dtype: int64"
      ]
     },
     "execution_count": 52,
     "metadata": {},
     "output_type": "execute_result"
    }
   ],
   "source": [
    "listado_beneficiarios_parte_II.isna().sum()"
   ]
  },
  {
   "cell_type": "code",
   "execution_count": 53,
   "metadata": {
    "ExecuteTime": {
     "end_time": "2024-07-09T14:25:02.760879Z",
     "start_time": "2024-07-09T14:25:02.146779Z"
    }
   },
   "outputs": [],
   "source": [
    "# Assuming listado_beneficiarios_parte_II is your DataFrame\n",
    "rows_with_nan = listado_beneficiarios_parte_II[listado_beneficiarios_parte_II.isna().any(axis=1)]\n",
    "\n",
    "# rows_with_nan now contains only the rows with NaN values in any column"
   ]
  },
  {
   "cell_type": "code",
   "execution_count": 54,
   "metadata": {
    "ExecuteTime": {
     "end_time": "2024-07-09T14:25:02.811626Z",
     "start_time": "2024-07-09T14:25:02.764900Z"
    }
   },
   "outputs": [
    {
     "data": {
      "text/html": [
       "<div>\n",
       "<style scoped>\n",
       "    .dataframe tbody tr th:only-of-type {\n",
       "        vertical-align: middle;\n",
       "    }\n",
       "\n",
       "    .dataframe tbody tr th {\n",
       "        vertical-align: top;\n",
       "    }\n",
       "\n",
       "    .dataframe thead th {\n",
       "        text-align: right;\n",
       "    }\n",
       "</style>\n",
       "<table border=\"1\" class=\"dataframe\">\n",
       "  <thead>\n",
       "    <tr style=\"text-align: right;\">\n",
       "      <th></th>\n",
       "      <th>BENEFICIARIO</th>\n",
       "      <th>ZONA</th>\n",
       "      <th>ENTIDAD</th>\n",
       "      <th>MUNICIPIO</th>\n",
       "      <th>LOCALIDAD</th>\n",
       "      <th>PRODUCTO</th>\n",
       "      <th>FECHA</th>\n",
       "      <th>MONTO FEDERAL</th>\n",
       "      <th>CICLO AGRÍCOLA</th>\n",
       "      <th>KEY_benef_mun</th>\n",
       "      <th>CVE_ENT</th>\n",
       "      <th>Entidad_inegi</th>\n",
       "      <th>CVE_MUN</th>\n",
       "      <th>Municipio_inegi</th>\n",
       "    </tr>\n",
       "  </thead>\n",
       "  <tbody>\n",
       "    <tr>\n",
       "      <th>59305</th>\n",
       "      <td>BARRIOS ROBLERO ESTEBAN</td>\n",
       "      <td>SUR SURESTE</td>\n",
       "      <td>CHIAPAS</td>\n",
       "      <td>BELISARIO DOMINGUEZ</td>\n",
       "      <td>FLOR DE CHIAPAS</td>\n",
       "      <td>Cultivo de maíz grano blanco</td>\n",
       "      <td>2022-09-05</td>\n",
       "      <td>7491.34</td>\n",
       "      <td>PV2022</td>\n",
       "      <td>NaN</td>\n",
       "      <td>NaN</td>\n",
       "      <td>NaN</td>\n",
       "      <td>NaN</td>\n",
       "      <td>NaN</td>\n",
       "    </tr>\n",
       "    <tr>\n",
       "      <th>76582</th>\n",
       "      <td>BRAVO PEREZ GUALTERIO DIONICIO</td>\n",
       "      <td>SUR SURESTE</td>\n",
       "      <td>CHIAPAS</td>\n",
       "      <td>BELISARIO DOMINGUEZ</td>\n",
       "      <td>FLOR DE CHIAPAS</td>\n",
       "      <td>Cultivo de maíz grano blanco</td>\n",
       "      <td>2022-09-05</td>\n",
       "      <td>7491.34</td>\n",
       "      <td>PV2022</td>\n",
       "      <td>NaN</td>\n",
       "      <td>NaN</td>\n",
       "      <td>NaN</td>\n",
       "      <td>NaN</td>\n",
       "      <td>NaN</td>\n",
       "    </tr>\n",
       "    <tr>\n",
       "      <th>133667</th>\n",
       "      <td>CRUS ROBLERO CANDIDO</td>\n",
       "      <td>SUR SURESTE</td>\n",
       "      <td>CHIAPAS</td>\n",
       "      <td>BELISARIO DOMINGUEZ</td>\n",
       "      <td>FLOR DE CHIAPAS</td>\n",
       "      <td>Cultivo de maíz grano blanco</td>\n",
       "      <td>2022-09-10</td>\n",
       "      <td>7491.34</td>\n",
       "      <td>PV2022</td>\n",
       "      <td>NaN</td>\n",
       "      <td>NaN</td>\n",
       "      <td>NaN</td>\n",
       "      <td>NaN</td>\n",
       "      <td>NaN</td>\n",
       "    </tr>\n",
       "    <tr>\n",
       "      <th>133668</th>\n",
       "      <td>CRUS ROBLERO JOSE PEDRO</td>\n",
       "      <td>SUR SURESTE</td>\n",
       "      <td>CHIAPAS</td>\n",
       "      <td>BELISARIO DOMINGUEZ</td>\n",
       "      <td>FLOR DE CHIAPAS</td>\n",
       "      <td>Cultivo de maíz grano blanco</td>\n",
       "      <td>2022-09-10</td>\n",
       "      <td>7491.34</td>\n",
       "      <td>PV2022</td>\n",
       "      <td>NaN</td>\n",
       "      <td>NaN</td>\n",
       "      <td>NaN</td>\n",
       "      <td>NaN</td>\n",
       "      <td>NaN</td>\n",
       "    </tr>\n",
       "    <tr>\n",
       "      <th>141160</th>\n",
       "      <td>CRUZ LOPEZ ALBERTO</td>\n",
       "      <td>SUR SURESTE</td>\n",
       "      <td>CHIAPAS</td>\n",
       "      <td>BELISARIO DOMINGUEZ</td>\n",
       "      <td>FLOR DE CHIAPAS</td>\n",
       "      <td>Cultivo de maíz grano blanco</td>\n",
       "      <td>2022-09-12</td>\n",
       "      <td>7491.34</td>\n",
       "      <td>PV2022</td>\n",
       "      <td>NaN</td>\n",
       "      <td>NaN</td>\n",
       "      <td>NaN</td>\n",
       "      <td>NaN</td>\n",
       "      <td>NaN</td>\n",
       "    </tr>\n",
       "    <tr>\n",
       "      <th>...</th>\n",
       "      <td>...</td>\n",
       "      <td>...</td>\n",
       "      <td>...</td>\n",
       "      <td>...</td>\n",
       "      <td>...</td>\n",
       "      <td>...</td>\n",
       "      <td>...</td>\n",
       "      <td>...</td>\n",
       "      <td>...</td>\n",
       "      <td>...</td>\n",
       "      <td>...</td>\n",
       "      <td>...</td>\n",
       "      <td>...</td>\n",
       "      <td>...</td>\n",
       "    </tr>\n",
       "    <tr>\n",
       "      <th>796076</th>\n",
       "      <td>VAZQUEZ SOLIS NEIME</td>\n",
       "      <td>SUR SURESTE</td>\n",
       "      <td>CHIAPAS</td>\n",
       "      <td>BELISARIO DOMINGUEZ</td>\n",
       "      <td>FLOR DE CHIAPAS</td>\n",
       "      <td>Cultivo de maíz grano blanco</td>\n",
       "      <td>2022-09-05</td>\n",
       "      <td>7491.34</td>\n",
       "      <td>PV2022</td>\n",
       "      <td>NaN</td>\n",
       "      <td>NaN</td>\n",
       "      <td>NaN</td>\n",
       "      <td>NaN</td>\n",
       "      <td>NaN</td>\n",
       "    </tr>\n",
       "    <tr>\n",
       "      <th>803973</th>\n",
       "      <td>VELAZQUEZ GONZALEZ LORENZO</td>\n",
       "      <td>SUR SURESTE</td>\n",
       "      <td>CHIAPAS</td>\n",
       "      <td>BELISARIO DOMINGUEZ</td>\n",
       "      <td>FLOR DE CHIAPAS</td>\n",
       "      <td>Cultivo de maíz grano blanco</td>\n",
       "      <td>2022-09-05</td>\n",
       "      <td>7491.34</td>\n",
       "      <td>PV2022</td>\n",
       "      <td>NaN</td>\n",
       "      <td>NaN</td>\n",
       "      <td>NaN</td>\n",
       "      <td>NaN</td>\n",
       "      <td>NaN</td>\n",
       "    </tr>\n",
       "    <tr>\n",
       "      <th>820122</th>\n",
       "      <td>ZALAZ PEREZ DOMITILA</td>\n",
       "      <td>SUR SURESTE</td>\n",
       "      <td>CHIAPAS</td>\n",
       "      <td>BELISARIO DOMINGUEZ</td>\n",
       "      <td>FLOR DE CHIAPAS</td>\n",
       "      <td>Cultivo de maíz grano blanco</td>\n",
       "      <td>2022-09-05</td>\n",
       "      <td>7491.34</td>\n",
       "      <td>PV2022</td>\n",
       "      <td>NaN</td>\n",
       "      <td>NaN</td>\n",
       "      <td>NaN</td>\n",
       "      <td>NaN</td>\n",
       "      <td>NaN</td>\n",
       "    </tr>\n",
       "    <tr>\n",
       "      <th>825316</th>\n",
       "      <td>ZUNUN ROBLERO ELIZABETH</td>\n",
       "      <td>SUR SURESTE</td>\n",
       "      <td>CHIAPAS</td>\n",
       "      <td>BELISARIO DOMINGUEZ</td>\n",
       "      <td>FLOR DE CHIAPAS</td>\n",
       "      <td>Cultivo de maíz grano blanco</td>\n",
       "      <td>2022-12-05</td>\n",
       "      <td>7491.34</td>\n",
       "      <td>PV2022</td>\n",
       "      <td>NaN</td>\n",
       "      <td>NaN</td>\n",
       "      <td>NaN</td>\n",
       "      <td>NaN</td>\n",
       "      <td>NaN</td>\n",
       "    </tr>\n",
       "    <tr>\n",
       "      <th>825322</th>\n",
       "      <td>ZUNUN ROBLERO MARGARITA</td>\n",
       "      <td>SUR SURESTE</td>\n",
       "      <td>CHIAPAS</td>\n",
       "      <td>BELISARIO DOMINGUEZ</td>\n",
       "      <td>FLOR DE CHIAPAS</td>\n",
       "      <td>Cultivo de maíz grano blanco</td>\n",
       "      <td>2022-12-05</td>\n",
       "      <td>7491.34</td>\n",
       "      <td>PV2022</td>\n",
       "      <td>NaN</td>\n",
       "      <td>NaN</td>\n",
       "      <td>NaN</td>\n",
       "      <td>NaN</td>\n",
       "      <td>NaN</td>\n",
       "    </tr>\n",
       "  </tbody>\n",
       "</table>\n",
       "<p>198 rows × 14 columns</p>\n",
       "</div>"
      ],
      "text/plain": [
       "                           BENEFICIARIO         ZONA  ENTIDAD  \\\n",
       "59305          BARRIOS ROBLERO ESTEBAN   SUR SURESTE  CHIAPAS   \n",
       "76582   BRAVO PEREZ GUALTERIO DIONICIO   SUR SURESTE  CHIAPAS   \n",
       "133667            CRUS ROBLERO CANDIDO   SUR SURESTE  CHIAPAS   \n",
       "133668         CRUS ROBLERO JOSE PEDRO   SUR SURESTE  CHIAPAS   \n",
       "141160              CRUZ LOPEZ ALBERTO   SUR SURESTE  CHIAPAS   \n",
       "...                                 ...          ...      ...   \n",
       "796076             VAZQUEZ SOLIS NEIME   SUR SURESTE  CHIAPAS   \n",
       "803973      VELAZQUEZ GONZALEZ LORENZO   SUR SURESTE  CHIAPAS   \n",
       "820122            ZALAZ PEREZ DOMITILA   SUR SURESTE  CHIAPAS   \n",
       "825316         ZUNUN ROBLERO ELIZABETH   SUR SURESTE  CHIAPAS   \n",
       "825322         ZUNUN ROBLERO MARGARITA   SUR SURESTE  CHIAPAS   \n",
       "\n",
       "                  MUNICIPIO        LOCALIDAD                      PRODUCTO  \\\n",
       "59305   BELISARIO DOMINGUEZ  FLOR DE CHIAPAS  Cultivo de maíz grano blanco   \n",
       "76582   BELISARIO DOMINGUEZ  FLOR DE CHIAPAS  Cultivo de maíz grano blanco   \n",
       "133667  BELISARIO DOMINGUEZ  FLOR DE CHIAPAS  Cultivo de maíz grano blanco   \n",
       "133668  BELISARIO DOMINGUEZ  FLOR DE CHIAPAS  Cultivo de maíz grano blanco   \n",
       "141160  BELISARIO DOMINGUEZ  FLOR DE CHIAPAS  Cultivo de maíz grano blanco   \n",
       "...                     ...              ...                           ...   \n",
       "796076  BELISARIO DOMINGUEZ  FLOR DE CHIAPAS  Cultivo de maíz grano blanco   \n",
       "803973  BELISARIO DOMINGUEZ  FLOR DE CHIAPAS  Cultivo de maíz grano blanco   \n",
       "820122  BELISARIO DOMINGUEZ  FLOR DE CHIAPAS  Cultivo de maíz grano blanco   \n",
       "825316  BELISARIO DOMINGUEZ  FLOR DE CHIAPAS  Cultivo de maíz grano blanco   \n",
       "825322  BELISARIO DOMINGUEZ  FLOR DE CHIAPAS  Cultivo de maíz grano blanco   \n",
       "\n",
       "             FECHA  MONTO FEDERAL CICLO AGRÍCOLA KEY_benef_mun  CVE_ENT  \\\n",
       "59305   2022-09-05        7491.34         PV2022           NaN      NaN   \n",
       "76582   2022-09-05        7491.34         PV2022           NaN      NaN   \n",
       "133667  2022-09-10        7491.34         PV2022           NaN      NaN   \n",
       "133668  2022-09-10        7491.34         PV2022           NaN      NaN   \n",
       "141160  2022-09-12        7491.34         PV2022           NaN      NaN   \n",
       "...            ...            ...            ...           ...      ...   \n",
       "796076  2022-09-05        7491.34         PV2022           NaN      NaN   \n",
       "803973  2022-09-05        7491.34         PV2022           NaN      NaN   \n",
       "820122  2022-09-05        7491.34         PV2022           NaN      NaN   \n",
       "825316  2022-12-05        7491.34         PV2022           NaN      NaN   \n",
       "825322  2022-12-05        7491.34         PV2022           NaN      NaN   \n",
       "\n",
       "       Entidad_inegi  CVE_MUN Municipio_inegi  \n",
       "59305            NaN      NaN             NaN  \n",
       "76582            NaN      NaN             NaN  \n",
       "133667           NaN      NaN             NaN  \n",
       "133668           NaN      NaN             NaN  \n",
       "141160           NaN      NaN             NaN  \n",
       "...              ...      ...             ...  \n",
       "796076           NaN      NaN             NaN  \n",
       "803973           NaN      NaN             NaN  \n",
       "820122           NaN      NaN             NaN  \n",
       "825316           NaN      NaN             NaN  \n",
       "825322           NaN      NaN             NaN  \n",
       "\n",
       "[198 rows x 14 columns]"
      ]
     },
     "execution_count": 54,
     "metadata": {},
     "output_type": "execute_result"
    }
   ],
   "source": [
    "rows_with_nan"
   ]
  },
  {
   "cell_type": "markdown",
   "metadata": {},
   "source": [
    "# 3. Join por entidad (Divide y Vencerás)"
   ]
  },
  {
   "cell_type": "code",
   "execution_count": 55,
   "metadata": {},
   "outputs": [],
   "source": [
    "listado_beneficiarios_2022 = pd.read_csv('../../data/listados_completos/listado_beneficiarios_2022.csv')"
   ]
  },
  {
   "cell_type": "code",
   "execution_count": 56,
   "metadata": {},
   "outputs": [
    {
     "data": {
      "text/plain": [
       "Index(['BENEFICIARIO', 'ZONA', 'ENTIDAD', 'MUNICIPIO', 'LOCALIDAD', 'PRODUCTO',\n",
       "       'FECHA', 'MONTO FEDERAL', 'CICLO AGRÍCOLA', 'KEY_benef_mun', 'CVE_ENT',\n",
       "       'Entidad_inegi', 'CVE_MUN', 'Municipio_inegi'],\n",
       "      dtype='object')"
      ]
     },
     "execution_count": 56,
     "metadata": {},
     "output_type": "execute_result"
    }
   ],
   "source": [
    "listado_beneficiarios_2022.columns"
   ]
  },
  {
   "cell_type": "code",
   "execution_count": 57,
   "metadata": {},
   "outputs": [],
   "source": [
    "listado_beneficiarios_2022['ENTIDAD_c_benef'] = listado_beneficiarios_2022['ENTIDAD'].apply(clean_text)\n",
    "listado_beneficiarios_2022['MUNICIPIO_c_benef'] = listado_beneficiarios_2022['MUNICIPIO'].apply(clean_text)\n",
    "listado_beneficiarios_2022['LOCALIDAD_c_benef'] = listado_beneficiarios_2022['LOCALIDAD'].apply(clean_text)"
   ]
  },
  {
   "cell_type": "code",
   "execution_count": 58,
   "metadata": {},
   "outputs": [],
   "source": [
    "listado_beneficiarios_2022['KEY_benef_loc'] = listado_beneficiarios_2022['MUNICIPIO_c_benef'].astype(str) + '-' + listado_beneficiarios_2022['LOCALIDAD_c_benef'].astype(str)"
   ]
  },
  {
   "cell_type": "code",
   "execution_count": 59,
   "metadata": {},
   "outputs": [
    {
     "data": {
      "text/plain": [
       "(826382, 18)"
      ]
     },
     "execution_count": 59,
     "metadata": {},
     "output_type": "execute_result"
    }
   ],
   "source": [
    "listado_beneficiarios_2022.shape"
   ]
  },
  {
   "cell_type": "code",
   "execution_count": 60,
   "metadata": {},
   "outputs": [],
   "source": [
    "listado_beneficiarios_2022 = listado_beneficiarios_2022.drop_duplicates(subset=['KEY_benef_loc'])"
   ]
  },
  {
   "cell_type": "code",
   "execution_count": 61,
   "metadata": {},
   "outputs": [
    {
     "data": {
      "text/plain": [
       "(12509, 18)"
      ]
     },
     "execution_count": 61,
     "metadata": {},
     "output_type": "execute_result"
    }
   ],
   "source": [
    "listado_beneficiarios_2022.shape"
   ]
  },
  {
   "cell_type": "code",
   "execution_count": 62,
   "metadata": {},
   "outputs": [
    {
     "data": {
      "text/plain": [
       "array(['GUERRERO', 'OAXACA', 'PUEBLA', 'MORELOS', 'CHIAPAS', 'DURANGO',\n",
       "       'TLAXCALA', 'NAYARIT', 'ZACATECAS'], dtype=object)"
      ]
     },
     "execution_count": 62,
     "metadata": {},
     "output_type": "execute_result"
    }
   ],
   "source": [
    "listado_beneficiarios_2022.ENTIDAD.unique()"
   ]
  },
  {
   "cell_type": "markdown",
   "metadata": {},
   "source": [
    "### 3.2.1 Join de localidades - GUERRERO"
   ]
  },
  {
   "cell_type": "markdown",
   "metadata": {},
   "source": [
    "Empezamos creando los datasets por entiedad del dataset de beneficiarios.\n"
   ]
  },
  {
   "cell_type": "code",
   "execution_count": 63,
   "metadata": {},
   "outputs": [
    {
     "name": "stdout",
     "output_type": "stream",
     "text": [
      "Localidades_22_GUERRERO defined with shape: (4613, 18)\n",
      "Localidades_22_OAXACA defined with shape: (1793, 18)\n",
      "Localidades_22_PUEBLA defined with shape: (640, 18)\n",
      "Localidades_22_MORELOS defined with shape: (260, 18)\n",
      "Localidades_22_CHIAPAS defined with shape: (3252, 18)\n",
      "Localidades_22_DURANGO defined with shape: (638, 18)\n",
      "Localidades_22_TLAXCALA defined with shape: (405, 18)\n",
      "Localidades_22_NAYARIT defined with shape: (333, 18)\n",
      "Localidades_22_ZACATECAS defined with shape: (575, 18)\n"
     ]
    }
   ],
   "source": [
    "entities = ['GUERRERO', 'OAXACA', 'PUEBLA', 'MORELOS', 'CHIAPAS', 'DURANGO','TLAXCALA', 'NAYARIT', 'ZACATECAS']\n",
    "\n",
    "# Dictionary to hold DataFrames\n",
    "dataframes_dict = {}\n",
    "\n",
    "for entity in entities:\n",
    "    variable_name = f\"Localidades_22_{entity.upper().replace(' ', '_')}\"\n",
    "    dataframe = listado_beneficiarios_2022[listado_beneficiarios_2022[\"ENTIDAD\"] == entity]\n",
    "    \n",
    "    # Check if the DataFrame for this entity already exists in the dictionary\n",
    "    if variable_name in dataframes_dict:\n",
    "        # If it exists, concatenate the new DataFrame with the existing one\n",
    "        dataframes_dict[variable_name] = pd.concat([dataframes_dict[variable_name], dataframe])\n",
    "    else:\n",
    "        # If it does not exist, create a new entry in the dictionary\n",
    "        dataframes_dict[variable_name] = dataframe\n",
    "\n",
    "# Define each DataFrame as a separate variable\n",
    "for name, df in dataframes_dict.items():\n",
    "    globals()[name] = df\n",
    "    print(f\"{name} defined with shape: {df.shape}\")"
   ]
  },
  {
   "cell_type": "code",
   "execution_count": 64,
   "metadata": {},
   "outputs": [
    {
     "data": {
      "text/plain": [
       "(12509, 18)"
      ]
     },
     "execution_count": 64,
     "metadata": {},
     "output_type": "execute_result"
    }
   ],
   "source": [
    "listado_beneficiarios_2022.shape"
   ]
  },
  {
   "cell_type": "markdown",
   "metadata": {},
   "source": [
    "### 3.2.2 Diccionarios de Inegi por entidad."
   ]
  },
  {
   "cell_type": "code",
   "execution_count": 65,
   "metadata": {},
   "outputs": [
    {
     "name": "stdout",
     "output_type": "stream",
     "text": [
      "INEGI_UNIQUELOC_2022_durango: 9106 filas, 11 columnas\n",
      "INEGI_UNIQUELOC_2022_oaxaca: 12916 filas, 11 columnas\n",
      "INEGI_UNIQUELOC_2022_tlaxcala: 1699 filas, 11 columnas\n",
      "INEGI_UNIQUELOC_2022_puebla: 7723 filas, 11 columnas\n",
      "INEGI_UNIQUELOC_2022_morelos: 1904 filas, 11 columnas\n",
      "INEGI_UNIQUELOC_2022_nayarit: 4440 filas, 11 columnas\n",
      "INEGI_UNIQUELOC_2022_chiapas: 22233 filas, 11 columnas\n",
      "INEGI_UNIQUELOC_2022_zacatecas: 6461 filas, 11 columnas\n",
      "INEGI_UNIQUELOC_2022_guerrero: 9207 filas, 11 columnas\n"
     ]
    }
   ],
   "source": [
    "folder_path = '../../data/productores_beneficiarios 2019-2022/diccionarios_E3/2022'\n",
    "\n",
    "# Listar todos los archivos en la carpeta\n",
    "files = os.listdir(folder_path)\n",
    "\n",
    "# Filtrar solo los archivos CSV\n",
    "csv_files = [file for file in files if file.endswith('.csv')]\n",
    "\n",
    "# Leer cada archivo CSV y almacenar en variables separadas\n",
    "for file_name in csv_files:\n",
    "    file_path = os.path.join(folder_path, file_name)\n",
    "    # Crear un nombre de variable dinámicamente eliminando la extensión .csv\n",
    "    var_name = file_name.replace('.csv', '')\n",
    "    # Leer el archivo CSV y asignar el DataFrame a la variable\n",
    "    globals()[var_name] = pd.read_csv(file_path)\n",
    "\n",
    "# Opcional: Imprimir el nombre de las variables creadas y la cantidad de filas y columnas de cada DataFrame\n",
    "for file_name in csv_files:\n",
    "    var_name = file_name.replace('.csv', '')\n",
    "    df = globals()[var_name]\n",
    "    print(f'{var_name}: {df.shape[0]} filas, {df.shape[1]} columnas')\n"
   ]
  },
  {
   "cell_type": "code",
   "execution_count": 66,
   "metadata": {},
   "outputs": [
    {
     "data": {
      "text/plain": [
       "(9207, 11)"
      ]
     },
     "execution_count": 66,
     "metadata": {},
     "output_type": "execute_result"
    }
   ],
   "source": [
    "INEGI_UNIQUELOC_2022_guerrero.shape"
   ]
  },
  {
   "cell_type": "code",
   "execution_count": 67,
   "metadata": {},
   "outputs": [],
   "source": [
    "Localidades_22_GUERRERO_parte_I = fuzzy_merge_benef2019_2022(Localidades_22_GUERRERO, INEGI_UNIQUELOC_2022_guerrero, 'KEY_benef_loc', 'KEY_inegi_localidad')\n",
    "Localidades_22_GUERRERO_parte_I.shape\n",
    "\n",
    "Localidades_22_PUEBLA_parte_I = fuzzy_merge_benef2019_2022(Localidades_22_PUEBLA, INEGI_UNIQUELOC_2022_puebla, 'KEY_benef_loc', 'KEY_inegi_localidad')\n",
    "Localidades_22_PUEBLA_parte_I.shape\n",
    "\n",
    "Localidades_22_MORELOS_parte_I = fuzzy_merge_benef2019_2022(Localidades_22_MORELOS, INEGI_UNIQUELOC_2022_morelos, 'KEY_benef_loc', 'KEY_inegi_localidad')\n",
    "Localidades_22_MORELOS_parte_I.shape\n",
    "\n",
    "Localidades_22_TLAXCALA_parte_I = fuzzy_merge_benef2019_2022(Localidades_22_TLAXCALA, INEGI_UNIQUELOC_2022_tlaxcala, 'KEY_benef_loc', 'KEY_inegi_localidad')\n",
    "Localidades_22_TLAXCALA_parte_I.shape\n",
    "\n",
    "Localidades_22_DURANGO_parte_I = fuzzy_merge_benef2019_2022(Localidades_22_DURANGO, INEGI_UNIQUELOC_2022_durango, 'KEY_benef_loc', 'KEY_inegi_localidad')\n",
    "Localidades_22_DURANGO_parte_I.shape\n",
    "\n",
    "Localidades_22_OAXACA_parte_I = fuzzy_merge_benef2019_2022(Localidades_22_OAXACA, INEGI_UNIQUELOC_2022_oaxaca, 'KEY_benef_loc', 'KEY_inegi_localidad')\n",
    "Localidades_22_OAXACA_parte_I.shape\n",
    "\n",
    "Localidades_22_NAYARIT_parte_I = fuzzy_merge_benef2019_2022(Localidades_22_NAYARIT, INEGI_UNIQUELOC_2022_nayarit, 'KEY_benef_loc', 'KEY_inegi_localidad')\n",
    "Localidades_22_NAYARIT_parte_I.shape\n",
    "\n",
    "Localidades_22_CHIAPAS_parte_I = fuzzy_merge_benef2019_2022(Localidades_22_CHIAPAS, INEGI_UNIQUELOC_2022_chiapas, 'KEY_benef_loc', 'KEY_inegi_localidad')\n",
    "Localidades_22_CHIAPAS_parte_I.shape\n",
    "\n",
    "Localidades_22_ZACATECAS_parte_I = fuzzy_merge_benef2019_2022(Localidades_22_ZACATECAS, INEGI_UNIQUELOC_2022_zacatecas, 'KEY_benef_loc', 'KEY_inegi_localidad')\n",
    "Localidades_22_ZACATECAS_parte_I.shape"
   ]
  },
  {
   "cell_type": "code",
   "execution_count": null,
   "metadata": {},
   "outputs": [
    {
     "data": {
      "text/plain": [
       "(12509, 31)"
      ]
     },
     "execution_count": 67,
     "metadata": {},
     "output_type": "execute_result"
    }
   ],
   "source": [
    "# Concatenate datasets vertically\n",
    "diccionario_LOC_22 = pd.concat([\n",
    "    Localidades_22_GUERRERO_parte_I,\n",
    "    Localidades_22_PUEBLA_parte_I,\n",
    "    Localidades_22_MORELOS_parte_I,\n",
    "    Localidades_22_TLAXCALA_parte_I,\n",
    "    Localidades_22_DURANGO_parte_I,\n",
    "    Localidades_22_OAXACA_parte_I,\n",
    "    Localidades_22_NAYARIT_parte_I,\n",
    "    Localidades_22_CHIAPAS_parte_I,\n",
    "    Localidades_22_ZACATECAS_parte_I\n",
    "], axis=0)\n",
    "\n",
    "# Check the shape of the concatenated DataFrame\n",
    "diccionario_LOC_22.shape"
   ]
  },
  {
   "cell_type": "code",
   "execution_count": null,
   "metadata": {},
   "outputs": [
    {
     "data": {
      "text/plain": [
       "Index(['BENEFICIARIO', 'ZONA', 'ENTIDAD', 'MUNICIPIO', 'LOCALIDAD', 'PRODUCTO',\n",
       "       'FECHA', 'MONTO FEDERAL', 'CICLO AGRÍCOLA', 'KEY_benef_mun',\n",
       "       'CVE_ENT_benef', 'Entidad_inegi_benef', 'CVE_MUN_benef',\n",
       "       'Municipio_inegi_benef', 'ENTIDAD_c_benef', 'MUNICIPIO_c_benef',\n",
       "       'LOCALIDAD_c_benef', 'KEY_benef_loc', 'best_match', 'match_score',\n",
       "       'CVE_ENT_inegi', 'Entidad_inegi_inegi', 'CVE_MUN_inegi',\n",
       "       'Municipio_inegi_inegi', 'CVE_LOC', 'Localidad_inegi', 'POB_TOTAL',\n",
       "       'Entidad_c_inegi', 'Municipio_c_inegi', 'Localidad_c_inegi',\n",
       "       'KEY_inegi_localidad'],\n",
       "      dtype='object')"
      ]
     },
     "execution_count": 68,
     "metadata": {},
     "output_type": "execute_result"
    }
   ],
   "source": [
    "diccionario_LOC_22.columns"
   ]
  },
  {
   "cell_type": "code",
   "execution_count": null,
   "metadata": {},
   "outputs": [],
   "source": [
    "diccionario_LOC_22.drop(columns=['BENEFICIARIO', 'ZONA', 'ENTIDAD', 'MUNICIPIO', 'LOCALIDAD', 'PRODUCTO',\n",
    "       'FECHA', 'MONTO FEDERAL', 'CICLO AGRÍCOLA', 'KEY_benef_mun',\n",
    "       'CVE_ENT_benef', 'Entidad_inegi_benef', 'CVE_MUN_benef',\n",
    "       'Municipio_inegi_benef', 'ENTIDAD_c_benef', 'MUNICIPIO_c_benef',\n",
    "       'LOCALIDAD_c_benef', 'best_match',\n",
    "       'CVE_ENT_inegi', 'Entidad_inegi_inegi', 'CVE_MUN_inegi',\n",
    "       'Municipio_inegi_inegi', 'CVE_LOC', 'Localidad_inegi', 'POB_TOTAL',\n",
    "       'Entidad_c_inegi', 'Municipio_c_inegi', 'Localidad_c_inegi',], inplace=True)"
   ]
  },
  {
   "cell_type": "code",
   "execution_count": null,
   "metadata": {},
   "outputs": [
    {
     "data": {
      "text/plain": [
       "Index(['KEY_benef_loc', 'match_score', 'KEY_inegi_localidad'], dtype='object')"
      ]
     },
     "execution_count": 70,
     "metadata": {},
     "output_type": "execute_result"
    }
   ],
   "source": [
    "diccionario_LOC_22.columns"
   ]
  },
  {
   "cell_type": "code",
   "execution_count": null,
   "metadata": {},
   "outputs": [],
   "source": [
    "diccionario_LOC_22.to_csv('../../data/productores_beneficiarios 2019-2022/diccionarios_E3/diccionario_LOC_22.csv', index=False)"
   ]
  },
  {
   "cell_type": "code",
   "execution_count": null,
   "metadata": {},
   "outputs": [
    {
     "data": {
      "text/plain": [
       "KEY_benef_loc          0\n",
       "match_score            0\n",
       "KEY_inegi_localidad    0\n",
       "dtype: int64"
      ]
     },
     "execution_count": 333,
     "metadata": {},
     "output_type": "execute_result"
    }
   ],
   "source": [
    "diccionario_LOC_22.isna().sum()"
   ]
  },
  {
   "cell_type": "markdown",
   "metadata": {},
   "source": [
    "# 4. Diccionarios de localidades y merge respectivos."
   ]
  },
  {
   "cell_type": "markdown",
   "metadata": {},
   "source": [
    "Empezamos leyendo el diccionario_LOC_22_simple, el cual solo tiene key_benef_mun y key_inegi_municipio manipulada."
   ]
  },
  {
   "cell_type": "code",
   "execution_count": null,
   "metadata": {},
   "outputs": [
    {
     "name": "stdout",
     "output_type": "stream",
     "text": [
      "                                    ï»¿KEY_benef_loc  match_score  \\\n",
      "0  pungarabato-seminario diocesano la anunciacion...           86   \n",
      "1               arcelia-colonia emperador cuauhtemoc           86   \n",
      "2  pungarabato-monasterio hermanas clsas. de mari...           86   \n",
      "3  arcelia-reforma de lazaro cardenas (el aterriz...           86   \n",
      "4                           arcelia-colonia progreso           86   \n",
      "\n",
      "                KEY_inegi_localidad  \n",
      "0     pungarabato-ciudad altamirano  \n",
      "1       juarez-emperador cuauhtemoc  \n",
      "2     pungarabato-ciudad altamirano  \n",
      "3                arcelia-la reforma  \n",
      "4  arcelia-el progreso (zapotitlan)  \n"
     ]
    }
   ],
   "source": [
    "import pandas as pd\n",
    "\n",
    "# Intentar leer el archivo CSV con diferentes configuraciones de lectura\n",
    "try:\n",
    "    diccionario_LOC_22_simple = pd.read_csv('../../data/productores_beneficiarios 2019-2022/diccionarios_E3/diccionario_LOC_22_simple.csv', encoding='cp1252', \n",
    "                          delimiter=';')\n",
    "    #diccionario_LOC_22_simple.drop(columns=['ValidaciÃ³n', 'Propuesta'], inplace=True)\n",
    "    print(diccionario_LOC_22_simple.head())\n",
    "except pd.errors.ParserError as e:\n",
    "    print(\"Error al leer el archivo CSV:\", e)\n",
    "\n",
    "\n"
   ]
  },
  {
   "cell_type": "code",
   "execution_count": null,
   "metadata": {},
   "outputs": [
    {
     "data": {
      "text/plain": [
       "Index(['ï»¿KEY_benef_loc', 'match_score', 'KEY_inegi_localidad'], dtype='object')"
      ]
     },
     "execution_count": 335,
     "metadata": {},
     "output_type": "execute_result"
    }
   ],
   "source": [
    "diccionario_LOC_22_simple.columns"
   ]
  },
  {
   "cell_type": "code",
   "execution_count": null,
   "metadata": {},
   "outputs": [],
   "source": [
    "diccionario_LOC_22_simple.rename(columns={'ï»¿KEY_benef_loc': 'KEY_benef_loc'}, inplace=True)"
   ]
  },
  {
   "cell_type": "code",
   "execution_count": null,
   "metadata": {},
   "outputs": [
    {
     "data": {
      "text/plain": [
       "Index(['KEY_benef_loc', 'match_score', 'KEY_inegi_localidad'], dtype='object')"
      ]
     },
     "execution_count": 337,
     "metadata": {},
     "output_type": "execute_result"
    }
   ],
   "source": [
    "diccionario_LOC_22_simple.columns"
   ]
  },
  {
   "cell_type": "code",
   "execution_count": null,
   "metadata": {},
   "outputs": [
    {
     "data": {
      "text/html": [
       "<div>\n",
       "<style scoped>\n",
       "    .dataframe tbody tr th:only-of-type {\n",
       "        vertical-align: middle;\n",
       "    }\n",
       "\n",
       "    .dataframe tbody tr th {\n",
       "        vertical-align: top;\n",
       "    }\n",
       "\n",
       "    .dataframe thead th {\n",
       "        text-align: right;\n",
       "    }\n",
       "</style>\n",
       "<table border=\"1\" class=\"dataframe\">\n",
       "  <thead>\n",
       "    <tr style=\"text-align: right;\">\n",
       "      <th></th>\n",
       "      <th>KEY_benef_loc</th>\n",
       "      <th>match_score</th>\n",
       "      <th>KEY_inegi_localidad</th>\n",
       "    </tr>\n",
       "  </thead>\n",
       "  <tbody>\n",
       "    <tr>\n",
       "      <th>0</th>\n",
       "      <td>pungarabato-seminario diocesano la anunciacion...</td>\n",
       "      <td>86</td>\n",
       "      <td>pungarabato-ciudad altamirano</td>\n",
       "    </tr>\n",
       "    <tr>\n",
       "      <th>1</th>\n",
       "      <td>arcelia-colonia emperador cuauhtemoc</td>\n",
       "      <td>86</td>\n",
       "      <td>juarez-emperador cuauhtemoc</td>\n",
       "    </tr>\n",
       "    <tr>\n",
       "      <th>2</th>\n",
       "      <td>pungarabato-monasterio hermanas clsas. de mari...</td>\n",
       "      <td>86</td>\n",
       "      <td>pungarabato-ciudad altamirano</td>\n",
       "    </tr>\n",
       "    <tr>\n",
       "      <th>3</th>\n",
       "      <td>arcelia-reforma de lazaro cardenas (el aterriz...</td>\n",
       "      <td>86</td>\n",
       "      <td>arcelia-la reforma</td>\n",
       "    </tr>\n",
       "    <tr>\n",
       "      <th>4</th>\n",
       "      <td>arcelia-colonia progreso</td>\n",
       "      <td>86</td>\n",
       "      <td>arcelia-el progreso (zapotitlan)</td>\n",
       "    </tr>\n",
       "    <tr>\n",
       "      <th>...</th>\n",
       "      <td>...</td>\n",
       "      <td>...</td>\n",
       "      <td>...</td>\n",
       "    </tr>\n",
       "    <tr>\n",
       "      <th>12506</th>\n",
       "      <td>pinos-las pollas</td>\n",
       "      <td>100</td>\n",
       "      <td>pinos-las pollas</td>\n",
       "    </tr>\n",
       "    <tr>\n",
       "      <th>12507</th>\n",
       "      <td>pinos-el mezquite</td>\n",
       "      <td>100</td>\n",
       "      <td>pinos-el mezquite</td>\n",
       "    </tr>\n",
       "    <tr>\n",
       "      <th>12508</th>\n",
       "      <td>villa gonzalez ortega-bajio de san nicolas (sa...</td>\n",
       "      <td>100</td>\n",
       "      <td>villa gonzalez ortega-bajio de san nicolas (sa...</td>\n",
       "    </tr>\n",
       "    <tr>\n",
       "      <th>12509</th>\n",
       "      <td>juan aldama-paradillas</td>\n",
       "      <td>100</td>\n",
       "      <td>juan aldama-paradillas</td>\n",
       "    </tr>\n",
       "    <tr>\n",
       "      <th>12510</th>\n",
       "      <td>pinos-la escondida (cerrito del calvario)</td>\n",
       "      <td>100</td>\n",
       "      <td>pinos-la escondida (cerrito del calvario)</td>\n",
       "    </tr>\n",
       "  </tbody>\n",
       "</table>\n",
       "<p>12511 rows × 3 columns</p>\n",
       "</div>"
      ],
      "text/plain": [
       "                                           KEY_benef_loc  match_score  \\\n",
       "0      pungarabato-seminario diocesano la anunciacion...           86   \n",
       "1                   arcelia-colonia emperador cuauhtemoc           86   \n",
       "2      pungarabato-monasterio hermanas clsas. de mari...           86   \n",
       "3      arcelia-reforma de lazaro cardenas (el aterriz...           86   \n",
       "4                               arcelia-colonia progreso           86   \n",
       "...                                                  ...          ...   \n",
       "12506                                   pinos-las pollas          100   \n",
       "12507                                  pinos-el mezquite          100   \n",
       "12508  villa gonzalez ortega-bajio de san nicolas (sa...          100   \n",
       "12509                             juan aldama-paradillas          100   \n",
       "12510          pinos-la escondida (cerrito del calvario)          100   \n",
       "\n",
       "                                     KEY_inegi_localidad  \n",
       "0                          pungarabato-ciudad altamirano  \n",
       "1                            juarez-emperador cuauhtemoc  \n",
       "2                          pungarabato-ciudad altamirano  \n",
       "3                                     arcelia-la reforma  \n",
       "4                       arcelia-el progreso (zapotitlan)  \n",
       "...                                                  ...  \n",
       "12506                                   pinos-las pollas  \n",
       "12507                                  pinos-el mezquite  \n",
       "12508  villa gonzalez ortega-bajio de san nicolas (sa...  \n",
       "12509                             juan aldama-paradillas  \n",
       "12510          pinos-la escondida (cerrito del calvario)  \n",
       "\n",
       "[12511 rows x 3 columns]"
      ]
     },
     "execution_count": 338,
     "metadata": {},
     "output_type": "execute_result"
    }
   ],
   "source": [
    "diccionario_LOC_22_simple"
   ]
  },
  {
   "cell_type": "code",
   "execution_count": null,
   "metadata": {},
   "outputs": [],
   "source": [
    "listado_beneficiarios_parte_II['MUNICIPIO_Clean'] = listado_beneficiarios_parte_II['MUNICIPIO'].apply(clean_text)\n",
    "listado_beneficiarios_parte_II['LOCALIDAD_Clean'] = listado_beneficiarios_parte_II['LOCALIDAD'].apply(clean_text)\n",
    "\n",
    "# Create KEY in listado beneficiarios\n",
    "listado_beneficiarios_parte_II['Municipio-loc-KEY'] = listado_beneficiarios_parte_II['MUNICIPIO_Clean'].astype(str) + '-' + listado_beneficiarios_parte_II[\n",
    "    'LOCALIDAD_Clean'].astype(str)"
   ]
  },
  {
   "cell_type": "markdown",
   "metadata": {},
   "source": [
    "Primer merge entre listado_beneficiarios_parte_II, y diccionario_LOC_22_simple. En este merge cogemos el dataset con los municipios corregidos previamente y ejecutamos el merge de manera que nos traemos las key_inegi_localidad corregidas."
   ]
  },
  {
   "cell_type": "code",
   "execution_count": null,
   "metadata": {},
   "outputs": [
    {
     "data": {
      "text/plain": [
       "(826382, 17)"
      ]
     },
     "execution_count": 340,
     "metadata": {},
     "output_type": "execute_result"
    }
   ],
   "source": [
    "listado_beneficiarios_parte_II.shape"
   ]
  },
  {
   "cell_type": "code",
   "execution_count": null,
   "metadata": {},
   "outputs": [],
   "source": [
    "# Hacer el join de la Parte I\n",
    "listado_beneficiarios_parte_I_localidades = pd.merge(listado_beneficiarios_parte_II, diccionario_LOC_22_simple, left_on=\"Municipio-loc-KEY\",\n",
    "                                         right_on=\"KEY_benef_loc\", how='left', suffixes=('_benef', '_inegi'))"
   ]
  },
  {
   "cell_type": "code",
   "execution_count": null,
   "metadata": {},
   "outputs": [],
   "source": [
    "# Marcar todos los duplicados en las columnas 'columna1' y 'columna2' como True\n",
    "duplicados = listado_beneficiarios_parte_I_localidades.duplicated(subset=['FECHA', 'BENEFICIARIO'], keep=False)\n",
    "\n",
    "# Filtrar el DataFrame original para mostrar solo los duplicados\n",
    "df_duplicados = listado_beneficiarios_parte_I_localidades[duplicados]"
   ]
  },
  {
   "cell_type": "code",
   "execution_count": null,
   "metadata": {},
   "outputs": [
    {
     "data": {
      "text/plain": [
       "(826444, 20)"
      ]
     },
     "execution_count": 343,
     "metadata": {},
     "output_type": "execute_result"
    }
   ],
   "source": [
    "listado_beneficiarios_parte_I_localidades.shape"
   ]
  },
  {
   "cell_type": "code",
   "execution_count": null,
   "metadata": {},
   "outputs": [
    {
     "data": {
      "text/html": [
       "<div>\n",
       "<style scoped>\n",
       "    .dataframe tbody tr th:only-of-type {\n",
       "        vertical-align: middle;\n",
       "    }\n",
       "\n",
       "    .dataframe tbody tr th {\n",
       "        vertical-align: top;\n",
       "    }\n",
       "\n",
       "    .dataframe thead th {\n",
       "        text-align: right;\n",
       "    }\n",
       "</style>\n",
       "<table border=\"1\" class=\"dataframe\">\n",
       "  <thead>\n",
       "    <tr style=\"text-align: right;\">\n",
       "      <th></th>\n",
       "      <th>BENEFICIARIO</th>\n",
       "      <th>ZONA</th>\n",
       "      <th>ENTIDAD</th>\n",
       "      <th>MUNICIPIO</th>\n",
       "      <th>LOCALIDAD</th>\n",
       "      <th>PRODUCTO</th>\n",
       "      <th>FECHA</th>\n",
       "      <th>MONTO FEDERAL</th>\n",
       "      <th>CICLO AGRÍCOLA</th>\n",
       "      <th>KEY_benef_mun</th>\n",
       "      <th>CVE_ENT</th>\n",
       "      <th>Entidad_inegi</th>\n",
       "      <th>CVE_MUN</th>\n",
       "      <th>Municipio_inegi</th>\n",
       "      <th>MUNICIPIO_Clean</th>\n",
       "      <th>LOCALIDAD_Clean</th>\n",
       "      <th>Municipio-loc-KEY</th>\n",
       "      <th>KEY_benef_loc</th>\n",
       "      <th>match_score</th>\n",
       "      <th>KEY_inegi_localidad</th>\n",
       "    </tr>\n",
       "  </thead>\n",
       "  <tbody>\n",
       "    <tr>\n",
       "      <th>611</th>\n",
       "      <td>ABARCA HERNANDEZ ELENA</td>\n",
       "      <td>CENTRO PAÍS</td>\n",
       "      <td>GUERRERO</td>\n",
       "      <td>CHILAPA DE ÁLVAREZ</td>\n",
       "      <td>ZELOCOTITLÁN</td>\n",
       "      <td>Cultivo de maíz grano blanco</td>\n",
       "      <td>2022-05-13</td>\n",
       "      <td>6122.09</td>\n",
       "      <td>PV2022</td>\n",
       "      <td>guerrero-chilapa de alvarez</td>\n",
       "      <td>12.0</td>\n",
       "      <td>Guerrero</td>\n",
       "      <td>28.0</td>\n",
       "      <td>Chilapa de Álvarez</td>\n",
       "      <td>chilapa de alvarez</td>\n",
       "      <td>zelocotitlan</td>\n",
       "      <td>chilapa de alvarez-zelocotitlan</td>\n",
       "      <td>chilapa de alvarez-zelocotitlan</td>\n",
       "      <td>100</td>\n",
       "      <td>chilapa de alvarez-zelocotitlan</td>\n",
       "    </tr>\n",
       "    <tr>\n",
       "      <th>612</th>\n",
       "      <td>ABARCA HERNANDEZ ELENA</td>\n",
       "      <td>CENTRO PAÍS</td>\n",
       "      <td>GUERRERO</td>\n",
       "      <td>CHILAPA DE ÁLVAREZ</td>\n",
       "      <td>ZELOCOTITLÁN</td>\n",
       "      <td>Cultivo de maíz grano blanco</td>\n",
       "      <td>2022-05-13</td>\n",
       "      <td>6122.09</td>\n",
       "      <td>PV2022</td>\n",
       "      <td>guerrero-chilapa de alvarez</td>\n",
       "      <td>12.0</td>\n",
       "      <td>Guerrero</td>\n",
       "      <td>28.0</td>\n",
       "      <td>Chilapa de Álvarez</td>\n",
       "      <td>chilapa de alvarez</td>\n",
       "      <td>zelocotitlan</td>\n",
       "      <td>chilapa de alvarez-zelocotitlan</td>\n",
       "      <td>chilapa de alvarez-zelocotitlan</td>\n",
       "      <td>100</td>\n",
       "      <td>chilapa de alvarez-zelocotitlan</td>\n",
       "    </tr>\n",
       "    <tr>\n",
       "      <th>1485</th>\n",
       "      <td>ABONZA CHAVEZ JUAN</td>\n",
       "      <td>CENTRO PAÍS</td>\n",
       "      <td>GUERRERO</td>\n",
       "      <td>CUTZAMALA DE PINZÓN</td>\n",
       "      <td>NUEVO GALEANA</td>\n",
       "      <td>Cultivo de maíz grano blanco</td>\n",
       "      <td>2022-06-06</td>\n",
       "      <td>12244.18</td>\n",
       "      <td>PV2022</td>\n",
       "      <td>guerrero-cutzamala de pinzon</td>\n",
       "      <td>12.0</td>\n",
       "      <td>Guerrero</td>\n",
       "      <td>27.0</td>\n",
       "      <td>Cutzamala de Pinzón</td>\n",
       "      <td>cutzamala de pinzon</td>\n",
       "      <td>nuevo galeana</td>\n",
       "      <td>cutzamala de pinzon-nuevo galeana</td>\n",
       "      <td>cutzamala de pinzon-nuevo galeana</td>\n",
       "      <td>100</td>\n",
       "      <td>cutzamala de pinzon-nuevo galeana</td>\n",
       "    </tr>\n",
       "    <tr>\n",
       "      <th>1486</th>\n",
       "      <td>ABONZA CHAVEZ JUAN</td>\n",
       "      <td>CENTRO PAÍS</td>\n",
       "      <td>GUERRERO</td>\n",
       "      <td>CUTZAMALA DE PINZÓN</td>\n",
       "      <td>NUEVO GALEANA</td>\n",
       "      <td>Cultivo de maíz grano blanco</td>\n",
       "      <td>2022-06-06</td>\n",
       "      <td>6122.09</td>\n",
       "      <td>PV2022</td>\n",
       "      <td>guerrero-cutzamala de pinzon</td>\n",
       "      <td>12.0</td>\n",
       "      <td>Guerrero</td>\n",
       "      <td>27.0</td>\n",
       "      <td>Cutzamala de Pinzón</td>\n",
       "      <td>cutzamala de pinzon</td>\n",
       "      <td>nuevo galeana</td>\n",
       "      <td>cutzamala de pinzon-nuevo galeana</td>\n",
       "      <td>cutzamala de pinzon-nuevo galeana</td>\n",
       "      <td>100</td>\n",
       "      <td>cutzamala de pinzon-nuevo galeana</td>\n",
       "    </tr>\n",
       "    <tr>\n",
       "      <th>4898</th>\n",
       "      <td>AGUILAR AGUILAR MIGUEL</td>\n",
       "      <td>SUR SURESTE</td>\n",
       "      <td>CHIAPAS</td>\n",
       "      <td>COMITÁN DE DOMÍNGUEZ</td>\n",
       "      <td>COMITÁN DE DOMÍNGUEZ</td>\n",
       "      <td>Cultivo de maíz grano blanco</td>\n",
       "      <td>2022-08-15</td>\n",
       "      <td>7491.34</td>\n",
       "      <td>PV2022</td>\n",
       "      <td>chiapas-comitan de dominguez</td>\n",
       "      <td>7.0</td>\n",
       "      <td>Chiapas</td>\n",
       "      <td>19.0</td>\n",
       "      <td>Comitán de Domínguez</td>\n",
       "      <td>comitan de dominguez</td>\n",
       "      <td>comitan de dominguez</td>\n",
       "      <td>comitan de dominguez-comitan de dominguez</td>\n",
       "      <td>comitan de dominguez-comitan de dominguez</td>\n",
       "      <td>100</td>\n",
       "      <td>comitan de dominguez-comitan de dominguez</td>\n",
       "    </tr>\n",
       "    <tr>\n",
       "      <th>...</th>\n",
       "      <td>...</td>\n",
       "      <td>...</td>\n",
       "      <td>...</td>\n",
       "      <td>...</td>\n",
       "      <td>...</td>\n",
       "      <td>...</td>\n",
       "      <td>...</td>\n",
       "      <td>...</td>\n",
       "      <td>...</td>\n",
       "      <td>...</td>\n",
       "      <td>...</td>\n",
       "      <td>...</td>\n",
       "      <td>...</td>\n",
       "      <td>...</td>\n",
       "      <td>...</td>\n",
       "      <td>...</td>\n",
       "      <td>...</td>\n",
       "      <td>...</td>\n",
       "      <td>...</td>\n",
       "      <td>...</td>\n",
       "    </tr>\n",
       "    <tr>\n",
       "      <th>824572</th>\n",
       "      <td>ZEFERINO VAZQUEZ GUADALUPE</td>\n",
       "      <td>CENTRO PAÍS</td>\n",
       "      <td>GUERRERO</td>\n",
       "      <td>OLINALÁ</td>\n",
       "      <td>TEMALACATZINGO</td>\n",
       "      <td>Cultivo de frijol grano</td>\n",
       "      <td>2022-06-05</td>\n",
       "      <td>12244.18</td>\n",
       "      <td>PV2022</td>\n",
       "      <td>guerrero-olinala</td>\n",
       "      <td>12.0</td>\n",
       "      <td>Guerrero</td>\n",
       "      <td>45.0</td>\n",
       "      <td>Olinalá</td>\n",
       "      <td>olinala</td>\n",
       "      <td>temalacatzingo</td>\n",
       "      <td>olinala-temalacatzingo</td>\n",
       "      <td>olinala-temalacatzingo</td>\n",
       "      <td>100</td>\n",
       "      <td>olinala-temalacatzingo</td>\n",
       "    </tr>\n",
       "    <tr>\n",
       "      <th>824916</th>\n",
       "      <td>ZEPEDA GOMEZ JUANA</td>\n",
       "      <td>SUR SURESTE</td>\n",
       "      <td>CHIAPAS</td>\n",
       "      <td>AMATENANGO DEL VALLE</td>\n",
       "      <td>AMATENANGO DEL VALLE</td>\n",
       "      <td>Cultivo de maíz grano blanco</td>\n",
       "      <td>2022-09-29</td>\n",
       "      <td>7491.34</td>\n",
       "      <td>PV2022</td>\n",
       "      <td>chiapas-amatenango del valle</td>\n",
       "      <td>7.0</td>\n",
       "      <td>Chiapas</td>\n",
       "      <td>7.0</td>\n",
       "      <td>Amatenango del Valle</td>\n",
       "      <td>amatenango del valle</td>\n",
       "      <td>amatenango del valle</td>\n",
       "      <td>amatenango del valle-amatenango del valle</td>\n",
       "      <td>amatenango del valle-amatenango del valle</td>\n",
       "      <td>100</td>\n",
       "      <td>amatenango del valle-amatenango del valle</td>\n",
       "    </tr>\n",
       "    <tr>\n",
       "      <th>824917</th>\n",
       "      <td>ZEPEDA GOMEZ JUANA</td>\n",
       "      <td>SUR SURESTE</td>\n",
       "      <td>CHIAPAS</td>\n",
       "      <td>AMATENANGO DEL VALLE</td>\n",
       "      <td>AMATENANGO DEL VALLE</td>\n",
       "      <td>Cultivo de maíz grano blanco</td>\n",
       "      <td>2022-09-29</td>\n",
       "      <td>7491.34</td>\n",
       "      <td>PV2022</td>\n",
       "      <td>chiapas-amatenango del valle</td>\n",
       "      <td>7.0</td>\n",
       "      <td>Chiapas</td>\n",
       "      <td>7.0</td>\n",
       "      <td>Amatenango del Valle</td>\n",
       "      <td>amatenango del valle</td>\n",
       "      <td>amatenango del valle</td>\n",
       "      <td>amatenango del valle-amatenango del valle</td>\n",
       "      <td>amatenango del valle-amatenango del valle</td>\n",
       "      <td>100</td>\n",
       "      <td>amatenango del valle-amatenango del valle</td>\n",
       "    </tr>\n",
       "    <tr>\n",
       "      <th>824925</th>\n",
       "      <td>ZEPEDA GOMEZ PETRONA</td>\n",
       "      <td>SUR SURESTE</td>\n",
       "      <td>CHIAPAS</td>\n",
       "      <td>AMATENANGO DEL VALLE</td>\n",
       "      <td>AMATENANGO DEL VALLE</td>\n",
       "      <td>Cultivo de maíz grano blanco</td>\n",
       "      <td>2022-09-29</td>\n",
       "      <td>7491.34</td>\n",
       "      <td>PV2022</td>\n",
       "      <td>chiapas-amatenango del valle</td>\n",
       "      <td>7.0</td>\n",
       "      <td>Chiapas</td>\n",
       "      <td>7.0</td>\n",
       "      <td>Amatenango del Valle</td>\n",
       "      <td>amatenango del valle</td>\n",
       "      <td>amatenango del valle</td>\n",
       "      <td>amatenango del valle-amatenango del valle</td>\n",
       "      <td>amatenango del valle-amatenango del valle</td>\n",
       "      <td>100</td>\n",
       "      <td>amatenango del valle-amatenango del valle</td>\n",
       "    </tr>\n",
       "    <tr>\n",
       "      <th>824926</th>\n",
       "      <td>ZEPEDA GOMEZ PETRONA</td>\n",
       "      <td>SUR SURESTE</td>\n",
       "      <td>CHIAPAS</td>\n",
       "      <td>AMATENANGO DEL VALLE</td>\n",
       "      <td>AMATENANGO DEL VALLE</td>\n",
       "      <td>Cultivo de maíz grano blanco</td>\n",
       "      <td>2022-09-29</td>\n",
       "      <td>7491.34</td>\n",
       "      <td>PV2022</td>\n",
       "      <td>chiapas-amatenango del valle</td>\n",
       "      <td>7.0</td>\n",
       "      <td>Chiapas</td>\n",
       "      <td>7.0</td>\n",
       "      <td>Amatenango del Valle</td>\n",
       "      <td>amatenango del valle</td>\n",
       "      <td>amatenango del valle</td>\n",
       "      <td>amatenango del valle-amatenango del valle</td>\n",
       "      <td>amatenango del valle-amatenango del valle</td>\n",
       "      <td>100</td>\n",
       "      <td>amatenango del valle-amatenango del valle</td>\n",
       "    </tr>\n",
       "  </tbody>\n",
       "</table>\n",
       "<p>22273 rows × 20 columns</p>\n",
       "</div>"
      ],
      "text/plain": [
       "                       BENEFICIARIO         ZONA   ENTIDAD  \\\n",
       "611         ABARCA HERNANDEZ ELENA   CENTRO PAÍS  GUERRERO   \n",
       "612         ABARCA HERNANDEZ ELENA   CENTRO PAÍS  GUERRERO   \n",
       "1485            ABONZA CHAVEZ JUAN   CENTRO PAÍS  GUERRERO   \n",
       "1486            ABONZA CHAVEZ JUAN   CENTRO PAÍS  GUERRERO   \n",
       "4898        AGUILAR AGUILAR MIGUEL   SUR SURESTE   CHIAPAS   \n",
       "...                             ...          ...       ...   \n",
       "824572  ZEFERINO VAZQUEZ GUADALUPE   CENTRO PAÍS  GUERRERO   \n",
       "824916          ZEPEDA GOMEZ JUANA   SUR SURESTE   CHIAPAS   \n",
       "824917          ZEPEDA GOMEZ JUANA   SUR SURESTE   CHIAPAS   \n",
       "824925        ZEPEDA GOMEZ PETRONA   SUR SURESTE   CHIAPAS   \n",
       "824926        ZEPEDA GOMEZ PETRONA   SUR SURESTE   CHIAPAS   \n",
       "\n",
       "                   MUNICIPIO             LOCALIDAD  \\\n",
       "611       CHILAPA DE ÁLVAREZ          ZELOCOTITLÁN   \n",
       "612       CHILAPA DE ÁLVAREZ          ZELOCOTITLÁN   \n",
       "1485     CUTZAMALA DE PINZÓN         NUEVO GALEANA   \n",
       "1486     CUTZAMALA DE PINZÓN         NUEVO GALEANA   \n",
       "4898    COMITÁN DE DOMÍNGUEZ  COMITÁN DE DOMÍNGUEZ   \n",
       "...                      ...                   ...   \n",
       "824572               OLINALÁ        TEMALACATZINGO   \n",
       "824916  AMATENANGO DEL VALLE  AMATENANGO DEL VALLE   \n",
       "824917  AMATENANGO DEL VALLE  AMATENANGO DEL VALLE   \n",
       "824925  AMATENANGO DEL VALLE  AMATENANGO DEL VALLE   \n",
       "824926  AMATENANGO DEL VALLE  AMATENANGO DEL VALLE   \n",
       "\n",
       "                            PRODUCTO       FECHA  MONTO FEDERAL  \\\n",
       "611     Cultivo de maíz grano blanco  2022-05-13        6122.09   \n",
       "612     Cultivo de maíz grano blanco  2022-05-13        6122.09   \n",
       "1485    Cultivo de maíz grano blanco  2022-06-06       12244.18   \n",
       "1486    Cultivo de maíz grano blanco  2022-06-06        6122.09   \n",
       "4898    Cultivo de maíz grano blanco  2022-08-15        7491.34   \n",
       "...                              ...         ...            ...   \n",
       "824572       Cultivo de frijol grano  2022-06-05       12244.18   \n",
       "824916  Cultivo de maíz grano blanco  2022-09-29        7491.34   \n",
       "824917  Cultivo de maíz grano blanco  2022-09-29        7491.34   \n",
       "824925  Cultivo de maíz grano blanco  2022-09-29        7491.34   \n",
       "824926  Cultivo de maíz grano blanco  2022-09-29        7491.34   \n",
       "\n",
       "       CICLO AGRÍCOLA                 KEY_benef_mun  CVE_ENT Entidad_inegi  \\\n",
       "611            PV2022   guerrero-chilapa de alvarez     12.0      Guerrero   \n",
       "612            PV2022   guerrero-chilapa de alvarez     12.0      Guerrero   \n",
       "1485           PV2022  guerrero-cutzamala de pinzon     12.0      Guerrero   \n",
       "1486           PV2022  guerrero-cutzamala de pinzon     12.0      Guerrero   \n",
       "4898           PV2022  chiapas-comitan de dominguez      7.0       Chiapas   \n",
       "...               ...                           ...      ...           ...   \n",
       "824572         PV2022              guerrero-olinala     12.0      Guerrero   \n",
       "824916         PV2022  chiapas-amatenango del valle      7.0       Chiapas   \n",
       "824917         PV2022  chiapas-amatenango del valle      7.0       Chiapas   \n",
       "824925         PV2022  chiapas-amatenango del valle      7.0       Chiapas   \n",
       "824926         PV2022  chiapas-amatenango del valle      7.0       Chiapas   \n",
       "\n",
       "        CVE_MUN       Municipio_inegi       MUNICIPIO_Clean  \\\n",
       "611        28.0    Chilapa de Álvarez    chilapa de alvarez   \n",
       "612        28.0    Chilapa de Álvarez    chilapa de alvarez   \n",
       "1485       27.0   Cutzamala de Pinzón   cutzamala de pinzon   \n",
       "1486       27.0   Cutzamala de Pinzón   cutzamala de pinzon   \n",
       "4898       19.0  Comitán de Domínguez  comitan de dominguez   \n",
       "...         ...                   ...                   ...   \n",
       "824572     45.0               Olinalá               olinala   \n",
       "824916      7.0  Amatenango del Valle  amatenango del valle   \n",
       "824917      7.0  Amatenango del Valle  amatenango del valle   \n",
       "824925      7.0  Amatenango del Valle  amatenango del valle   \n",
       "824926      7.0  Amatenango del Valle  amatenango del valle   \n",
       "\n",
       "             LOCALIDAD_Clean                          Municipio-loc-KEY  \\\n",
       "611             zelocotitlan            chilapa de alvarez-zelocotitlan   \n",
       "612             zelocotitlan            chilapa de alvarez-zelocotitlan   \n",
       "1485           nuevo galeana          cutzamala de pinzon-nuevo galeana   \n",
       "1486           nuevo galeana          cutzamala de pinzon-nuevo galeana   \n",
       "4898    comitan de dominguez  comitan de dominguez-comitan de dominguez   \n",
       "...                      ...                                        ...   \n",
       "824572        temalacatzingo                     olinala-temalacatzingo   \n",
       "824916  amatenango del valle  amatenango del valle-amatenango del valle   \n",
       "824917  amatenango del valle  amatenango del valle-amatenango del valle   \n",
       "824925  amatenango del valle  amatenango del valle-amatenango del valle   \n",
       "824926  amatenango del valle  amatenango del valle-amatenango del valle   \n",
       "\n",
       "                                    KEY_benef_loc  match_score  \\\n",
       "611               chilapa de alvarez-zelocotitlan          100   \n",
       "612               chilapa de alvarez-zelocotitlan          100   \n",
       "1485            cutzamala de pinzon-nuevo galeana          100   \n",
       "1486            cutzamala de pinzon-nuevo galeana          100   \n",
       "4898    comitan de dominguez-comitan de dominguez          100   \n",
       "...                                           ...          ...   \n",
       "824572                     olinala-temalacatzingo          100   \n",
       "824916  amatenango del valle-amatenango del valle          100   \n",
       "824917  amatenango del valle-amatenango del valle          100   \n",
       "824925  amatenango del valle-amatenango del valle          100   \n",
       "824926  amatenango del valle-amatenango del valle          100   \n",
       "\n",
       "                              KEY_inegi_localidad  \n",
       "611               chilapa de alvarez-zelocotitlan  \n",
       "612               chilapa de alvarez-zelocotitlan  \n",
       "1485            cutzamala de pinzon-nuevo galeana  \n",
       "1486            cutzamala de pinzon-nuevo galeana  \n",
       "4898    comitan de dominguez-comitan de dominguez  \n",
       "...                                           ...  \n",
       "824572                     olinala-temalacatzingo  \n",
       "824916  amatenango del valle-amatenango del valle  \n",
       "824917  amatenango del valle-amatenango del valle  \n",
       "824925  amatenango del valle-amatenango del valle  \n",
       "824926  amatenango del valle-amatenango del valle  \n",
       "\n",
       "[22273 rows x 20 columns]"
      ]
     },
     "execution_count": 344,
     "metadata": {},
     "output_type": "execute_result"
    }
   ],
   "source": [
    "df_duplicados"
   ]
  },
  {
   "cell_type": "code",
   "execution_count": null,
   "metadata": {},
   "outputs": [],
   "source": [
    "listado_beneficiarios_parte_I_localidades = listado_beneficiarios_parte_I_localidades.drop_duplicates()"
   ]
  },
  {
   "cell_type": "code",
   "execution_count": null,
   "metadata": {},
   "outputs": [
    {
     "data": {
      "text/plain": [
       "(818522, 20)"
      ]
     },
     "execution_count": 346,
     "metadata": {},
     "output_type": "execute_result"
    }
   ],
   "source": [
    "listado_beneficiarios_parte_I_localidades.shape"
   ]
  },
  {
   "cell_type": "code",
   "execution_count": null,
   "metadata": {},
   "outputs": [
    {
     "data": {
      "text/plain": [
       "Index(['CVE_ENT', 'Entidad_inegi', 'CVE_MUN', 'Municipio_inegi', 'CVE_LOC',\n",
       "       'Localidad_inegi', 'POB_TOTAL', 'Entidad_c_inegi', 'Municipio_c_inegi',\n",
       "       'Localidad_c_inegi', 'KEY_inegi_municipio', 'KEY_inegi_localidad'],\n",
       "      dtype='object')"
      ]
     },
     "execution_count": 347,
     "metadata": {},
     "output_type": "execute_result"
    }
   ],
   "source": [
    "dataset_inegi_2022.columns"
   ]
  },
  {
   "cell_type": "code",
   "execution_count": null,
   "metadata": {},
   "outputs": [],
   "source": [
    "INEGI_UNIQUELOC_2022 = dataset_inegi_2022.drop(columns=['Entidad_c_inegi', 'Municipio_c_inegi',\n",
    "       'Localidad_c_inegi', 'POB_TOTAL'])\n",
    "INEGI_UNIQUELOC_2022 = INEGI_UNIQUELOC_2022.drop_duplicates(subset='KEY_inegi_localidad', keep='first')"
   ]
  },
  {
   "cell_type": "code",
   "execution_count": null,
   "metadata": {},
   "outputs": [
    {
     "data": {
      "text/plain": [
       "(272086, 8)"
      ]
     },
     "execution_count": 349,
     "metadata": {},
     "output_type": "execute_result"
    }
   ],
   "source": [
    "INEGI_UNIQUELOC_2022.shape"
   ]
  },
  {
   "cell_type": "code",
   "execution_count": null,
   "metadata": {},
   "outputs": [
    {
     "data": {
      "text/plain": [
       "Index(['BENEFICIARIO', 'ZONA', 'ENTIDAD', 'MUNICIPIO', 'LOCALIDAD', 'PRODUCTO',\n",
       "       'FECHA', 'MONTO FEDERAL', 'CICLO AGRÍCOLA', 'KEY_benef_mun', 'CVE_ENT',\n",
       "       'Entidad_inegi', 'CVE_MUN', 'Municipio_inegi', 'MUNICIPIO_Clean',\n",
       "       'LOCALIDAD_Clean', 'Municipio-loc-KEY', 'KEY_benef_loc', 'match_score',\n",
       "       'KEY_inegi_localidad'],\n",
       "      dtype='object')"
      ]
     },
     "execution_count": 350,
     "metadata": {},
     "output_type": "execute_result"
    }
   ],
   "source": [
    "listado_beneficiarios_parte_I_localidades.columns"
   ]
  },
  {
   "cell_type": "code",
   "execution_count": null,
   "metadata": {},
   "outputs": [
    {
     "data": {
      "text/plain": [
       "BENEFICIARIO             0\n",
       "ZONA                     0\n",
       "ENTIDAD                  0\n",
       "MUNICIPIO                0\n",
       "LOCALIDAD                0\n",
       "PRODUCTO                 0\n",
       "FECHA                    0\n",
       "MONTO FEDERAL            0\n",
       "CICLO AGRÍCOLA           0\n",
       "KEY_benef_mun          198\n",
       "CVE_ENT                198\n",
       "Entidad_inegi          198\n",
       "CVE_MUN                198\n",
       "Municipio_inegi        198\n",
       "MUNICIPIO_Clean          0\n",
       "LOCALIDAD_Clean          0\n",
       "Municipio-loc-KEY        0\n",
       "KEY_benef_loc            0\n",
       "match_score              0\n",
       "KEY_inegi_localidad      0\n",
       "dtype: int64"
      ]
     },
     "execution_count": 351,
     "metadata": {},
     "output_type": "execute_result"
    }
   ],
   "source": [
    "listado_beneficiarios_parte_I_localidades.isna().sum()"
   ]
  },
  {
   "cell_type": "code",
   "execution_count": null,
   "metadata": {},
   "outputs": [],
   "source": [
    "# Assuming listado_beneficiarios_parte_II is your DataFrame\n",
    "rows_with_nan = listado_beneficiarios_parte_I_localidades[listado_beneficiarios_parte_I_localidades.isna().any(axis=1)]\n",
    "\n",
    "# rows_with_nan now contains only the rows with NaN values in any column"
   ]
  },
  {
   "cell_type": "code",
   "execution_count": null,
   "metadata": {},
   "outputs": [
    {
     "data": {
      "text/html": [
       "<div>\n",
       "<style scoped>\n",
       "    .dataframe tbody tr th:only-of-type {\n",
       "        vertical-align: middle;\n",
       "    }\n",
       "\n",
       "    .dataframe tbody tr th {\n",
       "        vertical-align: top;\n",
       "    }\n",
       "\n",
       "    .dataframe thead th {\n",
       "        text-align: right;\n",
       "    }\n",
       "</style>\n",
       "<table border=\"1\" class=\"dataframe\">\n",
       "  <thead>\n",
       "    <tr style=\"text-align: right;\">\n",
       "      <th></th>\n",
       "      <th>BENEFICIARIO</th>\n",
       "      <th>ZONA</th>\n",
       "      <th>ENTIDAD</th>\n",
       "      <th>MUNICIPIO</th>\n",
       "      <th>LOCALIDAD</th>\n",
       "      <th>PRODUCTO</th>\n",
       "      <th>FECHA</th>\n",
       "      <th>MONTO FEDERAL</th>\n",
       "      <th>CICLO AGRÍCOLA</th>\n",
       "      <th>KEY_benef_mun</th>\n",
       "      <th>CVE_ENT</th>\n",
       "      <th>Entidad_inegi</th>\n",
       "      <th>CVE_MUN</th>\n",
       "      <th>Municipio_inegi</th>\n",
       "      <th>MUNICIPIO_Clean</th>\n",
       "      <th>LOCALIDAD_Clean</th>\n",
       "      <th>Municipio-loc-KEY</th>\n",
       "      <th>KEY_benef_loc</th>\n",
       "      <th>match_score</th>\n",
       "      <th>KEY_inegi_localidad</th>\n",
       "    </tr>\n",
       "  </thead>\n",
       "  <tbody>\n",
       "    <tr>\n",
       "      <th>59305</th>\n",
       "      <td>BARRIOS ROBLERO ESTEBAN</td>\n",
       "      <td>SUR SURESTE</td>\n",
       "      <td>CHIAPAS</td>\n",
       "      <td>BELISARIO DOMINGUEZ</td>\n",
       "      <td>FLOR DE CHIAPAS</td>\n",
       "      <td>Cultivo de maíz grano blanco</td>\n",
       "      <td>2022-09-05</td>\n",
       "      <td>7491.34</td>\n",
       "      <td>PV2022</td>\n",
       "      <td>NaN</td>\n",
       "      <td>NaN</td>\n",
       "      <td>NaN</td>\n",
       "      <td>NaN</td>\n",
       "      <td>NaN</td>\n",
       "      <td>belisario dominguez</td>\n",
       "      <td>flor de chiapas</td>\n",
       "      <td>belisario dominguez-flor de chiapas</td>\n",
       "      <td>belisario dominguez-flor de chiapas</td>\n",
       "      <td>86</td>\n",
       "      <td>dr. belisario dominguez-tutuaca (santa barbara...</td>\n",
       "    </tr>\n",
       "    <tr>\n",
       "      <th>76585</th>\n",
       "      <td>BRAVO PEREZ GUALTERIO DIONICIO</td>\n",
       "      <td>SUR SURESTE</td>\n",
       "      <td>CHIAPAS</td>\n",
       "      <td>BELISARIO DOMINGUEZ</td>\n",
       "      <td>FLOR DE CHIAPAS</td>\n",
       "      <td>Cultivo de maíz grano blanco</td>\n",
       "      <td>2022-09-05</td>\n",
       "      <td>7491.34</td>\n",
       "      <td>PV2022</td>\n",
       "      <td>NaN</td>\n",
       "      <td>NaN</td>\n",
       "      <td>NaN</td>\n",
       "      <td>NaN</td>\n",
       "      <td>NaN</td>\n",
       "      <td>belisario dominguez</td>\n",
       "      <td>flor de chiapas</td>\n",
       "      <td>belisario dominguez-flor de chiapas</td>\n",
       "      <td>belisario dominguez-flor de chiapas</td>\n",
       "      <td>86</td>\n",
       "      <td>dr. belisario dominguez-tutuaca (santa barbara...</td>\n",
       "    </tr>\n",
       "    <tr>\n",
       "      <th>133679</th>\n",
       "      <td>CRUS ROBLERO CANDIDO</td>\n",
       "      <td>SUR SURESTE</td>\n",
       "      <td>CHIAPAS</td>\n",
       "      <td>BELISARIO DOMINGUEZ</td>\n",
       "      <td>FLOR DE CHIAPAS</td>\n",
       "      <td>Cultivo de maíz grano blanco</td>\n",
       "      <td>2022-09-10</td>\n",
       "      <td>7491.34</td>\n",
       "      <td>PV2022</td>\n",
       "      <td>NaN</td>\n",
       "      <td>NaN</td>\n",
       "      <td>NaN</td>\n",
       "      <td>NaN</td>\n",
       "      <td>NaN</td>\n",
       "      <td>belisario dominguez</td>\n",
       "      <td>flor de chiapas</td>\n",
       "      <td>belisario dominguez-flor de chiapas</td>\n",
       "      <td>belisario dominguez-flor de chiapas</td>\n",
       "      <td>86</td>\n",
       "      <td>dr. belisario dominguez-tutuaca (santa barbara...</td>\n",
       "    </tr>\n",
       "    <tr>\n",
       "      <th>133680</th>\n",
       "      <td>CRUS ROBLERO JOSE PEDRO</td>\n",
       "      <td>SUR SURESTE</td>\n",
       "      <td>CHIAPAS</td>\n",
       "      <td>BELISARIO DOMINGUEZ</td>\n",
       "      <td>FLOR DE CHIAPAS</td>\n",
       "      <td>Cultivo de maíz grano blanco</td>\n",
       "      <td>2022-09-10</td>\n",
       "      <td>7491.34</td>\n",
       "      <td>PV2022</td>\n",
       "      <td>NaN</td>\n",
       "      <td>NaN</td>\n",
       "      <td>NaN</td>\n",
       "      <td>NaN</td>\n",
       "      <td>NaN</td>\n",
       "      <td>belisario dominguez</td>\n",
       "      <td>flor de chiapas</td>\n",
       "      <td>belisario dominguez-flor de chiapas</td>\n",
       "      <td>belisario dominguez-flor de chiapas</td>\n",
       "      <td>86</td>\n",
       "      <td>dr. belisario dominguez-tutuaca (santa barbara...</td>\n",
       "    </tr>\n",
       "    <tr>\n",
       "      <th>141172</th>\n",
       "      <td>CRUZ LOPEZ ALBERTO</td>\n",
       "      <td>SUR SURESTE</td>\n",
       "      <td>CHIAPAS</td>\n",
       "      <td>BELISARIO DOMINGUEZ</td>\n",
       "      <td>FLOR DE CHIAPAS</td>\n",
       "      <td>Cultivo de maíz grano blanco</td>\n",
       "      <td>2022-09-12</td>\n",
       "      <td>7491.34</td>\n",
       "      <td>PV2022</td>\n",
       "      <td>NaN</td>\n",
       "      <td>NaN</td>\n",
       "      <td>NaN</td>\n",
       "      <td>NaN</td>\n",
       "      <td>NaN</td>\n",
       "      <td>belisario dominguez</td>\n",
       "      <td>flor de chiapas</td>\n",
       "      <td>belisario dominguez-flor de chiapas</td>\n",
       "      <td>belisario dominguez-flor de chiapas</td>\n",
       "      <td>86</td>\n",
       "      <td>dr. belisario dominguez-tutuaca (santa barbara...</td>\n",
       "    </tr>\n",
       "    <tr>\n",
       "      <th>...</th>\n",
       "      <td>...</td>\n",
       "      <td>...</td>\n",
       "      <td>...</td>\n",
       "      <td>...</td>\n",
       "      <td>...</td>\n",
       "      <td>...</td>\n",
       "      <td>...</td>\n",
       "      <td>...</td>\n",
       "      <td>...</td>\n",
       "      <td>...</td>\n",
       "      <td>...</td>\n",
       "      <td>...</td>\n",
       "      <td>...</td>\n",
       "      <td>...</td>\n",
       "      <td>...</td>\n",
       "      <td>...</td>\n",
       "      <td>...</td>\n",
       "      <td>...</td>\n",
       "      <td>...</td>\n",
       "      <td>...</td>\n",
       "    </tr>\n",
       "    <tr>\n",
       "      <th>796138</th>\n",
       "      <td>VAZQUEZ SOLIS NEIME</td>\n",
       "      <td>SUR SURESTE</td>\n",
       "      <td>CHIAPAS</td>\n",
       "      <td>BELISARIO DOMINGUEZ</td>\n",
       "      <td>FLOR DE CHIAPAS</td>\n",
       "      <td>Cultivo de maíz grano blanco</td>\n",
       "      <td>2022-09-05</td>\n",
       "      <td>7491.34</td>\n",
       "      <td>PV2022</td>\n",
       "      <td>NaN</td>\n",
       "      <td>NaN</td>\n",
       "      <td>NaN</td>\n",
       "      <td>NaN</td>\n",
       "      <td>NaN</td>\n",
       "      <td>belisario dominguez</td>\n",
       "      <td>flor de chiapas</td>\n",
       "      <td>belisario dominguez-flor de chiapas</td>\n",
       "      <td>belisario dominguez-flor de chiapas</td>\n",
       "      <td>86</td>\n",
       "      <td>dr. belisario dominguez-tutuaca (santa barbara...</td>\n",
       "    </tr>\n",
       "    <tr>\n",
       "      <th>804035</th>\n",
       "      <td>VELAZQUEZ GONZALEZ LORENZO</td>\n",
       "      <td>SUR SURESTE</td>\n",
       "      <td>CHIAPAS</td>\n",
       "      <td>BELISARIO DOMINGUEZ</td>\n",
       "      <td>FLOR DE CHIAPAS</td>\n",
       "      <td>Cultivo de maíz grano blanco</td>\n",
       "      <td>2022-09-05</td>\n",
       "      <td>7491.34</td>\n",
       "      <td>PV2022</td>\n",
       "      <td>NaN</td>\n",
       "      <td>NaN</td>\n",
       "      <td>NaN</td>\n",
       "      <td>NaN</td>\n",
       "      <td>NaN</td>\n",
       "      <td>belisario dominguez</td>\n",
       "      <td>flor de chiapas</td>\n",
       "      <td>belisario dominguez-flor de chiapas</td>\n",
       "      <td>belisario dominguez-flor de chiapas</td>\n",
       "      <td>86</td>\n",
       "      <td>dr. belisario dominguez-tutuaca (santa barbara...</td>\n",
       "    </tr>\n",
       "    <tr>\n",
       "      <th>820184</th>\n",
       "      <td>ZALAZ PEREZ DOMITILA</td>\n",
       "      <td>SUR SURESTE</td>\n",
       "      <td>CHIAPAS</td>\n",
       "      <td>BELISARIO DOMINGUEZ</td>\n",
       "      <td>FLOR DE CHIAPAS</td>\n",
       "      <td>Cultivo de maíz grano blanco</td>\n",
       "      <td>2022-09-05</td>\n",
       "      <td>7491.34</td>\n",
       "      <td>PV2022</td>\n",
       "      <td>NaN</td>\n",
       "      <td>NaN</td>\n",
       "      <td>NaN</td>\n",
       "      <td>NaN</td>\n",
       "      <td>NaN</td>\n",
       "      <td>belisario dominguez</td>\n",
       "      <td>flor de chiapas</td>\n",
       "      <td>belisario dominguez-flor de chiapas</td>\n",
       "      <td>belisario dominguez-flor de chiapas</td>\n",
       "      <td>86</td>\n",
       "      <td>dr. belisario dominguez-tutuaca (santa barbara...</td>\n",
       "    </tr>\n",
       "    <tr>\n",
       "      <th>825378</th>\n",
       "      <td>ZUNUN ROBLERO ELIZABETH</td>\n",
       "      <td>SUR SURESTE</td>\n",
       "      <td>CHIAPAS</td>\n",
       "      <td>BELISARIO DOMINGUEZ</td>\n",
       "      <td>FLOR DE CHIAPAS</td>\n",
       "      <td>Cultivo de maíz grano blanco</td>\n",
       "      <td>2022-12-05</td>\n",
       "      <td>7491.34</td>\n",
       "      <td>PV2022</td>\n",
       "      <td>NaN</td>\n",
       "      <td>NaN</td>\n",
       "      <td>NaN</td>\n",
       "      <td>NaN</td>\n",
       "      <td>NaN</td>\n",
       "      <td>belisario dominguez</td>\n",
       "      <td>flor de chiapas</td>\n",
       "      <td>belisario dominguez-flor de chiapas</td>\n",
       "      <td>belisario dominguez-flor de chiapas</td>\n",
       "      <td>86</td>\n",
       "      <td>dr. belisario dominguez-tutuaca (santa barbara...</td>\n",
       "    </tr>\n",
       "    <tr>\n",
       "      <th>825384</th>\n",
       "      <td>ZUNUN ROBLERO MARGARITA</td>\n",
       "      <td>SUR SURESTE</td>\n",
       "      <td>CHIAPAS</td>\n",
       "      <td>BELISARIO DOMINGUEZ</td>\n",
       "      <td>FLOR DE CHIAPAS</td>\n",
       "      <td>Cultivo de maíz grano blanco</td>\n",
       "      <td>2022-12-05</td>\n",
       "      <td>7491.34</td>\n",
       "      <td>PV2022</td>\n",
       "      <td>NaN</td>\n",
       "      <td>NaN</td>\n",
       "      <td>NaN</td>\n",
       "      <td>NaN</td>\n",
       "      <td>NaN</td>\n",
       "      <td>belisario dominguez</td>\n",
       "      <td>flor de chiapas</td>\n",
       "      <td>belisario dominguez-flor de chiapas</td>\n",
       "      <td>belisario dominguez-flor de chiapas</td>\n",
       "      <td>86</td>\n",
       "      <td>dr. belisario dominguez-tutuaca (santa barbara...</td>\n",
       "    </tr>\n",
       "  </tbody>\n",
       "</table>\n",
       "<p>198 rows × 20 columns</p>\n",
       "</div>"
      ],
      "text/plain": [
       "                           BENEFICIARIO         ZONA  ENTIDAD  \\\n",
       "59305          BARRIOS ROBLERO ESTEBAN   SUR SURESTE  CHIAPAS   \n",
       "76585   BRAVO PEREZ GUALTERIO DIONICIO   SUR SURESTE  CHIAPAS   \n",
       "133679            CRUS ROBLERO CANDIDO   SUR SURESTE  CHIAPAS   \n",
       "133680         CRUS ROBLERO JOSE PEDRO   SUR SURESTE  CHIAPAS   \n",
       "141172              CRUZ LOPEZ ALBERTO   SUR SURESTE  CHIAPAS   \n",
       "...                                 ...          ...      ...   \n",
       "796138             VAZQUEZ SOLIS NEIME   SUR SURESTE  CHIAPAS   \n",
       "804035      VELAZQUEZ GONZALEZ LORENZO   SUR SURESTE  CHIAPAS   \n",
       "820184            ZALAZ PEREZ DOMITILA   SUR SURESTE  CHIAPAS   \n",
       "825378         ZUNUN ROBLERO ELIZABETH   SUR SURESTE  CHIAPAS   \n",
       "825384         ZUNUN ROBLERO MARGARITA   SUR SURESTE  CHIAPAS   \n",
       "\n",
       "                  MUNICIPIO        LOCALIDAD                      PRODUCTO  \\\n",
       "59305   BELISARIO DOMINGUEZ  FLOR DE CHIAPAS  Cultivo de maíz grano blanco   \n",
       "76585   BELISARIO DOMINGUEZ  FLOR DE CHIAPAS  Cultivo de maíz grano blanco   \n",
       "133679  BELISARIO DOMINGUEZ  FLOR DE CHIAPAS  Cultivo de maíz grano blanco   \n",
       "133680  BELISARIO DOMINGUEZ  FLOR DE CHIAPAS  Cultivo de maíz grano blanco   \n",
       "141172  BELISARIO DOMINGUEZ  FLOR DE CHIAPAS  Cultivo de maíz grano blanco   \n",
       "...                     ...              ...                           ...   \n",
       "796138  BELISARIO DOMINGUEZ  FLOR DE CHIAPAS  Cultivo de maíz grano blanco   \n",
       "804035  BELISARIO DOMINGUEZ  FLOR DE CHIAPAS  Cultivo de maíz grano blanco   \n",
       "820184  BELISARIO DOMINGUEZ  FLOR DE CHIAPAS  Cultivo de maíz grano blanco   \n",
       "825378  BELISARIO DOMINGUEZ  FLOR DE CHIAPAS  Cultivo de maíz grano blanco   \n",
       "825384  BELISARIO DOMINGUEZ  FLOR DE CHIAPAS  Cultivo de maíz grano blanco   \n",
       "\n",
       "             FECHA  MONTO FEDERAL CICLO AGRÍCOLA KEY_benef_mun  CVE_ENT  \\\n",
       "59305   2022-09-05        7491.34         PV2022           NaN      NaN   \n",
       "76585   2022-09-05        7491.34         PV2022           NaN      NaN   \n",
       "133679  2022-09-10        7491.34         PV2022           NaN      NaN   \n",
       "133680  2022-09-10        7491.34         PV2022           NaN      NaN   \n",
       "141172  2022-09-12        7491.34         PV2022           NaN      NaN   \n",
       "...            ...            ...            ...           ...      ...   \n",
       "796138  2022-09-05        7491.34         PV2022           NaN      NaN   \n",
       "804035  2022-09-05        7491.34         PV2022           NaN      NaN   \n",
       "820184  2022-09-05        7491.34         PV2022           NaN      NaN   \n",
       "825378  2022-12-05        7491.34         PV2022           NaN      NaN   \n",
       "825384  2022-12-05        7491.34         PV2022           NaN      NaN   \n",
       "\n",
       "       Entidad_inegi  CVE_MUN Municipio_inegi      MUNICIPIO_Clean  \\\n",
       "59305            NaN      NaN             NaN  belisario dominguez   \n",
       "76585            NaN      NaN             NaN  belisario dominguez   \n",
       "133679           NaN      NaN             NaN  belisario dominguez   \n",
       "133680           NaN      NaN             NaN  belisario dominguez   \n",
       "141172           NaN      NaN             NaN  belisario dominguez   \n",
       "...              ...      ...             ...                  ...   \n",
       "796138           NaN      NaN             NaN  belisario dominguez   \n",
       "804035           NaN      NaN             NaN  belisario dominguez   \n",
       "820184           NaN      NaN             NaN  belisario dominguez   \n",
       "825378           NaN      NaN             NaN  belisario dominguez   \n",
       "825384           NaN      NaN             NaN  belisario dominguez   \n",
       "\n",
       "        LOCALIDAD_Clean                    Municipio-loc-KEY  \\\n",
       "59305   flor de chiapas  belisario dominguez-flor de chiapas   \n",
       "76585   flor de chiapas  belisario dominguez-flor de chiapas   \n",
       "133679  flor de chiapas  belisario dominguez-flor de chiapas   \n",
       "133680  flor de chiapas  belisario dominguez-flor de chiapas   \n",
       "141172  flor de chiapas  belisario dominguez-flor de chiapas   \n",
       "...                 ...                                  ...   \n",
       "796138  flor de chiapas  belisario dominguez-flor de chiapas   \n",
       "804035  flor de chiapas  belisario dominguez-flor de chiapas   \n",
       "820184  flor de chiapas  belisario dominguez-flor de chiapas   \n",
       "825378  flor de chiapas  belisario dominguez-flor de chiapas   \n",
       "825384  flor de chiapas  belisario dominguez-flor de chiapas   \n",
       "\n",
       "                              KEY_benef_loc  match_score  \\\n",
       "59305   belisario dominguez-flor de chiapas           86   \n",
       "76585   belisario dominguez-flor de chiapas           86   \n",
       "133679  belisario dominguez-flor de chiapas           86   \n",
       "133680  belisario dominguez-flor de chiapas           86   \n",
       "141172  belisario dominguez-flor de chiapas           86   \n",
       "...                                     ...          ...   \n",
       "796138  belisario dominguez-flor de chiapas           86   \n",
       "804035  belisario dominguez-flor de chiapas           86   \n",
       "820184  belisario dominguez-flor de chiapas           86   \n",
       "825378  belisario dominguez-flor de chiapas           86   \n",
       "825384  belisario dominguez-flor de chiapas           86   \n",
       "\n",
       "                                      KEY_inegi_localidad  \n",
       "59305   dr. belisario dominguez-tutuaca (santa barbara...  \n",
       "76585   dr. belisario dominguez-tutuaca (santa barbara...  \n",
       "133679  dr. belisario dominguez-tutuaca (santa barbara...  \n",
       "133680  dr. belisario dominguez-tutuaca (santa barbara...  \n",
       "141172  dr. belisario dominguez-tutuaca (santa barbara...  \n",
       "...                                                   ...  \n",
       "796138  dr. belisario dominguez-tutuaca (santa barbara...  \n",
       "804035  dr. belisario dominguez-tutuaca (santa barbara...  \n",
       "820184  dr. belisario dominguez-tutuaca (santa barbara...  \n",
       "825378  dr. belisario dominguez-tutuaca (santa barbara...  \n",
       "825384  dr. belisario dominguez-tutuaca (santa barbara...  \n",
       "\n",
       "[198 rows x 20 columns]"
      ]
     },
     "execution_count": 353,
     "metadata": {},
     "output_type": "execute_result"
    }
   ],
   "source": [
    "rows_with_nan"
   ]
  },
  {
   "cell_type": "code",
   "execution_count": null,
   "metadata": {},
   "outputs": [],
   "source": [
    "# TODO: REVISAR ESTA PARTE (ARTURO)\n",
    "listado_beneficiarios_parte_II_localidades = pd.merge(listado_beneficiarios_parte_I_localidades, INEGI_UNIQUELOC_2022,\n",
    "                                          left_on=\"KEY_inegi_localidad\",\n",
    "                                          right_on=\"KEY_inegi_localidad\", how='left', suffixes=('_benef', '_inegi'))"
   ]
  },
  {
   "cell_type": "code",
   "execution_count": null,
   "metadata": {},
   "outputs": [
    {
     "data": {
      "text/plain": [
       "BENEFICIARIO               0\n",
       "ZONA                       0\n",
       "ENTIDAD                    0\n",
       "MUNICIPIO                  0\n",
       "LOCALIDAD                  0\n",
       "PRODUCTO                   0\n",
       "FECHA                      0\n",
       "MONTO FEDERAL              0\n",
       "CICLO AGRÍCOLA             0\n",
       "KEY_benef_mun            198\n",
       "CVE_ENT_benef            198\n",
       "Entidad_inegi_benef      198\n",
       "CVE_MUN_benef            198\n",
       "Municipio_inegi_benef    198\n",
       "MUNICIPIO_Clean            0\n",
       "LOCALIDAD_Clean            0\n",
       "Municipio-loc-KEY          0\n",
       "KEY_benef_loc              0\n",
       "match_score                0\n",
       "KEY_inegi_localidad        0\n",
       "CVE_ENT_inegi              0\n",
       "Entidad_inegi_inegi        0\n",
       "CVE_MUN_inegi              0\n",
       "Municipio_inegi_inegi      0\n",
       "CVE_LOC                    0\n",
       "Localidad_inegi            0\n",
       "KEY_inegi_municipio        0\n",
       "dtype: int64"
      ]
     },
     "execution_count": 355,
     "metadata": {},
     "output_type": "execute_result"
    }
   ],
   "source": [
    "listado_beneficiarios_parte_II_localidades.isna().sum()"
   ]
  },
  {
   "cell_type": "code",
   "execution_count": null,
   "metadata": {},
   "outputs": [],
   "source": [
    "# Assuming listado_beneficiarios_parte_II is your DataFrame\n",
    "rows_with_nan = listado_beneficiarios_parte_II_localidades[listado_beneficiarios_parte_II_localidades.isna().any(axis=1)]\n",
    "\n",
    "# rows_with_nan now contains only the rows with NaN values in any column"
   ]
  },
  {
   "cell_type": "code",
   "execution_count": null,
   "metadata": {},
   "outputs": [],
   "source": [
    "# Suponiendo que quieres verificar NaNs en la columna 'nombre_columna'\n",
    "rows_with_nan = listado_beneficiarios_parte_II_localidades[listado_beneficiarios_parte_II_localidades['CVE_ENT_inegi'].isna()]"
   ]
  },
  {
   "cell_type": "code",
   "execution_count": null,
   "metadata": {},
   "outputs": [
    {
     "data": {
      "text/html": [
       "<div>\n",
       "<style scoped>\n",
       "    .dataframe tbody tr th:only-of-type {\n",
       "        vertical-align: middle;\n",
       "    }\n",
       "\n",
       "    .dataframe tbody tr th {\n",
       "        vertical-align: top;\n",
       "    }\n",
       "\n",
       "    .dataframe thead th {\n",
       "        text-align: right;\n",
       "    }\n",
       "</style>\n",
       "<table border=\"1\" class=\"dataframe\">\n",
       "  <thead>\n",
       "    <tr style=\"text-align: right;\">\n",
       "      <th></th>\n",
       "      <th>BENEFICIARIO</th>\n",
       "      <th>ZONA</th>\n",
       "      <th>ENTIDAD</th>\n",
       "      <th>MUNICIPIO</th>\n",
       "      <th>LOCALIDAD</th>\n",
       "      <th>PRODUCTO</th>\n",
       "      <th>FECHA</th>\n",
       "      <th>MONTO FEDERAL</th>\n",
       "      <th>CICLO AGRÍCOLA</th>\n",
       "      <th>KEY_benef_mun</th>\n",
       "      <th>...</th>\n",
       "      <th>KEY_benef_loc</th>\n",
       "      <th>match_score</th>\n",
       "      <th>KEY_inegi_localidad</th>\n",
       "      <th>CVE_ENT_inegi</th>\n",
       "      <th>Entidad_inegi_inegi</th>\n",
       "      <th>CVE_MUN_inegi</th>\n",
       "      <th>Municipio_inegi_inegi</th>\n",
       "      <th>CVE_LOC</th>\n",
       "      <th>Localidad_inegi</th>\n",
       "      <th>KEY_inegi_municipio</th>\n",
       "    </tr>\n",
       "  </thead>\n",
       "  <tbody>\n",
       "  </tbody>\n",
       "</table>\n",
       "<p>0 rows × 27 columns</p>\n",
       "</div>"
      ],
      "text/plain": [
       "Empty DataFrame\n",
       "Columns: [BENEFICIARIO, ZONA, ENTIDAD, MUNICIPIO, LOCALIDAD, PRODUCTO, FECHA, MONTO FEDERAL, CICLO AGRÍCOLA, KEY_benef_mun, CVE_ENT_benef, Entidad_inegi_benef, CVE_MUN_benef, Municipio_inegi_benef, MUNICIPIO_Clean, LOCALIDAD_Clean, Municipio-loc-KEY, KEY_benef_loc, match_score, KEY_inegi_localidad, CVE_ENT_inegi, Entidad_inegi_inegi, CVE_MUN_inegi, Municipio_inegi_inegi, CVE_LOC, Localidad_inegi, KEY_inegi_municipio]\n",
       "Index: []\n",
       "\n",
       "[0 rows x 27 columns]"
      ]
     },
     "execution_count": 358,
     "metadata": {},
     "output_type": "execute_result"
    }
   ],
   "source": [
    "rows_with_nan[rows_with_nan['CVE_ENT_inegi'].isna()]"
   ]
  },
  {
   "cell_type": "code",
   "execution_count": null,
   "metadata": {},
   "outputs": [],
   "source": [
    "listado_beneficiarios_parte_II_localidades.drop(columns=['ENTIDAD', 'MUNICIPIO', 'LOCALIDAD', 'KEY_benef_mun',\n",
    "       'CVE_ENT_benef', 'Entidad_inegi_benef', 'CVE_MUN_benef',\n",
    "       'Municipio_inegi_benef', 'MUNICIPIO_Clean', 'LOCALIDAD_Clean',\n",
    "       'Municipio-loc-KEY', 'KEY_benef_loc', 'match_score',\n",
    "       'KEY_inegi_localidad', 'KEY_inegi_municipio'\n",
    "       ], inplace=True)"
   ]
  },
  {
   "cell_type": "code",
   "execution_count": null,
   "metadata": {},
   "outputs": [],
   "source": [
    "listado_beneficiarios_parte_II_localidades.rename(columns={'BENEFICIARIO': 'Nombre del beneficiario',\n",
    "                                                           'ZONA': 'Zona del país',\n",
    "                                                           'CVE_ENT_inegi': 'Clave de entidad',\n",
    "                                                            'Entidad_inegi_inegi': 'Entidad federativa',\n",
    "                                                            'CVE_MUN_inegi': 'Clave de municipio',\n",
    "                                                            'Municipio_inegi_inegi': 'Municipio',                                                           \n",
    "                                                            'CVE_LOC': 'Clave de localidad',\n",
    "                                                            'Localidad_inegi': 'Localidad',\n",
    "                                                            'PRODUCTO': 'Producto cultivado',\n",
    "                                                            'FECHA': 'Fecha de entrega del beneficio',\n",
    "                                                            'MONTO FEDERAL': 'Monto entregado',\n",
    "                                                            'CICLO AGRÍCOLA': 'Ciclo agrícola'}, inplace=True)"
   ]
  },
  {
   "cell_type": "code",
   "execution_count": null,
   "metadata": {},
   "outputs": [],
   "source": [
    "listado_beneficiarios_parte_II_localidades.to_csv('../../data/listados_completos/listado_beneficiarios_2022_localidades.csv', index=False)"
   ]
  }
 ],
 "metadata": {
  "kernelspec": {
   "display_name": "Python 3",
   "language": "python",
   "name": "python3"
  },
  "language_info": {
   "codemirror_mode": {
    "name": "ipython",
    "version": 3
   },
   "file_extension": ".py",
   "mimetype": "text/x-python",
   "name": "python",
   "nbconvert_exporter": "python",
   "pygments_lexer": "ipython3",
   "version": "3.9.9"
  }
 },
 "nbformat": 4,
 "nbformat_minor": 2
}
