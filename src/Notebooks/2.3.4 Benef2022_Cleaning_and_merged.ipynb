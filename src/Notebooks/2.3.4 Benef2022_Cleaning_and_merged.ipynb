{
 "cells": [
  {
   "cell_type": "markdown",
   "metadata": {},
   "source": [
    "# Data Cleaning Listado de Listado de Beneficiarios 2022"
   ]
  },
  {
   "cell_type": "markdown",
   "metadata": {},
   "source": [
    "## Autores\n",
    "- José Luis Delgado Dávara\n",
    "- Arturo Ortiz Aguilar\n",
    "- Beltrán Valle Gutiérrez-Cortines"
   ]
  },
  {
   "cell_type": "markdown",
   "metadata": {},
   "source": [
    "## Importante leer para entender\n",
    "\n",
    "En este Notebook se trabaja con 3 listados importantes:\n",
    "\n",
    "1. beneficiarios_22 -> Dataset con el listado de TODOS los beneficiarios de 2022.\n",
    "2. Estados_Beneficiarios_2019_2022 -> Dataset sólo con los estados *únicos* encontrados en el dataset anterior.\n",
    "3. Diccionario -> Emparejamiento entre ambos listados de beneficiarios\n",
    "4. Dataset_Inegi -> Catálogo obtenido de Inegi"
   ]
  },
  {
   "cell_type": "code",
   "metadata": {
    "ExecuteTime": {
     "end_time": "2024-07-09T14:21:41.830666Z",
     "start_time": "2024-07-09T14:21:41.566619Z"
    }
   },
   "source": [
    "import pandas as pd\n",
    "import seaborn as sns\n",
    "from thefuzz import fuzz\n",
    "from thefuzz import process\n",
    "import matplotlib.pyplot as plt\n",
    "import numpy as np\n",
    "import os\n",
    "import glob\n",
    "import re\n",
    "import unidecode"
   ],
   "outputs": [],
   "execution_count": 1
  },
  {
   "cell_type": "code",
   "metadata": {
    "ExecuteTime": {
     "end_time": "2024-07-09T14:21:41.862266Z",
     "start_time": "2024-07-09T14:21:41.838221Z"
    }
   },
   "source": [
    "def clean_text(text):\n",
    "    \"\"\"\n",
    "    De esta manera tenemos el texto sin espacios blancos extra y sobre todo con todas las palabras con capitalización correcta.\n",
    "    \"\"\"\n",
    "    if pd.isna(text):\n",
    "        return text\n",
    "    text = text.strip()  # Eliminate white spaces\n",
    "    text = text.lower()  # Convert to lowercase\n",
    "    text = unidecode.unidecode(text)  # Remove accents\n",
    "    text = re.sub('-.*-', '', text)  #Remove what is in between - -\n",
    "    text = re.sub('\\s+', ' ', text)  # Eliminate extra white spaces\n",
    "    text = re.sub('^\\s+|\\s+?$', '', text)  # Eliminate spaces at the beginning and end\n",
    "    return text"
   ],
   "outputs": [],
   "execution_count": 2
  },
  {
   "cell_type": "markdown",
   "metadata": {},
   "source": [
    "# 1. Lectura y limpieza de datos"
   ]
  },
  {
   "cell_type": "markdown",
   "metadata": {},
   "source": [
    "### 1.1 Beneficiarios 2022\n",
    "\n",
    "Obtenemos el listado único de localidades y listado único de municipios con sus claves."
   ]
  },
  {
   "cell_type": "code",
   "metadata": {
    "ExecuteTime": {
     "end_time": "2024-07-09T14:21:46.974115Z",
     "start_time": "2024-07-09T14:21:41.865808Z"
    }
   },
   "source": [
    "beneficiarios_22 = pd.read_csv(\n",
    "    '../../data/productores_beneficiarios 2019-2022/listado_beneficiarios_fertilizantes_2022.csv', encoding='utf-8',\n",
    "    skiprows=0)"
   ],
   "outputs": [],
   "execution_count": 3
  },
  {
   "cell_type": "code",
   "metadata": {
    "ExecuteTime": {
     "end_time": "2024-07-09T14:21:47.539383Z",
     "start_time": "2024-07-09T14:21:46.980335Z"
    }
   },
   "source": [
    "beneficiarios_22 = beneficiarios_22[~(\n",
    "            (beneficiarios_22['ENTIDAD'] == 'NACIONAL') & (beneficiarios_22['MUNICIPIO'] == 'NACIONAL') & (\n",
    "                beneficiarios_22['LOCALIDAD'] == 'NACIONAL'))]"
   ],
   "outputs": [],
   "execution_count": 4
  },
  {
   "cell_type": "code",
   "metadata": {
    "ExecuteTime": {
     "end_time": "2024-07-09T14:21:47.565880Z",
     "start_time": "2024-07-09T14:21:47.543865Z"
    }
   },
   "source": [
    "beneficiarios_22.shape"
   ],
   "outputs": [
    {
     "data": {
      "text/plain": [
       "(826385, 16)"
      ]
     },
     "execution_count": 5,
     "metadata": {},
     "output_type": "execute_result"
    }
   ],
   "execution_count": 5
  },
  {
   "cell_type": "code",
   "metadata": {
    "ExecuteTime": {
     "end_time": "2024-07-09T14:21:48.100109Z",
     "start_time": "2024-07-09T14:21:47.577516Z"
    }
   },
   "source": [
    "nan_rows = beneficiarios_22[beneficiarios_22.isna().any(axis=1)]"
   ],
   "outputs": [],
   "execution_count": 6
  },
  {
   "cell_type": "code",
   "metadata": {
    "ExecuteTime": {
     "end_time": "2024-07-09T14:21:48.155027Z",
     "start_time": "2024-07-09T14:21:48.106661Z"
    }
   },
   "source": [
    "nan_rows"
   ],
   "outputs": [
    {
     "data": {
      "text/plain": [
       "                                             BENEFICIARIO ZONA ENTIDAD  \\\n",
       "826382                                                NaN  NaN     NaN   \n",
       "826383                                                NaN  NaN     NaN   \n",
       "826384  \"Nota: El Sistema de Rendición de Cuentas sobr...  NaN     NaN   \n",
       "\n",
       "       MUNICIPIO LOCALIDAD ESTRATIFICACIÓN PROGRAMA COMPONENTE SUBCOMPONENTE  \\\n",
       "826382       NaN       NaN             NaN      NaN        NaN           NaN   \n",
       "826383       NaN       NaN             NaN      NaN        NaN           NaN   \n",
       "826384       NaN       NaN             NaN      NaN        NaN           NaN   \n",
       "\n",
       "       PRODUCTO FECHA  MONTO FEDERAL APOYO ACTIVIDAD ESLABÓN CICLO AGRÍCOLA  \n",
       "826382      NaN   NaN            NaN   NaN       NaN     NaN            NaN  \n",
       "826383      NaN   NaN            NaN   NaN       NaN     NaN            NaN  \n",
       "826384      NaN   NaN            NaN   NaN       NaN     NaN            NaN  "
      ],
      "text/html": [
       "<div>\n",
       "<style scoped>\n",
       "    .dataframe tbody tr th:only-of-type {\n",
       "        vertical-align: middle;\n",
       "    }\n",
       "\n",
       "    .dataframe tbody tr th {\n",
       "        vertical-align: top;\n",
       "    }\n",
       "\n",
       "    .dataframe thead th {\n",
       "        text-align: right;\n",
       "    }\n",
       "</style>\n",
       "<table border=\"1\" class=\"dataframe\">\n",
       "  <thead>\n",
       "    <tr style=\"text-align: right;\">\n",
       "      <th></th>\n",
       "      <th>BENEFICIARIO</th>\n",
       "      <th>ZONA</th>\n",
       "      <th>ENTIDAD</th>\n",
       "      <th>MUNICIPIO</th>\n",
       "      <th>LOCALIDAD</th>\n",
       "      <th>ESTRATIFICACIÓN</th>\n",
       "      <th>PROGRAMA</th>\n",
       "      <th>COMPONENTE</th>\n",
       "      <th>SUBCOMPONENTE</th>\n",
       "      <th>PRODUCTO</th>\n",
       "      <th>FECHA</th>\n",
       "      <th>MONTO FEDERAL</th>\n",
       "      <th>APOYO</th>\n",
       "      <th>ACTIVIDAD</th>\n",
       "      <th>ESLABÓN</th>\n",
       "      <th>CICLO AGRÍCOLA</th>\n",
       "    </tr>\n",
       "  </thead>\n",
       "  <tbody>\n",
       "    <tr>\n",
       "      <th>826382</th>\n",
       "      <td>NaN</td>\n",
       "      <td>NaN</td>\n",
       "      <td>NaN</td>\n",
       "      <td>NaN</td>\n",
       "      <td>NaN</td>\n",
       "      <td>NaN</td>\n",
       "      <td>NaN</td>\n",
       "      <td>NaN</td>\n",
       "      <td>NaN</td>\n",
       "      <td>NaN</td>\n",
       "      <td>NaN</td>\n",
       "      <td>NaN</td>\n",
       "      <td>NaN</td>\n",
       "      <td>NaN</td>\n",
       "      <td>NaN</td>\n",
       "      <td>NaN</td>\n",
       "    </tr>\n",
       "    <tr>\n",
       "      <th>826383</th>\n",
       "      <td>NaN</td>\n",
       "      <td>NaN</td>\n",
       "      <td>NaN</td>\n",
       "      <td>NaN</td>\n",
       "      <td>NaN</td>\n",
       "      <td>NaN</td>\n",
       "      <td>NaN</td>\n",
       "      <td>NaN</td>\n",
       "      <td>NaN</td>\n",
       "      <td>NaN</td>\n",
       "      <td>NaN</td>\n",
       "      <td>NaN</td>\n",
       "      <td>NaN</td>\n",
       "      <td>NaN</td>\n",
       "      <td>NaN</td>\n",
       "      <td>NaN</td>\n",
       "    </tr>\n",
       "    <tr>\n",
       "      <th>826384</th>\n",
       "      <td>\"Nota: El Sistema de Rendición de Cuentas sobr...</td>\n",
       "      <td>NaN</td>\n",
       "      <td>NaN</td>\n",
       "      <td>NaN</td>\n",
       "      <td>NaN</td>\n",
       "      <td>NaN</td>\n",
       "      <td>NaN</td>\n",
       "      <td>NaN</td>\n",
       "      <td>NaN</td>\n",
       "      <td>NaN</td>\n",
       "      <td>NaN</td>\n",
       "      <td>NaN</td>\n",
       "      <td>NaN</td>\n",
       "      <td>NaN</td>\n",
       "      <td>NaN</td>\n",
       "      <td>NaN</td>\n",
       "    </tr>\n",
       "  </tbody>\n",
       "</table>\n",
       "</div>"
      ]
     },
     "execution_count": 7,
     "metadata": {},
     "output_type": "execute_result"
    }
   ],
   "execution_count": 7
  },
  {
   "cell_type": "code",
   "metadata": {
    "ExecuteTime": {
     "end_time": "2024-07-09T14:21:48.234428Z",
     "start_time": "2024-07-09T14:21:48.160575Z"
    }
   },
   "source": [
    "beneficiarios_22['ENTIDAD'].unique()"
   ],
   "outputs": [
    {
     "data": {
      "text/plain": [
       "array(['GUERRERO', 'OAXACA', 'PUEBLA', 'MORELOS', 'CHIAPAS', 'DURANGO',\n",
       "       'TLAXCALA', 'NAYARIT', 'ZACATECAS', nan], dtype=object)"
      ]
     },
     "execution_count": 8,
     "metadata": {},
     "output_type": "execute_result"
    }
   ],
   "execution_count": 8
  },
  {
   "cell_type": "markdown",
   "metadata": {},
   "source": [
    "Dropeamos los tres valores nulos debido a que las rows enteras salen como nan"
   ]
  },
  {
   "cell_type": "code",
   "metadata": {
    "ExecuteTime": {
     "end_time": "2024-07-09T14:21:49.021665Z",
     "start_time": "2024-07-09T14:21:48.240823Z"
    }
   },
   "source": [
    "beneficiarios_22.dropna(inplace=True)"
   ],
   "outputs": [],
   "execution_count": 9
  },
  {
   "cell_type": "code",
   "metadata": {
    "ExecuteTime": {
     "end_time": "2024-07-09T14:21:49.492273Z",
     "start_time": "2024-07-09T14:21:49.024689Z"
    }
   },
   "source": [
    "# Obtenemos las localidades únicas en el dataset.\n",
    "Localidades_22 = beneficiarios_22[['ENTIDAD', 'MUNICIPIO', 'LOCALIDAD']]\n",
    "Localidades_22 = Localidades_22.drop_duplicates()\n"
   ],
   "outputs": [],
   "execution_count": 10
  },
  {
   "cell_type": "code",
   "metadata": {
    "ExecuteTime": {
     "end_time": "2024-07-09T14:21:49.893793Z",
     "start_time": "2024-07-09T14:21:49.496692Z"
    }
   },
   "source": [
    "Localidades_22['ENTIDAD_c_benef'] = Localidades_22['ENTIDAD'].apply(clean_text)\n",
    "Localidades_22['MUNICIPIO_c_benef'] = Localidades_22['MUNICIPIO'].apply(clean_text)\n",
    "Localidades_22['LOCALIDAD_c_benef'] = Localidades_22['LOCALIDAD'].apply(clean_text)"
   ],
   "outputs": [],
   "execution_count": 11
  },
  {
   "cell_type": "code",
   "metadata": {
    "ExecuteTime": {
     "end_time": "2024-07-09T14:21:49.946239Z",
     "start_time": "2024-07-09T14:21:49.908117Z"
    }
   },
   "source": [
    "# Creamos las dos keys de beneficiarios 2019\n",
    "Localidades_22['KEY_benef_mun'] = Localidades_22['ENTIDAD_c_benef'].astype(str) + '-' + Localidades_22[\n",
    "    'MUNICIPIO_c_benef'].astype(str)\n",
    "Localidades_22['KEY_benef_loc'] = Localidades_22['ENTIDAD_c_benef'].astype(str) + '-' + Localidades_22[\n",
    "    'MUNICIPIO_c_benef'].astype(str) + '-' + Localidades_22['LOCALIDAD_c_benef'].astype(str)"
   ],
   "outputs": [],
   "execution_count": 12
  },
  {
   "cell_type": "code",
   "metadata": {
    "ExecuteTime": {
     "end_time": "2024-07-09T14:21:49.964605Z",
     "start_time": "2024-07-09T14:21:49.948766Z"
    }
   },
   "source": [
    "Localidades_22.shape"
   ],
   "outputs": [
    {
     "data": {
      "text/plain": [
       "(12513, 8)"
      ]
     },
     "execution_count": 13,
     "metadata": {},
     "output_type": "execute_result"
    }
   ],
   "execution_count": 13
  },
  {
   "cell_type": "code",
   "metadata": {
    "ExecuteTime": {
     "end_time": "2024-07-09T14:21:50.246929Z",
     "start_time": "2024-07-09T14:21:49.966615Z"
    }
   },
   "source": [
    "# Obtenemos las localidades únicas en el dataset.\n",
    "Municipios_22 = beneficiarios_22[['ENTIDAD', 'MUNICIPIO']]\n",
    "Municipios_22 = Municipios_22.drop_duplicates()"
   ],
   "outputs": [],
   "execution_count": 14
  },
  {
   "cell_type": "code",
   "metadata": {
    "ExecuteTime": {
     "end_time": "2024-07-09T14:21:50.292503Z",
     "start_time": "2024-07-09T14:21:50.251489Z"
    }
   },
   "source": [
    "# Estandarizamos la limpieza de los datos\n",
    "Municipios_22['ENTIDAD_c_benef'] = Municipios_22['ENTIDAD'].apply(clean_text)\n",
    "Municipios_22['MUNICIPIO_c_benef'] = Municipios_22['MUNICIPIO'].apply(clean_text)"
   ],
   "outputs": [],
   "execution_count": 15
  },
  {
   "cell_type": "code",
   "metadata": {
    "ExecuteTime": {
     "end_time": "2024-07-09T14:21:50.306420Z",
     "start_time": "2024-07-09T14:21:50.296039Z"
    }
   },
   "source": [
    "# Creamos las dos keys de beneficiarios \n",
    "Municipios_22['KEY_benef_mun'] = Municipios_22['ENTIDAD_c_benef'].astype(str) + '-' + Municipios_22[\n",
    "    'MUNICIPIO_c_benef'].astype(str)"
   ],
   "outputs": [],
   "execution_count": 16
  },
  {
   "cell_type": "code",
   "metadata": {
    "ExecuteTime": {
     "end_time": "2024-07-09T14:21:50.325869Z",
     "start_time": "2024-07-09T14:21:50.313998Z"
    }
   },
   "source": [
    "Municipios_22.shape"
   ],
   "outputs": [
    {
     "data": {
      "text/plain": [
       "(1029, 5)"
      ]
     },
     "execution_count": 17,
     "metadata": {},
     "output_type": "execute_result"
    }
   ],
   "execution_count": 17
  },
  {
   "cell_type": "code",
   "metadata": {
    "ExecuteTime": {
     "end_time": "2024-07-09T14:21:50.351355Z",
     "start_time": "2024-07-09T14:21:50.328391Z"
    }
   },
   "source": [
    "Municipios_22.columns"
   ],
   "outputs": [
    {
     "data": {
      "text/plain": [
       "Index(['ENTIDAD', 'MUNICIPIO', 'ENTIDAD_c_benef', 'MUNICIPIO_c_benef',\n",
       "       'KEY_benef_mun'],\n",
       "      dtype='object')"
      ]
     },
     "execution_count": 18,
     "metadata": {},
     "output_type": "execute_result"
    }
   ],
   "execution_count": 18
  },
  {
   "cell_type": "markdown",
   "metadata": {},
   "source": [
    "### 1.2 INEGI 2022\n",
    "\n",
    "Obtener listado único de municipios y listado único de localidades de inegi de 2022 con sus claves."
   ]
  },
  {
   "cell_type": "code",
   "metadata": {
    "ExecuteTime": {
     "end_time": "2024-07-09T14:21:51.453145Z",
     "start_time": "2024-07-09T14:21:50.354369Z"
    }
   },
   "source": [
    "path_dataset_inegi_2022 = '../../data/inegi/dataset_inegi_clean_2022.csv'\n",
    "#dataset_inegi_clean = pd.read_csv(path_dataset_inegi_2022, encoding='utf-8', dtype={'CVE_ENT': str, 'CVE_MUN': str, 'CVE_LOC': str})\n",
    "dataset_inegi_2022 = pd.read_csv(path_dataset_inegi_2022)"
   ],
   "outputs": [],
   "execution_count": 19
  },
  {
   "cell_type": "markdown",
   "metadata": {},
   "source": [
    "### 1.2.1 INEGI 2022 Municipios únicos para cada año."
   ]
  },
  {
   "cell_type": "code",
   "metadata": {
    "ExecuteTime": {
     "end_time": "2024-07-09T14:21:51.811966Z",
     "start_time": "2024-07-09T14:21:51.459728Z"
    }
   },
   "source": [
    "dataset_inegi_2022['KEY_inegi_municipio'] = dataset_inegi_2022['Entidad_c_inegi'].astype(str) + '-' + \\\n",
    "                                            dataset_inegi_2022[\n",
    "                                                'Municipio_c_inegi'].astype(str)\n",
    "dataset_inegi_2022['KEY_inegi_localidad'] = dataset_inegi_2022['Entidad_c_inegi'].astype(str) + '-' + \\\n",
    "                                            dataset_inegi_2022[\n",
    "                                                'Municipio_c_inegi'].astype(str) + '-' + dataset_inegi_2022[\n",
    "                                                'Localidad_c_inegi'].astype(str)"
   ],
   "outputs": [],
   "execution_count": 20
  },
  {
   "cell_type": "code",
   "metadata": {
    "ExecuteTime": {
     "end_time": "2024-07-09T14:21:52.057851Z",
     "start_time": "2024-07-09T14:21:51.813978Z"
    }
   },
   "source": [
    "INEGI_UNIQUEMUN_2022 = dataset_inegi_2022.drop(\n",
    "    columns=[\"CVE_LOC\", \"Localidad_inegi\", \"Localidad_c_inegi\", \"KEY_inegi_localidad\"])\n",
    "\n",
    "INEGI_UNIQUEMUN_2022 = INEGI_UNIQUEMUN_2022.drop_duplicates()"
   ],
   "outputs": [],
   "execution_count": 21
  },
  {
   "cell_type": "code",
   "metadata": {
    "ExecuteTime": {
     "end_time": "2024-07-09T14:21:52.075665Z",
     "start_time": "2024-07-09T14:21:52.060391Z"
    }
   },
   "source": [
    "INEGI_UNIQUEMUN_2022.shape"
   ],
   "outputs": [
    {
     "data": {
      "text/plain": [
       "(2475, 7)"
      ]
     },
     "execution_count": 22,
     "metadata": {},
     "output_type": "execute_result"
    }
   ],
   "execution_count": 22
  },
  {
   "cell_type": "code",
   "metadata": {
    "ExecuteTime": {
     "end_time": "2024-07-09T14:21:52.094484Z",
     "start_time": "2024-07-09T14:21:52.082794Z"
    }
   },
   "source": [
    "INEGI_UNIQUEMUN_2022.columns"
   ],
   "outputs": [
    {
     "data": {
      "text/plain": [
       "Index(['CVE_ENT', 'Entidad_inegi', 'CVE_MUN', 'Municipio_inegi',\n",
       "       'Entidad_c_inegi', 'Municipio_c_inegi', 'KEY_inegi_municipio'],\n",
       "      dtype='object')"
      ]
     },
     "execution_count": 23,
     "metadata": {},
     "output_type": "execute_result"
    }
   ],
   "execution_count": 23
  },
  {
   "cell_type": "markdown",
   "metadata": {},
   "source": [
    "### 1.2.1 INEGI 2022 Localidades únicas para cada año."
   ]
  },
  {
   "cell_type": "code",
   "metadata": {
    "ExecuteTime": {
     "end_time": "2024-07-09T14:21:52.994979Z",
     "start_time": "2024-07-09T14:21:52.097496Z"
    }
   },
   "source": [
    "INEGI_UNIQUELOC_2022 = dataset_inegi_2022\n",
    "\n",
    "INEGI_UNIQUELOC_2022 = INEGI_UNIQUELOC_2022.drop_duplicates()"
   ],
   "outputs": [],
   "execution_count": 24
  },
  {
   "cell_type": "code",
   "metadata": {
    "ExecuteTime": {
     "end_time": "2024-07-09T14:21:53.014554Z",
     "start_time": "2024-07-09T14:21:52.998507Z"
    }
   },
   "source": [
    "INEGI_UNIQUELOC_2022.shape"
   ],
   "outputs": [
    {
     "data": {
      "text/plain": [
       "(300240, 11)"
      ]
     },
     "execution_count": 25,
     "metadata": {},
     "output_type": "execute_result"
    }
   ],
   "execution_count": 25
  },
  {
   "cell_type": "markdown",
   "metadata": {},
   "source": [
    "# 2. Diccionario de los datasets de INEGI Y LISTADO BENEFICIARIOS 2019\n",
    "\n",
    "El objetivo de esta sección es crear dos diccionarios de códigos según BENEFICIARIOS-MUNICIPIOS_INEGI y otro BENEFICIARIOS-LOCALIDADES_INEGI, para cada uno de los estados encontrados en inegi_2022, en este caso el número de keys es menor con lo cual no nos hará falta dividir por estado.\n",
    "\n",
    "Para ello haremos un Left join entre Localidades_22 y el dataset de INEGI correspondiente."
   ]
  },
  {
   "cell_type": "code",
   "metadata": {
    "ExecuteTime": {
     "end_time": "2024-07-09T14:21:53.032271Z",
     "start_time": "2024-07-09T14:21:53.020120Z"
    }
   },
   "source": [
    "# Crear una función para encontrar la mejor coincidencia difusa con límites entre 85 y 100 de coincidencia\n",
    "def fuzzy_merge_benef2019_2022(df_benef, df_inegi, key1, key2, threshold=85, limit=1):\n",
    "    \"\"\"\n",
    "    df_inegi: DataFrame de la izquierda (el DataFrame principal)\n",
    "    df_prod: DataFrame de la derecha (el DataFrame con el que se quiere hacer el join)\n",
    "    key1: Columna de la clave en df_inegi\n",
    "    key2: Columna de la clave en df_prod\n",
    "    threshold: Umbral de coincidencia difusa\n",
    "    limit: Número de coincidencias a encontrar\n",
    "    \"\"\"\n",
    "    s = df_inegi[key2].tolist()\n",
    "\n",
    "    # Encontrar las mejores coincidencias para cada clave en df_inegi\n",
    "    matches = df_benef[key1].apply(lambda x: process.extractOne(x, s, score_cutoff=threshold))\n",
    "\n",
    "    # Crear una columna con las mejores coincidencias\n",
    "    df_benef['best_match'] = [match[0] if match else None for match in matches]\n",
    "\n",
    "    df_benef['match_score'] = [match[1] if match else None for match in matches]\n",
    "\n",
    "    # Hacer el merge con las mejores coincidencias\n",
    "    df_merged = pd.merge(df_benef, df_inegi, left_on='best_match', right_on=key2, how='left',\n",
    "                         suffixes=('_benef', '_inegi'))\n",
    "\n",
    "    return df_merged"
   ],
   "outputs": [],
   "execution_count": 26
  },
  {
   "cell_type": "code",
   "metadata": {
    "ExecuteTime": {
     "end_time": "2024-07-09T14:24:33.349477Z",
     "start_time": "2024-07-09T14:21:53.035288Z"
    }
   },
   "source": [
    "diccionario_MUN_22 = fuzzy_merge_benef2019_2022(Municipios_22, INEGI_UNIQUEMUN_2022, 'KEY_benef_mun',\n",
    "                                                'KEY_inegi_municipio')\n",
    "diccionario_MUN_22.shape"
   ],
   "outputs": [
    {
     "data": {
      "text/plain": [
       "(1031, 14)"
      ]
     },
     "execution_count": 27,
     "metadata": {},
     "output_type": "execute_result"
    }
   ],
   "execution_count": 27
  },
  {
   "cell_type": "code",
   "metadata": {
    "ExecuteTime": {
     "end_time": "2024-07-09T14:24:33.369871Z",
     "start_time": "2024-07-09T14:24:33.352743Z"
    }
   },
   "source": [
    "diccionario_MUN_22.drop(columns=['ENTIDAD', 'MUNICIPIO', 'ENTIDAD_c_benef', 'MUNICIPIO_c_benef', 'Entidad_c_inegi',\n",
    "                                 'Municipio_c_inegi'], inplace=True)\n",
    "diccionario_MUN_22.drop_duplicates(subset='KEY_benef_mun', keep='first', inplace=True)"
   ],
   "outputs": [],
   "execution_count": 28
  },
  {
   "metadata": {
    "ExecuteTime": {
     "end_time": "2024-07-09T14:24:33.400653Z",
     "start_time": "2024-07-09T14:24:33.380426Z"
    }
   },
   "cell_type": "code",
   "source": "diccionario_MUN_22.shape",
   "outputs": [
    {
     "data": {
      "text/plain": [
       "(1029, 8)"
      ]
     },
     "execution_count": 29,
     "metadata": {},
     "output_type": "execute_result"
    }
   ],
   "execution_count": 29
  },
  {
   "cell_type": "code",
   "metadata": {
    "ExecuteTime": {
     "end_time": "2024-07-09T14:24:33.429249Z",
     "start_time": "2024-07-09T14:24:33.405667Z"
    }
   },
   "source": [
    "diccionario_MUN_22.to_csv('../../data/productores_beneficiarios 2019-2022/diccionarios_E3/diccionario_MUN_22.csv',\n",
    "                          index=False)\n",
    "diccionario_MUN_22_simple = diccionario_MUN_22.drop(\n",
    "    columns=['best_match', 'match_score', 'CVE_ENT', 'Entidad_inegi', 'CVE_MUN', 'Municipio_inegi'])\n",
    "# # TODO Es necesario modificar el diccionario manual\n",
    "# diccionario_MUN_22_simple.to_csv(\n",
    "#     '../../data/productores_beneficiarios 2019-2022/diccionarios_E3/diccionario_MUN_22_simple.csv', index=False)"
   ],
   "outputs": [],
   "execution_count": 30
  },
  {
   "cell_type": "code",
   "metadata": {
    "ExecuteTime": {
     "end_time": "2024-07-09T14:24:33.442534Z",
     "start_time": "2024-07-09T14:24:33.432553Z"
    }
   },
   "source": [
    "diccionario_MUN_22_simple = pd.read_csv(\n",
    "    '../../data/productores_beneficiarios 2019-2022/diccionarios_E3/diccionario_MUN_22_simple.csv')"
   ],
   "outputs": [],
   "execution_count": 31
  },
  {
   "cell_type": "code",
   "metadata": {
    "ExecuteTime": {
     "end_time": "2024-07-09T14:24:33.462737Z",
     "start_time": "2024-07-09T14:24:33.446550Z"
    }
   },
   "source": [
    "beneficiarios_22.shape"
   ],
   "outputs": [
    {
     "data": {
      "text/plain": [
       "(826382, 16)"
      ]
     },
     "execution_count": 32,
     "metadata": {},
     "output_type": "execute_result"
    }
   ],
   "execution_count": 32
  },
  {
   "cell_type": "code",
   "metadata": {
    "ExecuteTime": {
     "end_time": "2024-07-09T14:24:33.486830Z",
     "start_time": "2024-07-09T14:24:33.473429Z"
    }
   },
   "source": [
    "duplicates_specific_column = diccionario_MUN_22_simple[\n",
    "    diccionario_MUN_22_simple.duplicated(subset=['KEY_benef_mun', 'KEY_inegi_municipio'], keep=False)]\n",
    "print(duplicates_specific_column)"
   ],
   "outputs": [
    {
     "name": "stdout",
     "output_type": "stream",
     "text": [
      "                 KEY_benef_mun        KEY_inegi_municipio\n",
      "13    oaxaca-san juan mixtepec   oaxaca-san juan mixtepec\n",
      "14    oaxaca-san juan mixtepec   oaxaca-san juan mixtepec\n",
      "339  oaxaca-san pedro mixtepec  oaxaca-san pedro mixtepec\n",
      "340  oaxaca-san pedro mixtepec  oaxaca-san pedro mixtepec\n"
     ]
    }
   ],
   "execution_count": 33
  },
  {
   "cell_type": "code",
   "metadata": {
    "ExecuteTime": {
     "end_time": "2024-07-09T14:24:33.504818Z",
     "start_time": "2024-07-09T14:24:33.489371Z"
    }
   },
   "source": [
    "duplicates_specific_column = diccionario_MUN_22_simple[\n",
    "    diccionario_MUN_22_simple.duplicated(subset='KEY_inegi_municipio', keep=False)]\n",
    "print(duplicates_specific_column)"
   ],
   "outputs": [
    {
     "name": "stdout",
     "output_type": "stream",
     "text": [
      "                                      KEY_benef_mun  \\\n",
      "0     oaxaca-heroica ciudad de juchitan de zaragoza   \n",
      "13                         oaxaca-san juan mixtepec   \n",
      "14                         oaxaca-san juan mixtepec   \n",
      "339                       oaxaca-san pedro mixtepec   \n",
      "340                       oaxaca-san pedro mixtepec   \n",
      "1016                    oaxaca-juchitan de zaragoza   \n",
      "\n",
      "              KEY_inegi_municipio  \n",
      "0     oaxaca-juchitan de zaragoza  \n",
      "13       oaxaca-san juan mixtepec  \n",
      "14       oaxaca-san juan mixtepec  \n",
      "339     oaxaca-san pedro mixtepec  \n",
      "340     oaxaca-san pedro mixtepec  \n",
      "1016  oaxaca-juchitan de zaragoza  \n"
     ]
    }
   ],
   "execution_count": 34
  },
  {
   "cell_type": "code",
   "metadata": {
    "ExecuteTime": {
     "end_time": "2024-07-09T14:24:33.514690Z",
     "start_time": "2024-07-09T14:24:33.506828Z"
    }
   },
   "source": [
    "diccionario_MUN_22_simple = diccionario_MUN_22_simple.drop_duplicates(subset='KEY_inegi_municipio', keep='first')"
   ],
   "outputs": [],
   "execution_count": 35
  },
  {
   "cell_type": "code",
   "metadata": {
    "ExecuteTime": {
     "end_time": "2024-07-09T14:24:33.525510Z",
     "start_time": "2024-07-09T14:24:33.518269Z"
    }
   },
   "source": [
    "diccionario_MUN_22_simple = diccionario_MUN_22_simple.drop_duplicates(subset='KEY_benef_mun', keep='first')"
   ],
   "outputs": [],
   "execution_count": 36
  },
  {
   "cell_type": "code",
   "metadata": {
    "ExecuteTime": {
     "end_time": "2024-07-09T14:24:34.044508Z",
     "start_time": "2024-07-09T14:24:33.529592Z"
    }
   },
   "source": [
    "nan_rows = beneficiarios_22[beneficiarios_22.isna().any(axis=1)]"
   ],
   "outputs": [],
   "execution_count": 37
  },
  {
   "cell_type": "code",
   "metadata": {
    "ExecuteTime": {
     "end_time": "2024-07-09T14:24:34.061915Z",
     "start_time": "2024-07-09T14:24:34.046521Z"
    }
   },
   "source": [
    "nan_rows"
   ],
   "outputs": [
    {
     "data": {
      "text/plain": [
       "Empty DataFrame\n",
       "Columns: [BENEFICIARIO, ZONA, ENTIDAD, MUNICIPIO, LOCALIDAD, ESTRATIFICACIÓN, PROGRAMA, COMPONENTE, SUBCOMPONENTE, PRODUCTO, FECHA, MONTO FEDERAL, APOYO, ACTIVIDAD, ESLABÓN, CICLO AGRÍCOLA]\n",
       "Index: []"
      ],
      "text/html": [
       "<div>\n",
       "<style scoped>\n",
       "    .dataframe tbody tr th:only-of-type {\n",
       "        vertical-align: middle;\n",
       "    }\n",
       "\n",
       "    .dataframe tbody tr th {\n",
       "        vertical-align: top;\n",
       "    }\n",
       "\n",
       "    .dataframe thead th {\n",
       "        text-align: right;\n",
       "    }\n",
       "</style>\n",
       "<table border=\"1\" class=\"dataframe\">\n",
       "  <thead>\n",
       "    <tr style=\"text-align: right;\">\n",
       "      <th></th>\n",
       "      <th>BENEFICIARIO</th>\n",
       "      <th>ZONA</th>\n",
       "      <th>ENTIDAD</th>\n",
       "      <th>MUNICIPIO</th>\n",
       "      <th>LOCALIDAD</th>\n",
       "      <th>ESTRATIFICACIÓN</th>\n",
       "      <th>PROGRAMA</th>\n",
       "      <th>COMPONENTE</th>\n",
       "      <th>SUBCOMPONENTE</th>\n",
       "      <th>PRODUCTO</th>\n",
       "      <th>FECHA</th>\n",
       "      <th>MONTO FEDERAL</th>\n",
       "      <th>APOYO</th>\n",
       "      <th>ACTIVIDAD</th>\n",
       "      <th>ESLABÓN</th>\n",
       "      <th>CICLO AGRÍCOLA</th>\n",
       "    </tr>\n",
       "  </thead>\n",
       "  <tbody>\n",
       "  </tbody>\n",
       "</table>\n",
       "</div>"
      ]
     },
     "execution_count": 38,
     "metadata": {},
     "output_type": "execute_result"
    }
   ],
   "execution_count": 38
  },
  {
   "cell_type": "code",
   "metadata": {
    "ExecuteTime": {
     "end_time": "2024-07-09T14:24:34.132181Z",
     "start_time": "2024-07-09T14:24:34.065204Z"
    }
   },
   "source": [
    "# Assuming your DataFrame is named df\n",
    "filtered_df = beneficiarios_22[beneficiarios_22['ENTIDAD'] == 'NACIONAL']"
   ],
   "outputs": [],
   "execution_count": 39
  },
  {
   "cell_type": "code",
   "metadata": {
    "ExecuteTime": {
     "end_time": "2024-07-09T14:24:34.149278Z",
     "start_time": "2024-07-09T14:24:34.135192Z"
    }
   },
   "source": [
    "filtered_df"
   ],
   "outputs": [
    {
     "data": {
      "text/plain": [
       "Empty DataFrame\n",
       "Columns: [BENEFICIARIO, ZONA, ENTIDAD, MUNICIPIO, LOCALIDAD, ESTRATIFICACIÓN, PROGRAMA, COMPONENTE, SUBCOMPONENTE, PRODUCTO, FECHA, MONTO FEDERAL, APOYO, ACTIVIDAD, ESLABÓN, CICLO AGRÍCOLA]\n",
       "Index: []"
      ],
      "text/html": [
       "<div>\n",
       "<style scoped>\n",
       "    .dataframe tbody tr th:only-of-type {\n",
       "        vertical-align: middle;\n",
       "    }\n",
       "\n",
       "    .dataframe tbody tr th {\n",
       "        vertical-align: top;\n",
       "    }\n",
       "\n",
       "    .dataframe thead th {\n",
       "        text-align: right;\n",
       "    }\n",
       "</style>\n",
       "<table border=\"1\" class=\"dataframe\">\n",
       "  <thead>\n",
       "    <tr style=\"text-align: right;\">\n",
       "      <th></th>\n",
       "      <th>BENEFICIARIO</th>\n",
       "      <th>ZONA</th>\n",
       "      <th>ENTIDAD</th>\n",
       "      <th>MUNICIPIO</th>\n",
       "      <th>LOCALIDAD</th>\n",
       "      <th>ESTRATIFICACIÓN</th>\n",
       "      <th>PROGRAMA</th>\n",
       "      <th>COMPONENTE</th>\n",
       "      <th>SUBCOMPONENTE</th>\n",
       "      <th>PRODUCTO</th>\n",
       "      <th>FECHA</th>\n",
       "      <th>MONTO FEDERAL</th>\n",
       "      <th>APOYO</th>\n",
       "      <th>ACTIVIDAD</th>\n",
       "      <th>ESLABÓN</th>\n",
       "      <th>CICLO AGRÍCOLA</th>\n",
       "    </tr>\n",
       "  </thead>\n",
       "  <tbody>\n",
       "  </tbody>\n",
       "</table>\n",
       "</div>"
      ]
     },
     "execution_count": 40,
     "metadata": {},
     "output_type": "execute_result"
    }
   ],
   "execution_count": 40
  },
  {
   "cell_type": "markdown",
   "metadata": {},
   "source": [
    "### MERGE\n",
    "\n",
    "Armamos por partes el dataset definitivo:\n",
    "1. Juntamos beneficiarios_19 con el diccionario simple. (listado_beneficiario_parte_I)\n",
    "2. Al df anterior juntamos las claver provenientes del catálogo de Inegi. (listado_beneficiario_parte_II)"
   ]
  },
  {
   "cell_type": "code",
   "metadata": {
    "ExecuteTime": {
     "end_time": "2024-07-09T14:24:34.160815Z",
     "start_time": "2024-07-09T14:24:34.152503Z"
    }
   },
   "source": [
    "beneficiarios_22.columns"
   ],
   "outputs": [
    {
     "data": {
      "text/plain": [
       "Index(['BENEFICIARIO', 'ZONA', 'ENTIDAD', 'MUNICIPIO', 'LOCALIDAD',\n",
       "       'ESTRATIFICACIÓN', 'PROGRAMA', 'COMPONENTE', 'SUBCOMPONENTE',\n",
       "       'PRODUCTO', 'FECHA', 'MONTO FEDERAL', 'APOYO', 'ACTIVIDAD', 'ESLABÓN',\n",
       "       'CICLO AGRÍCOLA'],\n",
       "      dtype='object')"
      ]
     },
     "execution_count": 41,
     "metadata": {},
     "output_type": "execute_result"
    }
   ],
   "execution_count": 41
  },
  {
   "cell_type": "code",
   "metadata": {
    "ExecuteTime": {
     "end_time": "2024-07-09T14:24:34.172120Z",
     "start_time": "2024-07-09T14:24:34.164830Z"
    }
   },
   "source": [
    "beneficiarios_22.shape"
   ],
   "outputs": [
    {
     "data": {
      "text/plain": [
       "(826382, 16)"
      ]
     },
     "execution_count": 42,
     "metadata": {},
     "output_type": "execute_result"
    }
   ],
   "execution_count": 42
  },
  {
   "cell_type": "code",
   "metadata": {
    "ExecuteTime": {
     "end_time": "2024-07-09T14:24:46.918971Z",
     "start_time": "2024-07-09T14:24:34.174128Z"
    }
   },
   "source": [
    "# Crear una variable KEY en listado de productores y el diccionario para hacer el join\n",
    "\n",
    "# Clean listado beneficiarios\n",
    "beneficiarios_22['ESTADO_Clean'] = beneficiarios_22['ENTIDAD'].apply(clean_text)\n",
    "beneficiarios_22['MUNICIPIO_Clean'] = beneficiarios_22['MUNICIPIO'].apply(clean_text)\n",
    "\n",
    "# Create KEY in listado beneficiarios\n",
    "beneficiarios_22['Estado-mun-KEY'] = beneficiarios_22['ESTADO_Clean'].astype(str) + '-' + beneficiarios_22[\n",
    "    'MUNICIPIO_Clean'].astype(str)"
   ],
   "outputs": [],
   "execution_count": 43
  },
  {
   "cell_type": "code",
   "metadata": {
    "ExecuteTime": {
     "end_time": "2024-07-09T14:24:47.847179Z",
     "start_time": "2024-07-09T14:24:46.923199Z"
    }
   },
   "source": [
    "# Hacer el join de la Parte I\n",
    "listado_beneficiarios_parte_I = pd.merge(beneficiarios_22, diccionario_MUN_22_simple, left_on=\"Estado-mun-KEY\",\n",
    "                                         right_on=\"KEY_benef_mun\", how='left', suffixes=('_benef', '_inegi'))"
   ],
   "outputs": [],
   "execution_count": 44
  },
  {
   "cell_type": "code",
   "metadata": {
    "ExecuteTime": {
     "end_time": "2024-07-09T14:24:47.856284Z",
     "start_time": "2024-07-09T14:24:47.849342Z"
    }
   },
   "source": [
    "listado_beneficiarios_parte_I.columns"
   ],
   "outputs": [
    {
     "data": {
      "text/plain": [
       "Index(['BENEFICIARIO', 'ZONA', 'ENTIDAD', 'MUNICIPIO', 'LOCALIDAD',\n",
       "       'ESTRATIFICACIÓN', 'PROGRAMA', 'COMPONENTE', 'SUBCOMPONENTE',\n",
       "       'PRODUCTO', 'FECHA', 'MONTO FEDERAL', 'APOYO', 'ACTIVIDAD', 'ESLABÓN',\n",
       "       'CICLO AGRÍCOLA', 'ESTADO_Clean', 'MUNICIPIO_Clean', 'Estado-mun-KEY',\n",
       "       'KEY_benef_mun', 'KEY_inegi_municipio'],\n",
       "      dtype='object')"
      ]
     },
     "execution_count": 45,
     "metadata": {},
     "output_type": "execute_result"
    }
   ],
   "execution_count": 45
  },
  {
   "cell_type": "code",
   "metadata": {
    "ExecuteTime": {
     "end_time": "2024-07-09T14:24:47.868971Z",
     "start_time": "2024-07-09T14:24:47.858293Z"
    }
   },
   "source": [
    "listado_beneficiarios_parte_I.shape"
   ],
   "outputs": [
    {
     "data": {
      "text/plain": [
       "(826382, 21)"
      ]
     },
     "execution_count": 46,
     "metadata": {},
     "output_type": "execute_result"
    }
   ],
   "execution_count": 46
  },
  {
   "metadata": {
    "ExecuteTime": {
     "end_time": "2024-07-09T14:24:47.882144Z",
     "start_time": "2024-07-09T14:24:47.872982Z"
    }
   },
   "cell_type": "code",
   "source": [
    "print(INEGI_UNIQUEMUN_2022.shape)\n",
    "INEGI_UNIQUEMUN_2022.drop_duplicates(subset='KEY_inegi_municipio', keep='first', inplace=True)\n",
    "print(INEGI_UNIQUEMUN_2022.shape)"
   ],
   "outputs": [
    {
     "name": "stdout",
     "output_type": "stream",
     "text": [
      "(2475, 7)\n",
      "(2473, 7)\n"
     ]
    }
   ],
   "execution_count": 47
  },
  {
   "cell_type": "code",
   "metadata": {
    "ExecuteTime": {
     "end_time": "2024-07-09T14:24:48.846444Z",
     "start_time": "2024-07-09T14:24:47.884152Z"
    }
   },
   "source": [
    "# TODO: REVISAR ESTA PARTE (ARTURO)\n",
    "listado_beneficiarios_parte_II = pd.merge(listado_beneficiarios_parte_I, INEGI_UNIQUEMUN_2022,\n",
    "                                          left_on=\"KEY_inegi_municipio\",\n",
    "                                          right_on=\"KEY_inegi_municipio\", how='left', suffixes=('_benef', '_inegi'))"
   ],
   "outputs": [],
   "execution_count": 48
  },
  {
   "cell_type": "code",
   "metadata": {
    "ExecuteTime": {
     "end_time": "2024-07-09T14:24:50.380997Z",
     "start_time": "2024-07-09T14:24:48.848459Z"
    }
   },
   "source": [
    "listado_beneficiarios_parte_II"
   ],
   "outputs": [
    {
     "data": {
      "text/plain": [
       "                   BENEFICIARIO         ZONA   ENTIDAD  \\\n",
       "0       ABAC NERI JESUS CARLOS   CENTRO PAÍS  GUERRERO   \n",
       "1         ABAD ALARCON ELIAZAR   CENTRO PAÍS  GUERRERO   \n",
       "2        ABAD ALARCON EZEQUIEL   CENTRO PAÍS  GUERRERO   \n",
       "3       ABAD ALARCON FULGENCIO   CENTRO PAÍS  GUERRERO   \n",
       "4         ABAD ALARCON ROMALDA   CENTRO PAÍS  GUERRERO   \n",
       "...                         ...          ...       ...   \n",
       "826377   ZURITA ZURITA ROLANDO   SUR SURESTE    OAXACA   \n",
       "826378    ZURITA ZURITA SIMEON   SUR SURESTE    OAXACA   \n",
       "826379   ZURITA ZURITA ZENAIDA   SUR SURESTE    OAXACA   \n",
       "826380  ZURROZA RUEDA APOLINAR   SUR SURESTE    OAXACA   \n",
       "826381       ZURROZA RUEDA EVA   SUR SURESTE    OAXACA   \n",
       "\n",
       "                            MUNICIPIO                LOCALIDAD  \\\n",
       "0                   COYUCA DE BENÍTEZ             PUEBLO VIEJO   \n",
       "1                   COYUCA DE BENÍTEZ             PUEBLO VIEJO   \n",
       "2                   COYUCA DE BENÍTEZ               AGUA ZARCA   \n",
       "3                   COYUCA DE BENÍTEZ               AGUA ZARCA   \n",
       "4                   COYUCA DE BENÍTEZ             YERBASANTITA   \n",
       "...                               ...                      ...   \n",
       "826377  SAN SEBASTIÁN TECOMAXTLAHUACA        SAN MATEO TUNUCHI   \n",
       "826378                SAN JUAN LACHAO          SAN JUAN LACHAO   \n",
       "826379         SANTA MARÍA OZOLOTEPEC   SANTA MARÍA OZOLOTEPEC   \n",
       "826380        SANTO DOMINGO CHIHUITÁN  SANTO DOMINGO CHIHUITÁN   \n",
       "826381        SANTO DOMINGO CHIHUITÁN  SANTO DOMINGO CHIHUITÁN   \n",
       "\n",
       "       ESTRATIFICACIÓN       PROGRAMA     COMPONENTE  SUBCOMPONENTE  \\\n",
       "0                 Alto  FERTILIZANTES  FERTILIZANTES  FERTILIZANTES   \n",
       "1                 Alto  FERTILIZANTES  FERTILIZANTES  FERTILIZANTES   \n",
       "2                 Alto  FERTILIZANTES  FERTILIZANTES  FERTILIZANTES   \n",
       "3                 Alto  FERTILIZANTES  FERTILIZANTES  FERTILIZANTES   \n",
       "4                 Alto  FERTILIZANTES  FERTILIZANTES  FERTILIZANTES   \n",
       "...                ...            ...            ...            ...   \n",
       "826377            Alto  FERTILIZANTES  FERTILIZANTES  FERTILIZANTES   \n",
       "826378            Alto  FERTILIZANTES  FERTILIZANTES  FERTILIZANTES   \n",
       "826379            Alto  FERTILIZANTES  FERTILIZANTES  FERTILIZANTES   \n",
       "826380           Medio  FERTILIZANTES  FERTILIZANTES  FERTILIZANTES   \n",
       "826381           Medio  FERTILIZANTES  FERTILIZANTES  FERTILIZANTES   \n",
       "\n",
       "                            PRODUCTO  ...                MUNICIPIO_Clean  \\\n",
       "0       Cultivo de maíz grano blanco  ...              coyuca de benitez   \n",
       "1       Cultivo de maíz grano blanco  ...              coyuca de benitez   \n",
       "2       Cultivo de maíz grano blanco  ...              coyuca de benitez   \n",
       "3       Cultivo de maíz grano blanco  ...              coyuca de benitez   \n",
       "4       Cultivo de maíz grano blanco  ...              coyuca de benitez   \n",
       "...                              ...  ...                            ...   \n",
       "826377                         Milpa  ...  san sebastian tecomaxtlahuaca   \n",
       "826378  Cultivo de maíz grano blanco  ...                san juan lachao   \n",
       "826379                         Milpa  ...         santa maria ozolotepec   \n",
       "826380  Cultivo de maíz grano blanco  ...        santo domingo chihuitan   \n",
       "826381  Cultivo de maíz grano blanco  ...        santo domingo chihuitan   \n",
       "\n",
       "                              Estado-mun-KEY  \\\n",
       "0                 guerrero-coyuca de benitez   \n",
       "1                 guerrero-coyuca de benitez   \n",
       "2                 guerrero-coyuca de benitez   \n",
       "3                 guerrero-coyuca de benitez   \n",
       "4                 guerrero-coyuca de benitez   \n",
       "...                                      ...   \n",
       "826377  oaxaca-san sebastian tecomaxtlahuaca   \n",
       "826378                oaxaca-san juan lachao   \n",
       "826379         oaxaca-santa maria ozolotepec   \n",
       "826380        oaxaca-santo domingo chihuitan   \n",
       "826381        oaxaca-santo domingo chihuitan   \n",
       "\n",
       "                               KEY_benef_mun  \\\n",
       "0                 guerrero-coyuca de benitez   \n",
       "1                 guerrero-coyuca de benitez   \n",
       "2                 guerrero-coyuca de benitez   \n",
       "3                 guerrero-coyuca de benitez   \n",
       "4                 guerrero-coyuca de benitez   \n",
       "...                                      ...   \n",
       "826377  oaxaca-san sebastian tecomaxtlahuaca   \n",
       "826378                oaxaca-san juan lachao   \n",
       "826379         oaxaca-santa maria ozolotepec   \n",
       "826380        oaxaca-santo domingo chihuitan   \n",
       "826381        oaxaca-santo domingo chihuitan   \n",
       "\n",
       "                         KEY_inegi_municipio CVE_ENT Entidad_inegi CVE_MUN  \\\n",
       "0                 guerrero-coyuca de benitez    12.0      Guerrero    21.0   \n",
       "1                 guerrero-coyuca de benitez    12.0      Guerrero    21.0   \n",
       "2                 guerrero-coyuca de benitez    12.0      Guerrero    21.0   \n",
       "3                 guerrero-coyuca de benitez    12.0      Guerrero    21.0   \n",
       "4                 guerrero-coyuca de benitez    12.0      Guerrero    21.0   \n",
       "...                                      ...     ...           ...     ...   \n",
       "826377  oaxaca-san sebastian tecomaxtlahuaca    20.0        Oaxaca   348.0   \n",
       "826378                oaxaca-san juan lachao    20.0        Oaxaca   202.0   \n",
       "826379         oaxaca-santa maria ozolotepec    20.0        Oaxaca   424.0   \n",
       "826380        oaxaca-santo domingo chihuitan    20.0        Oaxaca   508.0   \n",
       "826381        oaxaca-santo domingo chihuitan    20.0        Oaxaca   508.0   \n",
       "\n",
       "                      Municipio_inegi Entidad_c_inegi  \\\n",
       "0                   Coyuca de Benítez        guerrero   \n",
       "1                   Coyuca de Benítez        guerrero   \n",
       "2                   Coyuca de Benítez        guerrero   \n",
       "3                   Coyuca de Benítez        guerrero   \n",
       "4                   Coyuca de Benítez        guerrero   \n",
       "...                               ...             ...   \n",
       "826377  San Sebastián Tecomaxtlahuaca          oaxaca   \n",
       "826378                San Juan Lachao          oaxaca   \n",
       "826379         Santa María Ozolotepec          oaxaca   \n",
       "826380        Santo Domingo Chihuitán          oaxaca   \n",
       "826381        Santo Domingo Chihuitán          oaxaca   \n",
       "\n",
       "                    Municipio_c_inegi  \n",
       "0                   coyuca de benitez  \n",
       "1                   coyuca de benitez  \n",
       "2                   coyuca de benitez  \n",
       "3                   coyuca de benitez  \n",
       "4                   coyuca de benitez  \n",
       "...                               ...  \n",
       "826377  san sebastian tecomaxtlahuaca  \n",
       "826378                san juan lachao  \n",
       "826379         santa maria ozolotepec  \n",
       "826380        santo domingo chihuitan  \n",
       "826381        santo domingo chihuitan  \n",
       "\n",
       "[826382 rows x 27 columns]"
      ],
      "text/html": [
       "<div>\n",
       "<style scoped>\n",
       "    .dataframe tbody tr th:only-of-type {\n",
       "        vertical-align: middle;\n",
       "    }\n",
       "\n",
       "    .dataframe tbody tr th {\n",
       "        vertical-align: top;\n",
       "    }\n",
       "\n",
       "    .dataframe thead th {\n",
       "        text-align: right;\n",
       "    }\n",
       "</style>\n",
       "<table border=\"1\" class=\"dataframe\">\n",
       "  <thead>\n",
       "    <tr style=\"text-align: right;\">\n",
       "      <th></th>\n",
       "      <th>BENEFICIARIO</th>\n",
       "      <th>ZONA</th>\n",
       "      <th>ENTIDAD</th>\n",
       "      <th>MUNICIPIO</th>\n",
       "      <th>LOCALIDAD</th>\n",
       "      <th>ESTRATIFICACIÓN</th>\n",
       "      <th>PROGRAMA</th>\n",
       "      <th>COMPONENTE</th>\n",
       "      <th>SUBCOMPONENTE</th>\n",
       "      <th>PRODUCTO</th>\n",
       "      <th>...</th>\n",
       "      <th>MUNICIPIO_Clean</th>\n",
       "      <th>Estado-mun-KEY</th>\n",
       "      <th>KEY_benef_mun</th>\n",
       "      <th>KEY_inegi_municipio</th>\n",
       "      <th>CVE_ENT</th>\n",
       "      <th>Entidad_inegi</th>\n",
       "      <th>CVE_MUN</th>\n",
       "      <th>Municipio_inegi</th>\n",
       "      <th>Entidad_c_inegi</th>\n",
       "      <th>Municipio_c_inegi</th>\n",
       "    </tr>\n",
       "  </thead>\n",
       "  <tbody>\n",
       "    <tr>\n",
       "      <th>0</th>\n",
       "      <td>ABAC NERI JESUS CARLOS</td>\n",
       "      <td>CENTRO PAÍS</td>\n",
       "      <td>GUERRERO</td>\n",
       "      <td>COYUCA DE BENÍTEZ</td>\n",
       "      <td>PUEBLO VIEJO</td>\n",
       "      <td>Alto</td>\n",
       "      <td>FERTILIZANTES</td>\n",
       "      <td>FERTILIZANTES</td>\n",
       "      <td>FERTILIZANTES</td>\n",
       "      <td>Cultivo de maíz grano blanco</td>\n",
       "      <td>...</td>\n",
       "      <td>coyuca de benitez</td>\n",
       "      <td>guerrero-coyuca de benitez</td>\n",
       "      <td>guerrero-coyuca de benitez</td>\n",
       "      <td>guerrero-coyuca de benitez</td>\n",
       "      <td>12.0</td>\n",
       "      <td>Guerrero</td>\n",
       "      <td>21.0</td>\n",
       "      <td>Coyuca de Benítez</td>\n",
       "      <td>guerrero</td>\n",
       "      <td>coyuca de benitez</td>\n",
       "    </tr>\n",
       "    <tr>\n",
       "      <th>1</th>\n",
       "      <td>ABAD ALARCON ELIAZAR</td>\n",
       "      <td>CENTRO PAÍS</td>\n",
       "      <td>GUERRERO</td>\n",
       "      <td>COYUCA DE BENÍTEZ</td>\n",
       "      <td>PUEBLO VIEJO</td>\n",
       "      <td>Alto</td>\n",
       "      <td>FERTILIZANTES</td>\n",
       "      <td>FERTILIZANTES</td>\n",
       "      <td>FERTILIZANTES</td>\n",
       "      <td>Cultivo de maíz grano blanco</td>\n",
       "      <td>...</td>\n",
       "      <td>coyuca de benitez</td>\n",
       "      <td>guerrero-coyuca de benitez</td>\n",
       "      <td>guerrero-coyuca de benitez</td>\n",
       "      <td>guerrero-coyuca de benitez</td>\n",
       "      <td>12.0</td>\n",
       "      <td>Guerrero</td>\n",
       "      <td>21.0</td>\n",
       "      <td>Coyuca de Benítez</td>\n",
       "      <td>guerrero</td>\n",
       "      <td>coyuca de benitez</td>\n",
       "    </tr>\n",
       "    <tr>\n",
       "      <th>2</th>\n",
       "      <td>ABAD ALARCON EZEQUIEL</td>\n",
       "      <td>CENTRO PAÍS</td>\n",
       "      <td>GUERRERO</td>\n",
       "      <td>COYUCA DE BENÍTEZ</td>\n",
       "      <td>AGUA ZARCA</td>\n",
       "      <td>Alto</td>\n",
       "      <td>FERTILIZANTES</td>\n",
       "      <td>FERTILIZANTES</td>\n",
       "      <td>FERTILIZANTES</td>\n",
       "      <td>Cultivo de maíz grano blanco</td>\n",
       "      <td>...</td>\n",
       "      <td>coyuca de benitez</td>\n",
       "      <td>guerrero-coyuca de benitez</td>\n",
       "      <td>guerrero-coyuca de benitez</td>\n",
       "      <td>guerrero-coyuca de benitez</td>\n",
       "      <td>12.0</td>\n",
       "      <td>Guerrero</td>\n",
       "      <td>21.0</td>\n",
       "      <td>Coyuca de Benítez</td>\n",
       "      <td>guerrero</td>\n",
       "      <td>coyuca de benitez</td>\n",
       "    </tr>\n",
       "    <tr>\n",
       "      <th>3</th>\n",
       "      <td>ABAD ALARCON FULGENCIO</td>\n",
       "      <td>CENTRO PAÍS</td>\n",
       "      <td>GUERRERO</td>\n",
       "      <td>COYUCA DE BENÍTEZ</td>\n",
       "      <td>AGUA ZARCA</td>\n",
       "      <td>Alto</td>\n",
       "      <td>FERTILIZANTES</td>\n",
       "      <td>FERTILIZANTES</td>\n",
       "      <td>FERTILIZANTES</td>\n",
       "      <td>Cultivo de maíz grano blanco</td>\n",
       "      <td>...</td>\n",
       "      <td>coyuca de benitez</td>\n",
       "      <td>guerrero-coyuca de benitez</td>\n",
       "      <td>guerrero-coyuca de benitez</td>\n",
       "      <td>guerrero-coyuca de benitez</td>\n",
       "      <td>12.0</td>\n",
       "      <td>Guerrero</td>\n",
       "      <td>21.0</td>\n",
       "      <td>Coyuca de Benítez</td>\n",
       "      <td>guerrero</td>\n",
       "      <td>coyuca de benitez</td>\n",
       "    </tr>\n",
       "    <tr>\n",
       "      <th>4</th>\n",
       "      <td>ABAD ALARCON ROMALDA</td>\n",
       "      <td>CENTRO PAÍS</td>\n",
       "      <td>GUERRERO</td>\n",
       "      <td>COYUCA DE BENÍTEZ</td>\n",
       "      <td>YERBASANTITA</td>\n",
       "      <td>Alto</td>\n",
       "      <td>FERTILIZANTES</td>\n",
       "      <td>FERTILIZANTES</td>\n",
       "      <td>FERTILIZANTES</td>\n",
       "      <td>Cultivo de maíz grano blanco</td>\n",
       "      <td>...</td>\n",
       "      <td>coyuca de benitez</td>\n",
       "      <td>guerrero-coyuca de benitez</td>\n",
       "      <td>guerrero-coyuca de benitez</td>\n",
       "      <td>guerrero-coyuca de benitez</td>\n",
       "      <td>12.0</td>\n",
       "      <td>Guerrero</td>\n",
       "      <td>21.0</td>\n",
       "      <td>Coyuca de Benítez</td>\n",
       "      <td>guerrero</td>\n",
       "      <td>coyuca de benitez</td>\n",
       "    </tr>\n",
       "    <tr>\n",
       "      <th>...</th>\n",
       "      <td>...</td>\n",
       "      <td>...</td>\n",
       "      <td>...</td>\n",
       "      <td>...</td>\n",
       "      <td>...</td>\n",
       "      <td>...</td>\n",
       "      <td>...</td>\n",
       "      <td>...</td>\n",
       "      <td>...</td>\n",
       "      <td>...</td>\n",
       "      <td>...</td>\n",
       "      <td>...</td>\n",
       "      <td>...</td>\n",
       "      <td>...</td>\n",
       "      <td>...</td>\n",
       "      <td>...</td>\n",
       "      <td>...</td>\n",
       "      <td>...</td>\n",
       "      <td>...</td>\n",
       "      <td>...</td>\n",
       "      <td>...</td>\n",
       "    </tr>\n",
       "    <tr>\n",
       "      <th>826377</th>\n",
       "      <td>ZURITA ZURITA ROLANDO</td>\n",
       "      <td>SUR SURESTE</td>\n",
       "      <td>OAXACA</td>\n",
       "      <td>SAN SEBASTIÁN TECOMAXTLAHUACA</td>\n",
       "      <td>SAN MATEO TUNUCHI</td>\n",
       "      <td>Alto</td>\n",
       "      <td>FERTILIZANTES</td>\n",
       "      <td>FERTILIZANTES</td>\n",
       "      <td>FERTILIZANTES</td>\n",
       "      <td>Milpa</td>\n",
       "      <td>...</td>\n",
       "      <td>san sebastian tecomaxtlahuaca</td>\n",
       "      <td>oaxaca-san sebastian tecomaxtlahuaca</td>\n",
       "      <td>oaxaca-san sebastian tecomaxtlahuaca</td>\n",
       "      <td>oaxaca-san sebastian tecomaxtlahuaca</td>\n",
       "      <td>20.0</td>\n",
       "      <td>Oaxaca</td>\n",
       "      <td>348.0</td>\n",
       "      <td>San Sebastián Tecomaxtlahuaca</td>\n",
       "      <td>oaxaca</td>\n",
       "      <td>san sebastian tecomaxtlahuaca</td>\n",
       "    </tr>\n",
       "    <tr>\n",
       "      <th>826378</th>\n",
       "      <td>ZURITA ZURITA SIMEON</td>\n",
       "      <td>SUR SURESTE</td>\n",
       "      <td>OAXACA</td>\n",
       "      <td>SAN JUAN LACHAO</td>\n",
       "      <td>SAN JUAN LACHAO</td>\n",
       "      <td>Alto</td>\n",
       "      <td>FERTILIZANTES</td>\n",
       "      <td>FERTILIZANTES</td>\n",
       "      <td>FERTILIZANTES</td>\n",
       "      <td>Cultivo de maíz grano blanco</td>\n",
       "      <td>...</td>\n",
       "      <td>san juan lachao</td>\n",
       "      <td>oaxaca-san juan lachao</td>\n",
       "      <td>oaxaca-san juan lachao</td>\n",
       "      <td>oaxaca-san juan lachao</td>\n",
       "      <td>20.0</td>\n",
       "      <td>Oaxaca</td>\n",
       "      <td>202.0</td>\n",
       "      <td>San Juan Lachao</td>\n",
       "      <td>oaxaca</td>\n",
       "      <td>san juan lachao</td>\n",
       "    </tr>\n",
       "    <tr>\n",
       "      <th>826379</th>\n",
       "      <td>ZURITA ZURITA ZENAIDA</td>\n",
       "      <td>SUR SURESTE</td>\n",
       "      <td>OAXACA</td>\n",
       "      <td>SANTA MARÍA OZOLOTEPEC</td>\n",
       "      <td>SANTA MARÍA OZOLOTEPEC</td>\n",
       "      <td>Alto</td>\n",
       "      <td>FERTILIZANTES</td>\n",
       "      <td>FERTILIZANTES</td>\n",
       "      <td>FERTILIZANTES</td>\n",
       "      <td>Milpa</td>\n",
       "      <td>...</td>\n",
       "      <td>santa maria ozolotepec</td>\n",
       "      <td>oaxaca-santa maria ozolotepec</td>\n",
       "      <td>oaxaca-santa maria ozolotepec</td>\n",
       "      <td>oaxaca-santa maria ozolotepec</td>\n",
       "      <td>20.0</td>\n",
       "      <td>Oaxaca</td>\n",
       "      <td>424.0</td>\n",
       "      <td>Santa María Ozolotepec</td>\n",
       "      <td>oaxaca</td>\n",
       "      <td>santa maria ozolotepec</td>\n",
       "    </tr>\n",
       "    <tr>\n",
       "      <th>826380</th>\n",
       "      <td>ZURROZA RUEDA APOLINAR</td>\n",
       "      <td>SUR SURESTE</td>\n",
       "      <td>OAXACA</td>\n",
       "      <td>SANTO DOMINGO CHIHUITÁN</td>\n",
       "      <td>SANTO DOMINGO CHIHUITÁN</td>\n",
       "      <td>Medio</td>\n",
       "      <td>FERTILIZANTES</td>\n",
       "      <td>FERTILIZANTES</td>\n",
       "      <td>FERTILIZANTES</td>\n",
       "      <td>Cultivo de maíz grano blanco</td>\n",
       "      <td>...</td>\n",
       "      <td>santo domingo chihuitan</td>\n",
       "      <td>oaxaca-santo domingo chihuitan</td>\n",
       "      <td>oaxaca-santo domingo chihuitan</td>\n",
       "      <td>oaxaca-santo domingo chihuitan</td>\n",
       "      <td>20.0</td>\n",
       "      <td>Oaxaca</td>\n",
       "      <td>508.0</td>\n",
       "      <td>Santo Domingo Chihuitán</td>\n",
       "      <td>oaxaca</td>\n",
       "      <td>santo domingo chihuitan</td>\n",
       "    </tr>\n",
       "    <tr>\n",
       "      <th>826381</th>\n",
       "      <td>ZURROZA RUEDA EVA</td>\n",
       "      <td>SUR SURESTE</td>\n",
       "      <td>OAXACA</td>\n",
       "      <td>SANTO DOMINGO CHIHUITÁN</td>\n",
       "      <td>SANTO DOMINGO CHIHUITÁN</td>\n",
       "      <td>Medio</td>\n",
       "      <td>FERTILIZANTES</td>\n",
       "      <td>FERTILIZANTES</td>\n",
       "      <td>FERTILIZANTES</td>\n",
       "      <td>Cultivo de maíz grano blanco</td>\n",
       "      <td>...</td>\n",
       "      <td>santo domingo chihuitan</td>\n",
       "      <td>oaxaca-santo domingo chihuitan</td>\n",
       "      <td>oaxaca-santo domingo chihuitan</td>\n",
       "      <td>oaxaca-santo domingo chihuitan</td>\n",
       "      <td>20.0</td>\n",
       "      <td>Oaxaca</td>\n",
       "      <td>508.0</td>\n",
       "      <td>Santo Domingo Chihuitán</td>\n",
       "      <td>oaxaca</td>\n",
       "      <td>santo domingo chihuitan</td>\n",
       "    </tr>\n",
       "  </tbody>\n",
       "</table>\n",
       "<p>826382 rows × 27 columns</p>\n",
       "</div>"
      ]
     },
     "execution_count": 49,
     "metadata": {},
     "output_type": "execute_result"
    }
   ],
   "execution_count": 49
  },
  {
   "cell_type": "code",
   "metadata": {
    "ExecuteTime": {
     "end_time": "2024-07-09T14:24:50.391815Z",
     "start_time": "2024-07-09T14:24:50.383008Z"
    }
   },
   "source": [
    "listado_beneficiarios_parte_II.columns"
   ],
   "outputs": [
    {
     "data": {
      "text/plain": [
       "Index(['BENEFICIARIO', 'ZONA', 'ENTIDAD', 'MUNICIPIO', 'LOCALIDAD',\n",
       "       'ESTRATIFICACIÓN', 'PROGRAMA', 'COMPONENTE', 'SUBCOMPONENTE',\n",
       "       'PRODUCTO', 'FECHA', 'MONTO FEDERAL', 'APOYO', 'ACTIVIDAD', 'ESLABÓN',\n",
       "       'CICLO AGRÍCOLA', 'ESTADO_Clean', 'MUNICIPIO_Clean', 'Estado-mun-KEY',\n",
       "       'KEY_benef_mun', 'KEY_inegi_municipio', 'CVE_ENT', 'Entidad_inegi',\n",
       "       'CVE_MUN', 'Municipio_inegi', 'Entidad_c_inegi', 'Municipio_c_inegi'],\n",
       "      dtype='object')"
      ]
     },
     "execution_count": 50,
     "metadata": {},
     "output_type": "execute_result"
    }
   ],
   "execution_count": 50
  },
  {
   "cell_type": "code",
   "metadata": {
    "ExecuteTime": {
     "end_time": "2024-07-09T14:24:50.508986Z",
     "start_time": "2024-07-09T14:24:50.394828Z"
    }
   },
   "source": [
    "listado_beneficiarios_parte_II = listado_beneficiarios_parte_II.drop(\n",
    "    columns=['ESTADO_Clean', 'MUNICIPIO_Clean', 'Estado-mun-KEY', 'KEY_inegi_municipio', 'Entidad_c_inegi',\n",
    "             'Municipio_c_inegi', 'ESTRATIFICACIÓN', 'PROGRAMA', 'COMPONENTE', 'SUBCOMPONENTE', 'APOYO', 'ACTIVIDAD',\n",
    "             'ESLABÓN'])"
   ],
   "outputs": [],
   "execution_count": 51
  },
  {
   "cell_type": "code",
   "metadata": {
    "ExecuteTime": {
     "end_time": "2024-07-09T14:24:50.538797Z",
     "start_time": "2024-07-09T14:24:50.511766Z"
    }
   },
   "source": [
    "listado_beneficiarios_parte_II"
   ],
   "outputs": [
    {
     "data": {
      "text/plain": [
       "                   BENEFICIARIO         ZONA   ENTIDAD  \\\n",
       "0       ABAC NERI JESUS CARLOS   CENTRO PAÍS  GUERRERO   \n",
       "1         ABAD ALARCON ELIAZAR   CENTRO PAÍS  GUERRERO   \n",
       "2        ABAD ALARCON EZEQUIEL   CENTRO PAÍS  GUERRERO   \n",
       "3       ABAD ALARCON FULGENCIO   CENTRO PAÍS  GUERRERO   \n",
       "4         ABAD ALARCON ROMALDA   CENTRO PAÍS  GUERRERO   \n",
       "...                         ...          ...       ...   \n",
       "826377   ZURITA ZURITA ROLANDO   SUR SURESTE    OAXACA   \n",
       "826378    ZURITA ZURITA SIMEON   SUR SURESTE    OAXACA   \n",
       "826379   ZURITA ZURITA ZENAIDA   SUR SURESTE    OAXACA   \n",
       "826380  ZURROZA RUEDA APOLINAR   SUR SURESTE    OAXACA   \n",
       "826381       ZURROZA RUEDA EVA   SUR SURESTE    OAXACA   \n",
       "\n",
       "                            MUNICIPIO                LOCALIDAD  \\\n",
       "0                   COYUCA DE BENÍTEZ             PUEBLO VIEJO   \n",
       "1                   COYUCA DE BENÍTEZ             PUEBLO VIEJO   \n",
       "2                   COYUCA DE BENÍTEZ               AGUA ZARCA   \n",
       "3                   COYUCA DE BENÍTEZ               AGUA ZARCA   \n",
       "4                   COYUCA DE BENÍTEZ             YERBASANTITA   \n",
       "...                               ...                      ...   \n",
       "826377  SAN SEBASTIÁN TECOMAXTLAHUACA        SAN MATEO TUNUCHI   \n",
       "826378                SAN JUAN LACHAO          SAN JUAN LACHAO   \n",
       "826379         SANTA MARÍA OZOLOTEPEC   SANTA MARÍA OZOLOTEPEC   \n",
       "826380        SANTO DOMINGO CHIHUITÁN  SANTO DOMINGO CHIHUITÁN   \n",
       "826381        SANTO DOMINGO CHIHUITÁN  SANTO DOMINGO CHIHUITÁN   \n",
       "\n",
       "                            PRODUCTO       FECHA  MONTO FEDERAL  \\\n",
       "0       Cultivo de maíz grano blanco  2022-06-26       12244.18   \n",
       "1       Cultivo de maíz grano blanco  2022-06-26        6122.09   \n",
       "2       Cultivo de maíz grano blanco  2022-07-12       12244.18   \n",
       "3       Cultivo de maíz grano blanco  2022-07-12       12244.18   \n",
       "4       Cultivo de maíz grano blanco  2022-06-20       12244.18   \n",
       "...                              ...         ...            ...   \n",
       "826377                         Milpa  2022-08-18        7435.60   \n",
       "826378  Cultivo de maíz grano blanco  2022-08-03        7435.60   \n",
       "826379                         Milpa  2022-08-11        7435.60   \n",
       "826380  Cultivo de maíz grano blanco  2022-08-08        7435.60   \n",
       "826381  Cultivo de maíz grano blanco  2022-08-08        7435.60   \n",
       "\n",
       "       CICLO AGRÍCOLA                         KEY_benef_mun  CVE_ENT  \\\n",
       "0              PV2022            guerrero-coyuca de benitez     12.0   \n",
       "1              PV2022            guerrero-coyuca de benitez     12.0   \n",
       "2              PV2022            guerrero-coyuca de benitez     12.0   \n",
       "3              PV2022            guerrero-coyuca de benitez     12.0   \n",
       "4              PV2022            guerrero-coyuca de benitez     12.0   \n",
       "...               ...                                   ...      ...   \n",
       "826377         PV2022  oaxaca-san sebastian tecomaxtlahuaca     20.0   \n",
       "826378         PV2022                oaxaca-san juan lachao     20.0   \n",
       "826379         PV2022         oaxaca-santa maria ozolotepec     20.0   \n",
       "826380         PV2022        oaxaca-santo domingo chihuitan     20.0   \n",
       "826381         PV2022        oaxaca-santo domingo chihuitan     20.0   \n",
       "\n",
       "       Entidad_inegi  CVE_MUN                Municipio_inegi  \n",
       "0           Guerrero     21.0              Coyuca de Benítez  \n",
       "1           Guerrero     21.0              Coyuca de Benítez  \n",
       "2           Guerrero     21.0              Coyuca de Benítez  \n",
       "3           Guerrero     21.0              Coyuca de Benítez  \n",
       "4           Guerrero     21.0              Coyuca de Benítez  \n",
       "...              ...      ...                            ...  \n",
       "826377        Oaxaca    348.0  San Sebastián Tecomaxtlahuaca  \n",
       "826378        Oaxaca    202.0                San Juan Lachao  \n",
       "826379        Oaxaca    424.0         Santa María Ozolotepec  \n",
       "826380        Oaxaca    508.0        Santo Domingo Chihuitán  \n",
       "826381        Oaxaca    508.0        Santo Domingo Chihuitán  \n",
       "\n",
       "[826382 rows x 14 columns]"
      ],
      "text/html": [
       "<div>\n",
       "<style scoped>\n",
       "    .dataframe tbody tr th:only-of-type {\n",
       "        vertical-align: middle;\n",
       "    }\n",
       "\n",
       "    .dataframe tbody tr th {\n",
       "        vertical-align: top;\n",
       "    }\n",
       "\n",
       "    .dataframe thead th {\n",
       "        text-align: right;\n",
       "    }\n",
       "</style>\n",
       "<table border=\"1\" class=\"dataframe\">\n",
       "  <thead>\n",
       "    <tr style=\"text-align: right;\">\n",
       "      <th></th>\n",
       "      <th>BENEFICIARIO</th>\n",
       "      <th>ZONA</th>\n",
       "      <th>ENTIDAD</th>\n",
       "      <th>MUNICIPIO</th>\n",
       "      <th>LOCALIDAD</th>\n",
       "      <th>PRODUCTO</th>\n",
       "      <th>FECHA</th>\n",
       "      <th>MONTO FEDERAL</th>\n",
       "      <th>CICLO AGRÍCOLA</th>\n",
       "      <th>KEY_benef_mun</th>\n",
       "      <th>CVE_ENT</th>\n",
       "      <th>Entidad_inegi</th>\n",
       "      <th>CVE_MUN</th>\n",
       "      <th>Municipio_inegi</th>\n",
       "    </tr>\n",
       "  </thead>\n",
       "  <tbody>\n",
       "    <tr>\n",
       "      <th>0</th>\n",
       "      <td>ABAC NERI JESUS CARLOS</td>\n",
       "      <td>CENTRO PAÍS</td>\n",
       "      <td>GUERRERO</td>\n",
       "      <td>COYUCA DE BENÍTEZ</td>\n",
       "      <td>PUEBLO VIEJO</td>\n",
       "      <td>Cultivo de maíz grano blanco</td>\n",
       "      <td>2022-06-26</td>\n",
       "      <td>12244.18</td>\n",
       "      <td>PV2022</td>\n",
       "      <td>guerrero-coyuca de benitez</td>\n",
       "      <td>12.0</td>\n",
       "      <td>Guerrero</td>\n",
       "      <td>21.0</td>\n",
       "      <td>Coyuca de Benítez</td>\n",
       "    </tr>\n",
       "    <tr>\n",
       "      <th>1</th>\n",
       "      <td>ABAD ALARCON ELIAZAR</td>\n",
       "      <td>CENTRO PAÍS</td>\n",
       "      <td>GUERRERO</td>\n",
       "      <td>COYUCA DE BENÍTEZ</td>\n",
       "      <td>PUEBLO VIEJO</td>\n",
       "      <td>Cultivo de maíz grano blanco</td>\n",
       "      <td>2022-06-26</td>\n",
       "      <td>6122.09</td>\n",
       "      <td>PV2022</td>\n",
       "      <td>guerrero-coyuca de benitez</td>\n",
       "      <td>12.0</td>\n",
       "      <td>Guerrero</td>\n",
       "      <td>21.0</td>\n",
       "      <td>Coyuca de Benítez</td>\n",
       "    </tr>\n",
       "    <tr>\n",
       "      <th>2</th>\n",
       "      <td>ABAD ALARCON EZEQUIEL</td>\n",
       "      <td>CENTRO PAÍS</td>\n",
       "      <td>GUERRERO</td>\n",
       "      <td>COYUCA DE BENÍTEZ</td>\n",
       "      <td>AGUA ZARCA</td>\n",
       "      <td>Cultivo de maíz grano blanco</td>\n",
       "      <td>2022-07-12</td>\n",
       "      <td>12244.18</td>\n",
       "      <td>PV2022</td>\n",
       "      <td>guerrero-coyuca de benitez</td>\n",
       "      <td>12.0</td>\n",
       "      <td>Guerrero</td>\n",
       "      <td>21.0</td>\n",
       "      <td>Coyuca de Benítez</td>\n",
       "    </tr>\n",
       "    <tr>\n",
       "      <th>3</th>\n",
       "      <td>ABAD ALARCON FULGENCIO</td>\n",
       "      <td>CENTRO PAÍS</td>\n",
       "      <td>GUERRERO</td>\n",
       "      <td>COYUCA DE BENÍTEZ</td>\n",
       "      <td>AGUA ZARCA</td>\n",
       "      <td>Cultivo de maíz grano blanco</td>\n",
       "      <td>2022-07-12</td>\n",
       "      <td>12244.18</td>\n",
       "      <td>PV2022</td>\n",
       "      <td>guerrero-coyuca de benitez</td>\n",
       "      <td>12.0</td>\n",
       "      <td>Guerrero</td>\n",
       "      <td>21.0</td>\n",
       "      <td>Coyuca de Benítez</td>\n",
       "    </tr>\n",
       "    <tr>\n",
       "      <th>4</th>\n",
       "      <td>ABAD ALARCON ROMALDA</td>\n",
       "      <td>CENTRO PAÍS</td>\n",
       "      <td>GUERRERO</td>\n",
       "      <td>COYUCA DE BENÍTEZ</td>\n",
       "      <td>YERBASANTITA</td>\n",
       "      <td>Cultivo de maíz grano blanco</td>\n",
       "      <td>2022-06-20</td>\n",
       "      <td>12244.18</td>\n",
       "      <td>PV2022</td>\n",
       "      <td>guerrero-coyuca de benitez</td>\n",
       "      <td>12.0</td>\n",
       "      <td>Guerrero</td>\n",
       "      <td>21.0</td>\n",
       "      <td>Coyuca de Benítez</td>\n",
       "    </tr>\n",
       "    <tr>\n",
       "      <th>...</th>\n",
       "      <td>...</td>\n",
       "      <td>...</td>\n",
       "      <td>...</td>\n",
       "      <td>...</td>\n",
       "      <td>...</td>\n",
       "      <td>...</td>\n",
       "      <td>...</td>\n",
       "      <td>...</td>\n",
       "      <td>...</td>\n",
       "      <td>...</td>\n",
       "      <td>...</td>\n",
       "      <td>...</td>\n",
       "      <td>...</td>\n",
       "      <td>...</td>\n",
       "    </tr>\n",
       "    <tr>\n",
       "      <th>826377</th>\n",
       "      <td>ZURITA ZURITA ROLANDO</td>\n",
       "      <td>SUR SURESTE</td>\n",
       "      <td>OAXACA</td>\n",
       "      <td>SAN SEBASTIÁN TECOMAXTLAHUACA</td>\n",
       "      <td>SAN MATEO TUNUCHI</td>\n",
       "      <td>Milpa</td>\n",
       "      <td>2022-08-18</td>\n",
       "      <td>7435.60</td>\n",
       "      <td>PV2022</td>\n",
       "      <td>oaxaca-san sebastian tecomaxtlahuaca</td>\n",
       "      <td>20.0</td>\n",
       "      <td>Oaxaca</td>\n",
       "      <td>348.0</td>\n",
       "      <td>San Sebastián Tecomaxtlahuaca</td>\n",
       "    </tr>\n",
       "    <tr>\n",
       "      <th>826378</th>\n",
       "      <td>ZURITA ZURITA SIMEON</td>\n",
       "      <td>SUR SURESTE</td>\n",
       "      <td>OAXACA</td>\n",
       "      <td>SAN JUAN LACHAO</td>\n",
       "      <td>SAN JUAN LACHAO</td>\n",
       "      <td>Cultivo de maíz grano blanco</td>\n",
       "      <td>2022-08-03</td>\n",
       "      <td>7435.60</td>\n",
       "      <td>PV2022</td>\n",
       "      <td>oaxaca-san juan lachao</td>\n",
       "      <td>20.0</td>\n",
       "      <td>Oaxaca</td>\n",
       "      <td>202.0</td>\n",
       "      <td>San Juan Lachao</td>\n",
       "    </tr>\n",
       "    <tr>\n",
       "      <th>826379</th>\n",
       "      <td>ZURITA ZURITA ZENAIDA</td>\n",
       "      <td>SUR SURESTE</td>\n",
       "      <td>OAXACA</td>\n",
       "      <td>SANTA MARÍA OZOLOTEPEC</td>\n",
       "      <td>SANTA MARÍA OZOLOTEPEC</td>\n",
       "      <td>Milpa</td>\n",
       "      <td>2022-08-11</td>\n",
       "      <td>7435.60</td>\n",
       "      <td>PV2022</td>\n",
       "      <td>oaxaca-santa maria ozolotepec</td>\n",
       "      <td>20.0</td>\n",
       "      <td>Oaxaca</td>\n",
       "      <td>424.0</td>\n",
       "      <td>Santa María Ozolotepec</td>\n",
       "    </tr>\n",
       "    <tr>\n",
       "      <th>826380</th>\n",
       "      <td>ZURROZA RUEDA APOLINAR</td>\n",
       "      <td>SUR SURESTE</td>\n",
       "      <td>OAXACA</td>\n",
       "      <td>SANTO DOMINGO CHIHUITÁN</td>\n",
       "      <td>SANTO DOMINGO CHIHUITÁN</td>\n",
       "      <td>Cultivo de maíz grano blanco</td>\n",
       "      <td>2022-08-08</td>\n",
       "      <td>7435.60</td>\n",
       "      <td>PV2022</td>\n",
       "      <td>oaxaca-santo domingo chihuitan</td>\n",
       "      <td>20.0</td>\n",
       "      <td>Oaxaca</td>\n",
       "      <td>508.0</td>\n",
       "      <td>Santo Domingo Chihuitán</td>\n",
       "    </tr>\n",
       "    <tr>\n",
       "      <th>826381</th>\n",
       "      <td>ZURROZA RUEDA EVA</td>\n",
       "      <td>SUR SURESTE</td>\n",
       "      <td>OAXACA</td>\n",
       "      <td>SANTO DOMINGO CHIHUITÁN</td>\n",
       "      <td>SANTO DOMINGO CHIHUITÁN</td>\n",
       "      <td>Cultivo de maíz grano blanco</td>\n",
       "      <td>2022-08-08</td>\n",
       "      <td>7435.60</td>\n",
       "      <td>PV2022</td>\n",
       "      <td>oaxaca-santo domingo chihuitan</td>\n",
       "      <td>20.0</td>\n",
       "      <td>Oaxaca</td>\n",
       "      <td>508.0</td>\n",
       "      <td>Santo Domingo Chihuitán</td>\n",
       "    </tr>\n",
       "  </tbody>\n",
       "</table>\n",
       "<p>826382 rows × 14 columns</p>\n",
       "</div>"
      ]
     },
     "execution_count": 52,
     "metadata": {},
     "output_type": "execute_result"
    }
   ],
   "execution_count": 52
  },
  {
   "cell_type": "code",
   "metadata": {
    "ExecuteTime": {
     "end_time": "2024-07-09T14:24:50.550345Z",
     "start_time": "2024-07-09T14:24:50.541817Z"
    }
   },
   "source": [
    "listado_beneficiarios_parte_II.columns"
   ],
   "outputs": [
    {
     "data": {
      "text/plain": [
       "Index(['BENEFICIARIO', 'ZONA', 'ENTIDAD', 'MUNICIPIO', 'LOCALIDAD', 'PRODUCTO',\n",
       "       'FECHA', 'MONTO FEDERAL', 'CICLO AGRÍCOLA', 'KEY_benef_mun', 'CVE_ENT',\n",
       "       'Entidad_inegi', 'CVE_MUN', 'Municipio_inegi'],\n",
       "      dtype='object')"
      ]
     },
     "execution_count": 53,
     "metadata": {},
     "output_type": "execute_result"
    }
   ],
   "execution_count": 53
  },
  {
   "metadata": {},
   "cell_type": "code",
   "outputs": [],
   "execution_count": null,
   "source": "listado_beneficiarios_parte_II"
  },
  {
   "cell_type": "code",
   "metadata": {
    "ExecuteTime": {
     "end_time": "2024-07-09T14:25:01.365884Z",
     "start_time": "2024-07-09T14:24:50.553778Z"
    }
   },
   "source": [
    "listado_beneficiarios_parte_II.to_csv('../../data/listados_completos/listado_beneficiarios_2022.csv', index=False)"
   ],
   "outputs": [],
   "execution_count": 54
  },
  {
   "cell_type": "code",
   "metadata": {
    "ExecuteTime": {
     "end_time": "2024-07-09T14:25:01.376562Z",
     "start_time": "2024-07-09T14:25:01.368407Z"
    }
   },
   "source": [
    "listado_beneficiarios_parte_II.shape"
   ],
   "outputs": [
    {
     "data": {
      "text/plain": [
       "(826382, 14)"
      ]
     },
     "execution_count": 55,
     "metadata": {},
     "output_type": "execute_result"
    }
   ],
   "execution_count": 55
  },
  {
   "cell_type": "code",
   "metadata": {
    "ExecuteTime": {
     "end_time": "2024-07-09T14:25:02.140761Z",
     "start_time": "2024-07-09T14:25:01.379865Z"
    }
   },
   "source": [
    "listado_beneficiarios_parte_II.isna().sum()"
   ],
   "outputs": [
    {
     "data": {
      "text/plain": [
       "BENEFICIARIO         0\n",
       "ZONA                 0\n",
       "ENTIDAD              0\n",
       "MUNICIPIO            0\n",
       "LOCALIDAD            0\n",
       "PRODUCTO             0\n",
       "FECHA                0\n",
       "MONTO FEDERAL        0\n",
       "CICLO AGRÍCOLA       0\n",
       "KEY_benef_mun      198\n",
       "CVE_ENT            198\n",
       "Entidad_inegi      198\n",
       "CVE_MUN            198\n",
       "Municipio_inegi    198\n",
       "dtype: int64"
      ]
     },
     "execution_count": 56,
     "metadata": {},
     "output_type": "execute_result"
    }
   ],
   "execution_count": 56
  },
  {
   "cell_type": "code",
   "metadata": {
    "ExecuteTime": {
     "end_time": "2024-07-09T14:25:02.760879Z",
     "start_time": "2024-07-09T14:25:02.146779Z"
    }
   },
   "source": [
    "# Assuming listado_beneficiarios_parte_II is your DataFrame\n",
    "rows_with_nan = listado_beneficiarios_parte_II[listado_beneficiarios_parte_II.isna().any(axis=1)]\n",
    "\n",
    "# rows_with_nan now contains only the rows with NaN values in any column"
   ],
   "outputs": [],
   "execution_count": 57
  },
  {
   "cell_type": "code",
   "metadata": {
    "ExecuteTime": {
     "end_time": "2024-07-09T14:25:02.811626Z",
     "start_time": "2024-07-09T14:25:02.764900Z"
    }
   },
   "source": [
    "rows_with_nan"
   ],
   "outputs": [
    {
     "data": {
      "text/plain": [
       "                           BENEFICIARIO         ZONA  ENTIDAD  \\\n",
       "59305          BARRIOS ROBLERO ESTEBAN   SUR SURESTE  CHIAPAS   \n",
       "76582   BRAVO PEREZ GUALTERIO DIONICIO   SUR SURESTE  CHIAPAS   \n",
       "133667            CRUS ROBLERO CANDIDO   SUR SURESTE  CHIAPAS   \n",
       "133668         CRUS ROBLERO JOSE PEDRO   SUR SURESTE  CHIAPAS   \n",
       "141160              CRUZ LOPEZ ALBERTO   SUR SURESTE  CHIAPAS   \n",
       "...                                 ...          ...      ...   \n",
       "796076             VAZQUEZ SOLIS NEIME   SUR SURESTE  CHIAPAS   \n",
       "803973      VELAZQUEZ GONZALEZ LORENZO   SUR SURESTE  CHIAPAS   \n",
       "820122            ZALAZ PEREZ DOMITILA   SUR SURESTE  CHIAPAS   \n",
       "825316         ZUNUN ROBLERO ELIZABETH   SUR SURESTE  CHIAPAS   \n",
       "825322         ZUNUN ROBLERO MARGARITA   SUR SURESTE  CHIAPAS   \n",
       "\n",
       "                  MUNICIPIO        LOCALIDAD                      PRODUCTO  \\\n",
       "59305   BELISARIO DOMINGUEZ  FLOR DE CHIAPAS  Cultivo de maíz grano blanco   \n",
       "76582   BELISARIO DOMINGUEZ  FLOR DE CHIAPAS  Cultivo de maíz grano blanco   \n",
       "133667  BELISARIO DOMINGUEZ  FLOR DE CHIAPAS  Cultivo de maíz grano blanco   \n",
       "133668  BELISARIO DOMINGUEZ  FLOR DE CHIAPAS  Cultivo de maíz grano blanco   \n",
       "141160  BELISARIO DOMINGUEZ  FLOR DE CHIAPAS  Cultivo de maíz grano blanco   \n",
       "...                     ...              ...                           ...   \n",
       "796076  BELISARIO DOMINGUEZ  FLOR DE CHIAPAS  Cultivo de maíz grano blanco   \n",
       "803973  BELISARIO DOMINGUEZ  FLOR DE CHIAPAS  Cultivo de maíz grano blanco   \n",
       "820122  BELISARIO DOMINGUEZ  FLOR DE CHIAPAS  Cultivo de maíz grano blanco   \n",
       "825316  BELISARIO DOMINGUEZ  FLOR DE CHIAPAS  Cultivo de maíz grano blanco   \n",
       "825322  BELISARIO DOMINGUEZ  FLOR DE CHIAPAS  Cultivo de maíz grano blanco   \n",
       "\n",
       "             FECHA  MONTO FEDERAL CICLO AGRÍCOLA KEY_benef_mun  CVE_ENT  \\\n",
       "59305   2022-09-05        7491.34         PV2022           NaN      NaN   \n",
       "76582   2022-09-05        7491.34         PV2022           NaN      NaN   \n",
       "133667  2022-09-10        7491.34         PV2022           NaN      NaN   \n",
       "133668  2022-09-10        7491.34         PV2022           NaN      NaN   \n",
       "141160  2022-09-12        7491.34         PV2022           NaN      NaN   \n",
       "...            ...            ...            ...           ...      ...   \n",
       "796076  2022-09-05        7491.34         PV2022           NaN      NaN   \n",
       "803973  2022-09-05        7491.34         PV2022           NaN      NaN   \n",
       "820122  2022-09-05        7491.34         PV2022           NaN      NaN   \n",
       "825316  2022-12-05        7491.34         PV2022           NaN      NaN   \n",
       "825322  2022-12-05        7491.34         PV2022           NaN      NaN   \n",
       "\n",
       "       Entidad_inegi  CVE_MUN Municipio_inegi  \n",
       "59305            NaN      NaN             NaN  \n",
       "76582            NaN      NaN             NaN  \n",
       "133667           NaN      NaN             NaN  \n",
       "133668           NaN      NaN             NaN  \n",
       "141160           NaN      NaN             NaN  \n",
       "...              ...      ...             ...  \n",
       "796076           NaN      NaN             NaN  \n",
       "803973           NaN      NaN             NaN  \n",
       "820122           NaN      NaN             NaN  \n",
       "825316           NaN      NaN             NaN  \n",
       "825322           NaN      NaN             NaN  \n",
       "\n",
       "[198 rows x 14 columns]"
      ],
      "text/html": [
       "<div>\n",
       "<style scoped>\n",
       "    .dataframe tbody tr th:only-of-type {\n",
       "        vertical-align: middle;\n",
       "    }\n",
       "\n",
       "    .dataframe tbody tr th {\n",
       "        vertical-align: top;\n",
       "    }\n",
       "\n",
       "    .dataframe thead th {\n",
       "        text-align: right;\n",
       "    }\n",
       "</style>\n",
       "<table border=\"1\" class=\"dataframe\">\n",
       "  <thead>\n",
       "    <tr style=\"text-align: right;\">\n",
       "      <th></th>\n",
       "      <th>BENEFICIARIO</th>\n",
       "      <th>ZONA</th>\n",
       "      <th>ENTIDAD</th>\n",
       "      <th>MUNICIPIO</th>\n",
       "      <th>LOCALIDAD</th>\n",
       "      <th>PRODUCTO</th>\n",
       "      <th>FECHA</th>\n",
       "      <th>MONTO FEDERAL</th>\n",
       "      <th>CICLO AGRÍCOLA</th>\n",
       "      <th>KEY_benef_mun</th>\n",
       "      <th>CVE_ENT</th>\n",
       "      <th>Entidad_inegi</th>\n",
       "      <th>CVE_MUN</th>\n",
       "      <th>Municipio_inegi</th>\n",
       "    </tr>\n",
       "  </thead>\n",
       "  <tbody>\n",
       "    <tr>\n",
       "      <th>59305</th>\n",
       "      <td>BARRIOS ROBLERO ESTEBAN</td>\n",
       "      <td>SUR SURESTE</td>\n",
       "      <td>CHIAPAS</td>\n",
       "      <td>BELISARIO DOMINGUEZ</td>\n",
       "      <td>FLOR DE CHIAPAS</td>\n",
       "      <td>Cultivo de maíz grano blanco</td>\n",
       "      <td>2022-09-05</td>\n",
       "      <td>7491.34</td>\n",
       "      <td>PV2022</td>\n",
       "      <td>NaN</td>\n",
       "      <td>NaN</td>\n",
       "      <td>NaN</td>\n",
       "      <td>NaN</td>\n",
       "      <td>NaN</td>\n",
       "    </tr>\n",
       "    <tr>\n",
       "      <th>76582</th>\n",
       "      <td>BRAVO PEREZ GUALTERIO DIONICIO</td>\n",
       "      <td>SUR SURESTE</td>\n",
       "      <td>CHIAPAS</td>\n",
       "      <td>BELISARIO DOMINGUEZ</td>\n",
       "      <td>FLOR DE CHIAPAS</td>\n",
       "      <td>Cultivo de maíz grano blanco</td>\n",
       "      <td>2022-09-05</td>\n",
       "      <td>7491.34</td>\n",
       "      <td>PV2022</td>\n",
       "      <td>NaN</td>\n",
       "      <td>NaN</td>\n",
       "      <td>NaN</td>\n",
       "      <td>NaN</td>\n",
       "      <td>NaN</td>\n",
       "    </tr>\n",
       "    <tr>\n",
       "      <th>133667</th>\n",
       "      <td>CRUS ROBLERO CANDIDO</td>\n",
       "      <td>SUR SURESTE</td>\n",
       "      <td>CHIAPAS</td>\n",
       "      <td>BELISARIO DOMINGUEZ</td>\n",
       "      <td>FLOR DE CHIAPAS</td>\n",
       "      <td>Cultivo de maíz grano blanco</td>\n",
       "      <td>2022-09-10</td>\n",
       "      <td>7491.34</td>\n",
       "      <td>PV2022</td>\n",
       "      <td>NaN</td>\n",
       "      <td>NaN</td>\n",
       "      <td>NaN</td>\n",
       "      <td>NaN</td>\n",
       "      <td>NaN</td>\n",
       "    </tr>\n",
       "    <tr>\n",
       "      <th>133668</th>\n",
       "      <td>CRUS ROBLERO JOSE PEDRO</td>\n",
       "      <td>SUR SURESTE</td>\n",
       "      <td>CHIAPAS</td>\n",
       "      <td>BELISARIO DOMINGUEZ</td>\n",
       "      <td>FLOR DE CHIAPAS</td>\n",
       "      <td>Cultivo de maíz grano blanco</td>\n",
       "      <td>2022-09-10</td>\n",
       "      <td>7491.34</td>\n",
       "      <td>PV2022</td>\n",
       "      <td>NaN</td>\n",
       "      <td>NaN</td>\n",
       "      <td>NaN</td>\n",
       "      <td>NaN</td>\n",
       "      <td>NaN</td>\n",
       "    </tr>\n",
       "    <tr>\n",
       "      <th>141160</th>\n",
       "      <td>CRUZ LOPEZ ALBERTO</td>\n",
       "      <td>SUR SURESTE</td>\n",
       "      <td>CHIAPAS</td>\n",
       "      <td>BELISARIO DOMINGUEZ</td>\n",
       "      <td>FLOR DE CHIAPAS</td>\n",
       "      <td>Cultivo de maíz grano blanco</td>\n",
       "      <td>2022-09-12</td>\n",
       "      <td>7491.34</td>\n",
       "      <td>PV2022</td>\n",
       "      <td>NaN</td>\n",
       "      <td>NaN</td>\n",
       "      <td>NaN</td>\n",
       "      <td>NaN</td>\n",
       "      <td>NaN</td>\n",
       "    </tr>\n",
       "    <tr>\n",
       "      <th>...</th>\n",
       "      <td>...</td>\n",
       "      <td>...</td>\n",
       "      <td>...</td>\n",
       "      <td>...</td>\n",
       "      <td>...</td>\n",
       "      <td>...</td>\n",
       "      <td>...</td>\n",
       "      <td>...</td>\n",
       "      <td>...</td>\n",
       "      <td>...</td>\n",
       "      <td>...</td>\n",
       "      <td>...</td>\n",
       "      <td>...</td>\n",
       "      <td>...</td>\n",
       "    </tr>\n",
       "    <tr>\n",
       "      <th>796076</th>\n",
       "      <td>VAZQUEZ SOLIS NEIME</td>\n",
       "      <td>SUR SURESTE</td>\n",
       "      <td>CHIAPAS</td>\n",
       "      <td>BELISARIO DOMINGUEZ</td>\n",
       "      <td>FLOR DE CHIAPAS</td>\n",
       "      <td>Cultivo de maíz grano blanco</td>\n",
       "      <td>2022-09-05</td>\n",
       "      <td>7491.34</td>\n",
       "      <td>PV2022</td>\n",
       "      <td>NaN</td>\n",
       "      <td>NaN</td>\n",
       "      <td>NaN</td>\n",
       "      <td>NaN</td>\n",
       "      <td>NaN</td>\n",
       "    </tr>\n",
       "    <tr>\n",
       "      <th>803973</th>\n",
       "      <td>VELAZQUEZ GONZALEZ LORENZO</td>\n",
       "      <td>SUR SURESTE</td>\n",
       "      <td>CHIAPAS</td>\n",
       "      <td>BELISARIO DOMINGUEZ</td>\n",
       "      <td>FLOR DE CHIAPAS</td>\n",
       "      <td>Cultivo de maíz grano blanco</td>\n",
       "      <td>2022-09-05</td>\n",
       "      <td>7491.34</td>\n",
       "      <td>PV2022</td>\n",
       "      <td>NaN</td>\n",
       "      <td>NaN</td>\n",
       "      <td>NaN</td>\n",
       "      <td>NaN</td>\n",
       "      <td>NaN</td>\n",
       "    </tr>\n",
       "    <tr>\n",
       "      <th>820122</th>\n",
       "      <td>ZALAZ PEREZ DOMITILA</td>\n",
       "      <td>SUR SURESTE</td>\n",
       "      <td>CHIAPAS</td>\n",
       "      <td>BELISARIO DOMINGUEZ</td>\n",
       "      <td>FLOR DE CHIAPAS</td>\n",
       "      <td>Cultivo de maíz grano blanco</td>\n",
       "      <td>2022-09-05</td>\n",
       "      <td>7491.34</td>\n",
       "      <td>PV2022</td>\n",
       "      <td>NaN</td>\n",
       "      <td>NaN</td>\n",
       "      <td>NaN</td>\n",
       "      <td>NaN</td>\n",
       "      <td>NaN</td>\n",
       "    </tr>\n",
       "    <tr>\n",
       "      <th>825316</th>\n",
       "      <td>ZUNUN ROBLERO ELIZABETH</td>\n",
       "      <td>SUR SURESTE</td>\n",
       "      <td>CHIAPAS</td>\n",
       "      <td>BELISARIO DOMINGUEZ</td>\n",
       "      <td>FLOR DE CHIAPAS</td>\n",
       "      <td>Cultivo de maíz grano blanco</td>\n",
       "      <td>2022-12-05</td>\n",
       "      <td>7491.34</td>\n",
       "      <td>PV2022</td>\n",
       "      <td>NaN</td>\n",
       "      <td>NaN</td>\n",
       "      <td>NaN</td>\n",
       "      <td>NaN</td>\n",
       "      <td>NaN</td>\n",
       "    </tr>\n",
       "    <tr>\n",
       "      <th>825322</th>\n",
       "      <td>ZUNUN ROBLERO MARGARITA</td>\n",
       "      <td>SUR SURESTE</td>\n",
       "      <td>CHIAPAS</td>\n",
       "      <td>BELISARIO DOMINGUEZ</td>\n",
       "      <td>FLOR DE CHIAPAS</td>\n",
       "      <td>Cultivo de maíz grano blanco</td>\n",
       "      <td>2022-12-05</td>\n",
       "      <td>7491.34</td>\n",
       "      <td>PV2022</td>\n",
       "      <td>NaN</td>\n",
       "      <td>NaN</td>\n",
       "      <td>NaN</td>\n",
       "      <td>NaN</td>\n",
       "      <td>NaN</td>\n",
       "    </tr>\n",
       "  </tbody>\n",
       "</table>\n",
       "<p>198 rows × 14 columns</p>\n",
       "</div>"
      ]
     },
     "execution_count": 58,
     "metadata": {},
     "output_type": "execute_result"
    }
   ],
   "execution_count": 58
  },
  {
   "cell_type": "markdown",
   "metadata": {},
   "source": [
    "# 3. Join por entidad (Divide y Vencerás)"
   ]
  },
  {
   "cell_type": "markdown",
   "metadata": {},
   "source": [
    "### 3.1.1 Join de localidades - PUEBLA"
   ]
  },
  {
   "cell_type": "code",
   "metadata": {},
   "source": [
    "Localidades_22_PUEBLA = Localidades_22[Localidades_22[\"ENTIDAD\"] == \"PUEBLA\"]\n",
    "\n",
    "dataset_inegi_uniqueloc_PUEBLA = INEGI_UNIQUELOC_2022[INEGI_UNIQUELOC_2022['Entidad_inegi'] == 'Puebla']"
   ],
   "outputs": [],
   "execution_count": null
  },
  {
   "cell_type": "code",
   "metadata": {},
   "source": [
    "Localidades_22_PUEBLA = fuzzy_merge_benef2019_2022(Localidades_22_PUEBLA, dataset_inegi_uniqueloc_PUEBLA,\n",
    "                                                   'KEY_benef_loc', 'KEY_inegi_localidad')\n",
    "Localidades_22_PUEBLA.shape"
   ],
   "outputs": [],
   "execution_count": null
  },
  {
   "cell_type": "markdown",
   "metadata": {},
   "source": [
    "### 3.2.2 Join de localidades - CHIAPAS"
   ]
  },
  {
   "cell_type": "code",
   "metadata": {},
   "source": [
    "Localidades_22_CHIAPAS = Localidades_22[Localidades_22[\"ENTIDAD\"] == \"CHIAPAS\"]\n",
    "\n",
    "dataset_inegi_uniqueloc_CHIAPAS = INEGI_UNIQUELOC_2022[INEGI_UNIQUELOC_2022['Entidad_inegi'] == 'Chiapas']"
   ],
   "outputs": [],
   "execution_count": null
  },
  {
   "cell_type": "code",
   "metadata": {},
   "source": [
    "Localidades_22_CHIAPAS = fuzzy_merge_benef2019_2022(Localidades_22_CHIAPAS, dataset_inegi_uniqueloc_CHIAPAS,\n",
    "                                                    'KEY_benef_loc', 'KEY_inegi_localidad')\n",
    "Localidades_22_CHIAPAS.shape"
   ],
   "outputs": [],
   "execution_count": null
  },
  {
   "cell_type": "markdown",
   "metadata": {},
   "source": [
    "### 3.2.3 Join de localidades - DURANGO"
   ]
  },
  {
   "cell_type": "code",
   "metadata": {},
   "source": [
    "Localidades_22_DURANGO = Localidades_22[Localidades_22[\"ENTIDAD\"] == \"DURANGO\"]\n",
    "\n",
    "dataset_inegi_uniqueloc_DURANGO = INEGI_UNIQUELOC_2022[INEGI_UNIQUELOC_2022['Entidad_inegi'] == 'Durango']"
   ],
   "outputs": [],
   "execution_count": null
  },
  {
   "cell_type": "code",
   "metadata": {},
   "source": [
    "Localidades_22_DURANGO = fuzzy_merge_benef2019_2022(Localidades_22_DURANGO, dataset_inegi_uniqueloc_DURANGO,\n",
    "                                                    'KEY_benef_loc', 'KEY_inegi_localidad')\n",
    "Localidades_22_DURANGO.shape"
   ],
   "outputs": [],
   "execution_count": null
  },
  {
   "cell_type": "markdown",
   "metadata": {},
   "source": [
    "### 3.2.4 Join de localidades - MORELOS"
   ]
  },
  {
   "cell_type": "code",
   "metadata": {},
   "source": [
    "Localidades_22_MORELOS = Localidades_22[Localidades_22[\"ENTIDAD\"] == \"MORELOS\"]\n",
    "\n",
    "dataset_inegi_uniqueloc_MORELOS = INEGI_UNIQUELOC_2022[INEGI_UNIQUELOC_2022['Entidad_inegi'] == 'Morelos']"
   ],
   "outputs": [],
   "execution_count": null
  },
  {
   "cell_type": "code",
   "metadata": {},
   "source": [
    "Localidades_22_MORELOS = fuzzy_merge_benef2019_2022(Localidades_22_MORELOS, dataset_inegi_uniqueloc_MORELOS,\n",
    "                                                    'KEY_benef_loc', 'KEY_inegi_localidad')\n",
    "Localidades_22_MORELOS.shape"
   ],
   "outputs": [],
   "execution_count": null
  },
  {
   "cell_type": "markdown",
   "metadata": {},
   "source": [
    "### 3.2.5 Join de localidades - GUERRERO"
   ]
  },
  {
   "cell_type": "code",
   "metadata": {},
   "source": [
    "Localidades_22_GUERRERO = Localidades_22[Localidades_22[\"ENTIDAD\"] == \"GUERRERO\"]\n",
    "\n",
    "dataset_inegi_uniqueloc_GUERRERO = INEGI_UNIQUELOC_2022[INEGI_UNIQUELOC_2022['Entidad_inegi'] == 'Guerrero']"
   ],
   "outputs": [],
   "execution_count": null
  },
  {
   "cell_type": "code",
   "metadata": {},
   "source": [
    "Localidades_22_GUERRERO = fuzzy_merge_benef2019_2022(Localidades_22_GUERRERO, dataset_inegi_uniqueloc_GUERRERO,\n",
    "                                                     'KEY_benef_loc', 'KEY_inegi_localidad')\n",
    "Localidades_22_GUERRERO.shape"
   ],
   "outputs": [],
   "execution_count": null
  },
  {
   "cell_type": "markdown",
   "metadata": {},
   "source": [
    "### 3.2.6 Join de localidades - NAYARIT"
   ]
  },
  {
   "cell_type": "code",
   "metadata": {},
   "source": [
    "Localidades_22_NAYARIT = Localidades_22[Localidades_22[\"ENTIDAD\"] == \"NAYARIT\"]\n",
    "\n",
    "dataset_inegi_uniqueloc_NAYARIT = INEGI_UNIQUELOC_2022[INEGI_UNIQUELOC_2022['Entidad_inegi'] == 'Nayarit']"
   ],
   "outputs": [],
   "execution_count": null
  },
  {
   "cell_type": "code",
   "metadata": {},
   "source": [
    "Localidades_22_NAYARIT = fuzzy_merge_benef2019_2022(Localidades_22_NAYARIT, dataset_inegi_uniqueloc_NAYARIT,\n",
    "                                                    'KEY_benef_loc', 'KEY_inegi_localidad')\n",
    "Localidades_22_NAYARIT.shape"
   ],
   "outputs": [],
   "execution_count": null
  },
  {
   "cell_type": "markdown",
   "metadata": {},
   "source": [
    "### 3.2.7 Join de localidades - OAXACA"
   ]
  },
  {
   "cell_type": "code",
   "metadata": {},
   "source": [
    "Localidades_22_OAXACA = Localidades_22[Localidades_22[\"ENTIDAD\"] == \"OAXACA\"]\n",
    "\n",
    "dataset_inegi_uniqueloc_OAXACA = INEGI_UNIQUELOC_2022[INEGI_UNIQUELOC_2022['Entidad_inegi'] == 'Oaxaca']"
   ],
   "outputs": [],
   "execution_count": null
  },
  {
   "cell_type": "code",
   "metadata": {},
   "source": [
    "Localidades_22_OAXACA = fuzzy_merge_benef2019_2022(Localidades_22_OAXACA, dataset_inegi_uniqueloc_OAXACA,\n",
    "                                                   'KEY_benef_loc', 'KEY_inegi_localidad')\n",
    "Localidades_22_OAXACA.shape"
   ],
   "outputs": [],
   "execution_count": null
  },
  {
   "cell_type": "markdown",
   "metadata": {},
   "source": [
    "### 3.2.8 Join de localidades - TLAXCALA"
   ]
  },
  {
   "cell_type": "code",
   "metadata": {},
   "source": [
    "Localidades_22_TLAXCALA = Localidades_22[Localidades_22[\"ENTIDAD\"] == \"TLAXCALA\"]\n",
    "\n",
    "dataset_inegi_uniqueloc_TLAXCALA = INEGI_UNIQUELOC_2022[INEGI_UNIQUELOC_2022['Entidad_inegi'] == 'Tlaxcala']"
   ],
   "outputs": [],
   "execution_count": null
  },
  {
   "cell_type": "code",
   "metadata": {},
   "source": [
    "Localidades_22_TLAXCALA = fuzzy_merge_benef2019_2022(Localidades_22_TLAXCALA, dataset_inegi_uniqueloc_TLAXCALA,\n",
    "                                                     'KEY_benef_loc', 'KEY_inegi_localidad')\n",
    "Localidades_22_TLAXCALA.shape"
   ],
   "outputs": [],
   "execution_count": null
  },
  {
   "cell_type": "markdown",
   "metadata": {},
   "source": [
    "### 3.2.9 Join de localidades - ZACATECAS"
   ]
  },
  {
   "cell_type": "code",
   "metadata": {},
   "source": [
    "Localidades_22_ZACATECAS = Localidades_22[Localidades_22[\"ENTIDAD\"] == \"ZACATECAS\"]\n",
    "\n",
    "dataset_inegi_uniqueloc_ZACATECAS = INEGI_UNIQUELOC_2022[INEGI_UNIQUELOC_2022['Entidad_inegi'] == 'Zacatecas']"
   ],
   "outputs": [],
   "execution_count": null
  },
  {
   "cell_type": "code",
   "metadata": {},
   "source": [
    "Localidades_22_ZACATECAS = fuzzy_merge_benef2019_2022(Localidades_22_ZACATECAS, dataset_inegi_uniqueloc_ZACATECAS,\n",
    "                                                      'KEY_benef_loc', 'KEY_inegi_localidad')\n",
    "Localidades_22_ZACATECAS.shape"
   ],
   "outputs": [],
   "execution_count": null
  }
 ],
 "metadata": {
  "kernelspec": {
   "display_name": "Python 3",
   "language": "python",
   "name": "python3"
  },
  "language_info": {
   "codemirror_mode": {
    "name": "ipython",
    "version": 3
   },
   "file_extension": ".py",
   "mimetype": "text/x-python",
   "name": "python",
   "nbconvert_exporter": "python",
   "pygments_lexer": "ipython3",
   "version": "3.9.9"
  }
 },
 "nbformat": 4,
 "nbformat_minor": 2
}
