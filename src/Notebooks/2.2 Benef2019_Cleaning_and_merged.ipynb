{
 "cells": [
  {
   "cell_type": "markdown",
   "id": "e81f8196fda25d5b",
   "metadata": {},
   "source": []
  },
  {
   "cell_type": "markdown",
   "id": "6960feab7ef56473",
   "metadata": {},
   "source": [
    "# Data Cleaning Listado de Listado de Beneficiarios 2019"
   ]
  },
  {
   "cell_type": "markdown",
   "id": "23de63a25eb2daf6",
   "metadata": {},
   "source": [
    "## Autores\n",
    "- José Luis Delgado Dávara\n",
    "- Arturo Ortiz Aguilar\n",
    "- Beltrán Valle Gutiérrez-Cortines"
   ]
  },
  {
   "cell_type": "markdown",
   "id": "b07c3a8a",
   "metadata": {},
   "source": [
    "## Importante leer para entender\n",
    "\n",
    "En este Notebook se trabaja con 3 listados importantes:\n",
    "\n",
    "1. Beneficiarios2019 -> Dataset con el listado de TODOS los beneficiarios.\n",
    "2. Estados_Beneficiarios 2019 -> Dataset sólo con los estados *únicos* encontrados en el dataset anterior.\n",
    "3. Diccionario ->\n",
    "4. Dataset_Inegi ->"
   ]
  },
  {
   "cell_type": "code",
   "execution_count": null,
   "id": "cb5833c3d96a224c",
   "metadata": {
    "ExecuteTime": {
     "end_time": "2024-05-30T14:01:37.230529Z",
     "start_time": "2024-05-30T14:01:37.040759Z"
    }
   },
   "outputs": [],
   "source": [
    "import pandas as pd\n",
    "import seaborn as sns\n",
    "from thefuzz import fuzz\n",
    "from thefuzz import process\n",
    "import matplotlib.pyplot as plt\n",
    "import numpy as np\n",
    "import os\n",
    "import glob\n",
    "import re\n",
    "import unidecode"
   ]
  },
  {
   "cell_type": "code",
   "execution_count": null,
   "id": "ac0b22b6344a0b96",
   "metadata": {
    "ExecuteTime": {
     "end_time": "2024-05-30T14:01:37.238020Z",
     "start_time": "2024-05-30T14:01:37.231536Z"
    }
   },
   "outputs": [],
   "source": [
    "# Definición de funciones\n",
    "\n",
    "def load_datasets(directory):\n",
    "    # Get a list of all CSV files in the directory\n",
    "    csv_files = glob.glob(os.path.join(directory, '*.csv'))\n",
    "\n",
    "    # Read each CSV file and store the DataFrame in a list\n",
    "    dataframes = [pd.read_csv(file, encoding='cp1252', index_col=0, skiprows=1) for file in csv_files]\n",
    "\n",
    "    # Concatenate all DataFrames in the list\n",
    "    merged_df = pd.concat(dataframes, join='inner', ignore_index=True)\n",
    "\n",
    "    return merged_df\n",
    "\n",
    "\n",
    "def clean_text(text):\n",
    "    \"\"\"\n",
    "    De esta manera tenemos el texto sin espacios blancos extra y sobre todo con todas las palabras con capitalización correcta.\n",
    "    \"\"\"\n",
    "    if pd.isna(text):\n",
    "        return text\n",
    "    text = text.strip()  # Eliminate white spaces\n",
    "    text = text.lower()  # Convert to lowercase\n",
    "    text = unidecode.unidecode(text)  # Remove accents\n",
    "    text = re.sub('-.*-', '', text)\n",
    "    text = re.sub('\\s+', ' ', text)  # Eliminate extra white spaces\n",
    "    text = re.sub('^\\s+|\\s+?$', '', text)  # Eliminate spaces at the beginning and end\n",
    "    return text"
   ]
  },
  {
   "cell_type": "markdown",
   "id": "5c0595e208484f96",
   "metadata": {},
   "source": [
    "# 1. Lectura de los datos"
   ]
  },
  {
   "cell_type": "markdown",
   "id": "9b99291631d5d3b1",
   "metadata": {},
   "source": [
    "### Lectura del dataset del INEGI"
   ]
  },
  {
   "cell_type": "code",
   "execution_count": null,
   "id": "2596158784542f3d",
   "metadata": {
    "ExecuteTime": {
     "end_time": "2024-05-30T14:01:38.326264Z",
     "start_time": "2024-05-30T14:01:37.241026Z"
    }
   },
   "outputs": [],
   "source": [
    "path_dataset_inegi = '../../data/dataset_inegi.csv'\n",
    "dataset_inegi = pd.read_csv(path_dataset_inegi, encoding='cp1252', dtype={'CVE_ENT': str, 'CVE_MUN': str})"
   ]
  },
  {
   "cell_type": "markdown",
   "id": "650cbc699caa705d",
   "metadata": {},
   "source": [
    "### Lectura del listado de Beneficiarios 2019"
   ]
  },
  {
   "cell_type": "code",
   "execution_count": null,
   "id": "53fef8d078ec79cf",
   "metadata": {
    "ExecuteTime": {
     "end_time": "2024-05-30T14:01:40.160043Z",
     "start_time": "2024-05-30T14:01:38.327278Z"
    }
   },
   "outputs": [],
   "source": [
    "Beneficiarios_2019 = "
   ]
  },
  {
   "cell_type": "markdown",
   "id": "35eb26bcb3f4f060",
   "metadata": {},
   "source": [
    "# 2. Limpieza de los datos"
   ]
  },
  {
   "cell_type": "markdown",
   "id": "f5c385abb0e2ebea",
   "metadata": {},
   "source": [
    "### 2.1 INEGI"
   ]
  },
  {
   "cell_type": "code",
   "execution_count": null,
   "id": "bc3d8e451808121b",
   "metadata": {
    "ExecuteTime": {
     "end_time": "2024-05-30T14:01:40.169375Z",
     "start_time": "2024-05-30T14:01:40.161048Z"
    }
   },
   "outputs": [],
   "source": [
    "# Revisamos las columnas del dataset\n",
    "dataset_inegi.columns"
   ]
  },
  {
   "cell_type": "code",
   "execution_count": null,
   "id": "64e3fc4553663cc5",
   "metadata": {
    "ExecuteTime": {
     "end_time": "2024-05-30T14:01:40.197601Z",
     "start_time": "2024-05-30T14:01:40.173380Z"
    }
   },
   "outputs": [],
   "source": [
    "# Revisamos las primeras filas del dataset\n",
    "dataset_inegi.head()"
   ]
  },
  {
   "cell_type": "code",
   "execution_count": null,
   "id": "ac6cf4a705d01ca9",
   "metadata": {
    "ExecuteTime": {
     "end_time": "2024-05-30T14:01:40.209771Z",
     "start_time": "2024-05-30T14:01:40.198605Z"
    }
   },
   "outputs": [],
   "source": [
    "# Eliminamos las columnas que no son de interés\n",
    "COLUMNS_TO_DROP = ['MAPA', 'Estatus', 'NOM_ABR', 'CVE_LOC', 'NOM_LOC', 'AMBITO', 'LATITUD', 'LONGITUD',\n",
    "                   'LAT_DECIMAL', 'LON_DECIMAL', 'ALTITUD', 'CVE_CARTA', 'POB_TOTAL',\n",
    "                   'POB_MASCULINA', 'POB_FEMENINA', 'TOTAL DE VIVIENDAS HABITADAS']\n",
    "dataset_inegi = dataset_inegi.drop(COLUMNS_TO_DROP, axis=1)"
   ]
  },
  {
   "cell_type": "code",
   "execution_count": null,
   "id": "61b75d87762aaa69",
   "metadata": {
    "ExecuteTime": {
     "end_time": "2024-05-30T14:01:40.222142Z",
     "start_time": "2024-05-30T14:01:40.211783Z"
    }
   },
   "outputs": [],
   "source": [
    "# Las claves de entidad y municipio serán tratadas numéricamente en la limpieza aunque posteriormente se les asignará el tipo de cadena de texto para tener el estándar.\n",
    "dataset_inegi.dtypes"
   ]
  },
  {
   "cell_type": "code",
   "execution_count": null,
   "id": "8d89a91fdd8ba82b",
   "metadata": {
    "ExecuteTime": {
     "end_time": "2024-05-30T14:01:40.286905Z",
     "start_time": "2024-05-30T14:01:40.226155Z"
    }
   },
   "outputs": [],
   "source": [
    "# Revisamos la cantidad de filas y columnas del dataset\n",
    "print(\"Shape of dataset_inegi: \", dataset_inegi.shape)\n",
    "\n",
    "dataset_inegi_clean = dataset_inegi.drop_duplicates()\n",
    "print(\"Shape of dataset_inegi_clean: \", dataset_inegi_clean.shape)"
   ]
  },
  {
   "cell_type": "markdown",
   "id": "5ee1cfeb4a72782c",
   "metadata": {},
   "source": [
    "A partir de aquí seguimos trabajando con el listado de Estados y Municipios limpio de Inegi (sin repetir) \"dataset_inegi_clean\"."
   ]
  },
  {
   "cell_type": "code",
   "execution_count": null,
   "id": "d824af463f93f62a",
   "metadata": {
    "ExecuteTime": {
     "end_time": "2024-05-30T14:01:40.299354Z",
     "start_time": "2024-05-30T14:01:40.288916Z"
    }
   },
   "outputs": [],
   "source": [
    "# Revisamos las primeras filas del dataset con las columnas seleccionadas\n",
    "dataset_inegi_clean.head()"
   ]
  },
  {
   "cell_type": "code",
   "execution_count": null,
   "id": "d4ea9f7f9cae4cfc",
   "metadata": {
    "ExecuteTime": {
     "end_time": "2024-05-30T14:01:40.308523Z",
     "start_time": "2024-05-30T14:01:40.300381Z"
    }
   },
   "outputs": [],
   "source": [
    "# Revisamos las últimas filas del dataset con las columnas seleccionadas\n",
    "dataset_inegi_clean.tail()"
   ]
  },
  {
   "cell_type": "code",
   "execution_count": null,
   "id": "2699470a43525bbb",
   "metadata": {
    "ExecuteTime": {
     "end_time": "2024-05-30T14:01:40.320927Z",
     "start_time": "2024-05-30T14:01:40.309949Z"
    }
   },
   "outputs": [],
   "source": [
    "dataset_inegi_clean.info()"
   ]
  },
  {
   "cell_type": "code",
   "execution_count": null,
   "id": "71c209b05bf35c7e",
   "metadata": {
    "ExecuteTime": {
     "end_time": "2024-05-30T14:01:40.330064Z",
     "start_time": "2024-05-30T14:01:40.321936Z"
    }
   },
   "outputs": [],
   "source": [
    "print(\"Los valores únicos en cada columna son:\\n\", dataset_inegi_clean.nunique())"
   ]
  },
  {
   "cell_type": "code",
   "execution_count": null,
   "id": "1af2e236df4d4847",
   "metadata": {
    "ExecuteTime": {
     "end_time": "2024-05-30T14:01:40.341472Z",
     "start_time": "2024-05-30T14:01:40.331071Z"
    }
   },
   "outputs": [],
   "source": [
    "# Creamos una columna con la clave única por municipio\n",
    "\n",
    "dataset_inegi_clean['CVE_MUN_Unique'] = dataset_inegi_clean['CVE_ENT'].astype(str) + '-' + dataset_inegi_clean[\n",
    "    'CVE_MUN'].astype(str)\n",
    "\n",
    "dataset_inegi_clean.head()"
   ]
  },
  {
   "cell_type": "code",
   "execution_count": null,
   "id": "e86bd51ac84fbb00",
   "metadata": {
    "ExecuteTime": {
     "end_time": "2024-05-30T14:01:40.351987Z",
     "start_time": "2024-05-30T14:01:40.343242Z"
    }
   },
   "outputs": [],
   "source": [
    "dataset_inegi_clean.tail()"
   ]
  },
  {
   "cell_type": "markdown",
   "id": "aef4017a546db04a",
   "metadata": {},
   "source": [
    "#### 2.1.1 Estandarización de nombre de municipios\n",
    "\n",
    "Con el fin de poder hacer un merge bajo los mismos nombres, hacemos una limpieza de los datos."
   ]
  },
  {
   "cell_type": "code",
   "execution_count": null,
   "id": "cec148c18a669995",
   "metadata": {
    "ExecuteTime": {
     "end_time": "2024-05-30T14:01:40.381500Z",
     "start_time": "2024-05-30T14:01:40.352997Z"
    }
   },
   "outputs": [],
   "source": [
    "# Estandarizamos la limpieza de los datos\n",
    "dataset_inegi_clean['NOM_ENT_Clean'] = dataset_inegi_clean['NOM_ENT'].apply(clean_text)\n",
    "dataset_inegi_clean['NOM_MUN_Clean'] = dataset_inegi_clean['NOM_MUN'].apply(clean_text)"
   ]
  },
  {
   "cell_type": "markdown",
   "id": "c1c7ea2410869cec",
   "metadata": {},
   "source": [
    "## 2.2 Beneficiarios 2019"
   ]
  },
  {
   "cell_type": "markdown",
   "id": "1558ba7e",
   "metadata": {},
   "source": [
    "### Creación de Estados_Beneficiarios2019\n",
    "Este dataset es una versión de Beneficiarios2019 pero más ligera y sin repeticiones."
   ]
  },
  {
   "cell_type": "code",
   "execution_count": null,
   "id": "9cfc508f",
   "metadata": {},
   "outputs": [],
   "source": [
    "# Seleccionar solo las dos primeras columnas\n",
    "Estados_Beneficiarios2019 = Beneficiarios_2019[['ESTADO', 'MUNICIPIO']]\n",
    "\n",
    "# Obtener las filas únicas\n",
    "Estados_Beneficiarios2019 = Beneficiarios_2019.drop_duplicates()"
   ]
  },
  {
   "cell_type": "code",
   "execution_count": null,
   "id": "ac039c1a",
   "metadata": {},
   "outputs": [],
   "source": [
    "# Estandarización de nombres de Estados y Municipios"
   ]
  },
  {
   "cell_type": "code",
   "execution_count": null,
   "id": "33a9e34f",
   "metadata": {},
   "outputs": [],
   "source": [
    "# Estandarizamos la limpieza de los datos\n",
    "Estados_Beneficiarios2019['ESTADO_Clean'] = Estados_Beneficiarios2019['ESTADO'].apply(clean_text)\n",
    "Estados_Beneficiarios2019['MUNICIPIO_Clean'] = Estados_Beneficiarios2019['MUNICIPIO'].apply(clean_text)"
   ]
  },
  {
   "cell_type": "code",
   "execution_count": null,
   "id": "eba1c8548f6a16da",
   "metadata": {
    "ExecuteTime": {
     "end_time": "2024-05-30T14:01:40.725863Z",
     "start_time": "2024-05-30T14:01:40.615616Z"
    }
   },
   "outputs": [],
   "source": [
    "# Valores únicos y la cantidad de cada columna\n",
    "# Obtener estadísticas descriptivas para todas las variables\n",
    "\n",
    "descriptive_stats = Beneficiarios_2019.describe(include='all').transpose()\n",
    "\n",
    "# Mostrar las estadísticas descriptivas\n",
    "print(descriptive_stats)"
   ]
  },
  {
   "cell_type": "markdown",
   "id": "daa9f974cc33efa1",
   "metadata": {},
   "source": [
    "# 3. Diccionario de los datasets de INEGI Y LISTADO BENEFICIARIOS 2019\n",
    "\n",
    "El objetivo de esta sección es crear un diccionario de códigos según INEGI para los municipios Listado_beneficiarios2019. Para ello haremos un Left join entre Estados_Beneficiarios2019 y dataset_inegi_clean."
   ]
  },
  {
   "cell_type": "markdown",
   "id": "ce912939",
   "metadata": {},
   "source": [
    "### 3.1 Creamos las columnas clave"
   ]
  },
  {
   "cell_type": "markdown",
   "id": "1aac072a",
   "metadata": {},
   "source": [
    "Crearemos las columnas clave concatenando [Estado_limpio]-[Municipio_limpio] en **ambos datasets**"
   ]
  },
  {
   "cell_type": "code",
   "execution_count": null,
   "id": "fd948d1e",
   "metadata": {},
   "outputs": [],
   "source": [
    "# INEGI\n",
    "dataset_inegi_clean[\"NOM_ENT_Clean\"] = dataset_inegi_clean[\"NOM_ENT_Clean\"].astype(str)\n",
    "dataset_inegi_clean[\"NOM_MUN_Clean\"] = dataset_inegi_clean[\"NOM_MUN_Clean\"].astype(str)\n",
    "\n",
    "dataset_inegi_clean[\"KEY_inegi\"] = dataset_inegi_clean[\"NOM_ENT_Clean\"] + \"-\" + dataset_inegi_clean[\"NOM_MUN_Clean\"]"
   ]
  },
  {
   "cell_type": "code",
   "execution_count": null,
   "id": "8df123fe",
   "metadata": {},
   "outputs": [],
   "source": [
    "# Listado_Beneficiarios2019"
   ]
  },
  {
   "cell_type": "markdown",
   "id": "54bf8df24ed21525",
   "metadata": {},
   "source": [
    "### 3.1 Left join\n",
    "\n",
    "Creamos el diccionario."
   ]
  },
  {
   "cell_type": "code",
   "execution_count": null,
   "id": "d78b6da92ca65e74",
   "metadata": {
    "ExecuteTime": {
     "end_time": "2024-05-30T14:01:42.957406Z",
     "start_time": "2024-05-30T14:01:42.948071Z"
    }
   },
   "outputs": [],
   "source": [
    "Estados_productores = Estados_productores.drop(['ESTADO', 'MUNICIPIO'], axis=1)\n",
    "Estados_productores = Estados_productores.drop_duplicates()\n",
    "Estados_productores.shape"
   ]
  },
  {
   "cell_type": "code",
   "execution_count": null,
   "id": "ce0a1b9a7e456962",
   "metadata": {
    "ExecuteTime": {
     "end_time": "2024-05-30T14:01:42.975237Z",
     "start_time": "2024-05-30T14:01:42.970686Z"
    }
   },
   "outputs": [],
   "source": [
    "\n",
    "# Crear una función para encontrar la mejor coincidencia difusa con límites entre 90 y 100 de coincidencia\n",
    "\n",
    "\n",
    "def fuzzy_merge_beneficiarios2019(df_inegi, df_prod, key1, key2, threshold=90, limit=1):\n",
    "    \"\"\"\n",
    "    df_inegi: DataFrame de la izquierda (el DataFrame principal)\n",
    "    df_prod: DataFrame de la derecha (el DataFrame con el que se quiere hacer el join)\n",
    "    key1: Columna de la clave en df_inegi\n",
    "    key2: Columna de la clave en df_prod\n",
    "    threshold: Umbral de coincidencia difusa\n",
    "    limit: Número de coincidencias a encontrar\n",
    "    \"\"\"\n",
    "    s = df_prod[key2].tolist()\n",
    "\n",
    "    # Encontrar las mejores coincidencias para cada clave en df_inegi\n",
    "    matches = df_inegi[key1].apply(lambda x: process.extractOne(x, s, score_cutoff=threshold))\n",
    "\n",
    "    # Crear una columna con las mejores coincidencias\n",
    "    df_inegi['best_match'] = [match[0] if match else None for match in matches]\n",
    "    df_inegi['match_score'] = [match[1] if match else None for match in matches]\n",
    "\n",
    "    # Hacer el merge con las mejores coincidencias\n",
    "    df_merged = pd.merge(df_inegi, df_prod, left_on='best_match', right_on=key2, how='inner',\n",
    "                         suffixes=('_inegi', '_prod'))\n",
    "    \n",
    "    return df_merged\n"
   ]
  },
  {
   "cell_type": "code",
   "execution_count": null,
   "id": "bca965b4ce80146f",
   "metadata": {
    "ExecuteTime": {
     "end_time": "2024-05-30T14:04:01.709287Z",
     "start_time": "2024-05-30T14:01:42.976257Z"
    }
   },
   "outputs": [],
   "source": [
    "# Aplicar la función de coincidencia difusa\n",
    "diccionario = fuzzy_merge(dataset_inegi_clean, Estados_productores, 'KEY_inegi', 'KEY_prod')\n",
    "diccionario.drop_duplicates(subset=['KEY_inegi'], inplace=True)\n",
    "\n",
    "# Mostrar el resultado\n",
    "diccionario.columns"
   ]
  },
  {
   "cell_type": "code",
   "execution_count": null,
   "id": "4cefccc4079ae8e9",
   "metadata": {
    "ExecuteTime": {
     "end_time": "2024-05-30T14:04:01.741880Z",
     "start_time": "2024-05-30T14:04:01.724246Z"
    }
   },
   "outputs": [],
   "source": [
    "diccionario.to_csv('../../data/merged_dataset.csv', index=False)"
   ]
  },
  {
   "cell_type": "markdown",
   "id": "7480947838e468f7",
   "metadata": {},
   "source": [
    "## 3.2 Listado beneficiarios2019\n",
    "\n",
    "Esta sección se encarga de completar el listado original de Productores Autorizados con los nombre corregido de INEGI usando el diccionario."
   ]
  },
  {
   "cell_type": "code",
   "execution_count": null,
   "id": "6ae598e683e47cac",
   "metadata": {
    "ExecuteTime": {
     "end_time": "2024-05-30T14:04:10.797009Z",
     "start_time": "2024-05-30T14:04:01.743888Z"
    }
   },
   "outputs": [],
   "source": [
    "# Crear una variable KEY en listado de productores y el diccionario para hacer el join\n",
    "listado_productores['ESTADO_Clean'] = listado_productores['ESTADO'].apply(clean_text)\n",
    "listado_productores['MUNICIPIO_Clean'] = listado_productores['MUNICIPIO'].apply(clean_text)\n",
    "listado_productores['Estado-mun-KEY'] = listado_productores['ESTADO_Clean'].astype(str) + '-' + listado_productores[\n",
    "    'MUNICIPIO_Clean'].astype(str)\n",
    "\n",
    "diccionario_Sin_VC = diccionario[diccionario[\"NOM_ENT\"] != \"Veracruz de Ignacio de la Llave\"]"
   ]
  },
  {
   "cell_type": "code",
   "execution_count": null,
   "id": "672ed551381e1e8a",
   "metadata": {
    "ExecuteTime": {
     "end_time": "2024-05-30T14:04:10.806584Z",
     "start_time": "2024-05-30T14:04:10.800015Z"
    }
   },
   "outputs": [],
   "source": [
    "listado_productores.shape"
   ]
  },
  {
   "cell_type": "code",
   "execution_count": null,
   "id": "eadcf12bf02de348",
   "metadata": {
    "ExecuteTime": {
     "end_time": "2024-05-30T14:04:10.821110Z",
     "start_time": "2024-05-30T14:04:10.808616Z"
    }
   },
   "outputs": [],
   "source": [
    "diccionario_Sin_VC2 = diccionario_Sin_VC[['CVE_ENT', 'NOM_ENT', 'CVE_MUN', 'NOM_MUN', 'CVE_MUN_Unique',\n",
    "       'KEY_inegi', 'best_match', 'match_score', 'ESTADO_Clean', 'MUNICIPIO_Clean', 'KEY_prod']]\n",
    "\n",
    "diccionario_Sin_VC.shape"
   ]
  },
  {
   "cell_type": "code",
   "execution_count": null,
   "id": "621ca3dd88360266",
   "metadata": {
    "ExecuteTime": {
     "end_time": "2024-05-30T14:04:10.848871Z",
     "start_time": "2024-05-30T14:04:10.823116Z"
    }
   },
   "outputs": [],
   "source": [
    "diccionario_Sin_VC.to_csv('../../data/Diccionario_autom.csv', index=False)\n",
    "diccionario_Sin_VC.columns"
   ]
  },
  {
   "cell_type": "code",
   "execution_count": null,
   "id": "9a887b8bde1fcd6c",
   "metadata": {
    "ExecuteTime": {
     "end_time": "2024-05-30T14:04:10.879818Z",
     "start_time": "2024-05-30T14:04:10.849876Z"
    }
   },
   "outputs": [],
   "source": [
    "# Lectura del diccionario manipulado\n",
    "diccionario_manipulado = pd.read_csv('../../data/Diccionario_manual.csv')"
   ]
  },
  {
   "cell_type": "code",
   "execution_count": null,
   "id": "e1928c484fe89c5e",
   "metadata": {
    "ExecuteTime": {
     "end_time": "2024-05-30T14:04:11.928301Z",
     "start_time": "2024-05-30T14:04:10.882823Z"
    }
   },
   "outputs": [],
   "source": [
    "# Hacer el join\n",
    "listado_productores_complete = pd.merge(listado_productores, diccionario_manipulado, left_on=\"Estado-mun-KEY\",\n",
    "                                        right_on=\"KEY_prod\", how='left', suffixes=('_prod', '_inegi'))"
   ]
  },
  {
   "cell_type": "code",
   "execution_count": null,
   "id": "583fefbe0c8062cb",
   "metadata": {
    "ExecuteTime": {
     "end_time": "2024-05-30T14:04:14.096594Z",
     "start_time": "2024-05-30T14:04:11.929338Z"
    }
   },
   "outputs": [],
   "source": [
    "listado_productores_complete[['CVE_ENT', 'CVE_MUN']] = listado_productores_complete['CVE_MUN_Unique'].str.split('-',\n",
    "                                                                                                                expand=True)\n"
   ]
  },
  {
   "cell_type": "code",
   "execution_count": null,
   "id": "eff01ecd75f63b54",
   "metadata": {
    "ExecuteTime": {
     "end_time": "2024-05-30T14:04:14.104571Z",
     "start_time": "2024-05-30T14:04:14.097713Z"
    }
   },
   "outputs": [],
   "source": [
    "listado_productores_complete.columns"
   ]
  },
  {
   "cell_type": "code",
   "execution_count": null,
   "id": "b27a125b519d9ac8",
   "metadata": {
    "ExecuteTime": {
     "end_time": "2024-05-30T14:04:14.339706Z",
     "start_time": "2024-05-30T14:04:14.106578Z"
    }
   },
   "outputs": [],
   "source": [
    "# Seleccionamos las columnas que nos interesan\n",
    "listado_productores_complete = listado_productores_complete[\n",
    "    ['ESTADO', 'MUNICIPIO', 'ACUSE', 'APELLIDO PATERNO', 'APELLIDO MATERNO',\n",
    "     'NOMBRE (S)', 'PAQUETE', 'KEY_inegi', 'NOM_ENT', 'NOM_MUN', 'CVE_ENT', 'CVE_MUN']]"
   ]
  },
  {
   "cell_type": "code",
   "execution_count": null,
   "id": "f74b72372f1494ed",
   "metadata": {
    "ExecuteTime": {
     "end_time": "2024-05-30T14:04:14.361161Z",
     "start_time": "2024-05-30T14:04:14.346729Z"
    }
   },
   "outputs": [],
   "source": [
    "# Revisamos el dataset\n",
    "print(listado_productores_complete.shape)\n",
    "print(listado_productores_complete.columns)\n",
    "print(listado_productores_complete.head())"
   ]
  },
  {
   "cell_type": "code",
   "execution_count": null,
   "id": "b6f806cac74b96ab",
   "metadata": {
    "ExecuteTime": {
     "end_time": "2024-05-30T14:04:19.057829Z",
     "start_time": "2024-05-30T14:04:14.366177Z"
    }
   },
   "outputs": [],
   "source": [
    "listado_productores_complete.to_csv('../../data/listado_productores_complete.csv', index=False)"
   ]
  }
 ],
 "metadata": {
  "kernelspec": {
   "display_name": "Python 3",
   "language": "python",
   "name": "python3"
  },
  "language_info": {
   "codemirror_mode": {
    "name": "ipython",
    "version": 3
   },
   "file_extension": ".py",
   "mimetype": "text/x-python",
   "name": "python",
   "nbconvert_exporter": "python",
   "pygments_lexer": "ipython3",
   "version": "3.12.2"
  }
 },
 "nbformat": 4,
 "nbformat_minor": 5
}
