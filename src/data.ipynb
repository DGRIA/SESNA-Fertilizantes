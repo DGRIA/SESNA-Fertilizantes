{
 "cells": [
  {
   "cell_type": "code",
   "execution_count": 1,
   "metadata": {},
   "outputs": [],
   "source": [
    "import pandas as pd\n",
    "import numpy as np\n",
    "\n",
    "data = {\n",
    "    'Variable': ['ESTADO_prod', 'MUNICIPIO_prod', 'ACUSE', 'APELLIDO PATERNO', 'APELLIDO MATERNO', 'NOMBRE (S)', 'PAQUETE', 'ESTADO_inegi', 'MUNICIPIO_inegi', 'CVE_MUN_Unique', 'CVE_ENT', 'CVE_MUN'],\n",
    "    'Count': [1541130, 1465618, 1541130, 1536836, 1512563, 1536837, 1541130, 1455397, 1455397, 1455397, 1455397, 1455397],\n",
    "    'Unique': [20, 1694, 1525720, 13551, 15970, 116715, np.nan, 19, 1679, 1729, np.nan, np.nan],\n",
    "    'Top': ['GUERRERO', 'LAS MARGARITAS', '23-PRONAFE-FERT-006339-S000-CC', 'HERNANDEZ', 'HERNANDEZ', 'JUAN', np.nan, 'GUERRERO', 'LAS MARGARITAS', '7-52', np.nan, np.nan],\n",
    "    'Freq': [356223, 19497, 3, 75851, 75802, 24798, np.nan, 354841, 19497, 19497, np.nan, np.nan],\n",
    "    'Mean': [np.nan, np.nan, np.nan, np.nan, np.nan, np.nan, 1.465675, np.nan, np.nan, np.nan, 14.050221, 81.612651],\n",
    "    'Std Dev': [np.nan, np.nan, np.nan, np.nan, np.nan, np.nan, 0.498821, np.nan, np.nan, np.nan, 5.885824, 104.242026],\n",
    "    'Min': [np.nan, np.nan, np.nan, np.nan, np.nan, np.nan, 1, np.nan, np.nan, np.nan, 1, 1],\n",
    "    '25%': [np.nan, np.nan, np.nan, np.nan, np.nan, np.nan, 1, np.nan, np.nan, np.nan, 10, 22],\n",
    "    '50%': [np.nan, np.nan, np.nan, np.nan, np.nan, np.nan, 1, np.nan, np.nan, np.nan, 13, 52],\n",
    "    '75%': [np.nan, np.nan, np.nan, np.nan, np.nan, np.nan, 2, np.nan, np.nan, np.nan, 20, 93],\n",
    "    'Max': [np.nan, np.nan, np.nan, np.nan, np.nan, np.nan, 2, np.nan, np.nan, np.nan, 31, 570]\n",
    "}\n",
    "\n",
    "df = pd.DataFrame(data)"
   ]
  },
  {
   "cell_type": "code",
   "execution_count": null,
   "metadata": {},
   "outputs": [],
   "source": [
    "df"
   ]
  }
 ],
 "metadata": {
  "kernelspec": {
   "display_name": "Python 3",
   "language": "python",
   "name": "python3"
  },
  "language_info": {
   "codemirror_mode": {
    "name": "ipython",
    "version": 3
   },
   "file_extension": ".py",
   "mimetype": "text/x-python",
   "name": "python",
   "nbconvert_exporter": "python",
   "pygments_lexer": "ipython3",
   "version": "3.9.9"
  }
 },
 "nbformat": 4,
 "nbformat_minor": 2
}
