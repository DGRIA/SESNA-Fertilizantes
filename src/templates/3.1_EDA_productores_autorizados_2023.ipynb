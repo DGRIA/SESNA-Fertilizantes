{
 "cells": [
  {
   "metadata": {},
   "cell_type": "markdown",
   "source": "# Análisis EDA de productores autorizados 2023",
   "id": "abf0265080885b4"
  },
  {
   "metadata": {},
   "cell_type": "markdown",
   "source": "# 1. Importación de librerías y carga de datos",
   "id": "e83c53bd8e1cacfe"
  },
  {
   "metadata": {
    "ExecuteTime": {
     "end_time": "2024-05-28T12:04:32.683447Z",
     "start_time": "2024-05-28T12:04:32.678843Z"
    }
   },
   "cell_type": "code",
   "source": [
    "import pandas as pd\n",
    "import numpy as np\n",
    "import time\n",
    "import matplotlib.pyplot as plt\n",
    "import seaborn as sns\n",
    "# pd.set_option('display.max_columns', None)"
   ],
   "id": "857fbe7303fac90",
   "outputs": [],
   "execution_count": 1
  },
  {
   "metadata": {
    "ExecuteTime": {
     "end_time": "2024-05-28T12:04:36.338337Z",
     "start_time": "2024-05-28T12:04:32.686458Z"
    }
   },
   "cell_type": "code",
   "source": "lista_productores = pd.read_csv('../../data/listado_productores_complete.csv')",
   "id": "6fe016464be90ed3",
   "outputs": [],
   "execution_count": 2
  },
  {
   "metadata": {
    "ExecuteTime": {
     "end_time": "2024-05-28T12:04:36.353185Z",
     "start_time": "2024-05-28T12:04:36.340302Z"
    }
   },
   "cell_type": "code",
   "source": "lista_productores.shape",
   "id": "52022c129f759636",
   "outputs": [
    {
     "data": {
      "text/plain": [
       "(1541130, 12)"
      ]
     },
     "execution_count": 3,
     "metadata": {},
     "output_type": "execute_result"
    }
   ],
   "execution_count": 3
  },
  {
   "metadata": {},
   "cell_type": "markdown",
   "source": "# 2. Análisis Inicial",
   "id": "4a5db07f392095b3"
  },
  {
   "metadata": {},
   "cell_type": "markdown",
   "source": "## 2.1 Estructura de los datos",
   "id": "a276dbb9bf7675dd"
  },
  {
   "metadata": {
    "ExecuteTime": {
     "end_time": "2024-05-28T12:04:36.382812Z",
     "start_time": "2024-05-28T12:04:36.356199Z"
    }
   },
   "cell_type": "code",
   "source": "lista_productores.head()",
   "id": "81a1006971a76955",
   "outputs": [
    {
     "data": {
      "text/plain": [
       "      ESTADO_prod  MUNICIPIO_prod                           ACUSE  \\\n",
       "0  AGUASCALIENTES  AGUASCALIENTES  23-PRONAFE-FERT-000510-S000-AS   \n",
       "1  AGUASCALIENTES  AGUASCALIENTES  23-PRONAFE-FERT-000339-S000-AS   \n",
       "2  AGUASCALIENTES  AGUASCALIENTES  23-PRONAFE-FERT-000340-S000-AS   \n",
       "3  AGUASCALIENTES  AGUASCALIENTES  23-PRONAFE-FERT-000511-S000-AS   \n",
       "4  AGUASCALIENTES  AGUASCALIENTES  23-PRONAFE-FERT-000676-S000-AS   \n",
       "\n",
       "  APELLIDO PATERNO APELLIDO MATERNO         NOMBRE (S)  PAQUETE  \\\n",
       "0          AGUILAR          AGUILAR            NICOLAS        2   \n",
       "1          AGUILAR           GARCIA             MANUEL        2   \n",
       "2          AGUILAR           GARCIA              PAULO        2   \n",
       "3          AGUILAR          OROPEZA             MIGUEL        2   \n",
       "4             ALBA          ESTRADA  MARIA DEL ROSARIO        2   \n",
       "\n",
       "     ESTADO_inegi MUNICIPIO_inegi CVE_MUN_Unique  CVE_ENT  CVE_MUN  \n",
       "0  AGUASCALIENTES  AGUASCALIENTES            1-1      1.0      1.0  \n",
       "1  AGUASCALIENTES  AGUASCALIENTES            1-1      1.0      1.0  \n",
       "2  AGUASCALIENTES  AGUASCALIENTES            1-1      1.0      1.0  \n",
       "3  AGUASCALIENTES  AGUASCALIENTES            1-1      1.0      1.0  \n",
       "4  AGUASCALIENTES  AGUASCALIENTES            1-1      1.0      1.0  "
      ],
      "text/html": [
       "<div>\n",
       "<style scoped>\n",
       "    .dataframe tbody tr th:only-of-type {\n",
       "        vertical-align: middle;\n",
       "    }\n",
       "\n",
       "    .dataframe tbody tr th {\n",
       "        vertical-align: top;\n",
       "    }\n",
       "\n",
       "    .dataframe thead th {\n",
       "        text-align: right;\n",
       "    }\n",
       "</style>\n",
       "<table border=\"1\" class=\"dataframe\">\n",
       "  <thead>\n",
       "    <tr style=\"text-align: right;\">\n",
       "      <th></th>\n",
       "      <th>ESTADO_prod</th>\n",
       "      <th>MUNICIPIO_prod</th>\n",
       "      <th>ACUSE</th>\n",
       "      <th>APELLIDO PATERNO</th>\n",
       "      <th>APELLIDO MATERNO</th>\n",
       "      <th>NOMBRE (S)</th>\n",
       "      <th>PAQUETE</th>\n",
       "      <th>ESTADO_inegi</th>\n",
       "      <th>MUNICIPIO_inegi</th>\n",
       "      <th>CVE_MUN_Unique</th>\n",
       "      <th>CVE_ENT</th>\n",
       "      <th>CVE_MUN</th>\n",
       "    </tr>\n",
       "  </thead>\n",
       "  <tbody>\n",
       "    <tr>\n",
       "      <th>0</th>\n",
       "      <td>AGUASCALIENTES</td>\n",
       "      <td>AGUASCALIENTES</td>\n",
       "      <td>23-PRONAFE-FERT-000510-S000-AS</td>\n",
       "      <td>AGUILAR</td>\n",
       "      <td>AGUILAR</td>\n",
       "      <td>NICOLAS</td>\n",
       "      <td>2</td>\n",
       "      <td>AGUASCALIENTES</td>\n",
       "      <td>AGUASCALIENTES</td>\n",
       "      <td>1-1</td>\n",
       "      <td>1.0</td>\n",
       "      <td>1.0</td>\n",
       "    </tr>\n",
       "    <tr>\n",
       "      <th>1</th>\n",
       "      <td>AGUASCALIENTES</td>\n",
       "      <td>AGUASCALIENTES</td>\n",
       "      <td>23-PRONAFE-FERT-000339-S000-AS</td>\n",
       "      <td>AGUILAR</td>\n",
       "      <td>GARCIA</td>\n",
       "      <td>MANUEL</td>\n",
       "      <td>2</td>\n",
       "      <td>AGUASCALIENTES</td>\n",
       "      <td>AGUASCALIENTES</td>\n",
       "      <td>1-1</td>\n",
       "      <td>1.0</td>\n",
       "      <td>1.0</td>\n",
       "    </tr>\n",
       "    <tr>\n",
       "      <th>2</th>\n",
       "      <td>AGUASCALIENTES</td>\n",
       "      <td>AGUASCALIENTES</td>\n",
       "      <td>23-PRONAFE-FERT-000340-S000-AS</td>\n",
       "      <td>AGUILAR</td>\n",
       "      <td>GARCIA</td>\n",
       "      <td>PAULO</td>\n",
       "      <td>2</td>\n",
       "      <td>AGUASCALIENTES</td>\n",
       "      <td>AGUASCALIENTES</td>\n",
       "      <td>1-1</td>\n",
       "      <td>1.0</td>\n",
       "      <td>1.0</td>\n",
       "    </tr>\n",
       "    <tr>\n",
       "      <th>3</th>\n",
       "      <td>AGUASCALIENTES</td>\n",
       "      <td>AGUASCALIENTES</td>\n",
       "      <td>23-PRONAFE-FERT-000511-S000-AS</td>\n",
       "      <td>AGUILAR</td>\n",
       "      <td>OROPEZA</td>\n",
       "      <td>MIGUEL</td>\n",
       "      <td>2</td>\n",
       "      <td>AGUASCALIENTES</td>\n",
       "      <td>AGUASCALIENTES</td>\n",
       "      <td>1-1</td>\n",
       "      <td>1.0</td>\n",
       "      <td>1.0</td>\n",
       "    </tr>\n",
       "    <tr>\n",
       "      <th>4</th>\n",
       "      <td>AGUASCALIENTES</td>\n",
       "      <td>AGUASCALIENTES</td>\n",
       "      <td>23-PRONAFE-FERT-000676-S000-AS</td>\n",
       "      <td>ALBA</td>\n",
       "      <td>ESTRADA</td>\n",
       "      <td>MARIA DEL ROSARIO</td>\n",
       "      <td>2</td>\n",
       "      <td>AGUASCALIENTES</td>\n",
       "      <td>AGUASCALIENTES</td>\n",
       "      <td>1-1</td>\n",
       "      <td>1.0</td>\n",
       "      <td>1.0</td>\n",
       "    </tr>\n",
       "  </tbody>\n",
       "</table>\n",
       "</div>"
      ]
     },
     "execution_count": 4,
     "metadata": {},
     "output_type": "execute_result"
    }
   ],
   "execution_count": 4
  },
  {
   "metadata": {
    "ExecuteTime": {
     "end_time": "2024-05-28T12:04:36.402348Z",
     "start_time": "2024-05-28T12:04:36.387829Z"
    }
   },
   "cell_type": "code",
   "source": "lista_productores.tail()",
   "id": "a4dcd9f2a68e5cdb",
   "outputs": [
    {
     "data": {
      "text/plain": [
       "        ESTADO_prod MUNICIPIO_prod                           ACUSE  \\\n",
       "1541125      PUEBLA      ZOQUITLAN  23-PRONAFE-FERT-103370-S000-PL   \n",
       "1541126      PUEBLA      ZOQUITLAN  23-PRONAFE-FERT-103371-S000-PL   \n",
       "1541127      PUEBLA      ZOQUITLAN  23-PRONAFE-FERT-103166-S000-PL   \n",
       "1541128      PUEBLA      ZOQUITLAN  23-PRONAFE-FERT-103373-S000-PL   \n",
       "1541129      PUEBLA      ZOQUITLAN  23-PRONAFE-FERT-103374-S000-PL   \n",
       "\n",
       "        APELLIDO PATERNO APELLIDO MATERNO NOMBRE (S)  PAQUETE ESTADO_inegi  \\\n",
       "1541125              NaN              NaN        NaN        2       PUEBLA   \n",
       "1541126              NaN              NaN        NaN        2       PUEBLA   \n",
       "1541127              NaN              NaN        NaN        2       PUEBLA   \n",
       "1541128              NaN              NaN        NaN        2       PUEBLA   \n",
       "1541129              NaN              NaN        NaN        2       PUEBLA   \n",
       "\n",
       "        MUNICIPIO_inegi CVE_MUN_Unique  CVE_ENT  CVE_MUN  \n",
       "1541125       ZOQUITLAN         21-217     21.0    217.0  \n",
       "1541126       ZOQUITLAN         21-217     21.0    217.0  \n",
       "1541127       ZOQUITLAN         21-217     21.0    217.0  \n",
       "1541128       ZOQUITLAN         21-217     21.0    217.0  \n",
       "1541129       ZOQUITLAN         21-217     21.0    217.0  "
      ],
      "text/html": [
       "<div>\n",
       "<style scoped>\n",
       "    .dataframe tbody tr th:only-of-type {\n",
       "        vertical-align: middle;\n",
       "    }\n",
       "\n",
       "    .dataframe tbody tr th {\n",
       "        vertical-align: top;\n",
       "    }\n",
       "\n",
       "    .dataframe thead th {\n",
       "        text-align: right;\n",
       "    }\n",
       "</style>\n",
       "<table border=\"1\" class=\"dataframe\">\n",
       "  <thead>\n",
       "    <tr style=\"text-align: right;\">\n",
       "      <th></th>\n",
       "      <th>ESTADO_prod</th>\n",
       "      <th>MUNICIPIO_prod</th>\n",
       "      <th>ACUSE</th>\n",
       "      <th>APELLIDO PATERNO</th>\n",
       "      <th>APELLIDO MATERNO</th>\n",
       "      <th>NOMBRE (S)</th>\n",
       "      <th>PAQUETE</th>\n",
       "      <th>ESTADO_inegi</th>\n",
       "      <th>MUNICIPIO_inegi</th>\n",
       "      <th>CVE_MUN_Unique</th>\n",
       "      <th>CVE_ENT</th>\n",
       "      <th>CVE_MUN</th>\n",
       "    </tr>\n",
       "  </thead>\n",
       "  <tbody>\n",
       "    <tr>\n",
       "      <th>1541125</th>\n",
       "      <td>PUEBLA</td>\n",
       "      <td>ZOQUITLAN</td>\n",
       "      <td>23-PRONAFE-FERT-103370-S000-PL</td>\n",
       "      <td>NaN</td>\n",
       "      <td>NaN</td>\n",
       "      <td>NaN</td>\n",
       "      <td>2</td>\n",
       "      <td>PUEBLA</td>\n",
       "      <td>ZOQUITLAN</td>\n",
       "      <td>21-217</td>\n",
       "      <td>21.0</td>\n",
       "      <td>217.0</td>\n",
       "    </tr>\n",
       "    <tr>\n",
       "      <th>1541126</th>\n",
       "      <td>PUEBLA</td>\n",
       "      <td>ZOQUITLAN</td>\n",
       "      <td>23-PRONAFE-FERT-103371-S000-PL</td>\n",
       "      <td>NaN</td>\n",
       "      <td>NaN</td>\n",
       "      <td>NaN</td>\n",
       "      <td>2</td>\n",
       "      <td>PUEBLA</td>\n",
       "      <td>ZOQUITLAN</td>\n",
       "      <td>21-217</td>\n",
       "      <td>21.0</td>\n",
       "      <td>217.0</td>\n",
       "    </tr>\n",
       "    <tr>\n",
       "      <th>1541127</th>\n",
       "      <td>PUEBLA</td>\n",
       "      <td>ZOQUITLAN</td>\n",
       "      <td>23-PRONAFE-FERT-103166-S000-PL</td>\n",
       "      <td>NaN</td>\n",
       "      <td>NaN</td>\n",
       "      <td>NaN</td>\n",
       "      <td>2</td>\n",
       "      <td>PUEBLA</td>\n",
       "      <td>ZOQUITLAN</td>\n",
       "      <td>21-217</td>\n",
       "      <td>21.0</td>\n",
       "      <td>217.0</td>\n",
       "    </tr>\n",
       "    <tr>\n",
       "      <th>1541128</th>\n",
       "      <td>PUEBLA</td>\n",
       "      <td>ZOQUITLAN</td>\n",
       "      <td>23-PRONAFE-FERT-103373-S000-PL</td>\n",
       "      <td>NaN</td>\n",
       "      <td>NaN</td>\n",
       "      <td>NaN</td>\n",
       "      <td>2</td>\n",
       "      <td>PUEBLA</td>\n",
       "      <td>ZOQUITLAN</td>\n",
       "      <td>21-217</td>\n",
       "      <td>21.0</td>\n",
       "      <td>217.0</td>\n",
       "    </tr>\n",
       "    <tr>\n",
       "      <th>1541129</th>\n",
       "      <td>PUEBLA</td>\n",
       "      <td>ZOQUITLAN</td>\n",
       "      <td>23-PRONAFE-FERT-103374-S000-PL</td>\n",
       "      <td>NaN</td>\n",
       "      <td>NaN</td>\n",
       "      <td>NaN</td>\n",
       "      <td>2</td>\n",
       "      <td>PUEBLA</td>\n",
       "      <td>ZOQUITLAN</td>\n",
       "      <td>21-217</td>\n",
       "      <td>21.0</td>\n",
       "      <td>217.0</td>\n",
       "    </tr>\n",
       "  </tbody>\n",
       "</table>\n",
       "</div>"
      ]
     },
     "execution_count": 5,
     "metadata": {},
     "output_type": "execute_result"
    }
   ],
   "execution_count": 5
  },
  {
   "metadata": {},
   "cell_type": "markdown",
   "source": "## 2.2 Información general",
   "id": "57cd673a77d345e5"
  },
  {
   "metadata": {
    "ExecuteTime": {
     "end_time": "2024-05-28T12:04:36.876292Z",
     "start_time": "2024-05-28T12:04:36.404809Z"
    }
   },
   "cell_type": "code",
   "source": "lista_productores.info()",
   "id": "507625372568fc72",
   "outputs": [
    {
     "name": "stdout",
     "output_type": "stream",
     "text": [
      "<class 'pandas.core.frame.DataFrame'>\n",
      "RangeIndex: 1541130 entries, 0 to 1541129\n",
      "Data columns (total 12 columns):\n",
      " #   Column            Non-Null Count    Dtype  \n",
      "---  ------            --------------    -----  \n",
      " 0   ESTADO_prod       1541130 non-null  object \n",
      " 1   MUNICIPIO_prod    1465618 non-null  object \n",
      " 2   ACUSE             1541130 non-null  object \n",
      " 3   APELLIDO PATERNO  1536836 non-null  object \n",
      " 4   APELLIDO MATERNO  1512563 non-null  object \n",
      " 5   NOMBRE (S)        1536837 non-null  object \n",
      " 6   PAQUETE           1541130 non-null  int64  \n",
      " 7   ESTADO_inegi      1455397 non-null  object \n",
      " 8   MUNICIPIO_inegi   1455397 non-null  object \n",
      " 9   CVE_MUN_Unique    1455397 non-null  object \n",
      " 10  CVE_ENT           1455397 non-null  float64\n",
      " 11  CVE_MUN           1455397 non-null  float64\n",
      "dtypes: float64(2), int64(1), object(9)\n",
      "memory usage: 141.1+ MB\n"
     ]
    }
   ],
   "execution_count": 6
  },
  {
   "metadata": {
    "ExecuteTime": {
     "end_time": "2024-05-28T12:04:36.882304Z",
     "start_time": "2024-05-28T12:04:36.878301Z"
    }
   },
   "cell_type": "code",
   "source": "",
   "id": "5f532d4a6f407993",
   "outputs": [],
   "execution_count": 6
  },
  {
   "metadata": {},
   "cell_type": "markdown",
   "source": "## 2.3 Estadísticas Descriptivas",
   "id": "3377d0de26dccc09"
  },
  {
   "metadata": {
    "ExecuteTime": {
     "end_time": "2024-05-28T12:04:42.482177Z",
     "start_time": "2024-05-28T12:04:36.885085Z"
    }
   },
   "cell_type": "code",
   "source": [
    "# Obtener estadísticas descriptivas para todas las variables\n",
    "descriptive_stats = lista_productores.describe(include='all').transpose()\n",
    "\n",
    "# Mostrar las estadísticas descriptivas\n",
    "print(descriptive_stats)"
   ],
   "id": "d828d73e8ba0c12a",
   "outputs": [
    {
     "name": "stdout",
     "output_type": "stream",
     "text": [
      "                      count   unique                             top    freq  \\\n",
      "ESTADO_prod         1541130       20                        GUERRERO  356223   \n",
      "MUNICIPIO_prod      1465618     1694                  LAS MARGARITAS   19497   \n",
      "ACUSE               1541130  1525720  23-PRONAFE-FERT-006339-S000-CC       3   \n",
      "APELLIDO PATERNO    1536836    13551                       HERNANDEZ   75851   \n",
      "APELLIDO MATERNO    1512563    15970                       HERNANDEZ   75802   \n",
      "NOMBRE (S)          1536837   116715                            JUAN   24798   \n",
      "PAQUETE           1541130.0      NaN                             NaN     NaN   \n",
      "ESTADO_inegi        1455397       19                        GUERRERO  354841   \n",
      "MUNICIPIO_inegi     1455397     1679                  LAS MARGARITAS   19497   \n",
      "CVE_MUN_Unique      1455397     1729                            7-52   19497   \n",
      "CVE_ENT           1455397.0      NaN                             NaN     NaN   \n",
      "CVE_MUN           1455397.0      NaN                             NaN     NaN   \n",
      "\n",
      "                       mean         std  min   25%   50%   75%    max  \n",
      "ESTADO_prod             NaN         NaN  NaN   NaN   NaN   NaN    NaN  \n",
      "MUNICIPIO_prod          NaN         NaN  NaN   NaN   NaN   NaN    NaN  \n",
      "ACUSE                   NaN         NaN  NaN   NaN   NaN   NaN    NaN  \n",
      "APELLIDO PATERNO        NaN         NaN  NaN   NaN   NaN   NaN    NaN  \n",
      "APELLIDO MATERNO        NaN         NaN  NaN   NaN   NaN   NaN    NaN  \n",
      "NOMBRE (S)              NaN         NaN  NaN   NaN   NaN   NaN    NaN  \n",
      "PAQUETE            1.465675    0.498821  1.0   1.0   1.0   2.0    2.0  \n",
      "ESTADO_inegi            NaN         NaN  NaN   NaN   NaN   NaN    NaN  \n",
      "MUNICIPIO_inegi         NaN         NaN  NaN   NaN   NaN   NaN    NaN  \n",
      "CVE_MUN_Unique          NaN         NaN  NaN   NaN   NaN   NaN    NaN  \n",
      "CVE_ENT           14.050221    5.885824  1.0  10.0  13.0  20.0   31.0  \n",
      "CVE_MUN           81.612651  104.242026  1.0  22.0  52.0  93.0  570.0  \n"
     ]
    }
   ],
   "execution_count": 7
  },
  {
   "metadata": {},
   "cell_type": "markdown",
   "source": "# 3. Limpieza de Datos",
   "id": "fa46866ef6914741"
  },
  {
   "metadata": {},
   "cell_type": "markdown",
   "source": "## 3.1 Valores Nulos",
   "id": "9145269c2636ee1e"
  },
  {
   "metadata": {
    "ExecuteTime": {
     "end_time": "2024-05-28T12:04:42.942286Z",
     "start_time": "2024-05-28T12:04:42.485081Z"
    }
   },
   "cell_type": "code",
   "source": [
    "valores_nulos = lista_productores.isna().sum()\n",
    "print(valores_nulos)"
   ],
   "id": "eba455847d6e00ef",
   "outputs": [
    {
     "name": "stdout",
     "output_type": "stream",
     "text": [
      "ESTADO_prod             0\n",
      "MUNICIPIO_prod      75512\n",
      "ACUSE                   0\n",
      "APELLIDO PATERNO     4294\n",
      "APELLIDO MATERNO    28567\n",
      "NOMBRE (S)           4293\n",
      "PAQUETE                 0\n",
      "ESTADO_inegi        85733\n",
      "MUNICIPIO_inegi     85733\n",
      "CVE_MUN_Unique      85733\n",
      "CVE_ENT             85733\n",
      "CVE_MUN             85733\n",
      "dtype: int64\n"
     ]
    }
   ],
   "execution_count": 8
  },
  {
   "metadata": {},
   "cell_type": "markdown",
   "source": "## 3.2 Decisiones sobre valores nulos",
   "id": "3b05c69917be4587"
  },
  {
   "metadata": {
    "ExecuteTime": {
     "end_time": "2024-05-28T12:04:46.773708Z",
     "start_time": "2024-05-28T12:04:42.945050Z"
    }
   },
   "cell_type": "code",
   "source": [
    "# Group by 'ESTADO_prod' and count the number of occurrences\n",
    "counts_df = lista_productores.groupby(['ACUSE','ESTADO_prod','MUNICIPIO_prod']).size().reset_index(name='counts')\n",
    "counts_df.sort_values(by='counts', ascending=False, inplace=True)\n",
    "# Display the DataFrame\n",
    "print(counts_df)"
   ],
   "id": "680871a309df9721",
   "outputs": [
    {
     "name": "stdout",
     "output_type": "stream",
     "text": [
      "                                  ACUSE          ESTADO_prod  \\\n",
      "414414   23-PRONAFE-FERT-032305-S000-DG              DURANGO   \n",
      "76074    23-PRONAFE-FERT-004821-S000-CC             CAMPECHE   \n",
      "439841   23-PRONAFE-FERT-034972-S000-DG              DURANGO   \n",
      "76117    23-PRONAFE-FERT-004824-S000-CC             CAMPECHE   \n",
      "92438    23-PRONAFE-FERT-005997-S000-CC             CAMPECHE   \n",
      "...                                 ...                  ...   \n",
      "486410   23-PRONAFE-FERT-040335-S000-CS              CHIAPAS   \n",
      "486409   23-PRONAFE-FERT-040334-S000-PL               PUEBLA   \n",
      "486408   23-PRONAFE-FERT-040334-S000-OC               OAXACA   \n",
      "486407   23-PRONAFE-FERT-040334-S000-MN  MICHOACAN DE OCAMPO   \n",
      "1450207  23-PRONAFE-FERT-359385-S000-GR             GUERRERO   \n",
      "\n",
      "                MUNICIPIO_prod  counts  \n",
      "414414                 DURANGO       3  \n",
      "76074                 CAMPECHE       3  \n",
      "439841                 DURANGO       3  \n",
      "76117                 CAMPECHE       3  \n",
      "92438                 CAMPECHE       3  \n",
      "...                        ...     ...  \n",
      "486410                CHENALHO       1  \n",
      "486409         IXTACAMAXTITLAN       1  \n",
      "486408   SAN BARTOLOME AYAUTLA       1  \n",
      "486407                 MORELIA       1  \n",
      "1450207                ZITLALA       1  \n",
      "\n",
      "[1450208 rows x 4 columns]\n"
     ]
    }
   ],
   "execution_count": 9
  },
  {
   "metadata": {
    "ExecuteTime": {
     "end_time": "2024-05-28T12:04:47.159378Z",
     "start_time": "2024-05-28T12:04:46.776721Z"
    }
   },
   "cell_type": "code",
   "source": "",
   "id": "de4df2b5d4c47886",
   "outputs": [
    {
     "ename": "AttributeError",
     "evalue": "'DataFrame' object has no attribute 'unique'",
     "output_type": "error",
     "traceback": [
      "\u001B[1;31m---------------------------------------------------------------------------\u001B[0m",
      "\u001B[1;31mAttributeError\u001B[0m                            Traceback (most recent call last)",
      "\u001B[1;32m~\\AppData\\Local\\Temp\\ipykernel_8628\\3394850044.py\u001B[0m in \u001B[0;36m?\u001B[1;34m()\u001B[0m\n\u001B[0;32m      1\u001B[0m \u001B[0mfiltered_counts_df\u001B[0m \u001B[1;33m=\u001B[0m \u001B[0mcounts_df\u001B[0m\u001B[1;33m.\u001B[0m\u001B[0mquery\u001B[0m\u001B[1;33m(\u001B[0m\u001B[1;34m'counts > 1'\u001B[0m\u001B[1;33m)\u001B[0m\u001B[1;33m\u001B[0m\u001B[1;33m\u001B[0m\u001B[0m\n\u001B[0;32m      2\u001B[0m \u001B[1;33m\u001B[0m\u001B[0m\n\u001B[0;32m      3\u001B[0m \u001B[1;31m# Mostrar el DataFrame\u001B[0m\u001B[1;33m\u001B[0m\u001B[1;33m\u001B[0m\u001B[0m\n\u001B[1;32m----> 4\u001B[1;33m \u001B[0mprint\u001B[0m\u001B[1;33m(\u001B[0m\u001B[0mfiltered_counts_df\u001B[0m\u001B[1;33m.\u001B[0m\u001B[0munique\u001B[0m\u001B[1;33m(\u001B[0m\u001B[1;33m)\u001B[0m\u001B[1;33m)\u001B[0m\u001B[1;33m\u001B[0m\u001B[1;33m\u001B[0m\u001B[0m\n\u001B[0m",
      "\u001B[1;32m~\\anaconda3\\envs\\Fertilizantes\\Lib\\site-packages\\pandas\\core\\generic.py\u001B[0m in \u001B[0;36m?\u001B[1;34m(self, name)\u001B[0m\n\u001B[0;32m   6295\u001B[0m             \u001B[1;32mand\u001B[0m \u001B[0mname\u001B[0m \u001B[1;32mnot\u001B[0m \u001B[1;32min\u001B[0m \u001B[0mself\u001B[0m\u001B[1;33m.\u001B[0m\u001B[0m_accessors\u001B[0m\u001B[1;33m\u001B[0m\u001B[1;33m\u001B[0m\u001B[0m\n\u001B[0;32m   6296\u001B[0m             \u001B[1;32mand\u001B[0m \u001B[0mself\u001B[0m\u001B[1;33m.\u001B[0m\u001B[0m_info_axis\u001B[0m\u001B[1;33m.\u001B[0m\u001B[0m_can_hold_identifiers_and_holds_name\u001B[0m\u001B[1;33m(\u001B[0m\u001B[0mname\u001B[0m\u001B[1;33m)\u001B[0m\u001B[1;33m\u001B[0m\u001B[1;33m\u001B[0m\u001B[0m\n\u001B[0;32m   6297\u001B[0m         ):\n\u001B[0;32m   6298\u001B[0m             \u001B[1;32mreturn\u001B[0m \u001B[0mself\u001B[0m\u001B[1;33m[\u001B[0m\u001B[0mname\u001B[0m\u001B[1;33m]\u001B[0m\u001B[1;33m\u001B[0m\u001B[1;33m\u001B[0m\u001B[0m\n\u001B[1;32m-> 6299\u001B[1;33m         \u001B[1;32mreturn\u001B[0m \u001B[0mobject\u001B[0m\u001B[1;33m.\u001B[0m\u001B[0m__getattribute__\u001B[0m\u001B[1;33m(\u001B[0m\u001B[0mself\u001B[0m\u001B[1;33m,\u001B[0m \u001B[0mname\u001B[0m\u001B[1;33m)\u001B[0m\u001B[1;33m\u001B[0m\u001B[1;33m\u001B[0m\u001B[0m\n\u001B[0m",
      "\u001B[1;31mAttributeError\u001B[0m: 'DataFrame' object has no attribute 'unique'"
     ]
    }
   ],
   "execution_count": 10
  },
  {
   "metadata": {
    "ExecuteTime": {
     "end_time": "2024-05-28T12:05:08.912647Z",
     "start_time": "2024-05-28T12:05:08.264617Z"
    }
   },
   "cell_type": "code",
   "source": [
    "duplicated_rows_productores = lista_productores['ACUSE'].duplicated()\n",
    "number_of_duplicated_rows_productores = duplicated_rows_productores.sum()\n",
    "print(f\"El número de filas duplicadas es: {number_of_duplicated_rows_productores}\")"
   ],
   "id": "a382affd257f97d7",
   "outputs": [
    {
     "name": "stdout",
     "output_type": "stream",
     "text": [
      "El número de filas duplicadas es: 15410\n"
     ]
    }
   ],
   "execution_count": 12
  },
  {
   "metadata": {},
   "cell_type": "markdown",
   "source": "## 3.3 Valores Duplicados",
   "id": "2602e983b55aaa10"
  },
  {
   "metadata": {},
   "cell_type": "code",
   "source": [
    "valores_duplicados = lista_productores.duplicated().sum()\n",
    "print(f'Hay {valores_duplicados} valores duplicados')"
   ],
   "id": "77cb4f0f4a5e3f9f",
   "outputs": [],
   "execution_count": null
  },
  {
   "metadata": {},
   "cell_type": "markdown",
   "source": "## 3.4 Decisiones sobre valores duplicados",
   "id": "96f7ad6838628af3"
  },
  {
   "metadata": {},
   "cell_type": "code",
   "source": "",
   "id": "9b1f35cdd50b9459",
   "outputs": [],
   "execution_count": null
  },
  {
   "metadata": {},
   "cell_type": "markdown",
   "source": "## 3.5 Corrección de Tipos de Datos",
   "id": "3df92c4a455ab3c7"
  },
  {
   "metadata": {},
   "cell_type": "code",
   "source": [
    "lista_productores = lista_productores.astype({\n",
    "    'ESTADO_prod': 'str',\n",
    "    'MUNICIPIO_prod': 'str',\n",
    "    'ACUSE': 'str',\n",
    "    'APELLIDO PATERNO': 'str',\n",
    "    'APELLIDO MATERNO': 'str',\n",
    "    'NOMBRE (S)': 'str',\n",
    "    'PAQUETE': 'int',\n",
    "    'ESTADO_inegi': 'str',\n",
    "    'MUNICIPIO_inegi': 'str',\n",
    "    'CVE_MUN_Unique': 'str',\n",
    "    'CVE_MUN': 'str',\n",
    "    'CVE_ENT': 'str'\n",
    "})"
   ],
   "id": "996f4be7b7d684da",
   "outputs": [],
   "execution_count": null
  },
  {
   "metadata": {},
   "cell_type": "code",
   "source": "lista_productores.info()",
   "id": "9d2b2d63ab115b07",
   "outputs": [],
   "execution_count": null
  },
  {
   "metadata": {},
   "cell_type": "code",
   "source": " ",
   "id": "b760d0e106943c6a",
   "outputs": [],
   "execution_count": null
  },
  {
   "metadata": {},
   "cell_type": "code",
   "source": "",
   "id": "43760fa9908eda3e",
   "outputs": [],
   "execution_count": null
  },
  {
   "metadata": {},
   "cell_type": "code",
   "source": "",
   "id": "1cd16b0d4aa34d19",
   "outputs": [],
   "execution_count": null
  },
  {
   "metadata": {},
   "cell_type": "code",
   "source": "",
   "id": "f9daa21fe73a5036",
   "outputs": [],
   "execution_count": null
  },
  {
   "metadata": {},
   "cell_type": "markdown",
   "source": "# 4. Análisis Univariado",
   "id": "70fe0de7ab78bdc5"
  },
  {
   "metadata": {},
   "cell_type": "markdown",
   "source": [
    "## 4.1 Variables Numéricas\n",
    "\n",
    "En este caso, la única variable númerica es la de paquetes."
   ],
   "id": "7271523a5b7a4b98"
  },
  {
   "metadata": {},
   "cell_type": "code",
   "source": [
    "# Filtrar los datos para estar dentro del rango de interés\n",
    "paquetes = lista_productores['PAQUETE']\n",
    "\n",
    "# Crear el histograma con un mayor número de bins\n",
    "plt.figure(figsize=(10, 6))\n",
    "plt.hist(paquetes, color='skyblue', edgecolor='black')\n",
    "plt.xlabel('Cantidad')\n",
    "plt.ylabel('Frecuencia')\n",
    "plt.title('Histograma de Paquetes')\n",
    "plt.grid(axis='y', linestyle='--', alpha=0.7)\n",
    "plt.show()"
   ],
   "id": "aad85e68ef3a64ab",
   "outputs": [],
   "execution_count": null
  },
  {
   "metadata": {},
   "cell_type": "code",
   "source": "# TODO Ver cantidad en una etiqueta",
   "id": "acd7cb277d49317a",
   "outputs": [],
   "execution_count": null
  },
  {
   "metadata": {},
   "cell_type": "markdown",
   "source": "## 4.2 Variables Categóricas",
   "id": "168265eda5fe173b"
  },
  {
   "metadata": {},
   "cell_type": "code",
   "source": [
    "paquetes = lista_productores['ESTADO_prod']\n",
    "\n",
    "# Crear el histograma con un mayor número de bins\n",
    "plt.figure(figsize=(30, 4))\n",
    "plt.hist(paquetes, color='skyblue', edgecolor='black')\n",
    "plt.xlabel('Cantidad')\n",
    "plt.ylabel('Frecuencia')\n",
    "plt.title('Histograma de Paquetes')\n",
    "plt.grid(axis='x', linestyle='--', alpha=0.7)\n",
    "plt.show()"
   ],
   "id": "42e0eda2ee5144ca",
   "outputs": [],
   "execution_count": null
  },
  {
   "metadata": {},
   "cell_type": "code",
   "source": "x=lista_productores[['ESTADO_prod','MUNICIPIO_prod','ACUSE']]",
   "id": "1c104530d5604575",
   "outputs": [],
   "execution_count": null
  },
  {
   "metadata": {},
   "cell_type": "code",
   "source": "grouped_df = lista_productores.groupby(\"ESTADO_prod\")[\"MUNICIPIO_inegi\"].count().reset_index()",
   "id": "3f1d3838bce75792",
   "outputs": [],
   "execution_count": null
  },
  {
   "metadata": {},
   "cell_type": "code",
   "source": "grouped_df",
   "id": "994cb34c098e7b4b",
   "outputs": [],
   "execution_count": null
  },
  {
   "metadata": {},
   "cell_type": "code",
   "source": "",
   "id": "20cd6e448fdb5c2a",
   "outputs": [],
   "execution_count": null
  }
 ],
 "metadata": {
  "kernelspec": {
   "display_name": "Python 3",
   "language": "python",
   "name": "python3"
  },
  "language_info": {
   "codemirror_mode": {
    "name": "ipython",
    "version": 2
   },
   "file_extension": ".py",
   "mimetype": "text/x-python",
   "name": "python",
   "nbconvert_exporter": "python",
   "pygments_lexer": "ipython2",
   "version": "2.7.6"
  }
 },
 "nbformat": 4,
 "nbformat_minor": 5
}
